{
 "cells": [
  {
   "cell_type": "code",
   "execution_count": 33,
   "metadata": {},
   "outputs": [],
   "source": [
    "import pandas as pd\n",
    "import numpy as np\n",
    "import matplotlib.pyplot as plt\n",
    "import seaborn as sns\n",
    "from sklearn.cluster import KMeans\n",
    "import plotly.graph_objects as go"
   ]
  },
  {
   "cell_type": "code",
   "execution_count": 5,
   "metadata": {},
   "outputs": [],
   "source": [
    "# {'borough_encode': {'Bronx': 0, 'Manhattan': 1, 'Brooklyn': 2, 'Queens': 3, 'Staten Island': 4}})"
   ]
  },
  {
   "cell_type": "code",
   "execution_count": 37,
   "metadata": {},
   "outputs": [
    {
     "data": {
      "text/html": [
       "<div>\n",
       "<style scoped>\n",
       "    .dataframe tbody tr th:only-of-type {\n",
       "        vertical-align: middle;\n",
       "    }\n",
       "\n",
       "    .dataframe tbody tr th {\n",
       "        vertical-align: top;\n",
       "    }\n",
       "\n",
       "    .dataframe thead th {\n",
       "        text-align: right;\n",
       "    }\n",
       "</style>\n",
       "<table border=\"1\" class=\"dataframe\">\n",
       "  <thead>\n",
       "    <tr style=\"text-align: right;\">\n",
       "      <th></th>\n",
       "      <th>borough</th>\n",
       "      <th>neighborhood</th>\n",
       "      <th>longitude</th>\n",
       "      <th>latitude</th>\n",
       "      <th>population</th>\n",
       "      <th>restaurant_count</th>\n",
       "      <th>N</th>\n",
       "      <th>bars</th>\n",
       "      <th>bbq</th>\n",
       "      <th>breakfast_brunch</th>\n",
       "      <th>...</th>\n",
       "      <th>store</th>\n",
       "      <th>subway_station</th>\n",
       "      <th>supermarket</th>\n",
       "      <th>synagogue</th>\n",
       "      <th>taxi_stand</th>\n",
       "      <th>tourist_attraction</th>\n",
       "      <th>transit_station</th>\n",
       "      <th>travel_agency</th>\n",
       "      <th>university</th>\n",
       "      <th>veterinary_care</th>\n",
       "    </tr>\n",
       "  </thead>\n",
       "  <tbody>\n",
       "    <tr>\n",
       "      <th>0</th>\n",
       "      <td>Bronx</td>\n",
       "      <td>Wakefield</td>\n",
       "      <td>-73.847201</td>\n",
       "      <td>40.894705</td>\n",
       "      <td>21242.0</td>\n",
       "      <td>13</td>\n",
       "      <td>0</td>\n",
       "      <td>0</td>\n",
       "      <td>0</td>\n",
       "      <td>0</td>\n",
       "      <td>...</td>\n",
       "      <td>0</td>\n",
       "      <td>0</td>\n",
       "      <td>0</td>\n",
       "      <td>0</td>\n",
       "      <td>0</td>\n",
       "      <td>0</td>\n",
       "      <td>0</td>\n",
       "      <td>0</td>\n",
       "      <td>0</td>\n",
       "      <td>0</td>\n",
       "    </tr>\n",
       "    <tr>\n",
       "      <th>1</th>\n",
       "      <td>Bronx</td>\n",
       "      <td>Co-op City</td>\n",
       "      <td>-73.829939</td>\n",
       "      <td>40.874294</td>\n",
       "      <td>43752.0</td>\n",
       "      <td>12</td>\n",
       "      <td>0</td>\n",
       "      <td>0</td>\n",
       "      <td>0</td>\n",
       "      <td>0</td>\n",
       "      <td>...</td>\n",
       "      <td>0</td>\n",
       "      <td>0</td>\n",
       "      <td>0</td>\n",
       "      <td>0</td>\n",
       "      <td>0</td>\n",
       "      <td>0</td>\n",
       "      <td>0</td>\n",
       "      <td>0</td>\n",
       "      <td>0</td>\n",
       "      <td>0</td>\n",
       "    </tr>\n",
       "    <tr>\n",
       "      <th>2</th>\n",
       "      <td>Bronx</td>\n",
       "      <td>Eastchester</td>\n",
       "      <td>-73.827806</td>\n",
       "      <td>40.887556</td>\n",
       "      <td>11506.0</td>\n",
       "      <td>19</td>\n",
       "      <td>0</td>\n",
       "      <td>0</td>\n",
       "      <td>0</td>\n",
       "      <td>0</td>\n",
       "      <td>...</td>\n",
       "      <td>0</td>\n",
       "      <td>0</td>\n",
       "      <td>0</td>\n",
       "      <td>0</td>\n",
       "      <td>0</td>\n",
       "      <td>0</td>\n",
       "      <td>0</td>\n",
       "      <td>0</td>\n",
       "      <td>0</td>\n",
       "      <td>0</td>\n",
       "    </tr>\n",
       "    <tr>\n",
       "      <th>3</th>\n",
       "      <td>Bronx</td>\n",
       "      <td>Fieldston</td>\n",
       "      <td>-73.905643</td>\n",
       "      <td>40.895437</td>\n",
       "      <td>9287.0</td>\n",
       "      <td>9</td>\n",
       "      <td>1</td>\n",
       "      <td>0</td>\n",
       "      <td>0</td>\n",
       "      <td>0</td>\n",
       "      <td>...</td>\n",
       "      <td>0</td>\n",
       "      <td>0</td>\n",
       "      <td>0</td>\n",
       "      <td>1</td>\n",
       "      <td>0</td>\n",
       "      <td>0</td>\n",
       "      <td>0</td>\n",
       "      <td>0</td>\n",
       "      <td>0</td>\n",
       "      <td>0</td>\n",
       "    </tr>\n",
       "    <tr>\n",
       "      <th>4</th>\n",
       "      <td>Bronx</td>\n",
       "      <td>Riverdale</td>\n",
       "      <td>-73.912585</td>\n",
       "      <td>40.890834</td>\n",
       "      <td>9287.0</td>\n",
       "      <td>14</td>\n",
       "      <td>0</td>\n",
       "      <td>0</td>\n",
       "      <td>0</td>\n",
       "      <td>0</td>\n",
       "      <td>...</td>\n",
       "      <td>0</td>\n",
       "      <td>0</td>\n",
       "      <td>0</td>\n",
       "      <td>2</td>\n",
       "      <td>0</td>\n",
       "      <td>0</td>\n",
       "      <td>0</td>\n",
       "      <td>0</td>\n",
       "      <td>0</td>\n",
       "      <td>0</td>\n",
       "    </tr>\n",
       "  </tbody>\n",
       "</table>\n",
       "<p>5 rows × 134 columns</p>\n",
       "</div>"
      ],
      "text/plain": [
       "  borough neighborhood  longitude   latitude  population  restaurant_count  N  \\\n",
       "0   Bronx    Wakefield -73.847201  40.894705     21242.0                13  0   \n",
       "1   Bronx   Co-op City -73.829939  40.874294     43752.0                12  0   \n",
       "2   Bronx  Eastchester -73.827806  40.887556     11506.0                19  0   \n",
       "3   Bronx    Fieldston -73.905643  40.895437      9287.0                 9  1   \n",
       "4   Bronx    Riverdale -73.912585  40.890834      9287.0                14  0   \n",
       "\n",
       "   bars  bbq  breakfast_brunch  ...  store  subway_station  supermarket  \\\n",
       "0     0    0                 0  ...      0               0            0   \n",
       "1     0    0                 0  ...      0               0            0   \n",
       "2     0    0                 0  ...      0               0            0   \n",
       "3     0    0                 0  ...      0               0            0   \n",
       "4     0    0                 0  ...      0               0            0   \n",
       "\n",
       "   synagogue  taxi_stand  tourist_attraction  transit_station  travel_agency  \\\n",
       "0          0           0                   0                0              0   \n",
       "1          0           0                   0                0              0   \n",
       "2          0           0                   0                0              0   \n",
       "3          1           0                   0                0              0   \n",
       "4          2           0                   0                0              0   \n",
       "\n",
       "   university  veterinary_care  \n",
       "0           0                0  \n",
       "1           0                0  \n",
       "2           0                0  \n",
       "3           0                0  \n",
       "4           0                0  \n",
       "\n",
       "[5 rows x 134 columns]"
      ]
     },
     "execution_count": 37,
     "metadata": {},
     "output_type": "execute_result"
    }
   ],
   "source": [
    "# import data\n",
    "data = pd.read_csv('/Users/karina/GitHub/NYC_midterm_project/data/main_dataset.csv')\n",
    "data.head()"
   ]
  },
  {
   "cell_type": "code",
   "execution_count": 7,
   "metadata": {},
   "outputs": [
    {
     "data": {
      "text/html": [
       "<div>\n",
       "<style scoped>\n",
       "    .dataframe tbody tr th:only-of-type {\n",
       "        vertical-align: middle;\n",
       "    }\n",
       "\n",
       "    .dataframe tbody tr th {\n",
       "        vertical-align: top;\n",
       "    }\n",
       "\n",
       "    .dataframe thead th {\n",
       "        text-align: right;\n",
       "    }\n",
       "</style>\n",
       "<table border=\"1\" class=\"dataframe\">\n",
       "  <thead>\n",
       "    <tr style=\"text-align: right;\">\n",
       "      <th></th>\n",
       "      <th>longitude</th>\n",
       "      <th>latitude</th>\n",
       "      <th>population</th>\n",
       "      <th>number_of_restaurants</th>\n",
       "      <th>average_review_count</th>\n",
       "      <th>average_restaurant_rating</th>\n",
       "      <th>average_price_level</th>\n",
       "      <th>Bronx</th>\n",
       "      <th>Brooklyn</th>\n",
       "      <th>Manhattan</th>\n",
       "      <th>...</th>\n",
       "      <th>pizza</th>\n",
       "      <th>russian</th>\n",
       "      <th>sandwiches</th>\n",
       "      <th>seafood</th>\n",
       "      <th>spanish</th>\n",
       "      <th>steak</th>\n",
       "      <th>sushi</th>\n",
       "      <th>tapasmallplates</th>\n",
       "      <th>thai</th>\n",
       "      <th>tradamerican</th>\n",
       "    </tr>\n",
       "  </thead>\n",
       "  <tbody>\n",
       "    <tr>\n",
       "      <th>0</th>\n",
       "      <td>-73.847201</td>\n",
       "      <td>40.894705</td>\n",
       "      <td>21242.0</td>\n",
       "      <td>13</td>\n",
       "      <td>169</td>\n",
       "      <td>4.0</td>\n",
       "      <td>1</td>\n",
       "      <td>1</td>\n",
       "      <td>0</td>\n",
       "      <td>0</td>\n",
       "      <td>...</td>\n",
       "      <td>0</td>\n",
       "      <td>0</td>\n",
       "      <td>0</td>\n",
       "      <td>0</td>\n",
       "      <td>0</td>\n",
       "      <td>0</td>\n",
       "      <td>0</td>\n",
       "      <td>0</td>\n",
       "      <td>0</td>\n",
       "      <td>0</td>\n",
       "    </tr>\n",
       "    <tr>\n",
       "      <th>1</th>\n",
       "      <td>-73.829939</td>\n",
       "      <td>40.874294</td>\n",
       "      <td>43752.0</td>\n",
       "      <td>12</td>\n",
       "      <td>771</td>\n",
       "      <td>4.0</td>\n",
       "      <td>2</td>\n",
       "      <td>1</td>\n",
       "      <td>0</td>\n",
       "      <td>0</td>\n",
       "      <td>...</td>\n",
       "      <td>0</td>\n",
       "      <td>0</td>\n",
       "      <td>0</td>\n",
       "      <td>0</td>\n",
       "      <td>0</td>\n",
       "      <td>0</td>\n",
       "      <td>0</td>\n",
       "      <td>0</td>\n",
       "      <td>0</td>\n",
       "      <td>0</td>\n",
       "    </tr>\n",
       "    <tr>\n",
       "      <th>2</th>\n",
       "      <td>-73.827806</td>\n",
       "      <td>40.887556</td>\n",
       "      <td>11506.0</td>\n",
       "      <td>19</td>\n",
       "      <td>532</td>\n",
       "      <td>4.1</td>\n",
       "      <td>1</td>\n",
       "      <td>1</td>\n",
       "      <td>0</td>\n",
       "      <td>0</td>\n",
       "      <td>...</td>\n",
       "      <td>0</td>\n",
       "      <td>0</td>\n",
       "      <td>0</td>\n",
       "      <td>0</td>\n",
       "      <td>0</td>\n",
       "      <td>0</td>\n",
       "      <td>0</td>\n",
       "      <td>0</td>\n",
       "      <td>0</td>\n",
       "      <td>0</td>\n",
       "    </tr>\n",
       "    <tr>\n",
       "      <th>3</th>\n",
       "      <td>-73.905643</td>\n",
       "      <td>40.895437</td>\n",
       "      <td>9287.0</td>\n",
       "      <td>9</td>\n",
       "      <td>297</td>\n",
       "      <td>4.4</td>\n",
       "      <td>1</td>\n",
       "      <td>1</td>\n",
       "      <td>0</td>\n",
       "      <td>0</td>\n",
       "      <td>...</td>\n",
       "      <td>0</td>\n",
       "      <td>0</td>\n",
       "      <td>0</td>\n",
       "      <td>0</td>\n",
       "      <td>0</td>\n",
       "      <td>0</td>\n",
       "      <td>0</td>\n",
       "      <td>0</td>\n",
       "      <td>0</td>\n",
       "      <td>0</td>\n",
       "    </tr>\n",
       "    <tr>\n",
       "      <th>4</th>\n",
       "      <td>-73.912585</td>\n",
       "      <td>40.890834</td>\n",
       "      <td>9287.0</td>\n",
       "      <td>14</td>\n",
       "      <td>319</td>\n",
       "      <td>4.0</td>\n",
       "      <td>2</td>\n",
       "      <td>1</td>\n",
       "      <td>0</td>\n",
       "      <td>0</td>\n",
       "      <td>...</td>\n",
       "      <td>0</td>\n",
       "      <td>0</td>\n",
       "      <td>0</td>\n",
       "      <td>0</td>\n",
       "      <td>0</td>\n",
       "      <td>0</td>\n",
       "      <td>0</td>\n",
       "      <td>0</td>\n",
       "      <td>0</td>\n",
       "      <td>0</td>\n",
       "    </tr>\n",
       "  </tbody>\n",
       "</table>\n",
       "<p>5 rows × 52 columns</p>\n",
       "</div>"
      ],
      "text/plain": [
       "   longitude   latitude  population  number_of_restaurants  \\\n",
       "0 -73.847201  40.894705     21242.0                     13   \n",
       "1 -73.829939  40.874294     43752.0                     12   \n",
       "2 -73.827806  40.887556     11506.0                     19   \n",
       "3 -73.905643  40.895437      9287.0                      9   \n",
       "4 -73.912585  40.890834      9287.0                     14   \n",
       "\n",
       "   average_review_count  average_restaurant_rating  average_price_level  \\\n",
       "0                   169                        4.0                    1   \n",
       "1                   771                        4.0                    2   \n",
       "2                   532                        4.1                    1   \n",
       "3                   297                        4.4                    1   \n",
       "4                   319                        4.0                    2   \n",
       "\n",
       "   Bronx  Brooklyn  Manhattan  ...  pizza  russian  sandwiches  seafood  \\\n",
       "0      1         0          0  ...      0        0           0        0   \n",
       "1      1         0          0  ...      0        0           0        0   \n",
       "2      1         0          0  ...      0        0           0        0   \n",
       "3      1         0          0  ...      0        0           0        0   \n",
       "4      1         0          0  ...      0        0           0        0   \n",
       "\n",
       "   spanish  steak  sushi  tapasmallplates  thai  tradamerican  \n",
       "0        0      0      0                0     0             0  \n",
       "1        0      0      0                0     0             0  \n",
       "2        0      0      0                0     0             0  \n",
       "3        0      0      0                0     0             0  \n",
       "4        0      0      0                0     0             0  \n",
       "\n",
       "[5 rows x 52 columns]"
      ]
     },
     "execution_count": 7,
     "metadata": {},
     "output_type": "execute_result"
    }
   ],
   "source": [
    "data1 = data.copy()\n",
    "data1 = data1.drop(columns='neighborhood', axis = 1)\n",
    "\n",
    "onehot = pd.get_dummies(data[['borough', 'yelp_category']], prefix='', prefix_sep='')\n",
    "data_numeric = data1.join(onehot)\n",
    "data_numeric = data_numeric.drop(columns=['borough', 'yelp_category'], axis = 1)\n",
    "data_numeric.head()"
   ]
  },
  {
   "cell_type": "code",
   "execution_count": 8,
   "metadata": {},
   "outputs": [],
   "source": [
    "from sklearn.preprocessing import StandardScaler\n",
    "scaler = StandardScaler()\n",
    "data_scaled = scaler.fit_transform(data_numeric)"
   ]
  },
  {
   "cell_type": "code",
   "execution_count": 9,
   "metadata": {},
   "outputs": [],
   "source": [
    "def plot_distortion(X,max_clusters = 10):\n",
    "    distortions = []\n",
    "    for i in range(1, max_clusters +1):\n",
    "        km = KMeans(n_clusters=i,\n",
    "                    init='k-means++',\n",
    "                    n_init=10,\n",
    "                    random_state=0)\n",
    "        km.fit(X)\n",
    "        distortions.append(km.inertia_)\n",
    "\n",
    "    plt.plot(range(1,max_clusters +1), distortions, marker='o')\n",
    "    plt.xlabel('Number of clusters')\n",
    "    plt.ylabel('Distortion')\n",
    "    plt.show() "
   ]
  },
  {
   "cell_type": "code",
   "execution_count": 10,
   "metadata": {},
   "outputs": [
    {
     "data": {
      "image/png": "[encoded data removed]",
      "text/plain": [
       "<Figure size 432x288 with 1 Axes>"
      ]
     },
     "metadata": {
      "needs_background": "light"
     },
     "output_type": "display_data"
    }
   ],
   "source": [
    "plot_distortion(data_scaled)"
   ]
  },
  {
   "cell_type": "code",
   "execution_count": 11,
   "metadata": {},
   "outputs": [],
   "source": [
    "km = KMeans(n_clusters=5,\n",
    "            n_init=10, \n",
    "            random_state=0)"
   ]
  },
  {
   "cell_type": "code",
   "execution_count": 12,
   "metadata": {},
   "outputs": [],
   "source": [
    "y_km = km.fit_predict(data_scaled)"
   ]
  },
  {
   "cell_type": "code",
   "execution_count": 13,
   "metadata": {},
   "outputs": [],
   "source": [
    "def plot_clusters(X,y_res, plt_cluster_centers = False):\n",
    "    X_centroids = []\n",
    "    Y_centroids = []\n",
    "\n",
    "    for cluster in set(y_res):\n",
    "        x = X[y_res == cluster,0]\n",
    "        y = X[y_res == cluster,1]\n",
    "        X_centroids.append(np.mean(x))\n",
    "        Y_centroids.append(np.mean(y))\n",
    "\n",
    "        plt.scatter(x,\n",
    "                    y,\n",
    "                    s=50,\n",
    "                    marker='s',\n",
    "                    label=f'cluster {cluster}')\n",
    "\n",
    "    if plt_cluster_centers:\n",
    "        plt.scatter(X_centroids,\n",
    "                    Y_centroids,\n",
    "                    marker='*',\n",
    "                    c='red',\n",
    "                    s=250,\n",
    "                    label='centroids')\n",
    "    plt.legend()\n",
    "    plt.grid()\n",
    "    plt.show()"
   ]
  },
  {
   "cell_type": "code",
   "execution_count": 14,
   "metadata": {},
   "outputs": [
    {
     "data": {
      "image/png": "[encoded data removed]",
      "text/plain": [
       "<Figure size 432x288 with 1 Axes>"
      ]
     },
     "metadata": {
      "needs_background": "light"
     },
     "output_type": "display_data"
    }
   ],
   "source": [
    "plot_clusters(np.array(data_numeric), y_km, plt_cluster_centers= True)"
   ]
  },
  {
   "cell_type": "code",
   "execution_count": 30,
   "metadata": {},
   "outputs": [],
   "source": [
    "# data to radar chart\n",
    "df_radar = data_numeric.groupby('cluster').mean().divide(data_numeric.drop('cluster',axis=1).mean())*100"
   ]
  },
  {
   "cell_type": "code",
   "execution_count": 31,
   "metadata": {},
   "outputs": [],
   "source": [
    "# function that plots radar chart\n",
    "def plot_radarchart(df):\n",
    "    data = []\n",
    "    for i in range(0,len(df)):\n",
    "        data.append(go.Scatterpolar(r = df.iloc[i].values,\n",
    "                                    theta = df.iloc[i].index,\n",
    "                                    name = f'cluster{df.index[i]}',\n",
    "                                    fill = 'toself'))\n",
    "\n",
    "    # mean line\n",
    "    data.append(go.Scatterpolar(r = [100]* df.shape[1],\n",
    "                                theta= df.columns,\n",
    "                                name = 'mean',\n",
    "                                fill = 'toself'))\n",
    "\n",
    "    layout = go.Layout(polar = dict(radialaxis = dict(visible = True)),\n",
    "                       showlegend = True)\n",
    "    fig = go.Figure(data = data, layout = layout)\n",
    "    fig.show()"
   ]
  },
  {
   "cell_type": "code",
   "execution_count": 25,
   "metadata": {},
   "outputs": [],
   "source": [
    "cluster_list = y_km.tolist()\n",
    "d2 = data.copy()\n",
    "d2['cluster'] = cluster_list"
   ]
  },
  {
   "cell_type": "code",
   "execution_count": 34,
   "metadata": {},
   "outputs": [
    {
     "data": {
      "application/vnd.plotly.v1+json": {
       "config": {
        "plotlyServerURL": "https://plot.ly"
       },
       "data": [
        {
         "fill": "toself",
         "name": "cluster0",
         "r": [
          100.03931895015089,
          100.15005946229185,
          154.05915257852877,
          139.197922677438,
          188.5535822756482,
          106.82935735150927,
          120.06036217303821,
          0,
          0,
          765,
          0,
          0,
          0,
          0,
          0,
          360.00000000000006,
          0,
          0,
          0,
          36.42857142857142,
          0,
          0,
          30.599999999999998,
          286.875,
          382.5,
          0,
          38.25,
          0,
          0,
          0,
          0,
          0,
          0,
          0,
          191.25,
          0,
          191.25,
          0,
          0,
          0,
          153,
          470.7692307692308,
          18.21428571428571,
          0,
          90.00000000000001,
          0,
          0,
          0,
          0,
          0,
          0,
          0
         ],
         "theta": [
          "longitude",
          "latitude",
          "population",
          "number_of_restaurants",
          "average_review_count",
          "average_restaurant_rating",
          "average_price_level",
          "Bronx",
          "Brooklyn",
          "Manhattan",
          "Queens",
          "Staten Island",
          "N",
          "bars",
          "bbq",
          "breakfast_brunch",
          "burgers",
          "cafes",
          "cantonese",
          "caribbean",
          "chicken_wings",
          "chickenshop",
          "chinese",
          "cocktailbars",
          "coffee",
          "colombian",
          "delis",
          "diners",
          "dominican",
          "foodtrucks",
          "greek",
          "halal",
          "hotdogs",
          "indpak",
          "italian",
          "juicebars",
          "korean",
          "kosher",
          "latin",
          "mediterranean",
          "mexican",
          "newamerican",
          "pizza",
          "russian",
          "sandwiches",
          "seafood",
          "spanish",
          "steak",
          "sushi",
          "tapasmallplates",
          "thai",
          "tradamerican"
         ],
         "type": "scatterpolar"
        },
        {
         "fill": "toself",
         "name": "cluster1",
         "r": [
          99.83484844823194,
          100.0124371072889,
          104.28779458808259,
          94.46261033104658,
          89.02156576474809,
          99.59428756897111,
          102.61569416498995,
          0,
          0,
          0,
          377.77777777777777,
          0,
          80.95238095238095,
          0,
          0,
          88.88888888888889,
          125.92592592592592,
          188.88888888888886,
          377.7777777777777,
          89.94708994708994,
          377.7777777777777,
          0,
          120.88888888888889,
          47.222222222222214,
          0,
          377.7777777777777,
          188.88888888888886,
          0,
          0,
          0,
          188.88888888888886,
          377.77777777777777,
          251.85185185185185,
          377.7777777777777,
          31.48148148148148,
          377.7777777777777,
          283.3333333333333,
          107.93650793650794,
          0,
          377.7777777777777,
          56.666666666666664,
          58.11965811965811,
          80.95238095238095,
          0,
          88.88888888888889,
          0,
          0,
          0,
          377.7777777777777,
          0,
          377.7777777777777,
          215.87301587301587
         ],
         "theta": [
          "longitude",
          "latitude",
          "population",
          "number_of_restaurants",
          "average_review_count",
          "average_restaurant_rating",
          "average_price_level",
          "Bronx",
          "Brooklyn",
          "Manhattan",
          "Queens",
          "Staten Island",
          "N",
          "bars",
          "bbq",
          "breakfast_brunch",
          "burgers",
          "cafes",
          "cantonese",
          "caribbean",
          "chicken_wings",
          "chickenshop",
          "chinese",
          "cocktailbars",
          "coffee",
          "colombian",
          "delis",
          "diners",
          "dominican",
          "foodtrucks",
          "greek",
          "halal",
          "hotdogs",
          "indpak",
          "italian",
          "juicebars",
          "korean",
          "kosher",
          "latin",
          "mediterranean",
          "mexican",
          "newamerican",
          "pizza",
          "russian",
          "sandwiches",
          "seafood",
          "spanish",
          "steak",
          "sushi",
          "tapasmallplates",
          "thai",
          "tradamerican"
         ],
         "type": "scatterpolar"
        },
        {
         "fill": "toself",
         "name": "cluster2",
         "r": [
          100.00804636515288,
          99.87914405447208,
          131.1830944243044,
          123.60069244085403,
          115.78938223589377,
          101.54946869311208,
          100.83107339690316,
          0,
          437.14285714285717,
          0,
          0,
          0,
          31.677018633540378,
          0,
          443.47826086956525,
          104.34782608695652,
          73.91304347826087,
          0,
          0,
          232.2981366459627,
          0,
          0,
          124.17391304347827,
          221.73913043478262,
          221.73913043478262,
          0,
          44.34782608695652,
          0,
          0,
          0,
          0,
          0,
          0,
          0,
          110.86956521739131,
          0,
          0,
          316.77018633540376,
          147.82608695652175,
          0,
          66.52173913043478,
          68.22742474916387,
          52.79503105590062,
          221.73913043478262,
          130.43478260869566,
          110.86956521739131,
          266.0869565217391,
          0,
          0,
          0,
          0,
          126.70807453416151
         ],
         "theta": [
          "longitude",
          "latitude",
          "population",
          "number_of_restaurants",
          "average_review_count",
          "average_restaurant_rating",
          "average_price_level",
          "Bronx",
          "Brooklyn",
          "Manhattan",
          "Queens",
          "Staten Island",
          "N",
          "bars",
          "bbq",
          "breakfast_brunch",
          "burgers",
          "cafes",
          "cantonese",
          "caribbean",
          "chicken_wings",
          "chickenshop",
          "chinese",
          "cocktailbars",
          "coffee",
          "colombian",
          "delis",
          "diners",
          "dominican",
          "foodtrucks",
          "greek",
          "halal",
          "hotdogs",
          "indpak",
          "italian",
          "juicebars",
          "korean",
          "kosher",
          "latin",
          "mediterranean",
          "mexican",
          "newamerican",
          "pizza",
          "russian",
          "sandwiches",
          "seafood",
          "spanish",
          "steak",
          "sushi",
          "tapasmallplates",
          "thai",
          "tradamerican"
         ],
         "type": "scatterpolar"
        },
        {
         "fill": "toself",
         "name": "cluster3",
         "r": [
          100.25577466167147,
          99.72309012909231,
          36.28573083660059,
          54.62709174841316,
          53.9627475702548,
          95.63275925024342,
          96.20221327967808,
          0,
          6.830357142857143,
          0,
          0,
          478.125,
          307.36607142857144,
          0,
          0,
          0,
          79.6875,
          239.0625,
          0,
          0,
          0,
          478.125,
          57.375,
          0,
          0,
          0,
          71.71875,
          0,
          159.375,
          0,
          239.0625,
          0,
          0,
          0,
          172.65625,
          0,
          0,
          0,
          0,
          0,
          119.53125,
          36.77884615384615,
          170.75892857142856,
          239.0625,
          112.5,
          0,
          191.25,
          478.125,
          0,
          478.125,
          0,
          68.30357142857143
         ],
         "theta": [
          "longitude",
          "latitude",
          "population",
          "number_of_restaurants",
          "average_review_count",
          "average_restaurant_rating",
          "average_price_level",
          "Bronx",
          "Brooklyn",
          "Manhattan",
          "Queens",
          "Staten Island",
          "N",
          "bars",
          "bbq",
          "breakfast_brunch",
          "burgers",
          "cafes",
          "cantonese",
          "caribbean",
          "chicken_wings",
          "chickenshop",
          "chinese",
          "cocktailbars",
          "coffee",
          "colombian",
          "delis",
          "diners",
          "dominican",
          "foodtrucks",
          "greek",
          "halal",
          "hotdogs",
          "indpak",
          "italian",
          "juicebars",
          "korean",
          "kosher",
          "latin",
          "mediterranean",
          "mexican",
          "newamerican",
          "pizza",
          "russian",
          "sandwiches",
          "seafood",
          "spanish",
          "steak",
          "sushi",
          "tapasmallplates",
          "thai",
          "tradamerican"
         ],
         "type": "scatterpolar"
        },
        {
         "fill": "toself",
         "name": "cluster4",
         "r": [
          99.90153346432038,
          100.36637514995085,
          88.7769662770138,
          103.00057703404502,
          84.69282044724035,
          98.69766309639726,
          84.06593406593407,
          588.4615384615385,
          0,
          0,
          0,
          0,
          42.032967032967036,
          588.4615384615385,
          0,
          34.61538461538462,
          196.15384615384616,
          0,
          0,
          112.08791208791209,
          0,
          0,
          141.23076923076923,
          0,
          0,
          0,
          117.6923076923077,
          588.4615384615385,
          392.3076923076923,
          588.4615384615385,
          0,
          0,
          196.15384615384616,
          0,
          32.69230769230769,
          0,
          0,
          0,
          392.3076923076923,
          0,
          147.1153846153846,
          0,
          168.13186813186815,
          0,
          69.23076923076924,
          441.3461538461538,
          0,
          0,
          0,
          0,
          0,
          0
         ],
         "theta": [
          "longitude",
          "latitude",
          "population",
          "number_of_restaurants",
          "average_review_count",
          "average_restaurant_rating",
          "average_price_level",
          "Bronx",
          "Brooklyn",
          "Manhattan",
          "Queens",
          "Staten Island",
          "N",
          "bars",
          "bbq",
          "breakfast_brunch",
          "burgers",
          "cafes",
          "cantonese",
          "caribbean",
          "chicken_wings",
          "chickenshop",
          "chinese",
          "cocktailbars",
          "coffee",
          "colombian",
          "delis",
          "diners",
          "dominican",
          "foodtrucks",
          "greek",
          "halal",
          "hotdogs",
          "indpak",
          "italian",
          "juicebars",
          "korean",
          "kosher",
          "latin",
          "mediterranean",
          "mexican",
          "newamerican",
          "pizza",
          "russian",
          "sandwiches",
          "seafood",
          "spanish",
          "steak",
          "sushi",
          "tapasmallplates",
          "thai",
          "tradamerican"
         ],
         "type": "scatterpolar"
        },
        {
         "fill": "toself",
         "name": "mean",
         "r": [
          100,
          100,
          100,
          100,
          100,
          100,
          100,
          100,
          100,
          100,
          100,
          100,
          100,
          100,
          100,
          100,
          100,
          100,
          100,
          100,
          100,
          100,
          100,
          100,
          100,
          100,
          100,
          100,
          100,
          100,
          100,
          100,
          100,
          100,
          100,
          100,
          100,
          100,
          100,
          100,
          100,
          100,
          100,
          100,
          100,
          100,
          100,
          100,
          100,
          100,
          100,
          100
         ],
         "theta": [
          "longitude",
          "latitude",
          "population",
          "number_of_restaurants",
          "average_review_count",
          "average_restaurant_rating",
          "average_price_level",
          "Bronx",
          "Brooklyn",
          "Manhattan",
          "Queens",
          "Staten Island",
          "N",
          "bars",
          "bbq",
          "breakfast_brunch",
          "burgers",
          "cafes",
          "cantonese",
          "caribbean",
          "chicken_wings",
          "chickenshop",
          "chinese",
          "cocktailbars",
          "coffee",
          "colombian",
          "delis",
          "diners",
          "dominican",
          "foodtrucks",
          "greek",
          "halal",
          "hotdogs",
          "indpak",
          "italian",
          "juicebars",
          "korean",
          "kosher",
          "latin",
          "mediterranean",
          "mexican",
          "newamerican",
          "pizza",
          "russian",
          "sandwiches",
          "seafood",
          "spanish",
          "steak",
          "sushi",
          "tapasmallplates",
          "thai",
          "tradamerican"
         ],
         "type": "scatterpolar"
        }
       ],
       "layout": {
        "polar": {
         "radialaxis": {
          "visible": true
         }
        },
        "showlegend": true,
        "template": {
         "data": {
          "bar": [
           {
            "error_x": {
             "color": "#2a3f5f"
            },
            "error_y": {
             "color": "#2a3f5f"
            },
            "marker": {
             "line": {
              "color": "#E5ECF6",
              "width": 0.5
             },
             "pattern": {
              "fillmode": "overlay",
              "size": 10,
              "solidity": 0.2
             }
            },
            "type": "bar"
           }
          ],
          "barpolar": [
           {
            "marker": {
             "line": {
              "color": "#E5ECF6",
              "width": 0.5
             },
             "pattern": {
              "fillmode": "overlay",
              "size": 10,
              "solidity": 0.2
             }
            },
            "type": "barpolar"
           }
          ],
          "carpet": [
           {
            "aaxis": {
             "endlinecolor": "#2a3f5f",
             "gridcolor": "white",
             "linecolor": "white",
             "minorgridcolor": "white",
             "startlinecolor": "#2a3f5f"
            },
            "baxis": {
             "endlinecolor": "#2a3f5f",
             "gridcolor": "white",
             "linecolor": "white",
             "minorgridcolor": "white",
             "startlinecolor": "#2a3f5f"
            },
            "type": "carpet"
           }
          ],
          "choropleth": [
           {
            "colorbar": {
             "outlinewidth": 0,
             "ticks": ""
            },
            "type": "choropleth"
           }
          ],
          "contour": [
           {
            "colorbar": {
             "outlinewidth": 0,
             "ticks": ""
            },
            "colorscale": [
             [
              0,
              "#0d0887"
             ],
             [
              0.1111111111111111,
              "#46039f"
             ],
             [
              0.2222222222222222,
              "#7201a8"
             ],
             [
              0.3333333333333333,
              "#9c179e"
             ],
             [
              0.4444444444444444,
              "#bd3786"
             ],
             [
              0.5555555555555556,
              "#d8576b"
             ],
             [
              0.6666666666666666,
              "#ed7953"
             ],
             [
              0.7777777777777778,
              "#fb9f3a"
             ],
             [
              0.8888888888888888,
              "#fdca26"
             ],
             [
              1,
              "#f0f921"
             ]
            ],
            "type": "contour"
           }
          ],
          "contourcarpet": [
           {
            "colorbar": {
             "outlinewidth": 0,
             "ticks": ""
            },
            "type": "contourcarpet"
           }
          ],
          "heatmap": [
           {
            "colorbar": {
             "outlinewidth": 0,
             "ticks": ""
            },
            "colorscale": [
             [
              0,
              "#0d0887"
             ],
             [
              0.1111111111111111,
              "#46039f"
             ],
             [
              0.2222222222222222,
              "#7201a8"
             ],
             [
              0.3333333333333333,
              "#9c179e"
             ],
             [
              0.4444444444444444,
              "#bd3786"
             ],
             [
              0.5555555555555556,
              "#d8576b"
             ],
             [
              0.6666666666666666,
              "#ed7953"
             ],
             [
              0.7777777777777778,
              "#fb9f3a"
             ],
             [
              0.8888888888888888,
              "#fdca26"
             ],
             [
              1,
              "#f0f921"
             ]
            ],
            "type": "heatmap"
           }
          ],
          "heatmapgl": [
           {
            "colorbar": {
             "outlinewidth": 0,
             "ticks": ""
            },
            "colorscale": [
             [
              0,
              "#0d0887"
             ],
             [
              0.1111111111111111,
              "#46039f"
             ],
             [
              0.2222222222222222,
              "#7201a8"
             ],
             [
              0.3333333333333333,
              "#9c179e"
             ],
             [
              0.4444444444444444,
              "#bd3786"
             ],
             [
              0.5555555555555556,
              "#d8576b"
             ],
             [
              0.6666666666666666,
              "#ed7953"
             ],
             [
              0.7777777777777778,
              "#fb9f3a"
             ],
             [
              0.8888888888888888,
              "#fdca26"
             ],
             [
              1,
              "#f0f921"
             ]
            ],
            "type": "heatmapgl"
           }
          ],
          "histogram": [
           {
            "marker": {
             "pattern": {
              "fillmode": "overlay",
              "size": 10,
              "solidity": 0.2
             }
            },
            "type": "histogram"
           }
          ],
          "histogram2d": [
           {
            "colorbar": {
             "outlinewidth": 0,
             "ticks": ""
            },
            "colorscale": [
             [
              0,
              "#0d0887"
             ],
             [
              0.1111111111111111,
              "#46039f"
             ],
             [
              0.2222222222222222,
              "#7201a8"
             ],
             [
              0.3333333333333333,
              "#9c179e"
             ],
             [
              0.4444444444444444,
              "#bd3786"
             ],
             [
              0.5555555555555556,
              "#d8576b"
             ],
             [
              0.6666666666666666,
              "#ed7953"
             ],
             [
              0.7777777777777778,
              "#fb9f3a"
             ],
             [
              0.8888888888888888,
              "#fdca26"
             ],
             [
              1,
              "#f0f921"
             ]
            ],
            "type": "histogram2d"
           }
          ],
          "histogram2dcontour": [
           {
            "colorbar": {
             "outlinewidth": 0,
             "ticks": ""
            },
            "colorscale": [
             [
              0,
              "#0d0887"
             ],
             [
              0.1111111111111111,
              "#46039f"
             ],
             [
              0.2222222222222222,
              "#7201a8"
             ],
             [
              0.3333333333333333,
              "#9c179e"
             ],
             [
              0.4444444444444444,
              "#bd3786"
             ],
             [
              0.5555555555555556,
              "#d8576b"
             ],
             [
              0.6666666666666666,
              "#ed7953"
             ],
             [
              0.7777777777777778,
              "#fb9f3a"
             ],
             [
              0.8888888888888888,
              "#fdca26"
             ],
             [
              1,
              "#f0f921"
             ]
            ],
            "type": "histogram2dcontour"
           }
          ],
          "mesh3d": [
           {
            "colorbar": {
             "outlinewidth": 0,
             "ticks": ""
            },
            "type": "mesh3d"
           }
          ],
          "parcoords": [
           {
            "line": {
             "colorbar": {
              "outlinewidth": 0,
              "ticks": ""
             }
            },
            "type": "parcoords"
           }
          ],
          "pie": [
           {
            "automargin": true,
            "type": "pie"
           }
          ],
          "scatter": [
           {
            "fillpattern": {
             "fillmode": "overlay",
             "size": 10,
             "solidity": 0.2
            },
            "type": "scatter"
           }
          ],
          "scatter3d": [
           {
            "line": {
             "colorbar": {
              "outlinewidth": 0,
              "ticks": ""
             }
            },
            "marker": {
             "colorbar": {
              "outlinewidth": 0,
              "ticks": ""
             }
            },
            "type": "scatter3d"
           }
          ],
          "scattercarpet": [
           {
            "marker": {
             "colorbar": {
              "outlinewidth": 0,
              "ticks": ""
             }
            },
            "type": "scattercarpet"
           }
          ],
          "scattergeo": [
           {
            "marker": {
             "colorbar": {
              "outlinewidth": 0,
              "ticks": ""
             }
            },
            "type": "scattergeo"
           }
          ],
          "scattergl": [
           {
            "marker": {
             "colorbar": {
              "outlinewidth": 0,
              "ticks": ""
             }
            },
            "type": "scattergl"
           }
          ],
          "scattermapbox": [
           {
            "marker": {
             "colorbar": {
              "outlinewidth": 0,
              "ticks": ""
             }
            },
            "type": "scattermapbox"
           }
          ],
          "scatterpolar": [
           {
            "marker": {
             "colorbar": {
              "outlinewidth": 0,
              "ticks": ""
             }
            },
            "type": "scatterpolar"
           }
          ],
          "scatterpolargl": [
           {
            "marker": {
             "colorbar": {
              "outlinewidth": 0,
              "ticks": ""
             }
            },
            "type": "scatterpolargl"
           }
          ],
          "scatterternary": [
           {
            "marker": {
             "colorbar": {
              "outlinewidth": 0,
              "ticks": ""
             }
            },
            "type": "scatterternary"
           }
          ],
          "surface": [
           {
            "colorbar": {
             "outlinewidth": 0,
             "ticks": ""
            },
            "colorscale": [
             [
              0,
              "#0d0887"
             ],
             [
              0.1111111111111111,
              "#46039f"
             ],
             [
              0.2222222222222222,
              "#7201a8"
             ],
             [
              0.3333333333333333,
              "#9c179e"
             ],
             [
              0.4444444444444444,
              "#bd3786"
             ],
             [
              0.5555555555555556,
              "#d8576b"
             ],
             [
              0.6666666666666666,
              "#ed7953"
             ],
             [
              0.7777777777777778,
              "#fb9f3a"
             ],
             [
              0.8888888888888888,
              "#fdca26"
             ],
             [
              1,
              "#f0f921"
             ]
            ],
            "type": "surface"
           }
          ],
          "table": [
           {
            "cells": {
             "fill": {
              "color": "#EBF0F8"
             },
             "line": {
              "color": "white"
             }
            },
            "header": {
             "fill": {
              "color": "#C8D4E3"
             },
             "line": {
              "color": "white"
             }
            },
            "type": "table"
           }
          ]
         },
         "layout": {
          "annotationdefaults": {
           "arrowcolor": "#2a3f5f",
           "arrowhead": 0,
           "arrowwidth": 1
          },
          "autotypenumbers": "strict",
          "coloraxis": {
           "colorbar": {
            "outlinewidth": 0,
            "ticks": ""
           }
          },
          "colorscale": {
           "diverging": [
            [
             0,
             "#8e0152"
            ],
            [
             0.1,
             "#c51b7d"
            ],
            [
             0.2,
             "#de77ae"
            ],
            [
             0.3,
             "#f1b6da"
            ],
            [
             0.4,
             "#fde0ef"
            ],
            [
             0.5,
             "#f7f7f7"
            ],
            [
             0.6,
             "#e6f5d0"
            ],
            [
             0.7,
             "#b8e186"
            ],
            [
             0.8,
             "#7fbc41"
            ],
            [
             0.9,
             "#4d9221"
            ],
            [
             1,
             "#276419"
            ]
           ],
           "sequential": [
            [
             0,
             "#0d0887"
            ],
            [
             0.1111111111111111,
             "#46039f"
            ],
            [
             0.2222222222222222,
             "#7201a8"
            ],
            [
             0.3333333333333333,
             "#9c179e"
            ],
            [
             0.4444444444444444,
             "#bd3786"
            ],
            [
             0.5555555555555556,
             "#d8576b"
            ],
            [
             0.6666666666666666,
             "#ed7953"
            ],
            [
             0.7777777777777778,
             "#fb9f3a"
            ],
            [
             0.8888888888888888,
             "#fdca26"
            ],
            [
             1,
             "#f0f921"
            ]
           ],
           "sequentialminus": [
            [
             0,
             "#0d0887"
            ],
            [
             0.1111111111111111,
             "#46039f"
            ],
            [
             0.2222222222222222,
             "#7201a8"
            ],
            [
             0.3333333333333333,
             "#9c179e"
            ],
            [
             0.4444444444444444,
             "#bd3786"
            ],
            [
             0.5555555555555556,
             "#d8576b"
            ],
            [
             0.6666666666666666,
             "#ed7953"
            ],
            [
             0.7777777777777778,
             "#fb9f3a"
            ],
            [
             0.8888888888888888,
             "#fdca26"
            ],
            [
             1,
             "#f0f921"
            ]
           ]
          },
          "colorway": [
           "#636efa",
           "#EF553B",
           "#00cc96",
           "#ab63fa",
           "#FFA15A",
           "#19d3f3",
           "#FF6692",
           "#B6E880",
           "#FF97FF",
           "#FECB52"
          ],
          "font": {
           "color": "#2a3f5f"
          },
          "geo": {
           "bgcolor": "white",
           "lakecolor": "white",
           "landcolor": "#E5ECF6",
           "showlakes": true,
           "showland": true,
           "subunitcolor": "white"
          },
          "hoverlabel": {
           "align": "left"
          },
          "hovermode": "closest",
          "mapbox": {
           "style": "light"
          },
          "paper_bgcolor": "white",
          "plot_bgcolor": "#E5ECF6",
          "polar": {
           "angularaxis": {
            "gridcolor": "white",
            "linecolor": "white",
            "ticks": ""
           },
           "bgcolor": "#E5ECF6",
           "radialaxis": {
            "gridcolor": "white",
            "linecolor": "white",
            "ticks": ""
           }
          },
          "scene": {
           "xaxis": {
            "backgroundcolor": "#E5ECF6",
            "gridcolor": "white",
            "gridwidth": 2,
            "linecolor": "white",
            "showbackground": true,
            "ticks": "",
            "zerolinecolor": "white"
           },
           "yaxis": {
            "backgroundcolor": "#E5ECF6",
            "gridcolor": "white",
            "gridwidth": 2,
            "linecolor": "white",
            "showbackground": true,
            "ticks": "",
            "zerolinecolor": "white"
           },
           "zaxis": {
            "backgroundcolor": "#E5ECF6",
            "gridcolor": "white",
            "gridwidth": 2,
            "linecolor": "white",
            "showbackground": true,
            "ticks": "",
            "zerolinecolor": "white"
           }
          },
          "shapedefaults": {
           "line": {
            "color": "#2a3f5f"
           }
          },
          "ternary": {
           "aaxis": {
            "gridcolor": "white",
            "linecolor": "white",
            "ticks": ""
           },
           "baxis": {
            "gridcolor": "white",
            "linecolor": "white",
            "ticks": ""
           },
           "bgcolor": "#E5ECF6",
           "caxis": {
            "gridcolor": "white",
            "linecolor": "white",
            "ticks": ""
           }
          },
          "title": {
           "x": 0.05
          },
          "xaxis": {
           "automargin": true,
           "gridcolor": "white",
           "linecolor": "white",
           "ticks": "",
           "title": {
            "standoff": 15
           },
           "zerolinecolor": "white",
           "zerolinewidth": 2
          },
          "yaxis": {
           "automargin": true,
           "gridcolor": "white",
           "linecolor": "white",
           "ticks": "",
           "title": {
            "standoff": 15
           },
           "zerolinecolor": "white",
           "zerolinewidth": 2
          }
         }
        }
       }
      }
     },
     "metadata": {},
     "output_type": "display_data"
    }
   ],
   "source": [
    "plot_radarchart(df_radar)"
   ]
  },
  {
   "cell_type": "code",
   "execution_count": 29,
   "metadata": {},
   "outputs": [
    {
     "data": {
      "text/html": [
       "<div>\n",
       "<style scoped>\n",
       "    .dataframe tbody tr th:only-of-type {\n",
       "        vertical-align: middle;\n",
       "    }\n",
       "\n",
       "    .dataframe tbody tr th {\n",
       "        vertical-align: top;\n",
       "    }\n",
       "\n",
       "    .dataframe thead th {\n",
       "        text-align: right;\n",
       "    }\n",
       "</style>\n",
       "<table border=\"1\" class=\"dataframe\">\n",
       "  <thead>\n",
       "    <tr style=\"text-align: right;\">\n",
       "      <th></th>\n",
       "      <th>borough</th>\n",
       "      <th>cluster</th>\n",
       "    </tr>\n",
       "  </thead>\n",
       "  <tbody>\n",
       "    <tr>\n",
       "      <th>50</th>\n",
       "      <td>Brooklyn</td>\n",
       "      <td>2</td>\n",
       "    </tr>\n",
       "    <tr>\n",
       "      <th>51</th>\n",
       "      <td>Brooklyn</td>\n",
       "      <td>2</td>\n",
       "    </tr>\n",
       "    <tr>\n",
       "      <th>52</th>\n",
       "      <td>Brooklyn</td>\n",
       "      <td>2</td>\n",
       "    </tr>\n",
       "    <tr>\n",
       "      <th>53</th>\n",
       "      <td>Brooklyn</td>\n",
       "      <td>2</td>\n",
       "    </tr>\n",
       "    <tr>\n",
       "      <th>54</th>\n",
       "      <td>Brooklyn</td>\n",
       "      <td>2</td>\n",
       "    </tr>\n",
       "    <tr>\n",
       "      <th>55</th>\n",
       "      <td>Brooklyn</td>\n",
       "      <td>2</td>\n",
       "    </tr>\n",
       "    <tr>\n",
       "      <th>56</th>\n",
       "      <td>Brooklyn</td>\n",
       "      <td>2</td>\n",
       "    </tr>\n",
       "    <tr>\n",
       "      <th>57</th>\n",
       "      <td>Brooklyn</td>\n",
       "      <td>2</td>\n",
       "    </tr>\n",
       "    <tr>\n",
       "      <th>58</th>\n",
       "      <td>Brooklyn</td>\n",
       "      <td>2</td>\n",
       "    </tr>\n",
       "    <tr>\n",
       "      <th>59</th>\n",
       "      <td>Brooklyn</td>\n",
       "      <td>2</td>\n",
       "    </tr>\n",
       "    <tr>\n",
       "      <th>60</th>\n",
       "      <td>Brooklyn</td>\n",
       "      <td>2</td>\n",
       "    </tr>\n",
       "    <tr>\n",
       "      <th>61</th>\n",
       "      <td>Brooklyn</td>\n",
       "      <td>2</td>\n",
       "    </tr>\n",
       "    <tr>\n",
       "      <th>62</th>\n",
       "      <td>Brooklyn</td>\n",
       "      <td>2</td>\n",
       "    </tr>\n",
       "    <tr>\n",
       "      <th>63</th>\n",
       "      <td>Brooklyn</td>\n",
       "      <td>2</td>\n",
       "    </tr>\n",
       "    <tr>\n",
       "      <th>64</th>\n",
       "      <td>Brooklyn</td>\n",
       "      <td>2</td>\n",
       "    </tr>\n",
       "    <tr>\n",
       "      <th>65</th>\n",
       "      <td>Brooklyn</td>\n",
       "      <td>2</td>\n",
       "    </tr>\n",
       "    <tr>\n",
       "      <th>66</th>\n",
       "      <td>Brooklyn</td>\n",
       "      <td>2</td>\n",
       "    </tr>\n",
       "    <tr>\n",
       "      <th>67</th>\n",
       "      <td>Brooklyn</td>\n",
       "      <td>2</td>\n",
       "    </tr>\n",
       "    <tr>\n",
       "      <th>68</th>\n",
       "      <td>Brooklyn</td>\n",
       "      <td>2</td>\n",
       "    </tr>\n",
       "    <tr>\n",
       "      <th>69</th>\n",
       "      <td>Brooklyn</td>\n",
       "      <td>2</td>\n",
       "    </tr>\n",
       "    <tr>\n",
       "      <th>70</th>\n",
       "      <td>Brooklyn</td>\n",
       "      <td>2</td>\n",
       "    </tr>\n",
       "    <tr>\n",
       "      <th>71</th>\n",
       "      <td>Brooklyn</td>\n",
       "      <td>2</td>\n",
       "    </tr>\n",
       "    <tr>\n",
       "      <th>72</th>\n",
       "      <td>Brooklyn</td>\n",
       "      <td>2</td>\n",
       "    </tr>\n",
       "    <tr>\n",
       "      <th>73</th>\n",
       "      <td>Brooklyn</td>\n",
       "      <td>2</td>\n",
       "    </tr>\n",
       "    <tr>\n",
       "      <th>74</th>\n",
       "      <td>Brooklyn</td>\n",
       "      <td>2</td>\n",
       "    </tr>\n",
       "    <tr>\n",
       "      <th>75</th>\n",
       "      <td>Brooklyn</td>\n",
       "      <td>2</td>\n",
       "    </tr>\n",
       "    <tr>\n",
       "      <th>76</th>\n",
       "      <td>Brooklyn</td>\n",
       "      <td>2</td>\n",
       "    </tr>\n",
       "    <tr>\n",
       "      <th>77</th>\n",
       "      <td>Brooklyn</td>\n",
       "      <td>2</td>\n",
       "    </tr>\n",
       "    <tr>\n",
       "      <th>78</th>\n",
       "      <td>Brooklyn</td>\n",
       "      <td>2</td>\n",
       "    </tr>\n",
       "    <tr>\n",
       "      <th>79</th>\n",
       "      <td>Brooklyn</td>\n",
       "      <td>2</td>\n",
       "    </tr>\n",
       "    <tr>\n",
       "      <th>80</th>\n",
       "      <td>Brooklyn</td>\n",
       "      <td>2</td>\n",
       "    </tr>\n",
       "    <tr>\n",
       "      <th>81</th>\n",
       "      <td>Brooklyn</td>\n",
       "      <td>2</td>\n",
       "    </tr>\n",
       "    <tr>\n",
       "      <th>82</th>\n",
       "      <td>Brooklyn</td>\n",
       "      <td>2</td>\n",
       "    </tr>\n",
       "    <tr>\n",
       "      <th>83</th>\n",
       "      <td>Brooklyn</td>\n",
       "      <td>2</td>\n",
       "    </tr>\n",
       "    <tr>\n",
       "      <th>84</th>\n",
       "      <td>Brooklyn</td>\n",
       "      <td>2</td>\n",
       "    </tr>\n",
       "    <tr>\n",
       "      <th>85</th>\n",
       "      <td>Brooklyn</td>\n",
       "      <td>3</td>\n",
       "    </tr>\n",
       "    <tr>\n",
       "      <th>86</th>\n",
       "      <td>Brooklyn</td>\n",
       "      <td>2</td>\n",
       "    </tr>\n",
       "    <tr>\n",
       "      <th>87</th>\n",
       "      <td>Brooklyn</td>\n",
       "      <td>2</td>\n",
       "    </tr>\n",
       "    <tr>\n",
       "      <th>88</th>\n",
       "      <td>Brooklyn</td>\n",
       "      <td>2</td>\n",
       "    </tr>\n",
       "    <tr>\n",
       "      <th>89</th>\n",
       "      <td>Brooklyn</td>\n",
       "      <td>2</td>\n",
       "    </tr>\n",
       "    <tr>\n",
       "      <th>90</th>\n",
       "      <td>Brooklyn</td>\n",
       "      <td>2</td>\n",
       "    </tr>\n",
       "    <tr>\n",
       "      <th>91</th>\n",
       "      <td>Brooklyn</td>\n",
       "      <td>2</td>\n",
       "    </tr>\n",
       "    <tr>\n",
       "      <th>92</th>\n",
       "      <td>Brooklyn</td>\n",
       "      <td>2</td>\n",
       "    </tr>\n",
       "    <tr>\n",
       "      <th>93</th>\n",
       "      <td>Brooklyn</td>\n",
       "      <td>2</td>\n",
       "    </tr>\n",
       "    <tr>\n",
       "      <th>94</th>\n",
       "      <td>Brooklyn</td>\n",
       "      <td>2</td>\n",
       "    </tr>\n",
       "    <tr>\n",
       "      <th>95</th>\n",
       "      <td>Brooklyn</td>\n",
       "      <td>2</td>\n",
       "    </tr>\n",
       "    <tr>\n",
       "      <th>96</th>\n",
       "      <td>Brooklyn</td>\n",
       "      <td>2</td>\n",
       "    </tr>\n",
       "    <tr>\n",
       "      <th>97</th>\n",
       "      <td>Brooklyn</td>\n",
       "      <td>2</td>\n",
       "    </tr>\n",
       "    <tr>\n",
       "      <th>98</th>\n",
       "      <td>Brooklyn</td>\n",
       "      <td>2</td>\n",
       "    </tr>\n",
       "    <tr>\n",
       "      <th>99</th>\n",
       "      <td>Brooklyn</td>\n",
       "      <td>2</td>\n",
       "    </tr>\n",
       "  </tbody>\n",
       "</table>\n",
       "</div>"
      ],
      "text/plain": [
       "     borough  cluster\n",
       "50  Brooklyn        2\n",
       "51  Brooklyn        2\n",
       "52  Brooklyn        2\n",
       "53  Brooklyn        2\n",
       "54  Brooklyn        2\n",
       "55  Brooklyn        2\n",
       "56  Brooklyn        2\n",
       "57  Brooklyn        2\n",
       "58  Brooklyn        2\n",
       "59  Brooklyn        2\n",
       "60  Brooklyn        2\n",
       "61  Brooklyn        2\n",
       "62  Brooklyn        2\n",
       "63  Brooklyn        2\n",
       "64  Brooklyn        2\n",
       "65  Brooklyn        2\n",
       "66  Brooklyn        2\n",
       "67  Brooklyn        2\n",
       "68  Brooklyn        2\n",
       "69  Brooklyn        2\n",
       "70  Brooklyn        2\n",
       "71  Brooklyn        2\n",
       "72  Brooklyn        2\n",
       "73  Brooklyn        2\n",
       "74  Brooklyn        2\n",
       "75  Brooklyn        2\n",
       "76  Brooklyn        2\n",
       "77  Brooklyn        2\n",
       "78  Brooklyn        2\n",
       "79  Brooklyn        2\n",
       "80  Brooklyn        2\n",
       "81  Brooklyn        2\n",
       "82  Brooklyn        2\n",
       "83  Brooklyn        2\n",
       "84  Brooklyn        2\n",
       "85  Brooklyn        3\n",
       "86  Brooklyn        2\n",
       "87  Brooklyn        2\n",
       "88  Brooklyn        2\n",
       "89  Brooklyn        2\n",
       "90  Brooklyn        2\n",
       "91  Brooklyn        2\n",
       "92  Brooklyn        2\n",
       "93  Brooklyn        2\n",
       "94  Brooklyn        2\n",
       "95  Brooklyn        2\n",
       "96  Brooklyn        2\n",
       "97  Brooklyn        2\n",
       "98  Brooklyn        2\n",
       "99  Brooklyn        2"
      ]
     },
     "execution_count": 29,
     "metadata": {},
     "output_type": "execute_result"
    }
   ],
   "source": [
    "d2[['borough', 'cluster']][50:100]"
   ]
  },
  {
   "cell_type": "markdown",
   "metadata": {},
   "source": [
    "## Method 2"
   ]
  },
  {
   "cell_type": "code",
   "execution_count": 15,
   "metadata": {},
   "outputs": [
    {
     "data": {
      "text/html": [
       "<div>\n",
       "<style scoped>\n",
       "    .dataframe tbody tr th:only-of-type {\n",
       "        vertical-align: middle;\n",
       "    }\n",
       "\n",
       "    .dataframe tbody tr th {\n",
       "        vertical-align: top;\n",
       "    }\n",
       "\n",
       "    .dataframe thead th {\n",
       "        text-align: right;\n",
       "    }\n",
       "</style>\n",
       "<table border=\"1\" class=\"dataframe\">\n",
       "  <thead>\n",
       "    <tr style=\"text-align: right;\">\n",
       "      <th></th>\n",
       "      <th>borough</th>\n",
       "      <th>neighborhood</th>\n",
       "      <th>longitude</th>\n",
       "      <th>latitude</th>\n",
       "      <th>population</th>\n",
       "      <th>number_of_restaurants</th>\n",
       "      <th>average_review_count</th>\n",
       "      <th>average_restaurant_rating</th>\n",
       "      <th>average_price_level</th>\n",
       "      <th>yelp_category</th>\n",
       "    </tr>\n",
       "  </thead>\n",
       "  <tbody>\n",
       "    <tr>\n",
       "      <th>0</th>\n",
       "      <td>Bronx</td>\n",
       "      <td>Wakefield</td>\n",
       "      <td>-73.847201</td>\n",
       "      <td>40.894705</td>\n",
       "      <td>21242.0</td>\n",
       "      <td>13</td>\n",
       "      <td>169</td>\n",
       "      <td>4.0</td>\n",
       "      <td>1</td>\n",
       "      <td>caribbean</td>\n",
       "    </tr>\n",
       "    <tr>\n",
       "      <th>1</th>\n",
       "      <td>Bronx</td>\n",
       "      <td>Co-op City</td>\n",
       "      <td>-73.829939</td>\n",
       "      <td>40.874294</td>\n",
       "      <td>43752.0</td>\n",
       "      <td>12</td>\n",
       "      <td>771</td>\n",
       "      <td>4.0</td>\n",
       "      <td>2</td>\n",
       "      <td>delis</td>\n",
       "    </tr>\n",
       "    <tr>\n",
       "      <th>2</th>\n",
       "      <td>Bronx</td>\n",
       "      <td>Eastchester</td>\n",
       "      <td>-73.827806</td>\n",
       "      <td>40.887556</td>\n",
       "      <td>11506.0</td>\n",
       "      <td>19</td>\n",
       "      <td>532</td>\n",
       "      <td>4.1</td>\n",
       "      <td>1</td>\n",
       "      <td>caribbean</td>\n",
       "    </tr>\n",
       "    <tr>\n",
       "      <th>3</th>\n",
       "      <td>Bronx</td>\n",
       "      <td>Fieldston</td>\n",
       "      <td>-73.905643</td>\n",
       "      <td>40.895437</td>\n",
       "      <td>9287.0</td>\n",
       "      <td>9</td>\n",
       "      <td>297</td>\n",
       "      <td>4.4</td>\n",
       "      <td>1</td>\n",
       "      <td>N</td>\n",
       "    </tr>\n",
       "    <tr>\n",
       "      <th>4</th>\n",
       "      <td>Bronx</td>\n",
       "      <td>Riverdale</td>\n",
       "      <td>-73.912585</td>\n",
       "      <td>40.890834</td>\n",
       "      <td>9287.0</td>\n",
       "      <td>14</td>\n",
       "      <td>319</td>\n",
       "      <td>4.0</td>\n",
       "      <td>2</td>\n",
       "      <td>burgers</td>\n",
       "    </tr>\n",
       "  </tbody>\n",
       "</table>\n",
       "</div>"
      ],
      "text/plain": [
       "  borough neighborhood  longitude   latitude  population  \\\n",
       "0   Bronx    Wakefield -73.847201  40.894705     21242.0   \n",
       "1   Bronx   Co-op City -73.829939  40.874294     43752.0   \n",
       "2   Bronx  Eastchester -73.827806  40.887556     11506.0   \n",
       "3   Bronx    Fieldston -73.905643  40.895437      9287.0   \n",
       "4   Bronx    Riverdale -73.912585  40.890834      9287.0   \n",
       "\n",
       "   number_of_restaurants  average_review_count  average_restaurant_rating  \\\n",
       "0                     13                   169                        4.0   \n",
       "1                     12                   771                        4.0   \n",
       "2                     19                   532                        4.1   \n",
       "3                      9                   297                        4.4   \n",
       "4                     14                   319                        4.0   \n",
       "\n",
       "   average_price_level yelp_category  \n",
       "0                    1     caribbean  \n",
       "1                    2         delis  \n",
       "2                    1     caribbean  \n",
       "3                    1             N  \n",
       "4                    2       burgers  "
      ]
     },
     "execution_count": 15,
     "metadata": {},
     "output_type": "execute_result"
    }
   ],
   "source": [
    "data.head()"
   ]
  },
  {
   "cell_type": "code",
   "execution_count": 16,
   "metadata": {},
   "outputs": [],
   "source": [
    "categorical_features_idx = [0, 1,9]\n",
    "mark_array = data.values"
   ]
  },
  {
   "cell_type": "code",
   "execution_count": 17,
   "metadata": {},
   "outputs": [
    {
     "name": "stdout",
     "output_type": "stream",
     "text": [
      "Initialization method and algorithm are deterministic. Setting n_init to 1.\n",
      "Init: initializing centroids\n",
      "Init: initializing clusters\n",
      "Init: initializing centroids\n",
      "Init: initializing clusters\n",
      "Starting iterations...\n",
      "Run: 1, iteration: 1/20, moves: 60, ncost: 17143807651.103607\n",
      "Run: 1, iteration: 2/20, moves: 37, ncost: 13333320169.985111\n",
      "Run: 1, iteration: 3/20, moves: 13, ncost: 12618992643.35569\n",
      "Run: 1, iteration: 4/20, moves: 5, ncost: 12266192943.458601\n",
      "Run: 1, iteration: 5/20, moves: 3, ncost: 12202934641.4161\n",
      "Run: 1, iteration: 6/20, moves: 0, ncost: 12202934641.4161\n",
      "Init: initializing centroids\n",
      "Init: initializing clusters\n",
      "Starting iterations...\n",
      "Run: 2, iteration: 1/20, moves: 58, ncost: 19992965602.42532\n",
      "Run: 2, iteration: 2/20, moves: 35, ncost: 16844356455.758154\n",
      "Run: 2, iteration: 3/20, moves: 37, ncost: 14282683266.75852\n",
      "Run: 2, iteration: 4/20, moves: 23, ncost: 13568167078.231462\n",
      "Run: 2, iteration: 5/20, moves: 11, ncost: 13447347767.474516\n",
      "Run: 2, iteration: 6/20, moves: 7, ncost: 13389767133.78673\n",
      "Run: 2, iteration: 7/20, moves: 9, ncost: 13264967276.635145\n",
      "Run: 2, iteration: 8/20, moves: 5, ncost: 12674541448.118757\n",
      "Run: 2, iteration: 9/20, moves: 7, ncost: 12279961537.968016\n",
      "Run: 2, iteration: 10/20, moves: 4, ncost: 12202934641.416101\n",
      "Run: 2, iteration: 11/20, moves: 0, ncost: 12202934641.416101\n",
      "Init: initializing centroids\n",
      "Init: initializing clusters\n",
      "Init: initializing centroids\n",
      "Init: initializing clusters\n",
      "Starting iterations...\n",
      "Run: 3, iteration: 1/20, moves: 79, ncost: 39296006768.2943\n",
      "Run: 3, iteration: 2/20, moves: 95, ncost: 28011378728.601696\n",
      "Run: 3, iteration: 3/20, moves: 67, ncost: 22272519716.877903\n",
      "Run: 3, iteration: 4/20, moves: 35, ncost: 19790477325.85796\n",
      "Run: 3, iteration: 5/20, moves: 23, ncost: 18539285919.06802\n",
      "Run: 3, iteration: 6/20, moves: 32, ncost: 17452507198.743004\n",
      "Run: 3, iteration: 7/20, moves: 22, ncost: 16952822932.319439\n",
      "Run: 3, iteration: 8/20, moves: 34, ncost: 15873743689.625748\n",
      "Run: 3, iteration: 9/20, moves: 38, ncost: 14594358517.083134\n",
      "Run: 3, iteration: 10/20, moves: 34, ncost: 13780687949.203213\n",
      "Run: 3, iteration: 11/20, moves: 12, ncost: 13568167078.231462\n",
      "Run: 3, iteration: 12/20, moves: 11, ncost: 13447347767.474516\n",
      "Run: 3, iteration: 13/20, moves: 7, ncost: 13389767133.78673\n",
      "Run: 3, iteration: 14/20, moves: 9, ncost: 13264967276.635145\n",
      "Run: 3, iteration: 15/20, moves: 5, ncost: 12674541448.118757\n",
      "Run: 3, iteration: 16/20, moves: 7, ncost: 12279961537.968016\n",
      "Run: 3, iteration: 17/20, moves: 4, ncost: 12202934641.416101\n",
      "Run: 3, iteration: 18/20, moves: 0, ncost: 12202934641.416101\n",
      "Init: initializing centroids\n",
      "Init: initializing clusters\n",
      "Init: initializing centroids\n",
      "Init: initializing clusters\n",
      "Starting iterations...\n",
      "Run: 4, iteration: 1/20, moves: 31, ncost: 22704770235.923172\n",
      "Run: 4, iteration: 2/20, moves: 22, ncost: 19266959329.204514\n",
      "Run: 4, iteration: 3/20, moves: 17, ncost: 17508912778.558464\n",
      "Run: 4, iteration: 4/20, moves: 16, ncost: 16814972236.725914\n",
      "Run: 4, iteration: 5/20, moves: 41, ncost: 15367621695.59661\n",
      "Run: 4, iteration: 6/20, moves: 46, ncost: 14054079254.946625\n",
      "Run: 4, iteration: 7/20, moves: 20, ncost: 13568167078.231462\n",
      "Run: 4, iteration: 8/20, moves: 11, ncost: 13447347767.474516\n",
      "Run: 4, iteration: 9/20, moves: 7, ncost: 13389767133.78673\n",
      "Run: 4, iteration: 10/20, moves: 9, ncost: 13264967276.635145\n",
      "Run: 4, iteration: 11/20, moves: 5, ncost: 12674541448.118757\n",
      "Run: 4, iteration: 12/20, moves: 7, ncost: 12279961537.968016\n",
      "Run: 4, iteration: 13/20, moves: 4, ncost: 12202934641.416101\n",
      "Run: 4, iteration: 14/20, moves: 0, ncost: 12202934641.416101\n",
      "Init: initializing centroids\n",
      "Init: initializing clusters\n",
      "Starting iterations...\n",
      "Run: 5, iteration: 1/20, moves: 62, ncost: 23704937629.284378\n",
      "Run: 5, iteration: 2/20, moves: 25, ncost: 17435314683.622776\n",
      "Run: 5, iteration: 3/20, moves: 18, ncost: 14358043282.718185\n",
      "Run: 5, iteration: 4/20, moves: 18, ncost: 13484165248.951115\n",
      "Run: 5, iteration: 5/20, moves: 5, ncost: 13419199288.620073\n",
      "Run: 5, iteration: 6/20, moves: 3, ncost: 13389767133.78673\n",
      "Run: 5, iteration: 7/20, moves: 9, ncost: 13264967276.635145\n",
      "Run: 5, iteration: 8/20, moves: 5, ncost: 12674541448.118757\n",
      "Run: 5, iteration: 9/20, moves: 7, ncost: 12279961537.968016\n",
      "Run: 5, iteration: 10/20, moves: 4, ncost: 12202934641.416101\n",
      "Run: 5, iteration: 11/20, moves: 0, ncost: 12202934641.416101\n",
      "Init: initializing centroids\n",
      "Init: initializing clusters\n",
      "Init: initializing centroids\n",
      "Init: initializing clusters\n",
      "Init: initializing centroids\n",
      "Init: initializing clusters\n",
      "Starting iterations...\n",
      "Run: 6, iteration: 1/20, moves: 42, ncost: 21299297152.43059\n",
      "Run: 6, iteration: 2/20, moves: 29, ncost: 17063026770.042686\n",
      "Run: 6, iteration: 3/20, moves: 16, ncost: 14424231157.50754\n",
      "Run: 6, iteration: 4/20, moves: 19, ncost: 13568167078.231462\n",
      "Run: 6, iteration: 5/20, moves: 11, ncost: 13447347767.474516\n",
      "Run: 6, iteration: 6/20, moves: 7, ncost: 13389767133.78673\n",
      "Run: 6, iteration: 7/20, moves: 9, ncost: 13264967276.635145\n",
      "Run: 6, iteration: 8/20, moves: 5, ncost: 12674541448.118757\n",
      "Run: 6, iteration: 9/20, moves: 7, ncost: 12279961537.968016\n",
      "Run: 6, iteration: 10/20, moves: 4, ncost: 12202934641.416101\n",
      "Run: 6, iteration: 11/20, moves: 0, ncost: 12202934641.416101\n",
      "Init: initializing centroids\n",
      "Init: initializing clusters\n",
      "Starting iterations...\n",
      "Run: 7, iteration: 1/20, moves: 48, ncost: 13427723016.231543\n",
      "Run: 7, iteration: 2/20, moves: 21, ncost: 12397202753.4568\n",
      "Run: 7, iteration: 3/20, moves: 8, ncost: 12202934641.416098\n",
      "Run: 7, iteration: 4/20, moves: 0, ncost: 12202934641.416098\n",
      "Init: initializing centroids\n",
      "Init: initializing clusters\n",
      "Init: initializing centroids\n",
      "Init: initializing clusters\n",
      "Starting iterations...\n",
      "Run: 8, iteration: 1/20, moves: 35, ncost: 18171078697.507225\n",
      "Run: 8, iteration: 2/20, moves: 36, ncost: 15669206456.51969\n",
      "Run: 8, iteration: 3/20, moves: 32, ncost: 14003992840.490667\n",
      "Run: 8, iteration: 4/20, moves: 16, ncost: 13568167078.231462\n",
      "Run: 8, iteration: 5/20, moves: 11, ncost: 13447347767.474516\n",
      "Run: 8, iteration: 6/20, moves: 7, ncost: 13389767133.78673\n",
      "Run: 8, iteration: 7/20, moves: 9, ncost: 13264967276.635145\n",
      "Run: 8, iteration: 8/20, moves: 5, ncost: 12674541448.118757\n",
      "Run: 8, iteration: 9/20, moves: 7, ncost: 12279961537.968016\n",
      "Run: 8, iteration: 10/20, moves: 4, ncost: 12202934641.416101\n",
      "Run: 8, iteration: 11/20, moves: 0, ncost: 12202934641.416101\n",
      "Init: initializing centroids\n",
      "Init: initializing clusters\n",
      "Starting iterations...\n",
      "Run: 9, iteration: 1/20, moves: 55, ncost: 15913847333.71425\n",
      "Run: 9, iteration: 2/20, moves: 21, ncost: 13335479316.513538\n",
      "Run: 9, iteration: 3/20, moves: 7, ncost: 12674541448.118755\n",
      "Run: 9, iteration: 4/20, moves: 7, ncost: 12279961537.968014\n",
      "Run: 9, iteration: 5/20, moves: 4, ncost: 12202934641.4161\n",
      "Run: 9, iteration: 6/20, moves: 0, ncost: 12202934641.4161\n",
      "Init: initializing centroids\n",
      "Init: initializing clusters\n",
      "Starting iterations...\n",
      "Run: 10, iteration: 1/20, moves: 45, ncost: 24409852840.429913\n",
      "Run: 10, iteration: 2/20, moves: 50, ncost: 19513494957.59846\n",
      "Run: 10, iteration: 3/20, moves: 18, ncost: 18057386164.464005\n",
      "Run: 10, iteration: 4/20, moves: 14, ncost: 17044199900.992195\n",
      "Run: 10, iteration: 5/20, moves: 35, ncost: 15866077945.602806\n",
      "Run: 10, iteration: 6/20, moves: 53, ncost: 14141845968.0256\n",
      "Run: 10, iteration: 7/20, moves: 23, ncost: 13568167078.231462\n",
      "Run: 10, iteration: 8/20, moves: 11, ncost: 13447347767.474516\n",
      "Run: 10, iteration: 9/20, moves: 7, ncost: 13389767133.78673\n",
      "Run: 10, iteration: 10/20, moves: 9, ncost: 13264967276.635145\n",
      "Run: 10, iteration: 11/20, moves: 5, ncost: 12674541448.118757\n",
      "Run: 10, iteration: 12/20, moves: 7, ncost: 12279961537.968016\n",
      "Run: 10, iteration: 13/20, moves: 4, ncost: 12202934641.416101\n",
      "Run: 10, iteration: 14/20, moves: 0, ncost: 12202934641.416101\n",
      "Best run was number 7\n"
     ]
    },
    {
     "data": {
      "text/html": [
       "<style>#sk-container-id-1 {color: black;background-color: white;}#sk-container-id-1 pre{padding: 0;}#sk-container-id-1 div.sk-toggleable {background-color: white;}#sk-container-id-1 label.sk-toggleable__label {cursor: pointer;display: block;width: 100%;margin-bottom: 0;padding: 0.3em;box-sizing: border-box;text-align: center;}#sk-container-id-1 label.sk-toggleable__label-arrow:before {content: \"▸\";float: left;margin-right: 0.25em;color: #696969;}#sk-container-id-1 label.sk-toggleable__label-arrow:hover:before {color: black;}#sk-container-id-1 div.sk-estimator:hover label.sk-toggleable__label-arrow:before {color: black;}#sk-container-id-1 div.sk-toggleable__content {max-height: 0;max-width: 0;overflow: hidden;text-align: left;background-color: #f0f8ff;}#sk-container-id-1 div.sk-toggleable__content pre {margin: 0.2em;color: black;border-radius: 0.25em;background-color: #f0f8ff;}#sk-container-id-1 input.sk-toggleable__control:checked~div.sk-toggleable__content {max-height: 200px;max-width: 100%;overflow: auto;}#sk-container-id-1 input.sk-toggleable__control:checked~label.sk-toggleable__label-arrow:before {content: \"▾\";}#sk-container-id-1 div.sk-estimator input.sk-toggleable__control:checked~label.sk-toggleable__label {background-color: #d4ebff;}#sk-container-id-1 div.sk-label input.sk-toggleable__control:checked~label.sk-toggleable__label {background-color: #d4ebff;}#sk-container-id-1 input.sk-hidden--visually {border: 0;clip: rect(1px 1px 1px 1px);clip: rect(1px, 1px, 1px, 1px);height: 1px;margin: -1px;overflow: hidden;padding: 0;position: absolute;width: 1px;}#sk-container-id-1 div.sk-estimator {font-family: monospace;background-color: #f0f8ff;border: 1px dotted black;border-radius: 0.25em;box-sizing: border-box;margin-bottom: 0.5em;}#sk-container-id-1 div.sk-estimator:hover {background-color: #d4ebff;}#sk-container-id-1 div.sk-parallel-item::after {content: \"\";width: 100%;border-bottom: 1px solid gray;flex-grow: 1;}#sk-container-id-1 div.sk-label:hover label.sk-toggleable__label {background-color: #d4ebff;}#sk-container-id-1 div.sk-serial::before {content: \"\";position: absolute;border-left: 1px solid gray;box-sizing: border-box;top: 0;bottom: 0;left: 50%;z-index: 0;}#sk-container-id-1 div.sk-serial {display: flex;flex-direction: column;align-items: center;background-color: white;padding-right: 0.2em;padding-left: 0.2em;position: relative;}#sk-container-id-1 div.sk-item {position: relative;z-index: 1;}#sk-container-id-1 div.sk-parallel {display: flex;align-items: stretch;justify-content: center;background-color: white;position: relative;}#sk-container-id-1 div.sk-item::before, #sk-container-id-1 div.sk-parallel-item::before {content: \"\";position: absolute;border-left: 1px solid gray;box-sizing: border-box;top: 0;bottom: 0;left: 50%;z-index: -1;}#sk-container-id-1 div.sk-parallel-item {display: flex;flex-direction: column;z-index: 1;position: relative;background-color: white;}#sk-container-id-1 div.sk-parallel-item:first-child::after {align-self: flex-end;width: 50%;}#sk-container-id-1 div.sk-parallel-item:last-child::after {align-self: flex-start;width: 50%;}#sk-container-id-1 div.sk-parallel-item:only-child::after {width: 0;}#sk-container-id-1 div.sk-dashed-wrapped {border: 1px dashed gray;margin: 0 0.4em 0.5em 0.4em;box-sizing: border-box;padding-bottom: 0.4em;background-color: white;}#sk-container-id-1 div.sk-label label {font-family: monospace;font-weight: bold;display: inline-block;line-height: 1.2em;}#sk-container-id-1 div.sk-label-container {text-align: center;}#sk-container-id-1 div.sk-container {/* jupyter's `normalize.less` sets `[hidden] { display: none; }` but bootstrap.min.css set `[hidden] { display: none !important; }` so we also need the `!important` here to be able to override the default hidden behavior on the sphinx rendered scikit-learn.org. See: https://github.com/scikit-learn/scikit-learn/issues/21755 */display: inline-block !important;position: relative;}#sk-container-id-1 div.sk-text-repr-fallback {display: none;}</style><div id=\"sk-container-id-1\" class=\"sk-top-container\"><div class=\"sk-text-repr-fallback\"><pre>KPrototypes(gamma=7085.339987306333, max_iter=20, n_clusters=5, verbose=2)</pre><b>In a Jupyter environment, please rerun this cell to show the HTML representation or trust the notebook. <br />On GitHub, the HTML representation is unable to render, please try loading this page with nbviewer.org.</b></div><div class=\"sk-container\" hidden><div class=\"sk-item\"><div class=\"sk-estimator sk-toggleable\"><input class=\"sk-toggleable__control sk-hidden--visually\" id=\"sk-estimator-id-1\" type=\"checkbox\" checked><label for=\"sk-estimator-id-1\" class=\"sk-toggleable__label sk-toggleable__label-arrow\">KPrototypes</label><div class=\"sk-toggleable__content\"><pre>KPrototypes(gamma=7085.339987306333, max_iter=20, n_clusters=5, verbose=2)</pre></div></div></div></div></div>"
      ],
      "text/plain": [
       "KPrototypes(gamma=7085.339987306333, max_iter=20, n_clusters=5, verbose=2)"
      ]
     },
     "execution_count": 17,
     "metadata": {},
     "output_type": "execute_result"
    }
   ],
   "source": [
    "from kmodes.kprototypes import KPrototypes\n",
    "\n",
    "kproto = KPrototypes(n_clusters=5, verbose=2, max_iter=20)\n",
    "kproto.fit(mark_array, categorical=categorical_features_idx)"
   ]
  },
  {
   "cell_type": "code",
   "execution_count": 18,
   "metadata": {},
   "outputs": [
    {
     "name": "stdout",
     "output_type": "stream",
     "text": [
      "[['-73.94004214015266' '40.723291052442164' '122245.61538461539' '26.0'\n",
      "  '418.84615384615387' '4.199999999999999' '1.7692307692307692'\n",
      "  'Brooklyn' 'Bensonhurst' 'mexican']\n",
      " ['-73.91082189455453' '40.732221601951224' '24166.550561797754'\n",
      "  '18.471910112359552' '409.0561797752809' '4.082022471910112'\n",
      "  '1.5393258426966292' 'Queens' 'Arden Heights' 'italian']\n",
      " ['-73.91766775677144' '40.72705811511003' '43230.63265306123'\n",
      "  '20.959183673469386' '464.18367346938777' '4.055102040816328'\n",
      "  '1.6938775510204083' 'Brooklyn' 'Murray Hill' 'chinese']\n",
      " ['-73.98589960010025' '40.66753570428003' '9058.0' '13.037037037037036'\n",
      "  '382.27407407407406' '3.9525925925925893' '1.637037037037037'\n",
      "  'Staten Island' 'Bay Terrace' 'pizza']\n",
      " ['-73.91039610712275' '40.71515647302308' '72063.55' '21.5' '445.65'\n",
      "  '4.110000000000001' '1.65' 'Queens' 'Astoria' 'caribbean']]\n"
     ]
    }
   ],
   "source": [
    "# Cluster Centroids\n",
    "print(kproto.cluster_centroids_)"
   ]
  },
  {
   "cell_type": "code",
   "execution_count": 19,
   "metadata": {},
   "outputs": [],
   "source": [
    "# Prediction\n",
    "clusters = kproto.predict(mark_array, categorical=categorical_features_idx)"
   ]
  },
  {
   "cell_type": "code",
   "execution_count": 20,
   "metadata": {},
   "outputs": [],
   "source": [
    "data1['cluster'] = list(clusters)"
   ]
  },
  {
   "cell_type": "code",
   "execution_count": 21,
   "metadata": {},
   "outputs": [
    {
     "data": {
      "text/html": [
       "<div>\n",
       "<style scoped>\n",
       "    .dataframe tbody tr th:only-of-type {\n",
       "        vertical-align: middle;\n",
       "    }\n",
       "\n",
       "    .dataframe tbody tr th {\n",
       "        vertical-align: top;\n",
       "    }\n",
       "\n",
       "    .dataframe thead th {\n",
       "        text-align: right;\n",
       "    }\n",
       "</style>\n",
       "<table border=\"1\" class=\"dataframe\">\n",
       "  <thead>\n",
       "    <tr style=\"text-align: right;\">\n",
       "      <th></th>\n",
       "      <th>borough</th>\n",
       "      <th>longitude</th>\n",
       "      <th>latitude</th>\n",
       "      <th>population</th>\n",
       "      <th>number_of_restaurants</th>\n",
       "      <th>average_review_count</th>\n",
       "      <th>average_restaurant_rating</th>\n",
       "      <th>average_price_level</th>\n",
       "      <th>yelp_category</th>\n",
       "      <th>cluster</th>\n",
       "    </tr>\n",
       "  </thead>\n",
       "  <tbody>\n",
       "    <tr>\n",
       "      <th>0</th>\n",
       "      <td>Bronx</td>\n",
       "      <td>-73.847201</td>\n",
       "      <td>40.894705</td>\n",
       "      <td>21242.0</td>\n",
       "      <td>13</td>\n",
       "      <td>169</td>\n",
       "      <td>4.0</td>\n",
       "      <td>1</td>\n",
       "      <td>caribbean</td>\n",
       "      <td>1</td>\n",
       "    </tr>\n",
       "    <tr>\n",
       "      <th>1</th>\n",
       "      <td>Bronx</td>\n",
       "      <td>-73.829939</td>\n",
       "      <td>40.874294</td>\n",
       "      <td>43752.0</td>\n",
       "      <td>12</td>\n",
       "      <td>771</td>\n",
       "      <td>4.0</td>\n",
       "      <td>2</td>\n",
       "      <td>delis</td>\n",
       "      <td>2</td>\n",
       "    </tr>\n",
       "    <tr>\n",
       "      <th>2</th>\n",
       "      <td>Bronx</td>\n",
       "      <td>-73.827806</td>\n",
       "      <td>40.887556</td>\n",
       "      <td>11506.0</td>\n",
       "      <td>19</td>\n",
       "      <td>532</td>\n",
       "      <td>4.1</td>\n",
       "      <td>1</td>\n",
       "      <td>caribbean</td>\n",
       "      <td>3</td>\n",
       "    </tr>\n",
       "    <tr>\n",
       "      <th>3</th>\n",
       "      <td>Bronx</td>\n",
       "      <td>-73.905643</td>\n",
       "      <td>40.895437</td>\n",
       "      <td>9287.0</td>\n",
       "      <td>9</td>\n",
       "      <td>297</td>\n",
       "      <td>4.4</td>\n",
       "      <td>1</td>\n",
       "      <td>N</td>\n",
       "      <td>3</td>\n",
       "    </tr>\n",
       "    <tr>\n",
       "      <th>4</th>\n",
       "      <td>Bronx</td>\n",
       "      <td>-73.912585</td>\n",
       "      <td>40.890834</td>\n",
       "      <td>9287.0</td>\n",
       "      <td>14</td>\n",
       "      <td>319</td>\n",
       "      <td>4.0</td>\n",
       "      <td>2</td>\n",
       "      <td>burgers</td>\n",
       "      <td>3</td>\n",
       "    </tr>\n",
       "  </tbody>\n",
       "</table>\n",
       "</div>"
      ],
      "text/plain": [
       "  borough  longitude   latitude  population  number_of_restaurants  \\\n",
       "0   Bronx -73.847201  40.894705     21242.0                     13   \n",
       "1   Bronx -73.829939  40.874294     43752.0                     12   \n",
       "2   Bronx -73.827806  40.887556     11506.0                     19   \n",
       "3   Bronx -73.905643  40.895437      9287.0                      9   \n",
       "4   Bronx -73.912585  40.890834      9287.0                     14   \n",
       "\n",
       "   average_review_count  average_restaurant_rating  average_price_level  \\\n",
       "0                   169                        4.0                    1   \n",
       "1                   771                        4.0                    2   \n",
       "2                   532                        4.1                    1   \n",
       "3                   297                        4.4                    1   \n",
       "4                   319                        4.0                    2   \n",
       "\n",
       "  yelp_category  cluster  \n",
       "0     caribbean        1  \n",
       "1         delis        2  \n",
       "2     caribbean        3  \n",
       "3             N        3  \n",
       "4       burgers        3  "
      ]
     },
     "execution_count": 21,
     "metadata": {},
     "output_type": "execute_result"
    }
   ],
   "source": [
    "data1.head()"
   ]
  },
  {
   "cell_type": "markdown",
   "metadata": {},
   "source": [
    "## Longitude and Latitude Only"
   ]
  },
  {
   "cell_type": "code",
   "execution_count": 22,
   "metadata": {},
   "outputs": [
    {
     "data": {
      "text/html": [
       "<div>\n",
       "<style scoped>\n",
       "    .dataframe tbody tr th:only-of-type {\n",
       "        vertical-align: middle;\n",
       "    }\n",
       "\n",
       "    .dataframe tbody tr th {\n",
       "        vertical-align: top;\n",
       "    }\n",
       "\n",
       "    .dataframe thead th {\n",
       "        text-align: right;\n",
       "    }\n",
       "</style>\n",
       "<table border=\"1\" class=\"dataframe\">\n",
       "  <thead>\n",
       "    <tr style=\"text-align: right;\">\n",
       "      <th></th>\n",
       "      <th>longitude</th>\n",
       "      <th>latitude</th>\n",
       "      <th>population</th>\n",
       "      <th>number_of_restaurants</th>\n",
       "      <th>average_review_count</th>\n",
       "      <th>average_restaurant_rating</th>\n",
       "      <th>average_price_level</th>\n",
       "      <th>Bronx</th>\n",
       "      <th>Brooklyn</th>\n",
       "      <th>Manhattan</th>\n",
       "      <th>...</th>\n",
       "      <th>pizza</th>\n",
       "      <th>russian</th>\n",
       "      <th>sandwiches</th>\n",
       "      <th>seafood</th>\n",
       "      <th>spanish</th>\n",
       "      <th>steak</th>\n",
       "      <th>sushi</th>\n",
       "      <th>tapasmallplates</th>\n",
       "      <th>thai</th>\n",
       "      <th>tradamerican</th>\n",
       "    </tr>\n",
       "  </thead>\n",
       "  <tbody>\n",
       "    <tr>\n",
       "      <th>0</th>\n",
       "      <td>-73.847201</td>\n",
       "      <td>40.894705</td>\n",
       "      <td>21242.0</td>\n",
       "      <td>13</td>\n",
       "      <td>169</td>\n",
       "      <td>4.0</td>\n",
       "      <td>1</td>\n",
       "      <td>1</td>\n",
       "      <td>0</td>\n",
       "      <td>0</td>\n",
       "      <td>...</td>\n",
       "      <td>0</td>\n",
       "      <td>0</td>\n",
       "      <td>0</td>\n",
       "      <td>0</td>\n",
       "      <td>0</td>\n",
       "      <td>0</td>\n",
       "      <td>0</td>\n",
       "      <td>0</td>\n",
       "      <td>0</td>\n",
       "      <td>0</td>\n",
       "    </tr>\n",
       "    <tr>\n",
       "      <th>1</th>\n",
       "      <td>-73.829939</td>\n",
       "      <td>40.874294</td>\n",
       "      <td>43752.0</td>\n",
       "      <td>12</td>\n",
       "      <td>771</td>\n",
       "      <td>4.0</td>\n",
       "      <td>2</td>\n",
       "      <td>1</td>\n",
       "      <td>0</td>\n",
       "      <td>0</td>\n",
       "      <td>...</td>\n",
       "      <td>0</td>\n",
       "      <td>0</td>\n",
       "      <td>0</td>\n",
       "      <td>0</td>\n",
       "      <td>0</td>\n",
       "      <td>0</td>\n",
       "      <td>0</td>\n",
       "      <td>0</td>\n",
       "      <td>0</td>\n",
       "      <td>0</td>\n",
       "    </tr>\n",
       "    <tr>\n",
       "      <th>2</th>\n",
       "      <td>-73.827806</td>\n",
       "      <td>40.887556</td>\n",
       "      <td>11506.0</td>\n",
       "      <td>19</td>\n",
       "      <td>532</td>\n",
       "      <td>4.1</td>\n",
       "      <td>1</td>\n",
       "      <td>1</td>\n",
       "      <td>0</td>\n",
       "      <td>0</td>\n",
       "      <td>...</td>\n",
       "      <td>0</td>\n",
       "      <td>0</td>\n",
       "      <td>0</td>\n",
       "      <td>0</td>\n",
       "      <td>0</td>\n",
       "      <td>0</td>\n",
       "      <td>0</td>\n",
       "      <td>0</td>\n",
       "      <td>0</td>\n",
       "      <td>0</td>\n",
       "    </tr>\n",
       "    <tr>\n",
       "      <th>3</th>\n",
       "      <td>-73.905643</td>\n",
       "      <td>40.895437</td>\n",
       "      <td>9287.0</td>\n",
       "      <td>9</td>\n",
       "      <td>297</td>\n",
       "      <td>4.4</td>\n",
       "      <td>1</td>\n",
       "      <td>1</td>\n",
       "      <td>0</td>\n",
       "      <td>0</td>\n",
       "      <td>...</td>\n",
       "      <td>0</td>\n",
       "      <td>0</td>\n",
       "      <td>0</td>\n",
       "      <td>0</td>\n",
       "      <td>0</td>\n",
       "      <td>0</td>\n",
       "      <td>0</td>\n",
       "      <td>0</td>\n",
       "      <td>0</td>\n",
       "      <td>0</td>\n",
       "    </tr>\n",
       "    <tr>\n",
       "      <th>4</th>\n",
       "      <td>-73.912585</td>\n",
       "      <td>40.890834</td>\n",
       "      <td>9287.0</td>\n",
       "      <td>14</td>\n",
       "      <td>319</td>\n",
       "      <td>4.0</td>\n",
       "      <td>2</td>\n",
       "      <td>1</td>\n",
       "      <td>0</td>\n",
       "      <td>0</td>\n",
       "      <td>...</td>\n",
       "      <td>0</td>\n",
       "      <td>0</td>\n",
       "      <td>0</td>\n",
       "      <td>0</td>\n",
       "      <td>0</td>\n",
       "      <td>0</td>\n",
       "      <td>0</td>\n",
       "      <td>0</td>\n",
       "      <td>0</td>\n",
       "      <td>0</td>\n",
       "    </tr>\n",
       "  </tbody>\n",
       "</table>\n",
       "<p>5 rows × 52 columns</p>\n",
       "</div>"
      ],
      "text/plain": [
       "   longitude   latitude  population  number_of_restaurants  \\\n",
       "0 -73.847201  40.894705     21242.0                     13   \n",
       "1 -73.829939  40.874294     43752.0                     12   \n",
       "2 -73.827806  40.887556     11506.0                     19   \n",
       "3 -73.905643  40.895437      9287.0                      9   \n",
       "4 -73.912585  40.890834      9287.0                     14   \n",
       "\n",
       "   average_review_count  average_restaurant_rating  average_price_level  \\\n",
       "0                   169                        4.0                    1   \n",
       "1                   771                        4.0                    2   \n",
       "2                   532                        4.1                    1   \n",
       "3                   297                        4.4                    1   \n",
       "4                   319                        4.0                    2   \n",
       "\n",
       "   Bronx  Brooklyn  Manhattan  ...  pizza  russian  sandwiches  seafood  \\\n",
       "0      1         0          0  ...      0        0           0        0   \n",
       "1      1         0          0  ...      0        0           0        0   \n",
       "2      1         0          0  ...      0        0           0        0   \n",
       "3      1         0          0  ...      0        0           0        0   \n",
       "4      1         0          0  ...      0        0           0        0   \n",
       "\n",
       "   spanish  steak  sushi  tapasmallplates  thai  tradamerican  \n",
       "0        0      0      0                0     0             0  \n",
       "1        0      0      0                0     0             0  \n",
       "2        0      0      0                0     0             0  \n",
       "3        0      0      0                0     0             0  \n",
       "4        0      0      0                0     0             0  \n",
       "\n",
       "[5 rows x 52 columns]"
      ]
     },
     "execution_count": 22,
     "metadata": {},
     "output_type": "execute_result"
    }
   ],
   "source": [
    "data_numeric.head()"
   ]
  },
  {
   "cell_type": "code",
   "execution_count": null,
   "metadata": {},
   "outputs": [],
   "source": []
  }
 ],
 "metadata": {
  "interpreter": {
   "hash": "39512f3c2a1741d7f752d45a133d4514127029333ea14bc2f3c6c5e6759b9029"
  },
  "kernelspec": {
   "display_name": "Python 3.8.13 ('base_env')",
   "language": "python",
   "name": "python3"
  },
  "language_info": {
   "codemirror_mode": {
    "name": "ipython",
    "version": 3
   },
   "file_extension": ".py",
   "mimetype": "text/x-python",
   "name": "python",
   "nbconvert_exporter": "python",
   "pygments_lexer": "ipython3",
   "version": "3.8.13"
  },
  "orig_nbformat": 4
 },
 "nbformat": 4,
 "nbformat_minor": 2
}
