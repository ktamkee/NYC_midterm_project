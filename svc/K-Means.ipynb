{
 "cells": [
  {
   "cell_type": "code",
   "execution_count": 20,
   "metadata": {},
   "outputs": [],
   "source": [
    "import pandas as pd\n",
    "import numpy as np\n",
    "import matplotlib.pyplot as plt\n",
    "import seaborn as sns\n",
    "from sklearn.cluster import KMeans"
   ]
  },
  {
   "cell_type": "code",
   "execution_count": 21,
   "metadata": {},
   "outputs": [
    {
     "data": {
      "text/html": [
       "<div>\n",
       "<style scoped>\n",
       "    .dataframe tbody tr th:only-of-type {\n",
       "        vertical-align: middle;\n",
       "    }\n",
       "\n",
       "    .dataframe tbody tr th {\n",
       "        vertical-align: top;\n",
       "    }\n",
       "\n",
       "    .dataframe thead th {\n",
       "        text-align: right;\n",
       "    }\n",
       "</style>\n",
       "<table border=\"1\" class=\"dataframe\">\n",
       "  <thead>\n",
       "    <tr style=\"text-align: right;\">\n",
       "      <th></th>\n",
       "      <th>borough</th>\n",
       "      <th>neighborhood</th>\n",
       "      <th>longitude</th>\n",
       "      <th>latitude</th>\n",
       "      <th>population</th>\n",
       "      <th>number_of_restaurants</th>\n",
       "      <th>average_review_count</th>\n",
       "      <th>average_restaurant_rating</th>\n",
       "      <th>average_price_level</th>\n",
       "      <th>yelp_category</th>\n",
       "    </tr>\n",
       "  </thead>\n",
       "  <tbody>\n",
       "    <tr>\n",
       "      <th>0</th>\n",
       "      <td>Bronx</td>\n",
       "      <td>Wakefield</td>\n",
       "      <td>-73.847201</td>\n",
       "      <td>40.894705</td>\n",
       "      <td>21242.0</td>\n",
       "      <td>13</td>\n",
       "      <td>169</td>\n",
       "      <td>4.0</td>\n",
       "      <td>1</td>\n",
       "      <td>caribbean</td>\n",
       "    </tr>\n",
       "    <tr>\n",
       "      <th>1</th>\n",
       "      <td>Bronx</td>\n",
       "      <td>Co-op City</td>\n",
       "      <td>-73.829939</td>\n",
       "      <td>40.874294</td>\n",
       "      <td>43752.0</td>\n",
       "      <td>12</td>\n",
       "      <td>771</td>\n",
       "      <td>4.0</td>\n",
       "      <td>2</td>\n",
       "      <td>delis</td>\n",
       "    </tr>\n",
       "    <tr>\n",
       "      <th>2</th>\n",
       "      <td>Bronx</td>\n",
       "      <td>Eastchester</td>\n",
       "      <td>-73.827806</td>\n",
       "      <td>40.887556</td>\n",
       "      <td>11506.0</td>\n",
       "      <td>19</td>\n",
       "      <td>532</td>\n",
       "      <td>4.1</td>\n",
       "      <td>1</td>\n",
       "      <td>caribbean</td>\n",
       "    </tr>\n",
       "    <tr>\n",
       "      <th>3</th>\n",
       "      <td>Bronx</td>\n",
       "      <td>Fieldston</td>\n",
       "      <td>-73.905643</td>\n",
       "      <td>40.895437</td>\n",
       "      <td>9287.0</td>\n",
       "      <td>9</td>\n",
       "      <td>297</td>\n",
       "      <td>4.4</td>\n",
       "      <td>1</td>\n",
       "      <td>N</td>\n",
       "    </tr>\n",
       "    <tr>\n",
       "      <th>4</th>\n",
       "      <td>Bronx</td>\n",
       "      <td>Riverdale</td>\n",
       "      <td>-73.912585</td>\n",
       "      <td>40.890834</td>\n",
       "      <td>9287.0</td>\n",
       "      <td>14</td>\n",
       "      <td>319</td>\n",
       "      <td>4.0</td>\n",
       "      <td>2</td>\n",
       "      <td>burgers</td>\n",
       "    </tr>\n",
       "  </tbody>\n",
       "</table>\n",
       "</div>"
      ],
      "text/plain": [
       "  borough neighborhood  longitude   latitude  population  \\\n",
       "0   Bronx    Wakefield -73.847201  40.894705     21242.0   \n",
       "1   Bronx   Co-op City -73.829939  40.874294     43752.0   \n",
       "2   Bronx  Eastchester -73.827806  40.887556     11506.0   \n",
       "3   Bronx    Fieldston -73.905643  40.895437      9287.0   \n",
       "4   Bronx    Riverdale -73.912585  40.890834      9287.0   \n",
       "\n",
       "   number_of_restaurants  average_review_count  average_restaurant_rating  \\\n",
       "0                     13                   169                        4.0   \n",
       "1                     12                   771                        4.0   \n",
       "2                     19                   532                        4.1   \n",
       "3                      9                   297                        4.4   \n",
       "4                     14                   319                        4.0   \n",
       "\n",
       "   average_price_level yelp_category  \n",
       "0                    1     caribbean  \n",
       "1                    2         delis  \n",
       "2                    1     caribbean  \n",
       "3                    1             N  \n",
       "4                    2       burgers  "
      ]
     },
     "execution_count": 21,
     "metadata": {},
     "output_type": "execute_result"
    }
   ],
   "source": [
    "# import data\n",
    "data = pd.read_csv('/Users/karina/GitHub/NYC_midterm_project/data/main_dataset.csv')\n",
    "data = data.iloc[:, 2:]\n",
    "data.head()"
   ]
  },
  {
   "cell_type": "code",
   "execution_count": 22,
   "metadata": {},
   "outputs": [
    {
     "data": {
      "text/html": [
       "<div>\n",
       "<style scoped>\n",
       "    .dataframe tbody tr th:only-of-type {\n",
       "        vertical-align: middle;\n",
       "    }\n",
       "\n",
       "    .dataframe tbody tr th {\n",
       "        vertical-align: top;\n",
       "    }\n",
       "\n",
       "    .dataframe thead th {\n",
       "        text-align: right;\n",
       "    }\n",
       "</style>\n",
       "<table border=\"1\" class=\"dataframe\">\n",
       "  <thead>\n",
       "    <tr style=\"text-align: right;\">\n",
       "      <th></th>\n",
       "      <th>borough</th>\n",
       "      <th>neighborhood</th>\n",
       "      <th>longitude</th>\n",
       "      <th>latitude</th>\n",
       "      <th>population</th>\n",
       "      <th>number_of_restaurants</th>\n",
       "      <th>average_review_count</th>\n",
       "      <th>average_restaurant_rating</th>\n",
       "      <th>average_price_level</th>\n",
       "      <th>yelp_category</th>\n",
       "      <th>borough_encode</th>\n",
       "    </tr>\n",
       "  </thead>\n",
       "  <tbody>\n",
       "    <tr>\n",
       "      <th>0</th>\n",
       "      <td>Bronx</td>\n",
       "      <td>Wakefield</td>\n",
       "      <td>-73.847201</td>\n",
       "      <td>40.894705</td>\n",
       "      <td>21242.0</td>\n",
       "      <td>13</td>\n",
       "      <td>169</td>\n",
       "      <td>4.0</td>\n",
       "      <td>1</td>\n",
       "      <td>caribbean</td>\n",
       "      <td>0</td>\n",
       "    </tr>\n",
       "    <tr>\n",
       "      <th>1</th>\n",
       "      <td>Bronx</td>\n",
       "      <td>Co-op City</td>\n",
       "      <td>-73.829939</td>\n",
       "      <td>40.874294</td>\n",
       "      <td>43752.0</td>\n",
       "      <td>12</td>\n",
       "      <td>771</td>\n",
       "      <td>4.0</td>\n",
       "      <td>2</td>\n",
       "      <td>delis</td>\n",
       "      <td>0</td>\n",
       "    </tr>\n",
       "    <tr>\n",
       "      <th>2</th>\n",
       "      <td>Bronx</td>\n",
       "      <td>Eastchester</td>\n",
       "      <td>-73.827806</td>\n",
       "      <td>40.887556</td>\n",
       "      <td>11506.0</td>\n",
       "      <td>19</td>\n",
       "      <td>532</td>\n",
       "      <td>4.1</td>\n",
       "      <td>1</td>\n",
       "      <td>caribbean</td>\n",
       "      <td>0</td>\n",
       "    </tr>\n",
       "    <tr>\n",
       "      <th>3</th>\n",
       "      <td>Bronx</td>\n",
       "      <td>Fieldston</td>\n",
       "      <td>-73.905643</td>\n",
       "      <td>40.895437</td>\n",
       "      <td>9287.0</td>\n",
       "      <td>9</td>\n",
       "      <td>297</td>\n",
       "      <td>4.4</td>\n",
       "      <td>1</td>\n",
       "      <td>N</td>\n",
       "      <td>0</td>\n",
       "    </tr>\n",
       "    <tr>\n",
       "      <th>4</th>\n",
       "      <td>Bronx</td>\n",
       "      <td>Riverdale</td>\n",
       "      <td>-73.912585</td>\n",
       "      <td>40.890834</td>\n",
       "      <td>9287.0</td>\n",
       "      <td>14</td>\n",
       "      <td>319</td>\n",
       "      <td>4.0</td>\n",
       "      <td>2</td>\n",
       "      <td>burgers</td>\n",
       "      <td>0</td>\n",
       "    </tr>\n",
       "  </tbody>\n",
       "</table>\n",
       "</div>"
      ],
      "text/plain": [
       "  borough neighborhood  longitude   latitude  population  \\\n",
       "0   Bronx    Wakefield -73.847201  40.894705     21242.0   \n",
       "1   Bronx   Co-op City -73.829939  40.874294     43752.0   \n",
       "2   Bronx  Eastchester -73.827806  40.887556     11506.0   \n",
       "3   Bronx    Fieldston -73.905643  40.895437      9287.0   \n",
       "4   Bronx    Riverdale -73.912585  40.890834      9287.0   \n",
       "\n",
       "   number_of_restaurants  average_review_count  average_restaurant_rating  \\\n",
       "0                     13                   169                        4.0   \n",
       "1                     12                   771                        4.0   \n",
       "2                     19                   532                        4.1   \n",
       "3                      9                   297                        4.4   \n",
       "4                     14                   319                        4.0   \n",
       "\n",
       "   average_price_level yelp_category  borough_encode  \n",
       "0                    1     caribbean               0  \n",
       "1                    2         delis               0  \n",
       "2                    1     caribbean               0  \n",
       "3                    1             N               0  \n",
       "4                    2       burgers               0  "
      ]
     },
     "execution_count": 22,
     "metadata": {},
     "output_type": "execute_result"
    }
   ],
   "source": [
    "data1 = data.copy()\n",
    "data1['borough_encode'] = data1['borough']\n",
    "data1 = data1.replace({'borough_encode': {'Bronx': 0, 'Manhattan': 1, 'Brooklyn': 2, 'Queens': 3, 'Staten Island': 4}})\n",
    "data1.head()"
   ]
  },
  {
   "cell_type": "code",
   "execution_count": 67,
   "metadata": {},
   "outputs": [],
   "source": [
    "data_numeric = data1[['borough_encode', 'population','number_of_restaurants', 'average_review_count', 'average_restaurant_rating', 'average_price_level']]"
   ]
  },
  {
   "cell_type": "code",
   "execution_count": 68,
   "metadata": {},
   "outputs": [],
   "source": [
    "from sklearn.preprocessing import StandardScaler\n",
    "scaler = StandardScaler()\n",
    "data_scaled = scaler.fit_transform(data_numeric)"
   ]
  },
  {
   "cell_type": "code",
   "execution_count": 69,
   "metadata": {},
   "outputs": [],
   "source": [
    "def plot_distortion(X,max_clusters = 10):\n",
    "    distortions = []\n",
    "    for i in range(1, max_clusters +1):\n",
    "        km = KMeans(n_clusters=i,\n",
    "                    init='k-means++',\n",
    "                    n_init=10,\n",
    "                    random_state=0)\n",
    "        km.fit(X)\n",
    "        distortions.append(km.inertia_)\n",
    "\n",
    "    plt.plot(range(1,max_clusters +1), distortions, marker='o')\n",
    "    plt.xlabel('Number of clusters')\n",
    "    plt.ylabel('Distortion')\n",
    "    plt.show() "
   ]
  },
  {
   "cell_type": "code",
   "execution_count": 70,
   "metadata": {},
   "outputs": [
    {
     "data": {
      "image/png": "[encoded data removed]",
      "text/plain": [
       "<Figure size 432x288 with 1 Axes>"
      ]
     },
     "metadata": {
      "needs_background": "light"
     },
     "output_type": "display_data"
    }
   ],
   "source": [
    "plot_distortion(data_scaled)"
   ]
  },
  {
   "cell_type": "code",
   "execution_count": 79,
   "metadata": {},
   "outputs": [],
   "source": [
    "km = KMeans(n_clusters=3,\n",
    "            n_init=10, \n",
    "            random_state=0)"
   ]
  },
  {
   "cell_type": "code",
   "execution_count": 80,
   "metadata": {},
   "outputs": [],
   "source": [
    "y_km = km.fit_predict(data_scaled)"
   ]
  },
  {
   "cell_type": "code",
   "execution_count": 81,
   "metadata": {},
   "outputs": [],
   "source": [
    "def plot_clusters(X,y_res, plt_cluster_centers = False):\n",
    "    X_centroids = []\n",
    "    Y_centroids = []\n",
    "\n",
    "    for cluster in set(y_res):\n",
    "        x = X[y_res == cluster,0]\n",
    "        y = X[y_res == cluster,1]\n",
    "        X_centroids.append(np.mean(x))\n",
    "        Y_centroids.append(np.mean(y))\n",
    "\n",
    "        plt.scatter(x,\n",
    "                    y,\n",
    "                    s=50,\n",
    "                    marker='s',\n",
    "                    label=f'cluster {cluster}')\n",
    "\n",
    "    if plt_cluster_centers:\n",
    "        plt.scatter(X_centroids,\n",
    "                    Y_centroids,\n",
    "                    marker='*',\n",
    "                    c='red',\n",
    "                    s=250,\n",
    "                    label='centroids')\n",
    "    plt.legend()\n",
    "    plt.grid()\n",
    "    plt.show()"
   ]
  },
  {
   "cell_type": "code",
   "execution_count": 82,
   "metadata": {},
   "outputs": [
    {
     "data": {
      "image/png": "[encoded data removed]",
      "text/plain": [
       "<Figure size 432x288 with 1 Axes>"
      ]
     },
     "metadata": {
      "needs_background": "light"
     },
     "output_type": "display_data"
    }
   ],
   "source": [
    "plot_clusters(np.array(data_numeric), y_km, plt_cluster_centers= True)"
   ]
  },
  {
   "cell_type": "markdown",
   "metadata": {},
   "source": [
    "## Method 2"
   ]
  },
  {
   "cell_type": "code",
   "execution_count": 31,
   "metadata": {},
   "outputs": [
    {
     "data": {
      "text/html": [
       "<div>\n",
       "<style scoped>\n",
       "    .dataframe tbody tr th:only-of-type {\n",
       "        vertical-align: middle;\n",
       "    }\n",
       "\n",
       "    .dataframe tbody tr th {\n",
       "        vertical-align: top;\n",
       "    }\n",
       "\n",
       "    .dataframe thead th {\n",
       "        text-align: right;\n",
       "    }\n",
       "</style>\n",
       "<table border=\"1\" class=\"dataframe\">\n",
       "  <thead>\n",
       "    <tr style=\"text-align: right;\">\n",
       "      <th></th>\n",
       "      <th>borough</th>\n",
       "      <th>neighborhood</th>\n",
       "      <th>longitude</th>\n",
       "      <th>latitude</th>\n",
       "      <th>population</th>\n",
       "      <th>number_of_restaurants</th>\n",
       "      <th>average_review_count</th>\n",
       "      <th>average_restaurant_rating</th>\n",
       "      <th>average_price_level</th>\n",
       "      <th>yelp_category</th>\n",
       "    </tr>\n",
       "  </thead>\n",
       "  <tbody>\n",
       "    <tr>\n",
       "      <th>0</th>\n",
       "      <td>Bronx</td>\n",
       "      <td>Wakefield</td>\n",
       "      <td>-73.847201</td>\n",
       "      <td>40.894705</td>\n",
       "      <td>21242.0</td>\n",
       "      <td>13</td>\n",
       "      <td>169</td>\n",
       "      <td>4.0</td>\n",
       "      <td>1</td>\n",
       "      <td>caribbean</td>\n",
       "    </tr>\n",
       "    <tr>\n",
       "      <th>1</th>\n",
       "      <td>Bronx</td>\n",
       "      <td>Co-op City</td>\n",
       "      <td>-73.829939</td>\n",
       "      <td>40.874294</td>\n",
       "      <td>43752.0</td>\n",
       "      <td>12</td>\n",
       "      <td>771</td>\n",
       "      <td>4.0</td>\n",
       "      <td>2</td>\n",
       "      <td>delis</td>\n",
       "    </tr>\n",
       "    <tr>\n",
       "      <th>2</th>\n",
       "      <td>Bronx</td>\n",
       "      <td>Eastchester</td>\n",
       "      <td>-73.827806</td>\n",
       "      <td>40.887556</td>\n",
       "      <td>11506.0</td>\n",
       "      <td>19</td>\n",
       "      <td>532</td>\n",
       "      <td>4.1</td>\n",
       "      <td>1</td>\n",
       "      <td>caribbean</td>\n",
       "    </tr>\n",
       "    <tr>\n",
       "      <th>3</th>\n",
       "      <td>Bronx</td>\n",
       "      <td>Fieldston</td>\n",
       "      <td>-73.905643</td>\n",
       "      <td>40.895437</td>\n",
       "      <td>9287.0</td>\n",
       "      <td>9</td>\n",
       "      <td>297</td>\n",
       "      <td>4.4</td>\n",
       "      <td>1</td>\n",
       "      <td>N</td>\n",
       "    </tr>\n",
       "    <tr>\n",
       "      <th>4</th>\n",
       "      <td>Bronx</td>\n",
       "      <td>Riverdale</td>\n",
       "      <td>-73.912585</td>\n",
       "      <td>40.890834</td>\n",
       "      <td>9287.0</td>\n",
       "      <td>14</td>\n",
       "      <td>319</td>\n",
       "      <td>4.0</td>\n",
       "      <td>2</td>\n",
       "      <td>burgers</td>\n",
       "    </tr>\n",
       "  </tbody>\n",
       "</table>\n",
       "</div>"
      ],
      "text/plain": [
       "  borough neighborhood  longitude   latitude  population  \\\n",
       "0   Bronx    Wakefield -73.847201  40.894705     21242.0   \n",
       "1   Bronx   Co-op City -73.829939  40.874294     43752.0   \n",
       "2   Bronx  Eastchester -73.827806  40.887556     11506.0   \n",
       "3   Bronx    Fieldston -73.905643  40.895437      9287.0   \n",
       "4   Bronx    Riverdale -73.912585  40.890834      9287.0   \n",
       "\n",
       "   number_of_restaurants  average_review_count  average_restaurant_rating  \\\n",
       "0                     13                   169                        4.0   \n",
       "1                     12                   771                        4.0   \n",
       "2                     19                   532                        4.1   \n",
       "3                      9                   297                        4.4   \n",
       "4                     14                   319                        4.0   \n",
       "\n",
       "   average_price_level yelp_category  \n",
       "0                    1     caribbean  \n",
       "1                    2         delis  \n",
       "2                    1     caribbean  \n",
       "3                    1             N  \n",
       "4                    2       burgers  "
      ]
     },
     "execution_count": 31,
     "metadata": {},
     "output_type": "execute_result"
    }
   ],
   "source": [
    "data.head()"
   ]
  },
  {
   "cell_type": "code",
   "execution_count": 33,
   "metadata": {},
   "outputs": [],
   "source": [
    "categorical_features_idx = [0, 1,9]\n",
    "mark_array = data.values"
   ]
  },
  {
   "cell_type": "code",
   "execution_count": 34,
   "metadata": {},
   "outputs": [
    {
     "name": "stdout",
     "output_type": "stream",
     "text": [
      "Initialization method and algorithm are deterministic. Setting n_init to 1.\n",
      "Init: initializing centroids\n",
      "Init: initializing clusters\n",
      "Starting iterations...\n",
      "Run: 1, iteration: 1/20, moves: 30, ncost: 13713119625.66567\n",
      "Run: 1, iteration: 2/20, moves: 22, ncost: 12518300190.589506\n",
      "Run: 1, iteration: 3/20, moves: 10, ncost: 12204056005.387575\n",
      "Run: 1, iteration: 4/20, moves: 2, ncost: 12179089914.761066\n",
      "Run: 1, iteration: 5/20, moves: 0, ncost: 12179089914.761066\n",
      "Init: initializing centroids\n",
      "Init: initializing clusters\n",
      "Init: initializing centroids\n",
      "Init: initializing clusters\n",
      "Starting iterations...\n",
      "Run: 2, iteration: 1/20, moves: 74, ncost: 21512612794.893528\n",
      "Run: 2, iteration: 2/20, moves: 43, ncost: 17073157829.199612\n",
      "Run: 2, iteration: 3/20, moves: 32, ncost: 14334211771.031137\n",
      "Run: 2, iteration: 4/20, moves: 22, ncost: 13568167078.231462\n",
      "Run: 2, iteration: 5/20, moves: 11, ncost: 13447347767.474516\n",
      "Run: 2, iteration: 6/20, moves: 7, ncost: 13389767133.78673\n",
      "Run: 2, iteration: 7/20, moves: 9, ncost: 13264967276.635145\n",
      "Run: 2, iteration: 8/20, moves: 5, ncost: 12674541448.118757\n",
      "Run: 2, iteration: 9/20, moves: 7, ncost: 12279961537.968016\n",
      "Run: 2, iteration: 10/20, moves: 4, ncost: 12202934641.416101\n",
      "Run: 2, iteration: 11/20, moves: 0, ncost: 12202934641.416101\n",
      "Init: initializing centroids\n",
      "Init: initializing clusters\n",
      "Init: initializing centroids\n",
      "Init: initializing clusters\n",
      "Starting iterations...\n",
      "Run: 3, iteration: 1/20, moves: 71, ncost: 21002225761.102913\n",
      "Run: 3, iteration: 2/20, moves: 31, ncost: 17983494226.391647\n",
      "Run: 3, iteration: 3/20, moves: 28, ncost: 16226562847.70406\n",
      "Run: 3, iteration: 4/20, moves: 49, ncost: 14291274354.876217\n",
      "Run: 3, iteration: 5/20, moves: 15, ncost: 13778698595.889582\n",
      "Run: 3, iteration: 6/20, moves: 10, ncost: 13568167078.231462\n",
      "Run: 3, iteration: 7/20, moves: 11, ncost: 13447347767.474516\n",
      "Run: 3, iteration: 8/20, moves: 7, ncost: 13389767133.78673\n",
      "Run: 3, iteration: 9/20, moves: 9, ncost: 13264967276.635145\n",
      "Run: 3, iteration: 10/20, moves: 5, ncost: 12674541448.118757\n",
      "Run: 3, iteration: 11/20, moves: 7, ncost: 12279961537.968016\n",
      "Run: 3, iteration: 12/20, moves: 4, ncost: 12202934641.416101\n",
      "Run: 3, iteration: 13/20, moves: 0, ncost: 12202934641.416101\n",
      "Init: initializing centroids\n",
      "Init: initializing clusters\n",
      "Init: initializing centroids\n",
      "Init: initializing clusters\n",
      "Starting iterations...\n",
      "Run: 4, iteration: 1/20, moves: 114, ncost: 48809986612.61124\n",
      "Run: 4, iteration: 2/20, moves: 89, ncost: 27797481050.991245\n",
      "Run: 4, iteration: 3/20, moves: 41, ncost: 21741979740.706394\n",
      "Run: 4, iteration: 4/20, moves: 24, ncost: 19484500421.12716\n",
      "Run: 4, iteration: 5/20, moves: 19, ncost: 18156356593.182674\n",
      "Run: 4, iteration: 6/20, moves: 17, ncost: 17293390963.408413\n",
      "Run: 4, iteration: 7/20, moves: 30, ncost: 16232678760.123451\n",
      "Run: 4, iteration: 8/20, moves: 37, ncost: 14892940823.469254\n",
      "Run: 4, iteration: 9/20, moves: 35, ncost: 14040978795.058434\n",
      "Run: 4, iteration: 10/20, moves: 19, ncost: 13568167078.231462\n",
      "Run: 4, iteration: 11/20, moves: 11, ncost: 13447347767.474516\n",
      "Run: 4, iteration: 12/20, moves: 7, ncost: 13389767133.78673\n",
      "Run: 4, iteration: 13/20, moves: 9, ncost: 13264967276.635145\n",
      "Run: 4, iteration: 14/20, moves: 5, ncost: 12674541448.118757\n",
      "Run: 4, iteration: 15/20, moves: 7, ncost: 12279961537.968016\n",
      "Run: 4, iteration: 16/20, moves: 4, ncost: 12202934641.416101\n",
      "Run: 4, iteration: 17/20, moves: 0, ncost: 12202934641.416101\n",
      "Init: initializing centroids\n",
      "Init: initializing clusters\n",
      "Starting iterations...\n",
      "Run: 5, iteration: 1/20, moves: 75, ncost: 31421339638.692318\n",
      "Run: 5, iteration: 2/20, moves: 39, ncost: 23329951440.163208\n",
      "Run: 5, iteration: 3/20, moves: 32, ncost: 19690332655.394123\n",
      "Run: 5, iteration: 4/20, moves: 26, ncost: 18420254991.517635\n",
      "Run: 5, iteration: 5/20, moves: 24, ncost: 17358225948.7684\n",
      "Run: 5, iteration: 6/20, moves: 31, ncost: 16373154203.05845\n",
      "Run: 5, iteration: 7/20, moves: 46, ncost: 14892940823.469254\n",
      "Run: 5, iteration: 8/20, moves: 35, ncost: 14040978795.058434\n",
      "Run: 5, iteration: 9/20, moves: 19, ncost: 13568167078.231462\n",
      "Run: 5, iteration: 10/20, moves: 11, ncost: 13447347767.474516\n",
      "Run: 5, iteration: 11/20, moves: 7, ncost: 13389767133.78673\n",
      "Run: 5, iteration: 12/20, moves: 9, ncost: 13264967276.635145\n",
      "Run: 5, iteration: 13/20, moves: 5, ncost: 12674541448.118757\n",
      "Run: 5, iteration: 14/20, moves: 7, ncost: 12279961537.968016\n",
      "Run: 5, iteration: 15/20, moves: 4, ncost: 12202934641.416101\n",
      "Run: 5, iteration: 16/20, moves: 0, ncost: 12202934641.416101\n",
      "Init: initializing centroids\n",
      "Init: initializing clusters\n",
      "Init: initializing centroids\n",
      "Init: initializing clusters\n",
      "Starting iterations...\n",
      "Run: 6, iteration: 1/20, moves: 63, ncost: 16396155170.393024\n",
      "Run: 6, iteration: 2/20, moves: 42, ncost: 12481225275.878727\n",
      "Run: 6, iteration: 3/20, moves: 13, ncost: 12174047585.401026\n",
      "Run: 6, iteration: 4/20, moves: 3, ncost: 12158074696.637379\n",
      "Run: 6, iteration: 5/20, moves: 0, ncost: 12158074696.637379\n",
      "Init: initializing centroids\n",
      "Init: initializing clusters\n",
      "Starting iterations...\n",
      "Run: 7, iteration: 1/20, moves: 95, ncost: 33338386044.22115\n",
      "Run: 7, iteration: 2/20, moves: 60, ncost: 24543734932.817688\n",
      "Run: 7, iteration: 3/20, moves: 41, ncost: 19936652533.39984\n",
      "Run: 7, iteration: 4/20, moves: 23, ncost: 18726163096.65453\n",
      "Run: 7, iteration: 5/20, moves: 32, ncost: 17513056042.351215\n",
      "Run: 7, iteration: 6/20, moves: 18, ncost: 17276610180.59611\n",
      "Run: 7, iteration: 7/20, moves: 30, ncost: 16329241453.828413\n",
      "Run: 7, iteration: 8/20, moves: 41, ncost: 14892940823.469254\n",
      "Run: 7, iteration: 9/20, moves: 35, ncost: 14040978795.058434\n",
      "Run: 7, iteration: 10/20, moves: 19, ncost: 13568167078.231462\n",
      "Run: 7, iteration: 11/20, moves: 11, ncost: 13447347767.474516\n",
      "Run: 7, iteration: 12/20, moves: 7, ncost: 13389767133.78673\n",
      "Run: 7, iteration: 13/20, moves: 9, ncost: 13264967276.635145\n",
      "Run: 7, iteration: 14/20, moves: 5, ncost: 12674541448.118757\n",
      "Run: 7, iteration: 15/20, moves: 7, ncost: 12279961537.968016\n",
      "Run: 7, iteration: 16/20, moves: 4, ncost: 12202934641.416101\n",
      "Run: 7, iteration: 17/20, moves: 0, ncost: 12202934641.416101\n",
      "Init: initializing centroids\n",
      "Init: initializing clusters\n",
      "Init: initializing centroids\n",
      "Init: initializing clusters\n",
      "Starting iterations...\n",
      "Run: 8, iteration: 1/20, moves: 105, ncost: 20767064747.112045\n",
      "Run: 8, iteration: 2/20, moves: 37, ncost: 17035894980.631964\n",
      "Run: 8, iteration: 3/20, moves: 32, ncost: 14325172191.977894\n",
      "Run: 8, iteration: 4/20, moves: 21, ncost: 13568167078.231459\n",
      "Run: 8, iteration: 5/20, moves: 11, ncost: 13447340682.13453\n",
      "Run: 8, iteration: 6/20, moves: 7, ncost: 13389767133.78673\n",
      "Run: 8, iteration: 7/20, moves: 9, ncost: 13264967276.635145\n",
      "Run: 8, iteration: 8/20, moves: 5, ncost: 12674541448.118757\n",
      "Run: 8, iteration: 9/20, moves: 7, ncost: 12279961537.968016\n",
      "Run: 8, iteration: 10/20, moves: 4, ncost: 12202934641.416101\n",
      "Run: 8, iteration: 11/20, moves: 0, ncost: 12202934641.416101\n",
      "Init: initializing centroids\n",
      "Init: initializing clusters\n",
      "Starting iterations...\n",
      "Run: 9, iteration: 1/20, moves: 102, ncost: 16547399019.73367\n",
      "Run: 9, iteration: 2/20, moves: 56, ncost: 13824448111.190619\n",
      "Run: 9, iteration: 3/20, moves: 14, ncost: 13568167078.231462\n",
      "Run: 9, iteration: 4/20, moves: 11, ncost: 13447347767.474516\n",
      "Run: 9, iteration: 5/20, moves: 7, ncost: 13389767133.78673\n",
      "Run: 9, iteration: 6/20, moves: 9, ncost: 13264967276.635145\n",
      "Run: 9, iteration: 7/20, moves: 5, ncost: 12674541448.118757\n",
      "Run: 9, iteration: 8/20, moves: 7, ncost: 12279961537.968016\n",
      "Run: 9, iteration: 9/20, moves: 4, ncost: 12202934641.416101\n",
      "Run: 9, iteration: 10/20, moves: 0, ncost: 12202934641.416101\n",
      "Init: initializing centroids\n",
      "Init: initializing clusters\n",
      "Starting iterations...\n",
      "Run: 10, iteration: 1/20, moves: 88, ncost: 22678544122.16986\n",
      "Run: 10, iteration: 2/20, moves: 27, ncost: 19071705185.686836\n",
      "Run: 10, iteration: 3/20, moves: 19, ncost: 17480953356.782158\n",
      "Run: 10, iteration: 4/20, moves: 22, ncost: 16591189758.78668\n",
      "Run: 10, iteration: 5/20, moves: 40, ncost: 15046929236.925549\n",
      "Run: 10, iteration: 6/20, moves: 38, ncost: 14040978795.058434\n",
      "Run: 10, iteration: 7/20, moves: 19, ncost: 13568167078.231462\n",
      "Run: 10, iteration: 8/20, moves: 11, ncost: 13447347767.474516\n",
      "Run: 10, iteration: 9/20, moves: 7, ncost: 13389767133.78673\n",
      "Run: 10, iteration: 10/20, moves: 9, ncost: 13264967276.635145\n",
      "Run: 10, iteration: 11/20, moves: 5, ncost: 12674541448.118757\n",
      "Run: 10, iteration: 12/20, moves: 7, ncost: 12279961537.968016\n",
      "Run: 10, iteration: 13/20, moves: 4, ncost: 12202934641.416101\n",
      "Run: 10, iteration: 14/20, moves: 0, ncost: 12202934641.416101\n",
      "Best run was number 6\n"
     ]
    },
    {
     "data": {
      "text/html": [
       "<style>#sk-container-id-1 {color: black;background-color: white;}#sk-container-id-1 pre{padding: 0;}#sk-container-id-1 div.sk-toggleable {background-color: white;}#sk-container-id-1 label.sk-toggleable__label {cursor: pointer;display: block;width: 100%;margin-bottom: 0;padding: 0.3em;box-sizing: border-box;text-align: center;}#sk-container-id-1 label.sk-toggleable__label-arrow:before {content: \"▸\";float: left;margin-right: 0.25em;color: #696969;}#sk-container-id-1 label.sk-toggleable__label-arrow:hover:before {color: black;}#sk-container-id-1 div.sk-estimator:hover label.sk-toggleable__label-arrow:before {color: black;}#sk-container-id-1 div.sk-toggleable__content {max-height: 0;max-width: 0;overflow: hidden;text-align: left;background-color: #f0f8ff;}#sk-container-id-1 div.sk-toggleable__content pre {margin: 0.2em;color: black;border-radius: 0.25em;background-color: #f0f8ff;}#sk-container-id-1 input.sk-toggleable__control:checked~div.sk-toggleable__content {max-height: 200px;max-width: 100%;overflow: auto;}#sk-container-id-1 input.sk-toggleable__control:checked~label.sk-toggleable__label-arrow:before {content: \"▾\";}#sk-container-id-1 div.sk-estimator input.sk-toggleable__control:checked~label.sk-toggleable__label {background-color: #d4ebff;}#sk-container-id-1 div.sk-label input.sk-toggleable__control:checked~label.sk-toggleable__label {background-color: #d4ebff;}#sk-container-id-1 input.sk-hidden--visually {border: 0;clip: rect(1px 1px 1px 1px);clip: rect(1px, 1px, 1px, 1px);height: 1px;margin: -1px;overflow: hidden;padding: 0;position: absolute;width: 1px;}#sk-container-id-1 div.sk-estimator {font-family: monospace;background-color: #f0f8ff;border: 1px dotted black;border-radius: 0.25em;box-sizing: border-box;margin-bottom: 0.5em;}#sk-container-id-1 div.sk-estimator:hover {background-color: #d4ebff;}#sk-container-id-1 div.sk-parallel-item::after {content: \"\";width: 100%;border-bottom: 1px solid gray;flex-grow: 1;}#sk-container-id-1 div.sk-label:hover label.sk-toggleable__label {background-color: #d4ebff;}#sk-container-id-1 div.sk-serial::before {content: \"\";position: absolute;border-left: 1px solid gray;box-sizing: border-box;top: 0;bottom: 0;left: 50%;z-index: 0;}#sk-container-id-1 div.sk-serial {display: flex;flex-direction: column;align-items: center;background-color: white;padding-right: 0.2em;padding-left: 0.2em;position: relative;}#sk-container-id-1 div.sk-item {position: relative;z-index: 1;}#sk-container-id-1 div.sk-parallel {display: flex;align-items: stretch;justify-content: center;background-color: white;position: relative;}#sk-container-id-1 div.sk-item::before, #sk-container-id-1 div.sk-parallel-item::before {content: \"\";position: absolute;border-left: 1px solid gray;box-sizing: border-box;top: 0;bottom: 0;left: 50%;z-index: -1;}#sk-container-id-1 div.sk-parallel-item {display: flex;flex-direction: column;z-index: 1;position: relative;background-color: white;}#sk-container-id-1 div.sk-parallel-item:first-child::after {align-self: flex-end;width: 50%;}#sk-container-id-1 div.sk-parallel-item:last-child::after {align-self: flex-start;width: 50%;}#sk-container-id-1 div.sk-parallel-item:only-child::after {width: 0;}#sk-container-id-1 div.sk-dashed-wrapped {border: 1px dashed gray;margin: 0 0.4em 0.5em 0.4em;box-sizing: border-box;padding-bottom: 0.4em;background-color: white;}#sk-container-id-1 div.sk-label label {font-family: monospace;font-weight: bold;display: inline-block;line-height: 1.2em;}#sk-container-id-1 div.sk-label-container {text-align: center;}#sk-container-id-1 div.sk-container {/* jupyter's `normalize.less` sets `[hidden] { display: none; }` but bootstrap.min.css set `[hidden] { display: none !important; }` so we also need the `!important` here to be able to override the default hidden behavior on the sphinx rendered scikit-learn.org. See: https://github.com/scikit-learn/scikit-learn/issues/21755 */display: inline-block !important;position: relative;}#sk-container-id-1 div.sk-text-repr-fallback {display: none;}</style><div id=\"sk-container-id-1\" class=\"sk-top-container\"><div class=\"sk-text-repr-fallback\"><pre>KPrototypes(gamma=7085.339987306333, max_iter=20, n_clusters=5, verbose=2)</pre><b>In a Jupyter environment, please rerun this cell to show the HTML representation or trust the notebook. <br />On GitHub, the HTML representation is unable to render, please try loading this page with nbviewer.org.</b></div><div class=\"sk-container\" hidden><div class=\"sk-item\"><div class=\"sk-estimator sk-toggleable\"><input class=\"sk-toggleable__control sk-hidden--visually\" id=\"sk-estimator-id-1\" type=\"checkbox\" checked><label for=\"sk-estimator-id-1\" class=\"sk-toggleable__label sk-toggleable__label-arrow\">KPrototypes</label><div class=\"sk-toggleable__content\"><pre>KPrototypes(gamma=7085.339987306333, max_iter=20, n_clusters=5, verbose=2)</pre></div></div></div></div></div>"
      ],
      "text/plain": [
       "KPrototypes(gamma=7085.339987306333, max_iter=20, n_clusters=5, verbose=2)"
      ]
     },
     "execution_count": 34,
     "metadata": {},
     "output_type": "execute_result"
    }
   ],
   "source": [
    "from kmodes.kprototypes import KPrototypes\n",
    "\n",
    "kproto = KPrototypes(n_clusters=5, verbose=2, max_iter=20)\n",
    "kproto.fit(mark_array, categorical=categorical_features_idx)"
   ]
  },
  {
   "cell_type": "code",
   "execution_count": 35,
   "metadata": {},
   "outputs": [
    {
     "name": "stdout",
     "output_type": "stream",
     "text": [
      "[['-73.91338121151313' '40.716488764828185' '73628.5'\n",
      "  '21.666666666666668' '464.94444444444446' '4.122222222222224'\n",
      "  '1.7222222222222223' 'Queens' 'Bay Ridge' 'breakfast_brunch']\n",
      " ['-73.98561249280091' '40.667739710086394' '9286.791366906475'\n",
      "  '13.122302158273381' '382.1294964028777' '3.9525179856115042'\n",
      "  '1.6474820143884892' 'Staten Island' 'Bay Terrace' 'pizza']\n",
      " ['-73.94004214015266' '40.72329105244215' '122245.61538461539' '26.0'\n",
      "  '418.84615384615387' '4.199999999999997' '1.7692307692307692'\n",
      "  'Brooklyn' 'Bensonhurst' 'mexican']\n",
      " ['-73.91296731439654' '40.72869656786795' '44426.104166666664'\n",
      "  '20.979166666666668' '454.2083333333333' '4.035416666666667'\n",
      "  '1.6458333333333333' 'Queens' 'Murray Hill' 'caribbean']\n",
      " ['-73.9098841756312' '40.733226898019836' '24824.94318181818'\n",
      "  '18.636363636363637' '413.45454545454544' '4.096590909090907'\n",
      "  '1.5340909090909092' 'Brooklyn' 'Bath Beach' 'italian']]\n"
     ]
    }
   ],
   "source": [
    "# Cluster Centroids\n",
    "print(kproto.cluster_centroids_)"
   ]
  },
  {
   "cell_type": "code",
   "execution_count": 38,
   "metadata": {},
   "outputs": [],
   "source": [
    "# Prediction\n",
    "clusters = kproto.predict(mark_array, categorical=categorical_features_idx)"
   ]
  },
  {
   "cell_type": "code",
   "execution_count": 40,
   "metadata": {},
   "outputs": [],
   "source": [
    "data1['cluster'] = list(clusters)"
   ]
  },
  {
   "cell_type": "code",
   "execution_count": 42,
   "metadata": {},
   "outputs": [
    {
     "data": {
      "text/html": [
       "<div>\n",
       "<style scoped>\n",
       "    .dataframe tbody tr th:only-of-type {\n",
       "        vertical-align: middle;\n",
       "    }\n",
       "\n",
       "    .dataframe tbody tr th {\n",
       "        vertical-align: top;\n",
       "    }\n",
       "\n",
       "    .dataframe thead th {\n",
       "        text-align: right;\n",
       "    }\n",
       "</style>\n",
       "<table border=\"1\" class=\"dataframe\">\n",
       "  <thead>\n",
       "    <tr style=\"text-align: right;\">\n",
       "      <th></th>\n",
       "      <th>borough</th>\n",
       "      <th>neighborhood</th>\n",
       "      <th>longitude</th>\n",
       "      <th>latitude</th>\n",
       "      <th>population</th>\n",
       "      <th>number_of_restaurants</th>\n",
       "      <th>average_review_count</th>\n",
       "      <th>average_restaurant_rating</th>\n",
       "      <th>average_price_level</th>\n",
       "      <th>yelp_category</th>\n",
       "      <th>borough_encode</th>\n",
       "      <th>cluster</th>\n",
       "    </tr>\n",
       "  </thead>\n",
       "  <tbody>\n",
       "    <tr>\n",
       "      <th>0</th>\n",
       "      <td>Bronx</td>\n",
       "      <td>Wakefield</td>\n",
       "      <td>-73.847201</td>\n",
       "      <td>40.894705</td>\n",
       "      <td>21242.0</td>\n",
       "      <td>13</td>\n",
       "      <td>169</td>\n",
       "      <td>4.0</td>\n",
       "      <td>1</td>\n",
       "      <td>caribbean</td>\n",
       "      <td>0</td>\n",
       "      <td>4</td>\n",
       "    </tr>\n",
       "    <tr>\n",
       "      <th>1</th>\n",
       "      <td>Bronx</td>\n",
       "      <td>Co-op City</td>\n",
       "      <td>-73.829939</td>\n",
       "      <td>40.874294</td>\n",
       "      <td>43752.0</td>\n",
       "      <td>12</td>\n",
       "      <td>771</td>\n",
       "      <td>4.0</td>\n",
       "      <td>2</td>\n",
       "      <td>delis</td>\n",
       "      <td>0</td>\n",
       "      <td>3</td>\n",
       "    </tr>\n",
       "    <tr>\n",
       "      <th>2</th>\n",
       "      <td>Bronx</td>\n",
       "      <td>Eastchester</td>\n",
       "      <td>-73.827806</td>\n",
       "      <td>40.887556</td>\n",
       "      <td>11506.0</td>\n",
       "      <td>19</td>\n",
       "      <td>532</td>\n",
       "      <td>4.1</td>\n",
       "      <td>1</td>\n",
       "      <td>caribbean</td>\n",
       "      <td>0</td>\n",
       "      <td>1</td>\n",
       "    </tr>\n",
       "    <tr>\n",
       "      <th>3</th>\n",
       "      <td>Bronx</td>\n",
       "      <td>Fieldston</td>\n",
       "      <td>-73.905643</td>\n",
       "      <td>40.895437</td>\n",
       "      <td>9287.0</td>\n",
       "      <td>9</td>\n",
       "      <td>297</td>\n",
       "      <td>4.4</td>\n",
       "      <td>1</td>\n",
       "      <td>N</td>\n",
       "      <td>0</td>\n",
       "      <td>1</td>\n",
       "    </tr>\n",
       "    <tr>\n",
       "      <th>4</th>\n",
       "      <td>Bronx</td>\n",
       "      <td>Riverdale</td>\n",
       "      <td>-73.912585</td>\n",
       "      <td>40.890834</td>\n",
       "      <td>9287.0</td>\n",
       "      <td>14</td>\n",
       "      <td>319</td>\n",
       "      <td>4.0</td>\n",
       "      <td>2</td>\n",
       "      <td>burgers</td>\n",
       "      <td>0</td>\n",
       "      <td>1</td>\n",
       "    </tr>\n",
       "  </tbody>\n",
       "</table>\n",
       "</div>"
      ],
      "text/plain": [
       "  borough neighborhood  longitude   latitude  population  \\\n",
       "0   Bronx    Wakefield -73.847201  40.894705     21242.0   \n",
       "1   Bronx   Co-op City -73.829939  40.874294     43752.0   \n",
       "2   Bronx  Eastchester -73.827806  40.887556     11506.0   \n",
       "3   Bronx    Fieldston -73.905643  40.895437      9287.0   \n",
       "4   Bronx    Riverdale -73.912585  40.890834      9287.0   \n",
       "\n",
       "   number_of_restaurants  average_review_count  average_restaurant_rating  \\\n",
       "0                     13                   169                        4.0   \n",
       "1                     12                   771                        4.0   \n",
       "2                     19                   532                        4.1   \n",
       "3                      9                   297                        4.4   \n",
       "4                     14                   319                        4.0   \n",
       "\n",
       "   average_price_level yelp_category  borough_encode  cluster  \n",
       "0                    1     caribbean               0        4  \n",
       "1                    2         delis               0        3  \n",
       "2                    1     caribbean               0        1  \n",
       "3                    1             N               0        1  \n",
       "4                    2       burgers               0        1  "
      ]
     },
     "execution_count": 42,
     "metadata": {},
     "output_type": "execute_result"
    }
   ],
   "source": [
    "data1.head()"
   ]
  },
  {
   "cell_type": "markdown",
   "metadata": {},
   "source": [
    "## Method 3"
   ]
  },
  {
   "cell_type": "code",
   "execution_count": 92,
   "metadata": {},
   "outputs": [
    {
     "data": {
      "text/html": [
       "<div>\n",
       "<style scoped>\n",
       "    .dataframe tbody tr th:only-of-type {\n",
       "        vertical-align: middle;\n",
       "    }\n",
       "\n",
       "    .dataframe tbody tr th {\n",
       "        vertical-align: top;\n",
       "    }\n",
       "\n",
       "    .dataframe thead th {\n",
       "        text-align: right;\n",
       "    }\n",
       "</style>\n",
       "<table border=\"1\" class=\"dataframe\">\n",
       "  <thead>\n",
       "    <tr style=\"text-align: right;\">\n",
       "      <th></th>\n",
       "      <th>borough</th>\n",
       "      <th>neighborhood</th>\n",
       "      <th>longitude</th>\n",
       "      <th>latitude</th>\n",
       "      <th>population</th>\n",
       "      <th>number_of_restaurants</th>\n",
       "      <th>average_review_count</th>\n",
       "      <th>average_restaurant_rating</th>\n",
       "      <th>average_price_level</th>\n",
       "      <th>yelp_category</th>\n",
       "    </tr>\n",
       "  </thead>\n",
       "  <tbody>\n",
       "    <tr>\n",
       "      <th>0</th>\n",
       "      <td>Bronx</td>\n",
       "      <td>Wakefield</td>\n",
       "      <td>-73.847201</td>\n",
       "      <td>40.894705</td>\n",
       "      <td>21242.0</td>\n",
       "      <td>13</td>\n",
       "      <td>169</td>\n",
       "      <td>4.0</td>\n",
       "      <td>1</td>\n",
       "      <td>caribbean</td>\n",
       "    </tr>\n",
       "    <tr>\n",
       "      <th>1</th>\n",
       "      <td>Bronx</td>\n",
       "      <td>Co-op City</td>\n",
       "      <td>-73.829939</td>\n",
       "      <td>40.874294</td>\n",
       "      <td>43752.0</td>\n",
       "      <td>12</td>\n",
       "      <td>771</td>\n",
       "      <td>4.0</td>\n",
       "      <td>2</td>\n",
       "      <td>delis</td>\n",
       "    </tr>\n",
       "    <tr>\n",
       "      <th>2</th>\n",
       "      <td>Bronx</td>\n",
       "      <td>Eastchester</td>\n",
       "      <td>-73.827806</td>\n",
       "      <td>40.887556</td>\n",
       "      <td>11506.0</td>\n",
       "      <td>19</td>\n",
       "      <td>532</td>\n",
       "      <td>4.1</td>\n",
       "      <td>1</td>\n",
       "      <td>caribbean</td>\n",
       "    </tr>\n",
       "    <tr>\n",
       "      <th>3</th>\n",
       "      <td>Bronx</td>\n",
       "      <td>Fieldston</td>\n",
       "      <td>-73.905643</td>\n",
       "      <td>40.895437</td>\n",
       "      <td>9287.0</td>\n",
       "      <td>9</td>\n",
       "      <td>297</td>\n",
       "      <td>4.4</td>\n",
       "      <td>1</td>\n",
       "      <td>N</td>\n",
       "    </tr>\n",
       "    <tr>\n",
       "      <th>4</th>\n",
       "      <td>Bronx</td>\n",
       "      <td>Riverdale</td>\n",
       "      <td>-73.912585</td>\n",
       "      <td>40.890834</td>\n",
       "      <td>9287.0</td>\n",
       "      <td>14</td>\n",
       "      <td>319</td>\n",
       "      <td>4.0</td>\n",
       "      <td>2</td>\n",
       "      <td>burgers</td>\n",
       "    </tr>\n",
       "  </tbody>\n",
       "</table>\n",
       "</div>"
      ],
      "text/plain": [
       "  borough neighborhood  longitude   latitude  population  \\\n",
       "0   Bronx    Wakefield -73.847201  40.894705     21242.0   \n",
       "1   Bronx   Co-op City -73.829939  40.874294     43752.0   \n",
       "2   Bronx  Eastchester -73.827806  40.887556     11506.0   \n",
       "3   Bronx    Fieldston -73.905643  40.895437      9287.0   \n",
       "4   Bronx    Riverdale -73.912585  40.890834      9287.0   \n",
       "\n",
       "   number_of_restaurants  average_review_count  average_restaurant_rating  \\\n",
       "0                     13                   169                        4.0   \n",
       "1                     12                   771                        4.0   \n",
       "2                     19                   532                        4.1   \n",
       "3                      9                   297                        4.4   \n",
       "4                     14                   319                        4.0   \n",
       "\n",
       "   average_price_level yelp_category  \n",
       "0                    1     caribbean  \n",
       "1                    2         delis  \n",
       "2                    1     caribbean  \n",
       "3                    1             N  \n",
       "4                    2       burgers  "
      ]
     },
     "execution_count": 92,
     "metadata": {},
     "output_type": "execute_result"
    }
   ],
   "source": [
    "data.head()"
   ]
  },
  {
   "cell_type": "code",
   "execution_count": 94,
   "metadata": {},
   "outputs": [],
   "source": [
    "from sklearn import preprocessing\n",
    "scaler = preprocessing.MinMaxScaler()\n",
    "data2 = data.copy()\n",
    "data2[['population','number_of_restaurants', 'average_review_count', 'average_restaurant_rating', 'average_price_level']] = scaler.fit_transform(data2[['population','number_of_restaurants', 'average_review_count', 'average_restaurant_rating', 'average_price_level']])\n",
    "\n",
    "from kmodes.kprototypes import KPrototypes\n",
    "kproto = KPrototypes(n_clusters=3, init='Cao')\n",
    "clusters = kproto.fit_predict(data2, categorical=[0, 1,9])\n",
    "\n",
    "labels = pd.DataFrame(clusters)\n",
    "labeled = pd.concat((data,labels),axis=1)\n",
    "labeled= labeled.rename({0:'labels'},axis=1)"
   ]
  },
  {
   "cell_type": "code",
   "execution_count": 99,
   "metadata": {},
   "outputs": [
    {
     "data": {
      "text/html": [
       "<div>\n",
       "<style scoped>\n",
       "    .dataframe tbody tr th:only-of-type {\n",
       "        vertical-align: middle;\n",
       "    }\n",
       "\n",
       "    .dataframe tbody tr th {\n",
       "        vertical-align: top;\n",
       "    }\n",
       "\n",
       "    .dataframe thead th {\n",
       "        text-align: right;\n",
       "    }\n",
       "</style>\n",
       "<table border=\"1\" class=\"dataframe\">\n",
       "  <thead>\n",
       "    <tr style=\"text-align: right;\">\n",
       "      <th></th>\n",
       "      <th>borough</th>\n",
       "      <th>neighborhood</th>\n",
       "      <th>longitude</th>\n",
       "      <th>latitude</th>\n",
       "      <th>population</th>\n",
       "      <th>number_of_restaurants</th>\n",
       "      <th>average_review_count</th>\n",
       "      <th>average_restaurant_rating</th>\n",
       "      <th>average_price_level</th>\n",
       "      <th>yelp_category</th>\n",
       "      <th>labels</th>\n",
       "    </tr>\n",
       "  </thead>\n",
       "  <tbody>\n",
       "    <tr>\n",
       "      <th>0</th>\n",
       "      <td>Bronx</td>\n",
       "      <td>Wakefield</td>\n",
       "      <td>-73.847201</td>\n",
       "      <td>40.894705</td>\n",
       "      <td>21242.0</td>\n",
       "      <td>13</td>\n",
       "      <td>169</td>\n",
       "      <td>4.0</td>\n",
       "      <td>1</td>\n",
       "      <td>caribbean</td>\n",
       "      <td>0</td>\n",
       "    </tr>\n",
       "    <tr>\n",
       "      <th>1</th>\n",
       "      <td>Bronx</td>\n",
       "      <td>Co-op City</td>\n",
       "      <td>-73.829939</td>\n",
       "      <td>40.874294</td>\n",
       "      <td>43752.0</td>\n",
       "      <td>12</td>\n",
       "      <td>771</td>\n",
       "      <td>4.0</td>\n",
       "      <td>2</td>\n",
       "      <td>delis</td>\n",
       "      <td>1</td>\n",
       "    </tr>\n",
       "    <tr>\n",
       "      <th>2</th>\n",
       "      <td>Bronx</td>\n",
       "      <td>Eastchester</td>\n",
       "      <td>-73.827806</td>\n",
       "      <td>40.887556</td>\n",
       "      <td>11506.0</td>\n",
       "      <td>19</td>\n",
       "      <td>532</td>\n",
       "      <td>4.1</td>\n",
       "      <td>1</td>\n",
       "      <td>caribbean</td>\n",
       "      <td>0</td>\n",
       "    </tr>\n",
       "    <tr>\n",
       "      <th>3</th>\n",
       "      <td>Bronx</td>\n",
       "      <td>Fieldston</td>\n",
       "      <td>-73.905643</td>\n",
       "      <td>40.895437</td>\n",
       "      <td>9287.0</td>\n",
       "      <td>9</td>\n",
       "      <td>297</td>\n",
       "      <td>4.4</td>\n",
       "      <td>1</td>\n",
       "      <td>N</td>\n",
       "      <td>0</td>\n",
       "    </tr>\n",
       "    <tr>\n",
       "      <th>4</th>\n",
       "      <td>Bronx</td>\n",
       "      <td>Riverdale</td>\n",
       "      <td>-73.912585</td>\n",
       "      <td>40.890834</td>\n",
       "      <td>9287.0</td>\n",
       "      <td>14</td>\n",
       "      <td>319</td>\n",
       "      <td>4.0</td>\n",
       "      <td>2</td>\n",
       "      <td>burgers</td>\n",
       "      <td>0</td>\n",
       "    </tr>\n",
       "    <tr>\n",
       "      <th>...</th>\n",
       "      <td>...</td>\n",
       "      <td>...</td>\n",
       "      <td>...</td>\n",
       "      <td>...</td>\n",
       "      <td>...</td>\n",
       "      <td>...</td>\n",
       "      <td>...</td>\n",
       "      <td>...</td>\n",
       "      <td>...</td>\n",
       "      <td>...</td>\n",
       "      <td>...</td>\n",
       "    </tr>\n",
       "    <tr>\n",
       "      <th>301</th>\n",
       "      <td>Manhattan</td>\n",
       "      <td>Hudson Yards</td>\n",
       "      <td>-74.000111</td>\n",
       "      <td>40.756658</td>\n",
       "      <td>23383.0</td>\n",
       "      <td>20</td>\n",
       "      <td>848</td>\n",
       "      <td>4.3</td>\n",
       "      <td>2</td>\n",
       "      <td>newamerican</td>\n",
       "      <td>1</td>\n",
       "    </tr>\n",
       "    <tr>\n",
       "      <th>302</th>\n",
       "      <td>Queens</td>\n",
       "      <td>Hammels</td>\n",
       "      <td>-73.805530</td>\n",
       "      <td>40.587338</td>\n",
       "      <td>12295.0</td>\n",
       "      <td>17</td>\n",
       "      <td>257</td>\n",
       "      <td>4.3</td>\n",
       "      <td>2</td>\n",
       "      <td>chicken_wings</td>\n",
       "      <td>0</td>\n",
       "    </tr>\n",
       "    <tr>\n",
       "      <th>303</th>\n",
       "      <td>Queens</td>\n",
       "      <td>Bayswater</td>\n",
       "      <td>-73.765968</td>\n",
       "      <td>40.611322</td>\n",
       "      <td>25029.0</td>\n",
       "      <td>0</td>\n",
       "      <td>0</td>\n",
       "      <td>0.0</td>\n",
       "      <td>0</td>\n",
       "      <td>N</td>\n",
       "      <td>0</td>\n",
       "    </tr>\n",
       "    <tr>\n",
       "      <th>304</th>\n",
       "      <td>Queens</td>\n",
       "      <td>Queensbridge</td>\n",
       "      <td>-73.945631</td>\n",
       "      <td>40.756091</td>\n",
       "      <td>6677.0</td>\n",
       "      <td>17</td>\n",
       "      <td>222</td>\n",
       "      <td>4.1</td>\n",
       "      <td>2</td>\n",
       "      <td>tradamerican</td>\n",
       "      <td>0</td>\n",
       "    </tr>\n",
       "    <tr>\n",
       "      <th>305</th>\n",
       "      <td>Staten Island</td>\n",
       "      <td>Fox Hills</td>\n",
       "      <td>-74.081740</td>\n",
       "      <td>40.617311</td>\n",
       "      <td>11230.0</td>\n",
       "      <td>5</td>\n",
       "      <td>213</td>\n",
       "      <td>4.3</td>\n",
       "      <td>1</td>\n",
       "      <td>spanish</td>\n",
       "      <td>2</td>\n",
       "    </tr>\n",
       "  </tbody>\n",
       "</table>\n",
       "<p>306 rows × 11 columns</p>\n",
       "</div>"
      ],
      "text/plain": [
       "           borough  neighborhood  longitude   latitude  population  \\\n",
       "0            Bronx     Wakefield -73.847201  40.894705     21242.0   \n",
       "1            Bronx    Co-op City -73.829939  40.874294     43752.0   \n",
       "2            Bronx   Eastchester -73.827806  40.887556     11506.0   \n",
       "3            Bronx     Fieldston -73.905643  40.895437      9287.0   \n",
       "4            Bronx     Riverdale -73.912585  40.890834      9287.0   \n",
       "..             ...           ...        ...        ...         ...   \n",
       "301      Manhattan  Hudson Yards -74.000111  40.756658     23383.0   \n",
       "302         Queens       Hammels -73.805530  40.587338     12295.0   \n",
       "303         Queens     Bayswater -73.765968  40.611322     25029.0   \n",
       "304         Queens  Queensbridge -73.945631  40.756091      6677.0   \n",
       "305  Staten Island     Fox Hills -74.081740  40.617311     11230.0   \n",
       "\n",
       "     number_of_restaurants  average_review_count  average_restaurant_rating  \\\n",
       "0                       13                   169                        4.0   \n",
       "1                       12                   771                        4.0   \n",
       "2                       19                   532                        4.1   \n",
       "3                        9                   297                        4.4   \n",
       "4                       14                   319                        4.0   \n",
       "..                     ...                   ...                        ...   \n",
       "301                     20                   848                        4.3   \n",
       "302                     17                   257                        4.3   \n",
       "303                      0                     0                        0.0   \n",
       "304                     17                   222                        4.1   \n",
       "305                      5                   213                        4.3   \n",
       "\n",
       "     average_price_level  yelp_category  labels  \n",
       "0                      1      caribbean       0  \n",
       "1                      2          delis       1  \n",
       "2                      1      caribbean       0  \n",
       "3                      1              N       0  \n",
       "4                      2        burgers       0  \n",
       "..                   ...            ...     ...  \n",
       "301                    2    newamerican       1  \n",
       "302                    2  chicken_wings       0  \n",
       "303                    0              N       0  \n",
       "304                    2   tradamerican       0  \n",
       "305                    1        spanish       2  \n",
       "\n",
       "[306 rows x 11 columns]"
      ]
     },
     "execution_count": 99,
     "metadata": {},
     "output_type": "execute_result"
    }
   ],
   "source": [
    "labeled"
   ]
  },
  {
   "cell_type": "code",
   "execution_count": 112,
   "metadata": {},
   "outputs": [
    {
     "data": {
      "application/vnd.plotly.v1+json": {
       "config": {
        "plotlyServerURL": "https://plot.ly"
       },
       "data": [
        {
         "hovertemplate": "population=%{x}<br>labels=%{y}<extra></extra>",
         "legendgroup": "",
         "marker": {
          "color": "#636efa",
          "symbol": "circle"
         },
         "mode": "markers",
         "name": "",
         "orientation": "h",
         "showlegend": false,
         "type": "scatter",
         "x": [
          21242,
          43752,
          11506,
          9287,
          9287,
          15080,
          23373,
          21242,
          40494,
          30660,
          11506,
          30073,
          8861,
          32649,
          27094,
          27094,
          50028,
          43423,
          17506,
          37727,
          38540,
          67827,
          4193,
          26196,
          27204,
          18932,
          35784,
          5988,
          14722,
          8861,
          29821,
          9750,
          9750,
          9750,
          27378,
          15080,
          9287,
          8861,
          14722,
          14722,
          22454,
          30660,
          21242,
          70424,
          27248,
          11506,
          79371,
          151705,
          126381,
          34719,
          29436,
          35547,
          21506,
          45000,
          105804,
          142839,
          42483,
          18446,
          20988,
          19849,
          58300,
          32926,
          129239,
          42483,
          11444,
          11444,
          19176,
          19176,
          33824,
          26079,
          33824,
          24612,
          91958,
          13354,
          83693,
          64762,
          13000,
          21506,
          15982,
          29931,
          106357,
          42419,
          21506,
          11308,
          34791,
          15982,
          8624,
          8624,
          21242,
          31935,
          24612,
          11308,
          52835,
          2500,
          11308,
          34158,
          21242,
          21242,
          38744,
          3000,
          47844,
          151574,
          23373,
          48520,
          22950,
          118665,
          115921,
          30604,
          77942,
          40386,
          40386,
          132378,
          61489,
          45884,
          39930,
          51739,
          51739,
          23383,
          3000,
          23000,
          44136,
          72957,
          10686,
          10686,
          10686,
          66880,
          23000,
          55929,
          27988,
          42483,
          54000,
          78793,
          45099,
          108152,
          101188,
          13074,
          57658,
          83728,
          23278,
          62982,
          98990,
          6677,
          21090,
          12000,
          23150,
          60354,
          69317,
          32496,
          28260,
          56674,
          21376,
          75878,
          24275,
          30773,
          42483,
          19996,
          12370,
          12370,
          11286,
          25287,
          37479,
          8906,
          19569,
          53751,
          28237,
          52504,
          20269,
          38894,
          48593,
          25000,
          35475,
          18677,
          25063,
          25029,
          7004,
          7004,
          47534,
          15000,
          10876,
          7000,
          12295,
          12295,
          13000,
          5000,
          11286,
          12740,
          12740,
          20800,
          17017,
          6677,
          13074,
          24453,
          65000,
          7004,
          7004,
          15000,
          10066,
          22000,
          52037,
          5000,
          11184,
          19946,
          13226,
          13226,
          28934,
          11230,
          7678,
          8278,
          20191,
          7868,
          7868,
          500,
          13199,
          13199,
          10948,
          22049,
          40720,
          6942,
          6942,
          10382,
          7771,
          15000,
          8762,
          8000,
          21242,
          27663,
          10000,
          24102,
          7868,
          7868,
          8040,
          8040,
          8278,
          8278,
          10948,
          10000,
          5000,
          6942,
          5500,
          1000,
          7771,
          10382,
          25238,
          1000,
          7678,
          13199,
          17000,
          30604,
          5000,
          10686,
          14315,
          4000,
          1000,
          11230,
          8494,
          11000,
          7000,
          2000,
          17000,
          500,
          91958,
          15000,
          11308,
          19569,
          8906,
          17017,
          13907,
          31078,
          31142,
          13000,
          51807,
          18000,
          21090,
          25616,
          16000,
          10524,
          23383,
          4000,
          900,
          1042,
          8624,
          35000,
          300,
          8624,
          3000,
          3000,
          50,
          1000,
          2200,
          44316,
          37929,
          6942,
          7678,
          4000,
          15000,
          20000,
          38917,
          35538,
          21242,
          32496,
          29938,
          23383,
          12295,
          25029,
          6677,
          11230
         ],
         "xaxis": "x",
         "y": [
          0,
          1,
          0,
          0,
          0,
          1,
          0,
          0,
          0,
          0,
          1,
          0,
          1,
          0,
          0,
          0,
          1,
          0,
          0,
          0,
          0,
          0,
          0,
          0,
          0,
          0,
          0,
          0,
          0,
          0,
          1,
          0,
          0,
          0,
          1,
          0,
          1,
          0,
          1,
          0,
          0,
          0,
          0,
          1,
          1,
          0,
          1,
          1,
          1,
          1,
          0,
          1,
          1,
          1,
          1,
          1,
          1,
          1,
          1,
          1,
          1,
          1,
          1,
          1,
          1,
          1,
          1,
          1,
          1,
          1,
          1,
          1,
          1,
          1,
          1,
          1,
          1,
          1,
          0,
          1,
          1,
          1,
          1,
          1,
          1,
          1,
          1,
          1,
          1,
          1,
          1,
          1,
          1,
          1,
          1,
          1,
          1,
          1,
          1,
          1,
          1,
          1,
          1,
          1,
          1,
          1,
          1,
          1,
          1,
          1,
          1,
          1,
          1,
          1,
          1,
          0,
          0,
          1,
          2,
          1,
          1,
          0,
          1,
          1,
          1,
          1,
          1,
          1,
          1,
          1,
          1,
          0,
          0,
          0,
          0,
          0,
          0,
          0,
          1,
          0,
          0,
          0,
          0,
          2,
          0,
          0,
          0,
          0,
          0,
          0,
          0,
          0,
          0,
          0,
          0,
          0,
          0,
          0,
          0,
          0,
          0,
          0,
          0,
          0,
          0,
          0,
          0,
          0,
          0,
          0,
          0,
          0,
          0,
          0,
          0,
          0,
          0,
          0,
          0,
          2,
          0,
          0,
          0,
          0,
          0,
          0,
          0,
          0,
          0,
          0,
          0,
          0,
          0,
          0,
          0,
          0,
          0,
          0,
          0,
          0,
          2,
          2,
          2,
          2,
          1,
          2,
          2,
          2,
          2,
          2,
          2,
          2,
          2,
          2,
          1,
          2,
          2,
          2,
          2,
          2,
          2,
          2,
          2,
          1,
          1,
          1,
          2,
          2,
          2,
          2,
          2,
          2,
          2,
          2,
          2,
          2,
          2,
          2,
          2,
          2,
          2,
          2,
          2,
          2,
          2,
          2,
          2,
          1,
          1,
          1,
          1,
          2,
          2,
          2,
          2,
          2,
          2,
          2,
          2,
          1,
          1,
          1,
          1,
          0,
          0,
          0,
          1,
          0,
          0,
          0,
          0,
          1,
          0,
          1,
          1,
          1,
          1,
          0,
          0,
          1,
          1,
          1,
          1,
          1,
          2,
          2,
          2,
          2,
          0,
          1,
          0,
          2,
          2,
          2,
          0,
          1,
          1,
          1,
          0,
          0,
          1,
          1,
          0,
          0,
          0,
          2
         ],
         "yaxis": "y"
        }
       ],
       "layout": {
        "legend": {
         "tracegroupgap": 0
        },
        "margin": {
         "t": 60
        },
        "template": {
         "data": {
          "bar": [
           {
            "error_x": {
             "color": "#2a3f5f"
            },
            "error_y": {
             "color": "#2a3f5f"
            },
            "marker": {
             "line": {
              "color": "#E5ECF6",
              "width": 0.5
             },
             "pattern": {
              "fillmode": "overlay",
              "size": 10,
              "solidity": 0.2
             }
            },
            "type": "bar"
           }
          ],
          "barpolar": [
           {
            "marker": {
             "line": {
              "color": "#E5ECF6",
              "width": 0.5
             },
             "pattern": {
              "fillmode": "overlay",
              "size": 10,
              "solidity": 0.2
             }
            },
            "type": "barpolar"
           }
          ],
          "carpet": [
           {
            "aaxis": {
             "endlinecolor": "#2a3f5f",
             "gridcolor": "white",
             "linecolor": "white",
             "minorgridcolor": "white",
             "startlinecolor": "#2a3f5f"
            },
            "baxis": {
             "endlinecolor": "#2a3f5f",
             "gridcolor": "white",
             "linecolor": "white",
             "minorgridcolor": "white",
             "startlinecolor": "#2a3f5f"
            },
            "type": "carpet"
           }
          ],
          "choropleth": [
           {
            "colorbar": {
             "outlinewidth": 0,
             "ticks": ""
            },
            "type": "choropleth"
           }
          ],
          "contour": [
           {
            "colorbar": {
             "outlinewidth": 0,
             "ticks": ""
            },
            "colorscale": [
             [
              0,
              "#0d0887"
             ],
             [
              0.1111111111111111,
              "#46039f"
             ],
             [
              0.2222222222222222,
              "#7201a8"
             ],
             [
              0.3333333333333333,
              "#9c179e"
             ],
             [
              0.4444444444444444,
              "#bd3786"
             ],
             [
              0.5555555555555556,
              "#d8576b"
             ],
             [
              0.6666666666666666,
              "#ed7953"
             ],
             [
              0.7777777777777778,
              "#fb9f3a"
             ],
             [
              0.8888888888888888,
              "#fdca26"
             ],
             [
              1,
              "#f0f921"
             ]
            ],
            "type": "contour"
           }
          ],
          "contourcarpet": [
           {
            "colorbar": {
             "outlinewidth": 0,
             "ticks": ""
            },
            "type": "contourcarpet"
           }
          ],
          "heatmap": [
           {
            "colorbar": {
             "outlinewidth": 0,
             "ticks": ""
            },
            "colorscale": [
             [
              0,
              "#0d0887"
             ],
             [
              0.1111111111111111,
              "#46039f"
             ],
             [
              0.2222222222222222,
              "#7201a8"
             ],
             [
              0.3333333333333333,
              "#9c179e"
             ],
             [
              0.4444444444444444,
              "#bd3786"
             ],
             [
              0.5555555555555556,
              "#d8576b"
             ],
             [
              0.6666666666666666,
              "#ed7953"
             ],
             [
              0.7777777777777778,
              "#fb9f3a"
             ],
             [
              0.8888888888888888,
              "#fdca26"
             ],
             [
              1,
              "#f0f921"
             ]
            ],
            "type": "heatmap"
           }
          ],
          "heatmapgl": [
           {
            "colorbar": {
             "outlinewidth": 0,
             "ticks": ""
            },
            "colorscale": [
             [
              0,
              "#0d0887"
             ],
             [
              0.1111111111111111,
              "#46039f"
             ],
             [
              0.2222222222222222,
              "#7201a8"
             ],
             [
              0.3333333333333333,
              "#9c179e"
             ],
             [
              0.4444444444444444,
              "#bd3786"
             ],
             [
              0.5555555555555556,
              "#d8576b"
             ],
             [
              0.6666666666666666,
              "#ed7953"
             ],
             [
              0.7777777777777778,
              "#fb9f3a"
             ],
             [
              0.8888888888888888,
              "#fdca26"
             ],
             [
              1,
              "#f0f921"
             ]
            ],
            "type": "heatmapgl"
           }
          ],
          "histogram": [
           {
            "marker": {
             "pattern": {
              "fillmode": "overlay",
              "size": 10,
              "solidity": 0.2
             }
            },
            "type": "histogram"
           }
          ],
          "histogram2d": [
           {
            "colorbar": {
             "outlinewidth": 0,
             "ticks": ""
            },
            "colorscale": [
             [
              0,
              "#0d0887"
             ],
             [
              0.1111111111111111,
              "#46039f"
             ],
             [
              0.2222222222222222,
              "#7201a8"
             ],
             [
              0.3333333333333333,
              "#9c179e"
             ],
             [
              0.4444444444444444,
              "#bd3786"
             ],
             [
              0.5555555555555556,
              "#d8576b"
             ],
             [
              0.6666666666666666,
              "#ed7953"
             ],
             [
              0.7777777777777778,
              "#fb9f3a"
             ],
             [
              0.8888888888888888,
              "#fdca26"
             ],
             [
              1,
              "#f0f921"
             ]
            ],
            "type": "histogram2d"
           }
          ],
          "histogram2dcontour": [
           {
            "colorbar": {
             "outlinewidth": 0,
             "ticks": ""
            },
            "colorscale": [
             [
              0,
              "#0d0887"
             ],
             [
              0.1111111111111111,
              "#46039f"
             ],
             [
              0.2222222222222222,
              "#7201a8"
             ],
             [
              0.3333333333333333,
              "#9c179e"
             ],
             [
              0.4444444444444444,
              "#bd3786"
             ],
             [
              0.5555555555555556,
              "#d8576b"
             ],
             [
              0.6666666666666666,
              "#ed7953"
             ],
             [
              0.7777777777777778,
              "#fb9f3a"
             ],
             [
              0.8888888888888888,
              "#fdca26"
             ],
             [
              1,
              "#f0f921"
             ]
            ],
            "type": "histogram2dcontour"
           }
          ],
          "mesh3d": [
           {
            "colorbar": {
             "outlinewidth": 0,
             "ticks": ""
            },
            "type": "mesh3d"
           }
          ],
          "parcoords": [
           {
            "line": {
             "colorbar": {
              "outlinewidth": 0,
              "ticks": ""
             }
            },
            "type": "parcoords"
           }
          ],
          "pie": [
           {
            "automargin": true,
            "type": "pie"
           }
          ],
          "scatter": [
           {
            "fillpattern": {
             "fillmode": "overlay",
             "size": 10,
             "solidity": 0.2
            },
            "type": "scatter"
           }
          ],
          "scatter3d": [
           {
            "line": {
             "colorbar": {
              "outlinewidth": 0,
              "ticks": ""
             }
            },
            "marker": {
             "colorbar": {
              "outlinewidth": 0,
              "ticks": ""
             }
            },
            "type": "scatter3d"
           }
          ],
          "scattercarpet": [
           {
            "marker": {
             "colorbar": {
              "outlinewidth": 0,
              "ticks": ""
             }
            },
            "type": "scattercarpet"
           }
          ],
          "scattergeo": [
           {
            "marker": {
             "colorbar": {
              "outlinewidth": 0,
              "ticks": ""
             }
            },
            "type": "scattergeo"
           }
          ],
          "scattergl": [
           {
            "marker": {
             "colorbar": {
              "outlinewidth": 0,
              "ticks": ""
             }
            },
            "type": "scattergl"
           }
          ],
          "scattermapbox": [
           {
            "marker": {
             "colorbar": {
              "outlinewidth": 0,
              "ticks": ""
             }
            },
            "type": "scattermapbox"
           }
          ],
          "scatterpolar": [
           {
            "marker": {
             "colorbar": {
              "outlinewidth": 0,
              "ticks": ""
             }
            },
            "type": "scatterpolar"
           }
          ],
          "scatterpolargl": [
           {
            "marker": {
             "colorbar": {
              "outlinewidth": 0,
              "ticks": ""
             }
            },
            "type": "scatterpolargl"
           }
          ],
          "scatterternary": [
           {
            "marker": {
             "colorbar": {
              "outlinewidth": 0,
              "ticks": ""
             }
            },
            "type": "scatterternary"
           }
          ],
          "surface": [
           {
            "colorbar": {
             "outlinewidth": 0,
             "ticks": ""
            },
            "colorscale": [
             [
              0,
              "#0d0887"
             ],
             [
              0.1111111111111111,
              "#46039f"
             ],
             [
              0.2222222222222222,
              "#7201a8"
             ],
             [
              0.3333333333333333,
              "#9c179e"
             ],
             [
              0.4444444444444444,
              "#bd3786"
             ],
             [
              0.5555555555555556,
              "#d8576b"
             ],
             [
              0.6666666666666666,
              "#ed7953"
             ],
             [
              0.7777777777777778,
              "#fb9f3a"
             ],
             [
              0.8888888888888888,
              "#fdca26"
             ],
             [
              1,
              "#f0f921"
             ]
            ],
            "type": "surface"
           }
          ],
          "table": [
           {
            "cells": {
             "fill": {
              "color": "#EBF0F8"
             },
             "line": {
              "color": "white"
             }
            },
            "header": {
             "fill": {
              "color": "#C8D4E3"
             },
             "line": {
              "color": "white"
             }
            },
            "type": "table"
           }
          ]
         },
         "layout": {
          "annotationdefaults": {
           "arrowcolor": "#2a3f5f",
           "arrowhead": 0,
           "arrowwidth": 1
          },
          "autotypenumbers": "strict",
          "coloraxis": {
           "colorbar": {
            "outlinewidth": 0,
            "ticks": ""
           }
          },
          "colorscale": {
           "diverging": [
            [
             0,
             "#8e0152"
            ],
            [
             0.1,
             "#c51b7d"
            ],
            [
             0.2,
             "#de77ae"
            ],
            [
             0.3,
             "#f1b6da"
            ],
            [
             0.4,
             "#fde0ef"
            ],
            [
             0.5,
             "#f7f7f7"
            ],
            [
             0.6,
             "#e6f5d0"
            ],
            [
             0.7,
             "#b8e186"
            ],
            [
             0.8,
             "#7fbc41"
            ],
            [
             0.9,
             "#4d9221"
            ],
            [
             1,
             "#276419"
            ]
           ],
           "sequential": [
            [
             0,
             "#0d0887"
            ],
            [
             0.1111111111111111,
             "#46039f"
            ],
            [
             0.2222222222222222,
             "#7201a8"
            ],
            [
             0.3333333333333333,
             "#9c179e"
            ],
            [
             0.4444444444444444,
             "#bd3786"
            ],
            [
             0.5555555555555556,
             "#d8576b"
            ],
            [
             0.6666666666666666,
             "#ed7953"
            ],
            [
             0.7777777777777778,
             "#fb9f3a"
            ],
            [
             0.8888888888888888,
             "#fdca26"
            ],
            [
             1,
             "#f0f921"
            ]
           ],
           "sequentialminus": [
            [
             0,
             "#0d0887"
            ],
            [
             0.1111111111111111,
             "#46039f"
            ],
            [
             0.2222222222222222,
             "#7201a8"
            ],
            [
             0.3333333333333333,
             "#9c179e"
            ],
            [
             0.4444444444444444,
             "#bd3786"
            ],
            [
             0.5555555555555556,
             "#d8576b"
            ],
            [
             0.6666666666666666,
             "#ed7953"
            ],
            [
             0.7777777777777778,
             "#fb9f3a"
            ],
            [
             0.8888888888888888,
             "#fdca26"
            ],
            [
             1,
             "#f0f921"
            ]
           ]
          },
          "colorway": [
           "#636efa",
           "#EF553B",
           "#00cc96",
           "#ab63fa",
           "#FFA15A",
           "#19d3f3",
           "#FF6692",
           "#B6E880",
           "#FF97FF",
           "#FECB52"
          ],
          "font": {
           "color": "#2a3f5f"
          },
          "geo": {
           "bgcolor": "white",
           "lakecolor": "white",
           "landcolor": "#E5ECF6",
           "showlakes": true,
           "showland": true,
           "subunitcolor": "white"
          },
          "hoverlabel": {
           "align": "left"
          },
          "hovermode": "closest",
          "mapbox": {
           "style": "light"
          },
          "paper_bgcolor": "white",
          "plot_bgcolor": "#E5ECF6",
          "polar": {
           "angularaxis": {
            "gridcolor": "white",
            "linecolor": "white",
            "ticks": ""
           },
           "bgcolor": "#E5ECF6",
           "radialaxis": {
            "gridcolor": "white",
            "linecolor": "white",
            "ticks": ""
           }
          },
          "scene": {
           "xaxis": {
            "backgroundcolor": "#E5ECF6",
            "gridcolor": "white",
            "gridwidth": 2,
            "linecolor": "white",
            "showbackground": true,
            "ticks": "",
            "zerolinecolor": "white"
           },
           "yaxis": {
            "backgroundcolor": "#E5ECF6",
            "gridcolor": "white",
            "gridwidth": 2,
            "linecolor": "white",
            "showbackground": true,
            "ticks": "",
            "zerolinecolor": "white"
           },
           "zaxis": {
            "backgroundcolor": "#E5ECF6",
            "gridcolor": "white",
            "gridwidth": 2,
            "linecolor": "white",
            "showbackground": true,
            "ticks": "",
            "zerolinecolor": "white"
           }
          },
          "shapedefaults": {
           "line": {
            "color": "#2a3f5f"
           }
          },
          "ternary": {
           "aaxis": {
            "gridcolor": "white",
            "linecolor": "white",
            "ticks": ""
           },
           "baxis": {
            "gridcolor": "white",
            "linecolor": "white",
            "ticks": ""
           },
           "bgcolor": "#E5ECF6",
           "caxis": {
            "gridcolor": "white",
            "linecolor": "white",
            "ticks": ""
           }
          },
          "title": {
           "x": 0.05
          },
          "xaxis": {
           "automargin": true,
           "gridcolor": "white",
           "linecolor": "white",
           "ticks": "",
           "title": {
            "standoff": 15
           },
           "zerolinecolor": "white",
           "zerolinewidth": 2
          },
          "yaxis": {
           "automargin": true,
           "gridcolor": "white",
           "linecolor": "white",
           "ticks": "",
           "title": {
            "standoff": 15
           },
           "zerolinecolor": "white",
           "zerolinewidth": 2
          }
         }
        },
        "xaxis": {
         "anchor": "y",
         "domain": [
          0,
          1
         ],
         "title": {
          "text": "population"
         }
        },
        "yaxis": {
         "anchor": "x",
         "domain": [
          0,
          1
         ],
         "title": {
          "text": "labels"
         }
        }
       }
      }
     },
     "metadata": {},
     "output_type": "display_data"
    }
   ],
   "source": [
    "import plotly.express as px\n",
    "fig = px.scatter(labeled, x=\"population\", y=\"labels\")\n",
    "fig.show()"
   ]
  },
  {
   "cell_type": "code",
   "execution_count": null,
   "metadata": {},
   "outputs": [],
   "source": []
  }
 ],
 "metadata": {
  "interpreter": {
   "hash": "39512f3c2a1741d7f752d45a133d4514127029333ea14bc2f3c6c5e6759b9029"
  },
  "kernelspec": {
   "display_name": "Python 3.8.13 ('base_env')",
   "language": "python",
   "name": "python3"
  },
  "language_info": {
   "codemirror_mode": {
    "name": "ipython",
    "version": 3
   },
   "file_extension": ".py",
   "mimetype": "text/x-python",
   "name": "python",
   "nbconvert_exporter": "python",
   "pygments_lexer": "ipython3",
   "version": "3.8.13"
  },
  "orig_nbformat": 4
 },
 "nbformat": 4,
 "nbformat_minor": 2
}
