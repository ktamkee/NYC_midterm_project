{
 "cells": [
  {
   "cell_type": "markdown",
   "metadata": {},
   "source": [
    "# Heirarchical Agglomerative Clustering"
   ]
  },
  {
   "cell_type": "code",
   "execution_count": 63,
   "metadata": {},
   "outputs": [],
   "source": [
    "import numpy as np\n",
    "import pandas as pd\n",
    "import matplotlib.pyplot as plt\n",
    "from sklearn.cluster import KMeans\n",
    "from sklearn.cluster import AgglomerativeClustering\n",
    "import scipy.cluster.hierarchy as sch"
   ]
  },
  {
   "cell_type": "markdown",
   "metadata": {},
   "source": [
    "### Import  and Prep Data"
   ]
  },
  {
   "cell_type": "code",
   "execution_count": 64,
   "metadata": {},
   "outputs": [
    {
     "data": {
      "text/html": [
       "<div>\n",
       "<style scoped>\n",
       "    .dataframe tbody tr th:only-of-type {\n",
       "        vertical-align: middle;\n",
       "    }\n",
       "\n",
       "    .dataframe tbody tr th {\n",
       "        vertical-align: top;\n",
       "    }\n",
       "\n",
       "    .dataframe thead th {\n",
       "        text-align: right;\n",
       "    }\n",
       "</style>\n",
       "<table border=\"1\" class=\"dataframe\">\n",
       "  <thead>\n",
       "    <tr style=\"text-align: right;\">\n",
       "      <th></th>\n",
       "      <th>0</th>\n",
       "      <th>1</th>\n",
       "      <th>2</th>\n",
       "      <th>3</th>\n",
       "      <th>4</th>\n",
       "      <th>5</th>\n",
       "      <th>6</th>\n",
       "      <th>7</th>\n",
       "      <th>8</th>\n",
       "      <th>9</th>\n",
       "      <th>...</th>\n",
       "      <th>237</th>\n",
       "      <th>238</th>\n",
       "      <th>239</th>\n",
       "      <th>240</th>\n",
       "      <th>241</th>\n",
       "      <th>242</th>\n",
       "      <th>243</th>\n",
       "      <th>244</th>\n",
       "      <th>245</th>\n",
       "      <th>246</th>\n",
       "    </tr>\n",
       "  </thead>\n",
       "  <tbody>\n",
       "    <tr>\n",
       "      <th>0</th>\n",
       "      <td>0.209833</td>\n",
       "      <td>0.497484</td>\n",
       "      <td>-0.281050</td>\n",
       "      <td>0.168836</td>\n",
       "      <td>-0.397033</td>\n",
       "      <td>1.401403</td>\n",
       "      <td>-0.520885</td>\n",
       "      <td>-0.346817</td>\n",
       "      <td>-0.259182</td>\n",
       "      <td>-0.607961</td>\n",
       "      <td>...</td>\n",
       "      <td>-0.05726</td>\n",
       "      <td>-0.05726</td>\n",
       "      <td>-0.099504</td>\n",
       "      <td>-0.099504</td>\n",
       "      <td>-0.081111</td>\n",
       "      <td>-0.05726</td>\n",
       "      <td>-0.05726</td>\n",
       "      <td>-0.099504</td>\n",
       "      <td>-0.099504</td>\n",
       "      <td>-0.05726</td>\n",
       "    </tr>\n",
       "    <tr>\n",
       "      <th>1</th>\n",
       "      <td>-0.178723</td>\n",
       "      <td>-0.367460</td>\n",
       "      <td>-0.281050</td>\n",
       "      <td>-0.403089</td>\n",
       "      <td>-0.710156</td>\n",
       "      <td>-0.236601</td>\n",
       "      <td>-0.347004</td>\n",
       "      <td>-0.293218</td>\n",
       "      <td>0.477897</td>\n",
       "      <td>-0.607961</td>\n",
       "      <td>...</td>\n",
       "      <td>-0.05726</td>\n",
       "      <td>-0.05726</td>\n",
       "      <td>-0.099504</td>\n",
       "      <td>-0.099504</td>\n",
       "      <td>-0.081111</td>\n",
       "      <td>-0.05726</td>\n",
       "      <td>-0.05726</td>\n",
       "      <td>-0.099504</td>\n",
       "      <td>-0.099504</td>\n",
       "      <td>-0.05726</td>\n",
       "    </tr>\n",
       "    <tr>\n",
       "      <th>2</th>\n",
       "      <td>-0.373000</td>\n",
       "      <td>-0.691814</td>\n",
       "      <td>-0.766385</td>\n",
       "      <td>-0.784372</td>\n",
       "      <td>-0.344845</td>\n",
       "      <td>-0.330201</td>\n",
       "      <td>-0.984567</td>\n",
       "      <td>-0.346817</td>\n",
       "      <td>-0.554014</td>\n",
       "      <td>-0.394861</td>\n",
       "      <td>...</td>\n",
       "      <td>-0.05726</td>\n",
       "      <td>-0.05726</td>\n",
       "      <td>-0.099504</td>\n",
       "      <td>-0.099504</td>\n",
       "      <td>-0.081111</td>\n",
       "      <td>-0.05726</td>\n",
       "      <td>-0.05726</td>\n",
       "      <td>-0.099504</td>\n",
       "      <td>-0.099504</td>\n",
       "      <td>-0.05726</td>\n",
       "    </tr>\n",
       "    <tr>\n",
       "      <th>3</th>\n",
       "      <td>-0.470139</td>\n",
       "      <td>0.443425</td>\n",
       "      <td>-0.232517</td>\n",
       "      <td>-0.403089</td>\n",
       "      <td>-0.188284</td>\n",
       "      <td>-1.172603</td>\n",
       "      <td>0.174638</td>\n",
       "      <td>-1.258001</td>\n",
       "      <td>-0.996261</td>\n",
       "      <td>0.244438</td>\n",
       "      <td>...</td>\n",
       "      <td>-0.05726</td>\n",
       "      <td>-0.05726</td>\n",
       "      <td>-0.099504</td>\n",
       "      <td>-0.099504</td>\n",
       "      <td>-0.081111</td>\n",
       "      <td>-0.05726</td>\n",
       "      <td>-0.05726</td>\n",
       "      <td>-0.099504</td>\n",
       "      <td>-0.099504</td>\n",
       "      <td>-0.05726</td>\n",
       "    </tr>\n",
       "    <tr>\n",
       "      <th>4</th>\n",
       "      <td>-0.373000</td>\n",
       "      <td>-1.394580</td>\n",
       "      <td>-0.329584</td>\n",
       "      <td>-0.212447</td>\n",
       "      <td>-0.083909</td>\n",
       "      <td>-0.845002</td>\n",
       "      <td>0.116678</td>\n",
       "      <td>-1.258001</td>\n",
       "      <td>-0.947122</td>\n",
       "      <td>-0.181762</td>\n",
       "      <td>...</td>\n",
       "      <td>-0.05726</td>\n",
       "      <td>-0.05726</td>\n",
       "      <td>-0.099504</td>\n",
       "      <td>-0.099504</td>\n",
       "      <td>-0.081111</td>\n",
       "      <td>-0.05726</td>\n",
       "      <td>-0.05726</td>\n",
       "      <td>-0.099504</td>\n",
       "      <td>-0.099504</td>\n",
       "      <td>-0.05726</td>\n",
       "    </tr>\n",
       "  </tbody>\n",
       "</table>\n",
       "<p>5 rows × 247 columns</p>\n",
       "</div>"
      ],
      "text/plain": [
       "          0         1         2         3         4         5         6  \\\n",
       "0  0.209833  0.497484 -0.281050  0.168836 -0.397033  1.401403 -0.520885   \n",
       "1 -0.178723 -0.367460 -0.281050 -0.403089 -0.710156 -0.236601 -0.347004   \n",
       "2 -0.373000 -0.691814 -0.766385 -0.784372 -0.344845 -0.330201 -0.984567   \n",
       "3 -0.470139  0.443425 -0.232517 -0.403089 -0.188284 -1.172603  0.174638   \n",
       "4 -0.373000 -1.394580 -0.329584 -0.212447 -0.083909 -0.845002  0.116678   \n",
       "\n",
       "          7         8         9  ...      237      238       239       240  \\\n",
       "0 -0.346817 -0.259182 -0.607961  ... -0.05726 -0.05726 -0.099504 -0.099504   \n",
       "1 -0.293218  0.477897 -0.607961  ... -0.05726 -0.05726 -0.099504 -0.099504   \n",
       "2 -0.346817 -0.554014 -0.394861  ... -0.05726 -0.05726 -0.099504 -0.099504   \n",
       "3 -1.258001 -0.996261  0.244438  ... -0.05726 -0.05726 -0.099504 -0.099504   \n",
       "4 -1.258001 -0.947122 -0.181762  ... -0.05726 -0.05726 -0.099504 -0.099504   \n",
       "\n",
       "        241      242      243       244       245      246  \n",
       "0 -0.081111 -0.05726 -0.05726 -0.099504 -0.099504 -0.05726  \n",
       "1 -0.081111 -0.05726 -0.05726 -0.099504 -0.099504 -0.05726  \n",
       "2 -0.081111 -0.05726 -0.05726 -0.099504 -0.099504 -0.05726  \n",
       "3 -0.081111 -0.05726 -0.05726 -0.099504 -0.099504 -0.05726  \n",
       "4 -0.081111 -0.05726 -0.05726 -0.099504 -0.099504 -0.05726  \n",
       "\n",
       "[5 rows x 247 columns]"
      ]
     },
     "execution_count": 64,
     "metadata": {},
     "output_type": "execute_result"
    }
   ],
   "source": [
    "# Import scaled feature data\n",
    "features_scaled = pd.read_csv('/Users/karina/GitHub/NYC_midterm_project/data/final_datasets/features_scaled_modeling.csv')\n",
    "features_scaled.head()"
   ]
  },
  {
   "cell_type": "code",
   "execution_count": 65,
   "metadata": {},
   "outputs": [],
   "source": [
    "X = np.array(features_scaled)"
   ]
  },
  {
   "cell_type": "markdown",
   "metadata": {},
   "source": [
    "### Create Dendrogram"
   ]
  },
  {
   "cell_type": "code",
   "execution_count": 56,
   "metadata": {},
   "outputs": [],
   "source": [
    "# define plot_dendrogram function\n",
    "def plot_dendrogram(X,method ='ward'):\n",
    "    dendrogram = sch.dendrogram(sch.linkage(X, method=method))\n",
    "    plt.title(\"Dendrogram\")\n",
    "    plt.ylabel(\"Euclidean distances\")\n",
    "    plt.xlabel('Points')\n",
    "    plt.show()"
   ]
  },
  {
   "cell_type": "code",
   "execution_count": 57,
   "metadata": {},
   "outputs": [
    {
     "data": {
      "image/png": "[encoded data removed]",
      "text/plain": [
       "<Figure size 432x288 with 1 Axes>"
      ]
     },
     "metadata": {
      "needs_background": "light"
     },
     "output_type": "display_data"
    }
   ],
   "source": [
    "# Plot dendrogram\n",
    "plot_dendrogram(X)"
   ]
  },
  {
   "cell_type": "markdown",
   "metadata": {},
   "source": [
    "### Plot Clusters"
   ]
  },
  {
   "cell_type": "code",
   "execution_count": 61,
   "metadata": {},
   "outputs": [],
   "source": [
    "# Create clustering object\n",
    "ac = AgglomerativeClustering(affinity='euclidean',\n",
    "                             linkage='ward',\n",
    "                             n_clusters = 2)"
   ]
  },
  {
   "cell_type": "code",
   "execution_count": 67,
   "metadata": {},
   "outputs": [],
   "source": [
    "# fit and predict\n",
    "y_hc = ac.fit_predict(features_scaled)"
   ]
  },
  {
   "cell_type": "code",
   "execution_count": 68,
   "metadata": {},
   "outputs": [],
   "source": [
    "# Create plot\n",
    "def plot_clusters(X,y_res, plt_cluster_centers = False):\n",
    "    X_centroids = []\n",
    "    Y_centroids = []\n",
    "\n",
    "    for cluster in set(y_res):\n",
    "        x = X[y_res == cluster,0]\n",
    "        y = X[y_res == cluster,1]\n",
    "        X_centroids.append(np.mean(x))\n",
    "        Y_centroids.append(np.mean(y))\n",
    "\n",
    "        plt.scatter(x,\n",
    "                    y,\n",
    "                    s=50,\n",
    "                    marker='s',\n",
    "                    label=f'cluster {cluster}')\n",
    "\n",
    "    if plt_cluster_centers:\n",
    "        plt.scatter(X_centroids,\n",
    "                    Y_centroids,\n",
    "                    marker='*',\n",
    "                    c='red',\n",
    "                    s=250,\n",
    "                    label='centroids')\n",
    "    plt.legend()\n",
    "    plt.grid()\n",
    "    plt.show()"
   ]
  },
  {
   "cell_type": "code",
   "execution_count": 69,
   "metadata": {},
   "outputs": [
    {
     "data": {
      "image/png": "[encoded data removed]",
      "text/plain": [
       "<Figure size 432x288 with 1 Axes>"
      ]
     },
     "metadata": {
      "needs_background": "light"
     },
     "output_type": "display_data"
    }
   ],
   "source": [
    "# Plot clustering result\n",
    "plot_clusters(X,y_hc)"
   ]
  },
  {
   "cell_type": "markdown",
   "metadata": {},
   "source": [
    "### Analyzing Data"
   ]
  },
  {
   "cell_type": "code",
   "execution_count": 86,
   "metadata": {},
   "outputs": [],
   "source": [
    "clusters = y_hc.tolist()"
   ]
  },
  {
   "cell_type": "code",
   "execution_count": 87,
   "metadata": {},
   "outputs": [
    {
     "data": {
      "text/html": [
       "<div>\n",
       "<style scoped>\n",
       "    .dataframe tbody tr th:only-of-type {\n",
       "        vertical-align: middle;\n",
       "    }\n",
       "\n",
       "    .dataframe tbody tr th {\n",
       "        vertical-align: top;\n",
       "    }\n",
       "\n",
       "    .dataframe thead th {\n",
       "        text-align: right;\n",
       "    }\n",
       "</style>\n",
       "<table border=\"1\" class=\"dataframe\">\n",
       "  <thead>\n",
       "    <tr style=\"text-align: right;\">\n",
       "      <th></th>\n",
       "      <th>id</th>\n",
       "      <th>borough</th>\n",
       "      <th>neighborhood</th>\n",
       "      <th>longitude</th>\n",
       "      <th>latitude</th>\n",
       "      <th>clusters</th>\n",
       "    </tr>\n",
       "  </thead>\n",
       "  <tbody>\n",
       "    <tr>\n",
       "      <th>0</th>\n",
       "      <td>nyu_2451_34572.1</td>\n",
       "      <td>Bronx</td>\n",
       "      <td>Wakefield</td>\n",
       "      <td>-73.847201</td>\n",
       "      <td>40.894705</td>\n",
       "      <td>0</td>\n",
       "    </tr>\n",
       "    <tr>\n",
       "      <th>1</th>\n",
       "      <td>nyu_2451_34572.2</td>\n",
       "      <td>Bronx</td>\n",
       "      <td>Co-op City</td>\n",
       "      <td>-73.829939</td>\n",
       "      <td>40.874294</td>\n",
       "      <td>0</td>\n",
       "    </tr>\n",
       "    <tr>\n",
       "      <th>2</th>\n",
       "      <td>nyu_2451_34572.3</td>\n",
       "      <td>Bronx</td>\n",
       "      <td>Eastchester</td>\n",
       "      <td>-73.827806</td>\n",
       "      <td>40.887556</td>\n",
       "      <td>0</td>\n",
       "    </tr>\n",
       "    <tr>\n",
       "      <th>3</th>\n",
       "      <td>nyu_2451_34572.4</td>\n",
       "      <td>Bronx</td>\n",
       "      <td>Fieldston</td>\n",
       "      <td>-73.905643</td>\n",
       "      <td>40.895437</td>\n",
       "      <td>0</td>\n",
       "    </tr>\n",
       "    <tr>\n",
       "      <th>4</th>\n",
       "      <td>nyu_2451_34572.5</td>\n",
       "      <td>Bronx</td>\n",
       "      <td>Riverdale</td>\n",
       "      <td>-73.912585</td>\n",
       "      <td>40.890834</td>\n",
       "      <td>0</td>\n",
       "    </tr>\n",
       "  </tbody>\n",
       "</table>\n",
       "</div>"
      ],
      "text/plain": [
       "                 id borough neighborhood  longitude   latitude  clusters\n",
       "0  nyu_2451_34572.1   Bronx    Wakefield -73.847201  40.894705         0\n",
       "1  nyu_2451_34572.2   Bronx   Co-op City -73.829939  40.874294         0\n",
       "2  nyu_2451_34572.3   Bronx  Eastchester -73.827806  40.887556         0\n",
       "3  nyu_2451_34572.4   Bronx    Fieldston -73.905643  40.895437         0\n",
       "4  nyu_2451_34572.5   Bronx    Riverdale -73.912585  40.890834         0"
      ]
     },
     "execution_count": 87,
     "metadata": {},
     "output_type": "execute_result"
    }
   ],
   "source": [
    "# Import neighborhood data\n",
    "neighborhood_data = pd.read_csv('/Users/karina/GitHub/NYC_midterm_project/data/old_datasets/old_dataset.csv')\n",
    "neighborhood_data = neighborhood_data.iloc[:, 1:6]\n",
    "neighborhood_data['clusters'] = clusters\n",
    "neighborhood_data.head()"
   ]
  },
  {
   "cell_type": "code",
   "execution_count": 88,
   "metadata": {},
   "outputs": [
    {
     "data": {
      "text/html": [
       "<div>\n",
       "<style scoped>\n",
       "    .dataframe tbody tr th:only-of-type {\n",
       "        vertical-align: middle;\n",
       "    }\n",
       "\n",
       "    .dataframe tbody tr th {\n",
       "        vertical-align: top;\n",
       "    }\n",
       "\n",
       "    .dataframe thead th {\n",
       "        text-align: right;\n",
       "    }\n",
       "</style>\n",
       "<table border=\"1\" class=\"dataframe\">\n",
       "  <thead>\n",
       "    <tr style=\"text-align: right;\">\n",
       "      <th></th>\n",
       "      <th>borough</th>\n",
       "      <th>neighborhood</th>\n",
       "      <th>clusters</th>\n",
       "      <th>1st Most Common Venue</th>\n",
       "      <th>2nd Most Common Venue</th>\n",
       "      <th>3rd Most Common Venue</th>\n",
       "      <th>4th Most Common Venue</th>\n",
       "      <th>5th Most Common Venue</th>\n",
       "    </tr>\n",
       "  </thead>\n",
       "  <tbody>\n",
       "    <tr>\n",
       "      <th>0</th>\n",
       "      <td>Bronx</td>\n",
       "      <td>Wakefield</td>\n",
       "      <td>0</td>\n",
       "      <td>restaurant</td>\n",
       "      <td>store</td>\n",
       "      <td>clothing</td>\n",
       "      <td>school</td>\n",
       "      <td>church</td>\n",
       "    </tr>\n",
       "    <tr>\n",
       "      <th>1</th>\n",
       "      <td>Bronx</td>\n",
       "      <td>Co-op City</td>\n",
       "      <td>0</td>\n",
       "      <td>store</td>\n",
       "      <td>restaurant</td>\n",
       "      <td>church</td>\n",
       "      <td>school</td>\n",
       "      <td>clothing</td>\n",
       "    </tr>\n",
       "    <tr>\n",
       "      <th>2</th>\n",
       "      <td>Bronx</td>\n",
       "      <td>Eastchester</td>\n",
       "      <td>0</td>\n",
       "      <td>restaurant</td>\n",
       "      <td>school</td>\n",
       "      <td>bank</td>\n",
       "      <td>park</td>\n",
       "      <td>store</td>\n",
       "    </tr>\n",
       "    <tr>\n",
       "      <th>3</th>\n",
       "      <td>Bronx</td>\n",
       "      <td>Fieldston</td>\n",
       "      <td>0</td>\n",
       "      <td>school</td>\n",
       "      <td>bank</td>\n",
       "      <td>restaurant</td>\n",
       "      <td>store</td>\n",
       "      <td>park</td>\n",
       "    </tr>\n",
       "    <tr>\n",
       "      <th>4</th>\n",
       "      <td>Bronx</td>\n",
       "      <td>Riverdale</td>\n",
       "      <td>0</td>\n",
       "      <td>store</td>\n",
       "      <td>restaurant</td>\n",
       "      <td>school</td>\n",
       "      <td>bank</td>\n",
       "      <td>park</td>\n",
       "    </tr>\n",
       "  </tbody>\n",
       "</table>\n",
       "</div>"
      ],
      "text/plain": [
       "  borough neighborhood  clusters 1st Most Common Venue 2nd Most Common Venue  \\\n",
       "0   Bronx    Wakefield         0            restaurant                 store   \n",
       "1   Bronx   Co-op City         0                 store            restaurant   \n",
       "2   Bronx  Eastchester         0            restaurant                school   \n",
       "3   Bronx    Fieldston         0                school                  bank   \n",
       "4   Bronx    Riverdale         0                 store            restaurant   \n",
       "\n",
       "  3rd Most Common Venue 4th Most Common Venue 5th Most Common Venue  \n",
       "0              clothing                school                church  \n",
       "1                church                school              clothing  \n",
       "2                  bank                  park                 store  \n",
       "3            restaurant                 store                  park  \n",
       "4                school                  bank                  park  "
      ]
     },
     "execution_count": 88,
     "metadata": {},
     "output_type": "execute_result"
    }
   ],
   "source": [
    "most_common_venues = pd.read_csv('/Users/karina/GitHub/NYC_midterm_project/data/final_datasets/most_common_venues.csv')\n",
    "data = pd.merge(neighborhood_data, most_common_venues, on='id')\n",
    "data = data.drop(columns=['id', 'longitude', 'latitude'])\n",
    "data.head()"
   ]
  },
  {
   "cell_type": "code",
   "execution_count": 97,
   "metadata": {},
   "outputs": [],
   "source": [
    "cluster0 = data.loc[data['clusters'] == 0]\n",
    "cluster1 = data.loc[data['clusters'] == 1]"
   ]
  },
  {
   "cell_type": "code",
   "execution_count": 98,
   "metadata": {},
   "outputs": [
    {
     "name": "stdout",
     "output_type": "stream",
     "text": [
      "--cluster0--\n",
      "\n",
      "Top 5 most common venue type\n",
      "restaurant    136\n",
      "store          41\n",
      "school         22\n",
      "church         18\n",
      "park            2\n",
      "Name: 1st Most Common Venue, dtype: int64\n",
      "\n",
      "Top 5 second most common venue type\n",
      "store         112\n",
      "restaurant     37\n",
      "church         30\n",
      "school         24\n",
      "clothing        8\n",
      "Name: 2nd Most Common Venue, dtype: int64\n",
      "\n",
      "Most common borough\n",
      "Queens           64\n",
      "Staten Island    60\n",
      "Bronx            51\n",
      "Name: borough, dtype: int64\n"
     ]
    }
   ],
   "source": [
    "print('--cluster0--')\n",
    "print()\n",
    "print('Top 5 most common venue type')\n",
    "print(cluster0['1st Most Common Venue'].value_counts()[:5])\n",
    "print()\n",
    "print('Top 5 second most common venue type')\n",
    "print(cluster0['2nd Most Common Venue'].value_counts()[:5])\n",
    "print()\n",
    "print('Most common borough')\n",
    "print(cluster0['borough'].value_counts()[:3])"
   ]
  },
  {
   "cell_type": "code",
   "execution_count": 99,
   "metadata": {},
   "outputs": [
    {
     "name": "stdout",
     "output_type": "stream",
     "text": [
      "--cluster1--\n",
      "\n",
      "Top 5 most common venue type\n",
      "restaurant    35\n",
      "school        17\n",
      "store         12\n",
      "church         6\n",
      "lodging        5\n",
      "Name: 1st Most Common Venue, dtype: int64\n",
      "\n",
      "Top 5 second most common venue type\n",
      "store         28\n",
      "school        18\n",
      "restaurant    13\n",
      "bar            9\n",
      "church         5\n",
      "Name: 2nd Most Common Venue, dtype: int64\n",
      "\n",
      "Most common borough\n",
      "Manhattan    36\n",
      "Brooklyn     28\n",
      "Queens       17\n",
      "Name: borough, dtype: int64\n"
     ]
    }
   ],
   "source": [
    "print('--cluster1--')\n",
    "print()\n",
    "print('Top 5 most common venue type')\n",
    "print(cluster1['1st Most Common Venue'].value_counts()[:5])\n",
    "print()\n",
    "print('Top 5 second most common venue type')\n",
    "print(cluster1['2nd Most Common Venue'].value_counts()[:5])\n",
    "print()\n",
    "print('Most common borough')\n",
    "print(cluster1['borough'].value_counts()[:3])"
   ]
  },
  {
   "cell_type": "code",
   "execution_count": null,
   "metadata": {},
   "outputs": [],
   "source": []
  }
 ],
 "metadata": {
  "interpreter": {
   "hash": "39512f3c2a1741d7f752d45a133d4514127029333ea14bc2f3c6c5e6759b9029"
  },
  "kernelspec": {
   "display_name": "Python 3.8.13 ('base_env')",
   "language": "python",
   "name": "python3"
  },
  "language_info": {
   "codemirror_mode": {
    "name": "ipython",
    "version": 3
   },
   "file_extension": ".py",
   "mimetype": "text/x-python",
   "name": "python",
   "nbconvert_exporter": "python",
   "pygments_lexer": "ipython3",
   "version": "3.8.13"
  },
  "orig_nbformat": 4
 },
 "nbformat": 4,
 "nbformat_minor": 2
}
