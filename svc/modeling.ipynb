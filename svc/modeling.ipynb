{
 "cells": [
  {
   "cell_type": "markdown",
   "metadata": {},
   "source": [
    "# Clustering\n",
    "In this file, instructions how to approach the challenge can be found.\n",
    "\n",
    "We can use different types of clustering algorithms:\n",
    "\n",
    "- KMeans\n",
    "- Hierarchical\n",
    "- DBScan"
   ]
  },
  {
   "cell_type": "code",
   "execution_count": 80,
   "metadata": {},
   "outputs": [],
   "source": [
    "import pandas as pd\n",
    "import numpy as np\n",
    "import matplotlib.pyplot as plt\n",
    "import seaborn as sns\n",
    "from sklearn.cluster import KMeans\n",
    "from sklearn.preprocessing import StandardScaler"
   ]
  },
  {
   "cell_type": "markdown",
   "metadata": {},
   "source": [
    "## K-Means Clustering"
   ]
  },
  {
   "cell_type": "code",
   "execution_count": 81,
   "metadata": {},
   "outputs": [],
   "source": [
    "from sklearn.cluster import KMeans\n",
    "import plotly.graph_objects as go"
   ]
  },
  {
   "cell_type": "code",
   "execution_count": 82,
   "metadata": {},
   "outputs": [
    {
     "data": {
      "text/html": [
       "<div>\n",
       "<style scoped>\n",
       "    .dataframe tbody tr th:only-of-type {\n",
       "        vertical-align: middle;\n",
       "    }\n",
       "\n",
       "    .dataframe tbody tr th {\n",
       "        vertical-align: top;\n",
       "    }\n",
       "\n",
       "    .dataframe thead th {\n",
       "        text-align: right;\n",
       "    }\n",
       "</style>\n",
       "<table border=\"1\" class=\"dataframe\">\n",
       "  <thead>\n",
       "    <tr style=\"text-align: right;\">\n",
       "      <th></th>\n",
       "      <th>id</th>\n",
       "      <th>borough</th>\n",
       "      <th>neighborhood</th>\n",
       "      <th>longitude</th>\n",
       "      <th>latitude</th>\n",
       "      <th>clusters</th>\n",
       "    </tr>\n",
       "  </thead>\n",
       "  <tbody>\n",
       "    <tr>\n",
       "      <th>0</th>\n",
       "      <td>nyu_2451_34572.1</td>\n",
       "      <td>Bronx</td>\n",
       "      <td>Wakefield</td>\n",
       "      <td>-73.847201</td>\n",
       "      <td>40.894705</td>\n",
       "      <td>0</td>\n",
       "    </tr>\n",
       "    <tr>\n",
       "      <th>1</th>\n",
       "      <td>nyu_2451_34572.2</td>\n",
       "      <td>Bronx</td>\n",
       "      <td>Co-op City</td>\n",
       "      <td>-73.829939</td>\n",
       "      <td>40.874294</td>\n",
       "      <td>0</td>\n",
       "    </tr>\n",
       "    <tr>\n",
       "      <th>2</th>\n",
       "      <td>nyu_2451_34572.3</td>\n",
       "      <td>Bronx</td>\n",
       "      <td>Eastchester</td>\n",
       "      <td>-73.827806</td>\n",
       "      <td>40.887556</td>\n",
       "      <td>0</td>\n",
       "    </tr>\n",
       "    <tr>\n",
       "      <th>3</th>\n",
       "      <td>nyu_2451_34572.4</td>\n",
       "      <td>Bronx</td>\n",
       "      <td>Fieldston</td>\n",
       "      <td>-73.905643</td>\n",
       "      <td>40.895437</td>\n",
       "      <td>0</td>\n",
       "    </tr>\n",
       "    <tr>\n",
       "      <th>4</th>\n",
       "      <td>nyu_2451_34572.5</td>\n",
       "      <td>Bronx</td>\n",
       "      <td>Riverdale</td>\n",
       "      <td>-73.912585</td>\n",
       "      <td>40.890834</td>\n",
       "      <td>0</td>\n",
       "    </tr>\n",
       "    <tr>\n",
       "      <th>...</th>\n",
       "      <td>...</td>\n",
       "      <td>...</td>\n",
       "      <td>...</td>\n",
       "      <td>...</td>\n",
       "      <td>...</td>\n",
       "      <td>...</td>\n",
       "    </tr>\n",
       "    <tr>\n",
       "      <th>301</th>\n",
       "      <td>nyu_2451_34572.302</td>\n",
       "      <td>Manhattan</td>\n",
       "      <td>Hudson Yards</td>\n",
       "      <td>-74.000111</td>\n",
       "      <td>40.756658</td>\n",
       "      <td>1</td>\n",
       "    </tr>\n",
       "    <tr>\n",
       "      <th>302</th>\n",
       "      <td>nyu_2451_34572.303</td>\n",
       "      <td>Queens</td>\n",
       "      <td>Hammels</td>\n",
       "      <td>-73.805530</td>\n",
       "      <td>40.587338</td>\n",
       "      <td>0</td>\n",
       "    </tr>\n",
       "    <tr>\n",
       "      <th>303</th>\n",
       "      <td>nyu_2451_34572.304</td>\n",
       "      <td>Queens</td>\n",
       "      <td>Bayswater</td>\n",
       "      <td>-73.765968</td>\n",
       "      <td>40.611322</td>\n",
       "      <td>0</td>\n",
       "    </tr>\n",
       "    <tr>\n",
       "      <th>304</th>\n",
       "      <td>nyu_2451_34572.305</td>\n",
       "      <td>Queens</td>\n",
       "      <td>Queensbridge</td>\n",
       "      <td>-73.945631</td>\n",
       "      <td>40.756091</td>\n",
       "      <td>0</td>\n",
       "    </tr>\n",
       "    <tr>\n",
       "      <th>305</th>\n",
       "      <td>nyu_2451_34572.306</td>\n",
       "      <td>Staten Island</td>\n",
       "      <td>Fox Hills</td>\n",
       "      <td>-74.081740</td>\n",
       "      <td>40.617311</td>\n",
       "      <td>0</td>\n",
       "    </tr>\n",
       "  </tbody>\n",
       "</table>\n",
       "<p>306 rows × 6 columns</p>\n",
       "</div>"
      ],
      "text/plain": [
       "                     id        borough  neighborhood  longitude   latitude  \\\n",
       "0      nyu_2451_34572.1          Bronx     Wakefield -73.847201  40.894705   \n",
       "1      nyu_2451_34572.2          Bronx    Co-op City -73.829939  40.874294   \n",
       "2      nyu_2451_34572.3          Bronx   Eastchester -73.827806  40.887556   \n",
       "3      nyu_2451_34572.4          Bronx     Fieldston -73.905643  40.895437   \n",
       "4      nyu_2451_34572.5          Bronx     Riverdale -73.912585  40.890834   \n",
       "..                  ...            ...           ...        ...        ...   \n",
       "301  nyu_2451_34572.302      Manhattan  Hudson Yards -74.000111  40.756658   \n",
       "302  nyu_2451_34572.303         Queens       Hammels -73.805530  40.587338   \n",
       "303  nyu_2451_34572.304         Queens     Bayswater -73.765968  40.611322   \n",
       "304  nyu_2451_34572.305         Queens  Queensbridge -73.945631  40.756091   \n",
       "305  nyu_2451_34572.306  Staten Island     Fox Hills -74.081740  40.617311   \n",
       "\n",
       "     clusters  \n",
       "0           0  \n",
       "1           0  \n",
       "2           0  \n",
       "3           0  \n",
       "4           0  \n",
       "..        ...  \n",
       "301         1  \n",
       "302         0  \n",
       "303         0  \n",
       "304         0  \n",
       "305         0  \n",
       "\n",
       "[306 rows x 6 columns]"
      ]
     },
     "execution_count": 82,
     "metadata": {},
     "output_type": "execute_result"
    }
   ],
   "source": [
    "# Import neighborhood data\n",
    "neighborhoods= pd.read_csv('/Users/karina/GitHub/NYC_midterm_project/data/final_datasets/neighborhood_geo.csv')\n",
    "neighborhoods"
   ]
  },
  {
   "cell_type": "code",
   "execution_count": 83,
   "metadata": {},
   "outputs": [
    {
     "data": {
      "text/plain": [
       "(306, 6)"
      ]
     },
     "execution_count": 83,
     "metadata": {},
     "output_type": "execute_result"
    }
   ],
   "source": [
    "neighborhoods.shape"
   ]
  },
  {
   "cell_type": "code",
   "execution_count": 84,
   "metadata": {},
   "outputs": [
    {
     "data": {
      "text/html": [
       "<div>\n",
       "<style scoped>\n",
       "    .dataframe tbody tr th:only-of-type {\n",
       "        vertical-align: middle;\n",
       "    }\n",
       "\n",
       "    .dataframe tbody tr th {\n",
       "        vertical-align: top;\n",
       "    }\n",
       "\n",
       "    .dataframe thead th {\n",
       "        text-align: right;\n",
       "    }\n",
       "</style>\n",
       "<table border=\"1\" class=\"dataframe\">\n",
       "  <thead>\n",
       "    <tr style=\"text-align: right;\">\n",
       "      <th></th>\n",
       "      <th>0</th>\n",
       "      <th>1</th>\n",
       "      <th>2</th>\n",
       "      <th>3</th>\n",
       "      <th>4</th>\n",
       "      <th>5</th>\n",
       "      <th>6</th>\n",
       "      <th>7</th>\n",
       "      <th>8</th>\n",
       "      <th>9</th>\n",
       "      <th>...</th>\n",
       "      <th>237</th>\n",
       "      <th>238</th>\n",
       "      <th>239</th>\n",
       "      <th>240</th>\n",
       "      <th>241</th>\n",
       "      <th>242</th>\n",
       "      <th>243</th>\n",
       "      <th>244</th>\n",
       "      <th>245</th>\n",
       "      <th>246</th>\n",
       "    </tr>\n",
       "  </thead>\n",
       "  <tbody>\n",
       "    <tr>\n",
       "      <th>0</th>\n",
       "      <td>0.209833</td>\n",
       "      <td>0.497484</td>\n",
       "      <td>-0.281050</td>\n",
       "      <td>0.168836</td>\n",
       "      <td>-0.397033</td>\n",
       "      <td>1.401403</td>\n",
       "      <td>-0.520885</td>\n",
       "      <td>-0.346817</td>\n",
       "      <td>-0.259182</td>\n",
       "      <td>-0.607961</td>\n",
       "      <td>...</td>\n",
       "      <td>-0.05726</td>\n",
       "      <td>-0.05726</td>\n",
       "      <td>-0.099504</td>\n",
       "      <td>-0.099504</td>\n",
       "      <td>-0.081111</td>\n",
       "      <td>-0.05726</td>\n",
       "      <td>-0.05726</td>\n",
       "      <td>-0.099504</td>\n",
       "      <td>-0.099504</td>\n",
       "      <td>-0.05726</td>\n",
       "    </tr>\n",
       "    <tr>\n",
       "      <th>1</th>\n",
       "      <td>-0.178723</td>\n",
       "      <td>-0.367460</td>\n",
       "      <td>-0.281050</td>\n",
       "      <td>-0.403089</td>\n",
       "      <td>-0.710156</td>\n",
       "      <td>-0.236601</td>\n",
       "      <td>-0.347004</td>\n",
       "      <td>-0.293218</td>\n",
       "      <td>0.477897</td>\n",
       "      <td>-0.607961</td>\n",
       "      <td>...</td>\n",
       "      <td>-0.05726</td>\n",
       "      <td>-0.05726</td>\n",
       "      <td>-0.099504</td>\n",
       "      <td>-0.099504</td>\n",
       "      <td>-0.081111</td>\n",
       "      <td>-0.05726</td>\n",
       "      <td>-0.05726</td>\n",
       "      <td>-0.099504</td>\n",
       "      <td>-0.099504</td>\n",
       "      <td>-0.05726</td>\n",
       "    </tr>\n",
       "    <tr>\n",
       "      <th>2</th>\n",
       "      <td>-0.373000</td>\n",
       "      <td>-0.691814</td>\n",
       "      <td>-0.766385</td>\n",
       "      <td>-0.784372</td>\n",
       "      <td>-0.344845</td>\n",
       "      <td>-0.330201</td>\n",
       "      <td>-0.984567</td>\n",
       "      <td>-0.346817</td>\n",
       "      <td>-0.554014</td>\n",
       "      <td>-0.394861</td>\n",
       "      <td>...</td>\n",
       "      <td>-0.05726</td>\n",
       "      <td>-0.05726</td>\n",
       "      <td>-0.099504</td>\n",
       "      <td>-0.099504</td>\n",
       "      <td>-0.081111</td>\n",
       "      <td>-0.05726</td>\n",
       "      <td>-0.05726</td>\n",
       "      <td>-0.099504</td>\n",
       "      <td>-0.099504</td>\n",
       "      <td>-0.05726</td>\n",
       "    </tr>\n",
       "    <tr>\n",
       "      <th>3</th>\n",
       "      <td>-0.470139</td>\n",
       "      <td>0.443425</td>\n",
       "      <td>-0.232517</td>\n",
       "      <td>-0.403089</td>\n",
       "      <td>-0.188284</td>\n",
       "      <td>-1.172603</td>\n",
       "      <td>0.174638</td>\n",
       "      <td>-1.258001</td>\n",
       "      <td>-0.996261</td>\n",
       "      <td>0.244438</td>\n",
       "      <td>...</td>\n",
       "      <td>-0.05726</td>\n",
       "      <td>-0.05726</td>\n",
       "      <td>-0.099504</td>\n",
       "      <td>-0.099504</td>\n",
       "      <td>-0.081111</td>\n",
       "      <td>-0.05726</td>\n",
       "      <td>-0.05726</td>\n",
       "      <td>-0.099504</td>\n",
       "      <td>-0.099504</td>\n",
       "      <td>-0.05726</td>\n",
       "    </tr>\n",
       "    <tr>\n",
       "      <th>4</th>\n",
       "      <td>-0.373000</td>\n",
       "      <td>-1.394580</td>\n",
       "      <td>-0.329584</td>\n",
       "      <td>-0.212447</td>\n",
       "      <td>-0.083909</td>\n",
       "      <td>-0.845002</td>\n",
       "      <td>0.116678</td>\n",
       "      <td>-1.258001</td>\n",
       "      <td>-0.947122</td>\n",
       "      <td>-0.181762</td>\n",
       "      <td>...</td>\n",
       "      <td>-0.05726</td>\n",
       "      <td>-0.05726</td>\n",
       "      <td>-0.099504</td>\n",
       "      <td>-0.099504</td>\n",
       "      <td>-0.081111</td>\n",
       "      <td>-0.05726</td>\n",
       "      <td>-0.05726</td>\n",
       "      <td>-0.099504</td>\n",
       "      <td>-0.099504</td>\n",
       "      <td>-0.05726</td>\n",
       "    </tr>\n",
       "  </tbody>\n",
       "</table>\n",
       "<p>5 rows × 247 columns</p>\n",
       "</div>"
      ],
      "text/plain": [
       "          0         1         2         3         4         5         6  \\\n",
       "0  0.209833  0.497484 -0.281050  0.168836 -0.397033  1.401403 -0.520885   \n",
       "1 -0.178723 -0.367460 -0.281050 -0.403089 -0.710156 -0.236601 -0.347004   \n",
       "2 -0.373000 -0.691814 -0.766385 -0.784372 -0.344845 -0.330201 -0.984567   \n",
       "3 -0.470139  0.443425 -0.232517 -0.403089 -0.188284 -1.172603  0.174638   \n",
       "4 -0.373000 -1.394580 -0.329584 -0.212447 -0.083909 -0.845002  0.116678   \n",
       "\n",
       "          7         8         9  ...      237      238       239       240  \\\n",
       "0 -0.346817 -0.259182 -0.607961  ... -0.05726 -0.05726 -0.099504 -0.099504   \n",
       "1 -0.293218  0.477897 -0.607961  ... -0.05726 -0.05726 -0.099504 -0.099504   \n",
       "2 -0.346817 -0.554014 -0.394861  ... -0.05726 -0.05726 -0.099504 -0.099504   \n",
       "3 -1.258001 -0.996261  0.244438  ... -0.05726 -0.05726 -0.099504 -0.099504   \n",
       "4 -1.258001 -0.947122 -0.181762  ... -0.05726 -0.05726 -0.099504 -0.099504   \n",
       "\n",
       "        241      242      243       244       245      246  \n",
       "0 -0.081111 -0.05726 -0.05726 -0.099504 -0.099504 -0.05726  \n",
       "1 -0.081111 -0.05726 -0.05726 -0.099504 -0.099504 -0.05726  \n",
       "2 -0.081111 -0.05726 -0.05726 -0.099504 -0.099504 -0.05726  \n",
       "3 -0.081111 -0.05726 -0.05726 -0.099504 -0.099504 -0.05726  \n",
       "4 -0.081111 -0.05726 -0.05726 -0.099504 -0.099504 -0.05726  \n",
       "\n",
       "[5 rows x 247 columns]"
      ]
     },
     "execution_count": 84,
     "metadata": {},
     "output_type": "execute_result"
    }
   ],
   "source": [
    "# Import scaled feature data\n",
    "features_scaled = pd.read_csv('/Users/karina/GitHub/NYC_midterm_project/data/final_datasets/features_scaled_modeling.csv')\n",
    "features_scaled.head()"
   ]
  },
  {
   "cell_type": "code",
   "execution_count": 85,
   "metadata": {},
   "outputs": [
    {
     "data": {
      "text/plain": [
       "(306, 247)"
      ]
     },
     "execution_count": 85,
     "metadata": {},
     "output_type": "execute_result"
    }
   ],
   "source": [
    "features_scaled.shape"
   ]
  },
  {
   "cell_type": "code",
   "execution_count": 86,
   "metadata": {},
   "outputs": [
    {
     "data": {
      "text/html": [
       "<div>\n",
       "<style scoped>\n",
       "    .dataframe tbody tr th:only-of-type {\n",
       "        vertical-align: middle;\n",
       "    }\n",
       "\n",
       "    .dataframe tbody tr th {\n",
       "        vertical-align: top;\n",
       "    }\n",
       "\n",
       "    .dataframe thead th {\n",
       "        text-align: right;\n",
       "    }\n",
       "</style>\n",
       "<table border=\"1\" class=\"dataframe\">\n",
       "  <thead>\n",
       "    <tr style=\"text-align: right;\">\n",
       "      <th></th>\n",
       "      <th>id</th>\n",
       "      <th>1st Most Common Venue</th>\n",
       "      <th>2nd Most Common Venue</th>\n",
       "      <th>3rd Most Common Venue</th>\n",
       "      <th>4th Most Common Venue</th>\n",
       "      <th>5th Most Common Venue</th>\n",
       "    </tr>\n",
       "  </thead>\n",
       "  <tbody>\n",
       "    <tr>\n",
       "      <th>0</th>\n",
       "      <td>nyu_2451_34572.0</td>\n",
       "      <td>church</td>\n",
       "      <td>restaurant</td>\n",
       "      <td>store</td>\n",
       "      <td>school</td>\n",
       "      <td>clothing</td>\n",
       "    </tr>\n",
       "    <tr>\n",
       "      <th>1</th>\n",
       "      <td>nyu_2451_34572.1</td>\n",
       "      <td>restaurant</td>\n",
       "      <td>store</td>\n",
       "      <td>clothing</td>\n",
       "      <td>school</td>\n",
       "      <td>church</td>\n",
       "    </tr>\n",
       "    <tr>\n",
       "      <th>2</th>\n",
       "      <td>nyu_2451_34572.2</td>\n",
       "      <td>store</td>\n",
       "      <td>restaurant</td>\n",
       "      <td>church</td>\n",
       "      <td>school</td>\n",
       "      <td>clothing</td>\n",
       "    </tr>\n",
       "    <tr>\n",
       "      <th>3</th>\n",
       "      <td>nyu_2451_34572.3</td>\n",
       "      <td>restaurant</td>\n",
       "      <td>school</td>\n",
       "      <td>bank</td>\n",
       "      <td>park</td>\n",
       "      <td>store</td>\n",
       "    </tr>\n",
       "    <tr>\n",
       "      <th>4</th>\n",
       "      <td>nyu_2451_34572.4</td>\n",
       "      <td>school</td>\n",
       "      <td>bank</td>\n",
       "      <td>restaurant</td>\n",
       "      <td>store</td>\n",
       "      <td>park</td>\n",
       "    </tr>\n",
       "    <tr>\n",
       "      <th>...</th>\n",
       "      <td>...</td>\n",
       "      <td>...</td>\n",
       "      <td>...</td>\n",
       "      <td>...</td>\n",
       "      <td>...</td>\n",
       "      <td>...</td>\n",
       "    </tr>\n",
       "    <tr>\n",
       "      <th>301</th>\n",
       "      <td>nyu_2451_34572.301</td>\n",
       "      <td>school</td>\n",
       "      <td>bar</td>\n",
       "      <td>bank</td>\n",
       "      <td>store</td>\n",
       "      <td>clothing</td>\n",
       "    </tr>\n",
       "    <tr>\n",
       "      <th>302</th>\n",
       "      <td>nyu_2451_34572.302</td>\n",
       "      <td>restaurant</td>\n",
       "      <td>store</td>\n",
       "      <td>church</td>\n",
       "      <td>health</td>\n",
       "      <td>supermarket</td>\n",
       "    </tr>\n",
       "    <tr>\n",
       "      <th>303</th>\n",
       "      <td>nyu_2451_34572.303</td>\n",
       "      <td>store</td>\n",
       "      <td>restaurant</td>\n",
       "      <td>church</td>\n",
       "      <td>school</td>\n",
       "      <td>clothing</td>\n",
       "    </tr>\n",
       "    <tr>\n",
       "      <th>304</th>\n",
       "      <td>nyu_2451_34572.304</td>\n",
       "      <td>restaurant</td>\n",
       "      <td>school</td>\n",
       "      <td>store</td>\n",
       "      <td>church</td>\n",
       "      <td>lodging</td>\n",
       "    </tr>\n",
       "    <tr>\n",
       "      <th>305</th>\n",
       "      <td>nyu_2451_34572.305</td>\n",
       "      <td>store</td>\n",
       "      <td>restaurant</td>\n",
       "      <td>church</td>\n",
       "      <td>supermarket</td>\n",
       "      <td>school</td>\n",
       "    </tr>\n",
       "  </tbody>\n",
       "</table>\n",
       "<p>306 rows × 6 columns</p>\n",
       "</div>"
      ],
      "text/plain": [
       "                     id 1st Most Common Venue 2nd Most Common Venue  \\\n",
       "0      nyu_2451_34572.0                church            restaurant   \n",
       "1      nyu_2451_34572.1            restaurant                 store   \n",
       "2      nyu_2451_34572.2                 store            restaurant   \n",
       "3      nyu_2451_34572.3            restaurant                school   \n",
       "4      nyu_2451_34572.4                school                  bank   \n",
       "..                  ...                   ...                   ...   \n",
       "301  nyu_2451_34572.301                school                   bar   \n",
       "302  nyu_2451_34572.302            restaurant                 store   \n",
       "303  nyu_2451_34572.303                 store            restaurant   \n",
       "304  nyu_2451_34572.304            restaurant                school   \n",
       "305  nyu_2451_34572.305                 store            restaurant   \n",
       "\n",
       "    3rd Most Common Venue 4th Most Common Venue 5th Most Common Venue  \n",
       "0                   store                school              clothing  \n",
       "1                clothing                school                church  \n",
       "2                  church                school              clothing  \n",
       "3                    bank                  park                 store  \n",
       "4              restaurant                 store                  park  \n",
       "..                    ...                   ...                   ...  \n",
       "301                  bank                 store              clothing  \n",
       "302                church                health           supermarket  \n",
       "303                church                school              clothing  \n",
       "304                 store                church               lodging  \n",
       "305                church           supermarket                school  \n",
       "\n",
       "[306 rows x 6 columns]"
      ]
     },
     "execution_count": 86,
     "metadata": {},
     "output_type": "execute_result"
    }
   ],
   "source": [
    "# Import venues sorted\n",
    "most_common_venues = pd.read_csv('/Users/karina/GitHub/NYC_midterm_project/data/final_datasets/most_common_venues.csv')\n",
    "most_common_venues"
   ]
  },
  {
   "cell_type": "code",
   "execution_count": 87,
   "metadata": {},
   "outputs": [
    {
     "data": {
      "text/plain": [
       "(306, 6)"
      ]
     },
     "execution_count": 87,
     "metadata": {},
     "output_type": "execute_result"
    }
   ],
   "source": [
    "most_common_venues.shape"
   ]
  },
  {
   "cell_type": "markdown",
   "metadata": {},
   "source": [
    "### K-Means"
   ]
  },
  {
   "cell_type": "code",
   "execution_count": 88,
   "metadata": {},
   "outputs": [],
   "source": [
    "# Create elbow graph function\n",
    "def plot_distortion(X,max_clusters = 10):\n",
    "    distortions = []\n",
    "    for i in range(1, max_clusters +1):\n",
    "        km = KMeans(n_clusters=i,\n",
    "                    init='k-means++',\n",
    "                    n_init=10,\n",
    "                    random_state=0)\n",
    "        km.fit(X)\n",
    "        distortions.append(km.inertia_)\n",
    "\n",
    "    plt.plot(range(1,max_clusters +1), distortions, marker='o')\n",
    "    plt.xlabel('Number of clusters')\n",
    "    plt.ylabel('Distortion')\n",
    "    plt.show() "
   ]
  },
  {
   "cell_type": "code",
   "execution_count": 89,
   "metadata": {},
   "outputs": [
    {
     "data": {
      "image/png": "[encoded data removed]",
      "text/plain": [
       "<Figure size 432x288 with 1 Axes>"
      ]
     },
     "metadata": {
      "needs_background": "light"
     },
     "output_type": "display_data"
    }
   ],
   "source": [
    "# Plot elbow graph\n",
    "plot_distortion(features_scaled)"
   ]
  },
  {
   "cell_type": "code",
   "execution_count": 90,
   "metadata": {},
   "outputs": [
    {
     "data": {
      "text/plain": [
       "array([3, 3, 1, 5, 5, 5, 5, 5, 5, 3], dtype=int32)"
      ]
     },
     "execution_count": 90,
     "metadata": {},
     "output_type": "execute_result"
    }
   ],
   "source": [
    "# Cluster data points using kmeans and get labels\n",
    "kclusters_features = 8\n",
    "\n",
    "kmeans_features = KMeans(n_clusters=kclusters_features, random_state=0).fit(features_scaled)\n",
    "\n",
    "kmeans_features.labels_[0:10] "
   ]
  },
  {
   "cell_type": "code",
   "execution_count": 91,
   "metadata": {},
   "outputs": [],
   "source": [
    "def plot_clusters(X,y_res, plt_cluster_centers = False):\n",
    "    X_centroids = []\n",
    "    Y_centroids = []\n",
    "\n",
    "    for cluster in set(y_res):\n",
    "        x = X[y_res == cluster,0]\n",
    "        y = X[y_res == cluster,1]\n",
    "        X_centroids.append(np.mean(x))\n",
    "        Y_centroids.append(np.mean(y))\n",
    "\n",
    "        plt.scatter(x,\n",
    "                    y,\n",
    "                    s=50,\n",
    "                    marker='s',\n",
    "                    label=f'cluster {cluster}')\n",
    "\n",
    "    if plt_cluster_centers:\n",
    "        plt.scatter(X_centroids,\n",
    "                    Y_centroids,\n",
    "                    marker='*',\n",
    "                    c='red',\n",
    "                    s=250,\n",
    "                    label='centroids')\n",
    "    plt.legend()\n",
    "    plt.grid()\n",
    "    plt.show()"
   ]
  },
  {
   "cell_type": "code",
   "execution_count": 92,
   "metadata": {},
   "outputs": [
    {
     "data": {
      "image/png": "[encoded data removed]",
      "text/plain": [
       "<Figure size 432x288 with 1 Axes>"
      ]
     },
     "metadata": {
      "needs_background": "light"
     },
     "output_type": "display_data"
    }
   ],
   "source": [
    "y_km_features = kmeans_features.fit_predict(features_scaled)\n",
    "plot_clusters(np.array(features_scaled), y_km_features, plt_cluster_centers= True)"
   ]
  },
  {
   "cell_type": "code",
   "execution_count": 93,
   "metadata": {},
   "outputs": [],
   "source": [
    "# Create list of clusters\n",
    "clusters = kmeans_features.labels_.tolist()"
   ]
  },
  {
   "cell_type": "code",
   "execution_count": 94,
   "metadata": {},
   "outputs": [
    {
     "data": {
      "text/plain": [
       "306"
      ]
     },
     "execution_count": 94,
     "metadata": {},
     "output_type": "execute_result"
    }
   ],
   "source": [
    "len(clusters)"
   ]
  },
  {
   "cell_type": "code",
   "execution_count": 95,
   "metadata": {},
   "outputs": [
    {
     "data": {
      "text/html": [
       "<div>\n",
       "<style scoped>\n",
       "    .dataframe tbody tr th:only-of-type {\n",
       "        vertical-align: middle;\n",
       "    }\n",
       "\n",
       "    .dataframe tbody tr th {\n",
       "        vertical-align: top;\n",
       "    }\n",
       "\n",
       "    .dataframe thead th {\n",
       "        text-align: right;\n",
       "    }\n",
       "</style>\n",
       "<table border=\"1\" class=\"dataframe\">\n",
       "  <thead>\n",
       "    <tr style=\"text-align: right;\">\n",
       "      <th></th>\n",
       "      <th>id</th>\n",
       "      <th>borough</th>\n",
       "      <th>neighborhood</th>\n",
       "      <th>longitude</th>\n",
       "      <th>latitude</th>\n",
       "      <th>clusters</th>\n",
       "      <th>1st Most Common Venue</th>\n",
       "      <th>2nd Most Common Venue</th>\n",
       "      <th>3rd Most Common Venue</th>\n",
       "      <th>4th Most Common Venue</th>\n",
       "      <th>5th Most Common Venue</th>\n",
       "    </tr>\n",
       "  </thead>\n",
       "  <tbody>\n",
       "    <tr>\n",
       "      <th>0</th>\n",
       "      <td>nyu_2451_34572.1</td>\n",
       "      <td>Bronx</td>\n",
       "      <td>Wakefield</td>\n",
       "      <td>-73.847201</td>\n",
       "      <td>40.894705</td>\n",
       "      <td>0</td>\n",
       "      <td>restaurant</td>\n",
       "      <td>store</td>\n",
       "      <td>clothing</td>\n",
       "      <td>school</td>\n",
       "      <td>church</td>\n",
       "    </tr>\n",
       "    <tr>\n",
       "      <th>1</th>\n",
       "      <td>nyu_2451_34572.2</td>\n",
       "      <td>Bronx</td>\n",
       "      <td>Co-op City</td>\n",
       "      <td>-73.829939</td>\n",
       "      <td>40.874294</td>\n",
       "      <td>0</td>\n",
       "      <td>store</td>\n",
       "      <td>restaurant</td>\n",
       "      <td>church</td>\n",
       "      <td>school</td>\n",
       "      <td>clothing</td>\n",
       "    </tr>\n",
       "    <tr>\n",
       "      <th>2</th>\n",
       "      <td>nyu_2451_34572.3</td>\n",
       "      <td>Bronx</td>\n",
       "      <td>Eastchester</td>\n",
       "      <td>-73.827806</td>\n",
       "      <td>40.887556</td>\n",
       "      <td>0</td>\n",
       "      <td>restaurant</td>\n",
       "      <td>school</td>\n",
       "      <td>bank</td>\n",
       "      <td>park</td>\n",
       "      <td>store</td>\n",
       "    </tr>\n",
       "    <tr>\n",
       "      <th>3</th>\n",
       "      <td>nyu_2451_34572.4</td>\n",
       "      <td>Bronx</td>\n",
       "      <td>Fieldston</td>\n",
       "      <td>-73.905643</td>\n",
       "      <td>40.895437</td>\n",
       "      <td>0</td>\n",
       "      <td>school</td>\n",
       "      <td>bank</td>\n",
       "      <td>restaurant</td>\n",
       "      <td>store</td>\n",
       "      <td>park</td>\n",
       "    </tr>\n",
       "    <tr>\n",
       "      <th>4</th>\n",
       "      <td>nyu_2451_34572.5</td>\n",
       "      <td>Bronx</td>\n",
       "      <td>Riverdale</td>\n",
       "      <td>-73.912585</td>\n",
       "      <td>40.890834</td>\n",
       "      <td>0</td>\n",
       "      <td>store</td>\n",
       "      <td>restaurant</td>\n",
       "      <td>school</td>\n",
       "      <td>bank</td>\n",
       "      <td>park</td>\n",
       "    </tr>\n",
       "    <tr>\n",
       "      <th>...</th>\n",
       "      <td>...</td>\n",
       "      <td>...</td>\n",
       "      <td>...</td>\n",
       "      <td>...</td>\n",
       "      <td>...</td>\n",
       "      <td>...</td>\n",
       "      <td>...</td>\n",
       "      <td>...</td>\n",
       "      <td>...</td>\n",
       "      <td>...</td>\n",
       "      <td>...</td>\n",
       "    </tr>\n",
       "    <tr>\n",
       "      <th>300</th>\n",
       "      <td>nyu_2451_34572.301</td>\n",
       "      <td>Brooklyn</td>\n",
       "      <td>Erasmus</td>\n",
       "      <td>-73.948177</td>\n",
       "      <td>40.646926</td>\n",
       "      <td>0</td>\n",
       "      <td>school</td>\n",
       "      <td>bar</td>\n",
       "      <td>bank</td>\n",
       "      <td>store</td>\n",
       "      <td>clothing</td>\n",
       "    </tr>\n",
       "    <tr>\n",
       "      <th>301</th>\n",
       "      <td>nyu_2451_34572.302</td>\n",
       "      <td>Manhattan</td>\n",
       "      <td>Hudson Yards</td>\n",
       "      <td>-74.000111</td>\n",
       "      <td>40.756658</td>\n",
       "      <td>1</td>\n",
       "      <td>restaurant</td>\n",
       "      <td>store</td>\n",
       "      <td>church</td>\n",
       "      <td>health</td>\n",
       "      <td>supermarket</td>\n",
       "    </tr>\n",
       "    <tr>\n",
       "      <th>302</th>\n",
       "      <td>nyu_2451_34572.303</td>\n",
       "      <td>Queens</td>\n",
       "      <td>Hammels</td>\n",
       "      <td>-73.805530</td>\n",
       "      <td>40.587338</td>\n",
       "      <td>0</td>\n",
       "      <td>store</td>\n",
       "      <td>restaurant</td>\n",
       "      <td>church</td>\n",
       "      <td>school</td>\n",
       "      <td>clothing</td>\n",
       "    </tr>\n",
       "    <tr>\n",
       "      <th>303</th>\n",
       "      <td>nyu_2451_34572.304</td>\n",
       "      <td>Queens</td>\n",
       "      <td>Bayswater</td>\n",
       "      <td>-73.765968</td>\n",
       "      <td>40.611322</td>\n",
       "      <td>0</td>\n",
       "      <td>restaurant</td>\n",
       "      <td>school</td>\n",
       "      <td>store</td>\n",
       "      <td>church</td>\n",
       "      <td>lodging</td>\n",
       "    </tr>\n",
       "    <tr>\n",
       "      <th>304</th>\n",
       "      <td>nyu_2451_34572.305</td>\n",
       "      <td>Queens</td>\n",
       "      <td>Queensbridge</td>\n",
       "      <td>-73.945631</td>\n",
       "      <td>40.756091</td>\n",
       "      <td>0</td>\n",
       "      <td>store</td>\n",
       "      <td>restaurant</td>\n",
       "      <td>church</td>\n",
       "      <td>supermarket</td>\n",
       "      <td>school</td>\n",
       "    </tr>\n",
       "  </tbody>\n",
       "</table>\n",
       "<p>305 rows × 11 columns</p>\n",
       "</div>"
      ],
      "text/plain": [
       "                     id    borough  neighborhood  longitude   latitude  \\\n",
       "0      nyu_2451_34572.1      Bronx     Wakefield -73.847201  40.894705   \n",
       "1      nyu_2451_34572.2      Bronx    Co-op City -73.829939  40.874294   \n",
       "2      nyu_2451_34572.3      Bronx   Eastchester -73.827806  40.887556   \n",
       "3      nyu_2451_34572.4      Bronx     Fieldston -73.905643  40.895437   \n",
       "4      nyu_2451_34572.5      Bronx     Riverdale -73.912585  40.890834   \n",
       "..                  ...        ...           ...        ...        ...   \n",
       "300  nyu_2451_34572.301   Brooklyn       Erasmus -73.948177  40.646926   \n",
       "301  nyu_2451_34572.302  Manhattan  Hudson Yards -74.000111  40.756658   \n",
       "302  nyu_2451_34572.303     Queens       Hammels -73.805530  40.587338   \n",
       "303  nyu_2451_34572.304     Queens     Bayswater -73.765968  40.611322   \n",
       "304  nyu_2451_34572.305     Queens  Queensbridge -73.945631  40.756091   \n",
       "\n",
       "     clusters 1st Most Common Venue 2nd Most Common Venue  \\\n",
       "0           0            restaurant                 store   \n",
       "1           0                 store            restaurant   \n",
       "2           0            restaurant                school   \n",
       "3           0                school                  bank   \n",
       "4           0                 store            restaurant   \n",
       "..        ...                   ...                   ...   \n",
       "300         0                school                   bar   \n",
       "301         1            restaurant                 store   \n",
       "302         0                 store            restaurant   \n",
       "303         0            restaurant                school   \n",
       "304         0                 store            restaurant   \n",
       "\n",
       "    3rd Most Common Venue 4th Most Common Venue 5th Most Common Venue  \n",
       "0                clothing                school                church  \n",
       "1                  church                school              clothing  \n",
       "2                    bank                  park                 store  \n",
       "3              restaurant                 store                  park  \n",
       "4                  school                  bank                  park  \n",
       "..                    ...                   ...                   ...  \n",
       "300                  bank                 store              clothing  \n",
       "301                church                health           supermarket  \n",
       "302                church                school              clothing  \n",
       "303                 store                church               lodging  \n",
       "304                church           supermarket                school  \n",
       "\n",
       "[305 rows x 11 columns]"
      ]
     },
     "execution_count": 95,
     "metadata": {},
     "output_type": "execute_result"
    }
   ],
   "source": [
    "# Merge venue data with neighborhood data\n",
    "features_data = neighborhoods.copy()\n",
    "features_data = pd.merge(features_data, most_common_venues)\n",
    "features_data"
   ]
  },
  {
   "cell_type": "code",
   "execution_count": 96,
   "metadata": {},
   "outputs": [
    {
     "ename": "SyntaxError",
     "evalue": "invalid syntax (1860032920.py, line 2)",
     "output_type": "error",
     "traceback": [
      "\u001b[0;36m  Input \u001b[0;32mIn [96]\u001b[0;36m\u001b[0m\n\u001b[0;31m    last_row_venues =\u001b[0m\n\u001b[0m                      ^\u001b[0m\n\u001b[0;31mSyntaxError\u001b[0m\u001b[0;31m:\u001b[0m invalid syntax\n"
     ]
    }
   ],
   "source": [
    "last_row = neighborhoods.iloc[-1:, :]\n",
    "last_row_venues = \n",
    "last_row"
   ]
  },
  {
   "cell_type": "code",
   "execution_count": null,
   "metadata": {},
   "outputs": [],
   "source": [
    "list1 = features_data.id.tolist()\n",
    "list2 = neighborhoods.id.to_list()"
   ]
  },
  {
   "cell_type": "code",
   "execution_count": null,
   "metadata": {},
   "outputs": [
    {
     "data": {
      "text/plain": [
       "['nyu_2451_34572.306']"
      ]
     },
     "execution_count": 70,
     "metadata": {},
     "output_type": "execute_result"
    }
   ],
   "source": [
    "main_list = list(set(list2) - set(list1))\n",
    "main_list"
   ]
  },
  {
   "cell_type": "markdown",
   "metadata": {},
   "source": [
    "### Mapping"
   ]
  },
  {
   "cell_type": "code",
   "execution_count": null,
   "metadata": {},
   "outputs": [],
   "source": []
  },
  {
   "cell_type": "code",
   "execution_count": null,
   "metadata": {},
   "outputs": [],
   "source": []
  },
  {
   "cell_type": "markdown",
   "metadata": {},
   "source": [
    "### Analyzing Clusters"
   ]
  },
  {
   "cell_type": "code",
   "execution_count": null,
   "metadata": {},
   "outputs": [],
   "source": []
  },
  {
   "cell_type": "markdown",
   "metadata": {},
   "source": [
    "# Hierarchical Clustering"
   ]
  },
  {
   "cell_type": "code",
   "execution_count": null,
   "metadata": {},
   "outputs": [],
   "source": [
    "from sklearn.cluster import AgglomerativeClustering\n",
    "import scipy.cluster.hierarchy as sch"
   ]
  },
  {
   "cell_type": "code",
   "execution_count": null,
   "metadata": {},
   "outputs": [
    {
     "data": {
      "text/html": [
       "<div>\n",
       "<style scoped>\n",
       "    .dataframe tbody tr th:only-of-type {\n",
       "        vertical-align: middle;\n",
       "    }\n",
       "\n",
       "    .dataframe tbody tr th {\n",
       "        vertical-align: top;\n",
       "    }\n",
       "\n",
       "    .dataframe thead th {\n",
       "        text-align: right;\n",
       "    }\n",
       "</style>\n",
       "<table border=\"1\" class=\"dataframe\">\n",
       "  <thead>\n",
       "    <tr style=\"text-align: right;\">\n",
       "      <th></th>\n",
       "      <th>0</th>\n",
       "      <th>1</th>\n",
       "      <th>2</th>\n",
       "      <th>3</th>\n",
       "      <th>4</th>\n",
       "      <th>5</th>\n",
       "      <th>6</th>\n",
       "      <th>7</th>\n",
       "      <th>8</th>\n",
       "      <th>9</th>\n",
       "      <th>...</th>\n",
       "      <th>237</th>\n",
       "      <th>238</th>\n",
       "      <th>239</th>\n",
       "      <th>240</th>\n",
       "      <th>241</th>\n",
       "      <th>242</th>\n",
       "      <th>243</th>\n",
       "      <th>244</th>\n",
       "      <th>245</th>\n",
       "      <th>246</th>\n",
       "    </tr>\n",
       "  </thead>\n",
       "  <tbody>\n",
       "    <tr>\n",
       "      <th>0</th>\n",
       "      <td>0.209833</td>\n",
       "      <td>0.497484</td>\n",
       "      <td>-0.281050</td>\n",
       "      <td>0.168836</td>\n",
       "      <td>-0.397033</td>\n",
       "      <td>1.401403</td>\n",
       "      <td>-0.520885</td>\n",
       "      <td>-0.346817</td>\n",
       "      <td>-0.259182</td>\n",
       "      <td>-0.607961</td>\n",
       "      <td>...</td>\n",
       "      <td>-0.05726</td>\n",
       "      <td>-0.05726</td>\n",
       "      <td>-0.099504</td>\n",
       "      <td>-0.099504</td>\n",
       "      <td>-0.081111</td>\n",
       "      <td>-0.05726</td>\n",
       "      <td>-0.05726</td>\n",
       "      <td>-0.099504</td>\n",
       "      <td>-0.099504</td>\n",
       "      <td>-0.05726</td>\n",
       "    </tr>\n",
       "    <tr>\n",
       "      <th>1</th>\n",
       "      <td>-0.178723</td>\n",
       "      <td>-0.367460</td>\n",
       "      <td>-0.281050</td>\n",
       "      <td>-0.403089</td>\n",
       "      <td>-0.710156</td>\n",
       "      <td>-0.236601</td>\n",
       "      <td>-0.347004</td>\n",
       "      <td>-0.293218</td>\n",
       "      <td>0.477897</td>\n",
       "      <td>-0.607961</td>\n",
       "      <td>...</td>\n",
       "      <td>-0.05726</td>\n",
       "      <td>-0.05726</td>\n",
       "      <td>-0.099504</td>\n",
       "      <td>-0.099504</td>\n",
       "      <td>-0.081111</td>\n",
       "      <td>-0.05726</td>\n",
       "      <td>-0.05726</td>\n",
       "      <td>-0.099504</td>\n",
       "      <td>-0.099504</td>\n",
       "      <td>-0.05726</td>\n",
       "    </tr>\n",
       "    <tr>\n",
       "      <th>2</th>\n",
       "      <td>-0.373000</td>\n",
       "      <td>-0.691814</td>\n",
       "      <td>-0.766385</td>\n",
       "      <td>-0.784372</td>\n",
       "      <td>-0.344845</td>\n",
       "      <td>-0.330201</td>\n",
       "      <td>-0.984567</td>\n",
       "      <td>-0.346817</td>\n",
       "      <td>-0.554014</td>\n",
       "      <td>-0.394861</td>\n",
       "      <td>...</td>\n",
       "      <td>-0.05726</td>\n",
       "      <td>-0.05726</td>\n",
       "      <td>-0.099504</td>\n",
       "      <td>-0.099504</td>\n",
       "      <td>-0.081111</td>\n",
       "      <td>-0.05726</td>\n",
       "      <td>-0.05726</td>\n",
       "      <td>-0.099504</td>\n",
       "      <td>-0.099504</td>\n",
       "      <td>-0.05726</td>\n",
       "    </tr>\n",
       "    <tr>\n",
       "      <th>3</th>\n",
       "      <td>-0.470139</td>\n",
       "      <td>0.443425</td>\n",
       "      <td>-0.232517</td>\n",
       "      <td>-0.403089</td>\n",
       "      <td>-0.188284</td>\n",
       "      <td>-1.172603</td>\n",
       "      <td>0.174638</td>\n",
       "      <td>-1.258001</td>\n",
       "      <td>-0.996261</td>\n",
       "      <td>0.244438</td>\n",
       "      <td>...</td>\n",
       "      <td>-0.05726</td>\n",
       "      <td>-0.05726</td>\n",
       "      <td>-0.099504</td>\n",
       "      <td>-0.099504</td>\n",
       "      <td>-0.081111</td>\n",
       "      <td>-0.05726</td>\n",
       "      <td>-0.05726</td>\n",
       "      <td>-0.099504</td>\n",
       "      <td>-0.099504</td>\n",
       "      <td>-0.05726</td>\n",
       "    </tr>\n",
       "    <tr>\n",
       "      <th>4</th>\n",
       "      <td>-0.373000</td>\n",
       "      <td>-1.394580</td>\n",
       "      <td>-0.329584</td>\n",
       "      <td>-0.212447</td>\n",
       "      <td>-0.083909</td>\n",
       "      <td>-0.845002</td>\n",
       "      <td>0.116678</td>\n",
       "      <td>-1.258001</td>\n",
       "      <td>-0.947122</td>\n",
       "      <td>-0.181762</td>\n",
       "      <td>...</td>\n",
       "      <td>-0.05726</td>\n",
       "      <td>-0.05726</td>\n",
       "      <td>-0.099504</td>\n",
       "      <td>-0.099504</td>\n",
       "      <td>-0.081111</td>\n",
       "      <td>-0.05726</td>\n",
       "      <td>-0.05726</td>\n",
       "      <td>-0.099504</td>\n",
       "      <td>-0.099504</td>\n",
       "      <td>-0.05726</td>\n",
       "    </tr>\n",
       "  </tbody>\n",
       "</table>\n",
       "<p>5 rows × 247 columns</p>\n",
       "</div>"
      ],
      "text/plain": [
       "          0         1         2         3         4         5         6  \\\n",
       "0  0.209833  0.497484 -0.281050  0.168836 -0.397033  1.401403 -0.520885   \n",
       "1 -0.178723 -0.367460 -0.281050 -0.403089 -0.710156 -0.236601 -0.347004   \n",
       "2 -0.373000 -0.691814 -0.766385 -0.784372 -0.344845 -0.330201 -0.984567   \n",
       "3 -0.470139  0.443425 -0.232517 -0.403089 -0.188284 -1.172603  0.174638   \n",
       "4 -0.373000 -1.394580 -0.329584 -0.212447 -0.083909 -0.845002  0.116678   \n",
       "\n",
       "          7         8         9  ...      237      238       239       240  \\\n",
       "0 -0.346817 -0.259182 -0.607961  ... -0.05726 -0.05726 -0.099504 -0.099504   \n",
       "1 -0.293218  0.477897 -0.607961  ... -0.05726 -0.05726 -0.099504 -0.099504   \n",
       "2 -0.346817 -0.554014 -0.394861  ... -0.05726 -0.05726 -0.099504 -0.099504   \n",
       "3 -1.258001 -0.996261  0.244438  ... -0.05726 -0.05726 -0.099504 -0.099504   \n",
       "4 -1.258001 -0.947122 -0.181762  ... -0.05726 -0.05726 -0.099504 -0.099504   \n",
       "\n",
       "        241      242      243       244       245      246  \n",
       "0 -0.081111 -0.05726 -0.05726 -0.099504 -0.099504 -0.05726  \n",
       "1 -0.081111 -0.05726 -0.05726 -0.099504 -0.099504 -0.05726  \n",
       "2 -0.081111 -0.05726 -0.05726 -0.099504 -0.099504 -0.05726  \n",
       "3 -0.081111 -0.05726 -0.05726 -0.099504 -0.099504 -0.05726  \n",
       "4 -0.081111 -0.05726 -0.05726 -0.099504 -0.099504 -0.05726  \n",
       "\n",
       "[5 rows x 247 columns]"
      ]
     },
     "execution_count": 3,
     "metadata": {},
     "output_type": "execute_result"
    }
   ],
   "source": [
    "# Import scaled feature data\n",
    "features_scaled = pd.read_csv('/Users/karina/GitHub/NYC_midterm_project/data/final_datasets/features_scaled_modeling.csv')\n",
    "features_scaled.head()"
   ]
  },
  {
   "cell_type": "code",
   "execution_count": null,
   "metadata": {},
   "outputs": [],
   "source": [
    "X = np.array(features_scaled)"
   ]
  },
  {
   "cell_type": "markdown",
   "metadata": {},
   "source": [
    "### Denodrogram"
   ]
  },
  {
   "cell_type": "code",
   "execution_count": null,
   "metadata": {},
   "outputs": [],
   "source": [
    "# define plot_dendrogram function\n",
    "def plot_dendrogram(X,method ='ward'):\n",
    "    dendrogram = sch.dendrogram(sch.linkage(X, method=method))\n",
    "    plt.title(\"Dendrogram\")\n",
    "    plt.ylabel(\"Euclidean distances\")\n",
    "    plt.xlabel('Points')\n",
    "    plt.show()"
   ]
  },
  {
   "cell_type": "code",
   "execution_count": null,
   "metadata": {},
   "outputs": [],
   "source": [
    "# Plot dendrogram\n",
    "plot_dendrogram(X)"
   ]
  },
  {
   "cell_type": "markdown",
   "metadata": {},
   "source": [
    "### Agglomerative Clustering"
   ]
  },
  {
   "cell_type": "code",
   "execution_count": null,
   "metadata": {},
   "outputs": [],
   "source": [
    "# Create clustering object\n",
    "ac = AgglomerativeClustering(affinity='euclidean',\n",
    "                             linkage='ward',\n",
    "                             n_clusters = 2)"
   ]
  },
  {
   "cell_type": "code",
   "execution_count": null,
   "metadata": {},
   "outputs": [],
   "source": [
    "# fit and predict\n",
    "y_hc = ac.fit_predict(features_scaled)"
   ]
  },
  {
   "cell_type": "code",
   "execution_count": null,
   "metadata": {},
   "outputs": [],
   "source": [
    "# Create plot\n",
    "def plot_clusters(X,y_res, plt_cluster_centers = False):\n",
    "    X_centroids = []\n",
    "    Y_centroids = []\n",
    "\n",
    "    for cluster in set(y_res):\n",
    "        x = X[y_res == cluster,0]\n",
    "        y = X[y_res == cluster,1]\n",
    "        X_centroids.append(np.mean(x))\n",
    "        Y_centroids.append(np.mean(y))\n",
    "\n",
    "        plt.scatter(x,\n",
    "                    y,\n",
    "                    s=50,\n",
    "                    marker='s',\n",
    "                    label=f'cluster {cluster}')\n",
    "\n",
    "    if plt_cluster_centers:\n",
    "        plt.scatter(X_centroids,\n",
    "                    Y_centroids,\n",
    "                    marker='*',\n",
    "                    c='red',\n",
    "                    s=250,\n",
    "                    label='centroids')\n",
    "    plt.legend()\n",
    "    plt.grid()\n",
    "    plt.show()"
   ]
  },
  {
   "cell_type": "code",
   "execution_count": null,
   "metadata": {},
   "outputs": [
    {
     "data": {
      "image/png": "[encoded data removed]",
      "text/plain": [
       "<Figure size 432x288 with 1 Axes>"
      ]
     },
     "metadata": {
      "needs_background": "light"
     },
     "output_type": "display_data"
    }
   ],
   "source": [
    "# Plot clustering result\n",
    "plot_clusters(X,y_hc)"
   ]
  },
  {
   "cell_type": "markdown",
   "metadata": {},
   "source": [
    "### Analysing Clusters"
   ]
  },
  {
   "cell_type": "code",
   "execution_count": null,
   "metadata": {},
   "outputs": [],
   "source": [
    "clusters = y_hc.tolist()"
   ]
  },
  {
   "cell_type": "code",
   "execution_count": null,
   "metadata": {},
   "outputs": [
    {
     "data": {
      "text/html": [
       "<div>\n",
       "<style scoped>\n",
       "    .dataframe tbody tr th:only-of-type {\n",
       "        vertical-align: middle;\n",
       "    }\n",
       "\n",
       "    .dataframe tbody tr th {\n",
       "        vertical-align: top;\n",
       "    }\n",
       "\n",
       "    .dataframe thead th {\n",
       "        text-align: right;\n",
       "    }\n",
       "</style>\n",
       "<table border=\"1\" class=\"dataframe\">\n",
       "  <thead>\n",
       "    <tr style=\"text-align: right;\">\n",
       "      <th></th>\n",
       "      <th>id</th>\n",
       "      <th>borough</th>\n",
       "      <th>neighborhood</th>\n",
       "      <th>longitude</th>\n",
       "      <th>latitude</th>\n",
       "    </tr>\n",
       "  </thead>\n",
       "  <tbody>\n",
       "    <tr>\n",
       "      <th>0</th>\n",
       "      <td>nyu_2451_34572.1</td>\n",
       "      <td>Bronx</td>\n",
       "      <td>Wakefield</td>\n",
       "      <td>-73.847201</td>\n",
       "      <td>40.894705</td>\n",
       "    </tr>\n",
       "    <tr>\n",
       "      <th>1</th>\n",
       "      <td>nyu_2451_34572.2</td>\n",
       "      <td>Bronx</td>\n",
       "      <td>Co-op City</td>\n",
       "      <td>-73.829939</td>\n",
       "      <td>40.874294</td>\n",
       "    </tr>\n",
       "    <tr>\n",
       "      <th>2</th>\n",
       "      <td>nyu_2451_34572.3</td>\n",
       "      <td>Bronx</td>\n",
       "      <td>Eastchester</td>\n",
       "      <td>-73.827806</td>\n",
       "      <td>40.887556</td>\n",
       "    </tr>\n",
       "    <tr>\n",
       "      <th>3</th>\n",
       "      <td>nyu_2451_34572.4</td>\n",
       "      <td>Bronx</td>\n",
       "      <td>Fieldston</td>\n",
       "      <td>-73.905643</td>\n",
       "      <td>40.895437</td>\n",
       "    </tr>\n",
       "    <tr>\n",
       "      <th>4</th>\n",
       "      <td>nyu_2451_34572.5</td>\n",
       "      <td>Bronx</td>\n",
       "      <td>Riverdale</td>\n",
       "      <td>-73.912585</td>\n",
       "      <td>40.890834</td>\n",
       "    </tr>\n",
       "  </tbody>\n",
       "</table>\n",
       "</div>"
      ],
      "text/plain": [
       "                 id borough neighborhood  longitude   latitude\n",
       "0  nyu_2451_34572.1   Bronx    Wakefield -73.847201  40.894705\n",
       "1  nyu_2451_34572.2   Bronx   Co-op City -73.829939  40.874294\n",
       "2  nyu_2451_34572.3   Bronx  Eastchester -73.827806  40.887556\n",
       "3  nyu_2451_34572.4   Bronx    Fieldston -73.905643  40.895437\n",
       "4  nyu_2451_34572.5   Bronx    Riverdale -73.912585  40.890834"
      ]
     },
     "execution_count": 78,
     "metadata": {},
     "output_type": "execute_result"
    }
   ],
   "source": [
    "# Import neighborhood data\n",
    "neighborhood_data = pd.read_csv('/Users/karina/GitHub/NYC_midterm_project/data/old_datasets/old_dataset.csv')\n",
    "neighborhoods = neighborhood_data.iloc[:, 1:6]\n",
    "neighborhoods.head()"
   ]
  },
  {
   "cell_type": "code",
   "execution_count": null,
   "metadata": {},
   "outputs": [
    {
     "ename": "ValueError",
     "evalue": "Length of values (306) does not match length of index (305)",
     "output_type": "error",
     "traceback": [
      "\u001b[0;31m---------------------------------------------------------------------------\u001b[0m",
      "\u001b[0;31mValueError\u001b[0m                                Traceback (most recent call last)",
      "\u001b[1;32m/Users/karina/GitHub/NYC_midterm_project/svc/modeling.ipynb Cell 43'\u001b[0m in \u001b[0;36m<cell line: 4>\u001b[0;34m()\u001b[0m\n\u001b[1;32m      <a href='vscode-notebook-cell:/Users/karina/GitHub/NYC_midterm_project/svc/modeling.ipynb#ch0000063?line=1'>2</a>\u001b[0m data \u001b[39m=\u001b[39m pd\u001b[39m.\u001b[39mmerge(neighborhoods, most_common_venues, on\u001b[39m=\u001b[39m\u001b[39m'\u001b[39m\u001b[39mid\u001b[39m\u001b[39m'\u001b[39m)\n\u001b[1;32m      <a href='vscode-notebook-cell:/Users/karina/GitHub/NYC_midterm_project/svc/modeling.ipynb#ch0000063?line=2'>3</a>\u001b[0m data \u001b[39m=\u001b[39m data\u001b[39m.\u001b[39mdrop(columns\u001b[39m=\u001b[39m[\u001b[39m'\u001b[39m\u001b[39mid\u001b[39m\u001b[39m'\u001b[39m, \u001b[39m'\u001b[39m\u001b[39mlongitude\u001b[39m\u001b[39m'\u001b[39m, \u001b[39m'\u001b[39m\u001b[39mlatitude\u001b[39m\u001b[39m'\u001b[39m])\n\u001b[0;32m----> <a href='vscode-notebook-cell:/Users/karina/GitHub/NYC_midterm_project/svc/modeling.ipynb#ch0000063?line=3'>4</a>\u001b[0m data[\u001b[39m'\u001b[39m\u001b[39mclusters\u001b[39m\u001b[39m'\u001b[39m] \u001b[39m=\u001b[39m clusters\n\u001b[1;32m      <a href='vscode-notebook-cell:/Users/karina/GitHub/NYC_midterm_project/svc/modeling.ipynb#ch0000063?line=4'>5</a>\u001b[0m data\u001b[39m.\u001b[39mhead()\n",
      "File \u001b[0;32m/opt/homebrew/Caskroom/miniforge/base/envs/base_env/lib/python3.8/site-packages/pandas/core/frame.py:3655\u001b[0m, in \u001b[0;36mDataFrame.__setitem__\u001b[0;34m(self, key, value)\u001b[0m\n\u001b[1;32m   <a href='file:///opt/homebrew/Caskroom/miniforge/base/envs/base_env/lib/python3.8/site-packages/pandas/core/frame.py?line=3651'>3652</a>\u001b[0m     \u001b[39mself\u001b[39m\u001b[39m.\u001b[39m_setitem_array([key], value)\n\u001b[1;32m   <a href='file:///opt/homebrew/Caskroom/miniforge/base/envs/base_env/lib/python3.8/site-packages/pandas/core/frame.py?line=3652'>3653</a>\u001b[0m \u001b[39melse\u001b[39;00m:\n\u001b[1;32m   <a href='file:///opt/homebrew/Caskroom/miniforge/base/envs/base_env/lib/python3.8/site-packages/pandas/core/frame.py?line=3653'>3654</a>\u001b[0m     \u001b[39m# set column\u001b[39;00m\n\u001b[0;32m-> <a href='file:///opt/homebrew/Caskroom/miniforge/base/envs/base_env/lib/python3.8/site-packages/pandas/core/frame.py?line=3654'>3655</a>\u001b[0m     \u001b[39mself\u001b[39;49m\u001b[39m.\u001b[39;49m_set_item(key, value)\n",
      "File \u001b[0;32m/opt/homebrew/Caskroom/miniforge/base/envs/base_env/lib/python3.8/site-packages/pandas/core/frame.py:3832\u001b[0m, in \u001b[0;36mDataFrame._set_item\u001b[0;34m(self, key, value)\u001b[0m\n\u001b[1;32m   <a href='file:///opt/homebrew/Caskroom/miniforge/base/envs/base_env/lib/python3.8/site-packages/pandas/core/frame.py?line=3821'>3822</a>\u001b[0m \u001b[39mdef\u001b[39;00m \u001b[39m_set_item\u001b[39m(\u001b[39mself\u001b[39m, key, value) \u001b[39m-\u001b[39m\u001b[39m>\u001b[39m \u001b[39mNone\u001b[39;00m:\n\u001b[1;32m   <a href='file:///opt/homebrew/Caskroom/miniforge/base/envs/base_env/lib/python3.8/site-packages/pandas/core/frame.py?line=3822'>3823</a>\u001b[0m     \u001b[39m\"\"\"\u001b[39;00m\n\u001b[1;32m   <a href='file:///opt/homebrew/Caskroom/miniforge/base/envs/base_env/lib/python3.8/site-packages/pandas/core/frame.py?line=3823'>3824</a>\u001b[0m \u001b[39m    Add series to DataFrame in specified column.\u001b[39;00m\n\u001b[1;32m   <a href='file:///opt/homebrew/Caskroom/miniforge/base/envs/base_env/lib/python3.8/site-packages/pandas/core/frame.py?line=3824'>3825</a>\u001b[0m \n\u001b[0;32m   (...)\u001b[0m\n\u001b[1;32m   <a href='file:///opt/homebrew/Caskroom/miniforge/base/envs/base_env/lib/python3.8/site-packages/pandas/core/frame.py?line=3829'>3830</a>\u001b[0m \u001b[39m    ensure homogeneity.\u001b[39;00m\n\u001b[1;32m   <a href='file:///opt/homebrew/Caskroom/miniforge/base/envs/base_env/lib/python3.8/site-packages/pandas/core/frame.py?line=3830'>3831</a>\u001b[0m \u001b[39m    \"\"\"\u001b[39;00m\n\u001b[0;32m-> <a href='file:///opt/homebrew/Caskroom/miniforge/base/envs/base_env/lib/python3.8/site-packages/pandas/core/frame.py?line=3831'>3832</a>\u001b[0m     value \u001b[39m=\u001b[39m \u001b[39mself\u001b[39;49m\u001b[39m.\u001b[39;49m_sanitize_column(value)\n\u001b[1;32m   <a href='file:///opt/homebrew/Caskroom/miniforge/base/envs/base_env/lib/python3.8/site-packages/pandas/core/frame.py?line=3833'>3834</a>\u001b[0m     \u001b[39mif\u001b[39;00m (\n\u001b[1;32m   <a href='file:///opt/homebrew/Caskroom/miniforge/base/envs/base_env/lib/python3.8/site-packages/pandas/core/frame.py?line=3834'>3835</a>\u001b[0m         key \u001b[39min\u001b[39;00m \u001b[39mself\u001b[39m\u001b[39m.\u001b[39mcolumns\n\u001b[1;32m   <a href='file:///opt/homebrew/Caskroom/miniforge/base/envs/base_env/lib/python3.8/site-packages/pandas/core/frame.py?line=3835'>3836</a>\u001b[0m         \u001b[39mand\u001b[39;00m value\u001b[39m.\u001b[39mndim \u001b[39m==\u001b[39m \u001b[39m1\u001b[39m\n\u001b[1;32m   <a href='file:///opt/homebrew/Caskroom/miniforge/base/envs/base_env/lib/python3.8/site-packages/pandas/core/frame.py?line=3836'>3837</a>\u001b[0m         \u001b[39mand\u001b[39;00m \u001b[39mnot\u001b[39;00m is_extension_array_dtype(value)\n\u001b[1;32m   <a href='file:///opt/homebrew/Caskroom/miniforge/base/envs/base_env/lib/python3.8/site-packages/pandas/core/frame.py?line=3837'>3838</a>\u001b[0m     ):\n\u001b[1;32m   <a href='file:///opt/homebrew/Caskroom/miniforge/base/envs/base_env/lib/python3.8/site-packages/pandas/core/frame.py?line=3838'>3839</a>\u001b[0m         \u001b[39m# broadcast across multiple columns if necessary\u001b[39;00m\n\u001b[1;32m   <a href='file:///opt/homebrew/Caskroom/miniforge/base/envs/base_env/lib/python3.8/site-packages/pandas/core/frame.py?line=3839'>3840</a>\u001b[0m         \u001b[39mif\u001b[39;00m \u001b[39mnot\u001b[39;00m \u001b[39mself\u001b[39m\u001b[39m.\u001b[39mcolumns\u001b[39m.\u001b[39mis_unique \u001b[39mor\u001b[39;00m \u001b[39misinstance\u001b[39m(\u001b[39mself\u001b[39m\u001b[39m.\u001b[39mcolumns, MultiIndex):\n",
      "File \u001b[0;32m/opt/homebrew/Caskroom/miniforge/base/envs/base_env/lib/python3.8/site-packages/pandas/core/frame.py:4535\u001b[0m, in \u001b[0;36mDataFrame._sanitize_column\u001b[0;34m(self, value)\u001b[0m\n\u001b[1;32m   <a href='file:///opt/homebrew/Caskroom/miniforge/base/envs/base_env/lib/python3.8/site-packages/pandas/core/frame.py?line=4531'>4532</a>\u001b[0m     \u001b[39mreturn\u001b[39;00m _reindex_for_setitem(value, \u001b[39mself\u001b[39m\u001b[39m.\u001b[39mindex)\n\u001b[1;32m   <a href='file:///opt/homebrew/Caskroom/miniforge/base/envs/base_env/lib/python3.8/site-packages/pandas/core/frame.py?line=4533'>4534</a>\u001b[0m \u001b[39mif\u001b[39;00m is_list_like(value):\n\u001b[0;32m-> <a href='file:///opt/homebrew/Caskroom/miniforge/base/envs/base_env/lib/python3.8/site-packages/pandas/core/frame.py?line=4534'>4535</a>\u001b[0m     com\u001b[39m.\u001b[39;49mrequire_length_match(value, \u001b[39mself\u001b[39;49m\u001b[39m.\u001b[39;49mindex)\n\u001b[1;32m   <a href='file:///opt/homebrew/Caskroom/miniforge/base/envs/base_env/lib/python3.8/site-packages/pandas/core/frame.py?line=4535'>4536</a>\u001b[0m \u001b[39mreturn\u001b[39;00m sanitize_array(value, \u001b[39mself\u001b[39m\u001b[39m.\u001b[39mindex, copy\u001b[39m=\u001b[39m\u001b[39mTrue\u001b[39;00m, allow_2d\u001b[39m=\u001b[39m\u001b[39mTrue\u001b[39;00m)\n",
      "File \u001b[0;32m/opt/homebrew/Caskroom/miniforge/base/envs/base_env/lib/python3.8/site-packages/pandas/core/common.py:557\u001b[0m, in \u001b[0;36mrequire_length_match\u001b[0;34m(data, index)\u001b[0m\n\u001b[1;32m    <a href='file:///opt/homebrew/Caskroom/miniforge/base/envs/base_env/lib/python3.8/site-packages/pandas/core/common.py?line=552'>553</a>\u001b[0m \u001b[39m\"\"\"\u001b[39;00m\n\u001b[1;32m    <a href='file:///opt/homebrew/Caskroom/miniforge/base/envs/base_env/lib/python3.8/site-packages/pandas/core/common.py?line=553'>554</a>\u001b[0m \u001b[39mCheck the length of data matches the length of the index.\u001b[39;00m\n\u001b[1;32m    <a href='file:///opt/homebrew/Caskroom/miniforge/base/envs/base_env/lib/python3.8/site-packages/pandas/core/common.py?line=554'>555</a>\u001b[0m \u001b[39m\"\"\"\u001b[39;00m\n\u001b[1;32m    <a href='file:///opt/homebrew/Caskroom/miniforge/base/envs/base_env/lib/python3.8/site-packages/pandas/core/common.py?line=555'>556</a>\u001b[0m \u001b[39mif\u001b[39;00m \u001b[39mlen\u001b[39m(data) \u001b[39m!=\u001b[39m \u001b[39mlen\u001b[39m(index):\n\u001b[0;32m--> <a href='file:///opt/homebrew/Caskroom/miniforge/base/envs/base_env/lib/python3.8/site-packages/pandas/core/common.py?line=556'>557</a>\u001b[0m     \u001b[39mraise\u001b[39;00m \u001b[39mValueError\u001b[39;00m(\n\u001b[1;32m    <a href='file:///opt/homebrew/Caskroom/miniforge/base/envs/base_env/lib/python3.8/site-packages/pandas/core/common.py?line=557'>558</a>\u001b[0m         \u001b[39m\"\u001b[39m\u001b[39mLength of values \u001b[39m\u001b[39m\"\u001b[39m\n\u001b[1;32m    <a href='file:///opt/homebrew/Caskroom/miniforge/base/envs/base_env/lib/python3.8/site-packages/pandas/core/common.py?line=558'>559</a>\u001b[0m         \u001b[39mf\u001b[39m\u001b[39m\"\u001b[39m\u001b[39m(\u001b[39m\u001b[39m{\u001b[39;00m\u001b[39mlen\u001b[39m(data)\u001b[39m}\u001b[39;00m\u001b[39m) \u001b[39m\u001b[39m\"\u001b[39m\n\u001b[1;32m    <a href='file:///opt/homebrew/Caskroom/miniforge/base/envs/base_env/lib/python3.8/site-packages/pandas/core/common.py?line=559'>560</a>\u001b[0m         \u001b[39m\"\u001b[39m\u001b[39mdoes not match length of index \u001b[39m\u001b[39m\"\u001b[39m\n\u001b[1;32m    <a href='file:///opt/homebrew/Caskroom/miniforge/base/envs/base_env/lib/python3.8/site-packages/pandas/core/common.py?line=560'>561</a>\u001b[0m         \u001b[39mf\u001b[39m\u001b[39m\"\u001b[39m\u001b[39m(\u001b[39m\u001b[39m{\u001b[39;00m\u001b[39mlen\u001b[39m(index)\u001b[39m}\u001b[39;00m\u001b[39m)\u001b[39m\u001b[39m\"\u001b[39m\n\u001b[1;32m    <a href='file:///opt/homebrew/Caskroom/miniforge/base/envs/base_env/lib/python3.8/site-packages/pandas/core/common.py?line=561'>562</a>\u001b[0m     )\n",
      "\u001b[0;31mValueError\u001b[0m: Length of values (306) does not match length of index (305)"
     ]
    }
   ],
   "source": [
    "most_common_venues = pd.read_csv('/Users/karina/GitHub/NYC_midterm_project/data/final_datasets/most_common_venues.csv')\n",
    "data = pd.merge(neighborhoods, most_common_venues, on='id')\n",
    "data = data.drop(columns=['id', 'longitude', 'latitude'])\n",
    "data['clusters'] = clusters\n",
    "data.head()"
   ]
  },
  {
   "cell_type": "code",
   "execution_count": null,
   "metadata": {},
   "outputs": [],
   "source": [
    "cluster0 = data.loc[data['clusters'] == 0]\n",
    "cluster1 = data.loc[data['clusters'] == 1]"
   ]
  },
  {
   "cell_type": "code",
   "execution_count": null,
   "metadata": {},
   "outputs": [
    {
     "name": "stdout",
     "output_type": "stream",
     "text": [
      "--cluster0--\n",
      "\n",
      "Top 5 most common venue type\n",
      "restaurant    136\n",
      "store          41\n",
      "school         22\n",
      "church         18\n",
      "park            2\n",
      "Name: 1st Most Common Venue, dtype: int64\n",
      "\n",
      "Top 5 second most common venue type\n",
      "store         112\n",
      "restaurant     37\n",
      "church         30\n",
      "school         24\n",
      "clothing        8\n",
      "Name: 2nd Most Common Venue, dtype: int64\n",
      "\n",
      "Most common borough\n",
      "Queens           64\n",
      "Staten Island    60\n",
      "Bronx            51\n",
      "Name: borough, dtype: int64\n"
     ]
    }
   ],
   "source": [
    "print('--cluster0--')\n",
    "print()\n",
    "print('Top 5 most common venue type')\n",
    "print(cluster0['1st Most Common Venue'].value_counts()[:5])\n",
    "print()\n",
    "print('Top 5 second most common venue type')\n",
    "print(cluster0['2nd Most Common Venue'].value_counts()[:5])\n",
    "print()\n",
    "print('Most common borough')\n",
    "print(cluster0['borough'].value_counts()[:3])"
   ]
  },
  {
   "cell_type": "code",
   "execution_count": null,
   "metadata": {},
   "outputs": [
    {
     "name": "stdout",
     "output_type": "stream",
     "text": [
      "--cluster1--\n",
      "\n",
      "Top 5 most common venue type\n",
      "restaurant    35\n",
      "school        17\n",
      "store         12\n",
      "church         6\n",
      "lodging        5\n",
      "Name: 1st Most Common Venue, dtype: int64\n",
      "\n",
      "Top 5 second most common venue type\n",
      "store         28\n",
      "school        18\n",
      "restaurant    13\n",
      "bar            9\n",
      "church         5\n",
      "Name: 2nd Most Common Venue, dtype: int64\n",
      "\n",
      "Most common borough\n",
      "Manhattan    36\n",
      "Brooklyn     28\n",
      "Queens       17\n",
      "Name: borough, dtype: int64\n"
     ]
    }
   ],
   "source": [
    "print('--cluster1--')\n",
    "print()\n",
    "print('Top 5 most common venue type')\n",
    "print(cluster1['1st Most Common Venue'].value_counts()[:5])\n",
    "print()\n",
    "print('Top 5 second most common venue type')\n",
    "print(cluster1['2nd Most Common Venue'].value_counts()[:5])\n",
    "print()\n",
    "print('Most common borough')\n",
    "print(cluster1['borough'].value_counts()[:3])"
   ]
  },
  {
   "cell_type": "markdown",
   "metadata": {},
   "source": [
    "# Segmentation of NYC neighborhoods\n",
    "\n",
    "The goal of this project is to segment the neighborhoods of New York City into separate clusters and examine the information about them. For clustering, We can use any available information **except** demographic and economic indicators. We don't want to segment them based on those and we want to keep them for the **profiling of clusters** to see if there are any important economic differences between the created clusters."
   ]
  },
  {
   "cell_type": "code",
   "execution_count": null,
   "metadata": {},
   "outputs": [],
   "source": []
  },
  {
   "cell_type": "code",
   "execution_count": null,
   "metadata": {},
   "outputs": [],
   "source": []
  },
  {
   "cell_type": "code",
   "execution_count": null,
   "metadata": {},
   "outputs": [],
   "source": []
  },
  {
   "cell_type": "markdown",
   "metadata": {},
   "source": [
    "### Feature Engineering\n",
    "\n",
    "Feature engineering plays a crucial role in this problem. We have limited amount of attributes so we need to create some features that will be important for segmentation.\n",
    "\n",
    "- Google Places, Yelp and Foursquare APIs: number of venues, density of venues per square mile, number of restaurants, top restarurant category...\n",
    "- Uber: number of rides per day in the neighborhood\n",
    "- Meetups: number of events\n",
    "- etc..."
   ]
  },
  {
   "cell_type": "code",
   "execution_count": null,
   "metadata": {},
   "outputs": [],
   "source": []
  },
  {
   "cell_type": "code",
   "execution_count": null,
   "metadata": {},
   "outputs": [],
   "source": []
  },
  {
   "cell_type": "code",
   "execution_count": null,
   "metadata": {},
   "outputs": [],
   "source": []
  },
  {
   "cell_type": "code",
   "execution_count": null,
   "metadata": {},
   "outputs": [],
   "source": []
  },
  {
   "cell_type": "markdown",
   "metadata": {},
   "source": [
    "### Feature Selection / Dimensionality Reduction¶\n",
    "We need to apply different selection techniques to find out which one will be the best for our problems.\n",
    "\n",
    "Original Features vs. PCA conponents?\n",
    "\n",
    "Don't forget to scale the features for KMeans."
   ]
  },
  {
   "cell_type": "code",
   "execution_count": null,
   "metadata": {},
   "outputs": [],
   "source": []
  },
  {
   "cell_type": "code",
   "execution_count": null,
   "metadata": {},
   "outputs": [],
   "source": []
  },
  {
   "cell_type": "code",
   "execution_count": null,
   "metadata": {},
   "outputs": [],
   "source": []
  },
  {
   "cell_type": "markdown",
   "metadata": {},
   "source": [
    "### Modeling\n",
    "\n",
    "Use different attributes and clustering techniques and compare the created clusters:\n",
    "\n",
    "- clustering only on restaurant features\n",
    "- clustering only on Uber features\n",
    "- clustering only on location\n",
    "- combination of all\n",
    "\n",
    "**Questions:**\n",
    "1. Which clustering is the best?\n",
    "2. How are neighborhoods split when we select only 2 clusters?\n",
    "3. Are there any differences in housing and rental costs in different clusters?"
   ]
  },
  {
   "cell_type": "code",
   "execution_count": null,
   "metadata": {},
   "outputs": [],
   "source": []
  },
  {
   "cell_type": "code",
   "execution_count": null,
   "metadata": {},
   "outputs": [],
   "source": []
  },
  {
   "cell_type": "code",
   "execution_count": null,
   "metadata": {},
   "outputs": [],
   "source": []
  },
  {
   "cell_type": "code",
   "execution_count": null,
   "metadata": {},
   "outputs": [],
   "source": []
  },
  {
   "cell_type": "markdown",
   "metadata": {},
   "source": [
    "### Evaluation\n",
    "\n",
    "1. Check the segmentation evaluation metrics:\n",
    "    - inertia\n",
    "    - silhoutte score\n",
    "2. How did you come up with the correct number of clusters?\n",
    "3. Is there any relationship between the clusters and economic indicators? If yes, what does it mean?\n",
    "\n",
    "You are required to share the file containing all NYC neighborhoods together with cluster_id with LighthouseLabs."
   ]
  },
  {
   "cell_type": "code",
   "execution_count": null,
   "metadata": {},
   "outputs": [],
   "source": []
  },
  {
   "cell_type": "code",
   "execution_count": null,
   "metadata": {},
   "outputs": [],
   "source": []
  },
  {
   "cell_type": "code",
   "execution_count": null,
   "metadata": {},
   "outputs": [],
   "source": []
  },
  {
   "cell_type": "code",
   "execution_count": null,
   "metadata": {},
   "outputs": [],
   "source": []
  }
 ],
 "metadata": {
  "interpreter": {
   "hash": "39512f3c2a1741d7f752d45a133d4514127029333ea14bc2f3c6c5e6759b9029"
  },
  "kernelspec": {
   "display_name": "Python 3.8.13 ('base_env')",
   "language": "python",
   "name": "python3"
  },
  "language_info": {
   "codemirror_mode": {
    "name": "ipython",
    "version": 3
   },
   "file_extension": ".py",
   "mimetype": "text/x-python",
   "name": "python",
   "nbconvert_exporter": "python",
   "pygments_lexer": "ipython3",
   "version": "3.8.13"
  }
 },
 "nbformat": 4,
 "nbformat_minor": 4
}
