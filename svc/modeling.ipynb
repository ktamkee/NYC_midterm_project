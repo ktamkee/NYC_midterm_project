{
 "cells": [
  {
   "cell_type": "markdown",
   "metadata": {},
   "source": [
    "# Clustering\n",
    "In this file, instructions how to approach the challenge can be found.\n",
    "\n",
    "We can use different types of clustering algorithms:\n",
    "\n",
    "- KMeans\n",
    "- Hierarchical\n",
    "- DBScan"
   ]
  },
  {
   "cell_type": "code",
   "execution_count": 21,
   "metadata": {},
   "outputs": [],
   "source": [
    "import pandas as pd\n",
    "import numpy as np"
   ]
  },
  {
   "cell_type": "code",
   "execution_count": 22,
   "metadata": {},
   "outputs": [
    {
     "data": {
      "text/html": [
       "<div>\n",
       "<style scoped>\n",
       "    .dataframe tbody tr th:only-of-type {\n",
       "        vertical-align: middle;\n",
       "    }\n",
       "\n",
       "    .dataframe tbody tr th {\n",
       "        vertical-align: top;\n",
       "    }\n",
       "\n",
       "    .dataframe thead th {\n",
       "        text-align: right;\n",
       "    }\n",
       "</style>\n",
       "<table border=\"1\" class=\"dataframe\">\n",
       "  <thead>\n",
       "    <tr style=\"text-align: right;\">\n",
       "      <th></th>\n",
       "      <th>borough</th>\n",
       "      <th>neighborhood</th>\n",
       "      <th>longitude</th>\n",
       "      <th>latitude</th>\n",
       "      <th>population</th>\n",
       "      <th>number_of_restaurants</th>\n",
       "      <th>average_review_count</th>\n",
       "      <th>average_restaurant_rating</th>\n",
       "      <th>average_price_level</th>\n",
       "    </tr>\n",
       "  </thead>\n",
       "  <tbody>\n",
       "    <tr>\n",
       "      <th>0</th>\n",
       "      <td>Bronx</td>\n",
       "      <td>Wakefield</td>\n",
       "      <td>-73.847201</td>\n",
       "      <td>40.894705</td>\n",
       "      <td>21242.0</td>\n",
       "      <td>13</td>\n",
       "      <td>169</td>\n",
       "      <td>4.0</td>\n",
       "      <td>1</td>\n",
       "    </tr>\n",
       "    <tr>\n",
       "      <th>1</th>\n",
       "      <td>Bronx</td>\n",
       "      <td>Co-op City</td>\n",
       "      <td>-73.829939</td>\n",
       "      <td>40.874294</td>\n",
       "      <td>43752.0</td>\n",
       "      <td>12</td>\n",
       "      <td>771</td>\n",
       "      <td>4.0</td>\n",
       "      <td>2</td>\n",
       "    </tr>\n",
       "    <tr>\n",
       "      <th>2</th>\n",
       "      <td>Bronx</td>\n",
       "      <td>Eastchester</td>\n",
       "      <td>-73.827806</td>\n",
       "      <td>40.887556</td>\n",
       "      <td>11506.0</td>\n",
       "      <td>19</td>\n",
       "      <td>532</td>\n",
       "      <td>4.1</td>\n",
       "      <td>1</td>\n",
       "    </tr>\n",
       "    <tr>\n",
       "      <th>3</th>\n",
       "      <td>Bronx</td>\n",
       "      <td>Fieldston</td>\n",
       "      <td>-73.905643</td>\n",
       "      <td>40.895437</td>\n",
       "      <td>9287.0</td>\n",
       "      <td>9</td>\n",
       "      <td>297</td>\n",
       "      <td>4.4</td>\n",
       "      <td>1</td>\n",
       "    </tr>\n",
       "    <tr>\n",
       "      <th>4</th>\n",
       "      <td>Bronx</td>\n",
       "      <td>Riverdale</td>\n",
       "      <td>-73.912585</td>\n",
       "      <td>40.890834</td>\n",
       "      <td>9287.0</td>\n",
       "      <td>14</td>\n",
       "      <td>319</td>\n",
       "      <td>4.0</td>\n",
       "      <td>2</td>\n",
       "    </tr>\n",
       "  </tbody>\n",
       "</table>\n",
       "</div>"
      ],
      "text/plain": [
       "  borough neighborhood  longitude   latitude  population  \\\n",
       "0   Bronx    Wakefield -73.847201  40.894705     21242.0   \n",
       "1   Bronx   Co-op City -73.829939  40.874294     43752.0   \n",
       "2   Bronx  Eastchester -73.827806  40.887556     11506.0   \n",
       "3   Bronx    Fieldston -73.905643  40.895437      9287.0   \n",
       "4   Bronx    Riverdale -73.912585  40.890834      9287.0   \n",
       "\n",
       "   number_of_restaurants  average_review_count  average_restaurant_rating  \\\n",
       "0                     13                   169                        4.0   \n",
       "1                     12                   771                        4.0   \n",
       "2                     19                   532                        4.1   \n",
       "3                      9                   297                        4.4   \n",
       "4                     14                   319                        4.0   \n",
       "\n",
       "   average_price_level  \n",
       "0                    1  \n",
       "1                    2  \n",
       "2                    1  \n",
       "3                    1  \n",
       "4                    2  "
      ]
     },
     "execution_count": 22,
     "metadata": {},
     "output_type": "execute_result"
    }
   ],
   "source": [
    "# import data\n",
    "data = pd.read_csv('/Users/karina/GitHub/NYC_midterm_project/data/main_dataset.csv')\n",
    "data = data.iloc[:, 2:]\n",
    "data.head()"
   ]
  },
  {
   "cell_type": "code",
   "execution_count": 23,
   "metadata": {},
   "outputs": [
    {
     "data": {
      "text/plain": [
       "array(['Bronx', 'Manhattan', 'Brooklyn', 'Queens', 'Staten Island'],\n",
       "      dtype=object)"
      ]
     },
     "execution_count": 23,
     "metadata": {},
     "output_type": "execute_result"
    }
   ],
   "source": [
    "data.borough.unique()"
   ]
  },
  {
   "cell_type": "code",
   "execution_count": 24,
   "metadata": {},
   "outputs": [
    {
     "data": {
      "text/html": [
       "<div>\n",
       "<style scoped>\n",
       "    .dataframe tbody tr th:only-of-type {\n",
       "        vertical-align: middle;\n",
       "    }\n",
       "\n",
       "    .dataframe tbody tr th {\n",
       "        vertical-align: top;\n",
       "    }\n",
       "\n",
       "    .dataframe thead th {\n",
       "        text-align: right;\n",
       "    }\n",
       "</style>\n",
       "<table border=\"1\" class=\"dataframe\">\n",
       "  <thead>\n",
       "    <tr style=\"text-align: right;\">\n",
       "      <th></th>\n",
       "      <th>borough</th>\n",
       "      <th>neighborhood</th>\n",
       "      <th>longitude</th>\n",
       "      <th>latitude</th>\n",
       "      <th>population</th>\n",
       "      <th>number_of_restaurants</th>\n",
       "      <th>average_review_count</th>\n",
       "      <th>average_restaurant_rating</th>\n",
       "      <th>average_price_level</th>\n",
       "      <th>borough_encode</th>\n",
       "    </tr>\n",
       "  </thead>\n",
       "  <tbody>\n",
       "    <tr>\n",
       "      <th>0</th>\n",
       "      <td>Bronx</td>\n",
       "      <td>Wakefield</td>\n",
       "      <td>-73.847201</td>\n",
       "      <td>40.894705</td>\n",
       "      <td>21242.0</td>\n",
       "      <td>13</td>\n",
       "      <td>169</td>\n",
       "      <td>4.0</td>\n",
       "      <td>1</td>\n",
       "      <td>0</td>\n",
       "    </tr>\n",
       "    <tr>\n",
       "      <th>1</th>\n",
       "      <td>Bronx</td>\n",
       "      <td>Co-op City</td>\n",
       "      <td>-73.829939</td>\n",
       "      <td>40.874294</td>\n",
       "      <td>43752.0</td>\n",
       "      <td>12</td>\n",
       "      <td>771</td>\n",
       "      <td>4.0</td>\n",
       "      <td>2</td>\n",
       "      <td>0</td>\n",
       "    </tr>\n",
       "    <tr>\n",
       "      <th>2</th>\n",
       "      <td>Bronx</td>\n",
       "      <td>Eastchester</td>\n",
       "      <td>-73.827806</td>\n",
       "      <td>40.887556</td>\n",
       "      <td>11506.0</td>\n",
       "      <td>19</td>\n",
       "      <td>532</td>\n",
       "      <td>4.1</td>\n",
       "      <td>1</td>\n",
       "      <td>0</td>\n",
       "    </tr>\n",
       "    <tr>\n",
       "      <th>3</th>\n",
       "      <td>Bronx</td>\n",
       "      <td>Fieldston</td>\n",
       "      <td>-73.905643</td>\n",
       "      <td>40.895437</td>\n",
       "      <td>9287.0</td>\n",
       "      <td>9</td>\n",
       "      <td>297</td>\n",
       "      <td>4.4</td>\n",
       "      <td>1</td>\n",
       "      <td>0</td>\n",
       "    </tr>\n",
       "    <tr>\n",
       "      <th>4</th>\n",
       "      <td>Bronx</td>\n",
       "      <td>Riverdale</td>\n",
       "      <td>-73.912585</td>\n",
       "      <td>40.890834</td>\n",
       "      <td>9287.0</td>\n",
       "      <td>14</td>\n",
       "      <td>319</td>\n",
       "      <td>4.0</td>\n",
       "      <td>2</td>\n",
       "      <td>0</td>\n",
       "    </tr>\n",
       "  </tbody>\n",
       "</table>\n",
       "</div>"
      ],
      "text/plain": [
       "  borough neighborhood  longitude   latitude  population  \\\n",
       "0   Bronx    Wakefield -73.847201  40.894705     21242.0   \n",
       "1   Bronx   Co-op City -73.829939  40.874294     43752.0   \n",
       "2   Bronx  Eastchester -73.827806  40.887556     11506.0   \n",
       "3   Bronx    Fieldston -73.905643  40.895437      9287.0   \n",
       "4   Bronx    Riverdale -73.912585  40.890834      9287.0   \n",
       "\n",
       "   number_of_restaurants  average_review_count  average_restaurant_rating  \\\n",
       "0                     13                   169                        4.0   \n",
       "1                     12                   771                        4.0   \n",
       "2                     19                   532                        4.1   \n",
       "3                      9                   297                        4.4   \n",
       "4                     14                   319                        4.0   \n",
       "\n",
       "   average_price_level borough_encode  \n",
       "0                    1              0  \n",
       "1                    2              0  \n",
       "2                    1              0  \n",
       "3                    1              0  \n",
       "4                    2              0  "
      ]
     },
     "execution_count": 24,
     "metadata": {},
     "output_type": "execute_result"
    }
   ],
   "source": [
    "data['borough_encode'] = data['borough']\n",
    "data = data.replace({'borough_encode': {'Bronx': 0, 'Manhattan': 1, 'Brooklyn': 2, 'Queens': 3, 'Staten_Island': 4}})\n",
    "data.head()"
   ]
  },
  {
   "cell_type": "code",
   "execution_count": null,
   "metadata": {},
   "outputs": [],
   "source": []
  },
  {
   "cell_type": "markdown",
   "metadata": {},
   "source": [
    "## Segmentation of NYC neighborhoods\n",
    "\n",
    "The goal of this project is to segment the neighborhoods of New York City into separate clusters and examine the information about them. For clustering, We can use any available information **except** demographic and economic indicators. We don't want to segment them based on those and we want to keep them for the **profiling of clusters** to see if there are any important economic differences between the created clusters."
   ]
  },
  {
   "cell_type": "code",
   "execution_count": null,
   "metadata": {},
   "outputs": [],
   "source": []
  },
  {
   "cell_type": "code",
   "execution_count": null,
   "metadata": {},
   "outputs": [],
   "source": []
  },
  {
   "cell_type": "code",
   "execution_count": null,
   "metadata": {},
   "outputs": [],
   "source": []
  },
  {
   "cell_type": "markdown",
   "metadata": {},
   "source": [
    "### Feature Engineering\n",
    "\n",
    "Feature engineering plays a crucial role in this problem. We have limited amount of attributes so we need to create some features that will be important for segmentation.\n",
    "\n",
    "- Google Places, Yelp and Foursquare APIs: number of venues, density of venues per square mile, number of restaurants, top restarurant category...\n",
    "- Uber: number of rides per day in the neighborhood\n",
    "- Meetups: number of events\n",
    "- etc..."
   ]
  },
  {
   "cell_type": "code",
   "execution_count": null,
   "metadata": {},
   "outputs": [],
   "source": []
  },
  {
   "cell_type": "code",
   "execution_count": null,
   "metadata": {},
   "outputs": [],
   "source": []
  },
  {
   "cell_type": "code",
   "execution_count": null,
   "metadata": {},
   "outputs": [],
   "source": []
  },
  {
   "cell_type": "code",
   "execution_count": null,
   "metadata": {},
   "outputs": [],
   "source": []
  },
  {
   "cell_type": "markdown",
   "metadata": {},
   "source": [
    "### Feature Selection / Dimensionality Reduction¶\n",
    "We need to apply different selection techniques to find out which one will be the best for our problems.\n",
    "\n",
    "Original Features vs. PCA conponents?\n",
    "\n",
    "Don't forget to scale the features for KMeans."
   ]
  },
  {
   "cell_type": "code",
   "execution_count": null,
   "metadata": {},
   "outputs": [],
   "source": []
  },
  {
   "cell_type": "code",
   "execution_count": null,
   "metadata": {},
   "outputs": [],
   "source": []
  },
  {
   "cell_type": "code",
   "execution_count": null,
   "metadata": {},
   "outputs": [],
   "source": []
  },
  {
   "cell_type": "markdown",
   "metadata": {},
   "source": [
    "### Modeling\n",
    "\n",
    "Use different attributes and clustering techniques and compare the created clusters:\n",
    "\n",
    "- clustering only on restaurant features\n",
    "- clustering only on Uber features\n",
    "- clustering only on location\n",
    "- combination of all\n",
    "\n",
    "**Questions:**\n",
    "1. Which clustering is the best?\n",
    "2. How are neighborhoods split when we select only 2 clusters?\n",
    "3. Are there any differences in housing and rental costs in different clusters?"
   ]
  },
  {
   "cell_type": "code",
   "execution_count": null,
   "metadata": {},
   "outputs": [],
   "source": []
  },
  {
   "cell_type": "code",
   "execution_count": null,
   "metadata": {},
   "outputs": [],
   "source": []
  },
  {
   "cell_type": "code",
   "execution_count": null,
   "metadata": {},
   "outputs": [],
   "source": []
  },
  {
   "cell_type": "code",
   "execution_count": null,
   "metadata": {},
   "outputs": [],
   "source": []
  },
  {
   "cell_type": "markdown",
   "metadata": {},
   "source": [
    "### Evaluation\n",
    "\n",
    "1. Check the segmentation evaluation metrics:\n",
    "    - inertia\n",
    "    - silhoutte score\n",
    "2. How did you come up with the correct number of clusters?\n",
    "3. Is there any relationship between the clusters and economic indicators? If yes, what does it mean?\n",
    "\n",
    "You are required to share the file containing all NYC neighborhoods together with cluster_id with LighthouseLabs."
   ]
  },
  {
   "cell_type": "code",
   "execution_count": null,
   "metadata": {},
   "outputs": [],
   "source": []
  },
  {
   "cell_type": "code",
   "execution_count": null,
   "metadata": {},
   "outputs": [],
   "source": []
  },
  {
   "cell_type": "code",
   "execution_count": null,
   "metadata": {},
   "outputs": [],
   "source": []
  },
  {
   "cell_type": "code",
   "execution_count": null,
   "metadata": {},
   "outputs": [],
   "source": []
  }
 ],
 "metadata": {
  "interpreter": {
   "hash": "39512f3c2a1741d7f752d45a133d4514127029333ea14bc2f3c6c5e6759b9029"
  },
  "kernelspec": {
   "display_name": "Python 3.8.13 ('base_env')",
   "language": "python",
   "name": "python3"
  },
  "language_info": {
   "codemirror_mode": {
    "name": "ipython",
    "version": 3
   },
   "file_extension": ".py",
   "mimetype": "text/x-python",
   "name": "python",
   "nbconvert_exporter": "python",
   "pygments_lexer": "ipython3",
   "version": "3.8.13"
  }
 },
 "nbformat": 4,
 "nbformat_minor": 4
}
