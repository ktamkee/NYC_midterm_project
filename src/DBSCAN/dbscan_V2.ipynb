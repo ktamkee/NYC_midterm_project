{
 "cells": [
  {
   "cell_type": "code",
   "execution_count": 2,
   "metadata": {},
   "outputs": [],
   "source": [
    "import numpy as np\n",
    "import pandas as pd\n",
    "import json\n",
    "import os\n",
    "\n",
    "from sklearn.preprocessing import StandardScaler, MinMaxScaler\n",
    "from sklearn.cluster import DBSCAN\n",
    "from sklearn.neighbors import NearestNeighbors\n",
    "from sklearn.decomposition import PCA\n",
    "\n",
    "import matplotlib.pyplot as plt\n",
    "import plotly.express as px\n",
    "import seaborn as sns\n",
    "import geopandas as gpd\n",
    "\n",
    "# custom functions\n",
    "from plotting_functions.corr_matrix import plot_corr\n",
    "from plotting_functions.map_scatter import map_scatter\n",
    "\n",
    "sns.set()"
   ]
  },
  {
   "cell_type": "code",
   "execution_count": 3,
   "metadata": {},
   "outputs": [
    {
     "ename": "FileNotFoundError",
     "evalue": "[Errno 2] No such file or directory: '../data/main_dataset.csv'",
     "output_type": "error",
     "traceback": [
      "\u001b[0;31m---------------------------------------------------------------------------\u001b[0m",
      "\u001b[0;31mFileNotFoundError\u001b[0m                         Traceback (most recent call last)",
      "\u001b[1;32m/Users/karina/GitHub/NYC_midterm_project/src/dbscan_V2.ipynb Cell 2'\u001b[0m in \u001b[0;36m<cell line: 1>\u001b[0;34m()\u001b[0m\n\u001b[0;32m----> <a href='vscode-notebook-cell:/Users/karina/GitHub/NYC_midterm_project/src/dbscan_V2.ipynb#ch0000001?line=0'>1</a>\u001b[0m main_data \u001b[39m=\u001b[39m pd\u001b[39m.\u001b[39;49mread_csv(\u001b[39m'\u001b[39;49m\u001b[39m../data/main_dataset.csv\u001b[39;49m\u001b[39m'\u001b[39;49m)\n\u001b[1;32m      <a href='vscode-notebook-cell:/Users/karina/GitHub/NYC_midterm_project/src/dbscan_V2.ipynb#ch0000001?line=1'>2</a>\u001b[0m main_data\n",
      "File \u001b[0;32m/opt/homebrew/Caskroom/miniforge/base/envs/base_env/lib/python3.8/site-packages/pandas/util/_decorators.py:311\u001b[0m, in \u001b[0;36mdeprecate_nonkeyword_arguments.<locals>.decorate.<locals>.wrapper\u001b[0;34m(*args, **kwargs)\u001b[0m\n\u001b[1;32m    <a href='file:///opt/homebrew/Caskroom/miniforge/base/envs/base_env/lib/python3.8/site-packages/pandas/util/_decorators.py?line=304'>305</a>\u001b[0m \u001b[39mif\u001b[39;00m \u001b[39mlen\u001b[39m(args) \u001b[39m>\u001b[39m num_allow_args:\n\u001b[1;32m    <a href='file:///opt/homebrew/Caskroom/miniforge/base/envs/base_env/lib/python3.8/site-packages/pandas/util/_decorators.py?line=305'>306</a>\u001b[0m     warnings\u001b[39m.\u001b[39mwarn(\n\u001b[1;32m    <a href='file:///opt/homebrew/Caskroom/miniforge/base/envs/base_env/lib/python3.8/site-packages/pandas/util/_decorators.py?line=306'>307</a>\u001b[0m         msg\u001b[39m.\u001b[39mformat(arguments\u001b[39m=\u001b[39marguments),\n\u001b[1;32m    <a href='file:///opt/homebrew/Caskroom/miniforge/base/envs/base_env/lib/python3.8/site-packages/pandas/util/_decorators.py?line=307'>308</a>\u001b[0m         \u001b[39mFutureWarning\u001b[39;00m,\n\u001b[1;32m    <a href='file:///opt/homebrew/Caskroom/miniforge/base/envs/base_env/lib/python3.8/site-packages/pandas/util/_decorators.py?line=308'>309</a>\u001b[0m         stacklevel\u001b[39m=\u001b[39mstacklevel,\n\u001b[1;32m    <a href='file:///opt/homebrew/Caskroom/miniforge/base/envs/base_env/lib/python3.8/site-packages/pandas/util/_decorators.py?line=309'>310</a>\u001b[0m     )\n\u001b[0;32m--> <a href='file:///opt/homebrew/Caskroom/miniforge/base/envs/base_env/lib/python3.8/site-packages/pandas/util/_decorators.py?line=310'>311</a>\u001b[0m \u001b[39mreturn\u001b[39;00m func(\u001b[39m*\u001b[39;49margs, \u001b[39m*\u001b[39;49m\u001b[39m*\u001b[39;49mkwargs)\n",
      "File \u001b[0;32m/opt/homebrew/Caskroom/miniforge/base/envs/base_env/lib/python3.8/site-packages/pandas/io/parsers/readers.py:680\u001b[0m, in \u001b[0;36mread_csv\u001b[0;34m(filepath_or_buffer, sep, delimiter, header, names, index_col, usecols, squeeze, prefix, mangle_dupe_cols, dtype, engine, converters, true_values, false_values, skipinitialspace, skiprows, skipfooter, nrows, na_values, keep_default_na, na_filter, verbose, skip_blank_lines, parse_dates, infer_datetime_format, keep_date_col, date_parser, dayfirst, cache_dates, iterator, chunksize, compression, thousands, decimal, lineterminator, quotechar, quoting, doublequote, escapechar, comment, encoding, encoding_errors, dialect, error_bad_lines, warn_bad_lines, on_bad_lines, delim_whitespace, low_memory, memory_map, float_precision, storage_options)\u001b[0m\n\u001b[1;32m    <a href='file:///opt/homebrew/Caskroom/miniforge/base/envs/base_env/lib/python3.8/site-packages/pandas/io/parsers/readers.py?line=664'>665</a>\u001b[0m kwds_defaults \u001b[39m=\u001b[39m _refine_defaults_read(\n\u001b[1;32m    <a href='file:///opt/homebrew/Caskroom/miniforge/base/envs/base_env/lib/python3.8/site-packages/pandas/io/parsers/readers.py?line=665'>666</a>\u001b[0m     dialect,\n\u001b[1;32m    <a href='file:///opt/homebrew/Caskroom/miniforge/base/envs/base_env/lib/python3.8/site-packages/pandas/io/parsers/readers.py?line=666'>667</a>\u001b[0m     delimiter,\n\u001b[0;32m   (...)\u001b[0m\n\u001b[1;32m    <a href='file:///opt/homebrew/Caskroom/miniforge/base/envs/base_env/lib/python3.8/site-packages/pandas/io/parsers/readers.py?line=675'>676</a>\u001b[0m     defaults\u001b[39m=\u001b[39m{\u001b[39m\"\u001b[39m\u001b[39mdelimiter\u001b[39m\u001b[39m\"\u001b[39m: \u001b[39m\"\u001b[39m\u001b[39m,\u001b[39m\u001b[39m\"\u001b[39m},\n\u001b[1;32m    <a href='file:///opt/homebrew/Caskroom/miniforge/base/envs/base_env/lib/python3.8/site-packages/pandas/io/parsers/readers.py?line=676'>677</a>\u001b[0m )\n\u001b[1;32m    <a href='file:///opt/homebrew/Caskroom/miniforge/base/envs/base_env/lib/python3.8/site-packages/pandas/io/parsers/readers.py?line=677'>678</a>\u001b[0m kwds\u001b[39m.\u001b[39mupdate(kwds_defaults)\n\u001b[0;32m--> <a href='file:///opt/homebrew/Caskroom/miniforge/base/envs/base_env/lib/python3.8/site-packages/pandas/io/parsers/readers.py?line=679'>680</a>\u001b[0m \u001b[39mreturn\u001b[39;00m _read(filepath_or_buffer, kwds)\n",
      "File \u001b[0;32m/opt/homebrew/Caskroom/miniforge/base/envs/base_env/lib/python3.8/site-packages/pandas/io/parsers/readers.py:575\u001b[0m, in \u001b[0;36m_read\u001b[0;34m(filepath_or_buffer, kwds)\u001b[0m\n\u001b[1;32m    <a href='file:///opt/homebrew/Caskroom/miniforge/base/envs/base_env/lib/python3.8/site-packages/pandas/io/parsers/readers.py?line=571'>572</a>\u001b[0m _validate_names(kwds\u001b[39m.\u001b[39mget(\u001b[39m\"\u001b[39m\u001b[39mnames\u001b[39m\u001b[39m\"\u001b[39m, \u001b[39mNone\u001b[39;00m))\n\u001b[1;32m    <a href='file:///opt/homebrew/Caskroom/miniforge/base/envs/base_env/lib/python3.8/site-packages/pandas/io/parsers/readers.py?line=573'>574</a>\u001b[0m \u001b[39m# Create the parser.\u001b[39;00m\n\u001b[0;32m--> <a href='file:///opt/homebrew/Caskroom/miniforge/base/envs/base_env/lib/python3.8/site-packages/pandas/io/parsers/readers.py?line=574'>575</a>\u001b[0m parser \u001b[39m=\u001b[39m TextFileReader(filepath_or_buffer, \u001b[39m*\u001b[39;49m\u001b[39m*\u001b[39;49mkwds)\n\u001b[1;32m    <a href='file:///opt/homebrew/Caskroom/miniforge/base/envs/base_env/lib/python3.8/site-packages/pandas/io/parsers/readers.py?line=576'>577</a>\u001b[0m \u001b[39mif\u001b[39;00m chunksize \u001b[39mor\u001b[39;00m iterator:\n\u001b[1;32m    <a href='file:///opt/homebrew/Caskroom/miniforge/base/envs/base_env/lib/python3.8/site-packages/pandas/io/parsers/readers.py?line=577'>578</a>\u001b[0m     \u001b[39mreturn\u001b[39;00m parser\n",
      "File \u001b[0;32m/opt/homebrew/Caskroom/miniforge/base/envs/base_env/lib/python3.8/site-packages/pandas/io/parsers/readers.py:933\u001b[0m, in \u001b[0;36mTextFileReader.__init__\u001b[0;34m(self, f, engine, **kwds)\u001b[0m\n\u001b[1;32m    <a href='file:///opt/homebrew/Caskroom/miniforge/base/envs/base_env/lib/python3.8/site-packages/pandas/io/parsers/readers.py?line=929'>930</a>\u001b[0m     \u001b[39mself\u001b[39m\u001b[39m.\u001b[39moptions[\u001b[39m\"\u001b[39m\u001b[39mhas_index_names\u001b[39m\u001b[39m\"\u001b[39m] \u001b[39m=\u001b[39m kwds[\u001b[39m\"\u001b[39m\u001b[39mhas_index_names\u001b[39m\u001b[39m\"\u001b[39m]\n\u001b[1;32m    <a href='file:///opt/homebrew/Caskroom/miniforge/base/envs/base_env/lib/python3.8/site-packages/pandas/io/parsers/readers.py?line=931'>932</a>\u001b[0m \u001b[39mself\u001b[39m\u001b[39m.\u001b[39mhandles: IOHandles \u001b[39m|\u001b[39m \u001b[39mNone\u001b[39;00m \u001b[39m=\u001b[39m \u001b[39mNone\u001b[39;00m\n\u001b[0;32m--> <a href='file:///opt/homebrew/Caskroom/miniforge/base/envs/base_env/lib/python3.8/site-packages/pandas/io/parsers/readers.py?line=932'>933</a>\u001b[0m \u001b[39mself\u001b[39m\u001b[39m.\u001b[39m_engine \u001b[39m=\u001b[39m \u001b[39mself\u001b[39;49m\u001b[39m.\u001b[39;49m_make_engine(f, \u001b[39mself\u001b[39;49m\u001b[39m.\u001b[39;49mengine)\n",
      "File \u001b[0;32m/opt/homebrew/Caskroom/miniforge/base/envs/base_env/lib/python3.8/site-packages/pandas/io/parsers/readers.py:1217\u001b[0m, in \u001b[0;36mTextFileReader._make_engine\u001b[0;34m(self, f, engine)\u001b[0m\n\u001b[1;32m   <a href='file:///opt/homebrew/Caskroom/miniforge/base/envs/base_env/lib/python3.8/site-packages/pandas/io/parsers/readers.py?line=1212'>1213</a>\u001b[0m     mode \u001b[39m=\u001b[39m \u001b[39m\"\u001b[39m\u001b[39mrb\u001b[39m\u001b[39m\"\u001b[39m\n\u001b[1;32m   <a href='file:///opt/homebrew/Caskroom/miniforge/base/envs/base_env/lib/python3.8/site-packages/pandas/io/parsers/readers.py?line=1213'>1214</a>\u001b[0m \u001b[39m# error: No overload variant of \"get_handle\" matches argument types\u001b[39;00m\n\u001b[1;32m   <a href='file:///opt/homebrew/Caskroom/miniforge/base/envs/base_env/lib/python3.8/site-packages/pandas/io/parsers/readers.py?line=1214'>1215</a>\u001b[0m \u001b[39m# \"Union[str, PathLike[str], ReadCsvBuffer[bytes], ReadCsvBuffer[str]]\"\u001b[39;00m\n\u001b[1;32m   <a href='file:///opt/homebrew/Caskroom/miniforge/base/envs/base_env/lib/python3.8/site-packages/pandas/io/parsers/readers.py?line=1215'>1216</a>\u001b[0m \u001b[39m# , \"str\", \"bool\", \"Any\", \"Any\", \"Any\", \"Any\", \"Any\"\u001b[39;00m\n\u001b[0;32m-> <a href='file:///opt/homebrew/Caskroom/miniforge/base/envs/base_env/lib/python3.8/site-packages/pandas/io/parsers/readers.py?line=1216'>1217</a>\u001b[0m \u001b[39mself\u001b[39m\u001b[39m.\u001b[39mhandles \u001b[39m=\u001b[39m get_handle(  \u001b[39m# type: ignore[call-overload]\u001b[39;49;00m\n\u001b[1;32m   <a href='file:///opt/homebrew/Caskroom/miniforge/base/envs/base_env/lib/python3.8/site-packages/pandas/io/parsers/readers.py?line=1217'>1218</a>\u001b[0m     f,\n\u001b[1;32m   <a href='file:///opt/homebrew/Caskroom/miniforge/base/envs/base_env/lib/python3.8/site-packages/pandas/io/parsers/readers.py?line=1218'>1219</a>\u001b[0m     mode,\n\u001b[1;32m   <a href='file:///opt/homebrew/Caskroom/miniforge/base/envs/base_env/lib/python3.8/site-packages/pandas/io/parsers/readers.py?line=1219'>1220</a>\u001b[0m     encoding\u001b[39m=\u001b[39;49m\u001b[39mself\u001b[39;49m\u001b[39m.\u001b[39;49moptions\u001b[39m.\u001b[39;49mget(\u001b[39m\"\u001b[39;49m\u001b[39mencoding\u001b[39;49m\u001b[39m\"\u001b[39;49m, \u001b[39mNone\u001b[39;49;00m),\n\u001b[1;32m   <a href='file:///opt/homebrew/Caskroom/miniforge/base/envs/base_env/lib/python3.8/site-packages/pandas/io/parsers/readers.py?line=1220'>1221</a>\u001b[0m     compression\u001b[39m=\u001b[39;49m\u001b[39mself\u001b[39;49m\u001b[39m.\u001b[39;49moptions\u001b[39m.\u001b[39;49mget(\u001b[39m\"\u001b[39;49m\u001b[39mcompression\u001b[39;49m\u001b[39m\"\u001b[39;49m, \u001b[39mNone\u001b[39;49;00m),\n\u001b[1;32m   <a href='file:///opt/homebrew/Caskroom/miniforge/base/envs/base_env/lib/python3.8/site-packages/pandas/io/parsers/readers.py?line=1221'>1222</a>\u001b[0m     memory_map\u001b[39m=\u001b[39;49m\u001b[39mself\u001b[39;49m\u001b[39m.\u001b[39;49moptions\u001b[39m.\u001b[39;49mget(\u001b[39m\"\u001b[39;49m\u001b[39mmemory_map\u001b[39;49m\u001b[39m\"\u001b[39;49m, \u001b[39mFalse\u001b[39;49;00m),\n\u001b[1;32m   <a href='file:///opt/homebrew/Caskroom/miniforge/base/envs/base_env/lib/python3.8/site-packages/pandas/io/parsers/readers.py?line=1222'>1223</a>\u001b[0m     is_text\u001b[39m=\u001b[39;49mis_text,\n\u001b[1;32m   <a href='file:///opt/homebrew/Caskroom/miniforge/base/envs/base_env/lib/python3.8/site-packages/pandas/io/parsers/readers.py?line=1223'>1224</a>\u001b[0m     errors\u001b[39m=\u001b[39;49m\u001b[39mself\u001b[39;49m\u001b[39m.\u001b[39;49moptions\u001b[39m.\u001b[39;49mget(\u001b[39m\"\u001b[39;49m\u001b[39mencoding_errors\u001b[39;49m\u001b[39m\"\u001b[39;49m, \u001b[39m\"\u001b[39;49m\u001b[39mstrict\u001b[39;49m\u001b[39m\"\u001b[39;49m),\n\u001b[1;32m   <a href='file:///opt/homebrew/Caskroom/miniforge/base/envs/base_env/lib/python3.8/site-packages/pandas/io/parsers/readers.py?line=1224'>1225</a>\u001b[0m     storage_options\u001b[39m=\u001b[39;49m\u001b[39mself\u001b[39;49m\u001b[39m.\u001b[39;49moptions\u001b[39m.\u001b[39;49mget(\u001b[39m\"\u001b[39;49m\u001b[39mstorage_options\u001b[39;49m\u001b[39m\"\u001b[39;49m, \u001b[39mNone\u001b[39;49;00m),\n\u001b[1;32m   <a href='file:///opt/homebrew/Caskroom/miniforge/base/envs/base_env/lib/python3.8/site-packages/pandas/io/parsers/readers.py?line=1225'>1226</a>\u001b[0m )\n\u001b[1;32m   <a href='file:///opt/homebrew/Caskroom/miniforge/base/envs/base_env/lib/python3.8/site-packages/pandas/io/parsers/readers.py?line=1226'>1227</a>\u001b[0m \u001b[39massert\u001b[39;00m \u001b[39mself\u001b[39m\u001b[39m.\u001b[39mhandles \u001b[39mis\u001b[39;00m \u001b[39mnot\u001b[39;00m \u001b[39mNone\u001b[39;00m\n\u001b[1;32m   <a href='file:///opt/homebrew/Caskroom/miniforge/base/envs/base_env/lib/python3.8/site-packages/pandas/io/parsers/readers.py?line=1227'>1228</a>\u001b[0m f \u001b[39m=\u001b[39m \u001b[39mself\u001b[39m\u001b[39m.\u001b[39mhandles\u001b[39m.\u001b[39mhandle\n",
      "File \u001b[0;32m/opt/homebrew/Caskroom/miniforge/base/envs/base_env/lib/python3.8/site-packages/pandas/io/common.py:789\u001b[0m, in \u001b[0;36mget_handle\u001b[0;34m(path_or_buf, mode, encoding, compression, memory_map, is_text, errors, storage_options)\u001b[0m\n\u001b[1;32m    <a href='file:///opt/homebrew/Caskroom/miniforge/base/envs/base_env/lib/python3.8/site-packages/pandas/io/common.py?line=783'>784</a>\u001b[0m \u001b[39melif\u001b[39;00m \u001b[39misinstance\u001b[39m(handle, \u001b[39mstr\u001b[39m):\n\u001b[1;32m    <a href='file:///opt/homebrew/Caskroom/miniforge/base/envs/base_env/lib/python3.8/site-packages/pandas/io/common.py?line=784'>785</a>\u001b[0m     \u001b[39m# Check whether the filename is to be opened in binary mode.\u001b[39;00m\n\u001b[1;32m    <a href='file:///opt/homebrew/Caskroom/miniforge/base/envs/base_env/lib/python3.8/site-packages/pandas/io/common.py?line=785'>786</a>\u001b[0m     \u001b[39m# Binary mode does not support 'encoding' and 'newline'.\u001b[39;00m\n\u001b[1;32m    <a href='file:///opt/homebrew/Caskroom/miniforge/base/envs/base_env/lib/python3.8/site-packages/pandas/io/common.py?line=786'>787</a>\u001b[0m     \u001b[39mif\u001b[39;00m ioargs\u001b[39m.\u001b[39mencoding \u001b[39mand\u001b[39;00m \u001b[39m\"\u001b[39m\u001b[39mb\u001b[39m\u001b[39m\"\u001b[39m \u001b[39mnot\u001b[39;00m \u001b[39min\u001b[39;00m ioargs\u001b[39m.\u001b[39mmode:\n\u001b[1;32m    <a href='file:///opt/homebrew/Caskroom/miniforge/base/envs/base_env/lib/python3.8/site-packages/pandas/io/common.py?line=787'>788</a>\u001b[0m         \u001b[39m# Encoding\u001b[39;00m\n\u001b[0;32m--> <a href='file:///opt/homebrew/Caskroom/miniforge/base/envs/base_env/lib/python3.8/site-packages/pandas/io/common.py?line=788'>789</a>\u001b[0m         handle \u001b[39m=\u001b[39m \u001b[39mopen\u001b[39;49m(\n\u001b[1;32m    <a href='file:///opt/homebrew/Caskroom/miniforge/base/envs/base_env/lib/python3.8/site-packages/pandas/io/common.py?line=789'>790</a>\u001b[0m             handle,\n\u001b[1;32m    <a href='file:///opt/homebrew/Caskroom/miniforge/base/envs/base_env/lib/python3.8/site-packages/pandas/io/common.py?line=790'>791</a>\u001b[0m             ioargs\u001b[39m.\u001b[39;49mmode,\n\u001b[1;32m    <a href='file:///opt/homebrew/Caskroom/miniforge/base/envs/base_env/lib/python3.8/site-packages/pandas/io/common.py?line=791'>792</a>\u001b[0m             encoding\u001b[39m=\u001b[39;49mioargs\u001b[39m.\u001b[39;49mencoding,\n\u001b[1;32m    <a href='file:///opt/homebrew/Caskroom/miniforge/base/envs/base_env/lib/python3.8/site-packages/pandas/io/common.py?line=792'>793</a>\u001b[0m             errors\u001b[39m=\u001b[39;49merrors,\n\u001b[1;32m    <a href='file:///opt/homebrew/Caskroom/miniforge/base/envs/base_env/lib/python3.8/site-packages/pandas/io/common.py?line=793'>794</a>\u001b[0m             newline\u001b[39m=\u001b[39;49m\u001b[39m\"\u001b[39;49m\u001b[39m\"\u001b[39;49m,\n\u001b[1;32m    <a href='file:///opt/homebrew/Caskroom/miniforge/base/envs/base_env/lib/python3.8/site-packages/pandas/io/common.py?line=794'>795</a>\u001b[0m         )\n\u001b[1;32m    <a href='file:///opt/homebrew/Caskroom/miniforge/base/envs/base_env/lib/python3.8/site-packages/pandas/io/common.py?line=795'>796</a>\u001b[0m     \u001b[39melse\u001b[39;00m:\n\u001b[1;32m    <a href='file:///opt/homebrew/Caskroom/miniforge/base/envs/base_env/lib/python3.8/site-packages/pandas/io/common.py?line=796'>797</a>\u001b[0m         \u001b[39m# Binary mode\u001b[39;00m\n\u001b[1;32m    <a href='file:///opt/homebrew/Caskroom/miniforge/base/envs/base_env/lib/python3.8/site-packages/pandas/io/common.py?line=797'>798</a>\u001b[0m         handle \u001b[39m=\u001b[39m \u001b[39mopen\u001b[39m(handle, ioargs\u001b[39m.\u001b[39mmode)\n",
      "\u001b[0;31mFileNotFoundError\u001b[0m: [Errno 2] No such file or directory: '../data/main_dataset.csv'"
     ]
    }
   ],
   "source": [
    "main_data = pd.read_csv('../data/main_dataset.csv')\n",
    "main_data"
   ]
  },
  {
   "cell_type": "code",
   "execution_count": null,
   "metadata": {},
   "outputs": [
    {
     "data": {
      "text/html": [
       "<div>\n",
       "<style scoped>\n",
       "    .dataframe tbody tr th:only-of-type {\n",
       "        vertical-align: middle;\n",
       "    }\n",
       "\n",
       "    .dataframe tbody tr th {\n",
       "        vertical-align: top;\n",
       "    }\n",
       "\n",
       "    .dataframe thead th {\n",
       "        text-align: right;\n",
       "    }\n",
       "</style>\n",
       "<table border=\"1\" class=\"dataframe\">\n",
       "  <thead>\n",
       "    <tr style=\"text-align: right;\">\n",
       "      <th></th>\n",
       "      <th>id</th>\n",
       "      <th>borough</th>\n",
       "      <th>neighborhood</th>\n",
       "      <th>longitude</th>\n",
       "      <th>latitude</th>\n",
       "      <th>population</th>\n",
       "      <th>number_of_restaurants</th>\n",
       "      <th>average_review_count</th>\n",
       "      <th>average_restaurant_rating</th>\n",
       "      <th>average_price_level</th>\n",
       "      <th>yelp_category</th>\n",
       "    </tr>\n",
       "  </thead>\n",
       "  <tbody>\n",
       "    <tr>\n",
       "      <th>0</th>\n",
       "      <td>nyu_2451_34572.1</td>\n",
       "      <td>Bronx</td>\n",
       "      <td>Wakefield</td>\n",
       "      <td>-73.847201</td>\n",
       "      <td>40.894705</td>\n",
       "      <td>21242.0</td>\n",
       "      <td>13</td>\n",
       "      <td>169</td>\n",
       "      <td>4.0</td>\n",
       "      <td>1</td>\n",
       "      <td>caribbean</td>\n",
       "    </tr>\n",
       "    <tr>\n",
       "      <th>1</th>\n",
       "      <td>nyu_2451_34572.2</td>\n",
       "      <td>Bronx</td>\n",
       "      <td>Co-op City</td>\n",
       "      <td>-73.829939</td>\n",
       "      <td>40.874294</td>\n",
       "      <td>43752.0</td>\n",
       "      <td>12</td>\n",
       "      <td>771</td>\n",
       "      <td>4.0</td>\n",
       "      <td>2</td>\n",
       "      <td>delis</td>\n",
       "    </tr>\n",
       "    <tr>\n",
       "      <th>2</th>\n",
       "      <td>nyu_2451_34572.3</td>\n",
       "      <td>Bronx</td>\n",
       "      <td>Eastchester</td>\n",
       "      <td>-73.827806</td>\n",
       "      <td>40.887556</td>\n",
       "      <td>11506.0</td>\n",
       "      <td>19</td>\n",
       "      <td>532</td>\n",
       "      <td>4.1</td>\n",
       "      <td>1</td>\n",
       "      <td>caribbean</td>\n",
       "    </tr>\n",
       "    <tr>\n",
       "      <th>3</th>\n",
       "      <td>nyu_2451_34572.4</td>\n",
       "      <td>Bronx</td>\n",
       "      <td>Fieldston</td>\n",
       "      <td>-73.905643</td>\n",
       "      <td>40.895437</td>\n",
       "      <td>9287.0</td>\n",
       "      <td>9</td>\n",
       "      <td>297</td>\n",
       "      <td>4.4</td>\n",
       "      <td>1</td>\n",
       "      <td>N</td>\n",
       "    </tr>\n",
       "    <tr>\n",
       "      <th>4</th>\n",
       "      <td>nyu_2451_34572.5</td>\n",
       "      <td>Bronx</td>\n",
       "      <td>Riverdale</td>\n",
       "      <td>-73.912585</td>\n",
       "      <td>40.890834</td>\n",
       "      <td>9287.0</td>\n",
       "      <td>14</td>\n",
       "      <td>319</td>\n",
       "      <td>4.0</td>\n",
       "      <td>2</td>\n",
       "      <td>burgers</td>\n",
       "    </tr>\n",
       "    <tr>\n",
       "      <th>...</th>\n",
       "      <td>...</td>\n",
       "      <td>...</td>\n",
       "      <td>...</td>\n",
       "      <td>...</td>\n",
       "      <td>...</td>\n",
       "      <td>...</td>\n",
       "      <td>...</td>\n",
       "      <td>...</td>\n",
       "      <td>...</td>\n",
       "      <td>...</td>\n",
       "      <td>...</td>\n",
       "    </tr>\n",
       "    <tr>\n",
       "      <th>301</th>\n",
       "      <td>nyu_2451_34572.302</td>\n",
       "      <td>Manhattan</td>\n",
       "      <td>Hudson Yards</td>\n",
       "      <td>-74.000111</td>\n",
       "      <td>40.756658</td>\n",
       "      <td>23383.0</td>\n",
       "      <td>20</td>\n",
       "      <td>848</td>\n",
       "      <td>4.3</td>\n",
       "      <td>2</td>\n",
       "      <td>newamerican</td>\n",
       "    </tr>\n",
       "    <tr>\n",
       "      <th>302</th>\n",
       "      <td>nyu_2451_34572.303</td>\n",
       "      <td>Queens</td>\n",
       "      <td>Hammels</td>\n",
       "      <td>-73.805530</td>\n",
       "      <td>40.587338</td>\n",
       "      <td>12295.0</td>\n",
       "      <td>17</td>\n",
       "      <td>257</td>\n",
       "      <td>4.3</td>\n",
       "      <td>2</td>\n",
       "      <td>chicken_wings</td>\n",
       "    </tr>\n",
       "    <tr>\n",
       "      <th>303</th>\n",
       "      <td>nyu_2451_34572.304</td>\n",
       "      <td>Queens</td>\n",
       "      <td>Bayswater</td>\n",
       "      <td>-73.765968</td>\n",
       "      <td>40.611322</td>\n",
       "      <td>25029.0</td>\n",
       "      <td>0</td>\n",
       "      <td>0</td>\n",
       "      <td>0.0</td>\n",
       "      <td>0</td>\n",
       "      <td>N</td>\n",
       "    </tr>\n",
       "    <tr>\n",
       "      <th>304</th>\n",
       "      <td>nyu_2451_34572.305</td>\n",
       "      <td>Queens</td>\n",
       "      <td>Queensbridge</td>\n",
       "      <td>-73.945631</td>\n",
       "      <td>40.756091</td>\n",
       "      <td>6677.0</td>\n",
       "      <td>17</td>\n",
       "      <td>222</td>\n",
       "      <td>4.1</td>\n",
       "      <td>2</td>\n",
       "      <td>tradamerican</td>\n",
       "    </tr>\n",
       "    <tr>\n",
       "      <th>305</th>\n",
       "      <td>nyu_2451_34572.306</td>\n",
       "      <td>Staten Island</td>\n",
       "      <td>Fox Hills</td>\n",
       "      <td>-74.081740</td>\n",
       "      <td>40.617311</td>\n",
       "      <td>11230.0</td>\n",
       "      <td>5</td>\n",
       "      <td>213</td>\n",
       "      <td>4.3</td>\n",
       "      <td>1</td>\n",
       "      <td>spanish</td>\n",
       "    </tr>\n",
       "  </tbody>\n",
       "</table>\n",
       "<p>306 rows × 11 columns</p>\n",
       "</div>"
      ],
      "text/plain": [
       "                     id        borough  neighborhood  longitude   latitude  \\\n",
       "0      nyu_2451_34572.1          Bronx     Wakefield -73.847201  40.894705   \n",
       "1      nyu_2451_34572.2          Bronx    Co-op City -73.829939  40.874294   \n",
       "2      nyu_2451_34572.3          Bronx   Eastchester -73.827806  40.887556   \n",
       "3      nyu_2451_34572.4          Bronx     Fieldston -73.905643  40.895437   \n",
       "4      nyu_2451_34572.5          Bronx     Riverdale -73.912585  40.890834   \n",
       "..                  ...            ...           ...        ...        ...   \n",
       "301  nyu_2451_34572.302      Manhattan  Hudson Yards -74.000111  40.756658   \n",
       "302  nyu_2451_34572.303         Queens       Hammels -73.805530  40.587338   \n",
       "303  nyu_2451_34572.304         Queens     Bayswater -73.765968  40.611322   \n",
       "304  nyu_2451_34572.305         Queens  Queensbridge -73.945631  40.756091   \n",
       "305  nyu_2451_34572.306  Staten Island     Fox Hills -74.081740  40.617311   \n",
       "\n",
       "     population  number_of_restaurants  average_review_count  \\\n",
       "0       21242.0                     13                   169   \n",
       "1       43752.0                     12                   771   \n",
       "2       11506.0                     19                   532   \n",
       "3        9287.0                      9                   297   \n",
       "4        9287.0                     14                   319   \n",
       "..          ...                    ...                   ...   \n",
       "301     23383.0                     20                   848   \n",
       "302     12295.0                     17                   257   \n",
       "303     25029.0                      0                     0   \n",
       "304      6677.0                     17                   222   \n",
       "305     11230.0                      5                   213   \n",
       "\n",
       "     average_restaurant_rating  average_price_level  yelp_category  \n",
       "0                          4.0                    1      caribbean  \n",
       "1                          4.0                    2          delis  \n",
       "2                          4.1                    1      caribbean  \n",
       "3                          4.4                    1              N  \n",
       "4                          4.0                    2        burgers  \n",
       "..                         ...                  ...            ...  \n",
       "301                        4.3                    2    newamerican  \n",
       "302                        4.3                    2  chicken_wings  \n",
       "303                        0.0                    0              N  \n",
       "304                        4.1                    2   tradamerican  \n",
       "305                        4.3                    1        spanish  \n",
       "\n",
       "[306 rows x 11 columns]"
      ]
     },
     "execution_count": 3,
     "metadata": {},
     "output_type": "execute_result"
    }
   ],
   "source": [
    "old_data = pd.read_csv('../data/old_dataset.csv', index_col=0)\n",
    "id_data = old_data\n",
    "old_data"
   ]
  },
  {
   "cell_type": "code",
   "execution_count": null,
   "metadata": {},
   "outputs": [
    {
     "data": {
      "text/html": [
       "<div>\n",
       "<style scoped>\n",
       "    .dataframe tbody tr th:only-of-type {\n",
       "        vertical-align: middle;\n",
       "    }\n",
       "\n",
       "    .dataframe tbody tr th {\n",
       "        vertical-align: top;\n",
       "    }\n",
       "\n",
       "    .dataframe thead th {\n",
       "        text-align: right;\n",
       "    }\n",
       "</style>\n",
       "<table border=\"1\" class=\"dataframe\">\n",
       "  <thead>\n",
       "    <tr style=\"text-align: right;\">\n",
       "      <th></th>\n",
       "      <th>average_restaurant_rating</th>\n",
       "      <th>average_price_level</th>\n",
       "    </tr>\n",
       "  </thead>\n",
       "  <tbody>\n",
       "    <tr>\n",
       "      <th>0</th>\n",
       "      <td>4.0</td>\n",
       "      <td>1</td>\n",
       "    </tr>\n",
       "    <tr>\n",
       "      <th>1</th>\n",
       "      <td>4.0</td>\n",
       "      <td>2</td>\n",
       "    </tr>\n",
       "    <tr>\n",
       "      <th>2</th>\n",
       "      <td>4.1</td>\n",
       "      <td>1</td>\n",
       "    </tr>\n",
       "    <tr>\n",
       "      <th>3</th>\n",
       "      <td>4.4</td>\n",
       "      <td>1</td>\n",
       "    </tr>\n",
       "    <tr>\n",
       "      <th>4</th>\n",
       "      <td>4.0</td>\n",
       "      <td>2</td>\n",
       "    </tr>\n",
       "    <tr>\n",
       "      <th>...</th>\n",
       "      <td>...</td>\n",
       "      <td>...</td>\n",
       "    </tr>\n",
       "    <tr>\n",
       "      <th>301</th>\n",
       "      <td>4.3</td>\n",
       "      <td>2</td>\n",
       "    </tr>\n",
       "    <tr>\n",
       "      <th>302</th>\n",
       "      <td>4.3</td>\n",
       "      <td>2</td>\n",
       "    </tr>\n",
       "    <tr>\n",
       "      <th>303</th>\n",
       "      <td>0.0</td>\n",
       "      <td>0</td>\n",
       "    </tr>\n",
       "    <tr>\n",
       "      <th>304</th>\n",
       "      <td>4.1</td>\n",
       "      <td>2</td>\n",
       "    </tr>\n",
       "    <tr>\n",
       "      <th>305</th>\n",
       "      <td>4.3</td>\n",
       "      <td>1</td>\n",
       "    </tr>\n",
       "  </tbody>\n",
       "</table>\n",
       "<p>306 rows × 2 columns</p>\n",
       "</div>"
      ],
      "text/plain": [
       "     average_restaurant_rating  average_price_level\n",
       "0                          4.0                    1\n",
       "1                          4.0                    2\n",
       "2                          4.1                    1\n",
       "3                          4.4                    1\n",
       "4                          4.0                    2\n",
       "..                         ...                  ...\n",
       "301                        4.3                    2\n",
       "302                        4.3                    2\n",
       "303                        0.0                    0\n",
       "304                        4.1                    2\n",
       "305                        4.3                    1\n",
       "\n",
       "[306 rows x 2 columns]"
      ]
     },
     "execution_count": 4,
     "metadata": {},
     "output_type": "execute_result"
    }
   ],
   "source": [
    "# let's only take features that are interesting\n",
    "old_data = old_data[['average_restaurant_rating', 'average_price_level']]\n",
    "old_data"
   ]
  },
  {
   "cell_type": "code",
   "execution_count": null,
   "metadata": {},
   "outputs": [
    {
     "data": {
      "text/html": [
       "<div>\n",
       "<style scoped>\n",
       "    .dataframe tbody tr th:only-of-type {\n",
       "        vertical-align: middle;\n",
       "    }\n",
       "\n",
       "    .dataframe tbody tr th {\n",
       "        vertical-align: top;\n",
       "    }\n",
       "\n",
       "    .dataframe thead th {\n",
       "        text-align: right;\n",
       "    }\n",
       "</style>\n",
       "<table border=\"1\" class=\"dataframe\">\n",
       "  <thead>\n",
       "    <tr style=\"text-align: right;\">\n",
       "      <th></th>\n",
       "      <th>caribbean</th>\n",
       "      <th>breakfast_brunch</th>\n",
       "      <th>pizza</th>\n",
       "      <th>burgers</th>\n",
       "      <th>sandwiches</th>\n",
       "      <th>comfortfood</th>\n",
       "      <th>soulfood</th>\n",
       "      <th>grocery</th>\n",
       "      <th>cafes</th>\n",
       "      <th>chinese</th>\n",
       "      <th>...</th>\n",
       "      <th>airportlounges</th>\n",
       "      <th>surfshop</th>\n",
       "      <th>media</th>\n",
       "      <th>shavedice</th>\n",
       "      <th>pretzels</th>\n",
       "      <th>srilankan</th>\n",
       "      <th>southafrican</th>\n",
       "      <th>personalchefs</th>\n",
       "      <th>homedecor</th>\n",
       "      <th>syrian</th>\n",
       "    </tr>\n",
       "  </thead>\n",
       "  <tbody>\n",
       "    <tr>\n",
       "      <th>0</th>\n",
       "      <td>4.0</td>\n",
       "      <td>2.0</td>\n",
       "      <td>2.0</td>\n",
       "      <td>1.0</td>\n",
       "      <td>3.0</td>\n",
       "      <td>1.0</td>\n",
       "      <td>1.0</td>\n",
       "      <td>1.0</td>\n",
       "      <td>1.0</td>\n",
       "      <td>0.0</td>\n",
       "      <td>...</td>\n",
       "      <td>0.0</td>\n",
       "      <td>0.0</td>\n",
       "      <td>0.0</td>\n",
       "      <td>0.0</td>\n",
       "      <td>0.0</td>\n",
       "      <td>0.0</td>\n",
       "      <td>0.0</td>\n",
       "      <td>0.0</td>\n",
       "      <td>0.0</td>\n",
       "      <td>0.0</td>\n",
       "    </tr>\n",
       "    <tr>\n",
       "      <th>1</th>\n",
       "      <td>0.0</td>\n",
       "      <td>0.0</td>\n",
       "      <td>2.0</td>\n",
       "      <td>1.0</td>\n",
       "      <td>1.0</td>\n",
       "      <td>0.0</td>\n",
       "      <td>0.0</td>\n",
       "      <td>0.0</td>\n",
       "      <td>0.0</td>\n",
       "      <td>2.0</td>\n",
       "      <td>...</td>\n",
       "      <td>0.0</td>\n",
       "      <td>0.0</td>\n",
       "      <td>0.0</td>\n",
       "      <td>0.0</td>\n",
       "      <td>0.0</td>\n",
       "      <td>0.0</td>\n",
       "      <td>0.0</td>\n",
       "      <td>0.0</td>\n",
       "      <td>0.0</td>\n",
       "      <td>0.0</td>\n",
       "    </tr>\n",
       "    <tr>\n",
       "      <th>2</th>\n",
       "      <td>3.0</td>\n",
       "      <td>2.0</td>\n",
       "      <td>2.0</td>\n",
       "      <td>1.0</td>\n",
       "      <td>0.0</td>\n",
       "      <td>1.0</td>\n",
       "      <td>0.0</td>\n",
       "      <td>0.0</td>\n",
       "      <td>1.0</td>\n",
       "      <td>1.0</td>\n",
       "      <td>...</td>\n",
       "      <td>0.0</td>\n",
       "      <td>0.0</td>\n",
       "      <td>0.0</td>\n",
       "      <td>0.0</td>\n",
       "      <td>0.0</td>\n",
       "      <td>0.0</td>\n",
       "      <td>0.0</td>\n",
       "      <td>0.0</td>\n",
       "      <td>0.0</td>\n",
       "      <td>0.0</td>\n",
       "    </tr>\n",
       "    <tr>\n",
       "      <th>3</th>\n",
       "      <td>0.0</td>\n",
       "      <td>0.0</td>\n",
       "      <td>0.0</td>\n",
       "      <td>0.0</td>\n",
       "      <td>0.0</td>\n",
       "      <td>0.0</td>\n",
       "      <td>0.0</td>\n",
       "      <td>0.0</td>\n",
       "      <td>0.0</td>\n",
       "      <td>0.0</td>\n",
       "      <td>...</td>\n",
       "      <td>0.0</td>\n",
       "      <td>0.0</td>\n",
       "      <td>0.0</td>\n",
       "      <td>0.0</td>\n",
       "      <td>0.0</td>\n",
       "      <td>0.0</td>\n",
       "      <td>0.0</td>\n",
       "      <td>0.0</td>\n",
       "      <td>0.0</td>\n",
       "      <td>0.0</td>\n",
       "    </tr>\n",
       "    <tr>\n",
       "      <th>4</th>\n",
       "      <td>0.0</td>\n",
       "      <td>0.0</td>\n",
       "      <td>1.0</td>\n",
       "      <td>3.0</td>\n",
       "      <td>1.0</td>\n",
       "      <td>0.0</td>\n",
       "      <td>0.0</td>\n",
       "      <td>0.0</td>\n",
       "      <td>0.0</td>\n",
       "      <td>1.0</td>\n",
       "      <td>...</td>\n",
       "      <td>0.0</td>\n",
       "      <td>0.0</td>\n",
       "      <td>0.0</td>\n",
       "      <td>0.0</td>\n",
       "      <td>0.0</td>\n",
       "      <td>0.0</td>\n",
       "      <td>0.0</td>\n",
       "      <td>0.0</td>\n",
       "      <td>0.0</td>\n",
       "      <td>0.0</td>\n",
       "    </tr>\n",
       "    <tr>\n",
       "      <th>...</th>\n",
       "      <td>...</td>\n",
       "      <td>...</td>\n",
       "      <td>...</td>\n",
       "      <td>...</td>\n",
       "      <td>...</td>\n",
       "      <td>...</td>\n",
       "      <td>...</td>\n",
       "      <td>...</td>\n",
       "      <td>...</td>\n",
       "      <td>...</td>\n",
       "      <td>...</td>\n",
       "      <td>...</td>\n",
       "      <td>...</td>\n",
       "      <td>...</td>\n",
       "      <td>...</td>\n",
       "      <td>...</td>\n",
       "      <td>...</td>\n",
       "      <td>...</td>\n",
       "      <td>...</td>\n",
       "      <td>...</td>\n",
       "      <td>...</td>\n",
       "    </tr>\n",
       "    <tr>\n",
       "      <th>301</th>\n",
       "      <td>1.0</td>\n",
       "      <td>4.0</td>\n",
       "      <td>3.0</td>\n",
       "      <td>2.0</td>\n",
       "      <td>5.0</td>\n",
       "      <td>0.0</td>\n",
       "      <td>0.0</td>\n",
       "      <td>0.0</td>\n",
       "      <td>5.0</td>\n",
       "      <td>0.0</td>\n",
       "      <td>...</td>\n",
       "      <td>0.0</td>\n",
       "      <td>0.0</td>\n",
       "      <td>0.0</td>\n",
       "      <td>1.0</td>\n",
       "      <td>0.0</td>\n",
       "      <td>0.0</td>\n",
       "      <td>0.0</td>\n",
       "      <td>0.0</td>\n",
       "      <td>0.0</td>\n",
       "      <td>0.0</td>\n",
       "    </tr>\n",
       "    <tr>\n",
       "      <th>302</th>\n",
       "      <td>0.0</td>\n",
       "      <td>1.0</td>\n",
       "      <td>1.0</td>\n",
       "      <td>1.0</td>\n",
       "      <td>0.0</td>\n",
       "      <td>0.0</td>\n",
       "      <td>0.0</td>\n",
       "      <td>0.0</td>\n",
       "      <td>0.0</td>\n",
       "      <td>1.0</td>\n",
       "      <td>...</td>\n",
       "      <td>0.0</td>\n",
       "      <td>0.0</td>\n",
       "      <td>0.0</td>\n",
       "      <td>0.0</td>\n",
       "      <td>0.0</td>\n",
       "      <td>0.0</td>\n",
       "      <td>0.0</td>\n",
       "      <td>0.0</td>\n",
       "      <td>0.0</td>\n",
       "      <td>0.0</td>\n",
       "    </tr>\n",
       "    <tr>\n",
       "      <th>303</th>\n",
       "      <td>0.0</td>\n",
       "      <td>0.0</td>\n",
       "      <td>0.0</td>\n",
       "      <td>0.0</td>\n",
       "      <td>0.0</td>\n",
       "      <td>0.0</td>\n",
       "      <td>0.0</td>\n",
       "      <td>0.0</td>\n",
       "      <td>0.0</td>\n",
       "      <td>0.0</td>\n",
       "      <td>...</td>\n",
       "      <td>0.0</td>\n",
       "      <td>0.0</td>\n",
       "      <td>0.0</td>\n",
       "      <td>0.0</td>\n",
       "      <td>0.0</td>\n",
       "      <td>0.0</td>\n",
       "      <td>0.0</td>\n",
       "      <td>0.0</td>\n",
       "      <td>0.0</td>\n",
       "      <td>0.0</td>\n",
       "    </tr>\n",
       "    <tr>\n",
       "      <th>304</th>\n",
       "      <td>0.0</td>\n",
       "      <td>3.0</td>\n",
       "      <td>2.0</td>\n",
       "      <td>0.0</td>\n",
       "      <td>2.0</td>\n",
       "      <td>0.0</td>\n",
       "      <td>1.0</td>\n",
       "      <td>0.0</td>\n",
       "      <td>0.0</td>\n",
       "      <td>1.0</td>\n",
       "      <td>...</td>\n",
       "      <td>0.0</td>\n",
       "      <td>0.0</td>\n",
       "      <td>0.0</td>\n",
       "      <td>0.0</td>\n",
       "      <td>0.0</td>\n",
       "      <td>0.0</td>\n",
       "      <td>0.0</td>\n",
       "      <td>0.0</td>\n",
       "      <td>0.0</td>\n",
       "      <td>0.0</td>\n",
       "    </tr>\n",
       "    <tr>\n",
       "      <th>305</th>\n",
       "      <td>1.0</td>\n",
       "      <td>0.0</td>\n",
       "      <td>0.0</td>\n",
       "      <td>0.0</td>\n",
       "      <td>1.0</td>\n",
       "      <td>0.0</td>\n",
       "      <td>0.0</td>\n",
       "      <td>0.0</td>\n",
       "      <td>0.0</td>\n",
       "      <td>0.0</td>\n",
       "      <td>...</td>\n",
       "      <td>0.0</td>\n",
       "      <td>0.0</td>\n",
       "      <td>0.0</td>\n",
       "      <td>0.0</td>\n",
       "      <td>0.0</td>\n",
       "      <td>0.0</td>\n",
       "      <td>0.0</td>\n",
       "      <td>0.0</td>\n",
       "      <td>0.0</td>\n",
       "      <td>0.0</td>\n",
       "    </tr>\n",
       "  </tbody>\n",
       "</table>\n",
       "<p>306 rows × 231 columns</p>\n",
       "</div>"
      ],
      "text/plain": [
       "     caribbean  breakfast_brunch  pizza  burgers  sandwiches  comfortfood  \\\n",
       "0          4.0               2.0    2.0      1.0         3.0          1.0   \n",
       "1          0.0               0.0    2.0      1.0         1.0          0.0   \n",
       "2          3.0               2.0    2.0      1.0         0.0          1.0   \n",
       "3          0.0               0.0    0.0      0.0         0.0          0.0   \n",
       "4          0.0               0.0    1.0      3.0         1.0          0.0   \n",
       "..         ...               ...    ...      ...         ...          ...   \n",
       "301        1.0               4.0    3.0      2.0         5.0          0.0   \n",
       "302        0.0               1.0    1.0      1.0         0.0          0.0   \n",
       "303        0.0               0.0    0.0      0.0         0.0          0.0   \n",
       "304        0.0               3.0    2.0      0.0         2.0          0.0   \n",
       "305        1.0               0.0    0.0      0.0         1.0          0.0   \n",
       "\n",
       "     soulfood  grocery  cafes  chinese  ...  airportlounges  surfshop  media  \\\n",
       "0         1.0      1.0    1.0      0.0  ...             0.0       0.0    0.0   \n",
       "1         0.0      0.0    0.0      2.0  ...             0.0       0.0    0.0   \n",
       "2         0.0      0.0    1.0      1.0  ...             0.0       0.0    0.0   \n",
       "3         0.0      0.0    0.0      0.0  ...             0.0       0.0    0.0   \n",
       "4         0.0      0.0    0.0      1.0  ...             0.0       0.0    0.0   \n",
       "..        ...      ...    ...      ...  ...             ...       ...    ...   \n",
       "301       0.0      0.0    5.0      0.0  ...             0.0       0.0    0.0   \n",
       "302       0.0      0.0    0.0      1.0  ...             0.0       0.0    0.0   \n",
       "303       0.0      0.0    0.0      0.0  ...             0.0       0.0    0.0   \n",
       "304       1.0      0.0    0.0      1.0  ...             0.0       0.0    0.0   \n",
       "305       0.0      0.0    0.0      0.0  ...             0.0       0.0    0.0   \n",
       "\n",
       "     shavedice  pretzels  srilankan  southafrican  personalchefs  homedecor  \\\n",
       "0          0.0       0.0        0.0           0.0            0.0        0.0   \n",
       "1          0.0       0.0        0.0           0.0            0.0        0.0   \n",
       "2          0.0       0.0        0.0           0.0            0.0        0.0   \n",
       "3          0.0       0.0        0.0           0.0            0.0        0.0   \n",
       "4          0.0       0.0        0.0           0.0            0.0        0.0   \n",
       "..         ...       ...        ...           ...            ...        ...   \n",
       "301        1.0       0.0        0.0           0.0            0.0        0.0   \n",
       "302        0.0       0.0        0.0           0.0            0.0        0.0   \n",
       "303        0.0       0.0        0.0           0.0            0.0        0.0   \n",
       "304        0.0       0.0        0.0           0.0            0.0        0.0   \n",
       "305        0.0       0.0        0.0           0.0            0.0        0.0   \n",
       "\n",
       "     syrian  \n",
       "0       0.0  \n",
       "1       0.0  \n",
       "2       0.0  \n",
       "3       0.0  \n",
       "4       0.0  \n",
       "..      ...  \n",
       "301     0.0  \n",
       "302     0.0  \n",
       "303     0.0  \n",
       "304     0.0  \n",
       "305     0.0  \n",
       "\n",
       "[306 rows x 231 columns]"
      ]
     },
     "execution_count": 5,
     "metadata": {},
     "output_type": "execute_result"
    }
   ],
   "source": [
    "# let's get our encoded yelp_types\n",
    "yelp_types = pd.read_csv('../data/data/yelp_restaurant_type_counts.csv').drop('Unnamed: 0', axis=1)\n",
    "yelp_types"
   ]
  },
  {
   "cell_type": "code",
   "execution_count": null,
   "metadata": {},
   "outputs": [
    {
     "data": {
      "text/html": [
       "<div>\n",
       "<style scoped>\n",
       "    .dataframe tbody tr th:only-of-type {\n",
       "        vertical-align: middle;\n",
       "    }\n",
       "\n",
       "    .dataframe tbody tr th {\n",
       "        vertical-align: top;\n",
       "    }\n",
       "\n",
       "    .dataframe thead th {\n",
       "        text-align: right;\n",
       "    }\n",
       "</style>\n",
       "<table border=\"1\" class=\"dataframe\">\n",
       "  <thead>\n",
       "    <tr style=\"text-align: right;\">\n",
       "      <th></th>\n",
       "      <th>lodging</th>\n",
       "      <th>restaurant</th>\n",
       "      <th>school</th>\n",
       "      <th>health</th>\n",
       "      <th>bar</th>\n",
       "      <th>church</th>\n",
       "      <th>bank</th>\n",
       "      <th>store</th>\n",
       "      <th>clothing</th>\n",
       "      <th>tourist attraction</th>\n",
       "      <th>...</th>\n",
       "      <th>pharmacy</th>\n",
       "      <th>farmersmarket</th>\n",
       "      <th>foodtours</th>\n",
       "      <th>bowling</th>\n",
       "      <th>syrian</th>\n",
       "      <th>southafrican</th>\n",
       "      <th>eventservices</th>\n",
       "      <th>bookstores</th>\n",
       "      <th>homedecor</th>\n",
       "      <th>diyfood</th>\n",
       "    </tr>\n",
       "  </thead>\n",
       "  <tbody>\n",
       "    <tr>\n",
       "      <th>0</th>\n",
       "      <td>9</td>\n",
       "      <td>55</td>\n",
       "      <td>26</td>\n",
       "      <td>13</td>\n",
       "      <td>10</td>\n",
       "      <td>60</td>\n",
       "      <td>12</td>\n",
       "      <td>36</td>\n",
       "      <td>19</td>\n",
       "      <td>0</td>\n",
       "      <td>...</td>\n",
       "      <td>0.0</td>\n",
       "      <td>0.0</td>\n",
       "      <td>0.0</td>\n",
       "      <td>0.0</td>\n",
       "      <td>0.0</td>\n",
       "      <td>0.0</td>\n",
       "      <td>0.0</td>\n",
       "      <td>0.0</td>\n",
       "      <td>0.0</td>\n",
       "      <td>0.0</td>\n",
       "    </tr>\n",
       "    <tr>\n",
       "      <th>1</th>\n",
       "      <td>5</td>\n",
       "      <td>39</td>\n",
       "      <td>26</td>\n",
       "      <td>7</td>\n",
       "      <td>4</td>\n",
       "      <td>25</td>\n",
       "      <td>15</td>\n",
       "      <td>37</td>\n",
       "      <td>34</td>\n",
       "      <td>0</td>\n",
       "      <td>...</td>\n",
       "      <td>0.0</td>\n",
       "      <td>0.0</td>\n",
       "      <td>0.0</td>\n",
       "      <td>0.0</td>\n",
       "      <td>0.0</td>\n",
       "      <td>0.0</td>\n",
       "      <td>0.0</td>\n",
       "      <td>0.0</td>\n",
       "      <td>0.0</td>\n",
       "      <td>0.0</td>\n",
       "    </tr>\n",
       "    <tr>\n",
       "      <th>2</th>\n",
       "      <td>3</td>\n",
       "      <td>33</td>\n",
       "      <td>16</td>\n",
       "      <td>3</td>\n",
       "      <td>11</td>\n",
       "      <td>23</td>\n",
       "      <td>4</td>\n",
       "      <td>36</td>\n",
       "      <td>13</td>\n",
       "      <td>1</td>\n",
       "      <td>...</td>\n",
       "      <td>0.0</td>\n",
       "      <td>0.0</td>\n",
       "      <td>0.0</td>\n",
       "      <td>0.0</td>\n",
       "      <td>0.0</td>\n",
       "      <td>0.0</td>\n",
       "      <td>0.0</td>\n",
       "      <td>0.0</td>\n",
       "      <td>0.0</td>\n",
       "      <td>0.0</td>\n",
       "    </tr>\n",
       "    <tr>\n",
       "      <th>3</th>\n",
       "      <td>2</td>\n",
       "      <td>54</td>\n",
       "      <td>27</td>\n",
       "      <td>7</td>\n",
       "      <td>14</td>\n",
       "      <td>5</td>\n",
       "      <td>24</td>\n",
       "      <td>19</td>\n",
       "      <td>4</td>\n",
       "      <td>4</td>\n",
       "      <td>...</td>\n",
       "      <td>0.0</td>\n",
       "      <td>0.0</td>\n",
       "      <td>0.0</td>\n",
       "      <td>0.0</td>\n",
       "      <td>0.0</td>\n",
       "      <td>0.0</td>\n",
       "      <td>0.0</td>\n",
       "      <td>0.0</td>\n",
       "      <td>0.0</td>\n",
       "      <td>0.0</td>\n",
       "    </tr>\n",
       "    <tr>\n",
       "      <th>4</th>\n",
       "      <td>3</td>\n",
       "      <td>20</td>\n",
       "      <td>25</td>\n",
       "      <td>9</td>\n",
       "      <td>16</td>\n",
       "      <td>12</td>\n",
       "      <td>23</td>\n",
       "      <td>19</td>\n",
       "      <td>5</td>\n",
       "      <td>2</td>\n",
       "      <td>...</td>\n",
       "      <td>0.0</td>\n",
       "      <td>0.0</td>\n",
       "      <td>0.0</td>\n",
       "      <td>0.0</td>\n",
       "      <td>0.0</td>\n",
       "      <td>0.0</td>\n",
       "      <td>0.0</td>\n",
       "      <td>0.0</td>\n",
       "      <td>0.0</td>\n",
       "      <td>0.0</td>\n",
       "    </tr>\n",
       "    <tr>\n",
       "      <th>...</th>\n",
       "      <td>...</td>\n",
       "      <td>...</td>\n",
       "      <td>...</td>\n",
       "      <td>...</td>\n",
       "      <td>...</td>\n",
       "      <td>...</td>\n",
       "      <td>...</td>\n",
       "      <td>...</td>\n",
       "      <td>...</td>\n",
       "      <td>...</td>\n",
       "      <td>...</td>\n",
       "      <td>...</td>\n",
       "      <td>...</td>\n",
       "      <td>...</td>\n",
       "      <td>...</td>\n",
       "      <td>...</td>\n",
       "      <td>...</td>\n",
       "      <td>...</td>\n",
       "      <td>...</td>\n",
       "      <td>...</td>\n",
       "      <td>...</td>\n",
       "    </tr>\n",
       "    <tr>\n",
       "      <th>301</th>\n",
       "      <td>39</td>\n",
       "      <td>60</td>\n",
       "      <td>60</td>\n",
       "      <td>20</td>\n",
       "      <td>60</td>\n",
       "      <td>37</td>\n",
       "      <td>60</td>\n",
       "      <td>60</td>\n",
       "      <td>60</td>\n",
       "      <td>12</td>\n",
       "      <td>...</td>\n",
       "      <td>0.0</td>\n",
       "      <td>0.0</td>\n",
       "      <td>0.0</td>\n",
       "      <td>0.0</td>\n",
       "      <td>0.0</td>\n",
       "      <td>0.0</td>\n",
       "      <td>0.0</td>\n",
       "      <td>0.0</td>\n",
       "      <td>0.0</td>\n",
       "      <td>0.0</td>\n",
       "    </tr>\n",
       "    <tr>\n",
       "      <th>302</th>\n",
       "      <td>3</td>\n",
       "      <td>44</td>\n",
       "      <td>6</td>\n",
       "      <td>9</td>\n",
       "      <td>8</td>\n",
       "      <td>20</td>\n",
       "      <td>3</td>\n",
       "      <td>33</td>\n",
       "      <td>6</td>\n",
       "      <td>1</td>\n",
       "      <td>...</td>\n",
       "      <td>0.0</td>\n",
       "      <td>0.0</td>\n",
       "      <td>0.0</td>\n",
       "      <td>0.0</td>\n",
       "      <td>0.0</td>\n",
       "      <td>0.0</td>\n",
       "      <td>0.0</td>\n",
       "      <td>0.0</td>\n",
       "      <td>0.0</td>\n",
       "      <td>0.0</td>\n",
       "    </tr>\n",
       "    <tr>\n",
       "      <th>303</th>\n",
       "      <td>4</td>\n",
       "      <td>32</td>\n",
       "      <td>15</td>\n",
       "      <td>6</td>\n",
       "      <td>2</td>\n",
       "      <td>18</td>\n",
       "      <td>7</td>\n",
       "      <td>34</td>\n",
       "      <td>12</td>\n",
       "      <td>2</td>\n",
       "      <td>...</td>\n",
       "      <td>0.0</td>\n",
       "      <td>0.0</td>\n",
       "      <td>0.0</td>\n",
       "      <td>0.0</td>\n",
       "      <td>0.0</td>\n",
       "      <td>0.0</td>\n",
       "      <td>0.0</td>\n",
       "      <td>0.0</td>\n",
       "      <td>0.0</td>\n",
       "      <td>0.0</td>\n",
       "    </tr>\n",
       "    <tr>\n",
       "      <th>304</th>\n",
       "      <td>19</td>\n",
       "      <td>59</td>\n",
       "      <td>36</td>\n",
       "      <td>10</td>\n",
       "      <td>19</td>\n",
       "      <td>25</td>\n",
       "      <td>12</td>\n",
       "      <td>36</td>\n",
       "      <td>7</td>\n",
       "      <td>4</td>\n",
       "      <td>...</td>\n",
       "      <td>0.0</td>\n",
       "      <td>0.0</td>\n",
       "      <td>0.0</td>\n",
       "      <td>0.0</td>\n",
       "      <td>0.0</td>\n",
       "      <td>0.0</td>\n",
       "      <td>0.0</td>\n",
       "      <td>0.0</td>\n",
       "      <td>0.0</td>\n",
       "      <td>0.0</td>\n",
       "    </tr>\n",
       "    <tr>\n",
       "      <th>305</th>\n",
       "      <td>2</td>\n",
       "      <td>36</td>\n",
       "      <td>14</td>\n",
       "      <td>7</td>\n",
       "      <td>8</td>\n",
       "      <td>30</td>\n",
       "      <td>10</td>\n",
       "      <td>50</td>\n",
       "      <td>14</td>\n",
       "      <td>2</td>\n",
       "      <td>...</td>\n",
       "      <td>0.0</td>\n",
       "      <td>0.0</td>\n",
       "      <td>0.0</td>\n",
       "      <td>0.0</td>\n",
       "      <td>0.0</td>\n",
       "      <td>0.0</td>\n",
       "      <td>0.0</td>\n",
       "      <td>0.0</td>\n",
       "      <td>0.0</td>\n",
       "      <td>0.0</td>\n",
       "    </tr>\n",
       "  </tbody>\n",
       "</table>\n",
       "<p>306 rows × 247 columns</p>\n",
       "</div>"
      ],
      "text/plain": [
       "     lodging  restaurant  school  health  bar  church  bank  store  clothing  \\\n",
       "0          9          55      26      13   10      60    12     36        19   \n",
       "1          5          39      26       7    4      25    15     37        34   \n",
       "2          3          33      16       3   11      23     4     36        13   \n",
       "3          2          54      27       7   14       5    24     19         4   \n",
       "4          3          20      25       9   16      12    23     19         5   \n",
       "..       ...         ...     ...     ...  ...     ...   ...    ...       ...   \n",
       "301       39          60      60      20   60      37    60     60        60   \n",
       "302        3          44       6       9    8      20     3     33         6   \n",
       "303        4          32      15       6    2      18     7     34        12   \n",
       "304       19          59      36      10   19      25    12     36         7   \n",
       "305        2          36      14       7    8      30    10     50        14   \n",
       "\n",
       "     tourist attraction  ...  pharmacy  farmersmarket  foodtours  bowling  \\\n",
       "0                     0  ...       0.0            0.0        0.0      0.0   \n",
       "1                     0  ...       0.0            0.0        0.0      0.0   \n",
       "2                     1  ...       0.0            0.0        0.0      0.0   \n",
       "3                     4  ...       0.0            0.0        0.0      0.0   \n",
       "4                     2  ...       0.0            0.0        0.0      0.0   \n",
       "..                  ...  ...       ...            ...        ...      ...   \n",
       "301                  12  ...       0.0            0.0        0.0      0.0   \n",
       "302                   1  ...       0.0            0.0        0.0      0.0   \n",
       "303                   2  ...       0.0            0.0        0.0      0.0   \n",
       "304                   4  ...       0.0            0.0        0.0      0.0   \n",
       "305                   2  ...       0.0            0.0        0.0      0.0   \n",
       "\n",
       "     syrian  southafrican  eventservices  bookstores  homedecor  diyfood  \n",
       "0       0.0           0.0            0.0         0.0        0.0      0.0  \n",
       "1       0.0           0.0            0.0         0.0        0.0      0.0  \n",
       "2       0.0           0.0            0.0         0.0        0.0      0.0  \n",
       "3       0.0           0.0            0.0         0.0        0.0      0.0  \n",
       "4       0.0           0.0            0.0         0.0        0.0      0.0  \n",
       "..      ...           ...            ...         ...        ...      ...  \n",
       "301     0.0           0.0            0.0         0.0        0.0      0.0  \n",
       "302     0.0           0.0            0.0         0.0        0.0      0.0  \n",
       "303     0.0           0.0            0.0         0.0        0.0      0.0  \n",
       "304     0.0           0.0            0.0         0.0        0.0      0.0  \n",
       "305     0.0           0.0            0.0         0.0        0.0      0.0  \n",
       "\n",
       "[306 rows x 247 columns]"
      ]
     },
     "execution_count": 6,
     "metadata": {},
     "output_type": "execute_result"
    }
   ],
   "source": [
    "all_features = pd.read_csv('../data/data/all_features_counts_v3.csv', index_col=0).drop(['population','index'], axis=1)\n",
    "all_features"
   ]
  },
  {
   "cell_type": "markdown",
   "metadata": {},
   "source": [
    "# New Features"
   ]
  },
  {
   "cell_type": "code",
   "execution_count": null,
   "metadata": {},
   "outputs": [
    {
     "data": {
      "text/html": [
       "<div>\n",
       "<style scoped>\n",
       "    .dataframe tbody tr th:only-of-type {\n",
       "        vertical-align: middle;\n",
       "    }\n",
       "\n",
       "    .dataframe tbody tr th {\n",
       "        vertical-align: top;\n",
       "    }\n",
       "\n",
       "    .dataframe thead th {\n",
       "        text-align: right;\n",
       "    }\n",
       "</style>\n",
       "<table border=\"1\" class=\"dataframe\">\n",
       "  <thead>\n",
       "    <tr style=\"text-align: right;\">\n",
       "      <th></th>\n",
       "      <th>borough</th>\n",
       "      <th>neighborhood</th>\n",
       "      <th>longitude</th>\n",
       "      <th>latitude</th>\n",
       "      <th>population</th>\n",
       "    </tr>\n",
       "  </thead>\n",
       "  <tbody>\n",
       "    <tr>\n",
       "      <th>0</th>\n",
       "      <td>Bronx</td>\n",
       "      <td>Wakefield</td>\n",
       "      <td>-73.847201</td>\n",
       "      <td>40.894705</td>\n",
       "      <td>21242.0</td>\n",
       "    </tr>\n",
       "    <tr>\n",
       "      <th>1</th>\n",
       "      <td>Bronx</td>\n",
       "      <td>Co-op City</td>\n",
       "      <td>-73.829939</td>\n",
       "      <td>40.874294</td>\n",
       "      <td>43752.0</td>\n",
       "    </tr>\n",
       "    <tr>\n",
       "      <th>2</th>\n",
       "      <td>Bronx</td>\n",
       "      <td>Eastchester</td>\n",
       "      <td>-73.827806</td>\n",
       "      <td>40.887556</td>\n",
       "      <td>11506.0</td>\n",
       "    </tr>\n",
       "    <tr>\n",
       "      <th>3</th>\n",
       "      <td>Bronx</td>\n",
       "      <td>Fieldston</td>\n",
       "      <td>-73.905643</td>\n",
       "      <td>40.895437</td>\n",
       "      <td>9287.0</td>\n",
       "    </tr>\n",
       "    <tr>\n",
       "      <th>4</th>\n",
       "      <td>Bronx</td>\n",
       "      <td>Riverdale</td>\n",
       "      <td>-73.912585</td>\n",
       "      <td>40.890834</td>\n",
       "      <td>9287.0</td>\n",
       "    </tr>\n",
       "    <tr>\n",
       "      <th>...</th>\n",
       "      <td>...</td>\n",
       "      <td>...</td>\n",
       "      <td>...</td>\n",
       "      <td>...</td>\n",
       "      <td>...</td>\n",
       "    </tr>\n",
       "    <tr>\n",
       "      <th>301</th>\n",
       "      <td>Manhattan</td>\n",
       "      <td>Hudson Yards</td>\n",
       "      <td>-74.000111</td>\n",
       "      <td>40.756658</td>\n",
       "      <td>23383.0</td>\n",
       "    </tr>\n",
       "    <tr>\n",
       "      <th>302</th>\n",
       "      <td>Queens</td>\n",
       "      <td>Hammels</td>\n",
       "      <td>-73.805530</td>\n",
       "      <td>40.587338</td>\n",
       "      <td>12295.0</td>\n",
       "    </tr>\n",
       "    <tr>\n",
       "      <th>303</th>\n",
       "      <td>Queens</td>\n",
       "      <td>Bayswater</td>\n",
       "      <td>-73.765968</td>\n",
       "      <td>40.611322</td>\n",
       "      <td>25029.0</td>\n",
       "    </tr>\n",
       "    <tr>\n",
       "      <th>304</th>\n",
       "      <td>Queens</td>\n",
       "      <td>Queensbridge</td>\n",
       "      <td>-73.945631</td>\n",
       "      <td>40.756091</td>\n",
       "      <td>6677.0</td>\n",
       "    </tr>\n",
       "    <tr>\n",
       "      <th>305</th>\n",
       "      <td>Staten Island</td>\n",
       "      <td>Fox Hills</td>\n",
       "      <td>-74.081740</td>\n",
       "      <td>40.617311</td>\n",
       "      <td>11230.0</td>\n",
       "    </tr>\n",
       "  </tbody>\n",
       "</table>\n",
       "<p>306 rows × 5 columns</p>\n",
       "</div>"
      ],
      "text/plain": [
       "           borough  neighborhood  longitude   latitude  population\n",
       "0            Bronx     Wakefield -73.847201  40.894705     21242.0\n",
       "1            Bronx    Co-op City -73.829939  40.874294     43752.0\n",
       "2            Bronx   Eastchester -73.827806  40.887556     11506.0\n",
       "3            Bronx     Fieldston -73.905643  40.895437      9287.0\n",
       "4            Bronx     Riverdale -73.912585  40.890834      9287.0\n",
       "..             ...           ...        ...        ...         ...\n",
       "301      Manhattan  Hudson Yards -74.000111  40.756658     23383.0\n",
       "302         Queens       Hammels -73.805530  40.587338     12295.0\n",
       "303         Queens     Bayswater -73.765968  40.611322     25029.0\n",
       "304         Queens  Queensbridge -73.945631  40.756091      6677.0\n",
       "305  Staten Island     Fox Hills -74.081740  40.617311     11230.0\n",
       "\n",
       "[306 rows x 5 columns]"
      ]
     },
     "execution_count": 7,
     "metadata": {},
     "output_type": "execute_result"
    }
   ],
   "source": [
    "geo_info = main_data.loc[:,:'population']\n",
    "geo_info"
   ]
  },
  {
   "cell_type": "code",
   "execution_count": null,
   "metadata": {},
   "outputs": [],
   "source": [
    "main_features = main_data.loc[:,'restaurant_count':]"
   ]
  },
  {
   "cell_type": "code",
   "execution_count": null,
   "metadata": {},
   "outputs": [
    {
     "data": {
      "text/html": [
       "<div>\n",
       "<style scoped>\n",
       "    .dataframe tbody tr th:only-of-type {\n",
       "        vertical-align: middle;\n",
       "    }\n",
       "\n",
       "    .dataframe tbody tr th {\n",
       "        vertical-align: top;\n",
       "    }\n",
       "\n",
       "    .dataframe thead th {\n",
       "        text-align: right;\n",
       "    }\n",
       "</style>\n",
       "<table border=\"1\" class=\"dataframe\">\n",
       "  <thead>\n",
       "    <tr style=\"text-align: right;\">\n",
       "      <th></th>\n",
       "      <th>lodging</th>\n",
       "      <th>restaurant</th>\n",
       "      <th>school</th>\n",
       "      <th>health</th>\n",
       "      <th>bar</th>\n",
       "      <th>church</th>\n",
       "      <th>bank</th>\n",
       "      <th>store</th>\n",
       "      <th>clothing</th>\n",
       "      <th>tourist attraction</th>\n",
       "      <th>...</th>\n",
       "      <th>pharmacy</th>\n",
       "      <th>farmersmarket</th>\n",
       "      <th>foodtours</th>\n",
       "      <th>bowling</th>\n",
       "      <th>syrian</th>\n",
       "      <th>southafrican</th>\n",
       "      <th>eventservices</th>\n",
       "      <th>bookstores</th>\n",
       "      <th>homedecor</th>\n",
       "      <th>diyfood</th>\n",
       "    </tr>\n",
       "  </thead>\n",
       "  <tbody>\n",
       "    <tr>\n",
       "      <th>0</th>\n",
       "      <td>0.150000</td>\n",
       "      <td>0.916667</td>\n",
       "      <td>0.433333</td>\n",
       "      <td>0.216667</td>\n",
       "      <td>0.166667</td>\n",
       "      <td>1.000000</td>\n",
       "      <td>0.200000</td>\n",
       "      <td>0.600000</td>\n",
       "      <td>0.316667</td>\n",
       "      <td>0.000000</td>\n",
       "      <td>...</td>\n",
       "      <td>0.0</td>\n",
       "      <td>0.0</td>\n",
       "      <td>0.0</td>\n",
       "      <td>0.0</td>\n",
       "      <td>0.0</td>\n",
       "      <td>0.0</td>\n",
       "      <td>0.0</td>\n",
       "      <td>0.0</td>\n",
       "      <td>0.0</td>\n",
       "      <td>0.0</td>\n",
       "    </tr>\n",
       "    <tr>\n",
       "      <th>1</th>\n",
       "      <td>0.083333</td>\n",
       "      <td>0.650000</td>\n",
       "      <td>0.433333</td>\n",
       "      <td>0.116667</td>\n",
       "      <td>0.066667</td>\n",
       "      <td>0.416667</td>\n",
       "      <td>0.250000</td>\n",
       "      <td>0.616667</td>\n",
       "      <td>0.566667</td>\n",
       "      <td>0.000000</td>\n",
       "      <td>...</td>\n",
       "      <td>0.0</td>\n",
       "      <td>0.0</td>\n",
       "      <td>0.0</td>\n",
       "      <td>0.0</td>\n",
       "      <td>0.0</td>\n",
       "      <td>0.0</td>\n",
       "      <td>0.0</td>\n",
       "      <td>0.0</td>\n",
       "      <td>0.0</td>\n",
       "      <td>0.0</td>\n",
       "    </tr>\n",
       "    <tr>\n",
       "      <th>2</th>\n",
       "      <td>0.050000</td>\n",
       "      <td>0.550000</td>\n",
       "      <td>0.266667</td>\n",
       "      <td>0.050000</td>\n",
       "      <td>0.183333</td>\n",
       "      <td>0.383333</td>\n",
       "      <td>0.066667</td>\n",
       "      <td>0.600000</td>\n",
       "      <td>0.216667</td>\n",
       "      <td>0.027027</td>\n",
       "      <td>...</td>\n",
       "      <td>0.0</td>\n",
       "      <td>0.0</td>\n",
       "      <td>0.0</td>\n",
       "      <td>0.0</td>\n",
       "      <td>0.0</td>\n",
       "      <td>0.0</td>\n",
       "      <td>0.0</td>\n",
       "      <td>0.0</td>\n",
       "      <td>0.0</td>\n",
       "      <td>0.0</td>\n",
       "    </tr>\n",
       "    <tr>\n",
       "      <th>3</th>\n",
       "      <td>0.033333</td>\n",
       "      <td>0.900000</td>\n",
       "      <td>0.450000</td>\n",
       "      <td>0.116667</td>\n",
       "      <td>0.233333</td>\n",
       "      <td>0.083333</td>\n",
       "      <td>0.400000</td>\n",
       "      <td>0.316667</td>\n",
       "      <td>0.066667</td>\n",
       "      <td>0.108108</td>\n",
       "      <td>...</td>\n",
       "      <td>0.0</td>\n",
       "      <td>0.0</td>\n",
       "      <td>0.0</td>\n",
       "      <td>0.0</td>\n",
       "      <td>0.0</td>\n",
       "      <td>0.0</td>\n",
       "      <td>0.0</td>\n",
       "      <td>0.0</td>\n",
       "      <td>0.0</td>\n",
       "      <td>0.0</td>\n",
       "    </tr>\n",
       "    <tr>\n",
       "      <th>4</th>\n",
       "      <td>0.050000</td>\n",
       "      <td>0.333333</td>\n",
       "      <td>0.416667</td>\n",
       "      <td>0.150000</td>\n",
       "      <td>0.266667</td>\n",
       "      <td>0.200000</td>\n",
       "      <td>0.383333</td>\n",
       "      <td>0.316667</td>\n",
       "      <td>0.083333</td>\n",
       "      <td>0.054054</td>\n",
       "      <td>...</td>\n",
       "      <td>0.0</td>\n",
       "      <td>0.0</td>\n",
       "      <td>0.0</td>\n",
       "      <td>0.0</td>\n",
       "      <td>0.0</td>\n",
       "      <td>0.0</td>\n",
       "      <td>0.0</td>\n",
       "      <td>0.0</td>\n",
       "      <td>0.0</td>\n",
       "      <td>0.0</td>\n",
       "    </tr>\n",
       "    <tr>\n",
       "      <th>...</th>\n",
       "      <td>...</td>\n",
       "      <td>...</td>\n",
       "      <td>...</td>\n",
       "      <td>...</td>\n",
       "      <td>...</td>\n",
       "      <td>...</td>\n",
       "      <td>...</td>\n",
       "      <td>...</td>\n",
       "      <td>...</td>\n",
       "      <td>...</td>\n",
       "      <td>...</td>\n",
       "      <td>...</td>\n",
       "      <td>...</td>\n",
       "      <td>...</td>\n",
       "      <td>...</td>\n",
       "      <td>...</td>\n",
       "      <td>...</td>\n",
       "      <td>...</td>\n",
       "      <td>...</td>\n",
       "      <td>...</td>\n",
       "      <td>...</td>\n",
       "    </tr>\n",
       "    <tr>\n",
       "      <th>301</th>\n",
       "      <td>0.650000</td>\n",
       "      <td>1.000000</td>\n",
       "      <td>1.000000</td>\n",
       "      <td>0.333333</td>\n",
       "      <td>1.000000</td>\n",
       "      <td>0.616667</td>\n",
       "      <td>1.000000</td>\n",
       "      <td>1.000000</td>\n",
       "      <td>1.000000</td>\n",
       "      <td>0.324324</td>\n",
       "      <td>...</td>\n",
       "      <td>0.0</td>\n",
       "      <td>0.0</td>\n",
       "      <td>0.0</td>\n",
       "      <td>0.0</td>\n",
       "      <td>0.0</td>\n",
       "      <td>0.0</td>\n",
       "      <td>0.0</td>\n",
       "      <td>0.0</td>\n",
       "      <td>0.0</td>\n",
       "      <td>0.0</td>\n",
       "    </tr>\n",
       "    <tr>\n",
       "      <th>302</th>\n",
       "      <td>0.050000</td>\n",
       "      <td>0.733333</td>\n",
       "      <td>0.100000</td>\n",
       "      <td>0.150000</td>\n",
       "      <td>0.133333</td>\n",
       "      <td>0.333333</td>\n",
       "      <td>0.050000</td>\n",
       "      <td>0.550000</td>\n",
       "      <td>0.100000</td>\n",
       "      <td>0.027027</td>\n",
       "      <td>...</td>\n",
       "      <td>0.0</td>\n",
       "      <td>0.0</td>\n",
       "      <td>0.0</td>\n",
       "      <td>0.0</td>\n",
       "      <td>0.0</td>\n",
       "      <td>0.0</td>\n",
       "      <td>0.0</td>\n",
       "      <td>0.0</td>\n",
       "      <td>0.0</td>\n",
       "      <td>0.0</td>\n",
       "    </tr>\n",
       "    <tr>\n",
       "      <th>303</th>\n",
       "      <td>0.066667</td>\n",
       "      <td>0.533333</td>\n",
       "      <td>0.250000</td>\n",
       "      <td>0.100000</td>\n",
       "      <td>0.033333</td>\n",
       "      <td>0.300000</td>\n",
       "      <td>0.116667</td>\n",
       "      <td>0.566667</td>\n",
       "      <td>0.200000</td>\n",
       "      <td>0.054054</td>\n",
       "      <td>...</td>\n",
       "      <td>0.0</td>\n",
       "      <td>0.0</td>\n",
       "      <td>0.0</td>\n",
       "      <td>0.0</td>\n",
       "      <td>0.0</td>\n",
       "      <td>0.0</td>\n",
       "      <td>0.0</td>\n",
       "      <td>0.0</td>\n",
       "      <td>0.0</td>\n",
       "      <td>0.0</td>\n",
       "    </tr>\n",
       "    <tr>\n",
       "      <th>304</th>\n",
       "      <td>0.316667</td>\n",
       "      <td>0.983333</td>\n",
       "      <td>0.600000</td>\n",
       "      <td>0.166667</td>\n",
       "      <td>0.316667</td>\n",
       "      <td>0.416667</td>\n",
       "      <td>0.200000</td>\n",
       "      <td>0.600000</td>\n",
       "      <td>0.116667</td>\n",
       "      <td>0.108108</td>\n",
       "      <td>...</td>\n",
       "      <td>0.0</td>\n",
       "      <td>0.0</td>\n",
       "      <td>0.0</td>\n",
       "      <td>0.0</td>\n",
       "      <td>0.0</td>\n",
       "      <td>0.0</td>\n",
       "      <td>0.0</td>\n",
       "      <td>0.0</td>\n",
       "      <td>0.0</td>\n",
       "      <td>0.0</td>\n",
       "    </tr>\n",
       "    <tr>\n",
       "      <th>305</th>\n",
       "      <td>0.033333</td>\n",
       "      <td>0.600000</td>\n",
       "      <td>0.233333</td>\n",
       "      <td>0.116667</td>\n",
       "      <td>0.133333</td>\n",
       "      <td>0.500000</td>\n",
       "      <td>0.166667</td>\n",
       "      <td>0.833333</td>\n",
       "      <td>0.233333</td>\n",
       "      <td>0.054054</td>\n",
       "      <td>...</td>\n",
       "      <td>0.0</td>\n",
       "      <td>0.0</td>\n",
       "      <td>0.0</td>\n",
       "      <td>0.0</td>\n",
       "      <td>0.0</td>\n",
       "      <td>0.0</td>\n",
       "      <td>0.0</td>\n",
       "      <td>0.0</td>\n",
       "      <td>0.0</td>\n",
       "      <td>0.0</td>\n",
       "    </tr>\n",
       "  </tbody>\n",
       "</table>\n",
       "<p>306 rows × 247 columns</p>\n",
       "</div>"
      ],
      "text/plain": [
       "      lodging  restaurant    school    health       bar    church      bank  \\\n",
       "0    0.150000    0.916667  0.433333  0.216667  0.166667  1.000000  0.200000   \n",
       "1    0.083333    0.650000  0.433333  0.116667  0.066667  0.416667  0.250000   \n",
       "2    0.050000    0.550000  0.266667  0.050000  0.183333  0.383333  0.066667   \n",
       "3    0.033333    0.900000  0.450000  0.116667  0.233333  0.083333  0.400000   \n",
       "4    0.050000    0.333333  0.416667  0.150000  0.266667  0.200000  0.383333   \n",
       "..        ...         ...       ...       ...       ...       ...       ...   \n",
       "301  0.650000    1.000000  1.000000  0.333333  1.000000  0.616667  1.000000   \n",
       "302  0.050000    0.733333  0.100000  0.150000  0.133333  0.333333  0.050000   \n",
       "303  0.066667    0.533333  0.250000  0.100000  0.033333  0.300000  0.116667   \n",
       "304  0.316667    0.983333  0.600000  0.166667  0.316667  0.416667  0.200000   \n",
       "305  0.033333    0.600000  0.233333  0.116667  0.133333  0.500000  0.166667   \n",
       "\n",
       "        store  clothing  tourist attraction  ...  pharmacy  farmersmarket  \\\n",
       "0    0.600000  0.316667            0.000000  ...       0.0            0.0   \n",
       "1    0.616667  0.566667            0.000000  ...       0.0            0.0   \n",
       "2    0.600000  0.216667            0.027027  ...       0.0            0.0   \n",
       "3    0.316667  0.066667            0.108108  ...       0.0            0.0   \n",
       "4    0.316667  0.083333            0.054054  ...       0.0            0.0   \n",
       "..        ...       ...                 ...  ...       ...            ...   \n",
       "301  1.000000  1.000000            0.324324  ...       0.0            0.0   \n",
       "302  0.550000  0.100000            0.027027  ...       0.0            0.0   \n",
       "303  0.566667  0.200000            0.054054  ...       0.0            0.0   \n",
       "304  0.600000  0.116667            0.108108  ...       0.0            0.0   \n",
       "305  0.833333  0.233333            0.054054  ...       0.0            0.0   \n",
       "\n",
       "     foodtours  bowling  syrian  southafrican  eventservices  bookstores  \\\n",
       "0          0.0      0.0     0.0           0.0            0.0         0.0   \n",
       "1          0.0      0.0     0.0           0.0            0.0         0.0   \n",
       "2          0.0      0.0     0.0           0.0            0.0         0.0   \n",
       "3          0.0      0.0     0.0           0.0            0.0         0.0   \n",
       "4          0.0      0.0     0.0           0.0            0.0         0.0   \n",
       "..         ...      ...     ...           ...            ...         ...   \n",
       "301        0.0      0.0     0.0           0.0            0.0         0.0   \n",
       "302        0.0      0.0     0.0           0.0            0.0         0.0   \n",
       "303        0.0      0.0     0.0           0.0            0.0         0.0   \n",
       "304        0.0      0.0     0.0           0.0            0.0         0.0   \n",
       "305        0.0      0.0     0.0           0.0            0.0         0.0   \n",
       "\n",
       "     homedecor  diyfood  \n",
       "0          0.0      0.0  \n",
       "1          0.0      0.0  \n",
       "2          0.0      0.0  \n",
       "3          0.0      0.0  \n",
       "4          0.0      0.0  \n",
       "..         ...      ...  \n",
       "301        0.0      0.0  \n",
       "302        0.0      0.0  \n",
       "303        0.0      0.0  \n",
       "304        0.0      0.0  \n",
       "305        0.0      0.0  \n",
       "\n",
       "[306 rows x 247 columns]"
      ]
     },
     "execution_count": 9,
     "metadata": {},
     "output_type": "execute_result"
    }
   ],
   "source": [
    "# scaling\n",
    "scaler = MinMaxScaler()\n",
    "main_features_scaled = pd.DataFrame(scaler.fit_transform(all_features), columns=all_features.columns)\n",
    "main_features_scaled"
   ]
  },
  {
   "cell_type": "code",
   "execution_count": null,
   "metadata": {},
   "outputs": [],
   "source": [
    "# # scaling\n",
    "# scaler = StandardScaler()\n",
    "# features_scaled = pd.DataFrame(scaler.fit_transform(features), columns=features.columns)\n",
    "# features_scaled\n",
    "\n",
    "# # # try MinMaxScaler\n",
    "# # scaler = MinMaxScaler()\n",
    "# # features_scaled = pd.DataFrame(scaler.fit_transform(features), columns=features.columns)\n",
    "# # features_scaled"
   ]
  },
  {
   "cell_type": "code",
   "execution_count": null,
   "metadata": {},
   "outputs": [],
   "source": [
    "# Let's figure out the best value for eps\n",
    "neigh = NearestNeighbors(n_neighbors=2)\n",
    "nbrs = neigh.fit(main_features_scaled)\n",
    "\n",
    "distances, indices = nbrs.kneighbors(main_features_scaled)"
   ]
  },
  {
   "cell_type": "code",
   "execution_count": null,
   "metadata": {},
   "outputs": [
    {
     "data": {
      "text/plain": [
       "[<matplotlib.lines.Line2D at 0x7f8953e27cd0>,\n",
       " <matplotlib.lines.Line2D at 0x7f8953e27c70>]"
      ]
     },
     "execution_count": 12,
     "metadata": {},
     "output_type": "execute_result"
    },
    {
     "data": {
      "image/png": "[encoded data removed]",
      "text/plain": [
       "<Figure size 432x288 with 1 Axes>"
      ]
     },
     "metadata": {},
     "output_type": "display_data"
    }
   ],
   "source": [
    "# plot it\n",
    "distances = np.sort(distances, axis=0)\n",
    "plt.plot(distances)"
   ]
  },
  {
   "cell_type": "code",
   "execution_count": null,
   "metadata": {},
   "outputs": [],
   "source": [
    "# between 0.5 and 1.0 seems best\n",
    "dbscan = DBSCAN(\n",
    "    eps=5,\n",
    "    min_samples=5,\n",
    "    n_jobs=-1\n",
    ")"
   ]
  },
  {
   "cell_type": "code",
   "execution_count": null,
   "metadata": {},
   "outputs": [
    {
     "data": {
      "text/plain": [
       "1"
      ]
     },
     "execution_count": 14,
     "metadata": {},
     "output_type": "execute_result"
    }
   ],
   "source": [
    "# fit and predict\n",
    "clusters = pd.Series(dbscan.fit_predict(main_features_scaled))\n",
    "clusters.nunique()"
   ]
  },
  {
   "cell_type": "markdown",
   "metadata": {},
   "source": [
    "# This isn't really working, let's try PCA"
   ]
  },
  {
   "cell_type": "code",
   "execution_count": null,
   "metadata": {},
   "outputs": [
    {
     "data": {
      "text/html": [
       "<div>\n",
       "<style scoped>\n",
       "    .dataframe tbody tr th:only-of-type {\n",
       "        vertical-align: middle;\n",
       "    }\n",
       "\n",
       "    .dataframe tbody tr th {\n",
       "        vertical-align: top;\n",
       "    }\n",
       "\n",
       "    .dataframe thead th {\n",
       "        text-align: right;\n",
       "    }\n",
       "</style>\n",
       "<table border=\"1\" class=\"dataframe\">\n",
       "  <thead>\n",
       "    <tr style=\"text-align: right;\">\n",
       "      <th></th>\n",
       "      <th>lodging</th>\n",
       "      <th>restaurant</th>\n",
       "      <th>school</th>\n",
       "      <th>health</th>\n",
       "      <th>bar</th>\n",
       "      <th>church</th>\n",
       "      <th>bank</th>\n",
       "      <th>store</th>\n",
       "      <th>clothing</th>\n",
       "      <th>tourist attraction</th>\n",
       "      <th>...</th>\n",
       "      <th>pharmacy</th>\n",
       "      <th>farmersmarket</th>\n",
       "      <th>foodtours</th>\n",
       "      <th>bowling</th>\n",
       "      <th>syrian</th>\n",
       "      <th>southafrican</th>\n",
       "      <th>eventservices</th>\n",
       "      <th>bookstores</th>\n",
       "      <th>homedecor</th>\n",
       "      <th>diyfood</th>\n",
       "    </tr>\n",
       "  </thead>\n",
       "  <tbody>\n",
       "    <tr>\n",
       "      <th>0</th>\n",
       "      <td>0.150000</td>\n",
       "      <td>0.916667</td>\n",
       "      <td>0.433333</td>\n",
       "      <td>0.216667</td>\n",
       "      <td>0.166667</td>\n",
       "      <td>1.000000</td>\n",
       "      <td>0.200000</td>\n",
       "      <td>0.600000</td>\n",
       "      <td>0.316667</td>\n",
       "      <td>0.000000</td>\n",
       "      <td>...</td>\n",
       "      <td>0.0</td>\n",
       "      <td>0.0</td>\n",
       "      <td>0.0</td>\n",
       "      <td>0.0</td>\n",
       "      <td>0.0</td>\n",
       "      <td>0.0</td>\n",
       "      <td>0.0</td>\n",
       "      <td>0.0</td>\n",
       "      <td>0.0</td>\n",
       "      <td>0.0</td>\n",
       "    </tr>\n",
       "    <tr>\n",
       "      <th>1</th>\n",
       "      <td>0.083333</td>\n",
       "      <td>0.650000</td>\n",
       "      <td>0.433333</td>\n",
       "      <td>0.116667</td>\n",
       "      <td>0.066667</td>\n",
       "      <td>0.416667</td>\n",
       "      <td>0.250000</td>\n",
       "      <td>0.616667</td>\n",
       "      <td>0.566667</td>\n",
       "      <td>0.000000</td>\n",
       "      <td>...</td>\n",
       "      <td>0.0</td>\n",
       "      <td>0.0</td>\n",
       "      <td>0.0</td>\n",
       "      <td>0.0</td>\n",
       "      <td>0.0</td>\n",
       "      <td>0.0</td>\n",
       "      <td>0.0</td>\n",
       "      <td>0.0</td>\n",
       "      <td>0.0</td>\n",
       "      <td>0.0</td>\n",
       "    </tr>\n",
       "    <tr>\n",
       "      <th>2</th>\n",
       "      <td>0.050000</td>\n",
       "      <td>0.550000</td>\n",
       "      <td>0.266667</td>\n",
       "      <td>0.050000</td>\n",
       "      <td>0.183333</td>\n",
       "      <td>0.383333</td>\n",
       "      <td>0.066667</td>\n",
       "      <td>0.600000</td>\n",
       "      <td>0.216667</td>\n",
       "      <td>0.027027</td>\n",
       "      <td>...</td>\n",
       "      <td>0.0</td>\n",
       "      <td>0.0</td>\n",
       "      <td>0.0</td>\n",
       "      <td>0.0</td>\n",
       "      <td>0.0</td>\n",
       "      <td>0.0</td>\n",
       "      <td>0.0</td>\n",
       "      <td>0.0</td>\n",
       "      <td>0.0</td>\n",
       "      <td>0.0</td>\n",
       "    </tr>\n",
       "    <tr>\n",
       "      <th>3</th>\n",
       "      <td>0.033333</td>\n",
       "      <td>0.900000</td>\n",
       "      <td>0.450000</td>\n",
       "      <td>0.116667</td>\n",
       "      <td>0.233333</td>\n",
       "      <td>0.083333</td>\n",
       "      <td>0.400000</td>\n",
       "      <td>0.316667</td>\n",
       "      <td>0.066667</td>\n",
       "      <td>0.108108</td>\n",
       "      <td>...</td>\n",
       "      <td>0.0</td>\n",
       "      <td>0.0</td>\n",
       "      <td>0.0</td>\n",
       "      <td>0.0</td>\n",
       "      <td>0.0</td>\n",
       "      <td>0.0</td>\n",
       "      <td>0.0</td>\n",
       "      <td>0.0</td>\n",
       "      <td>0.0</td>\n",
       "      <td>0.0</td>\n",
       "    </tr>\n",
       "    <tr>\n",
       "      <th>4</th>\n",
       "      <td>0.050000</td>\n",
       "      <td>0.333333</td>\n",
       "      <td>0.416667</td>\n",
       "      <td>0.150000</td>\n",
       "      <td>0.266667</td>\n",
       "      <td>0.200000</td>\n",
       "      <td>0.383333</td>\n",
       "      <td>0.316667</td>\n",
       "      <td>0.083333</td>\n",
       "      <td>0.054054</td>\n",
       "      <td>...</td>\n",
       "      <td>0.0</td>\n",
       "      <td>0.0</td>\n",
       "      <td>0.0</td>\n",
       "      <td>0.0</td>\n",
       "      <td>0.0</td>\n",
       "      <td>0.0</td>\n",
       "      <td>0.0</td>\n",
       "      <td>0.0</td>\n",
       "      <td>0.0</td>\n",
       "      <td>0.0</td>\n",
       "    </tr>\n",
       "    <tr>\n",
       "      <th>...</th>\n",
       "      <td>...</td>\n",
       "      <td>...</td>\n",
       "      <td>...</td>\n",
       "      <td>...</td>\n",
       "      <td>...</td>\n",
       "      <td>...</td>\n",
       "      <td>...</td>\n",
       "      <td>...</td>\n",
       "      <td>...</td>\n",
       "      <td>...</td>\n",
       "      <td>...</td>\n",
       "      <td>...</td>\n",
       "      <td>...</td>\n",
       "      <td>...</td>\n",
       "      <td>...</td>\n",
       "      <td>...</td>\n",
       "      <td>...</td>\n",
       "      <td>...</td>\n",
       "      <td>...</td>\n",
       "      <td>...</td>\n",
       "      <td>...</td>\n",
       "    </tr>\n",
       "    <tr>\n",
       "      <th>301</th>\n",
       "      <td>0.650000</td>\n",
       "      <td>1.000000</td>\n",
       "      <td>1.000000</td>\n",
       "      <td>0.333333</td>\n",
       "      <td>1.000000</td>\n",
       "      <td>0.616667</td>\n",
       "      <td>1.000000</td>\n",
       "      <td>1.000000</td>\n",
       "      <td>1.000000</td>\n",
       "      <td>0.324324</td>\n",
       "      <td>...</td>\n",
       "      <td>0.0</td>\n",
       "      <td>0.0</td>\n",
       "      <td>0.0</td>\n",
       "      <td>0.0</td>\n",
       "      <td>0.0</td>\n",
       "      <td>0.0</td>\n",
       "      <td>0.0</td>\n",
       "      <td>0.0</td>\n",
       "      <td>0.0</td>\n",
       "      <td>0.0</td>\n",
       "    </tr>\n",
       "    <tr>\n",
       "      <th>302</th>\n",
       "      <td>0.050000</td>\n",
       "      <td>0.733333</td>\n",
       "      <td>0.100000</td>\n",
       "      <td>0.150000</td>\n",
       "      <td>0.133333</td>\n",
       "      <td>0.333333</td>\n",
       "      <td>0.050000</td>\n",
       "      <td>0.550000</td>\n",
       "      <td>0.100000</td>\n",
       "      <td>0.027027</td>\n",
       "      <td>...</td>\n",
       "      <td>0.0</td>\n",
       "      <td>0.0</td>\n",
       "      <td>0.0</td>\n",
       "      <td>0.0</td>\n",
       "      <td>0.0</td>\n",
       "      <td>0.0</td>\n",
       "      <td>0.0</td>\n",
       "      <td>0.0</td>\n",
       "      <td>0.0</td>\n",
       "      <td>0.0</td>\n",
       "    </tr>\n",
       "    <tr>\n",
       "      <th>303</th>\n",
       "      <td>0.066667</td>\n",
       "      <td>0.533333</td>\n",
       "      <td>0.250000</td>\n",
       "      <td>0.100000</td>\n",
       "      <td>0.033333</td>\n",
       "      <td>0.300000</td>\n",
       "      <td>0.116667</td>\n",
       "      <td>0.566667</td>\n",
       "      <td>0.200000</td>\n",
       "      <td>0.054054</td>\n",
       "      <td>...</td>\n",
       "      <td>0.0</td>\n",
       "      <td>0.0</td>\n",
       "      <td>0.0</td>\n",
       "      <td>0.0</td>\n",
       "      <td>0.0</td>\n",
       "      <td>0.0</td>\n",
       "      <td>0.0</td>\n",
       "      <td>0.0</td>\n",
       "      <td>0.0</td>\n",
       "      <td>0.0</td>\n",
       "    </tr>\n",
       "    <tr>\n",
       "      <th>304</th>\n",
       "      <td>0.316667</td>\n",
       "      <td>0.983333</td>\n",
       "      <td>0.600000</td>\n",
       "      <td>0.166667</td>\n",
       "      <td>0.316667</td>\n",
       "      <td>0.416667</td>\n",
       "      <td>0.200000</td>\n",
       "      <td>0.600000</td>\n",
       "      <td>0.116667</td>\n",
       "      <td>0.108108</td>\n",
       "      <td>...</td>\n",
       "      <td>0.0</td>\n",
       "      <td>0.0</td>\n",
       "      <td>0.0</td>\n",
       "      <td>0.0</td>\n",
       "      <td>0.0</td>\n",
       "      <td>0.0</td>\n",
       "      <td>0.0</td>\n",
       "      <td>0.0</td>\n",
       "      <td>0.0</td>\n",
       "      <td>0.0</td>\n",
       "    </tr>\n",
       "    <tr>\n",
       "      <th>305</th>\n",
       "      <td>0.033333</td>\n",
       "      <td>0.600000</td>\n",
       "      <td>0.233333</td>\n",
       "      <td>0.116667</td>\n",
       "      <td>0.133333</td>\n",
       "      <td>0.500000</td>\n",
       "      <td>0.166667</td>\n",
       "      <td>0.833333</td>\n",
       "      <td>0.233333</td>\n",
       "      <td>0.054054</td>\n",
       "      <td>...</td>\n",
       "      <td>0.0</td>\n",
       "      <td>0.0</td>\n",
       "      <td>0.0</td>\n",
       "      <td>0.0</td>\n",
       "      <td>0.0</td>\n",
       "      <td>0.0</td>\n",
       "      <td>0.0</td>\n",
       "      <td>0.0</td>\n",
       "      <td>0.0</td>\n",
       "      <td>0.0</td>\n",
       "    </tr>\n",
       "  </tbody>\n",
       "</table>\n",
       "<p>306 rows × 247 columns</p>\n",
       "</div>"
      ],
      "text/plain": [
       "      lodging  restaurant    school    health       bar    church      bank  \\\n",
       "0    0.150000    0.916667  0.433333  0.216667  0.166667  1.000000  0.200000   \n",
       "1    0.083333    0.650000  0.433333  0.116667  0.066667  0.416667  0.250000   \n",
       "2    0.050000    0.550000  0.266667  0.050000  0.183333  0.383333  0.066667   \n",
       "3    0.033333    0.900000  0.450000  0.116667  0.233333  0.083333  0.400000   \n",
       "4    0.050000    0.333333  0.416667  0.150000  0.266667  0.200000  0.383333   \n",
       "..        ...         ...       ...       ...       ...       ...       ...   \n",
       "301  0.650000    1.000000  1.000000  0.333333  1.000000  0.616667  1.000000   \n",
       "302  0.050000    0.733333  0.100000  0.150000  0.133333  0.333333  0.050000   \n",
       "303  0.066667    0.533333  0.250000  0.100000  0.033333  0.300000  0.116667   \n",
       "304  0.316667    0.983333  0.600000  0.166667  0.316667  0.416667  0.200000   \n",
       "305  0.033333    0.600000  0.233333  0.116667  0.133333  0.500000  0.166667   \n",
       "\n",
       "        store  clothing  tourist attraction  ...  pharmacy  farmersmarket  \\\n",
       "0    0.600000  0.316667            0.000000  ...       0.0            0.0   \n",
       "1    0.616667  0.566667            0.000000  ...       0.0            0.0   \n",
       "2    0.600000  0.216667            0.027027  ...       0.0            0.0   \n",
       "3    0.316667  0.066667            0.108108  ...       0.0            0.0   \n",
       "4    0.316667  0.083333            0.054054  ...       0.0            0.0   \n",
       "..        ...       ...                 ...  ...       ...            ...   \n",
       "301  1.000000  1.000000            0.324324  ...       0.0            0.0   \n",
       "302  0.550000  0.100000            0.027027  ...       0.0            0.0   \n",
       "303  0.566667  0.200000            0.054054  ...       0.0            0.0   \n",
       "304  0.600000  0.116667            0.108108  ...       0.0            0.0   \n",
       "305  0.833333  0.233333            0.054054  ...       0.0            0.0   \n",
       "\n",
       "     foodtours  bowling  syrian  southafrican  eventservices  bookstores  \\\n",
       "0          0.0      0.0     0.0           0.0            0.0         0.0   \n",
       "1          0.0      0.0     0.0           0.0            0.0         0.0   \n",
       "2          0.0      0.0     0.0           0.0            0.0         0.0   \n",
       "3          0.0      0.0     0.0           0.0            0.0         0.0   \n",
       "4          0.0      0.0     0.0           0.0            0.0         0.0   \n",
       "..         ...      ...     ...           ...            ...         ...   \n",
       "301        0.0      0.0     0.0           0.0            0.0         0.0   \n",
       "302        0.0      0.0     0.0           0.0            0.0         0.0   \n",
       "303        0.0      0.0     0.0           0.0            0.0         0.0   \n",
       "304        0.0      0.0     0.0           0.0            0.0         0.0   \n",
       "305        0.0      0.0     0.0           0.0            0.0         0.0   \n",
       "\n",
       "     homedecor  diyfood  \n",
       "0          0.0      0.0  \n",
       "1          0.0      0.0  \n",
       "2          0.0      0.0  \n",
       "3          0.0      0.0  \n",
       "4          0.0      0.0  \n",
       "..         ...      ...  \n",
       "301        0.0      0.0  \n",
       "302        0.0      0.0  \n",
       "303        0.0      0.0  \n",
       "304        0.0      0.0  \n",
       "305        0.0      0.0  \n",
       "\n",
       "[306 rows x 247 columns]"
      ]
     },
     "execution_count": 15,
     "metadata": {},
     "output_type": "execute_result"
    }
   ],
   "source": [
    "# remove restaurant count\n",
    "main_features_scaled"
   ]
  },
  {
   "cell_type": "code",
   "execution_count": null,
   "metadata": {},
   "outputs": [
    {
     "data": {
      "text/plain": [
       "Text(0, 0.5, 'Variance Explained')"
      ]
     },
     "execution_count": 16,
     "metadata": {},
     "output_type": "execute_result"
    },
    {
     "data": {
      "image/png": "[encoded data removed]",
      "text/plain": [
       "<Figure size 432x288 with 1 Axes>"
      ]
     },
     "metadata": {},
     "output_type": "display_data"
    }
   ],
   "source": [
    "# How many PCs do we want?\n",
    "\n",
    "pca = PCA(n_components=10)\n",
    "pca_fit = pca.fit(main_features_scaled)\n",
    "pca_fit\n",
    "\n",
    "PC_values = np.arange(pca.n_components_) + 1\n",
    "PC_values\n",
    "\n",
    "plt.plot(PC_values, pca.explained_variance_ratio_, 'o-')\n",
    "plt.title('Scree Plot')\n",
    "plt.xlabel('Principal Component')\n",
    "plt.ylabel('Variance Explained')"
   ]
  },
  {
   "cell_type": "code",
   "execution_count": null,
   "metadata": {},
   "outputs": [
    {
     "data": {
      "text/html": [
       "<div>\n",
       "<style scoped>\n",
       "    .dataframe tbody tr th:only-of-type {\n",
       "        vertical-align: middle;\n",
       "    }\n",
       "\n",
       "    .dataframe tbody tr th {\n",
       "        vertical-align: top;\n",
       "    }\n",
       "\n",
       "    .dataframe thead th {\n",
       "        text-align: right;\n",
       "    }\n",
       "</style>\n",
       "<table border=\"1\" class=\"dataframe\">\n",
       "  <thead>\n",
       "    <tr style=\"text-align: right;\">\n",
       "      <th></th>\n",
       "      <th>PC1</th>\n",
       "      <th>PC2</th>\n",
       "      <th>PC3</th>\n",
       "      <th>PC4</th>\n",
       "      <th>PC5</th>\n",
       "    </tr>\n",
       "  </thead>\n",
       "  <tbody>\n",
       "    <tr>\n",
       "      <th>0</th>\n",
       "      <td>-0.350819</td>\n",
       "      <td>0.709996</td>\n",
       "      <td>-0.264307</td>\n",
       "      <td>-0.381811</td>\n",
       "      <td>0.446031</td>\n",
       "    </tr>\n",
       "    <tr>\n",
       "      <th>1</th>\n",
       "      <td>-0.563931</td>\n",
       "      <td>0.427026</td>\n",
       "      <td>-0.118312</td>\n",
       "      <td>0.027584</td>\n",
       "      <td>0.339493</td>\n",
       "    </tr>\n",
       "    <tr>\n",
       "      <th>2</th>\n",
       "      <td>-0.587661</td>\n",
       "      <td>0.325325</td>\n",
       "      <td>-0.084414</td>\n",
       "      <td>-0.237159</td>\n",
       "      <td>0.235757</td>\n",
       "    </tr>\n",
       "    <tr>\n",
       "      <th>3</th>\n",
       "      <td>-0.582338</td>\n",
       "      <td>-0.307512</td>\n",
       "      <td>0.180171</td>\n",
       "      <td>-0.151716</td>\n",
       "      <td>-0.251314</td>\n",
       "    </tr>\n",
       "    <tr>\n",
       "      <th>4</th>\n",
       "      <td>-0.560793</td>\n",
       "      <td>-0.137340</td>\n",
       "      <td>0.410400</td>\n",
       "      <td>0.043671</td>\n",
       "      <td>-0.371353</td>\n",
       "    </tr>\n",
       "    <tr>\n",
       "      <th>...</th>\n",
       "      <td>...</td>\n",
       "      <td>...</td>\n",
       "      <td>...</td>\n",
       "      <td>...</td>\n",
       "      <td>...</td>\n",
       "    </tr>\n",
       "    <tr>\n",
       "      <th>301</th>\n",
       "      <td>1.918999</td>\n",
       "      <td>-0.716384</td>\n",
       "      <td>-0.082292</td>\n",
       "      <td>-0.004894</td>\n",
       "      <td>-0.163672</td>\n",
       "    </tr>\n",
       "    <tr>\n",
       "      <th>302</th>\n",
       "      <td>-0.532640</td>\n",
       "      <td>-0.393494</td>\n",
       "      <td>-0.153382</td>\n",
       "      <td>-0.221756</td>\n",
       "      <td>-0.170022</td>\n",
       "    </tr>\n",
       "    <tr>\n",
       "      <th>303</th>\n",
       "      <td>-0.853634</td>\n",
       "      <td>-0.350324</td>\n",
       "      <td>-0.581625</td>\n",
       "      <td>0.124334</td>\n",
       "      <td>-0.011283</td>\n",
       "    </tr>\n",
       "    <tr>\n",
       "      <th>304</th>\n",
       "      <td>0.233332</td>\n",
       "      <td>-0.019982</td>\n",
       "      <td>0.183264</td>\n",
       "      <td>-0.425912</td>\n",
       "      <td>0.043471</td>\n",
       "    </tr>\n",
       "    <tr>\n",
       "      <th>305</th>\n",
       "      <td>-0.644074</td>\n",
       "      <td>0.060016</td>\n",
       "      <td>-0.246746</td>\n",
       "      <td>0.010929</td>\n",
       "      <td>0.305903</td>\n",
       "    </tr>\n",
       "  </tbody>\n",
       "</table>\n",
       "<p>306 rows × 5 columns</p>\n",
       "</div>"
      ],
      "text/plain": [
       "          PC1       PC2       PC3       PC4       PC5\n",
       "0   -0.350819  0.709996 -0.264307 -0.381811  0.446031\n",
       "1   -0.563931  0.427026 -0.118312  0.027584  0.339493\n",
       "2   -0.587661  0.325325 -0.084414 -0.237159  0.235757\n",
       "3   -0.582338 -0.307512  0.180171 -0.151716 -0.251314\n",
       "4   -0.560793 -0.137340  0.410400  0.043671 -0.371353\n",
       "..        ...       ...       ...       ...       ...\n",
       "301  1.918999 -0.716384 -0.082292 -0.004894 -0.163672\n",
       "302 -0.532640 -0.393494 -0.153382 -0.221756 -0.170022\n",
       "303 -0.853634 -0.350324 -0.581625  0.124334 -0.011283\n",
       "304  0.233332 -0.019982  0.183264 -0.425912  0.043471\n",
       "305 -0.644074  0.060016 -0.246746  0.010929  0.305903\n",
       "\n",
       "[306 rows x 5 columns]"
      ]
     },
     "execution_count": 17,
     "metadata": {},
     "output_type": "execute_result"
    }
   ],
   "source": [
    "# # 3 is the ideal PCA\n",
    "# pca = PCA(n_components=3)\n",
    "# features_pca = pd.DataFrame(pca.fit_transform(main_features_scaled), columns=['PC1','PC2','PC3'])\n",
    "# features_pca\n",
    "\n",
    "# Let's try 5\n",
    "pca = PCA(n_components=5)\n",
    "features_pca = pd.DataFrame(pca.fit_transform(main_features_scaled), columns=['PC1','PC2','PC3','PC4','PC5'])\n",
    "features_pca"
   ]
  },
  {
   "cell_type": "code",
   "execution_count": null,
   "metadata": {},
   "outputs": [
    {
     "data": {
      "text/plain": [
       "[<matplotlib.lines.Line2D at 0x7f8953eb9cd0>,\n",
       " <matplotlib.lines.Line2D at 0x7f8953eb9d30>]"
      ]
     },
     "execution_count": 18,
     "metadata": {},
     "output_type": "execute_result"
    },
    {
     "data": {
      "image/png": "[encoded data removed]",
      "text/plain": [
       "<Figure size 432x288 with 1 Axes>"
      ]
     },
     "metadata": {},
     "output_type": "display_data"
    }
   ],
   "source": [
    "# Let's figure out the best value for eps\n",
    "neigh = NearestNeighbors(n_neighbors=2)\n",
    "nbrs = neigh.fit(features_pca)\n",
    "\n",
    "distances, indices = nbrs.kneighbors(features_pca)\n",
    "\n",
    "# plot it\n",
    "distances = np.sort(distances, axis=0)\n",
    "plt.plot(distances)"
   ]
  },
  {
   "cell_type": "code",
   "execution_count": null,
   "metadata": {},
   "outputs": [],
   "source": [
    "dbscan = DBSCAN(\n",
    "    eps=.5,\n",
    "    min_samples=6,\n",
    "    n_jobs=-1\n",
    ")"
   ]
  },
  {
   "cell_type": "code",
   "execution_count": null,
   "metadata": {},
   "outputs": [
    {
     "data": {
      "text/plain": [
       "7"
      ]
     },
     "execution_count": 36,
     "metadata": {},
     "output_type": "execute_result"
    }
   ],
   "source": [
    "# fit and predict\n",
    "clusters = pd.Series(dbscan.fit_predict(features_pca))\n",
    "clusters.nunique()"
   ]
  },
  {
   "cell_type": "code",
   "execution_count": null,
   "metadata": {},
   "outputs": [],
   "source": [
    "# add back geo info and clusters\n",
    "clustered_pca = pd.concat([geo_info, features_pca, clusters], axis=1)\n",
    "clustered_pca = clustered_pca.rename(columns={0:'cluster'})"
   ]
  },
  {
   "cell_type": "code",
   "execution_count": null,
   "metadata": {},
   "outputs": [
    {
     "data": {
      "text/html": [
       "<div>\n",
       "<style scoped>\n",
       "    .dataframe tbody tr th:only-of-type {\n",
       "        vertical-align: middle;\n",
       "    }\n",
       "\n",
       "    .dataframe tbody tr th {\n",
       "        vertical-align: top;\n",
       "    }\n",
       "\n",
       "    .dataframe thead th {\n",
       "        text-align: right;\n",
       "    }\n",
       "</style>\n",
       "<table border=\"1\" class=\"dataframe\">\n",
       "  <thead>\n",
       "    <tr style=\"text-align: right;\">\n",
       "      <th></th>\n",
       "      <th>borough</th>\n",
       "      <th>neighborhood</th>\n",
       "      <th>longitude</th>\n",
       "      <th>latitude</th>\n",
       "      <th>population</th>\n",
       "      <th>PC1</th>\n",
       "      <th>PC2</th>\n",
       "      <th>PC3</th>\n",
       "      <th>PC4</th>\n",
       "      <th>PC5</th>\n",
       "      <th>cluster</th>\n",
       "    </tr>\n",
       "  </thead>\n",
       "  <tbody>\n",
       "    <tr>\n",
       "      <th>0</th>\n",
       "      <td>Bronx</td>\n",
       "      <td>Wakefield</td>\n",
       "      <td>-73.847201</td>\n",
       "      <td>40.894705</td>\n",
       "      <td>21242.0</td>\n",
       "      <td>-0.350819</td>\n",
       "      <td>0.709996</td>\n",
       "      <td>-0.264307</td>\n",
       "      <td>-0.381811</td>\n",
       "      <td>0.446031</td>\n",
       "      <td>0</td>\n",
       "    </tr>\n",
       "    <tr>\n",
       "      <th>1</th>\n",
       "      <td>Bronx</td>\n",
       "      <td>Co-op City</td>\n",
       "      <td>-73.829939</td>\n",
       "      <td>40.874294</td>\n",
       "      <td>43752.0</td>\n",
       "      <td>-0.563931</td>\n",
       "      <td>0.427026</td>\n",
       "      <td>-0.118312</td>\n",
       "      <td>0.027584</td>\n",
       "      <td>0.339493</td>\n",
       "      <td>0</td>\n",
       "    </tr>\n",
       "    <tr>\n",
       "      <th>2</th>\n",
       "      <td>Bronx</td>\n",
       "      <td>Eastchester</td>\n",
       "      <td>-73.827806</td>\n",
       "      <td>40.887556</td>\n",
       "      <td>11506.0</td>\n",
       "      <td>-0.587661</td>\n",
       "      <td>0.325325</td>\n",
       "      <td>-0.084414</td>\n",
       "      <td>-0.237159</td>\n",
       "      <td>0.235757</td>\n",
       "      <td>0</td>\n",
       "    </tr>\n",
       "    <tr>\n",
       "      <th>3</th>\n",
       "      <td>Bronx</td>\n",
       "      <td>Fieldston</td>\n",
       "      <td>-73.905643</td>\n",
       "      <td>40.895437</td>\n",
       "      <td>9287.0</td>\n",
       "      <td>-0.582338</td>\n",
       "      <td>-0.307512</td>\n",
       "      <td>0.180171</td>\n",
       "      <td>-0.151716</td>\n",
       "      <td>-0.251314</td>\n",
       "      <td>0</td>\n",
       "    </tr>\n",
       "    <tr>\n",
       "      <th>4</th>\n",
       "      <td>Bronx</td>\n",
       "      <td>Riverdale</td>\n",
       "      <td>-73.912585</td>\n",
       "      <td>40.890834</td>\n",
       "      <td>9287.0</td>\n",
       "      <td>-0.560793</td>\n",
       "      <td>-0.137340</td>\n",
       "      <td>0.410400</td>\n",
       "      <td>0.043671</td>\n",
       "      <td>-0.371353</td>\n",
       "      <td>0</td>\n",
       "    </tr>\n",
       "    <tr>\n",
       "      <th>...</th>\n",
       "      <td>...</td>\n",
       "      <td>...</td>\n",
       "      <td>...</td>\n",
       "      <td>...</td>\n",
       "      <td>...</td>\n",
       "      <td>...</td>\n",
       "      <td>...</td>\n",
       "      <td>...</td>\n",
       "      <td>...</td>\n",
       "      <td>...</td>\n",
       "      <td>...</td>\n",
       "    </tr>\n",
       "    <tr>\n",
       "      <th>301</th>\n",
       "      <td>Manhattan</td>\n",
       "      <td>Hudson Yards</td>\n",
       "      <td>-74.000111</td>\n",
       "      <td>40.756658</td>\n",
       "      <td>23383.0</td>\n",
       "      <td>1.918999</td>\n",
       "      <td>-0.716384</td>\n",
       "      <td>-0.082292</td>\n",
       "      <td>-0.004894</td>\n",
       "      <td>-0.163672</td>\n",
       "      <td>4</td>\n",
       "    </tr>\n",
       "    <tr>\n",
       "      <th>302</th>\n",
       "      <td>Queens</td>\n",
       "      <td>Hammels</td>\n",
       "      <td>-73.805530</td>\n",
       "      <td>40.587338</td>\n",
       "      <td>12295.0</td>\n",
       "      <td>-0.532640</td>\n",
       "      <td>-0.393494</td>\n",
       "      <td>-0.153382</td>\n",
       "      <td>-0.221756</td>\n",
       "      <td>-0.170022</td>\n",
       "      <td>0</td>\n",
       "    </tr>\n",
       "    <tr>\n",
       "      <th>303</th>\n",
       "      <td>Queens</td>\n",
       "      <td>Bayswater</td>\n",
       "      <td>-73.765968</td>\n",
       "      <td>40.611322</td>\n",
       "      <td>25029.0</td>\n",
       "      <td>-0.853634</td>\n",
       "      <td>-0.350324</td>\n",
       "      <td>-0.581625</td>\n",
       "      <td>0.124334</td>\n",
       "      <td>-0.011283</td>\n",
       "      <td>0</td>\n",
       "    </tr>\n",
       "    <tr>\n",
       "      <th>304</th>\n",
       "      <td>Queens</td>\n",
       "      <td>Queensbridge</td>\n",
       "      <td>-73.945631</td>\n",
       "      <td>40.756091</td>\n",
       "      <td>6677.0</td>\n",
       "      <td>0.233332</td>\n",
       "      <td>-0.019982</td>\n",
       "      <td>0.183264</td>\n",
       "      <td>-0.425912</td>\n",
       "      <td>0.043471</td>\n",
       "      <td>-1</td>\n",
       "    </tr>\n",
       "    <tr>\n",
       "      <th>305</th>\n",
       "      <td>Staten Island</td>\n",
       "      <td>Fox Hills</td>\n",
       "      <td>-74.081740</td>\n",
       "      <td>40.617311</td>\n",
       "      <td>11230.0</td>\n",
       "      <td>-0.644074</td>\n",
       "      <td>0.060016</td>\n",
       "      <td>-0.246746</td>\n",
       "      <td>0.010929</td>\n",
       "      <td>0.305903</td>\n",
       "      <td>0</td>\n",
       "    </tr>\n",
       "  </tbody>\n",
       "</table>\n",
       "<p>306 rows × 11 columns</p>\n",
       "</div>"
      ],
      "text/plain": [
       "           borough  neighborhood  longitude   latitude  population       PC1  \\\n",
       "0            Bronx     Wakefield -73.847201  40.894705     21242.0 -0.350819   \n",
       "1            Bronx    Co-op City -73.829939  40.874294     43752.0 -0.563931   \n",
       "2            Bronx   Eastchester -73.827806  40.887556     11506.0 -0.587661   \n",
       "3            Bronx     Fieldston -73.905643  40.895437      9287.0 -0.582338   \n",
       "4            Bronx     Riverdale -73.912585  40.890834      9287.0 -0.560793   \n",
       "..             ...           ...        ...        ...         ...       ...   \n",
       "301      Manhattan  Hudson Yards -74.000111  40.756658     23383.0  1.918999   \n",
       "302         Queens       Hammels -73.805530  40.587338     12295.0 -0.532640   \n",
       "303         Queens     Bayswater -73.765968  40.611322     25029.0 -0.853634   \n",
       "304         Queens  Queensbridge -73.945631  40.756091      6677.0  0.233332   \n",
       "305  Staten Island     Fox Hills -74.081740  40.617311     11230.0 -0.644074   \n",
       "\n",
       "          PC2       PC3       PC4       PC5  cluster  \n",
       "0    0.709996 -0.264307 -0.381811  0.446031        0  \n",
       "1    0.427026 -0.118312  0.027584  0.339493        0  \n",
       "2    0.325325 -0.084414 -0.237159  0.235757        0  \n",
       "3   -0.307512  0.180171 -0.151716 -0.251314        0  \n",
       "4   -0.137340  0.410400  0.043671 -0.371353        0  \n",
       "..        ...       ...       ...       ...      ...  \n",
       "301 -0.716384 -0.082292 -0.004894 -0.163672        4  \n",
       "302 -0.393494 -0.153382 -0.221756 -0.170022        0  \n",
       "303 -0.350324 -0.581625  0.124334 -0.011283        0  \n",
       "304 -0.019982  0.183264 -0.425912  0.043471       -1  \n",
       "305  0.060016 -0.246746  0.010929  0.305903        0  \n",
       "\n",
       "[306 rows x 11 columns]"
      ]
     },
     "execution_count": 38,
     "metadata": {},
     "output_type": "execute_result"
    }
   ],
   "source": [
    "clustered_pca"
   ]
  },
  {
   "cell_type": "code",
   "execution_count": null,
   "metadata": {},
   "outputs": [],
   "source": [
    "# export for evaluation\n",
    "clustered_pca.to_csv('../data/evaluation_data/dbscan_v2_clusters.csv')"
   ]
  },
  {
   "cell_type": "code",
   "execution_count": null,
   "metadata": {},
   "outputs": [],
   "source": [
    "def DBSCANplot(data=features_pca, eps=2, min_samples=3, map_plot=True):\n",
    "    dbscan = DBSCAN(\n",
    "    eps=eps,\n",
    "    min_samples=min_samples,\n",
    "    n_jobs=-1\n",
    "    )\n",
    "    \n",
    "    # fit and predict\n",
    "    clusters = pd.Series(dbscan.fit_predict(data))\n",
    "    print(clusters.nunique())\n",
    "\n",
    "    # add back geo info and clusters\n",
    "    clustered_pca = pd.concat([geo_info, features_pca, clusters], axis=1)\n",
    "    clustered_pca = clustered_pca.rename(columns={0:'cluster'})\n",
    "\n",
    "    if map_plot:\n",
    "        map_scatter(clustered_pca)\n",
    "\n",
    "\n",
    "    # reduce to 3D for graphing\n",
    "    pca = PCA(n_components=2)\n",
    "    graph_pca = pd.DataFrame(pca.fit_transform(main_features_scaled), columns=['PC1','PC2'])\n",
    "    graph_pca = pd.concat([graph_pca,clusters], axis=1)\n",
    "    graph_pca = graph_pca.rename(columns={0:'cluster'})\n",
    "\n",
    "\n",
    "    fig = px.scatter(graph_pca, x='PC1', y='PC2',\n",
    "              color='cluster')\n",
    "    fig.show()"
   ]
  },
  {
   "cell_type": "code",
   "execution_count": null,
   "metadata": {},
   "outputs": [
    {
     "ename": "NameError",
     "evalue": "name 'clustered_pca' is not defined",
     "output_type": "error",
     "traceback": [
      "\u001b[0;31m---------------------------------------------------------------------------\u001b[0m",
      "\u001b[0;31mNameError\u001b[0m                                 Traceback (most recent call last)",
      "\u001b[1;32m/Users/karina/GitHub/NYC_midterm_project/src/dbscan_V2.ipynb Cell 27'\u001b[0m in \u001b[0;36m<cell line: 1>\u001b[0;34m()\u001b[0m\n\u001b[0;32m----> <a href='vscode-notebook-cell:/Users/karina/GitHub/NYC_midterm_project/src/dbscan_V2.ipynb#ch0000036?line=0'>1</a>\u001b[0m clustered_pca\n",
      "\u001b[0;31mNameError\u001b[0m: name 'clustered_pca' is not defined"
     ]
    }
   ],
   "source": [
    "clustered_pca"
   ]
  },
  {
   "cell_type": "code",
   "execution_count": null,
   "metadata": {},
   "outputs": [
    {
     "data": {
      "text/plain": [
       "[<matplotlib.lines.Line2D at 0x7f8954adbca0>,\n",
       " <matplotlib.lines.Line2D at 0x7f8954adbd00>]"
      ]
     },
     "execution_count": 24,
     "metadata": {},
     "output_type": "execute_result"
    },
    {
     "data": {
      "image/png": "[encoded data removed]",
      "text/plain": [
       "<Figure size 432x288 with 1 Axes>"
      ]
     },
     "metadata": {},
     "output_type": "display_data"
    }
   ],
   "source": [
    "# Let's figure out the best value for eps\n",
    "neigh = NearestNeighbors(n_neighbors=2)\n",
    "nbrs = neigh.fit(features_pca)\n",
    "\n",
    "distances, indices = nbrs.kneighbors(features_pca)\n",
    "\n",
    "# plot it\n",
    "distances = np.sort(distances, axis=0)\n",
    "plt.plot(distances)"
   ]
  },
  {
   "cell_type": "code",
   "execution_count": null,
   "metadata": {},
   "outputs": [],
   "source": [
    "# Define variable options\n",
    "eps_options = np.arange(.5,.7,.1)\n",
    "min_options = np.arange(4,11,1)"
   ]
  },
  {
   "cell_type": "code",
   "execution_count": null,
   "metadata": {},
   "outputs": [
    {
     "name": "stdout",
     "output_type": "stream",
     "text": [
      "eps:0.5\n",
      "min:4\n",
      "4\n"
     ]
    },
    {
     "data": {
      "application/vnd.plotly.v1+json": {
       "config": {
        "plotlyServerURL": "https://plot.ly"
       },
       "data": [
        {
         "hovertemplate": "PC1=%{x}<br>PC2=%{y}<br>cluster=%{marker.color}<extra></extra>",
         "legendgroup": "",
         "marker": {
          "color": [
           0,
           0,
           0,
           0,
           0,
           -1,
           -1,
           0,
           0,
           0,
           0,
           0,
           0,
           0,
           0,
           0,
           -1,
           0,
           0,
           0,
           0,
           1,
           0,
           0,
           0,
           0,
           0,
           0,
           0,
           0,
           0,
           0,
           0,
           0,
           -1,
           0,
           0,
           0,
           0,
           0,
           0,
           0,
           0,
           0,
           0,
           0,
           2,
           -1,
           -1,
           -1,
           0,
           0,
           0,
           -1,
           1,
           -1,
           0,
           0,
           -1,
           1,
           -1,
           1,
           -1,
           -1,
           1,
           1,
           1,
           0,
           -1,
           1,
           1,
           -1,
           0,
           0,
           0,
           0,
           0,
           0,
           0,
           -1,
           0,
           0,
           0,
           -1,
           1,
           0,
           1,
           1,
           1,
           1,
           -1,
           0,
           0,
           1,
           0,
           -1,
           -1,
           1,
           0,
           2,
           -1,
           -1,
           -1,
           -1,
           -1,
           -1,
           -1,
           1,
           1,
           1,
           2,
           1,
           1,
           1,
           1,
           1,
           1,
           1,
           1,
           1,
           1,
           -1,
           1,
           -1,
           1,
           1,
           1,
           1,
           1,
           1,
           1,
           -1,
           -1,
           0,
           0,
           2,
           0,
           0,
           -1,
           2,
           0,
           -1,
           0,
           1,
           0,
           0,
           -1,
           0,
           0,
           0,
           0,
           -1,
           -1,
           0,
           0,
           0,
           -1,
           0,
           0,
           -1,
           -1,
           0,
           0,
           0,
           0,
           0,
           0,
           0,
           0,
           0,
           0,
           0,
           0,
           2,
           0,
           0,
           0,
           0,
           0,
           0,
           -1,
           0,
           0,
           -1,
           -1,
           0,
           1,
           0,
           0,
           0,
           0,
           0,
           0,
           0,
           0,
           -1,
           2,
           0,
           0,
           0,
           0,
           0,
           0,
           0,
           0,
           0,
           0,
           0,
           0,
           0,
           0,
           0,
           0,
           0,
           0,
           0,
           0,
           0,
           0,
           0,
           0,
           1,
           -1,
           -1,
           0,
           0,
           0,
           0,
           0,
           0,
           0,
           0,
           0,
           0,
           0,
           0,
           0,
           0,
           0,
           0,
           0,
           0,
           0,
           0,
           0,
           0,
           0,
           1,
           1,
           1,
           1,
           0,
           0,
           0,
           0,
           0,
           0,
           0,
           0,
           -1,
           0,
           0,
           0,
           -1,
           -1,
           0,
           0,
           0,
           0,
           0,
           0,
           1,
           -1,
           1,
           1,
           1,
           1,
           2,
           0,
           1,
           -1,
           1,
           -1,
           -1,
           0,
           0,
           0,
           0,
           0,
           0,
           0,
           0,
           0,
           0,
           0,
           -1,
           0,
           0,
           0,
           0,
           0,
           1,
           0,
           0,
           0,
           0
          ],
          "coloraxis": "coloraxis",
          "symbol": "circle"
         },
         "mode": "markers",
         "name": "",
         "orientation": "v",
         "showlegend": false,
         "type": "scatter",
         "x": [
          -0.3508186445814046,
          -0.5639310289142907,
          -0.5876614889048775,
          -0.5823377224391548,
          -0.5607934377831532,
          0.4195720316235605,
          0.4072448737758711,
          -0.4113530731621215,
          -0.00399273331831062,
          -0.1852422563817428,
          -0.44739994890418283,
          -0.17321034471097554,
          -0.9863859016696982,
          0.363681409013939,
          0.5332508277656569,
          0.4280966465773618,
          1.0588501758287197,
          0.025247980120545525,
          0.23810740264577307,
          0.6865351171763053,
          0.2581063436168159,
          0.3715708207646612,
          -0.4131797356835435,
          -0.04785829771362803,
          -0.9827684239122897,
          0.3681831670016599,
          -0.2935365288623707,
          -1.1909481439518261,
          -1.1528255253136725,
          -0.7069147217330235,
          0.40055109920872667,
          0.00803215716421511,
          0.14911199452136348,
          -0.16737103147821697,
          0.760616799924241,
          -0.23008068388502226,
          -0.7678298340451299,
          -0.540115638809465,
          -0.6308503154771031,
          -0.8514860460990357,
          -0.6867705734521476,
          -0.2078070316297446,
          -0.7308828712104986,
          0.5838622089680124,
          0.23092709056774202,
          -0.25715838997259816,
          0.5912142380882366,
          0.45038843768797976,
          0.7458086225076698,
          0.6665341479810564,
          -0.3559651445471211,
          0.14544245797935162,
          0.16923801231755534,
          0.28649183156012964,
          0.49776358997416936,
          1.0061507020713225,
          -0.00044711259362545716,
          0.28586827885250043,
          0.25658402880596615,
          1.2550220032228516,
          0.12286107335774328,
          1.485896209569183,
          1.141757343619969,
          1.083056179238525,
          1.2308187941802846,
          1.398828328888598,
          1.3054235587132532,
          -0.6767646613072369,
          0.6750460519396514,
          1.370581465278255,
          1.2018852316157136,
          -0.2580847111797142,
          -0.011498460508768802,
          -0.8370263340387589,
          -0.6363564838589613,
          -0.42919282404945464,
          -1.1039702224687824,
          -0.1088711356058151,
          -0.4596040070615721,
          0.1418478816660463,
          0.21957884447651801,
          0.3554794976193818,
          -0.8742386278118172,
          -0.2746466637092127,
          1.1054992040219718,
          -1.2632478611888398,
          1.5367762704079522,
          2.0068280117827495,
          0.850062335137054,
          0.33944496228293397,
          0.19249504445578958,
          -1.3581558798511084,
          0.2434247873301313,
          0.5263964218229623,
          -0.4868238715600447,
          1.1886039499169794,
          1.312567480095893,
          1.5798144290432872,
          0.09562530830559078,
          0.10113773211496412,
          2.033076972324046,
          0.8053821545180139,
          0.637502907215228,
          1.0203277391689545,
          1.1081509796409459,
          1.2746332749915992,
          1.0753569684035553,
          1.7049819492724492,
          1.6587035438150557,
          1.7295177415265623,
          0.5214983885075135,
          1.3702205937067362,
          1.518749873805489,
          2.1729248712419267,
          2.5854778650398846,
          2.411180428395736,
          2.1166243572495915,
          2.0214316278135502,
          1.8271443317174267,
          1.7146476778873738,
          2.0310988554007685,
          2.2173494244528684,
          2.184350145824153,
          1.5947485452960408,
          1.0679977016528681,
          0.8413104680994339,
          1.9202053051499042,
          1.8312001793279702,
          2.0139938593698643,
          1.3205121461089913,
          0.8282043651674835,
          1.2256783451926239,
          1.3358151046978437,
          -0.9688877415976315,
          0.26608200929683606,
          0.4664951006725747,
          -0.0563240048251054,
          -0.0559120157718613,
          1.1399716405498577,
          0.5358927796322845,
          0.018958766203575374,
          -0.24741988762852457,
          -0.5776044130063319,
          0.6475878617948905,
          -0.9100792974452094,
          0.49081208825788125,
          0.3298476395279003,
          -0.007475294677475479,
          -0.489846855978679,
          -0.8491853143573168,
          -0.7011129372532078,
          -0.05347780212672248,
          -0.0011183823042832202,
          -0.5655651342350086,
          -0.6620259718207827,
          -0.9227863531495146,
          -0.6622952480314663,
          -0.4782287610370813,
          -0.5932215055392788,
          0.12014236348877132,
          0.6903330209670598,
          -0.8426881627710046,
          -0.6917978730477802,
          -0.6781299724263031,
          0.1602732904474833,
          -0.6133650035392196,
          -0.6949704672974494,
          -0.9075944177318687,
          -0.8786928400558157,
          -0.9058658749968183,
          -0.31613938719436746,
          -1.4063256915973272,
          -1.3803818930202079,
          0.2625615034769143,
          -0.8470754546783491,
          -1.1030175239198672,
          -1.2002009601984962,
          -1.1015107582333754,
          -0.25448883335801076,
          -1.3268121966813606,
          0.21320098873326973,
          -0.6498069261405497,
          -0.9346574497489317,
          -0.23027783265072188,
          -0.5611158720424748,
          -0.6718621245174528,
          0.9811493906055307,
          -0.8636997616209908,
          -0.6227009894166133,
          0.26969388609522693,
          -1.2974700268568877,
          -0.7689427359366564,
          -1.1308155565904985,
          -1.1858237917313565,
          -1.1576084927470962,
          0.12712467464253588,
          0.6706059789697033,
          -0.3921416370294183,
          -0.11598044718702563,
          -0.23151664766119667,
          -0.7816102873703236,
          -0.7653708834373745,
          -0.5609480660210393,
          -1.2245683886515315,
          -1.2528323446207357,
          -0.04827769016556094,
          -0.620381709756415,
          -1.3179427171238245,
          -1.020448678856538,
          -1.122767828461264,
          -1.295461906008073,
          -0.2150777897030298,
          -1.0690715515230613,
          -0.6521075215103971,
          -0.7687037917119958,
          -1.1341499985115364,
          -1.206294094750507,
          -1.1419834961733435,
          0.15924292373346194,
          -1.0338737764714179,
          -0.9671029081402572,
          0.7301776776959528,
          0.22630807645404594,
          -0.03217868737816261,
          -0.8246874406681577,
          -0.0665121498396239,
          -0.525452729661283,
          -1.163670997184323,
          -1.0990419409084324,
          -0.871028416180363,
          -0.9839363695459624,
          -0.7071642819921274,
          -0.9649538646384597,
          -0.07938786382715807,
          -0.6511732443827587,
          -1.0495691285147353,
          -1.216907719249716,
          -1.0202686457871843,
          -1.245096243526878,
          -0.8051863963938097,
          -1.4079974175266863,
          -1.238577998585358,
          -1.1597420643057776,
          -0.49885995427398205,
          -1.2294098096570147,
          -1.3473762262692497,
          -0.9893474027848611,
          1.324644655674268,
          2.236559940687958,
          2.300220738929092,
          2.5447691037266145,
          -1.3290802025585322,
          -1.0339295771544759,
          -0.3646263998858898,
          -0.9210480898797002,
          -1.0528999459414,
          -0.7465386837494035,
          -1.3310648253509125,
          -0.15504914093148417,
          -0.17437782760361567,
          -0.2603429111629848,
          -0.8277771276090602,
          -0.5418252456462207,
          0.6086703948875171,
          -0.5988433486407282,
          -0.9028097234226942,
          -0.9592914666868012,
          0.22142476650741127,
          0.7932088658321987,
          0.5636494338661097,
          0.41197956731334534,
          1.826830708628797,
          0.31242812323741953,
          1.902649433624108,
          1.620881829702091,
          1.2518535611471007,
          2.144068931719886,
          0.43127983098330536,
          -0.326669105779434,
          1.1600755290161804,
          0.6320233562856604,
          0.7899229468245065,
          0.21091418080767607,
          0.7684640830904039,
          -1.2050179821235905,
          -1.003315446220766,
          -1.300336769491636,
          -1.2169871538010222,
          -1.4762498697303896,
          0.2818455182041284,
          -0.9236872137307428,
          -1.2034142443186877,
          -1.3539329811844136,
          -0.5113520614681136,
          -0.8684685964407897,
          -0.6600211472717245,
          0.02387224500841111,
          -0.10249542394847518,
          -0.5073132666040002,
          0.5206042476056767,
          0.15663991940049013,
          1.9189992338794515,
          -0.5326400765665911,
          -0.8536336765878905,
          0.23333215288286902,
          -0.6440736946026615
         ],
         "xaxis": "x",
         "y": [
          0.7099961857978953,
          0.42702553658784737,
          0.32532461799333984,
          -0.30751240895039944,
          -0.13734036816883838,
          0.31128851737849844,
          0.729962167893389,
          -0.0005735189402775898,
          0.8184393245280276,
          1.117196888341552,
          0.6623167014430784,
          0.5818759175510941,
          -0.5755506430210526,
          0.7595512721812351,
          1.0919717029401952,
          0.9287727424286327,
          0.647167399836963,
          1.1481584414274244,
          1.0538483156137948,
          1.068173947937826,
          0.8958960717525997,
          0.5678691445652688,
          0.4174137788963033,
          0.7527314614167181,
          -0.32417865836517257,
          1.2685351012786688,
          1.1329563580483628,
          -0.6309878142198015,
          -0.5784391528625124,
          -0.04627264220648031,
          1.0451683016282647,
          0.6363022232065211,
          0.6090535964371065,
          0.3389705573491687,
          -0.07876016749848436,
          -0.005161321019689319,
          -0.16245932754008796,
          -0.015756191193797463,
          0.19443560793123194,
          -0.094922033919062,
          0.4528492287184965,
          1.1992796693159886,
          0.28812500403641145,
          1.3827214876209564,
          1.112825496480182,
          0.820319273071483,
          -0.19017580106885862,
          -0.07244448877381379,
          0.4750518811453017,
          -0.6854025144338283,
          0.20702474930218934,
          0.1518140456897288,
          -0.05401545573946639,
          0.15929102424296657,
          0.3937351519692185,
          1.014706623198994,
          0.6371969911009774,
          0.1750033851741816,
          -0.6006650204085802,
          -0.0792124573390606,
          1.512070916552906,
          -0.6427866590478051,
          -0.03307075643171754,
          0.5274321350929281,
          -0.45485297270854297,
          -0.5564822170596899,
          -0.6115030808876163,
          -0.30479187981488526,
          -0.3098013915666279,
          -0.4457154428997717,
          -0.698679628353853,
          0.6013513192758371,
          1.0639967642006818,
          0.23703389905433955,
          0.6299565866915858,
          0.8345022141548945,
          -0.4323407360986679,
          -0.36112213785851976,
          0.5276588766709592,
          -0.07191032684639224,
          0.4567759882447646,
          -0.24191454883831306,
          0.1428429389318786,
          0.39866159386906896,
          0.029551102791049888,
          -0.6860368415335261,
          -0.2269403331648695,
          -0.5324958691880598,
          0.41247460087419985,
          0.6397017321322944,
          0.7167548034897423,
          -0.7968509799301254,
          0.4579173464816717,
          0.6929268513292324,
          0.3027252421361952,
          -0.5018055971078058,
          -0.9262446362631672,
          -0.7089125244246054,
          -0.09250520902190804,
          -0.24347082832148273,
          -0.5011749815040876,
          0.2769417524742287,
          0.6594733357560907,
          0.1464652696809386,
          0.17980367632117927,
          0.2876728571762101,
          0.24207094960578387,
          -0.47685645775978125,
          -0.4641342832744238,
          -0.6242657785803362,
          -0.35839496694913836,
          -0.6697201639582336,
          -0.5934551819218801,
          -0.6776601586832687,
          -0.772206603265197,
          -0.8256034226699906,
          -0.6034916443139994,
          -0.6959188228222942,
          -0.6506881292737736,
          -0.730610566802647,
          -0.7118028645644151,
          -0.5537360443743592,
          -0.7516917933008144,
          -1.0413224864771373,
          -0.2888912128532489,
          0.16165561715961727,
          -0.6301647136546636,
          -0.5457559028477338,
          -0.7375472316736065,
          -0.30382668918844896,
          0.14392662023758906,
          0.4029023478736755,
          0.11923488393747818,
          -0.3931448013405179,
          0.47116303960960504,
          -0.3057199867825617,
          0.19033436901269668,
          0.3672353828015206,
          -0.11915816433922534,
          -0.22949644038607933,
          0.0005381922934969265,
          0.4014541076202302,
          0.011226333971447174,
          0.15316753403502015,
          -0.17839685429915678,
          0.1162964727268741,
          0.6132218639995656,
          0.7440426957254411,
          0.5514812675631249,
          0.2558900153292978,
          -0.41263591264996197,
          -0.24829956261552585,
          -0.08343938247417602,
          -0.20777470378370455,
          -0.24080633807485974,
          -0.3134496109536108,
          0.26608327441236906,
          -0.029058638683316398,
          0.0671953806310761,
          0.7504319775030304,
          1.1239966883690784,
          -0.45781463258792676,
          0.34873035447720835,
          0.8756141158887747,
          0.9258608099918605,
          0.4841868261378967,
          0.7141823455552794,
          -0.03732354018898182,
          0.28878723343162016,
          0.15719818315722064,
          0.7973884178965798,
          -0.7660432689583268,
          -0.84400657794849,
          -0.45947960809374516,
          -0.3345165522557174,
          -0.6649776248286672,
          -0.6363778850046428,
          -0.5993592194355751,
          -0.18919715662760342,
          -0.7691383038182813,
          0.04053435533132516,
          0.21657270370862602,
          -0.014942354878290992,
          0.9030285565753604,
          -0.4266317392588027,
          0.15182338797892395,
          -0.19851912578326078,
          0.054602340636070716,
          0.4071145704787819,
          0.4220990016103621,
          -0.7460484006509379,
          -0.37416817643363576,
          -0.6372097375723659,
          -0.5063493452642951,
          -0.09239144822483929,
          0.8850748108824067,
          -0.3774211773239248,
          0.11439303192748623,
          0.21840717600576146,
          0.41308681848561374,
          -0.156487389434147,
          -0.21246162342132058,
          0.35967154146760516,
          -0.6280362618690645,
          -0.6751485839668573,
          0.4564923562030079,
          0.46341219854131854,
          -0.6255699562303365,
          -0.14648385725392216,
          -0.529967500091482,
          -0.7969822771052225,
          0.2212198399904749,
          -0.35734431874142725,
          -0.490786380395956,
          -0.31872916446986554,
          -0.6918558834102606,
          -0.7082270021088811,
          -0.7238134790639272,
          0.12244694049215733,
          -0.3995158569063484,
          -0.5271808752106215,
          0.6167487204970656,
          1.3015349678754837,
          1.3070266362899396,
          -0.11326696955333448,
          0.03762840489926836,
          0.4637935227601997,
          -0.3581647071056107,
          -0.7534000614183912,
          -0.32871859328507014,
          -0.2747903697084202,
          -0.1782478319197431,
          -0.5058423435176054,
          0.28564173412763133,
          0.22065552600422933,
          -0.6473159610252815,
          -0.6069361767018229,
          -0.6298085539721407,
          -0.7732732549216,
          -0.4923166757282111,
          -0.6975829899400697,
          -0.7388955697842149,
          -0.43264234556453635,
          0.09749775065327997,
          -0.6339343049928898,
          -0.6640631227213608,
          -0.2201238450942663,
          -0.7406821537471711,
          -0.6143040266580025,
          -0.5698169156217819,
          -0.8756335115452012,
          -0.5141589243246582,
          -0.34764364588050745,
          0.44145008058227136,
          -0.31539811267161544,
          -0.6370741888817835,
          -0.19493915236414852,
          -0.7735155602581518,
          0.3156325537205879,
          1.0556241456946518,
          1.0440701043581253,
          0.32877861478383197,
          0.3164185453548597,
          1.1615210253233557,
          0.04553512632354633,
          -0.2433147074464451,
          -0.3581664229481636,
          0.9437433574201339,
          1.1007774491822322,
          1.0107234027065128,
          0.9274899088166828,
          -0.7662581492563958,
          -0.7871634414585786,
          -0.5293459180136509,
          -0.6432404647199428,
          -0.581318473331517,
          -0.6916550585341287,
          -0.21108386707704713,
          0.04222803626490735,
          -0.6624768970250287,
          -0.36007697929215565,
          0.5369447952766742,
          0.9916844193676572,
          -0.5361063431814365,
          -0.5855287098767852,
          -0.4008160716345416,
          -0.7611554973033743,
          -0.6659259100919337,
          -0.802516056383197,
          0.04535682741649859,
          -0.28061484381918506,
          -0.6098813595061421,
          -0.8132859063928752,
          -0.1951940050040877,
          -0.33410450200889125,
          0.7126277842603084,
          0.16591497309967654,
          0.3509629701820568,
          1.0256786577294228,
          1.0272833710267137,
          0.9212705727252719,
          -0.71638376743169,
          -0.3934942048076385,
          -0.3503235301888743,
          -0.019981995927691884,
          0.06001570368658886
         ],
         "yaxis": "y"
        }
       ],
       "layout": {
        "coloraxis": {
         "colorbar": {
          "title": {
           "text": "cluster"
          }
         },
         "colorscale": [
          [
           0,
           "#0d0887"
          ],
          [
           0.1111111111111111,
           "#46039f"
          ],
          [
           0.2222222222222222,
           "#7201a8"
          ],
          [
           0.3333333333333333,
           "#9c179e"
          ],
          [
           0.4444444444444444,
           "#bd3786"
          ],
          [
           0.5555555555555556,
           "#d8576b"
          ],
          [
           0.6666666666666666,
           "#ed7953"
          ],
          [
           0.7777777777777778,
           "#fb9f3a"
          ],
          [
           0.8888888888888888,
           "#fdca26"
          ],
          [
           1,
           "#f0f921"
          ]
         ]
        },
        "legend": {
         "tracegroupgap": 0
        },
        "margin": {
         "t": 60
        },
        "template": {
         "data": {
          "bar": [
           {
            "error_x": {
             "color": "#2a3f5f"
            },
            "error_y": {
             "color": "#2a3f5f"
            },
            "marker": {
             "line": {
              "color": "#E5ECF6",
              "width": 0.5
             },
             "pattern": {
              "fillmode": "overlay",
              "size": 10,
              "solidity": 0.2
             }
            },
            "type": "bar"
           }
          ],
          "barpolar": [
           {
            "marker": {
             "line": {
              "color": "#E5ECF6",
              "width": 0.5
             },
             "pattern": {
              "fillmode": "overlay",
              "size": 10,
              "solidity": 0.2
             }
            },
            "type": "barpolar"
           }
          ],
          "carpet": [
           {
            "aaxis": {
             "endlinecolor": "#2a3f5f",
             "gridcolor": "white",
             "linecolor": "white",
             "minorgridcolor": "white",
             "startlinecolor": "#2a3f5f"
            },
            "baxis": {
             "endlinecolor": "#2a3f5f",
             "gridcolor": "white",
             "linecolor": "white",
             "minorgridcolor": "white",
             "startlinecolor": "#2a3f5f"
            },
            "type": "carpet"
           }
          ],
          "choropleth": [
           {
            "colorbar": {
             "outlinewidth": 0,
             "ticks": ""
            },
            "type": "choropleth"
           }
          ],
          "contour": [
           {
            "colorbar": {
             "outlinewidth": 0,
             "ticks": ""
            },
            "colorscale": [
             [
              0,
              "#0d0887"
             ],
             [
              0.1111111111111111,
              "#46039f"
             ],
             [
              0.2222222222222222,
              "#7201a8"
             ],
             [
              0.3333333333333333,
              "#9c179e"
             ],
             [
              0.4444444444444444,
              "#bd3786"
             ],
             [
              0.5555555555555556,
              "#d8576b"
             ],
             [
              0.6666666666666666,
              "#ed7953"
             ],
             [
              0.7777777777777778,
              "#fb9f3a"
             ],
             [
              0.8888888888888888,
              "#fdca26"
             ],
             [
              1,
              "#f0f921"
             ]
            ],
            "type": "contour"
           }
          ],
          "contourcarpet": [
           {
            "colorbar": {
             "outlinewidth": 0,
             "ticks": ""
            },
            "type": "contourcarpet"
           }
          ],
          "heatmap": [
           {
            "colorbar": {
             "outlinewidth": 0,
             "ticks": ""
            },
            "colorscale": [
             [
              0,
              "#0d0887"
             ],
             [
              0.1111111111111111,
              "#46039f"
             ],
             [
              0.2222222222222222,
              "#7201a8"
             ],
             [
              0.3333333333333333,
              "#9c179e"
             ],
             [
              0.4444444444444444,
              "#bd3786"
             ],
             [
              0.5555555555555556,
              "#d8576b"
             ],
             [
              0.6666666666666666,
              "#ed7953"
             ],
             [
              0.7777777777777778,
              "#fb9f3a"
             ],
             [
              0.8888888888888888,
              "#fdca26"
             ],
             [
              1,
              "#f0f921"
             ]
            ],
            "type": "heatmap"
           }
          ],
          "heatmapgl": [
           {
            "colorbar": {
             "outlinewidth": 0,
             "ticks": ""
            },
            "colorscale": [
             [
              0,
              "#0d0887"
             ],
             [
              0.1111111111111111,
              "#46039f"
             ],
             [
              0.2222222222222222,
              "#7201a8"
             ],
             [
              0.3333333333333333,
              "#9c179e"
             ],
             [
              0.4444444444444444,
              "#bd3786"
             ],
             [
              0.5555555555555556,
              "#d8576b"
             ],
             [
              0.6666666666666666,
              "#ed7953"
             ],
             [
              0.7777777777777778,
              "#fb9f3a"
             ],
             [
              0.8888888888888888,
              "#fdca26"
             ],
             [
              1,
              "#f0f921"
             ]
            ],
            "type": "heatmapgl"
           }
          ],
          "histogram": [
           {
            "marker": {
             "pattern": {
              "fillmode": "overlay",
              "size": 10,
              "solidity": 0.2
             }
            },
            "type": "histogram"
           }
          ],
          "histogram2d": [
           {
            "colorbar": {
             "outlinewidth": 0,
             "ticks": ""
            },
            "colorscale": [
             [
              0,
              "#0d0887"
             ],
             [
              0.1111111111111111,
              "#46039f"
             ],
             [
              0.2222222222222222,
              "#7201a8"
             ],
             [
              0.3333333333333333,
              "#9c179e"
             ],
             [
              0.4444444444444444,
              "#bd3786"
             ],
             [
              0.5555555555555556,
              "#d8576b"
             ],
             [
              0.6666666666666666,
              "#ed7953"
             ],
             [
              0.7777777777777778,
              "#fb9f3a"
             ],
             [
              0.8888888888888888,
              "#fdca26"
             ],
             [
              1,
              "#f0f921"
             ]
            ],
            "type": "histogram2d"
           }
          ],
          "histogram2dcontour": [
           {
            "colorbar": {
             "outlinewidth": 0,
             "ticks": ""
            },
            "colorscale": [
             [
              0,
              "#0d0887"
             ],
             [
              0.1111111111111111,
              "#46039f"
             ],
             [
              0.2222222222222222,
              "#7201a8"
             ],
             [
              0.3333333333333333,
              "#9c179e"
             ],
             [
              0.4444444444444444,
              "#bd3786"
             ],
             [
              0.5555555555555556,
              "#d8576b"
             ],
             [
              0.6666666666666666,
              "#ed7953"
             ],
             [
              0.7777777777777778,
              "#fb9f3a"
             ],
             [
              0.8888888888888888,
              "#fdca26"
             ],
             [
              1,
              "#f0f921"
             ]
            ],
            "type": "histogram2dcontour"
           }
          ],
          "mesh3d": [
           {
            "colorbar": {
             "outlinewidth": 0,
             "ticks": ""
            },
            "type": "mesh3d"
           }
          ],
          "parcoords": [
           {
            "line": {
             "colorbar": {
              "outlinewidth": 0,
              "ticks": ""
             }
            },
            "type": "parcoords"
           }
          ],
          "pie": [
           {
            "automargin": true,
            "type": "pie"
           }
          ],
          "scatter": [
           {
            "fillpattern": {
             "fillmode": "overlay",
             "size": 10,
             "solidity": 0.2
            },
            "type": "scatter"
           }
          ],
          "scatter3d": [
           {
            "line": {
             "colorbar": {
              "outlinewidth": 0,
              "ticks": ""
             }
            },
            "marker": {
             "colorbar": {
              "outlinewidth": 0,
              "ticks": ""
             }
            },
            "type": "scatter3d"
           }
          ],
          "scattercarpet": [
           {
            "marker": {
             "colorbar": {
              "outlinewidth": 0,
              "ticks": ""
             }
            },
            "type": "scattercarpet"
           }
          ],
          "scattergeo": [
           {
            "marker": {
             "colorbar": {
              "outlinewidth": 0,
              "ticks": ""
             }
            },
            "type": "scattergeo"
           }
          ],
          "scattergl": [
           {
            "marker": {
             "colorbar": {
              "outlinewidth": 0,
              "ticks": ""
             }
            },
            "type": "scattergl"
           }
          ],
          "scattermapbox": [
           {
            "marker": {
             "colorbar": {
              "outlinewidth": 0,
              "ticks": ""
             }
            },
            "type": "scattermapbox"
           }
          ],
          "scatterpolar": [
           {
            "marker": {
             "colorbar": {
              "outlinewidth": 0,
              "ticks": ""
             }
            },
            "type": "scatterpolar"
           }
          ],
          "scatterpolargl": [
           {
            "marker": {
             "colorbar": {
              "outlinewidth": 0,
              "ticks": ""
             }
            },
            "type": "scatterpolargl"
           }
          ],
          "scatterternary": [
           {
            "marker": {
             "colorbar": {
              "outlinewidth": 0,
              "ticks": ""
             }
            },
            "type": "scatterternary"
           }
          ],
          "surface": [
           {
            "colorbar": {
             "outlinewidth": 0,
             "ticks": ""
            },
            "colorscale": [
             [
              0,
              "#0d0887"
             ],
             [
              0.1111111111111111,
              "#46039f"
             ],
             [
              0.2222222222222222,
              "#7201a8"
             ],
             [
              0.3333333333333333,
              "#9c179e"
             ],
             [
              0.4444444444444444,
              "#bd3786"
             ],
             [
              0.5555555555555556,
              "#d8576b"
             ],
             [
              0.6666666666666666,
              "#ed7953"
             ],
             [
              0.7777777777777778,
              "#fb9f3a"
             ],
             [
              0.8888888888888888,
              "#fdca26"
             ],
             [
              1,
              "#f0f921"
             ]
            ],
            "type": "surface"
           }
          ],
          "table": [
           {
            "cells": {
             "fill": {
              "color": "#EBF0F8"
             },
             "line": {
              "color": "white"
             }
            },
            "header": {
             "fill": {
              "color": "#C8D4E3"
             },
             "line": {
              "color": "white"
             }
            },
            "type": "table"
           }
          ]
         },
         "layout": {
          "annotationdefaults": {
           "arrowcolor": "#2a3f5f",
           "arrowhead": 0,
           "arrowwidth": 1
          },
          "autotypenumbers": "strict",
          "coloraxis": {
           "colorbar": {
            "outlinewidth": 0,
            "ticks": ""
           }
          },
          "colorscale": {
           "diverging": [
            [
             0,
             "#8e0152"
            ],
            [
             0.1,
             "#c51b7d"
            ],
            [
             0.2,
             "#de77ae"
            ],
            [
             0.3,
             "#f1b6da"
            ],
            [
             0.4,
             "#fde0ef"
            ],
            [
             0.5,
             "#f7f7f7"
            ],
            [
             0.6,
             "#e6f5d0"
            ],
            [
             0.7,
             "#b8e186"
            ],
            [
             0.8,
             "#7fbc41"
            ],
            [
             0.9,
             "#4d9221"
            ],
            [
             1,
             "#276419"
            ]
           ],
           "sequential": [
            [
             0,
             "#0d0887"
            ],
            [
             0.1111111111111111,
             "#46039f"
            ],
            [
             0.2222222222222222,
             "#7201a8"
            ],
            [
             0.3333333333333333,
             "#9c179e"
            ],
            [
             0.4444444444444444,
             "#bd3786"
            ],
            [
             0.5555555555555556,
             "#d8576b"
            ],
            [
             0.6666666666666666,
             "#ed7953"
            ],
            [
             0.7777777777777778,
             "#fb9f3a"
            ],
            [
             0.8888888888888888,
             "#fdca26"
            ],
            [
             1,
             "#f0f921"
            ]
           ],
           "sequentialminus": [
            [
             0,
             "#0d0887"
            ],
            [
             0.1111111111111111,
             "#46039f"
            ],
            [
             0.2222222222222222,
             "#7201a8"
            ],
            [
             0.3333333333333333,
             "#9c179e"
            ],
            [
             0.4444444444444444,
             "#bd3786"
            ],
            [
             0.5555555555555556,
             "#d8576b"
            ],
            [
             0.6666666666666666,
             "#ed7953"
            ],
            [
             0.7777777777777778,
             "#fb9f3a"
            ],
            [
             0.8888888888888888,
             "#fdca26"
            ],
            [
             1,
             "#f0f921"
            ]
           ]
          },
          "colorway": [
           "#636efa",
           "#EF553B",
           "#00cc96",
           "#ab63fa",
           "#FFA15A",
           "#19d3f3",
           "#FF6692",
           "#B6E880",
           "#FF97FF",
           "#FECB52"
          ],
          "font": {
           "color": "#2a3f5f"
          },
          "geo": {
           "bgcolor": "white",
           "lakecolor": "white",
           "landcolor": "#E5ECF6",
           "showlakes": true,
           "showland": true,
           "subunitcolor": "white"
          },
          "hoverlabel": {
           "align": "left"
          },
          "hovermode": "closest",
          "mapbox": {
           "style": "light"
          },
          "paper_bgcolor": "white",
          "plot_bgcolor": "#E5ECF6",
          "polar": {
           "angularaxis": {
            "gridcolor": "white",
            "linecolor": "white",
            "ticks": ""
           },
           "bgcolor": "#E5ECF6",
           "radialaxis": {
            "gridcolor": "white",
            "linecolor": "white",
            "ticks": ""
           }
          },
          "scene": {
           "xaxis": {
            "backgroundcolor": "#E5ECF6",
            "gridcolor": "white",
            "gridwidth": 2,
            "linecolor": "white",
            "showbackground": true,
            "ticks": "",
            "zerolinecolor": "white"
           },
           "yaxis": {
            "backgroundcolor": "#E5ECF6",
            "gridcolor": "white",
            "gridwidth": 2,
            "linecolor": "white",
            "showbackground": true,
            "ticks": "",
            "zerolinecolor": "white"
           },
           "zaxis": {
            "backgroundcolor": "#E5ECF6",
            "gridcolor": "white",
            "gridwidth": 2,
            "linecolor": "white",
            "showbackground": true,
            "ticks": "",
            "zerolinecolor": "white"
           }
          },
          "shapedefaults": {
           "line": {
            "color": "#2a3f5f"
           }
          },
          "ternary": {
           "aaxis": {
            "gridcolor": "white",
            "linecolor": "white",
            "ticks": ""
           },
           "baxis": {
            "gridcolor": "white",
            "linecolor": "white",
            "ticks": ""
           },
           "bgcolor": "#E5ECF6",
           "caxis": {
            "gridcolor": "white",
            "linecolor": "white",
            "ticks": ""
           }
          },
          "title": {
           "x": 0.05
          },
          "xaxis": {
           "automargin": true,
           "gridcolor": "white",
           "linecolor": "white",
           "ticks": "",
           "title": {
            "standoff": 15
           },
           "zerolinecolor": "white",
           "zerolinewidth": 2
          },
          "yaxis": {
           "automargin": true,
           "gridcolor": "white",
           "linecolor": "white",
           "ticks": "",
           "title": {
            "standoff": 15
           },
           "zerolinecolor": "white",
           "zerolinewidth": 2
          }
         }
        },
        "xaxis": {
         "anchor": "y",
         "domain": [
          0,
          1
         ],
         "title": {
          "text": "PC1"
         }
        },
        "yaxis": {
         "anchor": "x",
         "domain": [
          0,
          1
         ],
         "title": {
          "text": "PC2"
         }
        }
       }
      }
     },
     "metadata": {},
     "output_type": "display_data"
    },
    {
     "name": "stdout",
     "output_type": "stream",
     "text": [
      "eps:0.5\n",
      "min:5\n",
      "6\n"
     ]
    },
    {
     "data": {
      "application/vnd.plotly.v1+json": {
       "config": {
        "plotlyServerURL": "https://plot.ly"
       },
       "data": [
        {
         "hovertemplate": "PC1=%{x}<br>PC2=%{y}<br>cluster=%{marker.color}<extra></extra>",
         "legendgroup": "",
         "marker": {
          "color": [
           0,
           0,
           0,
           0,
           0,
           -1,
           -1,
           0,
           1,
           3,
           0,
           0,
           0,
           1,
           1,
           1,
           -1,
           1,
           1,
           1,
           1,
           2,
           0,
           1,
           0,
           1,
           0,
           0,
           0,
           0,
           1,
           0,
           1,
           0,
           -1,
           0,
           0,
           0,
           0,
           0,
           0,
           3,
           0,
           1,
           1,
           0,
           4,
           -1,
           -1,
           -1,
           0,
           0,
           0,
           -1,
           2,
           -1,
           0,
           0,
           -1,
           2,
           -1,
           2,
           -1,
           -1,
           2,
           2,
           2,
           0,
           -1,
           2,
           2,
           -1,
           1,
           0,
           0,
           0,
           0,
           0,
           0,
           -1,
           0,
           0,
           0,
           -1,
           2,
           0,
           2,
           2,
           2,
           2,
           -1,
           0,
           0,
           2,
           0,
           -1,
           -1,
           2,
           0,
           4,
           -1,
           -1,
           -1,
           -1,
           -1,
           -1,
           -1,
           2,
           2,
           2,
           -1,
           2,
           2,
           2,
           2,
           2,
           2,
           2,
           2,
           2,
           2,
           -1,
           2,
           -1,
           2,
           2,
           2,
           2,
           2,
           2,
           2,
           -1,
           -1,
           0,
           1,
           4,
           0,
           0,
           -1,
           4,
           0,
           -1,
           0,
           2,
           0,
           0,
           -1,
           1,
           0,
           0,
           0,
           -1,
           -1,
           -1,
           -1,
           0,
           -1,
           0,
           0,
           -1,
           -1,
           0,
           0,
           0,
           3,
           0,
           0,
           0,
           0,
           0,
           0,
           0,
           0,
           4,
           0,
           0,
           0,
           0,
           0,
           0,
           -1,
           0,
           0,
           -1,
           -1,
           0,
           2,
           0,
           0,
           -1,
           0,
           0,
           0,
           0,
           0,
           -1,
           4,
           0,
           0,
           0,
           0,
           0,
           0,
           0,
           0,
           0,
           0,
           0,
           0,
           0,
           0,
           0,
           0,
           0,
           0,
           0,
           0,
           0,
           0,
           0,
           0,
           2,
           -1,
           -1,
           0,
           0,
           0,
           0,
           0,
           0,
           0,
           0,
           0,
           0,
           0,
           0,
           0,
           0,
           0,
           0,
           0,
           0,
           0,
           0,
           0,
           0,
           0,
           2,
           2,
           2,
           2,
           0,
           0,
           0,
           0,
           0,
           0,
           0,
           0,
           -1,
           -1,
           0,
           0,
           -1,
           -1,
           0,
           0,
           1,
           1,
           1,
           1,
           2,
           -1,
           2,
           2,
           2,
           2,
           4,
           0,
           2,
           -1,
           2,
           -1,
           -1,
           0,
           0,
           0,
           0,
           0,
           0,
           0,
           0,
           0,
           0,
           0,
           -1,
           0,
           0,
           3,
           1,
           -1,
           2,
           0,
           0,
           -1,
           0
          ],
          "coloraxis": "coloraxis",
          "symbol": "circle"
         },
         "mode": "markers",
         "name": "",
         "orientation": "v",
         "showlegend": false,
         "type": "scatter",
         "x": [
          -0.3508186445814046,
          -0.5639310289142907,
          -0.5876614889048775,
          -0.5823377224391548,
          -0.5607934377831532,
          0.4195720316235605,
          0.4072448737758711,
          -0.4113530731621215,
          -0.00399273331831062,
          -0.1852422563817428,
          -0.44739994890418283,
          -0.17321034471097554,
          -0.9863859016696982,
          0.363681409013939,
          0.5332508277656569,
          0.4280966465773618,
          1.0588501758287197,
          0.025247980120545525,
          0.23810740264577307,
          0.6865351171763053,
          0.2581063436168159,
          0.3715708207646612,
          -0.4131797356835435,
          -0.04785829771362803,
          -0.9827684239122897,
          0.3681831670016599,
          -0.2935365288623707,
          -1.1909481439518261,
          -1.1528255253136725,
          -0.7069147217330235,
          0.40055109920872667,
          0.00803215716421511,
          0.14911199452136348,
          -0.16737103147821697,
          0.760616799924241,
          -0.23008068388502226,
          -0.7678298340451299,
          -0.540115638809465,
          -0.6308503154771031,
          -0.8514860460990357,
          -0.6867705734521476,
          -0.2078070316297446,
          -0.7308828712104986,
          0.5838622089680124,
          0.23092709056774202,
          -0.25715838997259816,
          0.5912142380882366,
          0.45038843768797976,
          0.7458086225076698,
          0.6665341479810564,
          -0.3559651445471211,
          0.14544245797935162,
          0.16923801231755534,
          0.28649183156012964,
          0.49776358997416936,
          1.0061507020713225,
          -0.00044711259362545716,
          0.28586827885250043,
          0.25658402880596615,
          1.2550220032228516,
          0.12286107335774328,
          1.485896209569183,
          1.141757343619969,
          1.083056179238525,
          1.2308187941802846,
          1.398828328888598,
          1.3054235587132532,
          -0.6767646613072369,
          0.6750460519396514,
          1.370581465278255,
          1.2018852316157136,
          -0.2580847111797142,
          -0.011498460508768802,
          -0.8370263340387589,
          -0.6363564838589613,
          -0.42919282404945464,
          -1.1039702224687824,
          -0.1088711356058151,
          -0.4596040070615721,
          0.1418478816660463,
          0.21957884447651801,
          0.3554794976193818,
          -0.8742386278118172,
          -0.2746466637092127,
          1.1054992040219718,
          -1.2632478611888398,
          1.5367762704079522,
          2.0068280117827495,
          0.850062335137054,
          0.33944496228293397,
          0.19249504445578958,
          -1.3581558798511084,
          0.2434247873301313,
          0.5263964218229623,
          -0.4868238715600447,
          1.1886039499169794,
          1.312567480095893,
          1.5798144290432872,
          0.09562530830559078,
          0.10113773211496412,
          2.033076972324046,
          0.8053821545180139,
          0.637502907215228,
          1.0203277391689545,
          1.1081509796409459,
          1.2746332749915992,
          1.0753569684035553,
          1.7049819492724492,
          1.6587035438150557,
          1.7295177415265623,
          0.5214983885075135,
          1.3702205937067362,
          1.518749873805489,
          2.1729248712419267,
          2.5854778650398846,
          2.411180428395736,
          2.1166243572495915,
          2.0214316278135502,
          1.8271443317174267,
          1.7146476778873738,
          2.0310988554007685,
          2.2173494244528684,
          2.184350145824153,
          1.5947485452960408,
          1.0679977016528681,
          0.8413104680994339,
          1.9202053051499042,
          1.8312001793279702,
          2.0139938593698643,
          1.3205121461089913,
          0.8282043651674835,
          1.2256783451926239,
          1.3358151046978437,
          -0.9688877415976315,
          0.26608200929683606,
          0.4664951006725747,
          -0.0563240048251054,
          -0.0559120157718613,
          1.1399716405498577,
          0.5358927796322845,
          0.018958766203575374,
          -0.24741988762852457,
          -0.5776044130063319,
          0.6475878617948905,
          -0.9100792974452094,
          0.49081208825788125,
          0.3298476395279003,
          -0.007475294677475479,
          -0.489846855978679,
          -0.8491853143573168,
          -0.7011129372532078,
          -0.05347780212672248,
          -0.0011183823042832202,
          -0.5655651342350086,
          -0.6620259718207827,
          -0.9227863531495146,
          -0.6622952480314663,
          -0.4782287610370813,
          -0.5932215055392788,
          0.12014236348877132,
          0.6903330209670598,
          -0.8426881627710046,
          -0.6917978730477802,
          -0.6781299724263031,
          0.1602732904474833,
          -0.6133650035392196,
          -0.6949704672974494,
          -0.9075944177318687,
          -0.8786928400558157,
          -0.9058658749968183,
          -0.31613938719436746,
          -1.4063256915973272,
          -1.3803818930202079,
          0.2625615034769143,
          -0.8470754546783491,
          -1.1030175239198672,
          -1.2002009601984962,
          -1.1015107582333754,
          -0.25448883335801076,
          -1.3268121966813606,
          0.21320098873326973,
          -0.6498069261405497,
          -0.9346574497489317,
          -0.23027783265072188,
          -0.5611158720424748,
          -0.6718621245174528,
          0.9811493906055307,
          -0.8636997616209908,
          -0.6227009894166133,
          0.26969388609522693,
          -1.2974700268568877,
          -0.7689427359366564,
          -1.1308155565904985,
          -1.1858237917313565,
          -1.1576084927470962,
          0.12712467464253588,
          0.6706059789697033,
          -0.3921416370294183,
          -0.11598044718702563,
          -0.23151664766119667,
          -0.7816102873703236,
          -0.7653708834373745,
          -0.5609480660210393,
          -1.2245683886515315,
          -1.2528323446207357,
          -0.04827769016556094,
          -0.620381709756415,
          -1.3179427171238245,
          -1.020448678856538,
          -1.122767828461264,
          -1.295461906008073,
          -0.2150777897030298,
          -1.0690715515230613,
          -0.6521075215103971,
          -0.7687037917119958,
          -1.1341499985115364,
          -1.206294094750507,
          -1.1419834961733435,
          0.15924292373346194,
          -1.0338737764714179,
          -0.9671029081402572,
          0.7301776776959528,
          0.22630807645404594,
          -0.03217868737816261,
          -0.8246874406681577,
          -0.0665121498396239,
          -0.525452729661283,
          -1.163670997184323,
          -1.0990419409084324,
          -0.871028416180363,
          -0.9839363695459624,
          -0.7071642819921274,
          -0.9649538646384597,
          -0.07938786382715807,
          -0.6511732443827587,
          -1.0495691285147353,
          -1.216907719249716,
          -1.0202686457871843,
          -1.245096243526878,
          -0.8051863963938097,
          -1.4079974175266863,
          -1.238577998585358,
          -1.1597420643057776,
          -0.49885995427398205,
          -1.2294098096570147,
          -1.3473762262692497,
          -0.9893474027848611,
          1.324644655674268,
          2.236559940687958,
          2.300220738929092,
          2.5447691037266145,
          -1.3290802025585322,
          -1.0339295771544759,
          -0.3646263998858898,
          -0.9210480898797002,
          -1.0528999459414,
          -0.7465386837494035,
          -1.3310648253509125,
          -0.15504914093148417,
          -0.17437782760361567,
          -0.2603429111629848,
          -0.8277771276090602,
          -0.5418252456462207,
          0.6086703948875171,
          -0.5988433486407282,
          -0.9028097234226942,
          -0.9592914666868012,
          0.22142476650741127,
          0.7932088658321987,
          0.5636494338661097,
          0.41197956731334534,
          1.826830708628797,
          0.31242812323741953,
          1.902649433624108,
          1.620881829702091,
          1.2518535611471007,
          2.144068931719886,
          0.43127983098330536,
          -0.326669105779434,
          1.1600755290161804,
          0.6320233562856604,
          0.7899229468245065,
          0.21091418080767607,
          0.7684640830904039,
          -1.2050179821235905,
          -1.003315446220766,
          -1.300336769491636,
          -1.2169871538010222,
          -1.4762498697303896,
          0.2818455182041284,
          -0.9236872137307428,
          -1.2034142443186877,
          -1.3539329811844136,
          -0.5113520614681136,
          -0.8684685964407897,
          -0.6600211472717245,
          0.02387224500841111,
          -0.10249542394847518,
          -0.5073132666040002,
          0.5206042476056767,
          0.15663991940049013,
          1.9189992338794515,
          -0.5326400765665911,
          -0.8536336765878905,
          0.23333215288286902,
          -0.6440736946026615
         ],
         "xaxis": "x",
         "y": [
          0.7099961857978953,
          0.42702553658784737,
          0.32532461799333984,
          -0.30751240895039944,
          -0.13734036816883838,
          0.31128851737849844,
          0.729962167893389,
          -0.0005735189402775898,
          0.8184393245280276,
          1.117196888341552,
          0.6623167014430784,
          0.5818759175510941,
          -0.5755506430210526,
          0.7595512721812351,
          1.0919717029401952,
          0.9287727424286327,
          0.647167399836963,
          1.1481584414274244,
          1.0538483156137948,
          1.068173947937826,
          0.8958960717525997,
          0.5678691445652688,
          0.4174137788963033,
          0.7527314614167181,
          -0.32417865836517257,
          1.2685351012786688,
          1.1329563580483628,
          -0.6309878142198015,
          -0.5784391528625124,
          -0.04627264220648031,
          1.0451683016282647,
          0.6363022232065211,
          0.6090535964371065,
          0.3389705573491687,
          -0.07876016749848436,
          -0.005161321019689319,
          -0.16245932754008796,
          -0.015756191193797463,
          0.19443560793123194,
          -0.094922033919062,
          0.4528492287184965,
          1.1992796693159886,
          0.28812500403641145,
          1.3827214876209564,
          1.112825496480182,
          0.820319273071483,
          -0.19017580106885862,
          -0.07244448877381379,
          0.4750518811453017,
          -0.6854025144338283,
          0.20702474930218934,
          0.1518140456897288,
          -0.05401545573946639,
          0.15929102424296657,
          0.3937351519692185,
          1.014706623198994,
          0.6371969911009774,
          0.1750033851741816,
          -0.6006650204085802,
          -0.0792124573390606,
          1.512070916552906,
          -0.6427866590478051,
          -0.03307075643171754,
          0.5274321350929281,
          -0.45485297270854297,
          -0.5564822170596899,
          -0.6115030808876163,
          -0.30479187981488526,
          -0.3098013915666279,
          -0.4457154428997717,
          -0.698679628353853,
          0.6013513192758371,
          1.0639967642006818,
          0.23703389905433955,
          0.6299565866915858,
          0.8345022141548945,
          -0.4323407360986679,
          -0.36112213785851976,
          0.5276588766709592,
          -0.07191032684639224,
          0.4567759882447646,
          -0.24191454883831306,
          0.1428429389318786,
          0.39866159386906896,
          0.029551102791049888,
          -0.6860368415335261,
          -0.2269403331648695,
          -0.5324958691880598,
          0.41247460087419985,
          0.6397017321322944,
          0.7167548034897423,
          -0.7968509799301254,
          0.4579173464816717,
          0.6929268513292324,
          0.3027252421361952,
          -0.5018055971078058,
          -0.9262446362631672,
          -0.7089125244246054,
          -0.09250520902190804,
          -0.24347082832148273,
          -0.5011749815040876,
          0.2769417524742287,
          0.6594733357560907,
          0.1464652696809386,
          0.17980367632117927,
          0.2876728571762101,
          0.24207094960578387,
          -0.47685645775978125,
          -0.4641342832744238,
          -0.6242657785803362,
          -0.35839496694913836,
          -0.6697201639582336,
          -0.5934551819218801,
          -0.6776601586832687,
          -0.772206603265197,
          -0.8256034226699906,
          -0.6034916443139994,
          -0.6959188228222942,
          -0.6506881292737736,
          -0.730610566802647,
          -0.7118028645644151,
          -0.5537360443743592,
          -0.7516917933008144,
          -1.0413224864771373,
          -0.2888912128532489,
          0.16165561715961727,
          -0.6301647136546636,
          -0.5457559028477338,
          -0.7375472316736065,
          -0.30382668918844896,
          0.14392662023758906,
          0.4029023478736755,
          0.11923488393747818,
          -0.3931448013405179,
          0.47116303960960504,
          -0.3057199867825617,
          0.19033436901269668,
          0.3672353828015206,
          -0.11915816433922534,
          -0.22949644038607933,
          0.0005381922934969265,
          0.4014541076202302,
          0.011226333971447174,
          0.15316753403502015,
          -0.17839685429915678,
          0.1162964727268741,
          0.6132218639995656,
          0.7440426957254411,
          0.5514812675631249,
          0.2558900153292978,
          -0.41263591264996197,
          -0.24829956261552585,
          -0.08343938247417602,
          -0.20777470378370455,
          -0.24080633807485974,
          -0.3134496109536108,
          0.26608327441236906,
          -0.029058638683316398,
          0.0671953806310761,
          0.7504319775030304,
          1.1239966883690784,
          -0.45781463258792676,
          0.34873035447720835,
          0.8756141158887747,
          0.9258608099918605,
          0.4841868261378967,
          0.7141823455552794,
          -0.03732354018898182,
          0.28878723343162016,
          0.15719818315722064,
          0.7973884178965798,
          -0.7660432689583268,
          -0.84400657794849,
          -0.45947960809374516,
          -0.3345165522557174,
          -0.6649776248286672,
          -0.6363778850046428,
          -0.5993592194355751,
          -0.18919715662760342,
          -0.7691383038182813,
          0.04053435533132516,
          0.21657270370862602,
          -0.014942354878290992,
          0.9030285565753604,
          -0.4266317392588027,
          0.15182338797892395,
          -0.19851912578326078,
          0.054602340636070716,
          0.4071145704787819,
          0.4220990016103621,
          -0.7460484006509379,
          -0.37416817643363576,
          -0.6372097375723659,
          -0.5063493452642951,
          -0.09239144822483929,
          0.8850748108824067,
          -0.3774211773239248,
          0.11439303192748623,
          0.21840717600576146,
          0.41308681848561374,
          -0.156487389434147,
          -0.21246162342132058,
          0.35967154146760516,
          -0.6280362618690645,
          -0.6751485839668573,
          0.4564923562030079,
          0.46341219854131854,
          -0.6255699562303365,
          -0.14648385725392216,
          -0.529967500091482,
          -0.7969822771052225,
          0.2212198399904749,
          -0.35734431874142725,
          -0.490786380395956,
          -0.31872916446986554,
          -0.6918558834102606,
          -0.7082270021088811,
          -0.7238134790639272,
          0.12244694049215733,
          -0.3995158569063484,
          -0.5271808752106215,
          0.6167487204970656,
          1.3015349678754837,
          1.3070266362899396,
          -0.11326696955333448,
          0.03762840489926836,
          0.4637935227601997,
          -0.3581647071056107,
          -0.7534000614183912,
          -0.32871859328507014,
          -0.2747903697084202,
          -0.1782478319197431,
          -0.5058423435176054,
          0.28564173412763133,
          0.22065552600422933,
          -0.6473159610252815,
          -0.6069361767018229,
          -0.6298085539721407,
          -0.7732732549216,
          -0.4923166757282111,
          -0.6975829899400697,
          -0.7388955697842149,
          -0.43264234556453635,
          0.09749775065327997,
          -0.6339343049928898,
          -0.6640631227213608,
          -0.2201238450942663,
          -0.7406821537471711,
          -0.6143040266580025,
          -0.5698169156217819,
          -0.8756335115452012,
          -0.5141589243246582,
          -0.34764364588050745,
          0.44145008058227136,
          -0.31539811267161544,
          -0.6370741888817835,
          -0.19493915236414852,
          -0.7735155602581518,
          0.3156325537205879,
          1.0556241456946518,
          1.0440701043581253,
          0.32877861478383197,
          0.3164185453548597,
          1.1615210253233557,
          0.04553512632354633,
          -0.2433147074464451,
          -0.3581664229481636,
          0.9437433574201339,
          1.1007774491822322,
          1.0107234027065128,
          0.9274899088166828,
          -0.7662581492563958,
          -0.7871634414585786,
          -0.5293459180136509,
          -0.6432404647199428,
          -0.581318473331517,
          -0.6916550585341287,
          -0.21108386707704713,
          0.04222803626490735,
          -0.6624768970250287,
          -0.36007697929215565,
          0.5369447952766742,
          0.9916844193676572,
          -0.5361063431814365,
          -0.5855287098767852,
          -0.4008160716345416,
          -0.7611554973033743,
          -0.6659259100919337,
          -0.802516056383197,
          0.04535682741649859,
          -0.28061484381918506,
          -0.6098813595061421,
          -0.8132859063928752,
          -0.1951940050040877,
          -0.33410450200889125,
          0.7126277842603084,
          0.16591497309967654,
          0.3509629701820568,
          1.0256786577294228,
          1.0272833710267137,
          0.9212705727252719,
          -0.71638376743169,
          -0.3934942048076385,
          -0.3503235301888743,
          -0.019981995927691884,
          0.06001570368658886
         ],
         "yaxis": "y"
        }
       ],
       "layout": {
        "coloraxis": {
         "colorbar": {
          "title": {
           "text": "cluster"
          }
         },
         "colorscale": [
          [
           0,
           "#0d0887"
          ],
          [
           0.1111111111111111,
           "#46039f"
          ],
          [
           0.2222222222222222,
           "#7201a8"
          ],
          [
           0.3333333333333333,
           "#9c179e"
          ],
          [
           0.4444444444444444,
           "#bd3786"
          ],
          [
           0.5555555555555556,
           "#d8576b"
          ],
          [
           0.6666666666666666,
           "#ed7953"
          ],
          [
           0.7777777777777778,
           "#fb9f3a"
          ],
          [
           0.8888888888888888,
           "#fdca26"
          ],
          [
           1,
           "#f0f921"
          ]
         ]
        },
        "legend": {
         "tracegroupgap": 0
        },
        "margin": {
         "t": 60
        },
        "template": {
         "data": {
          "bar": [
           {
            "error_x": {
             "color": "#2a3f5f"
            },
            "error_y": {
             "color": "#2a3f5f"
            },
            "marker": {
             "line": {
              "color": "#E5ECF6",
              "width": 0.5
             },
             "pattern": {
              "fillmode": "overlay",
              "size": 10,
              "solidity": 0.2
             }
            },
            "type": "bar"
           }
          ],
          "barpolar": [
           {
            "marker": {
             "line": {
              "color": "#E5ECF6",
              "width": 0.5
             },
             "pattern": {
              "fillmode": "overlay",
              "size": 10,
              "solidity": 0.2
             }
            },
            "type": "barpolar"
           }
          ],
          "carpet": [
           {
            "aaxis": {
             "endlinecolor": "#2a3f5f",
             "gridcolor": "white",
             "linecolor": "white",
             "minorgridcolor": "white",
             "startlinecolor": "#2a3f5f"
            },
            "baxis": {
             "endlinecolor": "#2a3f5f",
             "gridcolor": "white",
             "linecolor": "white",
             "minorgridcolor": "white",
             "startlinecolor": "#2a3f5f"
            },
            "type": "carpet"
           }
          ],
          "choropleth": [
           {
            "colorbar": {
             "outlinewidth": 0,
             "ticks": ""
            },
            "type": "choropleth"
           }
          ],
          "contour": [
           {
            "colorbar": {
             "outlinewidth": 0,
             "ticks": ""
            },
            "colorscale": [
             [
              0,
              "#0d0887"
             ],
             [
              0.1111111111111111,
              "#46039f"
             ],
             [
              0.2222222222222222,
              "#7201a8"
             ],
             [
              0.3333333333333333,
              "#9c179e"
             ],
             [
              0.4444444444444444,
              "#bd3786"
             ],
             [
              0.5555555555555556,
              "#d8576b"
             ],
             [
              0.6666666666666666,
              "#ed7953"
             ],
             [
              0.7777777777777778,
              "#fb9f3a"
             ],
             [
              0.8888888888888888,
              "#fdca26"
             ],
             [
              1,
              "#f0f921"
             ]
            ],
            "type": "contour"
           }
          ],
          "contourcarpet": [
           {
            "colorbar": {
             "outlinewidth": 0,
             "ticks": ""
            },
            "type": "contourcarpet"
           }
          ],
          "heatmap": [
           {
            "colorbar": {
             "outlinewidth": 0,
             "ticks": ""
            },
            "colorscale": [
             [
              0,
              "#0d0887"
             ],
             [
              0.1111111111111111,
              "#46039f"
             ],
             [
              0.2222222222222222,
              "#7201a8"
             ],
             [
              0.3333333333333333,
              "#9c179e"
             ],
             [
              0.4444444444444444,
              "#bd3786"
             ],
             [
              0.5555555555555556,
              "#d8576b"
             ],
             [
              0.6666666666666666,
              "#ed7953"
             ],
             [
              0.7777777777777778,
              "#fb9f3a"
             ],
             [
              0.8888888888888888,
              "#fdca26"
             ],
             [
              1,
              "#f0f921"
             ]
            ],
            "type": "heatmap"
           }
          ],
          "heatmapgl": [
           {
            "colorbar": {
             "outlinewidth": 0,
             "ticks": ""
            },
            "colorscale": [
             [
              0,
              "#0d0887"
             ],
             [
              0.1111111111111111,
              "#46039f"
             ],
             [
              0.2222222222222222,
              "#7201a8"
             ],
             [
              0.3333333333333333,
              "#9c179e"
             ],
             [
              0.4444444444444444,
              "#bd3786"
             ],
             [
              0.5555555555555556,
              "#d8576b"
             ],
             [
              0.6666666666666666,
              "#ed7953"
             ],
             [
              0.7777777777777778,
              "#fb9f3a"
             ],
             [
              0.8888888888888888,
              "#fdca26"
             ],
             [
              1,
              "#f0f921"
             ]
            ],
            "type": "heatmapgl"
           }
          ],
          "histogram": [
           {
            "marker": {
             "pattern": {
              "fillmode": "overlay",
              "size": 10,
              "solidity": 0.2
             }
            },
            "type": "histogram"
           }
          ],
          "histogram2d": [
           {
            "colorbar": {
             "outlinewidth": 0,
             "ticks": ""
            },
            "colorscale": [
             [
              0,
              "#0d0887"
             ],
             [
              0.1111111111111111,
              "#46039f"
             ],
             [
              0.2222222222222222,
              "#7201a8"
             ],
             [
              0.3333333333333333,
              "#9c179e"
             ],
             [
              0.4444444444444444,
              "#bd3786"
             ],
             [
              0.5555555555555556,
              "#d8576b"
             ],
             [
              0.6666666666666666,
              "#ed7953"
             ],
             [
              0.7777777777777778,
              "#fb9f3a"
             ],
             [
              0.8888888888888888,
              "#fdca26"
             ],
             [
              1,
              "#f0f921"
             ]
            ],
            "type": "histogram2d"
           }
          ],
          "histogram2dcontour": [
           {
            "colorbar": {
             "outlinewidth": 0,
             "ticks": ""
            },
            "colorscale": [
             [
              0,
              "#0d0887"
             ],
             [
              0.1111111111111111,
              "#46039f"
             ],
             [
              0.2222222222222222,
              "#7201a8"
             ],
             [
              0.3333333333333333,
              "#9c179e"
             ],
             [
              0.4444444444444444,
              "#bd3786"
             ],
             [
              0.5555555555555556,
              "#d8576b"
             ],
             [
              0.6666666666666666,
              "#ed7953"
             ],
             [
              0.7777777777777778,
              "#fb9f3a"
             ],
             [
              0.8888888888888888,
              "#fdca26"
             ],
             [
              1,
              "#f0f921"
             ]
            ],
            "type": "histogram2dcontour"
           }
          ],
          "mesh3d": [
           {
            "colorbar": {
             "outlinewidth": 0,
             "ticks": ""
            },
            "type": "mesh3d"
           }
          ],
          "parcoords": [
           {
            "line": {
             "colorbar": {
              "outlinewidth": 0,
              "ticks": ""
             }
            },
            "type": "parcoords"
           }
          ],
          "pie": [
           {
            "automargin": true,
            "type": "pie"
           }
          ],
          "scatter": [
           {
            "fillpattern": {
             "fillmode": "overlay",
             "size": 10,
             "solidity": 0.2
            },
            "type": "scatter"
           }
          ],
          "scatter3d": [
           {
            "line": {
             "colorbar": {
              "outlinewidth": 0,
              "ticks": ""
             }
            },
            "marker": {
             "colorbar": {
              "outlinewidth": 0,
              "ticks": ""
             }
            },
            "type": "scatter3d"
           }
          ],
          "scattercarpet": [
           {
            "marker": {
             "colorbar": {
              "outlinewidth": 0,
              "ticks": ""
             }
            },
            "type": "scattercarpet"
           }
          ],
          "scattergeo": [
           {
            "marker": {
             "colorbar": {
              "outlinewidth": 0,
              "ticks": ""
             }
            },
            "type": "scattergeo"
           }
          ],
          "scattergl": [
           {
            "marker": {
             "colorbar": {
              "outlinewidth": 0,
              "ticks": ""
             }
            },
            "type": "scattergl"
           }
          ],
          "scattermapbox": [
           {
            "marker": {
             "colorbar": {
              "outlinewidth": 0,
              "ticks": ""
             }
            },
            "type": "scattermapbox"
           }
          ],
          "scatterpolar": [
           {
            "marker": {
             "colorbar": {
              "outlinewidth": 0,
              "ticks": ""
             }
            },
            "type": "scatterpolar"
           }
          ],
          "scatterpolargl": [
           {
            "marker": {
             "colorbar": {
              "outlinewidth": 0,
              "ticks": ""
             }
            },
            "type": "scatterpolargl"
           }
          ],
          "scatterternary": [
           {
            "marker": {
             "colorbar": {
              "outlinewidth": 0,
              "ticks": ""
             }
            },
            "type": "scatterternary"
           }
          ],
          "surface": [
           {
            "colorbar": {
             "outlinewidth": 0,
             "ticks": ""
            },
            "colorscale": [
             [
              0,
              "#0d0887"
             ],
             [
              0.1111111111111111,
              "#46039f"
             ],
             [
              0.2222222222222222,
              "#7201a8"
             ],
             [
              0.3333333333333333,
              "#9c179e"
             ],
             [
              0.4444444444444444,
              "#bd3786"
             ],
             [
              0.5555555555555556,
              "#d8576b"
             ],
             [
              0.6666666666666666,
              "#ed7953"
             ],
             [
              0.7777777777777778,
              "#fb9f3a"
             ],
             [
              0.8888888888888888,
              "#fdca26"
             ],
             [
              1,
              "#f0f921"
             ]
            ],
            "type": "surface"
           }
          ],
          "table": [
           {
            "cells": {
             "fill": {
              "color": "#EBF0F8"
             },
             "line": {
              "color": "white"
             }
            },
            "header": {
             "fill": {
              "color": "#C8D4E3"
             },
             "line": {
              "color": "white"
             }
            },
            "type": "table"
           }
          ]
         },
         "layout": {
          "annotationdefaults": {
           "arrowcolor": "#2a3f5f",
           "arrowhead": 0,
           "arrowwidth": 1
          },
          "autotypenumbers": "strict",
          "coloraxis": {
           "colorbar": {
            "outlinewidth": 0,
            "ticks": ""
           }
          },
          "colorscale": {
           "diverging": [
            [
             0,
             "#8e0152"
            ],
            [
             0.1,
             "#c51b7d"
            ],
            [
             0.2,
             "#de77ae"
            ],
            [
             0.3,
             "#f1b6da"
            ],
            [
             0.4,
             "#fde0ef"
            ],
            [
             0.5,
             "#f7f7f7"
            ],
            [
             0.6,
             "#e6f5d0"
            ],
            [
             0.7,
             "#b8e186"
            ],
            [
             0.8,
             "#7fbc41"
            ],
            [
             0.9,
             "#4d9221"
            ],
            [
             1,
             "#276419"
            ]
           ],
           "sequential": [
            [
             0,
             "#0d0887"
            ],
            [
             0.1111111111111111,
             "#46039f"
            ],
            [
             0.2222222222222222,
             "#7201a8"
            ],
            [
             0.3333333333333333,
             "#9c179e"
            ],
            [
             0.4444444444444444,
             "#bd3786"
            ],
            [
             0.5555555555555556,
             "#d8576b"
            ],
            [
             0.6666666666666666,
             "#ed7953"
            ],
            [
             0.7777777777777778,
             "#fb9f3a"
            ],
            [
             0.8888888888888888,
             "#fdca26"
            ],
            [
             1,
             "#f0f921"
            ]
           ],
           "sequentialminus": [
            [
             0,
             "#0d0887"
            ],
            [
             0.1111111111111111,
             "#46039f"
            ],
            [
             0.2222222222222222,
             "#7201a8"
            ],
            [
             0.3333333333333333,
             "#9c179e"
            ],
            [
             0.4444444444444444,
             "#bd3786"
            ],
            [
             0.5555555555555556,
             "#d8576b"
            ],
            [
             0.6666666666666666,
             "#ed7953"
            ],
            [
             0.7777777777777778,
             "#fb9f3a"
            ],
            [
             0.8888888888888888,
             "#fdca26"
            ],
            [
             1,
             "#f0f921"
            ]
           ]
          },
          "colorway": [
           "#636efa",
           "#EF553B",
           "#00cc96",
           "#ab63fa",
           "#FFA15A",
           "#19d3f3",
           "#FF6692",
           "#B6E880",
           "#FF97FF",
           "#FECB52"
          ],
          "font": {
           "color": "#2a3f5f"
          },
          "geo": {
           "bgcolor": "white",
           "lakecolor": "white",
           "landcolor": "#E5ECF6",
           "showlakes": true,
           "showland": true,
           "subunitcolor": "white"
          },
          "hoverlabel": {
           "align": "left"
          },
          "hovermode": "closest",
          "mapbox": {
           "style": "light"
          },
          "paper_bgcolor": "white",
          "plot_bgcolor": "#E5ECF6",
          "polar": {
           "angularaxis": {
            "gridcolor": "white",
            "linecolor": "white",
            "ticks": ""
           },
           "bgcolor": "#E5ECF6",
           "radialaxis": {
            "gridcolor": "white",
            "linecolor": "white",
            "ticks": ""
           }
          },
          "scene": {
           "xaxis": {
            "backgroundcolor": "#E5ECF6",
            "gridcolor": "white",
            "gridwidth": 2,
            "linecolor": "white",
            "showbackground": true,
            "ticks": "",
            "zerolinecolor": "white"
           },
           "yaxis": {
            "backgroundcolor": "#E5ECF6",
            "gridcolor": "white",
            "gridwidth": 2,
            "linecolor": "white",
            "showbackground": true,
            "ticks": "",
            "zerolinecolor": "white"
           },
           "zaxis": {
            "backgroundcolor": "#E5ECF6",
            "gridcolor": "white",
            "gridwidth": 2,
            "linecolor": "white",
            "showbackground": true,
            "ticks": "",
            "zerolinecolor": "white"
           }
          },
          "shapedefaults": {
           "line": {
            "color": "#2a3f5f"
           }
          },
          "ternary": {
           "aaxis": {
            "gridcolor": "white",
            "linecolor": "white",
            "ticks": ""
           },
           "baxis": {
            "gridcolor": "white",
            "linecolor": "white",
            "ticks": ""
           },
           "bgcolor": "#E5ECF6",
           "caxis": {
            "gridcolor": "white",
            "linecolor": "white",
            "ticks": ""
           }
          },
          "title": {
           "x": 0.05
          },
          "xaxis": {
           "automargin": true,
           "gridcolor": "white",
           "linecolor": "white",
           "ticks": "",
           "title": {
            "standoff": 15
           },
           "zerolinecolor": "white",
           "zerolinewidth": 2
          },
          "yaxis": {
           "automargin": true,
           "gridcolor": "white",
           "linecolor": "white",
           "ticks": "",
           "title": {
            "standoff": 15
           },
           "zerolinecolor": "white",
           "zerolinewidth": 2
          }
         }
        },
        "xaxis": {
         "anchor": "y",
         "domain": [
          0,
          1
         ],
         "title": {
          "text": "PC1"
         }
        },
        "yaxis": {
         "anchor": "x",
         "domain": [
          0,
          1
         ],
         "title": {
          "text": "PC2"
         }
        }
       }
      }
     },
     "metadata": {},
     "output_type": "display_data"
    },
    {
     "name": "stdout",
     "output_type": "stream",
     "text": [
      "eps:0.5\n",
      "min:6\n",
      "7\n"
     ]
    },
    {
     "data": {
      "application/vnd.plotly.v1+json": {
       "config": {
        "plotlyServerURL": "https://plot.ly"
       },
       "data": [
        {
         "hovertemplate": "PC1=%{x}<br>PC2=%{y}<br>cluster=%{marker.color}<extra></extra>",
         "legendgroup": "",
         "marker": {
          "color": [
           0,
           0,
           0,
           0,
           0,
           -1,
           -1,
           0,
           1,
           -1,
           0,
           0,
           0,
           1,
           1,
           1,
           -1,
           1,
           1,
           1,
           1,
           2,
           0,
           1,
           0,
           1,
           0,
           0,
           0,
           0,
           1,
           0,
           1,
           0,
           -1,
           0,
           0,
           0,
           0,
           0,
           0,
           -1,
           0,
           1,
           1,
           0,
           5,
           -1,
           -1,
           -1,
           0,
           0,
           0,
           -1,
           2,
           -1,
           0,
           0,
           -1,
           3,
           -1,
           3,
           -1,
           -1,
           3,
           3,
           3,
           0,
           -1,
           3,
           3,
           -1,
           1,
           0,
           0,
           0,
           0,
           0,
           0,
           -1,
           0,
           0,
           0,
           -1,
           2,
           0,
           3,
           4,
           2,
           -1,
           -1,
           0,
           0,
           2,
           0,
           -1,
           -1,
           3,
           0,
           5,
           -1,
           -1,
           -1,
           -1,
           -1,
           -1,
           -1,
           4,
           3,
           4,
           -1,
           3,
           3,
           4,
           4,
           4,
           4,
           4,
           4,
           4,
           4,
           -1,
           4,
           -1,
           3,
           2,
           4,
           4,
           4,
           3,
           2,
           -1,
           -1,
           0,
           1,
           5,
           0,
           0,
           -1,
           -1,
           0,
           -1,
           0,
           2,
           0,
           0,
           -1,
           1,
           0,
           0,
           0,
           -1,
           -1,
           -1,
           -1,
           0,
           -1,
           0,
           0,
           -1,
           -1,
           0,
           0,
           0,
           -1,
           0,
           0,
           0,
           0,
           0,
           -1,
           0,
           0,
           5,
           0,
           0,
           0,
           0,
           0,
           0,
           -1,
           0,
           0,
           -1,
           -1,
           0,
           2,
           0,
           0,
           -1,
           0,
           0,
           0,
           0,
           0,
           -1,
           5,
           0,
           0,
           0,
           0,
           0,
           0,
           0,
           0,
           0,
           0,
           0,
           0,
           0,
           0,
           0,
           0,
           0,
           0,
           0,
           0,
           0,
           0,
           0,
           0,
           2,
           -1,
           -1,
           0,
           0,
           0,
           0,
           0,
           0,
           0,
           0,
           0,
           0,
           0,
           0,
           0,
           0,
           0,
           0,
           0,
           0,
           0,
           0,
           0,
           0,
           0,
           3,
           4,
           4,
           4,
           0,
           0,
           0,
           0,
           0,
           0,
           0,
           0,
           -1,
           -1,
           0,
           0,
           -1,
           -1,
           0,
           0,
           1,
           1,
           1,
           1,
           4,
           -1,
           4,
           4,
           3,
           4,
           5,
           0,
           3,
           -1,
           2,
           -1,
           -1,
           0,
           0,
           0,
           0,
           0,
           0,
           0,
           0,
           0,
           0,
           0,
           -1,
           0,
           0,
           -1,
           1,
           -1,
           4,
           0,
           0,
           -1,
           0
          ],
          "coloraxis": "coloraxis",
          "symbol": "circle"
         },
         "mode": "markers",
         "name": "",
         "orientation": "v",
         "showlegend": false,
         "type": "scatter",
         "x": [
          -0.3508186445814046,
          -0.5639310289142907,
          -0.5876614889048775,
          -0.5823377224391548,
          -0.5607934377831532,
          0.4195720316235605,
          0.4072448737758711,
          -0.4113530731621215,
          -0.00399273331831062,
          -0.1852422563817428,
          -0.44739994890418283,
          -0.17321034471097554,
          -0.9863859016696982,
          0.363681409013939,
          0.5332508277656569,
          0.4280966465773618,
          1.0588501758287197,
          0.025247980120545525,
          0.23810740264577307,
          0.6865351171763053,
          0.2581063436168159,
          0.3715708207646612,
          -0.4131797356835435,
          -0.04785829771362803,
          -0.9827684239122897,
          0.3681831670016599,
          -0.2935365288623707,
          -1.1909481439518261,
          -1.1528255253136725,
          -0.7069147217330235,
          0.40055109920872667,
          0.00803215716421511,
          0.14911199452136348,
          -0.16737103147821697,
          0.760616799924241,
          -0.23008068388502226,
          -0.7678298340451299,
          -0.540115638809465,
          -0.6308503154771031,
          -0.8514860460990357,
          -0.6867705734521476,
          -0.2078070316297446,
          -0.7308828712104986,
          0.5838622089680124,
          0.23092709056774202,
          -0.25715838997259816,
          0.5912142380882366,
          0.45038843768797976,
          0.7458086225076698,
          0.6665341479810564,
          -0.3559651445471211,
          0.14544245797935162,
          0.16923801231755534,
          0.28649183156012964,
          0.49776358997416936,
          1.0061507020713225,
          -0.00044711259362545716,
          0.28586827885250043,
          0.25658402880596615,
          1.2550220032228516,
          0.12286107335774328,
          1.485896209569183,
          1.141757343619969,
          1.083056179238525,
          1.2308187941802846,
          1.398828328888598,
          1.3054235587132532,
          -0.6767646613072369,
          0.6750460519396514,
          1.370581465278255,
          1.2018852316157136,
          -0.2580847111797142,
          -0.011498460508768802,
          -0.8370263340387589,
          -0.6363564838589613,
          -0.42919282404945464,
          -1.1039702224687824,
          -0.1088711356058151,
          -0.4596040070615721,
          0.1418478816660463,
          0.21957884447651801,
          0.3554794976193818,
          -0.8742386278118172,
          -0.2746466637092127,
          1.1054992040219718,
          -1.2632478611888398,
          1.5367762704079522,
          2.0068280117827495,
          0.850062335137054,
          0.33944496228293397,
          0.19249504445578958,
          -1.3581558798511084,
          0.2434247873301313,
          0.5263964218229623,
          -0.4868238715600447,
          1.1886039499169794,
          1.312567480095893,
          1.5798144290432872,
          0.09562530830559078,
          0.10113773211496412,
          2.033076972324046,
          0.8053821545180139,
          0.637502907215228,
          1.0203277391689545,
          1.1081509796409459,
          1.2746332749915992,
          1.0753569684035553,
          1.7049819492724492,
          1.6587035438150557,
          1.7295177415265623,
          0.5214983885075135,
          1.3702205937067362,
          1.518749873805489,
          2.1729248712419267,
          2.5854778650398846,
          2.411180428395736,
          2.1166243572495915,
          2.0214316278135502,
          1.8271443317174267,
          1.7146476778873738,
          2.0310988554007685,
          2.2173494244528684,
          2.184350145824153,
          1.5947485452960408,
          1.0679977016528681,
          0.8413104680994339,
          1.9202053051499042,
          1.8312001793279702,
          2.0139938593698643,
          1.3205121461089913,
          0.8282043651674835,
          1.2256783451926239,
          1.3358151046978437,
          -0.9688877415976315,
          0.26608200929683606,
          0.4664951006725747,
          -0.0563240048251054,
          -0.0559120157718613,
          1.1399716405498577,
          0.5358927796322845,
          0.018958766203575374,
          -0.24741988762852457,
          -0.5776044130063319,
          0.6475878617948905,
          -0.9100792974452094,
          0.49081208825788125,
          0.3298476395279003,
          -0.007475294677475479,
          -0.489846855978679,
          -0.8491853143573168,
          -0.7011129372532078,
          -0.05347780212672248,
          -0.0011183823042832202,
          -0.5655651342350086,
          -0.6620259718207827,
          -0.9227863531495146,
          -0.6622952480314663,
          -0.4782287610370813,
          -0.5932215055392788,
          0.12014236348877132,
          0.6903330209670598,
          -0.8426881627710046,
          -0.6917978730477802,
          -0.6781299724263031,
          0.1602732904474833,
          -0.6133650035392196,
          -0.6949704672974494,
          -0.9075944177318687,
          -0.8786928400558157,
          -0.9058658749968183,
          -0.31613938719436746,
          -1.4063256915973272,
          -1.3803818930202079,
          0.2625615034769143,
          -0.8470754546783491,
          -1.1030175239198672,
          -1.2002009601984962,
          -1.1015107582333754,
          -0.25448883335801076,
          -1.3268121966813606,
          0.21320098873326973,
          -0.6498069261405497,
          -0.9346574497489317,
          -0.23027783265072188,
          -0.5611158720424748,
          -0.6718621245174528,
          0.9811493906055307,
          -0.8636997616209908,
          -0.6227009894166133,
          0.26969388609522693,
          -1.2974700268568877,
          -0.7689427359366564,
          -1.1308155565904985,
          -1.1858237917313565,
          -1.1576084927470962,
          0.12712467464253588,
          0.6706059789697033,
          -0.3921416370294183,
          -0.11598044718702563,
          -0.23151664766119667,
          -0.7816102873703236,
          -0.7653708834373745,
          -0.5609480660210393,
          -1.2245683886515315,
          -1.2528323446207357,
          -0.04827769016556094,
          -0.620381709756415,
          -1.3179427171238245,
          -1.020448678856538,
          -1.122767828461264,
          -1.295461906008073,
          -0.2150777897030298,
          -1.0690715515230613,
          -0.6521075215103971,
          -0.7687037917119958,
          -1.1341499985115364,
          -1.206294094750507,
          -1.1419834961733435,
          0.15924292373346194,
          -1.0338737764714179,
          -0.9671029081402572,
          0.7301776776959528,
          0.22630807645404594,
          -0.03217868737816261,
          -0.8246874406681577,
          -0.0665121498396239,
          -0.525452729661283,
          -1.163670997184323,
          -1.0990419409084324,
          -0.871028416180363,
          -0.9839363695459624,
          -0.7071642819921274,
          -0.9649538646384597,
          -0.07938786382715807,
          -0.6511732443827587,
          -1.0495691285147353,
          -1.216907719249716,
          -1.0202686457871843,
          -1.245096243526878,
          -0.8051863963938097,
          -1.4079974175266863,
          -1.238577998585358,
          -1.1597420643057776,
          -0.49885995427398205,
          -1.2294098096570147,
          -1.3473762262692497,
          -0.9893474027848611,
          1.324644655674268,
          2.236559940687958,
          2.300220738929092,
          2.5447691037266145,
          -1.3290802025585322,
          -1.0339295771544759,
          -0.3646263998858898,
          -0.9210480898797002,
          -1.0528999459414,
          -0.7465386837494035,
          -1.3310648253509125,
          -0.15504914093148417,
          -0.17437782760361567,
          -0.2603429111629848,
          -0.8277771276090602,
          -0.5418252456462207,
          0.6086703948875171,
          -0.5988433486407282,
          -0.9028097234226942,
          -0.9592914666868012,
          0.22142476650741127,
          0.7932088658321987,
          0.5636494338661097,
          0.41197956731334534,
          1.826830708628797,
          0.31242812323741953,
          1.902649433624108,
          1.620881829702091,
          1.2518535611471007,
          2.144068931719886,
          0.43127983098330536,
          -0.326669105779434,
          1.1600755290161804,
          0.6320233562856604,
          0.7899229468245065,
          0.21091418080767607,
          0.7684640830904039,
          -1.2050179821235905,
          -1.003315446220766,
          -1.300336769491636,
          -1.2169871538010222,
          -1.4762498697303896,
          0.2818455182041284,
          -0.9236872137307428,
          -1.2034142443186877,
          -1.3539329811844136,
          -0.5113520614681136,
          -0.8684685964407897,
          -0.6600211472717245,
          0.02387224500841111,
          -0.10249542394847518,
          -0.5073132666040002,
          0.5206042476056767,
          0.15663991940049013,
          1.9189992338794515,
          -0.5326400765665911,
          -0.8536336765878905,
          0.23333215288286902,
          -0.6440736946026615
         ],
         "xaxis": "x",
         "y": [
          0.7099961857978953,
          0.42702553658784737,
          0.32532461799333984,
          -0.30751240895039944,
          -0.13734036816883838,
          0.31128851737849844,
          0.729962167893389,
          -0.0005735189402775898,
          0.8184393245280276,
          1.117196888341552,
          0.6623167014430784,
          0.5818759175510941,
          -0.5755506430210526,
          0.7595512721812351,
          1.0919717029401952,
          0.9287727424286327,
          0.647167399836963,
          1.1481584414274244,
          1.0538483156137948,
          1.068173947937826,
          0.8958960717525997,
          0.5678691445652688,
          0.4174137788963033,
          0.7527314614167181,
          -0.32417865836517257,
          1.2685351012786688,
          1.1329563580483628,
          -0.6309878142198015,
          -0.5784391528625124,
          -0.04627264220648031,
          1.0451683016282647,
          0.6363022232065211,
          0.6090535964371065,
          0.3389705573491687,
          -0.07876016749848436,
          -0.005161321019689319,
          -0.16245932754008796,
          -0.015756191193797463,
          0.19443560793123194,
          -0.094922033919062,
          0.4528492287184965,
          1.1992796693159886,
          0.28812500403641145,
          1.3827214876209564,
          1.112825496480182,
          0.820319273071483,
          -0.19017580106885862,
          -0.07244448877381379,
          0.4750518811453017,
          -0.6854025144338283,
          0.20702474930218934,
          0.1518140456897288,
          -0.05401545573946639,
          0.15929102424296657,
          0.3937351519692185,
          1.014706623198994,
          0.6371969911009774,
          0.1750033851741816,
          -0.6006650204085802,
          -0.0792124573390606,
          1.512070916552906,
          -0.6427866590478051,
          -0.03307075643171754,
          0.5274321350929281,
          -0.45485297270854297,
          -0.5564822170596899,
          -0.6115030808876163,
          -0.30479187981488526,
          -0.3098013915666279,
          -0.4457154428997717,
          -0.698679628353853,
          0.6013513192758371,
          1.0639967642006818,
          0.23703389905433955,
          0.6299565866915858,
          0.8345022141548945,
          -0.4323407360986679,
          -0.36112213785851976,
          0.5276588766709592,
          -0.07191032684639224,
          0.4567759882447646,
          -0.24191454883831306,
          0.1428429389318786,
          0.39866159386906896,
          0.029551102791049888,
          -0.6860368415335261,
          -0.2269403331648695,
          -0.5324958691880598,
          0.41247460087419985,
          0.6397017321322944,
          0.7167548034897423,
          -0.7968509799301254,
          0.4579173464816717,
          0.6929268513292324,
          0.3027252421361952,
          -0.5018055971078058,
          -0.9262446362631672,
          -0.7089125244246054,
          -0.09250520902190804,
          -0.24347082832148273,
          -0.5011749815040876,
          0.2769417524742287,
          0.6594733357560907,
          0.1464652696809386,
          0.17980367632117927,
          0.2876728571762101,
          0.24207094960578387,
          -0.47685645775978125,
          -0.4641342832744238,
          -0.6242657785803362,
          -0.35839496694913836,
          -0.6697201639582336,
          -0.5934551819218801,
          -0.6776601586832687,
          -0.772206603265197,
          -0.8256034226699906,
          -0.6034916443139994,
          -0.6959188228222942,
          -0.6506881292737736,
          -0.730610566802647,
          -0.7118028645644151,
          -0.5537360443743592,
          -0.7516917933008144,
          -1.0413224864771373,
          -0.2888912128532489,
          0.16165561715961727,
          -0.6301647136546636,
          -0.5457559028477338,
          -0.7375472316736065,
          -0.30382668918844896,
          0.14392662023758906,
          0.4029023478736755,
          0.11923488393747818,
          -0.3931448013405179,
          0.47116303960960504,
          -0.3057199867825617,
          0.19033436901269668,
          0.3672353828015206,
          -0.11915816433922534,
          -0.22949644038607933,
          0.0005381922934969265,
          0.4014541076202302,
          0.011226333971447174,
          0.15316753403502015,
          -0.17839685429915678,
          0.1162964727268741,
          0.6132218639995656,
          0.7440426957254411,
          0.5514812675631249,
          0.2558900153292978,
          -0.41263591264996197,
          -0.24829956261552585,
          -0.08343938247417602,
          -0.20777470378370455,
          -0.24080633807485974,
          -0.3134496109536108,
          0.26608327441236906,
          -0.029058638683316398,
          0.0671953806310761,
          0.7504319775030304,
          1.1239966883690784,
          -0.45781463258792676,
          0.34873035447720835,
          0.8756141158887747,
          0.9258608099918605,
          0.4841868261378967,
          0.7141823455552794,
          -0.03732354018898182,
          0.28878723343162016,
          0.15719818315722064,
          0.7973884178965798,
          -0.7660432689583268,
          -0.84400657794849,
          -0.45947960809374516,
          -0.3345165522557174,
          -0.6649776248286672,
          -0.6363778850046428,
          -0.5993592194355751,
          -0.18919715662760342,
          -0.7691383038182813,
          0.04053435533132516,
          0.21657270370862602,
          -0.014942354878290992,
          0.9030285565753604,
          -0.4266317392588027,
          0.15182338797892395,
          -0.19851912578326078,
          0.054602340636070716,
          0.4071145704787819,
          0.4220990016103621,
          -0.7460484006509379,
          -0.37416817643363576,
          -0.6372097375723659,
          -0.5063493452642951,
          -0.09239144822483929,
          0.8850748108824067,
          -0.3774211773239248,
          0.11439303192748623,
          0.21840717600576146,
          0.41308681848561374,
          -0.156487389434147,
          -0.21246162342132058,
          0.35967154146760516,
          -0.6280362618690645,
          -0.6751485839668573,
          0.4564923562030079,
          0.46341219854131854,
          -0.6255699562303365,
          -0.14648385725392216,
          -0.529967500091482,
          -0.7969822771052225,
          0.2212198399904749,
          -0.35734431874142725,
          -0.490786380395956,
          -0.31872916446986554,
          -0.6918558834102606,
          -0.7082270021088811,
          -0.7238134790639272,
          0.12244694049215733,
          -0.3995158569063484,
          -0.5271808752106215,
          0.6167487204970656,
          1.3015349678754837,
          1.3070266362899396,
          -0.11326696955333448,
          0.03762840489926836,
          0.4637935227601997,
          -0.3581647071056107,
          -0.7534000614183912,
          -0.32871859328507014,
          -0.2747903697084202,
          -0.1782478319197431,
          -0.5058423435176054,
          0.28564173412763133,
          0.22065552600422933,
          -0.6473159610252815,
          -0.6069361767018229,
          -0.6298085539721407,
          -0.7732732549216,
          -0.4923166757282111,
          -0.6975829899400697,
          -0.7388955697842149,
          -0.43264234556453635,
          0.09749775065327997,
          -0.6339343049928898,
          -0.6640631227213608,
          -0.2201238450942663,
          -0.7406821537471711,
          -0.6143040266580025,
          -0.5698169156217819,
          -0.8756335115452012,
          -0.5141589243246582,
          -0.34764364588050745,
          0.44145008058227136,
          -0.31539811267161544,
          -0.6370741888817835,
          -0.19493915236414852,
          -0.7735155602581518,
          0.3156325537205879,
          1.0556241456946518,
          1.0440701043581253,
          0.32877861478383197,
          0.3164185453548597,
          1.1615210253233557,
          0.04553512632354633,
          -0.2433147074464451,
          -0.3581664229481636,
          0.9437433574201339,
          1.1007774491822322,
          1.0107234027065128,
          0.9274899088166828,
          -0.7662581492563958,
          -0.7871634414585786,
          -0.5293459180136509,
          -0.6432404647199428,
          -0.581318473331517,
          -0.6916550585341287,
          -0.21108386707704713,
          0.04222803626490735,
          -0.6624768970250287,
          -0.36007697929215565,
          0.5369447952766742,
          0.9916844193676572,
          -0.5361063431814365,
          -0.5855287098767852,
          -0.4008160716345416,
          -0.7611554973033743,
          -0.6659259100919337,
          -0.802516056383197,
          0.04535682741649859,
          -0.28061484381918506,
          -0.6098813595061421,
          -0.8132859063928752,
          -0.1951940050040877,
          -0.33410450200889125,
          0.7126277842603084,
          0.16591497309967654,
          0.3509629701820568,
          1.0256786577294228,
          1.0272833710267137,
          0.9212705727252719,
          -0.71638376743169,
          -0.3934942048076385,
          -0.3503235301888743,
          -0.019981995927691884,
          0.06001570368658886
         ],
         "yaxis": "y"
        }
       ],
       "layout": {
        "coloraxis": {
         "colorbar": {
          "title": {
           "text": "cluster"
          }
         },
         "colorscale": [
          [
           0,
           "#0d0887"
          ],
          [
           0.1111111111111111,
           "#46039f"
          ],
          [
           0.2222222222222222,
           "#7201a8"
          ],
          [
           0.3333333333333333,
           "#9c179e"
          ],
          [
           0.4444444444444444,
           "#bd3786"
          ],
          [
           0.5555555555555556,
           "#d8576b"
          ],
          [
           0.6666666666666666,
           "#ed7953"
          ],
          [
           0.7777777777777778,
           "#fb9f3a"
          ],
          [
           0.8888888888888888,
           "#fdca26"
          ],
          [
           1,
           "#f0f921"
          ]
         ]
        },
        "legend": {
         "tracegroupgap": 0
        },
        "margin": {
         "t": 60
        },
        "template": {
         "data": {
          "bar": [
           {
            "error_x": {
             "color": "#2a3f5f"
            },
            "error_y": {
             "color": "#2a3f5f"
            },
            "marker": {
             "line": {
              "color": "#E5ECF6",
              "width": 0.5
             },
             "pattern": {
              "fillmode": "overlay",
              "size": 10,
              "solidity": 0.2
             }
            },
            "type": "bar"
           }
          ],
          "barpolar": [
           {
            "marker": {
             "line": {
              "color": "#E5ECF6",
              "width": 0.5
             },
             "pattern": {
              "fillmode": "overlay",
              "size": 10,
              "solidity": 0.2
             }
            },
            "type": "barpolar"
           }
          ],
          "carpet": [
           {
            "aaxis": {
             "endlinecolor": "#2a3f5f",
             "gridcolor": "white",
             "linecolor": "white",
             "minorgridcolor": "white",
             "startlinecolor": "#2a3f5f"
            },
            "baxis": {
             "endlinecolor": "#2a3f5f",
             "gridcolor": "white",
             "linecolor": "white",
             "minorgridcolor": "white",
             "startlinecolor": "#2a3f5f"
            },
            "type": "carpet"
           }
          ],
          "choropleth": [
           {
            "colorbar": {
             "outlinewidth": 0,
             "ticks": ""
            },
            "type": "choropleth"
           }
          ],
          "contour": [
           {
            "colorbar": {
             "outlinewidth": 0,
             "ticks": ""
            },
            "colorscale": [
             [
              0,
              "#0d0887"
             ],
             [
              0.1111111111111111,
              "#46039f"
             ],
             [
              0.2222222222222222,
              "#7201a8"
             ],
             [
              0.3333333333333333,
              "#9c179e"
             ],
             [
              0.4444444444444444,
              "#bd3786"
             ],
             [
              0.5555555555555556,
              "#d8576b"
             ],
             [
              0.6666666666666666,
              "#ed7953"
             ],
             [
              0.7777777777777778,
              "#fb9f3a"
             ],
             [
              0.8888888888888888,
              "#fdca26"
             ],
             [
              1,
              "#f0f921"
             ]
            ],
            "type": "contour"
           }
          ],
          "contourcarpet": [
           {
            "colorbar": {
             "outlinewidth": 0,
             "ticks": ""
            },
            "type": "contourcarpet"
           }
          ],
          "heatmap": [
           {
            "colorbar": {
             "outlinewidth": 0,
             "ticks": ""
            },
            "colorscale": [
             [
              0,
              "#0d0887"
             ],
             [
              0.1111111111111111,
              "#46039f"
             ],
             [
              0.2222222222222222,
              "#7201a8"
             ],
             [
              0.3333333333333333,
              "#9c179e"
             ],
             [
              0.4444444444444444,
              "#bd3786"
             ],
             [
              0.5555555555555556,
              "#d8576b"
             ],
             [
              0.6666666666666666,
              "#ed7953"
             ],
             [
              0.7777777777777778,
              "#fb9f3a"
             ],
             [
              0.8888888888888888,
              "#fdca26"
             ],
             [
              1,
              "#f0f921"
             ]
            ],
            "type": "heatmap"
           }
          ],
          "heatmapgl": [
           {
            "colorbar": {
             "outlinewidth": 0,
             "ticks": ""
            },
            "colorscale": [
             [
              0,
              "#0d0887"
             ],
             [
              0.1111111111111111,
              "#46039f"
             ],
             [
              0.2222222222222222,
              "#7201a8"
             ],
             [
              0.3333333333333333,
              "#9c179e"
             ],
             [
              0.4444444444444444,
              "#bd3786"
             ],
             [
              0.5555555555555556,
              "#d8576b"
             ],
             [
              0.6666666666666666,
              "#ed7953"
             ],
             [
              0.7777777777777778,
              "#fb9f3a"
             ],
             [
              0.8888888888888888,
              "#fdca26"
             ],
             [
              1,
              "#f0f921"
             ]
            ],
            "type": "heatmapgl"
           }
          ],
          "histogram": [
           {
            "marker": {
             "pattern": {
              "fillmode": "overlay",
              "size": 10,
              "solidity": 0.2
             }
            },
            "type": "histogram"
           }
          ],
          "histogram2d": [
           {
            "colorbar": {
             "outlinewidth": 0,
             "ticks": ""
            },
            "colorscale": [
             [
              0,
              "#0d0887"
             ],
             [
              0.1111111111111111,
              "#46039f"
             ],
             [
              0.2222222222222222,
              "#7201a8"
             ],
             [
              0.3333333333333333,
              "#9c179e"
             ],
             [
              0.4444444444444444,
              "#bd3786"
             ],
             [
              0.5555555555555556,
              "#d8576b"
             ],
             [
              0.6666666666666666,
              "#ed7953"
             ],
             [
              0.7777777777777778,
              "#fb9f3a"
             ],
             [
              0.8888888888888888,
              "#fdca26"
             ],
             [
              1,
              "#f0f921"
             ]
            ],
            "type": "histogram2d"
           }
          ],
          "histogram2dcontour": [
           {
            "colorbar": {
             "outlinewidth": 0,
             "ticks": ""
            },
            "colorscale": [
             [
              0,
              "#0d0887"
             ],
             [
              0.1111111111111111,
              "#46039f"
             ],
             [
              0.2222222222222222,
              "#7201a8"
             ],
             [
              0.3333333333333333,
              "#9c179e"
             ],
             [
              0.4444444444444444,
              "#bd3786"
             ],
             [
              0.5555555555555556,
              "#d8576b"
             ],
             [
              0.6666666666666666,
              "#ed7953"
             ],
             [
              0.7777777777777778,
              "#fb9f3a"
             ],
             [
              0.8888888888888888,
              "#fdca26"
             ],
             [
              1,
              "#f0f921"
             ]
            ],
            "type": "histogram2dcontour"
           }
          ],
          "mesh3d": [
           {
            "colorbar": {
             "outlinewidth": 0,
             "ticks": ""
            },
            "type": "mesh3d"
           }
          ],
          "parcoords": [
           {
            "line": {
             "colorbar": {
              "outlinewidth": 0,
              "ticks": ""
             }
            },
            "type": "parcoords"
           }
          ],
          "pie": [
           {
            "automargin": true,
            "type": "pie"
           }
          ],
          "scatter": [
           {
            "fillpattern": {
             "fillmode": "overlay",
             "size": 10,
             "solidity": 0.2
            },
            "type": "scatter"
           }
          ],
          "scatter3d": [
           {
            "line": {
             "colorbar": {
              "outlinewidth": 0,
              "ticks": ""
             }
            },
            "marker": {
             "colorbar": {
              "outlinewidth": 0,
              "ticks": ""
             }
            },
            "type": "scatter3d"
           }
          ],
          "scattercarpet": [
           {
            "marker": {
             "colorbar": {
              "outlinewidth": 0,
              "ticks": ""
             }
            },
            "type": "scattercarpet"
           }
          ],
          "scattergeo": [
           {
            "marker": {
             "colorbar": {
              "outlinewidth": 0,
              "ticks": ""
             }
            },
            "type": "scattergeo"
           }
          ],
          "scattergl": [
           {
            "marker": {
             "colorbar": {
              "outlinewidth": 0,
              "ticks": ""
             }
            },
            "type": "scattergl"
           }
          ],
          "scattermapbox": [
           {
            "marker": {
             "colorbar": {
              "outlinewidth": 0,
              "ticks": ""
             }
            },
            "type": "scattermapbox"
           }
          ],
          "scatterpolar": [
           {
            "marker": {
             "colorbar": {
              "outlinewidth": 0,
              "ticks": ""
             }
            },
            "type": "scatterpolar"
           }
          ],
          "scatterpolargl": [
           {
            "marker": {
             "colorbar": {
              "outlinewidth": 0,
              "ticks": ""
             }
            },
            "type": "scatterpolargl"
           }
          ],
          "scatterternary": [
           {
            "marker": {
             "colorbar": {
              "outlinewidth": 0,
              "ticks": ""
             }
            },
            "type": "scatterternary"
           }
          ],
          "surface": [
           {
            "colorbar": {
             "outlinewidth": 0,
             "ticks": ""
            },
            "colorscale": [
             [
              0,
              "#0d0887"
             ],
             [
              0.1111111111111111,
              "#46039f"
             ],
             [
              0.2222222222222222,
              "#7201a8"
             ],
             [
              0.3333333333333333,
              "#9c179e"
             ],
             [
              0.4444444444444444,
              "#bd3786"
             ],
             [
              0.5555555555555556,
              "#d8576b"
             ],
             [
              0.6666666666666666,
              "#ed7953"
             ],
             [
              0.7777777777777778,
              "#fb9f3a"
             ],
             [
              0.8888888888888888,
              "#fdca26"
             ],
             [
              1,
              "#f0f921"
             ]
            ],
            "type": "surface"
           }
          ],
          "table": [
           {
            "cells": {
             "fill": {
              "color": "#EBF0F8"
             },
             "line": {
              "color": "white"
             }
            },
            "header": {
             "fill": {
              "color": "#C8D4E3"
             },
             "line": {
              "color": "white"
             }
            },
            "type": "table"
           }
          ]
         },
         "layout": {
          "annotationdefaults": {
           "arrowcolor": "#2a3f5f",
           "arrowhead": 0,
           "arrowwidth": 1
          },
          "autotypenumbers": "strict",
          "coloraxis": {
           "colorbar": {
            "outlinewidth": 0,
            "ticks": ""
           }
          },
          "colorscale": {
           "diverging": [
            [
             0,
             "#8e0152"
            ],
            [
             0.1,
             "#c51b7d"
            ],
            [
             0.2,
             "#de77ae"
            ],
            [
             0.3,
             "#f1b6da"
            ],
            [
             0.4,
             "#fde0ef"
            ],
            [
             0.5,
             "#f7f7f7"
            ],
            [
             0.6,
             "#e6f5d0"
            ],
            [
             0.7,
             "#b8e186"
            ],
            [
             0.8,
             "#7fbc41"
            ],
            [
             0.9,
             "#4d9221"
            ],
            [
             1,
             "#276419"
            ]
           ],
           "sequential": [
            [
             0,
             "#0d0887"
            ],
            [
             0.1111111111111111,
             "#46039f"
            ],
            [
             0.2222222222222222,
             "#7201a8"
            ],
            [
             0.3333333333333333,
             "#9c179e"
            ],
            [
             0.4444444444444444,
             "#bd3786"
            ],
            [
             0.5555555555555556,
             "#d8576b"
            ],
            [
             0.6666666666666666,
             "#ed7953"
            ],
            [
             0.7777777777777778,
             "#fb9f3a"
            ],
            [
             0.8888888888888888,
             "#fdca26"
            ],
            [
             1,
             "#f0f921"
            ]
           ],
           "sequentialminus": [
            [
             0,
             "#0d0887"
            ],
            [
             0.1111111111111111,
             "#46039f"
            ],
            [
             0.2222222222222222,
             "#7201a8"
            ],
            [
             0.3333333333333333,
             "#9c179e"
            ],
            [
             0.4444444444444444,
             "#bd3786"
            ],
            [
             0.5555555555555556,
             "#d8576b"
            ],
            [
             0.6666666666666666,
             "#ed7953"
            ],
            [
             0.7777777777777778,
             "#fb9f3a"
            ],
            [
             0.8888888888888888,
             "#fdca26"
            ],
            [
             1,
             "#f0f921"
            ]
           ]
          },
          "colorway": [
           "#636efa",
           "#EF553B",
           "#00cc96",
           "#ab63fa",
           "#FFA15A",
           "#19d3f3",
           "#FF6692",
           "#B6E880",
           "#FF97FF",
           "#FECB52"
          ],
          "font": {
           "color": "#2a3f5f"
          },
          "geo": {
           "bgcolor": "white",
           "lakecolor": "white",
           "landcolor": "#E5ECF6",
           "showlakes": true,
           "showland": true,
           "subunitcolor": "white"
          },
          "hoverlabel": {
           "align": "left"
          },
          "hovermode": "closest",
          "mapbox": {
           "style": "light"
          },
          "paper_bgcolor": "white",
          "plot_bgcolor": "#E5ECF6",
          "polar": {
           "angularaxis": {
            "gridcolor": "white",
            "linecolor": "white",
            "ticks": ""
           },
           "bgcolor": "#E5ECF6",
           "radialaxis": {
            "gridcolor": "white",
            "linecolor": "white",
            "ticks": ""
           }
          },
          "scene": {
           "xaxis": {
            "backgroundcolor": "#E5ECF6",
            "gridcolor": "white",
            "gridwidth": 2,
            "linecolor": "white",
            "showbackground": true,
            "ticks": "",
            "zerolinecolor": "white"
           },
           "yaxis": {
            "backgroundcolor": "#E5ECF6",
            "gridcolor": "white",
            "gridwidth": 2,
            "linecolor": "white",
            "showbackground": true,
            "ticks": "",
            "zerolinecolor": "white"
           },
           "zaxis": {
            "backgroundcolor": "#E5ECF6",
            "gridcolor": "white",
            "gridwidth": 2,
            "linecolor": "white",
            "showbackground": true,
            "ticks": "",
            "zerolinecolor": "white"
           }
          },
          "shapedefaults": {
           "line": {
            "color": "#2a3f5f"
           }
          },
          "ternary": {
           "aaxis": {
            "gridcolor": "white",
            "linecolor": "white",
            "ticks": ""
           },
           "baxis": {
            "gridcolor": "white",
            "linecolor": "white",
            "ticks": ""
           },
           "bgcolor": "#E5ECF6",
           "caxis": {
            "gridcolor": "white",
            "linecolor": "white",
            "ticks": ""
           }
          },
          "title": {
           "x": 0.05
          },
          "xaxis": {
           "automargin": true,
           "gridcolor": "white",
           "linecolor": "white",
           "ticks": "",
           "title": {
            "standoff": 15
           },
           "zerolinecolor": "white",
           "zerolinewidth": 2
          },
          "yaxis": {
           "automargin": true,
           "gridcolor": "white",
           "linecolor": "white",
           "ticks": "",
           "title": {
            "standoff": 15
           },
           "zerolinecolor": "white",
           "zerolinewidth": 2
          }
         }
        },
        "xaxis": {
         "anchor": "y",
         "domain": [
          0,
          1
         ],
         "title": {
          "text": "PC1"
         }
        },
        "yaxis": {
         "anchor": "x",
         "domain": [
          0,
          1
         ],
         "title": {
          "text": "PC2"
         }
        }
       }
      }
     },
     "metadata": {},
     "output_type": "display_data"
    },
    {
     "name": "stdout",
     "output_type": "stream",
     "text": [
      "eps:0.5\n",
      "min:7\n",
      "6\n"
     ]
    },
    {
     "data": {
      "application/vnd.plotly.v1+json": {
       "config": {
        "plotlyServerURL": "https://plot.ly"
       },
       "data": [
        {
         "hovertemplate": "PC1=%{x}<br>PC2=%{y}<br>cluster=%{marker.color}<extra></extra>",
         "legendgroup": "",
         "marker": {
          "color": [
           0,
           0,
           0,
           0,
           0,
           -1,
           -1,
           0,
           1,
           -1,
           0,
           0,
           0,
           1,
           1,
           1,
           -1,
           1,
           1,
           1,
           1,
           -1,
           -1,
           1,
           0,
           1,
           0,
           0,
           0,
           0,
           1,
           0,
           1,
           0,
           -1,
           0,
           0,
           0,
           0,
           0,
           0,
           -1,
           0,
           1,
           1,
           0,
           -1,
           -1,
           -1,
           -1,
           0,
           0,
           0,
           -1,
           4,
           -1,
           0,
           0,
           -1,
           2,
           -1,
           2,
           -1,
           -1,
           2,
           2,
           2,
           0,
           -1,
           2,
           2,
           -1,
           1,
           0,
           0,
           0,
           0,
           0,
           0,
           -1,
           0,
           0,
           0,
           -1,
           4,
           0,
           2,
           3,
           4,
           -1,
           -1,
           0,
           0,
           -1,
           0,
           -1,
           -1,
           2,
           0,
           -1,
           -1,
           -1,
           -1,
           -1,
           -1,
           -1,
           -1,
           3,
           2,
           3,
           -1,
           2,
           2,
           3,
           3,
           3,
           3,
           3,
           3,
           3,
           3,
           -1,
           3,
           -1,
           2,
           4,
           3,
           3,
           3,
           2,
           4,
           -1,
           -1,
           0,
           1,
           -1,
           0,
           0,
           -1,
           -1,
           0,
           -1,
           0,
           4,
           0,
           0,
           -1,
           1,
           0,
           0,
           0,
           -1,
           -1,
           -1,
           -1,
           0,
           -1,
           0,
           0,
           -1,
           -1,
           0,
           0,
           0,
           -1,
           0,
           0,
           0,
           0,
           0,
           -1,
           0,
           0,
           -1,
           0,
           0,
           0,
           0,
           0,
           0,
           -1,
           0,
           0,
           -1,
           -1,
           0,
           2,
           0,
           0,
           -1,
           0,
           0,
           0,
           0,
           0,
           -1,
           -1,
           0,
           0,
           0,
           0,
           0,
           0,
           0,
           0,
           0,
           0,
           0,
           0,
           0,
           0,
           -1,
           0,
           0,
           0,
           0,
           0,
           0,
           -1,
           0,
           0,
           -1,
           -1,
           -1,
           0,
           0,
           0,
           0,
           0,
           0,
           0,
           0,
           0,
           0,
           0,
           0,
           0,
           0,
           0,
           0,
           0,
           0,
           0,
           0,
           0,
           0,
           0,
           2,
           3,
           3,
           3,
           0,
           0,
           0,
           0,
           0,
           0,
           0,
           0,
           -1,
           -1,
           0,
           0,
           -1,
           -1,
           0,
           0,
           1,
           1,
           1,
           1,
           3,
           -1,
           3,
           3,
           2,
           3,
           -1,
           0,
           2,
           -1,
           -1,
           -1,
           -1,
           0,
           0,
           0,
           0,
           0,
           0,
           0,
           0,
           0,
           0,
           0,
           -1,
           0,
           0,
           -1,
           1,
           -1,
           3,
           0,
           0,
           -1,
           0
          ],
          "coloraxis": "coloraxis",
          "symbol": "circle"
         },
         "mode": "markers",
         "name": "",
         "orientation": "v",
         "showlegend": false,
         "type": "scatter",
         "x": [
          -0.3508186445814046,
          -0.5639310289142907,
          -0.5876614889048775,
          -0.5823377224391548,
          -0.5607934377831532,
          0.4195720316235605,
          0.4072448737758711,
          -0.4113530731621215,
          -0.00399273331831062,
          -0.1852422563817428,
          -0.44739994890418283,
          -0.17321034471097554,
          -0.9863859016696982,
          0.363681409013939,
          0.5332508277656569,
          0.4280966465773618,
          1.0588501758287197,
          0.025247980120545525,
          0.23810740264577307,
          0.6865351171763053,
          0.2581063436168159,
          0.3715708207646612,
          -0.4131797356835435,
          -0.04785829771362803,
          -0.9827684239122897,
          0.3681831670016599,
          -0.2935365288623707,
          -1.1909481439518261,
          -1.1528255253136725,
          -0.7069147217330235,
          0.40055109920872667,
          0.00803215716421511,
          0.14911199452136348,
          -0.16737103147821697,
          0.760616799924241,
          -0.23008068388502226,
          -0.7678298340451299,
          -0.540115638809465,
          -0.6308503154771031,
          -0.8514860460990357,
          -0.6867705734521476,
          -0.2078070316297446,
          -0.7308828712104986,
          0.5838622089680124,
          0.23092709056774202,
          -0.25715838997259816,
          0.5912142380882366,
          0.45038843768797976,
          0.7458086225076698,
          0.6665341479810564,
          -0.3559651445471211,
          0.14544245797935162,
          0.16923801231755534,
          0.28649183156012964,
          0.49776358997416936,
          1.0061507020713225,
          -0.00044711259362545716,
          0.28586827885250043,
          0.25658402880596615,
          1.2550220032228516,
          0.12286107335774328,
          1.485896209569183,
          1.141757343619969,
          1.083056179238525,
          1.2308187941802846,
          1.398828328888598,
          1.3054235587132532,
          -0.6767646613072369,
          0.6750460519396514,
          1.370581465278255,
          1.2018852316157136,
          -0.2580847111797142,
          -0.011498460508768802,
          -0.8370263340387589,
          -0.6363564838589613,
          -0.42919282404945464,
          -1.1039702224687824,
          -0.1088711356058151,
          -0.4596040070615721,
          0.1418478816660463,
          0.21957884447651801,
          0.3554794976193818,
          -0.8742386278118172,
          -0.2746466637092127,
          1.1054992040219718,
          -1.2632478611888398,
          1.5367762704079522,
          2.0068280117827495,
          0.850062335137054,
          0.33944496228293397,
          0.19249504445578958,
          -1.3581558798511084,
          0.2434247873301313,
          0.5263964218229623,
          -0.4868238715600447,
          1.1886039499169794,
          1.312567480095893,
          1.5798144290432872,
          0.09562530830559078,
          0.10113773211496412,
          2.033076972324046,
          0.8053821545180139,
          0.637502907215228,
          1.0203277391689545,
          1.1081509796409459,
          1.2746332749915992,
          1.0753569684035553,
          1.7049819492724492,
          1.6587035438150557,
          1.7295177415265623,
          0.5214983885075135,
          1.3702205937067362,
          1.518749873805489,
          2.1729248712419267,
          2.5854778650398846,
          2.411180428395736,
          2.1166243572495915,
          2.0214316278135502,
          1.8271443317174267,
          1.7146476778873738,
          2.0310988554007685,
          2.2173494244528684,
          2.184350145824153,
          1.5947485452960408,
          1.0679977016528681,
          0.8413104680994339,
          1.9202053051499042,
          1.8312001793279702,
          2.0139938593698643,
          1.3205121461089913,
          0.8282043651674835,
          1.2256783451926239,
          1.3358151046978437,
          -0.9688877415976315,
          0.26608200929683606,
          0.4664951006725747,
          -0.0563240048251054,
          -0.0559120157718613,
          1.1399716405498577,
          0.5358927796322845,
          0.018958766203575374,
          -0.24741988762852457,
          -0.5776044130063319,
          0.6475878617948905,
          -0.9100792974452094,
          0.49081208825788125,
          0.3298476395279003,
          -0.007475294677475479,
          -0.489846855978679,
          -0.8491853143573168,
          -0.7011129372532078,
          -0.05347780212672248,
          -0.0011183823042832202,
          -0.5655651342350086,
          -0.6620259718207827,
          -0.9227863531495146,
          -0.6622952480314663,
          -0.4782287610370813,
          -0.5932215055392788,
          0.12014236348877132,
          0.6903330209670598,
          -0.8426881627710046,
          -0.6917978730477802,
          -0.6781299724263031,
          0.1602732904474833,
          -0.6133650035392196,
          -0.6949704672974494,
          -0.9075944177318687,
          -0.8786928400558157,
          -0.9058658749968183,
          -0.31613938719436746,
          -1.4063256915973272,
          -1.3803818930202079,
          0.2625615034769143,
          -0.8470754546783491,
          -1.1030175239198672,
          -1.2002009601984962,
          -1.1015107582333754,
          -0.25448883335801076,
          -1.3268121966813606,
          0.21320098873326973,
          -0.6498069261405497,
          -0.9346574497489317,
          -0.23027783265072188,
          -0.5611158720424748,
          -0.6718621245174528,
          0.9811493906055307,
          -0.8636997616209908,
          -0.6227009894166133,
          0.26969388609522693,
          -1.2974700268568877,
          -0.7689427359366564,
          -1.1308155565904985,
          -1.1858237917313565,
          -1.1576084927470962,
          0.12712467464253588,
          0.6706059789697033,
          -0.3921416370294183,
          -0.11598044718702563,
          -0.23151664766119667,
          -0.7816102873703236,
          -0.7653708834373745,
          -0.5609480660210393,
          -1.2245683886515315,
          -1.2528323446207357,
          -0.04827769016556094,
          -0.620381709756415,
          -1.3179427171238245,
          -1.020448678856538,
          -1.122767828461264,
          -1.295461906008073,
          -0.2150777897030298,
          -1.0690715515230613,
          -0.6521075215103971,
          -0.7687037917119958,
          -1.1341499985115364,
          -1.206294094750507,
          -1.1419834961733435,
          0.15924292373346194,
          -1.0338737764714179,
          -0.9671029081402572,
          0.7301776776959528,
          0.22630807645404594,
          -0.03217868737816261,
          -0.8246874406681577,
          -0.0665121498396239,
          -0.525452729661283,
          -1.163670997184323,
          -1.0990419409084324,
          -0.871028416180363,
          -0.9839363695459624,
          -0.7071642819921274,
          -0.9649538646384597,
          -0.07938786382715807,
          -0.6511732443827587,
          -1.0495691285147353,
          -1.216907719249716,
          -1.0202686457871843,
          -1.245096243526878,
          -0.8051863963938097,
          -1.4079974175266863,
          -1.238577998585358,
          -1.1597420643057776,
          -0.49885995427398205,
          -1.2294098096570147,
          -1.3473762262692497,
          -0.9893474027848611,
          1.324644655674268,
          2.236559940687958,
          2.300220738929092,
          2.5447691037266145,
          -1.3290802025585322,
          -1.0339295771544759,
          -0.3646263998858898,
          -0.9210480898797002,
          -1.0528999459414,
          -0.7465386837494035,
          -1.3310648253509125,
          -0.15504914093148417,
          -0.17437782760361567,
          -0.2603429111629848,
          -0.8277771276090602,
          -0.5418252456462207,
          0.6086703948875171,
          -0.5988433486407282,
          -0.9028097234226942,
          -0.9592914666868012,
          0.22142476650741127,
          0.7932088658321987,
          0.5636494338661097,
          0.41197956731334534,
          1.826830708628797,
          0.31242812323741953,
          1.902649433624108,
          1.620881829702091,
          1.2518535611471007,
          2.144068931719886,
          0.43127983098330536,
          -0.326669105779434,
          1.1600755290161804,
          0.6320233562856604,
          0.7899229468245065,
          0.21091418080767607,
          0.7684640830904039,
          -1.2050179821235905,
          -1.003315446220766,
          -1.300336769491636,
          -1.2169871538010222,
          -1.4762498697303896,
          0.2818455182041284,
          -0.9236872137307428,
          -1.2034142443186877,
          -1.3539329811844136,
          -0.5113520614681136,
          -0.8684685964407897,
          -0.6600211472717245,
          0.02387224500841111,
          -0.10249542394847518,
          -0.5073132666040002,
          0.5206042476056767,
          0.15663991940049013,
          1.9189992338794515,
          -0.5326400765665911,
          -0.8536336765878905,
          0.23333215288286902,
          -0.6440736946026615
         ],
         "xaxis": "x",
         "y": [
          0.7099961857978953,
          0.42702553658784737,
          0.32532461799333984,
          -0.30751240895039944,
          -0.13734036816883838,
          0.31128851737849844,
          0.729962167893389,
          -0.0005735189402775898,
          0.8184393245280276,
          1.117196888341552,
          0.6623167014430784,
          0.5818759175510941,
          -0.5755506430210526,
          0.7595512721812351,
          1.0919717029401952,
          0.9287727424286327,
          0.647167399836963,
          1.1481584414274244,
          1.0538483156137948,
          1.068173947937826,
          0.8958960717525997,
          0.5678691445652688,
          0.4174137788963033,
          0.7527314614167181,
          -0.32417865836517257,
          1.2685351012786688,
          1.1329563580483628,
          -0.6309878142198015,
          -0.5784391528625124,
          -0.04627264220648031,
          1.0451683016282647,
          0.6363022232065211,
          0.6090535964371065,
          0.3389705573491687,
          -0.07876016749848436,
          -0.005161321019689319,
          -0.16245932754008796,
          -0.015756191193797463,
          0.19443560793123194,
          -0.094922033919062,
          0.4528492287184965,
          1.1992796693159886,
          0.28812500403641145,
          1.3827214876209564,
          1.112825496480182,
          0.820319273071483,
          -0.19017580106885862,
          -0.07244448877381379,
          0.4750518811453017,
          -0.6854025144338283,
          0.20702474930218934,
          0.1518140456897288,
          -0.05401545573946639,
          0.15929102424296657,
          0.3937351519692185,
          1.014706623198994,
          0.6371969911009774,
          0.1750033851741816,
          -0.6006650204085802,
          -0.0792124573390606,
          1.512070916552906,
          -0.6427866590478051,
          -0.03307075643171754,
          0.5274321350929281,
          -0.45485297270854297,
          -0.5564822170596899,
          -0.6115030808876163,
          -0.30479187981488526,
          -0.3098013915666279,
          -0.4457154428997717,
          -0.698679628353853,
          0.6013513192758371,
          1.0639967642006818,
          0.23703389905433955,
          0.6299565866915858,
          0.8345022141548945,
          -0.4323407360986679,
          -0.36112213785851976,
          0.5276588766709592,
          -0.07191032684639224,
          0.4567759882447646,
          -0.24191454883831306,
          0.1428429389318786,
          0.39866159386906896,
          0.029551102791049888,
          -0.6860368415335261,
          -0.2269403331648695,
          -0.5324958691880598,
          0.41247460087419985,
          0.6397017321322944,
          0.7167548034897423,
          -0.7968509799301254,
          0.4579173464816717,
          0.6929268513292324,
          0.3027252421361952,
          -0.5018055971078058,
          -0.9262446362631672,
          -0.7089125244246054,
          -0.09250520902190804,
          -0.24347082832148273,
          -0.5011749815040876,
          0.2769417524742287,
          0.6594733357560907,
          0.1464652696809386,
          0.17980367632117927,
          0.2876728571762101,
          0.24207094960578387,
          -0.47685645775978125,
          -0.4641342832744238,
          -0.6242657785803362,
          -0.35839496694913836,
          -0.6697201639582336,
          -0.5934551819218801,
          -0.6776601586832687,
          -0.772206603265197,
          -0.8256034226699906,
          -0.6034916443139994,
          -0.6959188228222942,
          -0.6506881292737736,
          -0.730610566802647,
          -0.7118028645644151,
          -0.5537360443743592,
          -0.7516917933008144,
          -1.0413224864771373,
          -0.2888912128532489,
          0.16165561715961727,
          -0.6301647136546636,
          -0.5457559028477338,
          -0.7375472316736065,
          -0.30382668918844896,
          0.14392662023758906,
          0.4029023478736755,
          0.11923488393747818,
          -0.3931448013405179,
          0.47116303960960504,
          -0.3057199867825617,
          0.19033436901269668,
          0.3672353828015206,
          -0.11915816433922534,
          -0.22949644038607933,
          0.0005381922934969265,
          0.4014541076202302,
          0.011226333971447174,
          0.15316753403502015,
          -0.17839685429915678,
          0.1162964727268741,
          0.6132218639995656,
          0.7440426957254411,
          0.5514812675631249,
          0.2558900153292978,
          -0.41263591264996197,
          -0.24829956261552585,
          -0.08343938247417602,
          -0.20777470378370455,
          -0.24080633807485974,
          -0.3134496109536108,
          0.26608327441236906,
          -0.029058638683316398,
          0.0671953806310761,
          0.7504319775030304,
          1.1239966883690784,
          -0.45781463258792676,
          0.34873035447720835,
          0.8756141158887747,
          0.9258608099918605,
          0.4841868261378967,
          0.7141823455552794,
          -0.03732354018898182,
          0.28878723343162016,
          0.15719818315722064,
          0.7973884178965798,
          -0.7660432689583268,
          -0.84400657794849,
          -0.45947960809374516,
          -0.3345165522557174,
          -0.6649776248286672,
          -0.6363778850046428,
          -0.5993592194355751,
          -0.18919715662760342,
          -0.7691383038182813,
          0.04053435533132516,
          0.21657270370862602,
          -0.014942354878290992,
          0.9030285565753604,
          -0.4266317392588027,
          0.15182338797892395,
          -0.19851912578326078,
          0.054602340636070716,
          0.4071145704787819,
          0.4220990016103621,
          -0.7460484006509379,
          -0.37416817643363576,
          -0.6372097375723659,
          -0.5063493452642951,
          -0.09239144822483929,
          0.8850748108824067,
          -0.3774211773239248,
          0.11439303192748623,
          0.21840717600576146,
          0.41308681848561374,
          -0.156487389434147,
          -0.21246162342132058,
          0.35967154146760516,
          -0.6280362618690645,
          -0.6751485839668573,
          0.4564923562030079,
          0.46341219854131854,
          -0.6255699562303365,
          -0.14648385725392216,
          -0.529967500091482,
          -0.7969822771052225,
          0.2212198399904749,
          -0.35734431874142725,
          -0.490786380395956,
          -0.31872916446986554,
          -0.6918558834102606,
          -0.7082270021088811,
          -0.7238134790639272,
          0.12244694049215733,
          -0.3995158569063484,
          -0.5271808752106215,
          0.6167487204970656,
          1.3015349678754837,
          1.3070266362899396,
          -0.11326696955333448,
          0.03762840489926836,
          0.4637935227601997,
          -0.3581647071056107,
          -0.7534000614183912,
          -0.32871859328507014,
          -0.2747903697084202,
          -0.1782478319197431,
          -0.5058423435176054,
          0.28564173412763133,
          0.22065552600422933,
          -0.6473159610252815,
          -0.6069361767018229,
          -0.6298085539721407,
          -0.7732732549216,
          -0.4923166757282111,
          -0.6975829899400697,
          -0.7388955697842149,
          -0.43264234556453635,
          0.09749775065327997,
          -0.6339343049928898,
          -0.6640631227213608,
          -0.2201238450942663,
          -0.7406821537471711,
          -0.6143040266580025,
          -0.5698169156217819,
          -0.8756335115452012,
          -0.5141589243246582,
          -0.34764364588050745,
          0.44145008058227136,
          -0.31539811267161544,
          -0.6370741888817835,
          -0.19493915236414852,
          -0.7735155602581518,
          0.3156325537205879,
          1.0556241456946518,
          1.0440701043581253,
          0.32877861478383197,
          0.3164185453548597,
          1.1615210253233557,
          0.04553512632354633,
          -0.2433147074464451,
          -0.3581664229481636,
          0.9437433574201339,
          1.1007774491822322,
          1.0107234027065128,
          0.9274899088166828,
          -0.7662581492563958,
          -0.7871634414585786,
          -0.5293459180136509,
          -0.6432404647199428,
          -0.581318473331517,
          -0.6916550585341287,
          -0.21108386707704713,
          0.04222803626490735,
          -0.6624768970250287,
          -0.36007697929215565,
          0.5369447952766742,
          0.9916844193676572,
          -0.5361063431814365,
          -0.5855287098767852,
          -0.4008160716345416,
          -0.7611554973033743,
          -0.6659259100919337,
          -0.802516056383197,
          0.04535682741649859,
          -0.28061484381918506,
          -0.6098813595061421,
          -0.8132859063928752,
          -0.1951940050040877,
          -0.33410450200889125,
          0.7126277842603084,
          0.16591497309967654,
          0.3509629701820568,
          1.0256786577294228,
          1.0272833710267137,
          0.9212705727252719,
          -0.71638376743169,
          -0.3934942048076385,
          -0.3503235301888743,
          -0.019981995927691884,
          0.06001570368658886
         ],
         "yaxis": "y"
        }
       ],
       "layout": {
        "coloraxis": {
         "colorbar": {
          "title": {
           "text": "cluster"
          }
         },
         "colorscale": [
          [
           0,
           "#0d0887"
          ],
          [
           0.1111111111111111,
           "#46039f"
          ],
          [
           0.2222222222222222,
           "#7201a8"
          ],
          [
           0.3333333333333333,
           "#9c179e"
          ],
          [
           0.4444444444444444,
           "#bd3786"
          ],
          [
           0.5555555555555556,
           "#d8576b"
          ],
          [
           0.6666666666666666,
           "#ed7953"
          ],
          [
           0.7777777777777778,
           "#fb9f3a"
          ],
          [
           0.8888888888888888,
           "#fdca26"
          ],
          [
           1,
           "#f0f921"
          ]
         ]
        },
        "legend": {
         "tracegroupgap": 0
        },
        "margin": {
         "t": 60
        },
        "template": {
         "data": {
          "bar": [
           {
            "error_x": {
             "color": "#2a3f5f"
            },
            "error_y": {
             "color": "#2a3f5f"
            },
            "marker": {
             "line": {
              "color": "#E5ECF6",
              "width": 0.5
             },
             "pattern": {
              "fillmode": "overlay",
              "size": 10,
              "solidity": 0.2
             }
            },
            "type": "bar"
           }
          ],
          "barpolar": [
           {
            "marker": {
             "line": {
              "color": "#E5ECF6",
              "width": 0.5
             },
             "pattern": {
              "fillmode": "overlay",
              "size": 10,
              "solidity": 0.2
             }
            },
            "type": "barpolar"
           }
          ],
          "carpet": [
           {
            "aaxis": {
             "endlinecolor": "#2a3f5f",
             "gridcolor": "white",
             "linecolor": "white",
             "minorgridcolor": "white",
             "startlinecolor": "#2a3f5f"
            },
            "baxis": {
             "endlinecolor": "#2a3f5f",
             "gridcolor": "white",
             "linecolor": "white",
             "minorgridcolor": "white",
             "startlinecolor": "#2a3f5f"
            },
            "type": "carpet"
           }
          ],
          "choropleth": [
           {
            "colorbar": {
             "outlinewidth": 0,
             "ticks": ""
            },
            "type": "choropleth"
           }
          ],
          "contour": [
           {
            "colorbar": {
             "outlinewidth": 0,
             "ticks": ""
            },
            "colorscale": [
             [
              0,
              "#0d0887"
             ],
             [
              0.1111111111111111,
              "#46039f"
             ],
             [
              0.2222222222222222,
              "#7201a8"
             ],
             [
              0.3333333333333333,
              "#9c179e"
             ],
             [
              0.4444444444444444,
              "#bd3786"
             ],
             [
              0.5555555555555556,
              "#d8576b"
             ],
             [
              0.6666666666666666,
              "#ed7953"
             ],
             [
              0.7777777777777778,
              "#fb9f3a"
             ],
             [
              0.8888888888888888,
              "#fdca26"
             ],
             [
              1,
              "#f0f921"
             ]
            ],
            "type": "contour"
           }
          ],
          "contourcarpet": [
           {
            "colorbar": {
             "outlinewidth": 0,
             "ticks": ""
            },
            "type": "contourcarpet"
           }
          ],
          "heatmap": [
           {
            "colorbar": {
             "outlinewidth": 0,
             "ticks": ""
            },
            "colorscale": [
             [
              0,
              "#0d0887"
             ],
             [
              0.1111111111111111,
              "#46039f"
             ],
             [
              0.2222222222222222,
              "#7201a8"
             ],
             [
              0.3333333333333333,
              "#9c179e"
             ],
             [
              0.4444444444444444,
              "#bd3786"
             ],
             [
              0.5555555555555556,
              "#d8576b"
             ],
             [
              0.6666666666666666,
              "#ed7953"
             ],
             [
              0.7777777777777778,
              "#fb9f3a"
             ],
             [
              0.8888888888888888,
              "#fdca26"
             ],
             [
              1,
              "#f0f921"
             ]
            ],
            "type": "heatmap"
           }
          ],
          "heatmapgl": [
           {
            "colorbar": {
             "outlinewidth": 0,
             "ticks": ""
            },
            "colorscale": [
             [
              0,
              "#0d0887"
             ],
             [
              0.1111111111111111,
              "#46039f"
             ],
             [
              0.2222222222222222,
              "#7201a8"
             ],
             [
              0.3333333333333333,
              "#9c179e"
             ],
             [
              0.4444444444444444,
              "#bd3786"
             ],
             [
              0.5555555555555556,
              "#d8576b"
             ],
             [
              0.6666666666666666,
              "#ed7953"
             ],
             [
              0.7777777777777778,
              "#fb9f3a"
             ],
             [
              0.8888888888888888,
              "#fdca26"
             ],
             [
              1,
              "#f0f921"
             ]
            ],
            "type": "heatmapgl"
           }
          ],
          "histogram": [
           {
            "marker": {
             "pattern": {
              "fillmode": "overlay",
              "size": 10,
              "solidity": 0.2
             }
            },
            "type": "histogram"
           }
          ],
          "histogram2d": [
           {
            "colorbar": {
             "outlinewidth": 0,
             "ticks": ""
            },
            "colorscale": [
             [
              0,
              "#0d0887"
             ],
             [
              0.1111111111111111,
              "#46039f"
             ],
             [
              0.2222222222222222,
              "#7201a8"
             ],
             [
              0.3333333333333333,
              "#9c179e"
             ],
             [
              0.4444444444444444,
              "#bd3786"
             ],
             [
              0.5555555555555556,
              "#d8576b"
             ],
             [
              0.6666666666666666,
              "#ed7953"
             ],
             [
              0.7777777777777778,
              "#fb9f3a"
             ],
             [
              0.8888888888888888,
              "#fdca26"
             ],
             [
              1,
              "#f0f921"
             ]
            ],
            "type": "histogram2d"
           }
          ],
          "histogram2dcontour": [
           {
            "colorbar": {
             "outlinewidth": 0,
             "ticks": ""
            },
            "colorscale": [
             [
              0,
              "#0d0887"
             ],
             [
              0.1111111111111111,
              "#46039f"
             ],
             [
              0.2222222222222222,
              "#7201a8"
             ],
             [
              0.3333333333333333,
              "#9c179e"
             ],
             [
              0.4444444444444444,
              "#bd3786"
             ],
             [
              0.5555555555555556,
              "#d8576b"
             ],
             [
              0.6666666666666666,
              "#ed7953"
             ],
             [
              0.7777777777777778,
              "#fb9f3a"
             ],
             [
              0.8888888888888888,
              "#fdca26"
             ],
             [
              1,
              "#f0f921"
             ]
            ],
            "type": "histogram2dcontour"
           }
          ],
          "mesh3d": [
           {
            "colorbar": {
             "outlinewidth": 0,
             "ticks": ""
            },
            "type": "mesh3d"
           }
          ],
          "parcoords": [
           {
            "line": {
             "colorbar": {
              "outlinewidth": 0,
              "ticks": ""
             }
            },
            "type": "parcoords"
           }
          ],
          "pie": [
           {
            "automargin": true,
            "type": "pie"
           }
          ],
          "scatter": [
           {
            "fillpattern": {
             "fillmode": "overlay",
             "size": 10,
             "solidity": 0.2
            },
            "type": "scatter"
           }
          ],
          "scatter3d": [
           {
            "line": {
             "colorbar": {
              "outlinewidth": 0,
              "ticks": ""
             }
            },
            "marker": {
             "colorbar": {
              "outlinewidth": 0,
              "ticks": ""
             }
            },
            "type": "scatter3d"
           }
          ],
          "scattercarpet": [
           {
            "marker": {
             "colorbar": {
              "outlinewidth": 0,
              "ticks": ""
             }
            },
            "type": "scattercarpet"
           }
          ],
          "scattergeo": [
           {
            "marker": {
             "colorbar": {
              "outlinewidth": 0,
              "ticks": ""
             }
            },
            "type": "scattergeo"
           }
          ],
          "scattergl": [
           {
            "marker": {
             "colorbar": {
              "outlinewidth": 0,
              "ticks": ""
             }
            },
            "type": "scattergl"
           }
          ],
          "scattermapbox": [
           {
            "marker": {
             "colorbar": {
              "outlinewidth": 0,
              "ticks": ""
             }
            },
            "type": "scattermapbox"
           }
          ],
          "scatterpolar": [
           {
            "marker": {
             "colorbar": {
              "outlinewidth": 0,
              "ticks": ""
             }
            },
            "type": "scatterpolar"
           }
          ],
          "scatterpolargl": [
           {
            "marker": {
             "colorbar": {
              "outlinewidth": 0,
              "ticks": ""
             }
            },
            "type": "scatterpolargl"
           }
          ],
          "scatterternary": [
           {
            "marker": {
             "colorbar": {
              "outlinewidth": 0,
              "ticks": ""
             }
            },
            "type": "scatterternary"
           }
          ],
          "surface": [
           {
            "colorbar": {
             "outlinewidth": 0,
             "ticks": ""
            },
            "colorscale": [
             [
              0,
              "#0d0887"
             ],
             [
              0.1111111111111111,
              "#46039f"
             ],
             [
              0.2222222222222222,
              "#7201a8"
             ],
             [
              0.3333333333333333,
              "#9c179e"
             ],
             [
              0.4444444444444444,
              "#bd3786"
             ],
             [
              0.5555555555555556,
              "#d8576b"
             ],
             [
              0.6666666666666666,
              "#ed7953"
             ],
             [
              0.7777777777777778,
              "#fb9f3a"
             ],
             [
              0.8888888888888888,
              "#fdca26"
             ],
             [
              1,
              "#f0f921"
             ]
            ],
            "type": "surface"
           }
          ],
          "table": [
           {
            "cells": {
             "fill": {
              "color": "#EBF0F8"
             },
             "line": {
              "color": "white"
             }
            },
            "header": {
             "fill": {
              "color": "#C8D4E3"
             },
             "line": {
              "color": "white"
             }
            },
            "type": "table"
           }
          ]
         },
         "layout": {
          "annotationdefaults": {
           "arrowcolor": "#2a3f5f",
           "arrowhead": 0,
           "arrowwidth": 1
          },
          "autotypenumbers": "strict",
          "coloraxis": {
           "colorbar": {
            "outlinewidth": 0,
            "ticks": ""
           }
          },
          "colorscale": {
           "diverging": [
            [
             0,
             "#8e0152"
            ],
            [
             0.1,
             "#c51b7d"
            ],
            [
             0.2,
             "#de77ae"
            ],
            [
             0.3,
             "#f1b6da"
            ],
            [
             0.4,
             "#fde0ef"
            ],
            [
             0.5,
             "#f7f7f7"
            ],
            [
             0.6,
             "#e6f5d0"
            ],
            [
             0.7,
             "#b8e186"
            ],
            [
             0.8,
             "#7fbc41"
            ],
            [
             0.9,
             "#4d9221"
            ],
            [
             1,
             "#276419"
            ]
           ],
           "sequential": [
            [
             0,
             "#0d0887"
            ],
            [
             0.1111111111111111,
             "#46039f"
            ],
            [
             0.2222222222222222,
             "#7201a8"
            ],
            [
             0.3333333333333333,
             "#9c179e"
            ],
            [
             0.4444444444444444,
             "#bd3786"
            ],
            [
             0.5555555555555556,
             "#d8576b"
            ],
            [
             0.6666666666666666,
             "#ed7953"
            ],
            [
             0.7777777777777778,
             "#fb9f3a"
            ],
            [
             0.8888888888888888,
             "#fdca26"
            ],
            [
             1,
             "#f0f921"
            ]
           ],
           "sequentialminus": [
            [
             0,
             "#0d0887"
            ],
            [
             0.1111111111111111,
             "#46039f"
            ],
            [
             0.2222222222222222,
             "#7201a8"
            ],
            [
             0.3333333333333333,
             "#9c179e"
            ],
            [
             0.4444444444444444,
             "#bd3786"
            ],
            [
             0.5555555555555556,
             "#d8576b"
            ],
            [
             0.6666666666666666,
             "#ed7953"
            ],
            [
             0.7777777777777778,
             "#fb9f3a"
            ],
            [
             0.8888888888888888,
             "#fdca26"
            ],
            [
             1,
             "#f0f921"
            ]
           ]
          },
          "colorway": [
           "#636efa",
           "#EF553B",
           "#00cc96",
           "#ab63fa",
           "#FFA15A",
           "#19d3f3",
           "#FF6692",
           "#B6E880",
           "#FF97FF",
           "#FECB52"
          ],
          "font": {
           "color": "#2a3f5f"
          },
          "geo": {
           "bgcolor": "white",
           "lakecolor": "white",
           "landcolor": "#E5ECF6",
           "showlakes": true,
           "showland": true,
           "subunitcolor": "white"
          },
          "hoverlabel": {
           "align": "left"
          },
          "hovermode": "closest",
          "mapbox": {
           "style": "light"
          },
          "paper_bgcolor": "white",
          "plot_bgcolor": "#E5ECF6",
          "polar": {
           "angularaxis": {
            "gridcolor": "white",
            "linecolor": "white",
            "ticks": ""
           },
           "bgcolor": "#E5ECF6",
           "radialaxis": {
            "gridcolor": "white",
            "linecolor": "white",
            "ticks": ""
           }
          },
          "scene": {
           "xaxis": {
            "backgroundcolor": "#E5ECF6",
            "gridcolor": "white",
            "gridwidth": 2,
            "linecolor": "white",
            "showbackground": true,
            "ticks": "",
            "zerolinecolor": "white"
           },
           "yaxis": {
            "backgroundcolor": "#E5ECF6",
            "gridcolor": "white",
            "gridwidth": 2,
            "linecolor": "white",
            "showbackground": true,
            "ticks": "",
            "zerolinecolor": "white"
           },
           "zaxis": {
            "backgroundcolor": "#E5ECF6",
            "gridcolor": "white",
            "gridwidth": 2,
            "linecolor": "white",
            "showbackground": true,
            "ticks": "",
            "zerolinecolor": "white"
           }
          },
          "shapedefaults": {
           "line": {
            "color": "#2a3f5f"
           }
          },
          "ternary": {
           "aaxis": {
            "gridcolor": "white",
            "linecolor": "white",
            "ticks": ""
           },
           "baxis": {
            "gridcolor": "white",
            "linecolor": "white",
            "ticks": ""
           },
           "bgcolor": "#E5ECF6",
           "caxis": {
            "gridcolor": "white",
            "linecolor": "white",
            "ticks": ""
           }
          },
          "title": {
           "x": 0.05
          },
          "xaxis": {
           "automargin": true,
           "gridcolor": "white",
           "linecolor": "white",
           "ticks": "",
           "title": {
            "standoff": 15
           },
           "zerolinecolor": "white",
           "zerolinewidth": 2
          },
          "yaxis": {
           "automargin": true,
           "gridcolor": "white",
           "linecolor": "white",
           "ticks": "",
           "title": {
            "standoff": 15
           },
           "zerolinecolor": "white",
           "zerolinewidth": 2
          }
         }
        },
        "xaxis": {
         "anchor": "y",
         "domain": [
          0,
          1
         ],
         "title": {
          "text": "PC1"
         }
        },
        "yaxis": {
         "anchor": "x",
         "domain": [
          0,
          1
         ],
         "title": {
          "text": "PC2"
         }
        }
       }
      }
     },
     "metadata": {},
     "output_type": "display_data"
    },
    {
     "name": "stdout",
     "output_type": "stream",
     "text": [
      "eps:0.5\n",
      "min:8\n",
      "5\n"
     ]
    },
    {
     "data": {
      "application/vnd.plotly.v1+json": {
       "config": {
        "plotlyServerURL": "https://plot.ly"
       },
       "data": [
        {
         "hovertemplate": "PC1=%{x}<br>PC2=%{y}<br>cluster=%{marker.color}<extra></extra>",
         "legendgroup": "",
         "marker": {
          "color": [
           0,
           0,
           0,
           0,
           0,
           -1,
           -1,
           0,
           1,
           -1,
           0,
           0,
           0,
           1,
           1,
           1,
           -1,
           1,
           1,
           1,
           1,
           -1,
           -1,
           1,
           0,
           1,
           -1,
           0,
           0,
           0,
           1,
           -1,
           1,
           0,
           -1,
           0,
           0,
           0,
           0,
           0,
           0,
           -1,
           0,
           1,
           1,
           0,
           -1,
           -1,
           -1,
           -1,
           0,
           0,
           0,
           -1,
           -1,
           -1,
           -1,
           0,
           -1,
           2,
           -1,
           2,
           -1,
           -1,
           2,
           2,
           2,
           0,
           -1,
           2,
           2,
           -1,
           1,
           0,
           0,
           0,
           0,
           0,
           0,
           -1,
           0,
           0,
           0,
           -1,
           -1,
           0,
           2,
           3,
           -1,
           -1,
           -1,
           0,
           0,
           -1,
           0,
           -1,
           -1,
           -1,
           0,
           -1,
           -1,
           -1,
           -1,
           -1,
           -1,
           -1,
           -1,
           3,
           -1,
           3,
           -1,
           2,
           -1,
           3,
           3,
           3,
           3,
           3,
           3,
           3,
           3,
           -1,
           3,
           -1,
           2,
           -1,
           3,
           3,
           3,
           2,
           -1,
           -1,
           -1,
           0,
           -1,
           -1,
           0,
           0,
           -1,
           -1,
           0,
           -1,
           0,
           -1,
           0,
           0,
           -1,
           1,
           0,
           0,
           0,
           -1,
           -1,
           -1,
           -1,
           0,
           -1,
           0,
           0,
           -1,
           -1,
           0,
           0,
           0,
           -1,
           0,
           0,
           0,
           0,
           0,
           -1,
           0,
           0,
           -1,
           0,
           0,
           0,
           0,
           0,
           0,
           -1,
           0,
           0,
           -1,
           -1,
           0,
           2,
           0,
           0,
           -1,
           0,
           0,
           0,
           0,
           0,
           -1,
           -1,
           0,
           0,
           0,
           0,
           0,
           0,
           0,
           0,
           0,
           0,
           0,
           0,
           0,
           0,
           -1,
           0,
           0,
           0,
           0,
           0,
           0,
           -1,
           0,
           0,
           -1,
           -1,
           -1,
           0,
           0,
           0,
           0,
           0,
           0,
           0,
           0,
           0,
           0,
           0,
           0,
           0,
           0,
           0,
           0,
           0,
           0,
           0,
           0,
           0,
           0,
           0,
           2,
           3,
           3,
           3,
           0,
           0,
           0,
           0,
           0,
           0,
           0,
           0,
           -1,
           -1,
           0,
           0,
           -1,
           -1,
           0,
           0,
           1,
           1,
           1,
           1,
           3,
           -1,
           3,
           3,
           2,
           3,
           -1,
           0,
           2,
           -1,
           -1,
           -1,
           -1,
           0,
           0,
           0,
           0,
           0,
           0,
           0,
           0,
           0,
           0,
           0,
           -1,
           0,
           0,
           -1,
           1,
           -1,
           3,
           0,
           0,
           -1,
           0
          ],
          "coloraxis": "coloraxis",
          "symbol": "circle"
         },
         "mode": "markers",
         "name": "",
         "orientation": "v",
         "showlegend": false,
         "type": "scatter",
         "x": [
          -0.3508186445814046,
          -0.5639310289142907,
          -0.5876614889048775,
          -0.5823377224391548,
          -0.5607934377831532,
          0.4195720316235605,
          0.4072448737758711,
          -0.4113530731621215,
          -0.00399273331831062,
          -0.1852422563817428,
          -0.44739994890418283,
          -0.17321034471097554,
          -0.9863859016696982,
          0.363681409013939,
          0.5332508277656569,
          0.4280966465773618,
          1.0588501758287197,
          0.025247980120545525,
          0.23810740264577307,
          0.6865351171763053,
          0.2581063436168159,
          0.3715708207646612,
          -0.4131797356835435,
          -0.04785829771362803,
          -0.9827684239122897,
          0.3681831670016599,
          -0.2935365288623707,
          -1.1909481439518261,
          -1.1528255253136725,
          -0.7069147217330235,
          0.40055109920872667,
          0.00803215716421511,
          0.14911199452136348,
          -0.16737103147821697,
          0.760616799924241,
          -0.23008068388502226,
          -0.7678298340451299,
          -0.540115638809465,
          -0.6308503154771031,
          -0.8514860460990357,
          -0.6867705734521476,
          -0.2078070316297446,
          -0.7308828712104986,
          0.5838622089680124,
          0.23092709056774202,
          -0.25715838997259816,
          0.5912142380882366,
          0.45038843768797976,
          0.7458086225076698,
          0.6665341479810564,
          -0.3559651445471211,
          0.14544245797935162,
          0.16923801231755534,
          0.28649183156012964,
          0.49776358997416936,
          1.0061507020713225,
          -0.00044711259362545716,
          0.28586827885250043,
          0.25658402880596615,
          1.2550220032228516,
          0.12286107335774328,
          1.485896209569183,
          1.141757343619969,
          1.083056179238525,
          1.2308187941802846,
          1.398828328888598,
          1.3054235587132532,
          -0.6767646613072369,
          0.6750460519396514,
          1.370581465278255,
          1.2018852316157136,
          -0.2580847111797142,
          -0.011498460508768802,
          -0.8370263340387589,
          -0.6363564838589613,
          -0.42919282404945464,
          -1.1039702224687824,
          -0.1088711356058151,
          -0.4596040070615721,
          0.1418478816660463,
          0.21957884447651801,
          0.3554794976193818,
          -0.8742386278118172,
          -0.2746466637092127,
          1.1054992040219718,
          -1.2632478611888398,
          1.5367762704079522,
          2.0068280117827495,
          0.850062335137054,
          0.33944496228293397,
          0.19249504445578958,
          -1.3581558798511084,
          0.2434247873301313,
          0.5263964218229623,
          -0.4868238715600447,
          1.1886039499169794,
          1.312567480095893,
          1.5798144290432872,
          0.09562530830559078,
          0.10113773211496412,
          2.033076972324046,
          0.8053821545180139,
          0.637502907215228,
          1.0203277391689545,
          1.1081509796409459,
          1.2746332749915992,
          1.0753569684035553,
          1.7049819492724492,
          1.6587035438150557,
          1.7295177415265623,
          0.5214983885075135,
          1.3702205937067362,
          1.518749873805489,
          2.1729248712419267,
          2.5854778650398846,
          2.411180428395736,
          2.1166243572495915,
          2.0214316278135502,
          1.8271443317174267,
          1.7146476778873738,
          2.0310988554007685,
          2.2173494244528684,
          2.184350145824153,
          1.5947485452960408,
          1.0679977016528681,
          0.8413104680994339,
          1.9202053051499042,
          1.8312001793279702,
          2.0139938593698643,
          1.3205121461089913,
          0.8282043651674835,
          1.2256783451926239,
          1.3358151046978437,
          -0.9688877415976315,
          0.26608200929683606,
          0.4664951006725747,
          -0.0563240048251054,
          -0.0559120157718613,
          1.1399716405498577,
          0.5358927796322845,
          0.018958766203575374,
          -0.24741988762852457,
          -0.5776044130063319,
          0.6475878617948905,
          -0.9100792974452094,
          0.49081208825788125,
          0.3298476395279003,
          -0.007475294677475479,
          -0.489846855978679,
          -0.8491853143573168,
          -0.7011129372532078,
          -0.05347780212672248,
          -0.0011183823042832202,
          -0.5655651342350086,
          -0.6620259718207827,
          -0.9227863531495146,
          -0.6622952480314663,
          -0.4782287610370813,
          -0.5932215055392788,
          0.12014236348877132,
          0.6903330209670598,
          -0.8426881627710046,
          -0.6917978730477802,
          -0.6781299724263031,
          0.1602732904474833,
          -0.6133650035392196,
          -0.6949704672974494,
          -0.9075944177318687,
          -0.8786928400558157,
          -0.9058658749968183,
          -0.31613938719436746,
          -1.4063256915973272,
          -1.3803818930202079,
          0.2625615034769143,
          -0.8470754546783491,
          -1.1030175239198672,
          -1.2002009601984962,
          -1.1015107582333754,
          -0.25448883335801076,
          -1.3268121966813606,
          0.21320098873326973,
          -0.6498069261405497,
          -0.9346574497489317,
          -0.23027783265072188,
          -0.5611158720424748,
          -0.6718621245174528,
          0.9811493906055307,
          -0.8636997616209908,
          -0.6227009894166133,
          0.26969388609522693,
          -1.2974700268568877,
          -0.7689427359366564,
          -1.1308155565904985,
          -1.1858237917313565,
          -1.1576084927470962,
          0.12712467464253588,
          0.6706059789697033,
          -0.3921416370294183,
          -0.11598044718702563,
          -0.23151664766119667,
          -0.7816102873703236,
          -0.7653708834373745,
          -0.5609480660210393,
          -1.2245683886515315,
          -1.2528323446207357,
          -0.04827769016556094,
          -0.620381709756415,
          -1.3179427171238245,
          -1.020448678856538,
          -1.122767828461264,
          -1.295461906008073,
          -0.2150777897030298,
          -1.0690715515230613,
          -0.6521075215103971,
          -0.7687037917119958,
          -1.1341499985115364,
          -1.206294094750507,
          -1.1419834961733435,
          0.15924292373346194,
          -1.0338737764714179,
          -0.9671029081402572,
          0.7301776776959528,
          0.22630807645404594,
          -0.03217868737816261,
          -0.8246874406681577,
          -0.0665121498396239,
          -0.525452729661283,
          -1.163670997184323,
          -1.0990419409084324,
          -0.871028416180363,
          -0.9839363695459624,
          -0.7071642819921274,
          -0.9649538646384597,
          -0.07938786382715807,
          -0.6511732443827587,
          -1.0495691285147353,
          -1.216907719249716,
          -1.0202686457871843,
          -1.245096243526878,
          -0.8051863963938097,
          -1.4079974175266863,
          -1.238577998585358,
          -1.1597420643057776,
          -0.49885995427398205,
          -1.2294098096570147,
          -1.3473762262692497,
          -0.9893474027848611,
          1.324644655674268,
          2.236559940687958,
          2.300220738929092,
          2.5447691037266145,
          -1.3290802025585322,
          -1.0339295771544759,
          -0.3646263998858898,
          -0.9210480898797002,
          -1.0528999459414,
          -0.7465386837494035,
          -1.3310648253509125,
          -0.15504914093148417,
          -0.17437782760361567,
          -0.2603429111629848,
          -0.8277771276090602,
          -0.5418252456462207,
          0.6086703948875171,
          -0.5988433486407282,
          -0.9028097234226942,
          -0.9592914666868012,
          0.22142476650741127,
          0.7932088658321987,
          0.5636494338661097,
          0.41197956731334534,
          1.826830708628797,
          0.31242812323741953,
          1.902649433624108,
          1.620881829702091,
          1.2518535611471007,
          2.144068931719886,
          0.43127983098330536,
          -0.326669105779434,
          1.1600755290161804,
          0.6320233562856604,
          0.7899229468245065,
          0.21091418080767607,
          0.7684640830904039,
          -1.2050179821235905,
          -1.003315446220766,
          -1.300336769491636,
          -1.2169871538010222,
          -1.4762498697303896,
          0.2818455182041284,
          -0.9236872137307428,
          -1.2034142443186877,
          -1.3539329811844136,
          -0.5113520614681136,
          -0.8684685964407897,
          -0.6600211472717245,
          0.02387224500841111,
          -0.10249542394847518,
          -0.5073132666040002,
          0.5206042476056767,
          0.15663991940049013,
          1.9189992338794515,
          -0.5326400765665911,
          -0.8536336765878905,
          0.23333215288286902,
          -0.6440736946026615
         ],
         "xaxis": "x",
         "y": [
          0.7099961857978953,
          0.42702553658784737,
          0.32532461799333984,
          -0.30751240895039944,
          -0.13734036816883838,
          0.31128851737849844,
          0.729962167893389,
          -0.0005735189402775898,
          0.8184393245280276,
          1.117196888341552,
          0.6623167014430784,
          0.5818759175510941,
          -0.5755506430210526,
          0.7595512721812351,
          1.0919717029401952,
          0.9287727424286327,
          0.647167399836963,
          1.1481584414274244,
          1.0538483156137948,
          1.068173947937826,
          0.8958960717525997,
          0.5678691445652688,
          0.4174137788963033,
          0.7527314614167181,
          -0.32417865836517257,
          1.2685351012786688,
          1.1329563580483628,
          -0.6309878142198015,
          -0.5784391528625124,
          -0.04627264220648031,
          1.0451683016282647,
          0.6363022232065211,
          0.6090535964371065,
          0.3389705573491687,
          -0.07876016749848436,
          -0.005161321019689319,
          -0.16245932754008796,
          -0.015756191193797463,
          0.19443560793123194,
          -0.094922033919062,
          0.4528492287184965,
          1.1992796693159886,
          0.28812500403641145,
          1.3827214876209564,
          1.112825496480182,
          0.820319273071483,
          -0.19017580106885862,
          -0.07244448877381379,
          0.4750518811453017,
          -0.6854025144338283,
          0.20702474930218934,
          0.1518140456897288,
          -0.05401545573946639,
          0.15929102424296657,
          0.3937351519692185,
          1.014706623198994,
          0.6371969911009774,
          0.1750033851741816,
          -0.6006650204085802,
          -0.0792124573390606,
          1.512070916552906,
          -0.6427866590478051,
          -0.03307075643171754,
          0.5274321350929281,
          -0.45485297270854297,
          -0.5564822170596899,
          -0.6115030808876163,
          -0.30479187981488526,
          -0.3098013915666279,
          -0.4457154428997717,
          -0.698679628353853,
          0.6013513192758371,
          1.0639967642006818,
          0.23703389905433955,
          0.6299565866915858,
          0.8345022141548945,
          -0.4323407360986679,
          -0.36112213785851976,
          0.5276588766709592,
          -0.07191032684639224,
          0.4567759882447646,
          -0.24191454883831306,
          0.1428429389318786,
          0.39866159386906896,
          0.029551102791049888,
          -0.6860368415335261,
          -0.2269403331648695,
          -0.5324958691880598,
          0.41247460087419985,
          0.6397017321322944,
          0.7167548034897423,
          -0.7968509799301254,
          0.4579173464816717,
          0.6929268513292324,
          0.3027252421361952,
          -0.5018055971078058,
          -0.9262446362631672,
          -0.7089125244246054,
          -0.09250520902190804,
          -0.24347082832148273,
          -0.5011749815040876,
          0.2769417524742287,
          0.6594733357560907,
          0.1464652696809386,
          0.17980367632117927,
          0.2876728571762101,
          0.24207094960578387,
          -0.47685645775978125,
          -0.4641342832744238,
          -0.6242657785803362,
          -0.35839496694913836,
          -0.6697201639582336,
          -0.5934551819218801,
          -0.6776601586832687,
          -0.772206603265197,
          -0.8256034226699906,
          -0.6034916443139994,
          -0.6959188228222942,
          -0.6506881292737736,
          -0.730610566802647,
          -0.7118028645644151,
          -0.5537360443743592,
          -0.7516917933008144,
          -1.0413224864771373,
          -0.2888912128532489,
          0.16165561715961727,
          -0.6301647136546636,
          -0.5457559028477338,
          -0.7375472316736065,
          -0.30382668918844896,
          0.14392662023758906,
          0.4029023478736755,
          0.11923488393747818,
          -0.3931448013405179,
          0.47116303960960504,
          -0.3057199867825617,
          0.19033436901269668,
          0.3672353828015206,
          -0.11915816433922534,
          -0.22949644038607933,
          0.0005381922934969265,
          0.4014541076202302,
          0.011226333971447174,
          0.15316753403502015,
          -0.17839685429915678,
          0.1162964727268741,
          0.6132218639995656,
          0.7440426957254411,
          0.5514812675631249,
          0.2558900153292978,
          -0.41263591264996197,
          -0.24829956261552585,
          -0.08343938247417602,
          -0.20777470378370455,
          -0.24080633807485974,
          -0.3134496109536108,
          0.26608327441236906,
          -0.029058638683316398,
          0.0671953806310761,
          0.7504319775030304,
          1.1239966883690784,
          -0.45781463258792676,
          0.34873035447720835,
          0.8756141158887747,
          0.9258608099918605,
          0.4841868261378967,
          0.7141823455552794,
          -0.03732354018898182,
          0.28878723343162016,
          0.15719818315722064,
          0.7973884178965798,
          -0.7660432689583268,
          -0.84400657794849,
          -0.45947960809374516,
          -0.3345165522557174,
          -0.6649776248286672,
          -0.6363778850046428,
          -0.5993592194355751,
          -0.18919715662760342,
          -0.7691383038182813,
          0.04053435533132516,
          0.21657270370862602,
          -0.014942354878290992,
          0.9030285565753604,
          -0.4266317392588027,
          0.15182338797892395,
          -0.19851912578326078,
          0.054602340636070716,
          0.4071145704787819,
          0.4220990016103621,
          -0.7460484006509379,
          -0.37416817643363576,
          -0.6372097375723659,
          -0.5063493452642951,
          -0.09239144822483929,
          0.8850748108824067,
          -0.3774211773239248,
          0.11439303192748623,
          0.21840717600576146,
          0.41308681848561374,
          -0.156487389434147,
          -0.21246162342132058,
          0.35967154146760516,
          -0.6280362618690645,
          -0.6751485839668573,
          0.4564923562030079,
          0.46341219854131854,
          -0.6255699562303365,
          -0.14648385725392216,
          -0.529967500091482,
          -0.7969822771052225,
          0.2212198399904749,
          -0.35734431874142725,
          -0.490786380395956,
          -0.31872916446986554,
          -0.6918558834102606,
          -0.7082270021088811,
          -0.7238134790639272,
          0.12244694049215733,
          -0.3995158569063484,
          -0.5271808752106215,
          0.6167487204970656,
          1.3015349678754837,
          1.3070266362899396,
          -0.11326696955333448,
          0.03762840489926836,
          0.4637935227601997,
          -0.3581647071056107,
          -0.7534000614183912,
          -0.32871859328507014,
          -0.2747903697084202,
          -0.1782478319197431,
          -0.5058423435176054,
          0.28564173412763133,
          0.22065552600422933,
          -0.6473159610252815,
          -0.6069361767018229,
          -0.6298085539721407,
          -0.7732732549216,
          -0.4923166757282111,
          -0.6975829899400697,
          -0.7388955697842149,
          -0.43264234556453635,
          0.09749775065327997,
          -0.6339343049928898,
          -0.6640631227213608,
          -0.2201238450942663,
          -0.7406821537471711,
          -0.6143040266580025,
          -0.5698169156217819,
          -0.8756335115452012,
          -0.5141589243246582,
          -0.34764364588050745,
          0.44145008058227136,
          -0.31539811267161544,
          -0.6370741888817835,
          -0.19493915236414852,
          -0.7735155602581518,
          0.3156325537205879,
          1.0556241456946518,
          1.0440701043581253,
          0.32877861478383197,
          0.3164185453548597,
          1.1615210253233557,
          0.04553512632354633,
          -0.2433147074464451,
          -0.3581664229481636,
          0.9437433574201339,
          1.1007774491822322,
          1.0107234027065128,
          0.9274899088166828,
          -0.7662581492563958,
          -0.7871634414585786,
          -0.5293459180136509,
          -0.6432404647199428,
          -0.581318473331517,
          -0.6916550585341287,
          -0.21108386707704713,
          0.04222803626490735,
          -0.6624768970250287,
          -0.36007697929215565,
          0.5369447952766742,
          0.9916844193676572,
          -0.5361063431814365,
          -0.5855287098767852,
          -0.4008160716345416,
          -0.7611554973033743,
          -0.6659259100919337,
          -0.802516056383197,
          0.04535682741649859,
          -0.28061484381918506,
          -0.6098813595061421,
          -0.8132859063928752,
          -0.1951940050040877,
          -0.33410450200889125,
          0.7126277842603084,
          0.16591497309967654,
          0.3509629701820568,
          1.0256786577294228,
          1.0272833710267137,
          0.9212705727252719,
          -0.71638376743169,
          -0.3934942048076385,
          -0.3503235301888743,
          -0.019981995927691884,
          0.06001570368658886
         ],
         "yaxis": "y"
        }
       ],
       "layout": {
        "coloraxis": {
         "colorbar": {
          "title": {
           "text": "cluster"
          }
         },
         "colorscale": [
          [
           0,
           "#0d0887"
          ],
          [
           0.1111111111111111,
           "#46039f"
          ],
          [
           0.2222222222222222,
           "#7201a8"
          ],
          [
           0.3333333333333333,
           "#9c179e"
          ],
          [
           0.4444444444444444,
           "#bd3786"
          ],
          [
           0.5555555555555556,
           "#d8576b"
          ],
          [
           0.6666666666666666,
           "#ed7953"
          ],
          [
           0.7777777777777778,
           "#fb9f3a"
          ],
          [
           0.8888888888888888,
           "#fdca26"
          ],
          [
           1,
           "#f0f921"
          ]
         ]
        },
        "legend": {
         "tracegroupgap": 0
        },
        "margin": {
         "t": 60
        },
        "template": {
         "data": {
          "bar": [
           {
            "error_x": {
             "color": "#2a3f5f"
            },
            "error_y": {
             "color": "#2a3f5f"
            },
            "marker": {
             "line": {
              "color": "#E5ECF6",
              "width": 0.5
             },
             "pattern": {
              "fillmode": "overlay",
              "size": 10,
              "solidity": 0.2
             }
            },
            "type": "bar"
           }
          ],
          "barpolar": [
           {
            "marker": {
             "line": {
              "color": "#E5ECF6",
              "width": 0.5
             },
             "pattern": {
              "fillmode": "overlay",
              "size": 10,
              "solidity": 0.2
             }
            },
            "type": "barpolar"
           }
          ],
          "carpet": [
           {
            "aaxis": {
             "endlinecolor": "#2a3f5f",
             "gridcolor": "white",
             "linecolor": "white",
             "minorgridcolor": "white",
             "startlinecolor": "#2a3f5f"
            },
            "baxis": {
             "endlinecolor": "#2a3f5f",
             "gridcolor": "white",
             "linecolor": "white",
             "minorgridcolor": "white",
             "startlinecolor": "#2a3f5f"
            },
            "type": "carpet"
           }
          ],
          "choropleth": [
           {
            "colorbar": {
             "outlinewidth": 0,
             "ticks": ""
            },
            "type": "choropleth"
           }
          ],
          "contour": [
           {
            "colorbar": {
             "outlinewidth": 0,
             "ticks": ""
            },
            "colorscale": [
             [
              0,
              "#0d0887"
             ],
             [
              0.1111111111111111,
              "#46039f"
             ],
             [
              0.2222222222222222,
              "#7201a8"
             ],
             [
              0.3333333333333333,
              "#9c179e"
             ],
             [
              0.4444444444444444,
              "#bd3786"
             ],
             [
              0.5555555555555556,
              "#d8576b"
             ],
             [
              0.6666666666666666,
              "#ed7953"
             ],
             [
              0.7777777777777778,
              "#fb9f3a"
             ],
             [
              0.8888888888888888,
              "#fdca26"
             ],
             [
              1,
              "#f0f921"
             ]
            ],
            "type": "contour"
           }
          ],
          "contourcarpet": [
           {
            "colorbar": {
             "outlinewidth": 0,
             "ticks": ""
            },
            "type": "contourcarpet"
           }
          ],
          "heatmap": [
           {
            "colorbar": {
             "outlinewidth": 0,
             "ticks": ""
            },
            "colorscale": [
             [
              0,
              "#0d0887"
             ],
             [
              0.1111111111111111,
              "#46039f"
             ],
             [
              0.2222222222222222,
              "#7201a8"
             ],
             [
              0.3333333333333333,
              "#9c179e"
             ],
             [
              0.4444444444444444,
              "#bd3786"
             ],
             [
              0.5555555555555556,
              "#d8576b"
             ],
             [
              0.6666666666666666,
              "#ed7953"
             ],
             [
              0.7777777777777778,
              "#fb9f3a"
             ],
             [
              0.8888888888888888,
              "#fdca26"
             ],
             [
              1,
              "#f0f921"
             ]
            ],
            "type": "heatmap"
           }
          ],
          "heatmapgl": [
           {
            "colorbar": {
             "outlinewidth": 0,
             "ticks": ""
            },
            "colorscale": [
             [
              0,
              "#0d0887"
             ],
             [
              0.1111111111111111,
              "#46039f"
             ],
             [
              0.2222222222222222,
              "#7201a8"
             ],
             [
              0.3333333333333333,
              "#9c179e"
             ],
             [
              0.4444444444444444,
              "#bd3786"
             ],
             [
              0.5555555555555556,
              "#d8576b"
             ],
             [
              0.6666666666666666,
              "#ed7953"
             ],
             [
              0.7777777777777778,
              "#fb9f3a"
             ],
             [
              0.8888888888888888,
              "#fdca26"
             ],
             [
              1,
              "#f0f921"
             ]
            ],
            "type": "heatmapgl"
           }
          ],
          "histogram": [
           {
            "marker": {
             "pattern": {
              "fillmode": "overlay",
              "size": 10,
              "solidity": 0.2
             }
            },
            "type": "histogram"
           }
          ],
          "histogram2d": [
           {
            "colorbar": {
             "outlinewidth": 0,
             "ticks": ""
            },
            "colorscale": [
             [
              0,
              "#0d0887"
             ],
             [
              0.1111111111111111,
              "#46039f"
             ],
             [
              0.2222222222222222,
              "#7201a8"
             ],
             [
              0.3333333333333333,
              "#9c179e"
             ],
             [
              0.4444444444444444,
              "#bd3786"
             ],
             [
              0.5555555555555556,
              "#d8576b"
             ],
             [
              0.6666666666666666,
              "#ed7953"
             ],
             [
              0.7777777777777778,
              "#fb9f3a"
             ],
             [
              0.8888888888888888,
              "#fdca26"
             ],
             [
              1,
              "#f0f921"
             ]
            ],
            "type": "histogram2d"
           }
          ],
          "histogram2dcontour": [
           {
            "colorbar": {
             "outlinewidth": 0,
             "ticks": ""
            },
            "colorscale": [
             [
              0,
              "#0d0887"
             ],
             [
              0.1111111111111111,
              "#46039f"
             ],
             [
              0.2222222222222222,
              "#7201a8"
             ],
             [
              0.3333333333333333,
              "#9c179e"
             ],
             [
              0.4444444444444444,
              "#bd3786"
             ],
             [
              0.5555555555555556,
              "#d8576b"
             ],
             [
              0.6666666666666666,
              "#ed7953"
             ],
             [
              0.7777777777777778,
              "#fb9f3a"
             ],
             [
              0.8888888888888888,
              "#fdca26"
             ],
             [
              1,
              "#f0f921"
             ]
            ],
            "type": "histogram2dcontour"
           }
          ],
          "mesh3d": [
           {
            "colorbar": {
             "outlinewidth": 0,
             "ticks": ""
            },
            "type": "mesh3d"
           }
          ],
          "parcoords": [
           {
            "line": {
             "colorbar": {
              "outlinewidth": 0,
              "ticks": ""
             }
            },
            "type": "parcoords"
           }
          ],
          "pie": [
           {
            "automargin": true,
            "type": "pie"
           }
          ],
          "scatter": [
           {
            "fillpattern": {
             "fillmode": "overlay",
             "size": 10,
             "solidity": 0.2
            },
            "type": "scatter"
           }
          ],
          "scatter3d": [
           {
            "line": {
             "colorbar": {
              "outlinewidth": 0,
              "ticks": ""
             }
            },
            "marker": {
             "colorbar": {
              "outlinewidth": 0,
              "ticks": ""
             }
            },
            "type": "scatter3d"
           }
          ],
          "scattercarpet": [
           {
            "marker": {
             "colorbar": {
              "outlinewidth": 0,
              "ticks": ""
             }
            },
            "type": "scattercarpet"
           }
          ],
          "scattergeo": [
           {
            "marker": {
             "colorbar": {
              "outlinewidth": 0,
              "ticks": ""
             }
            },
            "type": "scattergeo"
           }
          ],
          "scattergl": [
           {
            "marker": {
             "colorbar": {
              "outlinewidth": 0,
              "ticks": ""
             }
            },
            "type": "scattergl"
           }
          ],
          "scattermapbox": [
           {
            "marker": {
             "colorbar": {
              "outlinewidth": 0,
              "ticks": ""
             }
            },
            "type": "scattermapbox"
           }
          ],
          "scatterpolar": [
           {
            "marker": {
             "colorbar": {
              "outlinewidth": 0,
              "ticks": ""
             }
            },
            "type": "scatterpolar"
           }
          ],
          "scatterpolargl": [
           {
            "marker": {
             "colorbar": {
              "outlinewidth": 0,
              "ticks": ""
             }
            },
            "type": "scatterpolargl"
           }
          ],
          "scatterternary": [
           {
            "marker": {
             "colorbar": {
              "outlinewidth": 0,
              "ticks": ""
             }
            },
            "type": "scatterternary"
           }
          ],
          "surface": [
           {
            "colorbar": {
             "outlinewidth": 0,
             "ticks": ""
            },
            "colorscale": [
             [
              0,
              "#0d0887"
             ],
             [
              0.1111111111111111,
              "#46039f"
             ],
             [
              0.2222222222222222,
              "#7201a8"
             ],
             [
              0.3333333333333333,
              "#9c179e"
             ],
             [
              0.4444444444444444,
              "#bd3786"
             ],
             [
              0.5555555555555556,
              "#d8576b"
             ],
             [
              0.6666666666666666,
              "#ed7953"
             ],
             [
              0.7777777777777778,
              "#fb9f3a"
             ],
             [
              0.8888888888888888,
              "#fdca26"
             ],
             [
              1,
              "#f0f921"
             ]
            ],
            "type": "surface"
           }
          ],
          "table": [
           {
            "cells": {
             "fill": {
              "color": "#EBF0F8"
             },
             "line": {
              "color": "white"
             }
            },
            "header": {
             "fill": {
              "color": "#C8D4E3"
             },
             "line": {
              "color": "white"
             }
            },
            "type": "table"
           }
          ]
         },
         "layout": {
          "annotationdefaults": {
           "arrowcolor": "#2a3f5f",
           "arrowhead": 0,
           "arrowwidth": 1
          },
          "autotypenumbers": "strict",
          "coloraxis": {
           "colorbar": {
            "outlinewidth": 0,
            "ticks": ""
           }
          },
          "colorscale": {
           "diverging": [
            [
             0,
             "#8e0152"
            ],
            [
             0.1,
             "#c51b7d"
            ],
            [
             0.2,
             "#de77ae"
            ],
            [
             0.3,
             "#f1b6da"
            ],
            [
             0.4,
             "#fde0ef"
            ],
            [
             0.5,
             "#f7f7f7"
            ],
            [
             0.6,
             "#e6f5d0"
            ],
            [
             0.7,
             "#b8e186"
            ],
            [
             0.8,
             "#7fbc41"
            ],
            [
             0.9,
             "#4d9221"
            ],
            [
             1,
             "#276419"
            ]
           ],
           "sequential": [
            [
             0,
             "#0d0887"
            ],
            [
             0.1111111111111111,
             "#46039f"
            ],
            [
             0.2222222222222222,
             "#7201a8"
            ],
            [
             0.3333333333333333,
             "#9c179e"
            ],
            [
             0.4444444444444444,
             "#bd3786"
            ],
            [
             0.5555555555555556,
             "#d8576b"
            ],
            [
             0.6666666666666666,
             "#ed7953"
            ],
            [
             0.7777777777777778,
             "#fb9f3a"
            ],
            [
             0.8888888888888888,
             "#fdca26"
            ],
            [
             1,
             "#f0f921"
            ]
           ],
           "sequentialminus": [
            [
             0,
             "#0d0887"
            ],
            [
             0.1111111111111111,
             "#46039f"
            ],
            [
             0.2222222222222222,
             "#7201a8"
            ],
            [
             0.3333333333333333,
             "#9c179e"
            ],
            [
             0.4444444444444444,
             "#bd3786"
            ],
            [
             0.5555555555555556,
             "#d8576b"
            ],
            [
             0.6666666666666666,
             "#ed7953"
            ],
            [
             0.7777777777777778,
             "#fb9f3a"
            ],
            [
             0.8888888888888888,
             "#fdca26"
            ],
            [
             1,
             "#f0f921"
            ]
           ]
          },
          "colorway": [
           "#636efa",
           "#EF553B",
           "#00cc96",
           "#ab63fa",
           "#FFA15A",
           "#19d3f3",
           "#FF6692",
           "#B6E880",
           "#FF97FF",
           "#FECB52"
          ],
          "font": {
           "color": "#2a3f5f"
          },
          "geo": {
           "bgcolor": "white",
           "lakecolor": "white",
           "landcolor": "#E5ECF6",
           "showlakes": true,
           "showland": true,
           "subunitcolor": "white"
          },
          "hoverlabel": {
           "align": "left"
          },
          "hovermode": "closest",
          "mapbox": {
           "style": "light"
          },
          "paper_bgcolor": "white",
          "plot_bgcolor": "#E5ECF6",
          "polar": {
           "angularaxis": {
            "gridcolor": "white",
            "linecolor": "white",
            "ticks": ""
           },
           "bgcolor": "#E5ECF6",
           "radialaxis": {
            "gridcolor": "white",
            "linecolor": "white",
            "ticks": ""
           }
          },
          "scene": {
           "xaxis": {
            "backgroundcolor": "#E5ECF6",
            "gridcolor": "white",
            "gridwidth": 2,
            "linecolor": "white",
            "showbackground": true,
            "ticks": "",
            "zerolinecolor": "white"
           },
           "yaxis": {
            "backgroundcolor": "#E5ECF6",
            "gridcolor": "white",
            "gridwidth": 2,
            "linecolor": "white",
            "showbackground": true,
            "ticks": "",
            "zerolinecolor": "white"
           },
           "zaxis": {
            "backgroundcolor": "#E5ECF6",
            "gridcolor": "white",
            "gridwidth": 2,
            "linecolor": "white",
            "showbackground": true,
            "ticks": "",
            "zerolinecolor": "white"
           }
          },
          "shapedefaults": {
           "line": {
            "color": "#2a3f5f"
           }
          },
          "ternary": {
           "aaxis": {
            "gridcolor": "white",
            "linecolor": "white",
            "ticks": ""
           },
           "baxis": {
            "gridcolor": "white",
            "linecolor": "white",
            "ticks": ""
           },
           "bgcolor": "#E5ECF6",
           "caxis": {
            "gridcolor": "white",
            "linecolor": "white",
            "ticks": ""
           }
          },
          "title": {
           "x": 0.05
          },
          "xaxis": {
           "automargin": true,
           "gridcolor": "white",
           "linecolor": "white",
           "ticks": "",
           "title": {
            "standoff": 15
           },
           "zerolinecolor": "white",
           "zerolinewidth": 2
          },
          "yaxis": {
           "automargin": true,
           "gridcolor": "white",
           "linecolor": "white",
           "ticks": "",
           "title": {
            "standoff": 15
           },
           "zerolinecolor": "white",
           "zerolinewidth": 2
          }
         }
        },
        "xaxis": {
         "anchor": "y",
         "domain": [
          0,
          1
         ],
         "title": {
          "text": "PC1"
         }
        },
        "yaxis": {
         "anchor": "x",
         "domain": [
          0,
          1
         ],
         "title": {
          "text": "PC2"
         }
        }
       }
      }
     },
     "metadata": {},
     "output_type": "display_data"
    },
    {
     "name": "stdout",
     "output_type": "stream",
     "text": [
      "eps:0.5\n",
      "min:9\n",
      "5\n"
     ]
    },
    {
     "data": {
      "application/vnd.plotly.v1+json": {
       "config": {
        "plotlyServerURL": "https://plot.ly"
       },
       "data": [
        {
         "hovertemplate": "PC1=%{x}<br>PC2=%{y}<br>cluster=%{marker.color}<extra></extra>",
         "legendgroup": "",
         "marker": {
          "color": [
           0,
           0,
           0,
           0,
           0,
           -1,
           -1,
           0,
           1,
           -1,
           0,
           0,
           0,
           1,
           1,
           1,
           -1,
           1,
           1,
           1,
           1,
           -1,
           -1,
           1,
           0,
           1,
           -1,
           0,
           0,
           0,
           1,
           -1,
           1,
           0,
           -1,
           0,
           0,
           0,
           0,
           0,
           0,
           -1,
           0,
           1,
           1,
           0,
           -1,
           -1,
           -1,
           -1,
           0,
           -1,
           0,
           -1,
           -1,
           -1,
           -1,
           0,
           -1,
           -1,
           -1,
           3,
           -1,
           -1,
           -1,
           3,
           3,
           0,
           -1,
           3,
           3,
           -1,
           -1,
           0,
           0,
           0,
           0,
           -1,
           0,
           -1,
           0,
           -1,
           0,
           -1,
           -1,
           0,
           -1,
           2,
           -1,
           -1,
           -1,
           0,
           0,
           -1,
           0,
           -1,
           -1,
           -1,
           0,
           -1,
           -1,
           -1,
           -1,
           -1,
           -1,
           -1,
           -1,
           -1,
           -1,
           2,
           -1,
           3,
           -1,
           2,
           2,
           2,
           2,
           2,
           2,
           -1,
           2,
           -1,
           2,
           -1,
           -1,
           -1,
           2,
           2,
           2,
           3,
           -1,
           -1,
           -1,
           0,
           -1,
           -1,
           0,
           0,
           -1,
           -1,
           0,
           -1,
           0,
           -1,
           0,
           -1,
           -1,
           1,
           0,
           0,
           0,
           -1,
           -1,
           -1,
           -1,
           0,
           -1,
           0,
           -1,
           -1,
           -1,
           0,
           0,
           -1,
           -1,
           0,
           0,
           0,
           0,
           0,
           -1,
           0,
           0,
           -1,
           0,
           0,
           0,
           0,
           0,
           0,
           -1,
           0,
           0,
           -1,
           -1,
           -1,
           -1,
           0,
           0,
           -1,
           0,
           0,
           0,
           0,
           0,
           -1,
           -1,
           0,
           0,
           0,
           0,
           0,
           0,
           0,
           0,
           0,
           0,
           0,
           0,
           0,
           0,
           -1,
           0,
           0,
           0,
           0,
           0,
           0,
           -1,
           0,
           0,
           -1,
           -1,
           -1,
           0,
           -1,
           0,
           0,
           0,
           0,
           0,
           0,
           0,
           0,
           0,
           0,
           0,
           0,
           0,
           0,
           0,
           0,
           0,
           0,
           0,
           0,
           0,
           -1,
           2,
           -1,
           -1,
           0,
           0,
           0,
           0,
           0,
           0,
           0,
           0,
           -1,
           -1,
           0,
           0,
           -1,
           -1,
           0,
           0,
           1,
           1,
           1,
           1,
           2,
           -1,
           2,
           2,
           3,
           2,
           -1,
           0,
           3,
           -1,
           -1,
           -1,
           -1,
           0,
           0,
           0,
           0,
           0,
           -1,
           0,
           0,
           0,
           0,
           0,
           -1,
           0,
           0,
           -1,
           1,
           -1,
           2,
           0,
           0,
           -1,
           0
          ],
          "coloraxis": "coloraxis",
          "symbol": "circle"
         },
         "mode": "markers",
         "name": "",
         "orientation": "v",
         "showlegend": false,
         "type": "scatter",
         "x": [
          -0.3508186445814046,
          -0.5639310289142907,
          -0.5876614889048775,
          -0.5823377224391548,
          -0.5607934377831532,
          0.4195720316235605,
          0.4072448737758711,
          -0.4113530731621215,
          -0.00399273331831062,
          -0.1852422563817428,
          -0.44739994890418283,
          -0.17321034471097554,
          -0.9863859016696982,
          0.363681409013939,
          0.5332508277656569,
          0.4280966465773618,
          1.0588501758287197,
          0.025247980120545525,
          0.23810740264577307,
          0.6865351171763053,
          0.2581063436168159,
          0.3715708207646612,
          -0.4131797356835435,
          -0.04785829771362803,
          -0.9827684239122897,
          0.3681831670016599,
          -0.2935365288623707,
          -1.1909481439518261,
          -1.1528255253136725,
          -0.7069147217330235,
          0.40055109920872667,
          0.00803215716421511,
          0.14911199452136348,
          -0.16737103147821697,
          0.760616799924241,
          -0.23008068388502226,
          -0.7678298340451299,
          -0.540115638809465,
          -0.6308503154771031,
          -0.8514860460990357,
          -0.6867705734521476,
          -0.2078070316297446,
          -0.7308828712104986,
          0.5838622089680124,
          0.23092709056774202,
          -0.25715838997259816,
          0.5912142380882366,
          0.45038843768797976,
          0.7458086225076698,
          0.6665341479810564,
          -0.3559651445471211,
          0.14544245797935162,
          0.16923801231755534,
          0.28649183156012964,
          0.49776358997416936,
          1.0061507020713225,
          -0.00044711259362545716,
          0.28586827885250043,
          0.25658402880596615,
          1.2550220032228516,
          0.12286107335774328,
          1.485896209569183,
          1.141757343619969,
          1.083056179238525,
          1.2308187941802846,
          1.398828328888598,
          1.3054235587132532,
          -0.6767646613072369,
          0.6750460519396514,
          1.370581465278255,
          1.2018852316157136,
          -0.2580847111797142,
          -0.011498460508768802,
          -0.8370263340387589,
          -0.6363564838589613,
          -0.42919282404945464,
          -1.1039702224687824,
          -0.1088711356058151,
          -0.4596040070615721,
          0.1418478816660463,
          0.21957884447651801,
          0.3554794976193818,
          -0.8742386278118172,
          -0.2746466637092127,
          1.1054992040219718,
          -1.2632478611888398,
          1.5367762704079522,
          2.0068280117827495,
          0.850062335137054,
          0.33944496228293397,
          0.19249504445578958,
          -1.3581558798511084,
          0.2434247873301313,
          0.5263964218229623,
          -0.4868238715600447,
          1.1886039499169794,
          1.312567480095893,
          1.5798144290432872,
          0.09562530830559078,
          0.10113773211496412,
          2.033076972324046,
          0.8053821545180139,
          0.637502907215228,
          1.0203277391689545,
          1.1081509796409459,
          1.2746332749915992,
          1.0753569684035553,
          1.7049819492724492,
          1.6587035438150557,
          1.7295177415265623,
          0.5214983885075135,
          1.3702205937067362,
          1.518749873805489,
          2.1729248712419267,
          2.5854778650398846,
          2.411180428395736,
          2.1166243572495915,
          2.0214316278135502,
          1.8271443317174267,
          1.7146476778873738,
          2.0310988554007685,
          2.2173494244528684,
          2.184350145824153,
          1.5947485452960408,
          1.0679977016528681,
          0.8413104680994339,
          1.9202053051499042,
          1.8312001793279702,
          2.0139938593698643,
          1.3205121461089913,
          0.8282043651674835,
          1.2256783451926239,
          1.3358151046978437,
          -0.9688877415976315,
          0.26608200929683606,
          0.4664951006725747,
          -0.0563240048251054,
          -0.0559120157718613,
          1.1399716405498577,
          0.5358927796322845,
          0.018958766203575374,
          -0.24741988762852457,
          -0.5776044130063319,
          0.6475878617948905,
          -0.9100792974452094,
          0.49081208825788125,
          0.3298476395279003,
          -0.007475294677475479,
          -0.489846855978679,
          -0.8491853143573168,
          -0.7011129372532078,
          -0.05347780212672248,
          -0.0011183823042832202,
          -0.5655651342350086,
          -0.6620259718207827,
          -0.9227863531495146,
          -0.6622952480314663,
          -0.4782287610370813,
          -0.5932215055392788,
          0.12014236348877132,
          0.6903330209670598,
          -0.8426881627710046,
          -0.6917978730477802,
          -0.6781299724263031,
          0.1602732904474833,
          -0.6133650035392196,
          -0.6949704672974494,
          -0.9075944177318687,
          -0.8786928400558157,
          -0.9058658749968183,
          -0.31613938719436746,
          -1.4063256915973272,
          -1.3803818930202079,
          0.2625615034769143,
          -0.8470754546783491,
          -1.1030175239198672,
          -1.2002009601984962,
          -1.1015107582333754,
          -0.25448883335801076,
          -1.3268121966813606,
          0.21320098873326973,
          -0.6498069261405497,
          -0.9346574497489317,
          -0.23027783265072188,
          -0.5611158720424748,
          -0.6718621245174528,
          0.9811493906055307,
          -0.8636997616209908,
          -0.6227009894166133,
          0.26969388609522693,
          -1.2974700268568877,
          -0.7689427359366564,
          -1.1308155565904985,
          -1.1858237917313565,
          -1.1576084927470962,
          0.12712467464253588,
          0.6706059789697033,
          -0.3921416370294183,
          -0.11598044718702563,
          -0.23151664766119667,
          -0.7816102873703236,
          -0.7653708834373745,
          -0.5609480660210393,
          -1.2245683886515315,
          -1.2528323446207357,
          -0.04827769016556094,
          -0.620381709756415,
          -1.3179427171238245,
          -1.020448678856538,
          -1.122767828461264,
          -1.295461906008073,
          -0.2150777897030298,
          -1.0690715515230613,
          -0.6521075215103971,
          -0.7687037917119958,
          -1.1341499985115364,
          -1.206294094750507,
          -1.1419834961733435,
          0.15924292373346194,
          -1.0338737764714179,
          -0.9671029081402572,
          0.7301776776959528,
          0.22630807645404594,
          -0.03217868737816261,
          -0.8246874406681577,
          -0.0665121498396239,
          -0.525452729661283,
          -1.163670997184323,
          -1.0990419409084324,
          -0.871028416180363,
          -0.9839363695459624,
          -0.7071642819921274,
          -0.9649538646384597,
          -0.07938786382715807,
          -0.6511732443827587,
          -1.0495691285147353,
          -1.216907719249716,
          -1.0202686457871843,
          -1.245096243526878,
          -0.8051863963938097,
          -1.4079974175266863,
          -1.238577998585358,
          -1.1597420643057776,
          -0.49885995427398205,
          -1.2294098096570147,
          -1.3473762262692497,
          -0.9893474027848611,
          1.324644655674268,
          2.236559940687958,
          2.300220738929092,
          2.5447691037266145,
          -1.3290802025585322,
          -1.0339295771544759,
          -0.3646263998858898,
          -0.9210480898797002,
          -1.0528999459414,
          -0.7465386837494035,
          -1.3310648253509125,
          -0.15504914093148417,
          -0.17437782760361567,
          -0.2603429111629848,
          -0.8277771276090602,
          -0.5418252456462207,
          0.6086703948875171,
          -0.5988433486407282,
          -0.9028097234226942,
          -0.9592914666868012,
          0.22142476650741127,
          0.7932088658321987,
          0.5636494338661097,
          0.41197956731334534,
          1.826830708628797,
          0.31242812323741953,
          1.902649433624108,
          1.620881829702091,
          1.2518535611471007,
          2.144068931719886,
          0.43127983098330536,
          -0.326669105779434,
          1.1600755290161804,
          0.6320233562856604,
          0.7899229468245065,
          0.21091418080767607,
          0.7684640830904039,
          -1.2050179821235905,
          -1.003315446220766,
          -1.300336769491636,
          -1.2169871538010222,
          -1.4762498697303896,
          0.2818455182041284,
          -0.9236872137307428,
          -1.2034142443186877,
          -1.3539329811844136,
          -0.5113520614681136,
          -0.8684685964407897,
          -0.6600211472717245,
          0.02387224500841111,
          -0.10249542394847518,
          -0.5073132666040002,
          0.5206042476056767,
          0.15663991940049013,
          1.9189992338794515,
          -0.5326400765665911,
          -0.8536336765878905,
          0.23333215288286902,
          -0.6440736946026615
         ],
         "xaxis": "x",
         "y": [
          0.7099961857978953,
          0.42702553658784737,
          0.32532461799333984,
          -0.30751240895039944,
          -0.13734036816883838,
          0.31128851737849844,
          0.729962167893389,
          -0.0005735189402775898,
          0.8184393245280276,
          1.117196888341552,
          0.6623167014430784,
          0.5818759175510941,
          -0.5755506430210526,
          0.7595512721812351,
          1.0919717029401952,
          0.9287727424286327,
          0.647167399836963,
          1.1481584414274244,
          1.0538483156137948,
          1.068173947937826,
          0.8958960717525997,
          0.5678691445652688,
          0.4174137788963033,
          0.7527314614167181,
          -0.32417865836517257,
          1.2685351012786688,
          1.1329563580483628,
          -0.6309878142198015,
          -0.5784391528625124,
          -0.04627264220648031,
          1.0451683016282647,
          0.6363022232065211,
          0.6090535964371065,
          0.3389705573491687,
          -0.07876016749848436,
          -0.005161321019689319,
          -0.16245932754008796,
          -0.015756191193797463,
          0.19443560793123194,
          -0.094922033919062,
          0.4528492287184965,
          1.1992796693159886,
          0.28812500403641145,
          1.3827214876209564,
          1.112825496480182,
          0.820319273071483,
          -0.19017580106885862,
          -0.07244448877381379,
          0.4750518811453017,
          -0.6854025144338283,
          0.20702474930218934,
          0.1518140456897288,
          -0.05401545573946639,
          0.15929102424296657,
          0.3937351519692185,
          1.014706623198994,
          0.6371969911009774,
          0.1750033851741816,
          -0.6006650204085802,
          -0.0792124573390606,
          1.512070916552906,
          -0.6427866590478051,
          -0.03307075643171754,
          0.5274321350929281,
          -0.45485297270854297,
          -0.5564822170596899,
          -0.6115030808876163,
          -0.30479187981488526,
          -0.3098013915666279,
          -0.4457154428997717,
          -0.698679628353853,
          0.6013513192758371,
          1.0639967642006818,
          0.23703389905433955,
          0.6299565866915858,
          0.8345022141548945,
          -0.4323407360986679,
          -0.36112213785851976,
          0.5276588766709592,
          -0.07191032684639224,
          0.4567759882447646,
          -0.24191454883831306,
          0.1428429389318786,
          0.39866159386906896,
          0.029551102791049888,
          -0.6860368415335261,
          -0.2269403331648695,
          -0.5324958691880598,
          0.41247460087419985,
          0.6397017321322944,
          0.7167548034897423,
          -0.7968509799301254,
          0.4579173464816717,
          0.6929268513292324,
          0.3027252421361952,
          -0.5018055971078058,
          -0.9262446362631672,
          -0.7089125244246054,
          -0.09250520902190804,
          -0.24347082832148273,
          -0.5011749815040876,
          0.2769417524742287,
          0.6594733357560907,
          0.1464652696809386,
          0.17980367632117927,
          0.2876728571762101,
          0.24207094960578387,
          -0.47685645775978125,
          -0.4641342832744238,
          -0.6242657785803362,
          -0.35839496694913836,
          -0.6697201639582336,
          -0.5934551819218801,
          -0.6776601586832687,
          -0.772206603265197,
          -0.8256034226699906,
          -0.6034916443139994,
          -0.6959188228222942,
          -0.6506881292737736,
          -0.730610566802647,
          -0.7118028645644151,
          -0.5537360443743592,
          -0.7516917933008144,
          -1.0413224864771373,
          -0.2888912128532489,
          0.16165561715961727,
          -0.6301647136546636,
          -0.5457559028477338,
          -0.7375472316736065,
          -0.30382668918844896,
          0.14392662023758906,
          0.4029023478736755,
          0.11923488393747818,
          -0.3931448013405179,
          0.47116303960960504,
          -0.3057199867825617,
          0.19033436901269668,
          0.3672353828015206,
          -0.11915816433922534,
          -0.22949644038607933,
          0.0005381922934969265,
          0.4014541076202302,
          0.011226333971447174,
          0.15316753403502015,
          -0.17839685429915678,
          0.1162964727268741,
          0.6132218639995656,
          0.7440426957254411,
          0.5514812675631249,
          0.2558900153292978,
          -0.41263591264996197,
          -0.24829956261552585,
          -0.08343938247417602,
          -0.20777470378370455,
          -0.24080633807485974,
          -0.3134496109536108,
          0.26608327441236906,
          -0.029058638683316398,
          0.0671953806310761,
          0.7504319775030304,
          1.1239966883690784,
          -0.45781463258792676,
          0.34873035447720835,
          0.8756141158887747,
          0.9258608099918605,
          0.4841868261378967,
          0.7141823455552794,
          -0.03732354018898182,
          0.28878723343162016,
          0.15719818315722064,
          0.7973884178965798,
          -0.7660432689583268,
          -0.84400657794849,
          -0.45947960809374516,
          -0.3345165522557174,
          -0.6649776248286672,
          -0.6363778850046428,
          -0.5993592194355751,
          -0.18919715662760342,
          -0.7691383038182813,
          0.04053435533132516,
          0.21657270370862602,
          -0.014942354878290992,
          0.9030285565753604,
          -0.4266317392588027,
          0.15182338797892395,
          -0.19851912578326078,
          0.054602340636070716,
          0.4071145704787819,
          0.4220990016103621,
          -0.7460484006509379,
          -0.37416817643363576,
          -0.6372097375723659,
          -0.5063493452642951,
          -0.09239144822483929,
          0.8850748108824067,
          -0.3774211773239248,
          0.11439303192748623,
          0.21840717600576146,
          0.41308681848561374,
          -0.156487389434147,
          -0.21246162342132058,
          0.35967154146760516,
          -0.6280362618690645,
          -0.6751485839668573,
          0.4564923562030079,
          0.46341219854131854,
          -0.6255699562303365,
          -0.14648385725392216,
          -0.529967500091482,
          -0.7969822771052225,
          0.2212198399904749,
          -0.35734431874142725,
          -0.490786380395956,
          -0.31872916446986554,
          -0.6918558834102606,
          -0.7082270021088811,
          -0.7238134790639272,
          0.12244694049215733,
          -0.3995158569063484,
          -0.5271808752106215,
          0.6167487204970656,
          1.3015349678754837,
          1.3070266362899396,
          -0.11326696955333448,
          0.03762840489926836,
          0.4637935227601997,
          -0.3581647071056107,
          -0.7534000614183912,
          -0.32871859328507014,
          -0.2747903697084202,
          -0.1782478319197431,
          -0.5058423435176054,
          0.28564173412763133,
          0.22065552600422933,
          -0.6473159610252815,
          -0.6069361767018229,
          -0.6298085539721407,
          -0.7732732549216,
          -0.4923166757282111,
          -0.6975829899400697,
          -0.7388955697842149,
          -0.43264234556453635,
          0.09749775065327997,
          -0.6339343049928898,
          -0.6640631227213608,
          -0.2201238450942663,
          -0.7406821537471711,
          -0.6143040266580025,
          -0.5698169156217819,
          -0.8756335115452012,
          -0.5141589243246582,
          -0.34764364588050745,
          0.44145008058227136,
          -0.31539811267161544,
          -0.6370741888817835,
          -0.19493915236414852,
          -0.7735155602581518,
          0.3156325537205879,
          1.0556241456946518,
          1.0440701043581253,
          0.32877861478383197,
          0.3164185453548597,
          1.1615210253233557,
          0.04553512632354633,
          -0.2433147074464451,
          -0.3581664229481636,
          0.9437433574201339,
          1.1007774491822322,
          1.0107234027065128,
          0.9274899088166828,
          -0.7662581492563958,
          -0.7871634414585786,
          -0.5293459180136509,
          -0.6432404647199428,
          -0.581318473331517,
          -0.6916550585341287,
          -0.21108386707704713,
          0.04222803626490735,
          -0.6624768970250287,
          -0.36007697929215565,
          0.5369447952766742,
          0.9916844193676572,
          -0.5361063431814365,
          -0.5855287098767852,
          -0.4008160716345416,
          -0.7611554973033743,
          -0.6659259100919337,
          -0.802516056383197,
          0.04535682741649859,
          -0.28061484381918506,
          -0.6098813595061421,
          -0.8132859063928752,
          -0.1951940050040877,
          -0.33410450200889125,
          0.7126277842603084,
          0.16591497309967654,
          0.3509629701820568,
          1.0256786577294228,
          1.0272833710267137,
          0.9212705727252719,
          -0.71638376743169,
          -0.3934942048076385,
          -0.3503235301888743,
          -0.019981995927691884,
          0.06001570368658886
         ],
         "yaxis": "y"
        }
       ],
       "layout": {
        "coloraxis": {
         "colorbar": {
          "title": {
           "text": "cluster"
          }
         },
         "colorscale": [
          [
           0,
           "#0d0887"
          ],
          [
           0.1111111111111111,
           "#46039f"
          ],
          [
           0.2222222222222222,
           "#7201a8"
          ],
          [
           0.3333333333333333,
           "#9c179e"
          ],
          [
           0.4444444444444444,
           "#bd3786"
          ],
          [
           0.5555555555555556,
           "#d8576b"
          ],
          [
           0.6666666666666666,
           "#ed7953"
          ],
          [
           0.7777777777777778,
           "#fb9f3a"
          ],
          [
           0.8888888888888888,
           "#fdca26"
          ],
          [
           1,
           "#f0f921"
          ]
         ]
        },
        "legend": {
         "tracegroupgap": 0
        },
        "margin": {
         "t": 60
        },
        "template": {
         "data": {
          "bar": [
           {
            "error_x": {
             "color": "#2a3f5f"
            },
            "error_y": {
             "color": "#2a3f5f"
            },
            "marker": {
             "line": {
              "color": "#E5ECF6",
              "width": 0.5
             },
             "pattern": {
              "fillmode": "overlay",
              "size": 10,
              "solidity": 0.2
             }
            },
            "type": "bar"
           }
          ],
          "barpolar": [
           {
            "marker": {
             "line": {
              "color": "#E5ECF6",
              "width": 0.5
             },
             "pattern": {
              "fillmode": "overlay",
              "size": 10,
              "solidity": 0.2
             }
            },
            "type": "barpolar"
           }
          ],
          "carpet": [
           {
            "aaxis": {
             "endlinecolor": "#2a3f5f",
             "gridcolor": "white",
             "linecolor": "white",
             "minorgridcolor": "white",
             "startlinecolor": "#2a3f5f"
            },
            "baxis": {
             "endlinecolor": "#2a3f5f",
             "gridcolor": "white",
             "linecolor": "white",
             "minorgridcolor": "white",
             "startlinecolor": "#2a3f5f"
            },
            "type": "carpet"
           }
          ],
          "choropleth": [
           {
            "colorbar": {
             "outlinewidth": 0,
             "ticks": ""
            },
            "type": "choropleth"
           }
          ],
          "contour": [
           {
            "colorbar": {
             "outlinewidth": 0,
             "ticks": ""
            },
            "colorscale": [
             [
              0,
              "#0d0887"
             ],
             [
              0.1111111111111111,
              "#46039f"
             ],
             [
              0.2222222222222222,
              "#7201a8"
             ],
             [
              0.3333333333333333,
              "#9c179e"
             ],
             [
              0.4444444444444444,
              "#bd3786"
             ],
             [
              0.5555555555555556,
              "#d8576b"
             ],
             [
              0.6666666666666666,
              "#ed7953"
             ],
             [
              0.7777777777777778,
              "#fb9f3a"
             ],
             [
              0.8888888888888888,
              "#fdca26"
             ],
             [
              1,
              "#f0f921"
             ]
            ],
            "type": "contour"
           }
          ],
          "contourcarpet": [
           {
            "colorbar": {
             "outlinewidth": 0,
             "ticks": ""
            },
            "type": "contourcarpet"
           }
          ],
          "heatmap": [
           {
            "colorbar": {
             "outlinewidth": 0,
             "ticks": ""
            },
            "colorscale": [
             [
              0,
              "#0d0887"
             ],
             [
              0.1111111111111111,
              "#46039f"
             ],
             [
              0.2222222222222222,
              "#7201a8"
             ],
             [
              0.3333333333333333,
              "#9c179e"
             ],
             [
              0.4444444444444444,
              "#bd3786"
             ],
             [
              0.5555555555555556,
              "#d8576b"
             ],
             [
              0.6666666666666666,
              "#ed7953"
             ],
             [
              0.7777777777777778,
              "#fb9f3a"
             ],
             [
              0.8888888888888888,
              "#fdca26"
             ],
             [
              1,
              "#f0f921"
             ]
            ],
            "type": "heatmap"
           }
          ],
          "heatmapgl": [
           {
            "colorbar": {
             "outlinewidth": 0,
             "ticks": ""
            },
            "colorscale": [
             [
              0,
              "#0d0887"
             ],
             [
              0.1111111111111111,
              "#46039f"
             ],
             [
              0.2222222222222222,
              "#7201a8"
             ],
             [
              0.3333333333333333,
              "#9c179e"
             ],
             [
              0.4444444444444444,
              "#bd3786"
             ],
             [
              0.5555555555555556,
              "#d8576b"
             ],
             [
              0.6666666666666666,
              "#ed7953"
             ],
             [
              0.7777777777777778,
              "#fb9f3a"
             ],
             [
              0.8888888888888888,
              "#fdca26"
             ],
             [
              1,
              "#f0f921"
             ]
            ],
            "type": "heatmapgl"
           }
          ],
          "histogram": [
           {
            "marker": {
             "pattern": {
              "fillmode": "overlay",
              "size": 10,
              "solidity": 0.2
             }
            },
            "type": "histogram"
           }
          ],
          "histogram2d": [
           {
            "colorbar": {
             "outlinewidth": 0,
             "ticks": ""
            },
            "colorscale": [
             [
              0,
              "#0d0887"
             ],
             [
              0.1111111111111111,
              "#46039f"
             ],
             [
              0.2222222222222222,
              "#7201a8"
             ],
             [
              0.3333333333333333,
              "#9c179e"
             ],
             [
              0.4444444444444444,
              "#bd3786"
             ],
             [
              0.5555555555555556,
              "#d8576b"
             ],
             [
              0.6666666666666666,
              "#ed7953"
             ],
             [
              0.7777777777777778,
              "#fb9f3a"
             ],
             [
              0.8888888888888888,
              "#fdca26"
             ],
             [
              1,
              "#f0f921"
             ]
            ],
            "type": "histogram2d"
           }
          ],
          "histogram2dcontour": [
           {
            "colorbar": {
             "outlinewidth": 0,
             "ticks": ""
            },
            "colorscale": [
             [
              0,
              "#0d0887"
             ],
             [
              0.1111111111111111,
              "#46039f"
             ],
             [
              0.2222222222222222,
              "#7201a8"
             ],
             [
              0.3333333333333333,
              "#9c179e"
             ],
             [
              0.4444444444444444,
              "#bd3786"
             ],
             [
              0.5555555555555556,
              "#d8576b"
             ],
             [
              0.6666666666666666,
              "#ed7953"
             ],
             [
              0.7777777777777778,
              "#fb9f3a"
             ],
             [
              0.8888888888888888,
              "#fdca26"
             ],
             [
              1,
              "#f0f921"
             ]
            ],
            "type": "histogram2dcontour"
           }
          ],
          "mesh3d": [
           {
            "colorbar": {
             "outlinewidth": 0,
             "ticks": ""
            },
            "type": "mesh3d"
           }
          ],
          "parcoords": [
           {
            "line": {
             "colorbar": {
              "outlinewidth": 0,
              "ticks": ""
             }
            },
            "type": "parcoords"
           }
          ],
          "pie": [
           {
            "automargin": true,
            "type": "pie"
           }
          ],
          "scatter": [
           {
            "fillpattern": {
             "fillmode": "overlay",
             "size": 10,
             "solidity": 0.2
            },
            "type": "scatter"
           }
          ],
          "scatter3d": [
           {
            "line": {
             "colorbar": {
              "outlinewidth": 0,
              "ticks": ""
             }
            },
            "marker": {
             "colorbar": {
              "outlinewidth": 0,
              "ticks": ""
             }
            },
            "type": "scatter3d"
           }
          ],
          "scattercarpet": [
           {
            "marker": {
             "colorbar": {
              "outlinewidth": 0,
              "ticks": ""
             }
            },
            "type": "scattercarpet"
           }
          ],
          "scattergeo": [
           {
            "marker": {
             "colorbar": {
              "outlinewidth": 0,
              "ticks": ""
             }
            },
            "type": "scattergeo"
           }
          ],
          "scattergl": [
           {
            "marker": {
             "colorbar": {
              "outlinewidth": 0,
              "ticks": ""
             }
            },
            "type": "scattergl"
           }
          ],
          "scattermapbox": [
           {
            "marker": {
             "colorbar": {
              "outlinewidth": 0,
              "ticks": ""
             }
            },
            "type": "scattermapbox"
           }
          ],
          "scatterpolar": [
           {
            "marker": {
             "colorbar": {
              "outlinewidth": 0,
              "ticks": ""
             }
            },
            "type": "scatterpolar"
           }
          ],
          "scatterpolargl": [
           {
            "marker": {
             "colorbar": {
              "outlinewidth": 0,
              "ticks": ""
             }
            },
            "type": "scatterpolargl"
           }
          ],
          "scatterternary": [
           {
            "marker": {
             "colorbar": {
              "outlinewidth": 0,
              "ticks": ""
             }
            },
            "type": "scatterternary"
           }
          ],
          "surface": [
           {
            "colorbar": {
             "outlinewidth": 0,
             "ticks": ""
            },
            "colorscale": [
             [
              0,
              "#0d0887"
             ],
             [
              0.1111111111111111,
              "#46039f"
             ],
             [
              0.2222222222222222,
              "#7201a8"
             ],
             [
              0.3333333333333333,
              "#9c179e"
             ],
             [
              0.4444444444444444,
              "#bd3786"
             ],
             [
              0.5555555555555556,
              "#d8576b"
             ],
             [
              0.6666666666666666,
              "#ed7953"
             ],
             [
              0.7777777777777778,
              "#fb9f3a"
             ],
             [
              0.8888888888888888,
              "#fdca26"
             ],
             [
              1,
              "#f0f921"
             ]
            ],
            "type": "surface"
           }
          ],
          "table": [
           {
            "cells": {
             "fill": {
              "color": "#EBF0F8"
             },
             "line": {
              "color": "white"
             }
            },
            "header": {
             "fill": {
              "color": "#C8D4E3"
             },
             "line": {
              "color": "white"
             }
            },
            "type": "table"
           }
          ]
         },
         "layout": {
          "annotationdefaults": {
           "arrowcolor": "#2a3f5f",
           "arrowhead": 0,
           "arrowwidth": 1
          },
          "autotypenumbers": "strict",
          "coloraxis": {
           "colorbar": {
            "outlinewidth": 0,
            "ticks": ""
           }
          },
          "colorscale": {
           "diverging": [
            [
             0,
             "#8e0152"
            ],
            [
             0.1,
             "#c51b7d"
            ],
            [
             0.2,
             "#de77ae"
            ],
            [
             0.3,
             "#f1b6da"
            ],
            [
             0.4,
             "#fde0ef"
            ],
            [
             0.5,
             "#f7f7f7"
            ],
            [
             0.6,
             "#e6f5d0"
            ],
            [
             0.7,
             "#b8e186"
            ],
            [
             0.8,
             "#7fbc41"
            ],
            [
             0.9,
             "#4d9221"
            ],
            [
             1,
             "#276419"
            ]
           ],
           "sequential": [
            [
             0,
             "#0d0887"
            ],
            [
             0.1111111111111111,
             "#46039f"
            ],
            [
             0.2222222222222222,
             "#7201a8"
            ],
            [
             0.3333333333333333,
             "#9c179e"
            ],
            [
             0.4444444444444444,
             "#bd3786"
            ],
            [
             0.5555555555555556,
             "#d8576b"
            ],
            [
             0.6666666666666666,
             "#ed7953"
            ],
            [
             0.7777777777777778,
             "#fb9f3a"
            ],
            [
             0.8888888888888888,
             "#fdca26"
            ],
            [
             1,
             "#f0f921"
            ]
           ],
           "sequentialminus": [
            [
             0,
             "#0d0887"
            ],
            [
             0.1111111111111111,
             "#46039f"
            ],
            [
             0.2222222222222222,
             "#7201a8"
            ],
            [
             0.3333333333333333,
             "#9c179e"
            ],
            [
             0.4444444444444444,
             "#bd3786"
            ],
            [
             0.5555555555555556,
             "#d8576b"
            ],
            [
             0.6666666666666666,
             "#ed7953"
            ],
            [
             0.7777777777777778,
             "#fb9f3a"
            ],
            [
             0.8888888888888888,
             "#fdca26"
            ],
            [
             1,
             "#f0f921"
            ]
           ]
          },
          "colorway": [
           "#636efa",
           "#EF553B",
           "#00cc96",
           "#ab63fa",
           "#FFA15A",
           "#19d3f3",
           "#FF6692",
           "#B6E880",
           "#FF97FF",
           "#FECB52"
          ],
          "font": {
           "color": "#2a3f5f"
          },
          "geo": {
           "bgcolor": "white",
           "lakecolor": "white",
           "landcolor": "#E5ECF6",
           "showlakes": true,
           "showland": true,
           "subunitcolor": "white"
          },
          "hoverlabel": {
           "align": "left"
          },
          "hovermode": "closest",
          "mapbox": {
           "style": "light"
          },
          "paper_bgcolor": "white",
          "plot_bgcolor": "#E5ECF6",
          "polar": {
           "angularaxis": {
            "gridcolor": "white",
            "linecolor": "white",
            "ticks": ""
           },
           "bgcolor": "#E5ECF6",
           "radialaxis": {
            "gridcolor": "white",
            "linecolor": "white",
            "ticks": ""
           }
          },
          "scene": {
           "xaxis": {
            "backgroundcolor": "#E5ECF6",
            "gridcolor": "white",
            "gridwidth": 2,
            "linecolor": "white",
            "showbackground": true,
            "ticks": "",
            "zerolinecolor": "white"
           },
           "yaxis": {
            "backgroundcolor": "#E5ECF6",
            "gridcolor": "white",
            "gridwidth": 2,
            "linecolor": "white",
            "showbackground": true,
            "ticks": "",
            "zerolinecolor": "white"
           },
           "zaxis": {
            "backgroundcolor": "#E5ECF6",
            "gridcolor": "white",
            "gridwidth": 2,
            "linecolor": "white",
            "showbackground": true,
            "ticks": "",
            "zerolinecolor": "white"
           }
          },
          "shapedefaults": {
           "line": {
            "color": "#2a3f5f"
           }
          },
          "ternary": {
           "aaxis": {
            "gridcolor": "white",
            "linecolor": "white",
            "ticks": ""
           },
           "baxis": {
            "gridcolor": "white",
            "linecolor": "white",
            "ticks": ""
           },
           "bgcolor": "#E5ECF6",
           "caxis": {
            "gridcolor": "white",
            "linecolor": "white",
            "ticks": ""
           }
          },
          "title": {
           "x": 0.05
          },
          "xaxis": {
           "automargin": true,
           "gridcolor": "white",
           "linecolor": "white",
           "ticks": "",
           "title": {
            "standoff": 15
           },
           "zerolinecolor": "white",
           "zerolinewidth": 2
          },
          "yaxis": {
           "automargin": true,
           "gridcolor": "white",
           "linecolor": "white",
           "ticks": "",
           "title": {
            "standoff": 15
           },
           "zerolinecolor": "white",
           "zerolinewidth": 2
          }
         }
        },
        "xaxis": {
         "anchor": "y",
         "domain": [
          0,
          1
         ],
         "title": {
          "text": "PC1"
         }
        },
        "yaxis": {
         "anchor": "x",
         "domain": [
          0,
          1
         ],
         "title": {
          "text": "PC2"
         }
        }
       }
      }
     },
     "metadata": {},
     "output_type": "display_data"
    },
    {
     "name": "stdout",
     "output_type": "stream",
     "text": [
      "eps:0.5\n",
      "min:10\n",
      "4\n"
     ]
    },
    {
     "data": {
      "application/vnd.plotly.v1+json": {
       "config": {
        "plotlyServerURL": "https://plot.ly"
       },
       "data": [
        {
         "hovertemplate": "PC1=%{x}<br>PC2=%{y}<br>cluster=%{marker.color}<extra></extra>",
         "legendgroup": "",
         "marker": {
          "color": [
           0,
           0,
           0,
           0,
           0,
           -1,
           -1,
           0,
           1,
           -1,
           0,
           0,
           0,
           1,
           1,
           1,
           -1,
           1,
           1,
           1,
           1,
           -1,
           -1,
           1,
           0,
           1,
           -1,
           0,
           0,
           0,
           1,
           -1,
           -1,
           0,
           -1,
           0,
           0,
           0,
           0,
           0,
           0,
           -1,
           0,
           1,
           1,
           -1,
           -1,
           -1,
           -1,
           -1,
           0,
           -1,
           0,
           -1,
           -1,
           -1,
           -1,
           0,
           -1,
           -1,
           -1,
           -1,
           -1,
           -1,
           -1,
           -1,
           -1,
           0,
           -1,
           -1,
           -1,
           -1,
           -1,
           0,
           0,
           0,
           0,
           -1,
           0,
           -1,
           0,
           -1,
           0,
           -1,
           -1,
           0,
           -1,
           2,
           -1,
           -1,
           -1,
           0,
           0,
           -1,
           0,
           -1,
           -1,
           -1,
           0,
           -1,
           -1,
           -1,
           -1,
           -1,
           -1,
           -1,
           -1,
           -1,
           -1,
           2,
           -1,
           -1,
           -1,
           2,
           -1,
           -1,
           2,
           2,
           2,
           -1,
           2,
           -1,
           -1,
           -1,
           -1,
           -1,
           2,
           2,
           2,
           -1,
           -1,
           -1,
           -1,
           0,
           -1,
           -1,
           0,
           0,
           -1,
           -1,
           0,
           -1,
           0,
           -1,
           0,
           -1,
           -1,
           -1,
           0,
           0,
           0,
           -1,
           -1,
           -1,
           -1,
           0,
           -1,
           0,
           -1,
           -1,
           -1,
           0,
           0,
           -1,
           -1,
           0,
           0,
           0,
           0,
           0,
           -1,
           0,
           0,
           -1,
           0,
           0,
           0,
           0,
           0,
           0,
           -1,
           0,
           0,
           -1,
           -1,
           -1,
           -1,
           0,
           0,
           -1,
           0,
           0,
           0,
           0,
           0,
           -1,
           -1,
           0,
           0,
           0,
           0,
           -1,
           0,
           0,
           0,
           0,
           0,
           0,
           0,
           0,
           0,
           -1,
           0,
           0,
           0,
           0,
           0,
           0,
           -1,
           0,
           0,
           -1,
           -1,
           -1,
           0,
           -1,
           0,
           0,
           0,
           0,
           0,
           0,
           0,
           0,
           0,
           0,
           0,
           0,
           0,
           0,
           0,
           0,
           0,
           0,
           0,
           0,
           0,
           -1,
           2,
           -1,
           -1,
           0,
           0,
           0,
           0,
           0,
           0,
           0,
           0,
           -1,
           -1,
           0,
           0,
           -1,
           -1,
           0,
           0,
           1,
           1,
           1,
           1,
           2,
           -1,
           2,
           2,
           -1,
           2,
           -1,
           0,
           -1,
           -1,
           -1,
           -1,
           -1,
           0,
           0,
           0,
           0,
           0,
           -1,
           0,
           0,
           0,
           0,
           0,
           -1,
           0,
           0,
           -1,
           1,
           -1,
           2,
           0,
           0,
           -1,
           0
          ],
          "coloraxis": "coloraxis",
          "symbol": "circle"
         },
         "mode": "markers",
         "name": "",
         "orientation": "v",
         "showlegend": false,
         "type": "scatter",
         "x": [
          -0.3508186445814046,
          -0.5639310289142907,
          -0.5876614889048775,
          -0.5823377224391548,
          -0.5607934377831532,
          0.4195720316235605,
          0.4072448737758711,
          -0.4113530731621215,
          -0.00399273331831062,
          -0.1852422563817428,
          -0.44739994890418283,
          -0.17321034471097554,
          -0.9863859016696982,
          0.363681409013939,
          0.5332508277656569,
          0.4280966465773618,
          1.0588501758287197,
          0.025247980120545525,
          0.23810740264577307,
          0.6865351171763053,
          0.2581063436168159,
          0.3715708207646612,
          -0.4131797356835435,
          -0.04785829771362803,
          -0.9827684239122897,
          0.3681831670016599,
          -0.2935365288623707,
          -1.1909481439518261,
          -1.1528255253136725,
          -0.7069147217330235,
          0.40055109920872667,
          0.00803215716421511,
          0.14911199452136348,
          -0.16737103147821697,
          0.760616799924241,
          -0.23008068388502226,
          -0.7678298340451299,
          -0.540115638809465,
          -0.6308503154771031,
          -0.8514860460990357,
          -0.6867705734521476,
          -0.2078070316297446,
          -0.7308828712104986,
          0.5838622089680124,
          0.23092709056774202,
          -0.25715838997259816,
          0.5912142380882366,
          0.45038843768797976,
          0.7458086225076698,
          0.6665341479810564,
          -0.3559651445471211,
          0.14544245797935162,
          0.16923801231755534,
          0.28649183156012964,
          0.49776358997416936,
          1.0061507020713225,
          -0.00044711259362545716,
          0.28586827885250043,
          0.25658402880596615,
          1.2550220032228516,
          0.12286107335774328,
          1.485896209569183,
          1.141757343619969,
          1.083056179238525,
          1.2308187941802846,
          1.398828328888598,
          1.3054235587132532,
          -0.6767646613072369,
          0.6750460519396514,
          1.370581465278255,
          1.2018852316157136,
          -0.2580847111797142,
          -0.011498460508768802,
          -0.8370263340387589,
          -0.6363564838589613,
          -0.42919282404945464,
          -1.1039702224687824,
          -0.1088711356058151,
          -0.4596040070615721,
          0.1418478816660463,
          0.21957884447651801,
          0.3554794976193818,
          -0.8742386278118172,
          -0.2746466637092127,
          1.1054992040219718,
          -1.2632478611888398,
          1.5367762704079522,
          2.0068280117827495,
          0.850062335137054,
          0.33944496228293397,
          0.19249504445578958,
          -1.3581558798511084,
          0.2434247873301313,
          0.5263964218229623,
          -0.4868238715600447,
          1.1886039499169794,
          1.312567480095893,
          1.5798144290432872,
          0.09562530830559078,
          0.10113773211496412,
          2.033076972324046,
          0.8053821545180139,
          0.637502907215228,
          1.0203277391689545,
          1.1081509796409459,
          1.2746332749915992,
          1.0753569684035553,
          1.7049819492724492,
          1.6587035438150557,
          1.7295177415265623,
          0.5214983885075135,
          1.3702205937067362,
          1.518749873805489,
          2.1729248712419267,
          2.5854778650398846,
          2.411180428395736,
          2.1166243572495915,
          2.0214316278135502,
          1.8271443317174267,
          1.7146476778873738,
          2.0310988554007685,
          2.2173494244528684,
          2.184350145824153,
          1.5947485452960408,
          1.0679977016528681,
          0.8413104680994339,
          1.9202053051499042,
          1.8312001793279702,
          2.0139938593698643,
          1.3205121461089913,
          0.8282043651674835,
          1.2256783451926239,
          1.3358151046978437,
          -0.9688877415976315,
          0.26608200929683606,
          0.4664951006725747,
          -0.0563240048251054,
          -0.0559120157718613,
          1.1399716405498577,
          0.5358927796322845,
          0.018958766203575374,
          -0.24741988762852457,
          -0.5776044130063319,
          0.6475878617948905,
          -0.9100792974452094,
          0.49081208825788125,
          0.3298476395279003,
          -0.007475294677475479,
          -0.489846855978679,
          -0.8491853143573168,
          -0.7011129372532078,
          -0.05347780212672248,
          -0.0011183823042832202,
          -0.5655651342350086,
          -0.6620259718207827,
          -0.9227863531495146,
          -0.6622952480314663,
          -0.4782287610370813,
          -0.5932215055392788,
          0.12014236348877132,
          0.6903330209670598,
          -0.8426881627710046,
          -0.6917978730477802,
          -0.6781299724263031,
          0.1602732904474833,
          -0.6133650035392196,
          -0.6949704672974494,
          -0.9075944177318687,
          -0.8786928400558157,
          -0.9058658749968183,
          -0.31613938719436746,
          -1.4063256915973272,
          -1.3803818930202079,
          0.2625615034769143,
          -0.8470754546783491,
          -1.1030175239198672,
          -1.2002009601984962,
          -1.1015107582333754,
          -0.25448883335801076,
          -1.3268121966813606,
          0.21320098873326973,
          -0.6498069261405497,
          -0.9346574497489317,
          -0.23027783265072188,
          -0.5611158720424748,
          -0.6718621245174528,
          0.9811493906055307,
          -0.8636997616209908,
          -0.6227009894166133,
          0.26969388609522693,
          -1.2974700268568877,
          -0.7689427359366564,
          -1.1308155565904985,
          -1.1858237917313565,
          -1.1576084927470962,
          0.12712467464253588,
          0.6706059789697033,
          -0.3921416370294183,
          -0.11598044718702563,
          -0.23151664766119667,
          -0.7816102873703236,
          -0.7653708834373745,
          -0.5609480660210393,
          -1.2245683886515315,
          -1.2528323446207357,
          -0.04827769016556094,
          -0.620381709756415,
          -1.3179427171238245,
          -1.020448678856538,
          -1.122767828461264,
          -1.295461906008073,
          -0.2150777897030298,
          -1.0690715515230613,
          -0.6521075215103971,
          -0.7687037917119958,
          -1.1341499985115364,
          -1.206294094750507,
          -1.1419834961733435,
          0.15924292373346194,
          -1.0338737764714179,
          -0.9671029081402572,
          0.7301776776959528,
          0.22630807645404594,
          -0.03217868737816261,
          -0.8246874406681577,
          -0.0665121498396239,
          -0.525452729661283,
          -1.163670997184323,
          -1.0990419409084324,
          -0.871028416180363,
          -0.9839363695459624,
          -0.7071642819921274,
          -0.9649538646384597,
          -0.07938786382715807,
          -0.6511732443827587,
          -1.0495691285147353,
          -1.216907719249716,
          -1.0202686457871843,
          -1.245096243526878,
          -0.8051863963938097,
          -1.4079974175266863,
          -1.238577998585358,
          -1.1597420643057776,
          -0.49885995427398205,
          -1.2294098096570147,
          -1.3473762262692497,
          -0.9893474027848611,
          1.324644655674268,
          2.236559940687958,
          2.300220738929092,
          2.5447691037266145,
          -1.3290802025585322,
          -1.0339295771544759,
          -0.3646263998858898,
          -0.9210480898797002,
          -1.0528999459414,
          -0.7465386837494035,
          -1.3310648253509125,
          -0.15504914093148417,
          -0.17437782760361567,
          -0.2603429111629848,
          -0.8277771276090602,
          -0.5418252456462207,
          0.6086703948875171,
          -0.5988433486407282,
          -0.9028097234226942,
          -0.9592914666868012,
          0.22142476650741127,
          0.7932088658321987,
          0.5636494338661097,
          0.41197956731334534,
          1.826830708628797,
          0.31242812323741953,
          1.902649433624108,
          1.620881829702091,
          1.2518535611471007,
          2.144068931719886,
          0.43127983098330536,
          -0.326669105779434,
          1.1600755290161804,
          0.6320233562856604,
          0.7899229468245065,
          0.21091418080767607,
          0.7684640830904039,
          -1.2050179821235905,
          -1.003315446220766,
          -1.300336769491636,
          -1.2169871538010222,
          -1.4762498697303896,
          0.2818455182041284,
          -0.9236872137307428,
          -1.2034142443186877,
          -1.3539329811844136,
          -0.5113520614681136,
          -0.8684685964407897,
          -0.6600211472717245,
          0.02387224500841111,
          -0.10249542394847518,
          -0.5073132666040002,
          0.5206042476056767,
          0.15663991940049013,
          1.9189992338794515,
          -0.5326400765665911,
          -0.8536336765878905,
          0.23333215288286902,
          -0.6440736946026615
         ],
         "xaxis": "x",
         "y": [
          0.7099961857978953,
          0.42702553658784737,
          0.32532461799333984,
          -0.30751240895039944,
          -0.13734036816883838,
          0.31128851737849844,
          0.729962167893389,
          -0.0005735189402775898,
          0.8184393245280276,
          1.117196888341552,
          0.6623167014430784,
          0.5818759175510941,
          -0.5755506430210526,
          0.7595512721812351,
          1.0919717029401952,
          0.9287727424286327,
          0.647167399836963,
          1.1481584414274244,
          1.0538483156137948,
          1.068173947937826,
          0.8958960717525997,
          0.5678691445652688,
          0.4174137788963033,
          0.7527314614167181,
          -0.32417865836517257,
          1.2685351012786688,
          1.1329563580483628,
          -0.6309878142198015,
          -0.5784391528625124,
          -0.04627264220648031,
          1.0451683016282647,
          0.6363022232065211,
          0.6090535964371065,
          0.3389705573491687,
          -0.07876016749848436,
          -0.005161321019689319,
          -0.16245932754008796,
          -0.015756191193797463,
          0.19443560793123194,
          -0.094922033919062,
          0.4528492287184965,
          1.1992796693159886,
          0.28812500403641145,
          1.3827214876209564,
          1.112825496480182,
          0.820319273071483,
          -0.19017580106885862,
          -0.07244448877381379,
          0.4750518811453017,
          -0.6854025144338283,
          0.20702474930218934,
          0.1518140456897288,
          -0.05401545573946639,
          0.15929102424296657,
          0.3937351519692185,
          1.014706623198994,
          0.6371969911009774,
          0.1750033851741816,
          -0.6006650204085802,
          -0.0792124573390606,
          1.512070916552906,
          -0.6427866590478051,
          -0.03307075643171754,
          0.5274321350929281,
          -0.45485297270854297,
          -0.5564822170596899,
          -0.6115030808876163,
          -0.30479187981488526,
          -0.3098013915666279,
          -0.4457154428997717,
          -0.698679628353853,
          0.6013513192758371,
          1.0639967642006818,
          0.23703389905433955,
          0.6299565866915858,
          0.8345022141548945,
          -0.4323407360986679,
          -0.36112213785851976,
          0.5276588766709592,
          -0.07191032684639224,
          0.4567759882447646,
          -0.24191454883831306,
          0.1428429389318786,
          0.39866159386906896,
          0.029551102791049888,
          -0.6860368415335261,
          -0.2269403331648695,
          -0.5324958691880598,
          0.41247460087419985,
          0.6397017321322944,
          0.7167548034897423,
          -0.7968509799301254,
          0.4579173464816717,
          0.6929268513292324,
          0.3027252421361952,
          -0.5018055971078058,
          -0.9262446362631672,
          -0.7089125244246054,
          -0.09250520902190804,
          -0.24347082832148273,
          -0.5011749815040876,
          0.2769417524742287,
          0.6594733357560907,
          0.1464652696809386,
          0.17980367632117927,
          0.2876728571762101,
          0.24207094960578387,
          -0.47685645775978125,
          -0.4641342832744238,
          -0.6242657785803362,
          -0.35839496694913836,
          -0.6697201639582336,
          -0.5934551819218801,
          -0.6776601586832687,
          -0.772206603265197,
          -0.8256034226699906,
          -0.6034916443139994,
          -0.6959188228222942,
          -0.6506881292737736,
          -0.730610566802647,
          -0.7118028645644151,
          -0.5537360443743592,
          -0.7516917933008144,
          -1.0413224864771373,
          -0.2888912128532489,
          0.16165561715961727,
          -0.6301647136546636,
          -0.5457559028477338,
          -0.7375472316736065,
          -0.30382668918844896,
          0.14392662023758906,
          0.4029023478736755,
          0.11923488393747818,
          -0.3931448013405179,
          0.47116303960960504,
          -0.3057199867825617,
          0.19033436901269668,
          0.3672353828015206,
          -0.11915816433922534,
          -0.22949644038607933,
          0.0005381922934969265,
          0.4014541076202302,
          0.011226333971447174,
          0.15316753403502015,
          -0.17839685429915678,
          0.1162964727268741,
          0.6132218639995656,
          0.7440426957254411,
          0.5514812675631249,
          0.2558900153292978,
          -0.41263591264996197,
          -0.24829956261552585,
          -0.08343938247417602,
          -0.20777470378370455,
          -0.24080633807485974,
          -0.3134496109536108,
          0.26608327441236906,
          -0.029058638683316398,
          0.0671953806310761,
          0.7504319775030304,
          1.1239966883690784,
          -0.45781463258792676,
          0.34873035447720835,
          0.8756141158887747,
          0.9258608099918605,
          0.4841868261378967,
          0.7141823455552794,
          -0.03732354018898182,
          0.28878723343162016,
          0.15719818315722064,
          0.7973884178965798,
          -0.7660432689583268,
          -0.84400657794849,
          -0.45947960809374516,
          -0.3345165522557174,
          -0.6649776248286672,
          -0.6363778850046428,
          -0.5993592194355751,
          -0.18919715662760342,
          -0.7691383038182813,
          0.04053435533132516,
          0.21657270370862602,
          -0.014942354878290992,
          0.9030285565753604,
          -0.4266317392588027,
          0.15182338797892395,
          -0.19851912578326078,
          0.054602340636070716,
          0.4071145704787819,
          0.4220990016103621,
          -0.7460484006509379,
          -0.37416817643363576,
          -0.6372097375723659,
          -0.5063493452642951,
          -0.09239144822483929,
          0.8850748108824067,
          -0.3774211773239248,
          0.11439303192748623,
          0.21840717600576146,
          0.41308681848561374,
          -0.156487389434147,
          -0.21246162342132058,
          0.35967154146760516,
          -0.6280362618690645,
          -0.6751485839668573,
          0.4564923562030079,
          0.46341219854131854,
          -0.6255699562303365,
          -0.14648385725392216,
          -0.529967500091482,
          -0.7969822771052225,
          0.2212198399904749,
          -0.35734431874142725,
          -0.490786380395956,
          -0.31872916446986554,
          -0.6918558834102606,
          -0.7082270021088811,
          -0.7238134790639272,
          0.12244694049215733,
          -0.3995158569063484,
          -0.5271808752106215,
          0.6167487204970656,
          1.3015349678754837,
          1.3070266362899396,
          -0.11326696955333448,
          0.03762840489926836,
          0.4637935227601997,
          -0.3581647071056107,
          -0.7534000614183912,
          -0.32871859328507014,
          -0.2747903697084202,
          -0.1782478319197431,
          -0.5058423435176054,
          0.28564173412763133,
          0.22065552600422933,
          -0.6473159610252815,
          -0.6069361767018229,
          -0.6298085539721407,
          -0.7732732549216,
          -0.4923166757282111,
          -0.6975829899400697,
          -0.7388955697842149,
          -0.43264234556453635,
          0.09749775065327997,
          -0.6339343049928898,
          -0.6640631227213608,
          -0.2201238450942663,
          -0.7406821537471711,
          -0.6143040266580025,
          -0.5698169156217819,
          -0.8756335115452012,
          -0.5141589243246582,
          -0.34764364588050745,
          0.44145008058227136,
          -0.31539811267161544,
          -0.6370741888817835,
          -0.19493915236414852,
          -0.7735155602581518,
          0.3156325537205879,
          1.0556241456946518,
          1.0440701043581253,
          0.32877861478383197,
          0.3164185453548597,
          1.1615210253233557,
          0.04553512632354633,
          -0.2433147074464451,
          -0.3581664229481636,
          0.9437433574201339,
          1.1007774491822322,
          1.0107234027065128,
          0.9274899088166828,
          -0.7662581492563958,
          -0.7871634414585786,
          -0.5293459180136509,
          -0.6432404647199428,
          -0.581318473331517,
          -0.6916550585341287,
          -0.21108386707704713,
          0.04222803626490735,
          -0.6624768970250287,
          -0.36007697929215565,
          0.5369447952766742,
          0.9916844193676572,
          -0.5361063431814365,
          -0.5855287098767852,
          -0.4008160716345416,
          -0.7611554973033743,
          -0.6659259100919337,
          -0.802516056383197,
          0.04535682741649859,
          -0.28061484381918506,
          -0.6098813595061421,
          -0.8132859063928752,
          -0.1951940050040877,
          -0.33410450200889125,
          0.7126277842603084,
          0.16591497309967654,
          0.3509629701820568,
          1.0256786577294228,
          1.0272833710267137,
          0.9212705727252719,
          -0.71638376743169,
          -0.3934942048076385,
          -0.3503235301888743,
          -0.019981995927691884,
          0.06001570368658886
         ],
         "yaxis": "y"
        }
       ],
       "layout": {
        "coloraxis": {
         "colorbar": {
          "title": {
           "text": "cluster"
          }
         },
         "colorscale": [
          [
           0,
           "#0d0887"
          ],
          [
           0.1111111111111111,
           "#46039f"
          ],
          [
           0.2222222222222222,
           "#7201a8"
          ],
          [
           0.3333333333333333,
           "#9c179e"
          ],
          [
           0.4444444444444444,
           "#bd3786"
          ],
          [
           0.5555555555555556,
           "#d8576b"
          ],
          [
           0.6666666666666666,
           "#ed7953"
          ],
          [
           0.7777777777777778,
           "#fb9f3a"
          ],
          [
           0.8888888888888888,
           "#fdca26"
          ],
          [
           1,
           "#f0f921"
          ]
         ]
        },
        "legend": {
         "tracegroupgap": 0
        },
        "margin": {
         "t": 60
        },
        "template": {
         "data": {
          "bar": [
           {
            "error_x": {
             "color": "#2a3f5f"
            },
            "error_y": {
             "color": "#2a3f5f"
            },
            "marker": {
             "line": {
              "color": "#E5ECF6",
              "width": 0.5
             },
             "pattern": {
              "fillmode": "overlay",
              "size": 10,
              "solidity": 0.2
             }
            },
            "type": "bar"
           }
          ],
          "barpolar": [
           {
            "marker": {
             "line": {
              "color": "#E5ECF6",
              "width": 0.5
             },
             "pattern": {
              "fillmode": "overlay",
              "size": 10,
              "solidity": 0.2
             }
            },
            "type": "barpolar"
           }
          ],
          "carpet": [
           {
            "aaxis": {
             "endlinecolor": "#2a3f5f",
             "gridcolor": "white",
             "linecolor": "white",
             "minorgridcolor": "white",
             "startlinecolor": "#2a3f5f"
            },
            "baxis": {
             "endlinecolor": "#2a3f5f",
             "gridcolor": "white",
             "linecolor": "white",
             "minorgridcolor": "white",
             "startlinecolor": "#2a3f5f"
            },
            "type": "carpet"
           }
          ],
          "choropleth": [
           {
            "colorbar": {
             "outlinewidth": 0,
             "ticks": ""
            },
            "type": "choropleth"
           }
          ],
          "contour": [
           {
            "colorbar": {
             "outlinewidth": 0,
             "ticks": ""
            },
            "colorscale": [
             [
              0,
              "#0d0887"
             ],
             [
              0.1111111111111111,
              "#46039f"
             ],
             [
              0.2222222222222222,
              "#7201a8"
             ],
             [
              0.3333333333333333,
              "#9c179e"
             ],
             [
              0.4444444444444444,
              "#bd3786"
             ],
             [
              0.5555555555555556,
              "#d8576b"
             ],
             [
              0.6666666666666666,
              "#ed7953"
             ],
             [
              0.7777777777777778,
              "#fb9f3a"
             ],
             [
              0.8888888888888888,
              "#fdca26"
             ],
             [
              1,
              "#f0f921"
             ]
            ],
            "type": "contour"
           }
          ],
          "contourcarpet": [
           {
            "colorbar": {
             "outlinewidth": 0,
             "ticks": ""
            },
            "type": "contourcarpet"
           }
          ],
          "heatmap": [
           {
            "colorbar": {
             "outlinewidth": 0,
             "ticks": ""
            },
            "colorscale": [
             [
              0,
              "#0d0887"
             ],
             [
              0.1111111111111111,
              "#46039f"
             ],
             [
              0.2222222222222222,
              "#7201a8"
             ],
             [
              0.3333333333333333,
              "#9c179e"
             ],
             [
              0.4444444444444444,
              "#bd3786"
             ],
             [
              0.5555555555555556,
              "#d8576b"
             ],
             [
              0.6666666666666666,
              "#ed7953"
             ],
             [
              0.7777777777777778,
              "#fb9f3a"
             ],
             [
              0.8888888888888888,
              "#fdca26"
             ],
             [
              1,
              "#f0f921"
             ]
            ],
            "type": "heatmap"
           }
          ],
          "heatmapgl": [
           {
            "colorbar": {
             "outlinewidth": 0,
             "ticks": ""
            },
            "colorscale": [
             [
              0,
              "#0d0887"
             ],
             [
              0.1111111111111111,
              "#46039f"
             ],
             [
              0.2222222222222222,
              "#7201a8"
             ],
             [
              0.3333333333333333,
              "#9c179e"
             ],
             [
              0.4444444444444444,
              "#bd3786"
             ],
             [
              0.5555555555555556,
              "#d8576b"
             ],
             [
              0.6666666666666666,
              "#ed7953"
             ],
             [
              0.7777777777777778,
              "#fb9f3a"
             ],
             [
              0.8888888888888888,
              "#fdca26"
             ],
             [
              1,
              "#f0f921"
             ]
            ],
            "type": "heatmapgl"
           }
          ],
          "histogram": [
           {
            "marker": {
             "pattern": {
              "fillmode": "overlay",
              "size": 10,
              "solidity": 0.2
             }
            },
            "type": "histogram"
           }
          ],
          "histogram2d": [
           {
            "colorbar": {
             "outlinewidth": 0,
             "ticks": ""
            },
            "colorscale": [
             [
              0,
              "#0d0887"
             ],
             [
              0.1111111111111111,
              "#46039f"
             ],
             [
              0.2222222222222222,
              "#7201a8"
             ],
             [
              0.3333333333333333,
              "#9c179e"
             ],
             [
              0.4444444444444444,
              "#bd3786"
             ],
             [
              0.5555555555555556,
              "#d8576b"
             ],
             [
              0.6666666666666666,
              "#ed7953"
             ],
             [
              0.7777777777777778,
              "#fb9f3a"
             ],
             [
              0.8888888888888888,
              "#fdca26"
             ],
             [
              1,
              "#f0f921"
             ]
            ],
            "type": "histogram2d"
           }
          ],
          "histogram2dcontour": [
           {
            "colorbar": {
             "outlinewidth": 0,
             "ticks": ""
            },
            "colorscale": [
             [
              0,
              "#0d0887"
             ],
             [
              0.1111111111111111,
              "#46039f"
             ],
             [
              0.2222222222222222,
              "#7201a8"
             ],
             [
              0.3333333333333333,
              "#9c179e"
             ],
             [
              0.4444444444444444,
              "#bd3786"
             ],
             [
              0.5555555555555556,
              "#d8576b"
             ],
             [
              0.6666666666666666,
              "#ed7953"
             ],
             [
              0.7777777777777778,
              "#fb9f3a"
             ],
             [
              0.8888888888888888,
              "#fdca26"
             ],
             [
              1,
              "#f0f921"
             ]
            ],
            "type": "histogram2dcontour"
           }
          ],
          "mesh3d": [
           {
            "colorbar": {
             "outlinewidth": 0,
             "ticks": ""
            },
            "type": "mesh3d"
           }
          ],
          "parcoords": [
           {
            "line": {
             "colorbar": {
              "outlinewidth": 0,
              "ticks": ""
             }
            },
            "type": "parcoords"
           }
          ],
          "pie": [
           {
            "automargin": true,
            "type": "pie"
           }
          ],
          "scatter": [
           {
            "fillpattern": {
             "fillmode": "overlay",
             "size": 10,
             "solidity": 0.2
            },
            "type": "scatter"
           }
          ],
          "scatter3d": [
           {
            "line": {
             "colorbar": {
              "outlinewidth": 0,
              "ticks": ""
             }
            },
            "marker": {
             "colorbar": {
              "outlinewidth": 0,
              "ticks": ""
             }
            },
            "type": "scatter3d"
           }
          ],
          "scattercarpet": [
           {
            "marker": {
             "colorbar": {
              "outlinewidth": 0,
              "ticks": ""
             }
            },
            "type": "scattercarpet"
           }
          ],
          "scattergeo": [
           {
            "marker": {
             "colorbar": {
              "outlinewidth": 0,
              "ticks": ""
             }
            },
            "type": "scattergeo"
           }
          ],
          "scattergl": [
           {
            "marker": {
             "colorbar": {
              "outlinewidth": 0,
              "ticks": ""
             }
            },
            "type": "scattergl"
           }
          ],
          "scattermapbox": [
           {
            "marker": {
             "colorbar": {
              "outlinewidth": 0,
              "ticks": ""
             }
            },
            "type": "scattermapbox"
           }
          ],
          "scatterpolar": [
           {
            "marker": {
             "colorbar": {
              "outlinewidth": 0,
              "ticks": ""
             }
            },
            "type": "scatterpolar"
           }
          ],
          "scatterpolargl": [
           {
            "marker": {
             "colorbar": {
              "outlinewidth": 0,
              "ticks": ""
             }
            },
            "type": "scatterpolargl"
           }
          ],
          "scatterternary": [
           {
            "marker": {
             "colorbar": {
              "outlinewidth": 0,
              "ticks": ""
             }
            },
            "type": "scatterternary"
           }
          ],
          "surface": [
           {
            "colorbar": {
             "outlinewidth": 0,
             "ticks": ""
            },
            "colorscale": [
             [
              0,
              "#0d0887"
             ],
             [
              0.1111111111111111,
              "#46039f"
             ],
             [
              0.2222222222222222,
              "#7201a8"
             ],
             [
              0.3333333333333333,
              "#9c179e"
             ],
             [
              0.4444444444444444,
              "#bd3786"
             ],
             [
              0.5555555555555556,
              "#d8576b"
             ],
             [
              0.6666666666666666,
              "#ed7953"
             ],
             [
              0.7777777777777778,
              "#fb9f3a"
             ],
             [
              0.8888888888888888,
              "#fdca26"
             ],
             [
              1,
              "#f0f921"
             ]
            ],
            "type": "surface"
           }
          ],
          "table": [
           {
            "cells": {
             "fill": {
              "color": "#EBF0F8"
             },
             "line": {
              "color": "white"
             }
            },
            "header": {
             "fill": {
              "color": "#C8D4E3"
             },
             "line": {
              "color": "white"
             }
            },
            "type": "table"
           }
          ]
         },
         "layout": {
          "annotationdefaults": {
           "arrowcolor": "#2a3f5f",
           "arrowhead": 0,
           "arrowwidth": 1
          },
          "autotypenumbers": "strict",
          "coloraxis": {
           "colorbar": {
            "outlinewidth": 0,
            "ticks": ""
           }
          },
          "colorscale": {
           "diverging": [
            [
             0,
             "#8e0152"
            ],
            [
             0.1,
             "#c51b7d"
            ],
            [
             0.2,
             "#de77ae"
            ],
            [
             0.3,
             "#f1b6da"
            ],
            [
             0.4,
             "#fde0ef"
            ],
            [
             0.5,
             "#f7f7f7"
            ],
            [
             0.6,
             "#e6f5d0"
            ],
            [
             0.7,
             "#b8e186"
            ],
            [
             0.8,
             "#7fbc41"
            ],
            [
             0.9,
             "#4d9221"
            ],
            [
             1,
             "#276419"
            ]
           ],
           "sequential": [
            [
             0,
             "#0d0887"
            ],
            [
             0.1111111111111111,
             "#46039f"
            ],
            [
             0.2222222222222222,
             "#7201a8"
            ],
            [
             0.3333333333333333,
             "#9c179e"
            ],
            [
             0.4444444444444444,
             "#bd3786"
            ],
            [
             0.5555555555555556,
             "#d8576b"
            ],
            [
             0.6666666666666666,
             "#ed7953"
            ],
            [
             0.7777777777777778,
             "#fb9f3a"
            ],
            [
             0.8888888888888888,
             "#fdca26"
            ],
            [
             1,
             "#f0f921"
            ]
           ],
           "sequentialminus": [
            [
             0,
             "#0d0887"
            ],
            [
             0.1111111111111111,
             "#46039f"
            ],
            [
             0.2222222222222222,
             "#7201a8"
            ],
            [
             0.3333333333333333,
             "#9c179e"
            ],
            [
             0.4444444444444444,
             "#bd3786"
            ],
            [
             0.5555555555555556,
             "#d8576b"
            ],
            [
             0.6666666666666666,
             "#ed7953"
            ],
            [
             0.7777777777777778,
             "#fb9f3a"
            ],
            [
             0.8888888888888888,
             "#fdca26"
            ],
            [
             1,
             "#f0f921"
            ]
           ]
          },
          "colorway": [
           "#636efa",
           "#EF553B",
           "#00cc96",
           "#ab63fa",
           "#FFA15A",
           "#19d3f3",
           "#FF6692",
           "#B6E880",
           "#FF97FF",
           "#FECB52"
          ],
          "font": {
           "color": "#2a3f5f"
          },
          "geo": {
           "bgcolor": "white",
           "lakecolor": "white",
           "landcolor": "#E5ECF6",
           "showlakes": true,
           "showland": true,
           "subunitcolor": "white"
          },
          "hoverlabel": {
           "align": "left"
          },
          "hovermode": "closest",
          "mapbox": {
           "style": "light"
          },
          "paper_bgcolor": "white",
          "plot_bgcolor": "#E5ECF6",
          "polar": {
           "angularaxis": {
            "gridcolor": "white",
            "linecolor": "white",
            "ticks": ""
           },
           "bgcolor": "#E5ECF6",
           "radialaxis": {
            "gridcolor": "white",
            "linecolor": "white",
            "ticks": ""
           }
          },
          "scene": {
           "xaxis": {
            "backgroundcolor": "#E5ECF6",
            "gridcolor": "white",
            "gridwidth": 2,
            "linecolor": "white",
            "showbackground": true,
            "ticks": "",
            "zerolinecolor": "white"
           },
           "yaxis": {
            "backgroundcolor": "#E5ECF6",
            "gridcolor": "white",
            "gridwidth": 2,
            "linecolor": "white",
            "showbackground": true,
            "ticks": "",
            "zerolinecolor": "white"
           },
           "zaxis": {
            "backgroundcolor": "#E5ECF6",
            "gridcolor": "white",
            "gridwidth": 2,
            "linecolor": "white",
            "showbackground": true,
            "ticks": "",
            "zerolinecolor": "white"
           }
          },
          "shapedefaults": {
           "line": {
            "color": "#2a3f5f"
           }
          },
          "ternary": {
           "aaxis": {
            "gridcolor": "white",
            "linecolor": "white",
            "ticks": ""
           },
           "baxis": {
            "gridcolor": "white",
            "linecolor": "white",
            "ticks": ""
           },
           "bgcolor": "#E5ECF6",
           "caxis": {
            "gridcolor": "white",
            "linecolor": "white",
            "ticks": ""
           }
          },
          "title": {
           "x": 0.05
          },
          "xaxis": {
           "automargin": true,
           "gridcolor": "white",
           "linecolor": "white",
           "ticks": "",
           "title": {
            "standoff": 15
           },
           "zerolinecolor": "white",
           "zerolinewidth": 2
          },
          "yaxis": {
           "automargin": true,
           "gridcolor": "white",
           "linecolor": "white",
           "ticks": "",
           "title": {
            "standoff": 15
           },
           "zerolinecolor": "white",
           "zerolinewidth": 2
          }
         }
        },
        "xaxis": {
         "anchor": "y",
         "domain": [
          0,
          1
         ],
         "title": {
          "text": "PC1"
         }
        },
        "yaxis": {
         "anchor": "x",
         "domain": [
          0,
          1
         ],
         "title": {
          "text": "PC2"
         }
        }
       }
      }
     },
     "metadata": {},
     "output_type": "display_data"
    },
    {
     "name": "stdout",
     "output_type": "stream",
     "text": [
      "eps:0.6\n",
      "min:4\n",
      "2\n"
     ]
    },
    {
     "data": {
      "application/vnd.plotly.v1+json": {
       "config": {
        "plotlyServerURL": "https://plot.ly"
       },
       "data": [
        {
         "hovertemplate": "PC1=%{x}<br>PC2=%{y}<br>cluster=%{marker.color}<extra></extra>",
         "legendgroup": "",
         "marker": {
          "color": [
           0,
           0,
           0,
           0,
           0,
           -1,
           0,
           0,
           0,
           0,
           0,
           0,
           0,
           0,
           0,
           0,
           -1,
           0,
           0,
           0,
           0,
           0,
           0,
           0,
           0,
           0,
           0,
           0,
           0,
           0,
           0,
           0,
           0,
           0,
           0,
           0,
           0,
           0,
           0,
           0,
           0,
           0,
           0,
           0,
           0,
           0,
           0,
           -1,
           -1,
           0,
           0,
           0,
           0,
           0,
           0,
           0,
           0,
           0,
           0,
           0,
           -1,
           0,
           0,
           0,
           0,
           0,
           0,
           0,
           0,
           0,
           0,
           0,
           0,
           0,
           0,
           0,
           0,
           0,
           0,
           0,
           0,
           0,
           0,
           0,
           0,
           0,
           0,
           0,
           0,
           0,
           0,
           0,
           0,
           0,
           0,
           0,
           0,
           0,
           0,
           0,
           0,
           0,
           0,
           0,
           0,
           0,
           0,
           0,
           0,
           0,
           0,
           0,
           0,
           0,
           0,
           0,
           0,
           0,
           0,
           0,
           0,
           0,
           0,
           -1,
           0,
           0,
           0,
           0,
           0,
           0,
           0,
           0,
           -1,
           0,
           0,
           0,
           0,
           0,
           -1,
           0,
           0,
           0,
           0,
           0,
           0,
           0,
           0,
           0,
           0,
           0,
           0,
           0,
           0,
           0,
           0,
           0,
           0,
           0,
           0,
           0,
           -1,
           0,
           0,
           0,
           0,
           0,
           0,
           0,
           0,
           0,
           0,
           0,
           0,
           0,
           0,
           0,
           0,
           0,
           0,
           0,
           -1,
           0,
           0,
           0,
           -1,
           0,
           0,
           0,
           0,
           0,
           0,
           0,
           0,
           0,
           0,
           0,
           0,
           0,
           0,
           0,
           0,
           0,
           0,
           0,
           0,
           0,
           0,
           0,
           0,
           0,
           0,
           0,
           0,
           0,
           0,
           0,
           0,
           0,
           0,
           0,
           0,
           0,
           -1,
           0,
           0,
           0,
           0,
           0,
           0,
           0,
           0,
           0,
           0,
           0,
           0,
           0,
           0,
           0,
           0,
           0,
           0,
           0,
           0,
           0,
           0,
           0,
           0,
           0,
           0,
           0,
           0,
           0,
           0,
           0,
           0,
           0,
           0,
           0,
           0,
           0,
           0,
           0,
           0,
           -1,
           0,
           0,
           0,
           0,
           0,
           0,
           0,
           0,
           0,
           0,
           0,
           0,
           0,
           0,
           0,
           0,
           0,
           0,
           0,
           0,
           0,
           0,
           0,
           0,
           0,
           0,
           0,
           0,
           0,
           0,
           0,
           -1,
           0,
           0,
           0,
           0,
           0,
           0,
           0,
           0,
           0,
           0
          ],
          "coloraxis": "coloraxis",
          "symbol": "circle"
         },
         "mode": "markers",
         "name": "",
         "orientation": "v",
         "showlegend": false,
         "type": "scatter",
         "x": [
          -0.3508186445814046,
          -0.5639310289142907,
          -0.5876614889048775,
          -0.5823377224391548,
          -0.5607934377831532,
          0.4195720316235605,
          0.4072448737758711,
          -0.4113530731621215,
          -0.00399273331831062,
          -0.1852422563817428,
          -0.44739994890418283,
          -0.17321034471097554,
          -0.9863859016696982,
          0.363681409013939,
          0.5332508277656569,
          0.4280966465773618,
          1.0588501758287197,
          0.025247980120545525,
          0.23810740264577307,
          0.6865351171763053,
          0.2581063436168159,
          0.3715708207646612,
          -0.4131797356835435,
          -0.04785829771362803,
          -0.9827684239122897,
          0.3681831670016599,
          -0.2935365288623707,
          -1.1909481439518261,
          -1.1528255253136725,
          -0.7069147217330235,
          0.40055109920872667,
          0.00803215716421511,
          0.14911199452136348,
          -0.16737103147821697,
          0.760616799924241,
          -0.23008068388502226,
          -0.7678298340451299,
          -0.540115638809465,
          -0.6308503154771031,
          -0.8514860460990357,
          -0.6867705734521476,
          -0.2078070316297446,
          -0.7308828712104986,
          0.5838622089680124,
          0.23092709056774202,
          -0.25715838997259816,
          0.5912142380882366,
          0.45038843768797976,
          0.7458086225076698,
          0.6665341479810564,
          -0.3559651445471211,
          0.14544245797935162,
          0.16923801231755534,
          0.28649183156012964,
          0.49776358997416936,
          1.0061507020713225,
          -0.00044711259362545716,
          0.28586827885250043,
          0.25658402880596615,
          1.2550220032228516,
          0.12286107335774328,
          1.485896209569183,
          1.141757343619969,
          1.083056179238525,
          1.2308187941802846,
          1.398828328888598,
          1.3054235587132532,
          -0.6767646613072369,
          0.6750460519396514,
          1.370581465278255,
          1.2018852316157136,
          -0.2580847111797142,
          -0.011498460508768802,
          -0.8370263340387589,
          -0.6363564838589613,
          -0.42919282404945464,
          -1.1039702224687824,
          -0.1088711356058151,
          -0.4596040070615721,
          0.1418478816660463,
          0.21957884447651801,
          0.3554794976193818,
          -0.8742386278118172,
          -0.2746466637092127,
          1.1054992040219718,
          -1.2632478611888398,
          1.5367762704079522,
          2.0068280117827495,
          0.850062335137054,
          0.33944496228293397,
          0.19249504445578958,
          -1.3581558798511084,
          0.2434247873301313,
          0.5263964218229623,
          -0.4868238715600447,
          1.1886039499169794,
          1.312567480095893,
          1.5798144290432872,
          0.09562530830559078,
          0.10113773211496412,
          2.033076972324046,
          0.8053821545180139,
          0.637502907215228,
          1.0203277391689545,
          1.1081509796409459,
          1.2746332749915992,
          1.0753569684035553,
          1.7049819492724492,
          1.6587035438150557,
          1.7295177415265623,
          0.5214983885075135,
          1.3702205937067362,
          1.518749873805489,
          2.1729248712419267,
          2.5854778650398846,
          2.411180428395736,
          2.1166243572495915,
          2.0214316278135502,
          1.8271443317174267,
          1.7146476778873738,
          2.0310988554007685,
          2.2173494244528684,
          2.184350145824153,
          1.5947485452960408,
          1.0679977016528681,
          0.8413104680994339,
          1.9202053051499042,
          1.8312001793279702,
          2.0139938593698643,
          1.3205121461089913,
          0.8282043651674835,
          1.2256783451926239,
          1.3358151046978437,
          -0.9688877415976315,
          0.26608200929683606,
          0.4664951006725747,
          -0.0563240048251054,
          -0.0559120157718613,
          1.1399716405498577,
          0.5358927796322845,
          0.018958766203575374,
          -0.24741988762852457,
          -0.5776044130063319,
          0.6475878617948905,
          -0.9100792974452094,
          0.49081208825788125,
          0.3298476395279003,
          -0.007475294677475479,
          -0.489846855978679,
          -0.8491853143573168,
          -0.7011129372532078,
          -0.05347780212672248,
          -0.0011183823042832202,
          -0.5655651342350086,
          -0.6620259718207827,
          -0.9227863531495146,
          -0.6622952480314663,
          -0.4782287610370813,
          -0.5932215055392788,
          0.12014236348877132,
          0.6903330209670598,
          -0.8426881627710046,
          -0.6917978730477802,
          -0.6781299724263031,
          0.1602732904474833,
          -0.6133650035392196,
          -0.6949704672974494,
          -0.9075944177318687,
          -0.8786928400558157,
          -0.9058658749968183,
          -0.31613938719436746,
          -1.4063256915973272,
          -1.3803818930202079,
          0.2625615034769143,
          -0.8470754546783491,
          -1.1030175239198672,
          -1.2002009601984962,
          -1.1015107582333754,
          -0.25448883335801076,
          -1.3268121966813606,
          0.21320098873326973,
          -0.6498069261405497,
          -0.9346574497489317,
          -0.23027783265072188,
          -0.5611158720424748,
          -0.6718621245174528,
          0.9811493906055307,
          -0.8636997616209908,
          -0.6227009894166133,
          0.26969388609522693,
          -1.2974700268568877,
          -0.7689427359366564,
          -1.1308155565904985,
          -1.1858237917313565,
          -1.1576084927470962,
          0.12712467464253588,
          0.6706059789697033,
          -0.3921416370294183,
          -0.11598044718702563,
          -0.23151664766119667,
          -0.7816102873703236,
          -0.7653708834373745,
          -0.5609480660210393,
          -1.2245683886515315,
          -1.2528323446207357,
          -0.04827769016556094,
          -0.620381709756415,
          -1.3179427171238245,
          -1.020448678856538,
          -1.122767828461264,
          -1.295461906008073,
          -0.2150777897030298,
          -1.0690715515230613,
          -0.6521075215103971,
          -0.7687037917119958,
          -1.1341499985115364,
          -1.206294094750507,
          -1.1419834961733435,
          0.15924292373346194,
          -1.0338737764714179,
          -0.9671029081402572,
          0.7301776776959528,
          0.22630807645404594,
          -0.03217868737816261,
          -0.8246874406681577,
          -0.0665121498396239,
          -0.525452729661283,
          -1.163670997184323,
          -1.0990419409084324,
          -0.871028416180363,
          -0.9839363695459624,
          -0.7071642819921274,
          -0.9649538646384597,
          -0.07938786382715807,
          -0.6511732443827587,
          -1.0495691285147353,
          -1.216907719249716,
          -1.0202686457871843,
          -1.245096243526878,
          -0.8051863963938097,
          -1.4079974175266863,
          -1.238577998585358,
          -1.1597420643057776,
          -0.49885995427398205,
          -1.2294098096570147,
          -1.3473762262692497,
          -0.9893474027848611,
          1.324644655674268,
          2.236559940687958,
          2.300220738929092,
          2.5447691037266145,
          -1.3290802025585322,
          -1.0339295771544759,
          -0.3646263998858898,
          -0.9210480898797002,
          -1.0528999459414,
          -0.7465386837494035,
          -1.3310648253509125,
          -0.15504914093148417,
          -0.17437782760361567,
          -0.2603429111629848,
          -0.8277771276090602,
          -0.5418252456462207,
          0.6086703948875171,
          -0.5988433486407282,
          -0.9028097234226942,
          -0.9592914666868012,
          0.22142476650741127,
          0.7932088658321987,
          0.5636494338661097,
          0.41197956731334534,
          1.826830708628797,
          0.31242812323741953,
          1.902649433624108,
          1.620881829702091,
          1.2518535611471007,
          2.144068931719886,
          0.43127983098330536,
          -0.326669105779434,
          1.1600755290161804,
          0.6320233562856604,
          0.7899229468245065,
          0.21091418080767607,
          0.7684640830904039,
          -1.2050179821235905,
          -1.003315446220766,
          -1.300336769491636,
          -1.2169871538010222,
          -1.4762498697303896,
          0.2818455182041284,
          -0.9236872137307428,
          -1.2034142443186877,
          -1.3539329811844136,
          -0.5113520614681136,
          -0.8684685964407897,
          -0.6600211472717245,
          0.02387224500841111,
          -0.10249542394847518,
          -0.5073132666040002,
          0.5206042476056767,
          0.15663991940049013,
          1.9189992338794515,
          -0.5326400765665911,
          -0.8536336765878905,
          0.23333215288286902,
          -0.6440736946026615
         ],
         "xaxis": "x",
         "y": [
          0.7099961857978953,
          0.42702553658784737,
          0.32532461799333984,
          -0.30751240895039944,
          -0.13734036816883838,
          0.31128851737849844,
          0.729962167893389,
          -0.0005735189402775898,
          0.8184393245280276,
          1.117196888341552,
          0.6623167014430784,
          0.5818759175510941,
          -0.5755506430210526,
          0.7595512721812351,
          1.0919717029401952,
          0.9287727424286327,
          0.647167399836963,
          1.1481584414274244,
          1.0538483156137948,
          1.068173947937826,
          0.8958960717525997,
          0.5678691445652688,
          0.4174137788963033,
          0.7527314614167181,
          -0.32417865836517257,
          1.2685351012786688,
          1.1329563580483628,
          -0.6309878142198015,
          -0.5784391528625124,
          -0.04627264220648031,
          1.0451683016282647,
          0.6363022232065211,
          0.6090535964371065,
          0.3389705573491687,
          -0.07876016749848436,
          -0.005161321019689319,
          -0.16245932754008796,
          -0.015756191193797463,
          0.19443560793123194,
          -0.094922033919062,
          0.4528492287184965,
          1.1992796693159886,
          0.28812500403641145,
          1.3827214876209564,
          1.112825496480182,
          0.820319273071483,
          -0.19017580106885862,
          -0.07244448877381379,
          0.4750518811453017,
          -0.6854025144338283,
          0.20702474930218934,
          0.1518140456897288,
          -0.05401545573946639,
          0.15929102424296657,
          0.3937351519692185,
          1.014706623198994,
          0.6371969911009774,
          0.1750033851741816,
          -0.6006650204085802,
          -0.0792124573390606,
          1.512070916552906,
          -0.6427866590478051,
          -0.03307075643171754,
          0.5274321350929281,
          -0.45485297270854297,
          -0.5564822170596899,
          -0.6115030808876163,
          -0.30479187981488526,
          -0.3098013915666279,
          -0.4457154428997717,
          -0.698679628353853,
          0.6013513192758371,
          1.0639967642006818,
          0.23703389905433955,
          0.6299565866915858,
          0.8345022141548945,
          -0.4323407360986679,
          -0.36112213785851976,
          0.5276588766709592,
          -0.07191032684639224,
          0.4567759882447646,
          -0.24191454883831306,
          0.1428429389318786,
          0.39866159386906896,
          0.029551102791049888,
          -0.6860368415335261,
          -0.2269403331648695,
          -0.5324958691880598,
          0.41247460087419985,
          0.6397017321322944,
          0.7167548034897423,
          -0.7968509799301254,
          0.4579173464816717,
          0.6929268513292324,
          0.3027252421361952,
          -0.5018055971078058,
          -0.9262446362631672,
          -0.7089125244246054,
          -0.09250520902190804,
          -0.24347082832148273,
          -0.5011749815040876,
          0.2769417524742287,
          0.6594733357560907,
          0.1464652696809386,
          0.17980367632117927,
          0.2876728571762101,
          0.24207094960578387,
          -0.47685645775978125,
          -0.4641342832744238,
          -0.6242657785803362,
          -0.35839496694913836,
          -0.6697201639582336,
          -0.5934551819218801,
          -0.6776601586832687,
          -0.772206603265197,
          -0.8256034226699906,
          -0.6034916443139994,
          -0.6959188228222942,
          -0.6506881292737736,
          -0.730610566802647,
          -0.7118028645644151,
          -0.5537360443743592,
          -0.7516917933008144,
          -1.0413224864771373,
          -0.2888912128532489,
          0.16165561715961727,
          -0.6301647136546636,
          -0.5457559028477338,
          -0.7375472316736065,
          -0.30382668918844896,
          0.14392662023758906,
          0.4029023478736755,
          0.11923488393747818,
          -0.3931448013405179,
          0.47116303960960504,
          -0.3057199867825617,
          0.19033436901269668,
          0.3672353828015206,
          -0.11915816433922534,
          -0.22949644038607933,
          0.0005381922934969265,
          0.4014541076202302,
          0.011226333971447174,
          0.15316753403502015,
          -0.17839685429915678,
          0.1162964727268741,
          0.6132218639995656,
          0.7440426957254411,
          0.5514812675631249,
          0.2558900153292978,
          -0.41263591264996197,
          -0.24829956261552585,
          -0.08343938247417602,
          -0.20777470378370455,
          -0.24080633807485974,
          -0.3134496109536108,
          0.26608327441236906,
          -0.029058638683316398,
          0.0671953806310761,
          0.7504319775030304,
          1.1239966883690784,
          -0.45781463258792676,
          0.34873035447720835,
          0.8756141158887747,
          0.9258608099918605,
          0.4841868261378967,
          0.7141823455552794,
          -0.03732354018898182,
          0.28878723343162016,
          0.15719818315722064,
          0.7973884178965798,
          -0.7660432689583268,
          -0.84400657794849,
          -0.45947960809374516,
          -0.3345165522557174,
          -0.6649776248286672,
          -0.6363778850046428,
          -0.5993592194355751,
          -0.18919715662760342,
          -0.7691383038182813,
          0.04053435533132516,
          0.21657270370862602,
          -0.014942354878290992,
          0.9030285565753604,
          -0.4266317392588027,
          0.15182338797892395,
          -0.19851912578326078,
          0.054602340636070716,
          0.4071145704787819,
          0.4220990016103621,
          -0.7460484006509379,
          -0.37416817643363576,
          -0.6372097375723659,
          -0.5063493452642951,
          -0.09239144822483929,
          0.8850748108824067,
          -0.3774211773239248,
          0.11439303192748623,
          0.21840717600576146,
          0.41308681848561374,
          -0.156487389434147,
          -0.21246162342132058,
          0.35967154146760516,
          -0.6280362618690645,
          -0.6751485839668573,
          0.4564923562030079,
          0.46341219854131854,
          -0.6255699562303365,
          -0.14648385725392216,
          -0.529967500091482,
          -0.7969822771052225,
          0.2212198399904749,
          -0.35734431874142725,
          -0.490786380395956,
          -0.31872916446986554,
          -0.6918558834102606,
          -0.7082270021088811,
          -0.7238134790639272,
          0.12244694049215733,
          -0.3995158569063484,
          -0.5271808752106215,
          0.6167487204970656,
          1.3015349678754837,
          1.3070266362899396,
          -0.11326696955333448,
          0.03762840489926836,
          0.4637935227601997,
          -0.3581647071056107,
          -0.7534000614183912,
          -0.32871859328507014,
          -0.2747903697084202,
          -0.1782478319197431,
          -0.5058423435176054,
          0.28564173412763133,
          0.22065552600422933,
          -0.6473159610252815,
          -0.6069361767018229,
          -0.6298085539721407,
          -0.7732732549216,
          -0.4923166757282111,
          -0.6975829899400697,
          -0.7388955697842149,
          -0.43264234556453635,
          0.09749775065327997,
          -0.6339343049928898,
          -0.6640631227213608,
          -0.2201238450942663,
          -0.7406821537471711,
          -0.6143040266580025,
          -0.5698169156217819,
          -0.8756335115452012,
          -0.5141589243246582,
          -0.34764364588050745,
          0.44145008058227136,
          -0.31539811267161544,
          -0.6370741888817835,
          -0.19493915236414852,
          -0.7735155602581518,
          0.3156325537205879,
          1.0556241456946518,
          1.0440701043581253,
          0.32877861478383197,
          0.3164185453548597,
          1.1615210253233557,
          0.04553512632354633,
          -0.2433147074464451,
          -0.3581664229481636,
          0.9437433574201339,
          1.1007774491822322,
          1.0107234027065128,
          0.9274899088166828,
          -0.7662581492563958,
          -0.7871634414585786,
          -0.5293459180136509,
          -0.6432404647199428,
          -0.581318473331517,
          -0.6916550585341287,
          -0.21108386707704713,
          0.04222803626490735,
          -0.6624768970250287,
          -0.36007697929215565,
          0.5369447952766742,
          0.9916844193676572,
          -0.5361063431814365,
          -0.5855287098767852,
          -0.4008160716345416,
          -0.7611554973033743,
          -0.6659259100919337,
          -0.802516056383197,
          0.04535682741649859,
          -0.28061484381918506,
          -0.6098813595061421,
          -0.8132859063928752,
          -0.1951940050040877,
          -0.33410450200889125,
          0.7126277842603084,
          0.16591497309967654,
          0.3509629701820568,
          1.0256786577294228,
          1.0272833710267137,
          0.9212705727252719,
          -0.71638376743169,
          -0.3934942048076385,
          -0.3503235301888743,
          -0.019981995927691884,
          0.06001570368658886
         ],
         "yaxis": "y"
        }
       ],
       "layout": {
        "coloraxis": {
         "colorbar": {
          "title": {
           "text": "cluster"
          }
         },
         "colorscale": [
          [
           0,
           "#0d0887"
          ],
          [
           0.1111111111111111,
           "#46039f"
          ],
          [
           0.2222222222222222,
           "#7201a8"
          ],
          [
           0.3333333333333333,
           "#9c179e"
          ],
          [
           0.4444444444444444,
           "#bd3786"
          ],
          [
           0.5555555555555556,
           "#d8576b"
          ],
          [
           0.6666666666666666,
           "#ed7953"
          ],
          [
           0.7777777777777778,
           "#fb9f3a"
          ],
          [
           0.8888888888888888,
           "#fdca26"
          ],
          [
           1,
           "#f0f921"
          ]
         ]
        },
        "legend": {
         "tracegroupgap": 0
        },
        "margin": {
         "t": 60
        },
        "template": {
         "data": {
          "bar": [
           {
            "error_x": {
             "color": "#2a3f5f"
            },
            "error_y": {
             "color": "#2a3f5f"
            },
            "marker": {
             "line": {
              "color": "#E5ECF6",
              "width": 0.5
             },
             "pattern": {
              "fillmode": "overlay",
              "size": 10,
              "solidity": 0.2
             }
            },
            "type": "bar"
           }
          ],
          "barpolar": [
           {
            "marker": {
             "line": {
              "color": "#E5ECF6",
              "width": 0.5
             },
             "pattern": {
              "fillmode": "overlay",
              "size": 10,
              "solidity": 0.2
             }
            },
            "type": "barpolar"
           }
          ],
          "carpet": [
           {
            "aaxis": {
             "endlinecolor": "#2a3f5f",
             "gridcolor": "white",
             "linecolor": "white",
             "minorgridcolor": "white",
             "startlinecolor": "#2a3f5f"
            },
            "baxis": {
             "endlinecolor": "#2a3f5f",
             "gridcolor": "white",
             "linecolor": "white",
             "minorgridcolor": "white",
             "startlinecolor": "#2a3f5f"
            },
            "type": "carpet"
           }
          ],
          "choropleth": [
           {
            "colorbar": {
             "outlinewidth": 0,
             "ticks": ""
            },
            "type": "choropleth"
           }
          ],
          "contour": [
           {
            "colorbar": {
             "outlinewidth": 0,
             "ticks": ""
            },
            "colorscale": [
             [
              0,
              "#0d0887"
             ],
             [
              0.1111111111111111,
              "#46039f"
             ],
             [
              0.2222222222222222,
              "#7201a8"
             ],
             [
              0.3333333333333333,
              "#9c179e"
             ],
             [
              0.4444444444444444,
              "#bd3786"
             ],
             [
              0.5555555555555556,
              "#d8576b"
             ],
             [
              0.6666666666666666,
              "#ed7953"
             ],
             [
              0.7777777777777778,
              "#fb9f3a"
             ],
             [
              0.8888888888888888,
              "#fdca26"
             ],
             [
              1,
              "#f0f921"
             ]
            ],
            "type": "contour"
           }
          ],
          "contourcarpet": [
           {
            "colorbar": {
             "outlinewidth": 0,
             "ticks": ""
            },
            "type": "contourcarpet"
           }
          ],
          "heatmap": [
           {
            "colorbar": {
             "outlinewidth": 0,
             "ticks": ""
            },
            "colorscale": [
             [
              0,
              "#0d0887"
             ],
             [
              0.1111111111111111,
              "#46039f"
             ],
             [
              0.2222222222222222,
              "#7201a8"
             ],
             [
              0.3333333333333333,
              "#9c179e"
             ],
             [
              0.4444444444444444,
              "#bd3786"
             ],
             [
              0.5555555555555556,
              "#d8576b"
             ],
             [
              0.6666666666666666,
              "#ed7953"
             ],
             [
              0.7777777777777778,
              "#fb9f3a"
             ],
             [
              0.8888888888888888,
              "#fdca26"
             ],
             [
              1,
              "#f0f921"
             ]
            ],
            "type": "heatmap"
           }
          ],
          "heatmapgl": [
           {
            "colorbar": {
             "outlinewidth": 0,
             "ticks": ""
            },
            "colorscale": [
             [
              0,
              "#0d0887"
             ],
             [
              0.1111111111111111,
              "#46039f"
             ],
             [
              0.2222222222222222,
              "#7201a8"
             ],
             [
              0.3333333333333333,
              "#9c179e"
             ],
             [
              0.4444444444444444,
              "#bd3786"
             ],
             [
              0.5555555555555556,
              "#d8576b"
             ],
             [
              0.6666666666666666,
              "#ed7953"
             ],
             [
              0.7777777777777778,
              "#fb9f3a"
             ],
             [
              0.8888888888888888,
              "#fdca26"
             ],
             [
              1,
              "#f0f921"
             ]
            ],
            "type": "heatmapgl"
           }
          ],
          "histogram": [
           {
            "marker": {
             "pattern": {
              "fillmode": "overlay",
              "size": 10,
              "solidity": 0.2
             }
            },
            "type": "histogram"
           }
          ],
          "histogram2d": [
           {
            "colorbar": {
             "outlinewidth": 0,
             "ticks": ""
            },
            "colorscale": [
             [
              0,
              "#0d0887"
             ],
             [
              0.1111111111111111,
              "#46039f"
             ],
             [
              0.2222222222222222,
              "#7201a8"
             ],
             [
              0.3333333333333333,
              "#9c179e"
             ],
             [
              0.4444444444444444,
              "#bd3786"
             ],
             [
              0.5555555555555556,
              "#d8576b"
             ],
             [
              0.6666666666666666,
              "#ed7953"
             ],
             [
              0.7777777777777778,
              "#fb9f3a"
             ],
             [
              0.8888888888888888,
              "#fdca26"
             ],
             [
              1,
              "#f0f921"
             ]
            ],
            "type": "histogram2d"
           }
          ],
          "histogram2dcontour": [
           {
            "colorbar": {
             "outlinewidth": 0,
             "ticks": ""
            },
            "colorscale": [
             [
              0,
              "#0d0887"
             ],
             [
              0.1111111111111111,
              "#46039f"
             ],
             [
              0.2222222222222222,
              "#7201a8"
             ],
             [
              0.3333333333333333,
              "#9c179e"
             ],
             [
              0.4444444444444444,
              "#bd3786"
             ],
             [
              0.5555555555555556,
              "#d8576b"
             ],
             [
              0.6666666666666666,
              "#ed7953"
             ],
             [
              0.7777777777777778,
              "#fb9f3a"
             ],
             [
              0.8888888888888888,
              "#fdca26"
             ],
             [
              1,
              "#f0f921"
             ]
            ],
            "type": "histogram2dcontour"
           }
          ],
          "mesh3d": [
           {
            "colorbar": {
             "outlinewidth": 0,
             "ticks": ""
            },
            "type": "mesh3d"
           }
          ],
          "parcoords": [
           {
            "line": {
             "colorbar": {
              "outlinewidth": 0,
              "ticks": ""
             }
            },
            "type": "parcoords"
           }
          ],
          "pie": [
           {
            "automargin": true,
            "type": "pie"
           }
          ],
          "scatter": [
           {
            "fillpattern": {
             "fillmode": "overlay",
             "size": 10,
             "solidity": 0.2
            },
            "type": "scatter"
           }
          ],
          "scatter3d": [
           {
            "line": {
             "colorbar": {
              "outlinewidth": 0,
              "ticks": ""
             }
            },
            "marker": {
             "colorbar": {
              "outlinewidth": 0,
              "ticks": ""
             }
            },
            "type": "scatter3d"
           }
          ],
          "scattercarpet": [
           {
            "marker": {
             "colorbar": {
              "outlinewidth": 0,
              "ticks": ""
             }
            },
            "type": "scattercarpet"
           }
          ],
          "scattergeo": [
           {
            "marker": {
             "colorbar": {
              "outlinewidth": 0,
              "ticks": ""
             }
            },
            "type": "scattergeo"
           }
          ],
          "scattergl": [
           {
            "marker": {
             "colorbar": {
              "outlinewidth": 0,
              "ticks": ""
             }
            },
            "type": "scattergl"
           }
          ],
          "scattermapbox": [
           {
            "marker": {
             "colorbar": {
              "outlinewidth": 0,
              "ticks": ""
             }
            },
            "type": "scattermapbox"
           }
          ],
          "scatterpolar": [
           {
            "marker": {
             "colorbar": {
              "outlinewidth": 0,
              "ticks": ""
             }
            },
            "type": "scatterpolar"
           }
          ],
          "scatterpolargl": [
           {
            "marker": {
             "colorbar": {
              "outlinewidth": 0,
              "ticks": ""
             }
            },
            "type": "scatterpolargl"
           }
          ],
          "scatterternary": [
           {
            "marker": {
             "colorbar": {
              "outlinewidth": 0,
              "ticks": ""
             }
            },
            "type": "scatterternary"
           }
          ],
          "surface": [
           {
            "colorbar": {
             "outlinewidth": 0,
             "ticks": ""
            },
            "colorscale": [
             [
              0,
              "#0d0887"
             ],
             [
              0.1111111111111111,
              "#46039f"
             ],
             [
              0.2222222222222222,
              "#7201a8"
             ],
             [
              0.3333333333333333,
              "#9c179e"
             ],
             [
              0.4444444444444444,
              "#bd3786"
             ],
             [
              0.5555555555555556,
              "#d8576b"
             ],
             [
              0.6666666666666666,
              "#ed7953"
             ],
             [
              0.7777777777777778,
              "#fb9f3a"
             ],
             [
              0.8888888888888888,
              "#fdca26"
             ],
             [
              1,
              "#f0f921"
             ]
            ],
            "type": "surface"
           }
          ],
          "table": [
           {
            "cells": {
             "fill": {
              "color": "#EBF0F8"
             },
             "line": {
              "color": "white"
             }
            },
            "header": {
             "fill": {
              "color": "#C8D4E3"
             },
             "line": {
              "color": "white"
             }
            },
            "type": "table"
           }
          ]
         },
         "layout": {
          "annotationdefaults": {
           "arrowcolor": "#2a3f5f",
           "arrowhead": 0,
           "arrowwidth": 1
          },
          "autotypenumbers": "strict",
          "coloraxis": {
           "colorbar": {
            "outlinewidth": 0,
            "ticks": ""
           }
          },
          "colorscale": {
           "diverging": [
            [
             0,
             "#8e0152"
            ],
            [
             0.1,
             "#c51b7d"
            ],
            [
             0.2,
             "#de77ae"
            ],
            [
             0.3,
             "#f1b6da"
            ],
            [
             0.4,
             "#fde0ef"
            ],
            [
             0.5,
             "#f7f7f7"
            ],
            [
             0.6,
             "#e6f5d0"
            ],
            [
             0.7,
             "#b8e186"
            ],
            [
             0.8,
             "#7fbc41"
            ],
            [
             0.9,
             "#4d9221"
            ],
            [
             1,
             "#276419"
            ]
           ],
           "sequential": [
            [
             0,
             "#0d0887"
            ],
            [
             0.1111111111111111,
             "#46039f"
            ],
            [
             0.2222222222222222,
             "#7201a8"
            ],
            [
             0.3333333333333333,
             "#9c179e"
            ],
            [
             0.4444444444444444,
             "#bd3786"
            ],
            [
             0.5555555555555556,
             "#d8576b"
            ],
            [
             0.6666666666666666,
             "#ed7953"
            ],
            [
             0.7777777777777778,
             "#fb9f3a"
            ],
            [
             0.8888888888888888,
             "#fdca26"
            ],
            [
             1,
             "#f0f921"
            ]
           ],
           "sequentialminus": [
            [
             0,
             "#0d0887"
            ],
            [
             0.1111111111111111,
             "#46039f"
            ],
            [
             0.2222222222222222,
             "#7201a8"
            ],
            [
             0.3333333333333333,
             "#9c179e"
            ],
            [
             0.4444444444444444,
             "#bd3786"
            ],
            [
             0.5555555555555556,
             "#d8576b"
            ],
            [
             0.6666666666666666,
             "#ed7953"
            ],
            [
             0.7777777777777778,
             "#fb9f3a"
            ],
            [
             0.8888888888888888,
             "#fdca26"
            ],
            [
             1,
             "#f0f921"
            ]
           ]
          },
          "colorway": [
           "#636efa",
           "#EF553B",
           "#00cc96",
           "#ab63fa",
           "#FFA15A",
           "#19d3f3",
           "#FF6692",
           "#B6E880",
           "#FF97FF",
           "#FECB52"
          ],
          "font": {
           "color": "#2a3f5f"
          },
          "geo": {
           "bgcolor": "white",
           "lakecolor": "white",
           "landcolor": "#E5ECF6",
           "showlakes": true,
           "showland": true,
           "subunitcolor": "white"
          },
          "hoverlabel": {
           "align": "left"
          },
          "hovermode": "closest",
          "mapbox": {
           "style": "light"
          },
          "paper_bgcolor": "white",
          "plot_bgcolor": "#E5ECF6",
          "polar": {
           "angularaxis": {
            "gridcolor": "white",
            "linecolor": "white",
            "ticks": ""
           },
           "bgcolor": "#E5ECF6",
           "radialaxis": {
            "gridcolor": "white",
            "linecolor": "white",
            "ticks": ""
           }
          },
          "scene": {
           "xaxis": {
            "backgroundcolor": "#E5ECF6",
            "gridcolor": "white",
            "gridwidth": 2,
            "linecolor": "white",
            "showbackground": true,
            "ticks": "",
            "zerolinecolor": "white"
           },
           "yaxis": {
            "backgroundcolor": "#E5ECF6",
            "gridcolor": "white",
            "gridwidth": 2,
            "linecolor": "white",
            "showbackground": true,
            "ticks": "",
            "zerolinecolor": "white"
           },
           "zaxis": {
            "backgroundcolor": "#E5ECF6",
            "gridcolor": "white",
            "gridwidth": 2,
            "linecolor": "white",
            "showbackground": true,
            "ticks": "",
            "zerolinecolor": "white"
           }
          },
          "shapedefaults": {
           "line": {
            "color": "#2a3f5f"
           }
          },
          "ternary": {
           "aaxis": {
            "gridcolor": "white",
            "linecolor": "white",
            "ticks": ""
           },
           "baxis": {
            "gridcolor": "white",
            "linecolor": "white",
            "ticks": ""
           },
           "bgcolor": "#E5ECF6",
           "caxis": {
            "gridcolor": "white",
            "linecolor": "white",
            "ticks": ""
           }
          },
          "title": {
           "x": 0.05
          },
          "xaxis": {
           "automargin": true,
           "gridcolor": "white",
           "linecolor": "white",
           "ticks": "",
           "title": {
            "standoff": 15
           },
           "zerolinecolor": "white",
           "zerolinewidth": 2
          },
          "yaxis": {
           "automargin": true,
           "gridcolor": "white",
           "linecolor": "white",
           "ticks": "",
           "title": {
            "standoff": 15
           },
           "zerolinecolor": "white",
           "zerolinewidth": 2
          }
         }
        },
        "xaxis": {
         "anchor": "y",
         "domain": [
          0,
          1
         ],
         "title": {
          "text": "PC1"
         }
        },
        "yaxis": {
         "anchor": "x",
         "domain": [
          0,
          1
         ],
         "title": {
          "text": "PC2"
         }
        }
       }
      }
     },
     "metadata": {},
     "output_type": "display_data"
    },
    {
     "name": "stdout",
     "output_type": "stream",
     "text": [
      "eps:0.6\n",
      "min:5\n",
      "2\n"
     ]
    },
    {
     "data": {
      "application/vnd.plotly.v1+json": {
       "config": {
        "plotlyServerURL": "https://plot.ly"
       },
       "data": [
        {
         "hovertemplate": "PC1=%{x}<br>PC2=%{y}<br>cluster=%{marker.color}<extra></extra>",
         "legendgroup": "",
         "marker": {
          "color": [
           0,
           0,
           0,
           0,
           0,
           -1,
           0,
           0,
           0,
           0,
           0,
           0,
           0,
           0,
           0,
           0,
           -1,
           0,
           0,
           0,
           0,
           0,
           0,
           0,
           0,
           0,
           0,
           0,
           0,
           0,
           0,
           0,
           0,
           0,
           0,
           0,
           0,
           0,
           0,
           0,
           0,
           0,
           0,
           0,
           0,
           0,
           0,
           -1,
           -1,
           0,
           0,
           0,
           0,
           0,
           0,
           0,
           0,
           0,
           0,
           0,
           -1,
           0,
           -1,
           0,
           0,
           0,
           0,
           0,
           0,
           0,
           0,
           0,
           0,
           0,
           0,
           0,
           0,
           0,
           0,
           0,
           0,
           0,
           0,
           0,
           0,
           0,
           0,
           0,
           0,
           0,
           0,
           0,
           0,
           0,
           0,
           0,
           0,
           0,
           0,
           0,
           -1,
           0,
           0,
           0,
           0,
           0,
           0,
           0,
           0,
           0,
           0,
           0,
           0,
           0,
           0,
           0,
           0,
           0,
           0,
           0,
           0,
           0,
           0,
           -1,
           0,
           0,
           0,
           0,
           0,
           0,
           0,
           0,
           -1,
           0,
           0,
           0,
           0,
           0,
           -1,
           0,
           0,
           0,
           0,
           0,
           0,
           0,
           0,
           0,
           0,
           0,
           0,
           0,
           0,
           0,
           0,
           0,
           0,
           0,
           0,
           0,
           -1,
           0,
           0,
           0,
           0,
           0,
           0,
           0,
           0,
           0,
           0,
           0,
           0,
           0,
           0,
           0,
           0,
           0,
           0,
           0,
           -1,
           0,
           0,
           0,
           -1,
           0,
           0,
           0,
           0,
           0,
           0,
           0,
           0,
           0,
           0,
           0,
           0,
           0,
           0,
           0,
           0,
           0,
           0,
           0,
           0,
           0,
           0,
           0,
           0,
           0,
           0,
           0,
           0,
           0,
           0,
           0,
           0,
           0,
           0,
           0,
           0,
           0,
           -1,
           -1,
           0,
           0,
           0,
           0,
           0,
           0,
           0,
           0,
           0,
           0,
           0,
           0,
           0,
           0,
           0,
           0,
           0,
           0,
           0,
           0,
           0,
           0,
           0,
           0,
           0,
           0,
           0,
           0,
           0,
           0,
           0,
           0,
           0,
           0,
           0,
           0,
           0,
           0,
           0,
           -1,
           0,
           0,
           0,
           0,
           0,
           0,
           0,
           0,
           0,
           0,
           0,
           0,
           0,
           0,
           0,
           0,
           0,
           0,
           0,
           0,
           0,
           0,
           0,
           0,
           0,
           0,
           0,
           0,
           0,
           0,
           0,
           -1,
           0,
           0,
           0,
           0,
           0,
           0,
           0,
           0,
           0,
           0
          ],
          "coloraxis": "coloraxis",
          "symbol": "circle"
         },
         "mode": "markers",
         "name": "",
         "orientation": "v",
         "showlegend": false,
         "type": "scatter",
         "x": [
          -0.3508186445814046,
          -0.5639310289142907,
          -0.5876614889048775,
          -0.5823377224391548,
          -0.5607934377831532,
          0.4195720316235605,
          0.4072448737758711,
          -0.4113530731621215,
          -0.00399273331831062,
          -0.1852422563817428,
          -0.44739994890418283,
          -0.17321034471097554,
          -0.9863859016696982,
          0.363681409013939,
          0.5332508277656569,
          0.4280966465773618,
          1.0588501758287197,
          0.025247980120545525,
          0.23810740264577307,
          0.6865351171763053,
          0.2581063436168159,
          0.3715708207646612,
          -0.4131797356835435,
          -0.04785829771362803,
          -0.9827684239122897,
          0.3681831670016599,
          -0.2935365288623707,
          -1.1909481439518261,
          -1.1528255253136725,
          -0.7069147217330235,
          0.40055109920872667,
          0.00803215716421511,
          0.14911199452136348,
          -0.16737103147821697,
          0.760616799924241,
          -0.23008068388502226,
          -0.7678298340451299,
          -0.540115638809465,
          -0.6308503154771031,
          -0.8514860460990357,
          -0.6867705734521476,
          -0.2078070316297446,
          -0.7308828712104986,
          0.5838622089680124,
          0.23092709056774202,
          -0.25715838997259816,
          0.5912142380882366,
          0.45038843768797976,
          0.7458086225076698,
          0.6665341479810564,
          -0.3559651445471211,
          0.14544245797935162,
          0.16923801231755534,
          0.28649183156012964,
          0.49776358997416936,
          1.0061507020713225,
          -0.00044711259362545716,
          0.28586827885250043,
          0.25658402880596615,
          1.2550220032228516,
          0.12286107335774328,
          1.485896209569183,
          1.141757343619969,
          1.083056179238525,
          1.2308187941802846,
          1.398828328888598,
          1.3054235587132532,
          -0.6767646613072369,
          0.6750460519396514,
          1.370581465278255,
          1.2018852316157136,
          -0.2580847111797142,
          -0.011498460508768802,
          -0.8370263340387589,
          -0.6363564838589613,
          -0.42919282404945464,
          -1.1039702224687824,
          -0.1088711356058151,
          -0.4596040070615721,
          0.1418478816660463,
          0.21957884447651801,
          0.3554794976193818,
          -0.8742386278118172,
          -0.2746466637092127,
          1.1054992040219718,
          -1.2632478611888398,
          1.5367762704079522,
          2.0068280117827495,
          0.850062335137054,
          0.33944496228293397,
          0.19249504445578958,
          -1.3581558798511084,
          0.2434247873301313,
          0.5263964218229623,
          -0.4868238715600447,
          1.1886039499169794,
          1.312567480095893,
          1.5798144290432872,
          0.09562530830559078,
          0.10113773211496412,
          2.033076972324046,
          0.8053821545180139,
          0.637502907215228,
          1.0203277391689545,
          1.1081509796409459,
          1.2746332749915992,
          1.0753569684035553,
          1.7049819492724492,
          1.6587035438150557,
          1.7295177415265623,
          0.5214983885075135,
          1.3702205937067362,
          1.518749873805489,
          2.1729248712419267,
          2.5854778650398846,
          2.411180428395736,
          2.1166243572495915,
          2.0214316278135502,
          1.8271443317174267,
          1.7146476778873738,
          2.0310988554007685,
          2.2173494244528684,
          2.184350145824153,
          1.5947485452960408,
          1.0679977016528681,
          0.8413104680994339,
          1.9202053051499042,
          1.8312001793279702,
          2.0139938593698643,
          1.3205121461089913,
          0.8282043651674835,
          1.2256783451926239,
          1.3358151046978437,
          -0.9688877415976315,
          0.26608200929683606,
          0.4664951006725747,
          -0.0563240048251054,
          -0.0559120157718613,
          1.1399716405498577,
          0.5358927796322845,
          0.018958766203575374,
          -0.24741988762852457,
          -0.5776044130063319,
          0.6475878617948905,
          -0.9100792974452094,
          0.49081208825788125,
          0.3298476395279003,
          -0.007475294677475479,
          -0.489846855978679,
          -0.8491853143573168,
          -0.7011129372532078,
          -0.05347780212672248,
          -0.0011183823042832202,
          -0.5655651342350086,
          -0.6620259718207827,
          -0.9227863531495146,
          -0.6622952480314663,
          -0.4782287610370813,
          -0.5932215055392788,
          0.12014236348877132,
          0.6903330209670598,
          -0.8426881627710046,
          -0.6917978730477802,
          -0.6781299724263031,
          0.1602732904474833,
          -0.6133650035392196,
          -0.6949704672974494,
          -0.9075944177318687,
          -0.8786928400558157,
          -0.9058658749968183,
          -0.31613938719436746,
          -1.4063256915973272,
          -1.3803818930202079,
          0.2625615034769143,
          -0.8470754546783491,
          -1.1030175239198672,
          -1.2002009601984962,
          -1.1015107582333754,
          -0.25448883335801076,
          -1.3268121966813606,
          0.21320098873326973,
          -0.6498069261405497,
          -0.9346574497489317,
          -0.23027783265072188,
          -0.5611158720424748,
          -0.6718621245174528,
          0.9811493906055307,
          -0.8636997616209908,
          -0.6227009894166133,
          0.26969388609522693,
          -1.2974700268568877,
          -0.7689427359366564,
          -1.1308155565904985,
          -1.1858237917313565,
          -1.1576084927470962,
          0.12712467464253588,
          0.6706059789697033,
          -0.3921416370294183,
          -0.11598044718702563,
          -0.23151664766119667,
          -0.7816102873703236,
          -0.7653708834373745,
          -0.5609480660210393,
          -1.2245683886515315,
          -1.2528323446207357,
          -0.04827769016556094,
          -0.620381709756415,
          -1.3179427171238245,
          -1.020448678856538,
          -1.122767828461264,
          -1.295461906008073,
          -0.2150777897030298,
          -1.0690715515230613,
          -0.6521075215103971,
          -0.7687037917119958,
          -1.1341499985115364,
          -1.206294094750507,
          -1.1419834961733435,
          0.15924292373346194,
          -1.0338737764714179,
          -0.9671029081402572,
          0.7301776776959528,
          0.22630807645404594,
          -0.03217868737816261,
          -0.8246874406681577,
          -0.0665121498396239,
          -0.525452729661283,
          -1.163670997184323,
          -1.0990419409084324,
          -0.871028416180363,
          -0.9839363695459624,
          -0.7071642819921274,
          -0.9649538646384597,
          -0.07938786382715807,
          -0.6511732443827587,
          -1.0495691285147353,
          -1.216907719249716,
          -1.0202686457871843,
          -1.245096243526878,
          -0.8051863963938097,
          -1.4079974175266863,
          -1.238577998585358,
          -1.1597420643057776,
          -0.49885995427398205,
          -1.2294098096570147,
          -1.3473762262692497,
          -0.9893474027848611,
          1.324644655674268,
          2.236559940687958,
          2.300220738929092,
          2.5447691037266145,
          -1.3290802025585322,
          -1.0339295771544759,
          -0.3646263998858898,
          -0.9210480898797002,
          -1.0528999459414,
          -0.7465386837494035,
          -1.3310648253509125,
          -0.15504914093148417,
          -0.17437782760361567,
          -0.2603429111629848,
          -0.8277771276090602,
          -0.5418252456462207,
          0.6086703948875171,
          -0.5988433486407282,
          -0.9028097234226942,
          -0.9592914666868012,
          0.22142476650741127,
          0.7932088658321987,
          0.5636494338661097,
          0.41197956731334534,
          1.826830708628797,
          0.31242812323741953,
          1.902649433624108,
          1.620881829702091,
          1.2518535611471007,
          2.144068931719886,
          0.43127983098330536,
          -0.326669105779434,
          1.1600755290161804,
          0.6320233562856604,
          0.7899229468245065,
          0.21091418080767607,
          0.7684640830904039,
          -1.2050179821235905,
          -1.003315446220766,
          -1.300336769491636,
          -1.2169871538010222,
          -1.4762498697303896,
          0.2818455182041284,
          -0.9236872137307428,
          -1.2034142443186877,
          -1.3539329811844136,
          -0.5113520614681136,
          -0.8684685964407897,
          -0.6600211472717245,
          0.02387224500841111,
          -0.10249542394847518,
          -0.5073132666040002,
          0.5206042476056767,
          0.15663991940049013,
          1.9189992338794515,
          -0.5326400765665911,
          -0.8536336765878905,
          0.23333215288286902,
          -0.6440736946026615
         ],
         "xaxis": "x",
         "y": [
          0.7099961857978953,
          0.42702553658784737,
          0.32532461799333984,
          -0.30751240895039944,
          -0.13734036816883838,
          0.31128851737849844,
          0.729962167893389,
          -0.0005735189402775898,
          0.8184393245280276,
          1.117196888341552,
          0.6623167014430784,
          0.5818759175510941,
          -0.5755506430210526,
          0.7595512721812351,
          1.0919717029401952,
          0.9287727424286327,
          0.647167399836963,
          1.1481584414274244,
          1.0538483156137948,
          1.068173947937826,
          0.8958960717525997,
          0.5678691445652688,
          0.4174137788963033,
          0.7527314614167181,
          -0.32417865836517257,
          1.2685351012786688,
          1.1329563580483628,
          -0.6309878142198015,
          -0.5784391528625124,
          -0.04627264220648031,
          1.0451683016282647,
          0.6363022232065211,
          0.6090535964371065,
          0.3389705573491687,
          -0.07876016749848436,
          -0.005161321019689319,
          -0.16245932754008796,
          -0.015756191193797463,
          0.19443560793123194,
          -0.094922033919062,
          0.4528492287184965,
          1.1992796693159886,
          0.28812500403641145,
          1.3827214876209564,
          1.112825496480182,
          0.820319273071483,
          -0.19017580106885862,
          -0.07244448877381379,
          0.4750518811453017,
          -0.6854025144338283,
          0.20702474930218934,
          0.1518140456897288,
          -0.05401545573946639,
          0.15929102424296657,
          0.3937351519692185,
          1.014706623198994,
          0.6371969911009774,
          0.1750033851741816,
          -0.6006650204085802,
          -0.0792124573390606,
          1.512070916552906,
          -0.6427866590478051,
          -0.03307075643171754,
          0.5274321350929281,
          -0.45485297270854297,
          -0.5564822170596899,
          -0.6115030808876163,
          -0.30479187981488526,
          -0.3098013915666279,
          -0.4457154428997717,
          -0.698679628353853,
          0.6013513192758371,
          1.0639967642006818,
          0.23703389905433955,
          0.6299565866915858,
          0.8345022141548945,
          -0.4323407360986679,
          -0.36112213785851976,
          0.5276588766709592,
          -0.07191032684639224,
          0.4567759882447646,
          -0.24191454883831306,
          0.1428429389318786,
          0.39866159386906896,
          0.029551102791049888,
          -0.6860368415335261,
          -0.2269403331648695,
          -0.5324958691880598,
          0.41247460087419985,
          0.6397017321322944,
          0.7167548034897423,
          -0.7968509799301254,
          0.4579173464816717,
          0.6929268513292324,
          0.3027252421361952,
          -0.5018055971078058,
          -0.9262446362631672,
          -0.7089125244246054,
          -0.09250520902190804,
          -0.24347082832148273,
          -0.5011749815040876,
          0.2769417524742287,
          0.6594733357560907,
          0.1464652696809386,
          0.17980367632117927,
          0.2876728571762101,
          0.24207094960578387,
          -0.47685645775978125,
          -0.4641342832744238,
          -0.6242657785803362,
          -0.35839496694913836,
          -0.6697201639582336,
          -0.5934551819218801,
          -0.6776601586832687,
          -0.772206603265197,
          -0.8256034226699906,
          -0.6034916443139994,
          -0.6959188228222942,
          -0.6506881292737736,
          -0.730610566802647,
          -0.7118028645644151,
          -0.5537360443743592,
          -0.7516917933008144,
          -1.0413224864771373,
          -0.2888912128532489,
          0.16165561715961727,
          -0.6301647136546636,
          -0.5457559028477338,
          -0.7375472316736065,
          -0.30382668918844896,
          0.14392662023758906,
          0.4029023478736755,
          0.11923488393747818,
          -0.3931448013405179,
          0.47116303960960504,
          -0.3057199867825617,
          0.19033436901269668,
          0.3672353828015206,
          -0.11915816433922534,
          -0.22949644038607933,
          0.0005381922934969265,
          0.4014541076202302,
          0.011226333971447174,
          0.15316753403502015,
          -0.17839685429915678,
          0.1162964727268741,
          0.6132218639995656,
          0.7440426957254411,
          0.5514812675631249,
          0.2558900153292978,
          -0.41263591264996197,
          -0.24829956261552585,
          -0.08343938247417602,
          -0.20777470378370455,
          -0.24080633807485974,
          -0.3134496109536108,
          0.26608327441236906,
          -0.029058638683316398,
          0.0671953806310761,
          0.7504319775030304,
          1.1239966883690784,
          -0.45781463258792676,
          0.34873035447720835,
          0.8756141158887747,
          0.9258608099918605,
          0.4841868261378967,
          0.7141823455552794,
          -0.03732354018898182,
          0.28878723343162016,
          0.15719818315722064,
          0.7973884178965798,
          -0.7660432689583268,
          -0.84400657794849,
          -0.45947960809374516,
          -0.3345165522557174,
          -0.6649776248286672,
          -0.6363778850046428,
          -0.5993592194355751,
          -0.18919715662760342,
          -0.7691383038182813,
          0.04053435533132516,
          0.21657270370862602,
          -0.014942354878290992,
          0.9030285565753604,
          -0.4266317392588027,
          0.15182338797892395,
          -0.19851912578326078,
          0.054602340636070716,
          0.4071145704787819,
          0.4220990016103621,
          -0.7460484006509379,
          -0.37416817643363576,
          -0.6372097375723659,
          -0.5063493452642951,
          -0.09239144822483929,
          0.8850748108824067,
          -0.3774211773239248,
          0.11439303192748623,
          0.21840717600576146,
          0.41308681848561374,
          -0.156487389434147,
          -0.21246162342132058,
          0.35967154146760516,
          -0.6280362618690645,
          -0.6751485839668573,
          0.4564923562030079,
          0.46341219854131854,
          -0.6255699562303365,
          -0.14648385725392216,
          -0.529967500091482,
          -0.7969822771052225,
          0.2212198399904749,
          -0.35734431874142725,
          -0.490786380395956,
          -0.31872916446986554,
          -0.6918558834102606,
          -0.7082270021088811,
          -0.7238134790639272,
          0.12244694049215733,
          -0.3995158569063484,
          -0.5271808752106215,
          0.6167487204970656,
          1.3015349678754837,
          1.3070266362899396,
          -0.11326696955333448,
          0.03762840489926836,
          0.4637935227601997,
          -0.3581647071056107,
          -0.7534000614183912,
          -0.32871859328507014,
          -0.2747903697084202,
          -0.1782478319197431,
          -0.5058423435176054,
          0.28564173412763133,
          0.22065552600422933,
          -0.6473159610252815,
          -0.6069361767018229,
          -0.6298085539721407,
          -0.7732732549216,
          -0.4923166757282111,
          -0.6975829899400697,
          -0.7388955697842149,
          -0.43264234556453635,
          0.09749775065327997,
          -0.6339343049928898,
          -0.6640631227213608,
          -0.2201238450942663,
          -0.7406821537471711,
          -0.6143040266580025,
          -0.5698169156217819,
          -0.8756335115452012,
          -0.5141589243246582,
          -0.34764364588050745,
          0.44145008058227136,
          -0.31539811267161544,
          -0.6370741888817835,
          -0.19493915236414852,
          -0.7735155602581518,
          0.3156325537205879,
          1.0556241456946518,
          1.0440701043581253,
          0.32877861478383197,
          0.3164185453548597,
          1.1615210253233557,
          0.04553512632354633,
          -0.2433147074464451,
          -0.3581664229481636,
          0.9437433574201339,
          1.1007774491822322,
          1.0107234027065128,
          0.9274899088166828,
          -0.7662581492563958,
          -0.7871634414585786,
          -0.5293459180136509,
          -0.6432404647199428,
          -0.581318473331517,
          -0.6916550585341287,
          -0.21108386707704713,
          0.04222803626490735,
          -0.6624768970250287,
          -0.36007697929215565,
          0.5369447952766742,
          0.9916844193676572,
          -0.5361063431814365,
          -0.5855287098767852,
          -0.4008160716345416,
          -0.7611554973033743,
          -0.6659259100919337,
          -0.802516056383197,
          0.04535682741649859,
          -0.28061484381918506,
          -0.6098813595061421,
          -0.8132859063928752,
          -0.1951940050040877,
          -0.33410450200889125,
          0.7126277842603084,
          0.16591497309967654,
          0.3509629701820568,
          1.0256786577294228,
          1.0272833710267137,
          0.9212705727252719,
          -0.71638376743169,
          -0.3934942048076385,
          -0.3503235301888743,
          -0.019981995927691884,
          0.06001570368658886
         ],
         "yaxis": "y"
        }
       ],
       "layout": {
        "coloraxis": {
         "colorbar": {
          "title": {
           "text": "cluster"
          }
         },
         "colorscale": [
          [
           0,
           "#0d0887"
          ],
          [
           0.1111111111111111,
           "#46039f"
          ],
          [
           0.2222222222222222,
           "#7201a8"
          ],
          [
           0.3333333333333333,
           "#9c179e"
          ],
          [
           0.4444444444444444,
           "#bd3786"
          ],
          [
           0.5555555555555556,
           "#d8576b"
          ],
          [
           0.6666666666666666,
           "#ed7953"
          ],
          [
           0.7777777777777778,
           "#fb9f3a"
          ],
          [
           0.8888888888888888,
           "#fdca26"
          ],
          [
           1,
           "#f0f921"
          ]
         ]
        },
        "legend": {
         "tracegroupgap": 0
        },
        "margin": {
         "t": 60
        },
        "template": {
         "data": {
          "bar": [
           {
            "error_x": {
             "color": "#2a3f5f"
            },
            "error_y": {
             "color": "#2a3f5f"
            },
            "marker": {
             "line": {
              "color": "#E5ECF6",
              "width": 0.5
             },
             "pattern": {
              "fillmode": "overlay",
              "size": 10,
              "solidity": 0.2
             }
            },
            "type": "bar"
           }
          ],
          "barpolar": [
           {
            "marker": {
             "line": {
              "color": "#E5ECF6",
              "width": 0.5
             },
             "pattern": {
              "fillmode": "overlay",
              "size": 10,
              "solidity": 0.2
             }
            },
            "type": "barpolar"
           }
          ],
          "carpet": [
           {
            "aaxis": {
             "endlinecolor": "#2a3f5f",
             "gridcolor": "white",
             "linecolor": "white",
             "minorgridcolor": "white",
             "startlinecolor": "#2a3f5f"
            },
            "baxis": {
             "endlinecolor": "#2a3f5f",
             "gridcolor": "white",
             "linecolor": "white",
             "minorgridcolor": "white",
             "startlinecolor": "#2a3f5f"
            },
            "type": "carpet"
           }
          ],
          "choropleth": [
           {
            "colorbar": {
             "outlinewidth": 0,
             "ticks": ""
            },
            "type": "choropleth"
           }
          ],
          "contour": [
           {
            "colorbar": {
             "outlinewidth": 0,
             "ticks": ""
            },
            "colorscale": [
             [
              0,
              "#0d0887"
             ],
             [
              0.1111111111111111,
              "#46039f"
             ],
             [
              0.2222222222222222,
              "#7201a8"
             ],
             [
              0.3333333333333333,
              "#9c179e"
             ],
             [
              0.4444444444444444,
              "#bd3786"
             ],
             [
              0.5555555555555556,
              "#d8576b"
             ],
             [
              0.6666666666666666,
              "#ed7953"
             ],
             [
              0.7777777777777778,
              "#fb9f3a"
             ],
             [
              0.8888888888888888,
              "#fdca26"
             ],
             [
              1,
              "#f0f921"
             ]
            ],
            "type": "contour"
           }
          ],
          "contourcarpet": [
           {
            "colorbar": {
             "outlinewidth": 0,
             "ticks": ""
            },
            "type": "contourcarpet"
           }
          ],
          "heatmap": [
           {
            "colorbar": {
             "outlinewidth": 0,
             "ticks": ""
            },
            "colorscale": [
             [
              0,
              "#0d0887"
             ],
             [
              0.1111111111111111,
              "#46039f"
             ],
             [
              0.2222222222222222,
              "#7201a8"
             ],
             [
              0.3333333333333333,
              "#9c179e"
             ],
             [
              0.4444444444444444,
              "#bd3786"
             ],
             [
              0.5555555555555556,
              "#d8576b"
             ],
             [
              0.6666666666666666,
              "#ed7953"
             ],
             [
              0.7777777777777778,
              "#fb9f3a"
             ],
             [
              0.8888888888888888,
              "#fdca26"
             ],
             [
              1,
              "#f0f921"
             ]
            ],
            "type": "heatmap"
           }
          ],
          "heatmapgl": [
           {
            "colorbar": {
             "outlinewidth": 0,
             "ticks": ""
            },
            "colorscale": [
             [
              0,
              "#0d0887"
             ],
             [
              0.1111111111111111,
              "#46039f"
             ],
             [
              0.2222222222222222,
              "#7201a8"
             ],
             [
              0.3333333333333333,
              "#9c179e"
             ],
             [
              0.4444444444444444,
              "#bd3786"
             ],
             [
              0.5555555555555556,
              "#d8576b"
             ],
             [
              0.6666666666666666,
              "#ed7953"
             ],
             [
              0.7777777777777778,
              "#fb9f3a"
             ],
             [
              0.8888888888888888,
              "#fdca26"
             ],
             [
              1,
              "#f0f921"
             ]
            ],
            "type": "heatmapgl"
           }
          ],
          "histogram": [
           {
            "marker": {
             "pattern": {
              "fillmode": "overlay",
              "size": 10,
              "solidity": 0.2
             }
            },
            "type": "histogram"
           }
          ],
          "histogram2d": [
           {
            "colorbar": {
             "outlinewidth": 0,
             "ticks": ""
            },
            "colorscale": [
             [
              0,
              "#0d0887"
             ],
             [
              0.1111111111111111,
              "#46039f"
             ],
             [
              0.2222222222222222,
              "#7201a8"
             ],
             [
              0.3333333333333333,
              "#9c179e"
             ],
             [
              0.4444444444444444,
              "#bd3786"
             ],
             [
              0.5555555555555556,
              "#d8576b"
             ],
             [
              0.6666666666666666,
              "#ed7953"
             ],
             [
              0.7777777777777778,
              "#fb9f3a"
             ],
             [
              0.8888888888888888,
              "#fdca26"
             ],
             [
              1,
              "#f0f921"
             ]
            ],
            "type": "histogram2d"
           }
          ],
          "histogram2dcontour": [
           {
            "colorbar": {
             "outlinewidth": 0,
             "ticks": ""
            },
            "colorscale": [
             [
              0,
              "#0d0887"
             ],
             [
              0.1111111111111111,
              "#46039f"
             ],
             [
              0.2222222222222222,
              "#7201a8"
             ],
             [
              0.3333333333333333,
              "#9c179e"
             ],
             [
              0.4444444444444444,
              "#bd3786"
             ],
             [
              0.5555555555555556,
              "#d8576b"
             ],
             [
              0.6666666666666666,
              "#ed7953"
             ],
             [
              0.7777777777777778,
              "#fb9f3a"
             ],
             [
              0.8888888888888888,
              "#fdca26"
             ],
             [
              1,
              "#f0f921"
             ]
            ],
            "type": "histogram2dcontour"
           }
          ],
          "mesh3d": [
           {
            "colorbar": {
             "outlinewidth": 0,
             "ticks": ""
            },
            "type": "mesh3d"
           }
          ],
          "parcoords": [
           {
            "line": {
             "colorbar": {
              "outlinewidth": 0,
              "ticks": ""
             }
            },
            "type": "parcoords"
           }
          ],
          "pie": [
           {
            "automargin": true,
            "type": "pie"
           }
          ],
          "scatter": [
           {
            "fillpattern": {
             "fillmode": "overlay",
             "size": 10,
             "solidity": 0.2
            },
            "type": "scatter"
           }
          ],
          "scatter3d": [
           {
            "line": {
             "colorbar": {
              "outlinewidth": 0,
              "ticks": ""
             }
            },
            "marker": {
             "colorbar": {
              "outlinewidth": 0,
              "ticks": ""
             }
            },
            "type": "scatter3d"
           }
          ],
          "scattercarpet": [
           {
            "marker": {
             "colorbar": {
              "outlinewidth": 0,
              "ticks": ""
             }
            },
            "type": "scattercarpet"
           }
          ],
          "scattergeo": [
           {
            "marker": {
             "colorbar": {
              "outlinewidth": 0,
              "ticks": ""
             }
            },
            "type": "scattergeo"
           }
          ],
          "scattergl": [
           {
            "marker": {
             "colorbar": {
              "outlinewidth": 0,
              "ticks": ""
             }
            },
            "type": "scattergl"
           }
          ],
          "scattermapbox": [
           {
            "marker": {
             "colorbar": {
              "outlinewidth": 0,
              "ticks": ""
             }
            },
            "type": "scattermapbox"
           }
          ],
          "scatterpolar": [
           {
            "marker": {
             "colorbar": {
              "outlinewidth": 0,
              "ticks": ""
             }
            },
            "type": "scatterpolar"
           }
          ],
          "scatterpolargl": [
           {
            "marker": {
             "colorbar": {
              "outlinewidth": 0,
              "ticks": ""
             }
            },
            "type": "scatterpolargl"
           }
          ],
          "scatterternary": [
           {
            "marker": {
             "colorbar": {
              "outlinewidth": 0,
              "ticks": ""
             }
            },
            "type": "scatterternary"
           }
          ],
          "surface": [
           {
            "colorbar": {
             "outlinewidth": 0,
             "ticks": ""
            },
            "colorscale": [
             [
              0,
              "#0d0887"
             ],
             [
              0.1111111111111111,
              "#46039f"
             ],
             [
              0.2222222222222222,
              "#7201a8"
             ],
             [
              0.3333333333333333,
              "#9c179e"
             ],
             [
              0.4444444444444444,
              "#bd3786"
             ],
             [
              0.5555555555555556,
              "#d8576b"
             ],
             [
              0.6666666666666666,
              "#ed7953"
             ],
             [
              0.7777777777777778,
              "#fb9f3a"
             ],
             [
              0.8888888888888888,
              "#fdca26"
             ],
             [
              1,
              "#f0f921"
             ]
            ],
            "type": "surface"
           }
          ],
          "table": [
           {
            "cells": {
             "fill": {
              "color": "#EBF0F8"
             },
             "line": {
              "color": "white"
             }
            },
            "header": {
             "fill": {
              "color": "#C8D4E3"
             },
             "line": {
              "color": "white"
             }
            },
            "type": "table"
           }
          ]
         },
         "layout": {
          "annotationdefaults": {
           "arrowcolor": "#2a3f5f",
           "arrowhead": 0,
           "arrowwidth": 1
          },
          "autotypenumbers": "strict",
          "coloraxis": {
           "colorbar": {
            "outlinewidth": 0,
            "ticks": ""
           }
          },
          "colorscale": {
           "diverging": [
            [
             0,
             "#8e0152"
            ],
            [
             0.1,
             "#c51b7d"
            ],
            [
             0.2,
             "#de77ae"
            ],
            [
             0.3,
             "#f1b6da"
            ],
            [
             0.4,
             "#fde0ef"
            ],
            [
             0.5,
             "#f7f7f7"
            ],
            [
             0.6,
             "#e6f5d0"
            ],
            [
             0.7,
             "#b8e186"
            ],
            [
             0.8,
             "#7fbc41"
            ],
            [
             0.9,
             "#4d9221"
            ],
            [
             1,
             "#276419"
            ]
           ],
           "sequential": [
            [
             0,
             "#0d0887"
            ],
            [
             0.1111111111111111,
             "#46039f"
            ],
            [
             0.2222222222222222,
             "#7201a8"
            ],
            [
             0.3333333333333333,
             "#9c179e"
            ],
            [
             0.4444444444444444,
             "#bd3786"
            ],
            [
             0.5555555555555556,
             "#d8576b"
            ],
            [
             0.6666666666666666,
             "#ed7953"
            ],
            [
             0.7777777777777778,
             "#fb9f3a"
            ],
            [
             0.8888888888888888,
             "#fdca26"
            ],
            [
             1,
             "#f0f921"
            ]
           ],
           "sequentialminus": [
            [
             0,
             "#0d0887"
            ],
            [
             0.1111111111111111,
             "#46039f"
            ],
            [
             0.2222222222222222,
             "#7201a8"
            ],
            [
             0.3333333333333333,
             "#9c179e"
            ],
            [
             0.4444444444444444,
             "#bd3786"
            ],
            [
             0.5555555555555556,
             "#d8576b"
            ],
            [
             0.6666666666666666,
             "#ed7953"
            ],
            [
             0.7777777777777778,
             "#fb9f3a"
            ],
            [
             0.8888888888888888,
             "#fdca26"
            ],
            [
             1,
             "#f0f921"
            ]
           ]
          },
          "colorway": [
           "#636efa",
           "#EF553B",
           "#00cc96",
           "#ab63fa",
           "#FFA15A",
           "#19d3f3",
           "#FF6692",
           "#B6E880",
           "#FF97FF",
           "#FECB52"
          ],
          "font": {
           "color": "#2a3f5f"
          },
          "geo": {
           "bgcolor": "white",
           "lakecolor": "white",
           "landcolor": "#E5ECF6",
           "showlakes": true,
           "showland": true,
           "subunitcolor": "white"
          },
          "hoverlabel": {
           "align": "left"
          },
          "hovermode": "closest",
          "mapbox": {
           "style": "light"
          },
          "paper_bgcolor": "white",
          "plot_bgcolor": "#E5ECF6",
          "polar": {
           "angularaxis": {
            "gridcolor": "white",
            "linecolor": "white",
            "ticks": ""
           },
           "bgcolor": "#E5ECF6",
           "radialaxis": {
            "gridcolor": "white",
            "linecolor": "white",
            "ticks": ""
           }
          },
          "scene": {
           "xaxis": {
            "backgroundcolor": "#E5ECF6",
            "gridcolor": "white",
            "gridwidth": 2,
            "linecolor": "white",
            "showbackground": true,
            "ticks": "",
            "zerolinecolor": "white"
           },
           "yaxis": {
            "backgroundcolor": "#E5ECF6",
            "gridcolor": "white",
            "gridwidth": 2,
            "linecolor": "white",
            "showbackground": true,
            "ticks": "",
            "zerolinecolor": "white"
           },
           "zaxis": {
            "backgroundcolor": "#E5ECF6",
            "gridcolor": "white",
            "gridwidth": 2,
            "linecolor": "white",
            "showbackground": true,
            "ticks": "",
            "zerolinecolor": "white"
           }
          },
          "shapedefaults": {
           "line": {
            "color": "#2a3f5f"
           }
          },
          "ternary": {
           "aaxis": {
            "gridcolor": "white",
            "linecolor": "white",
            "ticks": ""
           },
           "baxis": {
            "gridcolor": "white",
            "linecolor": "white",
            "ticks": ""
           },
           "bgcolor": "#E5ECF6",
           "caxis": {
            "gridcolor": "white",
            "linecolor": "white",
            "ticks": ""
           }
          },
          "title": {
           "x": 0.05
          },
          "xaxis": {
           "automargin": true,
           "gridcolor": "white",
           "linecolor": "white",
           "ticks": "",
           "title": {
            "standoff": 15
           },
           "zerolinecolor": "white",
           "zerolinewidth": 2
          },
          "yaxis": {
           "automargin": true,
           "gridcolor": "white",
           "linecolor": "white",
           "ticks": "",
           "title": {
            "standoff": 15
           },
           "zerolinecolor": "white",
           "zerolinewidth": 2
          }
         }
        },
        "xaxis": {
         "anchor": "y",
         "domain": [
          0,
          1
         ],
         "title": {
          "text": "PC1"
         }
        },
        "yaxis": {
         "anchor": "x",
         "domain": [
          0,
          1
         ],
         "title": {
          "text": "PC2"
         }
        }
       }
      }
     },
     "metadata": {},
     "output_type": "display_data"
    },
    {
     "name": "stdout",
     "output_type": "stream",
     "text": [
      "eps:0.6\n",
      "min:6\n",
      "2\n"
     ]
    },
    {
     "data": {
      "application/vnd.plotly.v1+json": {
       "config": {
        "plotlyServerURL": "https://plot.ly"
       },
       "data": [
        {
         "hovertemplate": "PC1=%{x}<br>PC2=%{y}<br>cluster=%{marker.color}<extra></extra>",
         "legendgroup": "",
         "marker": {
          "color": [
           0,
           0,
           0,
           0,
           0,
           -1,
           0,
           0,
           0,
           0,
           0,
           0,
           0,
           0,
           0,
           0,
           -1,
           0,
           0,
           0,
           0,
           0,
           0,
           0,
           0,
           0,
           0,
           0,
           0,
           0,
           0,
           0,
           0,
           0,
           0,
           0,
           0,
           0,
           0,
           0,
           0,
           0,
           0,
           0,
           0,
           0,
           0,
           -1,
           -1,
           0,
           0,
           0,
           0,
           0,
           0,
           0,
           0,
           0,
           0,
           0,
           -1,
           0,
           -1,
           -1,
           0,
           0,
           0,
           0,
           -1,
           0,
           0,
           0,
           0,
           0,
           0,
           0,
           0,
           0,
           0,
           0,
           0,
           0,
           0,
           0,
           0,
           0,
           0,
           0,
           0,
           0,
           0,
           0,
           0,
           0,
           0,
           0,
           0,
           0,
           0,
           0,
           -1,
           0,
           0,
           -1,
           0,
           0,
           -1,
           0,
           0,
           0,
           0,
           0,
           0,
           0,
           0,
           0,
           0,
           0,
           0,
           0,
           0,
           0,
           0,
           -1,
           0,
           0,
           0,
           0,
           0,
           0,
           0,
           0,
           -1,
           0,
           0,
           0,
           0,
           0,
           -1,
           0,
           0,
           0,
           0,
           0,
           0,
           0,
           0,
           0,
           0,
           0,
           0,
           0,
           0,
           0,
           0,
           0,
           0,
           0,
           0,
           0,
           -1,
           0,
           0,
           0,
           0,
           0,
           0,
           0,
           0,
           0,
           0,
           0,
           0,
           0,
           0,
           0,
           0,
           0,
           0,
           0,
           -1,
           0,
           0,
           0,
           -1,
           0,
           0,
           0,
           0,
           0,
           0,
           0,
           0,
           0,
           0,
           0,
           0,
           0,
           0,
           0,
           0,
           0,
           0,
           0,
           0,
           0,
           0,
           0,
           0,
           0,
           0,
           0,
           0,
           0,
           0,
           0,
           0,
           0,
           0,
           0,
           0,
           0,
           -1,
           -1,
           0,
           0,
           0,
           0,
           0,
           0,
           0,
           0,
           0,
           0,
           0,
           0,
           0,
           0,
           0,
           0,
           0,
           0,
           0,
           0,
           0,
           0,
           0,
           0,
           0,
           0,
           0,
           0,
           0,
           0,
           0,
           0,
           0,
           0,
           0,
           0,
           0,
           0,
           0,
           -1,
           0,
           0,
           0,
           0,
           0,
           0,
           0,
           0,
           0,
           0,
           0,
           0,
           0,
           0,
           0,
           0,
           -1,
           0,
           0,
           0,
           0,
           0,
           0,
           0,
           0,
           0,
           0,
           0,
           0,
           0,
           0,
           -1,
           0,
           0,
           0,
           0,
           0,
           0,
           0,
           0,
           0,
           0
          ],
          "coloraxis": "coloraxis",
          "symbol": "circle"
         },
         "mode": "markers",
         "name": "",
         "orientation": "v",
         "showlegend": false,
         "type": "scatter",
         "x": [
          -0.3508186445814046,
          -0.5639310289142907,
          -0.5876614889048775,
          -0.5823377224391548,
          -0.5607934377831532,
          0.4195720316235605,
          0.4072448737758711,
          -0.4113530731621215,
          -0.00399273331831062,
          -0.1852422563817428,
          -0.44739994890418283,
          -0.17321034471097554,
          -0.9863859016696982,
          0.363681409013939,
          0.5332508277656569,
          0.4280966465773618,
          1.0588501758287197,
          0.025247980120545525,
          0.23810740264577307,
          0.6865351171763053,
          0.2581063436168159,
          0.3715708207646612,
          -0.4131797356835435,
          -0.04785829771362803,
          -0.9827684239122897,
          0.3681831670016599,
          -0.2935365288623707,
          -1.1909481439518261,
          -1.1528255253136725,
          -0.7069147217330235,
          0.40055109920872667,
          0.00803215716421511,
          0.14911199452136348,
          -0.16737103147821697,
          0.760616799924241,
          -0.23008068388502226,
          -0.7678298340451299,
          -0.540115638809465,
          -0.6308503154771031,
          -0.8514860460990357,
          -0.6867705734521476,
          -0.2078070316297446,
          -0.7308828712104986,
          0.5838622089680124,
          0.23092709056774202,
          -0.25715838997259816,
          0.5912142380882366,
          0.45038843768797976,
          0.7458086225076698,
          0.6665341479810564,
          -0.3559651445471211,
          0.14544245797935162,
          0.16923801231755534,
          0.28649183156012964,
          0.49776358997416936,
          1.0061507020713225,
          -0.00044711259362545716,
          0.28586827885250043,
          0.25658402880596615,
          1.2550220032228516,
          0.12286107335774328,
          1.485896209569183,
          1.141757343619969,
          1.083056179238525,
          1.2308187941802846,
          1.398828328888598,
          1.3054235587132532,
          -0.6767646613072369,
          0.6750460519396514,
          1.370581465278255,
          1.2018852316157136,
          -0.2580847111797142,
          -0.011498460508768802,
          -0.8370263340387589,
          -0.6363564838589613,
          -0.42919282404945464,
          -1.1039702224687824,
          -0.1088711356058151,
          -0.4596040070615721,
          0.1418478816660463,
          0.21957884447651801,
          0.3554794976193818,
          -0.8742386278118172,
          -0.2746466637092127,
          1.1054992040219718,
          -1.2632478611888398,
          1.5367762704079522,
          2.0068280117827495,
          0.850062335137054,
          0.33944496228293397,
          0.19249504445578958,
          -1.3581558798511084,
          0.2434247873301313,
          0.5263964218229623,
          -0.4868238715600447,
          1.1886039499169794,
          1.312567480095893,
          1.5798144290432872,
          0.09562530830559078,
          0.10113773211496412,
          2.033076972324046,
          0.8053821545180139,
          0.637502907215228,
          1.0203277391689545,
          1.1081509796409459,
          1.2746332749915992,
          1.0753569684035553,
          1.7049819492724492,
          1.6587035438150557,
          1.7295177415265623,
          0.5214983885075135,
          1.3702205937067362,
          1.518749873805489,
          2.1729248712419267,
          2.5854778650398846,
          2.411180428395736,
          2.1166243572495915,
          2.0214316278135502,
          1.8271443317174267,
          1.7146476778873738,
          2.0310988554007685,
          2.2173494244528684,
          2.184350145824153,
          1.5947485452960408,
          1.0679977016528681,
          0.8413104680994339,
          1.9202053051499042,
          1.8312001793279702,
          2.0139938593698643,
          1.3205121461089913,
          0.8282043651674835,
          1.2256783451926239,
          1.3358151046978437,
          -0.9688877415976315,
          0.26608200929683606,
          0.4664951006725747,
          -0.0563240048251054,
          -0.0559120157718613,
          1.1399716405498577,
          0.5358927796322845,
          0.018958766203575374,
          -0.24741988762852457,
          -0.5776044130063319,
          0.6475878617948905,
          -0.9100792974452094,
          0.49081208825788125,
          0.3298476395279003,
          -0.007475294677475479,
          -0.489846855978679,
          -0.8491853143573168,
          -0.7011129372532078,
          -0.05347780212672248,
          -0.0011183823042832202,
          -0.5655651342350086,
          -0.6620259718207827,
          -0.9227863531495146,
          -0.6622952480314663,
          -0.4782287610370813,
          -0.5932215055392788,
          0.12014236348877132,
          0.6903330209670598,
          -0.8426881627710046,
          -0.6917978730477802,
          -0.6781299724263031,
          0.1602732904474833,
          -0.6133650035392196,
          -0.6949704672974494,
          -0.9075944177318687,
          -0.8786928400558157,
          -0.9058658749968183,
          -0.31613938719436746,
          -1.4063256915973272,
          -1.3803818930202079,
          0.2625615034769143,
          -0.8470754546783491,
          -1.1030175239198672,
          -1.2002009601984962,
          -1.1015107582333754,
          -0.25448883335801076,
          -1.3268121966813606,
          0.21320098873326973,
          -0.6498069261405497,
          -0.9346574497489317,
          -0.23027783265072188,
          -0.5611158720424748,
          -0.6718621245174528,
          0.9811493906055307,
          -0.8636997616209908,
          -0.6227009894166133,
          0.26969388609522693,
          -1.2974700268568877,
          -0.7689427359366564,
          -1.1308155565904985,
          -1.1858237917313565,
          -1.1576084927470962,
          0.12712467464253588,
          0.6706059789697033,
          -0.3921416370294183,
          -0.11598044718702563,
          -0.23151664766119667,
          -0.7816102873703236,
          -0.7653708834373745,
          -0.5609480660210393,
          -1.2245683886515315,
          -1.2528323446207357,
          -0.04827769016556094,
          -0.620381709756415,
          -1.3179427171238245,
          -1.020448678856538,
          -1.122767828461264,
          -1.295461906008073,
          -0.2150777897030298,
          -1.0690715515230613,
          -0.6521075215103971,
          -0.7687037917119958,
          -1.1341499985115364,
          -1.206294094750507,
          -1.1419834961733435,
          0.15924292373346194,
          -1.0338737764714179,
          -0.9671029081402572,
          0.7301776776959528,
          0.22630807645404594,
          -0.03217868737816261,
          -0.8246874406681577,
          -0.0665121498396239,
          -0.525452729661283,
          -1.163670997184323,
          -1.0990419409084324,
          -0.871028416180363,
          -0.9839363695459624,
          -0.7071642819921274,
          -0.9649538646384597,
          -0.07938786382715807,
          -0.6511732443827587,
          -1.0495691285147353,
          -1.216907719249716,
          -1.0202686457871843,
          -1.245096243526878,
          -0.8051863963938097,
          -1.4079974175266863,
          -1.238577998585358,
          -1.1597420643057776,
          -0.49885995427398205,
          -1.2294098096570147,
          -1.3473762262692497,
          -0.9893474027848611,
          1.324644655674268,
          2.236559940687958,
          2.300220738929092,
          2.5447691037266145,
          -1.3290802025585322,
          -1.0339295771544759,
          -0.3646263998858898,
          -0.9210480898797002,
          -1.0528999459414,
          -0.7465386837494035,
          -1.3310648253509125,
          -0.15504914093148417,
          -0.17437782760361567,
          -0.2603429111629848,
          -0.8277771276090602,
          -0.5418252456462207,
          0.6086703948875171,
          -0.5988433486407282,
          -0.9028097234226942,
          -0.9592914666868012,
          0.22142476650741127,
          0.7932088658321987,
          0.5636494338661097,
          0.41197956731334534,
          1.826830708628797,
          0.31242812323741953,
          1.902649433624108,
          1.620881829702091,
          1.2518535611471007,
          2.144068931719886,
          0.43127983098330536,
          -0.326669105779434,
          1.1600755290161804,
          0.6320233562856604,
          0.7899229468245065,
          0.21091418080767607,
          0.7684640830904039,
          -1.2050179821235905,
          -1.003315446220766,
          -1.300336769491636,
          -1.2169871538010222,
          -1.4762498697303896,
          0.2818455182041284,
          -0.9236872137307428,
          -1.2034142443186877,
          -1.3539329811844136,
          -0.5113520614681136,
          -0.8684685964407897,
          -0.6600211472717245,
          0.02387224500841111,
          -0.10249542394847518,
          -0.5073132666040002,
          0.5206042476056767,
          0.15663991940049013,
          1.9189992338794515,
          -0.5326400765665911,
          -0.8536336765878905,
          0.23333215288286902,
          -0.6440736946026615
         ],
         "xaxis": "x",
         "y": [
          0.7099961857978953,
          0.42702553658784737,
          0.32532461799333984,
          -0.30751240895039944,
          -0.13734036816883838,
          0.31128851737849844,
          0.729962167893389,
          -0.0005735189402775898,
          0.8184393245280276,
          1.117196888341552,
          0.6623167014430784,
          0.5818759175510941,
          -0.5755506430210526,
          0.7595512721812351,
          1.0919717029401952,
          0.9287727424286327,
          0.647167399836963,
          1.1481584414274244,
          1.0538483156137948,
          1.068173947937826,
          0.8958960717525997,
          0.5678691445652688,
          0.4174137788963033,
          0.7527314614167181,
          -0.32417865836517257,
          1.2685351012786688,
          1.1329563580483628,
          -0.6309878142198015,
          -0.5784391528625124,
          -0.04627264220648031,
          1.0451683016282647,
          0.6363022232065211,
          0.6090535964371065,
          0.3389705573491687,
          -0.07876016749848436,
          -0.005161321019689319,
          -0.16245932754008796,
          -0.015756191193797463,
          0.19443560793123194,
          -0.094922033919062,
          0.4528492287184965,
          1.1992796693159886,
          0.28812500403641145,
          1.3827214876209564,
          1.112825496480182,
          0.820319273071483,
          -0.19017580106885862,
          -0.07244448877381379,
          0.4750518811453017,
          -0.6854025144338283,
          0.20702474930218934,
          0.1518140456897288,
          -0.05401545573946639,
          0.15929102424296657,
          0.3937351519692185,
          1.014706623198994,
          0.6371969911009774,
          0.1750033851741816,
          -0.6006650204085802,
          -0.0792124573390606,
          1.512070916552906,
          -0.6427866590478051,
          -0.03307075643171754,
          0.5274321350929281,
          -0.45485297270854297,
          -0.5564822170596899,
          -0.6115030808876163,
          -0.30479187981488526,
          -0.3098013915666279,
          -0.4457154428997717,
          -0.698679628353853,
          0.6013513192758371,
          1.0639967642006818,
          0.23703389905433955,
          0.6299565866915858,
          0.8345022141548945,
          -0.4323407360986679,
          -0.36112213785851976,
          0.5276588766709592,
          -0.07191032684639224,
          0.4567759882447646,
          -0.24191454883831306,
          0.1428429389318786,
          0.39866159386906896,
          0.029551102791049888,
          -0.6860368415335261,
          -0.2269403331648695,
          -0.5324958691880598,
          0.41247460087419985,
          0.6397017321322944,
          0.7167548034897423,
          -0.7968509799301254,
          0.4579173464816717,
          0.6929268513292324,
          0.3027252421361952,
          -0.5018055971078058,
          -0.9262446362631672,
          -0.7089125244246054,
          -0.09250520902190804,
          -0.24347082832148273,
          -0.5011749815040876,
          0.2769417524742287,
          0.6594733357560907,
          0.1464652696809386,
          0.17980367632117927,
          0.2876728571762101,
          0.24207094960578387,
          -0.47685645775978125,
          -0.4641342832744238,
          -0.6242657785803362,
          -0.35839496694913836,
          -0.6697201639582336,
          -0.5934551819218801,
          -0.6776601586832687,
          -0.772206603265197,
          -0.8256034226699906,
          -0.6034916443139994,
          -0.6959188228222942,
          -0.6506881292737736,
          -0.730610566802647,
          -0.7118028645644151,
          -0.5537360443743592,
          -0.7516917933008144,
          -1.0413224864771373,
          -0.2888912128532489,
          0.16165561715961727,
          -0.6301647136546636,
          -0.5457559028477338,
          -0.7375472316736065,
          -0.30382668918844896,
          0.14392662023758906,
          0.4029023478736755,
          0.11923488393747818,
          -0.3931448013405179,
          0.47116303960960504,
          -0.3057199867825617,
          0.19033436901269668,
          0.3672353828015206,
          -0.11915816433922534,
          -0.22949644038607933,
          0.0005381922934969265,
          0.4014541076202302,
          0.011226333971447174,
          0.15316753403502015,
          -0.17839685429915678,
          0.1162964727268741,
          0.6132218639995656,
          0.7440426957254411,
          0.5514812675631249,
          0.2558900153292978,
          -0.41263591264996197,
          -0.24829956261552585,
          -0.08343938247417602,
          -0.20777470378370455,
          -0.24080633807485974,
          -0.3134496109536108,
          0.26608327441236906,
          -0.029058638683316398,
          0.0671953806310761,
          0.7504319775030304,
          1.1239966883690784,
          -0.45781463258792676,
          0.34873035447720835,
          0.8756141158887747,
          0.9258608099918605,
          0.4841868261378967,
          0.7141823455552794,
          -0.03732354018898182,
          0.28878723343162016,
          0.15719818315722064,
          0.7973884178965798,
          -0.7660432689583268,
          -0.84400657794849,
          -0.45947960809374516,
          -0.3345165522557174,
          -0.6649776248286672,
          -0.6363778850046428,
          -0.5993592194355751,
          -0.18919715662760342,
          -0.7691383038182813,
          0.04053435533132516,
          0.21657270370862602,
          -0.014942354878290992,
          0.9030285565753604,
          -0.4266317392588027,
          0.15182338797892395,
          -0.19851912578326078,
          0.054602340636070716,
          0.4071145704787819,
          0.4220990016103621,
          -0.7460484006509379,
          -0.37416817643363576,
          -0.6372097375723659,
          -0.5063493452642951,
          -0.09239144822483929,
          0.8850748108824067,
          -0.3774211773239248,
          0.11439303192748623,
          0.21840717600576146,
          0.41308681848561374,
          -0.156487389434147,
          -0.21246162342132058,
          0.35967154146760516,
          -0.6280362618690645,
          -0.6751485839668573,
          0.4564923562030079,
          0.46341219854131854,
          -0.6255699562303365,
          -0.14648385725392216,
          -0.529967500091482,
          -0.7969822771052225,
          0.2212198399904749,
          -0.35734431874142725,
          -0.490786380395956,
          -0.31872916446986554,
          -0.6918558834102606,
          -0.7082270021088811,
          -0.7238134790639272,
          0.12244694049215733,
          -0.3995158569063484,
          -0.5271808752106215,
          0.6167487204970656,
          1.3015349678754837,
          1.3070266362899396,
          -0.11326696955333448,
          0.03762840489926836,
          0.4637935227601997,
          -0.3581647071056107,
          -0.7534000614183912,
          -0.32871859328507014,
          -0.2747903697084202,
          -0.1782478319197431,
          -0.5058423435176054,
          0.28564173412763133,
          0.22065552600422933,
          -0.6473159610252815,
          -0.6069361767018229,
          -0.6298085539721407,
          -0.7732732549216,
          -0.4923166757282111,
          -0.6975829899400697,
          -0.7388955697842149,
          -0.43264234556453635,
          0.09749775065327997,
          -0.6339343049928898,
          -0.6640631227213608,
          -0.2201238450942663,
          -0.7406821537471711,
          -0.6143040266580025,
          -0.5698169156217819,
          -0.8756335115452012,
          -0.5141589243246582,
          -0.34764364588050745,
          0.44145008058227136,
          -0.31539811267161544,
          -0.6370741888817835,
          -0.19493915236414852,
          -0.7735155602581518,
          0.3156325537205879,
          1.0556241456946518,
          1.0440701043581253,
          0.32877861478383197,
          0.3164185453548597,
          1.1615210253233557,
          0.04553512632354633,
          -0.2433147074464451,
          -0.3581664229481636,
          0.9437433574201339,
          1.1007774491822322,
          1.0107234027065128,
          0.9274899088166828,
          -0.7662581492563958,
          -0.7871634414585786,
          -0.5293459180136509,
          -0.6432404647199428,
          -0.581318473331517,
          -0.6916550585341287,
          -0.21108386707704713,
          0.04222803626490735,
          -0.6624768970250287,
          -0.36007697929215565,
          0.5369447952766742,
          0.9916844193676572,
          -0.5361063431814365,
          -0.5855287098767852,
          -0.4008160716345416,
          -0.7611554973033743,
          -0.6659259100919337,
          -0.802516056383197,
          0.04535682741649859,
          -0.28061484381918506,
          -0.6098813595061421,
          -0.8132859063928752,
          -0.1951940050040877,
          -0.33410450200889125,
          0.7126277842603084,
          0.16591497309967654,
          0.3509629701820568,
          1.0256786577294228,
          1.0272833710267137,
          0.9212705727252719,
          -0.71638376743169,
          -0.3934942048076385,
          -0.3503235301888743,
          -0.019981995927691884,
          0.06001570368658886
         ],
         "yaxis": "y"
        }
       ],
       "layout": {
        "coloraxis": {
         "colorbar": {
          "title": {
           "text": "cluster"
          }
         },
         "colorscale": [
          [
           0,
           "#0d0887"
          ],
          [
           0.1111111111111111,
           "#46039f"
          ],
          [
           0.2222222222222222,
           "#7201a8"
          ],
          [
           0.3333333333333333,
           "#9c179e"
          ],
          [
           0.4444444444444444,
           "#bd3786"
          ],
          [
           0.5555555555555556,
           "#d8576b"
          ],
          [
           0.6666666666666666,
           "#ed7953"
          ],
          [
           0.7777777777777778,
           "#fb9f3a"
          ],
          [
           0.8888888888888888,
           "#fdca26"
          ],
          [
           1,
           "#f0f921"
          ]
         ]
        },
        "legend": {
         "tracegroupgap": 0
        },
        "margin": {
         "t": 60
        },
        "template": {
         "data": {
          "bar": [
           {
            "error_x": {
             "color": "#2a3f5f"
            },
            "error_y": {
             "color": "#2a3f5f"
            },
            "marker": {
             "line": {
              "color": "#E5ECF6",
              "width": 0.5
             },
             "pattern": {
              "fillmode": "overlay",
              "size": 10,
              "solidity": 0.2
             }
            },
            "type": "bar"
           }
          ],
          "barpolar": [
           {
            "marker": {
             "line": {
              "color": "#E5ECF6",
              "width": 0.5
             },
             "pattern": {
              "fillmode": "overlay",
              "size": 10,
              "solidity": 0.2
             }
            },
            "type": "barpolar"
           }
          ],
          "carpet": [
           {
            "aaxis": {
             "endlinecolor": "#2a3f5f",
             "gridcolor": "white",
             "linecolor": "white",
             "minorgridcolor": "white",
             "startlinecolor": "#2a3f5f"
            },
            "baxis": {
             "endlinecolor": "#2a3f5f",
             "gridcolor": "white",
             "linecolor": "white",
             "minorgridcolor": "white",
             "startlinecolor": "#2a3f5f"
            },
            "type": "carpet"
           }
          ],
          "choropleth": [
           {
            "colorbar": {
             "outlinewidth": 0,
             "ticks": ""
            },
            "type": "choropleth"
           }
          ],
          "contour": [
           {
            "colorbar": {
             "outlinewidth": 0,
             "ticks": ""
            },
            "colorscale": [
             [
              0,
              "#0d0887"
             ],
             [
              0.1111111111111111,
              "#46039f"
             ],
             [
              0.2222222222222222,
              "#7201a8"
             ],
             [
              0.3333333333333333,
              "#9c179e"
             ],
             [
              0.4444444444444444,
              "#bd3786"
             ],
             [
              0.5555555555555556,
              "#d8576b"
             ],
             [
              0.6666666666666666,
              "#ed7953"
             ],
             [
              0.7777777777777778,
              "#fb9f3a"
             ],
             [
              0.8888888888888888,
              "#fdca26"
             ],
             [
              1,
              "#f0f921"
             ]
            ],
            "type": "contour"
           }
          ],
          "contourcarpet": [
           {
            "colorbar": {
             "outlinewidth": 0,
             "ticks": ""
            },
            "type": "contourcarpet"
           }
          ],
          "heatmap": [
           {
            "colorbar": {
             "outlinewidth": 0,
             "ticks": ""
            },
            "colorscale": [
             [
              0,
              "#0d0887"
             ],
             [
              0.1111111111111111,
              "#46039f"
             ],
             [
              0.2222222222222222,
              "#7201a8"
             ],
             [
              0.3333333333333333,
              "#9c179e"
             ],
             [
              0.4444444444444444,
              "#bd3786"
             ],
             [
              0.5555555555555556,
              "#d8576b"
             ],
             [
              0.6666666666666666,
              "#ed7953"
             ],
             [
              0.7777777777777778,
              "#fb9f3a"
             ],
             [
              0.8888888888888888,
              "#fdca26"
             ],
             [
              1,
              "#f0f921"
             ]
            ],
            "type": "heatmap"
           }
          ],
          "heatmapgl": [
           {
            "colorbar": {
             "outlinewidth": 0,
             "ticks": ""
            },
            "colorscale": [
             [
              0,
              "#0d0887"
             ],
             [
              0.1111111111111111,
              "#46039f"
             ],
             [
              0.2222222222222222,
              "#7201a8"
             ],
             [
              0.3333333333333333,
              "#9c179e"
             ],
             [
              0.4444444444444444,
              "#bd3786"
             ],
             [
              0.5555555555555556,
              "#d8576b"
             ],
             [
              0.6666666666666666,
              "#ed7953"
             ],
             [
              0.7777777777777778,
              "#fb9f3a"
             ],
             [
              0.8888888888888888,
              "#fdca26"
             ],
             [
              1,
              "#f0f921"
             ]
            ],
            "type": "heatmapgl"
           }
          ],
          "histogram": [
           {
            "marker": {
             "pattern": {
              "fillmode": "overlay",
              "size": 10,
              "solidity": 0.2
             }
            },
            "type": "histogram"
           }
          ],
          "histogram2d": [
           {
            "colorbar": {
             "outlinewidth": 0,
             "ticks": ""
            },
            "colorscale": [
             [
              0,
              "#0d0887"
             ],
             [
              0.1111111111111111,
              "#46039f"
             ],
             [
              0.2222222222222222,
              "#7201a8"
             ],
             [
              0.3333333333333333,
              "#9c179e"
             ],
             [
              0.4444444444444444,
              "#bd3786"
             ],
             [
              0.5555555555555556,
              "#d8576b"
             ],
             [
              0.6666666666666666,
              "#ed7953"
             ],
             [
              0.7777777777777778,
              "#fb9f3a"
             ],
             [
              0.8888888888888888,
              "#fdca26"
             ],
             [
              1,
              "#f0f921"
             ]
            ],
            "type": "histogram2d"
           }
          ],
          "histogram2dcontour": [
           {
            "colorbar": {
             "outlinewidth": 0,
             "ticks": ""
            },
            "colorscale": [
             [
              0,
              "#0d0887"
             ],
             [
              0.1111111111111111,
              "#46039f"
             ],
             [
              0.2222222222222222,
              "#7201a8"
             ],
             [
              0.3333333333333333,
              "#9c179e"
             ],
             [
              0.4444444444444444,
              "#bd3786"
             ],
             [
              0.5555555555555556,
              "#d8576b"
             ],
             [
              0.6666666666666666,
              "#ed7953"
             ],
             [
              0.7777777777777778,
              "#fb9f3a"
             ],
             [
              0.8888888888888888,
              "#fdca26"
             ],
             [
              1,
              "#f0f921"
             ]
            ],
            "type": "histogram2dcontour"
           }
          ],
          "mesh3d": [
           {
            "colorbar": {
             "outlinewidth": 0,
             "ticks": ""
            },
            "type": "mesh3d"
           }
          ],
          "parcoords": [
           {
            "line": {
             "colorbar": {
              "outlinewidth": 0,
              "ticks": ""
             }
            },
            "type": "parcoords"
           }
          ],
          "pie": [
           {
            "automargin": true,
            "type": "pie"
           }
          ],
          "scatter": [
           {
            "fillpattern": {
             "fillmode": "overlay",
             "size": 10,
             "solidity": 0.2
            },
            "type": "scatter"
           }
          ],
          "scatter3d": [
           {
            "line": {
             "colorbar": {
              "outlinewidth": 0,
              "ticks": ""
             }
            },
            "marker": {
             "colorbar": {
              "outlinewidth": 0,
              "ticks": ""
             }
            },
            "type": "scatter3d"
           }
          ],
          "scattercarpet": [
           {
            "marker": {
             "colorbar": {
              "outlinewidth": 0,
              "ticks": ""
             }
            },
            "type": "scattercarpet"
           }
          ],
          "scattergeo": [
           {
            "marker": {
             "colorbar": {
              "outlinewidth": 0,
              "ticks": ""
             }
            },
            "type": "scattergeo"
           }
          ],
          "scattergl": [
           {
            "marker": {
             "colorbar": {
              "outlinewidth": 0,
              "ticks": ""
             }
            },
            "type": "scattergl"
           }
          ],
          "scattermapbox": [
           {
            "marker": {
             "colorbar": {
              "outlinewidth": 0,
              "ticks": ""
             }
            },
            "type": "scattermapbox"
           }
          ],
          "scatterpolar": [
           {
            "marker": {
             "colorbar": {
              "outlinewidth": 0,
              "ticks": ""
             }
            },
            "type": "scatterpolar"
           }
          ],
          "scatterpolargl": [
           {
            "marker": {
             "colorbar": {
              "outlinewidth": 0,
              "ticks": ""
             }
            },
            "type": "scatterpolargl"
           }
          ],
          "scatterternary": [
           {
            "marker": {
             "colorbar": {
              "outlinewidth": 0,
              "ticks": ""
             }
            },
            "type": "scatterternary"
           }
          ],
          "surface": [
           {
            "colorbar": {
             "outlinewidth": 0,
             "ticks": ""
            },
            "colorscale": [
             [
              0,
              "#0d0887"
             ],
             [
              0.1111111111111111,
              "#46039f"
             ],
             [
              0.2222222222222222,
              "#7201a8"
             ],
             [
              0.3333333333333333,
              "#9c179e"
             ],
             [
              0.4444444444444444,
              "#bd3786"
             ],
             [
              0.5555555555555556,
              "#d8576b"
             ],
             [
              0.6666666666666666,
              "#ed7953"
             ],
             [
              0.7777777777777778,
              "#fb9f3a"
             ],
             [
              0.8888888888888888,
              "#fdca26"
             ],
             [
              1,
              "#f0f921"
             ]
            ],
            "type": "surface"
           }
          ],
          "table": [
           {
            "cells": {
             "fill": {
              "color": "#EBF0F8"
             },
             "line": {
              "color": "white"
             }
            },
            "header": {
             "fill": {
              "color": "#C8D4E3"
             },
             "line": {
              "color": "white"
             }
            },
            "type": "table"
           }
          ]
         },
         "layout": {
          "annotationdefaults": {
           "arrowcolor": "#2a3f5f",
           "arrowhead": 0,
           "arrowwidth": 1
          },
          "autotypenumbers": "strict",
          "coloraxis": {
           "colorbar": {
            "outlinewidth": 0,
            "ticks": ""
           }
          },
          "colorscale": {
           "diverging": [
            [
             0,
             "#8e0152"
            ],
            [
             0.1,
             "#c51b7d"
            ],
            [
             0.2,
             "#de77ae"
            ],
            [
             0.3,
             "#f1b6da"
            ],
            [
             0.4,
             "#fde0ef"
            ],
            [
             0.5,
             "#f7f7f7"
            ],
            [
             0.6,
             "#e6f5d0"
            ],
            [
             0.7,
             "#b8e186"
            ],
            [
             0.8,
             "#7fbc41"
            ],
            [
             0.9,
             "#4d9221"
            ],
            [
             1,
             "#276419"
            ]
           ],
           "sequential": [
            [
             0,
             "#0d0887"
            ],
            [
             0.1111111111111111,
             "#46039f"
            ],
            [
             0.2222222222222222,
             "#7201a8"
            ],
            [
             0.3333333333333333,
             "#9c179e"
            ],
            [
             0.4444444444444444,
             "#bd3786"
            ],
            [
             0.5555555555555556,
             "#d8576b"
            ],
            [
             0.6666666666666666,
             "#ed7953"
            ],
            [
             0.7777777777777778,
             "#fb9f3a"
            ],
            [
             0.8888888888888888,
             "#fdca26"
            ],
            [
             1,
             "#f0f921"
            ]
           ],
           "sequentialminus": [
            [
             0,
             "#0d0887"
            ],
            [
             0.1111111111111111,
             "#46039f"
            ],
            [
             0.2222222222222222,
             "#7201a8"
            ],
            [
             0.3333333333333333,
             "#9c179e"
            ],
            [
             0.4444444444444444,
             "#bd3786"
            ],
            [
             0.5555555555555556,
             "#d8576b"
            ],
            [
             0.6666666666666666,
             "#ed7953"
            ],
            [
             0.7777777777777778,
             "#fb9f3a"
            ],
            [
             0.8888888888888888,
             "#fdca26"
            ],
            [
             1,
             "#f0f921"
            ]
           ]
          },
          "colorway": [
           "#636efa",
           "#EF553B",
           "#00cc96",
           "#ab63fa",
           "#FFA15A",
           "#19d3f3",
           "#FF6692",
           "#B6E880",
           "#FF97FF",
           "#FECB52"
          ],
          "font": {
           "color": "#2a3f5f"
          },
          "geo": {
           "bgcolor": "white",
           "lakecolor": "white",
           "landcolor": "#E5ECF6",
           "showlakes": true,
           "showland": true,
           "subunitcolor": "white"
          },
          "hoverlabel": {
           "align": "left"
          },
          "hovermode": "closest",
          "mapbox": {
           "style": "light"
          },
          "paper_bgcolor": "white",
          "plot_bgcolor": "#E5ECF6",
          "polar": {
           "angularaxis": {
            "gridcolor": "white",
            "linecolor": "white",
            "ticks": ""
           },
           "bgcolor": "#E5ECF6",
           "radialaxis": {
            "gridcolor": "white",
            "linecolor": "white",
            "ticks": ""
           }
          },
          "scene": {
           "xaxis": {
            "backgroundcolor": "#E5ECF6",
            "gridcolor": "white",
            "gridwidth": 2,
            "linecolor": "white",
            "showbackground": true,
            "ticks": "",
            "zerolinecolor": "white"
           },
           "yaxis": {
            "backgroundcolor": "#E5ECF6",
            "gridcolor": "white",
            "gridwidth": 2,
            "linecolor": "white",
            "showbackground": true,
            "ticks": "",
            "zerolinecolor": "white"
           },
           "zaxis": {
            "backgroundcolor": "#E5ECF6",
            "gridcolor": "white",
            "gridwidth": 2,
            "linecolor": "white",
            "showbackground": true,
            "ticks": "",
            "zerolinecolor": "white"
           }
          },
          "shapedefaults": {
           "line": {
            "color": "#2a3f5f"
           }
          },
          "ternary": {
           "aaxis": {
            "gridcolor": "white",
            "linecolor": "white",
            "ticks": ""
           },
           "baxis": {
            "gridcolor": "white",
            "linecolor": "white",
            "ticks": ""
           },
           "bgcolor": "#E5ECF6",
           "caxis": {
            "gridcolor": "white",
            "linecolor": "white",
            "ticks": ""
           }
          },
          "title": {
           "x": 0.05
          },
          "xaxis": {
           "automargin": true,
           "gridcolor": "white",
           "linecolor": "white",
           "ticks": "",
           "title": {
            "standoff": 15
           },
           "zerolinecolor": "white",
           "zerolinewidth": 2
          },
          "yaxis": {
           "automargin": true,
           "gridcolor": "white",
           "linecolor": "white",
           "ticks": "",
           "title": {
            "standoff": 15
           },
           "zerolinecolor": "white",
           "zerolinewidth": 2
          }
         }
        },
        "xaxis": {
         "anchor": "y",
         "domain": [
          0,
          1
         ],
         "title": {
          "text": "PC1"
         }
        },
        "yaxis": {
         "anchor": "x",
         "domain": [
          0,
          1
         ],
         "title": {
          "text": "PC2"
         }
        }
       }
      }
     },
     "metadata": {},
     "output_type": "display_data"
    },
    {
     "name": "stdout",
     "output_type": "stream",
     "text": [
      "eps:0.6\n",
      "min:7\n",
      "2\n"
     ]
    },
    {
     "data": {
      "application/vnd.plotly.v1+json": {
       "config": {
        "plotlyServerURL": "https://plot.ly"
       },
       "data": [
        {
         "hovertemplate": "PC1=%{x}<br>PC2=%{y}<br>cluster=%{marker.color}<extra></extra>",
         "legendgroup": "",
         "marker": {
          "color": [
           0,
           0,
           0,
           0,
           0,
           -1,
           0,
           0,
           0,
           0,
           0,
           0,
           0,
           0,
           0,
           0,
           -1,
           0,
           0,
           0,
           0,
           0,
           0,
           0,
           0,
           0,
           0,
           0,
           0,
           0,
           0,
           0,
           0,
           0,
           0,
           0,
           0,
           0,
           0,
           0,
           0,
           0,
           0,
           0,
           0,
           0,
           0,
           -1,
           -1,
           0,
           0,
           0,
           0,
           -1,
           0,
           0,
           0,
           0,
           0,
           0,
           -1,
           0,
           -1,
           -1,
           0,
           0,
           0,
           0,
           -1,
           0,
           0,
           0,
           0,
           0,
           0,
           0,
           0,
           0,
           0,
           0,
           0,
           0,
           0,
           0,
           0,
           0,
           0,
           0,
           0,
           0,
           0,
           0,
           0,
           0,
           0,
           0,
           -1,
           0,
           0,
           0,
           -1,
           0,
           -1,
           -1,
           0,
           0,
           -1,
           0,
           0,
           0,
           0,
           0,
           0,
           0,
           0,
           0,
           0,
           0,
           0,
           0,
           0,
           0,
           0,
           -1,
           0,
           0,
           0,
           0,
           0,
           0,
           0,
           0,
           -1,
           0,
           0,
           0,
           0,
           0,
           -1,
           0,
           0,
           0,
           0,
           0,
           0,
           0,
           0,
           0,
           0,
           0,
           0,
           0,
           0,
           -1,
           0,
           0,
           0,
           0,
           0,
           0,
           -1,
           0,
           0,
           0,
           0,
           0,
           0,
           0,
           0,
           0,
           0,
           0,
           0,
           0,
           0,
           0,
           0,
           0,
           0,
           0,
           -1,
           0,
           0,
           0,
           -1,
           0,
           0,
           0,
           0,
           0,
           0,
           0,
           0,
           0,
           0,
           0,
           0,
           0,
           0,
           0,
           0,
           0,
           0,
           0,
           0,
           0,
           0,
           0,
           0,
           0,
           0,
           0,
           0,
           0,
           0,
           0,
           0,
           0,
           0,
           0,
           0,
           0,
           -1,
           -1,
           0,
           0,
           0,
           0,
           0,
           0,
           0,
           0,
           0,
           0,
           0,
           0,
           0,
           0,
           0,
           0,
           0,
           0,
           0,
           0,
           0,
           0,
           0,
           0,
           0,
           0,
           0,
           0,
           0,
           0,
           0,
           0,
           0,
           0,
           0,
           0,
           0,
           0,
           0,
           -1,
           0,
           0,
           0,
           0,
           0,
           0,
           0,
           0,
           0,
           0,
           0,
           0,
           0,
           0,
           0,
           0,
           -1,
           0,
           0,
           0,
           0,
           0,
           0,
           0,
           0,
           0,
           0,
           0,
           0,
           0,
           0,
           -1,
           0,
           0,
           0,
           0,
           0,
           0,
           0,
           0,
           0,
           0
          ],
          "coloraxis": "coloraxis",
          "symbol": "circle"
         },
         "mode": "markers",
         "name": "",
         "orientation": "v",
         "showlegend": false,
         "type": "scatter",
         "x": [
          -0.3508186445814046,
          -0.5639310289142907,
          -0.5876614889048775,
          -0.5823377224391548,
          -0.5607934377831532,
          0.4195720316235605,
          0.4072448737758711,
          -0.4113530731621215,
          -0.00399273331831062,
          -0.1852422563817428,
          -0.44739994890418283,
          -0.17321034471097554,
          -0.9863859016696982,
          0.363681409013939,
          0.5332508277656569,
          0.4280966465773618,
          1.0588501758287197,
          0.025247980120545525,
          0.23810740264577307,
          0.6865351171763053,
          0.2581063436168159,
          0.3715708207646612,
          -0.4131797356835435,
          -0.04785829771362803,
          -0.9827684239122897,
          0.3681831670016599,
          -0.2935365288623707,
          -1.1909481439518261,
          -1.1528255253136725,
          -0.7069147217330235,
          0.40055109920872667,
          0.00803215716421511,
          0.14911199452136348,
          -0.16737103147821697,
          0.760616799924241,
          -0.23008068388502226,
          -0.7678298340451299,
          -0.540115638809465,
          -0.6308503154771031,
          -0.8514860460990357,
          -0.6867705734521476,
          -0.2078070316297446,
          -0.7308828712104986,
          0.5838622089680124,
          0.23092709056774202,
          -0.25715838997259816,
          0.5912142380882366,
          0.45038843768797976,
          0.7458086225076698,
          0.6665341479810564,
          -0.3559651445471211,
          0.14544245797935162,
          0.16923801231755534,
          0.28649183156012964,
          0.49776358997416936,
          1.0061507020713225,
          -0.00044711259362545716,
          0.28586827885250043,
          0.25658402880596615,
          1.2550220032228516,
          0.12286107335774328,
          1.485896209569183,
          1.141757343619969,
          1.083056179238525,
          1.2308187941802846,
          1.398828328888598,
          1.3054235587132532,
          -0.6767646613072369,
          0.6750460519396514,
          1.370581465278255,
          1.2018852316157136,
          -0.2580847111797142,
          -0.011498460508768802,
          -0.8370263340387589,
          -0.6363564838589613,
          -0.42919282404945464,
          -1.1039702224687824,
          -0.1088711356058151,
          -0.4596040070615721,
          0.1418478816660463,
          0.21957884447651801,
          0.3554794976193818,
          -0.8742386278118172,
          -0.2746466637092127,
          1.1054992040219718,
          -1.2632478611888398,
          1.5367762704079522,
          2.0068280117827495,
          0.850062335137054,
          0.33944496228293397,
          0.19249504445578958,
          -1.3581558798511084,
          0.2434247873301313,
          0.5263964218229623,
          -0.4868238715600447,
          1.1886039499169794,
          1.312567480095893,
          1.5798144290432872,
          0.09562530830559078,
          0.10113773211496412,
          2.033076972324046,
          0.8053821545180139,
          0.637502907215228,
          1.0203277391689545,
          1.1081509796409459,
          1.2746332749915992,
          1.0753569684035553,
          1.7049819492724492,
          1.6587035438150557,
          1.7295177415265623,
          0.5214983885075135,
          1.3702205937067362,
          1.518749873805489,
          2.1729248712419267,
          2.5854778650398846,
          2.411180428395736,
          2.1166243572495915,
          2.0214316278135502,
          1.8271443317174267,
          1.7146476778873738,
          2.0310988554007685,
          2.2173494244528684,
          2.184350145824153,
          1.5947485452960408,
          1.0679977016528681,
          0.8413104680994339,
          1.9202053051499042,
          1.8312001793279702,
          2.0139938593698643,
          1.3205121461089913,
          0.8282043651674835,
          1.2256783451926239,
          1.3358151046978437,
          -0.9688877415976315,
          0.26608200929683606,
          0.4664951006725747,
          -0.0563240048251054,
          -0.0559120157718613,
          1.1399716405498577,
          0.5358927796322845,
          0.018958766203575374,
          -0.24741988762852457,
          -0.5776044130063319,
          0.6475878617948905,
          -0.9100792974452094,
          0.49081208825788125,
          0.3298476395279003,
          -0.007475294677475479,
          -0.489846855978679,
          -0.8491853143573168,
          -0.7011129372532078,
          -0.05347780212672248,
          -0.0011183823042832202,
          -0.5655651342350086,
          -0.6620259718207827,
          -0.9227863531495146,
          -0.6622952480314663,
          -0.4782287610370813,
          -0.5932215055392788,
          0.12014236348877132,
          0.6903330209670598,
          -0.8426881627710046,
          -0.6917978730477802,
          -0.6781299724263031,
          0.1602732904474833,
          -0.6133650035392196,
          -0.6949704672974494,
          -0.9075944177318687,
          -0.8786928400558157,
          -0.9058658749968183,
          -0.31613938719436746,
          -1.4063256915973272,
          -1.3803818930202079,
          0.2625615034769143,
          -0.8470754546783491,
          -1.1030175239198672,
          -1.2002009601984962,
          -1.1015107582333754,
          -0.25448883335801076,
          -1.3268121966813606,
          0.21320098873326973,
          -0.6498069261405497,
          -0.9346574497489317,
          -0.23027783265072188,
          -0.5611158720424748,
          -0.6718621245174528,
          0.9811493906055307,
          -0.8636997616209908,
          -0.6227009894166133,
          0.26969388609522693,
          -1.2974700268568877,
          -0.7689427359366564,
          -1.1308155565904985,
          -1.1858237917313565,
          -1.1576084927470962,
          0.12712467464253588,
          0.6706059789697033,
          -0.3921416370294183,
          -0.11598044718702563,
          -0.23151664766119667,
          -0.7816102873703236,
          -0.7653708834373745,
          -0.5609480660210393,
          -1.2245683886515315,
          -1.2528323446207357,
          -0.04827769016556094,
          -0.620381709756415,
          -1.3179427171238245,
          -1.020448678856538,
          -1.122767828461264,
          -1.295461906008073,
          -0.2150777897030298,
          -1.0690715515230613,
          -0.6521075215103971,
          -0.7687037917119958,
          -1.1341499985115364,
          -1.206294094750507,
          -1.1419834961733435,
          0.15924292373346194,
          -1.0338737764714179,
          -0.9671029081402572,
          0.7301776776959528,
          0.22630807645404594,
          -0.03217868737816261,
          -0.8246874406681577,
          -0.0665121498396239,
          -0.525452729661283,
          -1.163670997184323,
          -1.0990419409084324,
          -0.871028416180363,
          -0.9839363695459624,
          -0.7071642819921274,
          -0.9649538646384597,
          -0.07938786382715807,
          -0.6511732443827587,
          -1.0495691285147353,
          -1.216907719249716,
          -1.0202686457871843,
          -1.245096243526878,
          -0.8051863963938097,
          -1.4079974175266863,
          -1.238577998585358,
          -1.1597420643057776,
          -0.49885995427398205,
          -1.2294098096570147,
          -1.3473762262692497,
          -0.9893474027848611,
          1.324644655674268,
          2.236559940687958,
          2.300220738929092,
          2.5447691037266145,
          -1.3290802025585322,
          -1.0339295771544759,
          -0.3646263998858898,
          -0.9210480898797002,
          -1.0528999459414,
          -0.7465386837494035,
          -1.3310648253509125,
          -0.15504914093148417,
          -0.17437782760361567,
          -0.2603429111629848,
          -0.8277771276090602,
          -0.5418252456462207,
          0.6086703948875171,
          -0.5988433486407282,
          -0.9028097234226942,
          -0.9592914666868012,
          0.22142476650741127,
          0.7932088658321987,
          0.5636494338661097,
          0.41197956731334534,
          1.826830708628797,
          0.31242812323741953,
          1.902649433624108,
          1.620881829702091,
          1.2518535611471007,
          2.144068931719886,
          0.43127983098330536,
          -0.326669105779434,
          1.1600755290161804,
          0.6320233562856604,
          0.7899229468245065,
          0.21091418080767607,
          0.7684640830904039,
          -1.2050179821235905,
          -1.003315446220766,
          -1.300336769491636,
          -1.2169871538010222,
          -1.4762498697303896,
          0.2818455182041284,
          -0.9236872137307428,
          -1.2034142443186877,
          -1.3539329811844136,
          -0.5113520614681136,
          -0.8684685964407897,
          -0.6600211472717245,
          0.02387224500841111,
          -0.10249542394847518,
          -0.5073132666040002,
          0.5206042476056767,
          0.15663991940049013,
          1.9189992338794515,
          -0.5326400765665911,
          -0.8536336765878905,
          0.23333215288286902,
          -0.6440736946026615
         ],
         "xaxis": "x",
         "y": [
          0.7099961857978953,
          0.42702553658784737,
          0.32532461799333984,
          -0.30751240895039944,
          -0.13734036816883838,
          0.31128851737849844,
          0.729962167893389,
          -0.0005735189402775898,
          0.8184393245280276,
          1.117196888341552,
          0.6623167014430784,
          0.5818759175510941,
          -0.5755506430210526,
          0.7595512721812351,
          1.0919717029401952,
          0.9287727424286327,
          0.647167399836963,
          1.1481584414274244,
          1.0538483156137948,
          1.068173947937826,
          0.8958960717525997,
          0.5678691445652688,
          0.4174137788963033,
          0.7527314614167181,
          -0.32417865836517257,
          1.2685351012786688,
          1.1329563580483628,
          -0.6309878142198015,
          -0.5784391528625124,
          -0.04627264220648031,
          1.0451683016282647,
          0.6363022232065211,
          0.6090535964371065,
          0.3389705573491687,
          -0.07876016749848436,
          -0.005161321019689319,
          -0.16245932754008796,
          -0.015756191193797463,
          0.19443560793123194,
          -0.094922033919062,
          0.4528492287184965,
          1.1992796693159886,
          0.28812500403641145,
          1.3827214876209564,
          1.112825496480182,
          0.820319273071483,
          -0.19017580106885862,
          -0.07244448877381379,
          0.4750518811453017,
          -0.6854025144338283,
          0.20702474930218934,
          0.1518140456897288,
          -0.05401545573946639,
          0.15929102424296657,
          0.3937351519692185,
          1.014706623198994,
          0.6371969911009774,
          0.1750033851741816,
          -0.6006650204085802,
          -0.0792124573390606,
          1.512070916552906,
          -0.6427866590478051,
          -0.03307075643171754,
          0.5274321350929281,
          -0.45485297270854297,
          -0.5564822170596899,
          -0.6115030808876163,
          -0.30479187981488526,
          -0.3098013915666279,
          -0.4457154428997717,
          -0.698679628353853,
          0.6013513192758371,
          1.0639967642006818,
          0.23703389905433955,
          0.6299565866915858,
          0.8345022141548945,
          -0.4323407360986679,
          -0.36112213785851976,
          0.5276588766709592,
          -0.07191032684639224,
          0.4567759882447646,
          -0.24191454883831306,
          0.1428429389318786,
          0.39866159386906896,
          0.029551102791049888,
          -0.6860368415335261,
          -0.2269403331648695,
          -0.5324958691880598,
          0.41247460087419985,
          0.6397017321322944,
          0.7167548034897423,
          -0.7968509799301254,
          0.4579173464816717,
          0.6929268513292324,
          0.3027252421361952,
          -0.5018055971078058,
          -0.9262446362631672,
          -0.7089125244246054,
          -0.09250520902190804,
          -0.24347082832148273,
          -0.5011749815040876,
          0.2769417524742287,
          0.6594733357560907,
          0.1464652696809386,
          0.17980367632117927,
          0.2876728571762101,
          0.24207094960578387,
          -0.47685645775978125,
          -0.4641342832744238,
          -0.6242657785803362,
          -0.35839496694913836,
          -0.6697201639582336,
          -0.5934551819218801,
          -0.6776601586832687,
          -0.772206603265197,
          -0.8256034226699906,
          -0.6034916443139994,
          -0.6959188228222942,
          -0.6506881292737736,
          -0.730610566802647,
          -0.7118028645644151,
          -0.5537360443743592,
          -0.7516917933008144,
          -1.0413224864771373,
          -0.2888912128532489,
          0.16165561715961727,
          -0.6301647136546636,
          -0.5457559028477338,
          -0.7375472316736065,
          -0.30382668918844896,
          0.14392662023758906,
          0.4029023478736755,
          0.11923488393747818,
          -0.3931448013405179,
          0.47116303960960504,
          -0.3057199867825617,
          0.19033436901269668,
          0.3672353828015206,
          -0.11915816433922534,
          -0.22949644038607933,
          0.0005381922934969265,
          0.4014541076202302,
          0.011226333971447174,
          0.15316753403502015,
          -0.17839685429915678,
          0.1162964727268741,
          0.6132218639995656,
          0.7440426957254411,
          0.5514812675631249,
          0.2558900153292978,
          -0.41263591264996197,
          -0.24829956261552585,
          -0.08343938247417602,
          -0.20777470378370455,
          -0.24080633807485974,
          -0.3134496109536108,
          0.26608327441236906,
          -0.029058638683316398,
          0.0671953806310761,
          0.7504319775030304,
          1.1239966883690784,
          -0.45781463258792676,
          0.34873035447720835,
          0.8756141158887747,
          0.9258608099918605,
          0.4841868261378967,
          0.7141823455552794,
          -0.03732354018898182,
          0.28878723343162016,
          0.15719818315722064,
          0.7973884178965798,
          -0.7660432689583268,
          -0.84400657794849,
          -0.45947960809374516,
          -0.3345165522557174,
          -0.6649776248286672,
          -0.6363778850046428,
          -0.5993592194355751,
          -0.18919715662760342,
          -0.7691383038182813,
          0.04053435533132516,
          0.21657270370862602,
          -0.014942354878290992,
          0.9030285565753604,
          -0.4266317392588027,
          0.15182338797892395,
          -0.19851912578326078,
          0.054602340636070716,
          0.4071145704787819,
          0.4220990016103621,
          -0.7460484006509379,
          -0.37416817643363576,
          -0.6372097375723659,
          -0.5063493452642951,
          -0.09239144822483929,
          0.8850748108824067,
          -0.3774211773239248,
          0.11439303192748623,
          0.21840717600576146,
          0.41308681848561374,
          -0.156487389434147,
          -0.21246162342132058,
          0.35967154146760516,
          -0.6280362618690645,
          -0.6751485839668573,
          0.4564923562030079,
          0.46341219854131854,
          -0.6255699562303365,
          -0.14648385725392216,
          -0.529967500091482,
          -0.7969822771052225,
          0.2212198399904749,
          -0.35734431874142725,
          -0.490786380395956,
          -0.31872916446986554,
          -0.6918558834102606,
          -0.7082270021088811,
          -0.7238134790639272,
          0.12244694049215733,
          -0.3995158569063484,
          -0.5271808752106215,
          0.6167487204970656,
          1.3015349678754837,
          1.3070266362899396,
          -0.11326696955333448,
          0.03762840489926836,
          0.4637935227601997,
          -0.3581647071056107,
          -0.7534000614183912,
          -0.32871859328507014,
          -0.2747903697084202,
          -0.1782478319197431,
          -0.5058423435176054,
          0.28564173412763133,
          0.22065552600422933,
          -0.6473159610252815,
          -0.6069361767018229,
          -0.6298085539721407,
          -0.7732732549216,
          -0.4923166757282111,
          -0.6975829899400697,
          -0.7388955697842149,
          -0.43264234556453635,
          0.09749775065327997,
          -0.6339343049928898,
          -0.6640631227213608,
          -0.2201238450942663,
          -0.7406821537471711,
          -0.6143040266580025,
          -0.5698169156217819,
          -0.8756335115452012,
          -0.5141589243246582,
          -0.34764364588050745,
          0.44145008058227136,
          -0.31539811267161544,
          -0.6370741888817835,
          -0.19493915236414852,
          -0.7735155602581518,
          0.3156325537205879,
          1.0556241456946518,
          1.0440701043581253,
          0.32877861478383197,
          0.3164185453548597,
          1.1615210253233557,
          0.04553512632354633,
          -0.2433147074464451,
          -0.3581664229481636,
          0.9437433574201339,
          1.1007774491822322,
          1.0107234027065128,
          0.9274899088166828,
          -0.7662581492563958,
          -0.7871634414585786,
          -0.5293459180136509,
          -0.6432404647199428,
          -0.581318473331517,
          -0.6916550585341287,
          -0.21108386707704713,
          0.04222803626490735,
          -0.6624768970250287,
          -0.36007697929215565,
          0.5369447952766742,
          0.9916844193676572,
          -0.5361063431814365,
          -0.5855287098767852,
          -0.4008160716345416,
          -0.7611554973033743,
          -0.6659259100919337,
          -0.802516056383197,
          0.04535682741649859,
          -0.28061484381918506,
          -0.6098813595061421,
          -0.8132859063928752,
          -0.1951940050040877,
          -0.33410450200889125,
          0.7126277842603084,
          0.16591497309967654,
          0.3509629701820568,
          1.0256786577294228,
          1.0272833710267137,
          0.9212705727252719,
          -0.71638376743169,
          -0.3934942048076385,
          -0.3503235301888743,
          -0.019981995927691884,
          0.06001570368658886
         ],
         "yaxis": "y"
        }
       ],
       "layout": {
        "coloraxis": {
         "colorbar": {
          "title": {
           "text": "cluster"
          }
         },
         "colorscale": [
          [
           0,
           "#0d0887"
          ],
          [
           0.1111111111111111,
           "#46039f"
          ],
          [
           0.2222222222222222,
           "#7201a8"
          ],
          [
           0.3333333333333333,
           "#9c179e"
          ],
          [
           0.4444444444444444,
           "#bd3786"
          ],
          [
           0.5555555555555556,
           "#d8576b"
          ],
          [
           0.6666666666666666,
           "#ed7953"
          ],
          [
           0.7777777777777778,
           "#fb9f3a"
          ],
          [
           0.8888888888888888,
           "#fdca26"
          ],
          [
           1,
           "#f0f921"
          ]
         ]
        },
        "legend": {
         "tracegroupgap": 0
        },
        "margin": {
         "t": 60
        },
        "template": {
         "data": {
          "bar": [
           {
            "error_x": {
             "color": "#2a3f5f"
            },
            "error_y": {
             "color": "#2a3f5f"
            },
            "marker": {
             "line": {
              "color": "#E5ECF6",
              "width": 0.5
             },
             "pattern": {
              "fillmode": "overlay",
              "size": 10,
              "solidity": 0.2
             }
            },
            "type": "bar"
           }
          ],
          "barpolar": [
           {
            "marker": {
             "line": {
              "color": "#E5ECF6",
              "width": 0.5
             },
             "pattern": {
              "fillmode": "overlay",
              "size": 10,
              "solidity": 0.2
             }
            },
            "type": "barpolar"
           }
          ],
          "carpet": [
           {
            "aaxis": {
             "endlinecolor": "#2a3f5f",
             "gridcolor": "white",
             "linecolor": "white",
             "minorgridcolor": "white",
             "startlinecolor": "#2a3f5f"
            },
            "baxis": {
             "endlinecolor": "#2a3f5f",
             "gridcolor": "white",
             "linecolor": "white",
             "minorgridcolor": "white",
             "startlinecolor": "#2a3f5f"
            },
            "type": "carpet"
           }
          ],
          "choropleth": [
           {
            "colorbar": {
             "outlinewidth": 0,
             "ticks": ""
            },
            "type": "choropleth"
           }
          ],
          "contour": [
           {
            "colorbar": {
             "outlinewidth": 0,
             "ticks": ""
            },
            "colorscale": [
             [
              0,
              "#0d0887"
             ],
             [
              0.1111111111111111,
              "#46039f"
             ],
             [
              0.2222222222222222,
              "#7201a8"
             ],
             [
              0.3333333333333333,
              "#9c179e"
             ],
             [
              0.4444444444444444,
              "#bd3786"
             ],
             [
              0.5555555555555556,
              "#d8576b"
             ],
             [
              0.6666666666666666,
              "#ed7953"
             ],
             [
              0.7777777777777778,
              "#fb9f3a"
             ],
             [
              0.8888888888888888,
              "#fdca26"
             ],
             [
              1,
              "#f0f921"
             ]
            ],
            "type": "contour"
           }
          ],
          "contourcarpet": [
           {
            "colorbar": {
             "outlinewidth": 0,
             "ticks": ""
            },
            "type": "contourcarpet"
           }
          ],
          "heatmap": [
           {
            "colorbar": {
             "outlinewidth": 0,
             "ticks": ""
            },
            "colorscale": [
             [
              0,
              "#0d0887"
             ],
             [
              0.1111111111111111,
              "#46039f"
             ],
             [
              0.2222222222222222,
              "#7201a8"
             ],
             [
              0.3333333333333333,
              "#9c179e"
             ],
             [
              0.4444444444444444,
              "#bd3786"
             ],
             [
              0.5555555555555556,
              "#d8576b"
             ],
             [
              0.6666666666666666,
              "#ed7953"
             ],
             [
              0.7777777777777778,
              "#fb9f3a"
             ],
             [
              0.8888888888888888,
              "#fdca26"
             ],
             [
              1,
              "#f0f921"
             ]
            ],
            "type": "heatmap"
           }
          ],
          "heatmapgl": [
           {
            "colorbar": {
             "outlinewidth": 0,
             "ticks": ""
            },
            "colorscale": [
             [
              0,
              "#0d0887"
             ],
             [
              0.1111111111111111,
              "#46039f"
             ],
             [
              0.2222222222222222,
              "#7201a8"
             ],
             [
              0.3333333333333333,
              "#9c179e"
             ],
             [
              0.4444444444444444,
              "#bd3786"
             ],
             [
              0.5555555555555556,
              "#d8576b"
             ],
             [
              0.6666666666666666,
              "#ed7953"
             ],
             [
              0.7777777777777778,
              "#fb9f3a"
             ],
             [
              0.8888888888888888,
              "#fdca26"
             ],
             [
              1,
              "#f0f921"
             ]
            ],
            "type": "heatmapgl"
           }
          ],
          "histogram": [
           {
            "marker": {
             "pattern": {
              "fillmode": "overlay",
              "size": 10,
              "solidity": 0.2
             }
            },
            "type": "histogram"
           }
          ],
          "histogram2d": [
           {
            "colorbar": {
             "outlinewidth": 0,
             "ticks": ""
            },
            "colorscale": [
             [
              0,
              "#0d0887"
             ],
             [
              0.1111111111111111,
              "#46039f"
             ],
             [
              0.2222222222222222,
              "#7201a8"
             ],
             [
              0.3333333333333333,
              "#9c179e"
             ],
             [
              0.4444444444444444,
              "#bd3786"
             ],
             [
              0.5555555555555556,
              "#d8576b"
             ],
             [
              0.6666666666666666,
              "#ed7953"
             ],
             [
              0.7777777777777778,
              "#fb9f3a"
             ],
             [
              0.8888888888888888,
              "#fdca26"
             ],
             [
              1,
              "#f0f921"
             ]
            ],
            "type": "histogram2d"
           }
          ],
          "histogram2dcontour": [
           {
            "colorbar": {
             "outlinewidth": 0,
             "ticks": ""
            },
            "colorscale": [
             [
              0,
              "#0d0887"
             ],
             [
              0.1111111111111111,
              "#46039f"
             ],
             [
              0.2222222222222222,
              "#7201a8"
             ],
             [
              0.3333333333333333,
              "#9c179e"
             ],
             [
              0.4444444444444444,
              "#bd3786"
             ],
             [
              0.5555555555555556,
              "#d8576b"
             ],
             [
              0.6666666666666666,
              "#ed7953"
             ],
             [
              0.7777777777777778,
              "#fb9f3a"
             ],
             [
              0.8888888888888888,
              "#fdca26"
             ],
             [
              1,
              "#f0f921"
             ]
            ],
            "type": "histogram2dcontour"
           }
          ],
          "mesh3d": [
           {
            "colorbar": {
             "outlinewidth": 0,
             "ticks": ""
            },
            "type": "mesh3d"
           }
          ],
          "parcoords": [
           {
            "line": {
             "colorbar": {
              "outlinewidth": 0,
              "ticks": ""
             }
            },
            "type": "parcoords"
           }
          ],
          "pie": [
           {
            "automargin": true,
            "type": "pie"
           }
          ],
          "scatter": [
           {
            "fillpattern": {
             "fillmode": "overlay",
             "size": 10,
             "solidity": 0.2
            },
            "type": "scatter"
           }
          ],
          "scatter3d": [
           {
            "line": {
             "colorbar": {
              "outlinewidth": 0,
              "ticks": ""
             }
            },
            "marker": {
             "colorbar": {
              "outlinewidth": 0,
              "ticks": ""
             }
            },
            "type": "scatter3d"
           }
          ],
          "scattercarpet": [
           {
            "marker": {
             "colorbar": {
              "outlinewidth": 0,
              "ticks": ""
             }
            },
            "type": "scattercarpet"
           }
          ],
          "scattergeo": [
           {
            "marker": {
             "colorbar": {
              "outlinewidth": 0,
              "ticks": ""
             }
            },
            "type": "scattergeo"
           }
          ],
          "scattergl": [
           {
            "marker": {
             "colorbar": {
              "outlinewidth": 0,
              "ticks": ""
             }
            },
            "type": "scattergl"
           }
          ],
          "scattermapbox": [
           {
            "marker": {
             "colorbar": {
              "outlinewidth": 0,
              "ticks": ""
             }
            },
            "type": "scattermapbox"
           }
          ],
          "scatterpolar": [
           {
            "marker": {
             "colorbar": {
              "outlinewidth": 0,
              "ticks": ""
             }
            },
            "type": "scatterpolar"
           }
          ],
          "scatterpolargl": [
           {
            "marker": {
             "colorbar": {
              "outlinewidth": 0,
              "ticks": ""
             }
            },
            "type": "scatterpolargl"
           }
          ],
          "scatterternary": [
           {
            "marker": {
             "colorbar": {
              "outlinewidth": 0,
              "ticks": ""
             }
            },
            "type": "scatterternary"
           }
          ],
          "surface": [
           {
            "colorbar": {
             "outlinewidth": 0,
             "ticks": ""
            },
            "colorscale": [
             [
              0,
              "#0d0887"
             ],
             [
              0.1111111111111111,
              "#46039f"
             ],
             [
              0.2222222222222222,
              "#7201a8"
             ],
             [
              0.3333333333333333,
              "#9c179e"
             ],
             [
              0.4444444444444444,
              "#bd3786"
             ],
             [
              0.5555555555555556,
              "#d8576b"
             ],
             [
              0.6666666666666666,
              "#ed7953"
             ],
             [
              0.7777777777777778,
              "#fb9f3a"
             ],
             [
              0.8888888888888888,
              "#fdca26"
             ],
             [
              1,
              "#f0f921"
             ]
            ],
            "type": "surface"
           }
          ],
          "table": [
           {
            "cells": {
             "fill": {
              "color": "#EBF0F8"
             },
             "line": {
              "color": "white"
             }
            },
            "header": {
             "fill": {
              "color": "#C8D4E3"
             },
             "line": {
              "color": "white"
             }
            },
            "type": "table"
           }
          ]
         },
         "layout": {
          "annotationdefaults": {
           "arrowcolor": "#2a3f5f",
           "arrowhead": 0,
           "arrowwidth": 1
          },
          "autotypenumbers": "strict",
          "coloraxis": {
           "colorbar": {
            "outlinewidth": 0,
            "ticks": ""
           }
          },
          "colorscale": {
           "diverging": [
            [
             0,
             "#8e0152"
            ],
            [
             0.1,
             "#c51b7d"
            ],
            [
             0.2,
             "#de77ae"
            ],
            [
             0.3,
             "#f1b6da"
            ],
            [
             0.4,
             "#fde0ef"
            ],
            [
             0.5,
             "#f7f7f7"
            ],
            [
             0.6,
             "#e6f5d0"
            ],
            [
             0.7,
             "#b8e186"
            ],
            [
             0.8,
             "#7fbc41"
            ],
            [
             0.9,
             "#4d9221"
            ],
            [
             1,
             "#276419"
            ]
           ],
           "sequential": [
            [
             0,
             "#0d0887"
            ],
            [
             0.1111111111111111,
             "#46039f"
            ],
            [
             0.2222222222222222,
             "#7201a8"
            ],
            [
             0.3333333333333333,
             "#9c179e"
            ],
            [
             0.4444444444444444,
             "#bd3786"
            ],
            [
             0.5555555555555556,
             "#d8576b"
            ],
            [
             0.6666666666666666,
             "#ed7953"
            ],
            [
             0.7777777777777778,
             "#fb9f3a"
            ],
            [
             0.8888888888888888,
             "#fdca26"
            ],
            [
             1,
             "#f0f921"
            ]
           ],
           "sequentialminus": [
            [
             0,
             "#0d0887"
            ],
            [
             0.1111111111111111,
             "#46039f"
            ],
            [
             0.2222222222222222,
             "#7201a8"
            ],
            [
             0.3333333333333333,
             "#9c179e"
            ],
            [
             0.4444444444444444,
             "#bd3786"
            ],
            [
             0.5555555555555556,
             "#d8576b"
            ],
            [
             0.6666666666666666,
             "#ed7953"
            ],
            [
             0.7777777777777778,
             "#fb9f3a"
            ],
            [
             0.8888888888888888,
             "#fdca26"
            ],
            [
             1,
             "#f0f921"
            ]
           ]
          },
          "colorway": [
           "#636efa",
           "#EF553B",
           "#00cc96",
           "#ab63fa",
           "#FFA15A",
           "#19d3f3",
           "#FF6692",
           "#B6E880",
           "#FF97FF",
           "#FECB52"
          ],
          "font": {
           "color": "#2a3f5f"
          },
          "geo": {
           "bgcolor": "white",
           "lakecolor": "white",
           "landcolor": "#E5ECF6",
           "showlakes": true,
           "showland": true,
           "subunitcolor": "white"
          },
          "hoverlabel": {
           "align": "left"
          },
          "hovermode": "closest",
          "mapbox": {
           "style": "light"
          },
          "paper_bgcolor": "white",
          "plot_bgcolor": "#E5ECF6",
          "polar": {
           "angularaxis": {
            "gridcolor": "white",
            "linecolor": "white",
            "ticks": ""
           },
           "bgcolor": "#E5ECF6",
           "radialaxis": {
            "gridcolor": "white",
            "linecolor": "white",
            "ticks": ""
           }
          },
          "scene": {
           "xaxis": {
            "backgroundcolor": "#E5ECF6",
            "gridcolor": "white",
            "gridwidth": 2,
            "linecolor": "white",
            "showbackground": true,
            "ticks": "",
            "zerolinecolor": "white"
           },
           "yaxis": {
            "backgroundcolor": "#E5ECF6",
            "gridcolor": "white",
            "gridwidth": 2,
            "linecolor": "white",
            "showbackground": true,
            "ticks": "",
            "zerolinecolor": "white"
           },
           "zaxis": {
            "backgroundcolor": "#E5ECF6",
            "gridcolor": "white",
            "gridwidth": 2,
            "linecolor": "white",
            "showbackground": true,
            "ticks": "",
            "zerolinecolor": "white"
           }
          },
          "shapedefaults": {
           "line": {
            "color": "#2a3f5f"
           }
          },
          "ternary": {
           "aaxis": {
            "gridcolor": "white",
            "linecolor": "white",
            "ticks": ""
           },
           "baxis": {
            "gridcolor": "white",
            "linecolor": "white",
            "ticks": ""
           },
           "bgcolor": "#E5ECF6",
           "caxis": {
            "gridcolor": "white",
            "linecolor": "white",
            "ticks": ""
           }
          },
          "title": {
           "x": 0.05
          },
          "xaxis": {
           "automargin": true,
           "gridcolor": "white",
           "linecolor": "white",
           "ticks": "",
           "title": {
            "standoff": 15
           },
           "zerolinecolor": "white",
           "zerolinewidth": 2
          },
          "yaxis": {
           "automargin": true,
           "gridcolor": "white",
           "linecolor": "white",
           "ticks": "",
           "title": {
            "standoff": 15
           },
           "zerolinecolor": "white",
           "zerolinewidth": 2
          }
         }
        },
        "xaxis": {
         "anchor": "y",
         "domain": [
          0,
          1
         ],
         "title": {
          "text": "PC1"
         }
        },
        "yaxis": {
         "anchor": "x",
         "domain": [
          0,
          1
         ],
         "title": {
          "text": "PC2"
         }
        }
       }
      }
     },
     "metadata": {},
     "output_type": "display_data"
    },
    {
     "name": "stdout",
     "output_type": "stream",
     "text": [
      "eps:0.6\n",
      "min:8\n",
      "2\n"
     ]
    },
    {
     "data": {
      "application/vnd.plotly.v1+json": {
       "config": {
        "plotlyServerURL": "https://plot.ly"
       },
       "data": [
        {
         "hovertemplate": "PC1=%{x}<br>PC2=%{y}<br>cluster=%{marker.color}<extra></extra>",
         "legendgroup": "",
         "marker": {
          "color": [
           0,
           0,
           0,
           0,
           0,
           -1,
           0,
           0,
           0,
           0,
           0,
           0,
           0,
           0,
           0,
           0,
           -1,
           0,
           0,
           0,
           0,
           0,
           0,
           0,
           0,
           0,
           0,
           0,
           0,
           0,
           0,
           0,
           0,
           0,
           0,
           0,
           0,
           0,
           0,
           0,
           0,
           0,
           0,
           0,
           0,
           0,
           0,
           -1,
           -1,
           0,
           0,
           0,
           0,
           -1,
           0,
           -1,
           0,
           0,
           0,
           0,
           -1,
           0,
           -1,
           -1,
           0,
           0,
           0,
           0,
           -1,
           0,
           0,
           0,
           0,
           0,
           0,
           0,
           0,
           0,
           0,
           0,
           0,
           0,
           0,
           0,
           0,
           0,
           0,
           0,
           0,
           0,
           0,
           0,
           0,
           0,
           0,
           0,
           -1,
           0,
           0,
           0,
           -1,
           0,
           -1,
           -1,
           0,
           0,
           -1,
           0,
           0,
           0,
           0,
           0,
           0,
           0,
           0,
           0,
           0,
           0,
           0,
           0,
           0,
           0,
           0,
           -1,
           0,
           0,
           0,
           0,
           0,
           0,
           0,
           -1,
           -1,
           0,
           0,
           0,
           0,
           0,
           -1,
           0,
           0,
           0,
           0,
           0,
           0,
           0,
           0,
           0,
           0,
           0,
           0,
           0,
           0,
           -1,
           0,
           0,
           0,
           0,
           0,
           0,
           -1,
           0,
           0,
           0,
           0,
           0,
           0,
           0,
           0,
           0,
           0,
           0,
           0,
           0,
           0,
           0,
           0,
           0,
           0,
           0,
           -1,
           0,
           0,
           0,
           -1,
           0,
           0,
           0,
           0,
           0,
           0,
           0,
           0,
           0,
           0,
           0,
           0,
           0,
           0,
           0,
           0,
           0,
           0,
           0,
           0,
           0,
           0,
           0,
           0,
           0,
           0,
           0,
           0,
           0,
           0,
           0,
           0,
           0,
           0,
           0,
           0,
           0,
           -1,
           -1,
           0,
           0,
           0,
           0,
           0,
           0,
           0,
           0,
           0,
           0,
           0,
           0,
           0,
           0,
           0,
           0,
           0,
           0,
           0,
           0,
           0,
           0,
           0,
           0,
           0,
           0,
           0,
           0,
           0,
           0,
           0,
           0,
           0,
           0,
           0,
           0,
           0,
           0,
           0,
           -1,
           0,
           0,
           0,
           0,
           0,
           0,
           0,
           0,
           0,
           0,
           0,
           0,
           0,
           0,
           0,
           0,
           -1,
           0,
           0,
           0,
           0,
           0,
           0,
           0,
           0,
           0,
           0,
           0,
           0,
           0,
           0,
           -1,
           0,
           0,
           0,
           0,
           0,
           0,
           0,
           0,
           0,
           0
          ],
          "coloraxis": "coloraxis",
          "symbol": "circle"
         },
         "mode": "markers",
         "name": "",
         "orientation": "v",
         "showlegend": false,
         "type": "scatter",
         "x": [
          -0.3508186445814046,
          -0.5639310289142907,
          -0.5876614889048775,
          -0.5823377224391548,
          -0.5607934377831532,
          0.4195720316235605,
          0.4072448737758711,
          -0.4113530731621215,
          -0.00399273331831062,
          -0.1852422563817428,
          -0.44739994890418283,
          -0.17321034471097554,
          -0.9863859016696982,
          0.363681409013939,
          0.5332508277656569,
          0.4280966465773618,
          1.0588501758287197,
          0.025247980120545525,
          0.23810740264577307,
          0.6865351171763053,
          0.2581063436168159,
          0.3715708207646612,
          -0.4131797356835435,
          -0.04785829771362803,
          -0.9827684239122897,
          0.3681831670016599,
          -0.2935365288623707,
          -1.1909481439518261,
          -1.1528255253136725,
          -0.7069147217330235,
          0.40055109920872667,
          0.00803215716421511,
          0.14911199452136348,
          -0.16737103147821697,
          0.760616799924241,
          -0.23008068388502226,
          -0.7678298340451299,
          -0.540115638809465,
          -0.6308503154771031,
          -0.8514860460990357,
          -0.6867705734521476,
          -0.2078070316297446,
          -0.7308828712104986,
          0.5838622089680124,
          0.23092709056774202,
          -0.25715838997259816,
          0.5912142380882366,
          0.45038843768797976,
          0.7458086225076698,
          0.6665341479810564,
          -0.3559651445471211,
          0.14544245797935162,
          0.16923801231755534,
          0.28649183156012964,
          0.49776358997416936,
          1.0061507020713225,
          -0.00044711259362545716,
          0.28586827885250043,
          0.25658402880596615,
          1.2550220032228516,
          0.12286107335774328,
          1.485896209569183,
          1.141757343619969,
          1.083056179238525,
          1.2308187941802846,
          1.398828328888598,
          1.3054235587132532,
          -0.6767646613072369,
          0.6750460519396514,
          1.370581465278255,
          1.2018852316157136,
          -0.2580847111797142,
          -0.011498460508768802,
          -0.8370263340387589,
          -0.6363564838589613,
          -0.42919282404945464,
          -1.1039702224687824,
          -0.1088711356058151,
          -0.4596040070615721,
          0.1418478816660463,
          0.21957884447651801,
          0.3554794976193818,
          -0.8742386278118172,
          -0.2746466637092127,
          1.1054992040219718,
          -1.2632478611888398,
          1.5367762704079522,
          2.0068280117827495,
          0.850062335137054,
          0.33944496228293397,
          0.19249504445578958,
          -1.3581558798511084,
          0.2434247873301313,
          0.5263964218229623,
          -0.4868238715600447,
          1.1886039499169794,
          1.312567480095893,
          1.5798144290432872,
          0.09562530830559078,
          0.10113773211496412,
          2.033076972324046,
          0.8053821545180139,
          0.637502907215228,
          1.0203277391689545,
          1.1081509796409459,
          1.2746332749915992,
          1.0753569684035553,
          1.7049819492724492,
          1.6587035438150557,
          1.7295177415265623,
          0.5214983885075135,
          1.3702205937067362,
          1.518749873805489,
          2.1729248712419267,
          2.5854778650398846,
          2.411180428395736,
          2.1166243572495915,
          2.0214316278135502,
          1.8271443317174267,
          1.7146476778873738,
          2.0310988554007685,
          2.2173494244528684,
          2.184350145824153,
          1.5947485452960408,
          1.0679977016528681,
          0.8413104680994339,
          1.9202053051499042,
          1.8312001793279702,
          2.0139938593698643,
          1.3205121461089913,
          0.8282043651674835,
          1.2256783451926239,
          1.3358151046978437,
          -0.9688877415976315,
          0.26608200929683606,
          0.4664951006725747,
          -0.0563240048251054,
          -0.0559120157718613,
          1.1399716405498577,
          0.5358927796322845,
          0.018958766203575374,
          -0.24741988762852457,
          -0.5776044130063319,
          0.6475878617948905,
          -0.9100792974452094,
          0.49081208825788125,
          0.3298476395279003,
          -0.007475294677475479,
          -0.489846855978679,
          -0.8491853143573168,
          -0.7011129372532078,
          -0.05347780212672248,
          -0.0011183823042832202,
          -0.5655651342350086,
          -0.6620259718207827,
          -0.9227863531495146,
          -0.6622952480314663,
          -0.4782287610370813,
          -0.5932215055392788,
          0.12014236348877132,
          0.6903330209670598,
          -0.8426881627710046,
          -0.6917978730477802,
          -0.6781299724263031,
          0.1602732904474833,
          -0.6133650035392196,
          -0.6949704672974494,
          -0.9075944177318687,
          -0.8786928400558157,
          -0.9058658749968183,
          -0.31613938719436746,
          -1.4063256915973272,
          -1.3803818930202079,
          0.2625615034769143,
          -0.8470754546783491,
          -1.1030175239198672,
          -1.2002009601984962,
          -1.1015107582333754,
          -0.25448883335801076,
          -1.3268121966813606,
          0.21320098873326973,
          -0.6498069261405497,
          -0.9346574497489317,
          -0.23027783265072188,
          -0.5611158720424748,
          -0.6718621245174528,
          0.9811493906055307,
          -0.8636997616209908,
          -0.6227009894166133,
          0.26969388609522693,
          -1.2974700268568877,
          -0.7689427359366564,
          -1.1308155565904985,
          -1.1858237917313565,
          -1.1576084927470962,
          0.12712467464253588,
          0.6706059789697033,
          -0.3921416370294183,
          -0.11598044718702563,
          -0.23151664766119667,
          -0.7816102873703236,
          -0.7653708834373745,
          -0.5609480660210393,
          -1.2245683886515315,
          -1.2528323446207357,
          -0.04827769016556094,
          -0.620381709756415,
          -1.3179427171238245,
          -1.020448678856538,
          -1.122767828461264,
          -1.295461906008073,
          -0.2150777897030298,
          -1.0690715515230613,
          -0.6521075215103971,
          -0.7687037917119958,
          -1.1341499985115364,
          -1.206294094750507,
          -1.1419834961733435,
          0.15924292373346194,
          -1.0338737764714179,
          -0.9671029081402572,
          0.7301776776959528,
          0.22630807645404594,
          -0.03217868737816261,
          -0.8246874406681577,
          -0.0665121498396239,
          -0.525452729661283,
          -1.163670997184323,
          -1.0990419409084324,
          -0.871028416180363,
          -0.9839363695459624,
          -0.7071642819921274,
          -0.9649538646384597,
          -0.07938786382715807,
          -0.6511732443827587,
          -1.0495691285147353,
          -1.216907719249716,
          -1.0202686457871843,
          -1.245096243526878,
          -0.8051863963938097,
          -1.4079974175266863,
          -1.238577998585358,
          -1.1597420643057776,
          -0.49885995427398205,
          -1.2294098096570147,
          -1.3473762262692497,
          -0.9893474027848611,
          1.324644655674268,
          2.236559940687958,
          2.300220738929092,
          2.5447691037266145,
          -1.3290802025585322,
          -1.0339295771544759,
          -0.3646263998858898,
          -0.9210480898797002,
          -1.0528999459414,
          -0.7465386837494035,
          -1.3310648253509125,
          -0.15504914093148417,
          -0.17437782760361567,
          -0.2603429111629848,
          -0.8277771276090602,
          -0.5418252456462207,
          0.6086703948875171,
          -0.5988433486407282,
          -0.9028097234226942,
          -0.9592914666868012,
          0.22142476650741127,
          0.7932088658321987,
          0.5636494338661097,
          0.41197956731334534,
          1.826830708628797,
          0.31242812323741953,
          1.902649433624108,
          1.620881829702091,
          1.2518535611471007,
          2.144068931719886,
          0.43127983098330536,
          -0.326669105779434,
          1.1600755290161804,
          0.6320233562856604,
          0.7899229468245065,
          0.21091418080767607,
          0.7684640830904039,
          -1.2050179821235905,
          -1.003315446220766,
          -1.300336769491636,
          -1.2169871538010222,
          -1.4762498697303896,
          0.2818455182041284,
          -0.9236872137307428,
          -1.2034142443186877,
          -1.3539329811844136,
          -0.5113520614681136,
          -0.8684685964407897,
          -0.6600211472717245,
          0.02387224500841111,
          -0.10249542394847518,
          -0.5073132666040002,
          0.5206042476056767,
          0.15663991940049013,
          1.9189992338794515,
          -0.5326400765665911,
          -0.8536336765878905,
          0.23333215288286902,
          -0.6440736946026615
         ],
         "xaxis": "x",
         "y": [
          0.7099961857978953,
          0.42702553658784737,
          0.32532461799333984,
          -0.30751240895039944,
          -0.13734036816883838,
          0.31128851737849844,
          0.729962167893389,
          -0.0005735189402775898,
          0.8184393245280276,
          1.117196888341552,
          0.6623167014430784,
          0.5818759175510941,
          -0.5755506430210526,
          0.7595512721812351,
          1.0919717029401952,
          0.9287727424286327,
          0.647167399836963,
          1.1481584414274244,
          1.0538483156137948,
          1.068173947937826,
          0.8958960717525997,
          0.5678691445652688,
          0.4174137788963033,
          0.7527314614167181,
          -0.32417865836517257,
          1.2685351012786688,
          1.1329563580483628,
          -0.6309878142198015,
          -0.5784391528625124,
          -0.04627264220648031,
          1.0451683016282647,
          0.6363022232065211,
          0.6090535964371065,
          0.3389705573491687,
          -0.07876016749848436,
          -0.005161321019689319,
          -0.16245932754008796,
          -0.015756191193797463,
          0.19443560793123194,
          -0.094922033919062,
          0.4528492287184965,
          1.1992796693159886,
          0.28812500403641145,
          1.3827214876209564,
          1.112825496480182,
          0.820319273071483,
          -0.19017580106885862,
          -0.07244448877381379,
          0.4750518811453017,
          -0.6854025144338283,
          0.20702474930218934,
          0.1518140456897288,
          -0.05401545573946639,
          0.15929102424296657,
          0.3937351519692185,
          1.014706623198994,
          0.6371969911009774,
          0.1750033851741816,
          -0.6006650204085802,
          -0.0792124573390606,
          1.512070916552906,
          -0.6427866590478051,
          -0.03307075643171754,
          0.5274321350929281,
          -0.45485297270854297,
          -0.5564822170596899,
          -0.6115030808876163,
          -0.30479187981488526,
          -0.3098013915666279,
          -0.4457154428997717,
          -0.698679628353853,
          0.6013513192758371,
          1.0639967642006818,
          0.23703389905433955,
          0.6299565866915858,
          0.8345022141548945,
          -0.4323407360986679,
          -0.36112213785851976,
          0.5276588766709592,
          -0.07191032684639224,
          0.4567759882447646,
          -0.24191454883831306,
          0.1428429389318786,
          0.39866159386906896,
          0.029551102791049888,
          -0.6860368415335261,
          -0.2269403331648695,
          -0.5324958691880598,
          0.41247460087419985,
          0.6397017321322944,
          0.7167548034897423,
          -0.7968509799301254,
          0.4579173464816717,
          0.6929268513292324,
          0.3027252421361952,
          -0.5018055971078058,
          -0.9262446362631672,
          -0.7089125244246054,
          -0.09250520902190804,
          -0.24347082832148273,
          -0.5011749815040876,
          0.2769417524742287,
          0.6594733357560907,
          0.1464652696809386,
          0.17980367632117927,
          0.2876728571762101,
          0.24207094960578387,
          -0.47685645775978125,
          -0.4641342832744238,
          -0.6242657785803362,
          -0.35839496694913836,
          -0.6697201639582336,
          -0.5934551819218801,
          -0.6776601586832687,
          -0.772206603265197,
          -0.8256034226699906,
          -0.6034916443139994,
          -0.6959188228222942,
          -0.6506881292737736,
          -0.730610566802647,
          -0.7118028645644151,
          -0.5537360443743592,
          -0.7516917933008144,
          -1.0413224864771373,
          -0.2888912128532489,
          0.16165561715961727,
          -0.6301647136546636,
          -0.5457559028477338,
          -0.7375472316736065,
          -0.30382668918844896,
          0.14392662023758906,
          0.4029023478736755,
          0.11923488393747818,
          -0.3931448013405179,
          0.47116303960960504,
          -0.3057199867825617,
          0.19033436901269668,
          0.3672353828015206,
          -0.11915816433922534,
          -0.22949644038607933,
          0.0005381922934969265,
          0.4014541076202302,
          0.011226333971447174,
          0.15316753403502015,
          -0.17839685429915678,
          0.1162964727268741,
          0.6132218639995656,
          0.7440426957254411,
          0.5514812675631249,
          0.2558900153292978,
          -0.41263591264996197,
          -0.24829956261552585,
          -0.08343938247417602,
          -0.20777470378370455,
          -0.24080633807485974,
          -0.3134496109536108,
          0.26608327441236906,
          -0.029058638683316398,
          0.0671953806310761,
          0.7504319775030304,
          1.1239966883690784,
          -0.45781463258792676,
          0.34873035447720835,
          0.8756141158887747,
          0.9258608099918605,
          0.4841868261378967,
          0.7141823455552794,
          -0.03732354018898182,
          0.28878723343162016,
          0.15719818315722064,
          0.7973884178965798,
          -0.7660432689583268,
          -0.84400657794849,
          -0.45947960809374516,
          -0.3345165522557174,
          -0.6649776248286672,
          -0.6363778850046428,
          -0.5993592194355751,
          -0.18919715662760342,
          -0.7691383038182813,
          0.04053435533132516,
          0.21657270370862602,
          -0.014942354878290992,
          0.9030285565753604,
          -0.4266317392588027,
          0.15182338797892395,
          -0.19851912578326078,
          0.054602340636070716,
          0.4071145704787819,
          0.4220990016103621,
          -0.7460484006509379,
          -0.37416817643363576,
          -0.6372097375723659,
          -0.5063493452642951,
          -0.09239144822483929,
          0.8850748108824067,
          -0.3774211773239248,
          0.11439303192748623,
          0.21840717600576146,
          0.41308681848561374,
          -0.156487389434147,
          -0.21246162342132058,
          0.35967154146760516,
          -0.6280362618690645,
          -0.6751485839668573,
          0.4564923562030079,
          0.46341219854131854,
          -0.6255699562303365,
          -0.14648385725392216,
          -0.529967500091482,
          -0.7969822771052225,
          0.2212198399904749,
          -0.35734431874142725,
          -0.490786380395956,
          -0.31872916446986554,
          -0.6918558834102606,
          -0.7082270021088811,
          -0.7238134790639272,
          0.12244694049215733,
          -0.3995158569063484,
          -0.5271808752106215,
          0.6167487204970656,
          1.3015349678754837,
          1.3070266362899396,
          -0.11326696955333448,
          0.03762840489926836,
          0.4637935227601997,
          -0.3581647071056107,
          -0.7534000614183912,
          -0.32871859328507014,
          -0.2747903697084202,
          -0.1782478319197431,
          -0.5058423435176054,
          0.28564173412763133,
          0.22065552600422933,
          -0.6473159610252815,
          -0.6069361767018229,
          -0.6298085539721407,
          -0.7732732549216,
          -0.4923166757282111,
          -0.6975829899400697,
          -0.7388955697842149,
          -0.43264234556453635,
          0.09749775065327997,
          -0.6339343049928898,
          -0.6640631227213608,
          -0.2201238450942663,
          -0.7406821537471711,
          -0.6143040266580025,
          -0.5698169156217819,
          -0.8756335115452012,
          -0.5141589243246582,
          -0.34764364588050745,
          0.44145008058227136,
          -0.31539811267161544,
          -0.6370741888817835,
          -0.19493915236414852,
          -0.7735155602581518,
          0.3156325537205879,
          1.0556241456946518,
          1.0440701043581253,
          0.32877861478383197,
          0.3164185453548597,
          1.1615210253233557,
          0.04553512632354633,
          -0.2433147074464451,
          -0.3581664229481636,
          0.9437433574201339,
          1.1007774491822322,
          1.0107234027065128,
          0.9274899088166828,
          -0.7662581492563958,
          -0.7871634414585786,
          -0.5293459180136509,
          -0.6432404647199428,
          -0.581318473331517,
          -0.6916550585341287,
          -0.21108386707704713,
          0.04222803626490735,
          -0.6624768970250287,
          -0.36007697929215565,
          0.5369447952766742,
          0.9916844193676572,
          -0.5361063431814365,
          -0.5855287098767852,
          -0.4008160716345416,
          -0.7611554973033743,
          -0.6659259100919337,
          -0.802516056383197,
          0.04535682741649859,
          -0.28061484381918506,
          -0.6098813595061421,
          -0.8132859063928752,
          -0.1951940050040877,
          -0.33410450200889125,
          0.7126277842603084,
          0.16591497309967654,
          0.3509629701820568,
          1.0256786577294228,
          1.0272833710267137,
          0.9212705727252719,
          -0.71638376743169,
          -0.3934942048076385,
          -0.3503235301888743,
          -0.019981995927691884,
          0.06001570368658886
         ],
         "yaxis": "y"
        }
       ],
       "layout": {
        "coloraxis": {
         "colorbar": {
          "title": {
           "text": "cluster"
          }
         },
         "colorscale": [
          [
           0,
           "#0d0887"
          ],
          [
           0.1111111111111111,
           "#46039f"
          ],
          [
           0.2222222222222222,
           "#7201a8"
          ],
          [
           0.3333333333333333,
           "#9c179e"
          ],
          [
           0.4444444444444444,
           "#bd3786"
          ],
          [
           0.5555555555555556,
           "#d8576b"
          ],
          [
           0.6666666666666666,
           "#ed7953"
          ],
          [
           0.7777777777777778,
           "#fb9f3a"
          ],
          [
           0.8888888888888888,
           "#fdca26"
          ],
          [
           1,
           "#f0f921"
          ]
         ]
        },
        "legend": {
         "tracegroupgap": 0
        },
        "margin": {
         "t": 60
        },
        "template": {
         "data": {
          "bar": [
           {
            "error_x": {
             "color": "#2a3f5f"
            },
            "error_y": {
             "color": "#2a3f5f"
            },
            "marker": {
             "line": {
              "color": "#E5ECF6",
              "width": 0.5
             },
             "pattern": {
              "fillmode": "overlay",
              "size": 10,
              "solidity": 0.2
             }
            },
            "type": "bar"
           }
          ],
          "barpolar": [
           {
            "marker": {
             "line": {
              "color": "#E5ECF6",
              "width": 0.5
             },
             "pattern": {
              "fillmode": "overlay",
              "size": 10,
              "solidity": 0.2
             }
            },
            "type": "barpolar"
           }
          ],
          "carpet": [
           {
            "aaxis": {
             "endlinecolor": "#2a3f5f",
             "gridcolor": "white",
             "linecolor": "white",
             "minorgridcolor": "white",
             "startlinecolor": "#2a3f5f"
            },
            "baxis": {
             "endlinecolor": "#2a3f5f",
             "gridcolor": "white",
             "linecolor": "white",
             "minorgridcolor": "white",
             "startlinecolor": "#2a3f5f"
            },
            "type": "carpet"
           }
          ],
          "choropleth": [
           {
            "colorbar": {
             "outlinewidth": 0,
             "ticks": ""
            },
            "type": "choropleth"
           }
          ],
          "contour": [
           {
            "colorbar": {
             "outlinewidth": 0,
             "ticks": ""
            },
            "colorscale": [
             [
              0,
              "#0d0887"
             ],
             [
              0.1111111111111111,
              "#46039f"
             ],
             [
              0.2222222222222222,
              "#7201a8"
             ],
             [
              0.3333333333333333,
              "#9c179e"
             ],
             [
              0.4444444444444444,
              "#bd3786"
             ],
             [
              0.5555555555555556,
              "#d8576b"
             ],
             [
              0.6666666666666666,
              "#ed7953"
             ],
             [
              0.7777777777777778,
              "#fb9f3a"
             ],
             [
              0.8888888888888888,
              "#fdca26"
             ],
             [
              1,
              "#f0f921"
             ]
            ],
            "type": "contour"
           }
          ],
          "contourcarpet": [
           {
            "colorbar": {
             "outlinewidth": 0,
             "ticks": ""
            },
            "type": "contourcarpet"
           }
          ],
          "heatmap": [
           {
            "colorbar": {
             "outlinewidth": 0,
             "ticks": ""
            },
            "colorscale": [
             [
              0,
              "#0d0887"
             ],
             [
              0.1111111111111111,
              "#46039f"
             ],
             [
              0.2222222222222222,
              "#7201a8"
             ],
             [
              0.3333333333333333,
              "#9c179e"
             ],
             [
              0.4444444444444444,
              "#bd3786"
             ],
             [
              0.5555555555555556,
              "#d8576b"
             ],
             [
              0.6666666666666666,
              "#ed7953"
             ],
             [
              0.7777777777777778,
              "#fb9f3a"
             ],
             [
              0.8888888888888888,
              "#fdca26"
             ],
             [
              1,
              "#f0f921"
             ]
            ],
            "type": "heatmap"
           }
          ],
          "heatmapgl": [
           {
            "colorbar": {
             "outlinewidth": 0,
             "ticks": ""
            },
            "colorscale": [
             [
              0,
              "#0d0887"
             ],
             [
              0.1111111111111111,
              "#46039f"
             ],
             [
              0.2222222222222222,
              "#7201a8"
             ],
             [
              0.3333333333333333,
              "#9c179e"
             ],
             [
              0.4444444444444444,
              "#bd3786"
             ],
             [
              0.5555555555555556,
              "#d8576b"
             ],
             [
              0.6666666666666666,
              "#ed7953"
             ],
             [
              0.7777777777777778,
              "#fb9f3a"
             ],
             [
              0.8888888888888888,
              "#fdca26"
             ],
             [
              1,
              "#f0f921"
             ]
            ],
            "type": "heatmapgl"
           }
          ],
          "histogram": [
           {
            "marker": {
             "pattern": {
              "fillmode": "overlay",
              "size": 10,
              "solidity": 0.2
             }
            },
            "type": "histogram"
           }
          ],
          "histogram2d": [
           {
            "colorbar": {
             "outlinewidth": 0,
             "ticks": ""
            },
            "colorscale": [
             [
              0,
              "#0d0887"
             ],
             [
              0.1111111111111111,
              "#46039f"
             ],
             [
              0.2222222222222222,
              "#7201a8"
             ],
             [
              0.3333333333333333,
              "#9c179e"
             ],
             [
              0.4444444444444444,
              "#bd3786"
             ],
             [
              0.5555555555555556,
              "#d8576b"
             ],
             [
              0.6666666666666666,
              "#ed7953"
             ],
             [
              0.7777777777777778,
              "#fb9f3a"
             ],
             [
              0.8888888888888888,
              "#fdca26"
             ],
             [
              1,
              "#f0f921"
             ]
            ],
            "type": "histogram2d"
           }
          ],
          "histogram2dcontour": [
           {
            "colorbar": {
             "outlinewidth": 0,
             "ticks": ""
            },
            "colorscale": [
             [
              0,
              "#0d0887"
             ],
             [
              0.1111111111111111,
              "#46039f"
             ],
             [
              0.2222222222222222,
              "#7201a8"
             ],
             [
              0.3333333333333333,
              "#9c179e"
             ],
             [
              0.4444444444444444,
              "#bd3786"
             ],
             [
              0.5555555555555556,
              "#d8576b"
             ],
             [
              0.6666666666666666,
              "#ed7953"
             ],
             [
              0.7777777777777778,
              "#fb9f3a"
             ],
             [
              0.8888888888888888,
              "#fdca26"
             ],
             [
              1,
              "#f0f921"
             ]
            ],
            "type": "histogram2dcontour"
           }
          ],
          "mesh3d": [
           {
            "colorbar": {
             "outlinewidth": 0,
             "ticks": ""
            },
            "type": "mesh3d"
           }
          ],
          "parcoords": [
           {
            "line": {
             "colorbar": {
              "outlinewidth": 0,
              "ticks": ""
             }
            },
            "type": "parcoords"
           }
          ],
          "pie": [
           {
            "automargin": true,
            "type": "pie"
           }
          ],
          "scatter": [
           {
            "fillpattern": {
             "fillmode": "overlay",
             "size": 10,
             "solidity": 0.2
            },
            "type": "scatter"
           }
          ],
          "scatter3d": [
           {
            "line": {
             "colorbar": {
              "outlinewidth": 0,
              "ticks": ""
             }
            },
            "marker": {
             "colorbar": {
              "outlinewidth": 0,
              "ticks": ""
             }
            },
            "type": "scatter3d"
           }
          ],
          "scattercarpet": [
           {
            "marker": {
             "colorbar": {
              "outlinewidth": 0,
              "ticks": ""
             }
            },
            "type": "scattercarpet"
           }
          ],
          "scattergeo": [
           {
            "marker": {
             "colorbar": {
              "outlinewidth": 0,
              "ticks": ""
             }
            },
            "type": "scattergeo"
           }
          ],
          "scattergl": [
           {
            "marker": {
             "colorbar": {
              "outlinewidth": 0,
              "ticks": ""
             }
            },
            "type": "scattergl"
           }
          ],
          "scattermapbox": [
           {
            "marker": {
             "colorbar": {
              "outlinewidth": 0,
              "ticks": ""
             }
            },
            "type": "scattermapbox"
           }
          ],
          "scatterpolar": [
           {
            "marker": {
             "colorbar": {
              "outlinewidth": 0,
              "ticks": ""
             }
            },
            "type": "scatterpolar"
           }
          ],
          "scatterpolargl": [
           {
            "marker": {
             "colorbar": {
              "outlinewidth": 0,
              "ticks": ""
             }
            },
            "type": "scatterpolargl"
           }
          ],
          "scatterternary": [
           {
            "marker": {
             "colorbar": {
              "outlinewidth": 0,
              "ticks": ""
             }
            },
            "type": "scatterternary"
           }
          ],
          "surface": [
           {
            "colorbar": {
             "outlinewidth": 0,
             "ticks": ""
            },
            "colorscale": [
             [
              0,
              "#0d0887"
             ],
             [
              0.1111111111111111,
              "#46039f"
             ],
             [
              0.2222222222222222,
              "#7201a8"
             ],
             [
              0.3333333333333333,
              "#9c179e"
             ],
             [
              0.4444444444444444,
              "#bd3786"
             ],
             [
              0.5555555555555556,
              "#d8576b"
             ],
             [
              0.6666666666666666,
              "#ed7953"
             ],
             [
              0.7777777777777778,
              "#fb9f3a"
             ],
             [
              0.8888888888888888,
              "#fdca26"
             ],
             [
              1,
              "#f0f921"
             ]
            ],
            "type": "surface"
           }
          ],
          "table": [
           {
            "cells": {
             "fill": {
              "color": "#EBF0F8"
             },
             "line": {
              "color": "white"
             }
            },
            "header": {
             "fill": {
              "color": "#C8D4E3"
             },
             "line": {
              "color": "white"
             }
            },
            "type": "table"
           }
          ]
         },
         "layout": {
          "annotationdefaults": {
           "arrowcolor": "#2a3f5f",
           "arrowhead": 0,
           "arrowwidth": 1
          },
          "autotypenumbers": "strict",
          "coloraxis": {
           "colorbar": {
            "outlinewidth": 0,
            "ticks": ""
           }
          },
          "colorscale": {
           "diverging": [
            [
             0,
             "#8e0152"
            ],
            [
             0.1,
             "#c51b7d"
            ],
            [
             0.2,
             "#de77ae"
            ],
            [
             0.3,
             "#f1b6da"
            ],
            [
             0.4,
             "#fde0ef"
            ],
            [
             0.5,
             "#f7f7f7"
            ],
            [
             0.6,
             "#e6f5d0"
            ],
            [
             0.7,
             "#b8e186"
            ],
            [
             0.8,
             "#7fbc41"
            ],
            [
             0.9,
             "#4d9221"
            ],
            [
             1,
             "#276419"
            ]
           ],
           "sequential": [
            [
             0,
             "#0d0887"
            ],
            [
             0.1111111111111111,
             "#46039f"
            ],
            [
             0.2222222222222222,
             "#7201a8"
            ],
            [
             0.3333333333333333,
             "#9c179e"
            ],
            [
             0.4444444444444444,
             "#bd3786"
            ],
            [
             0.5555555555555556,
             "#d8576b"
            ],
            [
             0.6666666666666666,
             "#ed7953"
            ],
            [
             0.7777777777777778,
             "#fb9f3a"
            ],
            [
             0.8888888888888888,
             "#fdca26"
            ],
            [
             1,
             "#f0f921"
            ]
           ],
           "sequentialminus": [
            [
             0,
             "#0d0887"
            ],
            [
             0.1111111111111111,
             "#46039f"
            ],
            [
             0.2222222222222222,
             "#7201a8"
            ],
            [
             0.3333333333333333,
             "#9c179e"
            ],
            [
             0.4444444444444444,
             "#bd3786"
            ],
            [
             0.5555555555555556,
             "#d8576b"
            ],
            [
             0.6666666666666666,
             "#ed7953"
            ],
            [
             0.7777777777777778,
             "#fb9f3a"
            ],
            [
             0.8888888888888888,
             "#fdca26"
            ],
            [
             1,
             "#f0f921"
            ]
           ]
          },
          "colorway": [
           "#636efa",
           "#EF553B",
           "#00cc96",
           "#ab63fa",
           "#FFA15A",
           "#19d3f3",
           "#FF6692",
           "#B6E880",
           "#FF97FF",
           "#FECB52"
          ],
          "font": {
           "color": "#2a3f5f"
          },
          "geo": {
           "bgcolor": "white",
           "lakecolor": "white",
           "landcolor": "#E5ECF6",
           "showlakes": true,
           "showland": true,
           "subunitcolor": "white"
          },
          "hoverlabel": {
           "align": "left"
          },
          "hovermode": "closest",
          "mapbox": {
           "style": "light"
          },
          "paper_bgcolor": "white",
          "plot_bgcolor": "#E5ECF6",
          "polar": {
           "angularaxis": {
            "gridcolor": "white",
            "linecolor": "white",
            "ticks": ""
           },
           "bgcolor": "#E5ECF6",
           "radialaxis": {
            "gridcolor": "white",
            "linecolor": "white",
            "ticks": ""
           }
          },
          "scene": {
           "xaxis": {
            "backgroundcolor": "#E5ECF6",
            "gridcolor": "white",
            "gridwidth": 2,
            "linecolor": "white",
            "showbackground": true,
            "ticks": "",
            "zerolinecolor": "white"
           },
           "yaxis": {
            "backgroundcolor": "#E5ECF6",
            "gridcolor": "white",
            "gridwidth": 2,
            "linecolor": "white",
            "showbackground": true,
            "ticks": "",
            "zerolinecolor": "white"
           },
           "zaxis": {
            "backgroundcolor": "#E5ECF6",
            "gridcolor": "white",
            "gridwidth": 2,
            "linecolor": "white",
            "showbackground": true,
            "ticks": "",
            "zerolinecolor": "white"
           }
          },
          "shapedefaults": {
           "line": {
            "color": "#2a3f5f"
           }
          },
          "ternary": {
           "aaxis": {
            "gridcolor": "white",
            "linecolor": "white",
            "ticks": ""
           },
           "baxis": {
            "gridcolor": "white",
            "linecolor": "white",
            "ticks": ""
           },
           "bgcolor": "#E5ECF6",
           "caxis": {
            "gridcolor": "white",
            "linecolor": "white",
            "ticks": ""
           }
          },
          "title": {
           "x": 0.05
          },
          "xaxis": {
           "automargin": true,
           "gridcolor": "white",
           "linecolor": "white",
           "ticks": "",
           "title": {
            "standoff": 15
           },
           "zerolinecolor": "white",
           "zerolinewidth": 2
          },
          "yaxis": {
           "automargin": true,
           "gridcolor": "white",
           "linecolor": "white",
           "ticks": "",
           "title": {
            "standoff": 15
           },
           "zerolinecolor": "white",
           "zerolinewidth": 2
          }
         }
        },
        "xaxis": {
         "anchor": "y",
         "domain": [
          0,
          1
         ],
         "title": {
          "text": "PC1"
         }
        },
        "yaxis": {
         "anchor": "x",
         "domain": [
          0,
          1
         ],
         "title": {
          "text": "PC2"
         }
        }
       }
      }
     },
     "metadata": {},
     "output_type": "display_data"
    },
    {
     "name": "stdout",
     "output_type": "stream",
     "text": [
      "eps:0.6\n",
      "min:9\n",
      "2\n"
     ]
    },
    {
     "data": {
      "application/vnd.plotly.v1+json": {
       "config": {
        "plotlyServerURL": "https://plot.ly"
       },
       "data": [
        {
         "hovertemplate": "PC1=%{x}<br>PC2=%{y}<br>cluster=%{marker.color}<extra></extra>",
         "legendgroup": "",
         "marker": {
          "color": [
           0,
           0,
           0,
           0,
           0,
           -1,
           0,
           0,
           0,
           0,
           0,
           0,
           0,
           0,
           0,
           0,
           -1,
           0,
           0,
           0,
           0,
           0,
           0,
           0,
           0,
           0,
           0,
           0,
           0,
           0,
           0,
           0,
           0,
           0,
           0,
           0,
           0,
           0,
           0,
           0,
           0,
           0,
           0,
           0,
           0,
           0,
           0,
           -1,
           -1,
           0,
           0,
           0,
           0,
           -1,
           0,
           -1,
           0,
           0,
           0,
           0,
           -1,
           0,
           -1,
           -1,
           0,
           0,
           0,
           0,
           -1,
           0,
           0,
           0,
           0,
           0,
           0,
           0,
           0,
           0,
           0,
           -1,
           0,
           0,
           0,
           0,
           0,
           0,
           0,
           0,
           0,
           0,
           0,
           0,
           0,
           0,
           0,
           0,
           -1,
           0,
           0,
           0,
           -1,
           0,
           -1,
           -1,
           0,
           0,
           -1,
           0,
           0,
           0,
           0,
           0,
           0,
           0,
           0,
           0,
           0,
           0,
           0,
           0,
           0,
           -1,
           0,
           -1,
           0,
           0,
           0,
           0,
           0,
           0,
           0,
           -1,
           -1,
           0,
           0,
           0,
           0,
           0,
           -1,
           0,
           0,
           0,
           0,
           0,
           0,
           0,
           0,
           0,
           0,
           0,
           0,
           0,
           0,
           -1,
           0,
           0,
           0,
           0,
           0,
           0,
           -1,
           0,
           0,
           0,
           0,
           0,
           0,
           0,
           0,
           0,
           0,
           0,
           0,
           0,
           0,
           0,
           0,
           0,
           0,
           0,
           -1,
           0,
           0,
           0,
           -1,
           0,
           0,
           0,
           0,
           0,
           0,
           0,
           0,
           0,
           0,
           0,
           0,
           0,
           0,
           0,
           0,
           0,
           0,
           0,
           0,
           0,
           0,
           0,
           0,
           0,
           0,
           0,
           0,
           0,
           0,
           0,
           0,
           0,
           0,
           0,
           0,
           0,
           -1,
           -1,
           0,
           0,
           0,
           0,
           0,
           0,
           0,
           0,
           0,
           0,
           0,
           0,
           0,
           0,
           0,
           0,
           0,
           0,
           0,
           0,
           0,
           0,
           0,
           0,
           0,
           0,
           0,
           0,
           0,
           0,
           0,
           0,
           0,
           0,
           0,
           -1,
           0,
           0,
           0,
           -1,
           0,
           0,
           0,
           0,
           0,
           0,
           0,
           0,
           0,
           0,
           0,
           0,
           0,
           0,
           0,
           0,
           -1,
           0,
           0,
           0,
           0,
           0,
           0,
           0,
           0,
           0,
           0,
           0,
           0,
           0,
           0,
           -1,
           0,
           0,
           0,
           0,
           0,
           0,
           0,
           0,
           0,
           0
          ],
          "coloraxis": "coloraxis",
          "symbol": "circle"
         },
         "mode": "markers",
         "name": "",
         "orientation": "v",
         "showlegend": false,
         "type": "scatter",
         "x": [
          -0.3508186445814046,
          -0.5639310289142907,
          -0.5876614889048775,
          -0.5823377224391548,
          -0.5607934377831532,
          0.4195720316235605,
          0.4072448737758711,
          -0.4113530731621215,
          -0.00399273331831062,
          -0.1852422563817428,
          -0.44739994890418283,
          -0.17321034471097554,
          -0.9863859016696982,
          0.363681409013939,
          0.5332508277656569,
          0.4280966465773618,
          1.0588501758287197,
          0.025247980120545525,
          0.23810740264577307,
          0.6865351171763053,
          0.2581063436168159,
          0.3715708207646612,
          -0.4131797356835435,
          -0.04785829771362803,
          -0.9827684239122897,
          0.3681831670016599,
          -0.2935365288623707,
          -1.1909481439518261,
          -1.1528255253136725,
          -0.7069147217330235,
          0.40055109920872667,
          0.00803215716421511,
          0.14911199452136348,
          -0.16737103147821697,
          0.760616799924241,
          -0.23008068388502226,
          -0.7678298340451299,
          -0.540115638809465,
          -0.6308503154771031,
          -0.8514860460990357,
          -0.6867705734521476,
          -0.2078070316297446,
          -0.7308828712104986,
          0.5838622089680124,
          0.23092709056774202,
          -0.25715838997259816,
          0.5912142380882366,
          0.45038843768797976,
          0.7458086225076698,
          0.6665341479810564,
          -0.3559651445471211,
          0.14544245797935162,
          0.16923801231755534,
          0.28649183156012964,
          0.49776358997416936,
          1.0061507020713225,
          -0.00044711259362545716,
          0.28586827885250043,
          0.25658402880596615,
          1.2550220032228516,
          0.12286107335774328,
          1.485896209569183,
          1.141757343619969,
          1.083056179238525,
          1.2308187941802846,
          1.398828328888598,
          1.3054235587132532,
          -0.6767646613072369,
          0.6750460519396514,
          1.370581465278255,
          1.2018852316157136,
          -0.2580847111797142,
          -0.011498460508768802,
          -0.8370263340387589,
          -0.6363564838589613,
          -0.42919282404945464,
          -1.1039702224687824,
          -0.1088711356058151,
          -0.4596040070615721,
          0.1418478816660463,
          0.21957884447651801,
          0.3554794976193818,
          -0.8742386278118172,
          -0.2746466637092127,
          1.1054992040219718,
          -1.2632478611888398,
          1.5367762704079522,
          2.0068280117827495,
          0.850062335137054,
          0.33944496228293397,
          0.19249504445578958,
          -1.3581558798511084,
          0.2434247873301313,
          0.5263964218229623,
          -0.4868238715600447,
          1.1886039499169794,
          1.312567480095893,
          1.5798144290432872,
          0.09562530830559078,
          0.10113773211496412,
          2.033076972324046,
          0.8053821545180139,
          0.637502907215228,
          1.0203277391689545,
          1.1081509796409459,
          1.2746332749915992,
          1.0753569684035553,
          1.7049819492724492,
          1.6587035438150557,
          1.7295177415265623,
          0.5214983885075135,
          1.3702205937067362,
          1.518749873805489,
          2.1729248712419267,
          2.5854778650398846,
          2.411180428395736,
          2.1166243572495915,
          2.0214316278135502,
          1.8271443317174267,
          1.7146476778873738,
          2.0310988554007685,
          2.2173494244528684,
          2.184350145824153,
          1.5947485452960408,
          1.0679977016528681,
          0.8413104680994339,
          1.9202053051499042,
          1.8312001793279702,
          2.0139938593698643,
          1.3205121461089913,
          0.8282043651674835,
          1.2256783451926239,
          1.3358151046978437,
          -0.9688877415976315,
          0.26608200929683606,
          0.4664951006725747,
          -0.0563240048251054,
          -0.0559120157718613,
          1.1399716405498577,
          0.5358927796322845,
          0.018958766203575374,
          -0.24741988762852457,
          -0.5776044130063319,
          0.6475878617948905,
          -0.9100792974452094,
          0.49081208825788125,
          0.3298476395279003,
          -0.007475294677475479,
          -0.489846855978679,
          -0.8491853143573168,
          -0.7011129372532078,
          -0.05347780212672248,
          -0.0011183823042832202,
          -0.5655651342350086,
          -0.6620259718207827,
          -0.9227863531495146,
          -0.6622952480314663,
          -0.4782287610370813,
          -0.5932215055392788,
          0.12014236348877132,
          0.6903330209670598,
          -0.8426881627710046,
          -0.6917978730477802,
          -0.6781299724263031,
          0.1602732904474833,
          -0.6133650035392196,
          -0.6949704672974494,
          -0.9075944177318687,
          -0.8786928400558157,
          -0.9058658749968183,
          -0.31613938719436746,
          -1.4063256915973272,
          -1.3803818930202079,
          0.2625615034769143,
          -0.8470754546783491,
          -1.1030175239198672,
          -1.2002009601984962,
          -1.1015107582333754,
          -0.25448883335801076,
          -1.3268121966813606,
          0.21320098873326973,
          -0.6498069261405497,
          -0.9346574497489317,
          -0.23027783265072188,
          -0.5611158720424748,
          -0.6718621245174528,
          0.9811493906055307,
          -0.8636997616209908,
          -0.6227009894166133,
          0.26969388609522693,
          -1.2974700268568877,
          -0.7689427359366564,
          -1.1308155565904985,
          -1.1858237917313565,
          -1.1576084927470962,
          0.12712467464253588,
          0.6706059789697033,
          -0.3921416370294183,
          -0.11598044718702563,
          -0.23151664766119667,
          -0.7816102873703236,
          -0.7653708834373745,
          -0.5609480660210393,
          -1.2245683886515315,
          -1.2528323446207357,
          -0.04827769016556094,
          -0.620381709756415,
          -1.3179427171238245,
          -1.020448678856538,
          -1.122767828461264,
          -1.295461906008073,
          -0.2150777897030298,
          -1.0690715515230613,
          -0.6521075215103971,
          -0.7687037917119958,
          -1.1341499985115364,
          -1.206294094750507,
          -1.1419834961733435,
          0.15924292373346194,
          -1.0338737764714179,
          -0.9671029081402572,
          0.7301776776959528,
          0.22630807645404594,
          -0.03217868737816261,
          -0.8246874406681577,
          -0.0665121498396239,
          -0.525452729661283,
          -1.163670997184323,
          -1.0990419409084324,
          -0.871028416180363,
          -0.9839363695459624,
          -0.7071642819921274,
          -0.9649538646384597,
          -0.07938786382715807,
          -0.6511732443827587,
          -1.0495691285147353,
          -1.216907719249716,
          -1.0202686457871843,
          -1.245096243526878,
          -0.8051863963938097,
          -1.4079974175266863,
          -1.238577998585358,
          -1.1597420643057776,
          -0.49885995427398205,
          -1.2294098096570147,
          -1.3473762262692497,
          -0.9893474027848611,
          1.324644655674268,
          2.236559940687958,
          2.300220738929092,
          2.5447691037266145,
          -1.3290802025585322,
          -1.0339295771544759,
          -0.3646263998858898,
          -0.9210480898797002,
          -1.0528999459414,
          -0.7465386837494035,
          -1.3310648253509125,
          -0.15504914093148417,
          -0.17437782760361567,
          -0.2603429111629848,
          -0.8277771276090602,
          -0.5418252456462207,
          0.6086703948875171,
          -0.5988433486407282,
          -0.9028097234226942,
          -0.9592914666868012,
          0.22142476650741127,
          0.7932088658321987,
          0.5636494338661097,
          0.41197956731334534,
          1.826830708628797,
          0.31242812323741953,
          1.902649433624108,
          1.620881829702091,
          1.2518535611471007,
          2.144068931719886,
          0.43127983098330536,
          -0.326669105779434,
          1.1600755290161804,
          0.6320233562856604,
          0.7899229468245065,
          0.21091418080767607,
          0.7684640830904039,
          -1.2050179821235905,
          -1.003315446220766,
          -1.300336769491636,
          -1.2169871538010222,
          -1.4762498697303896,
          0.2818455182041284,
          -0.9236872137307428,
          -1.2034142443186877,
          -1.3539329811844136,
          -0.5113520614681136,
          -0.8684685964407897,
          -0.6600211472717245,
          0.02387224500841111,
          -0.10249542394847518,
          -0.5073132666040002,
          0.5206042476056767,
          0.15663991940049013,
          1.9189992338794515,
          -0.5326400765665911,
          -0.8536336765878905,
          0.23333215288286902,
          -0.6440736946026615
         ],
         "xaxis": "x",
         "y": [
          0.7099961857978953,
          0.42702553658784737,
          0.32532461799333984,
          -0.30751240895039944,
          -0.13734036816883838,
          0.31128851737849844,
          0.729962167893389,
          -0.0005735189402775898,
          0.8184393245280276,
          1.117196888341552,
          0.6623167014430784,
          0.5818759175510941,
          -0.5755506430210526,
          0.7595512721812351,
          1.0919717029401952,
          0.9287727424286327,
          0.647167399836963,
          1.1481584414274244,
          1.0538483156137948,
          1.068173947937826,
          0.8958960717525997,
          0.5678691445652688,
          0.4174137788963033,
          0.7527314614167181,
          -0.32417865836517257,
          1.2685351012786688,
          1.1329563580483628,
          -0.6309878142198015,
          -0.5784391528625124,
          -0.04627264220648031,
          1.0451683016282647,
          0.6363022232065211,
          0.6090535964371065,
          0.3389705573491687,
          -0.07876016749848436,
          -0.005161321019689319,
          -0.16245932754008796,
          -0.015756191193797463,
          0.19443560793123194,
          -0.094922033919062,
          0.4528492287184965,
          1.1992796693159886,
          0.28812500403641145,
          1.3827214876209564,
          1.112825496480182,
          0.820319273071483,
          -0.19017580106885862,
          -0.07244448877381379,
          0.4750518811453017,
          -0.6854025144338283,
          0.20702474930218934,
          0.1518140456897288,
          -0.05401545573946639,
          0.15929102424296657,
          0.3937351519692185,
          1.014706623198994,
          0.6371969911009774,
          0.1750033851741816,
          -0.6006650204085802,
          -0.0792124573390606,
          1.512070916552906,
          -0.6427866590478051,
          -0.03307075643171754,
          0.5274321350929281,
          -0.45485297270854297,
          -0.5564822170596899,
          -0.6115030808876163,
          -0.30479187981488526,
          -0.3098013915666279,
          -0.4457154428997717,
          -0.698679628353853,
          0.6013513192758371,
          1.0639967642006818,
          0.23703389905433955,
          0.6299565866915858,
          0.8345022141548945,
          -0.4323407360986679,
          -0.36112213785851976,
          0.5276588766709592,
          -0.07191032684639224,
          0.4567759882447646,
          -0.24191454883831306,
          0.1428429389318786,
          0.39866159386906896,
          0.029551102791049888,
          -0.6860368415335261,
          -0.2269403331648695,
          -0.5324958691880598,
          0.41247460087419985,
          0.6397017321322944,
          0.7167548034897423,
          -0.7968509799301254,
          0.4579173464816717,
          0.6929268513292324,
          0.3027252421361952,
          -0.5018055971078058,
          -0.9262446362631672,
          -0.7089125244246054,
          -0.09250520902190804,
          -0.24347082832148273,
          -0.5011749815040876,
          0.2769417524742287,
          0.6594733357560907,
          0.1464652696809386,
          0.17980367632117927,
          0.2876728571762101,
          0.24207094960578387,
          -0.47685645775978125,
          -0.4641342832744238,
          -0.6242657785803362,
          -0.35839496694913836,
          -0.6697201639582336,
          -0.5934551819218801,
          -0.6776601586832687,
          -0.772206603265197,
          -0.8256034226699906,
          -0.6034916443139994,
          -0.6959188228222942,
          -0.6506881292737736,
          -0.730610566802647,
          -0.7118028645644151,
          -0.5537360443743592,
          -0.7516917933008144,
          -1.0413224864771373,
          -0.2888912128532489,
          0.16165561715961727,
          -0.6301647136546636,
          -0.5457559028477338,
          -0.7375472316736065,
          -0.30382668918844896,
          0.14392662023758906,
          0.4029023478736755,
          0.11923488393747818,
          -0.3931448013405179,
          0.47116303960960504,
          -0.3057199867825617,
          0.19033436901269668,
          0.3672353828015206,
          -0.11915816433922534,
          -0.22949644038607933,
          0.0005381922934969265,
          0.4014541076202302,
          0.011226333971447174,
          0.15316753403502015,
          -0.17839685429915678,
          0.1162964727268741,
          0.6132218639995656,
          0.7440426957254411,
          0.5514812675631249,
          0.2558900153292978,
          -0.41263591264996197,
          -0.24829956261552585,
          -0.08343938247417602,
          -0.20777470378370455,
          -0.24080633807485974,
          -0.3134496109536108,
          0.26608327441236906,
          -0.029058638683316398,
          0.0671953806310761,
          0.7504319775030304,
          1.1239966883690784,
          -0.45781463258792676,
          0.34873035447720835,
          0.8756141158887747,
          0.9258608099918605,
          0.4841868261378967,
          0.7141823455552794,
          -0.03732354018898182,
          0.28878723343162016,
          0.15719818315722064,
          0.7973884178965798,
          -0.7660432689583268,
          -0.84400657794849,
          -0.45947960809374516,
          -0.3345165522557174,
          -0.6649776248286672,
          -0.6363778850046428,
          -0.5993592194355751,
          -0.18919715662760342,
          -0.7691383038182813,
          0.04053435533132516,
          0.21657270370862602,
          -0.014942354878290992,
          0.9030285565753604,
          -0.4266317392588027,
          0.15182338797892395,
          -0.19851912578326078,
          0.054602340636070716,
          0.4071145704787819,
          0.4220990016103621,
          -0.7460484006509379,
          -0.37416817643363576,
          -0.6372097375723659,
          -0.5063493452642951,
          -0.09239144822483929,
          0.8850748108824067,
          -0.3774211773239248,
          0.11439303192748623,
          0.21840717600576146,
          0.41308681848561374,
          -0.156487389434147,
          -0.21246162342132058,
          0.35967154146760516,
          -0.6280362618690645,
          -0.6751485839668573,
          0.4564923562030079,
          0.46341219854131854,
          -0.6255699562303365,
          -0.14648385725392216,
          -0.529967500091482,
          -0.7969822771052225,
          0.2212198399904749,
          -0.35734431874142725,
          -0.490786380395956,
          -0.31872916446986554,
          -0.6918558834102606,
          -0.7082270021088811,
          -0.7238134790639272,
          0.12244694049215733,
          -0.3995158569063484,
          -0.5271808752106215,
          0.6167487204970656,
          1.3015349678754837,
          1.3070266362899396,
          -0.11326696955333448,
          0.03762840489926836,
          0.4637935227601997,
          -0.3581647071056107,
          -0.7534000614183912,
          -0.32871859328507014,
          -0.2747903697084202,
          -0.1782478319197431,
          -0.5058423435176054,
          0.28564173412763133,
          0.22065552600422933,
          -0.6473159610252815,
          -0.6069361767018229,
          -0.6298085539721407,
          -0.7732732549216,
          -0.4923166757282111,
          -0.6975829899400697,
          -0.7388955697842149,
          -0.43264234556453635,
          0.09749775065327997,
          -0.6339343049928898,
          -0.6640631227213608,
          -0.2201238450942663,
          -0.7406821537471711,
          -0.6143040266580025,
          -0.5698169156217819,
          -0.8756335115452012,
          -0.5141589243246582,
          -0.34764364588050745,
          0.44145008058227136,
          -0.31539811267161544,
          -0.6370741888817835,
          -0.19493915236414852,
          -0.7735155602581518,
          0.3156325537205879,
          1.0556241456946518,
          1.0440701043581253,
          0.32877861478383197,
          0.3164185453548597,
          1.1615210253233557,
          0.04553512632354633,
          -0.2433147074464451,
          -0.3581664229481636,
          0.9437433574201339,
          1.1007774491822322,
          1.0107234027065128,
          0.9274899088166828,
          -0.7662581492563958,
          -0.7871634414585786,
          -0.5293459180136509,
          -0.6432404647199428,
          -0.581318473331517,
          -0.6916550585341287,
          -0.21108386707704713,
          0.04222803626490735,
          -0.6624768970250287,
          -0.36007697929215565,
          0.5369447952766742,
          0.9916844193676572,
          -0.5361063431814365,
          -0.5855287098767852,
          -0.4008160716345416,
          -0.7611554973033743,
          -0.6659259100919337,
          -0.802516056383197,
          0.04535682741649859,
          -0.28061484381918506,
          -0.6098813595061421,
          -0.8132859063928752,
          -0.1951940050040877,
          -0.33410450200889125,
          0.7126277842603084,
          0.16591497309967654,
          0.3509629701820568,
          1.0256786577294228,
          1.0272833710267137,
          0.9212705727252719,
          -0.71638376743169,
          -0.3934942048076385,
          -0.3503235301888743,
          -0.019981995927691884,
          0.06001570368658886
         ],
         "yaxis": "y"
        }
       ],
       "layout": {
        "coloraxis": {
         "colorbar": {
          "title": {
           "text": "cluster"
          }
         },
         "colorscale": [
          [
           0,
           "#0d0887"
          ],
          [
           0.1111111111111111,
           "#46039f"
          ],
          [
           0.2222222222222222,
           "#7201a8"
          ],
          [
           0.3333333333333333,
           "#9c179e"
          ],
          [
           0.4444444444444444,
           "#bd3786"
          ],
          [
           0.5555555555555556,
           "#d8576b"
          ],
          [
           0.6666666666666666,
           "#ed7953"
          ],
          [
           0.7777777777777778,
           "#fb9f3a"
          ],
          [
           0.8888888888888888,
           "#fdca26"
          ],
          [
           1,
           "#f0f921"
          ]
         ]
        },
        "legend": {
         "tracegroupgap": 0
        },
        "margin": {
         "t": 60
        },
        "template": {
         "data": {
          "bar": [
           {
            "error_x": {
             "color": "#2a3f5f"
            },
            "error_y": {
             "color": "#2a3f5f"
            },
            "marker": {
             "line": {
              "color": "#E5ECF6",
              "width": 0.5
             },
             "pattern": {
              "fillmode": "overlay",
              "size": 10,
              "solidity": 0.2
             }
            },
            "type": "bar"
           }
          ],
          "barpolar": [
           {
            "marker": {
             "line": {
              "color": "#E5ECF6",
              "width": 0.5
             },
             "pattern": {
              "fillmode": "overlay",
              "size": 10,
              "solidity": 0.2
             }
            },
            "type": "barpolar"
           }
          ],
          "carpet": [
           {
            "aaxis": {
             "endlinecolor": "#2a3f5f",
             "gridcolor": "white",
             "linecolor": "white",
             "minorgridcolor": "white",
             "startlinecolor": "#2a3f5f"
            },
            "baxis": {
             "endlinecolor": "#2a3f5f",
             "gridcolor": "white",
             "linecolor": "white",
             "minorgridcolor": "white",
             "startlinecolor": "#2a3f5f"
            },
            "type": "carpet"
           }
          ],
          "choropleth": [
           {
            "colorbar": {
             "outlinewidth": 0,
             "ticks": ""
            },
            "type": "choropleth"
           }
          ],
          "contour": [
           {
            "colorbar": {
             "outlinewidth": 0,
             "ticks": ""
            },
            "colorscale": [
             [
              0,
              "#0d0887"
             ],
             [
              0.1111111111111111,
              "#46039f"
             ],
             [
              0.2222222222222222,
              "#7201a8"
             ],
             [
              0.3333333333333333,
              "#9c179e"
             ],
             [
              0.4444444444444444,
              "#bd3786"
             ],
             [
              0.5555555555555556,
              "#d8576b"
             ],
             [
              0.6666666666666666,
              "#ed7953"
             ],
             [
              0.7777777777777778,
              "#fb9f3a"
             ],
             [
              0.8888888888888888,
              "#fdca26"
             ],
             [
              1,
              "#f0f921"
             ]
            ],
            "type": "contour"
           }
          ],
          "contourcarpet": [
           {
            "colorbar": {
             "outlinewidth": 0,
             "ticks": ""
            },
            "type": "contourcarpet"
           }
          ],
          "heatmap": [
           {
            "colorbar": {
             "outlinewidth": 0,
             "ticks": ""
            },
            "colorscale": [
             [
              0,
              "#0d0887"
             ],
             [
              0.1111111111111111,
              "#46039f"
             ],
             [
              0.2222222222222222,
              "#7201a8"
             ],
             [
              0.3333333333333333,
              "#9c179e"
             ],
             [
              0.4444444444444444,
              "#bd3786"
             ],
             [
              0.5555555555555556,
              "#d8576b"
             ],
             [
              0.6666666666666666,
              "#ed7953"
             ],
             [
              0.7777777777777778,
              "#fb9f3a"
             ],
             [
              0.8888888888888888,
              "#fdca26"
             ],
             [
              1,
              "#f0f921"
             ]
            ],
            "type": "heatmap"
           }
          ],
          "heatmapgl": [
           {
            "colorbar": {
             "outlinewidth": 0,
             "ticks": ""
            },
            "colorscale": [
             [
              0,
              "#0d0887"
             ],
             [
              0.1111111111111111,
              "#46039f"
             ],
             [
              0.2222222222222222,
              "#7201a8"
             ],
             [
              0.3333333333333333,
              "#9c179e"
             ],
             [
              0.4444444444444444,
              "#bd3786"
             ],
             [
              0.5555555555555556,
              "#d8576b"
             ],
             [
              0.6666666666666666,
              "#ed7953"
             ],
             [
              0.7777777777777778,
              "#fb9f3a"
             ],
             [
              0.8888888888888888,
              "#fdca26"
             ],
             [
              1,
              "#f0f921"
             ]
            ],
            "type": "heatmapgl"
           }
          ],
          "histogram": [
           {
            "marker": {
             "pattern": {
              "fillmode": "overlay",
              "size": 10,
              "solidity": 0.2
             }
            },
            "type": "histogram"
           }
          ],
          "histogram2d": [
           {
            "colorbar": {
             "outlinewidth": 0,
             "ticks": ""
            },
            "colorscale": [
             [
              0,
              "#0d0887"
             ],
             [
              0.1111111111111111,
              "#46039f"
             ],
             [
              0.2222222222222222,
              "#7201a8"
             ],
             [
              0.3333333333333333,
              "#9c179e"
             ],
             [
              0.4444444444444444,
              "#bd3786"
             ],
             [
              0.5555555555555556,
              "#d8576b"
             ],
             [
              0.6666666666666666,
              "#ed7953"
             ],
             [
              0.7777777777777778,
              "#fb9f3a"
             ],
             [
              0.8888888888888888,
              "#fdca26"
             ],
             [
              1,
              "#f0f921"
             ]
            ],
            "type": "histogram2d"
           }
          ],
          "histogram2dcontour": [
           {
            "colorbar": {
             "outlinewidth": 0,
             "ticks": ""
            },
            "colorscale": [
             [
              0,
              "#0d0887"
             ],
             [
              0.1111111111111111,
              "#46039f"
             ],
             [
              0.2222222222222222,
              "#7201a8"
             ],
             [
              0.3333333333333333,
              "#9c179e"
             ],
             [
              0.4444444444444444,
              "#bd3786"
             ],
             [
              0.5555555555555556,
              "#d8576b"
             ],
             [
              0.6666666666666666,
              "#ed7953"
             ],
             [
              0.7777777777777778,
              "#fb9f3a"
             ],
             [
              0.8888888888888888,
              "#fdca26"
             ],
             [
              1,
              "#f0f921"
             ]
            ],
            "type": "histogram2dcontour"
           }
          ],
          "mesh3d": [
           {
            "colorbar": {
             "outlinewidth": 0,
             "ticks": ""
            },
            "type": "mesh3d"
           }
          ],
          "parcoords": [
           {
            "line": {
             "colorbar": {
              "outlinewidth": 0,
              "ticks": ""
             }
            },
            "type": "parcoords"
           }
          ],
          "pie": [
           {
            "automargin": true,
            "type": "pie"
           }
          ],
          "scatter": [
           {
            "fillpattern": {
             "fillmode": "overlay",
             "size": 10,
             "solidity": 0.2
            },
            "type": "scatter"
           }
          ],
          "scatter3d": [
           {
            "line": {
             "colorbar": {
              "outlinewidth": 0,
              "ticks": ""
             }
            },
            "marker": {
             "colorbar": {
              "outlinewidth": 0,
              "ticks": ""
             }
            },
            "type": "scatter3d"
           }
          ],
          "scattercarpet": [
           {
            "marker": {
             "colorbar": {
              "outlinewidth": 0,
              "ticks": ""
             }
            },
            "type": "scattercarpet"
           }
          ],
          "scattergeo": [
           {
            "marker": {
             "colorbar": {
              "outlinewidth": 0,
              "ticks": ""
             }
            },
            "type": "scattergeo"
           }
          ],
          "scattergl": [
           {
            "marker": {
             "colorbar": {
              "outlinewidth": 0,
              "ticks": ""
             }
            },
            "type": "scattergl"
           }
          ],
          "scattermapbox": [
           {
            "marker": {
             "colorbar": {
              "outlinewidth": 0,
              "ticks": ""
             }
            },
            "type": "scattermapbox"
           }
          ],
          "scatterpolar": [
           {
            "marker": {
             "colorbar": {
              "outlinewidth": 0,
              "ticks": ""
             }
            },
            "type": "scatterpolar"
           }
          ],
          "scatterpolargl": [
           {
            "marker": {
             "colorbar": {
              "outlinewidth": 0,
              "ticks": ""
             }
            },
            "type": "scatterpolargl"
           }
          ],
          "scatterternary": [
           {
            "marker": {
             "colorbar": {
              "outlinewidth": 0,
              "ticks": ""
             }
            },
            "type": "scatterternary"
           }
          ],
          "surface": [
           {
            "colorbar": {
             "outlinewidth": 0,
             "ticks": ""
            },
            "colorscale": [
             [
              0,
              "#0d0887"
             ],
             [
              0.1111111111111111,
              "#46039f"
             ],
             [
              0.2222222222222222,
              "#7201a8"
             ],
             [
              0.3333333333333333,
              "#9c179e"
             ],
             [
              0.4444444444444444,
              "#bd3786"
             ],
             [
              0.5555555555555556,
              "#d8576b"
             ],
             [
              0.6666666666666666,
              "#ed7953"
             ],
             [
              0.7777777777777778,
              "#fb9f3a"
             ],
             [
              0.8888888888888888,
              "#fdca26"
             ],
             [
              1,
              "#f0f921"
             ]
            ],
            "type": "surface"
           }
          ],
          "table": [
           {
            "cells": {
             "fill": {
              "color": "#EBF0F8"
             },
             "line": {
              "color": "white"
             }
            },
            "header": {
             "fill": {
              "color": "#C8D4E3"
             },
             "line": {
              "color": "white"
             }
            },
            "type": "table"
           }
          ]
         },
         "layout": {
          "annotationdefaults": {
           "arrowcolor": "#2a3f5f",
           "arrowhead": 0,
           "arrowwidth": 1
          },
          "autotypenumbers": "strict",
          "coloraxis": {
           "colorbar": {
            "outlinewidth": 0,
            "ticks": ""
           }
          },
          "colorscale": {
           "diverging": [
            [
             0,
             "#8e0152"
            ],
            [
             0.1,
             "#c51b7d"
            ],
            [
             0.2,
             "#de77ae"
            ],
            [
             0.3,
             "#f1b6da"
            ],
            [
             0.4,
             "#fde0ef"
            ],
            [
             0.5,
             "#f7f7f7"
            ],
            [
             0.6,
             "#e6f5d0"
            ],
            [
             0.7,
             "#b8e186"
            ],
            [
             0.8,
             "#7fbc41"
            ],
            [
             0.9,
             "#4d9221"
            ],
            [
             1,
             "#276419"
            ]
           ],
           "sequential": [
            [
             0,
             "#0d0887"
            ],
            [
             0.1111111111111111,
             "#46039f"
            ],
            [
             0.2222222222222222,
             "#7201a8"
            ],
            [
             0.3333333333333333,
             "#9c179e"
            ],
            [
             0.4444444444444444,
             "#bd3786"
            ],
            [
             0.5555555555555556,
             "#d8576b"
            ],
            [
             0.6666666666666666,
             "#ed7953"
            ],
            [
             0.7777777777777778,
             "#fb9f3a"
            ],
            [
             0.8888888888888888,
             "#fdca26"
            ],
            [
             1,
             "#f0f921"
            ]
           ],
           "sequentialminus": [
            [
             0,
             "#0d0887"
            ],
            [
             0.1111111111111111,
             "#46039f"
            ],
            [
             0.2222222222222222,
             "#7201a8"
            ],
            [
             0.3333333333333333,
             "#9c179e"
            ],
            [
             0.4444444444444444,
             "#bd3786"
            ],
            [
             0.5555555555555556,
             "#d8576b"
            ],
            [
             0.6666666666666666,
             "#ed7953"
            ],
            [
             0.7777777777777778,
             "#fb9f3a"
            ],
            [
             0.8888888888888888,
             "#fdca26"
            ],
            [
             1,
             "#f0f921"
            ]
           ]
          },
          "colorway": [
           "#636efa",
           "#EF553B",
           "#00cc96",
           "#ab63fa",
           "#FFA15A",
           "#19d3f3",
           "#FF6692",
           "#B6E880",
           "#FF97FF",
           "#FECB52"
          ],
          "font": {
           "color": "#2a3f5f"
          },
          "geo": {
           "bgcolor": "white",
           "lakecolor": "white",
           "landcolor": "#E5ECF6",
           "showlakes": true,
           "showland": true,
           "subunitcolor": "white"
          },
          "hoverlabel": {
           "align": "left"
          },
          "hovermode": "closest",
          "mapbox": {
           "style": "light"
          },
          "paper_bgcolor": "white",
          "plot_bgcolor": "#E5ECF6",
          "polar": {
           "angularaxis": {
            "gridcolor": "white",
            "linecolor": "white",
            "ticks": ""
           },
           "bgcolor": "#E5ECF6",
           "radialaxis": {
            "gridcolor": "white",
            "linecolor": "white",
            "ticks": ""
           }
          },
          "scene": {
           "xaxis": {
            "backgroundcolor": "#E5ECF6",
            "gridcolor": "white",
            "gridwidth": 2,
            "linecolor": "white",
            "showbackground": true,
            "ticks": "",
            "zerolinecolor": "white"
           },
           "yaxis": {
            "backgroundcolor": "#E5ECF6",
            "gridcolor": "white",
            "gridwidth": 2,
            "linecolor": "white",
            "showbackground": true,
            "ticks": "",
            "zerolinecolor": "white"
           },
           "zaxis": {
            "backgroundcolor": "#E5ECF6",
            "gridcolor": "white",
            "gridwidth": 2,
            "linecolor": "white",
            "showbackground": true,
            "ticks": "",
            "zerolinecolor": "white"
           }
          },
          "shapedefaults": {
           "line": {
            "color": "#2a3f5f"
           }
          },
          "ternary": {
           "aaxis": {
            "gridcolor": "white",
            "linecolor": "white",
            "ticks": ""
           },
           "baxis": {
            "gridcolor": "white",
            "linecolor": "white",
            "ticks": ""
           },
           "bgcolor": "#E5ECF6",
           "caxis": {
            "gridcolor": "white",
            "linecolor": "white",
            "ticks": ""
           }
          },
          "title": {
           "x": 0.05
          },
          "xaxis": {
           "automargin": true,
           "gridcolor": "white",
           "linecolor": "white",
           "ticks": "",
           "title": {
            "standoff": 15
           },
           "zerolinecolor": "white",
           "zerolinewidth": 2
          },
          "yaxis": {
           "automargin": true,
           "gridcolor": "white",
           "linecolor": "white",
           "ticks": "",
           "title": {
            "standoff": 15
           },
           "zerolinecolor": "white",
           "zerolinewidth": 2
          }
         }
        },
        "xaxis": {
         "anchor": "y",
         "domain": [
          0,
          1
         ],
         "title": {
          "text": "PC1"
         }
        },
        "yaxis": {
         "anchor": "x",
         "domain": [
          0,
          1
         ],
         "title": {
          "text": "PC2"
         }
        }
       }
      }
     },
     "metadata": {},
     "output_type": "display_data"
    },
    {
     "name": "stdout",
     "output_type": "stream",
     "text": [
      "eps:0.6\n",
      "min:10\n",
      "2\n"
     ]
    },
    {
     "data": {
      "application/vnd.plotly.v1+json": {
       "config": {
        "plotlyServerURL": "https://plot.ly"
       },
       "data": [
        {
         "hovertemplate": "PC1=%{x}<br>PC2=%{y}<br>cluster=%{marker.color}<extra></extra>",
         "legendgroup": "",
         "marker": {
          "color": [
           0,
           0,
           0,
           0,
           0,
           -1,
           0,
           0,
           0,
           0,
           0,
           0,
           0,
           0,
           0,
           0,
           -1,
           0,
           0,
           0,
           0,
           0,
           0,
           0,
           0,
           0,
           0,
           0,
           0,
           0,
           0,
           0,
           0,
           0,
           0,
           0,
           0,
           0,
           0,
           0,
           0,
           -1,
           0,
           0,
           0,
           0,
           0,
           -1,
           -1,
           0,
           0,
           0,
           0,
           -1,
           0,
           -1,
           0,
           0,
           -1,
           0,
           -1,
           0,
           -1,
           -1,
           0,
           0,
           0,
           0,
           -1,
           0,
           0,
           0,
           0,
           0,
           0,
           0,
           0,
           0,
           0,
           -1,
           0,
           0,
           0,
           0,
           0,
           0,
           0,
           0,
           0,
           0,
           0,
           0,
           0,
           0,
           0,
           0,
           -1,
           0,
           0,
           0,
           -1,
           0,
           -1,
           -1,
           0,
           0,
           -1,
           0,
           0,
           0,
           0,
           0,
           0,
           0,
           0,
           0,
           0,
           0,
           0,
           0,
           0,
           -1,
           0,
           -1,
           0,
           0,
           0,
           0,
           0,
           0,
           0,
           -1,
           -1,
           0,
           0,
           0,
           0,
           0,
           -1,
           0,
           0,
           0,
           0,
           0,
           0,
           0,
           0,
           0,
           0,
           0,
           0,
           0,
           0,
           -1,
           -1,
           0,
           0,
           0,
           0,
           -1,
           -1,
           0,
           0,
           0,
           0,
           0,
           0,
           0,
           0,
           0,
           0,
           0,
           0,
           0,
           0,
           0,
           0,
           0,
           0,
           0,
           -1,
           0,
           0,
           0,
           -1,
           0,
           0,
           0,
           0,
           0,
           0,
           0,
           0,
           0,
           0,
           0,
           0,
           0,
           0,
           0,
           0,
           0,
           0,
           0,
           0,
           0,
           0,
           0,
           0,
           0,
           0,
           0,
           0,
           0,
           0,
           0,
           0,
           0,
           0,
           0,
           0,
           0,
           -1,
           -1,
           0,
           0,
           0,
           0,
           0,
           0,
           0,
           0,
           0,
           0,
           0,
           0,
           0,
           0,
           0,
           0,
           0,
           0,
           0,
           0,
           0,
           0,
           0,
           0,
           0,
           -1,
           -1,
           0,
           0,
           0,
           0,
           0,
           0,
           0,
           0,
           -1,
           -1,
           0,
           0,
           -1,
           0,
           0,
           0,
           0,
           0,
           0,
           0,
           0,
           -1,
           0,
           0,
           0,
           0,
           0,
           0,
           0,
           -1,
           -1,
           -1,
           0,
           0,
           0,
           0,
           0,
           0,
           0,
           0,
           0,
           0,
           0,
           0,
           -1,
           0,
           0,
           0,
           0,
           -1,
           0,
           0,
           0,
           0,
           0
          ],
          "coloraxis": "coloraxis",
          "symbol": "circle"
         },
         "mode": "markers",
         "name": "",
         "orientation": "v",
         "showlegend": false,
         "type": "scatter",
         "x": [
          -0.3508186445814046,
          -0.5639310289142907,
          -0.5876614889048775,
          -0.5823377224391548,
          -0.5607934377831532,
          0.4195720316235605,
          0.4072448737758711,
          -0.4113530731621215,
          -0.00399273331831062,
          -0.1852422563817428,
          -0.44739994890418283,
          -0.17321034471097554,
          -0.9863859016696982,
          0.363681409013939,
          0.5332508277656569,
          0.4280966465773618,
          1.0588501758287197,
          0.025247980120545525,
          0.23810740264577307,
          0.6865351171763053,
          0.2581063436168159,
          0.3715708207646612,
          -0.4131797356835435,
          -0.04785829771362803,
          -0.9827684239122897,
          0.3681831670016599,
          -0.2935365288623707,
          -1.1909481439518261,
          -1.1528255253136725,
          -0.7069147217330235,
          0.40055109920872667,
          0.00803215716421511,
          0.14911199452136348,
          -0.16737103147821697,
          0.760616799924241,
          -0.23008068388502226,
          -0.7678298340451299,
          -0.540115638809465,
          -0.6308503154771031,
          -0.8514860460990357,
          -0.6867705734521476,
          -0.2078070316297446,
          -0.7308828712104986,
          0.5838622089680124,
          0.23092709056774202,
          -0.25715838997259816,
          0.5912142380882366,
          0.45038843768797976,
          0.7458086225076698,
          0.6665341479810564,
          -0.3559651445471211,
          0.14544245797935162,
          0.16923801231755534,
          0.28649183156012964,
          0.49776358997416936,
          1.0061507020713225,
          -0.00044711259362545716,
          0.28586827885250043,
          0.25658402880596615,
          1.2550220032228516,
          0.12286107335774328,
          1.485896209569183,
          1.141757343619969,
          1.083056179238525,
          1.2308187941802846,
          1.398828328888598,
          1.3054235587132532,
          -0.6767646613072369,
          0.6750460519396514,
          1.370581465278255,
          1.2018852316157136,
          -0.2580847111797142,
          -0.011498460508768802,
          -0.8370263340387589,
          -0.6363564838589613,
          -0.42919282404945464,
          -1.1039702224687824,
          -0.1088711356058151,
          -0.4596040070615721,
          0.1418478816660463,
          0.21957884447651801,
          0.3554794976193818,
          -0.8742386278118172,
          -0.2746466637092127,
          1.1054992040219718,
          -1.2632478611888398,
          1.5367762704079522,
          2.0068280117827495,
          0.850062335137054,
          0.33944496228293397,
          0.19249504445578958,
          -1.3581558798511084,
          0.2434247873301313,
          0.5263964218229623,
          -0.4868238715600447,
          1.1886039499169794,
          1.312567480095893,
          1.5798144290432872,
          0.09562530830559078,
          0.10113773211496412,
          2.033076972324046,
          0.8053821545180139,
          0.637502907215228,
          1.0203277391689545,
          1.1081509796409459,
          1.2746332749915992,
          1.0753569684035553,
          1.7049819492724492,
          1.6587035438150557,
          1.7295177415265623,
          0.5214983885075135,
          1.3702205937067362,
          1.518749873805489,
          2.1729248712419267,
          2.5854778650398846,
          2.411180428395736,
          2.1166243572495915,
          2.0214316278135502,
          1.8271443317174267,
          1.7146476778873738,
          2.0310988554007685,
          2.2173494244528684,
          2.184350145824153,
          1.5947485452960408,
          1.0679977016528681,
          0.8413104680994339,
          1.9202053051499042,
          1.8312001793279702,
          2.0139938593698643,
          1.3205121461089913,
          0.8282043651674835,
          1.2256783451926239,
          1.3358151046978437,
          -0.9688877415976315,
          0.26608200929683606,
          0.4664951006725747,
          -0.0563240048251054,
          -0.0559120157718613,
          1.1399716405498577,
          0.5358927796322845,
          0.018958766203575374,
          -0.24741988762852457,
          -0.5776044130063319,
          0.6475878617948905,
          -0.9100792974452094,
          0.49081208825788125,
          0.3298476395279003,
          -0.007475294677475479,
          -0.489846855978679,
          -0.8491853143573168,
          -0.7011129372532078,
          -0.05347780212672248,
          -0.0011183823042832202,
          -0.5655651342350086,
          -0.6620259718207827,
          -0.9227863531495146,
          -0.6622952480314663,
          -0.4782287610370813,
          -0.5932215055392788,
          0.12014236348877132,
          0.6903330209670598,
          -0.8426881627710046,
          -0.6917978730477802,
          -0.6781299724263031,
          0.1602732904474833,
          -0.6133650035392196,
          -0.6949704672974494,
          -0.9075944177318687,
          -0.8786928400558157,
          -0.9058658749968183,
          -0.31613938719436746,
          -1.4063256915973272,
          -1.3803818930202079,
          0.2625615034769143,
          -0.8470754546783491,
          -1.1030175239198672,
          -1.2002009601984962,
          -1.1015107582333754,
          -0.25448883335801076,
          -1.3268121966813606,
          0.21320098873326973,
          -0.6498069261405497,
          -0.9346574497489317,
          -0.23027783265072188,
          -0.5611158720424748,
          -0.6718621245174528,
          0.9811493906055307,
          -0.8636997616209908,
          -0.6227009894166133,
          0.26969388609522693,
          -1.2974700268568877,
          -0.7689427359366564,
          -1.1308155565904985,
          -1.1858237917313565,
          -1.1576084927470962,
          0.12712467464253588,
          0.6706059789697033,
          -0.3921416370294183,
          -0.11598044718702563,
          -0.23151664766119667,
          -0.7816102873703236,
          -0.7653708834373745,
          -0.5609480660210393,
          -1.2245683886515315,
          -1.2528323446207357,
          -0.04827769016556094,
          -0.620381709756415,
          -1.3179427171238245,
          -1.020448678856538,
          -1.122767828461264,
          -1.295461906008073,
          -0.2150777897030298,
          -1.0690715515230613,
          -0.6521075215103971,
          -0.7687037917119958,
          -1.1341499985115364,
          -1.206294094750507,
          -1.1419834961733435,
          0.15924292373346194,
          -1.0338737764714179,
          -0.9671029081402572,
          0.7301776776959528,
          0.22630807645404594,
          -0.03217868737816261,
          -0.8246874406681577,
          -0.0665121498396239,
          -0.525452729661283,
          -1.163670997184323,
          -1.0990419409084324,
          -0.871028416180363,
          -0.9839363695459624,
          -0.7071642819921274,
          -0.9649538646384597,
          -0.07938786382715807,
          -0.6511732443827587,
          -1.0495691285147353,
          -1.216907719249716,
          -1.0202686457871843,
          -1.245096243526878,
          -0.8051863963938097,
          -1.4079974175266863,
          -1.238577998585358,
          -1.1597420643057776,
          -0.49885995427398205,
          -1.2294098096570147,
          -1.3473762262692497,
          -0.9893474027848611,
          1.324644655674268,
          2.236559940687958,
          2.300220738929092,
          2.5447691037266145,
          -1.3290802025585322,
          -1.0339295771544759,
          -0.3646263998858898,
          -0.9210480898797002,
          -1.0528999459414,
          -0.7465386837494035,
          -1.3310648253509125,
          -0.15504914093148417,
          -0.17437782760361567,
          -0.2603429111629848,
          -0.8277771276090602,
          -0.5418252456462207,
          0.6086703948875171,
          -0.5988433486407282,
          -0.9028097234226942,
          -0.9592914666868012,
          0.22142476650741127,
          0.7932088658321987,
          0.5636494338661097,
          0.41197956731334534,
          1.826830708628797,
          0.31242812323741953,
          1.902649433624108,
          1.620881829702091,
          1.2518535611471007,
          2.144068931719886,
          0.43127983098330536,
          -0.326669105779434,
          1.1600755290161804,
          0.6320233562856604,
          0.7899229468245065,
          0.21091418080767607,
          0.7684640830904039,
          -1.2050179821235905,
          -1.003315446220766,
          -1.300336769491636,
          -1.2169871538010222,
          -1.4762498697303896,
          0.2818455182041284,
          -0.9236872137307428,
          -1.2034142443186877,
          -1.3539329811844136,
          -0.5113520614681136,
          -0.8684685964407897,
          -0.6600211472717245,
          0.02387224500841111,
          -0.10249542394847518,
          -0.5073132666040002,
          0.5206042476056767,
          0.15663991940049013,
          1.9189992338794515,
          -0.5326400765665911,
          -0.8536336765878905,
          0.23333215288286902,
          -0.6440736946026615
         ],
         "xaxis": "x",
         "y": [
          0.7099961857978953,
          0.42702553658784737,
          0.32532461799333984,
          -0.30751240895039944,
          -0.13734036816883838,
          0.31128851737849844,
          0.729962167893389,
          -0.0005735189402775898,
          0.8184393245280276,
          1.117196888341552,
          0.6623167014430784,
          0.5818759175510941,
          -0.5755506430210526,
          0.7595512721812351,
          1.0919717029401952,
          0.9287727424286327,
          0.647167399836963,
          1.1481584414274244,
          1.0538483156137948,
          1.068173947937826,
          0.8958960717525997,
          0.5678691445652688,
          0.4174137788963033,
          0.7527314614167181,
          -0.32417865836517257,
          1.2685351012786688,
          1.1329563580483628,
          -0.6309878142198015,
          -0.5784391528625124,
          -0.04627264220648031,
          1.0451683016282647,
          0.6363022232065211,
          0.6090535964371065,
          0.3389705573491687,
          -0.07876016749848436,
          -0.005161321019689319,
          -0.16245932754008796,
          -0.015756191193797463,
          0.19443560793123194,
          -0.094922033919062,
          0.4528492287184965,
          1.1992796693159886,
          0.28812500403641145,
          1.3827214876209564,
          1.112825496480182,
          0.820319273071483,
          -0.19017580106885862,
          -0.07244448877381379,
          0.4750518811453017,
          -0.6854025144338283,
          0.20702474930218934,
          0.1518140456897288,
          -0.05401545573946639,
          0.15929102424296657,
          0.3937351519692185,
          1.014706623198994,
          0.6371969911009774,
          0.1750033851741816,
          -0.6006650204085802,
          -0.0792124573390606,
          1.512070916552906,
          -0.6427866590478051,
          -0.03307075643171754,
          0.5274321350929281,
          -0.45485297270854297,
          -0.5564822170596899,
          -0.6115030808876163,
          -0.30479187981488526,
          -0.3098013915666279,
          -0.4457154428997717,
          -0.698679628353853,
          0.6013513192758371,
          1.0639967642006818,
          0.23703389905433955,
          0.6299565866915858,
          0.8345022141548945,
          -0.4323407360986679,
          -0.36112213785851976,
          0.5276588766709592,
          -0.07191032684639224,
          0.4567759882447646,
          -0.24191454883831306,
          0.1428429389318786,
          0.39866159386906896,
          0.029551102791049888,
          -0.6860368415335261,
          -0.2269403331648695,
          -0.5324958691880598,
          0.41247460087419985,
          0.6397017321322944,
          0.7167548034897423,
          -0.7968509799301254,
          0.4579173464816717,
          0.6929268513292324,
          0.3027252421361952,
          -0.5018055971078058,
          -0.9262446362631672,
          -0.7089125244246054,
          -0.09250520902190804,
          -0.24347082832148273,
          -0.5011749815040876,
          0.2769417524742287,
          0.6594733357560907,
          0.1464652696809386,
          0.17980367632117927,
          0.2876728571762101,
          0.24207094960578387,
          -0.47685645775978125,
          -0.4641342832744238,
          -0.6242657785803362,
          -0.35839496694913836,
          -0.6697201639582336,
          -0.5934551819218801,
          -0.6776601586832687,
          -0.772206603265197,
          -0.8256034226699906,
          -0.6034916443139994,
          -0.6959188228222942,
          -0.6506881292737736,
          -0.730610566802647,
          -0.7118028645644151,
          -0.5537360443743592,
          -0.7516917933008144,
          -1.0413224864771373,
          -0.2888912128532489,
          0.16165561715961727,
          -0.6301647136546636,
          -0.5457559028477338,
          -0.7375472316736065,
          -0.30382668918844896,
          0.14392662023758906,
          0.4029023478736755,
          0.11923488393747818,
          -0.3931448013405179,
          0.47116303960960504,
          -0.3057199867825617,
          0.19033436901269668,
          0.3672353828015206,
          -0.11915816433922534,
          -0.22949644038607933,
          0.0005381922934969265,
          0.4014541076202302,
          0.011226333971447174,
          0.15316753403502015,
          -0.17839685429915678,
          0.1162964727268741,
          0.6132218639995656,
          0.7440426957254411,
          0.5514812675631249,
          0.2558900153292978,
          -0.41263591264996197,
          -0.24829956261552585,
          -0.08343938247417602,
          -0.20777470378370455,
          -0.24080633807485974,
          -0.3134496109536108,
          0.26608327441236906,
          -0.029058638683316398,
          0.0671953806310761,
          0.7504319775030304,
          1.1239966883690784,
          -0.45781463258792676,
          0.34873035447720835,
          0.8756141158887747,
          0.9258608099918605,
          0.4841868261378967,
          0.7141823455552794,
          -0.03732354018898182,
          0.28878723343162016,
          0.15719818315722064,
          0.7973884178965798,
          -0.7660432689583268,
          -0.84400657794849,
          -0.45947960809374516,
          -0.3345165522557174,
          -0.6649776248286672,
          -0.6363778850046428,
          -0.5993592194355751,
          -0.18919715662760342,
          -0.7691383038182813,
          0.04053435533132516,
          0.21657270370862602,
          -0.014942354878290992,
          0.9030285565753604,
          -0.4266317392588027,
          0.15182338797892395,
          -0.19851912578326078,
          0.054602340636070716,
          0.4071145704787819,
          0.4220990016103621,
          -0.7460484006509379,
          -0.37416817643363576,
          -0.6372097375723659,
          -0.5063493452642951,
          -0.09239144822483929,
          0.8850748108824067,
          -0.3774211773239248,
          0.11439303192748623,
          0.21840717600576146,
          0.41308681848561374,
          -0.156487389434147,
          -0.21246162342132058,
          0.35967154146760516,
          -0.6280362618690645,
          -0.6751485839668573,
          0.4564923562030079,
          0.46341219854131854,
          -0.6255699562303365,
          -0.14648385725392216,
          -0.529967500091482,
          -0.7969822771052225,
          0.2212198399904749,
          -0.35734431874142725,
          -0.490786380395956,
          -0.31872916446986554,
          -0.6918558834102606,
          -0.7082270021088811,
          -0.7238134790639272,
          0.12244694049215733,
          -0.3995158569063484,
          -0.5271808752106215,
          0.6167487204970656,
          1.3015349678754837,
          1.3070266362899396,
          -0.11326696955333448,
          0.03762840489926836,
          0.4637935227601997,
          -0.3581647071056107,
          -0.7534000614183912,
          -0.32871859328507014,
          -0.2747903697084202,
          -0.1782478319197431,
          -0.5058423435176054,
          0.28564173412763133,
          0.22065552600422933,
          -0.6473159610252815,
          -0.6069361767018229,
          -0.6298085539721407,
          -0.7732732549216,
          -0.4923166757282111,
          -0.6975829899400697,
          -0.7388955697842149,
          -0.43264234556453635,
          0.09749775065327997,
          -0.6339343049928898,
          -0.6640631227213608,
          -0.2201238450942663,
          -0.7406821537471711,
          -0.6143040266580025,
          -0.5698169156217819,
          -0.8756335115452012,
          -0.5141589243246582,
          -0.34764364588050745,
          0.44145008058227136,
          -0.31539811267161544,
          -0.6370741888817835,
          -0.19493915236414852,
          -0.7735155602581518,
          0.3156325537205879,
          1.0556241456946518,
          1.0440701043581253,
          0.32877861478383197,
          0.3164185453548597,
          1.1615210253233557,
          0.04553512632354633,
          -0.2433147074464451,
          -0.3581664229481636,
          0.9437433574201339,
          1.1007774491822322,
          1.0107234027065128,
          0.9274899088166828,
          -0.7662581492563958,
          -0.7871634414585786,
          -0.5293459180136509,
          -0.6432404647199428,
          -0.581318473331517,
          -0.6916550585341287,
          -0.21108386707704713,
          0.04222803626490735,
          -0.6624768970250287,
          -0.36007697929215565,
          0.5369447952766742,
          0.9916844193676572,
          -0.5361063431814365,
          -0.5855287098767852,
          -0.4008160716345416,
          -0.7611554973033743,
          -0.6659259100919337,
          -0.802516056383197,
          0.04535682741649859,
          -0.28061484381918506,
          -0.6098813595061421,
          -0.8132859063928752,
          -0.1951940050040877,
          -0.33410450200889125,
          0.7126277842603084,
          0.16591497309967654,
          0.3509629701820568,
          1.0256786577294228,
          1.0272833710267137,
          0.9212705727252719,
          -0.71638376743169,
          -0.3934942048076385,
          -0.3503235301888743,
          -0.019981995927691884,
          0.06001570368658886
         ],
         "yaxis": "y"
        }
       ],
       "layout": {
        "coloraxis": {
         "colorbar": {
          "title": {
           "text": "cluster"
          }
         },
         "colorscale": [
          [
           0,
           "#0d0887"
          ],
          [
           0.1111111111111111,
           "#46039f"
          ],
          [
           0.2222222222222222,
           "#7201a8"
          ],
          [
           0.3333333333333333,
           "#9c179e"
          ],
          [
           0.4444444444444444,
           "#bd3786"
          ],
          [
           0.5555555555555556,
           "#d8576b"
          ],
          [
           0.6666666666666666,
           "#ed7953"
          ],
          [
           0.7777777777777778,
           "#fb9f3a"
          ],
          [
           0.8888888888888888,
           "#fdca26"
          ],
          [
           1,
           "#f0f921"
          ]
         ]
        },
        "legend": {
         "tracegroupgap": 0
        },
        "margin": {
         "t": 60
        },
        "template": {
         "data": {
          "bar": [
           {
            "error_x": {
             "color": "#2a3f5f"
            },
            "error_y": {
             "color": "#2a3f5f"
            },
            "marker": {
             "line": {
              "color": "#E5ECF6",
              "width": 0.5
             },
             "pattern": {
              "fillmode": "overlay",
              "size": 10,
              "solidity": 0.2
             }
            },
            "type": "bar"
           }
          ],
          "barpolar": [
           {
            "marker": {
             "line": {
              "color": "#E5ECF6",
              "width": 0.5
             },
             "pattern": {
              "fillmode": "overlay",
              "size": 10,
              "solidity": 0.2
             }
            },
            "type": "barpolar"
           }
          ],
          "carpet": [
           {
            "aaxis": {
             "endlinecolor": "#2a3f5f",
             "gridcolor": "white",
             "linecolor": "white",
             "minorgridcolor": "white",
             "startlinecolor": "#2a3f5f"
            },
            "baxis": {
             "endlinecolor": "#2a3f5f",
             "gridcolor": "white",
             "linecolor": "white",
             "minorgridcolor": "white",
             "startlinecolor": "#2a3f5f"
            },
            "type": "carpet"
           }
          ],
          "choropleth": [
           {
            "colorbar": {
             "outlinewidth": 0,
             "ticks": ""
            },
            "type": "choropleth"
           }
          ],
          "contour": [
           {
            "colorbar": {
             "outlinewidth": 0,
             "ticks": ""
            },
            "colorscale": [
             [
              0,
              "#0d0887"
             ],
             [
              0.1111111111111111,
              "#46039f"
             ],
             [
              0.2222222222222222,
              "#7201a8"
             ],
             [
              0.3333333333333333,
              "#9c179e"
             ],
             [
              0.4444444444444444,
              "#bd3786"
             ],
             [
              0.5555555555555556,
              "#d8576b"
             ],
             [
              0.6666666666666666,
              "#ed7953"
             ],
             [
              0.7777777777777778,
              "#fb9f3a"
             ],
             [
              0.8888888888888888,
              "#fdca26"
             ],
             [
              1,
              "#f0f921"
             ]
            ],
            "type": "contour"
           }
          ],
          "contourcarpet": [
           {
            "colorbar": {
             "outlinewidth": 0,
             "ticks": ""
            },
            "type": "contourcarpet"
           }
          ],
          "heatmap": [
           {
            "colorbar": {
             "outlinewidth": 0,
             "ticks": ""
            },
            "colorscale": [
             [
              0,
              "#0d0887"
             ],
             [
              0.1111111111111111,
              "#46039f"
             ],
             [
              0.2222222222222222,
              "#7201a8"
             ],
             [
              0.3333333333333333,
              "#9c179e"
             ],
             [
              0.4444444444444444,
              "#bd3786"
             ],
             [
              0.5555555555555556,
              "#d8576b"
             ],
             [
              0.6666666666666666,
              "#ed7953"
             ],
             [
              0.7777777777777778,
              "#fb9f3a"
             ],
             [
              0.8888888888888888,
              "#fdca26"
             ],
             [
              1,
              "#f0f921"
             ]
            ],
            "type": "heatmap"
           }
          ],
          "heatmapgl": [
           {
            "colorbar": {
             "outlinewidth": 0,
             "ticks": ""
            },
            "colorscale": [
             [
              0,
              "#0d0887"
             ],
             [
              0.1111111111111111,
              "#46039f"
             ],
             [
              0.2222222222222222,
              "#7201a8"
             ],
             [
              0.3333333333333333,
              "#9c179e"
             ],
             [
              0.4444444444444444,
              "#bd3786"
             ],
             [
              0.5555555555555556,
              "#d8576b"
             ],
             [
              0.6666666666666666,
              "#ed7953"
             ],
             [
              0.7777777777777778,
              "#fb9f3a"
             ],
             [
              0.8888888888888888,
              "#fdca26"
             ],
             [
              1,
              "#f0f921"
             ]
            ],
            "type": "heatmapgl"
           }
          ],
          "histogram": [
           {
            "marker": {
             "pattern": {
              "fillmode": "overlay",
              "size": 10,
              "solidity": 0.2
             }
            },
            "type": "histogram"
           }
          ],
          "histogram2d": [
           {
            "colorbar": {
             "outlinewidth": 0,
             "ticks": ""
            },
            "colorscale": [
             [
              0,
              "#0d0887"
             ],
             [
              0.1111111111111111,
              "#46039f"
             ],
             [
              0.2222222222222222,
              "#7201a8"
             ],
             [
              0.3333333333333333,
              "#9c179e"
             ],
             [
              0.4444444444444444,
              "#bd3786"
             ],
             [
              0.5555555555555556,
              "#d8576b"
             ],
             [
              0.6666666666666666,
              "#ed7953"
             ],
             [
              0.7777777777777778,
              "#fb9f3a"
             ],
             [
              0.8888888888888888,
              "#fdca26"
             ],
             [
              1,
              "#f0f921"
             ]
            ],
            "type": "histogram2d"
           }
          ],
          "histogram2dcontour": [
           {
            "colorbar": {
             "outlinewidth": 0,
             "ticks": ""
            },
            "colorscale": [
             [
              0,
              "#0d0887"
             ],
             [
              0.1111111111111111,
              "#46039f"
             ],
             [
              0.2222222222222222,
              "#7201a8"
             ],
             [
              0.3333333333333333,
              "#9c179e"
             ],
             [
              0.4444444444444444,
              "#bd3786"
             ],
             [
              0.5555555555555556,
              "#d8576b"
             ],
             [
              0.6666666666666666,
              "#ed7953"
             ],
             [
              0.7777777777777778,
              "#fb9f3a"
             ],
             [
              0.8888888888888888,
              "#fdca26"
             ],
             [
              1,
              "#f0f921"
             ]
            ],
            "type": "histogram2dcontour"
           }
          ],
          "mesh3d": [
           {
            "colorbar": {
             "outlinewidth": 0,
             "ticks": ""
            },
            "type": "mesh3d"
           }
          ],
          "parcoords": [
           {
            "line": {
             "colorbar": {
              "outlinewidth": 0,
              "ticks": ""
             }
            },
            "type": "parcoords"
           }
          ],
          "pie": [
           {
            "automargin": true,
            "type": "pie"
           }
          ],
          "scatter": [
           {
            "fillpattern": {
             "fillmode": "overlay",
             "size": 10,
             "solidity": 0.2
            },
            "type": "scatter"
           }
          ],
          "scatter3d": [
           {
            "line": {
             "colorbar": {
              "outlinewidth": 0,
              "ticks": ""
             }
            },
            "marker": {
             "colorbar": {
              "outlinewidth": 0,
              "ticks": ""
             }
            },
            "type": "scatter3d"
           }
          ],
          "scattercarpet": [
           {
            "marker": {
             "colorbar": {
              "outlinewidth": 0,
              "ticks": ""
             }
            },
            "type": "scattercarpet"
           }
          ],
          "scattergeo": [
           {
            "marker": {
             "colorbar": {
              "outlinewidth": 0,
              "ticks": ""
             }
            },
            "type": "scattergeo"
           }
          ],
          "scattergl": [
           {
            "marker": {
             "colorbar": {
              "outlinewidth": 0,
              "ticks": ""
             }
            },
            "type": "scattergl"
           }
          ],
          "scattermapbox": [
           {
            "marker": {
             "colorbar": {
              "outlinewidth": 0,
              "ticks": ""
             }
            },
            "type": "scattermapbox"
           }
          ],
          "scatterpolar": [
           {
            "marker": {
             "colorbar": {
              "outlinewidth": 0,
              "ticks": ""
             }
            },
            "type": "scatterpolar"
           }
          ],
          "scatterpolargl": [
           {
            "marker": {
             "colorbar": {
              "outlinewidth": 0,
              "ticks": ""
             }
            },
            "type": "scatterpolargl"
           }
          ],
          "scatterternary": [
           {
            "marker": {
             "colorbar": {
              "outlinewidth": 0,
              "ticks": ""
             }
            },
            "type": "scatterternary"
           }
          ],
          "surface": [
           {
            "colorbar": {
             "outlinewidth": 0,
             "ticks": ""
            },
            "colorscale": [
             [
              0,
              "#0d0887"
             ],
             [
              0.1111111111111111,
              "#46039f"
             ],
             [
              0.2222222222222222,
              "#7201a8"
             ],
             [
              0.3333333333333333,
              "#9c179e"
             ],
             [
              0.4444444444444444,
              "#bd3786"
             ],
             [
              0.5555555555555556,
              "#d8576b"
             ],
             [
              0.6666666666666666,
              "#ed7953"
             ],
             [
              0.7777777777777778,
              "#fb9f3a"
             ],
             [
              0.8888888888888888,
              "#fdca26"
             ],
             [
              1,
              "#f0f921"
             ]
            ],
            "type": "surface"
           }
          ],
          "table": [
           {
            "cells": {
             "fill": {
              "color": "#EBF0F8"
             },
             "line": {
              "color": "white"
             }
            },
            "header": {
             "fill": {
              "color": "#C8D4E3"
             },
             "line": {
              "color": "white"
             }
            },
            "type": "table"
           }
          ]
         },
         "layout": {
          "annotationdefaults": {
           "arrowcolor": "#2a3f5f",
           "arrowhead": 0,
           "arrowwidth": 1
          },
          "autotypenumbers": "strict",
          "coloraxis": {
           "colorbar": {
            "outlinewidth": 0,
            "ticks": ""
           }
          },
          "colorscale": {
           "diverging": [
            [
             0,
             "#8e0152"
            ],
            [
             0.1,
             "#c51b7d"
            ],
            [
             0.2,
             "#de77ae"
            ],
            [
             0.3,
             "#f1b6da"
            ],
            [
             0.4,
             "#fde0ef"
            ],
            [
             0.5,
             "#f7f7f7"
            ],
            [
             0.6,
             "#e6f5d0"
            ],
            [
             0.7,
             "#b8e186"
            ],
            [
             0.8,
             "#7fbc41"
            ],
            [
             0.9,
             "#4d9221"
            ],
            [
             1,
             "#276419"
            ]
           ],
           "sequential": [
            [
             0,
             "#0d0887"
            ],
            [
             0.1111111111111111,
             "#46039f"
            ],
            [
             0.2222222222222222,
             "#7201a8"
            ],
            [
             0.3333333333333333,
             "#9c179e"
            ],
            [
             0.4444444444444444,
             "#bd3786"
            ],
            [
             0.5555555555555556,
             "#d8576b"
            ],
            [
             0.6666666666666666,
             "#ed7953"
            ],
            [
             0.7777777777777778,
             "#fb9f3a"
            ],
            [
             0.8888888888888888,
             "#fdca26"
            ],
            [
             1,
             "#f0f921"
            ]
           ],
           "sequentialminus": [
            [
             0,
             "#0d0887"
            ],
            [
             0.1111111111111111,
             "#46039f"
            ],
            [
             0.2222222222222222,
             "#7201a8"
            ],
            [
             0.3333333333333333,
             "#9c179e"
            ],
            [
             0.4444444444444444,
             "#bd3786"
            ],
            [
             0.5555555555555556,
             "#d8576b"
            ],
            [
             0.6666666666666666,
             "#ed7953"
            ],
            [
             0.7777777777777778,
             "#fb9f3a"
            ],
            [
             0.8888888888888888,
             "#fdca26"
            ],
            [
             1,
             "#f0f921"
            ]
           ]
          },
          "colorway": [
           "#636efa",
           "#EF553B",
           "#00cc96",
           "#ab63fa",
           "#FFA15A",
           "#19d3f3",
           "#FF6692",
           "#B6E880",
           "#FF97FF",
           "#FECB52"
          ],
          "font": {
           "color": "#2a3f5f"
          },
          "geo": {
           "bgcolor": "white",
           "lakecolor": "white",
           "landcolor": "#E5ECF6",
           "showlakes": true,
           "showland": true,
           "subunitcolor": "white"
          },
          "hoverlabel": {
           "align": "left"
          },
          "hovermode": "closest",
          "mapbox": {
           "style": "light"
          },
          "paper_bgcolor": "white",
          "plot_bgcolor": "#E5ECF6",
          "polar": {
           "angularaxis": {
            "gridcolor": "white",
            "linecolor": "white",
            "ticks": ""
           },
           "bgcolor": "#E5ECF6",
           "radialaxis": {
            "gridcolor": "white",
            "linecolor": "white",
            "ticks": ""
           }
          },
          "scene": {
           "xaxis": {
            "backgroundcolor": "#E5ECF6",
            "gridcolor": "white",
            "gridwidth": 2,
            "linecolor": "white",
            "showbackground": true,
            "ticks": "",
            "zerolinecolor": "white"
           },
           "yaxis": {
            "backgroundcolor": "#E5ECF6",
            "gridcolor": "white",
            "gridwidth": 2,
            "linecolor": "white",
            "showbackground": true,
            "ticks": "",
            "zerolinecolor": "white"
           },
           "zaxis": {
            "backgroundcolor": "#E5ECF6",
            "gridcolor": "white",
            "gridwidth": 2,
            "linecolor": "white",
            "showbackground": true,
            "ticks": "",
            "zerolinecolor": "white"
           }
          },
          "shapedefaults": {
           "line": {
            "color": "#2a3f5f"
           }
          },
          "ternary": {
           "aaxis": {
            "gridcolor": "white",
            "linecolor": "white",
            "ticks": ""
           },
           "baxis": {
            "gridcolor": "white",
            "linecolor": "white",
            "ticks": ""
           },
           "bgcolor": "#E5ECF6",
           "caxis": {
            "gridcolor": "white",
            "linecolor": "white",
            "ticks": ""
           }
          },
          "title": {
           "x": 0.05
          },
          "xaxis": {
           "automargin": true,
           "gridcolor": "white",
           "linecolor": "white",
           "ticks": "",
           "title": {
            "standoff": 15
           },
           "zerolinecolor": "white",
           "zerolinewidth": 2
          },
          "yaxis": {
           "automargin": true,
           "gridcolor": "white",
           "linecolor": "white",
           "ticks": "",
           "title": {
            "standoff": 15
           },
           "zerolinecolor": "white",
           "zerolinewidth": 2
          }
         }
        },
        "xaxis": {
         "anchor": "y",
         "domain": [
          0,
          1
         ],
         "title": {
          "text": "PC1"
         }
        },
        "yaxis": {
         "anchor": "x",
         "domain": [
          0,
          1
         ],
         "title": {
          "text": "PC2"
         }
        }
       }
      }
     },
     "metadata": {},
     "output_type": "display_data"
    }
   ],
   "source": [
    "for eps in eps_options:\n",
    "    for min in min_options:\n",
    "        print('eps:' + str(eps))\n",
    "        print('min:' + str(min))\n",
    "        DBSCANplot(features_pca, eps, min, map_plot=False)"
   ]
  },
  {
   "cell_type": "code",
   "execution_count": null,
   "metadata": {},
   "outputs": [
    {
     "name": "stdout",
     "output_type": "stream",
     "text": [
      "6\n"
     ]
    },
    {
     "data": {
      "application/vnd.plotly.v1+json": {
       "config": {
        "plotlyServerURL": "https://plot.ly"
       },
       "data": [
        {
         "hovertemplate": "<b>%{hovertext}</b><br><br>latitude=%{lat}<br>longitude=%{lon}<br>cluster=%{marker.color}<extra></extra>",
         "hovertext": [
          "Wakefield",
          "Co-op City",
          "Eastchester",
          "Fieldston",
          "Riverdale",
          "Kingsbridge",
          "Marble Hill",
          "Woodlawn",
          "Norwood",
          "Williamsbridge",
          "Baychester",
          "Pelham Parkway",
          "City Island",
          "Bedford Park",
          "University Heights",
          "Morris Heights",
          "Fordham",
          "East Tremont",
          "West Farms",
          "High  Bridge",
          "Melrose",
          "Mott Haven",
          "Port Morris",
          "Longwood",
          "Hunts Point",
          "Morrisania",
          "Soundview",
          "Clason Point",
          "Throgs Neck",
          "Country Club",
          "Parkchester",
          "Westchester Square",
          "Van Nest",
          "Morris Park",
          "Belmont",
          "Spuyten Duyvil",
          "North Riverdale",
          "Pelham Bay",
          "Schuylerville",
          "Edgewater Park",
          "Castle Hill",
          "Olinville",
          "Pelham Gardens",
          "Concourse",
          "Unionport",
          "Edenwald",
          "Bay Ridge",
          "Bensonhurst",
          "Sunset Park",
          "Greenpoint",
          "Gravesend",
          "Brighton Beach",
          "Sheepshead Bay",
          "Manhattan Terrace",
          "Flatbush",
          "Crown Heights",
          "East Flatbush",
          "Kensington",
          "Windsor Terrace",
          "Prospect Heights",
          "Brownsville",
          "Williamsburg",
          "Bushwick",
          "Bedford Stuyvesant",
          "Brooklyn Heights",
          "Cobble Hill",
          "Carroll Gardens",
          "Red Hook",
          "Gowanus",
          "Fort Greene",
          "Park Slope",
          "Cypress Hills",
          "East New York",
          "Starrett City",
          "Canarsie",
          "Flatlands",
          "Mill Island",
          "Manhattan Beach",
          "Coney Island",
          "Bath Beach",
          "Borough Park",
          "Dyker Heights",
          "Gerritsen Beach",
          "Marine Park",
          "Clinton Hill",
          "Sea Gate",
          "Downtown",
          "Boerum Hill",
          "Prospect Lefferts Gardens",
          "Ocean Hill",
          "City Line",
          "Bergen Beach",
          "Midwood",
          "Prospect Park South",
          "Georgetown",
          "East Williamsburg",
          "North Side",
          "South Side",
          "Ocean Parkway",
          "Fort Hamilton",
          "Chinatown",
          "Washington Heights",
          "Inwood",
          "Hamilton Heights",
          "Manhattanville",
          "Central Harlem",
          "East Harlem",
          "Upper East Side",
          "Yorkville",
          "Lenox Hill",
          "Roosevelt Island",
          "Upper West Side",
          "Lincoln Square",
          "Clinton",
          "Midtown",
          "Murray Hill",
          "Murray Hill",
          "Chelsea",
          "Chelsea",
          "Greenwich Village",
          "East Village",
          "Lower East Side",
          "Tribeca",
          "Little Italy",
          "Soho",
          "West Village",
          "Manhattan Valley",
          "Morningside Heights",
          "Gramercy",
          "Battery Park City",
          "Financial District",
          "Astoria",
          "Woodside",
          "Jackson Heights",
          "Elmhurst",
          "Howard Beach",
          "Corona",
          "Forest Hills",
          "Kew Gardens",
          "Richmond Hill",
          "Flushing",
          "Long Island City",
          "Sunnyside",
          "Sunnyside",
          "East Elmhurst",
          "Maspeth",
          "Ridgewood",
          "Glendale",
          "Rego Park",
          "Woodhaven",
          "Ozone Park",
          "South Ozone Park",
          "College Point",
          "Whitestone",
          "Bayside",
          "Auburndale",
          "Little Neck",
          "Douglaston",
          "Glen Oaks",
          "Bellerose",
          "Kew Gardens Hills",
          "Fresh Meadows",
          "Briarwood",
          "Jamaica Center",
          "Oakland Gardens",
          "Queens Village",
          "Hollis",
          "South Jamaica",
          "St. Albans",
          "Rochdale",
          "Springfield Gardens",
          "Cambria Heights",
          "Rosedale",
          "Far Rockaway",
          "Broad Channel",
          "Breezy Point",
          "Steinway",
          "Beechhurst",
          "Bay Terrace",
          "Bay Terrace",
          "Edgemere",
          "Arverne",
          "Rockaway Beach",
          "Neponsit",
          "Floral Park",
          "Holliswood",
          "Jamaica Estates",
          "Queensboro Hill",
          "Hillcrest",
          "Ravenswood",
          "Lindenwood",
          "Laurelton",
          "Lefrak City",
          "Belle Harbor",
          "Rockaway Park",
          "Somerville",
          "Brookville",
          "Bellaire",
          "North Corona",
          "Forest Hills Gardens",
          "St. George",
          "New Brighton",
          "Stapleton",
          "Rosebank",
          "West Brighton",
          "Grymes Hill",
          "Todt Hill",
          "South Beach",
          "Port Richmond",
          "Mariner's Harbor",
          "Port Ivory",
          "Castleton Corners",
          "New Springville",
          "Travis",
          "New Dorp",
          "Oakwood",
          "Great Kills",
          "Eltingville",
          "Annadale",
          "Woodrow",
          "Tottenville",
          "Tompkinsville",
          "Silver Lake",
          "Ditmas Park",
          "Wingate",
          "Rugby",
          "Park Hill",
          "Westerleigh",
          "Graniteville",
          "Arlington",
          "Arrochar",
          "Grasmere",
          "Old Town",
          "Dongan Hills",
          "Midland Beach",
          "Grant City",
          "New Dorp Beach",
          "Huguenot",
          "Pleasant Plains",
          "Butler Manor",
          "Charleston",
          "Rossville",
          "Arden Heights",
          "Greenridge",
          "Heartland Village",
          "Bloomfield",
          "Bulls Head",
          "Carnegie Hill",
          "Noho",
          "Civic Center",
          "Midtown South",
          "Richmond Town",
          "Shore Acres",
          "Clifton",
          "Concord",
          "Emerson Hill",
          "Randall Manor",
          "Howland Hook",
          "Elm Park",
          "Remsen Village",
          "New Lots",
          "Paerdegat Basin",
          "Mill Basin",
          "Jamaica Hills",
          "Utopia",
          "Pomonok",
          "Astoria Heights",
          "Claremont Village",
          "Concourse Village",
          "Mount Eden",
          "Mount Hope",
          "Sutton Place",
          "Hunters Point",
          "Turtle Bay",
          "Tudor City",
          "Stuyvesant Town",
          "Flatiron",
          "Sunnyside Gardens",
          "Blissville",
          "Fulton Ferry",
          "Vinegar Hill",
          "Weeksville",
          "Broadway Junction",
          "Dumbo",
          "Manor Heights",
          "Willowbrook",
          "Sandy Ground",
          "Egbertville",
          "Roxbury",
          "Homecrest",
          "Middle Village",
          "Prince's Bay",
          "Lighthouse Hill",
          "Richmond Valley",
          "Malba",
          "Highland Park",
          "Madison",
          "Bronxdale",
          "Allerton",
          "Kingsbridge Heights",
          "Erasmus",
          "Hudson Yards",
          "Hammels",
          "Bayswater",
          "Queensbridge",
          "Fox Hills"
         ],
         "lat": [
          40.89470517661,
          40.87429419303012,
          40.887555677350775,
          40.89543742690383,
          40.890834493891305,
          40.88168737120521,
          40.87655077879964,
          40.89827261213805,
          40.87722415599446,
          40.88103887819211,
          40.866858107252696,
          40.85741349808865,
          40.84724670491813,
          40.870185164975325,
          40.85572707719664,
          40.84789792606271,
          40.86099679638654,
          40.84269615786053,
          40.83947505672653,
          40.836623010706056,
          40.819754370594936,
          40.80623874935177,
          40.801663627756206,
          40.81509904545822,
          40.80972987938709,
          40.82359198585534,
          40.821012197914015,
          40.80655112003589,
          40.81510925804005,
          40.844245936947374,
          40.837937822267286,
          40.8406194964327,
          40.84360847124718,
          40.847549063536334,
          40.85727710073895,
          40.88139497727086,
          40.90854282950666,
          40.85064140940335,
          40.82657951686922,
          40.82198611816349,
          40.81901437698832,
          40.87137078192371,
          40.86296562477998,
          40.83428380733851,
          40.82977429787161,
          40.88456130303732,
          40.625801065010656,
          40.61100890202044,
          40.64510294925429,
          40.7302009848647,
          40.59526001306593,
          40.57682506566604,
          40.58689012678384,
          40.61443251335098,
          40.63632589026677,
          40.67082917695294,
          40.64171776668961,
          40.642381958003526,
          40.65694583575104,
          40.67682226225472,
          40.66394994339755,
          40.70714439344251,
          40.69811611017901,
          40.687231607720456,
          40.69586372272408,
          40.68791972248557,
          40.680540231076485,
          40.676253230250886,
          40.673931143187154,
          40.68852726018977,
          40.67232052268197,
          40.68239101144211,
          40.669925700847045,
          40.64758905230874,
          40.63556432797428,
          40.630446043757466,
          40.606336421685626,
          40.57791350308657,
          40.57429256471601,
          40.59951870282238,
          40.633130512758015,
          40.61921945772264,
          40.590848433902046,
          40.609747779894604,
          40.693229421881504,
          40.57637537890224,
          40.69084402109802,
          40.68568291209144,
          40.658420017469815,
          40.67840255479536,
          40.67856995727479,
          40.61514955045308,
          40.62559589869843,
          40.64700860318519,
          40.62384524478419,
          40.70849241041548,
          40.714822906532014,
          40.71086147265064,
          40.61305976667942,
          40.61476812694226,
          40.71561842231432,
          40.85190252555305,
          40.86768396449915,
          40.823604284811935,
          40.8169344294978,
          40.81597606742414,
          40.79224946663033,
          40.775638573301805,
          40.77592984988488,
          40.76811265828733,
          40.76215960576283,
          40.78765799853485,
          40.77352888942166,
          40.75910089146212,
          40.75469110270623,
          40.748303077252174,
          40.76412612261407,
          40.744034706747975,
          40.59472602746295,
          40.72693288536128,
          40.72784677727024,
          40.71780674892765,
          40.721521967443216,
          40.71932379395907,
          40.72218384131794,
          40.73443393572434,
          40.79730704170287,
          40.80799973816583,
          40.737209832715,
          40.71193198394565,
          40.70710710727048,
          40.76850859335492,
          40.74634908860222,
          40.75198138007367,
          40.74404850512202,
          40.65422527738487,
          40.74238175015667,
          40.72526378216503,
          40.7051790354148,
          40.69794731471763,
          40.76445419697846,
          40.75021734610528,
          40.74017628351924,
          40.61276015756489,
          40.76407323883091,
          40.725427374093606,
          40.70832315613858,
          40.70276242967838,
          40.72897409480735,
          40.68988687915789,
          40.680708468265415,
          40.66854957767195,
          40.784902749260205,
          40.78129076602694,
          40.76604063281064,
          40.76172954903262,
          40.7708261928267,
          40.76684609790763,
          40.74944079974332,
          40.72857318176675,
          40.722578244228046,
          40.7343944653313,
          40.71093547252271,
          40.70465736068717,
          40.74561857141855,
          40.71889309216736,
          40.71124344191904,
          40.696911253789885,
          40.69444538522359,
          40.67521139591733,
          40.66623049036858,
          40.692774639160845,
          40.65981643342808,
          40.603134432500894,
          40.60302658351238,
          40.55740128845452,
          40.775923015642896,
          40.79278140360048,
          40.782842806245554,
          40.55398800858462,
          40.595641807368494,
          40.58914394372971,
          40.58280169684559,
          40.572036730217015,
          40.74137842194544,
          40.7209572076444,
          40.71680483014613,
          40.7445723092867,
          40.7238249018292,
          40.76170452605415,
          40.66391841925139,
          40.66788389660247,
          40.7360745708308,
          40.57615556543109,
          40.58034295646131,
          40.59771061565768,
          40.66000322733613,
          40.73301404027834,
          40.7540709990489,
          40.7146110815117,
          40.6449815710044,
          40.64061455913511,
          40.62692762538176,
          40.61530494652761,
          40.63187892654607,
          40.624184791313006,
          40.59706851814673,
          40.58024741350956,
          40.63366930554365,
          40.63254639048112,
          40.63968297845542,
          40.61333593766742,
          40.594252379161695,
          40.58631375103281,
          40.57257231820632,
          40.5584622432888,
          40.549480228713605,
          40.542230747450745,
          40.53811417474507,
          40.54196762288876,
          40.50533376115642,
          40.637316067110326,
          40.61919310792676,
          40.643675183340974,
          40.66094656188111,
          40.65557231328077,
          40.60919044434558,
          40.62109047275409,
          40.620171512231884,
          40.63532509911492,
          40.596312571276734,
          40.59826835959991,
          40.59632891379513,
          40.58867294819928,
          40.57352690574283,
          40.57621558711788,
          40.56425549307335,
          40.531911920489605,
          40.524699376118136,
          40.50608165346305,
          40.53053148283314,
          40.54940400650072,
          40.54928582278321,
          40.5552952361732,
          40.58913894875281,
          40.60577868452358,
          40.6095918004203,
          40.7826825671257,
          40.72325901885768,
          40.71522892046282,
          40.7485096643122,
          40.56960594275505,
          40.60971934079284,
          40.61917845202843,
          40.6044731896879,
          40.606794394801,
          40.63563000681151,
          40.63843283794795,
          40.63014674119383,
          40.65211745179349,
          40.6627442796966,
          40.63131755039667,
          40.61597423962336,
          40.71145964370482,
          40.73350025429757,
          40.73493618075478,
          40.7703173929982,
          40.83142834161548,
          40.824780490842905,
          40.84382617671654,
          40.84884160724665,
          40.76028033131374,
          40.743414090073536,
          40.75204236950722,
          40.7469174107402,
          40.73099955477061,
          40.739673047638426,
          40.74565180608076,
          40.73725071694497,
          40.70328109093014,
          40.70332149882874,
          40.67503986503237,
          40.67786104769531,
          40.70317632822692,
          40.60180957631444,
          40.60370692627371,
          40.541139922091766,
          40.579118742961214,
          40.56737588957032,
          40.598525095137255,
          40.716414511158185,
          40.52626406734812,
          40.57650629379489,
          40.51954145748909,
          40.79060155670148,
          40.6819989345173,
          40.60937770113766,
          40.85272297633017,
          40.86578787802982,
          40.8703923914147,
          40.64692606658579,
          40.75665808227519,
          40.58733774018741,
          40.61132169128384,
          40.75609129709471,
          40.61731079252983
         ],
         "legendgroup": "",
         "lon": [
          -73.84720052054902,
          -73.82993910812398,
          -73.82780644716412,
          -73.90564259591682,
          -73.9125854610857,
          -73.90281798724604,
          -73.91065965862981,
          -73.86731496814176,
          -73.8793907395681,
          -73.85744642974207,
          -73.83579759808117,
          -73.85475564017999,
          -73.78648845267413,
          -73.8855121841913,
          -73.9104159619131,
          -73.91967159119565,
          -73.89642655981623,
          -73.88735617532338,
          -73.87774474910545,
          -73.9261020935813,
          -73.90942160757436,
          -73.91609987487575,
          -73.91322139386135,
          -73.8957882009446,
          -73.88331505955291,
          -73.90150648943059,
          -73.86574609554924,
          -73.85414416189266,
          -73.81635002158441,
          -73.8240992675385,
          -73.85600310535783,
          -73.84219407604444,
          -73.8662991807561,
          -73.85040178030421,
          -73.88845196134804,
          -73.91719048210393,
          -73.90453054908927,
          -73.8320737824047,
          -73.82620275994073,
          -73.81388514428619,
          -73.84802729582735,
          -73.86332361652777,
          -73.84161194831223,
          -73.91558941773444,
          -73.85053524451935,
          -73.84808271877168,
          -74.03062069353813,
          -73.99517998380729,
          -74.01031618527784,
          -73.95424093127393,
          -73.97347087708445,
          -73.96509448785336,
          -73.94318640482979,
          -73.95743840559939,
          -73.95840106533903,
          -73.94329119073582,
          -73.93610256185836,
          -73.98042110559474,
          -73.98007340430172,
          -73.9648592426269,
          -73.91023536176607,
          -73.95811529220927,
          -73.92525797487045,
          -73.94178488690297,
          -73.99378225496424,
          -73.99856139218463,
          -73.99465372828006,
          -74.0127589747356,
          -73.99444087145339,
          -73.97290574369092,
          -73.97705030183924,
          -73.87661596457296,
          -73.88069863917366,
          -73.87936970045875,
          -73.90209269778966,
          -73.92911302644674,
          -73.90818571777423,
          -73.94353722891886,
          -73.98868295821637,
          -73.99875221443519,
          -73.99049823044811,
          -74.01931375636022,
          -73.93010170691196,
          -73.93134404108497,
          -73.96784306216367,
          -74.0078731120024,
          -73.98346337431099,
          -73.98374824115798,
          -73.95489867077713,
          -73.91306831787395,
          -73.86797598081334,
          -73.89855633630317,
          -73.95759523489838,
          -73.96261316716048,
          -73.91607483951324,
          -73.93885815269195,
          -73.95880857587582,
          -73.95800095153331,
          -73.96836678035541,
          -74.03197914537984,
          -73.99427936255978,
          -73.93690027985234,
          -73.92121042203897,
          -73.94968791883366,
          -73.9573853935188,
          -73.94321112603905,
          -73.94418223148524,
          -73.96050763135,
          -73.94711784471826,
          -73.9588596881376,
          -73.94916769227953,
          -73.97705923630603,
          -73.98533777001262,
          -73.99611936309479,
          -73.98166882730304,
          -73.97833207924127,
          -73.81276269135866,
          -74.00311633472813,
          -74.1895604551969,
          -73.99991402945902,
          -73.98222616506416,
          -73.98089031999291,
          -74.01068328559087,
          -73.99730467208073,
          -74.00065666959759,
          -74.00617998126812,
          -73.96428617740655,
          -73.96389627905332,
          -73.98137594833541,
          -74.01686930508617,
          -74.0106654452127,
          -73.91565374304234,
          -73.90184166838284,
          -73.88282109164365,
          -73.88165622288388,
          -73.8381376460028,
          -73.85682497345258,
          -73.84447500788983,
          -73.82981905825703,
          -73.83183321446887,
          -73.83177300329582,
          -73.93920223915505,
          -73.92691617561577,
          -74.0971255217853,
          -73.86704147658772,
          -73.89621713626859,
          -73.90143517559589,
          -73.87074167435605,
          -73.8578268690537,
          -73.8581104655432,
          -73.84320266173447,
          -73.80986478649041,
          -73.84304528896125,
          -73.81420216610863,
          -73.7742736306867,
          -73.79176243728061,
          -73.7388977558074,
          -73.7424982072733,
          -73.71548118999145,
          -73.72012814826903,
          -73.82087764933566,
          -73.78271337003264,
          -73.81174822458634,
          -73.79690165888289,
          -73.75494976234332,
          -73.73871484578424,
          -73.75925009335594,
          -73.7904261313554,
          -73.75867603727717,
          -73.77258787620906,
          -73.76042092682287,
          -73.73526873708026,
          -73.73526079428278,
          -73.75497968043872,
          -73.8200548911032,
          -73.92551196994168,
          -73.90228960391673,
          -73.80436451720988,
          -73.7768022262158,
          -74.13916622175768,
          -73.77613282391705,
          -73.79199233136943,
          -73.82236121088751,
          -73.85754672410827,
          -73.70884705889246,
          -73.76714166714729,
          -73.7872269693666,
          -73.82580915110559,
          -73.79760300912672,
          -73.93157506072878,
          -73.84963782402441,
          -73.74025607989822,
          -73.8625247141374,
          -73.8540175039252,
          -73.84153370226186,
          -73.79664750844047,
          -73.75175310731153,
          -73.73889198912481,
          -73.85751790676447,
          -73.8410221123401,
          -74.07935312512797,
          -74.08701650516625,
          -74.07790192660066,
          -74.06980526716141,
          -74.1071817826561,
          -74.08724819983729,
          -74.1113288180088,
          -74.0795529253982,
          -74.12943426797008,
          -74.15008537046981,
          -74.17464532993542,
          -74.11918058534842,
          -74.16496031329827,
          -74.19073717538116,
          -74.1164794360638,
          -74.12156593771896,
          -74.14932381490992,
          -74.1643308041936,
          -74.17854866165878,
          -74.20524582480326,
          -74.24656934235283,
          -74.08055351790115,
          -74.09629029235458,
          -73.96101312466779,
          -73.93718680559314,
          -73.92688212616955,
          -74.08015734936296,
          -74.13304143951704,
          -74.15315246387762,
          -74.16510420241124,
          -74.06712363225574,
          -74.0766743627905,
          -74.08751118005578,
          -74.09639905312521,
          -74.09348266303591,
          -74.10585598545434,
          -74.10432707469124,
          -74.19174105747814,
          -74.21983106616777,
          -74.22950350260027,
          -74.23215775896526,
          -74.21572851113952,
          -74.18588674583893,
          -74.17079414786092,
          -74.15902208156601,
          -74.18725638381567,
          -74.15940948657122,
          -73.95325646837112,
          -73.98843368023597,
          -74.00541529873355,
          -73.98871313285247,
          -74.1340572986257,
          -74.06667766061771,
          -74.072642445484,
          -74.08402364740358,
          -74.09776206972522,
          -74.09805062373887,
          -74.18622331749823,
          -74.1418167896889,
          -73.91665331978048,
          -73.88511776379292,
          -73.90233474295836,
          -73.91515391550404,
          -73.79646462081593,
          -73.79671678028349,
          -73.80486120040537,
          -73.89467996270574,
          -73.90119903387667,
          -73.91584652759009,
          -73.91655551964419,
          -73.90829930881988,
          -73.96355614094303,
          -73.95386782130745,
          -73.96770824581834,
          -73.97121928722265,
          -73.97405170469203,
          -73.9909471052826,
          -73.91819286431682,
          -73.93244235260178,
          -73.99550751888415,
          -73.98111603592393,
          -73.93053108817338,
          -73.90331684852599,
          -73.9887528074504,
          -74.12059399718001,
          -74.13208447484298,
          -74.21776636068567,
          -74.12727240604946,
          -73.89213760232822,
          -73.95918459428702,
          -73.88114319200604,
          -74.20152556457658,
          -74.13792663771568,
          -74.22957080626941,
          -73.82667757138641,
          -73.890345709872,
          -73.94841515328893,
          -73.86172577555115,
          -73.85931863221647,
          -73.90152264513144,
          -73.94817709920184,
          -74.00011136202637,
          -73.80553002968718,
          -73.76596781445627,
          -73.94563070334091,
          -74.08173992211962
         ],
         "marker": {
          "color": [
           0,
           0,
           0,
           0,
           0,
           -1,
           -1,
           0,
           1,
           3,
           0,
           0,
           0,
           1,
           1,
           1,
           -1,
           1,
           1,
           1,
           1,
           2,
           0,
           1,
           0,
           1,
           0,
           0,
           0,
           0,
           1,
           0,
           1,
           0,
           -1,
           0,
           0,
           0,
           0,
           0,
           0,
           3,
           0,
           1,
           1,
           0,
           4,
           -1,
           -1,
           -1,
           0,
           0,
           0,
           -1,
           2,
           -1,
           0,
           0,
           -1,
           2,
           -1,
           2,
           -1,
           -1,
           2,
           2,
           2,
           0,
           -1,
           2,
           2,
           -1,
           1,
           0,
           0,
           0,
           0,
           0,
           0,
           -1,
           0,
           0,
           0,
           -1,
           2,
           0,
           2,
           2,
           2,
           2,
           -1,
           0,
           0,
           2,
           0,
           -1,
           -1,
           2,
           0,
           4,
           -1,
           -1,
           -1,
           -1,
           -1,
           -1,
           -1,
           2,
           2,
           2,
           -1,
           2,
           2,
           2,
           2,
           2,
           2,
           2,
           2,
           2,
           2,
           -1,
           2,
           -1,
           2,
           2,
           2,
           2,
           2,
           2,
           2,
           -1,
           -1,
           0,
           1,
           4,
           0,
           0,
           -1,
           4,
           0,
           -1,
           0,
           2,
           0,
           0,
           -1,
           1,
           0,
           0,
           0,
           -1,
           -1,
           -1,
           -1,
           0,
           -1,
           0,
           0,
           -1,
           -1,
           0,
           0,
           0,
           3,
           0,
           0,
           0,
           0,
           0,
           0,
           0,
           0,
           4,
           0,
           0,
           0,
           0,
           0,
           0,
           -1,
           0,
           0,
           -1,
           -1,
           0,
           2,
           0,
           0,
           -1,
           0,
           0,
           0,
           0,
           0,
           -1,
           4,
           0,
           0,
           0,
           0,
           0,
           0,
           0,
           0,
           0,
           0,
           0,
           0,
           0,
           0,
           0,
           0,
           0,
           0,
           0,
           0,
           0,
           0,
           0,
           0,
           2,
           -1,
           -1,
           0,
           0,
           0,
           0,
           0,
           0,
           0,
           0,
           0,
           0,
           0,
           0,
           0,
           0,
           0,
           0,
           0,
           0,
           0,
           0,
           0,
           0,
           0,
           2,
           2,
           2,
           2,
           0,
           0,
           0,
           0,
           0,
           0,
           0,
           0,
           -1,
           -1,
           0,
           0,
           -1,
           -1,
           0,
           0,
           1,
           1,
           1,
           1,
           2,
           -1,
           2,
           2,
           2,
           2,
           4,
           0,
           2,
           -1,
           2,
           -1,
           -1,
           0,
           0,
           0,
           0,
           0,
           0,
           0,
           0,
           0,
           0,
           0,
           -1,
           0,
           0,
           3,
           1,
           -1,
           2,
           0,
           0,
           -1,
           0
          ],
          "coloraxis": "coloraxis"
         },
         "mode": "markers",
         "name": "",
         "showlegend": false,
         "subplot": "mapbox",
         "type": "scattermapbox"
        }
       ],
       "layout": {
        "coloraxis": {
         "colorbar": {
          "title": {
           "text": "cluster"
          }
         },
         "colorscale": [
          [
           0,
           "#0d0887"
          ],
          [
           0.1111111111111111,
           "#46039f"
          ],
          [
           0.2222222222222222,
           "#7201a8"
          ],
          [
           0.3333333333333333,
           "#9c179e"
          ],
          [
           0.4444444444444444,
           "#bd3786"
          ],
          [
           0.5555555555555556,
           "#d8576b"
          ],
          [
           0.6666666666666666,
           "#ed7953"
          ],
          [
           0.7777777777777778,
           "#fb9f3a"
          ],
          [
           0.8888888888888888,
           "#fdca26"
          ],
          [
           1,
           "#f0f921"
          ]
         ]
        },
        "geo": {
         "fitbounds": "locations"
        },
        "height": 500,
        "legend": {
         "tracegroupgap": 0
        },
        "mapbox": {
         "accesstoken": "pk.eyJ1IjoidmVsdm94IiwiYSI6ImNsNThham8xajIxMnMzam1ycGg2eTZ0eGYifQ.RaCirjLZex17tLwWOx9FGQ",
         "center": {
          "lat": 40.70136210272567,
          "lon": -73.94625419828468
         },
         "domain": {
          "x": [
           0,
           1
          ],
          "y": [
           0,
           1
          ]
         },
         "style": "dark",
         "zoom": 8
        },
        "margin": {
         "b": 0,
         "l": 0,
         "r": 0,
         "t": 0
        },
        "template": {
         "data": {
          "bar": [
           {
            "error_x": {
             "color": "#2a3f5f"
            },
            "error_y": {
             "color": "#2a3f5f"
            },
            "marker": {
             "line": {
              "color": "#E5ECF6",
              "width": 0.5
             },
             "pattern": {
              "fillmode": "overlay",
              "size": 10,
              "solidity": 0.2
             }
            },
            "type": "bar"
           }
          ],
          "barpolar": [
           {
            "marker": {
             "line": {
              "color": "#E5ECF6",
              "width": 0.5
             },
             "pattern": {
              "fillmode": "overlay",
              "size": 10,
              "solidity": 0.2
             }
            },
            "type": "barpolar"
           }
          ],
          "carpet": [
           {
            "aaxis": {
             "endlinecolor": "#2a3f5f",
             "gridcolor": "white",
             "linecolor": "white",
             "minorgridcolor": "white",
             "startlinecolor": "#2a3f5f"
            },
            "baxis": {
             "endlinecolor": "#2a3f5f",
             "gridcolor": "white",
             "linecolor": "white",
             "minorgridcolor": "white",
             "startlinecolor": "#2a3f5f"
            },
            "type": "carpet"
           }
          ],
          "choropleth": [
           {
            "colorbar": {
             "outlinewidth": 0,
             "ticks": ""
            },
            "type": "choropleth"
           }
          ],
          "contour": [
           {
            "colorbar": {
             "outlinewidth": 0,
             "ticks": ""
            },
            "colorscale": [
             [
              0,
              "#0d0887"
             ],
             [
              0.1111111111111111,
              "#46039f"
             ],
             [
              0.2222222222222222,
              "#7201a8"
             ],
             [
              0.3333333333333333,
              "#9c179e"
             ],
             [
              0.4444444444444444,
              "#bd3786"
             ],
             [
              0.5555555555555556,
              "#d8576b"
             ],
             [
              0.6666666666666666,
              "#ed7953"
             ],
             [
              0.7777777777777778,
              "#fb9f3a"
             ],
             [
              0.8888888888888888,
              "#fdca26"
             ],
             [
              1,
              "#f0f921"
             ]
            ],
            "type": "contour"
           }
          ],
          "contourcarpet": [
           {
            "colorbar": {
             "outlinewidth": 0,
             "ticks": ""
            },
            "type": "contourcarpet"
           }
          ],
          "heatmap": [
           {
            "colorbar": {
             "outlinewidth": 0,
             "ticks": ""
            },
            "colorscale": [
             [
              0,
              "#0d0887"
             ],
             [
              0.1111111111111111,
              "#46039f"
             ],
             [
              0.2222222222222222,
              "#7201a8"
             ],
             [
              0.3333333333333333,
              "#9c179e"
             ],
             [
              0.4444444444444444,
              "#bd3786"
             ],
             [
              0.5555555555555556,
              "#d8576b"
             ],
             [
              0.6666666666666666,
              "#ed7953"
             ],
             [
              0.7777777777777778,
              "#fb9f3a"
             ],
             [
              0.8888888888888888,
              "#fdca26"
             ],
             [
              1,
              "#f0f921"
             ]
            ],
            "type": "heatmap"
           }
          ],
          "heatmapgl": [
           {
            "colorbar": {
             "outlinewidth": 0,
             "ticks": ""
            },
            "colorscale": [
             [
              0,
              "#0d0887"
             ],
             [
              0.1111111111111111,
              "#46039f"
             ],
             [
              0.2222222222222222,
              "#7201a8"
             ],
             [
              0.3333333333333333,
              "#9c179e"
             ],
             [
              0.4444444444444444,
              "#bd3786"
             ],
             [
              0.5555555555555556,
              "#d8576b"
             ],
             [
              0.6666666666666666,
              "#ed7953"
             ],
             [
              0.7777777777777778,
              "#fb9f3a"
             ],
             [
              0.8888888888888888,
              "#fdca26"
             ],
             [
              1,
              "#f0f921"
             ]
            ],
            "type": "heatmapgl"
           }
          ],
          "histogram": [
           {
            "marker": {
             "pattern": {
              "fillmode": "overlay",
              "size": 10,
              "solidity": 0.2
             }
            },
            "type": "histogram"
           }
          ],
          "histogram2d": [
           {
            "colorbar": {
             "outlinewidth": 0,
             "ticks": ""
            },
            "colorscale": [
             [
              0,
              "#0d0887"
             ],
             [
              0.1111111111111111,
              "#46039f"
             ],
             [
              0.2222222222222222,
              "#7201a8"
             ],
             [
              0.3333333333333333,
              "#9c179e"
             ],
             [
              0.4444444444444444,
              "#bd3786"
             ],
             [
              0.5555555555555556,
              "#d8576b"
             ],
             [
              0.6666666666666666,
              "#ed7953"
             ],
             [
              0.7777777777777778,
              "#fb9f3a"
             ],
             [
              0.8888888888888888,
              "#fdca26"
             ],
             [
              1,
              "#f0f921"
             ]
            ],
            "type": "histogram2d"
           }
          ],
          "histogram2dcontour": [
           {
            "colorbar": {
             "outlinewidth": 0,
             "ticks": ""
            },
            "colorscale": [
             [
              0,
              "#0d0887"
             ],
             [
              0.1111111111111111,
              "#46039f"
             ],
             [
              0.2222222222222222,
              "#7201a8"
             ],
             [
              0.3333333333333333,
              "#9c179e"
             ],
             [
              0.4444444444444444,
              "#bd3786"
             ],
             [
              0.5555555555555556,
              "#d8576b"
             ],
             [
              0.6666666666666666,
              "#ed7953"
             ],
             [
              0.7777777777777778,
              "#fb9f3a"
             ],
             [
              0.8888888888888888,
              "#fdca26"
             ],
             [
              1,
              "#f0f921"
             ]
            ],
            "type": "histogram2dcontour"
           }
          ],
          "mesh3d": [
           {
            "colorbar": {
             "outlinewidth": 0,
             "ticks": ""
            },
            "type": "mesh3d"
           }
          ],
          "parcoords": [
           {
            "line": {
             "colorbar": {
              "outlinewidth": 0,
              "ticks": ""
             }
            },
            "type": "parcoords"
           }
          ],
          "pie": [
           {
            "automargin": true,
            "type": "pie"
           }
          ],
          "scatter": [
           {
            "fillpattern": {
             "fillmode": "overlay",
             "size": 10,
             "solidity": 0.2
            },
            "type": "scatter"
           }
          ],
          "scatter3d": [
           {
            "line": {
             "colorbar": {
              "outlinewidth": 0,
              "ticks": ""
             }
            },
            "marker": {
             "colorbar": {
              "outlinewidth": 0,
              "ticks": ""
             }
            },
            "type": "scatter3d"
           }
          ],
          "scattercarpet": [
           {
            "marker": {
             "colorbar": {
              "outlinewidth": 0,
              "ticks": ""
             }
            },
            "type": "scattercarpet"
           }
          ],
          "scattergeo": [
           {
            "marker": {
             "colorbar": {
              "outlinewidth": 0,
              "ticks": ""
             }
            },
            "type": "scattergeo"
           }
          ],
          "scattergl": [
           {
            "marker": {
             "colorbar": {
              "outlinewidth": 0,
              "ticks": ""
             }
            },
            "type": "scattergl"
           }
          ],
          "scattermapbox": [
           {
            "marker": {
             "colorbar": {
              "outlinewidth": 0,
              "ticks": ""
             }
            },
            "type": "scattermapbox"
           }
          ],
          "scatterpolar": [
           {
            "marker": {
             "colorbar": {
              "outlinewidth": 0,
              "ticks": ""
             }
            },
            "type": "scatterpolar"
           }
          ],
          "scatterpolargl": [
           {
            "marker": {
             "colorbar": {
              "outlinewidth": 0,
              "ticks": ""
             }
            },
            "type": "scatterpolargl"
           }
          ],
          "scatterternary": [
           {
            "marker": {
             "colorbar": {
              "outlinewidth": 0,
              "ticks": ""
             }
            },
            "type": "scatterternary"
           }
          ],
          "surface": [
           {
            "colorbar": {
             "outlinewidth": 0,
             "ticks": ""
            },
            "colorscale": [
             [
              0,
              "#0d0887"
             ],
             [
              0.1111111111111111,
              "#46039f"
             ],
             [
              0.2222222222222222,
              "#7201a8"
             ],
             [
              0.3333333333333333,
              "#9c179e"
             ],
             [
              0.4444444444444444,
              "#bd3786"
             ],
             [
              0.5555555555555556,
              "#d8576b"
             ],
             [
              0.6666666666666666,
              "#ed7953"
             ],
             [
              0.7777777777777778,
              "#fb9f3a"
             ],
             [
              0.8888888888888888,
              "#fdca26"
             ],
             [
              1,
              "#f0f921"
             ]
            ],
            "type": "surface"
           }
          ],
          "table": [
           {
            "cells": {
             "fill": {
              "color": "#EBF0F8"
             },
             "line": {
              "color": "white"
             }
            },
            "header": {
             "fill": {
              "color": "#C8D4E3"
             },
             "line": {
              "color": "white"
             }
            },
            "type": "table"
           }
          ]
         },
         "layout": {
          "annotationdefaults": {
           "arrowcolor": "#2a3f5f",
           "arrowhead": 0,
           "arrowwidth": 1
          },
          "autotypenumbers": "strict",
          "coloraxis": {
           "colorbar": {
            "outlinewidth": 0,
            "ticks": ""
           }
          },
          "colorscale": {
           "diverging": [
            [
             0,
             "#8e0152"
            ],
            [
             0.1,
             "#c51b7d"
            ],
            [
             0.2,
             "#de77ae"
            ],
            [
             0.3,
             "#f1b6da"
            ],
            [
             0.4,
             "#fde0ef"
            ],
            [
             0.5,
             "#f7f7f7"
            ],
            [
             0.6,
             "#e6f5d0"
            ],
            [
             0.7,
             "#b8e186"
            ],
            [
             0.8,
             "#7fbc41"
            ],
            [
             0.9,
             "#4d9221"
            ],
            [
             1,
             "#276419"
            ]
           ],
           "sequential": [
            [
             0,
             "#0d0887"
            ],
            [
             0.1111111111111111,
             "#46039f"
            ],
            [
             0.2222222222222222,
             "#7201a8"
            ],
            [
             0.3333333333333333,
             "#9c179e"
            ],
            [
             0.4444444444444444,
             "#bd3786"
            ],
            [
             0.5555555555555556,
             "#d8576b"
            ],
            [
             0.6666666666666666,
             "#ed7953"
            ],
            [
             0.7777777777777778,
             "#fb9f3a"
            ],
            [
             0.8888888888888888,
             "#fdca26"
            ],
            [
             1,
             "#f0f921"
            ]
           ],
           "sequentialminus": [
            [
             0,
             "#0d0887"
            ],
            [
             0.1111111111111111,
             "#46039f"
            ],
            [
             0.2222222222222222,
             "#7201a8"
            ],
            [
             0.3333333333333333,
             "#9c179e"
            ],
            [
             0.4444444444444444,
             "#bd3786"
            ],
            [
             0.5555555555555556,
             "#d8576b"
            ],
            [
             0.6666666666666666,
             "#ed7953"
            ],
            [
             0.7777777777777778,
             "#fb9f3a"
            ],
            [
             0.8888888888888888,
             "#fdca26"
            ],
            [
             1,
             "#f0f921"
            ]
           ]
          },
          "colorway": [
           "#636efa",
           "#EF553B",
           "#00cc96",
           "#ab63fa",
           "#FFA15A",
           "#19d3f3",
           "#FF6692",
           "#B6E880",
           "#FF97FF",
           "#FECB52"
          ],
          "font": {
           "color": "#2a3f5f"
          },
          "geo": {
           "bgcolor": "white",
           "lakecolor": "white",
           "landcolor": "#E5ECF6",
           "showlakes": true,
           "showland": true,
           "subunitcolor": "white"
          },
          "hoverlabel": {
           "align": "left"
          },
          "hovermode": "closest",
          "mapbox": {
           "style": "light"
          },
          "paper_bgcolor": "white",
          "plot_bgcolor": "#E5ECF6",
          "polar": {
           "angularaxis": {
            "gridcolor": "white",
            "linecolor": "white",
            "ticks": ""
           },
           "bgcolor": "#E5ECF6",
           "radialaxis": {
            "gridcolor": "white",
            "linecolor": "white",
            "ticks": ""
           }
          },
          "scene": {
           "xaxis": {
            "backgroundcolor": "#E5ECF6",
            "gridcolor": "white",
            "gridwidth": 2,
            "linecolor": "white",
            "showbackground": true,
            "ticks": "",
            "zerolinecolor": "white"
           },
           "yaxis": {
            "backgroundcolor": "#E5ECF6",
            "gridcolor": "white",
            "gridwidth": 2,
            "linecolor": "white",
            "showbackground": true,
            "ticks": "",
            "zerolinecolor": "white"
           },
           "zaxis": {
            "backgroundcolor": "#E5ECF6",
            "gridcolor": "white",
            "gridwidth": 2,
            "linecolor": "white",
            "showbackground": true,
            "ticks": "",
            "zerolinecolor": "white"
           }
          },
          "shapedefaults": {
           "line": {
            "color": "#2a3f5f"
           }
          },
          "ternary": {
           "aaxis": {
            "gridcolor": "white",
            "linecolor": "white",
            "ticks": ""
           },
           "baxis": {
            "gridcolor": "white",
            "linecolor": "white",
            "ticks": ""
           },
           "bgcolor": "#E5ECF6",
           "caxis": {
            "gridcolor": "white",
            "linecolor": "white",
            "ticks": ""
           }
          },
          "title": {
           "x": 0.05
          },
          "xaxis": {
           "automargin": true,
           "gridcolor": "white",
           "linecolor": "white",
           "ticks": "",
           "title": {
            "standoff": 15
           },
           "zerolinecolor": "white",
           "zerolinewidth": 2
          },
          "yaxis": {
           "automargin": true,
           "gridcolor": "white",
           "linecolor": "white",
           "ticks": "",
           "title": {
            "standoff": 15
           },
           "zerolinecolor": "white",
           "zerolinewidth": 2
          }
         }
        }
       }
      }
     },
     "metadata": {},
     "output_type": "display_data"
    },
    {
     "data": {
      "application/vnd.plotly.v1+json": {
       "config": {
        "plotlyServerURL": "https://plot.ly"
       },
       "data": [
        {
         "hovertemplate": "PC1=%{x}<br>PC2=%{y}<br>cluster=%{marker.color}<extra></extra>",
         "legendgroup": "",
         "marker": {
          "color": [
           0,
           0,
           0,
           0,
           0,
           -1,
           -1,
           0,
           1,
           3,
           0,
           0,
           0,
           1,
           1,
           1,
           -1,
           1,
           1,
           1,
           1,
           2,
           0,
           1,
           0,
           1,
           0,
           0,
           0,
           0,
           1,
           0,
           1,
           0,
           -1,
           0,
           0,
           0,
           0,
           0,
           0,
           3,
           0,
           1,
           1,
           0,
           4,
           -1,
           -1,
           -1,
           0,
           0,
           0,
           -1,
           2,
           -1,
           0,
           0,
           -1,
           2,
           -1,
           2,
           -1,
           -1,
           2,
           2,
           2,
           0,
           -1,
           2,
           2,
           -1,
           1,
           0,
           0,
           0,
           0,
           0,
           0,
           -1,
           0,
           0,
           0,
           -1,
           2,
           0,
           2,
           2,
           2,
           2,
           -1,
           0,
           0,
           2,
           0,
           -1,
           -1,
           2,
           0,
           4,
           -1,
           -1,
           -1,
           -1,
           -1,
           -1,
           -1,
           2,
           2,
           2,
           -1,
           2,
           2,
           2,
           2,
           2,
           2,
           2,
           2,
           2,
           2,
           -1,
           2,
           -1,
           2,
           2,
           2,
           2,
           2,
           2,
           2,
           -1,
           -1,
           0,
           1,
           4,
           0,
           0,
           -1,
           4,
           0,
           -1,
           0,
           2,
           0,
           0,
           -1,
           1,
           0,
           0,
           0,
           -1,
           -1,
           -1,
           -1,
           0,
           -1,
           0,
           0,
           -1,
           -1,
           0,
           0,
           0,
           3,
           0,
           0,
           0,
           0,
           0,
           0,
           0,
           0,
           4,
           0,
           0,
           0,
           0,
           0,
           0,
           -1,
           0,
           0,
           -1,
           -1,
           0,
           2,
           0,
           0,
           -1,
           0,
           0,
           0,
           0,
           0,
           -1,
           4,
           0,
           0,
           0,
           0,
           0,
           0,
           0,
           0,
           0,
           0,
           0,
           0,
           0,
           0,
           0,
           0,
           0,
           0,
           0,
           0,
           0,
           0,
           0,
           0,
           2,
           -1,
           -1,
           0,
           0,
           0,
           0,
           0,
           0,
           0,
           0,
           0,
           0,
           0,
           0,
           0,
           0,
           0,
           0,
           0,
           0,
           0,
           0,
           0,
           0,
           0,
           2,
           2,
           2,
           2,
           0,
           0,
           0,
           0,
           0,
           0,
           0,
           0,
           -1,
           -1,
           0,
           0,
           -1,
           -1,
           0,
           0,
           1,
           1,
           1,
           1,
           2,
           -1,
           2,
           2,
           2,
           2,
           4,
           0,
           2,
           -1,
           2,
           -1,
           -1,
           0,
           0,
           0,
           0,
           0,
           0,
           0,
           0,
           0,
           0,
           0,
           -1,
           0,
           0,
           3,
           1,
           -1,
           2,
           0,
           0,
           -1,
           0
          ],
          "coloraxis": "coloraxis",
          "symbol": "circle"
         },
         "mode": "markers",
         "name": "",
         "orientation": "v",
         "showlegend": false,
         "type": "scatter",
         "x": [
          -0.3508186445814046,
          -0.5639310289142907,
          -0.5876614889048775,
          -0.5823377224391548,
          -0.5607934377831532,
          0.4195720316235605,
          0.4072448737758711,
          -0.4113530731621215,
          -0.00399273331831062,
          -0.1852422563817428,
          -0.44739994890418283,
          -0.17321034471097554,
          -0.9863859016696982,
          0.363681409013939,
          0.5332508277656569,
          0.4280966465773618,
          1.0588501758287197,
          0.025247980120545525,
          0.23810740264577307,
          0.6865351171763053,
          0.2581063436168159,
          0.3715708207646612,
          -0.4131797356835435,
          -0.04785829771362803,
          -0.9827684239122897,
          0.3681831670016599,
          -0.2935365288623707,
          -1.1909481439518261,
          -1.1528255253136725,
          -0.7069147217330235,
          0.40055109920872667,
          0.00803215716421511,
          0.14911199452136348,
          -0.16737103147821697,
          0.760616799924241,
          -0.23008068388502226,
          -0.7678298340451299,
          -0.540115638809465,
          -0.6308503154771031,
          -0.8514860460990357,
          -0.6867705734521476,
          -0.2078070316297446,
          -0.7308828712104986,
          0.5838622089680124,
          0.23092709056774202,
          -0.25715838997259816,
          0.5912142380882366,
          0.45038843768797976,
          0.7458086225076698,
          0.6665341479810564,
          -0.3559651445471211,
          0.14544245797935162,
          0.16923801231755534,
          0.28649183156012964,
          0.49776358997416936,
          1.0061507020713225,
          -0.00044711259362545716,
          0.28586827885250043,
          0.25658402880596615,
          1.2550220032228516,
          0.12286107335774328,
          1.485896209569183,
          1.141757343619969,
          1.083056179238525,
          1.2308187941802846,
          1.398828328888598,
          1.3054235587132532,
          -0.6767646613072369,
          0.6750460519396514,
          1.370581465278255,
          1.2018852316157136,
          -0.2580847111797142,
          -0.011498460508768802,
          -0.8370263340387589,
          -0.6363564838589613,
          -0.42919282404945464,
          -1.1039702224687824,
          -0.1088711356058151,
          -0.4596040070615721,
          0.1418478816660463,
          0.21957884447651801,
          0.3554794976193818,
          -0.8742386278118172,
          -0.2746466637092127,
          1.1054992040219718,
          -1.2632478611888398,
          1.5367762704079522,
          2.0068280117827495,
          0.850062335137054,
          0.33944496228293397,
          0.19249504445578958,
          -1.3581558798511084,
          0.2434247873301313,
          0.5263964218229623,
          -0.4868238715600447,
          1.1886039499169794,
          1.312567480095893,
          1.5798144290432872,
          0.09562530830559078,
          0.10113773211496412,
          2.033076972324046,
          0.8053821545180139,
          0.637502907215228,
          1.0203277391689545,
          1.1081509796409459,
          1.2746332749915992,
          1.0753569684035553,
          1.7049819492724492,
          1.6587035438150557,
          1.7295177415265623,
          0.5214983885075135,
          1.3702205937067362,
          1.518749873805489,
          2.1729248712419267,
          2.5854778650398846,
          2.411180428395736,
          2.1166243572495915,
          2.0214316278135502,
          1.8271443317174267,
          1.7146476778873738,
          2.0310988554007685,
          2.2173494244528684,
          2.184350145824153,
          1.5947485452960408,
          1.0679977016528681,
          0.8413104680994339,
          1.9202053051499042,
          1.8312001793279702,
          2.0139938593698643,
          1.3205121461089913,
          0.8282043651674835,
          1.2256783451926239,
          1.3358151046978437,
          -0.9688877415976315,
          0.26608200929683606,
          0.4664951006725747,
          -0.0563240048251054,
          -0.0559120157718613,
          1.1399716405498577,
          0.5358927796322845,
          0.018958766203575374,
          -0.24741988762852457,
          -0.5776044130063319,
          0.6475878617948905,
          -0.9100792974452094,
          0.49081208825788125,
          0.3298476395279003,
          -0.007475294677475479,
          -0.489846855978679,
          -0.8491853143573168,
          -0.7011129372532078,
          -0.05347780212672248,
          -0.0011183823042832202,
          -0.5655651342350086,
          -0.6620259718207827,
          -0.9227863531495146,
          -0.6622952480314663,
          -0.4782287610370813,
          -0.5932215055392788,
          0.12014236348877132,
          0.6903330209670598,
          -0.8426881627710046,
          -0.6917978730477802,
          -0.6781299724263031,
          0.1602732904474833,
          -0.6133650035392196,
          -0.6949704672974494,
          -0.9075944177318687,
          -0.8786928400558157,
          -0.9058658749968183,
          -0.31613938719436746,
          -1.4063256915973272,
          -1.3803818930202079,
          0.2625615034769143,
          -0.8470754546783491,
          -1.1030175239198672,
          -1.2002009601984962,
          -1.1015107582333754,
          -0.25448883335801076,
          -1.3268121966813606,
          0.21320098873326973,
          -0.6498069261405497,
          -0.9346574497489317,
          -0.23027783265072188,
          -0.5611158720424748,
          -0.6718621245174528,
          0.9811493906055307,
          -0.8636997616209908,
          -0.6227009894166133,
          0.26969388609522693,
          -1.2974700268568877,
          -0.7689427359366564,
          -1.1308155565904985,
          -1.1858237917313565,
          -1.1576084927470962,
          0.12712467464253588,
          0.6706059789697033,
          -0.3921416370294183,
          -0.11598044718702563,
          -0.23151664766119667,
          -0.7816102873703236,
          -0.7653708834373745,
          -0.5609480660210393,
          -1.2245683886515315,
          -1.2528323446207357,
          -0.04827769016556094,
          -0.620381709756415,
          -1.3179427171238245,
          -1.020448678856538,
          -1.122767828461264,
          -1.295461906008073,
          -0.2150777897030298,
          -1.0690715515230613,
          -0.6521075215103971,
          -0.7687037917119958,
          -1.1341499985115364,
          -1.206294094750507,
          -1.1419834961733435,
          0.15924292373346194,
          -1.0338737764714179,
          -0.9671029081402572,
          0.7301776776959528,
          0.22630807645404594,
          -0.03217868737816261,
          -0.8246874406681577,
          -0.0665121498396239,
          -0.525452729661283,
          -1.163670997184323,
          -1.0990419409084324,
          -0.871028416180363,
          -0.9839363695459624,
          -0.7071642819921274,
          -0.9649538646384597,
          -0.07938786382715807,
          -0.6511732443827587,
          -1.0495691285147353,
          -1.216907719249716,
          -1.0202686457871843,
          -1.245096243526878,
          -0.8051863963938097,
          -1.4079974175266863,
          -1.238577998585358,
          -1.1597420643057776,
          -0.49885995427398205,
          -1.2294098096570147,
          -1.3473762262692497,
          -0.9893474027848611,
          1.324644655674268,
          2.236559940687958,
          2.300220738929092,
          2.5447691037266145,
          -1.3290802025585322,
          -1.0339295771544759,
          -0.3646263998858898,
          -0.9210480898797002,
          -1.0528999459414,
          -0.7465386837494035,
          -1.3310648253509125,
          -0.15504914093148417,
          -0.17437782760361567,
          -0.2603429111629848,
          -0.8277771276090602,
          -0.5418252456462207,
          0.6086703948875171,
          -0.5988433486407282,
          -0.9028097234226942,
          -0.9592914666868012,
          0.22142476650741127,
          0.7932088658321987,
          0.5636494338661097,
          0.41197956731334534,
          1.826830708628797,
          0.31242812323741953,
          1.902649433624108,
          1.620881829702091,
          1.2518535611471007,
          2.144068931719886,
          0.43127983098330536,
          -0.326669105779434,
          1.1600755290161804,
          0.6320233562856604,
          0.7899229468245065,
          0.21091418080767607,
          0.7684640830904039,
          -1.2050179821235905,
          -1.003315446220766,
          -1.300336769491636,
          -1.2169871538010222,
          -1.4762498697303896,
          0.2818455182041284,
          -0.9236872137307428,
          -1.2034142443186877,
          -1.3539329811844136,
          -0.5113520614681136,
          -0.8684685964407897,
          -0.6600211472717245,
          0.02387224500841111,
          -0.10249542394847518,
          -0.5073132666040002,
          0.5206042476056767,
          0.15663991940049013,
          1.9189992338794515,
          -0.5326400765665911,
          -0.8536336765878905,
          0.23333215288286902,
          -0.6440736946026615
         ],
         "xaxis": "x",
         "y": [
          0.7099961857978953,
          0.42702553658784737,
          0.32532461799333984,
          -0.30751240895039944,
          -0.13734036816883838,
          0.31128851737849844,
          0.729962167893389,
          -0.0005735189402775898,
          0.8184393245280276,
          1.117196888341552,
          0.6623167014430784,
          0.5818759175510941,
          -0.5755506430210526,
          0.7595512721812351,
          1.0919717029401952,
          0.9287727424286327,
          0.647167399836963,
          1.1481584414274244,
          1.0538483156137948,
          1.068173947937826,
          0.8958960717525997,
          0.5678691445652688,
          0.4174137788963033,
          0.7527314614167181,
          -0.32417865836517257,
          1.2685351012786688,
          1.1329563580483628,
          -0.6309878142198015,
          -0.5784391528625124,
          -0.04627264220648031,
          1.0451683016282647,
          0.6363022232065211,
          0.6090535964371065,
          0.3389705573491687,
          -0.07876016749848436,
          -0.005161321019689319,
          -0.16245932754008796,
          -0.015756191193797463,
          0.19443560793123194,
          -0.094922033919062,
          0.4528492287184965,
          1.1992796693159886,
          0.28812500403641145,
          1.3827214876209564,
          1.112825496480182,
          0.820319273071483,
          -0.19017580106885862,
          -0.07244448877381379,
          0.4750518811453017,
          -0.6854025144338283,
          0.20702474930218934,
          0.1518140456897288,
          -0.05401545573946639,
          0.15929102424296657,
          0.3937351519692185,
          1.014706623198994,
          0.6371969911009774,
          0.1750033851741816,
          -0.6006650204085802,
          -0.0792124573390606,
          1.512070916552906,
          -0.6427866590478051,
          -0.03307075643171754,
          0.5274321350929281,
          -0.45485297270854297,
          -0.5564822170596899,
          -0.6115030808876163,
          -0.30479187981488526,
          -0.3098013915666279,
          -0.4457154428997717,
          -0.698679628353853,
          0.6013513192758371,
          1.0639967642006818,
          0.23703389905433955,
          0.6299565866915858,
          0.8345022141548945,
          -0.4323407360986679,
          -0.36112213785851976,
          0.5276588766709592,
          -0.07191032684639224,
          0.4567759882447646,
          -0.24191454883831306,
          0.1428429389318786,
          0.39866159386906896,
          0.029551102791049888,
          -0.6860368415335261,
          -0.2269403331648695,
          -0.5324958691880598,
          0.41247460087419985,
          0.6397017321322944,
          0.7167548034897423,
          -0.7968509799301254,
          0.4579173464816717,
          0.6929268513292324,
          0.3027252421361952,
          -0.5018055971078058,
          -0.9262446362631672,
          -0.7089125244246054,
          -0.09250520902190804,
          -0.24347082832148273,
          -0.5011749815040876,
          0.2769417524742287,
          0.6594733357560907,
          0.1464652696809386,
          0.17980367632117927,
          0.2876728571762101,
          0.24207094960578387,
          -0.47685645775978125,
          -0.4641342832744238,
          -0.6242657785803362,
          -0.35839496694913836,
          -0.6697201639582336,
          -0.5934551819218801,
          -0.6776601586832687,
          -0.772206603265197,
          -0.8256034226699906,
          -0.6034916443139994,
          -0.6959188228222942,
          -0.6506881292737736,
          -0.730610566802647,
          -0.7118028645644151,
          -0.5537360443743592,
          -0.7516917933008144,
          -1.0413224864771373,
          -0.2888912128532489,
          0.16165561715961727,
          -0.6301647136546636,
          -0.5457559028477338,
          -0.7375472316736065,
          -0.30382668918844896,
          0.14392662023758906,
          0.4029023478736755,
          0.11923488393747818,
          -0.3931448013405179,
          0.47116303960960504,
          -0.3057199867825617,
          0.19033436901269668,
          0.3672353828015206,
          -0.11915816433922534,
          -0.22949644038607933,
          0.0005381922934969265,
          0.4014541076202302,
          0.011226333971447174,
          0.15316753403502015,
          -0.17839685429915678,
          0.1162964727268741,
          0.6132218639995656,
          0.7440426957254411,
          0.5514812675631249,
          0.2558900153292978,
          -0.41263591264996197,
          -0.24829956261552585,
          -0.08343938247417602,
          -0.20777470378370455,
          -0.24080633807485974,
          -0.3134496109536108,
          0.26608327441236906,
          -0.029058638683316398,
          0.0671953806310761,
          0.7504319775030304,
          1.1239966883690784,
          -0.45781463258792676,
          0.34873035447720835,
          0.8756141158887747,
          0.9258608099918605,
          0.4841868261378967,
          0.7141823455552794,
          -0.03732354018898182,
          0.28878723343162016,
          0.15719818315722064,
          0.7973884178965798,
          -0.7660432689583268,
          -0.84400657794849,
          -0.45947960809374516,
          -0.3345165522557174,
          -0.6649776248286672,
          -0.6363778850046428,
          -0.5993592194355751,
          -0.18919715662760342,
          -0.7691383038182813,
          0.04053435533132516,
          0.21657270370862602,
          -0.014942354878290992,
          0.9030285565753604,
          -0.4266317392588027,
          0.15182338797892395,
          -0.19851912578326078,
          0.054602340636070716,
          0.4071145704787819,
          0.4220990016103621,
          -0.7460484006509379,
          -0.37416817643363576,
          -0.6372097375723659,
          -0.5063493452642951,
          -0.09239144822483929,
          0.8850748108824067,
          -0.3774211773239248,
          0.11439303192748623,
          0.21840717600576146,
          0.41308681848561374,
          -0.156487389434147,
          -0.21246162342132058,
          0.35967154146760516,
          -0.6280362618690645,
          -0.6751485839668573,
          0.4564923562030079,
          0.46341219854131854,
          -0.6255699562303365,
          -0.14648385725392216,
          -0.529967500091482,
          -0.7969822771052225,
          0.2212198399904749,
          -0.35734431874142725,
          -0.490786380395956,
          -0.31872916446986554,
          -0.6918558834102606,
          -0.7082270021088811,
          -0.7238134790639272,
          0.12244694049215733,
          -0.3995158569063484,
          -0.5271808752106215,
          0.6167487204970656,
          1.3015349678754837,
          1.3070266362899396,
          -0.11326696955333448,
          0.03762840489926836,
          0.4637935227601997,
          -0.3581647071056107,
          -0.7534000614183912,
          -0.32871859328507014,
          -0.2747903697084202,
          -0.1782478319197431,
          -0.5058423435176054,
          0.28564173412763133,
          0.22065552600422933,
          -0.6473159610252815,
          -0.6069361767018229,
          -0.6298085539721407,
          -0.7732732549216,
          -0.4923166757282111,
          -0.6975829899400697,
          -0.7388955697842149,
          -0.43264234556453635,
          0.09749775065327997,
          -0.6339343049928898,
          -0.6640631227213608,
          -0.2201238450942663,
          -0.7406821537471711,
          -0.6143040266580025,
          -0.5698169156217819,
          -0.8756335115452012,
          -0.5141589243246582,
          -0.34764364588050745,
          0.44145008058227136,
          -0.31539811267161544,
          -0.6370741888817835,
          -0.19493915236414852,
          -0.7735155602581518,
          0.3156325537205879,
          1.0556241456946518,
          1.0440701043581253,
          0.32877861478383197,
          0.3164185453548597,
          1.1615210253233557,
          0.04553512632354633,
          -0.2433147074464451,
          -0.3581664229481636,
          0.9437433574201339,
          1.1007774491822322,
          1.0107234027065128,
          0.9274899088166828,
          -0.7662581492563958,
          -0.7871634414585786,
          -0.5293459180136509,
          -0.6432404647199428,
          -0.581318473331517,
          -0.6916550585341287,
          -0.21108386707704713,
          0.04222803626490735,
          -0.6624768970250287,
          -0.36007697929215565,
          0.5369447952766742,
          0.9916844193676572,
          -0.5361063431814365,
          -0.5855287098767852,
          -0.4008160716345416,
          -0.7611554973033743,
          -0.6659259100919337,
          -0.802516056383197,
          0.04535682741649859,
          -0.28061484381918506,
          -0.6098813595061421,
          -0.8132859063928752,
          -0.1951940050040877,
          -0.33410450200889125,
          0.7126277842603084,
          0.16591497309967654,
          0.3509629701820568,
          1.0256786577294228,
          1.0272833710267137,
          0.9212705727252719,
          -0.71638376743169,
          -0.3934942048076385,
          -0.3503235301888743,
          -0.019981995927691884,
          0.06001570368658886
         ],
         "yaxis": "y"
        }
       ],
       "layout": {
        "coloraxis": {
         "colorbar": {
          "title": {
           "text": "cluster"
          }
         },
         "colorscale": [
          [
           0,
           "#0d0887"
          ],
          [
           0.1111111111111111,
           "#46039f"
          ],
          [
           0.2222222222222222,
           "#7201a8"
          ],
          [
           0.3333333333333333,
           "#9c179e"
          ],
          [
           0.4444444444444444,
           "#bd3786"
          ],
          [
           0.5555555555555556,
           "#d8576b"
          ],
          [
           0.6666666666666666,
           "#ed7953"
          ],
          [
           0.7777777777777778,
           "#fb9f3a"
          ],
          [
           0.8888888888888888,
           "#fdca26"
          ],
          [
           1,
           "#f0f921"
          ]
         ]
        },
        "legend": {
         "tracegroupgap": 0
        },
        "margin": {
         "t": 60
        },
        "template": {
         "data": {
          "bar": [
           {
            "error_x": {
             "color": "#2a3f5f"
            },
            "error_y": {
             "color": "#2a3f5f"
            },
            "marker": {
             "line": {
              "color": "#E5ECF6",
              "width": 0.5
             },
             "pattern": {
              "fillmode": "overlay",
              "size": 10,
              "solidity": 0.2
             }
            },
            "type": "bar"
           }
          ],
          "barpolar": [
           {
            "marker": {
             "line": {
              "color": "#E5ECF6",
              "width": 0.5
             },
             "pattern": {
              "fillmode": "overlay",
              "size": 10,
              "solidity": 0.2
             }
            },
            "type": "barpolar"
           }
          ],
          "carpet": [
           {
            "aaxis": {
             "endlinecolor": "#2a3f5f",
             "gridcolor": "white",
             "linecolor": "white",
             "minorgridcolor": "white",
             "startlinecolor": "#2a3f5f"
            },
            "baxis": {
             "endlinecolor": "#2a3f5f",
             "gridcolor": "white",
             "linecolor": "white",
             "minorgridcolor": "white",
             "startlinecolor": "#2a3f5f"
            },
            "type": "carpet"
           }
          ],
          "choropleth": [
           {
            "colorbar": {
             "outlinewidth": 0,
             "ticks": ""
            },
            "type": "choropleth"
           }
          ],
          "contour": [
           {
            "colorbar": {
             "outlinewidth": 0,
             "ticks": ""
            },
            "colorscale": [
             [
              0,
              "#0d0887"
             ],
             [
              0.1111111111111111,
              "#46039f"
             ],
             [
              0.2222222222222222,
              "#7201a8"
             ],
             [
              0.3333333333333333,
              "#9c179e"
             ],
             [
              0.4444444444444444,
              "#bd3786"
             ],
             [
              0.5555555555555556,
              "#d8576b"
             ],
             [
              0.6666666666666666,
              "#ed7953"
             ],
             [
              0.7777777777777778,
              "#fb9f3a"
             ],
             [
              0.8888888888888888,
              "#fdca26"
             ],
             [
              1,
              "#f0f921"
             ]
            ],
            "type": "contour"
           }
          ],
          "contourcarpet": [
           {
            "colorbar": {
             "outlinewidth": 0,
             "ticks": ""
            },
            "type": "contourcarpet"
           }
          ],
          "heatmap": [
           {
            "colorbar": {
             "outlinewidth": 0,
             "ticks": ""
            },
            "colorscale": [
             [
              0,
              "#0d0887"
             ],
             [
              0.1111111111111111,
              "#46039f"
             ],
             [
              0.2222222222222222,
              "#7201a8"
             ],
             [
              0.3333333333333333,
              "#9c179e"
             ],
             [
              0.4444444444444444,
              "#bd3786"
             ],
             [
              0.5555555555555556,
              "#d8576b"
             ],
             [
              0.6666666666666666,
              "#ed7953"
             ],
             [
              0.7777777777777778,
              "#fb9f3a"
             ],
             [
              0.8888888888888888,
              "#fdca26"
             ],
             [
              1,
              "#f0f921"
             ]
            ],
            "type": "heatmap"
           }
          ],
          "heatmapgl": [
           {
            "colorbar": {
             "outlinewidth": 0,
             "ticks": ""
            },
            "colorscale": [
             [
              0,
              "#0d0887"
             ],
             [
              0.1111111111111111,
              "#46039f"
             ],
             [
              0.2222222222222222,
              "#7201a8"
             ],
             [
              0.3333333333333333,
              "#9c179e"
             ],
             [
              0.4444444444444444,
              "#bd3786"
             ],
             [
              0.5555555555555556,
              "#d8576b"
             ],
             [
              0.6666666666666666,
              "#ed7953"
             ],
             [
              0.7777777777777778,
              "#fb9f3a"
             ],
             [
              0.8888888888888888,
              "#fdca26"
             ],
             [
              1,
              "#f0f921"
             ]
            ],
            "type": "heatmapgl"
           }
          ],
          "histogram": [
           {
            "marker": {
             "pattern": {
              "fillmode": "overlay",
              "size": 10,
              "solidity": 0.2
             }
            },
            "type": "histogram"
           }
          ],
          "histogram2d": [
           {
            "colorbar": {
             "outlinewidth": 0,
             "ticks": ""
            },
            "colorscale": [
             [
              0,
              "#0d0887"
             ],
             [
              0.1111111111111111,
              "#46039f"
             ],
             [
              0.2222222222222222,
              "#7201a8"
             ],
             [
              0.3333333333333333,
              "#9c179e"
             ],
             [
              0.4444444444444444,
              "#bd3786"
             ],
             [
              0.5555555555555556,
              "#d8576b"
             ],
             [
              0.6666666666666666,
              "#ed7953"
             ],
             [
              0.7777777777777778,
              "#fb9f3a"
             ],
             [
              0.8888888888888888,
              "#fdca26"
             ],
             [
              1,
              "#f0f921"
             ]
            ],
            "type": "histogram2d"
           }
          ],
          "histogram2dcontour": [
           {
            "colorbar": {
             "outlinewidth": 0,
             "ticks": ""
            },
            "colorscale": [
             [
              0,
              "#0d0887"
             ],
             [
              0.1111111111111111,
              "#46039f"
             ],
             [
              0.2222222222222222,
              "#7201a8"
             ],
             [
              0.3333333333333333,
              "#9c179e"
             ],
             [
              0.4444444444444444,
              "#bd3786"
             ],
             [
              0.5555555555555556,
              "#d8576b"
             ],
             [
              0.6666666666666666,
              "#ed7953"
             ],
             [
              0.7777777777777778,
              "#fb9f3a"
             ],
             [
              0.8888888888888888,
              "#fdca26"
             ],
             [
              1,
              "#f0f921"
             ]
            ],
            "type": "histogram2dcontour"
           }
          ],
          "mesh3d": [
           {
            "colorbar": {
             "outlinewidth": 0,
             "ticks": ""
            },
            "type": "mesh3d"
           }
          ],
          "parcoords": [
           {
            "line": {
             "colorbar": {
              "outlinewidth": 0,
              "ticks": ""
             }
            },
            "type": "parcoords"
           }
          ],
          "pie": [
           {
            "automargin": true,
            "type": "pie"
           }
          ],
          "scatter": [
           {
            "fillpattern": {
             "fillmode": "overlay",
             "size": 10,
             "solidity": 0.2
            },
            "type": "scatter"
           }
          ],
          "scatter3d": [
           {
            "line": {
             "colorbar": {
              "outlinewidth": 0,
              "ticks": ""
             }
            },
            "marker": {
             "colorbar": {
              "outlinewidth": 0,
              "ticks": ""
             }
            },
            "type": "scatter3d"
           }
          ],
          "scattercarpet": [
           {
            "marker": {
             "colorbar": {
              "outlinewidth": 0,
              "ticks": ""
             }
            },
            "type": "scattercarpet"
           }
          ],
          "scattergeo": [
           {
            "marker": {
             "colorbar": {
              "outlinewidth": 0,
              "ticks": ""
             }
            },
            "type": "scattergeo"
           }
          ],
          "scattergl": [
           {
            "marker": {
             "colorbar": {
              "outlinewidth": 0,
              "ticks": ""
             }
            },
            "type": "scattergl"
           }
          ],
          "scattermapbox": [
           {
            "marker": {
             "colorbar": {
              "outlinewidth": 0,
              "ticks": ""
             }
            },
            "type": "scattermapbox"
           }
          ],
          "scatterpolar": [
           {
            "marker": {
             "colorbar": {
              "outlinewidth": 0,
              "ticks": ""
             }
            },
            "type": "scatterpolar"
           }
          ],
          "scatterpolargl": [
           {
            "marker": {
             "colorbar": {
              "outlinewidth": 0,
              "ticks": ""
             }
            },
            "type": "scatterpolargl"
           }
          ],
          "scatterternary": [
           {
            "marker": {
             "colorbar": {
              "outlinewidth": 0,
              "ticks": ""
             }
            },
            "type": "scatterternary"
           }
          ],
          "surface": [
           {
            "colorbar": {
             "outlinewidth": 0,
             "ticks": ""
            },
            "colorscale": [
             [
              0,
              "#0d0887"
             ],
             [
              0.1111111111111111,
              "#46039f"
             ],
             [
              0.2222222222222222,
              "#7201a8"
             ],
             [
              0.3333333333333333,
              "#9c179e"
             ],
             [
              0.4444444444444444,
              "#bd3786"
             ],
             [
              0.5555555555555556,
              "#d8576b"
             ],
             [
              0.6666666666666666,
              "#ed7953"
             ],
             [
              0.7777777777777778,
              "#fb9f3a"
             ],
             [
              0.8888888888888888,
              "#fdca26"
             ],
             [
              1,
              "#f0f921"
             ]
            ],
            "type": "surface"
           }
          ],
          "table": [
           {
            "cells": {
             "fill": {
              "color": "#EBF0F8"
             },
             "line": {
              "color": "white"
             }
            },
            "header": {
             "fill": {
              "color": "#C8D4E3"
             },
             "line": {
              "color": "white"
             }
            },
            "type": "table"
           }
          ]
         },
         "layout": {
          "annotationdefaults": {
           "arrowcolor": "#2a3f5f",
           "arrowhead": 0,
           "arrowwidth": 1
          },
          "autotypenumbers": "strict",
          "coloraxis": {
           "colorbar": {
            "outlinewidth": 0,
            "ticks": ""
           }
          },
          "colorscale": {
           "diverging": [
            [
             0,
             "#8e0152"
            ],
            [
             0.1,
             "#c51b7d"
            ],
            [
             0.2,
             "#de77ae"
            ],
            [
             0.3,
             "#f1b6da"
            ],
            [
             0.4,
             "#fde0ef"
            ],
            [
             0.5,
             "#f7f7f7"
            ],
            [
             0.6,
             "#e6f5d0"
            ],
            [
             0.7,
             "#b8e186"
            ],
            [
             0.8,
             "#7fbc41"
            ],
            [
             0.9,
             "#4d9221"
            ],
            [
             1,
             "#276419"
            ]
           ],
           "sequential": [
            [
             0,
             "#0d0887"
            ],
            [
             0.1111111111111111,
             "#46039f"
            ],
            [
             0.2222222222222222,
             "#7201a8"
            ],
            [
             0.3333333333333333,
             "#9c179e"
            ],
            [
             0.4444444444444444,
             "#bd3786"
            ],
            [
             0.5555555555555556,
             "#d8576b"
            ],
            [
             0.6666666666666666,
             "#ed7953"
            ],
            [
             0.7777777777777778,
             "#fb9f3a"
            ],
            [
             0.8888888888888888,
             "#fdca26"
            ],
            [
             1,
             "#f0f921"
            ]
           ],
           "sequentialminus": [
            [
             0,
             "#0d0887"
            ],
            [
             0.1111111111111111,
             "#46039f"
            ],
            [
             0.2222222222222222,
             "#7201a8"
            ],
            [
             0.3333333333333333,
             "#9c179e"
            ],
            [
             0.4444444444444444,
             "#bd3786"
            ],
            [
             0.5555555555555556,
             "#d8576b"
            ],
            [
             0.6666666666666666,
             "#ed7953"
            ],
            [
             0.7777777777777778,
             "#fb9f3a"
            ],
            [
             0.8888888888888888,
             "#fdca26"
            ],
            [
             1,
             "#f0f921"
            ]
           ]
          },
          "colorway": [
           "#636efa",
           "#EF553B",
           "#00cc96",
           "#ab63fa",
           "#FFA15A",
           "#19d3f3",
           "#FF6692",
           "#B6E880",
           "#FF97FF",
           "#FECB52"
          ],
          "font": {
           "color": "#2a3f5f"
          },
          "geo": {
           "bgcolor": "white",
           "lakecolor": "white",
           "landcolor": "#E5ECF6",
           "showlakes": true,
           "showland": true,
           "subunitcolor": "white"
          },
          "hoverlabel": {
           "align": "left"
          },
          "hovermode": "closest",
          "mapbox": {
           "style": "light"
          },
          "paper_bgcolor": "white",
          "plot_bgcolor": "#E5ECF6",
          "polar": {
           "angularaxis": {
            "gridcolor": "white",
            "linecolor": "white",
            "ticks": ""
           },
           "bgcolor": "#E5ECF6",
           "radialaxis": {
            "gridcolor": "white",
            "linecolor": "white",
            "ticks": ""
           }
          },
          "scene": {
           "xaxis": {
            "backgroundcolor": "#E5ECF6",
            "gridcolor": "white",
            "gridwidth": 2,
            "linecolor": "white",
            "showbackground": true,
            "ticks": "",
            "zerolinecolor": "white"
           },
           "yaxis": {
            "backgroundcolor": "#E5ECF6",
            "gridcolor": "white",
            "gridwidth": 2,
            "linecolor": "white",
            "showbackground": true,
            "ticks": "",
            "zerolinecolor": "white"
           },
           "zaxis": {
            "backgroundcolor": "#E5ECF6",
            "gridcolor": "white",
            "gridwidth": 2,
            "linecolor": "white",
            "showbackground": true,
            "ticks": "",
            "zerolinecolor": "white"
           }
          },
          "shapedefaults": {
           "line": {
            "color": "#2a3f5f"
           }
          },
          "ternary": {
           "aaxis": {
            "gridcolor": "white",
            "linecolor": "white",
            "ticks": ""
           },
           "baxis": {
            "gridcolor": "white",
            "linecolor": "white",
            "ticks": ""
           },
           "bgcolor": "#E5ECF6",
           "caxis": {
            "gridcolor": "white",
            "linecolor": "white",
            "ticks": ""
           }
          },
          "title": {
           "x": 0.05
          },
          "xaxis": {
           "automargin": true,
           "gridcolor": "white",
           "linecolor": "white",
           "ticks": "",
           "title": {
            "standoff": 15
           },
           "zerolinecolor": "white",
           "zerolinewidth": 2
          },
          "yaxis": {
           "automargin": true,
           "gridcolor": "white",
           "linecolor": "white",
           "ticks": "",
           "title": {
            "standoff": 15
           },
           "zerolinecolor": "white",
           "zerolinewidth": 2
          }
         }
        },
        "xaxis": {
         "anchor": "y",
         "domain": [
          0,
          1
         ],
         "title": {
          "text": "PC1"
         }
        },
        "yaxis": {
         "anchor": "x",
         "domain": [
          0,
          1
         ],
         "title": {
          "text": "PC2"
         }
        }
       }
      }
     },
     "metadata": {},
     "output_type": "display_data"
    }
   ],
   "source": [
    "# With PC3, best values are eps:1.6 and min 4\n",
    "DBSCANplot(features_pca, .5,5)"
   ]
  },
  {
   "cell_type": "code",
   "execution_count": null,
   "metadata": {},
   "outputs": [
    {
     "name": "stdout",
     "output_type": "stream",
     "text": [
      "7\n"
     ]
    },
    {
     "data": {
      "application/vnd.plotly.v1+json": {
       "config": {
        "plotlyServerURL": "https://plot.ly"
       },
       "data": [
        {
         "hovertemplate": "<b>%{hovertext}</b><br><br>latitude=%{lat}<br>longitude=%{lon}<br>cluster=%{marker.color}<extra></extra>",
         "hovertext": [
          "Wakefield",
          "Co-op City",
          "Eastchester",
          "Fieldston",
          "Riverdale",
          "Kingsbridge",
          "Marble Hill",
          "Woodlawn",
          "Norwood",
          "Williamsbridge",
          "Baychester",
          "Pelham Parkway",
          "City Island",
          "Bedford Park",
          "University Heights",
          "Morris Heights",
          "Fordham",
          "East Tremont",
          "West Farms",
          "High  Bridge",
          "Melrose",
          "Mott Haven",
          "Port Morris",
          "Longwood",
          "Hunts Point",
          "Morrisania",
          "Soundview",
          "Clason Point",
          "Throgs Neck",
          "Country Club",
          "Parkchester",
          "Westchester Square",
          "Van Nest",
          "Morris Park",
          "Belmont",
          "Spuyten Duyvil",
          "North Riverdale",
          "Pelham Bay",
          "Schuylerville",
          "Edgewater Park",
          "Castle Hill",
          "Olinville",
          "Pelham Gardens",
          "Concourse",
          "Unionport",
          "Edenwald",
          "Bay Ridge",
          "Bensonhurst",
          "Sunset Park",
          "Greenpoint",
          "Gravesend",
          "Brighton Beach",
          "Sheepshead Bay",
          "Manhattan Terrace",
          "Flatbush",
          "Crown Heights",
          "East Flatbush",
          "Kensington",
          "Windsor Terrace",
          "Prospect Heights",
          "Brownsville",
          "Williamsburg",
          "Bushwick",
          "Bedford Stuyvesant",
          "Brooklyn Heights",
          "Cobble Hill",
          "Carroll Gardens",
          "Red Hook",
          "Gowanus",
          "Fort Greene",
          "Park Slope",
          "Cypress Hills",
          "East New York",
          "Starrett City",
          "Canarsie",
          "Flatlands",
          "Mill Island",
          "Manhattan Beach",
          "Coney Island",
          "Bath Beach",
          "Borough Park",
          "Dyker Heights",
          "Gerritsen Beach",
          "Marine Park",
          "Clinton Hill",
          "Sea Gate",
          "Downtown",
          "Boerum Hill",
          "Prospect Lefferts Gardens",
          "Ocean Hill",
          "City Line",
          "Bergen Beach",
          "Midwood",
          "Prospect Park South",
          "Georgetown",
          "East Williamsburg",
          "North Side",
          "South Side",
          "Ocean Parkway",
          "Fort Hamilton",
          "Chinatown",
          "Washington Heights",
          "Inwood",
          "Hamilton Heights",
          "Manhattanville",
          "Central Harlem",
          "East Harlem",
          "Upper East Side",
          "Yorkville",
          "Lenox Hill",
          "Roosevelt Island",
          "Upper West Side",
          "Lincoln Square",
          "Clinton",
          "Midtown",
          "Murray Hill",
          "Murray Hill",
          "Chelsea",
          "Chelsea",
          "Greenwich Village",
          "East Village",
          "Lower East Side",
          "Tribeca",
          "Little Italy",
          "Soho",
          "West Village",
          "Manhattan Valley",
          "Morningside Heights",
          "Gramercy",
          "Battery Park City",
          "Financial District",
          "Astoria",
          "Woodside",
          "Jackson Heights",
          "Elmhurst",
          "Howard Beach",
          "Corona",
          "Forest Hills",
          "Kew Gardens",
          "Richmond Hill",
          "Flushing",
          "Long Island City",
          "Sunnyside",
          "Sunnyside",
          "East Elmhurst",
          "Maspeth",
          "Ridgewood",
          "Glendale",
          "Rego Park",
          "Woodhaven",
          "Ozone Park",
          "South Ozone Park",
          "College Point",
          "Whitestone",
          "Bayside",
          "Auburndale",
          "Little Neck",
          "Douglaston",
          "Glen Oaks",
          "Bellerose",
          "Kew Gardens Hills",
          "Fresh Meadows",
          "Briarwood",
          "Jamaica Center",
          "Oakland Gardens",
          "Queens Village",
          "Hollis",
          "South Jamaica",
          "St. Albans",
          "Rochdale",
          "Springfield Gardens",
          "Cambria Heights",
          "Rosedale",
          "Far Rockaway",
          "Broad Channel",
          "Breezy Point",
          "Steinway",
          "Beechhurst",
          "Bay Terrace",
          "Bay Terrace",
          "Edgemere",
          "Arverne",
          "Rockaway Beach",
          "Neponsit",
          "Floral Park",
          "Holliswood",
          "Jamaica Estates",
          "Queensboro Hill",
          "Hillcrest",
          "Ravenswood",
          "Lindenwood",
          "Laurelton",
          "Lefrak City",
          "Belle Harbor",
          "Rockaway Park",
          "Somerville",
          "Brookville",
          "Bellaire",
          "North Corona",
          "Forest Hills Gardens",
          "St. George",
          "New Brighton",
          "Stapleton",
          "Rosebank",
          "West Brighton",
          "Grymes Hill",
          "Todt Hill",
          "South Beach",
          "Port Richmond",
          "Mariner's Harbor",
          "Port Ivory",
          "Castleton Corners",
          "New Springville",
          "Travis",
          "New Dorp",
          "Oakwood",
          "Great Kills",
          "Eltingville",
          "Annadale",
          "Woodrow",
          "Tottenville",
          "Tompkinsville",
          "Silver Lake",
          "Ditmas Park",
          "Wingate",
          "Rugby",
          "Park Hill",
          "Westerleigh",
          "Graniteville",
          "Arlington",
          "Arrochar",
          "Grasmere",
          "Old Town",
          "Dongan Hills",
          "Midland Beach",
          "Grant City",
          "New Dorp Beach",
          "Huguenot",
          "Pleasant Plains",
          "Butler Manor",
          "Charleston",
          "Rossville",
          "Arden Heights",
          "Greenridge",
          "Heartland Village",
          "Bloomfield",
          "Bulls Head",
          "Carnegie Hill",
          "Noho",
          "Civic Center",
          "Midtown South",
          "Richmond Town",
          "Shore Acres",
          "Clifton",
          "Concord",
          "Emerson Hill",
          "Randall Manor",
          "Howland Hook",
          "Elm Park",
          "Remsen Village",
          "New Lots",
          "Paerdegat Basin",
          "Mill Basin",
          "Jamaica Hills",
          "Utopia",
          "Pomonok",
          "Astoria Heights",
          "Claremont Village",
          "Concourse Village",
          "Mount Eden",
          "Mount Hope",
          "Sutton Place",
          "Hunters Point",
          "Turtle Bay",
          "Tudor City",
          "Stuyvesant Town",
          "Flatiron",
          "Sunnyside Gardens",
          "Blissville",
          "Fulton Ferry",
          "Vinegar Hill",
          "Weeksville",
          "Broadway Junction",
          "Dumbo",
          "Manor Heights",
          "Willowbrook",
          "Sandy Ground",
          "Egbertville",
          "Roxbury",
          "Homecrest",
          "Middle Village",
          "Prince's Bay",
          "Lighthouse Hill",
          "Richmond Valley",
          "Malba",
          "Highland Park",
          "Madison",
          "Bronxdale",
          "Allerton",
          "Kingsbridge Heights",
          "Erasmus",
          "Hudson Yards",
          "Hammels",
          "Bayswater",
          "Queensbridge",
          "Fox Hills"
         ],
         "lat": [
          40.89470517661,
          40.87429419303012,
          40.887555677350775,
          40.89543742690383,
          40.890834493891305,
          40.88168737120521,
          40.87655077879964,
          40.89827261213805,
          40.87722415599446,
          40.88103887819211,
          40.866858107252696,
          40.85741349808865,
          40.84724670491813,
          40.870185164975325,
          40.85572707719664,
          40.84789792606271,
          40.86099679638654,
          40.84269615786053,
          40.83947505672653,
          40.836623010706056,
          40.819754370594936,
          40.80623874935177,
          40.801663627756206,
          40.81509904545822,
          40.80972987938709,
          40.82359198585534,
          40.821012197914015,
          40.80655112003589,
          40.81510925804005,
          40.844245936947374,
          40.837937822267286,
          40.8406194964327,
          40.84360847124718,
          40.847549063536334,
          40.85727710073895,
          40.88139497727086,
          40.90854282950666,
          40.85064140940335,
          40.82657951686922,
          40.82198611816349,
          40.81901437698832,
          40.87137078192371,
          40.86296562477998,
          40.83428380733851,
          40.82977429787161,
          40.88456130303732,
          40.625801065010656,
          40.61100890202044,
          40.64510294925429,
          40.7302009848647,
          40.59526001306593,
          40.57682506566604,
          40.58689012678384,
          40.61443251335098,
          40.63632589026677,
          40.67082917695294,
          40.64171776668961,
          40.642381958003526,
          40.65694583575104,
          40.67682226225472,
          40.66394994339755,
          40.70714439344251,
          40.69811611017901,
          40.687231607720456,
          40.69586372272408,
          40.68791972248557,
          40.680540231076485,
          40.676253230250886,
          40.673931143187154,
          40.68852726018977,
          40.67232052268197,
          40.68239101144211,
          40.669925700847045,
          40.64758905230874,
          40.63556432797428,
          40.630446043757466,
          40.606336421685626,
          40.57791350308657,
          40.57429256471601,
          40.59951870282238,
          40.633130512758015,
          40.61921945772264,
          40.590848433902046,
          40.609747779894604,
          40.693229421881504,
          40.57637537890224,
          40.69084402109802,
          40.68568291209144,
          40.658420017469815,
          40.67840255479536,
          40.67856995727479,
          40.61514955045308,
          40.62559589869843,
          40.64700860318519,
          40.62384524478419,
          40.70849241041548,
          40.714822906532014,
          40.71086147265064,
          40.61305976667942,
          40.61476812694226,
          40.71561842231432,
          40.85190252555305,
          40.86768396449915,
          40.823604284811935,
          40.8169344294978,
          40.81597606742414,
          40.79224946663033,
          40.775638573301805,
          40.77592984988488,
          40.76811265828733,
          40.76215960576283,
          40.78765799853485,
          40.77352888942166,
          40.75910089146212,
          40.75469110270623,
          40.748303077252174,
          40.76412612261407,
          40.744034706747975,
          40.59472602746295,
          40.72693288536128,
          40.72784677727024,
          40.71780674892765,
          40.721521967443216,
          40.71932379395907,
          40.72218384131794,
          40.73443393572434,
          40.79730704170287,
          40.80799973816583,
          40.737209832715,
          40.71193198394565,
          40.70710710727048,
          40.76850859335492,
          40.74634908860222,
          40.75198138007367,
          40.74404850512202,
          40.65422527738487,
          40.74238175015667,
          40.72526378216503,
          40.7051790354148,
          40.69794731471763,
          40.76445419697846,
          40.75021734610528,
          40.74017628351924,
          40.61276015756489,
          40.76407323883091,
          40.725427374093606,
          40.70832315613858,
          40.70276242967838,
          40.72897409480735,
          40.68988687915789,
          40.680708468265415,
          40.66854957767195,
          40.784902749260205,
          40.78129076602694,
          40.76604063281064,
          40.76172954903262,
          40.7708261928267,
          40.76684609790763,
          40.74944079974332,
          40.72857318176675,
          40.722578244228046,
          40.7343944653313,
          40.71093547252271,
          40.70465736068717,
          40.74561857141855,
          40.71889309216736,
          40.71124344191904,
          40.696911253789885,
          40.69444538522359,
          40.67521139591733,
          40.66623049036858,
          40.692774639160845,
          40.65981643342808,
          40.603134432500894,
          40.60302658351238,
          40.55740128845452,
          40.775923015642896,
          40.79278140360048,
          40.782842806245554,
          40.55398800858462,
          40.595641807368494,
          40.58914394372971,
          40.58280169684559,
          40.572036730217015,
          40.74137842194544,
          40.7209572076444,
          40.71680483014613,
          40.7445723092867,
          40.7238249018292,
          40.76170452605415,
          40.66391841925139,
          40.66788389660247,
          40.7360745708308,
          40.57615556543109,
          40.58034295646131,
          40.59771061565768,
          40.66000322733613,
          40.73301404027834,
          40.7540709990489,
          40.7146110815117,
          40.6449815710044,
          40.64061455913511,
          40.62692762538176,
          40.61530494652761,
          40.63187892654607,
          40.624184791313006,
          40.59706851814673,
          40.58024741350956,
          40.63366930554365,
          40.63254639048112,
          40.63968297845542,
          40.61333593766742,
          40.594252379161695,
          40.58631375103281,
          40.57257231820632,
          40.5584622432888,
          40.549480228713605,
          40.542230747450745,
          40.53811417474507,
          40.54196762288876,
          40.50533376115642,
          40.637316067110326,
          40.61919310792676,
          40.643675183340974,
          40.66094656188111,
          40.65557231328077,
          40.60919044434558,
          40.62109047275409,
          40.620171512231884,
          40.63532509911492,
          40.596312571276734,
          40.59826835959991,
          40.59632891379513,
          40.58867294819928,
          40.57352690574283,
          40.57621558711788,
          40.56425549307335,
          40.531911920489605,
          40.524699376118136,
          40.50608165346305,
          40.53053148283314,
          40.54940400650072,
          40.54928582278321,
          40.5552952361732,
          40.58913894875281,
          40.60577868452358,
          40.6095918004203,
          40.7826825671257,
          40.72325901885768,
          40.71522892046282,
          40.7485096643122,
          40.56960594275505,
          40.60971934079284,
          40.61917845202843,
          40.6044731896879,
          40.606794394801,
          40.63563000681151,
          40.63843283794795,
          40.63014674119383,
          40.65211745179349,
          40.6627442796966,
          40.63131755039667,
          40.61597423962336,
          40.71145964370482,
          40.73350025429757,
          40.73493618075478,
          40.7703173929982,
          40.83142834161548,
          40.824780490842905,
          40.84382617671654,
          40.84884160724665,
          40.76028033131374,
          40.743414090073536,
          40.75204236950722,
          40.7469174107402,
          40.73099955477061,
          40.739673047638426,
          40.74565180608076,
          40.73725071694497,
          40.70328109093014,
          40.70332149882874,
          40.67503986503237,
          40.67786104769531,
          40.70317632822692,
          40.60180957631444,
          40.60370692627371,
          40.541139922091766,
          40.579118742961214,
          40.56737588957032,
          40.598525095137255,
          40.716414511158185,
          40.52626406734812,
          40.57650629379489,
          40.51954145748909,
          40.79060155670148,
          40.6819989345173,
          40.60937770113766,
          40.85272297633017,
          40.86578787802982,
          40.8703923914147,
          40.64692606658579,
          40.75665808227519,
          40.58733774018741,
          40.61132169128384,
          40.75609129709471,
          40.61731079252983
         ],
         "legendgroup": "",
         "lon": [
          -73.84720052054902,
          -73.82993910812398,
          -73.82780644716412,
          -73.90564259591682,
          -73.9125854610857,
          -73.90281798724604,
          -73.91065965862981,
          -73.86731496814176,
          -73.8793907395681,
          -73.85744642974207,
          -73.83579759808117,
          -73.85475564017999,
          -73.78648845267413,
          -73.8855121841913,
          -73.9104159619131,
          -73.91967159119565,
          -73.89642655981623,
          -73.88735617532338,
          -73.87774474910545,
          -73.9261020935813,
          -73.90942160757436,
          -73.91609987487575,
          -73.91322139386135,
          -73.8957882009446,
          -73.88331505955291,
          -73.90150648943059,
          -73.86574609554924,
          -73.85414416189266,
          -73.81635002158441,
          -73.8240992675385,
          -73.85600310535783,
          -73.84219407604444,
          -73.8662991807561,
          -73.85040178030421,
          -73.88845196134804,
          -73.91719048210393,
          -73.90453054908927,
          -73.8320737824047,
          -73.82620275994073,
          -73.81388514428619,
          -73.84802729582735,
          -73.86332361652777,
          -73.84161194831223,
          -73.91558941773444,
          -73.85053524451935,
          -73.84808271877168,
          -74.03062069353813,
          -73.99517998380729,
          -74.01031618527784,
          -73.95424093127393,
          -73.97347087708445,
          -73.96509448785336,
          -73.94318640482979,
          -73.95743840559939,
          -73.95840106533903,
          -73.94329119073582,
          -73.93610256185836,
          -73.98042110559474,
          -73.98007340430172,
          -73.9648592426269,
          -73.91023536176607,
          -73.95811529220927,
          -73.92525797487045,
          -73.94178488690297,
          -73.99378225496424,
          -73.99856139218463,
          -73.99465372828006,
          -74.0127589747356,
          -73.99444087145339,
          -73.97290574369092,
          -73.97705030183924,
          -73.87661596457296,
          -73.88069863917366,
          -73.87936970045875,
          -73.90209269778966,
          -73.92911302644674,
          -73.90818571777423,
          -73.94353722891886,
          -73.98868295821637,
          -73.99875221443519,
          -73.99049823044811,
          -74.01931375636022,
          -73.93010170691196,
          -73.93134404108497,
          -73.96784306216367,
          -74.0078731120024,
          -73.98346337431099,
          -73.98374824115798,
          -73.95489867077713,
          -73.91306831787395,
          -73.86797598081334,
          -73.89855633630317,
          -73.95759523489838,
          -73.96261316716048,
          -73.91607483951324,
          -73.93885815269195,
          -73.95880857587582,
          -73.95800095153331,
          -73.96836678035541,
          -74.03197914537984,
          -73.99427936255978,
          -73.93690027985234,
          -73.92121042203897,
          -73.94968791883366,
          -73.9573853935188,
          -73.94321112603905,
          -73.94418223148524,
          -73.96050763135,
          -73.94711784471826,
          -73.9588596881376,
          -73.94916769227953,
          -73.97705923630603,
          -73.98533777001262,
          -73.99611936309479,
          -73.98166882730304,
          -73.97833207924127,
          -73.81276269135866,
          -74.00311633472813,
          -74.1895604551969,
          -73.99991402945902,
          -73.98222616506416,
          -73.98089031999291,
          -74.01068328559087,
          -73.99730467208073,
          -74.00065666959759,
          -74.00617998126812,
          -73.96428617740655,
          -73.96389627905332,
          -73.98137594833541,
          -74.01686930508617,
          -74.0106654452127,
          -73.91565374304234,
          -73.90184166838284,
          -73.88282109164365,
          -73.88165622288388,
          -73.8381376460028,
          -73.85682497345258,
          -73.84447500788983,
          -73.82981905825703,
          -73.83183321446887,
          -73.83177300329582,
          -73.93920223915505,
          -73.92691617561577,
          -74.0971255217853,
          -73.86704147658772,
          -73.89621713626859,
          -73.90143517559589,
          -73.87074167435605,
          -73.8578268690537,
          -73.8581104655432,
          -73.84320266173447,
          -73.80986478649041,
          -73.84304528896125,
          -73.81420216610863,
          -73.7742736306867,
          -73.79176243728061,
          -73.7388977558074,
          -73.7424982072733,
          -73.71548118999145,
          -73.72012814826903,
          -73.82087764933566,
          -73.78271337003264,
          -73.81174822458634,
          -73.79690165888289,
          -73.75494976234332,
          -73.73871484578424,
          -73.75925009335594,
          -73.7904261313554,
          -73.75867603727717,
          -73.77258787620906,
          -73.76042092682287,
          -73.73526873708026,
          -73.73526079428278,
          -73.75497968043872,
          -73.8200548911032,
          -73.92551196994168,
          -73.90228960391673,
          -73.80436451720988,
          -73.7768022262158,
          -74.13916622175768,
          -73.77613282391705,
          -73.79199233136943,
          -73.82236121088751,
          -73.85754672410827,
          -73.70884705889246,
          -73.76714166714729,
          -73.7872269693666,
          -73.82580915110559,
          -73.79760300912672,
          -73.93157506072878,
          -73.84963782402441,
          -73.74025607989822,
          -73.8625247141374,
          -73.8540175039252,
          -73.84153370226186,
          -73.79664750844047,
          -73.75175310731153,
          -73.73889198912481,
          -73.85751790676447,
          -73.8410221123401,
          -74.07935312512797,
          -74.08701650516625,
          -74.07790192660066,
          -74.06980526716141,
          -74.1071817826561,
          -74.08724819983729,
          -74.1113288180088,
          -74.0795529253982,
          -74.12943426797008,
          -74.15008537046981,
          -74.17464532993542,
          -74.11918058534842,
          -74.16496031329827,
          -74.19073717538116,
          -74.1164794360638,
          -74.12156593771896,
          -74.14932381490992,
          -74.1643308041936,
          -74.17854866165878,
          -74.20524582480326,
          -74.24656934235283,
          -74.08055351790115,
          -74.09629029235458,
          -73.96101312466779,
          -73.93718680559314,
          -73.92688212616955,
          -74.08015734936296,
          -74.13304143951704,
          -74.15315246387762,
          -74.16510420241124,
          -74.06712363225574,
          -74.0766743627905,
          -74.08751118005578,
          -74.09639905312521,
          -74.09348266303591,
          -74.10585598545434,
          -74.10432707469124,
          -74.19174105747814,
          -74.21983106616777,
          -74.22950350260027,
          -74.23215775896526,
          -74.21572851113952,
          -74.18588674583893,
          -74.17079414786092,
          -74.15902208156601,
          -74.18725638381567,
          -74.15940948657122,
          -73.95325646837112,
          -73.98843368023597,
          -74.00541529873355,
          -73.98871313285247,
          -74.1340572986257,
          -74.06667766061771,
          -74.072642445484,
          -74.08402364740358,
          -74.09776206972522,
          -74.09805062373887,
          -74.18622331749823,
          -74.1418167896889,
          -73.91665331978048,
          -73.88511776379292,
          -73.90233474295836,
          -73.91515391550404,
          -73.79646462081593,
          -73.79671678028349,
          -73.80486120040537,
          -73.89467996270574,
          -73.90119903387667,
          -73.91584652759009,
          -73.91655551964419,
          -73.90829930881988,
          -73.96355614094303,
          -73.95386782130745,
          -73.96770824581834,
          -73.97121928722265,
          -73.97405170469203,
          -73.9909471052826,
          -73.91819286431682,
          -73.93244235260178,
          -73.99550751888415,
          -73.98111603592393,
          -73.93053108817338,
          -73.90331684852599,
          -73.9887528074504,
          -74.12059399718001,
          -74.13208447484298,
          -74.21776636068567,
          -74.12727240604946,
          -73.89213760232822,
          -73.95918459428702,
          -73.88114319200604,
          -74.20152556457658,
          -74.13792663771568,
          -74.22957080626941,
          -73.82667757138641,
          -73.890345709872,
          -73.94841515328893,
          -73.86172577555115,
          -73.85931863221647,
          -73.90152264513144,
          -73.94817709920184,
          -74.00011136202637,
          -73.80553002968718,
          -73.76596781445627,
          -73.94563070334091,
          -74.08173992211962
         ],
         "marker": {
          "color": [
           0,
           0,
           0,
           0,
           0,
           -1,
           -1,
           0,
           1,
           -1,
           0,
           0,
           0,
           1,
           1,
           1,
           -1,
           1,
           1,
           1,
           1,
           2,
           0,
           1,
           0,
           1,
           0,
           0,
           0,
           0,
           1,
           0,
           1,
           0,
           -1,
           0,
           0,
           0,
           0,
           0,
           0,
           -1,
           0,
           1,
           1,
           0,
           5,
           -1,
           -1,
           -1,
           0,
           0,
           0,
           -1,
           2,
           -1,
           0,
           0,
           -1,
           3,
           -1,
           3,
           -1,
           -1,
           3,
           3,
           3,
           0,
           -1,
           3,
           3,
           -1,
           1,
           0,
           0,
           0,
           0,
           0,
           0,
           -1,
           0,
           0,
           0,
           -1,
           2,
           0,
           3,
           4,
           2,
           -1,
           -1,
           0,
           0,
           2,
           0,
           -1,
           -1,
           3,
           0,
           5,
           -1,
           -1,
           -1,
           -1,
           -1,
           -1,
           -1,
           4,
           3,
           4,
           -1,
           3,
           3,
           4,
           4,
           4,
           4,
           4,
           4,
           4,
           4,
           -1,
           4,
           -1,
           3,
           2,
           4,
           4,
           4,
           3,
           2,
           -1,
           -1,
           0,
           1,
           5,
           0,
           0,
           -1,
           -1,
           0,
           -1,
           0,
           2,
           0,
           0,
           -1,
           1,
           0,
           0,
           0,
           -1,
           -1,
           -1,
           -1,
           0,
           -1,
           0,
           0,
           -1,
           -1,
           0,
           0,
           0,
           -1,
           0,
           0,
           0,
           0,
           0,
           -1,
           0,
           0,
           5,
           0,
           0,
           0,
           0,
           0,
           0,
           -1,
           0,
           0,
           -1,
           -1,
           0,
           2,
           0,
           0,
           -1,
           0,
           0,
           0,
           0,
           0,
           -1,
           5,
           0,
           0,
           0,
           0,
           0,
           0,
           0,
           0,
           0,
           0,
           0,
           0,
           0,
           0,
           0,
           0,
           0,
           0,
           0,
           0,
           0,
           0,
           0,
           0,
           2,
           -1,
           -1,
           0,
           0,
           0,
           0,
           0,
           0,
           0,
           0,
           0,
           0,
           0,
           0,
           0,
           0,
           0,
           0,
           0,
           0,
           0,
           0,
           0,
           0,
           0,
           3,
           4,
           4,
           4,
           0,
           0,
           0,
           0,
           0,
           0,
           0,
           0,
           -1,
           -1,
           0,
           0,
           -1,
           -1,
           0,
           0,
           1,
           1,
           1,
           1,
           4,
           -1,
           4,
           4,
           3,
           4,
           5,
           0,
           3,
           -1,
           2,
           -1,
           -1,
           0,
           0,
           0,
           0,
           0,
           0,
           0,
           0,
           0,
           0,
           0,
           -1,
           0,
           0,
           -1,
           1,
           -1,
           4,
           0,
           0,
           -1,
           0
          ],
          "coloraxis": "coloraxis"
         },
         "mode": "markers",
         "name": "",
         "showlegend": false,
         "subplot": "mapbox",
         "type": "scattermapbox"
        }
       ],
       "layout": {
        "coloraxis": {
         "colorbar": {
          "title": {
           "text": "cluster"
          }
         },
         "colorscale": [
          [
           0,
           "#0d0887"
          ],
          [
           0.1111111111111111,
           "#46039f"
          ],
          [
           0.2222222222222222,
           "#7201a8"
          ],
          [
           0.3333333333333333,
           "#9c179e"
          ],
          [
           0.4444444444444444,
           "#bd3786"
          ],
          [
           0.5555555555555556,
           "#d8576b"
          ],
          [
           0.6666666666666666,
           "#ed7953"
          ],
          [
           0.7777777777777778,
           "#fb9f3a"
          ],
          [
           0.8888888888888888,
           "#fdca26"
          ],
          [
           1,
           "#f0f921"
          ]
         ]
        },
        "geo": {
         "fitbounds": "locations"
        },
        "height": 500,
        "legend": {
         "tracegroupgap": 0
        },
        "mapbox": {
         "accesstoken": "pk.eyJ1IjoidmVsdm94IiwiYSI6ImNsNThham8xajIxMnMzam1ycGg2eTZ0eGYifQ.RaCirjLZex17tLwWOx9FGQ",
         "center": {
          "lat": 40.70136210272567,
          "lon": -73.94625419828468
         },
         "domain": {
          "x": [
           0,
           1
          ],
          "y": [
           0,
           1
          ]
         },
         "style": "dark",
         "zoom": 8
        },
        "margin": {
         "b": 0,
         "l": 0,
         "r": 0,
         "t": 0
        },
        "template": {
         "data": {
          "bar": [
           {
            "error_x": {
             "color": "#2a3f5f"
            },
            "error_y": {
             "color": "#2a3f5f"
            },
            "marker": {
             "line": {
              "color": "#E5ECF6",
              "width": 0.5
             },
             "pattern": {
              "fillmode": "overlay",
              "size": 10,
              "solidity": 0.2
             }
            },
            "type": "bar"
           }
          ],
          "barpolar": [
           {
            "marker": {
             "line": {
              "color": "#E5ECF6",
              "width": 0.5
             },
             "pattern": {
              "fillmode": "overlay",
              "size": 10,
              "solidity": 0.2
             }
            },
            "type": "barpolar"
           }
          ],
          "carpet": [
           {
            "aaxis": {
             "endlinecolor": "#2a3f5f",
             "gridcolor": "white",
             "linecolor": "white",
             "minorgridcolor": "white",
             "startlinecolor": "#2a3f5f"
            },
            "baxis": {
             "endlinecolor": "#2a3f5f",
             "gridcolor": "white",
             "linecolor": "white",
             "minorgridcolor": "white",
             "startlinecolor": "#2a3f5f"
            },
            "type": "carpet"
           }
          ],
          "choropleth": [
           {
            "colorbar": {
             "outlinewidth": 0,
             "ticks": ""
            },
            "type": "choropleth"
           }
          ],
          "contour": [
           {
            "colorbar": {
             "outlinewidth": 0,
             "ticks": ""
            },
            "colorscale": [
             [
              0,
              "#0d0887"
             ],
             [
              0.1111111111111111,
              "#46039f"
             ],
             [
              0.2222222222222222,
              "#7201a8"
             ],
             [
              0.3333333333333333,
              "#9c179e"
             ],
             [
              0.4444444444444444,
              "#bd3786"
             ],
             [
              0.5555555555555556,
              "#d8576b"
             ],
             [
              0.6666666666666666,
              "#ed7953"
             ],
             [
              0.7777777777777778,
              "#fb9f3a"
             ],
             [
              0.8888888888888888,
              "#fdca26"
             ],
             [
              1,
              "#f0f921"
             ]
            ],
            "type": "contour"
           }
          ],
          "contourcarpet": [
           {
            "colorbar": {
             "outlinewidth": 0,
             "ticks": ""
            },
            "type": "contourcarpet"
           }
          ],
          "heatmap": [
           {
            "colorbar": {
             "outlinewidth": 0,
             "ticks": ""
            },
            "colorscale": [
             [
              0,
              "#0d0887"
             ],
             [
              0.1111111111111111,
              "#46039f"
             ],
             [
              0.2222222222222222,
              "#7201a8"
             ],
             [
              0.3333333333333333,
              "#9c179e"
             ],
             [
              0.4444444444444444,
              "#bd3786"
             ],
             [
              0.5555555555555556,
              "#d8576b"
             ],
             [
              0.6666666666666666,
              "#ed7953"
             ],
             [
              0.7777777777777778,
              "#fb9f3a"
             ],
             [
              0.8888888888888888,
              "#fdca26"
             ],
             [
              1,
              "#f0f921"
             ]
            ],
            "type": "heatmap"
           }
          ],
          "heatmapgl": [
           {
            "colorbar": {
             "outlinewidth": 0,
             "ticks": ""
            },
            "colorscale": [
             [
              0,
              "#0d0887"
             ],
             [
              0.1111111111111111,
              "#46039f"
             ],
             [
              0.2222222222222222,
              "#7201a8"
             ],
             [
              0.3333333333333333,
              "#9c179e"
             ],
             [
              0.4444444444444444,
              "#bd3786"
             ],
             [
              0.5555555555555556,
              "#d8576b"
             ],
             [
              0.6666666666666666,
              "#ed7953"
             ],
             [
              0.7777777777777778,
              "#fb9f3a"
             ],
             [
              0.8888888888888888,
              "#fdca26"
             ],
             [
              1,
              "#f0f921"
             ]
            ],
            "type": "heatmapgl"
           }
          ],
          "histogram": [
           {
            "marker": {
             "pattern": {
              "fillmode": "overlay",
              "size": 10,
              "solidity": 0.2
             }
            },
            "type": "histogram"
           }
          ],
          "histogram2d": [
           {
            "colorbar": {
             "outlinewidth": 0,
             "ticks": ""
            },
            "colorscale": [
             [
              0,
              "#0d0887"
             ],
             [
              0.1111111111111111,
              "#46039f"
             ],
             [
              0.2222222222222222,
              "#7201a8"
             ],
             [
              0.3333333333333333,
              "#9c179e"
             ],
             [
              0.4444444444444444,
              "#bd3786"
             ],
             [
              0.5555555555555556,
              "#d8576b"
             ],
             [
              0.6666666666666666,
              "#ed7953"
             ],
             [
              0.7777777777777778,
              "#fb9f3a"
             ],
             [
              0.8888888888888888,
              "#fdca26"
             ],
             [
              1,
              "#f0f921"
             ]
            ],
            "type": "histogram2d"
           }
          ],
          "histogram2dcontour": [
           {
            "colorbar": {
             "outlinewidth": 0,
             "ticks": ""
            },
            "colorscale": [
             [
              0,
              "#0d0887"
             ],
             [
              0.1111111111111111,
              "#46039f"
             ],
             [
              0.2222222222222222,
              "#7201a8"
             ],
             [
              0.3333333333333333,
              "#9c179e"
             ],
             [
              0.4444444444444444,
              "#bd3786"
             ],
             [
              0.5555555555555556,
              "#d8576b"
             ],
             [
              0.6666666666666666,
              "#ed7953"
             ],
             [
              0.7777777777777778,
              "#fb9f3a"
             ],
             [
              0.8888888888888888,
              "#fdca26"
             ],
             [
              1,
              "#f0f921"
             ]
            ],
            "type": "histogram2dcontour"
           }
          ],
          "mesh3d": [
           {
            "colorbar": {
             "outlinewidth": 0,
             "ticks": ""
            },
            "type": "mesh3d"
           }
          ],
          "parcoords": [
           {
            "line": {
             "colorbar": {
              "outlinewidth": 0,
              "ticks": ""
             }
            },
            "type": "parcoords"
           }
          ],
          "pie": [
           {
            "automargin": true,
            "type": "pie"
           }
          ],
          "scatter": [
           {
            "fillpattern": {
             "fillmode": "overlay",
             "size": 10,
             "solidity": 0.2
            },
            "type": "scatter"
           }
          ],
          "scatter3d": [
           {
            "line": {
             "colorbar": {
              "outlinewidth": 0,
              "ticks": ""
             }
            },
            "marker": {
             "colorbar": {
              "outlinewidth": 0,
              "ticks": ""
             }
            },
            "type": "scatter3d"
           }
          ],
          "scattercarpet": [
           {
            "marker": {
             "colorbar": {
              "outlinewidth": 0,
              "ticks": ""
             }
            },
            "type": "scattercarpet"
           }
          ],
          "scattergeo": [
           {
            "marker": {
             "colorbar": {
              "outlinewidth": 0,
              "ticks": ""
             }
            },
            "type": "scattergeo"
           }
          ],
          "scattergl": [
           {
            "marker": {
             "colorbar": {
              "outlinewidth": 0,
              "ticks": ""
             }
            },
            "type": "scattergl"
           }
          ],
          "scattermapbox": [
           {
            "marker": {
             "colorbar": {
              "outlinewidth": 0,
              "ticks": ""
             }
            },
            "type": "scattermapbox"
           }
          ],
          "scatterpolar": [
           {
            "marker": {
             "colorbar": {
              "outlinewidth": 0,
              "ticks": ""
             }
            },
            "type": "scatterpolar"
           }
          ],
          "scatterpolargl": [
           {
            "marker": {
             "colorbar": {
              "outlinewidth": 0,
              "ticks": ""
             }
            },
            "type": "scatterpolargl"
           }
          ],
          "scatterternary": [
           {
            "marker": {
             "colorbar": {
              "outlinewidth": 0,
              "ticks": ""
             }
            },
            "type": "scatterternary"
           }
          ],
          "surface": [
           {
            "colorbar": {
             "outlinewidth": 0,
             "ticks": ""
            },
            "colorscale": [
             [
              0,
              "#0d0887"
             ],
             [
              0.1111111111111111,
              "#46039f"
             ],
             [
              0.2222222222222222,
              "#7201a8"
             ],
             [
              0.3333333333333333,
              "#9c179e"
             ],
             [
              0.4444444444444444,
              "#bd3786"
             ],
             [
              0.5555555555555556,
              "#d8576b"
             ],
             [
              0.6666666666666666,
              "#ed7953"
             ],
             [
              0.7777777777777778,
              "#fb9f3a"
             ],
             [
              0.8888888888888888,
              "#fdca26"
             ],
             [
              1,
              "#f0f921"
             ]
            ],
            "type": "surface"
           }
          ],
          "table": [
           {
            "cells": {
             "fill": {
              "color": "#EBF0F8"
             },
             "line": {
              "color": "white"
             }
            },
            "header": {
             "fill": {
              "color": "#C8D4E3"
             },
             "line": {
              "color": "white"
             }
            },
            "type": "table"
           }
          ]
         },
         "layout": {
          "annotationdefaults": {
           "arrowcolor": "#2a3f5f",
           "arrowhead": 0,
           "arrowwidth": 1
          },
          "autotypenumbers": "strict",
          "coloraxis": {
           "colorbar": {
            "outlinewidth": 0,
            "ticks": ""
           }
          },
          "colorscale": {
           "diverging": [
            [
             0,
             "#8e0152"
            ],
            [
             0.1,
             "#c51b7d"
            ],
            [
             0.2,
             "#de77ae"
            ],
            [
             0.3,
             "#f1b6da"
            ],
            [
             0.4,
             "#fde0ef"
            ],
            [
             0.5,
             "#f7f7f7"
            ],
            [
             0.6,
             "#e6f5d0"
            ],
            [
             0.7,
             "#b8e186"
            ],
            [
             0.8,
             "#7fbc41"
            ],
            [
             0.9,
             "#4d9221"
            ],
            [
             1,
             "#276419"
            ]
           ],
           "sequential": [
            [
             0,
             "#0d0887"
            ],
            [
             0.1111111111111111,
             "#46039f"
            ],
            [
             0.2222222222222222,
             "#7201a8"
            ],
            [
             0.3333333333333333,
             "#9c179e"
            ],
            [
             0.4444444444444444,
             "#bd3786"
            ],
            [
             0.5555555555555556,
             "#d8576b"
            ],
            [
             0.6666666666666666,
             "#ed7953"
            ],
            [
             0.7777777777777778,
             "#fb9f3a"
            ],
            [
             0.8888888888888888,
             "#fdca26"
            ],
            [
             1,
             "#f0f921"
            ]
           ],
           "sequentialminus": [
            [
             0,
             "#0d0887"
            ],
            [
             0.1111111111111111,
             "#46039f"
            ],
            [
             0.2222222222222222,
             "#7201a8"
            ],
            [
             0.3333333333333333,
             "#9c179e"
            ],
            [
             0.4444444444444444,
             "#bd3786"
            ],
            [
             0.5555555555555556,
             "#d8576b"
            ],
            [
             0.6666666666666666,
             "#ed7953"
            ],
            [
             0.7777777777777778,
             "#fb9f3a"
            ],
            [
             0.8888888888888888,
             "#fdca26"
            ],
            [
             1,
             "#f0f921"
            ]
           ]
          },
          "colorway": [
           "#636efa",
           "#EF553B",
           "#00cc96",
           "#ab63fa",
           "#FFA15A",
           "#19d3f3",
           "#FF6692",
           "#B6E880",
           "#FF97FF",
           "#FECB52"
          ],
          "font": {
           "color": "#2a3f5f"
          },
          "geo": {
           "bgcolor": "white",
           "lakecolor": "white",
           "landcolor": "#E5ECF6",
           "showlakes": true,
           "showland": true,
           "subunitcolor": "white"
          },
          "hoverlabel": {
           "align": "left"
          },
          "hovermode": "closest",
          "mapbox": {
           "style": "light"
          },
          "paper_bgcolor": "white",
          "plot_bgcolor": "#E5ECF6",
          "polar": {
           "angularaxis": {
            "gridcolor": "white",
            "linecolor": "white",
            "ticks": ""
           },
           "bgcolor": "#E5ECF6",
           "radialaxis": {
            "gridcolor": "white",
            "linecolor": "white",
            "ticks": ""
           }
          },
          "scene": {
           "xaxis": {
            "backgroundcolor": "#E5ECF6",
            "gridcolor": "white",
            "gridwidth": 2,
            "linecolor": "white",
            "showbackground": true,
            "ticks": "",
            "zerolinecolor": "white"
           },
           "yaxis": {
            "backgroundcolor": "#E5ECF6",
            "gridcolor": "white",
            "gridwidth": 2,
            "linecolor": "white",
            "showbackground": true,
            "ticks": "",
            "zerolinecolor": "white"
           },
           "zaxis": {
            "backgroundcolor": "#E5ECF6",
            "gridcolor": "white",
            "gridwidth": 2,
            "linecolor": "white",
            "showbackground": true,
            "ticks": "",
            "zerolinecolor": "white"
           }
          },
          "shapedefaults": {
           "line": {
            "color": "#2a3f5f"
           }
          },
          "ternary": {
           "aaxis": {
            "gridcolor": "white",
            "linecolor": "white",
            "ticks": ""
           },
           "baxis": {
            "gridcolor": "white",
            "linecolor": "white",
            "ticks": ""
           },
           "bgcolor": "#E5ECF6",
           "caxis": {
            "gridcolor": "white",
            "linecolor": "white",
            "ticks": ""
           }
          },
          "title": {
           "x": 0.05
          },
          "xaxis": {
           "automargin": true,
           "gridcolor": "white",
           "linecolor": "white",
           "ticks": "",
           "title": {
            "standoff": 15
           },
           "zerolinecolor": "white",
           "zerolinewidth": 2
          },
          "yaxis": {
           "automargin": true,
           "gridcolor": "white",
           "linecolor": "white",
           "ticks": "",
           "title": {
            "standoff": 15
           },
           "zerolinecolor": "white",
           "zerolinewidth": 2
          }
         }
        }
       }
      }
     },
     "metadata": {},
     "output_type": "display_data"
    },
    {
     "data": {
      "application/vnd.plotly.v1+json": {
       "config": {
        "plotlyServerURL": "https://plot.ly"
       },
       "data": [
        {
         "hovertemplate": "PC1=%{x}<br>PC2=%{y}<br>cluster=%{marker.color}<extra></extra>",
         "legendgroup": "",
         "marker": {
          "color": [
           0,
           0,
           0,
           0,
           0,
           -1,
           -1,
           0,
           1,
           -1,
           0,
           0,
           0,
           1,
           1,
           1,
           -1,
           1,
           1,
           1,
           1,
           2,
           0,
           1,
           0,
           1,
           0,
           0,
           0,
           0,
           1,
           0,
           1,
           0,
           -1,
           0,
           0,
           0,
           0,
           0,
           0,
           -1,
           0,
           1,
           1,
           0,
           5,
           -1,
           -1,
           -1,
           0,
           0,
           0,
           -1,
           2,
           -1,
           0,
           0,
           -1,
           3,
           -1,
           3,
           -1,
           -1,
           3,
           3,
           3,
           0,
           -1,
           3,
           3,
           -1,
           1,
           0,
           0,
           0,
           0,
           0,
           0,
           -1,
           0,
           0,
           0,
           -1,
           2,
           0,
           3,
           4,
           2,
           -1,
           -1,
           0,
           0,
           2,
           0,
           -1,
           -1,
           3,
           0,
           5,
           -1,
           -1,
           -1,
           -1,
           -1,
           -1,
           -1,
           4,
           3,
           4,
           -1,
           3,
           3,
           4,
           4,
           4,
           4,
           4,
           4,
           4,
           4,
           -1,
           4,
           -1,
           3,
           2,
           4,
           4,
           4,
           3,
           2,
           -1,
           -1,
           0,
           1,
           5,
           0,
           0,
           -1,
           -1,
           0,
           -1,
           0,
           2,
           0,
           0,
           -1,
           1,
           0,
           0,
           0,
           -1,
           -1,
           -1,
           -1,
           0,
           -1,
           0,
           0,
           -1,
           -1,
           0,
           0,
           0,
           -1,
           0,
           0,
           0,
           0,
           0,
           -1,
           0,
           0,
           5,
           0,
           0,
           0,
           0,
           0,
           0,
           -1,
           0,
           0,
           -1,
           -1,
           0,
           2,
           0,
           0,
           -1,
           0,
           0,
           0,
           0,
           0,
           -1,
           5,
           0,
           0,
           0,
           0,
           0,
           0,
           0,
           0,
           0,
           0,
           0,
           0,
           0,
           0,
           0,
           0,
           0,
           0,
           0,
           0,
           0,
           0,
           0,
           0,
           2,
           -1,
           -1,
           0,
           0,
           0,
           0,
           0,
           0,
           0,
           0,
           0,
           0,
           0,
           0,
           0,
           0,
           0,
           0,
           0,
           0,
           0,
           0,
           0,
           0,
           0,
           3,
           4,
           4,
           4,
           0,
           0,
           0,
           0,
           0,
           0,
           0,
           0,
           -1,
           -1,
           0,
           0,
           -1,
           -1,
           0,
           0,
           1,
           1,
           1,
           1,
           4,
           -1,
           4,
           4,
           3,
           4,
           5,
           0,
           3,
           -1,
           2,
           -1,
           -1,
           0,
           0,
           0,
           0,
           0,
           0,
           0,
           0,
           0,
           0,
           0,
           -1,
           0,
           0,
           -1,
           1,
           -1,
           4,
           0,
           0,
           -1,
           0
          ],
          "coloraxis": "coloraxis",
          "symbol": "circle"
         },
         "mode": "markers",
         "name": "",
         "orientation": "v",
         "showlegend": false,
         "type": "scatter",
         "x": [
          -0.3508186445814046,
          -0.5639310289142907,
          -0.5876614889048775,
          -0.5823377224391548,
          -0.5607934377831532,
          0.4195720316235605,
          0.4072448737758711,
          -0.4113530731621215,
          -0.00399273331831062,
          -0.1852422563817428,
          -0.44739994890418283,
          -0.17321034471097554,
          -0.9863859016696982,
          0.363681409013939,
          0.5332508277656569,
          0.4280966465773618,
          1.0588501758287197,
          0.025247980120545525,
          0.23810740264577307,
          0.6865351171763053,
          0.2581063436168159,
          0.3715708207646612,
          -0.4131797356835435,
          -0.04785829771362803,
          -0.9827684239122897,
          0.3681831670016599,
          -0.2935365288623707,
          -1.1909481439518261,
          -1.1528255253136725,
          -0.7069147217330235,
          0.40055109920872667,
          0.00803215716421511,
          0.14911199452136348,
          -0.16737103147821697,
          0.760616799924241,
          -0.23008068388502226,
          -0.7678298340451299,
          -0.540115638809465,
          -0.6308503154771031,
          -0.8514860460990357,
          -0.6867705734521476,
          -0.2078070316297446,
          -0.7308828712104986,
          0.5838622089680124,
          0.23092709056774202,
          -0.25715838997259816,
          0.5912142380882366,
          0.45038843768797976,
          0.7458086225076698,
          0.6665341479810564,
          -0.3559651445471211,
          0.14544245797935162,
          0.16923801231755534,
          0.28649183156012964,
          0.49776358997416936,
          1.0061507020713225,
          -0.00044711259362545716,
          0.28586827885250043,
          0.25658402880596615,
          1.2550220032228516,
          0.12286107335774328,
          1.485896209569183,
          1.141757343619969,
          1.083056179238525,
          1.2308187941802846,
          1.398828328888598,
          1.3054235587132532,
          -0.6767646613072369,
          0.6750460519396514,
          1.370581465278255,
          1.2018852316157136,
          -0.2580847111797142,
          -0.011498460508768802,
          -0.8370263340387589,
          -0.6363564838589613,
          -0.42919282404945464,
          -1.1039702224687824,
          -0.1088711356058151,
          -0.4596040070615721,
          0.1418478816660463,
          0.21957884447651801,
          0.3554794976193818,
          -0.8742386278118172,
          -0.2746466637092127,
          1.1054992040219718,
          -1.2632478611888398,
          1.5367762704079522,
          2.0068280117827495,
          0.850062335137054,
          0.33944496228293397,
          0.19249504445578958,
          -1.3581558798511084,
          0.2434247873301313,
          0.5263964218229623,
          -0.4868238715600447,
          1.1886039499169794,
          1.312567480095893,
          1.5798144290432872,
          0.09562530830559078,
          0.10113773211496412,
          2.033076972324046,
          0.8053821545180139,
          0.637502907215228,
          1.0203277391689545,
          1.1081509796409459,
          1.2746332749915992,
          1.0753569684035553,
          1.7049819492724492,
          1.6587035438150557,
          1.7295177415265623,
          0.5214983885075135,
          1.3702205937067362,
          1.518749873805489,
          2.1729248712419267,
          2.5854778650398846,
          2.411180428395736,
          2.1166243572495915,
          2.0214316278135502,
          1.8271443317174267,
          1.7146476778873738,
          2.0310988554007685,
          2.2173494244528684,
          2.184350145824153,
          1.5947485452960408,
          1.0679977016528681,
          0.8413104680994339,
          1.9202053051499042,
          1.8312001793279702,
          2.0139938593698643,
          1.3205121461089913,
          0.8282043651674835,
          1.2256783451926239,
          1.3358151046978437,
          -0.9688877415976315,
          0.26608200929683606,
          0.4664951006725747,
          -0.0563240048251054,
          -0.0559120157718613,
          1.1399716405498577,
          0.5358927796322845,
          0.018958766203575374,
          -0.24741988762852457,
          -0.5776044130063319,
          0.6475878617948905,
          -0.9100792974452094,
          0.49081208825788125,
          0.3298476395279003,
          -0.007475294677475479,
          -0.489846855978679,
          -0.8491853143573168,
          -0.7011129372532078,
          -0.05347780212672248,
          -0.0011183823042832202,
          -0.5655651342350086,
          -0.6620259718207827,
          -0.9227863531495146,
          -0.6622952480314663,
          -0.4782287610370813,
          -0.5932215055392788,
          0.12014236348877132,
          0.6903330209670598,
          -0.8426881627710046,
          -0.6917978730477802,
          -0.6781299724263031,
          0.1602732904474833,
          -0.6133650035392196,
          -0.6949704672974494,
          -0.9075944177318687,
          -0.8786928400558157,
          -0.9058658749968183,
          -0.31613938719436746,
          -1.4063256915973272,
          -1.3803818930202079,
          0.2625615034769143,
          -0.8470754546783491,
          -1.1030175239198672,
          -1.2002009601984962,
          -1.1015107582333754,
          -0.25448883335801076,
          -1.3268121966813606,
          0.21320098873326973,
          -0.6498069261405497,
          -0.9346574497489317,
          -0.23027783265072188,
          -0.5611158720424748,
          -0.6718621245174528,
          0.9811493906055307,
          -0.8636997616209908,
          -0.6227009894166133,
          0.26969388609522693,
          -1.2974700268568877,
          -0.7689427359366564,
          -1.1308155565904985,
          -1.1858237917313565,
          -1.1576084927470962,
          0.12712467464253588,
          0.6706059789697033,
          -0.3921416370294183,
          -0.11598044718702563,
          -0.23151664766119667,
          -0.7816102873703236,
          -0.7653708834373745,
          -0.5609480660210393,
          -1.2245683886515315,
          -1.2528323446207357,
          -0.04827769016556094,
          -0.620381709756415,
          -1.3179427171238245,
          -1.020448678856538,
          -1.122767828461264,
          -1.295461906008073,
          -0.2150777897030298,
          -1.0690715515230613,
          -0.6521075215103971,
          -0.7687037917119958,
          -1.1341499985115364,
          -1.206294094750507,
          -1.1419834961733435,
          0.15924292373346194,
          -1.0338737764714179,
          -0.9671029081402572,
          0.7301776776959528,
          0.22630807645404594,
          -0.03217868737816261,
          -0.8246874406681577,
          -0.0665121498396239,
          -0.525452729661283,
          -1.163670997184323,
          -1.0990419409084324,
          -0.871028416180363,
          -0.9839363695459624,
          -0.7071642819921274,
          -0.9649538646384597,
          -0.07938786382715807,
          -0.6511732443827587,
          -1.0495691285147353,
          -1.216907719249716,
          -1.0202686457871843,
          -1.245096243526878,
          -0.8051863963938097,
          -1.4079974175266863,
          -1.238577998585358,
          -1.1597420643057776,
          -0.49885995427398205,
          -1.2294098096570147,
          -1.3473762262692497,
          -0.9893474027848611,
          1.324644655674268,
          2.236559940687958,
          2.300220738929092,
          2.5447691037266145,
          -1.3290802025585322,
          -1.0339295771544759,
          -0.3646263998858898,
          -0.9210480898797002,
          -1.0528999459414,
          -0.7465386837494035,
          -1.3310648253509125,
          -0.15504914093148417,
          -0.17437782760361567,
          -0.2603429111629848,
          -0.8277771276090602,
          -0.5418252456462207,
          0.6086703948875171,
          -0.5988433486407282,
          -0.9028097234226942,
          -0.9592914666868012,
          0.22142476650741127,
          0.7932088658321987,
          0.5636494338661097,
          0.41197956731334534,
          1.826830708628797,
          0.31242812323741953,
          1.902649433624108,
          1.620881829702091,
          1.2518535611471007,
          2.144068931719886,
          0.43127983098330536,
          -0.326669105779434,
          1.1600755290161804,
          0.6320233562856604,
          0.7899229468245065,
          0.21091418080767607,
          0.7684640830904039,
          -1.2050179821235905,
          -1.003315446220766,
          -1.300336769491636,
          -1.2169871538010222,
          -1.4762498697303896,
          0.2818455182041284,
          -0.9236872137307428,
          -1.2034142443186877,
          -1.3539329811844136,
          -0.5113520614681136,
          -0.8684685964407897,
          -0.6600211472717245,
          0.02387224500841111,
          -0.10249542394847518,
          -0.5073132666040002,
          0.5206042476056767,
          0.15663991940049013,
          1.9189992338794515,
          -0.5326400765665911,
          -0.8536336765878905,
          0.23333215288286902,
          -0.6440736946026615
         ],
         "xaxis": "x",
         "y": [
          0.7099961857978953,
          0.42702553658784737,
          0.32532461799333984,
          -0.30751240895039944,
          -0.13734036816883838,
          0.31128851737849844,
          0.729962167893389,
          -0.0005735189402775898,
          0.8184393245280276,
          1.117196888341552,
          0.6623167014430784,
          0.5818759175510941,
          -0.5755506430210526,
          0.7595512721812351,
          1.0919717029401952,
          0.9287727424286327,
          0.647167399836963,
          1.1481584414274244,
          1.0538483156137948,
          1.068173947937826,
          0.8958960717525997,
          0.5678691445652688,
          0.4174137788963033,
          0.7527314614167181,
          -0.32417865836517257,
          1.2685351012786688,
          1.1329563580483628,
          -0.6309878142198015,
          -0.5784391528625124,
          -0.04627264220648031,
          1.0451683016282647,
          0.6363022232065211,
          0.6090535964371065,
          0.3389705573491687,
          -0.07876016749848436,
          -0.005161321019689319,
          -0.16245932754008796,
          -0.015756191193797463,
          0.19443560793123194,
          -0.094922033919062,
          0.4528492287184965,
          1.1992796693159886,
          0.28812500403641145,
          1.3827214876209564,
          1.112825496480182,
          0.820319273071483,
          -0.19017580106885862,
          -0.07244448877381379,
          0.4750518811453017,
          -0.6854025144338283,
          0.20702474930218934,
          0.1518140456897288,
          -0.05401545573946639,
          0.15929102424296657,
          0.3937351519692185,
          1.014706623198994,
          0.6371969911009774,
          0.1750033851741816,
          -0.6006650204085802,
          -0.0792124573390606,
          1.512070916552906,
          -0.6427866590478051,
          -0.03307075643171754,
          0.5274321350929281,
          -0.45485297270854297,
          -0.5564822170596899,
          -0.6115030808876163,
          -0.30479187981488526,
          -0.3098013915666279,
          -0.4457154428997717,
          -0.698679628353853,
          0.6013513192758371,
          1.0639967642006818,
          0.23703389905433955,
          0.6299565866915858,
          0.8345022141548945,
          -0.4323407360986679,
          -0.36112213785851976,
          0.5276588766709592,
          -0.07191032684639224,
          0.4567759882447646,
          -0.24191454883831306,
          0.1428429389318786,
          0.39866159386906896,
          0.029551102791049888,
          -0.6860368415335261,
          -0.2269403331648695,
          -0.5324958691880598,
          0.41247460087419985,
          0.6397017321322944,
          0.7167548034897423,
          -0.7968509799301254,
          0.4579173464816717,
          0.6929268513292324,
          0.3027252421361952,
          -0.5018055971078058,
          -0.9262446362631672,
          -0.7089125244246054,
          -0.09250520902190804,
          -0.24347082832148273,
          -0.5011749815040876,
          0.2769417524742287,
          0.6594733357560907,
          0.1464652696809386,
          0.17980367632117927,
          0.2876728571762101,
          0.24207094960578387,
          -0.47685645775978125,
          -0.4641342832744238,
          -0.6242657785803362,
          -0.35839496694913836,
          -0.6697201639582336,
          -0.5934551819218801,
          -0.6776601586832687,
          -0.772206603265197,
          -0.8256034226699906,
          -0.6034916443139994,
          -0.6959188228222942,
          -0.6506881292737736,
          -0.730610566802647,
          -0.7118028645644151,
          -0.5537360443743592,
          -0.7516917933008144,
          -1.0413224864771373,
          -0.2888912128532489,
          0.16165561715961727,
          -0.6301647136546636,
          -0.5457559028477338,
          -0.7375472316736065,
          -0.30382668918844896,
          0.14392662023758906,
          0.4029023478736755,
          0.11923488393747818,
          -0.3931448013405179,
          0.47116303960960504,
          -0.3057199867825617,
          0.19033436901269668,
          0.3672353828015206,
          -0.11915816433922534,
          -0.22949644038607933,
          0.0005381922934969265,
          0.4014541076202302,
          0.011226333971447174,
          0.15316753403502015,
          -0.17839685429915678,
          0.1162964727268741,
          0.6132218639995656,
          0.7440426957254411,
          0.5514812675631249,
          0.2558900153292978,
          -0.41263591264996197,
          -0.24829956261552585,
          -0.08343938247417602,
          -0.20777470378370455,
          -0.24080633807485974,
          -0.3134496109536108,
          0.26608327441236906,
          -0.029058638683316398,
          0.0671953806310761,
          0.7504319775030304,
          1.1239966883690784,
          -0.45781463258792676,
          0.34873035447720835,
          0.8756141158887747,
          0.9258608099918605,
          0.4841868261378967,
          0.7141823455552794,
          -0.03732354018898182,
          0.28878723343162016,
          0.15719818315722064,
          0.7973884178965798,
          -0.7660432689583268,
          -0.84400657794849,
          -0.45947960809374516,
          -0.3345165522557174,
          -0.6649776248286672,
          -0.6363778850046428,
          -0.5993592194355751,
          -0.18919715662760342,
          -0.7691383038182813,
          0.04053435533132516,
          0.21657270370862602,
          -0.014942354878290992,
          0.9030285565753604,
          -0.4266317392588027,
          0.15182338797892395,
          -0.19851912578326078,
          0.054602340636070716,
          0.4071145704787819,
          0.4220990016103621,
          -0.7460484006509379,
          -0.37416817643363576,
          -0.6372097375723659,
          -0.5063493452642951,
          -0.09239144822483929,
          0.8850748108824067,
          -0.3774211773239248,
          0.11439303192748623,
          0.21840717600576146,
          0.41308681848561374,
          -0.156487389434147,
          -0.21246162342132058,
          0.35967154146760516,
          -0.6280362618690645,
          -0.6751485839668573,
          0.4564923562030079,
          0.46341219854131854,
          -0.6255699562303365,
          -0.14648385725392216,
          -0.529967500091482,
          -0.7969822771052225,
          0.2212198399904749,
          -0.35734431874142725,
          -0.490786380395956,
          -0.31872916446986554,
          -0.6918558834102606,
          -0.7082270021088811,
          -0.7238134790639272,
          0.12244694049215733,
          -0.3995158569063484,
          -0.5271808752106215,
          0.6167487204970656,
          1.3015349678754837,
          1.3070266362899396,
          -0.11326696955333448,
          0.03762840489926836,
          0.4637935227601997,
          -0.3581647071056107,
          -0.7534000614183912,
          -0.32871859328507014,
          -0.2747903697084202,
          -0.1782478319197431,
          -0.5058423435176054,
          0.28564173412763133,
          0.22065552600422933,
          -0.6473159610252815,
          -0.6069361767018229,
          -0.6298085539721407,
          -0.7732732549216,
          -0.4923166757282111,
          -0.6975829899400697,
          -0.7388955697842149,
          -0.43264234556453635,
          0.09749775065327997,
          -0.6339343049928898,
          -0.6640631227213608,
          -0.2201238450942663,
          -0.7406821537471711,
          -0.6143040266580025,
          -0.5698169156217819,
          -0.8756335115452012,
          -0.5141589243246582,
          -0.34764364588050745,
          0.44145008058227136,
          -0.31539811267161544,
          -0.6370741888817835,
          -0.19493915236414852,
          -0.7735155602581518,
          0.3156325537205879,
          1.0556241456946518,
          1.0440701043581253,
          0.32877861478383197,
          0.3164185453548597,
          1.1615210253233557,
          0.04553512632354633,
          -0.2433147074464451,
          -0.3581664229481636,
          0.9437433574201339,
          1.1007774491822322,
          1.0107234027065128,
          0.9274899088166828,
          -0.7662581492563958,
          -0.7871634414585786,
          -0.5293459180136509,
          -0.6432404647199428,
          -0.581318473331517,
          -0.6916550585341287,
          -0.21108386707704713,
          0.04222803626490735,
          -0.6624768970250287,
          -0.36007697929215565,
          0.5369447952766742,
          0.9916844193676572,
          -0.5361063431814365,
          -0.5855287098767852,
          -0.4008160716345416,
          -0.7611554973033743,
          -0.6659259100919337,
          -0.802516056383197,
          0.04535682741649859,
          -0.28061484381918506,
          -0.6098813595061421,
          -0.8132859063928752,
          -0.1951940050040877,
          -0.33410450200889125,
          0.7126277842603084,
          0.16591497309967654,
          0.3509629701820568,
          1.0256786577294228,
          1.0272833710267137,
          0.9212705727252719,
          -0.71638376743169,
          -0.3934942048076385,
          -0.3503235301888743,
          -0.019981995927691884,
          0.06001570368658886
         ],
         "yaxis": "y"
        }
       ],
       "layout": {
        "coloraxis": {
         "colorbar": {
          "title": {
           "text": "cluster"
          }
         },
         "colorscale": [
          [
           0,
           "#0d0887"
          ],
          [
           0.1111111111111111,
           "#46039f"
          ],
          [
           0.2222222222222222,
           "#7201a8"
          ],
          [
           0.3333333333333333,
           "#9c179e"
          ],
          [
           0.4444444444444444,
           "#bd3786"
          ],
          [
           0.5555555555555556,
           "#d8576b"
          ],
          [
           0.6666666666666666,
           "#ed7953"
          ],
          [
           0.7777777777777778,
           "#fb9f3a"
          ],
          [
           0.8888888888888888,
           "#fdca26"
          ],
          [
           1,
           "#f0f921"
          ]
         ]
        },
        "legend": {
         "tracegroupgap": 0
        },
        "margin": {
         "t": 60
        },
        "template": {
         "data": {
          "bar": [
           {
            "error_x": {
             "color": "#2a3f5f"
            },
            "error_y": {
             "color": "#2a3f5f"
            },
            "marker": {
             "line": {
              "color": "#E5ECF6",
              "width": 0.5
             },
             "pattern": {
              "fillmode": "overlay",
              "size": 10,
              "solidity": 0.2
             }
            },
            "type": "bar"
           }
          ],
          "barpolar": [
           {
            "marker": {
             "line": {
              "color": "#E5ECF6",
              "width": 0.5
             },
             "pattern": {
              "fillmode": "overlay",
              "size": 10,
              "solidity": 0.2
             }
            },
            "type": "barpolar"
           }
          ],
          "carpet": [
           {
            "aaxis": {
             "endlinecolor": "#2a3f5f",
             "gridcolor": "white",
             "linecolor": "white",
             "minorgridcolor": "white",
             "startlinecolor": "#2a3f5f"
            },
            "baxis": {
             "endlinecolor": "#2a3f5f",
             "gridcolor": "white",
             "linecolor": "white",
             "minorgridcolor": "white",
             "startlinecolor": "#2a3f5f"
            },
            "type": "carpet"
           }
          ],
          "choropleth": [
           {
            "colorbar": {
             "outlinewidth": 0,
             "ticks": ""
            },
            "type": "choropleth"
           }
          ],
          "contour": [
           {
            "colorbar": {
             "outlinewidth": 0,
             "ticks": ""
            },
            "colorscale": [
             [
              0,
              "#0d0887"
             ],
             [
              0.1111111111111111,
              "#46039f"
             ],
             [
              0.2222222222222222,
              "#7201a8"
             ],
             [
              0.3333333333333333,
              "#9c179e"
             ],
             [
              0.4444444444444444,
              "#bd3786"
             ],
             [
              0.5555555555555556,
              "#d8576b"
             ],
             [
              0.6666666666666666,
              "#ed7953"
             ],
             [
              0.7777777777777778,
              "#fb9f3a"
             ],
             [
              0.8888888888888888,
              "#fdca26"
             ],
             [
              1,
              "#f0f921"
             ]
            ],
            "type": "contour"
           }
          ],
          "contourcarpet": [
           {
            "colorbar": {
             "outlinewidth": 0,
             "ticks": ""
            },
            "type": "contourcarpet"
           }
          ],
          "heatmap": [
           {
            "colorbar": {
             "outlinewidth": 0,
             "ticks": ""
            },
            "colorscale": [
             [
              0,
              "#0d0887"
             ],
             [
              0.1111111111111111,
              "#46039f"
             ],
             [
              0.2222222222222222,
              "#7201a8"
             ],
             [
              0.3333333333333333,
              "#9c179e"
             ],
             [
              0.4444444444444444,
              "#bd3786"
             ],
             [
              0.5555555555555556,
              "#d8576b"
             ],
             [
              0.6666666666666666,
              "#ed7953"
             ],
             [
              0.7777777777777778,
              "#fb9f3a"
             ],
             [
              0.8888888888888888,
              "#fdca26"
             ],
             [
              1,
              "#f0f921"
             ]
            ],
            "type": "heatmap"
           }
          ],
          "heatmapgl": [
           {
            "colorbar": {
             "outlinewidth": 0,
             "ticks": ""
            },
            "colorscale": [
             [
              0,
              "#0d0887"
             ],
             [
              0.1111111111111111,
              "#46039f"
             ],
             [
              0.2222222222222222,
              "#7201a8"
             ],
             [
              0.3333333333333333,
              "#9c179e"
             ],
             [
              0.4444444444444444,
              "#bd3786"
             ],
             [
              0.5555555555555556,
              "#d8576b"
             ],
             [
              0.6666666666666666,
              "#ed7953"
             ],
             [
              0.7777777777777778,
              "#fb9f3a"
             ],
             [
              0.8888888888888888,
              "#fdca26"
             ],
             [
              1,
              "#f0f921"
             ]
            ],
            "type": "heatmapgl"
           }
          ],
          "histogram": [
           {
            "marker": {
             "pattern": {
              "fillmode": "overlay",
              "size": 10,
              "solidity": 0.2
             }
            },
            "type": "histogram"
           }
          ],
          "histogram2d": [
           {
            "colorbar": {
             "outlinewidth": 0,
             "ticks": ""
            },
            "colorscale": [
             [
              0,
              "#0d0887"
             ],
             [
              0.1111111111111111,
              "#46039f"
             ],
             [
              0.2222222222222222,
              "#7201a8"
             ],
             [
              0.3333333333333333,
              "#9c179e"
             ],
             [
              0.4444444444444444,
              "#bd3786"
             ],
             [
              0.5555555555555556,
              "#d8576b"
             ],
             [
              0.6666666666666666,
              "#ed7953"
             ],
             [
              0.7777777777777778,
              "#fb9f3a"
             ],
             [
              0.8888888888888888,
              "#fdca26"
             ],
             [
              1,
              "#f0f921"
             ]
            ],
            "type": "histogram2d"
           }
          ],
          "histogram2dcontour": [
           {
            "colorbar": {
             "outlinewidth": 0,
             "ticks": ""
            },
            "colorscale": [
             [
              0,
              "#0d0887"
             ],
             [
              0.1111111111111111,
              "#46039f"
             ],
             [
              0.2222222222222222,
              "#7201a8"
             ],
             [
              0.3333333333333333,
              "#9c179e"
             ],
             [
              0.4444444444444444,
              "#bd3786"
             ],
             [
              0.5555555555555556,
              "#d8576b"
             ],
             [
              0.6666666666666666,
              "#ed7953"
             ],
             [
              0.7777777777777778,
              "#fb9f3a"
             ],
             [
              0.8888888888888888,
              "#fdca26"
             ],
             [
              1,
              "#f0f921"
             ]
            ],
            "type": "histogram2dcontour"
           }
          ],
          "mesh3d": [
           {
            "colorbar": {
             "outlinewidth": 0,
             "ticks": ""
            },
            "type": "mesh3d"
           }
          ],
          "parcoords": [
           {
            "line": {
             "colorbar": {
              "outlinewidth": 0,
              "ticks": ""
             }
            },
            "type": "parcoords"
           }
          ],
          "pie": [
           {
            "automargin": true,
            "type": "pie"
           }
          ],
          "scatter": [
           {
            "fillpattern": {
             "fillmode": "overlay",
             "size": 10,
             "solidity": 0.2
            },
            "type": "scatter"
           }
          ],
          "scatter3d": [
           {
            "line": {
             "colorbar": {
              "outlinewidth": 0,
              "ticks": ""
             }
            },
            "marker": {
             "colorbar": {
              "outlinewidth": 0,
              "ticks": ""
             }
            },
            "type": "scatter3d"
           }
          ],
          "scattercarpet": [
           {
            "marker": {
             "colorbar": {
              "outlinewidth": 0,
              "ticks": ""
             }
            },
            "type": "scattercarpet"
           }
          ],
          "scattergeo": [
           {
            "marker": {
             "colorbar": {
              "outlinewidth": 0,
              "ticks": ""
             }
            },
            "type": "scattergeo"
           }
          ],
          "scattergl": [
           {
            "marker": {
             "colorbar": {
              "outlinewidth": 0,
              "ticks": ""
             }
            },
            "type": "scattergl"
           }
          ],
          "scattermapbox": [
           {
            "marker": {
             "colorbar": {
              "outlinewidth": 0,
              "ticks": ""
             }
            },
            "type": "scattermapbox"
           }
          ],
          "scatterpolar": [
           {
            "marker": {
             "colorbar": {
              "outlinewidth": 0,
              "ticks": ""
             }
            },
            "type": "scatterpolar"
           }
          ],
          "scatterpolargl": [
           {
            "marker": {
             "colorbar": {
              "outlinewidth": 0,
              "ticks": ""
             }
            },
            "type": "scatterpolargl"
           }
          ],
          "scatterternary": [
           {
            "marker": {
             "colorbar": {
              "outlinewidth": 0,
              "ticks": ""
             }
            },
            "type": "scatterternary"
           }
          ],
          "surface": [
           {
            "colorbar": {
             "outlinewidth": 0,
             "ticks": ""
            },
            "colorscale": [
             [
              0,
              "#0d0887"
             ],
             [
              0.1111111111111111,
              "#46039f"
             ],
             [
              0.2222222222222222,
              "#7201a8"
             ],
             [
              0.3333333333333333,
              "#9c179e"
             ],
             [
              0.4444444444444444,
              "#bd3786"
             ],
             [
              0.5555555555555556,
              "#d8576b"
             ],
             [
              0.6666666666666666,
              "#ed7953"
             ],
             [
              0.7777777777777778,
              "#fb9f3a"
             ],
             [
              0.8888888888888888,
              "#fdca26"
             ],
             [
              1,
              "#f0f921"
             ]
            ],
            "type": "surface"
           }
          ],
          "table": [
           {
            "cells": {
             "fill": {
              "color": "#EBF0F8"
             },
             "line": {
              "color": "white"
             }
            },
            "header": {
             "fill": {
              "color": "#C8D4E3"
             },
             "line": {
              "color": "white"
             }
            },
            "type": "table"
           }
          ]
         },
         "layout": {
          "annotationdefaults": {
           "arrowcolor": "#2a3f5f",
           "arrowhead": 0,
           "arrowwidth": 1
          },
          "autotypenumbers": "strict",
          "coloraxis": {
           "colorbar": {
            "outlinewidth": 0,
            "ticks": ""
           }
          },
          "colorscale": {
           "diverging": [
            [
             0,
             "#8e0152"
            ],
            [
             0.1,
             "#c51b7d"
            ],
            [
             0.2,
             "#de77ae"
            ],
            [
             0.3,
             "#f1b6da"
            ],
            [
             0.4,
             "#fde0ef"
            ],
            [
             0.5,
             "#f7f7f7"
            ],
            [
             0.6,
             "#e6f5d0"
            ],
            [
             0.7,
             "#b8e186"
            ],
            [
             0.8,
             "#7fbc41"
            ],
            [
             0.9,
             "#4d9221"
            ],
            [
             1,
             "#276419"
            ]
           ],
           "sequential": [
            [
             0,
             "#0d0887"
            ],
            [
             0.1111111111111111,
             "#46039f"
            ],
            [
             0.2222222222222222,
             "#7201a8"
            ],
            [
             0.3333333333333333,
             "#9c179e"
            ],
            [
             0.4444444444444444,
             "#bd3786"
            ],
            [
             0.5555555555555556,
             "#d8576b"
            ],
            [
             0.6666666666666666,
             "#ed7953"
            ],
            [
             0.7777777777777778,
             "#fb9f3a"
            ],
            [
             0.8888888888888888,
             "#fdca26"
            ],
            [
             1,
             "#f0f921"
            ]
           ],
           "sequentialminus": [
            [
             0,
             "#0d0887"
            ],
            [
             0.1111111111111111,
             "#46039f"
            ],
            [
             0.2222222222222222,
             "#7201a8"
            ],
            [
             0.3333333333333333,
             "#9c179e"
            ],
            [
             0.4444444444444444,
             "#bd3786"
            ],
            [
             0.5555555555555556,
             "#d8576b"
            ],
            [
             0.6666666666666666,
             "#ed7953"
            ],
            [
             0.7777777777777778,
             "#fb9f3a"
            ],
            [
             0.8888888888888888,
             "#fdca26"
            ],
            [
             1,
             "#f0f921"
            ]
           ]
          },
          "colorway": [
           "#636efa",
           "#EF553B",
           "#00cc96",
           "#ab63fa",
           "#FFA15A",
           "#19d3f3",
           "#FF6692",
           "#B6E880",
           "#FF97FF",
           "#FECB52"
          ],
          "font": {
           "color": "#2a3f5f"
          },
          "geo": {
           "bgcolor": "white",
           "lakecolor": "white",
           "landcolor": "#E5ECF6",
           "showlakes": true,
           "showland": true,
           "subunitcolor": "white"
          },
          "hoverlabel": {
           "align": "left"
          },
          "hovermode": "closest",
          "mapbox": {
           "style": "light"
          },
          "paper_bgcolor": "white",
          "plot_bgcolor": "#E5ECF6",
          "polar": {
           "angularaxis": {
            "gridcolor": "white",
            "linecolor": "white",
            "ticks": ""
           },
           "bgcolor": "#E5ECF6",
           "radialaxis": {
            "gridcolor": "white",
            "linecolor": "white",
            "ticks": ""
           }
          },
          "scene": {
           "xaxis": {
            "backgroundcolor": "#E5ECF6",
            "gridcolor": "white",
            "gridwidth": 2,
            "linecolor": "white",
            "showbackground": true,
            "ticks": "",
            "zerolinecolor": "white"
           },
           "yaxis": {
            "backgroundcolor": "#E5ECF6",
            "gridcolor": "white",
            "gridwidth": 2,
            "linecolor": "white",
            "showbackground": true,
            "ticks": "",
            "zerolinecolor": "white"
           },
           "zaxis": {
            "backgroundcolor": "#E5ECF6",
            "gridcolor": "white",
            "gridwidth": 2,
            "linecolor": "white",
            "showbackground": true,
            "ticks": "",
            "zerolinecolor": "white"
           }
          },
          "shapedefaults": {
           "line": {
            "color": "#2a3f5f"
           }
          },
          "ternary": {
           "aaxis": {
            "gridcolor": "white",
            "linecolor": "white",
            "ticks": ""
           },
           "baxis": {
            "gridcolor": "white",
            "linecolor": "white",
            "ticks": ""
           },
           "bgcolor": "#E5ECF6",
           "caxis": {
            "gridcolor": "white",
            "linecolor": "white",
            "ticks": ""
           }
          },
          "title": {
           "x": 0.05
          },
          "xaxis": {
           "automargin": true,
           "gridcolor": "white",
           "linecolor": "white",
           "ticks": "",
           "title": {
            "standoff": 15
           },
           "zerolinecolor": "white",
           "zerolinewidth": 2
          },
          "yaxis": {
           "automargin": true,
           "gridcolor": "white",
           "linecolor": "white",
           "ticks": "",
           "title": {
            "standoff": 15
           },
           "zerolinecolor": "white",
           "zerolinewidth": 2
          }
         }
        },
        "xaxis": {
         "anchor": "y",
         "domain": [
          0,
          1
         ],
         "title": {
          "text": "PC1"
         }
        },
        "yaxis": {
         "anchor": "x",
         "domain": [
          0,
          1
         ],
         "title": {
          "text": "PC2"
         }
        }
       }
      }
     },
     "metadata": {},
     "output_type": "display_data"
    }
   ],
   "source": [
    "# With PC3, best values are eps:1.6 and min 4\n",
    "DBSCANplot(features_pca, .5,6)"
   ]
  },
  {
   "cell_type": "code",
   "execution_count": null,
   "metadata": {},
   "outputs": [],
   "source": [
    "num_top_venues = 5"
   ]
  },
  {
   "cell_type": "markdown",
   "metadata": {},
   "source": [
    "# We need to remove the venue counts, it's distorting the data"
   ]
  },
  {
   "cell_type": "markdown",
   "metadata": {},
   "source": [
    "### Google"
   ]
  },
  {
   "cell_type": "code",
   "execution_count": null,
   "metadata": {},
   "outputs": [
    {
     "ename": "NameError",
     "evalue": "name 'features_1km' is not defined",
     "output_type": "error",
     "traceback": [
      "\u001b[0;31m---------------------------------------------------------------------------\u001b[0m",
      "\u001b[0;31mNameError\u001b[0m                                 Traceback (most recent call last)",
      "\u001b[1;32m/Users/niclapenna/Documents/GitHub/nyc_clustering/NYC_midterm_project/src/dbscan_V2.ipynb Cell 33'\u001b[0m in \u001b[0;36m<cell line: 1>\u001b[0;34m()\u001b[0m\n\u001b[0;32m----> <a href='vscode-notebook-cell:/Users/niclapenna/Documents/GitHub/nyc_clustering/NYC_midterm_project/src/dbscan_V2.ipynb#ch0000032?line=0'>1</a>\u001b[0m features_1km\u001b[39m.\u001b[39msum()\u001b[39m.\u001b[39msort_values(ascending\u001b[39m=\u001b[39m\u001b[39mFalse\u001b[39;00m)[:\u001b[39m30\u001b[39m]\u001b[39m.\u001b[39mkeys()\n",
      "\u001b[0;31mNameError\u001b[0m: name 'features_1km' is not defined"
     ]
    }
   ],
   "source": [
    "features_1km.sum().sort_values(ascending=False)[:30].keys()"
   ]
  },
  {
   "cell_type": "code",
   "execution_count": null,
   "metadata": {},
   "outputs": [],
   "source": [
    "['lodging', 'restaurant', 'school', 'health', 'bar', 'church', 'bank', 'store',\n",
    "       'clothing', 'tourist attraction', 'gym', 'lawyer', 'bakery',\n",
    "       'cafe', 'department store', 'university', 'local government office',\n",
    "       'electronics store', 'park', 'drugstore', 'supermarket']"
   ]
  }
 ],
 "metadata": {
  "interpreter": {
   "hash": "39512f3c2a1741d7f752d45a133d4514127029333ea14bc2f3c6c5e6759b9029"
  },
  "kernelspec": {
   "display_name": "Python 3.8.13 ('base_env')",
   "language": "python",
   "name": "python3"
  },
  "language_info": {
   "codemirror_mode": {
    "name": "ipython",
    "version": 3
   },
   "file_extension": ".py",
   "mimetype": "text/x-python",
   "name": "python",
   "nbconvert_exporter": "python",
   "pygments_lexer": "ipython3",
   "version": "3.8.13"
  },
  "orig_nbformat": 4
 },
 "nbformat": 4,
 "nbformat_minor": 2
}
