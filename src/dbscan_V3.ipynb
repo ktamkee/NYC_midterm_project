{
 "cells": [
  {
   "cell_type": "code",
   "execution_count": 3,
   "metadata": {},
   "outputs": [],
   "source": [
    "import numpy as np\n",
    "import pandas as pd\n",
    "import json\n",
    "import os\n",
    "\n",
    "from sklearn.preprocessing import StandardScaler, MinMaxScaler\n",
    "from sklearn.cluster import DBSCAN\n",
    "from sklearn.neighbors import NearestNeighbors\n",
    "from sklearn.decomposition import PCA\n",
    "\n",
    "import matplotlib.pyplot as plt\n",
    "import plotly.express as px\n",
    "import seaborn as sns\n",
    "import geopandas as gpd\n",
    "\n",
    "# custom functions\n",
    "from plotting_functions.corr_matrix import plot_corr\n",
    "from plotting_functions.map_scatter import map_scatter\n",
    "\n",
    "sns.set()"
   ]
  },
  {
   "cell_type": "code",
   "execution_count": 4,
   "metadata": {},
   "outputs": [
    {
     "data": {
      "text/html": [
       "<div>\n",
       "<style scoped>\n",
       "    .dataframe tbody tr th:only-of-type {\n",
       "        vertical-align: middle;\n",
       "    }\n",
       "\n",
       "    .dataframe tbody tr th {\n",
       "        vertical-align: top;\n",
       "    }\n",
       "\n",
       "    .dataframe thead th {\n",
       "        text-align: right;\n",
       "    }\n",
       "</style>\n",
       "<table border=\"1\" class=\"dataframe\">\n",
       "  <thead>\n",
       "    <tr style=\"text-align: right;\">\n",
       "      <th></th>\n",
       "      <th>borough</th>\n",
       "      <th>neighborhood</th>\n",
       "      <th>longitude</th>\n",
       "      <th>latitude</th>\n",
       "      <th>population</th>\n",
       "      <th>restaurant_count</th>\n",
       "      <th>N</th>\n",
       "      <th>bars</th>\n",
       "      <th>bbq</th>\n",
       "      <th>breakfast_brunch</th>\n",
       "      <th>...</th>\n",
       "      <th>store</th>\n",
       "      <th>subway_station</th>\n",
       "      <th>supermarket</th>\n",
       "      <th>synagogue</th>\n",
       "      <th>taxi_stand</th>\n",
       "      <th>tourist_attraction</th>\n",
       "      <th>transit_station</th>\n",
       "      <th>travel_agency</th>\n",
       "      <th>university</th>\n",
       "      <th>veterinary_care</th>\n",
       "    </tr>\n",
       "  </thead>\n",
       "  <tbody>\n",
       "    <tr>\n",
       "      <th>0</th>\n",
       "      <td>Bronx</td>\n",
       "      <td>Wakefield</td>\n",
       "      <td>-73.847201</td>\n",
       "      <td>40.894705</td>\n",
       "      <td>21242.0</td>\n",
       "      <td>13</td>\n",
       "      <td>0</td>\n",
       "      <td>0</td>\n",
       "      <td>0</td>\n",
       "      <td>0</td>\n",
       "      <td>...</td>\n",
       "      <td>0</td>\n",
       "      <td>0</td>\n",
       "      <td>0</td>\n",
       "      <td>0</td>\n",
       "      <td>0</td>\n",
       "      <td>0</td>\n",
       "      <td>0</td>\n",
       "      <td>0</td>\n",
       "      <td>0</td>\n",
       "      <td>0</td>\n",
       "    </tr>\n",
       "    <tr>\n",
       "      <th>1</th>\n",
       "      <td>Bronx</td>\n",
       "      <td>Co-op City</td>\n",
       "      <td>-73.829939</td>\n",
       "      <td>40.874294</td>\n",
       "      <td>43752.0</td>\n",
       "      <td>12</td>\n",
       "      <td>0</td>\n",
       "      <td>0</td>\n",
       "      <td>0</td>\n",
       "      <td>0</td>\n",
       "      <td>...</td>\n",
       "      <td>0</td>\n",
       "      <td>0</td>\n",
       "      <td>0</td>\n",
       "      <td>0</td>\n",
       "      <td>0</td>\n",
       "      <td>0</td>\n",
       "      <td>0</td>\n",
       "      <td>0</td>\n",
       "      <td>0</td>\n",
       "      <td>0</td>\n",
       "    </tr>\n",
       "    <tr>\n",
       "      <th>2</th>\n",
       "      <td>Bronx</td>\n",
       "      <td>Eastchester</td>\n",
       "      <td>-73.827806</td>\n",
       "      <td>40.887556</td>\n",
       "      <td>11506.0</td>\n",
       "      <td>19</td>\n",
       "      <td>0</td>\n",
       "      <td>0</td>\n",
       "      <td>0</td>\n",
       "      <td>0</td>\n",
       "      <td>...</td>\n",
       "      <td>0</td>\n",
       "      <td>0</td>\n",
       "      <td>0</td>\n",
       "      <td>0</td>\n",
       "      <td>0</td>\n",
       "      <td>0</td>\n",
       "      <td>0</td>\n",
       "      <td>0</td>\n",
       "      <td>0</td>\n",
       "      <td>0</td>\n",
       "    </tr>\n",
       "    <tr>\n",
       "      <th>3</th>\n",
       "      <td>Bronx</td>\n",
       "      <td>Fieldston</td>\n",
       "      <td>-73.905643</td>\n",
       "      <td>40.895437</td>\n",
       "      <td>9287.0</td>\n",
       "      <td>9</td>\n",
       "      <td>1</td>\n",
       "      <td>0</td>\n",
       "      <td>0</td>\n",
       "      <td>0</td>\n",
       "      <td>...</td>\n",
       "      <td>0</td>\n",
       "      <td>0</td>\n",
       "      <td>0</td>\n",
       "      <td>1</td>\n",
       "      <td>0</td>\n",
       "      <td>0</td>\n",
       "      <td>0</td>\n",
       "      <td>0</td>\n",
       "      <td>0</td>\n",
       "      <td>0</td>\n",
       "    </tr>\n",
       "    <tr>\n",
       "      <th>4</th>\n",
       "      <td>Bronx</td>\n",
       "      <td>Riverdale</td>\n",
       "      <td>-73.912585</td>\n",
       "      <td>40.890834</td>\n",
       "      <td>9287.0</td>\n",
       "      <td>14</td>\n",
       "      <td>0</td>\n",
       "      <td>0</td>\n",
       "      <td>0</td>\n",
       "      <td>0</td>\n",
       "      <td>...</td>\n",
       "      <td>0</td>\n",
       "      <td>0</td>\n",
       "      <td>0</td>\n",
       "      <td>2</td>\n",
       "      <td>0</td>\n",
       "      <td>0</td>\n",
       "      <td>0</td>\n",
       "      <td>0</td>\n",
       "      <td>0</td>\n",
       "      <td>0</td>\n",
       "    </tr>\n",
       "    <tr>\n",
       "      <th>...</th>\n",
       "      <td>...</td>\n",
       "      <td>...</td>\n",
       "      <td>...</td>\n",
       "      <td>...</td>\n",
       "      <td>...</td>\n",
       "      <td>...</td>\n",
       "      <td>...</td>\n",
       "      <td>...</td>\n",
       "      <td>...</td>\n",
       "      <td>...</td>\n",
       "      <td>...</td>\n",
       "      <td>...</td>\n",
       "      <td>...</td>\n",
       "      <td>...</td>\n",
       "      <td>...</td>\n",
       "      <td>...</td>\n",
       "      <td>...</td>\n",
       "      <td>...</td>\n",
       "      <td>...</td>\n",
       "      <td>...</td>\n",
       "      <td>...</td>\n",
       "    </tr>\n",
       "    <tr>\n",
       "      <th>301</th>\n",
       "      <td>Manhattan</td>\n",
       "      <td>Hudson Yards</td>\n",
       "      <td>-74.000111</td>\n",
       "      <td>40.756658</td>\n",
       "      <td>23383.0</td>\n",
       "      <td>20</td>\n",
       "      <td>0</td>\n",
       "      <td>0</td>\n",
       "      <td>0</td>\n",
       "      <td>0</td>\n",
       "      <td>...</td>\n",
       "      <td>1</td>\n",
       "      <td>0</td>\n",
       "      <td>0</td>\n",
       "      <td>0</td>\n",
       "      <td>0</td>\n",
       "      <td>0</td>\n",
       "      <td>0</td>\n",
       "      <td>0</td>\n",
       "      <td>0</td>\n",
       "      <td>0</td>\n",
       "    </tr>\n",
       "    <tr>\n",
       "      <th>302</th>\n",
       "      <td>Queens</td>\n",
       "      <td>Hammels</td>\n",
       "      <td>-73.805530</td>\n",
       "      <td>40.587338</td>\n",
       "      <td>12295.0</td>\n",
       "      <td>17</td>\n",
       "      <td>0</td>\n",
       "      <td>0</td>\n",
       "      <td>0</td>\n",
       "      <td>0</td>\n",
       "      <td>...</td>\n",
       "      <td>0</td>\n",
       "      <td>0</td>\n",
       "      <td>0</td>\n",
       "      <td>0</td>\n",
       "      <td>0</td>\n",
       "      <td>0</td>\n",
       "      <td>0</td>\n",
       "      <td>0</td>\n",
       "      <td>0</td>\n",
       "      <td>0</td>\n",
       "    </tr>\n",
       "    <tr>\n",
       "      <th>303</th>\n",
       "      <td>Queens</td>\n",
       "      <td>Bayswater</td>\n",
       "      <td>-73.765968</td>\n",
       "      <td>40.611322</td>\n",
       "      <td>25029.0</td>\n",
       "      <td>0</td>\n",
       "      <td>1</td>\n",
       "      <td>0</td>\n",
       "      <td>0</td>\n",
       "      <td>0</td>\n",
       "      <td>...</td>\n",
       "      <td>0</td>\n",
       "      <td>0</td>\n",
       "      <td>0</td>\n",
       "      <td>0</td>\n",
       "      <td>0</td>\n",
       "      <td>0</td>\n",
       "      <td>0</td>\n",
       "      <td>2</td>\n",
       "      <td>0</td>\n",
       "      <td>0</td>\n",
       "    </tr>\n",
       "    <tr>\n",
       "      <th>304</th>\n",
       "      <td>Queens</td>\n",
       "      <td>Queensbridge</td>\n",
       "      <td>-73.945631</td>\n",
       "      <td>40.756091</td>\n",
       "      <td>6677.0</td>\n",
       "      <td>17</td>\n",
       "      <td>0</td>\n",
       "      <td>0</td>\n",
       "      <td>0</td>\n",
       "      <td>0</td>\n",
       "      <td>...</td>\n",
       "      <td>4</td>\n",
       "      <td>0</td>\n",
       "      <td>0</td>\n",
       "      <td>0</td>\n",
       "      <td>0</td>\n",
       "      <td>0</td>\n",
       "      <td>0</td>\n",
       "      <td>0</td>\n",
       "      <td>0</td>\n",
       "      <td>0</td>\n",
       "    </tr>\n",
       "    <tr>\n",
       "      <th>305</th>\n",
       "      <td>Staten Island</td>\n",
       "      <td>Fox Hills</td>\n",
       "      <td>-74.081740</td>\n",
       "      <td>40.617311</td>\n",
       "      <td>11230.0</td>\n",
       "      <td>5</td>\n",
       "      <td>0</td>\n",
       "      <td>0</td>\n",
       "      <td>0</td>\n",
       "      <td>0</td>\n",
       "      <td>...</td>\n",
       "      <td>0</td>\n",
       "      <td>0</td>\n",
       "      <td>0</td>\n",
       "      <td>0</td>\n",
       "      <td>0</td>\n",
       "      <td>0</td>\n",
       "      <td>0</td>\n",
       "      <td>0</td>\n",
       "      <td>0</td>\n",
       "      <td>0</td>\n",
       "    </tr>\n",
       "  </tbody>\n",
       "</table>\n",
       "<p>306 rows × 134 columns</p>\n",
       "</div>"
      ],
      "text/plain": [
       "           borough  neighborhood  longitude   latitude  population  \\\n",
       "0            Bronx     Wakefield -73.847201  40.894705     21242.0   \n",
       "1            Bronx    Co-op City -73.829939  40.874294     43752.0   \n",
       "2            Bronx   Eastchester -73.827806  40.887556     11506.0   \n",
       "3            Bronx     Fieldston -73.905643  40.895437      9287.0   \n",
       "4            Bronx     Riverdale -73.912585  40.890834      9287.0   \n",
       "..             ...           ...        ...        ...         ...   \n",
       "301      Manhattan  Hudson Yards -74.000111  40.756658     23383.0   \n",
       "302         Queens       Hammels -73.805530  40.587338     12295.0   \n",
       "303         Queens     Bayswater -73.765968  40.611322     25029.0   \n",
       "304         Queens  Queensbridge -73.945631  40.756091      6677.0   \n",
       "305  Staten Island     Fox Hills -74.081740  40.617311     11230.0   \n",
       "\n",
       "     restaurant_count  N  bars  bbq  breakfast_brunch  ...  store  \\\n",
       "0                  13  0     0    0                 0  ...      0   \n",
       "1                  12  0     0    0                 0  ...      0   \n",
       "2                  19  0     0    0                 0  ...      0   \n",
       "3                   9  1     0    0                 0  ...      0   \n",
       "4                  14  0     0    0                 0  ...      0   \n",
       "..                ... ..   ...  ...               ...  ...    ...   \n",
       "301                20  0     0    0                 0  ...      1   \n",
       "302                17  0     0    0                 0  ...      0   \n",
       "303                 0  1     0    0                 0  ...      0   \n",
       "304                17  0     0    0                 0  ...      4   \n",
       "305                 5  0     0    0                 0  ...      0   \n",
       "\n",
       "     subway_station  supermarket  synagogue  taxi_stand  tourist_attraction  \\\n",
       "0                 0            0          0           0                   0   \n",
       "1                 0            0          0           0                   0   \n",
       "2                 0            0          0           0                   0   \n",
       "3                 0            0          1           0                   0   \n",
       "4                 0            0          2           0                   0   \n",
       "..              ...          ...        ...         ...                 ...   \n",
       "301               0            0          0           0                   0   \n",
       "302               0            0          0           0                   0   \n",
       "303               0            0          0           0                   0   \n",
       "304               0            0          0           0                   0   \n",
       "305               0            0          0           0                   0   \n",
       "\n",
       "     transit_station  travel_agency  university  veterinary_care  \n",
       "0                  0              0           0                0  \n",
       "1                  0              0           0                0  \n",
       "2                  0              0           0                0  \n",
       "3                  0              0           0                0  \n",
       "4                  0              0           0                0  \n",
       "..               ...            ...         ...              ...  \n",
       "301                0              0           0                0  \n",
       "302                0              0           0                0  \n",
       "303                0              2           0                0  \n",
       "304                0              0           0                0  \n",
       "305                0              0           0                0  \n",
       "\n",
       "[306 rows x 134 columns]"
      ]
     },
     "execution_count": 4,
     "metadata": {},
     "output_type": "execute_result"
    }
   ],
   "source": [
    "main_data = pd.read_csv('../data/old_datasets/main_dataset.csv')\n",
    "main_data"
   ]
  },
  {
   "cell_type": "code",
   "execution_count": 5,
   "metadata": {},
   "outputs": [
    {
     "data": {
      "text/html": [
       "<div>\n",
       "<style scoped>\n",
       "    .dataframe tbody tr th:only-of-type {\n",
       "        vertical-align: middle;\n",
       "    }\n",
       "\n",
       "    .dataframe tbody tr th {\n",
       "        vertical-align: top;\n",
       "    }\n",
       "\n",
       "    .dataframe thead th {\n",
       "        text-align: right;\n",
       "    }\n",
       "</style>\n",
       "<table border=\"1\" class=\"dataframe\">\n",
       "  <thead>\n",
       "    <tr style=\"text-align: right;\">\n",
       "      <th></th>\n",
       "      <th>id</th>\n",
       "      <th>borough</th>\n",
       "      <th>neighborhood</th>\n",
       "      <th>longitude</th>\n",
       "      <th>latitude</th>\n",
       "      <th>population</th>\n",
       "      <th>number_of_restaurants</th>\n",
       "      <th>average_review_count</th>\n",
       "      <th>average_restaurant_rating</th>\n",
       "      <th>average_price_level</th>\n",
       "      <th>yelp_category</th>\n",
       "    </tr>\n",
       "  </thead>\n",
       "  <tbody>\n",
       "    <tr>\n",
       "      <th>0</th>\n",
       "      <td>nyu_2451_34572.1</td>\n",
       "      <td>Bronx</td>\n",
       "      <td>Wakefield</td>\n",
       "      <td>-73.847201</td>\n",
       "      <td>40.894705</td>\n",
       "      <td>21242.0</td>\n",
       "      <td>13</td>\n",
       "      <td>169</td>\n",
       "      <td>4.0</td>\n",
       "      <td>1</td>\n",
       "      <td>caribbean</td>\n",
       "    </tr>\n",
       "    <tr>\n",
       "      <th>1</th>\n",
       "      <td>nyu_2451_34572.2</td>\n",
       "      <td>Bronx</td>\n",
       "      <td>Co-op City</td>\n",
       "      <td>-73.829939</td>\n",
       "      <td>40.874294</td>\n",
       "      <td>43752.0</td>\n",
       "      <td>12</td>\n",
       "      <td>771</td>\n",
       "      <td>4.0</td>\n",
       "      <td>2</td>\n",
       "      <td>delis</td>\n",
       "    </tr>\n",
       "    <tr>\n",
       "      <th>2</th>\n",
       "      <td>nyu_2451_34572.3</td>\n",
       "      <td>Bronx</td>\n",
       "      <td>Eastchester</td>\n",
       "      <td>-73.827806</td>\n",
       "      <td>40.887556</td>\n",
       "      <td>11506.0</td>\n",
       "      <td>19</td>\n",
       "      <td>532</td>\n",
       "      <td>4.1</td>\n",
       "      <td>1</td>\n",
       "      <td>caribbean</td>\n",
       "    </tr>\n",
       "    <tr>\n",
       "      <th>3</th>\n",
       "      <td>nyu_2451_34572.4</td>\n",
       "      <td>Bronx</td>\n",
       "      <td>Fieldston</td>\n",
       "      <td>-73.905643</td>\n",
       "      <td>40.895437</td>\n",
       "      <td>9287.0</td>\n",
       "      <td>9</td>\n",
       "      <td>297</td>\n",
       "      <td>4.4</td>\n",
       "      <td>1</td>\n",
       "      <td>N</td>\n",
       "    </tr>\n",
       "    <tr>\n",
       "      <th>4</th>\n",
       "      <td>nyu_2451_34572.5</td>\n",
       "      <td>Bronx</td>\n",
       "      <td>Riverdale</td>\n",
       "      <td>-73.912585</td>\n",
       "      <td>40.890834</td>\n",
       "      <td>9287.0</td>\n",
       "      <td>14</td>\n",
       "      <td>319</td>\n",
       "      <td>4.0</td>\n",
       "      <td>2</td>\n",
       "      <td>burgers</td>\n",
       "    </tr>\n",
       "    <tr>\n",
       "      <th>...</th>\n",
       "      <td>...</td>\n",
       "      <td>...</td>\n",
       "      <td>...</td>\n",
       "      <td>...</td>\n",
       "      <td>...</td>\n",
       "      <td>...</td>\n",
       "      <td>...</td>\n",
       "      <td>...</td>\n",
       "      <td>...</td>\n",
       "      <td>...</td>\n",
       "      <td>...</td>\n",
       "    </tr>\n",
       "    <tr>\n",
       "      <th>301</th>\n",
       "      <td>nyu_2451_34572.302</td>\n",
       "      <td>Manhattan</td>\n",
       "      <td>Hudson Yards</td>\n",
       "      <td>-74.000111</td>\n",
       "      <td>40.756658</td>\n",
       "      <td>23383.0</td>\n",
       "      <td>20</td>\n",
       "      <td>848</td>\n",
       "      <td>4.3</td>\n",
       "      <td>2</td>\n",
       "      <td>newamerican</td>\n",
       "    </tr>\n",
       "    <tr>\n",
       "      <th>302</th>\n",
       "      <td>nyu_2451_34572.303</td>\n",
       "      <td>Queens</td>\n",
       "      <td>Hammels</td>\n",
       "      <td>-73.805530</td>\n",
       "      <td>40.587338</td>\n",
       "      <td>12295.0</td>\n",
       "      <td>17</td>\n",
       "      <td>257</td>\n",
       "      <td>4.3</td>\n",
       "      <td>2</td>\n",
       "      <td>chicken_wings</td>\n",
       "    </tr>\n",
       "    <tr>\n",
       "      <th>303</th>\n",
       "      <td>nyu_2451_34572.304</td>\n",
       "      <td>Queens</td>\n",
       "      <td>Bayswater</td>\n",
       "      <td>-73.765968</td>\n",
       "      <td>40.611322</td>\n",
       "      <td>25029.0</td>\n",
       "      <td>0</td>\n",
       "      <td>0</td>\n",
       "      <td>0.0</td>\n",
       "      <td>0</td>\n",
       "      <td>N</td>\n",
       "    </tr>\n",
       "    <tr>\n",
       "      <th>304</th>\n",
       "      <td>nyu_2451_34572.305</td>\n",
       "      <td>Queens</td>\n",
       "      <td>Queensbridge</td>\n",
       "      <td>-73.945631</td>\n",
       "      <td>40.756091</td>\n",
       "      <td>6677.0</td>\n",
       "      <td>17</td>\n",
       "      <td>222</td>\n",
       "      <td>4.1</td>\n",
       "      <td>2</td>\n",
       "      <td>tradamerican</td>\n",
       "    </tr>\n",
       "    <tr>\n",
       "      <th>305</th>\n",
       "      <td>nyu_2451_34572.306</td>\n",
       "      <td>Staten Island</td>\n",
       "      <td>Fox Hills</td>\n",
       "      <td>-74.081740</td>\n",
       "      <td>40.617311</td>\n",
       "      <td>11230.0</td>\n",
       "      <td>5</td>\n",
       "      <td>213</td>\n",
       "      <td>4.3</td>\n",
       "      <td>1</td>\n",
       "      <td>spanish</td>\n",
       "    </tr>\n",
       "  </tbody>\n",
       "</table>\n",
       "<p>306 rows × 11 columns</p>\n",
       "</div>"
      ],
      "text/plain": [
       "                     id        borough  neighborhood  longitude   latitude  \\\n",
       "0      nyu_2451_34572.1          Bronx     Wakefield -73.847201  40.894705   \n",
       "1      nyu_2451_34572.2          Bronx    Co-op City -73.829939  40.874294   \n",
       "2      nyu_2451_34572.3          Bronx   Eastchester -73.827806  40.887556   \n",
       "3      nyu_2451_34572.4          Bronx     Fieldston -73.905643  40.895437   \n",
       "4      nyu_2451_34572.5          Bronx     Riverdale -73.912585  40.890834   \n",
       "..                  ...            ...           ...        ...        ...   \n",
       "301  nyu_2451_34572.302      Manhattan  Hudson Yards -74.000111  40.756658   \n",
       "302  nyu_2451_34572.303         Queens       Hammels -73.805530  40.587338   \n",
       "303  nyu_2451_34572.304         Queens     Bayswater -73.765968  40.611322   \n",
       "304  nyu_2451_34572.305         Queens  Queensbridge -73.945631  40.756091   \n",
       "305  nyu_2451_34572.306  Staten Island     Fox Hills -74.081740  40.617311   \n",
       "\n",
       "     population  number_of_restaurants  average_review_count  \\\n",
       "0       21242.0                     13                   169   \n",
       "1       43752.0                     12                   771   \n",
       "2       11506.0                     19                   532   \n",
       "3        9287.0                      9                   297   \n",
       "4        9287.0                     14                   319   \n",
       "..          ...                    ...                   ...   \n",
       "301     23383.0                     20                   848   \n",
       "302     12295.0                     17                   257   \n",
       "303     25029.0                      0                     0   \n",
       "304      6677.0                     17                   222   \n",
       "305     11230.0                      5                   213   \n",
       "\n",
       "     average_restaurant_rating  average_price_level  yelp_category  \n",
       "0                          4.0                    1      caribbean  \n",
       "1                          4.0                    2          delis  \n",
       "2                          4.1                    1      caribbean  \n",
       "3                          4.4                    1              N  \n",
       "4                          4.0                    2        burgers  \n",
       "..                         ...                  ...            ...  \n",
       "301                        4.3                    2    newamerican  \n",
       "302                        4.3                    2  chicken_wings  \n",
       "303                        0.0                    0              N  \n",
       "304                        4.1                    2   tradamerican  \n",
       "305                        4.3                    1        spanish  \n",
       "\n",
       "[306 rows x 11 columns]"
      ]
     },
     "execution_count": 5,
     "metadata": {},
     "output_type": "execute_result"
    }
   ],
   "source": [
    "old_data = pd.read_csv('../data/old_datasets/old_dataset.csv', index_col=0)\n",
    "id_data = old_data\n",
    "old_data"
   ]
  },
  {
   "cell_type": "code",
   "execution_count": 6,
   "metadata": {},
   "outputs": [
    {
     "data": {
      "text/html": [
       "<div>\n",
       "<style scoped>\n",
       "    .dataframe tbody tr th:only-of-type {\n",
       "        vertical-align: middle;\n",
       "    }\n",
       "\n",
       "    .dataframe tbody tr th {\n",
       "        vertical-align: top;\n",
       "    }\n",
       "\n",
       "    .dataframe thead th {\n",
       "        text-align: right;\n",
       "    }\n",
       "</style>\n",
       "<table border=\"1\" class=\"dataframe\">\n",
       "  <thead>\n",
       "    <tr style=\"text-align: right;\">\n",
       "      <th></th>\n",
       "      <th>caribbean</th>\n",
       "      <th>breakfast_brunch</th>\n",
       "      <th>pizza</th>\n",
       "      <th>burgers</th>\n",
       "      <th>sandwiches</th>\n",
       "      <th>comfortfood</th>\n",
       "      <th>soulfood</th>\n",
       "      <th>grocery</th>\n",
       "      <th>cafes</th>\n",
       "      <th>chinese</th>\n",
       "      <th>...</th>\n",
       "      <th>airportlounges</th>\n",
       "      <th>surfshop</th>\n",
       "      <th>media</th>\n",
       "      <th>shavedice</th>\n",
       "      <th>pretzels</th>\n",
       "      <th>srilankan</th>\n",
       "      <th>southafrican</th>\n",
       "      <th>personalchefs</th>\n",
       "      <th>homedecor</th>\n",
       "      <th>syrian</th>\n",
       "    </tr>\n",
       "  </thead>\n",
       "  <tbody>\n",
       "    <tr>\n",
       "      <th>0</th>\n",
       "      <td>4.0</td>\n",
       "      <td>2.0</td>\n",
       "      <td>2.0</td>\n",
       "      <td>1.0</td>\n",
       "      <td>3.0</td>\n",
       "      <td>1.0</td>\n",
       "      <td>1.0</td>\n",
       "      <td>1.0</td>\n",
       "      <td>1.0</td>\n",
       "      <td>0.0</td>\n",
       "      <td>...</td>\n",
       "      <td>0.0</td>\n",
       "      <td>0.0</td>\n",
       "      <td>0.0</td>\n",
       "      <td>0.0</td>\n",
       "      <td>0.0</td>\n",
       "      <td>0.0</td>\n",
       "      <td>0.0</td>\n",
       "      <td>0.0</td>\n",
       "      <td>0.0</td>\n",
       "      <td>0.0</td>\n",
       "    </tr>\n",
       "    <tr>\n",
       "      <th>1</th>\n",
       "      <td>0.0</td>\n",
       "      <td>0.0</td>\n",
       "      <td>2.0</td>\n",
       "      <td>1.0</td>\n",
       "      <td>1.0</td>\n",
       "      <td>0.0</td>\n",
       "      <td>0.0</td>\n",
       "      <td>0.0</td>\n",
       "      <td>0.0</td>\n",
       "      <td>2.0</td>\n",
       "      <td>...</td>\n",
       "      <td>0.0</td>\n",
       "      <td>0.0</td>\n",
       "      <td>0.0</td>\n",
       "      <td>0.0</td>\n",
       "      <td>0.0</td>\n",
       "      <td>0.0</td>\n",
       "      <td>0.0</td>\n",
       "      <td>0.0</td>\n",
       "      <td>0.0</td>\n",
       "      <td>0.0</td>\n",
       "    </tr>\n",
       "    <tr>\n",
       "      <th>2</th>\n",
       "      <td>3.0</td>\n",
       "      <td>2.0</td>\n",
       "      <td>2.0</td>\n",
       "      <td>1.0</td>\n",
       "      <td>0.0</td>\n",
       "      <td>1.0</td>\n",
       "      <td>0.0</td>\n",
       "      <td>0.0</td>\n",
       "      <td>1.0</td>\n",
       "      <td>1.0</td>\n",
       "      <td>...</td>\n",
       "      <td>0.0</td>\n",
       "      <td>0.0</td>\n",
       "      <td>0.0</td>\n",
       "      <td>0.0</td>\n",
       "      <td>0.0</td>\n",
       "      <td>0.0</td>\n",
       "      <td>0.0</td>\n",
       "      <td>0.0</td>\n",
       "      <td>0.0</td>\n",
       "      <td>0.0</td>\n",
       "    </tr>\n",
       "    <tr>\n",
       "      <th>3</th>\n",
       "      <td>0.0</td>\n",
       "      <td>0.0</td>\n",
       "      <td>0.0</td>\n",
       "      <td>0.0</td>\n",
       "      <td>0.0</td>\n",
       "      <td>0.0</td>\n",
       "      <td>0.0</td>\n",
       "      <td>0.0</td>\n",
       "      <td>0.0</td>\n",
       "      <td>0.0</td>\n",
       "      <td>...</td>\n",
       "      <td>0.0</td>\n",
       "      <td>0.0</td>\n",
       "      <td>0.0</td>\n",
       "      <td>0.0</td>\n",
       "      <td>0.0</td>\n",
       "      <td>0.0</td>\n",
       "      <td>0.0</td>\n",
       "      <td>0.0</td>\n",
       "      <td>0.0</td>\n",
       "      <td>0.0</td>\n",
       "    </tr>\n",
       "    <tr>\n",
       "      <th>4</th>\n",
       "      <td>0.0</td>\n",
       "      <td>0.0</td>\n",
       "      <td>1.0</td>\n",
       "      <td>3.0</td>\n",
       "      <td>1.0</td>\n",
       "      <td>0.0</td>\n",
       "      <td>0.0</td>\n",
       "      <td>0.0</td>\n",
       "      <td>0.0</td>\n",
       "      <td>1.0</td>\n",
       "      <td>...</td>\n",
       "      <td>0.0</td>\n",
       "      <td>0.0</td>\n",
       "      <td>0.0</td>\n",
       "      <td>0.0</td>\n",
       "      <td>0.0</td>\n",
       "      <td>0.0</td>\n",
       "      <td>0.0</td>\n",
       "      <td>0.0</td>\n",
       "      <td>0.0</td>\n",
       "      <td>0.0</td>\n",
       "    </tr>\n",
       "    <tr>\n",
       "      <th>...</th>\n",
       "      <td>...</td>\n",
       "      <td>...</td>\n",
       "      <td>...</td>\n",
       "      <td>...</td>\n",
       "      <td>...</td>\n",
       "      <td>...</td>\n",
       "      <td>...</td>\n",
       "      <td>...</td>\n",
       "      <td>...</td>\n",
       "      <td>...</td>\n",
       "      <td>...</td>\n",
       "      <td>...</td>\n",
       "      <td>...</td>\n",
       "      <td>...</td>\n",
       "      <td>...</td>\n",
       "      <td>...</td>\n",
       "      <td>...</td>\n",
       "      <td>...</td>\n",
       "      <td>...</td>\n",
       "      <td>...</td>\n",
       "      <td>...</td>\n",
       "    </tr>\n",
       "    <tr>\n",
       "      <th>301</th>\n",
       "      <td>1.0</td>\n",
       "      <td>4.0</td>\n",
       "      <td>3.0</td>\n",
       "      <td>2.0</td>\n",
       "      <td>5.0</td>\n",
       "      <td>0.0</td>\n",
       "      <td>0.0</td>\n",
       "      <td>0.0</td>\n",
       "      <td>5.0</td>\n",
       "      <td>0.0</td>\n",
       "      <td>...</td>\n",
       "      <td>0.0</td>\n",
       "      <td>0.0</td>\n",
       "      <td>0.0</td>\n",
       "      <td>1.0</td>\n",
       "      <td>0.0</td>\n",
       "      <td>0.0</td>\n",
       "      <td>0.0</td>\n",
       "      <td>0.0</td>\n",
       "      <td>0.0</td>\n",
       "      <td>0.0</td>\n",
       "    </tr>\n",
       "    <tr>\n",
       "      <th>302</th>\n",
       "      <td>0.0</td>\n",
       "      <td>1.0</td>\n",
       "      <td>1.0</td>\n",
       "      <td>1.0</td>\n",
       "      <td>0.0</td>\n",
       "      <td>0.0</td>\n",
       "      <td>0.0</td>\n",
       "      <td>0.0</td>\n",
       "      <td>0.0</td>\n",
       "      <td>1.0</td>\n",
       "      <td>...</td>\n",
       "      <td>0.0</td>\n",
       "      <td>0.0</td>\n",
       "      <td>0.0</td>\n",
       "      <td>0.0</td>\n",
       "      <td>0.0</td>\n",
       "      <td>0.0</td>\n",
       "      <td>0.0</td>\n",
       "      <td>0.0</td>\n",
       "      <td>0.0</td>\n",
       "      <td>0.0</td>\n",
       "    </tr>\n",
       "    <tr>\n",
       "      <th>303</th>\n",
       "      <td>0.0</td>\n",
       "      <td>0.0</td>\n",
       "      <td>0.0</td>\n",
       "      <td>0.0</td>\n",
       "      <td>0.0</td>\n",
       "      <td>0.0</td>\n",
       "      <td>0.0</td>\n",
       "      <td>0.0</td>\n",
       "      <td>0.0</td>\n",
       "      <td>0.0</td>\n",
       "      <td>...</td>\n",
       "      <td>0.0</td>\n",
       "      <td>0.0</td>\n",
       "      <td>0.0</td>\n",
       "      <td>0.0</td>\n",
       "      <td>0.0</td>\n",
       "      <td>0.0</td>\n",
       "      <td>0.0</td>\n",
       "      <td>0.0</td>\n",
       "      <td>0.0</td>\n",
       "      <td>0.0</td>\n",
       "    </tr>\n",
       "    <tr>\n",
       "      <th>304</th>\n",
       "      <td>0.0</td>\n",
       "      <td>3.0</td>\n",
       "      <td>2.0</td>\n",
       "      <td>0.0</td>\n",
       "      <td>2.0</td>\n",
       "      <td>0.0</td>\n",
       "      <td>1.0</td>\n",
       "      <td>0.0</td>\n",
       "      <td>0.0</td>\n",
       "      <td>1.0</td>\n",
       "      <td>...</td>\n",
       "      <td>0.0</td>\n",
       "      <td>0.0</td>\n",
       "      <td>0.0</td>\n",
       "      <td>0.0</td>\n",
       "      <td>0.0</td>\n",
       "      <td>0.0</td>\n",
       "      <td>0.0</td>\n",
       "      <td>0.0</td>\n",
       "      <td>0.0</td>\n",
       "      <td>0.0</td>\n",
       "    </tr>\n",
       "    <tr>\n",
       "      <th>305</th>\n",
       "      <td>1.0</td>\n",
       "      <td>0.0</td>\n",
       "      <td>0.0</td>\n",
       "      <td>0.0</td>\n",
       "      <td>1.0</td>\n",
       "      <td>0.0</td>\n",
       "      <td>0.0</td>\n",
       "      <td>0.0</td>\n",
       "      <td>0.0</td>\n",
       "      <td>0.0</td>\n",
       "      <td>...</td>\n",
       "      <td>0.0</td>\n",
       "      <td>0.0</td>\n",
       "      <td>0.0</td>\n",
       "      <td>0.0</td>\n",
       "      <td>0.0</td>\n",
       "      <td>0.0</td>\n",
       "      <td>0.0</td>\n",
       "      <td>0.0</td>\n",
       "      <td>0.0</td>\n",
       "      <td>0.0</td>\n",
       "    </tr>\n",
       "  </tbody>\n",
       "</table>\n",
       "<p>306 rows × 231 columns</p>\n",
       "</div>"
      ],
      "text/plain": [
       "     caribbean  breakfast_brunch  pizza  burgers  sandwiches  comfortfood  \\\n",
       "0          4.0               2.0    2.0      1.0         3.0          1.0   \n",
       "1          0.0               0.0    2.0      1.0         1.0          0.0   \n",
       "2          3.0               2.0    2.0      1.0         0.0          1.0   \n",
       "3          0.0               0.0    0.0      0.0         0.0          0.0   \n",
       "4          0.0               0.0    1.0      3.0         1.0          0.0   \n",
       "..         ...               ...    ...      ...         ...          ...   \n",
       "301        1.0               4.0    3.0      2.0         5.0          0.0   \n",
       "302        0.0               1.0    1.0      1.0         0.0          0.0   \n",
       "303        0.0               0.0    0.0      0.0         0.0          0.0   \n",
       "304        0.0               3.0    2.0      0.0         2.0          0.0   \n",
       "305        1.0               0.0    0.0      0.0         1.0          0.0   \n",
       "\n",
       "     soulfood  grocery  cafes  chinese  ...  airportlounges  surfshop  media  \\\n",
       "0         1.0      1.0    1.0      0.0  ...             0.0       0.0    0.0   \n",
       "1         0.0      0.0    0.0      2.0  ...             0.0       0.0    0.0   \n",
       "2         0.0      0.0    1.0      1.0  ...             0.0       0.0    0.0   \n",
       "3         0.0      0.0    0.0      0.0  ...             0.0       0.0    0.0   \n",
       "4         0.0      0.0    0.0      1.0  ...             0.0       0.0    0.0   \n",
       "..        ...      ...    ...      ...  ...             ...       ...    ...   \n",
       "301       0.0      0.0    5.0      0.0  ...             0.0       0.0    0.0   \n",
       "302       0.0      0.0    0.0      1.0  ...             0.0       0.0    0.0   \n",
       "303       0.0      0.0    0.0      0.0  ...             0.0       0.0    0.0   \n",
       "304       1.0      0.0    0.0      1.0  ...             0.0       0.0    0.0   \n",
       "305       0.0      0.0    0.0      0.0  ...             0.0       0.0    0.0   \n",
       "\n",
       "     shavedice  pretzels  srilankan  southafrican  personalchefs  homedecor  \\\n",
       "0          0.0       0.0        0.0           0.0            0.0        0.0   \n",
       "1          0.0       0.0        0.0           0.0            0.0        0.0   \n",
       "2          0.0       0.0        0.0           0.0            0.0        0.0   \n",
       "3          0.0       0.0        0.0           0.0            0.0        0.0   \n",
       "4          0.0       0.0        0.0           0.0            0.0        0.0   \n",
       "..         ...       ...        ...           ...            ...        ...   \n",
       "301        1.0       0.0        0.0           0.0            0.0        0.0   \n",
       "302        0.0       0.0        0.0           0.0            0.0        0.0   \n",
       "303        0.0       0.0        0.0           0.0            0.0        0.0   \n",
       "304        0.0       0.0        0.0           0.0            0.0        0.0   \n",
       "305        0.0       0.0        0.0           0.0            0.0        0.0   \n",
       "\n",
       "     syrian  \n",
       "0       0.0  \n",
       "1       0.0  \n",
       "2       0.0  \n",
       "3       0.0  \n",
       "4       0.0  \n",
       "..      ...  \n",
       "301     0.0  \n",
       "302     0.0  \n",
       "303     0.0  \n",
       "304     0.0  \n",
       "305     0.0  \n",
       "\n",
       "[306 rows x 231 columns]"
      ]
     },
     "execution_count": 6,
     "metadata": {},
     "output_type": "execute_result"
    }
   ],
   "source": [
    "# let's get our encoded yelp_types\n",
    "yelp_types = pd.read_csv('../data/data/yelp_restaurant_type_counts.csv').drop('Unnamed: 0', axis=1)\n",
    "yelp_types"
   ]
  },
  {
   "cell_type": "code",
   "execution_count": 7,
   "metadata": {},
   "outputs": [
    {
     "data": {
      "text/html": [
       "<div>\n",
       "<style scoped>\n",
       "    .dataframe tbody tr th:only-of-type {\n",
       "        vertical-align: middle;\n",
       "    }\n",
       "\n",
       "    .dataframe tbody tr th {\n",
       "        vertical-align: top;\n",
       "    }\n",
       "\n",
       "    .dataframe thead th {\n",
       "        text-align: right;\n",
       "    }\n",
       "</style>\n",
       "<table border=\"1\" class=\"dataframe\">\n",
       "  <thead>\n",
       "    <tr style=\"text-align: right;\">\n",
       "      <th></th>\n",
       "      <th>lodging</th>\n",
       "      <th>restaurant</th>\n",
       "      <th>school</th>\n",
       "      <th>health</th>\n",
       "      <th>bar</th>\n",
       "      <th>church</th>\n",
       "      <th>bank</th>\n",
       "      <th>store</th>\n",
       "      <th>clothing</th>\n",
       "      <th>tourist attraction</th>\n",
       "      <th>...</th>\n",
       "      <th>pharmacy</th>\n",
       "      <th>farmersmarket</th>\n",
       "      <th>foodtours</th>\n",
       "      <th>bowling</th>\n",
       "      <th>syrian</th>\n",
       "      <th>southafrican</th>\n",
       "      <th>eventservices</th>\n",
       "      <th>bookstores</th>\n",
       "      <th>homedecor</th>\n",
       "      <th>diyfood</th>\n",
       "    </tr>\n",
       "  </thead>\n",
       "  <tbody>\n",
       "    <tr>\n",
       "      <th>0</th>\n",
       "      <td>9</td>\n",
       "      <td>55</td>\n",
       "      <td>26</td>\n",
       "      <td>13</td>\n",
       "      <td>10</td>\n",
       "      <td>60</td>\n",
       "      <td>12</td>\n",
       "      <td>36</td>\n",
       "      <td>19</td>\n",
       "      <td>0</td>\n",
       "      <td>...</td>\n",
       "      <td>0.0</td>\n",
       "      <td>0.0</td>\n",
       "      <td>0.0</td>\n",
       "      <td>0.0</td>\n",
       "      <td>0.0</td>\n",
       "      <td>0.0</td>\n",
       "      <td>0.0</td>\n",
       "      <td>0.0</td>\n",
       "      <td>0.0</td>\n",
       "      <td>0.0</td>\n",
       "    </tr>\n",
       "    <tr>\n",
       "      <th>1</th>\n",
       "      <td>5</td>\n",
       "      <td>39</td>\n",
       "      <td>26</td>\n",
       "      <td>7</td>\n",
       "      <td>4</td>\n",
       "      <td>25</td>\n",
       "      <td>15</td>\n",
       "      <td>37</td>\n",
       "      <td>34</td>\n",
       "      <td>0</td>\n",
       "      <td>...</td>\n",
       "      <td>0.0</td>\n",
       "      <td>0.0</td>\n",
       "      <td>0.0</td>\n",
       "      <td>0.0</td>\n",
       "      <td>0.0</td>\n",
       "      <td>0.0</td>\n",
       "      <td>0.0</td>\n",
       "      <td>0.0</td>\n",
       "      <td>0.0</td>\n",
       "      <td>0.0</td>\n",
       "    </tr>\n",
       "    <tr>\n",
       "      <th>2</th>\n",
       "      <td>3</td>\n",
       "      <td>33</td>\n",
       "      <td>16</td>\n",
       "      <td>3</td>\n",
       "      <td>11</td>\n",
       "      <td>23</td>\n",
       "      <td>4</td>\n",
       "      <td>36</td>\n",
       "      <td>13</td>\n",
       "      <td>1</td>\n",
       "      <td>...</td>\n",
       "      <td>0.0</td>\n",
       "      <td>0.0</td>\n",
       "      <td>0.0</td>\n",
       "      <td>0.0</td>\n",
       "      <td>0.0</td>\n",
       "      <td>0.0</td>\n",
       "      <td>0.0</td>\n",
       "      <td>0.0</td>\n",
       "      <td>0.0</td>\n",
       "      <td>0.0</td>\n",
       "    </tr>\n",
       "    <tr>\n",
       "      <th>3</th>\n",
       "      <td>2</td>\n",
       "      <td>54</td>\n",
       "      <td>27</td>\n",
       "      <td>7</td>\n",
       "      <td>14</td>\n",
       "      <td>5</td>\n",
       "      <td>24</td>\n",
       "      <td>19</td>\n",
       "      <td>4</td>\n",
       "      <td>4</td>\n",
       "      <td>...</td>\n",
       "      <td>0.0</td>\n",
       "      <td>0.0</td>\n",
       "      <td>0.0</td>\n",
       "      <td>0.0</td>\n",
       "      <td>0.0</td>\n",
       "      <td>0.0</td>\n",
       "      <td>0.0</td>\n",
       "      <td>0.0</td>\n",
       "      <td>0.0</td>\n",
       "      <td>0.0</td>\n",
       "    </tr>\n",
       "    <tr>\n",
       "      <th>4</th>\n",
       "      <td>3</td>\n",
       "      <td>20</td>\n",
       "      <td>25</td>\n",
       "      <td>9</td>\n",
       "      <td>16</td>\n",
       "      <td>12</td>\n",
       "      <td>23</td>\n",
       "      <td>19</td>\n",
       "      <td>5</td>\n",
       "      <td>2</td>\n",
       "      <td>...</td>\n",
       "      <td>0.0</td>\n",
       "      <td>0.0</td>\n",
       "      <td>0.0</td>\n",
       "      <td>0.0</td>\n",
       "      <td>0.0</td>\n",
       "      <td>0.0</td>\n",
       "      <td>0.0</td>\n",
       "      <td>0.0</td>\n",
       "      <td>0.0</td>\n",
       "      <td>0.0</td>\n",
       "    </tr>\n",
       "    <tr>\n",
       "      <th>...</th>\n",
       "      <td>...</td>\n",
       "      <td>...</td>\n",
       "      <td>...</td>\n",
       "      <td>...</td>\n",
       "      <td>...</td>\n",
       "      <td>...</td>\n",
       "      <td>...</td>\n",
       "      <td>...</td>\n",
       "      <td>...</td>\n",
       "      <td>...</td>\n",
       "      <td>...</td>\n",
       "      <td>...</td>\n",
       "      <td>...</td>\n",
       "      <td>...</td>\n",
       "      <td>...</td>\n",
       "      <td>...</td>\n",
       "      <td>...</td>\n",
       "      <td>...</td>\n",
       "      <td>...</td>\n",
       "      <td>...</td>\n",
       "      <td>...</td>\n",
       "    </tr>\n",
       "    <tr>\n",
       "      <th>301</th>\n",
       "      <td>39</td>\n",
       "      <td>60</td>\n",
       "      <td>60</td>\n",
       "      <td>20</td>\n",
       "      <td>60</td>\n",
       "      <td>37</td>\n",
       "      <td>60</td>\n",
       "      <td>60</td>\n",
       "      <td>60</td>\n",
       "      <td>12</td>\n",
       "      <td>...</td>\n",
       "      <td>0.0</td>\n",
       "      <td>0.0</td>\n",
       "      <td>0.0</td>\n",
       "      <td>0.0</td>\n",
       "      <td>0.0</td>\n",
       "      <td>0.0</td>\n",
       "      <td>0.0</td>\n",
       "      <td>0.0</td>\n",
       "      <td>0.0</td>\n",
       "      <td>0.0</td>\n",
       "    </tr>\n",
       "    <tr>\n",
       "      <th>302</th>\n",
       "      <td>3</td>\n",
       "      <td>44</td>\n",
       "      <td>6</td>\n",
       "      <td>9</td>\n",
       "      <td>8</td>\n",
       "      <td>20</td>\n",
       "      <td>3</td>\n",
       "      <td>33</td>\n",
       "      <td>6</td>\n",
       "      <td>1</td>\n",
       "      <td>...</td>\n",
       "      <td>0.0</td>\n",
       "      <td>0.0</td>\n",
       "      <td>0.0</td>\n",
       "      <td>0.0</td>\n",
       "      <td>0.0</td>\n",
       "      <td>0.0</td>\n",
       "      <td>0.0</td>\n",
       "      <td>0.0</td>\n",
       "      <td>0.0</td>\n",
       "      <td>0.0</td>\n",
       "    </tr>\n",
       "    <tr>\n",
       "      <th>303</th>\n",
       "      <td>4</td>\n",
       "      <td>32</td>\n",
       "      <td>15</td>\n",
       "      <td>6</td>\n",
       "      <td>2</td>\n",
       "      <td>18</td>\n",
       "      <td>7</td>\n",
       "      <td>34</td>\n",
       "      <td>12</td>\n",
       "      <td>2</td>\n",
       "      <td>...</td>\n",
       "      <td>0.0</td>\n",
       "      <td>0.0</td>\n",
       "      <td>0.0</td>\n",
       "      <td>0.0</td>\n",
       "      <td>0.0</td>\n",
       "      <td>0.0</td>\n",
       "      <td>0.0</td>\n",
       "      <td>0.0</td>\n",
       "      <td>0.0</td>\n",
       "      <td>0.0</td>\n",
       "    </tr>\n",
       "    <tr>\n",
       "      <th>304</th>\n",
       "      <td>19</td>\n",
       "      <td>59</td>\n",
       "      <td>36</td>\n",
       "      <td>10</td>\n",
       "      <td>19</td>\n",
       "      <td>25</td>\n",
       "      <td>12</td>\n",
       "      <td>36</td>\n",
       "      <td>7</td>\n",
       "      <td>4</td>\n",
       "      <td>...</td>\n",
       "      <td>0.0</td>\n",
       "      <td>0.0</td>\n",
       "      <td>0.0</td>\n",
       "      <td>0.0</td>\n",
       "      <td>0.0</td>\n",
       "      <td>0.0</td>\n",
       "      <td>0.0</td>\n",
       "      <td>0.0</td>\n",
       "      <td>0.0</td>\n",
       "      <td>0.0</td>\n",
       "    </tr>\n",
       "    <tr>\n",
       "      <th>305</th>\n",
       "      <td>2</td>\n",
       "      <td>36</td>\n",
       "      <td>14</td>\n",
       "      <td>7</td>\n",
       "      <td>8</td>\n",
       "      <td>30</td>\n",
       "      <td>10</td>\n",
       "      <td>50</td>\n",
       "      <td>14</td>\n",
       "      <td>2</td>\n",
       "      <td>...</td>\n",
       "      <td>0.0</td>\n",
       "      <td>0.0</td>\n",
       "      <td>0.0</td>\n",
       "      <td>0.0</td>\n",
       "      <td>0.0</td>\n",
       "      <td>0.0</td>\n",
       "      <td>0.0</td>\n",
       "      <td>0.0</td>\n",
       "      <td>0.0</td>\n",
       "      <td>0.0</td>\n",
       "    </tr>\n",
       "  </tbody>\n",
       "</table>\n",
       "<p>306 rows × 247 columns</p>\n",
       "</div>"
      ],
      "text/plain": [
       "     lodging  restaurant  school  health  bar  church  bank  store  clothing  \\\n",
       "0          9          55      26      13   10      60    12     36        19   \n",
       "1          5          39      26       7    4      25    15     37        34   \n",
       "2          3          33      16       3   11      23     4     36        13   \n",
       "3          2          54      27       7   14       5    24     19         4   \n",
       "4          3          20      25       9   16      12    23     19         5   \n",
       "..       ...         ...     ...     ...  ...     ...   ...    ...       ...   \n",
       "301       39          60      60      20   60      37    60     60        60   \n",
       "302        3          44       6       9    8      20     3     33         6   \n",
       "303        4          32      15       6    2      18     7     34        12   \n",
       "304       19          59      36      10   19      25    12     36         7   \n",
       "305        2          36      14       7    8      30    10     50        14   \n",
       "\n",
       "     tourist attraction  ...  pharmacy  farmersmarket  foodtours  bowling  \\\n",
       "0                     0  ...       0.0            0.0        0.0      0.0   \n",
       "1                     0  ...       0.0            0.0        0.0      0.0   \n",
       "2                     1  ...       0.0            0.0        0.0      0.0   \n",
       "3                     4  ...       0.0            0.0        0.0      0.0   \n",
       "4                     2  ...       0.0            0.0        0.0      0.0   \n",
       "..                  ...  ...       ...            ...        ...      ...   \n",
       "301                  12  ...       0.0            0.0        0.0      0.0   \n",
       "302                   1  ...       0.0            0.0        0.0      0.0   \n",
       "303                   2  ...       0.0            0.0        0.0      0.0   \n",
       "304                   4  ...       0.0            0.0        0.0      0.0   \n",
       "305                   2  ...       0.0            0.0        0.0      0.0   \n",
       "\n",
       "     syrian  southafrican  eventservices  bookstores  homedecor  diyfood  \n",
       "0       0.0           0.0            0.0         0.0        0.0      0.0  \n",
       "1       0.0           0.0            0.0         0.0        0.0      0.0  \n",
       "2       0.0           0.0            0.0         0.0        0.0      0.0  \n",
       "3       0.0           0.0            0.0         0.0        0.0      0.0  \n",
       "4       0.0           0.0            0.0         0.0        0.0      0.0  \n",
       "..      ...           ...            ...         ...        ...      ...  \n",
       "301     0.0           0.0            0.0         0.0        0.0      0.0  \n",
       "302     0.0           0.0            0.0         0.0        0.0      0.0  \n",
       "303     0.0           0.0            0.0         0.0        0.0      0.0  \n",
       "304     0.0           0.0            0.0         0.0        0.0      0.0  \n",
       "305     0.0           0.0            0.0         0.0        0.0      0.0  \n",
       "\n",
       "[306 rows x 247 columns]"
      ]
     },
     "execution_count": 7,
     "metadata": {},
     "output_type": "execute_result"
    }
   ],
   "source": [
    "all_features = pd.read_csv('../data/data/all_features_counts_v3.csv', index_col=0).drop(['population', 'id'], axis=1)\n",
    "all_features"
   ]
  },
  {
   "cell_type": "markdown",
   "metadata": {},
   "source": [
    "# New Features"
   ]
  },
  {
   "cell_type": "code",
   "execution_count": 8,
   "metadata": {},
   "outputs": [
    {
     "data": {
      "text/html": [
       "<div>\n",
       "<style scoped>\n",
       "    .dataframe tbody tr th:only-of-type {\n",
       "        vertical-align: middle;\n",
       "    }\n",
       "\n",
       "    .dataframe tbody tr th {\n",
       "        vertical-align: top;\n",
       "    }\n",
       "\n",
       "    .dataframe thead th {\n",
       "        text-align: right;\n",
       "    }\n",
       "</style>\n",
       "<table border=\"1\" class=\"dataframe\">\n",
       "  <thead>\n",
       "    <tr style=\"text-align: right;\">\n",
       "      <th></th>\n",
       "      <th>borough</th>\n",
       "      <th>neighborhood</th>\n",
       "      <th>longitude</th>\n",
       "      <th>latitude</th>\n",
       "      <th>population</th>\n",
       "    </tr>\n",
       "  </thead>\n",
       "  <tbody>\n",
       "    <tr>\n",
       "      <th>0</th>\n",
       "      <td>Bronx</td>\n",
       "      <td>Wakefield</td>\n",
       "      <td>-73.847201</td>\n",
       "      <td>40.894705</td>\n",
       "      <td>21242.0</td>\n",
       "    </tr>\n",
       "    <tr>\n",
       "      <th>1</th>\n",
       "      <td>Bronx</td>\n",
       "      <td>Co-op City</td>\n",
       "      <td>-73.829939</td>\n",
       "      <td>40.874294</td>\n",
       "      <td>43752.0</td>\n",
       "    </tr>\n",
       "    <tr>\n",
       "      <th>2</th>\n",
       "      <td>Bronx</td>\n",
       "      <td>Eastchester</td>\n",
       "      <td>-73.827806</td>\n",
       "      <td>40.887556</td>\n",
       "      <td>11506.0</td>\n",
       "    </tr>\n",
       "    <tr>\n",
       "      <th>3</th>\n",
       "      <td>Bronx</td>\n",
       "      <td>Fieldston</td>\n",
       "      <td>-73.905643</td>\n",
       "      <td>40.895437</td>\n",
       "      <td>9287.0</td>\n",
       "    </tr>\n",
       "    <tr>\n",
       "      <th>4</th>\n",
       "      <td>Bronx</td>\n",
       "      <td>Riverdale</td>\n",
       "      <td>-73.912585</td>\n",
       "      <td>40.890834</td>\n",
       "      <td>9287.0</td>\n",
       "    </tr>\n",
       "    <tr>\n",
       "      <th>...</th>\n",
       "      <td>...</td>\n",
       "      <td>...</td>\n",
       "      <td>...</td>\n",
       "      <td>...</td>\n",
       "      <td>...</td>\n",
       "    </tr>\n",
       "    <tr>\n",
       "      <th>301</th>\n",
       "      <td>Manhattan</td>\n",
       "      <td>Hudson Yards</td>\n",
       "      <td>-74.000111</td>\n",
       "      <td>40.756658</td>\n",
       "      <td>23383.0</td>\n",
       "    </tr>\n",
       "    <tr>\n",
       "      <th>302</th>\n",
       "      <td>Queens</td>\n",
       "      <td>Hammels</td>\n",
       "      <td>-73.805530</td>\n",
       "      <td>40.587338</td>\n",
       "      <td>12295.0</td>\n",
       "    </tr>\n",
       "    <tr>\n",
       "      <th>303</th>\n",
       "      <td>Queens</td>\n",
       "      <td>Bayswater</td>\n",
       "      <td>-73.765968</td>\n",
       "      <td>40.611322</td>\n",
       "      <td>25029.0</td>\n",
       "    </tr>\n",
       "    <tr>\n",
       "      <th>304</th>\n",
       "      <td>Queens</td>\n",
       "      <td>Queensbridge</td>\n",
       "      <td>-73.945631</td>\n",
       "      <td>40.756091</td>\n",
       "      <td>6677.0</td>\n",
       "    </tr>\n",
       "    <tr>\n",
       "      <th>305</th>\n",
       "      <td>Staten Island</td>\n",
       "      <td>Fox Hills</td>\n",
       "      <td>-74.081740</td>\n",
       "      <td>40.617311</td>\n",
       "      <td>11230.0</td>\n",
       "    </tr>\n",
       "  </tbody>\n",
       "</table>\n",
       "<p>306 rows × 5 columns</p>\n",
       "</div>"
      ],
      "text/plain": [
       "           borough  neighborhood  longitude   latitude  population\n",
       "0            Bronx     Wakefield -73.847201  40.894705     21242.0\n",
       "1            Bronx    Co-op City -73.829939  40.874294     43752.0\n",
       "2            Bronx   Eastchester -73.827806  40.887556     11506.0\n",
       "3            Bronx     Fieldston -73.905643  40.895437      9287.0\n",
       "4            Bronx     Riverdale -73.912585  40.890834      9287.0\n",
       "..             ...           ...        ...        ...         ...\n",
       "301      Manhattan  Hudson Yards -74.000111  40.756658     23383.0\n",
       "302         Queens       Hammels -73.805530  40.587338     12295.0\n",
       "303         Queens     Bayswater -73.765968  40.611322     25029.0\n",
       "304         Queens  Queensbridge -73.945631  40.756091      6677.0\n",
       "305  Staten Island     Fox Hills -74.081740  40.617311     11230.0\n",
       "\n",
       "[306 rows x 5 columns]"
      ]
     },
     "execution_count": 8,
     "metadata": {},
     "output_type": "execute_result"
    }
   ],
   "source": [
    "geo_info = main_data.loc[:,:'population']\n",
    "geo_info"
   ]
  },
  {
   "cell_type": "code",
   "execution_count": 9,
   "metadata": {},
   "outputs": [],
   "source": [
    "main_features = main_data.loc[:,'restaurant_count':]"
   ]
  },
  {
   "cell_type": "code",
   "execution_count": 10,
   "metadata": {},
   "outputs": [],
   "source": [
    "### V3 dataset\n",
    "\n",
    "all_features = pd.concat([geo_info.loc[:,'longitude':'latitude'],all_features], axis=1)"
   ]
  },
  {
   "cell_type": "code",
   "execution_count": 11,
   "metadata": {},
   "outputs": [
    {
     "data": {
      "text/html": [
       "<div>\n",
       "<style scoped>\n",
       "    .dataframe tbody tr th:only-of-type {\n",
       "        vertical-align: middle;\n",
       "    }\n",
       "\n",
       "    .dataframe tbody tr th {\n",
       "        vertical-align: top;\n",
       "    }\n",
       "\n",
       "    .dataframe thead th {\n",
       "        text-align: right;\n",
       "    }\n",
       "</style>\n",
       "<table border=\"1\" class=\"dataframe\">\n",
       "  <thead>\n",
       "    <tr style=\"text-align: right;\">\n",
       "      <th></th>\n",
       "      <th>longitude</th>\n",
       "      <th>latitude</th>\n",
       "      <th>lodging</th>\n",
       "      <th>restaurant</th>\n",
       "      <th>school</th>\n",
       "      <th>health</th>\n",
       "      <th>bar</th>\n",
       "      <th>church</th>\n",
       "      <th>bank</th>\n",
       "      <th>store</th>\n",
       "      <th>...</th>\n",
       "      <th>pharmacy</th>\n",
       "      <th>farmersmarket</th>\n",
       "      <th>foodtours</th>\n",
       "      <th>bowling</th>\n",
       "      <th>syrian</th>\n",
       "      <th>southafrican</th>\n",
       "      <th>eventservices</th>\n",
       "      <th>bookstores</th>\n",
       "      <th>homedecor</th>\n",
       "      <th>diyfood</th>\n",
       "    </tr>\n",
       "  </thead>\n",
       "  <tbody>\n",
       "    <tr>\n",
       "      <th>0</th>\n",
       "      <td>0.742705</td>\n",
       "      <td>0.965681</td>\n",
       "      <td>0.150000</td>\n",
       "      <td>0.916667</td>\n",
       "      <td>0.433333</td>\n",
       "      <td>0.216667</td>\n",
       "      <td>0.166667</td>\n",
       "      <td>1.000000</td>\n",
       "      <td>0.200000</td>\n",
       "      <td>0.600000</td>\n",
       "      <td>...</td>\n",
       "      <td>0.0</td>\n",
       "      <td>0.0</td>\n",
       "      <td>0.0</td>\n",
       "      <td>0.0</td>\n",
       "      <td>0.0</td>\n",
       "      <td>0.0</td>\n",
       "      <td>0.0</td>\n",
       "      <td>0.0</td>\n",
       "      <td>0.0</td>\n",
       "      <td>0.0</td>\n",
       "    </tr>\n",
       "    <tr>\n",
       "      <th>1</th>\n",
       "      <td>0.774806</td>\n",
       "      <td>0.915060</td>\n",
       "      <td>0.083333</td>\n",
       "      <td>0.650000</td>\n",
       "      <td>0.433333</td>\n",
       "      <td>0.116667</td>\n",
       "      <td>0.066667</td>\n",
       "      <td>0.416667</td>\n",
       "      <td>0.250000</td>\n",
       "      <td>0.616667</td>\n",
       "      <td>...</td>\n",
       "      <td>0.0</td>\n",
       "      <td>0.0</td>\n",
       "      <td>0.0</td>\n",
       "      <td>0.0</td>\n",
       "      <td>0.0</td>\n",
       "      <td>0.0</td>\n",
       "      <td>0.0</td>\n",
       "      <td>0.0</td>\n",
       "      <td>0.0</td>\n",
       "      <td>0.0</td>\n",
       "    </tr>\n",
       "    <tr>\n",
       "      <th>2</th>\n",
       "      <td>0.778772</td>\n",
       "      <td>0.947950</td>\n",
       "      <td>0.050000</td>\n",
       "      <td>0.550000</td>\n",
       "      <td>0.266667</td>\n",
       "      <td>0.050000</td>\n",
       "      <td>0.183333</td>\n",
       "      <td>0.383333</td>\n",
       "      <td>0.066667</td>\n",
       "      <td>0.600000</td>\n",
       "      <td>...</td>\n",
       "      <td>0.0</td>\n",
       "      <td>0.0</td>\n",
       "      <td>0.0</td>\n",
       "      <td>0.0</td>\n",
       "      <td>0.0</td>\n",
       "      <td>0.0</td>\n",
       "      <td>0.0</td>\n",
       "      <td>0.0</td>\n",
       "      <td>0.0</td>\n",
       "      <td>0.0</td>\n",
       "    </tr>\n",
       "    <tr>\n",
       "      <th>3</th>\n",
       "      <td>0.634020</td>\n",
       "      <td>0.967497</td>\n",
       "      <td>0.033333</td>\n",
       "      <td>0.900000</td>\n",
       "      <td>0.450000</td>\n",
       "      <td>0.116667</td>\n",
       "      <td>0.233333</td>\n",
       "      <td>0.083333</td>\n",
       "      <td>0.400000</td>\n",
       "      <td>0.316667</td>\n",
       "      <td>...</td>\n",
       "      <td>0.0</td>\n",
       "      <td>0.0</td>\n",
       "      <td>0.0</td>\n",
       "      <td>0.0</td>\n",
       "      <td>0.0</td>\n",
       "      <td>0.0</td>\n",
       "      <td>0.0</td>\n",
       "      <td>0.0</td>\n",
       "      <td>0.0</td>\n",
       "      <td>0.0</td>\n",
       "    </tr>\n",
       "    <tr>\n",
       "      <th>4</th>\n",
       "      <td>0.621109</td>\n",
       "      <td>0.956082</td>\n",
       "      <td>0.050000</td>\n",
       "      <td>0.333333</td>\n",
       "      <td>0.416667</td>\n",
       "      <td>0.150000</td>\n",
       "      <td>0.266667</td>\n",
       "      <td>0.200000</td>\n",
       "      <td>0.383333</td>\n",
       "      <td>0.316667</td>\n",
       "      <td>...</td>\n",
       "      <td>0.0</td>\n",
       "      <td>0.0</td>\n",
       "      <td>0.0</td>\n",
       "      <td>0.0</td>\n",
       "      <td>0.0</td>\n",
       "      <td>0.0</td>\n",
       "      <td>0.0</td>\n",
       "      <td>0.0</td>\n",
       "      <td>0.0</td>\n",
       "      <td>0.0</td>\n",
       "    </tr>\n",
       "    <tr>\n",
       "      <th>...</th>\n",
       "      <td>...</td>\n",
       "      <td>...</td>\n",
       "      <td>...</td>\n",
       "      <td>...</td>\n",
       "      <td>...</td>\n",
       "      <td>...</td>\n",
       "      <td>...</td>\n",
       "      <td>...</td>\n",
       "      <td>...</td>\n",
       "      <td>...</td>\n",
       "      <td>...</td>\n",
       "      <td>...</td>\n",
       "      <td>...</td>\n",
       "      <td>...</td>\n",
       "      <td>...</td>\n",
       "      <td>...</td>\n",
       "      <td>...</td>\n",
       "      <td>...</td>\n",
       "      <td>...</td>\n",
       "      <td>...</td>\n",
       "      <td>...</td>\n",
       "    </tr>\n",
       "    <tr>\n",
       "      <th>301</th>\n",
       "      <td>0.458337</td>\n",
       "      <td>0.623310</td>\n",
       "      <td>0.650000</td>\n",
       "      <td>1.000000</td>\n",
       "      <td>1.000000</td>\n",
       "      <td>0.333333</td>\n",
       "      <td>1.000000</td>\n",
       "      <td>0.616667</td>\n",
       "      <td>1.000000</td>\n",
       "      <td>1.000000</td>\n",
       "      <td>...</td>\n",
       "      <td>0.0</td>\n",
       "      <td>0.0</td>\n",
       "      <td>0.0</td>\n",
       "      <td>0.0</td>\n",
       "      <td>0.0</td>\n",
       "      <td>0.0</td>\n",
       "      <td>0.0</td>\n",
       "      <td>0.0</td>\n",
       "      <td>0.0</td>\n",
       "      <td>0.0</td>\n",
       "    </tr>\n",
       "    <tr>\n",
       "      <th>302</th>\n",
       "      <td>0.820199</td>\n",
       "      <td>0.203378</td>\n",
       "      <td>0.050000</td>\n",
       "      <td>0.733333</td>\n",
       "      <td>0.100000</td>\n",
       "      <td>0.150000</td>\n",
       "      <td>0.133333</td>\n",
       "      <td>0.333333</td>\n",
       "      <td>0.050000</td>\n",
       "      <td>0.550000</td>\n",
       "      <td>...</td>\n",
       "      <td>0.0</td>\n",
       "      <td>0.0</td>\n",
       "      <td>0.0</td>\n",
       "      <td>0.0</td>\n",
       "      <td>0.0</td>\n",
       "      <td>0.0</td>\n",
       "      <td>0.0</td>\n",
       "      <td>0.0</td>\n",
       "      <td>0.0</td>\n",
       "      <td>0.0</td>\n",
       "    </tr>\n",
       "    <tr>\n",
       "      <th>303</th>\n",
       "      <td>0.893773</td>\n",
       "      <td>0.262861</td>\n",
       "      <td>0.066667</td>\n",
       "      <td>0.533333</td>\n",
       "      <td>0.250000</td>\n",
       "      <td>0.100000</td>\n",
       "      <td>0.033333</td>\n",
       "      <td>0.300000</td>\n",
       "      <td>0.116667</td>\n",
       "      <td>0.566667</td>\n",
       "      <td>...</td>\n",
       "      <td>0.0</td>\n",
       "      <td>0.0</td>\n",
       "      <td>0.0</td>\n",
       "      <td>0.0</td>\n",
       "      <td>0.0</td>\n",
       "      <td>0.0</td>\n",
       "      <td>0.0</td>\n",
       "      <td>0.0</td>\n",
       "      <td>0.0</td>\n",
       "      <td>0.0</td>\n",
       "    </tr>\n",
       "    <tr>\n",
       "      <th>304</th>\n",
       "      <td>0.559654</td>\n",
       "      <td>0.621905</td>\n",
       "      <td>0.316667</td>\n",
       "      <td>0.983333</td>\n",
       "      <td>0.600000</td>\n",
       "      <td>0.166667</td>\n",
       "      <td>0.316667</td>\n",
       "      <td>0.416667</td>\n",
       "      <td>0.200000</td>\n",
       "      <td>0.600000</td>\n",
       "      <td>...</td>\n",
       "      <td>0.0</td>\n",
       "      <td>0.0</td>\n",
       "      <td>0.0</td>\n",
       "      <td>0.0</td>\n",
       "      <td>0.0</td>\n",
       "      <td>0.0</td>\n",
       "      <td>0.0</td>\n",
       "      <td>0.0</td>\n",
       "      <td>0.0</td>\n",
       "      <td>0.0</td>\n",
       "    </tr>\n",
       "    <tr>\n",
       "      <th>305</th>\n",
       "      <td>0.306533</td>\n",
       "      <td>0.277715</td>\n",
       "      <td>0.033333</td>\n",
       "      <td>0.600000</td>\n",
       "      <td>0.233333</td>\n",
       "      <td>0.116667</td>\n",
       "      <td>0.133333</td>\n",
       "      <td>0.500000</td>\n",
       "      <td>0.166667</td>\n",
       "      <td>0.833333</td>\n",
       "      <td>...</td>\n",
       "      <td>0.0</td>\n",
       "      <td>0.0</td>\n",
       "      <td>0.0</td>\n",
       "      <td>0.0</td>\n",
       "      <td>0.0</td>\n",
       "      <td>0.0</td>\n",
       "      <td>0.0</td>\n",
       "      <td>0.0</td>\n",
       "      <td>0.0</td>\n",
       "      <td>0.0</td>\n",
       "    </tr>\n",
       "  </tbody>\n",
       "</table>\n",
       "<p>306 rows × 249 columns</p>\n",
       "</div>"
      ],
      "text/plain": [
       "     longitude  latitude   lodging  restaurant    school    health       bar  \\\n",
       "0     0.742705  0.965681  0.150000    0.916667  0.433333  0.216667  0.166667   \n",
       "1     0.774806  0.915060  0.083333    0.650000  0.433333  0.116667  0.066667   \n",
       "2     0.778772  0.947950  0.050000    0.550000  0.266667  0.050000  0.183333   \n",
       "3     0.634020  0.967497  0.033333    0.900000  0.450000  0.116667  0.233333   \n",
       "4     0.621109  0.956082  0.050000    0.333333  0.416667  0.150000  0.266667   \n",
       "..         ...       ...       ...         ...       ...       ...       ...   \n",
       "301   0.458337  0.623310  0.650000    1.000000  1.000000  0.333333  1.000000   \n",
       "302   0.820199  0.203378  0.050000    0.733333  0.100000  0.150000  0.133333   \n",
       "303   0.893773  0.262861  0.066667    0.533333  0.250000  0.100000  0.033333   \n",
       "304   0.559654  0.621905  0.316667    0.983333  0.600000  0.166667  0.316667   \n",
       "305   0.306533  0.277715  0.033333    0.600000  0.233333  0.116667  0.133333   \n",
       "\n",
       "       church      bank     store  ...  pharmacy  farmersmarket  foodtours  \\\n",
       "0    1.000000  0.200000  0.600000  ...       0.0            0.0        0.0   \n",
       "1    0.416667  0.250000  0.616667  ...       0.0            0.0        0.0   \n",
       "2    0.383333  0.066667  0.600000  ...       0.0            0.0        0.0   \n",
       "3    0.083333  0.400000  0.316667  ...       0.0            0.0        0.0   \n",
       "4    0.200000  0.383333  0.316667  ...       0.0            0.0        0.0   \n",
       "..        ...       ...       ...  ...       ...            ...        ...   \n",
       "301  0.616667  1.000000  1.000000  ...       0.0            0.0        0.0   \n",
       "302  0.333333  0.050000  0.550000  ...       0.0            0.0        0.0   \n",
       "303  0.300000  0.116667  0.566667  ...       0.0            0.0        0.0   \n",
       "304  0.416667  0.200000  0.600000  ...       0.0            0.0        0.0   \n",
       "305  0.500000  0.166667  0.833333  ...       0.0            0.0        0.0   \n",
       "\n",
       "     bowling  syrian  southafrican  eventservices  bookstores  homedecor  \\\n",
       "0        0.0     0.0           0.0            0.0         0.0        0.0   \n",
       "1        0.0     0.0           0.0            0.0         0.0        0.0   \n",
       "2        0.0     0.0           0.0            0.0         0.0        0.0   \n",
       "3        0.0     0.0           0.0            0.0         0.0        0.0   \n",
       "4        0.0     0.0           0.0            0.0         0.0        0.0   \n",
       "..       ...     ...           ...            ...         ...        ...   \n",
       "301      0.0     0.0           0.0            0.0         0.0        0.0   \n",
       "302      0.0     0.0           0.0            0.0         0.0        0.0   \n",
       "303      0.0     0.0           0.0            0.0         0.0        0.0   \n",
       "304      0.0     0.0           0.0            0.0         0.0        0.0   \n",
       "305      0.0     0.0           0.0            0.0         0.0        0.0   \n",
       "\n",
       "     diyfood  \n",
       "0        0.0  \n",
       "1        0.0  \n",
       "2        0.0  \n",
       "3        0.0  \n",
       "4        0.0  \n",
       "..       ...  \n",
       "301      0.0  \n",
       "302      0.0  \n",
       "303      0.0  \n",
       "304      0.0  \n",
       "305      0.0  \n",
       "\n",
       "[306 rows x 249 columns]"
      ]
     },
     "execution_count": 11,
     "metadata": {},
     "output_type": "execute_result"
    }
   ],
   "source": [
    "# robust scaler\n",
    "\n",
    "# scaling\n",
    "scaler = MinMaxScaler()\n",
    "main_features_scaled = pd.DataFrame(scaler.fit_transform(all_features), columns=all_features.columns)\n",
    "main_features_scaled"
   ]
  },
  {
   "cell_type": "code",
   "execution_count": 12,
   "metadata": {},
   "outputs": [],
   "source": [
    "# # scaling\n",
    "# scaler = StandardScaler()\n",
    "# features_scaled = pd.DataFrame(scaler.fit_transform(features), columns=features.columns)\n",
    "# features_scaled"
   ]
  },
  {
   "cell_type": "code",
   "execution_count": 13,
   "metadata": {},
   "outputs": [],
   "source": [
    "# Let's figure out the best value for eps\n",
    "neigh = NearestNeighbors(n_neighbors=2)\n",
    "nbrs = neigh.fit(main_features_scaled)\n",
    "\n",
    "distances, indices = nbrs.kneighbors(main_features_scaled)"
   ]
  },
  {
   "cell_type": "code",
   "execution_count": 14,
   "metadata": {},
   "outputs": [
    {
     "data": {
      "text/plain": [
       "[<matplotlib.lines.Line2D at 0x7fc6c0d24cd0>,\n",
       " <matplotlib.lines.Line2D at 0x7fc6c0d24c70>]"
      ]
     },
     "execution_count": 14,
     "metadata": {},
     "output_type": "execute_result"
    },
    {
     "data": {
      "image/png": "[encoded data removed]",
      "text/plain": [
       "<Figure size 432x288 with 1 Axes>"
      ]
     },
     "metadata": {},
     "output_type": "display_data"
    }
   ],
   "source": [
    "# plot it\n",
    "distances = np.sort(distances, axis=0)\n",
    "plt.plot(distances)"
   ]
  },
  {
   "cell_type": "code",
   "execution_count": 15,
   "metadata": {},
   "outputs": [],
   "source": [
    "# between 0.5 and 1.0 seems best\n",
    "dbscan = DBSCAN(\n",
    "    eps=1,\n",
    "    min_samples=5,\n",
    "    n_jobs=-1\n",
    ")"
   ]
  },
  {
   "cell_type": "code",
   "execution_count": 16,
   "metadata": {},
   "outputs": [
    {
     "data": {
      "text/plain": [
       "2"
      ]
     },
     "execution_count": 16,
     "metadata": {},
     "output_type": "execute_result"
    }
   ],
   "source": [
    "# fit and predict\n",
    "clusters = pd.Series(dbscan.fit_predict(main_features_scaled))\n",
    "clusters.nunique()"
   ]
  },
  {
   "cell_type": "markdown",
   "metadata": {},
   "source": [
    "# This isn't really working, let's try PCA"
   ]
  },
  {
   "cell_type": "code",
   "execution_count": 17,
   "metadata": {},
   "outputs": [
    {
     "data": {
      "text/html": [
       "<div>\n",
       "<style scoped>\n",
       "    .dataframe tbody tr th:only-of-type {\n",
       "        vertical-align: middle;\n",
       "    }\n",
       "\n",
       "    .dataframe tbody tr th {\n",
       "        vertical-align: top;\n",
       "    }\n",
       "\n",
       "    .dataframe thead th {\n",
       "        text-align: right;\n",
       "    }\n",
       "</style>\n",
       "<table border=\"1\" class=\"dataframe\">\n",
       "  <thead>\n",
       "    <tr style=\"text-align: right;\">\n",
       "      <th></th>\n",
       "      <th>longitude</th>\n",
       "      <th>latitude</th>\n",
       "      <th>lodging</th>\n",
       "      <th>restaurant</th>\n",
       "      <th>school</th>\n",
       "      <th>health</th>\n",
       "      <th>bar</th>\n",
       "      <th>church</th>\n",
       "      <th>bank</th>\n",
       "      <th>store</th>\n",
       "      <th>...</th>\n",
       "      <th>pharmacy</th>\n",
       "      <th>farmersmarket</th>\n",
       "      <th>foodtours</th>\n",
       "      <th>bowling</th>\n",
       "      <th>syrian</th>\n",
       "      <th>southafrican</th>\n",
       "      <th>eventservices</th>\n",
       "      <th>bookstores</th>\n",
       "      <th>homedecor</th>\n",
       "      <th>diyfood</th>\n",
       "    </tr>\n",
       "  </thead>\n",
       "  <tbody>\n",
       "    <tr>\n",
       "      <th>0</th>\n",
       "      <td>0.742705</td>\n",
       "      <td>0.965681</td>\n",
       "      <td>0.150000</td>\n",
       "      <td>0.916667</td>\n",
       "      <td>0.433333</td>\n",
       "      <td>0.216667</td>\n",
       "      <td>0.166667</td>\n",
       "      <td>1.000000</td>\n",
       "      <td>0.200000</td>\n",
       "      <td>0.600000</td>\n",
       "      <td>...</td>\n",
       "      <td>0.0</td>\n",
       "      <td>0.0</td>\n",
       "      <td>0.0</td>\n",
       "      <td>0.0</td>\n",
       "      <td>0.0</td>\n",
       "      <td>0.0</td>\n",
       "      <td>0.0</td>\n",
       "      <td>0.0</td>\n",
       "      <td>0.0</td>\n",
       "      <td>0.0</td>\n",
       "    </tr>\n",
       "    <tr>\n",
       "      <th>1</th>\n",
       "      <td>0.774806</td>\n",
       "      <td>0.915060</td>\n",
       "      <td>0.083333</td>\n",
       "      <td>0.650000</td>\n",
       "      <td>0.433333</td>\n",
       "      <td>0.116667</td>\n",
       "      <td>0.066667</td>\n",
       "      <td>0.416667</td>\n",
       "      <td>0.250000</td>\n",
       "      <td>0.616667</td>\n",
       "      <td>...</td>\n",
       "      <td>0.0</td>\n",
       "      <td>0.0</td>\n",
       "      <td>0.0</td>\n",
       "      <td>0.0</td>\n",
       "      <td>0.0</td>\n",
       "      <td>0.0</td>\n",
       "      <td>0.0</td>\n",
       "      <td>0.0</td>\n",
       "      <td>0.0</td>\n",
       "      <td>0.0</td>\n",
       "    </tr>\n",
       "    <tr>\n",
       "      <th>2</th>\n",
       "      <td>0.778772</td>\n",
       "      <td>0.947950</td>\n",
       "      <td>0.050000</td>\n",
       "      <td>0.550000</td>\n",
       "      <td>0.266667</td>\n",
       "      <td>0.050000</td>\n",
       "      <td>0.183333</td>\n",
       "      <td>0.383333</td>\n",
       "      <td>0.066667</td>\n",
       "      <td>0.600000</td>\n",
       "      <td>...</td>\n",
       "      <td>0.0</td>\n",
       "      <td>0.0</td>\n",
       "      <td>0.0</td>\n",
       "      <td>0.0</td>\n",
       "      <td>0.0</td>\n",
       "      <td>0.0</td>\n",
       "      <td>0.0</td>\n",
       "      <td>0.0</td>\n",
       "      <td>0.0</td>\n",
       "      <td>0.0</td>\n",
       "    </tr>\n",
       "    <tr>\n",
       "      <th>3</th>\n",
       "      <td>0.634020</td>\n",
       "      <td>0.967497</td>\n",
       "      <td>0.033333</td>\n",
       "      <td>0.900000</td>\n",
       "      <td>0.450000</td>\n",
       "      <td>0.116667</td>\n",
       "      <td>0.233333</td>\n",
       "      <td>0.083333</td>\n",
       "      <td>0.400000</td>\n",
       "      <td>0.316667</td>\n",
       "      <td>...</td>\n",
       "      <td>0.0</td>\n",
       "      <td>0.0</td>\n",
       "      <td>0.0</td>\n",
       "      <td>0.0</td>\n",
       "      <td>0.0</td>\n",
       "      <td>0.0</td>\n",
       "      <td>0.0</td>\n",
       "      <td>0.0</td>\n",
       "      <td>0.0</td>\n",
       "      <td>0.0</td>\n",
       "    </tr>\n",
       "    <tr>\n",
       "      <th>4</th>\n",
       "      <td>0.621109</td>\n",
       "      <td>0.956082</td>\n",
       "      <td>0.050000</td>\n",
       "      <td>0.333333</td>\n",
       "      <td>0.416667</td>\n",
       "      <td>0.150000</td>\n",
       "      <td>0.266667</td>\n",
       "      <td>0.200000</td>\n",
       "      <td>0.383333</td>\n",
       "      <td>0.316667</td>\n",
       "      <td>...</td>\n",
       "      <td>0.0</td>\n",
       "      <td>0.0</td>\n",
       "      <td>0.0</td>\n",
       "      <td>0.0</td>\n",
       "      <td>0.0</td>\n",
       "      <td>0.0</td>\n",
       "      <td>0.0</td>\n",
       "      <td>0.0</td>\n",
       "      <td>0.0</td>\n",
       "      <td>0.0</td>\n",
       "    </tr>\n",
       "    <tr>\n",
       "      <th>...</th>\n",
       "      <td>...</td>\n",
       "      <td>...</td>\n",
       "      <td>...</td>\n",
       "      <td>...</td>\n",
       "      <td>...</td>\n",
       "      <td>...</td>\n",
       "      <td>...</td>\n",
       "      <td>...</td>\n",
       "      <td>...</td>\n",
       "      <td>...</td>\n",
       "      <td>...</td>\n",
       "      <td>...</td>\n",
       "      <td>...</td>\n",
       "      <td>...</td>\n",
       "      <td>...</td>\n",
       "      <td>...</td>\n",
       "      <td>...</td>\n",
       "      <td>...</td>\n",
       "      <td>...</td>\n",
       "      <td>...</td>\n",
       "      <td>...</td>\n",
       "    </tr>\n",
       "    <tr>\n",
       "      <th>301</th>\n",
       "      <td>0.458337</td>\n",
       "      <td>0.623310</td>\n",
       "      <td>0.650000</td>\n",
       "      <td>1.000000</td>\n",
       "      <td>1.000000</td>\n",
       "      <td>0.333333</td>\n",
       "      <td>1.000000</td>\n",
       "      <td>0.616667</td>\n",
       "      <td>1.000000</td>\n",
       "      <td>1.000000</td>\n",
       "      <td>...</td>\n",
       "      <td>0.0</td>\n",
       "      <td>0.0</td>\n",
       "      <td>0.0</td>\n",
       "      <td>0.0</td>\n",
       "      <td>0.0</td>\n",
       "      <td>0.0</td>\n",
       "      <td>0.0</td>\n",
       "      <td>0.0</td>\n",
       "      <td>0.0</td>\n",
       "      <td>0.0</td>\n",
       "    </tr>\n",
       "    <tr>\n",
       "      <th>302</th>\n",
       "      <td>0.820199</td>\n",
       "      <td>0.203378</td>\n",
       "      <td>0.050000</td>\n",
       "      <td>0.733333</td>\n",
       "      <td>0.100000</td>\n",
       "      <td>0.150000</td>\n",
       "      <td>0.133333</td>\n",
       "      <td>0.333333</td>\n",
       "      <td>0.050000</td>\n",
       "      <td>0.550000</td>\n",
       "      <td>...</td>\n",
       "      <td>0.0</td>\n",
       "      <td>0.0</td>\n",
       "      <td>0.0</td>\n",
       "      <td>0.0</td>\n",
       "      <td>0.0</td>\n",
       "      <td>0.0</td>\n",
       "      <td>0.0</td>\n",
       "      <td>0.0</td>\n",
       "      <td>0.0</td>\n",
       "      <td>0.0</td>\n",
       "    </tr>\n",
       "    <tr>\n",
       "      <th>303</th>\n",
       "      <td>0.893773</td>\n",
       "      <td>0.262861</td>\n",
       "      <td>0.066667</td>\n",
       "      <td>0.533333</td>\n",
       "      <td>0.250000</td>\n",
       "      <td>0.100000</td>\n",
       "      <td>0.033333</td>\n",
       "      <td>0.300000</td>\n",
       "      <td>0.116667</td>\n",
       "      <td>0.566667</td>\n",
       "      <td>...</td>\n",
       "      <td>0.0</td>\n",
       "      <td>0.0</td>\n",
       "      <td>0.0</td>\n",
       "      <td>0.0</td>\n",
       "      <td>0.0</td>\n",
       "      <td>0.0</td>\n",
       "      <td>0.0</td>\n",
       "      <td>0.0</td>\n",
       "      <td>0.0</td>\n",
       "      <td>0.0</td>\n",
       "    </tr>\n",
       "    <tr>\n",
       "      <th>304</th>\n",
       "      <td>0.559654</td>\n",
       "      <td>0.621905</td>\n",
       "      <td>0.316667</td>\n",
       "      <td>0.983333</td>\n",
       "      <td>0.600000</td>\n",
       "      <td>0.166667</td>\n",
       "      <td>0.316667</td>\n",
       "      <td>0.416667</td>\n",
       "      <td>0.200000</td>\n",
       "      <td>0.600000</td>\n",
       "      <td>...</td>\n",
       "      <td>0.0</td>\n",
       "      <td>0.0</td>\n",
       "      <td>0.0</td>\n",
       "      <td>0.0</td>\n",
       "      <td>0.0</td>\n",
       "      <td>0.0</td>\n",
       "      <td>0.0</td>\n",
       "      <td>0.0</td>\n",
       "      <td>0.0</td>\n",
       "      <td>0.0</td>\n",
       "    </tr>\n",
       "    <tr>\n",
       "      <th>305</th>\n",
       "      <td>0.306533</td>\n",
       "      <td>0.277715</td>\n",
       "      <td>0.033333</td>\n",
       "      <td>0.600000</td>\n",
       "      <td>0.233333</td>\n",
       "      <td>0.116667</td>\n",
       "      <td>0.133333</td>\n",
       "      <td>0.500000</td>\n",
       "      <td>0.166667</td>\n",
       "      <td>0.833333</td>\n",
       "      <td>...</td>\n",
       "      <td>0.0</td>\n",
       "      <td>0.0</td>\n",
       "      <td>0.0</td>\n",
       "      <td>0.0</td>\n",
       "      <td>0.0</td>\n",
       "      <td>0.0</td>\n",
       "      <td>0.0</td>\n",
       "      <td>0.0</td>\n",
       "      <td>0.0</td>\n",
       "      <td>0.0</td>\n",
       "    </tr>\n",
       "  </tbody>\n",
       "</table>\n",
       "<p>306 rows × 249 columns</p>\n",
       "</div>"
      ],
      "text/plain": [
       "     longitude  latitude   lodging  restaurant    school    health       bar  \\\n",
       "0     0.742705  0.965681  0.150000    0.916667  0.433333  0.216667  0.166667   \n",
       "1     0.774806  0.915060  0.083333    0.650000  0.433333  0.116667  0.066667   \n",
       "2     0.778772  0.947950  0.050000    0.550000  0.266667  0.050000  0.183333   \n",
       "3     0.634020  0.967497  0.033333    0.900000  0.450000  0.116667  0.233333   \n",
       "4     0.621109  0.956082  0.050000    0.333333  0.416667  0.150000  0.266667   \n",
       "..         ...       ...       ...         ...       ...       ...       ...   \n",
       "301   0.458337  0.623310  0.650000    1.000000  1.000000  0.333333  1.000000   \n",
       "302   0.820199  0.203378  0.050000    0.733333  0.100000  0.150000  0.133333   \n",
       "303   0.893773  0.262861  0.066667    0.533333  0.250000  0.100000  0.033333   \n",
       "304   0.559654  0.621905  0.316667    0.983333  0.600000  0.166667  0.316667   \n",
       "305   0.306533  0.277715  0.033333    0.600000  0.233333  0.116667  0.133333   \n",
       "\n",
       "       church      bank     store  ...  pharmacy  farmersmarket  foodtours  \\\n",
       "0    1.000000  0.200000  0.600000  ...       0.0            0.0        0.0   \n",
       "1    0.416667  0.250000  0.616667  ...       0.0            0.0        0.0   \n",
       "2    0.383333  0.066667  0.600000  ...       0.0            0.0        0.0   \n",
       "3    0.083333  0.400000  0.316667  ...       0.0            0.0        0.0   \n",
       "4    0.200000  0.383333  0.316667  ...       0.0            0.0        0.0   \n",
       "..        ...       ...       ...  ...       ...            ...        ...   \n",
       "301  0.616667  1.000000  1.000000  ...       0.0            0.0        0.0   \n",
       "302  0.333333  0.050000  0.550000  ...       0.0            0.0        0.0   \n",
       "303  0.300000  0.116667  0.566667  ...       0.0            0.0        0.0   \n",
       "304  0.416667  0.200000  0.600000  ...       0.0            0.0        0.0   \n",
       "305  0.500000  0.166667  0.833333  ...       0.0            0.0        0.0   \n",
       "\n",
       "     bowling  syrian  southafrican  eventservices  bookstores  homedecor  \\\n",
       "0        0.0     0.0           0.0            0.0         0.0        0.0   \n",
       "1        0.0     0.0           0.0            0.0         0.0        0.0   \n",
       "2        0.0     0.0           0.0            0.0         0.0        0.0   \n",
       "3        0.0     0.0           0.0            0.0         0.0        0.0   \n",
       "4        0.0     0.0           0.0            0.0         0.0        0.0   \n",
       "..       ...     ...           ...            ...         ...        ...   \n",
       "301      0.0     0.0           0.0            0.0         0.0        0.0   \n",
       "302      0.0     0.0           0.0            0.0         0.0        0.0   \n",
       "303      0.0     0.0           0.0            0.0         0.0        0.0   \n",
       "304      0.0     0.0           0.0            0.0         0.0        0.0   \n",
       "305      0.0     0.0           0.0            0.0         0.0        0.0   \n",
       "\n",
       "     diyfood  \n",
       "0        0.0  \n",
       "1        0.0  \n",
       "2        0.0  \n",
       "3        0.0  \n",
       "4        0.0  \n",
       "..       ...  \n",
       "301      0.0  \n",
       "302      0.0  \n",
       "303      0.0  \n",
       "304      0.0  \n",
       "305      0.0  \n",
       "\n",
       "[306 rows x 249 columns]"
      ]
     },
     "execution_count": 17,
     "metadata": {},
     "output_type": "execute_result"
    }
   ],
   "source": [
    "# remove restaurant count\n",
    "main_features_scaled"
   ]
  },
  {
   "cell_type": "code",
   "execution_count": 18,
   "metadata": {},
   "outputs": [
    {
     "data": {
      "text/plain": [
       "Text(0, 0.5, 'Variance Explained')"
      ]
     },
     "execution_count": 18,
     "metadata": {},
     "output_type": "execute_result"
    },
    {
     "data": {
      "image/png": "[encoded data removed]",
      "text/plain": [
       "<Figure size 432x288 with 1 Axes>"
      ]
     },
     "metadata": {},
     "output_type": "display_data"
    }
   ],
   "source": [
    "# How many PCs do we want?\n",
    "\n",
    "pca = PCA(n_components=10)\n",
    "pca_fit = pca.fit(main_features_scaled)\n",
    "pca_fit\n",
    "\n",
    "PC_values = np.arange(pca.n_components_) + 1\n",
    "PC_values\n",
    "\n",
    "plt.plot(PC_values, pca.explained_variance_ratio_, 'o-')\n",
    "plt.title('Scree Plot')\n",
    "plt.xlabel('Principal Component')\n",
    "plt.ylabel('Variance Explained')"
   ]
  },
  {
   "cell_type": "code",
   "execution_count": 19,
   "metadata": {},
   "outputs": [
    {
     "data": {
      "text/html": [
       "<div>\n",
       "<style scoped>\n",
       "    .dataframe tbody tr th:only-of-type {\n",
       "        vertical-align: middle;\n",
       "    }\n",
       "\n",
       "    .dataframe tbody tr th {\n",
       "        vertical-align: top;\n",
       "    }\n",
       "\n",
       "    .dataframe thead th {\n",
       "        text-align: right;\n",
       "    }\n",
       "</style>\n",
       "<table border=\"1\" class=\"dataframe\">\n",
       "  <thead>\n",
       "    <tr style=\"text-align: right;\">\n",
       "      <th></th>\n",
       "      <th>PC1</th>\n",
       "      <th>PC2</th>\n",
       "      <th>PC3</th>\n",
       "      <th>PC4</th>\n",
       "      <th>PC5</th>\n",
       "    </tr>\n",
       "  </thead>\n",
       "  <tbody>\n",
       "    <tr>\n",
       "      <th>0</th>\n",
       "      <td>-0.299939</td>\n",
       "      <td>0.806300</td>\n",
       "      <td>-0.274681</td>\n",
       "      <td>-0.278856</td>\n",
       "      <td>0.470470</td>\n",
       "    </tr>\n",
       "    <tr>\n",
       "      <th>1</th>\n",
       "      <td>-0.518157</td>\n",
       "      <td>0.534939</td>\n",
       "      <td>-0.132881</td>\n",
       "      <td>0.076055</td>\n",
       "      <td>0.229458</td>\n",
       "    </tr>\n",
       "    <tr>\n",
       "      <th>2</th>\n",
       "      <td>-0.538953</td>\n",
       "      <td>0.445996</td>\n",
       "      <td>-0.109848</td>\n",
       "      <td>-0.220285</td>\n",
       "      <td>0.161621</td>\n",
       "    </tr>\n",
       "    <tr>\n",
       "      <th>3</th>\n",
       "      <td>-0.538112</td>\n",
       "      <td>-0.179316</td>\n",
       "      <td>0.133599</td>\n",
       "      <td>-0.266408</td>\n",
       "      <td>-0.334315</td>\n",
       "    </tr>\n",
       "    <tr>\n",
       "      <th>4</th>\n",
       "      <td>-0.516148</td>\n",
       "      <td>-0.017691</td>\n",
       "      <td>0.358770</td>\n",
       "      <td>-0.114687</td>\n",
       "      <td>-0.521047</td>\n",
       "    </tr>\n",
       "    <tr>\n",
       "      <th>...</th>\n",
       "      <td>...</td>\n",
       "      <td>...</td>\n",
       "      <td>...</td>\n",
       "      <td>...</td>\n",
       "      <td>...</td>\n",
       "    </tr>\n",
       "    <tr>\n",
       "      <th>301</th>\n",
       "      <td>1.916515</td>\n",
       "      <td>-0.732110</td>\n",
       "      <td>-0.089891</td>\n",
       "      <td>-0.048235</td>\n",
       "      <td>-0.155765</td>\n",
       "    </tr>\n",
       "    <tr>\n",
       "      <th>302</th>\n",
       "      <td>-0.552061</td>\n",
       "      <td>-0.352613</td>\n",
       "      <td>-0.136091</td>\n",
       "      <td>-0.256063</td>\n",
       "      <td>-0.092412</td>\n",
       "    </tr>\n",
       "    <tr>\n",
       "      <th>303</th>\n",
       "      <td>-0.866517</td>\n",
       "      <td>-0.302152</td>\n",
       "      <td>-0.561784</td>\n",
       "      <td>0.132420</td>\n",
       "      <td>0.002640</td>\n",
       "    </tr>\n",
       "    <tr>\n",
       "      <th>304</th>\n",
       "      <td>0.245570</td>\n",
       "      <td>0.018321</td>\n",
       "      <td>0.171835</td>\n",
       "      <td>-0.433437</td>\n",
       "      <td>0.075521</td>\n",
       "    </tr>\n",
       "    <tr>\n",
       "      <th>305</th>\n",
       "      <td>-0.664190</td>\n",
       "      <td>-0.014266</td>\n",
       "      <td>-0.238167</td>\n",
       "      <td>0.107134</td>\n",
       "      <td>0.329229</td>\n",
       "    </tr>\n",
       "  </tbody>\n",
       "</table>\n",
       "<p>306 rows × 5 columns</p>\n",
       "</div>"
      ],
      "text/plain": [
       "          PC1       PC2       PC3       PC4       PC5\n",
       "0   -0.299939  0.806300 -0.274681 -0.278856  0.470470\n",
       "1   -0.518157  0.534939 -0.132881  0.076055  0.229458\n",
       "2   -0.538953  0.445996 -0.109848 -0.220285  0.161621\n",
       "3   -0.538112 -0.179316  0.133599 -0.266408 -0.334315\n",
       "4   -0.516148 -0.017691  0.358770 -0.114687 -0.521047\n",
       "..        ...       ...       ...       ...       ...\n",
       "301  1.916515 -0.732110 -0.089891 -0.048235 -0.155765\n",
       "302 -0.552061 -0.352613 -0.136091 -0.256063 -0.092412\n",
       "303 -0.866517 -0.302152 -0.561784  0.132420  0.002640\n",
       "304  0.245570  0.018321  0.171835 -0.433437  0.075521\n",
       "305 -0.664190 -0.014266 -0.238167  0.107134  0.329229\n",
       "\n",
       "[306 rows x 5 columns]"
      ]
     },
     "execution_count": 19,
     "metadata": {},
     "output_type": "execute_result"
    }
   ],
   "source": [
    "# # 3 is the ideal PCA\n",
    "# pca = PCA(n_components=3)\n",
    "# features_pca = pd.DataFrame(pca.fit_transform(main_features_scaled), columns=['PC1','PC2','PC3'])\n",
    "# features_pca\n",
    "\n",
    "# Let's try 5\n",
    "pca = PCA(n_components=5)\n",
    "features_pca = pd.DataFrame(pca.fit_transform(main_features_scaled), columns=['PC1','PC2','PC3','PC4','PC5'])\n",
    "features_pca"
   ]
  },
  {
   "cell_type": "code",
   "execution_count": 20,
   "metadata": {},
   "outputs": [
    {
     "data": {
      "text/plain": [
       "[<matplotlib.lines.Line2D at 0x7fc6c631dac0>,\n",
       " <matplotlib.lines.Line2D at 0x7fc6c631db20>]"
      ]
     },
     "execution_count": 20,
     "metadata": {},
     "output_type": "execute_result"
    },
    {
     "data": {
      "image/png": "[encoded data removed]",
      "text/plain": [
       "<Figure size 432x288 with 1 Axes>"
      ]
     },
     "metadata": {},
     "output_type": "display_data"
    }
   ],
   "source": [
    "# Let's figure out the best value for eps\n",
    "neigh = NearestNeighbors(n_neighbors=2)\n",
    "nbrs = neigh.fit(features_pca)\n",
    "\n",
    "distances, indices = nbrs.kneighbors(features_pca)\n",
    "\n",
    "# plot it\n",
    "distances = np.sort(distances, axis=0)\n",
    "plt.plot(distances)"
   ]
  },
  {
   "cell_type": "code",
   "execution_count": 37,
   "metadata": {},
   "outputs": [],
   "source": [
    "dbscan = DBSCAN(\n",
    "    eps=.48,\n",
    "    min_samples=6,\n",
    "    n_jobs=-1\n",
    ")"
   ]
  },
  {
   "cell_type": "code",
   "execution_count": 38,
   "metadata": {},
   "outputs": [
    {
     "data": {
      "text/plain": [
       "6"
      ]
     },
     "execution_count": 38,
     "metadata": {},
     "output_type": "execute_result"
    }
   ],
   "source": [
    "# fit and predict\n",
    "clusters = pd.Series(dbscan.fit_predict(features_pca))\n",
    "clusters.nunique()"
   ]
  },
  {
   "cell_type": "code",
   "execution_count": 39,
   "metadata": {},
   "outputs": [],
   "source": [
    "# add back geo info and clusters\n",
    "clustered_pca = pd.concat([geo_info, features_pca, clusters], axis=1)\n",
    "clustered_pca = clustered_pca.rename(columns={0:'cluster'})"
   ]
  },
  {
   "cell_type": "code",
   "execution_count": 40,
   "metadata": {},
   "outputs": [
    {
     "data": {
      "text/html": [
       "<div>\n",
       "<style scoped>\n",
       "    .dataframe tbody tr th:only-of-type {\n",
       "        vertical-align: middle;\n",
       "    }\n",
       "\n",
       "    .dataframe tbody tr th {\n",
       "        vertical-align: top;\n",
       "    }\n",
       "\n",
       "    .dataframe thead th {\n",
       "        text-align: right;\n",
       "    }\n",
       "</style>\n",
       "<table border=\"1\" class=\"dataframe\">\n",
       "  <thead>\n",
       "    <tr style=\"text-align: right;\">\n",
       "      <th></th>\n",
       "      <th>borough</th>\n",
       "      <th>neighborhood</th>\n",
       "      <th>longitude</th>\n",
       "      <th>latitude</th>\n",
       "      <th>population</th>\n",
       "      <th>PC1</th>\n",
       "      <th>PC2</th>\n",
       "      <th>PC3</th>\n",
       "      <th>PC4</th>\n",
       "      <th>PC5</th>\n",
       "      <th>cluster</th>\n",
       "    </tr>\n",
       "  </thead>\n",
       "  <tbody>\n",
       "    <tr>\n",
       "      <th>0</th>\n",
       "      <td>Bronx</td>\n",
       "      <td>Wakefield</td>\n",
       "      <td>-73.847201</td>\n",
       "      <td>40.894705</td>\n",
       "      <td>21242.0</td>\n",
       "      <td>-0.299939</td>\n",
       "      <td>0.806300</td>\n",
       "      <td>-0.274681</td>\n",
       "      <td>-0.278856</td>\n",
       "      <td>0.470470</td>\n",
       "      <td>-1</td>\n",
       "    </tr>\n",
       "    <tr>\n",
       "      <th>1</th>\n",
       "      <td>Bronx</td>\n",
       "      <td>Co-op City</td>\n",
       "      <td>-73.829939</td>\n",
       "      <td>40.874294</td>\n",
       "      <td>43752.0</td>\n",
       "      <td>-0.518157</td>\n",
       "      <td>0.534939</td>\n",
       "      <td>-0.132881</td>\n",
       "      <td>0.076055</td>\n",
       "      <td>0.229458</td>\n",
       "      <td>0</td>\n",
       "    </tr>\n",
       "    <tr>\n",
       "      <th>2</th>\n",
       "      <td>Bronx</td>\n",
       "      <td>Eastchester</td>\n",
       "      <td>-73.827806</td>\n",
       "      <td>40.887556</td>\n",
       "      <td>11506.0</td>\n",
       "      <td>-0.538953</td>\n",
       "      <td>0.445996</td>\n",
       "      <td>-0.109848</td>\n",
       "      <td>-0.220285</td>\n",
       "      <td>0.161621</td>\n",
       "      <td>0</td>\n",
       "    </tr>\n",
       "    <tr>\n",
       "      <th>3</th>\n",
       "      <td>Bronx</td>\n",
       "      <td>Fieldston</td>\n",
       "      <td>-73.905643</td>\n",
       "      <td>40.895437</td>\n",
       "      <td>9287.0</td>\n",
       "      <td>-0.538112</td>\n",
       "      <td>-0.179316</td>\n",
       "      <td>0.133599</td>\n",
       "      <td>-0.266408</td>\n",
       "      <td>-0.334315</td>\n",
       "      <td>0</td>\n",
       "    </tr>\n",
       "    <tr>\n",
       "      <th>4</th>\n",
       "      <td>Bronx</td>\n",
       "      <td>Riverdale</td>\n",
       "      <td>-73.912585</td>\n",
       "      <td>40.890834</td>\n",
       "      <td>9287.0</td>\n",
       "      <td>-0.516148</td>\n",
       "      <td>-0.017691</td>\n",
       "      <td>0.358770</td>\n",
       "      <td>-0.114687</td>\n",
       "      <td>-0.521047</td>\n",
       "      <td>0</td>\n",
       "    </tr>\n",
       "    <tr>\n",
       "      <th>...</th>\n",
       "      <td>...</td>\n",
       "      <td>...</td>\n",
       "      <td>...</td>\n",
       "      <td>...</td>\n",
       "      <td>...</td>\n",
       "      <td>...</td>\n",
       "      <td>...</td>\n",
       "      <td>...</td>\n",
       "      <td>...</td>\n",
       "      <td>...</td>\n",
       "      <td>...</td>\n",
       "    </tr>\n",
       "    <tr>\n",
       "      <th>301</th>\n",
       "      <td>Manhattan</td>\n",
       "      <td>Hudson Yards</td>\n",
       "      <td>-74.000111</td>\n",
       "      <td>40.756658</td>\n",
       "      <td>23383.0</td>\n",
       "      <td>1.916515</td>\n",
       "      <td>-0.732110</td>\n",
       "      <td>-0.089891</td>\n",
       "      <td>-0.048235</td>\n",
       "      <td>-0.155765</td>\n",
       "      <td>4</td>\n",
       "    </tr>\n",
       "    <tr>\n",
       "      <th>302</th>\n",
       "      <td>Queens</td>\n",
       "      <td>Hammels</td>\n",
       "      <td>-73.805530</td>\n",
       "      <td>40.587338</td>\n",
       "      <td>12295.0</td>\n",
       "      <td>-0.552061</td>\n",
       "      <td>-0.352613</td>\n",
       "      <td>-0.136091</td>\n",
       "      <td>-0.256063</td>\n",
       "      <td>-0.092412</td>\n",
       "      <td>0</td>\n",
       "    </tr>\n",
       "    <tr>\n",
       "      <th>303</th>\n",
       "      <td>Queens</td>\n",
       "      <td>Bayswater</td>\n",
       "      <td>-73.765968</td>\n",
       "      <td>40.611322</td>\n",
       "      <td>25029.0</td>\n",
       "      <td>-0.866517</td>\n",
       "      <td>-0.302152</td>\n",
       "      <td>-0.561784</td>\n",
       "      <td>0.132420</td>\n",
       "      <td>0.002640</td>\n",
       "      <td>0</td>\n",
       "    </tr>\n",
       "    <tr>\n",
       "      <th>304</th>\n",
       "      <td>Queens</td>\n",
       "      <td>Queensbridge</td>\n",
       "      <td>-73.945631</td>\n",
       "      <td>40.756091</td>\n",
       "      <td>6677.0</td>\n",
       "      <td>0.245570</td>\n",
       "      <td>0.018321</td>\n",
       "      <td>0.171835</td>\n",
       "      <td>-0.433437</td>\n",
       "      <td>0.075521</td>\n",
       "      <td>2</td>\n",
       "    </tr>\n",
       "    <tr>\n",
       "      <th>305</th>\n",
       "      <td>Staten Island</td>\n",
       "      <td>Fox Hills</td>\n",
       "      <td>-74.081740</td>\n",
       "      <td>40.617311</td>\n",
       "      <td>11230.0</td>\n",
       "      <td>-0.664190</td>\n",
       "      <td>-0.014266</td>\n",
       "      <td>-0.238167</td>\n",
       "      <td>0.107134</td>\n",
       "      <td>0.329229</td>\n",
       "      <td>0</td>\n",
       "    </tr>\n",
       "  </tbody>\n",
       "</table>\n",
       "<p>306 rows × 11 columns</p>\n",
       "</div>"
      ],
      "text/plain": [
       "           borough  neighborhood  longitude   latitude  population       PC1  \\\n",
       "0            Bronx     Wakefield -73.847201  40.894705     21242.0 -0.299939   \n",
       "1            Bronx    Co-op City -73.829939  40.874294     43752.0 -0.518157   \n",
       "2            Bronx   Eastchester -73.827806  40.887556     11506.0 -0.538953   \n",
       "3            Bronx     Fieldston -73.905643  40.895437      9287.0 -0.538112   \n",
       "4            Bronx     Riverdale -73.912585  40.890834      9287.0 -0.516148   \n",
       "..             ...           ...        ...        ...         ...       ...   \n",
       "301      Manhattan  Hudson Yards -74.000111  40.756658     23383.0  1.916515   \n",
       "302         Queens       Hammels -73.805530  40.587338     12295.0 -0.552061   \n",
       "303         Queens     Bayswater -73.765968  40.611322     25029.0 -0.866517   \n",
       "304         Queens  Queensbridge -73.945631  40.756091      6677.0  0.245570   \n",
       "305  Staten Island     Fox Hills -74.081740  40.617311     11230.0 -0.664190   \n",
       "\n",
       "          PC2       PC3       PC4       PC5  cluster  \n",
       "0    0.806300 -0.274681 -0.278856  0.470470       -1  \n",
       "1    0.534939 -0.132881  0.076055  0.229458        0  \n",
       "2    0.445996 -0.109848 -0.220285  0.161621        0  \n",
       "3   -0.179316  0.133599 -0.266408 -0.334315        0  \n",
       "4   -0.017691  0.358770 -0.114687 -0.521047        0  \n",
       "..        ...       ...       ...       ...      ...  \n",
       "301 -0.732110 -0.089891 -0.048235 -0.155765        4  \n",
       "302 -0.352613 -0.136091 -0.256063 -0.092412        0  \n",
       "303 -0.302152 -0.561784  0.132420  0.002640        0  \n",
       "304  0.018321  0.171835 -0.433437  0.075521        2  \n",
       "305 -0.014266 -0.238167  0.107134  0.329229        0  \n",
       "\n",
       "[306 rows x 11 columns]"
      ]
     },
     "execution_count": 40,
     "metadata": {},
     "output_type": "execute_result"
    }
   ],
   "source": [
    "clustered_pca"
   ]
  },
  {
   "cell_type": "code",
   "execution_count": 41,
   "metadata": {},
   "outputs": [],
   "source": [
    "# export for evaluation\n",
    "clustered_pca.to_csv('../data/evaluation_data/dbscan_v3_clusters.csv')"
   ]
  },
  {
   "cell_type": "code",
   "execution_count": 26,
   "metadata": {},
   "outputs": [],
   "source": [
    "def DBSCANplot(data=features_pca, eps=2, min_samples=3, map_plot=True):\n",
    "    dbscan = DBSCAN(\n",
    "    eps=eps,\n",
    "    min_samples=min_samples,\n",
    "    n_jobs=-1\n",
    "    )\n",
    "    \n",
    "    # fit and predict\n",
    "    clusters = pd.Series(dbscan.fit_predict(data))\n",
    "    print(clusters.nunique())\n",
    "\n",
    "    # add back geo info and clusters\n",
    "    clustered_pca = pd.concat([geo_info, features_pca, clusters], axis=1)\n",
    "    clustered_pca = clustered_pca.rename(columns={0:'cluster'})\n",
    "\n",
    "    print(clustered_pca.groupby('cluster').count())\n",
    "    if map_plot:\n",
    "        map_scatter(clustered_pca)\n",
    "\n",
    "\n",
    "    # reduce to 3D for graphing\n",
    "    pca = PCA(n_components=2)\n",
    "    graph_pca = pd.DataFrame(pca.fit_transform(main_features_scaled), columns=['PC1','PC2'])\n",
    "    graph_pca = pd.concat([graph_pca,clusters], axis=1)\n",
    "    graph_pca = graph_pca.rename(columns={0:'cluster'})\n",
    "\n",
    "\n",
    "    fig = px.scatter(graph_pca, x='PC1', y='PC2',\n",
    "              color='cluster')\n",
    "    fig.show()"
   ]
  },
  {
   "cell_type": "code",
   "execution_count": 27,
   "metadata": {},
   "outputs": [
    {
     "data": {
      "text/plain": [
       "[<matplotlib.lines.Line2D at 0x7fc6c6439130>,\n",
       " <matplotlib.lines.Line2D at 0x7fc6c6439190>]"
      ]
     },
     "execution_count": 27,
     "metadata": {},
     "output_type": "execute_result"
    },
    {
     "data": {
      "image/png": "[encoded data removed]",
      "text/plain": [
       "<Figure size 432x288 with 1 Axes>"
      ]
     },
     "metadata": {},
     "output_type": "display_data"
    }
   ],
   "source": [
    "# Let's figure out the best value for eps\n",
    "neigh = NearestNeighbors(n_neighbors=2)\n",
    "nbrs = neigh.fit(features_pca)\n",
    "\n",
    "distances, indices = nbrs.kneighbors(features_pca)\n",
    "\n",
    "# plot it\n",
    "distances = np.sort(distances, axis=0)\n",
    "plt.plot(distances)"
   ]
  },
  {
   "cell_type": "code",
   "execution_count": 35,
   "metadata": {},
   "outputs": [],
   "source": [
    "# Define variable options\n",
    "eps_options = np.arange(.48,.51,1)\n",
    "min_options = np.arange(2,10,1)"
   ]
  },
  {
   "cell_type": "code",
   "execution_count": 36,
   "metadata": {},
   "outputs": [
    {
     "name": "stdout",
     "output_type": "stream",
     "text": [
      "eps:0.48\n",
      "min:2\n",
      "11\n",
      "         borough  neighborhood  longitude  latitude  population  PC1  PC2  \\\n",
      "cluster                                                                     \n",
      "-1            33            33         33        33          33   33   33   \n",
      " 0             3             3          3         3           3    3    3   \n",
      " 1           232           232        232       232         232  232  232   \n",
      " 2             2             2          2         2           2    2    2   \n",
      " 3             2             2          2         2           2    2    2   \n",
      " 4             3             3          3         3           3    3    3   \n",
      " 5             2             2          2         2           2    2    2   \n",
      " 6             2             2          2         2           2    2    2   \n",
      " 7            23            23         23        23          23   23   23   \n",
      " 8             2             2          2         2           2    2    2   \n",
      " 9             2             2          2         2           2    2    2   \n",
      "\n",
      "         PC3  PC4  PC5  \n",
      "cluster                 \n",
      "-1        33   33   33  \n",
      " 0         3    3    3  \n",
      " 1       232  232  232  \n",
      " 2         2    2    2  \n",
      " 3         2    2    2  \n",
      " 4         3    3    3  \n",
      " 5         2    2    2  \n",
      " 6         2    2    2  \n",
      " 7        23   23   23  \n",
      " 8         2    2    2  \n",
      " 9         2    2    2  \n"
     ]
    },
    {
     "data": {
      "application/vnd.plotly.v1+json": {
       "config": {
        "plotlyServerURL": "https://plot.ly"
       },
       "data": [
        {
         "hovertemplate": "PC1=%{x}<br>PC2=%{y}<br>cluster=%{marker.color}<extra></extra>",
         "legendgroup": "",
         "marker": {
          "color": [
           0,
           1,
           1,
           1,
           1,
           -1,
           -1,
           1,
           1,
           1,
           1,
           1,
           1,
           1,
           1,
           1,
           2,
           1,
           1,
           1,
           1,
           1,
           1,
           1,
           1,
           1,
           0,
           1,
           1,
           1,
           1,
           1,
           1,
           1,
           -1,
           1,
           1,
           1,
           1,
           1,
           1,
           1,
           1,
           1,
           1,
           0,
           1,
           -1,
           -1,
           -1,
           1,
           1,
           1,
           -1,
           1,
           -1,
           1,
           1,
           -1,
           1,
           3,
           1,
           -1,
           4,
           1,
           1,
           1,
           1,
           -1,
           1,
           1,
           5,
           1,
           1,
           1,
           1,
           1,
           1,
           1,
           -1,
           1,
           1,
           1,
           6,
           1,
           1,
           1,
           7,
           1,
           1,
           -1,
           1,
           1,
           1,
           1,
           -1,
           -1,
           1,
           1,
           1,
           8,
           -1,
           -1,
           4,
           4,
           -1,
           -1,
           7,
           1,
           7,
           1,
           1,
           1,
           7,
           7,
           7,
           7,
           7,
           7,
           7,
           7,
           8,
           7,
           -1,
           1,
           1,
           7,
           7,
           7,
           1,
           1,
           2,
           -1,
           1,
           1,
           1,
           1,
           1,
           -1,
           1,
           1,
           5,
           1,
           1,
           1,
           1,
           -1,
           1,
           1,
           1,
           1,
           1,
           1,
           1,
           1,
           1,
           6,
           1,
           1,
           -1,
           -1,
           1,
           1,
           1,
           1,
           1,
           1,
           1,
           1,
           1,
           1,
           1,
           1,
           1,
           1,
           1,
           1,
           1,
           1,
           1,
           -1,
           1,
           1,
           1,
           -1,
           1,
           1,
           1,
           1,
           -1,
           1,
           1,
           1,
           1,
           1,
           1,
           1,
           1,
           1,
           1,
           1,
           1,
           1,
           1,
           1,
           1,
           1,
           1,
           1,
           1,
           1,
           1,
           1,
           1,
           1,
           1,
           1,
           1,
           1,
           1,
           1,
           1,
           -1,
           3,
           1,
           1,
           1,
           1,
           1,
           1,
           1,
           1,
           1,
           1,
           1,
           1,
           1,
           1,
           1,
           1,
           1,
           1,
           1,
           1,
           1,
           1,
           1,
           1,
           7,
           7,
           7,
           1,
           1,
           1,
           1,
           1,
           1,
           1,
           1,
           -1,
           1,
           1,
           1,
           -1,
           1,
           1,
           1,
           1,
           1,
           1,
           1,
           7,
           -1,
           7,
           7,
           1,
           7,
           1,
           1,
           1,
           9,
           1,
           1,
           9,
           1,
           1,
           1,
           1,
           1,
           1,
           1,
           1,
           1,
           1,
           1,
           -1,
           1,
           1,
           1,
           1,
           1,
           7,
           1,
           1,
           1,
           1
          ],
          "coloraxis": "coloraxis",
          "symbol": "circle"
         },
         "mode": "markers",
         "name": "",
         "orientation": "v",
         "showlegend": false,
         "type": "scatter",
         "x": [
          -0.2999392354396995,
          -0.5181567708027076,
          -0.5389529254485282,
          -0.538111552554458,
          -0.516147602315639,
          0.46436840244932165,
          0.45352076282083575,
          -0.36327500134531987,
          0.04290603085482082,
          -0.13461435110212733,
          -0.4021395629348593,
          -0.13263860935977162,
          -0.9483488226574535,
          0.4074897950783606,
          0.5755622369262103,
          0.4674770541294375,
          1.0962259089896498,
          0.06685585748113411,
          0.2778291084640352,
          0.7242728941962615,
          0.2918559862072228,
          0.3980223461832242,
          -0.3848464860122922,
          -0.014177861706992366,
          -0.9552179762738815,
          0.4053671312191602,
          -0.2559588648471157,
          -1.165877009943115,
          -1.123375288912157,
          -0.6682835524122395,
          0.44047777141560857,
          0.04834022053030687,
          0.18681620011700503,
          -0.12929955851795105,
          0.7926923362590205,
          -0.1882807513299356,
          -0.7190695415655564,
          -0.5011519532650851,
          -0.5933321056281312,
          -0.8164408217059835,
          -0.6518866033230457,
          -0.15836603627267384,
          -0.6887001045380412,
          0.6232455811904835,
          0.2706131565114359,
          -0.2071280008458385,
          0.5677760170889561,
          0.4245282417662995,
          0.732062723687729,
          0.6647666160441524,
          -0.378894367925141,
          0.11331680105654329,
          0.142877082087975,
          0.2632720089673174,
          0.4831505169580193,
          1.0005011370457608,
          -0.009630308343033559,
          0.2695181763843945,
          0.23981404950292573,
          1.2438990294991203,
          0.12527502179245878,
          1.4755149046700555,
          1.138193032280503,
          1.0793748522987965,
          1.2195699562132947,
          1.3847052739269194,
          1.2912653987621434,
          -0.682811717914585,
          0.663631218340794,
          1.358342087824533,
          1.1856016916134868,
          -0.252778598793644,
          -0.006656674233660172,
          -0.841890486218964,
          -0.6430458770964462,
          -0.4365305003620773,
          -1.1224678795253045,
          -0.1388711206074483,
          -0.48034423639408136,
          0.11468942196092147,
          0.20418279961275473,
          0.33166584407063376,
          -0.8933655040828606,
          -0.2901670903642142,
          1.098767249838175,
          -1.2918134088644488,
          1.5246429037063425,
          1.9910611771883795,
          0.8401309794319323,
          0.33847176321781003,
          0.1957535097812927,
          -1.3755622666980964,
          0.22616411597253527,
          0.5151905018672949,
          -0.49922104036443843,
          1.1818386941391135,
          1.3017672782590088,
          1.5691723592542213,
          0.0721695713439749,
          0.07695090884878672,
          2.022009337706604,
          0.8372956790584203,
          0.6792680364483404,
          1.0436176101307042,
          1.129176764730745,
          1.2963415173711779,
          1.0937694175631123,
          1.7095781838571862,
          1.664751256357031,
          1.7319753122188069,
          0.53075277508637,
          1.3780563005591284,
          1.522390516442774,
          2.171819140053922,
          2.579792781075722,
          2.4050923519676446,
          2.121897541368075,
          2.01551488518807,
          1.7836424743897554,
          1.7050711658750761,
          2.0232344874056816,
          2.205680687495938,
          2.1715116241664383,
          1.5835690324135638,
          1.0656490790447863,
          0.8449220416723394,
          1.9274303799611379,
          1.8424003400772775,
          2.0090349724392573,
          1.3125009630585187,
          0.8255673291381561,
          1.2400133851911501,
          1.3418010110571237,
          -0.9548712423275117,
          0.28051516243332686,
          0.45589960495084303,
          -0.04180753981802375,
          -0.043454082322605635,
          1.1382596128222702,
          0.5358606324571142,
          0.035464794515611416,
          -0.22994680784223304,
          -0.5647312521852714,
          0.622162642316137,
          -0.8921332540665712,
          0.4934773707581297,
          0.33583190890043985,
          0.0014838290646109343,
          -0.4765564490982787,
          -0.8448059378525163,
          -0.7033879883662709,
          -0.05711951422719375,
          0.01890778608226496,
          -0.5438246284401622,
          -0.6419414770535792,
          -0.9033013766285666,
          -0.6373854809111569,
          -0.4565410805689251,
          -0.5730667974493526,
          0.13838462583574498,
          0.7028844179449769,
          -0.8310735558464718,
          -0.6803916826523227,
          -0.6639812987716027,
          0.18182383438444333,
          -0.5975522904980415,
          -0.6803529798702498,
          -0.9000858945038492,
          -0.8695655035076317,
          -0.901315538504906,
          -0.3101310245623727,
          -1.4024391299408305,
          -1.3836611538878454,
          0.24300737165451552,
          -0.865735067860948,
          -1.1343893595241143,
          -1.1831269951009487,
          -1.0774637307442498,
          -0.2302240588318395,
          -1.3643437993340608,
          0.1946894575213927,
          -0.6657633126769088,
          -0.9526624848903337,
          -0.24938306614677389,
          -0.546233901638181,
          -0.6581461694961046,
          0.9847529679272189,
          -0.8477465986250363,
          -0.6081684833910217,
          0.2827774014347927,
          -1.3024974168783492,
          -0.7678514830652007,
          -1.1206671649331457,
          -1.208669516100077,
          -1.1747656914848847,
          0.11738470018073716,
          0.6631359976059288,
          -0.3757918696780955,
          -0.09904119415014753,
          -0.22170254223361455,
          -0.7964968798506339,
          -0.7813598390769764,
          -0.5760780444236835,
          -1.2465716026538567,
          -1.2733919839582715,
          -0.06641260338746098,
          -0.6429277864815851,
          -1.3476147622158514,
          -1.0383378118215698,
          -1.1439425381498158,
          -1.3163852637328892,
          -0.2401620319660303,
          -1.0985370437572568,
          -0.6859331897246643,
          -0.8000054116940196,
          -1.1716224595484603,
          -1.2459616007084795,
          -1.183120955691874,
          0.1184476894250234,
          -1.074834626712761,
          -1.018303994835368,
          0.7119487479506225,
          0.21019144684223565,
          -0.03723478249683049,
          -0.8312148080119293,
          -0.07597849202451003,
          -0.5426923616511136,
          -1.1850811809292456,
          -1.1247929828229555,
          -0.8924012361639907,
          -1.0092181481457057,
          -0.7337429475685675,
          -0.9920979643224627,
          -0.10755176092971798,
          -0.6812465975137608,
          -1.0817165507307511,
          -1.250744390363617,
          -1.0642077531973524,
          -1.2920494223590977,
          -0.8565008406139715,
          -1.4536207982734528,
          -1.2808351412577583,
          -1.198167203468849,
          -0.5367965483003608,
          -1.2594254790104038,
          -1.374932311355924,
          -1.0126922615888843,
          1.3306919365514172,
          2.225865804501945,
          2.2884025223718285,
          2.537278143681823,
          -1.36163317499136,
          -1.0563102969299942,
          -0.3827028476264218,
          -0.945506188922139,
          -1.0782766619270727,
          -0.763914925466357,
          -1.3521695798749969,
          -0.17448321466246525,
          -0.17660537528721643,
          -0.256216419868812,
          -0.8367738007957795,
          -0.5556874893432492,
          0.6198053593563561,
          -0.5849703883238309,
          -0.8888690669875318,
          -0.9414771107697821,
          0.25786474491043077,
          0.8270229322509042,
          0.6026698284905444,
          0.4525977843573021,
          1.8269526485588876,
          0.3153932075476958,
          1.9017507345834945,
          1.6197218593294567,
          1.247418735226473,
          2.1371897859491797,
          0.4383904065626343,
          -0.3173487678689919,
          1.1498494092292053,
          0.6263732421524841,
          0.7834573998248294,
          0.213117310884682,
          0.7612025505621709,
          -1.2310972979983905,
          -1.0287800024670455,
          -1.3438732399976079,
          -1.2490796256034082,
          -1.5032304456623122,
          0.255952742235144,
          -0.9181242828565992,
          -1.2484616396951735,
          -1.387126864861877,
          -0.5588738837253546,
          -0.8447093185072994,
          -0.6525092224023513,
          0.003755333333790615,
          -0.06437641491923062,
          -0.4586950287429286,
          0.5655525050079675,
          0.14886431458832958,
          1.9165147047372728,
          -0.5520607731433764,
          -0.8665174120226569,
          0.24557006740058984,
          -0.6641900420123495
         ],
         "xaxis": "x",
         "y": [
          0.806299978323345,
          0.5349393015194553,
          0.44599647582055696,
          -0.1793164740659275,
          -0.01769137499653219,
          0.41058465151014867,
          0.805030540193982,
          0.12616875832724325,
          0.8936856326076474,
          1.1937107915376588,
          0.7543189999854552,
          0.653749589826394,
          -0.40550348727951807,
          0.8244221157527419,
          1.1307142036472466,
          0.970872373665378,
          0.6870530098903527,
          1.195575934707533,
          1.1014896400520062,
          1.09681677806123,
          0.928080826381978,
          0.592134280152459,
          0.47562555173320953,
          0.8055763977577076,
          -0.21780703784143277,
          1.2914241376495152,
          1.1831144068745167,
          -0.5134561925369533,
          -0.4383503902814716,
          0.08477690193539078,
          1.103084930273736,
          0.7287044565318851,
          0.6734756931322404,
          0.42412801326183636,
          -0.013412536420554465,
          0.09348723252204139,
          -0.03126620346800106,
          0.10622988467370176,
          0.3204061571457269,
          0.04114621084721529,
          0.5441166678972398,
          1.269412365700332,
          0.3890853714637924,
          1.3999182962166496,
          1.1725030213949628,
          0.9124573390427227,
          -0.2635571307489102,
          -0.14931406519656187,
          0.3993865877828994,
          -0.6724918539388018,
          0.1351975030420144,
          0.047011905832725895,
          -0.1034344742114677,
          0.07328075642167255,
          0.32664796588263395,
          0.9212580426971713,
          0.5885945269887833,
          0.10348473039158303,
          -0.6219532435292111,
          -0.12463045518885603,
          1.445186660804491,
          -0.6688011664810389,
          -0.04205386096823332,
          0.4802884413187154,
          -0.49455504022883073,
          -0.596022913019379,
          -0.6381787404578652,
          -0.29860595583620336,
          -0.3356644082449101,
          -0.4823523671241202,
          -0.7220396281382598,
          0.6144407438954747,
          1.0530064676844941,
          0.24200873578627774,
          0.6064978297019271,
          0.7980160729786023,
          -0.4227843487238337,
          -0.40063968867330546,
          0.4778627000862738,
          -0.14439306931082832,
          0.3795655702604848,
          -0.30418728276073764,
          0.11483956569065727,
          0.3615664495193163,
          -0.013911891146466918,
          -0.7044141398075099,
          -0.2800072149436896,
          -0.5814248610672074,
          0.35722150296692495,
          0.6063673720815981,
          0.709087978250995,
          -0.7611222046166933,
          0.3774782018983608,
          0.6079010048661659,
          0.2716194987998772,
          -0.5090884148566687,
          -0.9437509369766337,
          -0.7378243749433759,
          -0.15552435429764988,
          -0.30806304786888233,
          -0.5554189723270366,
          0.3185146583820584,
          0.7247207402148527,
          0.16510974164216402,
          0.1817870913356511,
          0.2919149709822771,
          0.2558480997560535,
          -0.4853326660958113,
          -0.4555442915210945,
          -0.6267123830101081,
          -0.32423207220716815,
          -0.6495348163603091,
          -0.5969335909333425,
          -0.6950982002260162,
          -0.8039023492315185,
          -0.8463540031478058,
          -0.5639906220731845,
          -0.7322479489843708,
          -0.8044673584062482,
          -0.7676345699736715,
          -0.7355576384336225,
          -0.6130992848679153,
          -0.8059487000352696,
          -1.0556049319587602,
          -0.3043116814894053,
          0.1317347249774442,
          -0.6293984293686756,
          -0.5393492189955894,
          -0.7495620564751544,
          -0.35019237233317807,
          0.11443426324989052,
          0.4067915046809062,
          0.12000357637589167,
          -0.31145674429000497,
          0.496994593824929,
          -0.28021741711873244,
          0.24619949230250915,
          0.41604679114290544,
          -0.1015905721393609,
          -0.1843634912628376,
          0.06159704164544002,
          0.44138833394384336,
          0.059973938363108076,
          0.04652081222635425,
          -0.10196749287086464,
          0.10470188666250062,
          0.6006534161589127,
          0.7506775637707709,
          0.5835619850401902,
          0.28478019992150755,
          -0.36648661318174,
          -0.1903221685965428,
          -0.005708674005146361,
          -0.10585684802205063,
          -0.12671836662788946,
          -0.1988475305088498,
          0.3782128639469237,
          0.07549035300725004,
          0.18313485776756228,
          0.8155829016706871,
          1.1102009563266175,
          -0.3568756115783724,
          0.4047238529565508,
          0.918537119146883,
          0.9728554455323954,
          0.5560639138111109,
          0.765225898098094,
          0.04022404594353627,
          0.35508548416671015,
          0.22162661818381768,
          0.8284947314030138,
          -0.6537694487278716,
          -0.7383699243435852,
          -0.42551296308643355,
          -0.32512834768898924,
          -0.6807920469417668,
          -0.5458966020931459,
          -0.4685939823007847,
          -0.06288028325875307,
          -0.8312861038801539,
          0.045713707932120505,
          0.24051550785415066,
          0.0009869988782313435,
          0.8479540938652118,
          -0.295818599313753,
          0.24241513541459378,
          -0.14631157145142862,
          0.12418188909830893,
          0.46810003866105077,
          0.42128334238073467,
          -0.6733519755899642,
          -0.2765333786047671,
          -0.5454340157723812,
          -0.4841277030800287,
          -0.06445174613844017,
          0.8740842671779211,
          -0.3193841475305961,
          0.2066563044923224,
          0.27398222527272015,
          0.4397866282894236,
          -0.20782386304993866,
          -0.2656628069820084,
          0.28919558193670014,
          -0.6545853993429349,
          -0.7103354798988762,
          0.3576148822363461,
          0.36183146193320953,
          -0.6692418085540119,
          -0.20552626434165477,
          -0.5864409628256706,
          -0.8377849417368702,
          0.0935487716687992,
          -0.44900336834152127,
          -0.5901441113090965,
          -0.3917681463328883,
          -0.7674141328637799,
          -0.790765429939808,
          -0.8054599803417316,
          -0.016931352592281845,
          -0.5094929728558609,
          -0.6637113450865609,
          0.4886784692452135,
          1.1508499654648823,
          1.2183994258112232,
          -0.11215989769980683,
          0.023045464500308907,
          0.3967862844815681,
          -0.4159882474359355,
          -0.8105737967963041,
          -0.40881540860361004,
          -0.33478534934271587,
          -0.25903853410658934,
          -0.5578357298097841,
          0.1675564582240629,
          0.10479074786371335,
          -0.7038937850573096,
          -0.6664356234858254,
          -0.7291521011755766,
          -0.8782459950638907,
          -0.6307671049443168,
          -0.810023494543922,
          -0.8434386949904867,
          -0.5271644224958127,
          -0.043817908560705866,
          -0.6967171431930672,
          -0.7286831182420442,
          -0.2891920808217153,
          -0.7227639140117216,
          -0.6673439667575884,
          -0.6187829202613706,
          -0.9053475762065974,
          -0.5820089421166709,
          -0.39687302140975966,
          0.3460011652400142,
          -0.3769561957580825,
          -0.6806714700365031,
          -0.2511242329470653,
          -0.8174237112388035,
          0.20987101615847012,
          1.009957317130405,
          1.0322876884571575,
          0.31568090709172775,
          0.28970097830594943,
          1.1529544549991322,
          0.13115219815923157,
          -0.14008448310831018,
          -0.27458446774217077,
          0.9810726152811008,
          1.1131847799044698,
          1.0469350506714832,
          0.9777811142701341,
          -0.7656895311483325,
          -0.7390406014244911,
          -0.5453813327248558,
          -0.6452777304513234,
          -0.5972468033648282,
          -0.7252665042150467,
          -0.18547157900937017,
          0.06888428902178695,
          -0.68618385886783,
          -0.37218942002373007,
          0.4804271284122918,
          0.9516738981098124,
          -0.5462149460677708,
          -0.6332873184204082,
          -0.4614251128926636,
          -0.8623589229915303,
          -0.7264368586825095,
          -0.7802563375255952,
          -0.029181224468502555,
          -0.23476004348722218,
          -0.7158566990527655,
          -0.8675102170516804,
          -0.3451099096885358,
          -0.228025450820487,
          0.7335081177022897,
          0.10556960418357397,
          0.4263760868686934,
          1.1067314536342658,
          1.0773970308375467,
          0.8412009169066555,
          -0.7321100938004265,
          -0.3526133465237766,
          -0.30215238181881504,
          0.018321377007454998,
          -0.014265755706041225
         ],
         "yaxis": "y"
        }
       ],
       "layout": {
        "coloraxis": {
         "colorbar": {
          "title": {
           "text": "cluster"
          }
         },
         "colorscale": [
          [
           0,
           "#0d0887"
          ],
          [
           0.1111111111111111,
           "#46039f"
          ],
          [
           0.2222222222222222,
           "#7201a8"
          ],
          [
           0.3333333333333333,
           "#9c179e"
          ],
          [
           0.4444444444444444,
           "#bd3786"
          ],
          [
           0.5555555555555556,
           "#d8576b"
          ],
          [
           0.6666666666666666,
           "#ed7953"
          ],
          [
           0.7777777777777778,
           "#fb9f3a"
          ],
          [
           0.8888888888888888,
           "#fdca26"
          ],
          [
           1,
           "#f0f921"
          ]
         ]
        },
        "legend": {
         "tracegroupgap": 0
        },
        "margin": {
         "t": 60
        },
        "template": {
         "data": {
          "bar": [
           {
            "error_x": {
             "color": "#2a3f5f"
            },
            "error_y": {
             "color": "#2a3f5f"
            },
            "marker": {
             "line": {
              "color": "#E5ECF6",
              "width": 0.5
             },
             "pattern": {
              "fillmode": "overlay",
              "size": 10,
              "solidity": 0.2
             }
            },
            "type": "bar"
           }
          ],
          "barpolar": [
           {
            "marker": {
             "line": {
              "color": "#E5ECF6",
              "width": 0.5
             },
             "pattern": {
              "fillmode": "overlay",
              "size": 10,
              "solidity": 0.2
             }
            },
            "type": "barpolar"
           }
          ],
          "carpet": [
           {
            "aaxis": {
             "endlinecolor": "#2a3f5f",
             "gridcolor": "white",
             "linecolor": "white",
             "minorgridcolor": "white",
             "startlinecolor": "#2a3f5f"
            },
            "baxis": {
             "endlinecolor": "#2a3f5f",
             "gridcolor": "white",
             "linecolor": "white",
             "minorgridcolor": "white",
             "startlinecolor": "#2a3f5f"
            },
            "type": "carpet"
           }
          ],
          "choropleth": [
           {
            "colorbar": {
             "outlinewidth": 0,
             "ticks": ""
            },
            "type": "choropleth"
           }
          ],
          "contour": [
           {
            "colorbar": {
             "outlinewidth": 0,
             "ticks": ""
            },
            "colorscale": [
             [
              0,
              "#0d0887"
             ],
             [
              0.1111111111111111,
              "#46039f"
             ],
             [
              0.2222222222222222,
              "#7201a8"
             ],
             [
              0.3333333333333333,
              "#9c179e"
             ],
             [
              0.4444444444444444,
              "#bd3786"
             ],
             [
              0.5555555555555556,
              "#d8576b"
             ],
             [
              0.6666666666666666,
              "#ed7953"
             ],
             [
              0.7777777777777778,
              "#fb9f3a"
             ],
             [
              0.8888888888888888,
              "#fdca26"
             ],
             [
              1,
              "#f0f921"
             ]
            ],
            "type": "contour"
           }
          ],
          "contourcarpet": [
           {
            "colorbar": {
             "outlinewidth": 0,
             "ticks": ""
            },
            "type": "contourcarpet"
           }
          ],
          "heatmap": [
           {
            "colorbar": {
             "outlinewidth": 0,
             "ticks": ""
            },
            "colorscale": [
             [
              0,
              "#0d0887"
             ],
             [
              0.1111111111111111,
              "#46039f"
             ],
             [
              0.2222222222222222,
              "#7201a8"
             ],
             [
              0.3333333333333333,
              "#9c179e"
             ],
             [
              0.4444444444444444,
              "#bd3786"
             ],
             [
              0.5555555555555556,
              "#d8576b"
             ],
             [
              0.6666666666666666,
              "#ed7953"
             ],
             [
              0.7777777777777778,
              "#fb9f3a"
             ],
             [
              0.8888888888888888,
              "#fdca26"
             ],
             [
              1,
              "#f0f921"
             ]
            ],
            "type": "heatmap"
           }
          ],
          "heatmapgl": [
           {
            "colorbar": {
             "outlinewidth": 0,
             "ticks": ""
            },
            "colorscale": [
             [
              0,
              "#0d0887"
             ],
             [
              0.1111111111111111,
              "#46039f"
             ],
             [
              0.2222222222222222,
              "#7201a8"
             ],
             [
              0.3333333333333333,
              "#9c179e"
             ],
             [
              0.4444444444444444,
              "#bd3786"
             ],
             [
              0.5555555555555556,
              "#d8576b"
             ],
             [
              0.6666666666666666,
              "#ed7953"
             ],
             [
              0.7777777777777778,
              "#fb9f3a"
             ],
             [
              0.8888888888888888,
              "#fdca26"
             ],
             [
              1,
              "#f0f921"
             ]
            ],
            "type": "heatmapgl"
           }
          ],
          "histogram": [
           {
            "marker": {
             "pattern": {
              "fillmode": "overlay",
              "size": 10,
              "solidity": 0.2
             }
            },
            "type": "histogram"
           }
          ],
          "histogram2d": [
           {
            "colorbar": {
             "outlinewidth": 0,
             "ticks": ""
            },
            "colorscale": [
             [
              0,
              "#0d0887"
             ],
             [
              0.1111111111111111,
              "#46039f"
             ],
             [
              0.2222222222222222,
              "#7201a8"
             ],
             [
              0.3333333333333333,
              "#9c179e"
             ],
             [
              0.4444444444444444,
              "#bd3786"
             ],
             [
              0.5555555555555556,
              "#d8576b"
             ],
             [
              0.6666666666666666,
              "#ed7953"
             ],
             [
              0.7777777777777778,
              "#fb9f3a"
             ],
             [
              0.8888888888888888,
              "#fdca26"
             ],
             [
              1,
              "#f0f921"
             ]
            ],
            "type": "histogram2d"
           }
          ],
          "histogram2dcontour": [
           {
            "colorbar": {
             "outlinewidth": 0,
             "ticks": ""
            },
            "colorscale": [
             [
              0,
              "#0d0887"
             ],
             [
              0.1111111111111111,
              "#46039f"
             ],
             [
              0.2222222222222222,
              "#7201a8"
             ],
             [
              0.3333333333333333,
              "#9c179e"
             ],
             [
              0.4444444444444444,
              "#bd3786"
             ],
             [
              0.5555555555555556,
              "#d8576b"
             ],
             [
              0.6666666666666666,
              "#ed7953"
             ],
             [
              0.7777777777777778,
              "#fb9f3a"
             ],
             [
              0.8888888888888888,
              "#fdca26"
             ],
             [
              1,
              "#f0f921"
             ]
            ],
            "type": "histogram2dcontour"
           }
          ],
          "mesh3d": [
           {
            "colorbar": {
             "outlinewidth": 0,
             "ticks": ""
            },
            "type": "mesh3d"
           }
          ],
          "parcoords": [
           {
            "line": {
             "colorbar": {
              "outlinewidth": 0,
              "ticks": ""
             }
            },
            "type": "parcoords"
           }
          ],
          "pie": [
           {
            "automargin": true,
            "type": "pie"
           }
          ],
          "scatter": [
           {
            "fillpattern": {
             "fillmode": "overlay",
             "size": 10,
             "solidity": 0.2
            },
            "type": "scatter"
           }
          ],
          "scatter3d": [
           {
            "line": {
             "colorbar": {
              "outlinewidth": 0,
              "ticks": ""
             }
            },
            "marker": {
             "colorbar": {
              "outlinewidth": 0,
              "ticks": ""
             }
            },
            "type": "scatter3d"
           }
          ],
          "scattercarpet": [
           {
            "marker": {
             "colorbar": {
              "outlinewidth": 0,
              "ticks": ""
             }
            },
            "type": "scattercarpet"
           }
          ],
          "scattergeo": [
           {
            "marker": {
             "colorbar": {
              "outlinewidth": 0,
              "ticks": ""
             }
            },
            "type": "scattergeo"
           }
          ],
          "scattergl": [
           {
            "marker": {
             "colorbar": {
              "outlinewidth": 0,
              "ticks": ""
             }
            },
            "type": "scattergl"
           }
          ],
          "scattermapbox": [
           {
            "marker": {
             "colorbar": {
              "outlinewidth": 0,
              "ticks": ""
             }
            },
            "type": "scattermapbox"
           }
          ],
          "scatterpolar": [
           {
            "marker": {
             "colorbar": {
              "outlinewidth": 0,
              "ticks": ""
             }
            },
            "type": "scatterpolar"
           }
          ],
          "scatterpolargl": [
           {
            "marker": {
             "colorbar": {
              "outlinewidth": 0,
              "ticks": ""
             }
            },
            "type": "scatterpolargl"
           }
          ],
          "scatterternary": [
           {
            "marker": {
             "colorbar": {
              "outlinewidth": 0,
              "ticks": ""
             }
            },
            "type": "scatterternary"
           }
          ],
          "surface": [
           {
            "colorbar": {
             "outlinewidth": 0,
             "ticks": ""
            },
            "colorscale": [
             [
              0,
              "#0d0887"
             ],
             [
              0.1111111111111111,
              "#46039f"
             ],
             [
              0.2222222222222222,
              "#7201a8"
             ],
             [
              0.3333333333333333,
              "#9c179e"
             ],
             [
              0.4444444444444444,
              "#bd3786"
             ],
             [
              0.5555555555555556,
              "#d8576b"
             ],
             [
              0.6666666666666666,
              "#ed7953"
             ],
             [
              0.7777777777777778,
              "#fb9f3a"
             ],
             [
              0.8888888888888888,
              "#fdca26"
             ],
             [
              1,
              "#f0f921"
             ]
            ],
            "type": "surface"
           }
          ],
          "table": [
           {
            "cells": {
             "fill": {
              "color": "#EBF0F8"
             },
             "line": {
              "color": "white"
             }
            },
            "header": {
             "fill": {
              "color": "#C8D4E3"
             },
             "line": {
              "color": "white"
             }
            },
            "type": "table"
           }
          ]
         },
         "layout": {
          "annotationdefaults": {
           "arrowcolor": "#2a3f5f",
           "arrowhead": 0,
           "arrowwidth": 1
          },
          "autotypenumbers": "strict",
          "coloraxis": {
           "colorbar": {
            "outlinewidth": 0,
            "ticks": ""
           }
          },
          "colorscale": {
           "diverging": [
            [
             0,
             "#8e0152"
            ],
            [
             0.1,
             "#c51b7d"
            ],
            [
             0.2,
             "#de77ae"
            ],
            [
             0.3,
             "#f1b6da"
            ],
            [
             0.4,
             "#fde0ef"
            ],
            [
             0.5,
             "#f7f7f7"
            ],
            [
             0.6,
             "#e6f5d0"
            ],
            [
             0.7,
             "#b8e186"
            ],
            [
             0.8,
             "#7fbc41"
            ],
            [
             0.9,
             "#4d9221"
            ],
            [
             1,
             "#276419"
            ]
           ],
           "sequential": [
            [
             0,
             "#0d0887"
            ],
            [
             0.1111111111111111,
             "#46039f"
            ],
            [
             0.2222222222222222,
             "#7201a8"
            ],
            [
             0.3333333333333333,
             "#9c179e"
            ],
            [
             0.4444444444444444,
             "#bd3786"
            ],
            [
             0.5555555555555556,
             "#d8576b"
            ],
            [
             0.6666666666666666,
             "#ed7953"
            ],
            [
             0.7777777777777778,
             "#fb9f3a"
            ],
            [
             0.8888888888888888,
             "#fdca26"
            ],
            [
             1,
             "#f0f921"
            ]
           ],
           "sequentialminus": [
            [
             0,
             "#0d0887"
            ],
            [
             0.1111111111111111,
             "#46039f"
            ],
            [
             0.2222222222222222,
             "#7201a8"
            ],
            [
             0.3333333333333333,
             "#9c179e"
            ],
            [
             0.4444444444444444,
             "#bd3786"
            ],
            [
             0.5555555555555556,
             "#d8576b"
            ],
            [
             0.6666666666666666,
             "#ed7953"
            ],
            [
             0.7777777777777778,
             "#fb9f3a"
            ],
            [
             0.8888888888888888,
             "#fdca26"
            ],
            [
             1,
             "#f0f921"
            ]
           ]
          },
          "colorway": [
           "#636efa",
           "#EF553B",
           "#00cc96",
           "#ab63fa",
           "#FFA15A",
           "#19d3f3",
           "#FF6692",
           "#B6E880",
           "#FF97FF",
           "#FECB52"
          ],
          "font": {
           "color": "#2a3f5f"
          },
          "geo": {
           "bgcolor": "white",
           "lakecolor": "white",
           "landcolor": "#E5ECF6",
           "showlakes": true,
           "showland": true,
           "subunitcolor": "white"
          },
          "hoverlabel": {
           "align": "left"
          },
          "hovermode": "closest",
          "mapbox": {
           "style": "light"
          },
          "paper_bgcolor": "white",
          "plot_bgcolor": "#E5ECF6",
          "polar": {
           "angularaxis": {
            "gridcolor": "white",
            "linecolor": "white",
            "ticks": ""
           },
           "bgcolor": "#E5ECF6",
           "radialaxis": {
            "gridcolor": "white",
            "linecolor": "white",
            "ticks": ""
           }
          },
          "scene": {
           "xaxis": {
            "backgroundcolor": "#E5ECF6",
            "gridcolor": "white",
            "gridwidth": 2,
            "linecolor": "white",
            "showbackground": true,
            "ticks": "",
            "zerolinecolor": "white"
           },
           "yaxis": {
            "backgroundcolor": "#E5ECF6",
            "gridcolor": "white",
            "gridwidth": 2,
            "linecolor": "white",
            "showbackground": true,
            "ticks": "",
            "zerolinecolor": "white"
           },
           "zaxis": {
            "backgroundcolor": "#E5ECF6",
            "gridcolor": "white",
            "gridwidth": 2,
            "linecolor": "white",
            "showbackground": true,
            "ticks": "",
            "zerolinecolor": "white"
           }
          },
          "shapedefaults": {
           "line": {
            "color": "#2a3f5f"
           }
          },
          "ternary": {
           "aaxis": {
            "gridcolor": "white",
            "linecolor": "white",
            "ticks": ""
           },
           "baxis": {
            "gridcolor": "white",
            "linecolor": "white",
            "ticks": ""
           },
           "bgcolor": "#E5ECF6",
           "caxis": {
            "gridcolor": "white",
            "linecolor": "white",
            "ticks": ""
           }
          },
          "title": {
           "x": 0.05
          },
          "xaxis": {
           "automargin": true,
           "gridcolor": "white",
           "linecolor": "white",
           "ticks": "",
           "title": {
            "standoff": 15
           },
           "zerolinecolor": "white",
           "zerolinewidth": 2
          },
          "yaxis": {
           "automargin": true,
           "gridcolor": "white",
           "linecolor": "white",
           "ticks": "",
           "title": {
            "standoff": 15
           },
           "zerolinecolor": "white",
           "zerolinewidth": 2
          }
         }
        },
        "xaxis": {
         "anchor": "y",
         "domain": [
          0,
          1
         ],
         "title": {
          "text": "PC1"
         }
        },
        "yaxis": {
         "anchor": "x",
         "domain": [
          0,
          1
         ],
         "title": {
          "text": "PC2"
         }
        }
       }
      }
     },
     "metadata": {},
     "output_type": "display_data"
    },
    {
     "name": "stdout",
     "output_type": "stream",
     "text": [
      "eps:0.48\n",
      "min:3\n",
      "5\n",
      "         borough  neighborhood  longitude  latitude  population  PC1  PC2  \\\n",
      "cluster                                                                     \n",
      "-1            45            45         45        45          45   45   45   \n",
      " 0           232           232        232       232         232  232  232   \n",
      " 1             3             3          3         3           3    3    3   \n",
      " 2             3             3          3         3           3    3    3   \n",
      " 3            23            23         23        23          23   23   23   \n",
      "\n",
      "         PC3  PC4  PC5  \n",
      "cluster                 \n",
      "-1        45   45   45  \n",
      " 0       232  232  232  \n",
      " 1         3    3    3  \n",
      " 2         3    3    3  \n",
      " 3        23   23   23  \n"
     ]
    },
    {
     "data": {
      "application/vnd.plotly.v1+json": {
       "config": {
        "plotlyServerURL": "https://plot.ly"
       },
       "data": [
        {
         "hovertemplate": "PC1=%{x}<br>PC2=%{y}<br>cluster=%{marker.color}<extra></extra>",
         "legendgroup": "",
         "marker": {
          "color": [
           1,
           0,
           0,
           0,
           0,
           -1,
           -1,
           0,
           0,
           0,
           0,
           0,
           0,
           0,
           0,
           0,
           -1,
           0,
           0,
           0,
           0,
           0,
           0,
           0,
           0,
           0,
           1,
           0,
           0,
           0,
           0,
           0,
           0,
           0,
           -1,
           0,
           0,
           0,
           0,
           0,
           0,
           0,
           0,
           0,
           0,
           1,
           0,
           -1,
           -1,
           -1,
           0,
           0,
           0,
           -1,
           0,
           -1,
           0,
           0,
           -1,
           0,
           -1,
           0,
           -1,
           2,
           0,
           0,
           0,
           0,
           -1,
           0,
           0,
           -1,
           0,
           0,
           0,
           0,
           0,
           0,
           0,
           -1,
           0,
           0,
           0,
           -1,
           0,
           0,
           0,
           3,
           0,
           0,
           -1,
           0,
           0,
           0,
           0,
           -1,
           -1,
           0,
           0,
           0,
           -1,
           -1,
           -1,
           2,
           2,
           -1,
           -1,
           3,
           0,
           3,
           0,
           0,
           0,
           3,
           3,
           3,
           3,
           3,
           3,
           3,
           3,
           -1,
           3,
           -1,
           0,
           0,
           3,
           3,
           3,
           0,
           0,
           -1,
           -1,
           0,
           0,
           0,
           0,
           0,
           -1,
           0,
           0,
           -1,
           0,
           0,
           0,
           0,
           -1,
           0,
           0,
           0,
           0,
           0,
           0,
           0,
           0,
           0,
           -1,
           0,
           0,
           -1,
           -1,
           0,
           0,
           0,
           0,
           0,
           0,
           0,
           0,
           0,
           0,
           0,
           0,
           0,
           0,
           0,
           0,
           0,
           0,
           0,
           -1,
           0,
           0,
           0,
           -1,
           0,
           0,
           0,
           0,
           -1,
           0,
           0,
           0,
           0,
           0,
           0,
           0,
           0,
           0,
           0,
           0,
           0,
           0,
           0,
           0,
           0,
           0,
           0,
           0,
           0,
           0,
           0,
           0,
           0,
           0,
           0,
           0,
           0,
           0,
           0,
           0,
           0,
           -1,
           -1,
           0,
           0,
           0,
           0,
           0,
           0,
           0,
           0,
           0,
           0,
           0,
           0,
           0,
           0,
           0,
           0,
           0,
           0,
           0,
           0,
           0,
           0,
           0,
           0,
           3,
           3,
           3,
           0,
           0,
           0,
           0,
           0,
           0,
           0,
           0,
           -1,
           0,
           0,
           0,
           -1,
           0,
           0,
           0,
           0,
           0,
           0,
           0,
           3,
           -1,
           3,
           3,
           0,
           3,
           0,
           0,
           0,
           -1,
           0,
           0,
           -1,
           0,
           0,
           0,
           0,
           0,
           0,
           0,
           0,
           0,
           0,
           0,
           -1,
           0,
           0,
           0,
           0,
           0,
           3,
           0,
           0,
           0,
           0
          ],
          "coloraxis": "coloraxis",
          "symbol": "circle"
         },
         "mode": "markers",
         "name": "",
         "orientation": "v",
         "showlegend": false,
         "type": "scatter",
         "x": [
          -0.2999392354396995,
          -0.5181567708027076,
          -0.5389529254485282,
          -0.538111552554458,
          -0.516147602315639,
          0.46436840244932165,
          0.45352076282083575,
          -0.36327500134531987,
          0.04290603085482082,
          -0.13461435110212733,
          -0.4021395629348593,
          -0.13263860935977162,
          -0.9483488226574535,
          0.4074897950783606,
          0.5755622369262103,
          0.4674770541294375,
          1.0962259089896498,
          0.06685585748113411,
          0.2778291084640352,
          0.7242728941962615,
          0.2918559862072228,
          0.3980223461832242,
          -0.3848464860122922,
          -0.014177861706992366,
          -0.9552179762738815,
          0.4053671312191602,
          -0.2559588648471157,
          -1.165877009943115,
          -1.123375288912157,
          -0.6682835524122395,
          0.44047777141560857,
          0.04834022053030687,
          0.18681620011700503,
          -0.12929955851795105,
          0.7926923362590205,
          -0.1882807513299356,
          -0.7190695415655564,
          -0.5011519532650851,
          -0.5933321056281312,
          -0.8164408217059835,
          -0.6518866033230457,
          -0.15836603627267384,
          -0.6887001045380412,
          0.6232455811904835,
          0.2706131565114359,
          -0.2071280008458385,
          0.5677760170889561,
          0.4245282417662995,
          0.732062723687729,
          0.6647666160441524,
          -0.378894367925141,
          0.11331680105654329,
          0.142877082087975,
          0.2632720089673174,
          0.4831505169580193,
          1.0005011370457608,
          -0.009630308343033559,
          0.2695181763843945,
          0.23981404950292573,
          1.2438990294991203,
          0.12527502179245878,
          1.4755149046700555,
          1.138193032280503,
          1.0793748522987965,
          1.2195699562132947,
          1.3847052739269194,
          1.2912653987621434,
          -0.682811717914585,
          0.663631218340794,
          1.358342087824533,
          1.1856016916134868,
          -0.252778598793644,
          -0.006656674233660172,
          -0.841890486218964,
          -0.6430458770964462,
          -0.4365305003620773,
          -1.1224678795253045,
          -0.1388711206074483,
          -0.48034423639408136,
          0.11468942196092147,
          0.20418279961275473,
          0.33166584407063376,
          -0.8933655040828606,
          -0.2901670903642142,
          1.098767249838175,
          -1.2918134088644488,
          1.5246429037063425,
          1.9910611771883795,
          0.8401309794319323,
          0.33847176321781003,
          0.1957535097812927,
          -1.3755622666980964,
          0.22616411597253527,
          0.5151905018672949,
          -0.49922104036443843,
          1.1818386941391135,
          1.3017672782590088,
          1.5691723592542213,
          0.0721695713439749,
          0.07695090884878672,
          2.022009337706604,
          0.8372956790584203,
          0.6792680364483404,
          1.0436176101307042,
          1.129176764730745,
          1.2963415173711779,
          1.0937694175631123,
          1.7095781838571862,
          1.664751256357031,
          1.7319753122188069,
          0.53075277508637,
          1.3780563005591284,
          1.522390516442774,
          2.171819140053922,
          2.579792781075722,
          2.4050923519676446,
          2.121897541368075,
          2.01551488518807,
          1.7836424743897554,
          1.7050711658750761,
          2.0232344874056816,
          2.205680687495938,
          2.1715116241664383,
          1.5835690324135638,
          1.0656490790447863,
          0.8449220416723394,
          1.9274303799611379,
          1.8424003400772775,
          2.0090349724392573,
          1.3125009630585187,
          0.8255673291381561,
          1.2400133851911501,
          1.3418010110571237,
          -0.9548712423275117,
          0.28051516243332686,
          0.45589960495084303,
          -0.04180753981802375,
          -0.043454082322605635,
          1.1382596128222702,
          0.5358606324571142,
          0.035464794515611416,
          -0.22994680784223304,
          -0.5647312521852714,
          0.622162642316137,
          -0.8921332540665712,
          0.4934773707581297,
          0.33583190890043985,
          0.0014838290646109343,
          -0.4765564490982787,
          -0.8448059378525163,
          -0.7033879883662709,
          -0.05711951422719375,
          0.01890778608226496,
          -0.5438246284401622,
          -0.6419414770535792,
          -0.9033013766285666,
          -0.6373854809111569,
          -0.4565410805689251,
          -0.5730667974493526,
          0.13838462583574498,
          0.7028844179449769,
          -0.8310735558464718,
          -0.6803916826523227,
          -0.6639812987716027,
          0.18182383438444333,
          -0.5975522904980415,
          -0.6803529798702498,
          -0.9000858945038492,
          -0.8695655035076317,
          -0.901315538504906,
          -0.3101310245623727,
          -1.4024391299408305,
          -1.3836611538878454,
          0.24300737165451552,
          -0.865735067860948,
          -1.1343893595241143,
          -1.1831269951009487,
          -1.0774637307442498,
          -0.2302240588318395,
          -1.3643437993340608,
          0.1946894575213927,
          -0.6657633126769088,
          -0.9526624848903337,
          -0.24938306614677389,
          -0.546233901638181,
          -0.6581461694961046,
          0.9847529679272189,
          -0.8477465986250363,
          -0.6081684833910217,
          0.2827774014347927,
          -1.3024974168783492,
          -0.7678514830652007,
          -1.1206671649331457,
          -1.208669516100077,
          -1.1747656914848847,
          0.11738470018073716,
          0.6631359976059288,
          -0.3757918696780955,
          -0.09904119415014753,
          -0.22170254223361455,
          -0.7964968798506339,
          -0.7813598390769764,
          -0.5760780444236835,
          -1.2465716026538567,
          -1.2733919839582715,
          -0.06641260338746098,
          -0.6429277864815851,
          -1.3476147622158514,
          -1.0383378118215698,
          -1.1439425381498158,
          -1.3163852637328892,
          -0.2401620319660303,
          -1.0985370437572568,
          -0.6859331897246643,
          -0.8000054116940196,
          -1.1716224595484603,
          -1.2459616007084795,
          -1.183120955691874,
          0.1184476894250234,
          -1.074834626712761,
          -1.018303994835368,
          0.7119487479506225,
          0.21019144684223565,
          -0.03723478249683049,
          -0.8312148080119293,
          -0.07597849202451003,
          -0.5426923616511136,
          -1.1850811809292456,
          -1.1247929828229555,
          -0.8924012361639907,
          -1.0092181481457057,
          -0.7337429475685675,
          -0.9920979643224627,
          -0.10755176092971798,
          -0.6812465975137608,
          -1.0817165507307511,
          -1.250744390363617,
          -1.0642077531973524,
          -1.2920494223590977,
          -0.8565008406139715,
          -1.4536207982734528,
          -1.2808351412577583,
          -1.198167203468849,
          -0.5367965483003608,
          -1.2594254790104038,
          -1.374932311355924,
          -1.0126922615888843,
          1.3306919365514172,
          2.225865804501945,
          2.2884025223718285,
          2.537278143681823,
          -1.36163317499136,
          -1.0563102969299942,
          -0.3827028476264218,
          -0.945506188922139,
          -1.0782766619270727,
          -0.763914925466357,
          -1.3521695798749969,
          -0.17448321466246525,
          -0.17660537528721643,
          -0.256216419868812,
          -0.8367738007957795,
          -0.5556874893432492,
          0.6198053593563561,
          -0.5849703883238309,
          -0.8888690669875318,
          -0.9414771107697821,
          0.25786474491043077,
          0.8270229322509042,
          0.6026698284905444,
          0.4525977843573021,
          1.8269526485588876,
          0.3153932075476958,
          1.9017507345834945,
          1.6197218593294567,
          1.247418735226473,
          2.1371897859491797,
          0.4383904065626343,
          -0.3173487678689919,
          1.1498494092292053,
          0.6263732421524841,
          0.7834573998248294,
          0.213117310884682,
          0.7612025505621709,
          -1.2310972979983905,
          -1.0287800024670455,
          -1.3438732399976079,
          -1.2490796256034082,
          -1.5032304456623122,
          0.255952742235144,
          -0.9181242828565992,
          -1.2484616396951735,
          -1.387126864861877,
          -0.5588738837253546,
          -0.8447093185072994,
          -0.6525092224023513,
          0.003755333333790615,
          -0.06437641491923062,
          -0.4586950287429286,
          0.5655525050079675,
          0.14886431458832958,
          1.9165147047372728,
          -0.5520607731433764,
          -0.8665174120226569,
          0.24557006740058984,
          -0.6641900420123495
         ],
         "xaxis": "x",
         "y": [
          0.806299978323345,
          0.5349393015194553,
          0.44599647582055696,
          -0.1793164740659275,
          -0.01769137499653219,
          0.41058465151014867,
          0.805030540193982,
          0.12616875832724325,
          0.8936856326076474,
          1.1937107915376588,
          0.7543189999854552,
          0.653749589826394,
          -0.40550348727951807,
          0.8244221157527419,
          1.1307142036472466,
          0.970872373665378,
          0.6870530098903527,
          1.195575934707533,
          1.1014896400520062,
          1.09681677806123,
          0.928080826381978,
          0.592134280152459,
          0.47562555173320953,
          0.8055763977577076,
          -0.21780703784143277,
          1.2914241376495152,
          1.1831144068745167,
          -0.5134561925369533,
          -0.4383503902814716,
          0.08477690193539078,
          1.103084930273736,
          0.7287044565318851,
          0.6734756931322404,
          0.42412801326183636,
          -0.013412536420554465,
          0.09348723252204139,
          -0.03126620346800106,
          0.10622988467370176,
          0.3204061571457269,
          0.04114621084721529,
          0.5441166678972398,
          1.269412365700332,
          0.3890853714637924,
          1.3999182962166496,
          1.1725030213949628,
          0.9124573390427227,
          -0.2635571307489102,
          -0.14931406519656187,
          0.3993865877828994,
          -0.6724918539388018,
          0.1351975030420144,
          0.047011905832725895,
          -0.1034344742114677,
          0.07328075642167255,
          0.32664796588263395,
          0.9212580426971713,
          0.5885945269887833,
          0.10348473039158303,
          -0.6219532435292111,
          -0.12463045518885603,
          1.445186660804491,
          -0.6688011664810389,
          -0.04205386096823332,
          0.4802884413187154,
          -0.49455504022883073,
          -0.596022913019379,
          -0.6381787404578652,
          -0.29860595583620336,
          -0.3356644082449101,
          -0.4823523671241202,
          -0.7220396281382598,
          0.6144407438954747,
          1.0530064676844941,
          0.24200873578627774,
          0.6064978297019271,
          0.7980160729786023,
          -0.4227843487238337,
          -0.40063968867330546,
          0.4778627000862738,
          -0.14439306931082832,
          0.3795655702604848,
          -0.30418728276073764,
          0.11483956569065727,
          0.3615664495193163,
          -0.013911891146466918,
          -0.7044141398075099,
          -0.2800072149436896,
          -0.5814248610672074,
          0.35722150296692495,
          0.6063673720815981,
          0.709087978250995,
          -0.7611222046166933,
          0.3774782018983608,
          0.6079010048661659,
          0.2716194987998772,
          -0.5090884148566687,
          -0.9437509369766337,
          -0.7378243749433759,
          -0.15552435429764988,
          -0.30806304786888233,
          -0.5554189723270366,
          0.3185146583820584,
          0.7247207402148527,
          0.16510974164216402,
          0.1817870913356511,
          0.2919149709822771,
          0.2558480997560535,
          -0.4853326660958113,
          -0.4555442915210945,
          -0.6267123830101081,
          -0.32423207220716815,
          -0.6495348163603091,
          -0.5969335909333425,
          -0.6950982002260162,
          -0.8039023492315185,
          -0.8463540031478058,
          -0.5639906220731845,
          -0.7322479489843708,
          -0.8044673584062482,
          -0.7676345699736715,
          -0.7355576384336225,
          -0.6130992848679153,
          -0.8059487000352696,
          -1.0556049319587602,
          -0.3043116814894053,
          0.1317347249774442,
          -0.6293984293686756,
          -0.5393492189955894,
          -0.7495620564751544,
          -0.35019237233317807,
          0.11443426324989052,
          0.4067915046809062,
          0.12000357637589167,
          -0.31145674429000497,
          0.496994593824929,
          -0.28021741711873244,
          0.24619949230250915,
          0.41604679114290544,
          -0.1015905721393609,
          -0.1843634912628376,
          0.06159704164544002,
          0.44138833394384336,
          0.059973938363108076,
          0.04652081222635425,
          -0.10196749287086464,
          0.10470188666250062,
          0.6006534161589127,
          0.7506775637707709,
          0.5835619850401902,
          0.28478019992150755,
          -0.36648661318174,
          -0.1903221685965428,
          -0.005708674005146361,
          -0.10585684802205063,
          -0.12671836662788946,
          -0.1988475305088498,
          0.3782128639469237,
          0.07549035300725004,
          0.18313485776756228,
          0.8155829016706871,
          1.1102009563266175,
          -0.3568756115783724,
          0.4047238529565508,
          0.918537119146883,
          0.9728554455323954,
          0.5560639138111109,
          0.765225898098094,
          0.04022404594353627,
          0.35508548416671015,
          0.22162661818381768,
          0.8284947314030138,
          -0.6537694487278716,
          -0.7383699243435852,
          -0.42551296308643355,
          -0.32512834768898924,
          -0.6807920469417668,
          -0.5458966020931459,
          -0.4685939823007847,
          -0.06288028325875307,
          -0.8312861038801539,
          0.045713707932120505,
          0.24051550785415066,
          0.0009869988782313435,
          0.8479540938652118,
          -0.295818599313753,
          0.24241513541459378,
          -0.14631157145142862,
          0.12418188909830893,
          0.46810003866105077,
          0.42128334238073467,
          -0.6733519755899642,
          -0.2765333786047671,
          -0.5454340157723812,
          -0.4841277030800287,
          -0.06445174613844017,
          0.8740842671779211,
          -0.3193841475305961,
          0.2066563044923224,
          0.27398222527272015,
          0.4397866282894236,
          -0.20782386304993866,
          -0.2656628069820084,
          0.28919558193670014,
          -0.6545853993429349,
          -0.7103354798988762,
          0.3576148822363461,
          0.36183146193320953,
          -0.6692418085540119,
          -0.20552626434165477,
          -0.5864409628256706,
          -0.8377849417368702,
          0.0935487716687992,
          -0.44900336834152127,
          -0.5901441113090965,
          -0.3917681463328883,
          -0.7674141328637799,
          -0.790765429939808,
          -0.8054599803417316,
          -0.016931352592281845,
          -0.5094929728558609,
          -0.6637113450865609,
          0.4886784692452135,
          1.1508499654648823,
          1.2183994258112232,
          -0.11215989769980683,
          0.023045464500308907,
          0.3967862844815681,
          -0.4159882474359355,
          -0.8105737967963041,
          -0.40881540860361004,
          -0.33478534934271587,
          -0.25903853410658934,
          -0.5578357298097841,
          0.1675564582240629,
          0.10479074786371335,
          -0.7038937850573096,
          -0.6664356234858254,
          -0.7291521011755766,
          -0.8782459950638907,
          -0.6307671049443168,
          -0.810023494543922,
          -0.8434386949904867,
          -0.5271644224958127,
          -0.043817908560705866,
          -0.6967171431930672,
          -0.7286831182420442,
          -0.2891920808217153,
          -0.7227639140117216,
          -0.6673439667575884,
          -0.6187829202613706,
          -0.9053475762065974,
          -0.5820089421166709,
          -0.39687302140975966,
          0.3460011652400142,
          -0.3769561957580825,
          -0.6806714700365031,
          -0.2511242329470653,
          -0.8174237112388035,
          0.20987101615847012,
          1.009957317130405,
          1.0322876884571575,
          0.31568090709172775,
          0.28970097830594943,
          1.1529544549991322,
          0.13115219815923157,
          -0.14008448310831018,
          -0.27458446774217077,
          0.9810726152811008,
          1.1131847799044698,
          1.0469350506714832,
          0.9777811142701341,
          -0.7656895311483325,
          -0.7390406014244911,
          -0.5453813327248558,
          -0.6452777304513234,
          -0.5972468033648282,
          -0.7252665042150467,
          -0.18547157900937017,
          0.06888428902178695,
          -0.68618385886783,
          -0.37218942002373007,
          0.4804271284122918,
          0.9516738981098124,
          -0.5462149460677708,
          -0.6332873184204082,
          -0.4614251128926636,
          -0.8623589229915303,
          -0.7264368586825095,
          -0.7802563375255952,
          -0.029181224468502555,
          -0.23476004348722218,
          -0.7158566990527655,
          -0.8675102170516804,
          -0.3451099096885358,
          -0.228025450820487,
          0.7335081177022897,
          0.10556960418357397,
          0.4263760868686934,
          1.1067314536342658,
          1.0773970308375467,
          0.8412009169066555,
          -0.7321100938004265,
          -0.3526133465237766,
          -0.30215238181881504,
          0.018321377007454998,
          -0.014265755706041225
         ],
         "yaxis": "y"
        }
       ],
       "layout": {
        "coloraxis": {
         "colorbar": {
          "title": {
           "text": "cluster"
          }
         },
         "colorscale": [
          [
           0,
           "#0d0887"
          ],
          [
           0.1111111111111111,
           "#46039f"
          ],
          [
           0.2222222222222222,
           "#7201a8"
          ],
          [
           0.3333333333333333,
           "#9c179e"
          ],
          [
           0.4444444444444444,
           "#bd3786"
          ],
          [
           0.5555555555555556,
           "#d8576b"
          ],
          [
           0.6666666666666666,
           "#ed7953"
          ],
          [
           0.7777777777777778,
           "#fb9f3a"
          ],
          [
           0.8888888888888888,
           "#fdca26"
          ],
          [
           1,
           "#f0f921"
          ]
         ]
        },
        "legend": {
         "tracegroupgap": 0
        },
        "margin": {
         "t": 60
        },
        "template": {
         "data": {
          "bar": [
           {
            "error_x": {
             "color": "#2a3f5f"
            },
            "error_y": {
             "color": "#2a3f5f"
            },
            "marker": {
             "line": {
              "color": "#E5ECF6",
              "width": 0.5
             },
             "pattern": {
              "fillmode": "overlay",
              "size": 10,
              "solidity": 0.2
             }
            },
            "type": "bar"
           }
          ],
          "barpolar": [
           {
            "marker": {
             "line": {
              "color": "#E5ECF6",
              "width": 0.5
             },
             "pattern": {
              "fillmode": "overlay",
              "size": 10,
              "solidity": 0.2
             }
            },
            "type": "barpolar"
           }
          ],
          "carpet": [
           {
            "aaxis": {
             "endlinecolor": "#2a3f5f",
             "gridcolor": "white",
             "linecolor": "white",
             "minorgridcolor": "white",
             "startlinecolor": "#2a3f5f"
            },
            "baxis": {
             "endlinecolor": "#2a3f5f",
             "gridcolor": "white",
             "linecolor": "white",
             "minorgridcolor": "white",
             "startlinecolor": "#2a3f5f"
            },
            "type": "carpet"
           }
          ],
          "choropleth": [
           {
            "colorbar": {
             "outlinewidth": 0,
             "ticks": ""
            },
            "type": "choropleth"
           }
          ],
          "contour": [
           {
            "colorbar": {
             "outlinewidth": 0,
             "ticks": ""
            },
            "colorscale": [
             [
              0,
              "#0d0887"
             ],
             [
              0.1111111111111111,
              "#46039f"
             ],
             [
              0.2222222222222222,
              "#7201a8"
             ],
             [
              0.3333333333333333,
              "#9c179e"
             ],
             [
              0.4444444444444444,
              "#bd3786"
             ],
             [
              0.5555555555555556,
              "#d8576b"
             ],
             [
              0.6666666666666666,
              "#ed7953"
             ],
             [
              0.7777777777777778,
              "#fb9f3a"
             ],
             [
              0.8888888888888888,
              "#fdca26"
             ],
             [
              1,
              "#f0f921"
             ]
            ],
            "type": "contour"
           }
          ],
          "contourcarpet": [
           {
            "colorbar": {
             "outlinewidth": 0,
             "ticks": ""
            },
            "type": "contourcarpet"
           }
          ],
          "heatmap": [
           {
            "colorbar": {
             "outlinewidth": 0,
             "ticks": ""
            },
            "colorscale": [
             [
              0,
              "#0d0887"
             ],
             [
              0.1111111111111111,
              "#46039f"
             ],
             [
              0.2222222222222222,
              "#7201a8"
             ],
             [
              0.3333333333333333,
              "#9c179e"
             ],
             [
              0.4444444444444444,
              "#bd3786"
             ],
             [
              0.5555555555555556,
              "#d8576b"
             ],
             [
              0.6666666666666666,
              "#ed7953"
             ],
             [
              0.7777777777777778,
              "#fb9f3a"
             ],
             [
              0.8888888888888888,
              "#fdca26"
             ],
             [
              1,
              "#f0f921"
             ]
            ],
            "type": "heatmap"
           }
          ],
          "heatmapgl": [
           {
            "colorbar": {
             "outlinewidth": 0,
             "ticks": ""
            },
            "colorscale": [
             [
              0,
              "#0d0887"
             ],
             [
              0.1111111111111111,
              "#46039f"
             ],
             [
              0.2222222222222222,
              "#7201a8"
             ],
             [
              0.3333333333333333,
              "#9c179e"
             ],
             [
              0.4444444444444444,
              "#bd3786"
             ],
             [
              0.5555555555555556,
              "#d8576b"
             ],
             [
              0.6666666666666666,
              "#ed7953"
             ],
             [
              0.7777777777777778,
              "#fb9f3a"
             ],
             [
              0.8888888888888888,
              "#fdca26"
             ],
             [
              1,
              "#f0f921"
             ]
            ],
            "type": "heatmapgl"
           }
          ],
          "histogram": [
           {
            "marker": {
             "pattern": {
              "fillmode": "overlay",
              "size": 10,
              "solidity": 0.2
             }
            },
            "type": "histogram"
           }
          ],
          "histogram2d": [
           {
            "colorbar": {
             "outlinewidth": 0,
             "ticks": ""
            },
            "colorscale": [
             [
              0,
              "#0d0887"
             ],
             [
              0.1111111111111111,
              "#46039f"
             ],
             [
              0.2222222222222222,
              "#7201a8"
             ],
             [
              0.3333333333333333,
              "#9c179e"
             ],
             [
              0.4444444444444444,
              "#bd3786"
             ],
             [
              0.5555555555555556,
              "#d8576b"
             ],
             [
              0.6666666666666666,
              "#ed7953"
             ],
             [
              0.7777777777777778,
              "#fb9f3a"
             ],
             [
              0.8888888888888888,
              "#fdca26"
             ],
             [
              1,
              "#f0f921"
             ]
            ],
            "type": "histogram2d"
           }
          ],
          "histogram2dcontour": [
           {
            "colorbar": {
             "outlinewidth": 0,
             "ticks": ""
            },
            "colorscale": [
             [
              0,
              "#0d0887"
             ],
             [
              0.1111111111111111,
              "#46039f"
             ],
             [
              0.2222222222222222,
              "#7201a8"
             ],
             [
              0.3333333333333333,
              "#9c179e"
             ],
             [
              0.4444444444444444,
              "#bd3786"
             ],
             [
              0.5555555555555556,
              "#d8576b"
             ],
             [
              0.6666666666666666,
              "#ed7953"
             ],
             [
              0.7777777777777778,
              "#fb9f3a"
             ],
             [
              0.8888888888888888,
              "#fdca26"
             ],
             [
              1,
              "#f0f921"
             ]
            ],
            "type": "histogram2dcontour"
           }
          ],
          "mesh3d": [
           {
            "colorbar": {
             "outlinewidth": 0,
             "ticks": ""
            },
            "type": "mesh3d"
           }
          ],
          "parcoords": [
           {
            "line": {
             "colorbar": {
              "outlinewidth": 0,
              "ticks": ""
             }
            },
            "type": "parcoords"
           }
          ],
          "pie": [
           {
            "automargin": true,
            "type": "pie"
           }
          ],
          "scatter": [
           {
            "fillpattern": {
             "fillmode": "overlay",
             "size": 10,
             "solidity": 0.2
            },
            "type": "scatter"
           }
          ],
          "scatter3d": [
           {
            "line": {
             "colorbar": {
              "outlinewidth": 0,
              "ticks": ""
             }
            },
            "marker": {
             "colorbar": {
              "outlinewidth": 0,
              "ticks": ""
             }
            },
            "type": "scatter3d"
           }
          ],
          "scattercarpet": [
           {
            "marker": {
             "colorbar": {
              "outlinewidth": 0,
              "ticks": ""
             }
            },
            "type": "scattercarpet"
           }
          ],
          "scattergeo": [
           {
            "marker": {
             "colorbar": {
              "outlinewidth": 0,
              "ticks": ""
             }
            },
            "type": "scattergeo"
           }
          ],
          "scattergl": [
           {
            "marker": {
             "colorbar": {
              "outlinewidth": 0,
              "ticks": ""
             }
            },
            "type": "scattergl"
           }
          ],
          "scattermapbox": [
           {
            "marker": {
             "colorbar": {
              "outlinewidth": 0,
              "ticks": ""
             }
            },
            "type": "scattermapbox"
           }
          ],
          "scatterpolar": [
           {
            "marker": {
             "colorbar": {
              "outlinewidth": 0,
              "ticks": ""
             }
            },
            "type": "scatterpolar"
           }
          ],
          "scatterpolargl": [
           {
            "marker": {
             "colorbar": {
              "outlinewidth": 0,
              "ticks": ""
             }
            },
            "type": "scatterpolargl"
           }
          ],
          "scatterternary": [
           {
            "marker": {
             "colorbar": {
              "outlinewidth": 0,
              "ticks": ""
             }
            },
            "type": "scatterternary"
           }
          ],
          "surface": [
           {
            "colorbar": {
             "outlinewidth": 0,
             "ticks": ""
            },
            "colorscale": [
             [
              0,
              "#0d0887"
             ],
             [
              0.1111111111111111,
              "#46039f"
             ],
             [
              0.2222222222222222,
              "#7201a8"
             ],
             [
              0.3333333333333333,
              "#9c179e"
             ],
             [
              0.4444444444444444,
              "#bd3786"
             ],
             [
              0.5555555555555556,
              "#d8576b"
             ],
             [
              0.6666666666666666,
              "#ed7953"
             ],
             [
              0.7777777777777778,
              "#fb9f3a"
             ],
             [
              0.8888888888888888,
              "#fdca26"
             ],
             [
              1,
              "#f0f921"
             ]
            ],
            "type": "surface"
           }
          ],
          "table": [
           {
            "cells": {
             "fill": {
              "color": "#EBF0F8"
             },
             "line": {
              "color": "white"
             }
            },
            "header": {
             "fill": {
              "color": "#C8D4E3"
             },
             "line": {
              "color": "white"
             }
            },
            "type": "table"
           }
          ]
         },
         "layout": {
          "annotationdefaults": {
           "arrowcolor": "#2a3f5f",
           "arrowhead": 0,
           "arrowwidth": 1
          },
          "autotypenumbers": "strict",
          "coloraxis": {
           "colorbar": {
            "outlinewidth": 0,
            "ticks": ""
           }
          },
          "colorscale": {
           "diverging": [
            [
             0,
             "#8e0152"
            ],
            [
             0.1,
             "#c51b7d"
            ],
            [
             0.2,
             "#de77ae"
            ],
            [
             0.3,
             "#f1b6da"
            ],
            [
             0.4,
             "#fde0ef"
            ],
            [
             0.5,
             "#f7f7f7"
            ],
            [
             0.6,
             "#e6f5d0"
            ],
            [
             0.7,
             "#b8e186"
            ],
            [
             0.8,
             "#7fbc41"
            ],
            [
             0.9,
             "#4d9221"
            ],
            [
             1,
             "#276419"
            ]
           ],
           "sequential": [
            [
             0,
             "#0d0887"
            ],
            [
             0.1111111111111111,
             "#46039f"
            ],
            [
             0.2222222222222222,
             "#7201a8"
            ],
            [
             0.3333333333333333,
             "#9c179e"
            ],
            [
             0.4444444444444444,
             "#bd3786"
            ],
            [
             0.5555555555555556,
             "#d8576b"
            ],
            [
             0.6666666666666666,
             "#ed7953"
            ],
            [
             0.7777777777777778,
             "#fb9f3a"
            ],
            [
             0.8888888888888888,
             "#fdca26"
            ],
            [
             1,
             "#f0f921"
            ]
           ],
           "sequentialminus": [
            [
             0,
             "#0d0887"
            ],
            [
             0.1111111111111111,
             "#46039f"
            ],
            [
             0.2222222222222222,
             "#7201a8"
            ],
            [
             0.3333333333333333,
             "#9c179e"
            ],
            [
             0.4444444444444444,
             "#bd3786"
            ],
            [
             0.5555555555555556,
             "#d8576b"
            ],
            [
             0.6666666666666666,
             "#ed7953"
            ],
            [
             0.7777777777777778,
             "#fb9f3a"
            ],
            [
             0.8888888888888888,
             "#fdca26"
            ],
            [
             1,
             "#f0f921"
            ]
           ]
          },
          "colorway": [
           "#636efa",
           "#EF553B",
           "#00cc96",
           "#ab63fa",
           "#FFA15A",
           "#19d3f3",
           "#FF6692",
           "#B6E880",
           "#FF97FF",
           "#FECB52"
          ],
          "font": {
           "color": "#2a3f5f"
          },
          "geo": {
           "bgcolor": "white",
           "lakecolor": "white",
           "landcolor": "#E5ECF6",
           "showlakes": true,
           "showland": true,
           "subunitcolor": "white"
          },
          "hoverlabel": {
           "align": "left"
          },
          "hovermode": "closest",
          "mapbox": {
           "style": "light"
          },
          "paper_bgcolor": "white",
          "plot_bgcolor": "#E5ECF6",
          "polar": {
           "angularaxis": {
            "gridcolor": "white",
            "linecolor": "white",
            "ticks": ""
           },
           "bgcolor": "#E5ECF6",
           "radialaxis": {
            "gridcolor": "white",
            "linecolor": "white",
            "ticks": ""
           }
          },
          "scene": {
           "xaxis": {
            "backgroundcolor": "#E5ECF6",
            "gridcolor": "white",
            "gridwidth": 2,
            "linecolor": "white",
            "showbackground": true,
            "ticks": "",
            "zerolinecolor": "white"
           },
           "yaxis": {
            "backgroundcolor": "#E5ECF6",
            "gridcolor": "white",
            "gridwidth": 2,
            "linecolor": "white",
            "showbackground": true,
            "ticks": "",
            "zerolinecolor": "white"
           },
           "zaxis": {
            "backgroundcolor": "#E5ECF6",
            "gridcolor": "white",
            "gridwidth": 2,
            "linecolor": "white",
            "showbackground": true,
            "ticks": "",
            "zerolinecolor": "white"
           }
          },
          "shapedefaults": {
           "line": {
            "color": "#2a3f5f"
           }
          },
          "ternary": {
           "aaxis": {
            "gridcolor": "white",
            "linecolor": "white",
            "ticks": ""
           },
           "baxis": {
            "gridcolor": "white",
            "linecolor": "white",
            "ticks": ""
           },
           "bgcolor": "#E5ECF6",
           "caxis": {
            "gridcolor": "white",
            "linecolor": "white",
            "ticks": ""
           }
          },
          "title": {
           "x": 0.05
          },
          "xaxis": {
           "automargin": true,
           "gridcolor": "white",
           "linecolor": "white",
           "ticks": "",
           "title": {
            "standoff": 15
           },
           "zerolinecolor": "white",
           "zerolinewidth": 2
          },
          "yaxis": {
           "automargin": true,
           "gridcolor": "white",
           "linecolor": "white",
           "ticks": "",
           "title": {
            "standoff": 15
           },
           "zerolinecolor": "white",
           "zerolinewidth": 2
          }
         }
        },
        "xaxis": {
         "anchor": "y",
         "domain": [
          0,
          1
         ],
         "title": {
          "text": "PC1"
         }
        },
        "yaxis": {
         "anchor": "x",
         "domain": [
          0,
          1
         ],
         "title": {
          "text": "PC2"
         }
        }
       }
      }
     },
     "metadata": {},
     "output_type": "display_data"
    },
    {
     "name": "stdout",
     "output_type": "stream",
     "text": [
      "eps:0.48\n",
      "min:4\n",
      "3\n",
      "         borough  neighborhood  longitude  latitude  population  PC1  PC2  \\\n",
      "cluster                                                                     \n",
      "-1            53            53         53        53          53   53   53   \n",
      " 0           230           230        230       230         230  230  230   \n",
      " 1            23            23         23        23          23   23   23   \n",
      "\n",
      "         PC3  PC4  PC5  \n",
      "cluster                 \n",
      "-1        53   53   53  \n",
      " 0       230  230  230  \n",
      " 1        23   23   23  \n"
     ]
    },
    {
     "data": {
      "application/vnd.plotly.v1+json": {
       "config": {
        "plotlyServerURL": "https://plot.ly"
       },
       "data": [
        {
         "hovertemplate": "PC1=%{x}<br>PC2=%{y}<br>cluster=%{marker.color}<extra></extra>",
         "legendgroup": "",
         "marker": {
          "color": [
           -1,
           0,
           0,
           0,
           0,
           -1,
           -1,
           0,
           0,
           0,
           0,
           0,
           0,
           0,
           0,
           0,
           -1,
           0,
           0,
           0,
           0,
           0,
           0,
           0,
           0,
           0,
           -1,
           0,
           0,
           0,
           0,
           0,
           0,
           0,
           -1,
           0,
           0,
           0,
           0,
           0,
           0,
           0,
           0,
           0,
           0,
           -1,
           0,
           -1,
           -1,
           -1,
           0,
           0,
           0,
           -1,
           0,
           -1,
           0,
           0,
           -1,
           0,
           -1,
           0,
           -1,
           -1,
           0,
           0,
           0,
           0,
           -1,
           0,
           0,
           -1,
           0,
           0,
           0,
           0,
           0,
           0,
           0,
           -1,
           0,
           0,
           0,
           -1,
           0,
           0,
           0,
           1,
           0,
           0,
           -1,
           0,
           0,
           0,
           0,
           -1,
           -1,
           0,
           0,
           0,
           -1,
           -1,
           -1,
           -1,
           -1,
           -1,
           -1,
           1,
           0,
           1,
           0,
           0,
           0,
           1,
           1,
           1,
           1,
           1,
           1,
           1,
           1,
           -1,
           1,
           -1,
           0,
           0,
           1,
           1,
           1,
           0,
           0,
           -1,
           -1,
           0,
           0,
           0,
           0,
           0,
           -1,
           0,
           0,
           -1,
           0,
           0,
           0,
           0,
           -1,
           0,
           0,
           0,
           0,
           0,
           0,
           0,
           0,
           0,
           -1,
           0,
           0,
           -1,
           -1,
           0,
           0,
           0,
           0,
           0,
           0,
           0,
           0,
           0,
           0,
           0,
           0,
           0,
           0,
           0,
           0,
           0,
           0,
           0,
           -1,
           0,
           0,
           0,
           -1,
           0,
           0,
           0,
           0,
           -1,
           0,
           0,
           0,
           0,
           0,
           0,
           0,
           0,
           0,
           0,
           0,
           0,
           0,
           0,
           0,
           0,
           0,
           0,
           0,
           0,
           0,
           0,
           0,
           0,
           0,
           0,
           0,
           0,
           0,
           0,
           0,
           0,
           -1,
           -1,
           0,
           0,
           0,
           0,
           0,
           0,
           0,
           0,
           0,
           0,
           0,
           0,
           0,
           0,
           0,
           0,
           0,
           0,
           0,
           0,
           0,
           0,
           0,
           0,
           1,
           1,
           1,
           0,
           0,
           0,
           0,
           0,
           0,
           0,
           0,
           -1,
           0,
           0,
           0,
           -1,
           0,
           0,
           0,
           0,
           0,
           0,
           0,
           1,
           -1,
           1,
           1,
           0,
           1,
           0,
           0,
           0,
           -1,
           0,
           -1,
           -1,
           0,
           0,
           0,
           0,
           0,
           0,
           0,
           0,
           0,
           0,
           0,
           -1,
           0,
           0,
           0,
           0,
           -1,
           1,
           0,
           0,
           0,
           0
          ],
          "coloraxis": "coloraxis",
          "symbol": "circle"
         },
         "mode": "markers",
         "name": "",
         "orientation": "v",
         "showlegend": false,
         "type": "scatter",
         "x": [
          -0.2999392354396995,
          -0.5181567708027076,
          -0.5389529254485282,
          -0.538111552554458,
          -0.516147602315639,
          0.46436840244932165,
          0.45352076282083575,
          -0.36327500134531987,
          0.04290603085482082,
          -0.13461435110212733,
          -0.4021395629348593,
          -0.13263860935977162,
          -0.9483488226574535,
          0.4074897950783606,
          0.5755622369262103,
          0.4674770541294375,
          1.0962259089896498,
          0.06685585748113411,
          0.2778291084640352,
          0.7242728941962615,
          0.2918559862072228,
          0.3980223461832242,
          -0.3848464860122922,
          -0.014177861706992366,
          -0.9552179762738815,
          0.4053671312191602,
          -0.2559588648471157,
          -1.165877009943115,
          -1.123375288912157,
          -0.6682835524122395,
          0.44047777141560857,
          0.04834022053030687,
          0.18681620011700503,
          -0.12929955851795105,
          0.7926923362590205,
          -0.1882807513299356,
          -0.7190695415655564,
          -0.5011519532650851,
          -0.5933321056281312,
          -0.8164408217059835,
          -0.6518866033230457,
          -0.15836603627267384,
          -0.6887001045380412,
          0.6232455811904835,
          0.2706131565114359,
          -0.2071280008458385,
          0.5677760170889561,
          0.4245282417662995,
          0.732062723687729,
          0.6647666160441524,
          -0.378894367925141,
          0.11331680105654329,
          0.142877082087975,
          0.2632720089673174,
          0.4831505169580193,
          1.0005011370457608,
          -0.009630308343033559,
          0.2695181763843945,
          0.23981404950292573,
          1.2438990294991203,
          0.12527502179245878,
          1.4755149046700555,
          1.138193032280503,
          1.0793748522987965,
          1.2195699562132947,
          1.3847052739269194,
          1.2912653987621434,
          -0.682811717914585,
          0.663631218340794,
          1.358342087824533,
          1.1856016916134868,
          -0.252778598793644,
          -0.006656674233660172,
          -0.841890486218964,
          -0.6430458770964462,
          -0.4365305003620773,
          -1.1224678795253045,
          -0.1388711206074483,
          -0.48034423639408136,
          0.11468942196092147,
          0.20418279961275473,
          0.33166584407063376,
          -0.8933655040828606,
          -0.2901670903642142,
          1.098767249838175,
          -1.2918134088644488,
          1.5246429037063425,
          1.9910611771883795,
          0.8401309794319323,
          0.33847176321781003,
          0.1957535097812927,
          -1.3755622666980964,
          0.22616411597253527,
          0.5151905018672949,
          -0.49922104036443843,
          1.1818386941391135,
          1.3017672782590088,
          1.5691723592542213,
          0.0721695713439749,
          0.07695090884878672,
          2.022009337706604,
          0.8372956790584203,
          0.6792680364483404,
          1.0436176101307042,
          1.129176764730745,
          1.2963415173711779,
          1.0937694175631123,
          1.7095781838571862,
          1.664751256357031,
          1.7319753122188069,
          0.53075277508637,
          1.3780563005591284,
          1.522390516442774,
          2.171819140053922,
          2.579792781075722,
          2.4050923519676446,
          2.121897541368075,
          2.01551488518807,
          1.7836424743897554,
          1.7050711658750761,
          2.0232344874056816,
          2.205680687495938,
          2.1715116241664383,
          1.5835690324135638,
          1.0656490790447863,
          0.8449220416723394,
          1.9274303799611379,
          1.8424003400772775,
          2.0090349724392573,
          1.3125009630585187,
          0.8255673291381561,
          1.2400133851911501,
          1.3418010110571237,
          -0.9548712423275117,
          0.28051516243332686,
          0.45589960495084303,
          -0.04180753981802375,
          -0.043454082322605635,
          1.1382596128222702,
          0.5358606324571142,
          0.035464794515611416,
          -0.22994680784223304,
          -0.5647312521852714,
          0.622162642316137,
          -0.8921332540665712,
          0.4934773707581297,
          0.33583190890043985,
          0.0014838290646109343,
          -0.4765564490982787,
          -0.8448059378525163,
          -0.7033879883662709,
          -0.05711951422719375,
          0.01890778608226496,
          -0.5438246284401622,
          -0.6419414770535792,
          -0.9033013766285666,
          -0.6373854809111569,
          -0.4565410805689251,
          -0.5730667974493526,
          0.13838462583574498,
          0.7028844179449769,
          -0.8310735558464718,
          -0.6803916826523227,
          -0.6639812987716027,
          0.18182383438444333,
          -0.5975522904980415,
          -0.6803529798702498,
          -0.9000858945038492,
          -0.8695655035076317,
          -0.901315538504906,
          -0.3101310245623727,
          -1.4024391299408305,
          -1.3836611538878454,
          0.24300737165451552,
          -0.865735067860948,
          -1.1343893595241143,
          -1.1831269951009487,
          -1.0774637307442498,
          -0.2302240588318395,
          -1.3643437993340608,
          0.1946894575213927,
          -0.6657633126769088,
          -0.9526624848903337,
          -0.24938306614677389,
          -0.546233901638181,
          -0.6581461694961046,
          0.9847529679272189,
          -0.8477465986250363,
          -0.6081684833910217,
          0.2827774014347927,
          -1.3024974168783492,
          -0.7678514830652007,
          -1.1206671649331457,
          -1.208669516100077,
          -1.1747656914848847,
          0.11738470018073716,
          0.6631359976059288,
          -0.3757918696780955,
          -0.09904119415014753,
          -0.22170254223361455,
          -0.7964968798506339,
          -0.7813598390769764,
          -0.5760780444236835,
          -1.2465716026538567,
          -1.2733919839582715,
          -0.06641260338746098,
          -0.6429277864815851,
          -1.3476147622158514,
          -1.0383378118215698,
          -1.1439425381498158,
          -1.3163852637328892,
          -0.2401620319660303,
          -1.0985370437572568,
          -0.6859331897246643,
          -0.8000054116940196,
          -1.1716224595484603,
          -1.2459616007084795,
          -1.183120955691874,
          0.1184476894250234,
          -1.074834626712761,
          -1.018303994835368,
          0.7119487479506225,
          0.21019144684223565,
          -0.03723478249683049,
          -0.8312148080119293,
          -0.07597849202451003,
          -0.5426923616511136,
          -1.1850811809292456,
          -1.1247929828229555,
          -0.8924012361639907,
          -1.0092181481457057,
          -0.7337429475685675,
          -0.9920979643224627,
          -0.10755176092971798,
          -0.6812465975137608,
          -1.0817165507307511,
          -1.250744390363617,
          -1.0642077531973524,
          -1.2920494223590977,
          -0.8565008406139715,
          -1.4536207982734528,
          -1.2808351412577583,
          -1.198167203468849,
          -0.5367965483003608,
          -1.2594254790104038,
          -1.374932311355924,
          -1.0126922615888843,
          1.3306919365514172,
          2.225865804501945,
          2.2884025223718285,
          2.537278143681823,
          -1.36163317499136,
          -1.0563102969299942,
          -0.3827028476264218,
          -0.945506188922139,
          -1.0782766619270727,
          -0.763914925466357,
          -1.3521695798749969,
          -0.17448321466246525,
          -0.17660537528721643,
          -0.256216419868812,
          -0.8367738007957795,
          -0.5556874893432492,
          0.6198053593563561,
          -0.5849703883238309,
          -0.8888690669875318,
          -0.9414771107697821,
          0.25786474491043077,
          0.8270229322509042,
          0.6026698284905444,
          0.4525977843573021,
          1.8269526485588876,
          0.3153932075476958,
          1.9017507345834945,
          1.6197218593294567,
          1.247418735226473,
          2.1371897859491797,
          0.4383904065626343,
          -0.3173487678689919,
          1.1498494092292053,
          0.6263732421524841,
          0.7834573998248294,
          0.213117310884682,
          0.7612025505621709,
          -1.2310972979983905,
          -1.0287800024670455,
          -1.3438732399976079,
          -1.2490796256034082,
          -1.5032304456623122,
          0.255952742235144,
          -0.9181242828565992,
          -1.2484616396951735,
          -1.387126864861877,
          -0.5588738837253546,
          -0.8447093185072994,
          -0.6525092224023513,
          0.003755333333790615,
          -0.06437641491923062,
          -0.4586950287429286,
          0.5655525050079675,
          0.14886431458832958,
          1.9165147047372728,
          -0.5520607731433764,
          -0.8665174120226569,
          0.24557006740058984,
          -0.6641900420123495
         ],
         "xaxis": "x",
         "y": [
          0.806299978323345,
          0.5349393015194553,
          0.44599647582055696,
          -0.1793164740659275,
          -0.01769137499653219,
          0.41058465151014867,
          0.805030540193982,
          0.12616875832724325,
          0.8936856326076474,
          1.1937107915376588,
          0.7543189999854552,
          0.653749589826394,
          -0.40550348727951807,
          0.8244221157527419,
          1.1307142036472466,
          0.970872373665378,
          0.6870530098903527,
          1.195575934707533,
          1.1014896400520062,
          1.09681677806123,
          0.928080826381978,
          0.592134280152459,
          0.47562555173320953,
          0.8055763977577076,
          -0.21780703784143277,
          1.2914241376495152,
          1.1831144068745167,
          -0.5134561925369533,
          -0.4383503902814716,
          0.08477690193539078,
          1.103084930273736,
          0.7287044565318851,
          0.6734756931322404,
          0.42412801326183636,
          -0.013412536420554465,
          0.09348723252204139,
          -0.03126620346800106,
          0.10622988467370176,
          0.3204061571457269,
          0.04114621084721529,
          0.5441166678972398,
          1.269412365700332,
          0.3890853714637924,
          1.3999182962166496,
          1.1725030213949628,
          0.9124573390427227,
          -0.2635571307489102,
          -0.14931406519656187,
          0.3993865877828994,
          -0.6724918539388018,
          0.1351975030420144,
          0.047011905832725895,
          -0.1034344742114677,
          0.07328075642167255,
          0.32664796588263395,
          0.9212580426971713,
          0.5885945269887833,
          0.10348473039158303,
          -0.6219532435292111,
          -0.12463045518885603,
          1.445186660804491,
          -0.6688011664810389,
          -0.04205386096823332,
          0.4802884413187154,
          -0.49455504022883073,
          -0.596022913019379,
          -0.6381787404578652,
          -0.29860595583620336,
          -0.3356644082449101,
          -0.4823523671241202,
          -0.7220396281382598,
          0.6144407438954747,
          1.0530064676844941,
          0.24200873578627774,
          0.6064978297019271,
          0.7980160729786023,
          -0.4227843487238337,
          -0.40063968867330546,
          0.4778627000862738,
          -0.14439306931082832,
          0.3795655702604848,
          -0.30418728276073764,
          0.11483956569065727,
          0.3615664495193163,
          -0.013911891146466918,
          -0.7044141398075099,
          -0.2800072149436896,
          -0.5814248610672074,
          0.35722150296692495,
          0.6063673720815981,
          0.709087978250995,
          -0.7611222046166933,
          0.3774782018983608,
          0.6079010048661659,
          0.2716194987998772,
          -0.5090884148566687,
          -0.9437509369766337,
          -0.7378243749433759,
          -0.15552435429764988,
          -0.30806304786888233,
          -0.5554189723270366,
          0.3185146583820584,
          0.7247207402148527,
          0.16510974164216402,
          0.1817870913356511,
          0.2919149709822771,
          0.2558480997560535,
          -0.4853326660958113,
          -0.4555442915210945,
          -0.6267123830101081,
          -0.32423207220716815,
          -0.6495348163603091,
          -0.5969335909333425,
          -0.6950982002260162,
          -0.8039023492315185,
          -0.8463540031478058,
          -0.5639906220731845,
          -0.7322479489843708,
          -0.8044673584062482,
          -0.7676345699736715,
          -0.7355576384336225,
          -0.6130992848679153,
          -0.8059487000352696,
          -1.0556049319587602,
          -0.3043116814894053,
          0.1317347249774442,
          -0.6293984293686756,
          -0.5393492189955894,
          -0.7495620564751544,
          -0.35019237233317807,
          0.11443426324989052,
          0.4067915046809062,
          0.12000357637589167,
          -0.31145674429000497,
          0.496994593824929,
          -0.28021741711873244,
          0.24619949230250915,
          0.41604679114290544,
          -0.1015905721393609,
          -0.1843634912628376,
          0.06159704164544002,
          0.44138833394384336,
          0.059973938363108076,
          0.04652081222635425,
          -0.10196749287086464,
          0.10470188666250062,
          0.6006534161589127,
          0.7506775637707709,
          0.5835619850401902,
          0.28478019992150755,
          -0.36648661318174,
          -0.1903221685965428,
          -0.005708674005146361,
          -0.10585684802205063,
          -0.12671836662788946,
          -0.1988475305088498,
          0.3782128639469237,
          0.07549035300725004,
          0.18313485776756228,
          0.8155829016706871,
          1.1102009563266175,
          -0.3568756115783724,
          0.4047238529565508,
          0.918537119146883,
          0.9728554455323954,
          0.5560639138111109,
          0.765225898098094,
          0.04022404594353627,
          0.35508548416671015,
          0.22162661818381768,
          0.8284947314030138,
          -0.6537694487278716,
          -0.7383699243435852,
          -0.42551296308643355,
          -0.32512834768898924,
          -0.6807920469417668,
          -0.5458966020931459,
          -0.4685939823007847,
          -0.06288028325875307,
          -0.8312861038801539,
          0.045713707932120505,
          0.24051550785415066,
          0.0009869988782313435,
          0.8479540938652118,
          -0.295818599313753,
          0.24241513541459378,
          -0.14631157145142862,
          0.12418188909830893,
          0.46810003866105077,
          0.42128334238073467,
          -0.6733519755899642,
          -0.2765333786047671,
          -0.5454340157723812,
          -0.4841277030800287,
          -0.06445174613844017,
          0.8740842671779211,
          -0.3193841475305961,
          0.2066563044923224,
          0.27398222527272015,
          0.4397866282894236,
          -0.20782386304993866,
          -0.2656628069820084,
          0.28919558193670014,
          -0.6545853993429349,
          -0.7103354798988762,
          0.3576148822363461,
          0.36183146193320953,
          -0.6692418085540119,
          -0.20552626434165477,
          -0.5864409628256706,
          -0.8377849417368702,
          0.0935487716687992,
          -0.44900336834152127,
          -0.5901441113090965,
          -0.3917681463328883,
          -0.7674141328637799,
          -0.790765429939808,
          -0.8054599803417316,
          -0.016931352592281845,
          -0.5094929728558609,
          -0.6637113450865609,
          0.4886784692452135,
          1.1508499654648823,
          1.2183994258112232,
          -0.11215989769980683,
          0.023045464500308907,
          0.3967862844815681,
          -0.4159882474359355,
          -0.8105737967963041,
          -0.40881540860361004,
          -0.33478534934271587,
          -0.25903853410658934,
          -0.5578357298097841,
          0.1675564582240629,
          0.10479074786371335,
          -0.7038937850573096,
          -0.6664356234858254,
          -0.7291521011755766,
          -0.8782459950638907,
          -0.6307671049443168,
          -0.810023494543922,
          -0.8434386949904867,
          -0.5271644224958127,
          -0.043817908560705866,
          -0.6967171431930672,
          -0.7286831182420442,
          -0.2891920808217153,
          -0.7227639140117216,
          -0.6673439667575884,
          -0.6187829202613706,
          -0.9053475762065974,
          -0.5820089421166709,
          -0.39687302140975966,
          0.3460011652400142,
          -0.3769561957580825,
          -0.6806714700365031,
          -0.2511242329470653,
          -0.8174237112388035,
          0.20987101615847012,
          1.009957317130405,
          1.0322876884571575,
          0.31568090709172775,
          0.28970097830594943,
          1.1529544549991322,
          0.13115219815923157,
          -0.14008448310831018,
          -0.27458446774217077,
          0.9810726152811008,
          1.1131847799044698,
          1.0469350506714832,
          0.9777811142701341,
          -0.7656895311483325,
          -0.7390406014244911,
          -0.5453813327248558,
          -0.6452777304513234,
          -0.5972468033648282,
          -0.7252665042150467,
          -0.18547157900937017,
          0.06888428902178695,
          -0.68618385886783,
          -0.37218942002373007,
          0.4804271284122918,
          0.9516738981098124,
          -0.5462149460677708,
          -0.6332873184204082,
          -0.4614251128926636,
          -0.8623589229915303,
          -0.7264368586825095,
          -0.7802563375255952,
          -0.029181224468502555,
          -0.23476004348722218,
          -0.7158566990527655,
          -0.8675102170516804,
          -0.3451099096885358,
          -0.228025450820487,
          0.7335081177022897,
          0.10556960418357397,
          0.4263760868686934,
          1.1067314536342658,
          1.0773970308375467,
          0.8412009169066555,
          -0.7321100938004265,
          -0.3526133465237766,
          -0.30215238181881504,
          0.018321377007454998,
          -0.014265755706041225
         ],
         "yaxis": "y"
        }
       ],
       "layout": {
        "coloraxis": {
         "colorbar": {
          "title": {
           "text": "cluster"
          }
         },
         "colorscale": [
          [
           0,
           "#0d0887"
          ],
          [
           0.1111111111111111,
           "#46039f"
          ],
          [
           0.2222222222222222,
           "#7201a8"
          ],
          [
           0.3333333333333333,
           "#9c179e"
          ],
          [
           0.4444444444444444,
           "#bd3786"
          ],
          [
           0.5555555555555556,
           "#d8576b"
          ],
          [
           0.6666666666666666,
           "#ed7953"
          ],
          [
           0.7777777777777778,
           "#fb9f3a"
          ],
          [
           0.8888888888888888,
           "#fdca26"
          ],
          [
           1,
           "#f0f921"
          ]
         ]
        },
        "legend": {
         "tracegroupgap": 0
        },
        "margin": {
         "t": 60
        },
        "template": {
         "data": {
          "bar": [
           {
            "error_x": {
             "color": "#2a3f5f"
            },
            "error_y": {
             "color": "#2a3f5f"
            },
            "marker": {
             "line": {
              "color": "#E5ECF6",
              "width": 0.5
             },
             "pattern": {
              "fillmode": "overlay",
              "size": 10,
              "solidity": 0.2
             }
            },
            "type": "bar"
           }
          ],
          "barpolar": [
           {
            "marker": {
             "line": {
              "color": "#E5ECF6",
              "width": 0.5
             },
             "pattern": {
              "fillmode": "overlay",
              "size": 10,
              "solidity": 0.2
             }
            },
            "type": "barpolar"
           }
          ],
          "carpet": [
           {
            "aaxis": {
             "endlinecolor": "#2a3f5f",
             "gridcolor": "white",
             "linecolor": "white",
             "minorgridcolor": "white",
             "startlinecolor": "#2a3f5f"
            },
            "baxis": {
             "endlinecolor": "#2a3f5f",
             "gridcolor": "white",
             "linecolor": "white",
             "minorgridcolor": "white",
             "startlinecolor": "#2a3f5f"
            },
            "type": "carpet"
           }
          ],
          "choropleth": [
           {
            "colorbar": {
             "outlinewidth": 0,
             "ticks": ""
            },
            "type": "choropleth"
           }
          ],
          "contour": [
           {
            "colorbar": {
             "outlinewidth": 0,
             "ticks": ""
            },
            "colorscale": [
             [
              0,
              "#0d0887"
             ],
             [
              0.1111111111111111,
              "#46039f"
             ],
             [
              0.2222222222222222,
              "#7201a8"
             ],
             [
              0.3333333333333333,
              "#9c179e"
             ],
             [
              0.4444444444444444,
              "#bd3786"
             ],
             [
              0.5555555555555556,
              "#d8576b"
             ],
             [
              0.6666666666666666,
              "#ed7953"
             ],
             [
              0.7777777777777778,
              "#fb9f3a"
             ],
             [
              0.8888888888888888,
              "#fdca26"
             ],
             [
              1,
              "#f0f921"
             ]
            ],
            "type": "contour"
           }
          ],
          "contourcarpet": [
           {
            "colorbar": {
             "outlinewidth": 0,
             "ticks": ""
            },
            "type": "contourcarpet"
           }
          ],
          "heatmap": [
           {
            "colorbar": {
             "outlinewidth": 0,
             "ticks": ""
            },
            "colorscale": [
             [
              0,
              "#0d0887"
             ],
             [
              0.1111111111111111,
              "#46039f"
             ],
             [
              0.2222222222222222,
              "#7201a8"
             ],
             [
              0.3333333333333333,
              "#9c179e"
             ],
             [
              0.4444444444444444,
              "#bd3786"
             ],
             [
              0.5555555555555556,
              "#d8576b"
             ],
             [
              0.6666666666666666,
              "#ed7953"
             ],
             [
              0.7777777777777778,
              "#fb9f3a"
             ],
             [
              0.8888888888888888,
              "#fdca26"
             ],
             [
              1,
              "#f0f921"
             ]
            ],
            "type": "heatmap"
           }
          ],
          "heatmapgl": [
           {
            "colorbar": {
             "outlinewidth": 0,
             "ticks": ""
            },
            "colorscale": [
             [
              0,
              "#0d0887"
             ],
             [
              0.1111111111111111,
              "#46039f"
             ],
             [
              0.2222222222222222,
              "#7201a8"
             ],
             [
              0.3333333333333333,
              "#9c179e"
             ],
             [
              0.4444444444444444,
              "#bd3786"
             ],
             [
              0.5555555555555556,
              "#d8576b"
             ],
             [
              0.6666666666666666,
              "#ed7953"
             ],
             [
              0.7777777777777778,
              "#fb9f3a"
             ],
             [
              0.8888888888888888,
              "#fdca26"
             ],
             [
              1,
              "#f0f921"
             ]
            ],
            "type": "heatmapgl"
           }
          ],
          "histogram": [
           {
            "marker": {
             "pattern": {
              "fillmode": "overlay",
              "size": 10,
              "solidity": 0.2
             }
            },
            "type": "histogram"
           }
          ],
          "histogram2d": [
           {
            "colorbar": {
             "outlinewidth": 0,
             "ticks": ""
            },
            "colorscale": [
             [
              0,
              "#0d0887"
             ],
             [
              0.1111111111111111,
              "#46039f"
             ],
             [
              0.2222222222222222,
              "#7201a8"
             ],
             [
              0.3333333333333333,
              "#9c179e"
             ],
             [
              0.4444444444444444,
              "#bd3786"
             ],
             [
              0.5555555555555556,
              "#d8576b"
             ],
             [
              0.6666666666666666,
              "#ed7953"
             ],
             [
              0.7777777777777778,
              "#fb9f3a"
             ],
             [
              0.8888888888888888,
              "#fdca26"
             ],
             [
              1,
              "#f0f921"
             ]
            ],
            "type": "histogram2d"
           }
          ],
          "histogram2dcontour": [
           {
            "colorbar": {
             "outlinewidth": 0,
             "ticks": ""
            },
            "colorscale": [
             [
              0,
              "#0d0887"
             ],
             [
              0.1111111111111111,
              "#46039f"
             ],
             [
              0.2222222222222222,
              "#7201a8"
             ],
             [
              0.3333333333333333,
              "#9c179e"
             ],
             [
              0.4444444444444444,
              "#bd3786"
             ],
             [
              0.5555555555555556,
              "#d8576b"
             ],
             [
              0.6666666666666666,
              "#ed7953"
             ],
             [
              0.7777777777777778,
              "#fb9f3a"
             ],
             [
              0.8888888888888888,
              "#fdca26"
             ],
             [
              1,
              "#f0f921"
             ]
            ],
            "type": "histogram2dcontour"
           }
          ],
          "mesh3d": [
           {
            "colorbar": {
             "outlinewidth": 0,
             "ticks": ""
            },
            "type": "mesh3d"
           }
          ],
          "parcoords": [
           {
            "line": {
             "colorbar": {
              "outlinewidth": 0,
              "ticks": ""
             }
            },
            "type": "parcoords"
           }
          ],
          "pie": [
           {
            "automargin": true,
            "type": "pie"
           }
          ],
          "scatter": [
           {
            "fillpattern": {
             "fillmode": "overlay",
             "size": 10,
             "solidity": 0.2
            },
            "type": "scatter"
           }
          ],
          "scatter3d": [
           {
            "line": {
             "colorbar": {
              "outlinewidth": 0,
              "ticks": ""
             }
            },
            "marker": {
             "colorbar": {
              "outlinewidth": 0,
              "ticks": ""
             }
            },
            "type": "scatter3d"
           }
          ],
          "scattercarpet": [
           {
            "marker": {
             "colorbar": {
              "outlinewidth": 0,
              "ticks": ""
             }
            },
            "type": "scattercarpet"
           }
          ],
          "scattergeo": [
           {
            "marker": {
             "colorbar": {
              "outlinewidth": 0,
              "ticks": ""
             }
            },
            "type": "scattergeo"
           }
          ],
          "scattergl": [
           {
            "marker": {
             "colorbar": {
              "outlinewidth": 0,
              "ticks": ""
             }
            },
            "type": "scattergl"
           }
          ],
          "scattermapbox": [
           {
            "marker": {
             "colorbar": {
              "outlinewidth": 0,
              "ticks": ""
             }
            },
            "type": "scattermapbox"
           }
          ],
          "scatterpolar": [
           {
            "marker": {
             "colorbar": {
              "outlinewidth": 0,
              "ticks": ""
             }
            },
            "type": "scatterpolar"
           }
          ],
          "scatterpolargl": [
           {
            "marker": {
             "colorbar": {
              "outlinewidth": 0,
              "ticks": ""
             }
            },
            "type": "scatterpolargl"
           }
          ],
          "scatterternary": [
           {
            "marker": {
             "colorbar": {
              "outlinewidth": 0,
              "ticks": ""
             }
            },
            "type": "scatterternary"
           }
          ],
          "surface": [
           {
            "colorbar": {
             "outlinewidth": 0,
             "ticks": ""
            },
            "colorscale": [
             [
              0,
              "#0d0887"
             ],
             [
              0.1111111111111111,
              "#46039f"
             ],
             [
              0.2222222222222222,
              "#7201a8"
             ],
             [
              0.3333333333333333,
              "#9c179e"
             ],
             [
              0.4444444444444444,
              "#bd3786"
             ],
             [
              0.5555555555555556,
              "#d8576b"
             ],
             [
              0.6666666666666666,
              "#ed7953"
             ],
             [
              0.7777777777777778,
              "#fb9f3a"
             ],
             [
              0.8888888888888888,
              "#fdca26"
             ],
             [
              1,
              "#f0f921"
             ]
            ],
            "type": "surface"
           }
          ],
          "table": [
           {
            "cells": {
             "fill": {
              "color": "#EBF0F8"
             },
             "line": {
              "color": "white"
             }
            },
            "header": {
             "fill": {
              "color": "#C8D4E3"
             },
             "line": {
              "color": "white"
             }
            },
            "type": "table"
           }
          ]
         },
         "layout": {
          "annotationdefaults": {
           "arrowcolor": "#2a3f5f",
           "arrowhead": 0,
           "arrowwidth": 1
          },
          "autotypenumbers": "strict",
          "coloraxis": {
           "colorbar": {
            "outlinewidth": 0,
            "ticks": ""
           }
          },
          "colorscale": {
           "diverging": [
            [
             0,
             "#8e0152"
            ],
            [
             0.1,
             "#c51b7d"
            ],
            [
             0.2,
             "#de77ae"
            ],
            [
             0.3,
             "#f1b6da"
            ],
            [
             0.4,
             "#fde0ef"
            ],
            [
             0.5,
             "#f7f7f7"
            ],
            [
             0.6,
             "#e6f5d0"
            ],
            [
             0.7,
             "#b8e186"
            ],
            [
             0.8,
             "#7fbc41"
            ],
            [
             0.9,
             "#4d9221"
            ],
            [
             1,
             "#276419"
            ]
           ],
           "sequential": [
            [
             0,
             "#0d0887"
            ],
            [
             0.1111111111111111,
             "#46039f"
            ],
            [
             0.2222222222222222,
             "#7201a8"
            ],
            [
             0.3333333333333333,
             "#9c179e"
            ],
            [
             0.4444444444444444,
             "#bd3786"
            ],
            [
             0.5555555555555556,
             "#d8576b"
            ],
            [
             0.6666666666666666,
             "#ed7953"
            ],
            [
             0.7777777777777778,
             "#fb9f3a"
            ],
            [
             0.8888888888888888,
             "#fdca26"
            ],
            [
             1,
             "#f0f921"
            ]
           ],
           "sequentialminus": [
            [
             0,
             "#0d0887"
            ],
            [
             0.1111111111111111,
             "#46039f"
            ],
            [
             0.2222222222222222,
             "#7201a8"
            ],
            [
             0.3333333333333333,
             "#9c179e"
            ],
            [
             0.4444444444444444,
             "#bd3786"
            ],
            [
             0.5555555555555556,
             "#d8576b"
            ],
            [
             0.6666666666666666,
             "#ed7953"
            ],
            [
             0.7777777777777778,
             "#fb9f3a"
            ],
            [
             0.8888888888888888,
             "#fdca26"
            ],
            [
             1,
             "#f0f921"
            ]
           ]
          },
          "colorway": [
           "#636efa",
           "#EF553B",
           "#00cc96",
           "#ab63fa",
           "#FFA15A",
           "#19d3f3",
           "#FF6692",
           "#B6E880",
           "#FF97FF",
           "#FECB52"
          ],
          "font": {
           "color": "#2a3f5f"
          },
          "geo": {
           "bgcolor": "white",
           "lakecolor": "white",
           "landcolor": "#E5ECF6",
           "showlakes": true,
           "showland": true,
           "subunitcolor": "white"
          },
          "hoverlabel": {
           "align": "left"
          },
          "hovermode": "closest",
          "mapbox": {
           "style": "light"
          },
          "paper_bgcolor": "white",
          "plot_bgcolor": "#E5ECF6",
          "polar": {
           "angularaxis": {
            "gridcolor": "white",
            "linecolor": "white",
            "ticks": ""
           },
           "bgcolor": "#E5ECF6",
           "radialaxis": {
            "gridcolor": "white",
            "linecolor": "white",
            "ticks": ""
           }
          },
          "scene": {
           "xaxis": {
            "backgroundcolor": "#E5ECF6",
            "gridcolor": "white",
            "gridwidth": 2,
            "linecolor": "white",
            "showbackground": true,
            "ticks": "",
            "zerolinecolor": "white"
           },
           "yaxis": {
            "backgroundcolor": "#E5ECF6",
            "gridcolor": "white",
            "gridwidth": 2,
            "linecolor": "white",
            "showbackground": true,
            "ticks": "",
            "zerolinecolor": "white"
           },
           "zaxis": {
            "backgroundcolor": "#E5ECF6",
            "gridcolor": "white",
            "gridwidth": 2,
            "linecolor": "white",
            "showbackground": true,
            "ticks": "",
            "zerolinecolor": "white"
           }
          },
          "shapedefaults": {
           "line": {
            "color": "#2a3f5f"
           }
          },
          "ternary": {
           "aaxis": {
            "gridcolor": "white",
            "linecolor": "white",
            "ticks": ""
           },
           "baxis": {
            "gridcolor": "white",
            "linecolor": "white",
            "ticks": ""
           },
           "bgcolor": "#E5ECF6",
           "caxis": {
            "gridcolor": "white",
            "linecolor": "white",
            "ticks": ""
           }
          },
          "title": {
           "x": 0.05
          },
          "xaxis": {
           "automargin": true,
           "gridcolor": "white",
           "linecolor": "white",
           "ticks": "",
           "title": {
            "standoff": 15
           },
           "zerolinecolor": "white",
           "zerolinewidth": 2
          },
          "yaxis": {
           "automargin": true,
           "gridcolor": "white",
           "linecolor": "white",
           "ticks": "",
           "title": {
            "standoff": 15
           },
           "zerolinecolor": "white",
           "zerolinewidth": 2
          }
         }
        },
        "xaxis": {
         "anchor": "y",
         "domain": [
          0,
          1
         ],
         "title": {
          "text": "PC1"
         }
        },
        "yaxis": {
         "anchor": "x",
         "domain": [
          0,
          1
         ],
         "title": {
          "text": "PC2"
         }
        }
       }
      }
     },
     "metadata": {},
     "output_type": "display_data"
    },
    {
     "name": "stdout",
     "output_type": "stream",
     "text": [
      "eps:0.48\n",
      "min:5\n",
      "4\n",
      "         borough  neighborhood  longitude  latitude  population  PC1  PC2  \\\n",
      "cluster                                                                     \n",
      "-1            63            63         63        63          63   63   63   \n",
      " 0           184           184        184       184         184  184  184   \n",
      " 1            36            36         36        36          36   36   36   \n",
      " 2            23            23         23        23          23   23   23   \n",
      "\n",
      "         PC3  PC4  PC5  \n",
      "cluster                 \n",
      "-1        63   63   63  \n",
      " 0       184  184  184  \n",
      " 1        36   36   36  \n",
      " 2        23   23   23  \n"
     ]
    },
    {
     "data": {
      "application/vnd.plotly.v1+json": {
       "config": {
        "plotlyServerURL": "https://plot.ly"
       },
       "data": [
        {
         "hovertemplate": "PC1=%{x}<br>PC2=%{y}<br>cluster=%{marker.color}<extra></extra>",
         "legendgroup": "",
         "marker": {
          "color": [
           -1,
           0,
           0,
           0,
           0,
           -1,
           -1,
           0,
           0,
           -1,
           0,
           0,
           0,
           0,
           0,
           0,
           -1,
           0,
           0,
           0,
           0,
           1,
           0,
           0,
           0,
           0,
           -1,
           0,
           0,
           0,
           0,
           0,
           0,
           0,
           -1,
           0,
           0,
           0,
           0,
           0,
           0,
           -1,
           0,
           0,
           0,
           -1,
           1,
           -1,
           -1,
           -1,
           0,
           0,
           0,
           -1,
           1,
           -1,
           0,
           0,
           -1,
           1,
           -1,
           1,
           -1,
           -1,
           1,
           1,
           1,
           0,
           -1,
           1,
           1,
           -1,
           0,
           0,
           0,
           0,
           0,
           0,
           0,
           -1,
           0,
           0,
           0,
           -1,
           1,
           0,
           1,
           2,
           1,
           -1,
           -1,
           0,
           0,
           1,
           0,
           -1,
           -1,
           1,
           0,
           1,
           -1,
           -1,
           -1,
           -1,
           -1,
           -1,
           -1,
           2,
           1,
           2,
           1,
           1,
           1,
           2,
           2,
           2,
           2,
           2,
           2,
           2,
           2,
           -1,
           2,
           -1,
           1,
           1,
           2,
           2,
           2,
           1,
           1,
           -1,
           -1,
           0,
           0,
           1,
           0,
           0,
           -1,
           1,
           0,
           -1,
           0,
           1,
           0,
           0,
           -1,
           0,
           0,
           0,
           0,
           0,
           0,
           -1,
           -1,
           0,
           -1,
           0,
           0,
           -1,
           -1,
           0,
           0,
           0,
           -1,
           0,
           0,
           0,
           0,
           0,
           0,
           0,
           0,
           1,
           0,
           0,
           0,
           0,
           0,
           0,
           -1,
           0,
           0,
           0,
           -1,
           0,
           1,
           0,
           0,
           -1,
           0,
           0,
           0,
           0,
           0,
           0,
           1,
           0,
           0,
           0,
           0,
           0,
           0,
           0,
           0,
           0,
           0,
           0,
           0,
           0,
           0,
           -1,
           0,
           0,
           0,
           0,
           0,
           0,
           0,
           0,
           0,
           1,
           -1,
           -1,
           0,
           0,
           0,
           0,
           0,
           0,
           0,
           0,
           0,
           0,
           0,
           0,
           0,
           0,
           0,
           0,
           0,
           0,
           0,
           0,
           0,
           0,
           0,
           1,
           2,
           2,
           2,
           0,
           0,
           0,
           0,
           0,
           0,
           0,
           0,
           -1,
           -1,
           0,
           0,
           -1,
           0,
           0,
           0,
           0,
           0,
           0,
           0,
           2,
           -1,
           2,
           2,
           1,
           2,
           1,
           0,
           1,
           -1,
           -1,
           -1,
           -1,
           0,
           0,
           0,
           0,
           0,
           0,
           0,
           0,
           0,
           0,
           0,
           -1,
           0,
           0,
           -1,
           0,
           -1,
           2,
           0,
           0,
           1,
           0
          ],
          "coloraxis": "coloraxis",
          "symbol": "circle"
         },
         "mode": "markers",
         "name": "",
         "orientation": "v",
         "showlegend": false,
         "type": "scatter",
         "x": [
          -0.2999392354396995,
          -0.5181567708027076,
          -0.5389529254485282,
          -0.538111552554458,
          -0.516147602315639,
          0.46436840244932165,
          0.45352076282083575,
          -0.36327500134531987,
          0.04290603085482082,
          -0.13461435110212733,
          -0.4021395629348593,
          -0.13263860935977162,
          -0.9483488226574535,
          0.4074897950783606,
          0.5755622369262103,
          0.4674770541294375,
          1.0962259089896498,
          0.06685585748113411,
          0.2778291084640352,
          0.7242728941962615,
          0.2918559862072228,
          0.3980223461832242,
          -0.3848464860122922,
          -0.014177861706992366,
          -0.9552179762738815,
          0.4053671312191602,
          -0.2559588648471157,
          -1.165877009943115,
          -1.123375288912157,
          -0.6682835524122395,
          0.44047777141560857,
          0.04834022053030687,
          0.18681620011700503,
          -0.12929955851795105,
          0.7926923362590205,
          -0.1882807513299356,
          -0.7190695415655564,
          -0.5011519532650851,
          -0.5933321056281312,
          -0.8164408217059835,
          -0.6518866033230457,
          -0.15836603627267384,
          -0.6887001045380412,
          0.6232455811904835,
          0.2706131565114359,
          -0.2071280008458385,
          0.5677760170889561,
          0.4245282417662995,
          0.732062723687729,
          0.6647666160441524,
          -0.378894367925141,
          0.11331680105654329,
          0.142877082087975,
          0.2632720089673174,
          0.4831505169580193,
          1.0005011370457608,
          -0.009630308343033559,
          0.2695181763843945,
          0.23981404950292573,
          1.2438990294991203,
          0.12527502179245878,
          1.4755149046700555,
          1.138193032280503,
          1.0793748522987965,
          1.2195699562132947,
          1.3847052739269194,
          1.2912653987621434,
          -0.682811717914585,
          0.663631218340794,
          1.358342087824533,
          1.1856016916134868,
          -0.252778598793644,
          -0.006656674233660172,
          -0.841890486218964,
          -0.6430458770964462,
          -0.4365305003620773,
          -1.1224678795253045,
          -0.1388711206074483,
          -0.48034423639408136,
          0.11468942196092147,
          0.20418279961275473,
          0.33166584407063376,
          -0.8933655040828606,
          -0.2901670903642142,
          1.098767249838175,
          -1.2918134088644488,
          1.5246429037063425,
          1.9910611771883795,
          0.8401309794319323,
          0.33847176321781003,
          0.1957535097812927,
          -1.3755622666980964,
          0.22616411597253527,
          0.5151905018672949,
          -0.49922104036443843,
          1.1818386941391135,
          1.3017672782590088,
          1.5691723592542213,
          0.0721695713439749,
          0.07695090884878672,
          2.022009337706604,
          0.8372956790584203,
          0.6792680364483404,
          1.0436176101307042,
          1.129176764730745,
          1.2963415173711779,
          1.0937694175631123,
          1.7095781838571862,
          1.664751256357031,
          1.7319753122188069,
          0.53075277508637,
          1.3780563005591284,
          1.522390516442774,
          2.171819140053922,
          2.579792781075722,
          2.4050923519676446,
          2.121897541368075,
          2.01551488518807,
          1.7836424743897554,
          1.7050711658750761,
          2.0232344874056816,
          2.205680687495938,
          2.1715116241664383,
          1.5835690324135638,
          1.0656490790447863,
          0.8449220416723394,
          1.9274303799611379,
          1.8424003400772775,
          2.0090349724392573,
          1.3125009630585187,
          0.8255673291381561,
          1.2400133851911501,
          1.3418010110571237,
          -0.9548712423275117,
          0.28051516243332686,
          0.45589960495084303,
          -0.04180753981802375,
          -0.043454082322605635,
          1.1382596128222702,
          0.5358606324571142,
          0.035464794515611416,
          -0.22994680784223304,
          -0.5647312521852714,
          0.622162642316137,
          -0.8921332540665712,
          0.4934773707581297,
          0.33583190890043985,
          0.0014838290646109343,
          -0.4765564490982787,
          -0.8448059378525163,
          -0.7033879883662709,
          -0.05711951422719375,
          0.01890778608226496,
          -0.5438246284401622,
          -0.6419414770535792,
          -0.9033013766285666,
          -0.6373854809111569,
          -0.4565410805689251,
          -0.5730667974493526,
          0.13838462583574498,
          0.7028844179449769,
          -0.8310735558464718,
          -0.6803916826523227,
          -0.6639812987716027,
          0.18182383438444333,
          -0.5975522904980415,
          -0.6803529798702498,
          -0.9000858945038492,
          -0.8695655035076317,
          -0.901315538504906,
          -0.3101310245623727,
          -1.4024391299408305,
          -1.3836611538878454,
          0.24300737165451552,
          -0.865735067860948,
          -1.1343893595241143,
          -1.1831269951009487,
          -1.0774637307442498,
          -0.2302240588318395,
          -1.3643437993340608,
          0.1946894575213927,
          -0.6657633126769088,
          -0.9526624848903337,
          -0.24938306614677389,
          -0.546233901638181,
          -0.6581461694961046,
          0.9847529679272189,
          -0.8477465986250363,
          -0.6081684833910217,
          0.2827774014347927,
          -1.3024974168783492,
          -0.7678514830652007,
          -1.1206671649331457,
          -1.208669516100077,
          -1.1747656914848847,
          0.11738470018073716,
          0.6631359976059288,
          -0.3757918696780955,
          -0.09904119415014753,
          -0.22170254223361455,
          -0.7964968798506339,
          -0.7813598390769764,
          -0.5760780444236835,
          -1.2465716026538567,
          -1.2733919839582715,
          -0.06641260338746098,
          -0.6429277864815851,
          -1.3476147622158514,
          -1.0383378118215698,
          -1.1439425381498158,
          -1.3163852637328892,
          -0.2401620319660303,
          -1.0985370437572568,
          -0.6859331897246643,
          -0.8000054116940196,
          -1.1716224595484603,
          -1.2459616007084795,
          -1.183120955691874,
          0.1184476894250234,
          -1.074834626712761,
          -1.018303994835368,
          0.7119487479506225,
          0.21019144684223565,
          -0.03723478249683049,
          -0.8312148080119293,
          -0.07597849202451003,
          -0.5426923616511136,
          -1.1850811809292456,
          -1.1247929828229555,
          -0.8924012361639907,
          -1.0092181481457057,
          -0.7337429475685675,
          -0.9920979643224627,
          -0.10755176092971798,
          -0.6812465975137608,
          -1.0817165507307511,
          -1.250744390363617,
          -1.0642077531973524,
          -1.2920494223590977,
          -0.8565008406139715,
          -1.4536207982734528,
          -1.2808351412577583,
          -1.198167203468849,
          -0.5367965483003608,
          -1.2594254790104038,
          -1.374932311355924,
          -1.0126922615888843,
          1.3306919365514172,
          2.225865804501945,
          2.2884025223718285,
          2.537278143681823,
          -1.36163317499136,
          -1.0563102969299942,
          -0.3827028476264218,
          -0.945506188922139,
          -1.0782766619270727,
          -0.763914925466357,
          -1.3521695798749969,
          -0.17448321466246525,
          -0.17660537528721643,
          -0.256216419868812,
          -0.8367738007957795,
          -0.5556874893432492,
          0.6198053593563561,
          -0.5849703883238309,
          -0.8888690669875318,
          -0.9414771107697821,
          0.25786474491043077,
          0.8270229322509042,
          0.6026698284905444,
          0.4525977843573021,
          1.8269526485588876,
          0.3153932075476958,
          1.9017507345834945,
          1.6197218593294567,
          1.247418735226473,
          2.1371897859491797,
          0.4383904065626343,
          -0.3173487678689919,
          1.1498494092292053,
          0.6263732421524841,
          0.7834573998248294,
          0.213117310884682,
          0.7612025505621709,
          -1.2310972979983905,
          -1.0287800024670455,
          -1.3438732399976079,
          -1.2490796256034082,
          -1.5032304456623122,
          0.255952742235144,
          -0.9181242828565992,
          -1.2484616396951735,
          -1.387126864861877,
          -0.5588738837253546,
          -0.8447093185072994,
          -0.6525092224023513,
          0.003755333333790615,
          -0.06437641491923062,
          -0.4586950287429286,
          0.5655525050079675,
          0.14886431458832958,
          1.9165147047372728,
          -0.5520607731433764,
          -0.8665174120226569,
          0.24557006740058984,
          -0.6641900420123495
         ],
         "xaxis": "x",
         "y": [
          0.806299978323345,
          0.5349393015194553,
          0.44599647582055696,
          -0.1793164740659275,
          -0.01769137499653219,
          0.41058465151014867,
          0.805030540193982,
          0.12616875832724325,
          0.8936856326076474,
          1.1937107915376588,
          0.7543189999854552,
          0.653749589826394,
          -0.40550348727951807,
          0.8244221157527419,
          1.1307142036472466,
          0.970872373665378,
          0.6870530098903527,
          1.195575934707533,
          1.1014896400520062,
          1.09681677806123,
          0.928080826381978,
          0.592134280152459,
          0.47562555173320953,
          0.8055763977577076,
          -0.21780703784143277,
          1.2914241376495152,
          1.1831144068745167,
          -0.5134561925369533,
          -0.4383503902814716,
          0.08477690193539078,
          1.103084930273736,
          0.7287044565318851,
          0.6734756931322404,
          0.42412801326183636,
          -0.013412536420554465,
          0.09348723252204139,
          -0.03126620346800106,
          0.10622988467370176,
          0.3204061571457269,
          0.04114621084721529,
          0.5441166678972398,
          1.269412365700332,
          0.3890853714637924,
          1.3999182962166496,
          1.1725030213949628,
          0.9124573390427227,
          -0.2635571307489102,
          -0.14931406519656187,
          0.3993865877828994,
          -0.6724918539388018,
          0.1351975030420144,
          0.047011905832725895,
          -0.1034344742114677,
          0.07328075642167255,
          0.32664796588263395,
          0.9212580426971713,
          0.5885945269887833,
          0.10348473039158303,
          -0.6219532435292111,
          -0.12463045518885603,
          1.445186660804491,
          -0.6688011664810389,
          -0.04205386096823332,
          0.4802884413187154,
          -0.49455504022883073,
          -0.596022913019379,
          -0.6381787404578652,
          -0.29860595583620336,
          -0.3356644082449101,
          -0.4823523671241202,
          -0.7220396281382598,
          0.6144407438954747,
          1.0530064676844941,
          0.24200873578627774,
          0.6064978297019271,
          0.7980160729786023,
          -0.4227843487238337,
          -0.40063968867330546,
          0.4778627000862738,
          -0.14439306931082832,
          0.3795655702604848,
          -0.30418728276073764,
          0.11483956569065727,
          0.3615664495193163,
          -0.013911891146466918,
          -0.7044141398075099,
          -0.2800072149436896,
          -0.5814248610672074,
          0.35722150296692495,
          0.6063673720815981,
          0.709087978250995,
          -0.7611222046166933,
          0.3774782018983608,
          0.6079010048661659,
          0.2716194987998772,
          -0.5090884148566687,
          -0.9437509369766337,
          -0.7378243749433759,
          -0.15552435429764988,
          -0.30806304786888233,
          -0.5554189723270366,
          0.3185146583820584,
          0.7247207402148527,
          0.16510974164216402,
          0.1817870913356511,
          0.2919149709822771,
          0.2558480997560535,
          -0.4853326660958113,
          -0.4555442915210945,
          -0.6267123830101081,
          -0.32423207220716815,
          -0.6495348163603091,
          -0.5969335909333425,
          -0.6950982002260162,
          -0.8039023492315185,
          -0.8463540031478058,
          -0.5639906220731845,
          -0.7322479489843708,
          -0.8044673584062482,
          -0.7676345699736715,
          -0.7355576384336225,
          -0.6130992848679153,
          -0.8059487000352696,
          -1.0556049319587602,
          -0.3043116814894053,
          0.1317347249774442,
          -0.6293984293686756,
          -0.5393492189955894,
          -0.7495620564751544,
          -0.35019237233317807,
          0.11443426324989052,
          0.4067915046809062,
          0.12000357637589167,
          -0.31145674429000497,
          0.496994593824929,
          -0.28021741711873244,
          0.24619949230250915,
          0.41604679114290544,
          -0.1015905721393609,
          -0.1843634912628376,
          0.06159704164544002,
          0.44138833394384336,
          0.059973938363108076,
          0.04652081222635425,
          -0.10196749287086464,
          0.10470188666250062,
          0.6006534161589127,
          0.7506775637707709,
          0.5835619850401902,
          0.28478019992150755,
          -0.36648661318174,
          -0.1903221685965428,
          -0.005708674005146361,
          -0.10585684802205063,
          -0.12671836662788946,
          -0.1988475305088498,
          0.3782128639469237,
          0.07549035300725004,
          0.18313485776756228,
          0.8155829016706871,
          1.1102009563266175,
          -0.3568756115783724,
          0.4047238529565508,
          0.918537119146883,
          0.9728554455323954,
          0.5560639138111109,
          0.765225898098094,
          0.04022404594353627,
          0.35508548416671015,
          0.22162661818381768,
          0.8284947314030138,
          -0.6537694487278716,
          -0.7383699243435852,
          -0.42551296308643355,
          -0.32512834768898924,
          -0.6807920469417668,
          -0.5458966020931459,
          -0.4685939823007847,
          -0.06288028325875307,
          -0.8312861038801539,
          0.045713707932120505,
          0.24051550785415066,
          0.0009869988782313435,
          0.8479540938652118,
          -0.295818599313753,
          0.24241513541459378,
          -0.14631157145142862,
          0.12418188909830893,
          0.46810003866105077,
          0.42128334238073467,
          -0.6733519755899642,
          -0.2765333786047671,
          -0.5454340157723812,
          -0.4841277030800287,
          -0.06445174613844017,
          0.8740842671779211,
          -0.3193841475305961,
          0.2066563044923224,
          0.27398222527272015,
          0.4397866282894236,
          -0.20782386304993866,
          -0.2656628069820084,
          0.28919558193670014,
          -0.6545853993429349,
          -0.7103354798988762,
          0.3576148822363461,
          0.36183146193320953,
          -0.6692418085540119,
          -0.20552626434165477,
          -0.5864409628256706,
          -0.8377849417368702,
          0.0935487716687992,
          -0.44900336834152127,
          -0.5901441113090965,
          -0.3917681463328883,
          -0.7674141328637799,
          -0.790765429939808,
          -0.8054599803417316,
          -0.016931352592281845,
          -0.5094929728558609,
          -0.6637113450865609,
          0.4886784692452135,
          1.1508499654648823,
          1.2183994258112232,
          -0.11215989769980683,
          0.023045464500308907,
          0.3967862844815681,
          -0.4159882474359355,
          -0.8105737967963041,
          -0.40881540860361004,
          -0.33478534934271587,
          -0.25903853410658934,
          -0.5578357298097841,
          0.1675564582240629,
          0.10479074786371335,
          -0.7038937850573096,
          -0.6664356234858254,
          -0.7291521011755766,
          -0.8782459950638907,
          -0.6307671049443168,
          -0.810023494543922,
          -0.8434386949904867,
          -0.5271644224958127,
          -0.043817908560705866,
          -0.6967171431930672,
          -0.7286831182420442,
          -0.2891920808217153,
          -0.7227639140117216,
          -0.6673439667575884,
          -0.6187829202613706,
          -0.9053475762065974,
          -0.5820089421166709,
          -0.39687302140975966,
          0.3460011652400142,
          -0.3769561957580825,
          -0.6806714700365031,
          -0.2511242329470653,
          -0.8174237112388035,
          0.20987101615847012,
          1.009957317130405,
          1.0322876884571575,
          0.31568090709172775,
          0.28970097830594943,
          1.1529544549991322,
          0.13115219815923157,
          -0.14008448310831018,
          -0.27458446774217077,
          0.9810726152811008,
          1.1131847799044698,
          1.0469350506714832,
          0.9777811142701341,
          -0.7656895311483325,
          -0.7390406014244911,
          -0.5453813327248558,
          -0.6452777304513234,
          -0.5972468033648282,
          -0.7252665042150467,
          -0.18547157900937017,
          0.06888428902178695,
          -0.68618385886783,
          -0.37218942002373007,
          0.4804271284122918,
          0.9516738981098124,
          -0.5462149460677708,
          -0.6332873184204082,
          -0.4614251128926636,
          -0.8623589229915303,
          -0.7264368586825095,
          -0.7802563375255952,
          -0.029181224468502555,
          -0.23476004348722218,
          -0.7158566990527655,
          -0.8675102170516804,
          -0.3451099096885358,
          -0.228025450820487,
          0.7335081177022897,
          0.10556960418357397,
          0.4263760868686934,
          1.1067314536342658,
          1.0773970308375467,
          0.8412009169066555,
          -0.7321100938004265,
          -0.3526133465237766,
          -0.30215238181881504,
          0.018321377007454998,
          -0.014265755706041225
         ],
         "yaxis": "y"
        }
       ],
       "layout": {
        "coloraxis": {
         "colorbar": {
          "title": {
           "text": "cluster"
          }
         },
         "colorscale": [
          [
           0,
           "#0d0887"
          ],
          [
           0.1111111111111111,
           "#46039f"
          ],
          [
           0.2222222222222222,
           "#7201a8"
          ],
          [
           0.3333333333333333,
           "#9c179e"
          ],
          [
           0.4444444444444444,
           "#bd3786"
          ],
          [
           0.5555555555555556,
           "#d8576b"
          ],
          [
           0.6666666666666666,
           "#ed7953"
          ],
          [
           0.7777777777777778,
           "#fb9f3a"
          ],
          [
           0.8888888888888888,
           "#fdca26"
          ],
          [
           1,
           "#f0f921"
          ]
         ]
        },
        "legend": {
         "tracegroupgap": 0
        },
        "margin": {
         "t": 60
        },
        "template": {
         "data": {
          "bar": [
           {
            "error_x": {
             "color": "#2a3f5f"
            },
            "error_y": {
             "color": "#2a3f5f"
            },
            "marker": {
             "line": {
              "color": "#E5ECF6",
              "width": 0.5
             },
             "pattern": {
              "fillmode": "overlay",
              "size": 10,
              "solidity": 0.2
             }
            },
            "type": "bar"
           }
          ],
          "barpolar": [
           {
            "marker": {
             "line": {
              "color": "#E5ECF6",
              "width": 0.5
             },
             "pattern": {
              "fillmode": "overlay",
              "size": 10,
              "solidity": 0.2
             }
            },
            "type": "barpolar"
           }
          ],
          "carpet": [
           {
            "aaxis": {
             "endlinecolor": "#2a3f5f",
             "gridcolor": "white",
             "linecolor": "white",
             "minorgridcolor": "white",
             "startlinecolor": "#2a3f5f"
            },
            "baxis": {
             "endlinecolor": "#2a3f5f",
             "gridcolor": "white",
             "linecolor": "white",
             "minorgridcolor": "white",
             "startlinecolor": "#2a3f5f"
            },
            "type": "carpet"
           }
          ],
          "choropleth": [
           {
            "colorbar": {
             "outlinewidth": 0,
             "ticks": ""
            },
            "type": "choropleth"
           }
          ],
          "contour": [
           {
            "colorbar": {
             "outlinewidth": 0,
             "ticks": ""
            },
            "colorscale": [
             [
              0,
              "#0d0887"
             ],
             [
              0.1111111111111111,
              "#46039f"
             ],
             [
              0.2222222222222222,
              "#7201a8"
             ],
             [
              0.3333333333333333,
              "#9c179e"
             ],
             [
              0.4444444444444444,
              "#bd3786"
             ],
             [
              0.5555555555555556,
              "#d8576b"
             ],
             [
              0.6666666666666666,
              "#ed7953"
             ],
             [
              0.7777777777777778,
              "#fb9f3a"
             ],
             [
              0.8888888888888888,
              "#fdca26"
             ],
             [
              1,
              "#f0f921"
             ]
            ],
            "type": "contour"
           }
          ],
          "contourcarpet": [
           {
            "colorbar": {
             "outlinewidth": 0,
             "ticks": ""
            },
            "type": "contourcarpet"
           }
          ],
          "heatmap": [
           {
            "colorbar": {
             "outlinewidth": 0,
             "ticks": ""
            },
            "colorscale": [
             [
              0,
              "#0d0887"
             ],
             [
              0.1111111111111111,
              "#46039f"
             ],
             [
              0.2222222222222222,
              "#7201a8"
             ],
             [
              0.3333333333333333,
              "#9c179e"
             ],
             [
              0.4444444444444444,
              "#bd3786"
             ],
             [
              0.5555555555555556,
              "#d8576b"
             ],
             [
              0.6666666666666666,
              "#ed7953"
             ],
             [
              0.7777777777777778,
              "#fb9f3a"
             ],
             [
              0.8888888888888888,
              "#fdca26"
             ],
             [
              1,
              "#f0f921"
             ]
            ],
            "type": "heatmap"
           }
          ],
          "heatmapgl": [
           {
            "colorbar": {
             "outlinewidth": 0,
             "ticks": ""
            },
            "colorscale": [
             [
              0,
              "#0d0887"
             ],
             [
              0.1111111111111111,
              "#46039f"
             ],
             [
              0.2222222222222222,
              "#7201a8"
             ],
             [
              0.3333333333333333,
              "#9c179e"
             ],
             [
              0.4444444444444444,
              "#bd3786"
             ],
             [
              0.5555555555555556,
              "#d8576b"
             ],
             [
              0.6666666666666666,
              "#ed7953"
             ],
             [
              0.7777777777777778,
              "#fb9f3a"
             ],
             [
              0.8888888888888888,
              "#fdca26"
             ],
             [
              1,
              "#f0f921"
             ]
            ],
            "type": "heatmapgl"
           }
          ],
          "histogram": [
           {
            "marker": {
             "pattern": {
              "fillmode": "overlay",
              "size": 10,
              "solidity": 0.2
             }
            },
            "type": "histogram"
           }
          ],
          "histogram2d": [
           {
            "colorbar": {
             "outlinewidth": 0,
             "ticks": ""
            },
            "colorscale": [
             [
              0,
              "#0d0887"
             ],
             [
              0.1111111111111111,
              "#46039f"
             ],
             [
              0.2222222222222222,
              "#7201a8"
             ],
             [
              0.3333333333333333,
              "#9c179e"
             ],
             [
              0.4444444444444444,
              "#bd3786"
             ],
             [
              0.5555555555555556,
              "#d8576b"
             ],
             [
              0.6666666666666666,
              "#ed7953"
             ],
             [
              0.7777777777777778,
              "#fb9f3a"
             ],
             [
              0.8888888888888888,
              "#fdca26"
             ],
             [
              1,
              "#f0f921"
             ]
            ],
            "type": "histogram2d"
           }
          ],
          "histogram2dcontour": [
           {
            "colorbar": {
             "outlinewidth": 0,
             "ticks": ""
            },
            "colorscale": [
             [
              0,
              "#0d0887"
             ],
             [
              0.1111111111111111,
              "#46039f"
             ],
             [
              0.2222222222222222,
              "#7201a8"
             ],
             [
              0.3333333333333333,
              "#9c179e"
             ],
             [
              0.4444444444444444,
              "#bd3786"
             ],
             [
              0.5555555555555556,
              "#d8576b"
             ],
             [
              0.6666666666666666,
              "#ed7953"
             ],
             [
              0.7777777777777778,
              "#fb9f3a"
             ],
             [
              0.8888888888888888,
              "#fdca26"
             ],
             [
              1,
              "#f0f921"
             ]
            ],
            "type": "histogram2dcontour"
           }
          ],
          "mesh3d": [
           {
            "colorbar": {
             "outlinewidth": 0,
             "ticks": ""
            },
            "type": "mesh3d"
           }
          ],
          "parcoords": [
           {
            "line": {
             "colorbar": {
              "outlinewidth": 0,
              "ticks": ""
             }
            },
            "type": "parcoords"
           }
          ],
          "pie": [
           {
            "automargin": true,
            "type": "pie"
           }
          ],
          "scatter": [
           {
            "fillpattern": {
             "fillmode": "overlay",
             "size": 10,
             "solidity": 0.2
            },
            "type": "scatter"
           }
          ],
          "scatter3d": [
           {
            "line": {
             "colorbar": {
              "outlinewidth": 0,
              "ticks": ""
             }
            },
            "marker": {
             "colorbar": {
              "outlinewidth": 0,
              "ticks": ""
             }
            },
            "type": "scatter3d"
           }
          ],
          "scattercarpet": [
           {
            "marker": {
             "colorbar": {
              "outlinewidth": 0,
              "ticks": ""
             }
            },
            "type": "scattercarpet"
           }
          ],
          "scattergeo": [
           {
            "marker": {
             "colorbar": {
              "outlinewidth": 0,
              "ticks": ""
             }
            },
            "type": "scattergeo"
           }
          ],
          "scattergl": [
           {
            "marker": {
             "colorbar": {
              "outlinewidth": 0,
              "ticks": ""
             }
            },
            "type": "scattergl"
           }
          ],
          "scattermapbox": [
           {
            "marker": {
             "colorbar": {
              "outlinewidth": 0,
              "ticks": ""
             }
            },
            "type": "scattermapbox"
           }
          ],
          "scatterpolar": [
           {
            "marker": {
             "colorbar": {
              "outlinewidth": 0,
              "ticks": ""
             }
            },
            "type": "scatterpolar"
           }
          ],
          "scatterpolargl": [
           {
            "marker": {
             "colorbar": {
              "outlinewidth": 0,
              "ticks": ""
             }
            },
            "type": "scatterpolargl"
           }
          ],
          "scatterternary": [
           {
            "marker": {
             "colorbar": {
              "outlinewidth": 0,
              "ticks": ""
             }
            },
            "type": "scatterternary"
           }
          ],
          "surface": [
           {
            "colorbar": {
             "outlinewidth": 0,
             "ticks": ""
            },
            "colorscale": [
             [
              0,
              "#0d0887"
             ],
             [
              0.1111111111111111,
              "#46039f"
             ],
             [
              0.2222222222222222,
              "#7201a8"
             ],
             [
              0.3333333333333333,
              "#9c179e"
             ],
             [
              0.4444444444444444,
              "#bd3786"
             ],
             [
              0.5555555555555556,
              "#d8576b"
             ],
             [
              0.6666666666666666,
              "#ed7953"
             ],
             [
              0.7777777777777778,
              "#fb9f3a"
             ],
             [
              0.8888888888888888,
              "#fdca26"
             ],
             [
              1,
              "#f0f921"
             ]
            ],
            "type": "surface"
           }
          ],
          "table": [
           {
            "cells": {
             "fill": {
              "color": "#EBF0F8"
             },
             "line": {
              "color": "white"
             }
            },
            "header": {
             "fill": {
              "color": "#C8D4E3"
             },
             "line": {
              "color": "white"
             }
            },
            "type": "table"
           }
          ]
         },
         "layout": {
          "annotationdefaults": {
           "arrowcolor": "#2a3f5f",
           "arrowhead": 0,
           "arrowwidth": 1
          },
          "autotypenumbers": "strict",
          "coloraxis": {
           "colorbar": {
            "outlinewidth": 0,
            "ticks": ""
           }
          },
          "colorscale": {
           "diverging": [
            [
             0,
             "#8e0152"
            ],
            [
             0.1,
             "#c51b7d"
            ],
            [
             0.2,
             "#de77ae"
            ],
            [
             0.3,
             "#f1b6da"
            ],
            [
             0.4,
             "#fde0ef"
            ],
            [
             0.5,
             "#f7f7f7"
            ],
            [
             0.6,
             "#e6f5d0"
            ],
            [
             0.7,
             "#b8e186"
            ],
            [
             0.8,
             "#7fbc41"
            ],
            [
             0.9,
             "#4d9221"
            ],
            [
             1,
             "#276419"
            ]
           ],
           "sequential": [
            [
             0,
             "#0d0887"
            ],
            [
             0.1111111111111111,
             "#46039f"
            ],
            [
             0.2222222222222222,
             "#7201a8"
            ],
            [
             0.3333333333333333,
             "#9c179e"
            ],
            [
             0.4444444444444444,
             "#bd3786"
            ],
            [
             0.5555555555555556,
             "#d8576b"
            ],
            [
             0.6666666666666666,
             "#ed7953"
            ],
            [
             0.7777777777777778,
             "#fb9f3a"
            ],
            [
             0.8888888888888888,
             "#fdca26"
            ],
            [
             1,
             "#f0f921"
            ]
           ],
           "sequentialminus": [
            [
             0,
             "#0d0887"
            ],
            [
             0.1111111111111111,
             "#46039f"
            ],
            [
             0.2222222222222222,
             "#7201a8"
            ],
            [
             0.3333333333333333,
             "#9c179e"
            ],
            [
             0.4444444444444444,
             "#bd3786"
            ],
            [
             0.5555555555555556,
             "#d8576b"
            ],
            [
             0.6666666666666666,
             "#ed7953"
            ],
            [
             0.7777777777777778,
             "#fb9f3a"
            ],
            [
             0.8888888888888888,
             "#fdca26"
            ],
            [
             1,
             "#f0f921"
            ]
           ]
          },
          "colorway": [
           "#636efa",
           "#EF553B",
           "#00cc96",
           "#ab63fa",
           "#FFA15A",
           "#19d3f3",
           "#FF6692",
           "#B6E880",
           "#FF97FF",
           "#FECB52"
          ],
          "font": {
           "color": "#2a3f5f"
          },
          "geo": {
           "bgcolor": "white",
           "lakecolor": "white",
           "landcolor": "#E5ECF6",
           "showlakes": true,
           "showland": true,
           "subunitcolor": "white"
          },
          "hoverlabel": {
           "align": "left"
          },
          "hovermode": "closest",
          "mapbox": {
           "style": "light"
          },
          "paper_bgcolor": "white",
          "plot_bgcolor": "#E5ECF6",
          "polar": {
           "angularaxis": {
            "gridcolor": "white",
            "linecolor": "white",
            "ticks": ""
           },
           "bgcolor": "#E5ECF6",
           "radialaxis": {
            "gridcolor": "white",
            "linecolor": "white",
            "ticks": ""
           }
          },
          "scene": {
           "xaxis": {
            "backgroundcolor": "#E5ECF6",
            "gridcolor": "white",
            "gridwidth": 2,
            "linecolor": "white",
            "showbackground": true,
            "ticks": "",
            "zerolinecolor": "white"
           },
           "yaxis": {
            "backgroundcolor": "#E5ECF6",
            "gridcolor": "white",
            "gridwidth": 2,
            "linecolor": "white",
            "showbackground": true,
            "ticks": "",
            "zerolinecolor": "white"
           },
           "zaxis": {
            "backgroundcolor": "#E5ECF6",
            "gridcolor": "white",
            "gridwidth": 2,
            "linecolor": "white",
            "showbackground": true,
            "ticks": "",
            "zerolinecolor": "white"
           }
          },
          "shapedefaults": {
           "line": {
            "color": "#2a3f5f"
           }
          },
          "ternary": {
           "aaxis": {
            "gridcolor": "white",
            "linecolor": "white",
            "ticks": ""
           },
           "baxis": {
            "gridcolor": "white",
            "linecolor": "white",
            "ticks": ""
           },
           "bgcolor": "#E5ECF6",
           "caxis": {
            "gridcolor": "white",
            "linecolor": "white",
            "ticks": ""
           }
          },
          "title": {
           "x": 0.05
          },
          "xaxis": {
           "automargin": true,
           "gridcolor": "white",
           "linecolor": "white",
           "ticks": "",
           "title": {
            "standoff": 15
           },
           "zerolinecolor": "white",
           "zerolinewidth": 2
          },
          "yaxis": {
           "automargin": true,
           "gridcolor": "white",
           "linecolor": "white",
           "ticks": "",
           "title": {
            "standoff": 15
           },
           "zerolinecolor": "white",
           "zerolinewidth": 2
          }
         }
        },
        "xaxis": {
         "anchor": "y",
         "domain": [
          0,
          1
         ],
         "title": {
          "text": "PC1"
         }
        },
        "yaxis": {
         "anchor": "x",
         "domain": [
          0,
          1
         ],
         "title": {
          "text": "PC2"
         }
        }
       }
      }
     },
     "metadata": {},
     "output_type": "display_data"
    },
    {
     "name": "stdout",
     "output_type": "stream",
     "text": [
      "eps:0.48\n",
      "min:6\n",
      "6\n",
      "         borough  neighborhood  longitude  latitude  population  PC1  PC2  \\\n",
      "cluster                                                                     \n",
      "-1            66            66         66        66          66   66   66   \n",
      " 0           157           157        157       157         157  157  157   \n",
      " 1            24            24         24        24          24   24   24   \n",
      " 2            19            19         19        19          19   19   19   \n",
      " 3            17            17         17        17          17   17   17   \n",
      " 4            23            23         23        23          23   23   23   \n",
      "\n",
      "         PC3  PC4  PC5  \n",
      "cluster                 \n",
      "-1        66   66   66  \n",
      " 0       157  157  157  \n",
      " 1        24   24   24  \n",
      " 2        19   19   19  \n",
      " 3        17   17   17  \n",
      " 4        23   23   23  \n"
     ]
    },
    {
     "data": {
      "application/vnd.plotly.v1+json": {
       "config": {
        "plotlyServerURL": "https://plot.ly"
       },
       "data": [
        {
         "hovertemplate": "PC1=%{x}<br>PC2=%{y}<br>cluster=%{marker.color}<extra></extra>",
         "legendgroup": "",
         "marker": {
          "color": [
           -1,
           0,
           0,
           0,
           0,
           -1,
           -1,
           0,
           1,
           -1,
           0,
           -1,
           0,
           1,
           1,
           1,
           -1,
           1,
           1,
           1,
           1,
           2,
           0,
           1,
           0,
           1,
           -1,
           0,
           0,
           0,
           1,
           1,
           1,
           -1,
           -1,
           0,
           0,
           0,
           0,
           0,
           0,
           -1,
           0,
           1,
           1,
           -1,
           2,
           -1,
           -1,
           -1,
           0,
           0,
           0,
           -1,
           2,
           -1,
           0,
           0,
           -1,
           3,
           -1,
           3,
           -1,
           -1,
           3,
           3,
           3,
           0,
           -1,
           3,
           3,
           -1,
           1,
           0,
           0,
           0,
           0,
           0,
           0,
           -1,
           0,
           0,
           0,
           -1,
           2,
           0,
           3,
           4,
           2,
           -1,
           -1,
           0,
           0,
           2,
           0,
           -1,
           -1,
           3,
           0,
           2,
           -1,
           -1,
           -1,
           -1,
           -1,
           -1,
           -1,
           4,
           3,
           4,
           2,
           3,
           3,
           4,
           4,
           4,
           4,
           4,
           4,
           4,
           4,
           -1,
           4,
           -1,
           3,
           2,
           4,
           4,
           4,
           3,
           2,
           -1,
           -1,
           0,
           1,
           2,
           0,
           0,
           -1,
           2,
           0,
           -1,
           0,
           2,
           0,
           0,
           -1,
           1,
           0,
           0,
           0,
           0,
           0,
           -1,
           -1,
           0,
           -1,
           0,
           0,
           -1,
           -1,
           0,
           0,
           0,
           -1,
           0,
           0,
           0,
           0,
           0,
           0,
           0,
           0,
           2,
           0,
           0,
           0,
           0,
           0,
           0,
           -1,
           0,
           0,
           -1,
           -1,
           0,
           2,
           0,
           0,
           -1,
           0,
           0,
           0,
           0,
           0,
           1,
           2,
           0,
           0,
           0,
           0,
           0,
           0,
           0,
           0,
           0,
           0,
           0,
           0,
           0,
           0,
           -1,
           0,
           0,
           0,
           0,
           0,
           0,
           0,
           0,
           0,
           2,
           -1,
           -1,
           0,
           0,
           0,
           0,
           0,
           0,
           0,
           0,
           0,
           0,
           0,
           0,
           0,
           0,
           0,
           0,
           0,
           0,
           0,
           0,
           0,
           0,
           0,
           3,
           4,
           4,
           4,
           0,
           0,
           0,
           0,
           0,
           0,
           0,
           0,
           -1,
           -1,
           0,
           0,
           -1,
           0,
           0,
           0,
           1,
           1,
           1,
           1,
           4,
           -1,
           4,
           4,
           3,
           4,
           2,
           0,
           3,
           -1,
           -1,
           -1,
           -1,
           0,
           0,
           0,
           0,
           0,
           0,
           0,
           0,
           0,
           0,
           0,
           -1,
           0,
           0,
           -1,
           1,
           -1,
           4,
           0,
           0,
           2,
           0
          ],
          "coloraxis": "coloraxis",
          "symbol": "circle"
         },
         "mode": "markers",
         "name": "",
         "orientation": "v",
         "showlegend": false,
         "type": "scatter",
         "x": [
          -0.2999392354396995,
          -0.5181567708027076,
          -0.5389529254485282,
          -0.538111552554458,
          -0.516147602315639,
          0.46436840244932165,
          0.45352076282083575,
          -0.36327500134531987,
          0.04290603085482082,
          -0.13461435110212733,
          -0.4021395629348593,
          -0.13263860935977162,
          -0.9483488226574535,
          0.4074897950783606,
          0.5755622369262103,
          0.4674770541294375,
          1.0962259089896498,
          0.06685585748113411,
          0.2778291084640352,
          0.7242728941962615,
          0.2918559862072228,
          0.3980223461832242,
          -0.3848464860122922,
          -0.014177861706992366,
          -0.9552179762738815,
          0.4053671312191602,
          -0.2559588648471157,
          -1.165877009943115,
          -1.123375288912157,
          -0.6682835524122395,
          0.44047777141560857,
          0.04834022053030687,
          0.18681620011700503,
          -0.12929955851795105,
          0.7926923362590205,
          -0.1882807513299356,
          -0.7190695415655564,
          -0.5011519532650851,
          -0.5933321056281312,
          -0.8164408217059835,
          -0.6518866033230457,
          -0.15836603627267384,
          -0.6887001045380412,
          0.6232455811904835,
          0.2706131565114359,
          -0.2071280008458385,
          0.5677760170889561,
          0.4245282417662995,
          0.732062723687729,
          0.6647666160441524,
          -0.378894367925141,
          0.11331680105654329,
          0.142877082087975,
          0.2632720089673174,
          0.4831505169580193,
          1.0005011370457608,
          -0.009630308343033559,
          0.2695181763843945,
          0.23981404950292573,
          1.2438990294991203,
          0.12527502179245878,
          1.4755149046700555,
          1.138193032280503,
          1.0793748522987965,
          1.2195699562132947,
          1.3847052739269194,
          1.2912653987621434,
          -0.682811717914585,
          0.663631218340794,
          1.358342087824533,
          1.1856016916134868,
          -0.252778598793644,
          -0.006656674233660172,
          -0.841890486218964,
          -0.6430458770964462,
          -0.4365305003620773,
          -1.1224678795253045,
          -0.1388711206074483,
          -0.48034423639408136,
          0.11468942196092147,
          0.20418279961275473,
          0.33166584407063376,
          -0.8933655040828606,
          -0.2901670903642142,
          1.098767249838175,
          -1.2918134088644488,
          1.5246429037063425,
          1.9910611771883795,
          0.8401309794319323,
          0.33847176321781003,
          0.1957535097812927,
          -1.3755622666980964,
          0.22616411597253527,
          0.5151905018672949,
          -0.49922104036443843,
          1.1818386941391135,
          1.3017672782590088,
          1.5691723592542213,
          0.0721695713439749,
          0.07695090884878672,
          2.022009337706604,
          0.8372956790584203,
          0.6792680364483404,
          1.0436176101307042,
          1.129176764730745,
          1.2963415173711779,
          1.0937694175631123,
          1.7095781838571862,
          1.664751256357031,
          1.7319753122188069,
          0.53075277508637,
          1.3780563005591284,
          1.522390516442774,
          2.171819140053922,
          2.579792781075722,
          2.4050923519676446,
          2.121897541368075,
          2.01551488518807,
          1.7836424743897554,
          1.7050711658750761,
          2.0232344874056816,
          2.205680687495938,
          2.1715116241664383,
          1.5835690324135638,
          1.0656490790447863,
          0.8449220416723394,
          1.9274303799611379,
          1.8424003400772775,
          2.0090349724392573,
          1.3125009630585187,
          0.8255673291381561,
          1.2400133851911501,
          1.3418010110571237,
          -0.9548712423275117,
          0.28051516243332686,
          0.45589960495084303,
          -0.04180753981802375,
          -0.043454082322605635,
          1.1382596128222702,
          0.5358606324571142,
          0.035464794515611416,
          -0.22994680784223304,
          -0.5647312521852714,
          0.622162642316137,
          -0.8921332540665712,
          0.4934773707581297,
          0.33583190890043985,
          0.0014838290646109343,
          -0.4765564490982787,
          -0.8448059378525163,
          -0.7033879883662709,
          -0.05711951422719375,
          0.01890778608226496,
          -0.5438246284401622,
          -0.6419414770535792,
          -0.9033013766285666,
          -0.6373854809111569,
          -0.4565410805689251,
          -0.5730667974493526,
          0.13838462583574498,
          0.7028844179449769,
          -0.8310735558464718,
          -0.6803916826523227,
          -0.6639812987716027,
          0.18182383438444333,
          -0.5975522904980415,
          -0.6803529798702498,
          -0.9000858945038492,
          -0.8695655035076317,
          -0.901315538504906,
          -0.3101310245623727,
          -1.4024391299408305,
          -1.3836611538878454,
          0.24300737165451552,
          -0.865735067860948,
          -1.1343893595241143,
          -1.1831269951009487,
          -1.0774637307442498,
          -0.2302240588318395,
          -1.3643437993340608,
          0.1946894575213927,
          -0.6657633126769088,
          -0.9526624848903337,
          -0.24938306614677389,
          -0.546233901638181,
          -0.6581461694961046,
          0.9847529679272189,
          -0.8477465986250363,
          -0.6081684833910217,
          0.2827774014347927,
          -1.3024974168783492,
          -0.7678514830652007,
          -1.1206671649331457,
          -1.208669516100077,
          -1.1747656914848847,
          0.11738470018073716,
          0.6631359976059288,
          -0.3757918696780955,
          -0.09904119415014753,
          -0.22170254223361455,
          -0.7964968798506339,
          -0.7813598390769764,
          -0.5760780444236835,
          -1.2465716026538567,
          -1.2733919839582715,
          -0.06641260338746098,
          -0.6429277864815851,
          -1.3476147622158514,
          -1.0383378118215698,
          -1.1439425381498158,
          -1.3163852637328892,
          -0.2401620319660303,
          -1.0985370437572568,
          -0.6859331897246643,
          -0.8000054116940196,
          -1.1716224595484603,
          -1.2459616007084795,
          -1.183120955691874,
          0.1184476894250234,
          -1.074834626712761,
          -1.018303994835368,
          0.7119487479506225,
          0.21019144684223565,
          -0.03723478249683049,
          -0.8312148080119293,
          -0.07597849202451003,
          -0.5426923616511136,
          -1.1850811809292456,
          -1.1247929828229555,
          -0.8924012361639907,
          -1.0092181481457057,
          -0.7337429475685675,
          -0.9920979643224627,
          -0.10755176092971798,
          -0.6812465975137608,
          -1.0817165507307511,
          -1.250744390363617,
          -1.0642077531973524,
          -1.2920494223590977,
          -0.8565008406139715,
          -1.4536207982734528,
          -1.2808351412577583,
          -1.198167203468849,
          -0.5367965483003608,
          -1.2594254790104038,
          -1.374932311355924,
          -1.0126922615888843,
          1.3306919365514172,
          2.225865804501945,
          2.2884025223718285,
          2.537278143681823,
          -1.36163317499136,
          -1.0563102969299942,
          -0.3827028476264218,
          -0.945506188922139,
          -1.0782766619270727,
          -0.763914925466357,
          -1.3521695798749969,
          -0.17448321466246525,
          -0.17660537528721643,
          -0.256216419868812,
          -0.8367738007957795,
          -0.5556874893432492,
          0.6198053593563561,
          -0.5849703883238309,
          -0.8888690669875318,
          -0.9414771107697821,
          0.25786474491043077,
          0.8270229322509042,
          0.6026698284905444,
          0.4525977843573021,
          1.8269526485588876,
          0.3153932075476958,
          1.9017507345834945,
          1.6197218593294567,
          1.247418735226473,
          2.1371897859491797,
          0.4383904065626343,
          -0.3173487678689919,
          1.1498494092292053,
          0.6263732421524841,
          0.7834573998248294,
          0.213117310884682,
          0.7612025505621709,
          -1.2310972979983905,
          -1.0287800024670455,
          -1.3438732399976079,
          -1.2490796256034082,
          -1.5032304456623122,
          0.255952742235144,
          -0.9181242828565992,
          -1.2484616396951735,
          -1.387126864861877,
          -0.5588738837253546,
          -0.8447093185072994,
          -0.6525092224023513,
          0.003755333333790615,
          -0.06437641491923062,
          -0.4586950287429286,
          0.5655525050079675,
          0.14886431458832958,
          1.9165147047372728,
          -0.5520607731433764,
          -0.8665174120226569,
          0.24557006740058984,
          -0.6641900420123495
         ],
         "xaxis": "x",
         "y": [
          0.806299978323345,
          0.5349393015194553,
          0.44599647582055696,
          -0.1793164740659275,
          -0.01769137499653219,
          0.41058465151014867,
          0.805030540193982,
          0.12616875832724325,
          0.8936856326076474,
          1.1937107915376588,
          0.7543189999854552,
          0.653749589826394,
          -0.40550348727951807,
          0.8244221157527419,
          1.1307142036472466,
          0.970872373665378,
          0.6870530098903527,
          1.195575934707533,
          1.1014896400520062,
          1.09681677806123,
          0.928080826381978,
          0.592134280152459,
          0.47562555173320953,
          0.8055763977577076,
          -0.21780703784143277,
          1.2914241376495152,
          1.1831144068745167,
          -0.5134561925369533,
          -0.4383503902814716,
          0.08477690193539078,
          1.103084930273736,
          0.7287044565318851,
          0.6734756931322404,
          0.42412801326183636,
          -0.013412536420554465,
          0.09348723252204139,
          -0.03126620346800106,
          0.10622988467370176,
          0.3204061571457269,
          0.04114621084721529,
          0.5441166678972398,
          1.269412365700332,
          0.3890853714637924,
          1.3999182962166496,
          1.1725030213949628,
          0.9124573390427227,
          -0.2635571307489102,
          -0.14931406519656187,
          0.3993865877828994,
          -0.6724918539388018,
          0.1351975030420144,
          0.047011905832725895,
          -0.1034344742114677,
          0.07328075642167255,
          0.32664796588263395,
          0.9212580426971713,
          0.5885945269887833,
          0.10348473039158303,
          -0.6219532435292111,
          -0.12463045518885603,
          1.445186660804491,
          -0.6688011664810389,
          -0.04205386096823332,
          0.4802884413187154,
          -0.49455504022883073,
          -0.596022913019379,
          -0.6381787404578652,
          -0.29860595583620336,
          -0.3356644082449101,
          -0.4823523671241202,
          -0.7220396281382598,
          0.6144407438954747,
          1.0530064676844941,
          0.24200873578627774,
          0.6064978297019271,
          0.7980160729786023,
          -0.4227843487238337,
          -0.40063968867330546,
          0.4778627000862738,
          -0.14439306931082832,
          0.3795655702604848,
          -0.30418728276073764,
          0.11483956569065727,
          0.3615664495193163,
          -0.013911891146466918,
          -0.7044141398075099,
          -0.2800072149436896,
          -0.5814248610672074,
          0.35722150296692495,
          0.6063673720815981,
          0.709087978250995,
          -0.7611222046166933,
          0.3774782018983608,
          0.6079010048661659,
          0.2716194987998772,
          -0.5090884148566687,
          -0.9437509369766337,
          -0.7378243749433759,
          -0.15552435429764988,
          -0.30806304786888233,
          -0.5554189723270366,
          0.3185146583820584,
          0.7247207402148527,
          0.16510974164216402,
          0.1817870913356511,
          0.2919149709822771,
          0.2558480997560535,
          -0.4853326660958113,
          -0.4555442915210945,
          -0.6267123830101081,
          -0.32423207220716815,
          -0.6495348163603091,
          -0.5969335909333425,
          -0.6950982002260162,
          -0.8039023492315185,
          -0.8463540031478058,
          -0.5639906220731845,
          -0.7322479489843708,
          -0.8044673584062482,
          -0.7676345699736715,
          -0.7355576384336225,
          -0.6130992848679153,
          -0.8059487000352696,
          -1.0556049319587602,
          -0.3043116814894053,
          0.1317347249774442,
          -0.6293984293686756,
          -0.5393492189955894,
          -0.7495620564751544,
          -0.35019237233317807,
          0.11443426324989052,
          0.4067915046809062,
          0.12000357637589167,
          -0.31145674429000497,
          0.496994593824929,
          -0.28021741711873244,
          0.24619949230250915,
          0.41604679114290544,
          -0.1015905721393609,
          -0.1843634912628376,
          0.06159704164544002,
          0.44138833394384336,
          0.059973938363108076,
          0.04652081222635425,
          -0.10196749287086464,
          0.10470188666250062,
          0.6006534161589127,
          0.7506775637707709,
          0.5835619850401902,
          0.28478019992150755,
          -0.36648661318174,
          -0.1903221685965428,
          -0.005708674005146361,
          -0.10585684802205063,
          -0.12671836662788946,
          -0.1988475305088498,
          0.3782128639469237,
          0.07549035300725004,
          0.18313485776756228,
          0.8155829016706871,
          1.1102009563266175,
          -0.3568756115783724,
          0.4047238529565508,
          0.918537119146883,
          0.9728554455323954,
          0.5560639138111109,
          0.765225898098094,
          0.04022404594353627,
          0.35508548416671015,
          0.22162661818381768,
          0.8284947314030138,
          -0.6537694487278716,
          -0.7383699243435852,
          -0.42551296308643355,
          -0.32512834768898924,
          -0.6807920469417668,
          -0.5458966020931459,
          -0.4685939823007847,
          -0.06288028325875307,
          -0.8312861038801539,
          0.045713707932120505,
          0.24051550785415066,
          0.0009869988782313435,
          0.8479540938652118,
          -0.295818599313753,
          0.24241513541459378,
          -0.14631157145142862,
          0.12418188909830893,
          0.46810003866105077,
          0.42128334238073467,
          -0.6733519755899642,
          -0.2765333786047671,
          -0.5454340157723812,
          -0.4841277030800287,
          -0.06445174613844017,
          0.8740842671779211,
          -0.3193841475305961,
          0.2066563044923224,
          0.27398222527272015,
          0.4397866282894236,
          -0.20782386304993866,
          -0.2656628069820084,
          0.28919558193670014,
          -0.6545853993429349,
          -0.7103354798988762,
          0.3576148822363461,
          0.36183146193320953,
          -0.6692418085540119,
          -0.20552626434165477,
          -0.5864409628256706,
          -0.8377849417368702,
          0.0935487716687992,
          -0.44900336834152127,
          -0.5901441113090965,
          -0.3917681463328883,
          -0.7674141328637799,
          -0.790765429939808,
          -0.8054599803417316,
          -0.016931352592281845,
          -0.5094929728558609,
          -0.6637113450865609,
          0.4886784692452135,
          1.1508499654648823,
          1.2183994258112232,
          -0.11215989769980683,
          0.023045464500308907,
          0.3967862844815681,
          -0.4159882474359355,
          -0.8105737967963041,
          -0.40881540860361004,
          -0.33478534934271587,
          -0.25903853410658934,
          -0.5578357298097841,
          0.1675564582240629,
          0.10479074786371335,
          -0.7038937850573096,
          -0.6664356234858254,
          -0.7291521011755766,
          -0.8782459950638907,
          -0.6307671049443168,
          -0.810023494543922,
          -0.8434386949904867,
          -0.5271644224958127,
          -0.043817908560705866,
          -0.6967171431930672,
          -0.7286831182420442,
          -0.2891920808217153,
          -0.7227639140117216,
          -0.6673439667575884,
          -0.6187829202613706,
          -0.9053475762065974,
          -0.5820089421166709,
          -0.39687302140975966,
          0.3460011652400142,
          -0.3769561957580825,
          -0.6806714700365031,
          -0.2511242329470653,
          -0.8174237112388035,
          0.20987101615847012,
          1.009957317130405,
          1.0322876884571575,
          0.31568090709172775,
          0.28970097830594943,
          1.1529544549991322,
          0.13115219815923157,
          -0.14008448310831018,
          -0.27458446774217077,
          0.9810726152811008,
          1.1131847799044698,
          1.0469350506714832,
          0.9777811142701341,
          -0.7656895311483325,
          -0.7390406014244911,
          -0.5453813327248558,
          -0.6452777304513234,
          -0.5972468033648282,
          -0.7252665042150467,
          -0.18547157900937017,
          0.06888428902178695,
          -0.68618385886783,
          -0.37218942002373007,
          0.4804271284122918,
          0.9516738981098124,
          -0.5462149460677708,
          -0.6332873184204082,
          -0.4614251128926636,
          -0.8623589229915303,
          -0.7264368586825095,
          -0.7802563375255952,
          -0.029181224468502555,
          -0.23476004348722218,
          -0.7158566990527655,
          -0.8675102170516804,
          -0.3451099096885358,
          -0.228025450820487,
          0.7335081177022897,
          0.10556960418357397,
          0.4263760868686934,
          1.1067314536342658,
          1.0773970308375467,
          0.8412009169066555,
          -0.7321100938004265,
          -0.3526133465237766,
          -0.30215238181881504,
          0.018321377007454998,
          -0.014265755706041225
         ],
         "yaxis": "y"
        }
       ],
       "layout": {
        "coloraxis": {
         "colorbar": {
          "title": {
           "text": "cluster"
          }
         },
         "colorscale": [
          [
           0,
           "#0d0887"
          ],
          [
           0.1111111111111111,
           "#46039f"
          ],
          [
           0.2222222222222222,
           "#7201a8"
          ],
          [
           0.3333333333333333,
           "#9c179e"
          ],
          [
           0.4444444444444444,
           "#bd3786"
          ],
          [
           0.5555555555555556,
           "#d8576b"
          ],
          [
           0.6666666666666666,
           "#ed7953"
          ],
          [
           0.7777777777777778,
           "#fb9f3a"
          ],
          [
           0.8888888888888888,
           "#fdca26"
          ],
          [
           1,
           "#f0f921"
          ]
         ]
        },
        "legend": {
         "tracegroupgap": 0
        },
        "margin": {
         "t": 60
        },
        "template": {
         "data": {
          "bar": [
           {
            "error_x": {
             "color": "#2a3f5f"
            },
            "error_y": {
             "color": "#2a3f5f"
            },
            "marker": {
             "line": {
              "color": "#E5ECF6",
              "width": 0.5
             },
             "pattern": {
              "fillmode": "overlay",
              "size": 10,
              "solidity": 0.2
             }
            },
            "type": "bar"
           }
          ],
          "barpolar": [
           {
            "marker": {
             "line": {
              "color": "#E5ECF6",
              "width": 0.5
             },
             "pattern": {
              "fillmode": "overlay",
              "size": 10,
              "solidity": 0.2
             }
            },
            "type": "barpolar"
           }
          ],
          "carpet": [
           {
            "aaxis": {
             "endlinecolor": "#2a3f5f",
             "gridcolor": "white",
             "linecolor": "white",
             "minorgridcolor": "white",
             "startlinecolor": "#2a3f5f"
            },
            "baxis": {
             "endlinecolor": "#2a3f5f",
             "gridcolor": "white",
             "linecolor": "white",
             "minorgridcolor": "white",
             "startlinecolor": "#2a3f5f"
            },
            "type": "carpet"
           }
          ],
          "choropleth": [
           {
            "colorbar": {
             "outlinewidth": 0,
             "ticks": ""
            },
            "type": "choropleth"
           }
          ],
          "contour": [
           {
            "colorbar": {
             "outlinewidth": 0,
             "ticks": ""
            },
            "colorscale": [
             [
              0,
              "#0d0887"
             ],
             [
              0.1111111111111111,
              "#46039f"
             ],
             [
              0.2222222222222222,
              "#7201a8"
             ],
             [
              0.3333333333333333,
              "#9c179e"
             ],
             [
              0.4444444444444444,
              "#bd3786"
             ],
             [
              0.5555555555555556,
              "#d8576b"
             ],
             [
              0.6666666666666666,
              "#ed7953"
             ],
             [
              0.7777777777777778,
              "#fb9f3a"
             ],
             [
              0.8888888888888888,
              "#fdca26"
             ],
             [
              1,
              "#f0f921"
             ]
            ],
            "type": "contour"
           }
          ],
          "contourcarpet": [
           {
            "colorbar": {
             "outlinewidth": 0,
             "ticks": ""
            },
            "type": "contourcarpet"
           }
          ],
          "heatmap": [
           {
            "colorbar": {
             "outlinewidth": 0,
             "ticks": ""
            },
            "colorscale": [
             [
              0,
              "#0d0887"
             ],
             [
              0.1111111111111111,
              "#46039f"
             ],
             [
              0.2222222222222222,
              "#7201a8"
             ],
             [
              0.3333333333333333,
              "#9c179e"
             ],
             [
              0.4444444444444444,
              "#bd3786"
             ],
             [
              0.5555555555555556,
              "#d8576b"
             ],
             [
              0.6666666666666666,
              "#ed7953"
             ],
             [
              0.7777777777777778,
              "#fb9f3a"
             ],
             [
              0.8888888888888888,
              "#fdca26"
             ],
             [
              1,
              "#f0f921"
             ]
            ],
            "type": "heatmap"
           }
          ],
          "heatmapgl": [
           {
            "colorbar": {
             "outlinewidth": 0,
             "ticks": ""
            },
            "colorscale": [
             [
              0,
              "#0d0887"
             ],
             [
              0.1111111111111111,
              "#46039f"
             ],
             [
              0.2222222222222222,
              "#7201a8"
             ],
             [
              0.3333333333333333,
              "#9c179e"
             ],
             [
              0.4444444444444444,
              "#bd3786"
             ],
             [
              0.5555555555555556,
              "#d8576b"
             ],
             [
              0.6666666666666666,
              "#ed7953"
             ],
             [
              0.7777777777777778,
              "#fb9f3a"
             ],
             [
              0.8888888888888888,
              "#fdca26"
             ],
             [
              1,
              "#f0f921"
             ]
            ],
            "type": "heatmapgl"
           }
          ],
          "histogram": [
           {
            "marker": {
             "pattern": {
              "fillmode": "overlay",
              "size": 10,
              "solidity": 0.2
             }
            },
            "type": "histogram"
           }
          ],
          "histogram2d": [
           {
            "colorbar": {
             "outlinewidth": 0,
             "ticks": ""
            },
            "colorscale": [
             [
              0,
              "#0d0887"
             ],
             [
              0.1111111111111111,
              "#46039f"
             ],
             [
              0.2222222222222222,
              "#7201a8"
             ],
             [
              0.3333333333333333,
              "#9c179e"
             ],
             [
              0.4444444444444444,
              "#bd3786"
             ],
             [
              0.5555555555555556,
              "#d8576b"
             ],
             [
              0.6666666666666666,
              "#ed7953"
             ],
             [
              0.7777777777777778,
              "#fb9f3a"
             ],
             [
              0.8888888888888888,
              "#fdca26"
             ],
             [
              1,
              "#f0f921"
             ]
            ],
            "type": "histogram2d"
           }
          ],
          "histogram2dcontour": [
           {
            "colorbar": {
             "outlinewidth": 0,
             "ticks": ""
            },
            "colorscale": [
             [
              0,
              "#0d0887"
             ],
             [
              0.1111111111111111,
              "#46039f"
             ],
             [
              0.2222222222222222,
              "#7201a8"
             ],
             [
              0.3333333333333333,
              "#9c179e"
             ],
             [
              0.4444444444444444,
              "#bd3786"
             ],
             [
              0.5555555555555556,
              "#d8576b"
             ],
             [
              0.6666666666666666,
              "#ed7953"
             ],
             [
              0.7777777777777778,
              "#fb9f3a"
             ],
             [
              0.8888888888888888,
              "#fdca26"
             ],
             [
              1,
              "#f0f921"
             ]
            ],
            "type": "histogram2dcontour"
           }
          ],
          "mesh3d": [
           {
            "colorbar": {
             "outlinewidth": 0,
             "ticks": ""
            },
            "type": "mesh3d"
           }
          ],
          "parcoords": [
           {
            "line": {
             "colorbar": {
              "outlinewidth": 0,
              "ticks": ""
             }
            },
            "type": "parcoords"
           }
          ],
          "pie": [
           {
            "automargin": true,
            "type": "pie"
           }
          ],
          "scatter": [
           {
            "fillpattern": {
             "fillmode": "overlay",
             "size": 10,
             "solidity": 0.2
            },
            "type": "scatter"
           }
          ],
          "scatter3d": [
           {
            "line": {
             "colorbar": {
              "outlinewidth": 0,
              "ticks": ""
             }
            },
            "marker": {
             "colorbar": {
              "outlinewidth": 0,
              "ticks": ""
             }
            },
            "type": "scatter3d"
           }
          ],
          "scattercarpet": [
           {
            "marker": {
             "colorbar": {
              "outlinewidth": 0,
              "ticks": ""
             }
            },
            "type": "scattercarpet"
           }
          ],
          "scattergeo": [
           {
            "marker": {
             "colorbar": {
              "outlinewidth": 0,
              "ticks": ""
             }
            },
            "type": "scattergeo"
           }
          ],
          "scattergl": [
           {
            "marker": {
             "colorbar": {
              "outlinewidth": 0,
              "ticks": ""
             }
            },
            "type": "scattergl"
           }
          ],
          "scattermapbox": [
           {
            "marker": {
             "colorbar": {
              "outlinewidth": 0,
              "ticks": ""
             }
            },
            "type": "scattermapbox"
           }
          ],
          "scatterpolar": [
           {
            "marker": {
             "colorbar": {
              "outlinewidth": 0,
              "ticks": ""
             }
            },
            "type": "scatterpolar"
           }
          ],
          "scatterpolargl": [
           {
            "marker": {
             "colorbar": {
              "outlinewidth": 0,
              "ticks": ""
             }
            },
            "type": "scatterpolargl"
           }
          ],
          "scatterternary": [
           {
            "marker": {
             "colorbar": {
              "outlinewidth": 0,
              "ticks": ""
             }
            },
            "type": "scatterternary"
           }
          ],
          "surface": [
           {
            "colorbar": {
             "outlinewidth": 0,
             "ticks": ""
            },
            "colorscale": [
             [
              0,
              "#0d0887"
             ],
             [
              0.1111111111111111,
              "#46039f"
             ],
             [
              0.2222222222222222,
              "#7201a8"
             ],
             [
              0.3333333333333333,
              "#9c179e"
             ],
             [
              0.4444444444444444,
              "#bd3786"
             ],
             [
              0.5555555555555556,
              "#d8576b"
             ],
             [
              0.6666666666666666,
              "#ed7953"
             ],
             [
              0.7777777777777778,
              "#fb9f3a"
             ],
             [
              0.8888888888888888,
              "#fdca26"
             ],
             [
              1,
              "#f0f921"
             ]
            ],
            "type": "surface"
           }
          ],
          "table": [
           {
            "cells": {
             "fill": {
              "color": "#EBF0F8"
             },
             "line": {
              "color": "white"
             }
            },
            "header": {
             "fill": {
              "color": "#C8D4E3"
             },
             "line": {
              "color": "white"
             }
            },
            "type": "table"
           }
          ]
         },
         "layout": {
          "annotationdefaults": {
           "arrowcolor": "#2a3f5f",
           "arrowhead": 0,
           "arrowwidth": 1
          },
          "autotypenumbers": "strict",
          "coloraxis": {
           "colorbar": {
            "outlinewidth": 0,
            "ticks": ""
           }
          },
          "colorscale": {
           "diverging": [
            [
             0,
             "#8e0152"
            ],
            [
             0.1,
             "#c51b7d"
            ],
            [
             0.2,
             "#de77ae"
            ],
            [
             0.3,
             "#f1b6da"
            ],
            [
             0.4,
             "#fde0ef"
            ],
            [
             0.5,
             "#f7f7f7"
            ],
            [
             0.6,
             "#e6f5d0"
            ],
            [
             0.7,
             "#b8e186"
            ],
            [
             0.8,
             "#7fbc41"
            ],
            [
             0.9,
             "#4d9221"
            ],
            [
             1,
             "#276419"
            ]
           ],
           "sequential": [
            [
             0,
             "#0d0887"
            ],
            [
             0.1111111111111111,
             "#46039f"
            ],
            [
             0.2222222222222222,
             "#7201a8"
            ],
            [
             0.3333333333333333,
             "#9c179e"
            ],
            [
             0.4444444444444444,
             "#bd3786"
            ],
            [
             0.5555555555555556,
             "#d8576b"
            ],
            [
             0.6666666666666666,
             "#ed7953"
            ],
            [
             0.7777777777777778,
             "#fb9f3a"
            ],
            [
             0.8888888888888888,
             "#fdca26"
            ],
            [
             1,
             "#f0f921"
            ]
           ],
           "sequentialminus": [
            [
             0,
             "#0d0887"
            ],
            [
             0.1111111111111111,
             "#46039f"
            ],
            [
             0.2222222222222222,
             "#7201a8"
            ],
            [
             0.3333333333333333,
             "#9c179e"
            ],
            [
             0.4444444444444444,
             "#bd3786"
            ],
            [
             0.5555555555555556,
             "#d8576b"
            ],
            [
             0.6666666666666666,
             "#ed7953"
            ],
            [
             0.7777777777777778,
             "#fb9f3a"
            ],
            [
             0.8888888888888888,
             "#fdca26"
            ],
            [
             1,
             "#f0f921"
            ]
           ]
          },
          "colorway": [
           "#636efa",
           "#EF553B",
           "#00cc96",
           "#ab63fa",
           "#FFA15A",
           "#19d3f3",
           "#FF6692",
           "#B6E880",
           "#FF97FF",
           "#FECB52"
          ],
          "font": {
           "color": "#2a3f5f"
          },
          "geo": {
           "bgcolor": "white",
           "lakecolor": "white",
           "landcolor": "#E5ECF6",
           "showlakes": true,
           "showland": true,
           "subunitcolor": "white"
          },
          "hoverlabel": {
           "align": "left"
          },
          "hovermode": "closest",
          "mapbox": {
           "style": "light"
          },
          "paper_bgcolor": "white",
          "plot_bgcolor": "#E5ECF6",
          "polar": {
           "angularaxis": {
            "gridcolor": "white",
            "linecolor": "white",
            "ticks": ""
           },
           "bgcolor": "#E5ECF6",
           "radialaxis": {
            "gridcolor": "white",
            "linecolor": "white",
            "ticks": ""
           }
          },
          "scene": {
           "xaxis": {
            "backgroundcolor": "#E5ECF6",
            "gridcolor": "white",
            "gridwidth": 2,
            "linecolor": "white",
            "showbackground": true,
            "ticks": "",
            "zerolinecolor": "white"
           },
           "yaxis": {
            "backgroundcolor": "#E5ECF6",
            "gridcolor": "white",
            "gridwidth": 2,
            "linecolor": "white",
            "showbackground": true,
            "ticks": "",
            "zerolinecolor": "white"
           },
           "zaxis": {
            "backgroundcolor": "#E5ECF6",
            "gridcolor": "white",
            "gridwidth": 2,
            "linecolor": "white",
            "showbackground": true,
            "ticks": "",
            "zerolinecolor": "white"
           }
          },
          "shapedefaults": {
           "line": {
            "color": "#2a3f5f"
           }
          },
          "ternary": {
           "aaxis": {
            "gridcolor": "white",
            "linecolor": "white",
            "ticks": ""
           },
           "baxis": {
            "gridcolor": "white",
            "linecolor": "white",
            "ticks": ""
           },
           "bgcolor": "#E5ECF6",
           "caxis": {
            "gridcolor": "white",
            "linecolor": "white",
            "ticks": ""
           }
          },
          "title": {
           "x": 0.05
          },
          "xaxis": {
           "automargin": true,
           "gridcolor": "white",
           "linecolor": "white",
           "ticks": "",
           "title": {
            "standoff": 15
           },
           "zerolinecolor": "white",
           "zerolinewidth": 2
          },
          "yaxis": {
           "automargin": true,
           "gridcolor": "white",
           "linecolor": "white",
           "ticks": "",
           "title": {
            "standoff": 15
           },
           "zerolinecolor": "white",
           "zerolinewidth": 2
          }
         }
        },
        "xaxis": {
         "anchor": "y",
         "domain": [
          0,
          1
         ],
         "title": {
          "text": "PC1"
         }
        },
        "yaxis": {
         "anchor": "x",
         "domain": [
          0,
          1
         ],
         "title": {
          "text": "PC2"
         }
        }
       }
      }
     },
     "metadata": {},
     "output_type": "display_data"
    },
    {
     "name": "stdout",
     "output_type": "stream",
     "text": [
      "eps:0.48\n",
      "min:7\n",
      "6\n",
      "         borough  neighborhood  longitude  latitude  population  PC1  PC2  \\\n",
      "cluster                                                                     \n",
      "-1            79            79         79        79          79   79   79   \n",
      " 0           155           155        155       155         155  155  155   \n",
      " 1            24            24         24        24          24   24   24   \n",
      " 2            15            15         15        15          15   15   15   \n",
      " 3            22            22         22        22          22   22   22   \n",
      " 4            11            11         11        11          11   11   11   \n",
      "\n",
      "         PC3  PC4  PC5  \n",
      "cluster                 \n",
      "-1        79   79   79  \n",
      " 0       155  155  155  \n",
      " 1        24   24   24  \n",
      " 2        15   15   15  \n",
      " 3        22   22   22  \n",
      " 4        11   11   11  \n"
     ]
    },
    {
     "data": {
      "application/vnd.plotly.v1+json": {
       "config": {
        "plotlyServerURL": "https://plot.ly"
       },
       "data": [
        {
         "hovertemplate": "PC1=%{x}<br>PC2=%{y}<br>cluster=%{marker.color}<extra></extra>",
         "legendgroup": "",
         "marker": {
          "color": [
           -1,
           0,
           0,
           0,
           0,
           -1,
           -1,
           0,
           1,
           -1,
           0,
           -1,
           0,
           1,
           1,
           1,
           -1,
           1,
           1,
           1,
           1,
           -1,
           0,
           1,
           0,
           1,
           -1,
           0,
           0,
           0,
           1,
           1,
           1,
           -1,
           -1,
           0,
           0,
           0,
           0,
           0,
           0,
           -1,
           0,
           1,
           1,
           -1,
           -1,
           -1,
           -1,
           -1,
           0,
           0,
           0,
           -1,
           4,
           -1,
           -1,
           0,
           -1,
           2,
           -1,
           2,
           -1,
           -1,
           2,
           2,
           2,
           0,
           -1,
           2,
           2,
           -1,
           1,
           0,
           0,
           0,
           0,
           0,
           0,
           -1,
           0,
           0,
           0,
           -1,
           4,
           0,
           2,
           3,
           4,
           -1,
           -1,
           0,
           0,
           -1,
           0,
           -1,
           -1,
           -1,
           0,
           -1,
           -1,
           -1,
           -1,
           -1,
           -1,
           -1,
           -1,
           -1,
           -1,
           3,
           4,
           2,
           -1,
           3,
           3,
           3,
           3,
           3,
           3,
           3,
           3,
           -1,
           3,
           -1,
           2,
           4,
           3,
           3,
           3,
           2,
           4,
           -1,
           -1,
           0,
           1,
           -1,
           0,
           0,
           -1,
           4,
           0,
           -1,
           0,
           4,
           0,
           0,
           -1,
           1,
           0,
           0,
           0,
           0,
           -1,
           -1,
           -1,
           0,
           -1,
           0,
           0,
           -1,
           -1,
           0,
           0,
           0,
           -1,
           0,
           0,
           0,
           0,
           0,
           0,
           0,
           0,
           -1,
           0,
           0,
           0,
           0,
           0,
           0,
           -1,
           0,
           0,
           -1,
           -1,
           0,
           2,
           0,
           0,
           -1,
           0,
           0,
           0,
           0,
           0,
           1,
           -1,
           0,
           0,
           0,
           0,
           0,
           0,
           0,
           0,
           0,
           0,
           0,
           0,
           0,
           0,
           -1,
           0,
           0,
           0,
           0,
           0,
           0,
           0,
           0,
           0,
           4,
           -1,
           -1,
           0,
           0,
           0,
           0,
           0,
           0,
           0,
           0,
           0,
           0,
           0,
           0,
           0,
           0,
           0,
           0,
           0,
           0,
           0,
           0,
           0,
           0,
           0,
           2,
           3,
           3,
           3,
           0,
           0,
           0,
           0,
           0,
           0,
           0,
           0,
           -1,
           -1,
           0,
           0,
           -1,
           0,
           0,
           0,
           1,
           1,
           1,
           1,
           3,
           -1,
           3,
           3,
           2,
           3,
           4,
           0,
           2,
           -1,
           -1,
           -1,
           -1,
           0,
           0,
           0,
           0,
           0,
           0,
           0,
           0,
           0,
           0,
           0,
           -1,
           0,
           0,
           -1,
           1,
           -1,
           3,
           0,
           0,
           4,
           0
          ],
          "coloraxis": "coloraxis",
          "symbol": "circle"
         },
         "mode": "markers",
         "name": "",
         "orientation": "v",
         "showlegend": false,
         "type": "scatter",
         "x": [
          -0.2999392354396995,
          -0.5181567708027076,
          -0.5389529254485282,
          -0.538111552554458,
          -0.516147602315639,
          0.46436840244932165,
          0.45352076282083575,
          -0.36327500134531987,
          0.04290603085482082,
          -0.13461435110212733,
          -0.4021395629348593,
          -0.13263860935977162,
          -0.9483488226574535,
          0.4074897950783606,
          0.5755622369262103,
          0.4674770541294375,
          1.0962259089896498,
          0.06685585748113411,
          0.2778291084640352,
          0.7242728941962615,
          0.2918559862072228,
          0.3980223461832242,
          -0.3848464860122922,
          -0.014177861706992366,
          -0.9552179762738815,
          0.4053671312191602,
          -0.2559588648471157,
          -1.165877009943115,
          -1.123375288912157,
          -0.6682835524122395,
          0.44047777141560857,
          0.04834022053030687,
          0.18681620011700503,
          -0.12929955851795105,
          0.7926923362590205,
          -0.1882807513299356,
          -0.7190695415655564,
          -0.5011519532650851,
          -0.5933321056281312,
          -0.8164408217059835,
          -0.6518866033230457,
          -0.15836603627267384,
          -0.6887001045380412,
          0.6232455811904835,
          0.2706131565114359,
          -0.2071280008458385,
          0.5677760170889561,
          0.4245282417662995,
          0.732062723687729,
          0.6647666160441524,
          -0.378894367925141,
          0.11331680105654329,
          0.142877082087975,
          0.2632720089673174,
          0.4831505169580193,
          1.0005011370457608,
          -0.009630308343033559,
          0.2695181763843945,
          0.23981404950292573,
          1.2438990294991203,
          0.12527502179245878,
          1.4755149046700555,
          1.138193032280503,
          1.0793748522987965,
          1.2195699562132947,
          1.3847052739269194,
          1.2912653987621434,
          -0.682811717914585,
          0.663631218340794,
          1.358342087824533,
          1.1856016916134868,
          -0.252778598793644,
          -0.006656674233660172,
          -0.841890486218964,
          -0.6430458770964462,
          -0.4365305003620773,
          -1.1224678795253045,
          -0.1388711206074483,
          -0.48034423639408136,
          0.11468942196092147,
          0.20418279961275473,
          0.33166584407063376,
          -0.8933655040828606,
          -0.2901670903642142,
          1.098767249838175,
          -1.2918134088644488,
          1.5246429037063425,
          1.9910611771883795,
          0.8401309794319323,
          0.33847176321781003,
          0.1957535097812927,
          -1.3755622666980964,
          0.22616411597253527,
          0.5151905018672949,
          -0.49922104036443843,
          1.1818386941391135,
          1.3017672782590088,
          1.5691723592542213,
          0.0721695713439749,
          0.07695090884878672,
          2.022009337706604,
          0.8372956790584203,
          0.6792680364483404,
          1.0436176101307042,
          1.129176764730745,
          1.2963415173711779,
          1.0937694175631123,
          1.7095781838571862,
          1.664751256357031,
          1.7319753122188069,
          0.53075277508637,
          1.3780563005591284,
          1.522390516442774,
          2.171819140053922,
          2.579792781075722,
          2.4050923519676446,
          2.121897541368075,
          2.01551488518807,
          1.7836424743897554,
          1.7050711658750761,
          2.0232344874056816,
          2.205680687495938,
          2.1715116241664383,
          1.5835690324135638,
          1.0656490790447863,
          0.8449220416723394,
          1.9274303799611379,
          1.8424003400772775,
          2.0090349724392573,
          1.3125009630585187,
          0.8255673291381561,
          1.2400133851911501,
          1.3418010110571237,
          -0.9548712423275117,
          0.28051516243332686,
          0.45589960495084303,
          -0.04180753981802375,
          -0.043454082322605635,
          1.1382596128222702,
          0.5358606324571142,
          0.035464794515611416,
          -0.22994680784223304,
          -0.5647312521852714,
          0.622162642316137,
          -0.8921332540665712,
          0.4934773707581297,
          0.33583190890043985,
          0.0014838290646109343,
          -0.4765564490982787,
          -0.8448059378525163,
          -0.7033879883662709,
          -0.05711951422719375,
          0.01890778608226496,
          -0.5438246284401622,
          -0.6419414770535792,
          -0.9033013766285666,
          -0.6373854809111569,
          -0.4565410805689251,
          -0.5730667974493526,
          0.13838462583574498,
          0.7028844179449769,
          -0.8310735558464718,
          -0.6803916826523227,
          -0.6639812987716027,
          0.18182383438444333,
          -0.5975522904980415,
          -0.6803529798702498,
          -0.9000858945038492,
          -0.8695655035076317,
          -0.901315538504906,
          -0.3101310245623727,
          -1.4024391299408305,
          -1.3836611538878454,
          0.24300737165451552,
          -0.865735067860948,
          -1.1343893595241143,
          -1.1831269951009487,
          -1.0774637307442498,
          -0.2302240588318395,
          -1.3643437993340608,
          0.1946894575213927,
          -0.6657633126769088,
          -0.9526624848903337,
          -0.24938306614677389,
          -0.546233901638181,
          -0.6581461694961046,
          0.9847529679272189,
          -0.8477465986250363,
          -0.6081684833910217,
          0.2827774014347927,
          -1.3024974168783492,
          -0.7678514830652007,
          -1.1206671649331457,
          -1.208669516100077,
          -1.1747656914848847,
          0.11738470018073716,
          0.6631359976059288,
          -0.3757918696780955,
          -0.09904119415014753,
          -0.22170254223361455,
          -0.7964968798506339,
          -0.7813598390769764,
          -0.5760780444236835,
          -1.2465716026538567,
          -1.2733919839582715,
          -0.06641260338746098,
          -0.6429277864815851,
          -1.3476147622158514,
          -1.0383378118215698,
          -1.1439425381498158,
          -1.3163852637328892,
          -0.2401620319660303,
          -1.0985370437572568,
          -0.6859331897246643,
          -0.8000054116940196,
          -1.1716224595484603,
          -1.2459616007084795,
          -1.183120955691874,
          0.1184476894250234,
          -1.074834626712761,
          -1.018303994835368,
          0.7119487479506225,
          0.21019144684223565,
          -0.03723478249683049,
          -0.8312148080119293,
          -0.07597849202451003,
          -0.5426923616511136,
          -1.1850811809292456,
          -1.1247929828229555,
          -0.8924012361639907,
          -1.0092181481457057,
          -0.7337429475685675,
          -0.9920979643224627,
          -0.10755176092971798,
          -0.6812465975137608,
          -1.0817165507307511,
          -1.250744390363617,
          -1.0642077531973524,
          -1.2920494223590977,
          -0.8565008406139715,
          -1.4536207982734528,
          -1.2808351412577583,
          -1.198167203468849,
          -0.5367965483003608,
          -1.2594254790104038,
          -1.374932311355924,
          -1.0126922615888843,
          1.3306919365514172,
          2.225865804501945,
          2.2884025223718285,
          2.537278143681823,
          -1.36163317499136,
          -1.0563102969299942,
          -0.3827028476264218,
          -0.945506188922139,
          -1.0782766619270727,
          -0.763914925466357,
          -1.3521695798749969,
          -0.17448321466246525,
          -0.17660537528721643,
          -0.256216419868812,
          -0.8367738007957795,
          -0.5556874893432492,
          0.6198053593563561,
          -0.5849703883238309,
          -0.8888690669875318,
          -0.9414771107697821,
          0.25786474491043077,
          0.8270229322509042,
          0.6026698284905444,
          0.4525977843573021,
          1.8269526485588876,
          0.3153932075476958,
          1.9017507345834945,
          1.6197218593294567,
          1.247418735226473,
          2.1371897859491797,
          0.4383904065626343,
          -0.3173487678689919,
          1.1498494092292053,
          0.6263732421524841,
          0.7834573998248294,
          0.213117310884682,
          0.7612025505621709,
          -1.2310972979983905,
          -1.0287800024670455,
          -1.3438732399976079,
          -1.2490796256034082,
          -1.5032304456623122,
          0.255952742235144,
          -0.9181242828565992,
          -1.2484616396951735,
          -1.387126864861877,
          -0.5588738837253546,
          -0.8447093185072994,
          -0.6525092224023513,
          0.003755333333790615,
          -0.06437641491923062,
          -0.4586950287429286,
          0.5655525050079675,
          0.14886431458832958,
          1.9165147047372728,
          -0.5520607731433764,
          -0.8665174120226569,
          0.24557006740058984,
          -0.6641900420123495
         ],
         "xaxis": "x",
         "y": [
          0.806299978323345,
          0.5349393015194553,
          0.44599647582055696,
          -0.1793164740659275,
          -0.01769137499653219,
          0.41058465151014867,
          0.805030540193982,
          0.12616875832724325,
          0.8936856326076474,
          1.1937107915376588,
          0.7543189999854552,
          0.653749589826394,
          -0.40550348727951807,
          0.8244221157527419,
          1.1307142036472466,
          0.970872373665378,
          0.6870530098903527,
          1.195575934707533,
          1.1014896400520062,
          1.09681677806123,
          0.928080826381978,
          0.592134280152459,
          0.47562555173320953,
          0.8055763977577076,
          -0.21780703784143277,
          1.2914241376495152,
          1.1831144068745167,
          -0.5134561925369533,
          -0.4383503902814716,
          0.08477690193539078,
          1.103084930273736,
          0.7287044565318851,
          0.6734756931322404,
          0.42412801326183636,
          -0.013412536420554465,
          0.09348723252204139,
          -0.03126620346800106,
          0.10622988467370176,
          0.3204061571457269,
          0.04114621084721529,
          0.5441166678972398,
          1.269412365700332,
          0.3890853714637924,
          1.3999182962166496,
          1.1725030213949628,
          0.9124573390427227,
          -0.2635571307489102,
          -0.14931406519656187,
          0.3993865877828994,
          -0.6724918539388018,
          0.1351975030420144,
          0.047011905832725895,
          -0.1034344742114677,
          0.07328075642167255,
          0.32664796588263395,
          0.9212580426971713,
          0.5885945269887833,
          0.10348473039158303,
          -0.6219532435292111,
          -0.12463045518885603,
          1.445186660804491,
          -0.6688011664810389,
          -0.04205386096823332,
          0.4802884413187154,
          -0.49455504022883073,
          -0.596022913019379,
          -0.6381787404578652,
          -0.29860595583620336,
          -0.3356644082449101,
          -0.4823523671241202,
          -0.7220396281382598,
          0.6144407438954747,
          1.0530064676844941,
          0.24200873578627774,
          0.6064978297019271,
          0.7980160729786023,
          -0.4227843487238337,
          -0.40063968867330546,
          0.4778627000862738,
          -0.14439306931082832,
          0.3795655702604848,
          -0.30418728276073764,
          0.11483956569065727,
          0.3615664495193163,
          -0.013911891146466918,
          -0.7044141398075099,
          -0.2800072149436896,
          -0.5814248610672074,
          0.35722150296692495,
          0.6063673720815981,
          0.709087978250995,
          -0.7611222046166933,
          0.3774782018983608,
          0.6079010048661659,
          0.2716194987998772,
          -0.5090884148566687,
          -0.9437509369766337,
          -0.7378243749433759,
          -0.15552435429764988,
          -0.30806304786888233,
          -0.5554189723270366,
          0.3185146583820584,
          0.7247207402148527,
          0.16510974164216402,
          0.1817870913356511,
          0.2919149709822771,
          0.2558480997560535,
          -0.4853326660958113,
          -0.4555442915210945,
          -0.6267123830101081,
          -0.32423207220716815,
          -0.6495348163603091,
          -0.5969335909333425,
          -0.6950982002260162,
          -0.8039023492315185,
          -0.8463540031478058,
          -0.5639906220731845,
          -0.7322479489843708,
          -0.8044673584062482,
          -0.7676345699736715,
          -0.7355576384336225,
          -0.6130992848679153,
          -0.8059487000352696,
          -1.0556049319587602,
          -0.3043116814894053,
          0.1317347249774442,
          -0.6293984293686756,
          -0.5393492189955894,
          -0.7495620564751544,
          -0.35019237233317807,
          0.11443426324989052,
          0.4067915046809062,
          0.12000357637589167,
          -0.31145674429000497,
          0.496994593824929,
          -0.28021741711873244,
          0.24619949230250915,
          0.41604679114290544,
          -0.1015905721393609,
          -0.1843634912628376,
          0.06159704164544002,
          0.44138833394384336,
          0.059973938363108076,
          0.04652081222635425,
          -0.10196749287086464,
          0.10470188666250062,
          0.6006534161589127,
          0.7506775637707709,
          0.5835619850401902,
          0.28478019992150755,
          -0.36648661318174,
          -0.1903221685965428,
          -0.005708674005146361,
          -0.10585684802205063,
          -0.12671836662788946,
          -0.1988475305088498,
          0.3782128639469237,
          0.07549035300725004,
          0.18313485776756228,
          0.8155829016706871,
          1.1102009563266175,
          -0.3568756115783724,
          0.4047238529565508,
          0.918537119146883,
          0.9728554455323954,
          0.5560639138111109,
          0.765225898098094,
          0.04022404594353627,
          0.35508548416671015,
          0.22162661818381768,
          0.8284947314030138,
          -0.6537694487278716,
          -0.7383699243435852,
          -0.42551296308643355,
          -0.32512834768898924,
          -0.6807920469417668,
          -0.5458966020931459,
          -0.4685939823007847,
          -0.06288028325875307,
          -0.8312861038801539,
          0.045713707932120505,
          0.24051550785415066,
          0.0009869988782313435,
          0.8479540938652118,
          -0.295818599313753,
          0.24241513541459378,
          -0.14631157145142862,
          0.12418188909830893,
          0.46810003866105077,
          0.42128334238073467,
          -0.6733519755899642,
          -0.2765333786047671,
          -0.5454340157723812,
          -0.4841277030800287,
          -0.06445174613844017,
          0.8740842671779211,
          -0.3193841475305961,
          0.2066563044923224,
          0.27398222527272015,
          0.4397866282894236,
          -0.20782386304993866,
          -0.2656628069820084,
          0.28919558193670014,
          -0.6545853993429349,
          -0.7103354798988762,
          0.3576148822363461,
          0.36183146193320953,
          -0.6692418085540119,
          -0.20552626434165477,
          -0.5864409628256706,
          -0.8377849417368702,
          0.0935487716687992,
          -0.44900336834152127,
          -0.5901441113090965,
          -0.3917681463328883,
          -0.7674141328637799,
          -0.790765429939808,
          -0.8054599803417316,
          -0.016931352592281845,
          -0.5094929728558609,
          -0.6637113450865609,
          0.4886784692452135,
          1.1508499654648823,
          1.2183994258112232,
          -0.11215989769980683,
          0.023045464500308907,
          0.3967862844815681,
          -0.4159882474359355,
          -0.8105737967963041,
          -0.40881540860361004,
          -0.33478534934271587,
          -0.25903853410658934,
          -0.5578357298097841,
          0.1675564582240629,
          0.10479074786371335,
          -0.7038937850573096,
          -0.6664356234858254,
          -0.7291521011755766,
          -0.8782459950638907,
          -0.6307671049443168,
          -0.810023494543922,
          -0.8434386949904867,
          -0.5271644224958127,
          -0.043817908560705866,
          -0.6967171431930672,
          -0.7286831182420442,
          -0.2891920808217153,
          -0.7227639140117216,
          -0.6673439667575884,
          -0.6187829202613706,
          -0.9053475762065974,
          -0.5820089421166709,
          -0.39687302140975966,
          0.3460011652400142,
          -0.3769561957580825,
          -0.6806714700365031,
          -0.2511242329470653,
          -0.8174237112388035,
          0.20987101615847012,
          1.009957317130405,
          1.0322876884571575,
          0.31568090709172775,
          0.28970097830594943,
          1.1529544549991322,
          0.13115219815923157,
          -0.14008448310831018,
          -0.27458446774217077,
          0.9810726152811008,
          1.1131847799044698,
          1.0469350506714832,
          0.9777811142701341,
          -0.7656895311483325,
          -0.7390406014244911,
          -0.5453813327248558,
          -0.6452777304513234,
          -0.5972468033648282,
          -0.7252665042150467,
          -0.18547157900937017,
          0.06888428902178695,
          -0.68618385886783,
          -0.37218942002373007,
          0.4804271284122918,
          0.9516738981098124,
          -0.5462149460677708,
          -0.6332873184204082,
          -0.4614251128926636,
          -0.8623589229915303,
          -0.7264368586825095,
          -0.7802563375255952,
          -0.029181224468502555,
          -0.23476004348722218,
          -0.7158566990527655,
          -0.8675102170516804,
          -0.3451099096885358,
          -0.228025450820487,
          0.7335081177022897,
          0.10556960418357397,
          0.4263760868686934,
          1.1067314536342658,
          1.0773970308375467,
          0.8412009169066555,
          -0.7321100938004265,
          -0.3526133465237766,
          -0.30215238181881504,
          0.018321377007454998,
          -0.014265755706041225
         ],
         "yaxis": "y"
        }
       ],
       "layout": {
        "coloraxis": {
         "colorbar": {
          "title": {
           "text": "cluster"
          }
         },
         "colorscale": [
          [
           0,
           "#0d0887"
          ],
          [
           0.1111111111111111,
           "#46039f"
          ],
          [
           0.2222222222222222,
           "#7201a8"
          ],
          [
           0.3333333333333333,
           "#9c179e"
          ],
          [
           0.4444444444444444,
           "#bd3786"
          ],
          [
           0.5555555555555556,
           "#d8576b"
          ],
          [
           0.6666666666666666,
           "#ed7953"
          ],
          [
           0.7777777777777778,
           "#fb9f3a"
          ],
          [
           0.8888888888888888,
           "#fdca26"
          ],
          [
           1,
           "#f0f921"
          ]
         ]
        },
        "legend": {
         "tracegroupgap": 0
        },
        "margin": {
         "t": 60
        },
        "template": {
         "data": {
          "bar": [
           {
            "error_x": {
             "color": "#2a3f5f"
            },
            "error_y": {
             "color": "#2a3f5f"
            },
            "marker": {
             "line": {
              "color": "#E5ECF6",
              "width": 0.5
             },
             "pattern": {
              "fillmode": "overlay",
              "size": 10,
              "solidity": 0.2
             }
            },
            "type": "bar"
           }
          ],
          "barpolar": [
           {
            "marker": {
             "line": {
              "color": "#E5ECF6",
              "width": 0.5
             },
             "pattern": {
              "fillmode": "overlay",
              "size": 10,
              "solidity": 0.2
             }
            },
            "type": "barpolar"
           }
          ],
          "carpet": [
           {
            "aaxis": {
             "endlinecolor": "#2a3f5f",
             "gridcolor": "white",
             "linecolor": "white",
             "minorgridcolor": "white",
             "startlinecolor": "#2a3f5f"
            },
            "baxis": {
             "endlinecolor": "#2a3f5f",
             "gridcolor": "white",
             "linecolor": "white",
             "minorgridcolor": "white",
             "startlinecolor": "#2a3f5f"
            },
            "type": "carpet"
           }
          ],
          "choropleth": [
           {
            "colorbar": {
             "outlinewidth": 0,
             "ticks": ""
            },
            "type": "choropleth"
           }
          ],
          "contour": [
           {
            "colorbar": {
             "outlinewidth": 0,
             "ticks": ""
            },
            "colorscale": [
             [
              0,
              "#0d0887"
             ],
             [
              0.1111111111111111,
              "#46039f"
             ],
             [
              0.2222222222222222,
              "#7201a8"
             ],
             [
              0.3333333333333333,
              "#9c179e"
             ],
             [
              0.4444444444444444,
              "#bd3786"
             ],
             [
              0.5555555555555556,
              "#d8576b"
             ],
             [
              0.6666666666666666,
              "#ed7953"
             ],
             [
              0.7777777777777778,
              "#fb9f3a"
             ],
             [
              0.8888888888888888,
              "#fdca26"
             ],
             [
              1,
              "#f0f921"
             ]
            ],
            "type": "contour"
           }
          ],
          "contourcarpet": [
           {
            "colorbar": {
             "outlinewidth": 0,
             "ticks": ""
            },
            "type": "contourcarpet"
           }
          ],
          "heatmap": [
           {
            "colorbar": {
             "outlinewidth": 0,
             "ticks": ""
            },
            "colorscale": [
             [
              0,
              "#0d0887"
             ],
             [
              0.1111111111111111,
              "#46039f"
             ],
             [
              0.2222222222222222,
              "#7201a8"
             ],
             [
              0.3333333333333333,
              "#9c179e"
             ],
             [
              0.4444444444444444,
              "#bd3786"
             ],
             [
              0.5555555555555556,
              "#d8576b"
             ],
             [
              0.6666666666666666,
              "#ed7953"
             ],
             [
              0.7777777777777778,
              "#fb9f3a"
             ],
             [
              0.8888888888888888,
              "#fdca26"
             ],
             [
              1,
              "#f0f921"
             ]
            ],
            "type": "heatmap"
           }
          ],
          "heatmapgl": [
           {
            "colorbar": {
             "outlinewidth": 0,
             "ticks": ""
            },
            "colorscale": [
             [
              0,
              "#0d0887"
             ],
             [
              0.1111111111111111,
              "#46039f"
             ],
             [
              0.2222222222222222,
              "#7201a8"
             ],
             [
              0.3333333333333333,
              "#9c179e"
             ],
             [
              0.4444444444444444,
              "#bd3786"
             ],
             [
              0.5555555555555556,
              "#d8576b"
             ],
             [
              0.6666666666666666,
              "#ed7953"
             ],
             [
              0.7777777777777778,
              "#fb9f3a"
             ],
             [
              0.8888888888888888,
              "#fdca26"
             ],
             [
              1,
              "#f0f921"
             ]
            ],
            "type": "heatmapgl"
           }
          ],
          "histogram": [
           {
            "marker": {
             "pattern": {
              "fillmode": "overlay",
              "size": 10,
              "solidity": 0.2
             }
            },
            "type": "histogram"
           }
          ],
          "histogram2d": [
           {
            "colorbar": {
             "outlinewidth": 0,
             "ticks": ""
            },
            "colorscale": [
             [
              0,
              "#0d0887"
             ],
             [
              0.1111111111111111,
              "#46039f"
             ],
             [
              0.2222222222222222,
              "#7201a8"
             ],
             [
              0.3333333333333333,
              "#9c179e"
             ],
             [
              0.4444444444444444,
              "#bd3786"
             ],
             [
              0.5555555555555556,
              "#d8576b"
             ],
             [
              0.6666666666666666,
              "#ed7953"
             ],
             [
              0.7777777777777778,
              "#fb9f3a"
             ],
             [
              0.8888888888888888,
              "#fdca26"
             ],
             [
              1,
              "#f0f921"
             ]
            ],
            "type": "histogram2d"
           }
          ],
          "histogram2dcontour": [
           {
            "colorbar": {
             "outlinewidth": 0,
             "ticks": ""
            },
            "colorscale": [
             [
              0,
              "#0d0887"
             ],
             [
              0.1111111111111111,
              "#46039f"
             ],
             [
              0.2222222222222222,
              "#7201a8"
             ],
             [
              0.3333333333333333,
              "#9c179e"
             ],
             [
              0.4444444444444444,
              "#bd3786"
             ],
             [
              0.5555555555555556,
              "#d8576b"
             ],
             [
              0.6666666666666666,
              "#ed7953"
             ],
             [
              0.7777777777777778,
              "#fb9f3a"
             ],
             [
              0.8888888888888888,
              "#fdca26"
             ],
             [
              1,
              "#f0f921"
             ]
            ],
            "type": "histogram2dcontour"
           }
          ],
          "mesh3d": [
           {
            "colorbar": {
             "outlinewidth": 0,
             "ticks": ""
            },
            "type": "mesh3d"
           }
          ],
          "parcoords": [
           {
            "line": {
             "colorbar": {
              "outlinewidth": 0,
              "ticks": ""
             }
            },
            "type": "parcoords"
           }
          ],
          "pie": [
           {
            "automargin": true,
            "type": "pie"
           }
          ],
          "scatter": [
           {
            "fillpattern": {
             "fillmode": "overlay",
             "size": 10,
             "solidity": 0.2
            },
            "type": "scatter"
           }
          ],
          "scatter3d": [
           {
            "line": {
             "colorbar": {
              "outlinewidth": 0,
              "ticks": ""
             }
            },
            "marker": {
             "colorbar": {
              "outlinewidth": 0,
              "ticks": ""
             }
            },
            "type": "scatter3d"
           }
          ],
          "scattercarpet": [
           {
            "marker": {
             "colorbar": {
              "outlinewidth": 0,
              "ticks": ""
             }
            },
            "type": "scattercarpet"
           }
          ],
          "scattergeo": [
           {
            "marker": {
             "colorbar": {
              "outlinewidth": 0,
              "ticks": ""
             }
            },
            "type": "scattergeo"
           }
          ],
          "scattergl": [
           {
            "marker": {
             "colorbar": {
              "outlinewidth": 0,
              "ticks": ""
             }
            },
            "type": "scattergl"
           }
          ],
          "scattermapbox": [
           {
            "marker": {
             "colorbar": {
              "outlinewidth": 0,
              "ticks": ""
             }
            },
            "type": "scattermapbox"
           }
          ],
          "scatterpolar": [
           {
            "marker": {
             "colorbar": {
              "outlinewidth": 0,
              "ticks": ""
             }
            },
            "type": "scatterpolar"
           }
          ],
          "scatterpolargl": [
           {
            "marker": {
             "colorbar": {
              "outlinewidth": 0,
              "ticks": ""
             }
            },
            "type": "scatterpolargl"
           }
          ],
          "scatterternary": [
           {
            "marker": {
             "colorbar": {
              "outlinewidth": 0,
              "ticks": ""
             }
            },
            "type": "scatterternary"
           }
          ],
          "surface": [
           {
            "colorbar": {
             "outlinewidth": 0,
             "ticks": ""
            },
            "colorscale": [
             [
              0,
              "#0d0887"
             ],
             [
              0.1111111111111111,
              "#46039f"
             ],
             [
              0.2222222222222222,
              "#7201a8"
             ],
             [
              0.3333333333333333,
              "#9c179e"
             ],
             [
              0.4444444444444444,
              "#bd3786"
             ],
             [
              0.5555555555555556,
              "#d8576b"
             ],
             [
              0.6666666666666666,
              "#ed7953"
             ],
             [
              0.7777777777777778,
              "#fb9f3a"
             ],
             [
              0.8888888888888888,
              "#fdca26"
             ],
             [
              1,
              "#f0f921"
             ]
            ],
            "type": "surface"
           }
          ],
          "table": [
           {
            "cells": {
             "fill": {
              "color": "#EBF0F8"
             },
             "line": {
              "color": "white"
             }
            },
            "header": {
             "fill": {
              "color": "#C8D4E3"
             },
             "line": {
              "color": "white"
             }
            },
            "type": "table"
           }
          ]
         },
         "layout": {
          "annotationdefaults": {
           "arrowcolor": "#2a3f5f",
           "arrowhead": 0,
           "arrowwidth": 1
          },
          "autotypenumbers": "strict",
          "coloraxis": {
           "colorbar": {
            "outlinewidth": 0,
            "ticks": ""
           }
          },
          "colorscale": {
           "diverging": [
            [
             0,
             "#8e0152"
            ],
            [
             0.1,
             "#c51b7d"
            ],
            [
             0.2,
             "#de77ae"
            ],
            [
             0.3,
             "#f1b6da"
            ],
            [
             0.4,
             "#fde0ef"
            ],
            [
             0.5,
             "#f7f7f7"
            ],
            [
             0.6,
             "#e6f5d0"
            ],
            [
             0.7,
             "#b8e186"
            ],
            [
             0.8,
             "#7fbc41"
            ],
            [
             0.9,
             "#4d9221"
            ],
            [
             1,
             "#276419"
            ]
           ],
           "sequential": [
            [
             0,
             "#0d0887"
            ],
            [
             0.1111111111111111,
             "#46039f"
            ],
            [
             0.2222222222222222,
             "#7201a8"
            ],
            [
             0.3333333333333333,
             "#9c179e"
            ],
            [
             0.4444444444444444,
             "#bd3786"
            ],
            [
             0.5555555555555556,
             "#d8576b"
            ],
            [
             0.6666666666666666,
             "#ed7953"
            ],
            [
             0.7777777777777778,
             "#fb9f3a"
            ],
            [
             0.8888888888888888,
             "#fdca26"
            ],
            [
             1,
             "#f0f921"
            ]
           ],
           "sequentialminus": [
            [
             0,
             "#0d0887"
            ],
            [
             0.1111111111111111,
             "#46039f"
            ],
            [
             0.2222222222222222,
             "#7201a8"
            ],
            [
             0.3333333333333333,
             "#9c179e"
            ],
            [
             0.4444444444444444,
             "#bd3786"
            ],
            [
             0.5555555555555556,
             "#d8576b"
            ],
            [
             0.6666666666666666,
             "#ed7953"
            ],
            [
             0.7777777777777778,
             "#fb9f3a"
            ],
            [
             0.8888888888888888,
             "#fdca26"
            ],
            [
             1,
             "#f0f921"
            ]
           ]
          },
          "colorway": [
           "#636efa",
           "#EF553B",
           "#00cc96",
           "#ab63fa",
           "#FFA15A",
           "#19d3f3",
           "#FF6692",
           "#B6E880",
           "#FF97FF",
           "#FECB52"
          ],
          "font": {
           "color": "#2a3f5f"
          },
          "geo": {
           "bgcolor": "white",
           "lakecolor": "white",
           "landcolor": "#E5ECF6",
           "showlakes": true,
           "showland": true,
           "subunitcolor": "white"
          },
          "hoverlabel": {
           "align": "left"
          },
          "hovermode": "closest",
          "mapbox": {
           "style": "light"
          },
          "paper_bgcolor": "white",
          "plot_bgcolor": "#E5ECF6",
          "polar": {
           "angularaxis": {
            "gridcolor": "white",
            "linecolor": "white",
            "ticks": ""
           },
           "bgcolor": "#E5ECF6",
           "radialaxis": {
            "gridcolor": "white",
            "linecolor": "white",
            "ticks": ""
           }
          },
          "scene": {
           "xaxis": {
            "backgroundcolor": "#E5ECF6",
            "gridcolor": "white",
            "gridwidth": 2,
            "linecolor": "white",
            "showbackground": true,
            "ticks": "",
            "zerolinecolor": "white"
           },
           "yaxis": {
            "backgroundcolor": "#E5ECF6",
            "gridcolor": "white",
            "gridwidth": 2,
            "linecolor": "white",
            "showbackground": true,
            "ticks": "",
            "zerolinecolor": "white"
           },
           "zaxis": {
            "backgroundcolor": "#E5ECF6",
            "gridcolor": "white",
            "gridwidth": 2,
            "linecolor": "white",
            "showbackground": true,
            "ticks": "",
            "zerolinecolor": "white"
           }
          },
          "shapedefaults": {
           "line": {
            "color": "#2a3f5f"
           }
          },
          "ternary": {
           "aaxis": {
            "gridcolor": "white",
            "linecolor": "white",
            "ticks": ""
           },
           "baxis": {
            "gridcolor": "white",
            "linecolor": "white",
            "ticks": ""
           },
           "bgcolor": "#E5ECF6",
           "caxis": {
            "gridcolor": "white",
            "linecolor": "white",
            "ticks": ""
           }
          },
          "title": {
           "x": 0.05
          },
          "xaxis": {
           "automargin": true,
           "gridcolor": "white",
           "linecolor": "white",
           "ticks": "",
           "title": {
            "standoff": 15
           },
           "zerolinecolor": "white",
           "zerolinewidth": 2
          },
          "yaxis": {
           "automargin": true,
           "gridcolor": "white",
           "linecolor": "white",
           "ticks": "",
           "title": {
            "standoff": 15
           },
           "zerolinecolor": "white",
           "zerolinewidth": 2
          }
         }
        },
        "xaxis": {
         "anchor": "y",
         "domain": [
          0,
          1
         ],
         "title": {
          "text": "PC1"
         }
        },
        "yaxis": {
         "anchor": "x",
         "domain": [
          0,
          1
         ],
         "title": {
          "text": "PC2"
         }
        }
       }
      }
     },
     "metadata": {},
     "output_type": "display_data"
    },
    {
     "name": "stdout",
     "output_type": "stream",
     "text": [
      "eps:0.48\n",
      "min:8\n",
      "8\n",
      "         borough  neighborhood  longitude  latitude  population  PC1  PC2  \\\n",
      "cluster                                                                     \n",
      "-1            98            98         98        98          98   98   98   \n",
      " 0           127           127        127       127         127  127  127   \n",
      " 1            22            22         22        22          22   22   22   \n",
      " 2            15            15         15        15          15   15   15   \n",
      " 3            14            14         14        14          14   14   14   \n",
      " 4            14            14         14        14          14   14   14   \n",
      " 5            11            11         11        11          11   11   11   \n",
      " 6             5             5          5         5           5    5    5   \n",
      "\n",
      "         PC3  PC4  PC5  \n",
      "cluster                 \n",
      "-1        98   98   98  \n",
      " 0       127  127  127  \n",
      " 1        22   22   22  \n",
      " 2        15   15   15  \n",
      " 3        14   14   14  \n",
      " 4        14   14   14  \n",
      " 5        11   11   11  \n",
      " 6         5    5    5  \n"
     ]
    },
    {
     "data": {
      "application/vnd.plotly.v1+json": {
       "config": {
        "plotlyServerURL": "https://plot.ly"
       },
       "data": [
        {
         "hovertemplate": "PC1=%{x}<br>PC2=%{y}<br>cluster=%{marker.color}<extra></extra>",
         "legendgroup": "",
         "marker": {
          "color": [
           -1,
           0,
           -1,
           0,
           0,
           -1,
           -1,
           0,
           1,
           -1,
           0,
           -1,
           0,
           1,
           1,
           1,
           -1,
           1,
           1,
           1,
           1,
           -1,
           -1,
           1,
           0,
           1,
           -1,
           0,
           0,
           0,
           1,
           -1,
           1,
           -1,
           -1,
           0,
           0,
           0,
           0,
           0,
           0,
           -1,
           0,
           1,
           1,
           -1,
           -1,
           -1,
           -1,
           -1,
           2,
           2,
           2,
           -1,
           5,
           -1,
           -1,
           2,
           -1,
           3,
           -1,
           3,
           -1,
           -1,
           3,
           3,
           3,
           0,
           -1,
           3,
           3,
           -1,
           1,
           0,
           0,
           0,
           0,
           2,
           0,
           -1,
           2,
           2,
           0,
           -1,
           5,
           0,
           3,
           4,
           5,
           -1,
           -1,
           0,
           2,
           -1,
           0,
           -1,
           -1,
           -1,
           2,
           -1,
           -1,
           -1,
           -1,
           -1,
           -1,
           -1,
           -1,
           -1,
           -1,
           6,
           5,
           3,
           -1,
           4,
           4,
           4,
           4,
           4,
           4,
           4,
           4,
           -1,
           4,
           -1,
           3,
           5,
           4,
           6,
           6,
           3,
           5,
           -1,
           -1,
           0,
           -1,
           -1,
           0,
           0,
           -1,
           5,
           0,
           -1,
           -1,
           5,
           0,
           2,
           -1,
           1,
           0,
           0,
           0,
           2,
           -1,
           -1,
           -1,
           0,
           -1,
           -1,
           -1,
           -1,
           -1,
           0,
           0,
           -1,
           -1,
           0,
           0,
           0,
           0,
           0,
           -1,
           0,
           0,
           -1,
           -1,
           0,
           0,
           0,
           0,
           0,
           -1,
           0,
           0,
           -1,
           -1,
           -1,
           3,
           0,
           0,
           -1,
           0,
           0,
           0,
           0,
           0,
           1,
           -1,
           0,
           0,
           0,
           0,
           -1,
           0,
           0,
           0,
           0,
           0,
           0,
           0,
           0,
           0,
           -1,
           0,
           0,
           0,
           0,
           0,
           0,
           -1,
           0,
           0,
           5,
           -1,
           -1,
           0,
           2,
           0,
           0,
           0,
           0,
           0,
           0,
           0,
           2,
           0,
           0,
           0,
           0,
           0,
           0,
           0,
           0,
           0,
           -1,
           0,
           0,
           0,
           -1,
           4,
           -1,
           -1,
           0,
           0,
           0,
           0,
           0,
           0,
           0,
           0,
           -1,
           -1,
           0,
           0,
           -1,
           -1,
           0,
           0,
           1,
           1,
           1,
           1,
           6,
           -1,
           4,
           -1,
           3,
           4,
           5,
           0,
           3,
           -1,
           -1,
           -1,
           -1,
           0,
           0,
           0,
           0,
           0,
           2,
           0,
           0,
           0,
           0,
           0,
           -1,
           2,
           0,
           -1,
           1,
           -1,
           6,
           0,
           0,
           5,
           0
          ],
          "coloraxis": "coloraxis",
          "symbol": "circle"
         },
         "mode": "markers",
         "name": "",
         "orientation": "v",
         "showlegend": false,
         "type": "scatter",
         "x": [
          -0.2999392354396995,
          -0.5181567708027076,
          -0.5389529254485282,
          -0.538111552554458,
          -0.516147602315639,
          0.46436840244932165,
          0.45352076282083575,
          -0.36327500134531987,
          0.04290603085482082,
          -0.13461435110212733,
          -0.4021395629348593,
          -0.13263860935977162,
          -0.9483488226574535,
          0.4074897950783606,
          0.5755622369262103,
          0.4674770541294375,
          1.0962259089896498,
          0.06685585748113411,
          0.2778291084640352,
          0.7242728941962615,
          0.2918559862072228,
          0.3980223461832242,
          -0.3848464860122922,
          -0.014177861706992366,
          -0.9552179762738815,
          0.4053671312191602,
          -0.2559588648471157,
          -1.165877009943115,
          -1.123375288912157,
          -0.6682835524122395,
          0.44047777141560857,
          0.04834022053030687,
          0.18681620011700503,
          -0.12929955851795105,
          0.7926923362590205,
          -0.1882807513299356,
          -0.7190695415655564,
          -0.5011519532650851,
          -0.5933321056281312,
          -0.8164408217059835,
          -0.6518866033230457,
          -0.15836603627267384,
          -0.6887001045380412,
          0.6232455811904835,
          0.2706131565114359,
          -0.2071280008458385,
          0.5677760170889561,
          0.4245282417662995,
          0.732062723687729,
          0.6647666160441524,
          -0.378894367925141,
          0.11331680105654329,
          0.142877082087975,
          0.2632720089673174,
          0.4831505169580193,
          1.0005011370457608,
          -0.009630308343033559,
          0.2695181763843945,
          0.23981404950292573,
          1.2438990294991203,
          0.12527502179245878,
          1.4755149046700555,
          1.138193032280503,
          1.0793748522987965,
          1.2195699562132947,
          1.3847052739269194,
          1.2912653987621434,
          -0.682811717914585,
          0.663631218340794,
          1.358342087824533,
          1.1856016916134868,
          -0.252778598793644,
          -0.006656674233660172,
          -0.841890486218964,
          -0.6430458770964462,
          -0.4365305003620773,
          -1.1224678795253045,
          -0.1388711206074483,
          -0.48034423639408136,
          0.11468942196092147,
          0.20418279961275473,
          0.33166584407063376,
          -0.8933655040828606,
          -0.2901670903642142,
          1.098767249838175,
          -1.2918134088644488,
          1.5246429037063425,
          1.9910611771883795,
          0.8401309794319323,
          0.33847176321781003,
          0.1957535097812927,
          -1.3755622666980964,
          0.22616411597253527,
          0.5151905018672949,
          -0.49922104036443843,
          1.1818386941391135,
          1.3017672782590088,
          1.5691723592542213,
          0.0721695713439749,
          0.07695090884878672,
          2.022009337706604,
          0.8372956790584203,
          0.6792680364483404,
          1.0436176101307042,
          1.129176764730745,
          1.2963415173711779,
          1.0937694175631123,
          1.7095781838571862,
          1.664751256357031,
          1.7319753122188069,
          0.53075277508637,
          1.3780563005591284,
          1.522390516442774,
          2.171819140053922,
          2.579792781075722,
          2.4050923519676446,
          2.121897541368075,
          2.01551488518807,
          1.7836424743897554,
          1.7050711658750761,
          2.0232344874056816,
          2.205680687495938,
          2.1715116241664383,
          1.5835690324135638,
          1.0656490790447863,
          0.8449220416723394,
          1.9274303799611379,
          1.8424003400772775,
          2.0090349724392573,
          1.3125009630585187,
          0.8255673291381561,
          1.2400133851911501,
          1.3418010110571237,
          -0.9548712423275117,
          0.28051516243332686,
          0.45589960495084303,
          -0.04180753981802375,
          -0.043454082322605635,
          1.1382596128222702,
          0.5358606324571142,
          0.035464794515611416,
          -0.22994680784223304,
          -0.5647312521852714,
          0.622162642316137,
          -0.8921332540665712,
          0.4934773707581297,
          0.33583190890043985,
          0.0014838290646109343,
          -0.4765564490982787,
          -0.8448059378525163,
          -0.7033879883662709,
          -0.05711951422719375,
          0.01890778608226496,
          -0.5438246284401622,
          -0.6419414770535792,
          -0.9033013766285666,
          -0.6373854809111569,
          -0.4565410805689251,
          -0.5730667974493526,
          0.13838462583574498,
          0.7028844179449769,
          -0.8310735558464718,
          -0.6803916826523227,
          -0.6639812987716027,
          0.18182383438444333,
          -0.5975522904980415,
          -0.6803529798702498,
          -0.9000858945038492,
          -0.8695655035076317,
          -0.901315538504906,
          -0.3101310245623727,
          -1.4024391299408305,
          -1.3836611538878454,
          0.24300737165451552,
          -0.865735067860948,
          -1.1343893595241143,
          -1.1831269951009487,
          -1.0774637307442498,
          -0.2302240588318395,
          -1.3643437993340608,
          0.1946894575213927,
          -0.6657633126769088,
          -0.9526624848903337,
          -0.24938306614677389,
          -0.546233901638181,
          -0.6581461694961046,
          0.9847529679272189,
          -0.8477465986250363,
          -0.6081684833910217,
          0.2827774014347927,
          -1.3024974168783492,
          -0.7678514830652007,
          -1.1206671649331457,
          -1.208669516100077,
          -1.1747656914848847,
          0.11738470018073716,
          0.6631359976059288,
          -0.3757918696780955,
          -0.09904119415014753,
          -0.22170254223361455,
          -0.7964968798506339,
          -0.7813598390769764,
          -0.5760780444236835,
          -1.2465716026538567,
          -1.2733919839582715,
          -0.06641260338746098,
          -0.6429277864815851,
          -1.3476147622158514,
          -1.0383378118215698,
          -1.1439425381498158,
          -1.3163852637328892,
          -0.2401620319660303,
          -1.0985370437572568,
          -0.6859331897246643,
          -0.8000054116940196,
          -1.1716224595484603,
          -1.2459616007084795,
          -1.183120955691874,
          0.1184476894250234,
          -1.074834626712761,
          -1.018303994835368,
          0.7119487479506225,
          0.21019144684223565,
          -0.03723478249683049,
          -0.8312148080119293,
          -0.07597849202451003,
          -0.5426923616511136,
          -1.1850811809292456,
          -1.1247929828229555,
          -0.8924012361639907,
          -1.0092181481457057,
          -0.7337429475685675,
          -0.9920979643224627,
          -0.10755176092971798,
          -0.6812465975137608,
          -1.0817165507307511,
          -1.250744390363617,
          -1.0642077531973524,
          -1.2920494223590977,
          -0.8565008406139715,
          -1.4536207982734528,
          -1.2808351412577583,
          -1.198167203468849,
          -0.5367965483003608,
          -1.2594254790104038,
          -1.374932311355924,
          -1.0126922615888843,
          1.3306919365514172,
          2.225865804501945,
          2.2884025223718285,
          2.537278143681823,
          -1.36163317499136,
          -1.0563102969299942,
          -0.3827028476264218,
          -0.945506188922139,
          -1.0782766619270727,
          -0.763914925466357,
          -1.3521695798749969,
          -0.17448321466246525,
          -0.17660537528721643,
          -0.256216419868812,
          -0.8367738007957795,
          -0.5556874893432492,
          0.6198053593563561,
          -0.5849703883238309,
          -0.8888690669875318,
          -0.9414771107697821,
          0.25786474491043077,
          0.8270229322509042,
          0.6026698284905444,
          0.4525977843573021,
          1.8269526485588876,
          0.3153932075476958,
          1.9017507345834945,
          1.6197218593294567,
          1.247418735226473,
          2.1371897859491797,
          0.4383904065626343,
          -0.3173487678689919,
          1.1498494092292053,
          0.6263732421524841,
          0.7834573998248294,
          0.213117310884682,
          0.7612025505621709,
          -1.2310972979983905,
          -1.0287800024670455,
          -1.3438732399976079,
          -1.2490796256034082,
          -1.5032304456623122,
          0.255952742235144,
          -0.9181242828565992,
          -1.2484616396951735,
          -1.387126864861877,
          -0.5588738837253546,
          -0.8447093185072994,
          -0.6525092224023513,
          0.003755333333790615,
          -0.06437641491923062,
          -0.4586950287429286,
          0.5655525050079675,
          0.14886431458832958,
          1.9165147047372728,
          -0.5520607731433764,
          -0.8665174120226569,
          0.24557006740058984,
          -0.6641900420123495
         ],
         "xaxis": "x",
         "y": [
          0.806299978323345,
          0.5349393015194553,
          0.44599647582055696,
          -0.1793164740659275,
          -0.01769137499653219,
          0.41058465151014867,
          0.805030540193982,
          0.12616875832724325,
          0.8936856326076474,
          1.1937107915376588,
          0.7543189999854552,
          0.653749589826394,
          -0.40550348727951807,
          0.8244221157527419,
          1.1307142036472466,
          0.970872373665378,
          0.6870530098903527,
          1.195575934707533,
          1.1014896400520062,
          1.09681677806123,
          0.928080826381978,
          0.592134280152459,
          0.47562555173320953,
          0.8055763977577076,
          -0.21780703784143277,
          1.2914241376495152,
          1.1831144068745167,
          -0.5134561925369533,
          -0.4383503902814716,
          0.08477690193539078,
          1.103084930273736,
          0.7287044565318851,
          0.6734756931322404,
          0.42412801326183636,
          -0.013412536420554465,
          0.09348723252204139,
          -0.03126620346800106,
          0.10622988467370176,
          0.3204061571457269,
          0.04114621084721529,
          0.5441166678972398,
          1.269412365700332,
          0.3890853714637924,
          1.3999182962166496,
          1.1725030213949628,
          0.9124573390427227,
          -0.2635571307489102,
          -0.14931406519656187,
          0.3993865877828994,
          -0.6724918539388018,
          0.1351975030420144,
          0.047011905832725895,
          -0.1034344742114677,
          0.07328075642167255,
          0.32664796588263395,
          0.9212580426971713,
          0.5885945269887833,
          0.10348473039158303,
          -0.6219532435292111,
          -0.12463045518885603,
          1.445186660804491,
          -0.6688011664810389,
          -0.04205386096823332,
          0.4802884413187154,
          -0.49455504022883073,
          -0.596022913019379,
          -0.6381787404578652,
          -0.29860595583620336,
          -0.3356644082449101,
          -0.4823523671241202,
          -0.7220396281382598,
          0.6144407438954747,
          1.0530064676844941,
          0.24200873578627774,
          0.6064978297019271,
          0.7980160729786023,
          -0.4227843487238337,
          -0.40063968867330546,
          0.4778627000862738,
          -0.14439306931082832,
          0.3795655702604848,
          -0.30418728276073764,
          0.11483956569065727,
          0.3615664495193163,
          -0.013911891146466918,
          -0.7044141398075099,
          -0.2800072149436896,
          -0.5814248610672074,
          0.35722150296692495,
          0.6063673720815981,
          0.709087978250995,
          -0.7611222046166933,
          0.3774782018983608,
          0.6079010048661659,
          0.2716194987998772,
          -0.5090884148566687,
          -0.9437509369766337,
          -0.7378243749433759,
          -0.15552435429764988,
          -0.30806304786888233,
          -0.5554189723270366,
          0.3185146583820584,
          0.7247207402148527,
          0.16510974164216402,
          0.1817870913356511,
          0.2919149709822771,
          0.2558480997560535,
          -0.4853326660958113,
          -0.4555442915210945,
          -0.6267123830101081,
          -0.32423207220716815,
          -0.6495348163603091,
          -0.5969335909333425,
          -0.6950982002260162,
          -0.8039023492315185,
          -0.8463540031478058,
          -0.5639906220731845,
          -0.7322479489843708,
          -0.8044673584062482,
          -0.7676345699736715,
          -0.7355576384336225,
          -0.6130992848679153,
          -0.8059487000352696,
          -1.0556049319587602,
          -0.3043116814894053,
          0.1317347249774442,
          -0.6293984293686756,
          -0.5393492189955894,
          -0.7495620564751544,
          -0.35019237233317807,
          0.11443426324989052,
          0.4067915046809062,
          0.12000357637589167,
          -0.31145674429000497,
          0.496994593824929,
          -0.28021741711873244,
          0.24619949230250915,
          0.41604679114290544,
          -0.1015905721393609,
          -0.1843634912628376,
          0.06159704164544002,
          0.44138833394384336,
          0.059973938363108076,
          0.04652081222635425,
          -0.10196749287086464,
          0.10470188666250062,
          0.6006534161589127,
          0.7506775637707709,
          0.5835619850401902,
          0.28478019992150755,
          -0.36648661318174,
          -0.1903221685965428,
          -0.005708674005146361,
          -0.10585684802205063,
          -0.12671836662788946,
          -0.1988475305088498,
          0.3782128639469237,
          0.07549035300725004,
          0.18313485776756228,
          0.8155829016706871,
          1.1102009563266175,
          -0.3568756115783724,
          0.4047238529565508,
          0.918537119146883,
          0.9728554455323954,
          0.5560639138111109,
          0.765225898098094,
          0.04022404594353627,
          0.35508548416671015,
          0.22162661818381768,
          0.8284947314030138,
          -0.6537694487278716,
          -0.7383699243435852,
          -0.42551296308643355,
          -0.32512834768898924,
          -0.6807920469417668,
          -0.5458966020931459,
          -0.4685939823007847,
          -0.06288028325875307,
          -0.8312861038801539,
          0.045713707932120505,
          0.24051550785415066,
          0.0009869988782313435,
          0.8479540938652118,
          -0.295818599313753,
          0.24241513541459378,
          -0.14631157145142862,
          0.12418188909830893,
          0.46810003866105077,
          0.42128334238073467,
          -0.6733519755899642,
          -0.2765333786047671,
          -0.5454340157723812,
          -0.4841277030800287,
          -0.06445174613844017,
          0.8740842671779211,
          -0.3193841475305961,
          0.2066563044923224,
          0.27398222527272015,
          0.4397866282894236,
          -0.20782386304993866,
          -0.2656628069820084,
          0.28919558193670014,
          -0.6545853993429349,
          -0.7103354798988762,
          0.3576148822363461,
          0.36183146193320953,
          -0.6692418085540119,
          -0.20552626434165477,
          -0.5864409628256706,
          -0.8377849417368702,
          0.0935487716687992,
          -0.44900336834152127,
          -0.5901441113090965,
          -0.3917681463328883,
          -0.7674141328637799,
          -0.790765429939808,
          -0.8054599803417316,
          -0.016931352592281845,
          -0.5094929728558609,
          -0.6637113450865609,
          0.4886784692452135,
          1.1508499654648823,
          1.2183994258112232,
          -0.11215989769980683,
          0.023045464500308907,
          0.3967862844815681,
          -0.4159882474359355,
          -0.8105737967963041,
          -0.40881540860361004,
          -0.33478534934271587,
          -0.25903853410658934,
          -0.5578357298097841,
          0.1675564582240629,
          0.10479074786371335,
          -0.7038937850573096,
          -0.6664356234858254,
          -0.7291521011755766,
          -0.8782459950638907,
          -0.6307671049443168,
          -0.810023494543922,
          -0.8434386949904867,
          -0.5271644224958127,
          -0.043817908560705866,
          -0.6967171431930672,
          -0.7286831182420442,
          -0.2891920808217153,
          -0.7227639140117216,
          -0.6673439667575884,
          -0.6187829202613706,
          -0.9053475762065974,
          -0.5820089421166709,
          -0.39687302140975966,
          0.3460011652400142,
          -0.3769561957580825,
          -0.6806714700365031,
          -0.2511242329470653,
          -0.8174237112388035,
          0.20987101615847012,
          1.009957317130405,
          1.0322876884571575,
          0.31568090709172775,
          0.28970097830594943,
          1.1529544549991322,
          0.13115219815923157,
          -0.14008448310831018,
          -0.27458446774217077,
          0.9810726152811008,
          1.1131847799044698,
          1.0469350506714832,
          0.9777811142701341,
          -0.7656895311483325,
          -0.7390406014244911,
          -0.5453813327248558,
          -0.6452777304513234,
          -0.5972468033648282,
          -0.7252665042150467,
          -0.18547157900937017,
          0.06888428902178695,
          -0.68618385886783,
          -0.37218942002373007,
          0.4804271284122918,
          0.9516738981098124,
          -0.5462149460677708,
          -0.6332873184204082,
          -0.4614251128926636,
          -0.8623589229915303,
          -0.7264368586825095,
          -0.7802563375255952,
          -0.029181224468502555,
          -0.23476004348722218,
          -0.7158566990527655,
          -0.8675102170516804,
          -0.3451099096885358,
          -0.228025450820487,
          0.7335081177022897,
          0.10556960418357397,
          0.4263760868686934,
          1.1067314536342658,
          1.0773970308375467,
          0.8412009169066555,
          -0.7321100938004265,
          -0.3526133465237766,
          -0.30215238181881504,
          0.018321377007454998,
          -0.014265755706041225
         ],
         "yaxis": "y"
        }
       ],
       "layout": {
        "coloraxis": {
         "colorbar": {
          "title": {
           "text": "cluster"
          }
         },
         "colorscale": [
          [
           0,
           "#0d0887"
          ],
          [
           0.1111111111111111,
           "#46039f"
          ],
          [
           0.2222222222222222,
           "#7201a8"
          ],
          [
           0.3333333333333333,
           "#9c179e"
          ],
          [
           0.4444444444444444,
           "#bd3786"
          ],
          [
           0.5555555555555556,
           "#d8576b"
          ],
          [
           0.6666666666666666,
           "#ed7953"
          ],
          [
           0.7777777777777778,
           "#fb9f3a"
          ],
          [
           0.8888888888888888,
           "#fdca26"
          ],
          [
           1,
           "#f0f921"
          ]
         ]
        },
        "legend": {
         "tracegroupgap": 0
        },
        "margin": {
         "t": 60
        },
        "template": {
         "data": {
          "bar": [
           {
            "error_x": {
             "color": "#2a3f5f"
            },
            "error_y": {
             "color": "#2a3f5f"
            },
            "marker": {
             "line": {
              "color": "#E5ECF6",
              "width": 0.5
             },
             "pattern": {
              "fillmode": "overlay",
              "size": 10,
              "solidity": 0.2
             }
            },
            "type": "bar"
           }
          ],
          "barpolar": [
           {
            "marker": {
             "line": {
              "color": "#E5ECF6",
              "width": 0.5
             },
             "pattern": {
              "fillmode": "overlay",
              "size": 10,
              "solidity": 0.2
             }
            },
            "type": "barpolar"
           }
          ],
          "carpet": [
           {
            "aaxis": {
             "endlinecolor": "#2a3f5f",
             "gridcolor": "white",
             "linecolor": "white",
             "minorgridcolor": "white",
             "startlinecolor": "#2a3f5f"
            },
            "baxis": {
             "endlinecolor": "#2a3f5f",
             "gridcolor": "white",
             "linecolor": "white",
             "minorgridcolor": "white",
             "startlinecolor": "#2a3f5f"
            },
            "type": "carpet"
           }
          ],
          "choropleth": [
           {
            "colorbar": {
             "outlinewidth": 0,
             "ticks": ""
            },
            "type": "choropleth"
           }
          ],
          "contour": [
           {
            "colorbar": {
             "outlinewidth": 0,
             "ticks": ""
            },
            "colorscale": [
             [
              0,
              "#0d0887"
             ],
             [
              0.1111111111111111,
              "#46039f"
             ],
             [
              0.2222222222222222,
              "#7201a8"
             ],
             [
              0.3333333333333333,
              "#9c179e"
             ],
             [
              0.4444444444444444,
              "#bd3786"
             ],
             [
              0.5555555555555556,
              "#d8576b"
             ],
             [
              0.6666666666666666,
              "#ed7953"
             ],
             [
              0.7777777777777778,
              "#fb9f3a"
             ],
             [
              0.8888888888888888,
              "#fdca26"
             ],
             [
              1,
              "#f0f921"
             ]
            ],
            "type": "contour"
           }
          ],
          "contourcarpet": [
           {
            "colorbar": {
             "outlinewidth": 0,
             "ticks": ""
            },
            "type": "contourcarpet"
           }
          ],
          "heatmap": [
           {
            "colorbar": {
             "outlinewidth": 0,
             "ticks": ""
            },
            "colorscale": [
             [
              0,
              "#0d0887"
             ],
             [
              0.1111111111111111,
              "#46039f"
             ],
             [
              0.2222222222222222,
              "#7201a8"
             ],
             [
              0.3333333333333333,
              "#9c179e"
             ],
             [
              0.4444444444444444,
              "#bd3786"
             ],
             [
              0.5555555555555556,
              "#d8576b"
             ],
             [
              0.6666666666666666,
              "#ed7953"
             ],
             [
              0.7777777777777778,
              "#fb9f3a"
             ],
             [
              0.8888888888888888,
              "#fdca26"
             ],
             [
              1,
              "#f0f921"
             ]
            ],
            "type": "heatmap"
           }
          ],
          "heatmapgl": [
           {
            "colorbar": {
             "outlinewidth": 0,
             "ticks": ""
            },
            "colorscale": [
             [
              0,
              "#0d0887"
             ],
             [
              0.1111111111111111,
              "#46039f"
             ],
             [
              0.2222222222222222,
              "#7201a8"
             ],
             [
              0.3333333333333333,
              "#9c179e"
             ],
             [
              0.4444444444444444,
              "#bd3786"
             ],
             [
              0.5555555555555556,
              "#d8576b"
             ],
             [
              0.6666666666666666,
              "#ed7953"
             ],
             [
              0.7777777777777778,
              "#fb9f3a"
             ],
             [
              0.8888888888888888,
              "#fdca26"
             ],
             [
              1,
              "#f0f921"
             ]
            ],
            "type": "heatmapgl"
           }
          ],
          "histogram": [
           {
            "marker": {
             "pattern": {
              "fillmode": "overlay",
              "size": 10,
              "solidity": 0.2
             }
            },
            "type": "histogram"
           }
          ],
          "histogram2d": [
           {
            "colorbar": {
             "outlinewidth": 0,
             "ticks": ""
            },
            "colorscale": [
             [
              0,
              "#0d0887"
             ],
             [
              0.1111111111111111,
              "#46039f"
             ],
             [
              0.2222222222222222,
              "#7201a8"
             ],
             [
              0.3333333333333333,
              "#9c179e"
             ],
             [
              0.4444444444444444,
              "#bd3786"
             ],
             [
              0.5555555555555556,
              "#d8576b"
             ],
             [
              0.6666666666666666,
              "#ed7953"
             ],
             [
              0.7777777777777778,
              "#fb9f3a"
             ],
             [
              0.8888888888888888,
              "#fdca26"
             ],
             [
              1,
              "#f0f921"
             ]
            ],
            "type": "histogram2d"
           }
          ],
          "histogram2dcontour": [
           {
            "colorbar": {
             "outlinewidth": 0,
             "ticks": ""
            },
            "colorscale": [
             [
              0,
              "#0d0887"
             ],
             [
              0.1111111111111111,
              "#46039f"
             ],
             [
              0.2222222222222222,
              "#7201a8"
             ],
             [
              0.3333333333333333,
              "#9c179e"
             ],
             [
              0.4444444444444444,
              "#bd3786"
             ],
             [
              0.5555555555555556,
              "#d8576b"
             ],
             [
              0.6666666666666666,
              "#ed7953"
             ],
             [
              0.7777777777777778,
              "#fb9f3a"
             ],
             [
              0.8888888888888888,
              "#fdca26"
             ],
             [
              1,
              "#f0f921"
             ]
            ],
            "type": "histogram2dcontour"
           }
          ],
          "mesh3d": [
           {
            "colorbar": {
             "outlinewidth": 0,
             "ticks": ""
            },
            "type": "mesh3d"
           }
          ],
          "parcoords": [
           {
            "line": {
             "colorbar": {
              "outlinewidth": 0,
              "ticks": ""
             }
            },
            "type": "parcoords"
           }
          ],
          "pie": [
           {
            "automargin": true,
            "type": "pie"
           }
          ],
          "scatter": [
           {
            "fillpattern": {
             "fillmode": "overlay",
             "size": 10,
             "solidity": 0.2
            },
            "type": "scatter"
           }
          ],
          "scatter3d": [
           {
            "line": {
             "colorbar": {
              "outlinewidth": 0,
              "ticks": ""
             }
            },
            "marker": {
             "colorbar": {
              "outlinewidth": 0,
              "ticks": ""
             }
            },
            "type": "scatter3d"
           }
          ],
          "scattercarpet": [
           {
            "marker": {
             "colorbar": {
              "outlinewidth": 0,
              "ticks": ""
             }
            },
            "type": "scattercarpet"
           }
          ],
          "scattergeo": [
           {
            "marker": {
             "colorbar": {
              "outlinewidth": 0,
              "ticks": ""
             }
            },
            "type": "scattergeo"
           }
          ],
          "scattergl": [
           {
            "marker": {
             "colorbar": {
              "outlinewidth": 0,
              "ticks": ""
             }
            },
            "type": "scattergl"
           }
          ],
          "scattermapbox": [
           {
            "marker": {
             "colorbar": {
              "outlinewidth": 0,
              "ticks": ""
             }
            },
            "type": "scattermapbox"
           }
          ],
          "scatterpolar": [
           {
            "marker": {
             "colorbar": {
              "outlinewidth": 0,
              "ticks": ""
             }
            },
            "type": "scatterpolar"
           }
          ],
          "scatterpolargl": [
           {
            "marker": {
             "colorbar": {
              "outlinewidth": 0,
              "ticks": ""
             }
            },
            "type": "scatterpolargl"
           }
          ],
          "scatterternary": [
           {
            "marker": {
             "colorbar": {
              "outlinewidth": 0,
              "ticks": ""
             }
            },
            "type": "scatterternary"
           }
          ],
          "surface": [
           {
            "colorbar": {
             "outlinewidth": 0,
             "ticks": ""
            },
            "colorscale": [
             [
              0,
              "#0d0887"
             ],
             [
              0.1111111111111111,
              "#46039f"
             ],
             [
              0.2222222222222222,
              "#7201a8"
             ],
             [
              0.3333333333333333,
              "#9c179e"
             ],
             [
              0.4444444444444444,
              "#bd3786"
             ],
             [
              0.5555555555555556,
              "#d8576b"
             ],
             [
              0.6666666666666666,
              "#ed7953"
             ],
             [
              0.7777777777777778,
              "#fb9f3a"
             ],
             [
              0.8888888888888888,
              "#fdca26"
             ],
             [
              1,
              "#f0f921"
             ]
            ],
            "type": "surface"
           }
          ],
          "table": [
           {
            "cells": {
             "fill": {
              "color": "#EBF0F8"
             },
             "line": {
              "color": "white"
             }
            },
            "header": {
             "fill": {
              "color": "#C8D4E3"
             },
             "line": {
              "color": "white"
             }
            },
            "type": "table"
           }
          ]
         },
         "layout": {
          "annotationdefaults": {
           "arrowcolor": "#2a3f5f",
           "arrowhead": 0,
           "arrowwidth": 1
          },
          "autotypenumbers": "strict",
          "coloraxis": {
           "colorbar": {
            "outlinewidth": 0,
            "ticks": ""
           }
          },
          "colorscale": {
           "diverging": [
            [
             0,
             "#8e0152"
            ],
            [
             0.1,
             "#c51b7d"
            ],
            [
             0.2,
             "#de77ae"
            ],
            [
             0.3,
             "#f1b6da"
            ],
            [
             0.4,
             "#fde0ef"
            ],
            [
             0.5,
             "#f7f7f7"
            ],
            [
             0.6,
             "#e6f5d0"
            ],
            [
             0.7,
             "#b8e186"
            ],
            [
             0.8,
             "#7fbc41"
            ],
            [
             0.9,
             "#4d9221"
            ],
            [
             1,
             "#276419"
            ]
           ],
           "sequential": [
            [
             0,
             "#0d0887"
            ],
            [
             0.1111111111111111,
             "#46039f"
            ],
            [
             0.2222222222222222,
             "#7201a8"
            ],
            [
             0.3333333333333333,
             "#9c179e"
            ],
            [
             0.4444444444444444,
             "#bd3786"
            ],
            [
             0.5555555555555556,
             "#d8576b"
            ],
            [
             0.6666666666666666,
             "#ed7953"
            ],
            [
             0.7777777777777778,
             "#fb9f3a"
            ],
            [
             0.8888888888888888,
             "#fdca26"
            ],
            [
             1,
             "#f0f921"
            ]
           ],
           "sequentialminus": [
            [
             0,
             "#0d0887"
            ],
            [
             0.1111111111111111,
             "#46039f"
            ],
            [
             0.2222222222222222,
             "#7201a8"
            ],
            [
             0.3333333333333333,
             "#9c179e"
            ],
            [
             0.4444444444444444,
             "#bd3786"
            ],
            [
             0.5555555555555556,
             "#d8576b"
            ],
            [
             0.6666666666666666,
             "#ed7953"
            ],
            [
             0.7777777777777778,
             "#fb9f3a"
            ],
            [
             0.8888888888888888,
             "#fdca26"
            ],
            [
             1,
             "#f0f921"
            ]
           ]
          },
          "colorway": [
           "#636efa",
           "#EF553B",
           "#00cc96",
           "#ab63fa",
           "#FFA15A",
           "#19d3f3",
           "#FF6692",
           "#B6E880",
           "#FF97FF",
           "#FECB52"
          ],
          "font": {
           "color": "#2a3f5f"
          },
          "geo": {
           "bgcolor": "white",
           "lakecolor": "white",
           "landcolor": "#E5ECF6",
           "showlakes": true,
           "showland": true,
           "subunitcolor": "white"
          },
          "hoverlabel": {
           "align": "left"
          },
          "hovermode": "closest",
          "mapbox": {
           "style": "light"
          },
          "paper_bgcolor": "white",
          "plot_bgcolor": "#E5ECF6",
          "polar": {
           "angularaxis": {
            "gridcolor": "white",
            "linecolor": "white",
            "ticks": ""
           },
           "bgcolor": "#E5ECF6",
           "radialaxis": {
            "gridcolor": "white",
            "linecolor": "white",
            "ticks": ""
           }
          },
          "scene": {
           "xaxis": {
            "backgroundcolor": "#E5ECF6",
            "gridcolor": "white",
            "gridwidth": 2,
            "linecolor": "white",
            "showbackground": true,
            "ticks": "",
            "zerolinecolor": "white"
           },
           "yaxis": {
            "backgroundcolor": "#E5ECF6",
            "gridcolor": "white",
            "gridwidth": 2,
            "linecolor": "white",
            "showbackground": true,
            "ticks": "",
            "zerolinecolor": "white"
           },
           "zaxis": {
            "backgroundcolor": "#E5ECF6",
            "gridcolor": "white",
            "gridwidth": 2,
            "linecolor": "white",
            "showbackground": true,
            "ticks": "",
            "zerolinecolor": "white"
           }
          },
          "shapedefaults": {
           "line": {
            "color": "#2a3f5f"
           }
          },
          "ternary": {
           "aaxis": {
            "gridcolor": "white",
            "linecolor": "white",
            "ticks": ""
           },
           "baxis": {
            "gridcolor": "white",
            "linecolor": "white",
            "ticks": ""
           },
           "bgcolor": "#E5ECF6",
           "caxis": {
            "gridcolor": "white",
            "linecolor": "white",
            "ticks": ""
           }
          },
          "title": {
           "x": 0.05
          },
          "xaxis": {
           "automargin": true,
           "gridcolor": "white",
           "linecolor": "white",
           "ticks": "",
           "title": {
            "standoff": 15
           },
           "zerolinecolor": "white",
           "zerolinewidth": 2
          },
          "yaxis": {
           "automargin": true,
           "gridcolor": "white",
           "linecolor": "white",
           "ticks": "",
           "title": {
            "standoff": 15
           },
           "zerolinecolor": "white",
           "zerolinewidth": 2
          }
         }
        },
        "xaxis": {
         "anchor": "y",
         "domain": [
          0,
          1
         ],
         "title": {
          "text": "PC1"
         }
        },
        "yaxis": {
         "anchor": "x",
         "domain": [
          0,
          1
         ],
         "title": {
          "text": "PC2"
         }
        }
       }
      }
     },
     "metadata": {},
     "output_type": "display_data"
    },
    {
     "name": "stdout",
     "output_type": "stream",
     "text": [
      "eps:0.48\n",
      "min:9\n",
      "5\n",
      "         borough  neighborhood  longitude  latitude  population  PC1  PC2  \\\n",
      "cluster                                                                     \n",
      "-1           141           141        141       141         141  141  141   \n",
      " 0           124           124        124       124         124  124  124   \n",
      " 1            20            20         20        20          20   20   20   \n",
      " 2            12            12         12        12          12   12   12   \n",
      " 3             9             9          9         9           9    9    9   \n",
      "\n",
      "         PC3  PC4  PC5  \n",
      "cluster                 \n",
      "-1       141  141  141  \n",
      " 0       124  124  124  \n",
      " 1        20   20   20  \n",
      " 2        12   12   12  \n",
      " 3         9    9    9  \n"
     ]
    },
    {
     "data": {
      "application/vnd.plotly.v1+json": {
       "config": {
        "plotlyServerURL": "https://plot.ly"
       },
       "data": [
        {
         "hovertemplate": "PC1=%{x}<br>PC2=%{y}<br>cluster=%{marker.color}<extra></extra>",
         "legendgroup": "",
         "marker": {
          "color": [
           -1,
           0,
           -1,
           0,
           0,
           -1,
           -1,
           0,
           1,
           -1,
           0,
           -1,
           0,
           1,
           1,
           1,
           -1,
           1,
           1,
           1,
           1,
           -1,
           -1,
           1,
           0,
           1,
           -1,
           0,
           0,
           0,
           1,
           -1,
           1,
           -1,
           -1,
           0,
           0,
           0,
           0,
           0,
           0,
           -1,
           0,
           1,
           1,
           -1,
           -1,
           -1,
           -1,
           -1,
           2,
           -1,
           2,
           -1,
           -1,
           -1,
           -1,
           2,
           -1,
           -1,
           -1,
           3,
           -1,
           -1,
           -1,
           3,
           3,
           0,
           -1,
           3,
           3,
           -1,
           -1,
           0,
           0,
           0,
           0,
           -1,
           0,
           -1,
           2,
           2,
           0,
           -1,
           -1,
           0,
           -1,
           -1,
           -1,
           -1,
           -1,
           0,
           2,
           -1,
           0,
           -1,
           -1,
           -1,
           2,
           -1,
           -1,
           -1,
           -1,
           -1,
           -1,
           -1,
           -1,
           -1,
           -1,
           -1,
           -1,
           3,
           -1,
           -1,
           -1,
           -1,
           -1,
           -1,
           -1,
           -1,
           -1,
           -1,
           -1,
           -1,
           -1,
           -1,
           -1,
           -1,
           -1,
           3,
           -1,
           -1,
           -1,
           0,
           -1,
           -1,
           0,
           0,
           -1,
           -1,
           -1,
           -1,
           -1,
           -1,
           0,
           2,
           -1,
           1,
           0,
           0,
           0,
           2,
           -1,
           -1,
           -1,
           0,
           -1,
           -1,
           -1,
           -1,
           -1,
           0,
           0,
           -1,
           -1,
           0,
           0,
           0,
           0,
           0,
           -1,
           0,
           0,
           -1,
           -1,
           0,
           0,
           0,
           0,
           0,
           -1,
           0,
           0,
           -1,
           -1,
           -1,
           -1,
           0,
           0,
           -1,
           0,
           0,
           0,
           0,
           0,
           1,
           -1,
           0,
           0,
           0,
           0,
           -1,
           0,
           0,
           0,
           -1,
           0,
           0,
           0,
           0,
           0,
           -1,
           0,
           0,
           0,
           0,
           0,
           0,
           -1,
           0,
           0,
           -1,
           -1,
           -1,
           0,
           -1,
           0,
           0,
           0,
           0,
           0,
           0,
           0,
           2,
           0,
           0,
           0,
           0,
           0,
           0,
           0,
           0,
           0,
           -1,
           0,
           0,
           0,
           -1,
           -1,
           -1,
           -1,
           0,
           0,
           0,
           0,
           0,
           0,
           0,
           0,
           -1,
           -1,
           0,
           0,
           -1,
           -1,
           0,
           0,
           1,
           1,
           1,
           1,
           -1,
           -1,
           -1,
           -1,
           3,
           -1,
           -1,
           0,
           3,
           -1,
           -1,
           -1,
           -1,
           0,
           0,
           0,
           0,
           0,
           2,
           0,
           0,
           0,
           0,
           0,
           -1,
           2,
           -1,
           -1,
           -1,
           -1,
           -1,
           0,
           0,
           -1,
           0
          ],
          "coloraxis": "coloraxis",
          "symbol": "circle"
         },
         "mode": "markers",
         "name": "",
         "orientation": "v",
         "showlegend": false,
         "type": "scatter",
         "x": [
          -0.2999392354396995,
          -0.5181567708027076,
          -0.5389529254485282,
          -0.538111552554458,
          -0.516147602315639,
          0.46436840244932165,
          0.45352076282083575,
          -0.36327500134531987,
          0.04290603085482082,
          -0.13461435110212733,
          -0.4021395629348593,
          -0.13263860935977162,
          -0.9483488226574535,
          0.4074897950783606,
          0.5755622369262103,
          0.4674770541294375,
          1.0962259089896498,
          0.06685585748113411,
          0.2778291084640352,
          0.7242728941962615,
          0.2918559862072228,
          0.3980223461832242,
          -0.3848464860122922,
          -0.014177861706992366,
          -0.9552179762738815,
          0.4053671312191602,
          -0.2559588648471157,
          -1.165877009943115,
          -1.123375288912157,
          -0.6682835524122395,
          0.44047777141560857,
          0.04834022053030687,
          0.18681620011700503,
          -0.12929955851795105,
          0.7926923362590205,
          -0.1882807513299356,
          -0.7190695415655564,
          -0.5011519532650851,
          -0.5933321056281312,
          -0.8164408217059835,
          -0.6518866033230457,
          -0.15836603627267384,
          -0.6887001045380412,
          0.6232455811904835,
          0.2706131565114359,
          -0.2071280008458385,
          0.5677760170889561,
          0.4245282417662995,
          0.732062723687729,
          0.6647666160441524,
          -0.378894367925141,
          0.11331680105654329,
          0.142877082087975,
          0.2632720089673174,
          0.4831505169580193,
          1.0005011370457608,
          -0.009630308343033559,
          0.2695181763843945,
          0.23981404950292573,
          1.2438990294991203,
          0.12527502179245878,
          1.4755149046700555,
          1.138193032280503,
          1.0793748522987965,
          1.2195699562132947,
          1.3847052739269194,
          1.2912653987621434,
          -0.682811717914585,
          0.663631218340794,
          1.358342087824533,
          1.1856016916134868,
          -0.252778598793644,
          -0.006656674233660172,
          -0.841890486218964,
          -0.6430458770964462,
          -0.4365305003620773,
          -1.1224678795253045,
          -0.1388711206074483,
          -0.48034423639408136,
          0.11468942196092147,
          0.20418279961275473,
          0.33166584407063376,
          -0.8933655040828606,
          -0.2901670903642142,
          1.098767249838175,
          -1.2918134088644488,
          1.5246429037063425,
          1.9910611771883795,
          0.8401309794319323,
          0.33847176321781003,
          0.1957535097812927,
          -1.3755622666980964,
          0.22616411597253527,
          0.5151905018672949,
          -0.49922104036443843,
          1.1818386941391135,
          1.3017672782590088,
          1.5691723592542213,
          0.0721695713439749,
          0.07695090884878672,
          2.022009337706604,
          0.8372956790584203,
          0.6792680364483404,
          1.0436176101307042,
          1.129176764730745,
          1.2963415173711779,
          1.0937694175631123,
          1.7095781838571862,
          1.664751256357031,
          1.7319753122188069,
          0.53075277508637,
          1.3780563005591284,
          1.522390516442774,
          2.171819140053922,
          2.579792781075722,
          2.4050923519676446,
          2.121897541368075,
          2.01551488518807,
          1.7836424743897554,
          1.7050711658750761,
          2.0232344874056816,
          2.205680687495938,
          2.1715116241664383,
          1.5835690324135638,
          1.0656490790447863,
          0.8449220416723394,
          1.9274303799611379,
          1.8424003400772775,
          2.0090349724392573,
          1.3125009630585187,
          0.8255673291381561,
          1.2400133851911501,
          1.3418010110571237,
          -0.9548712423275117,
          0.28051516243332686,
          0.45589960495084303,
          -0.04180753981802375,
          -0.043454082322605635,
          1.1382596128222702,
          0.5358606324571142,
          0.035464794515611416,
          -0.22994680784223304,
          -0.5647312521852714,
          0.622162642316137,
          -0.8921332540665712,
          0.4934773707581297,
          0.33583190890043985,
          0.0014838290646109343,
          -0.4765564490982787,
          -0.8448059378525163,
          -0.7033879883662709,
          -0.05711951422719375,
          0.01890778608226496,
          -0.5438246284401622,
          -0.6419414770535792,
          -0.9033013766285666,
          -0.6373854809111569,
          -0.4565410805689251,
          -0.5730667974493526,
          0.13838462583574498,
          0.7028844179449769,
          -0.8310735558464718,
          -0.6803916826523227,
          -0.6639812987716027,
          0.18182383438444333,
          -0.5975522904980415,
          -0.6803529798702498,
          -0.9000858945038492,
          -0.8695655035076317,
          -0.901315538504906,
          -0.3101310245623727,
          -1.4024391299408305,
          -1.3836611538878454,
          0.24300737165451552,
          -0.865735067860948,
          -1.1343893595241143,
          -1.1831269951009487,
          -1.0774637307442498,
          -0.2302240588318395,
          -1.3643437993340608,
          0.1946894575213927,
          -0.6657633126769088,
          -0.9526624848903337,
          -0.24938306614677389,
          -0.546233901638181,
          -0.6581461694961046,
          0.9847529679272189,
          -0.8477465986250363,
          -0.6081684833910217,
          0.2827774014347927,
          -1.3024974168783492,
          -0.7678514830652007,
          -1.1206671649331457,
          -1.208669516100077,
          -1.1747656914848847,
          0.11738470018073716,
          0.6631359976059288,
          -0.3757918696780955,
          -0.09904119415014753,
          -0.22170254223361455,
          -0.7964968798506339,
          -0.7813598390769764,
          -0.5760780444236835,
          -1.2465716026538567,
          -1.2733919839582715,
          -0.06641260338746098,
          -0.6429277864815851,
          -1.3476147622158514,
          -1.0383378118215698,
          -1.1439425381498158,
          -1.3163852637328892,
          -0.2401620319660303,
          -1.0985370437572568,
          -0.6859331897246643,
          -0.8000054116940196,
          -1.1716224595484603,
          -1.2459616007084795,
          -1.183120955691874,
          0.1184476894250234,
          -1.074834626712761,
          -1.018303994835368,
          0.7119487479506225,
          0.21019144684223565,
          -0.03723478249683049,
          -0.8312148080119293,
          -0.07597849202451003,
          -0.5426923616511136,
          -1.1850811809292456,
          -1.1247929828229555,
          -0.8924012361639907,
          -1.0092181481457057,
          -0.7337429475685675,
          -0.9920979643224627,
          -0.10755176092971798,
          -0.6812465975137608,
          -1.0817165507307511,
          -1.250744390363617,
          -1.0642077531973524,
          -1.2920494223590977,
          -0.8565008406139715,
          -1.4536207982734528,
          -1.2808351412577583,
          -1.198167203468849,
          -0.5367965483003608,
          -1.2594254790104038,
          -1.374932311355924,
          -1.0126922615888843,
          1.3306919365514172,
          2.225865804501945,
          2.2884025223718285,
          2.537278143681823,
          -1.36163317499136,
          -1.0563102969299942,
          -0.3827028476264218,
          -0.945506188922139,
          -1.0782766619270727,
          -0.763914925466357,
          -1.3521695798749969,
          -0.17448321466246525,
          -0.17660537528721643,
          -0.256216419868812,
          -0.8367738007957795,
          -0.5556874893432492,
          0.6198053593563561,
          -0.5849703883238309,
          -0.8888690669875318,
          -0.9414771107697821,
          0.25786474491043077,
          0.8270229322509042,
          0.6026698284905444,
          0.4525977843573021,
          1.8269526485588876,
          0.3153932075476958,
          1.9017507345834945,
          1.6197218593294567,
          1.247418735226473,
          2.1371897859491797,
          0.4383904065626343,
          -0.3173487678689919,
          1.1498494092292053,
          0.6263732421524841,
          0.7834573998248294,
          0.213117310884682,
          0.7612025505621709,
          -1.2310972979983905,
          -1.0287800024670455,
          -1.3438732399976079,
          -1.2490796256034082,
          -1.5032304456623122,
          0.255952742235144,
          -0.9181242828565992,
          -1.2484616396951735,
          -1.387126864861877,
          -0.5588738837253546,
          -0.8447093185072994,
          -0.6525092224023513,
          0.003755333333790615,
          -0.06437641491923062,
          -0.4586950287429286,
          0.5655525050079675,
          0.14886431458832958,
          1.9165147047372728,
          -0.5520607731433764,
          -0.8665174120226569,
          0.24557006740058984,
          -0.6641900420123495
         ],
         "xaxis": "x",
         "y": [
          0.806299978323345,
          0.5349393015194553,
          0.44599647582055696,
          -0.1793164740659275,
          -0.01769137499653219,
          0.41058465151014867,
          0.805030540193982,
          0.12616875832724325,
          0.8936856326076474,
          1.1937107915376588,
          0.7543189999854552,
          0.653749589826394,
          -0.40550348727951807,
          0.8244221157527419,
          1.1307142036472466,
          0.970872373665378,
          0.6870530098903527,
          1.195575934707533,
          1.1014896400520062,
          1.09681677806123,
          0.928080826381978,
          0.592134280152459,
          0.47562555173320953,
          0.8055763977577076,
          -0.21780703784143277,
          1.2914241376495152,
          1.1831144068745167,
          -0.5134561925369533,
          -0.4383503902814716,
          0.08477690193539078,
          1.103084930273736,
          0.7287044565318851,
          0.6734756931322404,
          0.42412801326183636,
          -0.013412536420554465,
          0.09348723252204139,
          -0.03126620346800106,
          0.10622988467370176,
          0.3204061571457269,
          0.04114621084721529,
          0.5441166678972398,
          1.269412365700332,
          0.3890853714637924,
          1.3999182962166496,
          1.1725030213949628,
          0.9124573390427227,
          -0.2635571307489102,
          -0.14931406519656187,
          0.3993865877828994,
          -0.6724918539388018,
          0.1351975030420144,
          0.047011905832725895,
          -0.1034344742114677,
          0.07328075642167255,
          0.32664796588263395,
          0.9212580426971713,
          0.5885945269887833,
          0.10348473039158303,
          -0.6219532435292111,
          -0.12463045518885603,
          1.445186660804491,
          -0.6688011664810389,
          -0.04205386096823332,
          0.4802884413187154,
          -0.49455504022883073,
          -0.596022913019379,
          -0.6381787404578652,
          -0.29860595583620336,
          -0.3356644082449101,
          -0.4823523671241202,
          -0.7220396281382598,
          0.6144407438954747,
          1.0530064676844941,
          0.24200873578627774,
          0.6064978297019271,
          0.7980160729786023,
          -0.4227843487238337,
          -0.40063968867330546,
          0.4778627000862738,
          -0.14439306931082832,
          0.3795655702604848,
          -0.30418728276073764,
          0.11483956569065727,
          0.3615664495193163,
          -0.013911891146466918,
          -0.7044141398075099,
          -0.2800072149436896,
          -0.5814248610672074,
          0.35722150296692495,
          0.6063673720815981,
          0.709087978250995,
          -0.7611222046166933,
          0.3774782018983608,
          0.6079010048661659,
          0.2716194987998772,
          -0.5090884148566687,
          -0.9437509369766337,
          -0.7378243749433759,
          -0.15552435429764988,
          -0.30806304786888233,
          -0.5554189723270366,
          0.3185146583820584,
          0.7247207402148527,
          0.16510974164216402,
          0.1817870913356511,
          0.2919149709822771,
          0.2558480997560535,
          -0.4853326660958113,
          -0.4555442915210945,
          -0.6267123830101081,
          -0.32423207220716815,
          -0.6495348163603091,
          -0.5969335909333425,
          -0.6950982002260162,
          -0.8039023492315185,
          -0.8463540031478058,
          -0.5639906220731845,
          -0.7322479489843708,
          -0.8044673584062482,
          -0.7676345699736715,
          -0.7355576384336225,
          -0.6130992848679153,
          -0.8059487000352696,
          -1.0556049319587602,
          -0.3043116814894053,
          0.1317347249774442,
          -0.6293984293686756,
          -0.5393492189955894,
          -0.7495620564751544,
          -0.35019237233317807,
          0.11443426324989052,
          0.4067915046809062,
          0.12000357637589167,
          -0.31145674429000497,
          0.496994593824929,
          -0.28021741711873244,
          0.24619949230250915,
          0.41604679114290544,
          -0.1015905721393609,
          -0.1843634912628376,
          0.06159704164544002,
          0.44138833394384336,
          0.059973938363108076,
          0.04652081222635425,
          -0.10196749287086464,
          0.10470188666250062,
          0.6006534161589127,
          0.7506775637707709,
          0.5835619850401902,
          0.28478019992150755,
          -0.36648661318174,
          -0.1903221685965428,
          -0.005708674005146361,
          -0.10585684802205063,
          -0.12671836662788946,
          -0.1988475305088498,
          0.3782128639469237,
          0.07549035300725004,
          0.18313485776756228,
          0.8155829016706871,
          1.1102009563266175,
          -0.3568756115783724,
          0.4047238529565508,
          0.918537119146883,
          0.9728554455323954,
          0.5560639138111109,
          0.765225898098094,
          0.04022404594353627,
          0.35508548416671015,
          0.22162661818381768,
          0.8284947314030138,
          -0.6537694487278716,
          -0.7383699243435852,
          -0.42551296308643355,
          -0.32512834768898924,
          -0.6807920469417668,
          -0.5458966020931459,
          -0.4685939823007847,
          -0.06288028325875307,
          -0.8312861038801539,
          0.045713707932120505,
          0.24051550785415066,
          0.0009869988782313435,
          0.8479540938652118,
          -0.295818599313753,
          0.24241513541459378,
          -0.14631157145142862,
          0.12418188909830893,
          0.46810003866105077,
          0.42128334238073467,
          -0.6733519755899642,
          -0.2765333786047671,
          -0.5454340157723812,
          -0.4841277030800287,
          -0.06445174613844017,
          0.8740842671779211,
          -0.3193841475305961,
          0.2066563044923224,
          0.27398222527272015,
          0.4397866282894236,
          -0.20782386304993866,
          -0.2656628069820084,
          0.28919558193670014,
          -0.6545853993429349,
          -0.7103354798988762,
          0.3576148822363461,
          0.36183146193320953,
          -0.6692418085540119,
          -0.20552626434165477,
          -0.5864409628256706,
          -0.8377849417368702,
          0.0935487716687992,
          -0.44900336834152127,
          -0.5901441113090965,
          -0.3917681463328883,
          -0.7674141328637799,
          -0.790765429939808,
          -0.8054599803417316,
          -0.016931352592281845,
          -0.5094929728558609,
          -0.6637113450865609,
          0.4886784692452135,
          1.1508499654648823,
          1.2183994258112232,
          -0.11215989769980683,
          0.023045464500308907,
          0.3967862844815681,
          -0.4159882474359355,
          -0.8105737967963041,
          -0.40881540860361004,
          -0.33478534934271587,
          -0.25903853410658934,
          -0.5578357298097841,
          0.1675564582240629,
          0.10479074786371335,
          -0.7038937850573096,
          -0.6664356234858254,
          -0.7291521011755766,
          -0.8782459950638907,
          -0.6307671049443168,
          -0.810023494543922,
          -0.8434386949904867,
          -0.5271644224958127,
          -0.043817908560705866,
          -0.6967171431930672,
          -0.7286831182420442,
          -0.2891920808217153,
          -0.7227639140117216,
          -0.6673439667575884,
          -0.6187829202613706,
          -0.9053475762065974,
          -0.5820089421166709,
          -0.39687302140975966,
          0.3460011652400142,
          -0.3769561957580825,
          -0.6806714700365031,
          -0.2511242329470653,
          -0.8174237112388035,
          0.20987101615847012,
          1.009957317130405,
          1.0322876884571575,
          0.31568090709172775,
          0.28970097830594943,
          1.1529544549991322,
          0.13115219815923157,
          -0.14008448310831018,
          -0.27458446774217077,
          0.9810726152811008,
          1.1131847799044698,
          1.0469350506714832,
          0.9777811142701341,
          -0.7656895311483325,
          -0.7390406014244911,
          -0.5453813327248558,
          -0.6452777304513234,
          -0.5972468033648282,
          -0.7252665042150467,
          -0.18547157900937017,
          0.06888428902178695,
          -0.68618385886783,
          -0.37218942002373007,
          0.4804271284122918,
          0.9516738981098124,
          -0.5462149460677708,
          -0.6332873184204082,
          -0.4614251128926636,
          -0.8623589229915303,
          -0.7264368586825095,
          -0.7802563375255952,
          -0.029181224468502555,
          -0.23476004348722218,
          -0.7158566990527655,
          -0.8675102170516804,
          -0.3451099096885358,
          -0.228025450820487,
          0.7335081177022897,
          0.10556960418357397,
          0.4263760868686934,
          1.1067314536342658,
          1.0773970308375467,
          0.8412009169066555,
          -0.7321100938004265,
          -0.3526133465237766,
          -0.30215238181881504,
          0.018321377007454998,
          -0.014265755706041225
         ],
         "yaxis": "y"
        }
       ],
       "layout": {
        "coloraxis": {
         "colorbar": {
          "title": {
           "text": "cluster"
          }
         },
         "colorscale": [
          [
           0,
           "#0d0887"
          ],
          [
           0.1111111111111111,
           "#46039f"
          ],
          [
           0.2222222222222222,
           "#7201a8"
          ],
          [
           0.3333333333333333,
           "#9c179e"
          ],
          [
           0.4444444444444444,
           "#bd3786"
          ],
          [
           0.5555555555555556,
           "#d8576b"
          ],
          [
           0.6666666666666666,
           "#ed7953"
          ],
          [
           0.7777777777777778,
           "#fb9f3a"
          ],
          [
           0.8888888888888888,
           "#fdca26"
          ],
          [
           1,
           "#f0f921"
          ]
         ]
        },
        "legend": {
         "tracegroupgap": 0
        },
        "margin": {
         "t": 60
        },
        "template": {
         "data": {
          "bar": [
           {
            "error_x": {
             "color": "#2a3f5f"
            },
            "error_y": {
             "color": "#2a3f5f"
            },
            "marker": {
             "line": {
              "color": "#E5ECF6",
              "width": 0.5
             },
             "pattern": {
              "fillmode": "overlay",
              "size": 10,
              "solidity": 0.2
             }
            },
            "type": "bar"
           }
          ],
          "barpolar": [
           {
            "marker": {
             "line": {
              "color": "#E5ECF6",
              "width": 0.5
             },
             "pattern": {
              "fillmode": "overlay",
              "size": 10,
              "solidity": 0.2
             }
            },
            "type": "barpolar"
           }
          ],
          "carpet": [
           {
            "aaxis": {
             "endlinecolor": "#2a3f5f",
             "gridcolor": "white",
             "linecolor": "white",
             "minorgridcolor": "white",
             "startlinecolor": "#2a3f5f"
            },
            "baxis": {
             "endlinecolor": "#2a3f5f",
             "gridcolor": "white",
             "linecolor": "white",
             "minorgridcolor": "white",
             "startlinecolor": "#2a3f5f"
            },
            "type": "carpet"
           }
          ],
          "choropleth": [
           {
            "colorbar": {
             "outlinewidth": 0,
             "ticks": ""
            },
            "type": "choropleth"
           }
          ],
          "contour": [
           {
            "colorbar": {
             "outlinewidth": 0,
             "ticks": ""
            },
            "colorscale": [
             [
              0,
              "#0d0887"
             ],
             [
              0.1111111111111111,
              "#46039f"
             ],
             [
              0.2222222222222222,
              "#7201a8"
             ],
             [
              0.3333333333333333,
              "#9c179e"
             ],
             [
              0.4444444444444444,
              "#bd3786"
             ],
             [
              0.5555555555555556,
              "#d8576b"
             ],
             [
              0.6666666666666666,
              "#ed7953"
             ],
             [
              0.7777777777777778,
              "#fb9f3a"
             ],
             [
              0.8888888888888888,
              "#fdca26"
             ],
             [
              1,
              "#f0f921"
             ]
            ],
            "type": "contour"
           }
          ],
          "contourcarpet": [
           {
            "colorbar": {
             "outlinewidth": 0,
             "ticks": ""
            },
            "type": "contourcarpet"
           }
          ],
          "heatmap": [
           {
            "colorbar": {
             "outlinewidth": 0,
             "ticks": ""
            },
            "colorscale": [
             [
              0,
              "#0d0887"
             ],
             [
              0.1111111111111111,
              "#46039f"
             ],
             [
              0.2222222222222222,
              "#7201a8"
             ],
             [
              0.3333333333333333,
              "#9c179e"
             ],
             [
              0.4444444444444444,
              "#bd3786"
             ],
             [
              0.5555555555555556,
              "#d8576b"
             ],
             [
              0.6666666666666666,
              "#ed7953"
             ],
             [
              0.7777777777777778,
              "#fb9f3a"
             ],
             [
              0.8888888888888888,
              "#fdca26"
             ],
             [
              1,
              "#f0f921"
             ]
            ],
            "type": "heatmap"
           }
          ],
          "heatmapgl": [
           {
            "colorbar": {
             "outlinewidth": 0,
             "ticks": ""
            },
            "colorscale": [
             [
              0,
              "#0d0887"
             ],
             [
              0.1111111111111111,
              "#46039f"
             ],
             [
              0.2222222222222222,
              "#7201a8"
             ],
             [
              0.3333333333333333,
              "#9c179e"
             ],
             [
              0.4444444444444444,
              "#bd3786"
             ],
             [
              0.5555555555555556,
              "#d8576b"
             ],
             [
              0.6666666666666666,
              "#ed7953"
             ],
             [
              0.7777777777777778,
              "#fb9f3a"
             ],
             [
              0.8888888888888888,
              "#fdca26"
             ],
             [
              1,
              "#f0f921"
             ]
            ],
            "type": "heatmapgl"
           }
          ],
          "histogram": [
           {
            "marker": {
             "pattern": {
              "fillmode": "overlay",
              "size": 10,
              "solidity": 0.2
             }
            },
            "type": "histogram"
           }
          ],
          "histogram2d": [
           {
            "colorbar": {
             "outlinewidth": 0,
             "ticks": ""
            },
            "colorscale": [
             [
              0,
              "#0d0887"
             ],
             [
              0.1111111111111111,
              "#46039f"
             ],
             [
              0.2222222222222222,
              "#7201a8"
             ],
             [
              0.3333333333333333,
              "#9c179e"
             ],
             [
              0.4444444444444444,
              "#bd3786"
             ],
             [
              0.5555555555555556,
              "#d8576b"
             ],
             [
              0.6666666666666666,
              "#ed7953"
             ],
             [
              0.7777777777777778,
              "#fb9f3a"
             ],
             [
              0.8888888888888888,
              "#fdca26"
             ],
             [
              1,
              "#f0f921"
             ]
            ],
            "type": "histogram2d"
           }
          ],
          "histogram2dcontour": [
           {
            "colorbar": {
             "outlinewidth": 0,
             "ticks": ""
            },
            "colorscale": [
             [
              0,
              "#0d0887"
             ],
             [
              0.1111111111111111,
              "#46039f"
             ],
             [
              0.2222222222222222,
              "#7201a8"
             ],
             [
              0.3333333333333333,
              "#9c179e"
             ],
             [
              0.4444444444444444,
              "#bd3786"
             ],
             [
              0.5555555555555556,
              "#d8576b"
             ],
             [
              0.6666666666666666,
              "#ed7953"
             ],
             [
              0.7777777777777778,
              "#fb9f3a"
             ],
             [
              0.8888888888888888,
              "#fdca26"
             ],
             [
              1,
              "#f0f921"
             ]
            ],
            "type": "histogram2dcontour"
           }
          ],
          "mesh3d": [
           {
            "colorbar": {
             "outlinewidth": 0,
             "ticks": ""
            },
            "type": "mesh3d"
           }
          ],
          "parcoords": [
           {
            "line": {
             "colorbar": {
              "outlinewidth": 0,
              "ticks": ""
             }
            },
            "type": "parcoords"
           }
          ],
          "pie": [
           {
            "automargin": true,
            "type": "pie"
           }
          ],
          "scatter": [
           {
            "fillpattern": {
             "fillmode": "overlay",
             "size": 10,
             "solidity": 0.2
            },
            "type": "scatter"
           }
          ],
          "scatter3d": [
           {
            "line": {
             "colorbar": {
              "outlinewidth": 0,
              "ticks": ""
             }
            },
            "marker": {
             "colorbar": {
              "outlinewidth": 0,
              "ticks": ""
             }
            },
            "type": "scatter3d"
           }
          ],
          "scattercarpet": [
           {
            "marker": {
             "colorbar": {
              "outlinewidth": 0,
              "ticks": ""
             }
            },
            "type": "scattercarpet"
           }
          ],
          "scattergeo": [
           {
            "marker": {
             "colorbar": {
              "outlinewidth": 0,
              "ticks": ""
             }
            },
            "type": "scattergeo"
           }
          ],
          "scattergl": [
           {
            "marker": {
             "colorbar": {
              "outlinewidth": 0,
              "ticks": ""
             }
            },
            "type": "scattergl"
           }
          ],
          "scattermapbox": [
           {
            "marker": {
             "colorbar": {
              "outlinewidth": 0,
              "ticks": ""
             }
            },
            "type": "scattermapbox"
           }
          ],
          "scatterpolar": [
           {
            "marker": {
             "colorbar": {
              "outlinewidth": 0,
              "ticks": ""
             }
            },
            "type": "scatterpolar"
           }
          ],
          "scatterpolargl": [
           {
            "marker": {
             "colorbar": {
              "outlinewidth": 0,
              "ticks": ""
             }
            },
            "type": "scatterpolargl"
           }
          ],
          "scatterternary": [
           {
            "marker": {
             "colorbar": {
              "outlinewidth": 0,
              "ticks": ""
             }
            },
            "type": "scatterternary"
           }
          ],
          "surface": [
           {
            "colorbar": {
             "outlinewidth": 0,
             "ticks": ""
            },
            "colorscale": [
             [
              0,
              "#0d0887"
             ],
             [
              0.1111111111111111,
              "#46039f"
             ],
             [
              0.2222222222222222,
              "#7201a8"
             ],
             [
              0.3333333333333333,
              "#9c179e"
             ],
             [
              0.4444444444444444,
              "#bd3786"
             ],
             [
              0.5555555555555556,
              "#d8576b"
             ],
             [
              0.6666666666666666,
              "#ed7953"
             ],
             [
              0.7777777777777778,
              "#fb9f3a"
             ],
             [
              0.8888888888888888,
              "#fdca26"
             ],
             [
              1,
              "#f0f921"
             ]
            ],
            "type": "surface"
           }
          ],
          "table": [
           {
            "cells": {
             "fill": {
              "color": "#EBF0F8"
             },
             "line": {
              "color": "white"
             }
            },
            "header": {
             "fill": {
              "color": "#C8D4E3"
             },
             "line": {
              "color": "white"
             }
            },
            "type": "table"
           }
          ]
         },
         "layout": {
          "annotationdefaults": {
           "arrowcolor": "#2a3f5f",
           "arrowhead": 0,
           "arrowwidth": 1
          },
          "autotypenumbers": "strict",
          "coloraxis": {
           "colorbar": {
            "outlinewidth": 0,
            "ticks": ""
           }
          },
          "colorscale": {
           "diverging": [
            [
             0,
             "#8e0152"
            ],
            [
             0.1,
             "#c51b7d"
            ],
            [
             0.2,
             "#de77ae"
            ],
            [
             0.3,
             "#f1b6da"
            ],
            [
             0.4,
             "#fde0ef"
            ],
            [
             0.5,
             "#f7f7f7"
            ],
            [
             0.6,
             "#e6f5d0"
            ],
            [
             0.7,
             "#b8e186"
            ],
            [
             0.8,
             "#7fbc41"
            ],
            [
             0.9,
             "#4d9221"
            ],
            [
             1,
             "#276419"
            ]
           ],
           "sequential": [
            [
             0,
             "#0d0887"
            ],
            [
             0.1111111111111111,
             "#46039f"
            ],
            [
             0.2222222222222222,
             "#7201a8"
            ],
            [
             0.3333333333333333,
             "#9c179e"
            ],
            [
             0.4444444444444444,
             "#bd3786"
            ],
            [
             0.5555555555555556,
             "#d8576b"
            ],
            [
             0.6666666666666666,
             "#ed7953"
            ],
            [
             0.7777777777777778,
             "#fb9f3a"
            ],
            [
             0.8888888888888888,
             "#fdca26"
            ],
            [
             1,
             "#f0f921"
            ]
           ],
           "sequentialminus": [
            [
             0,
             "#0d0887"
            ],
            [
             0.1111111111111111,
             "#46039f"
            ],
            [
             0.2222222222222222,
             "#7201a8"
            ],
            [
             0.3333333333333333,
             "#9c179e"
            ],
            [
             0.4444444444444444,
             "#bd3786"
            ],
            [
             0.5555555555555556,
             "#d8576b"
            ],
            [
             0.6666666666666666,
             "#ed7953"
            ],
            [
             0.7777777777777778,
             "#fb9f3a"
            ],
            [
             0.8888888888888888,
             "#fdca26"
            ],
            [
             1,
             "#f0f921"
            ]
           ]
          },
          "colorway": [
           "#636efa",
           "#EF553B",
           "#00cc96",
           "#ab63fa",
           "#FFA15A",
           "#19d3f3",
           "#FF6692",
           "#B6E880",
           "#FF97FF",
           "#FECB52"
          ],
          "font": {
           "color": "#2a3f5f"
          },
          "geo": {
           "bgcolor": "white",
           "lakecolor": "white",
           "landcolor": "#E5ECF6",
           "showlakes": true,
           "showland": true,
           "subunitcolor": "white"
          },
          "hoverlabel": {
           "align": "left"
          },
          "hovermode": "closest",
          "mapbox": {
           "style": "light"
          },
          "paper_bgcolor": "white",
          "plot_bgcolor": "#E5ECF6",
          "polar": {
           "angularaxis": {
            "gridcolor": "white",
            "linecolor": "white",
            "ticks": ""
           },
           "bgcolor": "#E5ECF6",
           "radialaxis": {
            "gridcolor": "white",
            "linecolor": "white",
            "ticks": ""
           }
          },
          "scene": {
           "xaxis": {
            "backgroundcolor": "#E5ECF6",
            "gridcolor": "white",
            "gridwidth": 2,
            "linecolor": "white",
            "showbackground": true,
            "ticks": "",
            "zerolinecolor": "white"
           },
           "yaxis": {
            "backgroundcolor": "#E5ECF6",
            "gridcolor": "white",
            "gridwidth": 2,
            "linecolor": "white",
            "showbackground": true,
            "ticks": "",
            "zerolinecolor": "white"
           },
           "zaxis": {
            "backgroundcolor": "#E5ECF6",
            "gridcolor": "white",
            "gridwidth": 2,
            "linecolor": "white",
            "showbackground": true,
            "ticks": "",
            "zerolinecolor": "white"
           }
          },
          "shapedefaults": {
           "line": {
            "color": "#2a3f5f"
           }
          },
          "ternary": {
           "aaxis": {
            "gridcolor": "white",
            "linecolor": "white",
            "ticks": ""
           },
           "baxis": {
            "gridcolor": "white",
            "linecolor": "white",
            "ticks": ""
           },
           "bgcolor": "#E5ECF6",
           "caxis": {
            "gridcolor": "white",
            "linecolor": "white",
            "ticks": ""
           }
          },
          "title": {
           "x": 0.05
          },
          "xaxis": {
           "automargin": true,
           "gridcolor": "white",
           "linecolor": "white",
           "ticks": "",
           "title": {
            "standoff": 15
           },
           "zerolinecolor": "white",
           "zerolinewidth": 2
          },
          "yaxis": {
           "automargin": true,
           "gridcolor": "white",
           "linecolor": "white",
           "ticks": "",
           "title": {
            "standoff": 15
           },
           "zerolinecolor": "white",
           "zerolinewidth": 2
          }
         }
        },
        "xaxis": {
         "anchor": "y",
         "domain": [
          0,
          1
         ],
         "title": {
          "text": "PC1"
         }
        },
        "yaxis": {
         "anchor": "x",
         "domain": [
          0,
          1
         ],
         "title": {
          "text": "PC2"
         }
        }
       }
      }
     },
     "metadata": {},
     "output_type": "display_data"
    }
   ],
   "source": [
    "for eps in eps_options:\n",
    "    for min in min_options:\n",
    "        print('eps:' + str(eps))\n",
    "        print('min:' + str(min))\n",
    "        DBSCANplot(features_pca, eps, min, map_plot=False)"
   ]
  },
  {
   "cell_type": "code",
   "execution_count": 34,
   "metadata": {},
   "outputs": [
    {
     "name": "stdout",
     "output_type": "stream",
     "text": [
      "6\n",
      "         borough  neighborhood  longitude  latitude  population  PC1  PC2  \\\n",
      "cluster                                                                     \n",
      "-1            66            66         66        66          66   66   66   \n",
      " 0           157           157        157       157         157  157  157   \n",
      " 1            24            24         24        24          24   24   24   \n",
      " 2            19            19         19        19          19   19   19   \n",
      " 3            17            17         17        17          17   17   17   \n",
      " 4            23            23         23        23          23   23   23   \n",
      "\n",
      "         PC3  PC4  PC5  \n",
      "cluster                 \n",
      "-1        66   66   66  \n",
      " 0       157  157  157  \n",
      " 1        24   24   24  \n",
      " 2        19   19   19  \n",
      " 3        17   17   17  \n",
      " 4        23   23   23  \n"
     ]
    },
    {
     "data": {
      "application/vnd.plotly.v1+json": {
       "config": {
        "plotlyServerURL": "https://plot.ly"
       },
       "data": [
        {
         "hovertemplate": "<b>%{hovertext}</b><br><br>latitude=%{lat}<br>longitude=%{lon}<br>cluster=%{marker.color}<extra></extra>",
         "hovertext": [
          "Wakefield",
          "Co-op City",
          "Eastchester",
          "Fieldston",
          "Riverdale",
          "Kingsbridge",
          "Marble Hill",
          "Woodlawn",
          "Norwood",
          "Williamsbridge",
          "Baychester",
          "Pelham Parkway",
          "City Island",
          "Bedford Park",
          "University Heights",
          "Morris Heights",
          "Fordham",
          "East Tremont",
          "West Farms",
          "High  Bridge",
          "Melrose",
          "Mott Haven",
          "Port Morris",
          "Longwood",
          "Hunts Point",
          "Morrisania",
          "Soundview",
          "Clason Point",
          "Throgs Neck",
          "Country Club",
          "Parkchester",
          "Westchester Square",
          "Van Nest",
          "Morris Park",
          "Belmont",
          "Spuyten Duyvil",
          "North Riverdale",
          "Pelham Bay",
          "Schuylerville",
          "Edgewater Park",
          "Castle Hill",
          "Olinville",
          "Pelham Gardens",
          "Concourse",
          "Unionport",
          "Edenwald",
          "Bay Ridge",
          "Bensonhurst",
          "Sunset Park",
          "Greenpoint",
          "Gravesend",
          "Brighton Beach",
          "Sheepshead Bay",
          "Manhattan Terrace",
          "Flatbush",
          "Crown Heights",
          "East Flatbush",
          "Kensington",
          "Windsor Terrace",
          "Prospect Heights",
          "Brownsville",
          "Williamsburg",
          "Bushwick",
          "Bedford Stuyvesant",
          "Brooklyn Heights",
          "Cobble Hill",
          "Carroll Gardens",
          "Red Hook",
          "Gowanus",
          "Fort Greene",
          "Park Slope",
          "Cypress Hills",
          "East New York",
          "Starrett City",
          "Canarsie",
          "Flatlands",
          "Mill Island",
          "Manhattan Beach",
          "Coney Island",
          "Bath Beach",
          "Borough Park",
          "Dyker Heights",
          "Gerritsen Beach",
          "Marine Park",
          "Clinton Hill",
          "Sea Gate",
          "Downtown",
          "Boerum Hill",
          "Prospect Lefferts Gardens",
          "Ocean Hill",
          "City Line",
          "Bergen Beach",
          "Midwood",
          "Prospect Park South",
          "Georgetown",
          "East Williamsburg",
          "North Side",
          "South Side",
          "Ocean Parkway",
          "Fort Hamilton",
          "Chinatown",
          "Washington Heights",
          "Inwood",
          "Hamilton Heights",
          "Manhattanville",
          "Central Harlem",
          "East Harlem",
          "Upper East Side",
          "Yorkville",
          "Lenox Hill",
          "Roosevelt Island",
          "Upper West Side",
          "Lincoln Square",
          "Clinton",
          "Midtown",
          "Murray Hill",
          "Murray Hill",
          "Chelsea",
          "Chelsea",
          "Greenwich Village",
          "East Village",
          "Lower East Side",
          "Tribeca",
          "Little Italy",
          "Soho",
          "West Village",
          "Manhattan Valley",
          "Morningside Heights",
          "Gramercy",
          "Battery Park City",
          "Financial District",
          "Astoria",
          "Woodside",
          "Jackson Heights",
          "Elmhurst",
          "Howard Beach",
          "Corona",
          "Forest Hills",
          "Kew Gardens",
          "Richmond Hill",
          "Flushing",
          "Long Island City",
          "Sunnyside",
          "Sunnyside",
          "East Elmhurst",
          "Maspeth",
          "Ridgewood",
          "Glendale",
          "Rego Park",
          "Woodhaven",
          "Ozone Park",
          "South Ozone Park",
          "College Point",
          "Whitestone",
          "Bayside",
          "Auburndale",
          "Little Neck",
          "Douglaston",
          "Glen Oaks",
          "Bellerose",
          "Kew Gardens Hills",
          "Fresh Meadows",
          "Briarwood",
          "Jamaica Center",
          "Oakland Gardens",
          "Queens Village",
          "Hollis",
          "South Jamaica",
          "St. Albans",
          "Rochdale",
          "Springfield Gardens",
          "Cambria Heights",
          "Rosedale",
          "Far Rockaway",
          "Broad Channel",
          "Breezy Point",
          "Steinway",
          "Beechhurst",
          "Bay Terrace",
          "Bay Terrace",
          "Edgemere",
          "Arverne",
          "Rockaway Beach",
          "Neponsit",
          "Floral Park",
          "Holliswood",
          "Jamaica Estates",
          "Queensboro Hill",
          "Hillcrest",
          "Ravenswood",
          "Lindenwood",
          "Laurelton",
          "Lefrak City",
          "Belle Harbor",
          "Rockaway Park",
          "Somerville",
          "Brookville",
          "Bellaire",
          "North Corona",
          "Forest Hills Gardens",
          "St. George",
          "New Brighton",
          "Stapleton",
          "Rosebank",
          "West Brighton",
          "Grymes Hill",
          "Todt Hill",
          "South Beach",
          "Port Richmond",
          "Mariner's Harbor",
          "Port Ivory",
          "Castleton Corners",
          "New Springville",
          "Travis",
          "New Dorp",
          "Oakwood",
          "Great Kills",
          "Eltingville",
          "Annadale",
          "Woodrow",
          "Tottenville",
          "Tompkinsville",
          "Silver Lake",
          "Ditmas Park",
          "Wingate",
          "Rugby",
          "Park Hill",
          "Westerleigh",
          "Graniteville",
          "Arlington",
          "Arrochar",
          "Grasmere",
          "Old Town",
          "Dongan Hills",
          "Midland Beach",
          "Grant City",
          "New Dorp Beach",
          "Huguenot",
          "Pleasant Plains",
          "Butler Manor",
          "Charleston",
          "Rossville",
          "Arden Heights",
          "Greenridge",
          "Heartland Village",
          "Bloomfield",
          "Bulls Head",
          "Carnegie Hill",
          "Noho",
          "Civic Center",
          "Midtown South",
          "Richmond Town",
          "Shore Acres",
          "Clifton",
          "Concord",
          "Emerson Hill",
          "Randall Manor",
          "Howland Hook",
          "Elm Park",
          "Remsen Village",
          "New Lots",
          "Paerdegat Basin",
          "Mill Basin",
          "Jamaica Hills",
          "Utopia",
          "Pomonok",
          "Astoria Heights",
          "Claremont Village",
          "Concourse Village",
          "Mount Eden",
          "Mount Hope",
          "Sutton Place",
          "Hunters Point",
          "Turtle Bay",
          "Tudor City",
          "Stuyvesant Town",
          "Flatiron",
          "Sunnyside Gardens",
          "Blissville",
          "Fulton Ferry",
          "Vinegar Hill",
          "Weeksville",
          "Broadway Junction",
          "Dumbo",
          "Manor Heights",
          "Willowbrook",
          "Sandy Ground",
          "Egbertville",
          "Roxbury",
          "Homecrest",
          "Middle Village",
          "Prince's Bay",
          "Lighthouse Hill",
          "Richmond Valley",
          "Malba",
          "Highland Park",
          "Madison",
          "Bronxdale",
          "Allerton",
          "Kingsbridge Heights",
          "Erasmus",
          "Hudson Yards",
          "Hammels",
          "Bayswater",
          "Queensbridge",
          "Fox Hills"
         ],
         "lat": [
          40.89470517661,
          40.87429419303012,
          40.887555677350775,
          40.89543742690383,
          40.890834493891305,
          40.88168737120521,
          40.87655077879964,
          40.89827261213805,
          40.87722415599446,
          40.88103887819211,
          40.866858107252696,
          40.85741349808865,
          40.84724670491813,
          40.870185164975325,
          40.85572707719664,
          40.84789792606271,
          40.86099679638654,
          40.84269615786053,
          40.83947505672653,
          40.836623010706056,
          40.819754370594936,
          40.80623874935177,
          40.801663627756206,
          40.81509904545822,
          40.80972987938709,
          40.82359198585534,
          40.821012197914015,
          40.80655112003589,
          40.81510925804005,
          40.844245936947374,
          40.837937822267286,
          40.8406194964327,
          40.84360847124718,
          40.847549063536334,
          40.85727710073895,
          40.88139497727086,
          40.90854282950666,
          40.85064140940335,
          40.82657951686922,
          40.82198611816349,
          40.81901437698832,
          40.87137078192371,
          40.86296562477998,
          40.83428380733851,
          40.82977429787161,
          40.88456130303732,
          40.625801065010656,
          40.61100890202044,
          40.64510294925429,
          40.7302009848647,
          40.59526001306593,
          40.57682506566604,
          40.58689012678384,
          40.61443251335098,
          40.63632589026677,
          40.67082917695294,
          40.64171776668961,
          40.642381958003526,
          40.65694583575104,
          40.67682226225472,
          40.66394994339755,
          40.70714439344251,
          40.69811611017901,
          40.687231607720456,
          40.69586372272408,
          40.68791972248557,
          40.680540231076485,
          40.676253230250886,
          40.673931143187154,
          40.68852726018977,
          40.67232052268197,
          40.68239101144211,
          40.669925700847045,
          40.64758905230874,
          40.63556432797428,
          40.630446043757466,
          40.606336421685626,
          40.57791350308657,
          40.57429256471601,
          40.59951870282238,
          40.633130512758015,
          40.61921945772264,
          40.590848433902046,
          40.609747779894604,
          40.693229421881504,
          40.57637537890224,
          40.69084402109802,
          40.68568291209144,
          40.658420017469815,
          40.67840255479536,
          40.67856995727479,
          40.61514955045308,
          40.62559589869843,
          40.64700860318519,
          40.62384524478419,
          40.70849241041548,
          40.714822906532014,
          40.71086147265064,
          40.61305976667942,
          40.61476812694226,
          40.71561842231432,
          40.85190252555305,
          40.86768396449915,
          40.823604284811935,
          40.8169344294978,
          40.81597606742414,
          40.79224946663033,
          40.775638573301805,
          40.77592984988488,
          40.76811265828733,
          40.76215960576283,
          40.78765799853485,
          40.77352888942166,
          40.75910089146212,
          40.75469110270623,
          40.748303077252174,
          40.76412612261407,
          40.744034706747975,
          40.59472602746295,
          40.72693288536128,
          40.72784677727024,
          40.71780674892765,
          40.721521967443216,
          40.71932379395907,
          40.72218384131794,
          40.73443393572434,
          40.79730704170287,
          40.80799973816583,
          40.737209832715,
          40.71193198394565,
          40.70710710727048,
          40.76850859335492,
          40.74634908860222,
          40.75198138007367,
          40.74404850512202,
          40.65422527738487,
          40.74238175015667,
          40.72526378216503,
          40.7051790354148,
          40.69794731471763,
          40.76445419697846,
          40.75021734610528,
          40.74017628351924,
          40.61276015756489,
          40.76407323883091,
          40.725427374093606,
          40.70832315613858,
          40.70276242967838,
          40.72897409480735,
          40.68988687915789,
          40.680708468265415,
          40.66854957767195,
          40.784902749260205,
          40.78129076602694,
          40.76604063281064,
          40.76172954903262,
          40.7708261928267,
          40.76684609790763,
          40.74944079974332,
          40.72857318176675,
          40.722578244228046,
          40.7343944653313,
          40.71093547252271,
          40.70465736068717,
          40.74561857141855,
          40.71889309216736,
          40.71124344191904,
          40.696911253789885,
          40.69444538522359,
          40.67521139591733,
          40.66623049036858,
          40.692774639160845,
          40.65981643342808,
          40.603134432500894,
          40.60302658351238,
          40.55740128845452,
          40.775923015642896,
          40.79278140360048,
          40.782842806245554,
          40.55398800858462,
          40.595641807368494,
          40.58914394372971,
          40.58280169684559,
          40.572036730217015,
          40.74137842194544,
          40.7209572076444,
          40.71680483014613,
          40.7445723092867,
          40.7238249018292,
          40.76170452605415,
          40.66391841925139,
          40.66788389660247,
          40.7360745708308,
          40.57615556543109,
          40.58034295646131,
          40.59771061565768,
          40.66000322733613,
          40.73301404027834,
          40.7540709990489,
          40.7146110815117,
          40.6449815710044,
          40.64061455913511,
          40.62692762538176,
          40.61530494652761,
          40.63187892654607,
          40.624184791313006,
          40.59706851814673,
          40.58024741350956,
          40.63366930554365,
          40.63254639048112,
          40.63968297845542,
          40.61333593766742,
          40.594252379161695,
          40.58631375103281,
          40.57257231820632,
          40.5584622432888,
          40.549480228713605,
          40.542230747450745,
          40.53811417474507,
          40.54196762288876,
          40.50533376115642,
          40.637316067110326,
          40.61919310792676,
          40.643675183340974,
          40.66094656188111,
          40.65557231328077,
          40.60919044434558,
          40.62109047275409,
          40.620171512231884,
          40.63532509911492,
          40.596312571276734,
          40.59826835959991,
          40.59632891379513,
          40.58867294819928,
          40.57352690574283,
          40.57621558711788,
          40.56425549307335,
          40.531911920489605,
          40.524699376118136,
          40.50608165346305,
          40.53053148283314,
          40.54940400650072,
          40.54928582278321,
          40.5552952361732,
          40.58913894875281,
          40.60577868452358,
          40.6095918004203,
          40.7826825671257,
          40.72325901885768,
          40.71522892046282,
          40.7485096643122,
          40.56960594275505,
          40.60971934079284,
          40.61917845202843,
          40.6044731896879,
          40.606794394801,
          40.63563000681151,
          40.63843283794795,
          40.63014674119383,
          40.65211745179349,
          40.6627442796966,
          40.63131755039667,
          40.61597423962336,
          40.71145964370482,
          40.73350025429757,
          40.73493618075478,
          40.7703173929982,
          40.83142834161548,
          40.824780490842905,
          40.84382617671654,
          40.84884160724665,
          40.76028033131374,
          40.743414090073536,
          40.75204236950722,
          40.7469174107402,
          40.73099955477061,
          40.739673047638426,
          40.74565180608076,
          40.73725071694497,
          40.70328109093014,
          40.70332149882874,
          40.67503986503237,
          40.67786104769531,
          40.70317632822692,
          40.60180957631444,
          40.60370692627371,
          40.541139922091766,
          40.579118742961214,
          40.56737588957032,
          40.598525095137255,
          40.716414511158185,
          40.52626406734812,
          40.57650629379489,
          40.51954145748909,
          40.79060155670148,
          40.6819989345173,
          40.60937770113766,
          40.85272297633017,
          40.86578787802982,
          40.8703923914147,
          40.64692606658579,
          40.75665808227519,
          40.58733774018741,
          40.61132169128384,
          40.75609129709471,
          40.61731079252983
         ],
         "legendgroup": "",
         "lon": [
          -73.84720052054902,
          -73.82993910812398,
          -73.82780644716412,
          -73.90564259591682,
          -73.9125854610857,
          -73.90281798724604,
          -73.91065965862981,
          -73.86731496814176,
          -73.8793907395681,
          -73.85744642974207,
          -73.83579759808117,
          -73.85475564017999,
          -73.78648845267413,
          -73.8855121841913,
          -73.9104159619131,
          -73.91967159119565,
          -73.89642655981623,
          -73.88735617532338,
          -73.87774474910545,
          -73.9261020935813,
          -73.90942160757436,
          -73.91609987487575,
          -73.91322139386135,
          -73.8957882009446,
          -73.88331505955291,
          -73.90150648943059,
          -73.86574609554924,
          -73.85414416189266,
          -73.81635002158441,
          -73.8240992675385,
          -73.85600310535783,
          -73.84219407604444,
          -73.8662991807561,
          -73.85040178030421,
          -73.88845196134804,
          -73.91719048210393,
          -73.90453054908927,
          -73.8320737824047,
          -73.82620275994073,
          -73.81388514428619,
          -73.84802729582735,
          -73.86332361652777,
          -73.84161194831223,
          -73.91558941773444,
          -73.85053524451935,
          -73.84808271877168,
          -74.03062069353813,
          -73.99517998380729,
          -74.01031618527784,
          -73.95424093127393,
          -73.97347087708445,
          -73.96509448785336,
          -73.94318640482979,
          -73.95743840559939,
          -73.95840106533903,
          -73.94329119073582,
          -73.93610256185836,
          -73.98042110559474,
          -73.98007340430172,
          -73.9648592426269,
          -73.91023536176607,
          -73.95811529220927,
          -73.92525797487045,
          -73.94178488690297,
          -73.99378225496424,
          -73.99856139218463,
          -73.99465372828006,
          -74.0127589747356,
          -73.99444087145339,
          -73.97290574369092,
          -73.97705030183924,
          -73.87661596457296,
          -73.88069863917366,
          -73.87936970045875,
          -73.90209269778966,
          -73.92911302644674,
          -73.90818571777423,
          -73.94353722891886,
          -73.98868295821637,
          -73.99875221443519,
          -73.99049823044811,
          -74.01931375636022,
          -73.93010170691196,
          -73.93134404108497,
          -73.96784306216367,
          -74.0078731120024,
          -73.98346337431099,
          -73.98374824115798,
          -73.95489867077713,
          -73.91306831787395,
          -73.86797598081334,
          -73.89855633630317,
          -73.95759523489838,
          -73.96261316716048,
          -73.91607483951324,
          -73.93885815269195,
          -73.95880857587582,
          -73.95800095153331,
          -73.96836678035541,
          -74.03197914537984,
          -73.99427936255978,
          -73.93690027985234,
          -73.92121042203897,
          -73.94968791883366,
          -73.9573853935188,
          -73.94321112603905,
          -73.94418223148524,
          -73.96050763135,
          -73.94711784471826,
          -73.9588596881376,
          -73.94916769227953,
          -73.97705923630603,
          -73.98533777001262,
          -73.99611936309479,
          -73.98166882730304,
          -73.97833207924127,
          -73.81276269135866,
          -74.00311633472813,
          -74.1895604551969,
          -73.99991402945902,
          -73.98222616506416,
          -73.98089031999291,
          -74.01068328559087,
          -73.99730467208073,
          -74.00065666959759,
          -74.00617998126812,
          -73.96428617740655,
          -73.96389627905332,
          -73.98137594833541,
          -74.01686930508617,
          -74.0106654452127,
          -73.91565374304234,
          -73.90184166838284,
          -73.88282109164365,
          -73.88165622288388,
          -73.8381376460028,
          -73.85682497345258,
          -73.84447500788983,
          -73.82981905825703,
          -73.83183321446887,
          -73.83177300329582,
          -73.93920223915505,
          -73.92691617561577,
          -74.0971255217853,
          -73.86704147658772,
          -73.89621713626859,
          -73.90143517559589,
          -73.87074167435605,
          -73.8578268690537,
          -73.8581104655432,
          -73.84320266173447,
          -73.80986478649041,
          -73.84304528896125,
          -73.81420216610863,
          -73.7742736306867,
          -73.79176243728061,
          -73.7388977558074,
          -73.7424982072733,
          -73.71548118999145,
          -73.72012814826903,
          -73.82087764933566,
          -73.78271337003264,
          -73.81174822458634,
          -73.79690165888289,
          -73.75494976234332,
          -73.73871484578424,
          -73.75925009335594,
          -73.7904261313554,
          -73.75867603727717,
          -73.77258787620906,
          -73.76042092682287,
          -73.73526873708026,
          -73.73526079428278,
          -73.75497968043872,
          -73.8200548911032,
          -73.92551196994168,
          -73.90228960391673,
          -73.80436451720988,
          -73.7768022262158,
          -74.13916622175768,
          -73.77613282391705,
          -73.79199233136943,
          -73.82236121088751,
          -73.85754672410827,
          -73.70884705889246,
          -73.76714166714729,
          -73.7872269693666,
          -73.82580915110559,
          -73.79760300912672,
          -73.93157506072878,
          -73.84963782402441,
          -73.74025607989822,
          -73.8625247141374,
          -73.8540175039252,
          -73.84153370226186,
          -73.79664750844047,
          -73.75175310731153,
          -73.73889198912481,
          -73.85751790676447,
          -73.8410221123401,
          -74.07935312512797,
          -74.08701650516625,
          -74.07790192660066,
          -74.06980526716141,
          -74.1071817826561,
          -74.08724819983729,
          -74.1113288180088,
          -74.0795529253982,
          -74.12943426797008,
          -74.15008537046981,
          -74.17464532993542,
          -74.11918058534842,
          -74.16496031329827,
          -74.19073717538116,
          -74.1164794360638,
          -74.12156593771896,
          -74.14932381490992,
          -74.1643308041936,
          -74.17854866165878,
          -74.20524582480326,
          -74.24656934235283,
          -74.08055351790115,
          -74.09629029235458,
          -73.96101312466779,
          -73.93718680559314,
          -73.92688212616955,
          -74.08015734936296,
          -74.13304143951704,
          -74.15315246387762,
          -74.16510420241124,
          -74.06712363225574,
          -74.0766743627905,
          -74.08751118005578,
          -74.09639905312521,
          -74.09348266303591,
          -74.10585598545434,
          -74.10432707469124,
          -74.19174105747814,
          -74.21983106616777,
          -74.22950350260027,
          -74.23215775896526,
          -74.21572851113952,
          -74.18588674583893,
          -74.17079414786092,
          -74.15902208156601,
          -74.18725638381567,
          -74.15940948657122,
          -73.95325646837112,
          -73.98843368023597,
          -74.00541529873355,
          -73.98871313285247,
          -74.1340572986257,
          -74.06667766061771,
          -74.072642445484,
          -74.08402364740358,
          -74.09776206972522,
          -74.09805062373887,
          -74.18622331749823,
          -74.1418167896889,
          -73.91665331978048,
          -73.88511776379292,
          -73.90233474295836,
          -73.91515391550404,
          -73.79646462081593,
          -73.79671678028349,
          -73.80486120040537,
          -73.89467996270574,
          -73.90119903387667,
          -73.91584652759009,
          -73.91655551964419,
          -73.90829930881988,
          -73.96355614094303,
          -73.95386782130745,
          -73.96770824581834,
          -73.97121928722265,
          -73.97405170469203,
          -73.9909471052826,
          -73.91819286431682,
          -73.93244235260178,
          -73.99550751888415,
          -73.98111603592393,
          -73.93053108817338,
          -73.90331684852599,
          -73.9887528074504,
          -74.12059399718001,
          -74.13208447484298,
          -74.21776636068567,
          -74.12727240604946,
          -73.89213760232822,
          -73.95918459428702,
          -73.88114319200604,
          -74.20152556457658,
          -74.13792663771568,
          -74.22957080626941,
          -73.82667757138641,
          -73.890345709872,
          -73.94841515328893,
          -73.86172577555115,
          -73.85931863221647,
          -73.90152264513144,
          -73.94817709920184,
          -74.00011136202637,
          -73.80553002968718,
          -73.76596781445627,
          -73.94563070334091,
          -74.08173992211962
         ],
         "marker": {
          "color": [
           -1,
           0,
           0,
           0,
           0,
           -1,
           -1,
           0,
           1,
           -1,
           0,
           -1,
           0,
           1,
           1,
           1,
           -1,
           1,
           1,
           1,
           1,
           2,
           0,
           1,
           0,
           1,
           -1,
           0,
           0,
           0,
           1,
           1,
           1,
           -1,
           -1,
           0,
           0,
           0,
           0,
           0,
           0,
           -1,
           0,
           1,
           1,
           -1,
           2,
           -1,
           -1,
           -1,
           0,
           0,
           0,
           -1,
           2,
           -1,
           0,
           0,
           -1,
           3,
           -1,
           3,
           -1,
           -1,
           3,
           3,
           3,
           0,
           -1,
           3,
           3,
           -1,
           1,
           0,
           0,
           0,
           0,
           0,
           0,
           -1,
           0,
           0,
           0,
           -1,
           2,
           0,
           3,
           4,
           2,
           -1,
           -1,
           0,
           0,
           2,
           0,
           -1,
           -1,
           3,
           0,
           2,
           -1,
           -1,
           -1,
           -1,
           -1,
           -1,
           -1,
           4,
           3,
           4,
           2,
           3,
           3,
           4,
           4,
           4,
           4,
           4,
           4,
           4,
           4,
           -1,
           4,
           -1,
           3,
           2,
           4,
           4,
           4,
           3,
           2,
           -1,
           -1,
           0,
           1,
           2,
           0,
           0,
           -1,
           2,
           0,
           -1,
           0,
           2,
           0,
           0,
           -1,
           1,
           0,
           0,
           0,
           0,
           0,
           -1,
           -1,
           0,
           -1,
           0,
           0,
           -1,
           -1,
           0,
           0,
           0,
           -1,
           0,
           0,
           0,
           0,
           0,
           0,
           0,
           0,
           2,
           0,
           0,
           0,
           0,
           0,
           0,
           -1,
           0,
           0,
           -1,
           -1,
           0,
           2,
           0,
           0,
           -1,
           0,
           0,
           0,
           0,
           0,
           1,
           2,
           0,
           0,
           0,
           0,
           0,
           0,
           0,
           0,
           0,
           0,
           0,
           0,
           0,
           0,
           -1,
           0,
           0,
           0,
           0,
           0,
           0,
           0,
           0,
           0,
           2,
           -1,
           -1,
           0,
           0,
           0,
           0,
           0,
           0,
           0,
           0,
           0,
           0,
           0,
           0,
           0,
           0,
           0,
           0,
           0,
           0,
           0,
           0,
           0,
           0,
           0,
           3,
           4,
           4,
           4,
           0,
           0,
           0,
           0,
           0,
           0,
           0,
           0,
           -1,
           -1,
           0,
           0,
           -1,
           0,
           0,
           0,
           1,
           1,
           1,
           1,
           4,
           -1,
           4,
           4,
           3,
           4,
           2,
           0,
           3,
           -1,
           -1,
           -1,
           -1,
           0,
           0,
           0,
           0,
           0,
           0,
           0,
           0,
           0,
           0,
           0,
           -1,
           0,
           0,
           -1,
           1,
           -1,
           4,
           0,
           0,
           2,
           0
          ],
          "coloraxis": "coloraxis"
         },
         "mode": "markers",
         "name": "",
         "showlegend": false,
         "subplot": "mapbox",
         "type": "scattermapbox"
        }
       ],
       "layout": {
        "coloraxis": {
         "colorbar": {
          "title": {
           "text": "cluster"
          }
         },
         "colorscale": [
          [
           0,
           "#0d0887"
          ],
          [
           0.1111111111111111,
           "#46039f"
          ],
          [
           0.2222222222222222,
           "#7201a8"
          ],
          [
           0.3333333333333333,
           "#9c179e"
          ],
          [
           0.4444444444444444,
           "#bd3786"
          ],
          [
           0.5555555555555556,
           "#d8576b"
          ],
          [
           0.6666666666666666,
           "#ed7953"
          ],
          [
           0.7777777777777778,
           "#fb9f3a"
          ],
          [
           0.8888888888888888,
           "#fdca26"
          ],
          [
           1,
           "#f0f921"
          ]
         ]
        },
        "geo": {
         "fitbounds": "locations"
        },
        "height": 500,
        "legend": {
         "tracegroupgap": 0
        },
        "mapbox": {
         "accesstoken": "pk.eyJ1IjoidmVsdm94IiwiYSI6ImNsNThham8xajIxMnMzam1ycGg2eTZ0eGYifQ.RaCirjLZex17tLwWOx9FGQ",
         "center": {
          "lat": 40.70136210272567,
          "lon": -73.94625419828468
         },
         "domain": {
          "x": [
           0,
           1
          ],
          "y": [
           0,
           1
          ]
         },
         "style": "dark",
         "zoom": 8
        },
        "margin": {
         "b": 0,
         "l": 0,
         "r": 0,
         "t": 0
        },
        "template": {
         "data": {
          "bar": [
           {
            "error_x": {
             "color": "#2a3f5f"
            },
            "error_y": {
             "color": "#2a3f5f"
            },
            "marker": {
             "line": {
              "color": "#E5ECF6",
              "width": 0.5
             },
             "pattern": {
              "fillmode": "overlay",
              "size": 10,
              "solidity": 0.2
             }
            },
            "type": "bar"
           }
          ],
          "barpolar": [
           {
            "marker": {
             "line": {
              "color": "#E5ECF6",
              "width": 0.5
             },
             "pattern": {
              "fillmode": "overlay",
              "size": 10,
              "solidity": 0.2
             }
            },
            "type": "barpolar"
           }
          ],
          "carpet": [
           {
            "aaxis": {
             "endlinecolor": "#2a3f5f",
             "gridcolor": "white",
             "linecolor": "white",
             "minorgridcolor": "white",
             "startlinecolor": "#2a3f5f"
            },
            "baxis": {
             "endlinecolor": "#2a3f5f",
             "gridcolor": "white",
             "linecolor": "white",
             "minorgridcolor": "white",
             "startlinecolor": "#2a3f5f"
            },
            "type": "carpet"
           }
          ],
          "choropleth": [
           {
            "colorbar": {
             "outlinewidth": 0,
             "ticks": ""
            },
            "type": "choropleth"
           }
          ],
          "contour": [
           {
            "colorbar": {
             "outlinewidth": 0,
             "ticks": ""
            },
            "colorscale": [
             [
              0,
              "#0d0887"
             ],
             [
              0.1111111111111111,
              "#46039f"
             ],
             [
              0.2222222222222222,
              "#7201a8"
             ],
             [
              0.3333333333333333,
              "#9c179e"
             ],
             [
              0.4444444444444444,
              "#bd3786"
             ],
             [
              0.5555555555555556,
              "#d8576b"
             ],
             [
              0.6666666666666666,
              "#ed7953"
             ],
             [
              0.7777777777777778,
              "#fb9f3a"
             ],
             [
              0.8888888888888888,
              "#fdca26"
             ],
             [
              1,
              "#f0f921"
             ]
            ],
            "type": "contour"
           }
          ],
          "contourcarpet": [
           {
            "colorbar": {
             "outlinewidth": 0,
             "ticks": ""
            },
            "type": "contourcarpet"
           }
          ],
          "heatmap": [
           {
            "colorbar": {
             "outlinewidth": 0,
             "ticks": ""
            },
            "colorscale": [
             [
              0,
              "#0d0887"
             ],
             [
              0.1111111111111111,
              "#46039f"
             ],
             [
              0.2222222222222222,
              "#7201a8"
             ],
             [
              0.3333333333333333,
              "#9c179e"
             ],
             [
              0.4444444444444444,
              "#bd3786"
             ],
             [
              0.5555555555555556,
              "#d8576b"
             ],
             [
              0.6666666666666666,
              "#ed7953"
             ],
             [
              0.7777777777777778,
              "#fb9f3a"
             ],
             [
              0.8888888888888888,
              "#fdca26"
             ],
             [
              1,
              "#f0f921"
             ]
            ],
            "type": "heatmap"
           }
          ],
          "heatmapgl": [
           {
            "colorbar": {
             "outlinewidth": 0,
             "ticks": ""
            },
            "colorscale": [
             [
              0,
              "#0d0887"
             ],
             [
              0.1111111111111111,
              "#46039f"
             ],
             [
              0.2222222222222222,
              "#7201a8"
             ],
             [
              0.3333333333333333,
              "#9c179e"
             ],
             [
              0.4444444444444444,
              "#bd3786"
             ],
             [
              0.5555555555555556,
              "#d8576b"
             ],
             [
              0.6666666666666666,
              "#ed7953"
             ],
             [
              0.7777777777777778,
              "#fb9f3a"
             ],
             [
              0.8888888888888888,
              "#fdca26"
             ],
             [
              1,
              "#f0f921"
             ]
            ],
            "type": "heatmapgl"
           }
          ],
          "histogram": [
           {
            "marker": {
             "pattern": {
              "fillmode": "overlay",
              "size": 10,
              "solidity": 0.2
             }
            },
            "type": "histogram"
           }
          ],
          "histogram2d": [
           {
            "colorbar": {
             "outlinewidth": 0,
             "ticks": ""
            },
            "colorscale": [
             [
              0,
              "#0d0887"
             ],
             [
              0.1111111111111111,
              "#46039f"
             ],
             [
              0.2222222222222222,
              "#7201a8"
             ],
             [
              0.3333333333333333,
              "#9c179e"
             ],
             [
              0.4444444444444444,
              "#bd3786"
             ],
             [
              0.5555555555555556,
              "#d8576b"
             ],
             [
              0.6666666666666666,
              "#ed7953"
             ],
             [
              0.7777777777777778,
              "#fb9f3a"
             ],
             [
              0.8888888888888888,
              "#fdca26"
             ],
             [
              1,
              "#f0f921"
             ]
            ],
            "type": "histogram2d"
           }
          ],
          "histogram2dcontour": [
           {
            "colorbar": {
             "outlinewidth": 0,
             "ticks": ""
            },
            "colorscale": [
             [
              0,
              "#0d0887"
             ],
             [
              0.1111111111111111,
              "#46039f"
             ],
             [
              0.2222222222222222,
              "#7201a8"
             ],
             [
              0.3333333333333333,
              "#9c179e"
             ],
             [
              0.4444444444444444,
              "#bd3786"
             ],
             [
              0.5555555555555556,
              "#d8576b"
             ],
             [
              0.6666666666666666,
              "#ed7953"
             ],
             [
              0.7777777777777778,
              "#fb9f3a"
             ],
             [
              0.8888888888888888,
              "#fdca26"
             ],
             [
              1,
              "#f0f921"
             ]
            ],
            "type": "histogram2dcontour"
           }
          ],
          "mesh3d": [
           {
            "colorbar": {
             "outlinewidth": 0,
             "ticks": ""
            },
            "type": "mesh3d"
           }
          ],
          "parcoords": [
           {
            "line": {
             "colorbar": {
              "outlinewidth": 0,
              "ticks": ""
             }
            },
            "type": "parcoords"
           }
          ],
          "pie": [
           {
            "automargin": true,
            "type": "pie"
           }
          ],
          "scatter": [
           {
            "fillpattern": {
             "fillmode": "overlay",
             "size": 10,
             "solidity": 0.2
            },
            "type": "scatter"
           }
          ],
          "scatter3d": [
           {
            "line": {
             "colorbar": {
              "outlinewidth": 0,
              "ticks": ""
             }
            },
            "marker": {
             "colorbar": {
              "outlinewidth": 0,
              "ticks": ""
             }
            },
            "type": "scatter3d"
           }
          ],
          "scattercarpet": [
           {
            "marker": {
             "colorbar": {
              "outlinewidth": 0,
              "ticks": ""
             }
            },
            "type": "scattercarpet"
           }
          ],
          "scattergeo": [
           {
            "marker": {
             "colorbar": {
              "outlinewidth": 0,
              "ticks": ""
             }
            },
            "type": "scattergeo"
           }
          ],
          "scattergl": [
           {
            "marker": {
             "colorbar": {
              "outlinewidth": 0,
              "ticks": ""
             }
            },
            "type": "scattergl"
           }
          ],
          "scattermapbox": [
           {
            "marker": {
             "colorbar": {
              "outlinewidth": 0,
              "ticks": ""
             }
            },
            "type": "scattermapbox"
           }
          ],
          "scatterpolar": [
           {
            "marker": {
             "colorbar": {
              "outlinewidth": 0,
              "ticks": ""
             }
            },
            "type": "scatterpolar"
           }
          ],
          "scatterpolargl": [
           {
            "marker": {
             "colorbar": {
              "outlinewidth": 0,
              "ticks": ""
             }
            },
            "type": "scatterpolargl"
           }
          ],
          "scatterternary": [
           {
            "marker": {
             "colorbar": {
              "outlinewidth": 0,
              "ticks": ""
             }
            },
            "type": "scatterternary"
           }
          ],
          "surface": [
           {
            "colorbar": {
             "outlinewidth": 0,
             "ticks": ""
            },
            "colorscale": [
             [
              0,
              "#0d0887"
             ],
             [
              0.1111111111111111,
              "#46039f"
             ],
             [
              0.2222222222222222,
              "#7201a8"
             ],
             [
              0.3333333333333333,
              "#9c179e"
             ],
             [
              0.4444444444444444,
              "#bd3786"
             ],
             [
              0.5555555555555556,
              "#d8576b"
             ],
             [
              0.6666666666666666,
              "#ed7953"
             ],
             [
              0.7777777777777778,
              "#fb9f3a"
             ],
             [
              0.8888888888888888,
              "#fdca26"
             ],
             [
              1,
              "#f0f921"
             ]
            ],
            "type": "surface"
           }
          ],
          "table": [
           {
            "cells": {
             "fill": {
              "color": "#EBF0F8"
             },
             "line": {
              "color": "white"
             }
            },
            "header": {
             "fill": {
              "color": "#C8D4E3"
             },
             "line": {
              "color": "white"
             }
            },
            "type": "table"
           }
          ]
         },
         "layout": {
          "annotationdefaults": {
           "arrowcolor": "#2a3f5f",
           "arrowhead": 0,
           "arrowwidth": 1
          },
          "autotypenumbers": "strict",
          "coloraxis": {
           "colorbar": {
            "outlinewidth": 0,
            "ticks": ""
           }
          },
          "colorscale": {
           "diverging": [
            [
             0,
             "#8e0152"
            ],
            [
             0.1,
             "#c51b7d"
            ],
            [
             0.2,
             "#de77ae"
            ],
            [
             0.3,
             "#f1b6da"
            ],
            [
             0.4,
             "#fde0ef"
            ],
            [
             0.5,
             "#f7f7f7"
            ],
            [
             0.6,
             "#e6f5d0"
            ],
            [
             0.7,
             "#b8e186"
            ],
            [
             0.8,
             "#7fbc41"
            ],
            [
             0.9,
             "#4d9221"
            ],
            [
             1,
             "#276419"
            ]
           ],
           "sequential": [
            [
             0,
             "#0d0887"
            ],
            [
             0.1111111111111111,
             "#46039f"
            ],
            [
             0.2222222222222222,
             "#7201a8"
            ],
            [
             0.3333333333333333,
             "#9c179e"
            ],
            [
             0.4444444444444444,
             "#bd3786"
            ],
            [
             0.5555555555555556,
             "#d8576b"
            ],
            [
             0.6666666666666666,
             "#ed7953"
            ],
            [
             0.7777777777777778,
             "#fb9f3a"
            ],
            [
             0.8888888888888888,
             "#fdca26"
            ],
            [
             1,
             "#f0f921"
            ]
           ],
           "sequentialminus": [
            [
             0,
             "#0d0887"
            ],
            [
             0.1111111111111111,
             "#46039f"
            ],
            [
             0.2222222222222222,
             "#7201a8"
            ],
            [
             0.3333333333333333,
             "#9c179e"
            ],
            [
             0.4444444444444444,
             "#bd3786"
            ],
            [
             0.5555555555555556,
             "#d8576b"
            ],
            [
             0.6666666666666666,
             "#ed7953"
            ],
            [
             0.7777777777777778,
             "#fb9f3a"
            ],
            [
             0.8888888888888888,
             "#fdca26"
            ],
            [
             1,
             "#f0f921"
            ]
           ]
          },
          "colorway": [
           "#636efa",
           "#EF553B",
           "#00cc96",
           "#ab63fa",
           "#FFA15A",
           "#19d3f3",
           "#FF6692",
           "#B6E880",
           "#FF97FF",
           "#FECB52"
          ],
          "font": {
           "color": "#2a3f5f"
          },
          "geo": {
           "bgcolor": "white",
           "lakecolor": "white",
           "landcolor": "#E5ECF6",
           "showlakes": true,
           "showland": true,
           "subunitcolor": "white"
          },
          "hoverlabel": {
           "align": "left"
          },
          "hovermode": "closest",
          "mapbox": {
           "style": "light"
          },
          "paper_bgcolor": "white",
          "plot_bgcolor": "#E5ECF6",
          "polar": {
           "angularaxis": {
            "gridcolor": "white",
            "linecolor": "white",
            "ticks": ""
           },
           "bgcolor": "#E5ECF6",
           "radialaxis": {
            "gridcolor": "white",
            "linecolor": "white",
            "ticks": ""
           }
          },
          "scene": {
           "xaxis": {
            "backgroundcolor": "#E5ECF6",
            "gridcolor": "white",
            "gridwidth": 2,
            "linecolor": "white",
            "showbackground": true,
            "ticks": "",
            "zerolinecolor": "white"
           },
           "yaxis": {
            "backgroundcolor": "#E5ECF6",
            "gridcolor": "white",
            "gridwidth": 2,
            "linecolor": "white",
            "showbackground": true,
            "ticks": "",
            "zerolinecolor": "white"
           },
           "zaxis": {
            "backgroundcolor": "#E5ECF6",
            "gridcolor": "white",
            "gridwidth": 2,
            "linecolor": "white",
            "showbackground": true,
            "ticks": "",
            "zerolinecolor": "white"
           }
          },
          "shapedefaults": {
           "line": {
            "color": "#2a3f5f"
           }
          },
          "ternary": {
           "aaxis": {
            "gridcolor": "white",
            "linecolor": "white",
            "ticks": ""
           },
           "baxis": {
            "gridcolor": "white",
            "linecolor": "white",
            "ticks": ""
           },
           "bgcolor": "#E5ECF6",
           "caxis": {
            "gridcolor": "white",
            "linecolor": "white",
            "ticks": ""
           }
          },
          "title": {
           "x": 0.05
          },
          "xaxis": {
           "automargin": true,
           "gridcolor": "white",
           "linecolor": "white",
           "ticks": "",
           "title": {
            "standoff": 15
           },
           "zerolinecolor": "white",
           "zerolinewidth": 2
          },
          "yaxis": {
           "automargin": true,
           "gridcolor": "white",
           "linecolor": "white",
           "ticks": "",
           "title": {
            "standoff": 15
           },
           "zerolinecolor": "white",
           "zerolinewidth": 2
          }
         }
        }
       }
      }
     },
     "metadata": {},
     "output_type": "display_data"
    },
    {
     "data": {
      "application/vnd.plotly.v1+json": {
       "config": {
        "plotlyServerURL": "https://plot.ly"
       },
       "data": [
        {
         "hovertemplate": "PC1=%{x}<br>PC2=%{y}<br>cluster=%{marker.color}<extra></extra>",
         "legendgroup": "",
         "marker": {
          "color": [
           -1,
           0,
           0,
           0,
           0,
           -1,
           -1,
           0,
           1,
           -1,
           0,
           -1,
           0,
           1,
           1,
           1,
           -1,
           1,
           1,
           1,
           1,
           2,
           0,
           1,
           0,
           1,
           -1,
           0,
           0,
           0,
           1,
           1,
           1,
           -1,
           -1,
           0,
           0,
           0,
           0,
           0,
           0,
           -1,
           0,
           1,
           1,
           -1,
           2,
           -1,
           -1,
           -1,
           0,
           0,
           0,
           -1,
           2,
           -1,
           0,
           0,
           -1,
           3,
           -1,
           3,
           -1,
           -1,
           3,
           3,
           3,
           0,
           -1,
           3,
           3,
           -1,
           1,
           0,
           0,
           0,
           0,
           0,
           0,
           -1,
           0,
           0,
           0,
           -1,
           2,
           0,
           3,
           4,
           2,
           -1,
           -1,
           0,
           0,
           2,
           0,
           -1,
           -1,
           3,
           0,
           2,
           -1,
           -1,
           -1,
           -1,
           -1,
           -1,
           -1,
           4,
           3,
           4,
           2,
           3,
           3,
           4,
           4,
           4,
           4,
           4,
           4,
           4,
           4,
           -1,
           4,
           -1,
           3,
           2,
           4,
           4,
           4,
           3,
           2,
           -1,
           -1,
           0,
           1,
           2,
           0,
           0,
           -1,
           2,
           0,
           -1,
           0,
           2,
           0,
           0,
           -1,
           1,
           0,
           0,
           0,
           0,
           0,
           -1,
           -1,
           0,
           -1,
           0,
           0,
           -1,
           -1,
           0,
           0,
           0,
           -1,
           0,
           0,
           0,
           0,
           0,
           0,
           0,
           0,
           2,
           0,
           0,
           0,
           0,
           0,
           0,
           -1,
           0,
           0,
           -1,
           -1,
           0,
           2,
           0,
           0,
           -1,
           0,
           0,
           0,
           0,
           0,
           1,
           2,
           0,
           0,
           0,
           0,
           0,
           0,
           0,
           0,
           0,
           0,
           0,
           0,
           0,
           0,
           -1,
           0,
           0,
           0,
           0,
           0,
           0,
           0,
           0,
           0,
           2,
           -1,
           -1,
           0,
           0,
           0,
           0,
           0,
           0,
           0,
           0,
           0,
           0,
           0,
           0,
           0,
           0,
           0,
           0,
           0,
           0,
           0,
           0,
           0,
           0,
           0,
           3,
           4,
           4,
           4,
           0,
           0,
           0,
           0,
           0,
           0,
           0,
           0,
           -1,
           -1,
           0,
           0,
           -1,
           0,
           0,
           0,
           1,
           1,
           1,
           1,
           4,
           -1,
           4,
           4,
           3,
           4,
           2,
           0,
           3,
           -1,
           -1,
           -1,
           -1,
           0,
           0,
           0,
           0,
           0,
           0,
           0,
           0,
           0,
           0,
           0,
           -1,
           0,
           0,
           -1,
           1,
           -1,
           4,
           0,
           0,
           2,
           0
          ],
          "coloraxis": "coloraxis",
          "symbol": "circle"
         },
         "mode": "markers",
         "name": "",
         "orientation": "v",
         "showlegend": false,
         "type": "scatter",
         "x": [
          -0.2999392354396995,
          -0.5181567708027076,
          -0.5389529254485282,
          -0.538111552554458,
          -0.516147602315639,
          0.46436840244932165,
          0.45352076282083575,
          -0.36327500134531987,
          0.04290603085482082,
          -0.13461435110212733,
          -0.4021395629348593,
          -0.13263860935977162,
          -0.9483488226574535,
          0.4074897950783606,
          0.5755622369262103,
          0.4674770541294375,
          1.0962259089896498,
          0.06685585748113411,
          0.2778291084640352,
          0.7242728941962615,
          0.2918559862072228,
          0.3980223461832242,
          -0.3848464860122922,
          -0.014177861706992366,
          -0.9552179762738815,
          0.4053671312191602,
          -0.2559588648471157,
          -1.165877009943115,
          -1.123375288912157,
          -0.6682835524122395,
          0.44047777141560857,
          0.04834022053030687,
          0.18681620011700503,
          -0.12929955851795105,
          0.7926923362590205,
          -0.1882807513299356,
          -0.7190695415655564,
          -0.5011519532650851,
          -0.5933321056281312,
          -0.8164408217059835,
          -0.6518866033230457,
          -0.15836603627267384,
          -0.6887001045380412,
          0.6232455811904835,
          0.2706131565114359,
          -0.2071280008458385,
          0.5677760170889561,
          0.4245282417662995,
          0.732062723687729,
          0.6647666160441524,
          -0.378894367925141,
          0.11331680105654329,
          0.142877082087975,
          0.2632720089673174,
          0.4831505169580193,
          1.0005011370457608,
          -0.009630308343033559,
          0.2695181763843945,
          0.23981404950292573,
          1.2438990294991203,
          0.12527502179245878,
          1.4755149046700555,
          1.138193032280503,
          1.0793748522987965,
          1.2195699562132947,
          1.3847052739269194,
          1.2912653987621434,
          -0.682811717914585,
          0.663631218340794,
          1.358342087824533,
          1.1856016916134868,
          -0.252778598793644,
          -0.006656674233660172,
          -0.841890486218964,
          -0.6430458770964462,
          -0.4365305003620773,
          -1.1224678795253045,
          -0.1388711206074483,
          -0.48034423639408136,
          0.11468942196092147,
          0.20418279961275473,
          0.33166584407063376,
          -0.8933655040828606,
          -0.2901670903642142,
          1.098767249838175,
          -1.2918134088644488,
          1.5246429037063425,
          1.9910611771883795,
          0.8401309794319323,
          0.33847176321781003,
          0.1957535097812927,
          -1.3755622666980964,
          0.22616411597253527,
          0.5151905018672949,
          -0.49922104036443843,
          1.1818386941391135,
          1.3017672782590088,
          1.5691723592542213,
          0.0721695713439749,
          0.07695090884878672,
          2.022009337706604,
          0.8372956790584203,
          0.6792680364483404,
          1.0436176101307042,
          1.129176764730745,
          1.2963415173711779,
          1.0937694175631123,
          1.7095781838571862,
          1.664751256357031,
          1.7319753122188069,
          0.53075277508637,
          1.3780563005591284,
          1.522390516442774,
          2.171819140053922,
          2.579792781075722,
          2.4050923519676446,
          2.121897541368075,
          2.01551488518807,
          1.7836424743897554,
          1.7050711658750761,
          2.0232344874056816,
          2.205680687495938,
          2.1715116241664383,
          1.5835690324135638,
          1.0656490790447863,
          0.8449220416723394,
          1.9274303799611379,
          1.8424003400772775,
          2.0090349724392573,
          1.3125009630585187,
          0.8255673291381561,
          1.2400133851911501,
          1.3418010110571237,
          -0.9548712423275117,
          0.28051516243332686,
          0.45589960495084303,
          -0.04180753981802375,
          -0.043454082322605635,
          1.1382596128222702,
          0.5358606324571142,
          0.035464794515611416,
          -0.22994680784223304,
          -0.5647312521852714,
          0.622162642316137,
          -0.8921332540665712,
          0.4934773707581297,
          0.33583190890043985,
          0.0014838290646109343,
          -0.4765564490982787,
          -0.8448059378525163,
          -0.7033879883662709,
          -0.05711951422719375,
          0.01890778608226496,
          -0.5438246284401622,
          -0.6419414770535792,
          -0.9033013766285666,
          -0.6373854809111569,
          -0.4565410805689251,
          -0.5730667974493526,
          0.13838462583574498,
          0.7028844179449769,
          -0.8310735558464718,
          -0.6803916826523227,
          -0.6639812987716027,
          0.18182383438444333,
          -0.5975522904980415,
          -0.6803529798702498,
          -0.9000858945038492,
          -0.8695655035076317,
          -0.901315538504906,
          -0.3101310245623727,
          -1.4024391299408305,
          -1.3836611538878454,
          0.24300737165451552,
          -0.865735067860948,
          -1.1343893595241143,
          -1.1831269951009487,
          -1.0774637307442498,
          -0.2302240588318395,
          -1.3643437993340608,
          0.1946894575213927,
          -0.6657633126769088,
          -0.9526624848903337,
          -0.24938306614677389,
          -0.546233901638181,
          -0.6581461694961046,
          0.9847529679272189,
          -0.8477465986250363,
          -0.6081684833910217,
          0.2827774014347927,
          -1.3024974168783492,
          -0.7678514830652007,
          -1.1206671649331457,
          -1.208669516100077,
          -1.1747656914848847,
          0.11738470018073716,
          0.6631359976059288,
          -0.3757918696780955,
          -0.09904119415014753,
          -0.22170254223361455,
          -0.7964968798506339,
          -0.7813598390769764,
          -0.5760780444236835,
          -1.2465716026538567,
          -1.2733919839582715,
          -0.06641260338746098,
          -0.6429277864815851,
          -1.3476147622158514,
          -1.0383378118215698,
          -1.1439425381498158,
          -1.3163852637328892,
          -0.2401620319660303,
          -1.0985370437572568,
          -0.6859331897246643,
          -0.8000054116940196,
          -1.1716224595484603,
          -1.2459616007084795,
          -1.183120955691874,
          0.1184476894250234,
          -1.074834626712761,
          -1.018303994835368,
          0.7119487479506225,
          0.21019144684223565,
          -0.03723478249683049,
          -0.8312148080119293,
          -0.07597849202451003,
          -0.5426923616511136,
          -1.1850811809292456,
          -1.1247929828229555,
          -0.8924012361639907,
          -1.0092181481457057,
          -0.7337429475685675,
          -0.9920979643224627,
          -0.10755176092971798,
          -0.6812465975137608,
          -1.0817165507307511,
          -1.250744390363617,
          -1.0642077531973524,
          -1.2920494223590977,
          -0.8565008406139715,
          -1.4536207982734528,
          -1.2808351412577583,
          -1.198167203468849,
          -0.5367965483003608,
          -1.2594254790104038,
          -1.374932311355924,
          -1.0126922615888843,
          1.3306919365514172,
          2.225865804501945,
          2.2884025223718285,
          2.537278143681823,
          -1.36163317499136,
          -1.0563102969299942,
          -0.3827028476264218,
          -0.945506188922139,
          -1.0782766619270727,
          -0.763914925466357,
          -1.3521695798749969,
          -0.17448321466246525,
          -0.17660537528721643,
          -0.256216419868812,
          -0.8367738007957795,
          -0.5556874893432492,
          0.6198053593563561,
          -0.5849703883238309,
          -0.8888690669875318,
          -0.9414771107697821,
          0.25786474491043077,
          0.8270229322509042,
          0.6026698284905444,
          0.4525977843573021,
          1.8269526485588876,
          0.3153932075476958,
          1.9017507345834945,
          1.6197218593294567,
          1.247418735226473,
          2.1371897859491797,
          0.4383904065626343,
          -0.3173487678689919,
          1.1498494092292053,
          0.6263732421524841,
          0.7834573998248294,
          0.213117310884682,
          0.7612025505621709,
          -1.2310972979983905,
          -1.0287800024670455,
          -1.3438732399976079,
          -1.2490796256034082,
          -1.5032304456623122,
          0.255952742235144,
          -0.9181242828565992,
          -1.2484616396951735,
          -1.387126864861877,
          -0.5588738837253546,
          -0.8447093185072994,
          -0.6525092224023513,
          0.003755333333790615,
          -0.06437641491923062,
          -0.4586950287429286,
          0.5655525050079675,
          0.14886431458832958,
          1.9165147047372728,
          -0.5520607731433764,
          -0.8665174120226569,
          0.24557006740058984,
          -0.6641900420123495
         ],
         "xaxis": "x",
         "y": [
          0.806299978323345,
          0.5349393015194553,
          0.44599647582055696,
          -0.1793164740659275,
          -0.01769137499653219,
          0.41058465151014867,
          0.805030540193982,
          0.12616875832724325,
          0.8936856326076474,
          1.1937107915376588,
          0.7543189999854552,
          0.653749589826394,
          -0.40550348727951807,
          0.8244221157527419,
          1.1307142036472466,
          0.970872373665378,
          0.6870530098903527,
          1.195575934707533,
          1.1014896400520062,
          1.09681677806123,
          0.928080826381978,
          0.592134280152459,
          0.47562555173320953,
          0.8055763977577076,
          -0.21780703784143277,
          1.2914241376495152,
          1.1831144068745167,
          -0.5134561925369533,
          -0.4383503902814716,
          0.08477690193539078,
          1.103084930273736,
          0.7287044565318851,
          0.6734756931322404,
          0.42412801326183636,
          -0.013412536420554465,
          0.09348723252204139,
          -0.03126620346800106,
          0.10622988467370176,
          0.3204061571457269,
          0.04114621084721529,
          0.5441166678972398,
          1.269412365700332,
          0.3890853714637924,
          1.3999182962166496,
          1.1725030213949628,
          0.9124573390427227,
          -0.2635571307489102,
          -0.14931406519656187,
          0.3993865877828994,
          -0.6724918539388018,
          0.1351975030420144,
          0.047011905832725895,
          -0.1034344742114677,
          0.07328075642167255,
          0.32664796588263395,
          0.9212580426971713,
          0.5885945269887833,
          0.10348473039158303,
          -0.6219532435292111,
          -0.12463045518885603,
          1.445186660804491,
          -0.6688011664810389,
          -0.04205386096823332,
          0.4802884413187154,
          -0.49455504022883073,
          -0.596022913019379,
          -0.6381787404578652,
          -0.29860595583620336,
          -0.3356644082449101,
          -0.4823523671241202,
          -0.7220396281382598,
          0.6144407438954747,
          1.0530064676844941,
          0.24200873578627774,
          0.6064978297019271,
          0.7980160729786023,
          -0.4227843487238337,
          -0.40063968867330546,
          0.4778627000862738,
          -0.14439306931082832,
          0.3795655702604848,
          -0.30418728276073764,
          0.11483956569065727,
          0.3615664495193163,
          -0.013911891146466918,
          -0.7044141398075099,
          -0.2800072149436896,
          -0.5814248610672074,
          0.35722150296692495,
          0.6063673720815981,
          0.709087978250995,
          -0.7611222046166933,
          0.3774782018983608,
          0.6079010048661659,
          0.2716194987998772,
          -0.5090884148566687,
          -0.9437509369766337,
          -0.7378243749433759,
          -0.15552435429764988,
          -0.30806304786888233,
          -0.5554189723270366,
          0.3185146583820584,
          0.7247207402148527,
          0.16510974164216402,
          0.1817870913356511,
          0.2919149709822771,
          0.2558480997560535,
          -0.4853326660958113,
          -0.4555442915210945,
          -0.6267123830101081,
          -0.32423207220716815,
          -0.6495348163603091,
          -0.5969335909333425,
          -0.6950982002260162,
          -0.8039023492315185,
          -0.8463540031478058,
          -0.5639906220731845,
          -0.7322479489843708,
          -0.8044673584062482,
          -0.7676345699736715,
          -0.7355576384336225,
          -0.6130992848679153,
          -0.8059487000352696,
          -1.0556049319587602,
          -0.3043116814894053,
          0.1317347249774442,
          -0.6293984293686756,
          -0.5393492189955894,
          -0.7495620564751544,
          -0.35019237233317807,
          0.11443426324989052,
          0.4067915046809062,
          0.12000357637589167,
          -0.31145674429000497,
          0.496994593824929,
          -0.28021741711873244,
          0.24619949230250915,
          0.41604679114290544,
          -0.1015905721393609,
          -0.1843634912628376,
          0.06159704164544002,
          0.44138833394384336,
          0.059973938363108076,
          0.04652081222635425,
          -0.10196749287086464,
          0.10470188666250062,
          0.6006534161589127,
          0.7506775637707709,
          0.5835619850401902,
          0.28478019992150755,
          -0.36648661318174,
          -0.1903221685965428,
          -0.005708674005146361,
          -0.10585684802205063,
          -0.12671836662788946,
          -0.1988475305088498,
          0.3782128639469237,
          0.07549035300725004,
          0.18313485776756228,
          0.8155829016706871,
          1.1102009563266175,
          -0.3568756115783724,
          0.4047238529565508,
          0.918537119146883,
          0.9728554455323954,
          0.5560639138111109,
          0.765225898098094,
          0.04022404594353627,
          0.35508548416671015,
          0.22162661818381768,
          0.8284947314030138,
          -0.6537694487278716,
          -0.7383699243435852,
          -0.42551296308643355,
          -0.32512834768898924,
          -0.6807920469417668,
          -0.5458966020931459,
          -0.4685939823007847,
          -0.06288028325875307,
          -0.8312861038801539,
          0.045713707932120505,
          0.24051550785415066,
          0.0009869988782313435,
          0.8479540938652118,
          -0.295818599313753,
          0.24241513541459378,
          -0.14631157145142862,
          0.12418188909830893,
          0.46810003866105077,
          0.42128334238073467,
          -0.6733519755899642,
          -0.2765333786047671,
          -0.5454340157723812,
          -0.4841277030800287,
          -0.06445174613844017,
          0.8740842671779211,
          -0.3193841475305961,
          0.2066563044923224,
          0.27398222527272015,
          0.4397866282894236,
          -0.20782386304993866,
          -0.2656628069820084,
          0.28919558193670014,
          -0.6545853993429349,
          -0.7103354798988762,
          0.3576148822363461,
          0.36183146193320953,
          -0.6692418085540119,
          -0.20552626434165477,
          -0.5864409628256706,
          -0.8377849417368702,
          0.0935487716687992,
          -0.44900336834152127,
          -0.5901441113090965,
          -0.3917681463328883,
          -0.7674141328637799,
          -0.790765429939808,
          -0.8054599803417316,
          -0.016931352592281845,
          -0.5094929728558609,
          -0.6637113450865609,
          0.4886784692452135,
          1.1508499654648823,
          1.2183994258112232,
          -0.11215989769980683,
          0.023045464500308907,
          0.3967862844815681,
          -0.4159882474359355,
          -0.8105737967963041,
          -0.40881540860361004,
          -0.33478534934271587,
          -0.25903853410658934,
          -0.5578357298097841,
          0.1675564582240629,
          0.10479074786371335,
          -0.7038937850573096,
          -0.6664356234858254,
          -0.7291521011755766,
          -0.8782459950638907,
          -0.6307671049443168,
          -0.810023494543922,
          -0.8434386949904867,
          -0.5271644224958127,
          -0.043817908560705866,
          -0.6967171431930672,
          -0.7286831182420442,
          -0.2891920808217153,
          -0.7227639140117216,
          -0.6673439667575884,
          -0.6187829202613706,
          -0.9053475762065974,
          -0.5820089421166709,
          -0.39687302140975966,
          0.3460011652400142,
          -0.3769561957580825,
          -0.6806714700365031,
          -0.2511242329470653,
          -0.8174237112388035,
          0.20987101615847012,
          1.009957317130405,
          1.0322876884571575,
          0.31568090709172775,
          0.28970097830594943,
          1.1529544549991322,
          0.13115219815923157,
          -0.14008448310831018,
          -0.27458446774217077,
          0.9810726152811008,
          1.1131847799044698,
          1.0469350506714832,
          0.9777811142701341,
          -0.7656895311483325,
          -0.7390406014244911,
          -0.5453813327248558,
          -0.6452777304513234,
          -0.5972468033648282,
          -0.7252665042150467,
          -0.18547157900937017,
          0.06888428902178695,
          -0.68618385886783,
          -0.37218942002373007,
          0.4804271284122918,
          0.9516738981098124,
          -0.5462149460677708,
          -0.6332873184204082,
          -0.4614251128926636,
          -0.8623589229915303,
          -0.7264368586825095,
          -0.7802563375255952,
          -0.029181224468502555,
          -0.23476004348722218,
          -0.7158566990527655,
          -0.8675102170516804,
          -0.3451099096885358,
          -0.228025450820487,
          0.7335081177022897,
          0.10556960418357397,
          0.4263760868686934,
          1.1067314536342658,
          1.0773970308375467,
          0.8412009169066555,
          -0.7321100938004265,
          -0.3526133465237766,
          -0.30215238181881504,
          0.018321377007454998,
          -0.014265755706041225
         ],
         "yaxis": "y"
        }
       ],
       "layout": {
        "coloraxis": {
         "colorbar": {
          "title": {
           "text": "cluster"
          }
         },
         "colorscale": [
          [
           0,
           "#0d0887"
          ],
          [
           0.1111111111111111,
           "#46039f"
          ],
          [
           0.2222222222222222,
           "#7201a8"
          ],
          [
           0.3333333333333333,
           "#9c179e"
          ],
          [
           0.4444444444444444,
           "#bd3786"
          ],
          [
           0.5555555555555556,
           "#d8576b"
          ],
          [
           0.6666666666666666,
           "#ed7953"
          ],
          [
           0.7777777777777778,
           "#fb9f3a"
          ],
          [
           0.8888888888888888,
           "#fdca26"
          ],
          [
           1,
           "#f0f921"
          ]
         ]
        },
        "legend": {
         "tracegroupgap": 0
        },
        "margin": {
         "t": 60
        },
        "template": {
         "data": {
          "bar": [
           {
            "error_x": {
             "color": "#2a3f5f"
            },
            "error_y": {
             "color": "#2a3f5f"
            },
            "marker": {
             "line": {
              "color": "#E5ECF6",
              "width": 0.5
             },
             "pattern": {
              "fillmode": "overlay",
              "size": 10,
              "solidity": 0.2
             }
            },
            "type": "bar"
           }
          ],
          "barpolar": [
           {
            "marker": {
             "line": {
              "color": "#E5ECF6",
              "width": 0.5
             },
             "pattern": {
              "fillmode": "overlay",
              "size": 10,
              "solidity": 0.2
             }
            },
            "type": "barpolar"
           }
          ],
          "carpet": [
           {
            "aaxis": {
             "endlinecolor": "#2a3f5f",
             "gridcolor": "white",
             "linecolor": "white",
             "minorgridcolor": "white",
             "startlinecolor": "#2a3f5f"
            },
            "baxis": {
             "endlinecolor": "#2a3f5f",
             "gridcolor": "white",
             "linecolor": "white",
             "minorgridcolor": "white",
             "startlinecolor": "#2a3f5f"
            },
            "type": "carpet"
           }
          ],
          "choropleth": [
           {
            "colorbar": {
             "outlinewidth": 0,
             "ticks": ""
            },
            "type": "choropleth"
           }
          ],
          "contour": [
           {
            "colorbar": {
             "outlinewidth": 0,
             "ticks": ""
            },
            "colorscale": [
             [
              0,
              "#0d0887"
             ],
             [
              0.1111111111111111,
              "#46039f"
             ],
             [
              0.2222222222222222,
              "#7201a8"
             ],
             [
              0.3333333333333333,
              "#9c179e"
             ],
             [
              0.4444444444444444,
              "#bd3786"
             ],
             [
              0.5555555555555556,
              "#d8576b"
             ],
             [
              0.6666666666666666,
              "#ed7953"
             ],
             [
              0.7777777777777778,
              "#fb9f3a"
             ],
             [
              0.8888888888888888,
              "#fdca26"
             ],
             [
              1,
              "#f0f921"
             ]
            ],
            "type": "contour"
           }
          ],
          "contourcarpet": [
           {
            "colorbar": {
             "outlinewidth": 0,
             "ticks": ""
            },
            "type": "contourcarpet"
           }
          ],
          "heatmap": [
           {
            "colorbar": {
             "outlinewidth": 0,
             "ticks": ""
            },
            "colorscale": [
             [
              0,
              "#0d0887"
             ],
             [
              0.1111111111111111,
              "#46039f"
             ],
             [
              0.2222222222222222,
              "#7201a8"
             ],
             [
              0.3333333333333333,
              "#9c179e"
             ],
             [
              0.4444444444444444,
              "#bd3786"
             ],
             [
              0.5555555555555556,
              "#d8576b"
             ],
             [
              0.6666666666666666,
              "#ed7953"
             ],
             [
              0.7777777777777778,
              "#fb9f3a"
             ],
             [
              0.8888888888888888,
              "#fdca26"
             ],
             [
              1,
              "#f0f921"
             ]
            ],
            "type": "heatmap"
           }
          ],
          "heatmapgl": [
           {
            "colorbar": {
             "outlinewidth": 0,
             "ticks": ""
            },
            "colorscale": [
             [
              0,
              "#0d0887"
             ],
             [
              0.1111111111111111,
              "#46039f"
             ],
             [
              0.2222222222222222,
              "#7201a8"
             ],
             [
              0.3333333333333333,
              "#9c179e"
             ],
             [
              0.4444444444444444,
              "#bd3786"
             ],
             [
              0.5555555555555556,
              "#d8576b"
             ],
             [
              0.6666666666666666,
              "#ed7953"
             ],
             [
              0.7777777777777778,
              "#fb9f3a"
             ],
             [
              0.8888888888888888,
              "#fdca26"
             ],
             [
              1,
              "#f0f921"
             ]
            ],
            "type": "heatmapgl"
           }
          ],
          "histogram": [
           {
            "marker": {
             "pattern": {
              "fillmode": "overlay",
              "size": 10,
              "solidity": 0.2
             }
            },
            "type": "histogram"
           }
          ],
          "histogram2d": [
           {
            "colorbar": {
             "outlinewidth": 0,
             "ticks": ""
            },
            "colorscale": [
             [
              0,
              "#0d0887"
             ],
             [
              0.1111111111111111,
              "#46039f"
             ],
             [
              0.2222222222222222,
              "#7201a8"
             ],
             [
              0.3333333333333333,
              "#9c179e"
             ],
             [
              0.4444444444444444,
              "#bd3786"
             ],
             [
              0.5555555555555556,
              "#d8576b"
             ],
             [
              0.6666666666666666,
              "#ed7953"
             ],
             [
              0.7777777777777778,
              "#fb9f3a"
             ],
             [
              0.8888888888888888,
              "#fdca26"
             ],
             [
              1,
              "#f0f921"
             ]
            ],
            "type": "histogram2d"
           }
          ],
          "histogram2dcontour": [
           {
            "colorbar": {
             "outlinewidth": 0,
             "ticks": ""
            },
            "colorscale": [
             [
              0,
              "#0d0887"
             ],
             [
              0.1111111111111111,
              "#46039f"
             ],
             [
              0.2222222222222222,
              "#7201a8"
             ],
             [
              0.3333333333333333,
              "#9c179e"
             ],
             [
              0.4444444444444444,
              "#bd3786"
             ],
             [
              0.5555555555555556,
              "#d8576b"
             ],
             [
              0.6666666666666666,
              "#ed7953"
             ],
             [
              0.7777777777777778,
              "#fb9f3a"
             ],
             [
              0.8888888888888888,
              "#fdca26"
             ],
             [
              1,
              "#f0f921"
             ]
            ],
            "type": "histogram2dcontour"
           }
          ],
          "mesh3d": [
           {
            "colorbar": {
             "outlinewidth": 0,
             "ticks": ""
            },
            "type": "mesh3d"
           }
          ],
          "parcoords": [
           {
            "line": {
             "colorbar": {
              "outlinewidth": 0,
              "ticks": ""
             }
            },
            "type": "parcoords"
           }
          ],
          "pie": [
           {
            "automargin": true,
            "type": "pie"
           }
          ],
          "scatter": [
           {
            "fillpattern": {
             "fillmode": "overlay",
             "size": 10,
             "solidity": 0.2
            },
            "type": "scatter"
           }
          ],
          "scatter3d": [
           {
            "line": {
             "colorbar": {
              "outlinewidth": 0,
              "ticks": ""
             }
            },
            "marker": {
             "colorbar": {
              "outlinewidth": 0,
              "ticks": ""
             }
            },
            "type": "scatter3d"
           }
          ],
          "scattercarpet": [
           {
            "marker": {
             "colorbar": {
              "outlinewidth": 0,
              "ticks": ""
             }
            },
            "type": "scattercarpet"
           }
          ],
          "scattergeo": [
           {
            "marker": {
             "colorbar": {
              "outlinewidth": 0,
              "ticks": ""
             }
            },
            "type": "scattergeo"
           }
          ],
          "scattergl": [
           {
            "marker": {
             "colorbar": {
              "outlinewidth": 0,
              "ticks": ""
             }
            },
            "type": "scattergl"
           }
          ],
          "scattermapbox": [
           {
            "marker": {
             "colorbar": {
              "outlinewidth": 0,
              "ticks": ""
             }
            },
            "type": "scattermapbox"
           }
          ],
          "scatterpolar": [
           {
            "marker": {
             "colorbar": {
              "outlinewidth": 0,
              "ticks": ""
             }
            },
            "type": "scatterpolar"
           }
          ],
          "scatterpolargl": [
           {
            "marker": {
             "colorbar": {
              "outlinewidth": 0,
              "ticks": ""
             }
            },
            "type": "scatterpolargl"
           }
          ],
          "scatterternary": [
           {
            "marker": {
             "colorbar": {
              "outlinewidth": 0,
              "ticks": ""
             }
            },
            "type": "scatterternary"
           }
          ],
          "surface": [
           {
            "colorbar": {
             "outlinewidth": 0,
             "ticks": ""
            },
            "colorscale": [
             [
              0,
              "#0d0887"
             ],
             [
              0.1111111111111111,
              "#46039f"
             ],
             [
              0.2222222222222222,
              "#7201a8"
             ],
             [
              0.3333333333333333,
              "#9c179e"
             ],
             [
              0.4444444444444444,
              "#bd3786"
             ],
             [
              0.5555555555555556,
              "#d8576b"
             ],
             [
              0.6666666666666666,
              "#ed7953"
             ],
             [
              0.7777777777777778,
              "#fb9f3a"
             ],
             [
              0.8888888888888888,
              "#fdca26"
             ],
             [
              1,
              "#f0f921"
             ]
            ],
            "type": "surface"
           }
          ],
          "table": [
           {
            "cells": {
             "fill": {
              "color": "#EBF0F8"
             },
             "line": {
              "color": "white"
             }
            },
            "header": {
             "fill": {
              "color": "#C8D4E3"
             },
             "line": {
              "color": "white"
             }
            },
            "type": "table"
           }
          ]
         },
         "layout": {
          "annotationdefaults": {
           "arrowcolor": "#2a3f5f",
           "arrowhead": 0,
           "arrowwidth": 1
          },
          "autotypenumbers": "strict",
          "coloraxis": {
           "colorbar": {
            "outlinewidth": 0,
            "ticks": ""
           }
          },
          "colorscale": {
           "diverging": [
            [
             0,
             "#8e0152"
            ],
            [
             0.1,
             "#c51b7d"
            ],
            [
             0.2,
             "#de77ae"
            ],
            [
             0.3,
             "#f1b6da"
            ],
            [
             0.4,
             "#fde0ef"
            ],
            [
             0.5,
             "#f7f7f7"
            ],
            [
             0.6,
             "#e6f5d0"
            ],
            [
             0.7,
             "#b8e186"
            ],
            [
             0.8,
             "#7fbc41"
            ],
            [
             0.9,
             "#4d9221"
            ],
            [
             1,
             "#276419"
            ]
           ],
           "sequential": [
            [
             0,
             "#0d0887"
            ],
            [
             0.1111111111111111,
             "#46039f"
            ],
            [
             0.2222222222222222,
             "#7201a8"
            ],
            [
             0.3333333333333333,
             "#9c179e"
            ],
            [
             0.4444444444444444,
             "#bd3786"
            ],
            [
             0.5555555555555556,
             "#d8576b"
            ],
            [
             0.6666666666666666,
             "#ed7953"
            ],
            [
             0.7777777777777778,
             "#fb9f3a"
            ],
            [
             0.8888888888888888,
             "#fdca26"
            ],
            [
             1,
             "#f0f921"
            ]
           ],
           "sequentialminus": [
            [
             0,
             "#0d0887"
            ],
            [
             0.1111111111111111,
             "#46039f"
            ],
            [
             0.2222222222222222,
             "#7201a8"
            ],
            [
             0.3333333333333333,
             "#9c179e"
            ],
            [
             0.4444444444444444,
             "#bd3786"
            ],
            [
             0.5555555555555556,
             "#d8576b"
            ],
            [
             0.6666666666666666,
             "#ed7953"
            ],
            [
             0.7777777777777778,
             "#fb9f3a"
            ],
            [
             0.8888888888888888,
             "#fdca26"
            ],
            [
             1,
             "#f0f921"
            ]
           ]
          },
          "colorway": [
           "#636efa",
           "#EF553B",
           "#00cc96",
           "#ab63fa",
           "#FFA15A",
           "#19d3f3",
           "#FF6692",
           "#B6E880",
           "#FF97FF",
           "#FECB52"
          ],
          "font": {
           "color": "#2a3f5f"
          },
          "geo": {
           "bgcolor": "white",
           "lakecolor": "white",
           "landcolor": "#E5ECF6",
           "showlakes": true,
           "showland": true,
           "subunitcolor": "white"
          },
          "hoverlabel": {
           "align": "left"
          },
          "hovermode": "closest",
          "mapbox": {
           "style": "light"
          },
          "paper_bgcolor": "white",
          "plot_bgcolor": "#E5ECF6",
          "polar": {
           "angularaxis": {
            "gridcolor": "white",
            "linecolor": "white",
            "ticks": ""
           },
           "bgcolor": "#E5ECF6",
           "radialaxis": {
            "gridcolor": "white",
            "linecolor": "white",
            "ticks": ""
           }
          },
          "scene": {
           "xaxis": {
            "backgroundcolor": "#E5ECF6",
            "gridcolor": "white",
            "gridwidth": 2,
            "linecolor": "white",
            "showbackground": true,
            "ticks": "",
            "zerolinecolor": "white"
           },
           "yaxis": {
            "backgroundcolor": "#E5ECF6",
            "gridcolor": "white",
            "gridwidth": 2,
            "linecolor": "white",
            "showbackground": true,
            "ticks": "",
            "zerolinecolor": "white"
           },
           "zaxis": {
            "backgroundcolor": "#E5ECF6",
            "gridcolor": "white",
            "gridwidth": 2,
            "linecolor": "white",
            "showbackground": true,
            "ticks": "",
            "zerolinecolor": "white"
           }
          },
          "shapedefaults": {
           "line": {
            "color": "#2a3f5f"
           }
          },
          "ternary": {
           "aaxis": {
            "gridcolor": "white",
            "linecolor": "white",
            "ticks": ""
           },
           "baxis": {
            "gridcolor": "white",
            "linecolor": "white",
            "ticks": ""
           },
           "bgcolor": "#E5ECF6",
           "caxis": {
            "gridcolor": "white",
            "linecolor": "white",
            "ticks": ""
           }
          },
          "title": {
           "x": 0.05
          },
          "xaxis": {
           "automargin": true,
           "gridcolor": "white",
           "linecolor": "white",
           "ticks": "",
           "title": {
            "standoff": 15
           },
           "zerolinecolor": "white",
           "zerolinewidth": 2
          },
          "yaxis": {
           "automargin": true,
           "gridcolor": "white",
           "linecolor": "white",
           "ticks": "",
           "title": {
            "standoff": 15
           },
           "zerolinecolor": "white",
           "zerolinewidth": 2
          }
         }
        },
        "xaxis": {
         "anchor": "y",
         "domain": [
          0,
          1
         ],
         "title": {
          "text": "PC1"
         }
        },
        "yaxis": {
         "anchor": "x",
         "domain": [
          0,
          1
         ],
         "title": {
          "text": "PC2"
         }
        }
       }
      }
     },
     "metadata": {},
     "output_type": "display_data"
    }
   ],
   "source": [
    "# With PC3, best values are eps:1.6 and min 4\n",
    "DBSCANplot(features_pca, .48,6)"
   ]
  },
  {
   "cell_type": "code",
   "execution_count": 67,
   "metadata": {},
   "outputs": [
    {
     "name": "stdout",
     "output_type": "stream",
     "text": [
      "9\n"
     ]
    },
    {
     "data": {
      "application/vnd.plotly.v1+json": {
       "config": {
        "plotlyServerURL": "https://plot.ly"
       },
       "data": [
        {
         "hovertemplate": "<b>%{hovertext}</b><br><br>latitude=%{lat}<br>longitude=%{lon}<br>cluster=%{marker.color}<extra></extra>",
         "hovertext": [
          "Wakefield",
          "Co-op City",
          "Eastchester",
          "Fieldston",
          "Riverdale",
          "Kingsbridge",
          "Marble Hill",
          "Woodlawn",
          "Norwood",
          "Williamsbridge",
          "Baychester",
          "Pelham Parkway",
          "City Island",
          "Bedford Park",
          "University Heights",
          "Morris Heights",
          "Fordham",
          "East Tremont",
          "West Farms",
          "High  Bridge",
          "Melrose",
          "Mott Haven",
          "Port Morris",
          "Longwood",
          "Hunts Point",
          "Morrisania",
          "Soundview",
          "Clason Point",
          "Throgs Neck",
          "Country Club",
          "Parkchester",
          "Westchester Square",
          "Van Nest",
          "Morris Park",
          "Belmont",
          "Spuyten Duyvil",
          "North Riverdale",
          "Pelham Bay",
          "Schuylerville",
          "Edgewater Park",
          "Castle Hill",
          "Olinville",
          "Pelham Gardens",
          "Concourse",
          "Unionport",
          "Edenwald",
          "Bay Ridge",
          "Bensonhurst",
          "Sunset Park",
          "Greenpoint",
          "Gravesend",
          "Brighton Beach",
          "Sheepshead Bay",
          "Manhattan Terrace",
          "Flatbush",
          "Crown Heights",
          "East Flatbush",
          "Kensington",
          "Windsor Terrace",
          "Prospect Heights",
          "Brownsville",
          "Williamsburg",
          "Bushwick",
          "Bedford Stuyvesant",
          "Brooklyn Heights",
          "Cobble Hill",
          "Carroll Gardens",
          "Red Hook",
          "Gowanus",
          "Fort Greene",
          "Park Slope",
          "Cypress Hills",
          "East New York",
          "Starrett City",
          "Canarsie",
          "Flatlands",
          "Mill Island",
          "Manhattan Beach",
          "Coney Island",
          "Bath Beach",
          "Borough Park",
          "Dyker Heights",
          "Gerritsen Beach",
          "Marine Park",
          "Clinton Hill",
          "Sea Gate",
          "Downtown",
          "Boerum Hill",
          "Prospect Lefferts Gardens",
          "Ocean Hill",
          "City Line",
          "Bergen Beach",
          "Midwood",
          "Prospect Park South",
          "Georgetown",
          "East Williamsburg",
          "North Side",
          "South Side",
          "Ocean Parkway",
          "Fort Hamilton",
          "Chinatown",
          "Washington Heights",
          "Inwood",
          "Hamilton Heights",
          "Manhattanville",
          "Central Harlem",
          "East Harlem",
          "Upper East Side",
          "Yorkville",
          "Lenox Hill",
          "Roosevelt Island",
          "Upper West Side",
          "Lincoln Square",
          "Clinton",
          "Midtown",
          "Murray Hill",
          "Murray Hill",
          "Chelsea",
          "Chelsea",
          "Greenwich Village",
          "East Village",
          "Lower East Side",
          "Tribeca",
          "Little Italy",
          "Soho",
          "West Village",
          "Manhattan Valley",
          "Morningside Heights",
          "Gramercy",
          "Battery Park City",
          "Financial District",
          "Astoria",
          "Woodside",
          "Jackson Heights",
          "Elmhurst",
          "Howard Beach",
          "Corona",
          "Forest Hills",
          "Kew Gardens",
          "Richmond Hill",
          "Flushing",
          "Long Island City",
          "Sunnyside",
          "Sunnyside",
          "East Elmhurst",
          "Maspeth",
          "Ridgewood",
          "Glendale",
          "Rego Park",
          "Woodhaven",
          "Ozone Park",
          "South Ozone Park",
          "College Point",
          "Whitestone",
          "Bayside",
          "Auburndale",
          "Little Neck",
          "Douglaston",
          "Glen Oaks",
          "Bellerose",
          "Kew Gardens Hills",
          "Fresh Meadows",
          "Briarwood",
          "Jamaica Center",
          "Oakland Gardens",
          "Queens Village",
          "Hollis",
          "South Jamaica",
          "St. Albans",
          "Rochdale",
          "Springfield Gardens",
          "Cambria Heights",
          "Rosedale",
          "Far Rockaway",
          "Broad Channel",
          "Breezy Point",
          "Steinway",
          "Beechhurst",
          "Bay Terrace",
          "Bay Terrace",
          "Edgemere",
          "Arverne",
          "Rockaway Beach",
          "Neponsit",
          "Floral Park",
          "Holliswood",
          "Jamaica Estates",
          "Queensboro Hill",
          "Hillcrest",
          "Ravenswood",
          "Lindenwood",
          "Laurelton",
          "Lefrak City",
          "Belle Harbor",
          "Rockaway Park",
          "Somerville",
          "Brookville",
          "Bellaire",
          "North Corona",
          "Forest Hills Gardens",
          "St. George",
          "New Brighton",
          "Stapleton",
          "Rosebank",
          "West Brighton",
          "Grymes Hill",
          "Todt Hill",
          "South Beach",
          "Port Richmond",
          "Mariner's Harbor",
          "Port Ivory",
          "Castleton Corners",
          "New Springville",
          "Travis",
          "New Dorp",
          "Oakwood",
          "Great Kills",
          "Eltingville",
          "Annadale",
          "Woodrow",
          "Tottenville",
          "Tompkinsville",
          "Silver Lake",
          "Ditmas Park",
          "Wingate",
          "Rugby",
          "Park Hill",
          "Westerleigh",
          "Graniteville",
          "Arlington",
          "Arrochar",
          "Grasmere",
          "Old Town",
          "Dongan Hills",
          "Midland Beach",
          "Grant City",
          "New Dorp Beach",
          "Huguenot",
          "Pleasant Plains",
          "Butler Manor",
          "Charleston",
          "Rossville",
          "Arden Heights",
          "Greenridge",
          "Heartland Village",
          "Bloomfield",
          "Bulls Head",
          "Carnegie Hill",
          "Noho",
          "Civic Center",
          "Midtown South",
          "Richmond Town",
          "Shore Acres",
          "Clifton",
          "Concord",
          "Emerson Hill",
          "Randall Manor",
          "Howland Hook",
          "Elm Park",
          "Remsen Village",
          "New Lots",
          "Paerdegat Basin",
          "Mill Basin",
          "Jamaica Hills",
          "Utopia",
          "Pomonok",
          "Astoria Heights",
          "Claremont Village",
          "Concourse Village",
          "Mount Eden",
          "Mount Hope",
          "Sutton Place",
          "Hunters Point",
          "Turtle Bay",
          "Tudor City",
          "Stuyvesant Town",
          "Flatiron",
          "Sunnyside Gardens",
          "Blissville",
          "Fulton Ferry",
          "Vinegar Hill",
          "Weeksville",
          "Broadway Junction",
          "Dumbo",
          "Manor Heights",
          "Willowbrook",
          "Sandy Ground",
          "Egbertville",
          "Roxbury",
          "Homecrest",
          "Middle Village",
          "Prince's Bay",
          "Lighthouse Hill",
          "Richmond Valley",
          "Malba",
          "Highland Park",
          "Madison",
          "Bronxdale",
          "Allerton",
          "Kingsbridge Heights",
          "Erasmus",
          "Hudson Yards",
          "Hammels",
          "Bayswater",
          "Queensbridge",
          "Fox Hills"
         ],
         "lat": [
          40.89470517661,
          40.87429419303012,
          40.887555677350775,
          40.89543742690383,
          40.890834493891305,
          40.88168737120521,
          40.87655077879964,
          40.89827261213805,
          40.87722415599446,
          40.88103887819211,
          40.866858107252696,
          40.85741349808865,
          40.84724670491813,
          40.870185164975325,
          40.85572707719664,
          40.84789792606271,
          40.86099679638654,
          40.84269615786053,
          40.83947505672653,
          40.836623010706056,
          40.819754370594936,
          40.80623874935177,
          40.801663627756206,
          40.81509904545822,
          40.80972987938709,
          40.82359198585534,
          40.821012197914015,
          40.80655112003589,
          40.81510925804005,
          40.844245936947374,
          40.837937822267286,
          40.8406194964327,
          40.84360847124718,
          40.847549063536334,
          40.85727710073895,
          40.88139497727086,
          40.90854282950666,
          40.85064140940335,
          40.82657951686922,
          40.82198611816349,
          40.81901437698832,
          40.87137078192371,
          40.86296562477998,
          40.83428380733851,
          40.82977429787161,
          40.88456130303732,
          40.625801065010656,
          40.61100890202044,
          40.64510294925429,
          40.7302009848647,
          40.59526001306593,
          40.57682506566604,
          40.58689012678384,
          40.61443251335098,
          40.63632589026677,
          40.67082917695294,
          40.64171776668961,
          40.642381958003526,
          40.65694583575104,
          40.67682226225472,
          40.66394994339755,
          40.70714439344251,
          40.69811611017901,
          40.687231607720456,
          40.69586372272408,
          40.68791972248557,
          40.680540231076485,
          40.676253230250886,
          40.673931143187154,
          40.68852726018977,
          40.67232052268197,
          40.68239101144211,
          40.669925700847045,
          40.64758905230874,
          40.63556432797428,
          40.630446043757466,
          40.606336421685626,
          40.57791350308657,
          40.57429256471601,
          40.59951870282238,
          40.633130512758015,
          40.61921945772264,
          40.590848433902046,
          40.609747779894604,
          40.693229421881504,
          40.57637537890224,
          40.69084402109802,
          40.68568291209144,
          40.658420017469815,
          40.67840255479536,
          40.67856995727479,
          40.61514955045308,
          40.62559589869843,
          40.64700860318519,
          40.62384524478419,
          40.70849241041548,
          40.714822906532014,
          40.71086147265064,
          40.61305976667942,
          40.61476812694226,
          40.71561842231432,
          40.85190252555305,
          40.86768396449915,
          40.823604284811935,
          40.8169344294978,
          40.81597606742414,
          40.79224946663033,
          40.775638573301805,
          40.77592984988488,
          40.76811265828733,
          40.76215960576283,
          40.78765799853485,
          40.77352888942166,
          40.75910089146212,
          40.75469110270623,
          40.748303077252174,
          40.76412612261407,
          40.744034706747975,
          40.59472602746295,
          40.72693288536128,
          40.72784677727024,
          40.71780674892765,
          40.721521967443216,
          40.71932379395907,
          40.72218384131794,
          40.73443393572434,
          40.79730704170287,
          40.80799973816583,
          40.737209832715,
          40.71193198394565,
          40.70710710727048,
          40.76850859335492,
          40.74634908860222,
          40.75198138007367,
          40.74404850512202,
          40.65422527738487,
          40.74238175015667,
          40.72526378216503,
          40.7051790354148,
          40.69794731471763,
          40.76445419697846,
          40.75021734610528,
          40.74017628351924,
          40.61276015756489,
          40.76407323883091,
          40.725427374093606,
          40.70832315613858,
          40.70276242967838,
          40.72897409480735,
          40.68988687915789,
          40.680708468265415,
          40.66854957767195,
          40.784902749260205,
          40.78129076602694,
          40.76604063281064,
          40.76172954903262,
          40.7708261928267,
          40.76684609790763,
          40.74944079974332,
          40.72857318176675,
          40.722578244228046,
          40.7343944653313,
          40.71093547252271,
          40.70465736068717,
          40.74561857141855,
          40.71889309216736,
          40.71124344191904,
          40.696911253789885,
          40.69444538522359,
          40.67521139591733,
          40.66623049036858,
          40.692774639160845,
          40.65981643342808,
          40.603134432500894,
          40.60302658351238,
          40.55740128845452,
          40.775923015642896,
          40.79278140360048,
          40.782842806245554,
          40.55398800858462,
          40.595641807368494,
          40.58914394372971,
          40.58280169684559,
          40.572036730217015,
          40.74137842194544,
          40.7209572076444,
          40.71680483014613,
          40.7445723092867,
          40.7238249018292,
          40.76170452605415,
          40.66391841925139,
          40.66788389660247,
          40.7360745708308,
          40.57615556543109,
          40.58034295646131,
          40.59771061565768,
          40.66000322733613,
          40.73301404027834,
          40.7540709990489,
          40.7146110815117,
          40.6449815710044,
          40.64061455913511,
          40.62692762538176,
          40.61530494652761,
          40.63187892654607,
          40.624184791313006,
          40.59706851814673,
          40.58024741350956,
          40.63366930554365,
          40.63254639048112,
          40.63968297845542,
          40.61333593766742,
          40.594252379161695,
          40.58631375103281,
          40.57257231820632,
          40.5584622432888,
          40.549480228713605,
          40.542230747450745,
          40.53811417474507,
          40.54196762288876,
          40.50533376115642,
          40.637316067110326,
          40.61919310792676,
          40.643675183340974,
          40.66094656188111,
          40.65557231328077,
          40.60919044434558,
          40.62109047275409,
          40.620171512231884,
          40.63532509911492,
          40.596312571276734,
          40.59826835959991,
          40.59632891379513,
          40.58867294819928,
          40.57352690574283,
          40.57621558711788,
          40.56425549307335,
          40.531911920489605,
          40.524699376118136,
          40.50608165346305,
          40.53053148283314,
          40.54940400650072,
          40.54928582278321,
          40.5552952361732,
          40.58913894875281,
          40.60577868452358,
          40.6095918004203,
          40.7826825671257,
          40.72325901885768,
          40.71522892046282,
          40.7485096643122,
          40.56960594275505,
          40.60971934079284,
          40.61917845202843,
          40.6044731896879,
          40.606794394801,
          40.63563000681151,
          40.63843283794795,
          40.63014674119383,
          40.65211745179349,
          40.6627442796966,
          40.63131755039667,
          40.61597423962336,
          40.71145964370482,
          40.73350025429757,
          40.73493618075478,
          40.7703173929982,
          40.83142834161548,
          40.824780490842905,
          40.84382617671654,
          40.84884160724665,
          40.76028033131374,
          40.743414090073536,
          40.75204236950722,
          40.7469174107402,
          40.73099955477061,
          40.739673047638426,
          40.74565180608076,
          40.73725071694497,
          40.70328109093014,
          40.70332149882874,
          40.67503986503237,
          40.67786104769531,
          40.70317632822692,
          40.60180957631444,
          40.60370692627371,
          40.541139922091766,
          40.579118742961214,
          40.56737588957032,
          40.598525095137255,
          40.716414511158185,
          40.52626406734812,
          40.57650629379489,
          40.51954145748909,
          40.79060155670148,
          40.6819989345173,
          40.60937770113766,
          40.85272297633017,
          40.86578787802982,
          40.8703923914147,
          40.64692606658579,
          40.75665808227519,
          40.58733774018741,
          40.61132169128384,
          40.75609129709471,
          40.61731079252983
         ],
         "legendgroup": "",
         "lon": [
          -73.84720052054902,
          -73.82993910812398,
          -73.82780644716412,
          -73.90564259591682,
          -73.9125854610857,
          -73.90281798724604,
          -73.91065965862981,
          -73.86731496814176,
          -73.8793907395681,
          -73.85744642974207,
          -73.83579759808117,
          -73.85475564017999,
          -73.78648845267413,
          -73.8855121841913,
          -73.9104159619131,
          -73.91967159119565,
          -73.89642655981623,
          -73.88735617532338,
          -73.87774474910545,
          -73.9261020935813,
          -73.90942160757436,
          -73.91609987487575,
          -73.91322139386135,
          -73.8957882009446,
          -73.88331505955291,
          -73.90150648943059,
          -73.86574609554924,
          -73.85414416189266,
          -73.81635002158441,
          -73.8240992675385,
          -73.85600310535783,
          -73.84219407604444,
          -73.8662991807561,
          -73.85040178030421,
          -73.88845196134804,
          -73.91719048210393,
          -73.90453054908927,
          -73.8320737824047,
          -73.82620275994073,
          -73.81388514428619,
          -73.84802729582735,
          -73.86332361652777,
          -73.84161194831223,
          -73.91558941773444,
          -73.85053524451935,
          -73.84808271877168,
          -74.03062069353813,
          -73.99517998380729,
          -74.01031618527784,
          -73.95424093127393,
          -73.97347087708445,
          -73.96509448785336,
          -73.94318640482979,
          -73.95743840559939,
          -73.95840106533903,
          -73.94329119073582,
          -73.93610256185836,
          -73.98042110559474,
          -73.98007340430172,
          -73.9648592426269,
          -73.91023536176607,
          -73.95811529220927,
          -73.92525797487045,
          -73.94178488690297,
          -73.99378225496424,
          -73.99856139218463,
          -73.99465372828006,
          -74.0127589747356,
          -73.99444087145339,
          -73.97290574369092,
          -73.97705030183924,
          -73.87661596457296,
          -73.88069863917366,
          -73.87936970045875,
          -73.90209269778966,
          -73.92911302644674,
          -73.90818571777423,
          -73.94353722891886,
          -73.98868295821637,
          -73.99875221443519,
          -73.99049823044811,
          -74.01931375636022,
          -73.93010170691196,
          -73.93134404108497,
          -73.96784306216367,
          -74.0078731120024,
          -73.98346337431099,
          -73.98374824115798,
          -73.95489867077713,
          -73.91306831787395,
          -73.86797598081334,
          -73.89855633630317,
          -73.95759523489838,
          -73.96261316716048,
          -73.91607483951324,
          -73.93885815269195,
          -73.95880857587582,
          -73.95800095153331,
          -73.96836678035541,
          -74.03197914537984,
          -73.99427936255978,
          -73.93690027985234,
          -73.92121042203897,
          -73.94968791883366,
          -73.9573853935188,
          -73.94321112603905,
          -73.94418223148524,
          -73.96050763135,
          -73.94711784471826,
          -73.9588596881376,
          -73.94916769227953,
          -73.97705923630603,
          -73.98533777001262,
          -73.99611936309479,
          -73.98166882730304,
          -73.97833207924127,
          -73.81276269135866,
          -74.00311633472813,
          -74.1895604551969,
          -73.99991402945902,
          -73.98222616506416,
          -73.98089031999291,
          -74.01068328559087,
          -73.99730467208073,
          -74.00065666959759,
          -74.00617998126812,
          -73.96428617740655,
          -73.96389627905332,
          -73.98137594833541,
          -74.01686930508617,
          -74.0106654452127,
          -73.91565374304234,
          -73.90184166838284,
          -73.88282109164365,
          -73.88165622288388,
          -73.8381376460028,
          -73.85682497345258,
          -73.84447500788983,
          -73.82981905825703,
          -73.83183321446887,
          -73.83177300329582,
          -73.93920223915505,
          -73.92691617561577,
          -74.0971255217853,
          -73.86704147658772,
          -73.89621713626859,
          -73.90143517559589,
          -73.87074167435605,
          -73.8578268690537,
          -73.8581104655432,
          -73.84320266173447,
          -73.80986478649041,
          -73.84304528896125,
          -73.81420216610863,
          -73.7742736306867,
          -73.79176243728061,
          -73.7388977558074,
          -73.7424982072733,
          -73.71548118999145,
          -73.72012814826903,
          -73.82087764933566,
          -73.78271337003264,
          -73.81174822458634,
          -73.79690165888289,
          -73.75494976234332,
          -73.73871484578424,
          -73.75925009335594,
          -73.7904261313554,
          -73.75867603727717,
          -73.77258787620906,
          -73.76042092682287,
          -73.73526873708026,
          -73.73526079428278,
          -73.75497968043872,
          -73.8200548911032,
          -73.92551196994168,
          -73.90228960391673,
          -73.80436451720988,
          -73.7768022262158,
          -74.13916622175768,
          -73.77613282391705,
          -73.79199233136943,
          -73.82236121088751,
          -73.85754672410827,
          -73.70884705889246,
          -73.76714166714729,
          -73.7872269693666,
          -73.82580915110559,
          -73.79760300912672,
          -73.93157506072878,
          -73.84963782402441,
          -73.74025607989822,
          -73.8625247141374,
          -73.8540175039252,
          -73.84153370226186,
          -73.79664750844047,
          -73.75175310731153,
          -73.73889198912481,
          -73.85751790676447,
          -73.8410221123401,
          -74.07935312512797,
          -74.08701650516625,
          -74.07790192660066,
          -74.06980526716141,
          -74.1071817826561,
          -74.08724819983729,
          -74.1113288180088,
          -74.0795529253982,
          -74.12943426797008,
          -74.15008537046981,
          -74.17464532993542,
          -74.11918058534842,
          -74.16496031329827,
          -74.19073717538116,
          -74.1164794360638,
          -74.12156593771896,
          -74.14932381490992,
          -74.1643308041936,
          -74.17854866165878,
          -74.20524582480326,
          -74.24656934235283,
          -74.08055351790115,
          -74.09629029235458,
          -73.96101312466779,
          -73.93718680559314,
          -73.92688212616955,
          -74.08015734936296,
          -74.13304143951704,
          -74.15315246387762,
          -74.16510420241124,
          -74.06712363225574,
          -74.0766743627905,
          -74.08751118005578,
          -74.09639905312521,
          -74.09348266303591,
          -74.10585598545434,
          -74.10432707469124,
          -74.19174105747814,
          -74.21983106616777,
          -74.22950350260027,
          -74.23215775896526,
          -74.21572851113952,
          -74.18588674583893,
          -74.17079414786092,
          -74.15902208156601,
          -74.18725638381567,
          -74.15940948657122,
          -73.95325646837112,
          -73.98843368023597,
          -74.00541529873355,
          -73.98871313285247,
          -74.1340572986257,
          -74.06667766061771,
          -74.072642445484,
          -74.08402364740358,
          -74.09776206972522,
          -74.09805062373887,
          -74.18622331749823,
          -74.1418167896889,
          -73.91665331978048,
          -73.88511776379292,
          -73.90233474295836,
          -73.91515391550404,
          -73.79646462081593,
          -73.79671678028349,
          -73.80486120040537,
          -73.89467996270574,
          -73.90119903387667,
          -73.91584652759009,
          -73.91655551964419,
          -73.90829930881988,
          -73.96355614094303,
          -73.95386782130745,
          -73.96770824581834,
          -73.97121928722265,
          -73.97405170469203,
          -73.9909471052826,
          -73.91819286431682,
          -73.93244235260178,
          -73.99550751888415,
          -73.98111603592393,
          -73.93053108817338,
          -73.90331684852599,
          -73.9887528074504,
          -74.12059399718001,
          -74.13208447484298,
          -74.21776636068567,
          -74.12727240604946,
          -73.89213760232822,
          -73.95918459428702,
          -73.88114319200604,
          -74.20152556457658,
          -74.13792663771568,
          -74.22957080626941,
          -73.82667757138641,
          -73.890345709872,
          -73.94841515328893,
          -73.86172577555115,
          -73.85931863221647,
          -73.90152264513144,
          -73.94817709920184,
          -74.00011136202637,
          -73.80553002968718,
          -73.76596781445627,
          -73.94563070334091,
          -74.08173992211962
         ],
         "marker": {
          "color": [
           -1,
           0,
           0,
           0,
           0,
           -1,
           -1,
           0,
           1,
           -1,
           0,
           -1,
           0,
           1,
           1,
           1,
           -1,
           1,
           1,
           1,
           1,
           -1,
           0,
           1,
           0,
           1,
           -1,
           0,
           0,
           0,
           1,
           1,
           1,
           -1,
           -1,
           0,
           0,
           0,
           0,
           0,
           0,
           -1,
           0,
           1,
           1,
           -1,
           2,
           -1,
           -1,
           -1,
           0,
           3,
           3,
           -1,
           6,
           -1,
           -1,
           3,
           -1,
           4,
           -1,
           4,
           -1,
           -1,
           4,
           4,
           4,
           0,
           -1,
           4,
           4,
           -1,
           1,
           0,
           0,
           0,
           0,
           3,
           0,
           -1,
           3,
           -1,
           0,
           -1,
           -1,
           0,
           4,
           7,
           6,
           -1,
           -1,
           0,
           3,
           -1,
           0,
           -1,
           -1,
           -1,
           3,
           -1,
           -1,
           -1,
           -1,
           -1,
           -1,
           -1,
           -1,
           -1,
           -1,
           7,
           2,
           4,
           -1,
           5,
           5,
           5,
           5,
           5,
           5,
           5,
           5,
           -1,
           5,
           -1,
           4,
           6,
           5,
           7,
           7,
           4,
           6,
           -1,
           -1,
           0,
           -1,
           2,
           0,
           0,
           -1,
           2,
           0,
           -1,
           -1,
           6,
           0,
           3,
           -1,
           1,
           0,
           0,
           0,
           3,
           -1,
           -1,
           -1,
           0,
           -1,
           0,
           -1,
           -1,
           -1,
           0,
           0,
           -1,
           -1,
           0,
           0,
           0,
           0,
           0,
           0,
           0,
           0,
           -1,
           -1,
           0,
           0,
           0,
           0,
           0,
           -1,
           0,
           0,
           -1,
           -1,
           -1,
           4,
           0,
           0,
           -1,
           0,
           0,
           0,
           0,
           0,
           1,
           2,
           0,
           0,
           0,
           0,
           -1,
           0,
           0,
           0,
           0,
           0,
           0,
           0,
           0,
           0,
           -1,
           0,
           0,
           0,
           0,
           0,
           0,
           0,
           0,
           0,
           -1,
           -1,
           -1,
           0,
           -1,
           0,
           0,
           0,
           0,
           0,
           0,
           0,
           3,
           0,
           0,
           0,
           0,
           0,
           0,
           0,
           0,
           0,
           -1,
           0,
           0,
           0,
           4,
           5,
           5,
           5,
           0,
           0,
           0,
           0,
           0,
           0,
           0,
           0,
           -1,
           -1,
           0,
           0,
           -1,
           -1,
           0,
           0,
           1,
           1,
           1,
           1,
           7,
           -1,
           5,
           5,
           4,
           5,
           2,
           0,
           4,
           -1,
           -1,
           -1,
           -1,
           0,
           0,
           0,
           0,
           0,
           3,
           0,
           0,
           0,
           0,
           0,
           -1,
           3,
           0,
           -1,
           1,
           -1,
           7,
           0,
           0,
           6,
           0
          ],
          "coloraxis": "coloraxis"
         },
         "mode": "markers",
         "name": "",
         "showlegend": false,
         "subplot": "mapbox",
         "type": "scattermapbox"
        }
       ],
       "layout": {
        "coloraxis": {
         "colorbar": {
          "title": {
           "text": "cluster"
          }
         },
         "colorscale": [
          [
           0,
           "#0d0887"
          ],
          [
           0.1111111111111111,
           "#46039f"
          ],
          [
           0.2222222222222222,
           "#7201a8"
          ],
          [
           0.3333333333333333,
           "#9c179e"
          ],
          [
           0.4444444444444444,
           "#bd3786"
          ],
          [
           0.5555555555555556,
           "#d8576b"
          ],
          [
           0.6666666666666666,
           "#ed7953"
          ],
          [
           0.7777777777777778,
           "#fb9f3a"
          ],
          [
           0.8888888888888888,
           "#fdca26"
          ],
          [
           1,
           "#f0f921"
          ]
         ]
        },
        "geo": {
         "fitbounds": "locations"
        },
        "height": 500,
        "legend": {
         "tracegroupgap": 0
        },
        "mapbox": {
         "accesstoken": "pk.eyJ1IjoidmVsdm94IiwiYSI6ImNsNThham8xajIxMnMzam1ycGg2eTZ0eGYifQ.RaCirjLZex17tLwWOx9FGQ",
         "center": {
          "lat": 40.70136210272567,
          "lon": -73.94625419828468
         },
         "domain": {
          "x": [
           0,
           1
          ],
          "y": [
           0,
           1
          ]
         },
         "style": "dark",
         "zoom": 8
        },
        "margin": {
         "b": 0,
         "l": 0,
         "r": 0,
         "t": 0
        },
        "template": {
         "data": {
          "bar": [
           {
            "error_x": {
             "color": "#2a3f5f"
            },
            "error_y": {
             "color": "#2a3f5f"
            },
            "marker": {
             "line": {
              "color": "#E5ECF6",
              "width": 0.5
             },
             "pattern": {
              "fillmode": "overlay",
              "size": 10,
              "solidity": 0.2
             }
            },
            "type": "bar"
           }
          ],
          "barpolar": [
           {
            "marker": {
             "line": {
              "color": "#E5ECF6",
              "width": 0.5
             },
             "pattern": {
              "fillmode": "overlay",
              "size": 10,
              "solidity": 0.2
             }
            },
            "type": "barpolar"
           }
          ],
          "carpet": [
           {
            "aaxis": {
             "endlinecolor": "#2a3f5f",
             "gridcolor": "white",
             "linecolor": "white",
             "minorgridcolor": "white",
             "startlinecolor": "#2a3f5f"
            },
            "baxis": {
             "endlinecolor": "#2a3f5f",
             "gridcolor": "white",
             "linecolor": "white",
             "minorgridcolor": "white",
             "startlinecolor": "#2a3f5f"
            },
            "type": "carpet"
           }
          ],
          "choropleth": [
           {
            "colorbar": {
             "outlinewidth": 0,
             "ticks": ""
            },
            "type": "choropleth"
           }
          ],
          "contour": [
           {
            "colorbar": {
             "outlinewidth": 0,
             "ticks": ""
            },
            "colorscale": [
             [
              0,
              "#0d0887"
             ],
             [
              0.1111111111111111,
              "#46039f"
             ],
             [
              0.2222222222222222,
              "#7201a8"
             ],
             [
              0.3333333333333333,
              "#9c179e"
             ],
             [
              0.4444444444444444,
              "#bd3786"
             ],
             [
              0.5555555555555556,
              "#d8576b"
             ],
             [
              0.6666666666666666,
              "#ed7953"
             ],
             [
              0.7777777777777778,
              "#fb9f3a"
             ],
             [
              0.8888888888888888,
              "#fdca26"
             ],
             [
              1,
              "#f0f921"
             ]
            ],
            "type": "contour"
           }
          ],
          "contourcarpet": [
           {
            "colorbar": {
             "outlinewidth": 0,
             "ticks": ""
            },
            "type": "contourcarpet"
           }
          ],
          "heatmap": [
           {
            "colorbar": {
             "outlinewidth": 0,
             "ticks": ""
            },
            "colorscale": [
             [
              0,
              "#0d0887"
             ],
             [
              0.1111111111111111,
              "#46039f"
             ],
             [
              0.2222222222222222,
              "#7201a8"
             ],
             [
              0.3333333333333333,
              "#9c179e"
             ],
             [
              0.4444444444444444,
              "#bd3786"
             ],
             [
              0.5555555555555556,
              "#d8576b"
             ],
             [
              0.6666666666666666,
              "#ed7953"
             ],
             [
              0.7777777777777778,
              "#fb9f3a"
             ],
             [
              0.8888888888888888,
              "#fdca26"
             ],
             [
              1,
              "#f0f921"
             ]
            ],
            "type": "heatmap"
           }
          ],
          "heatmapgl": [
           {
            "colorbar": {
             "outlinewidth": 0,
             "ticks": ""
            },
            "colorscale": [
             [
              0,
              "#0d0887"
             ],
             [
              0.1111111111111111,
              "#46039f"
             ],
             [
              0.2222222222222222,
              "#7201a8"
             ],
             [
              0.3333333333333333,
              "#9c179e"
             ],
             [
              0.4444444444444444,
              "#bd3786"
             ],
             [
              0.5555555555555556,
              "#d8576b"
             ],
             [
              0.6666666666666666,
              "#ed7953"
             ],
             [
              0.7777777777777778,
              "#fb9f3a"
             ],
             [
              0.8888888888888888,
              "#fdca26"
             ],
             [
              1,
              "#f0f921"
             ]
            ],
            "type": "heatmapgl"
           }
          ],
          "histogram": [
           {
            "marker": {
             "pattern": {
              "fillmode": "overlay",
              "size": 10,
              "solidity": 0.2
             }
            },
            "type": "histogram"
           }
          ],
          "histogram2d": [
           {
            "colorbar": {
             "outlinewidth": 0,
             "ticks": ""
            },
            "colorscale": [
             [
              0,
              "#0d0887"
             ],
             [
              0.1111111111111111,
              "#46039f"
             ],
             [
              0.2222222222222222,
              "#7201a8"
             ],
             [
              0.3333333333333333,
              "#9c179e"
             ],
             [
              0.4444444444444444,
              "#bd3786"
             ],
             [
              0.5555555555555556,
              "#d8576b"
             ],
             [
              0.6666666666666666,
              "#ed7953"
             ],
             [
              0.7777777777777778,
              "#fb9f3a"
             ],
             [
              0.8888888888888888,
              "#fdca26"
             ],
             [
              1,
              "#f0f921"
             ]
            ],
            "type": "histogram2d"
           }
          ],
          "histogram2dcontour": [
           {
            "colorbar": {
             "outlinewidth": 0,
             "ticks": ""
            },
            "colorscale": [
             [
              0,
              "#0d0887"
             ],
             [
              0.1111111111111111,
              "#46039f"
             ],
             [
              0.2222222222222222,
              "#7201a8"
             ],
             [
              0.3333333333333333,
              "#9c179e"
             ],
             [
              0.4444444444444444,
              "#bd3786"
             ],
             [
              0.5555555555555556,
              "#d8576b"
             ],
             [
              0.6666666666666666,
              "#ed7953"
             ],
             [
              0.7777777777777778,
              "#fb9f3a"
             ],
             [
              0.8888888888888888,
              "#fdca26"
             ],
             [
              1,
              "#f0f921"
             ]
            ],
            "type": "histogram2dcontour"
           }
          ],
          "mesh3d": [
           {
            "colorbar": {
             "outlinewidth": 0,
             "ticks": ""
            },
            "type": "mesh3d"
           }
          ],
          "parcoords": [
           {
            "line": {
             "colorbar": {
              "outlinewidth": 0,
              "ticks": ""
             }
            },
            "type": "parcoords"
           }
          ],
          "pie": [
           {
            "automargin": true,
            "type": "pie"
           }
          ],
          "scatter": [
           {
            "fillpattern": {
             "fillmode": "overlay",
             "size": 10,
             "solidity": 0.2
            },
            "type": "scatter"
           }
          ],
          "scatter3d": [
           {
            "line": {
             "colorbar": {
              "outlinewidth": 0,
              "ticks": ""
             }
            },
            "marker": {
             "colorbar": {
              "outlinewidth": 0,
              "ticks": ""
             }
            },
            "type": "scatter3d"
           }
          ],
          "scattercarpet": [
           {
            "marker": {
             "colorbar": {
              "outlinewidth": 0,
              "ticks": ""
             }
            },
            "type": "scattercarpet"
           }
          ],
          "scattergeo": [
           {
            "marker": {
             "colorbar": {
              "outlinewidth": 0,
              "ticks": ""
             }
            },
            "type": "scattergeo"
           }
          ],
          "scattergl": [
           {
            "marker": {
             "colorbar": {
              "outlinewidth": 0,
              "ticks": ""
             }
            },
            "type": "scattergl"
           }
          ],
          "scattermapbox": [
           {
            "marker": {
             "colorbar": {
              "outlinewidth": 0,
              "ticks": ""
             }
            },
            "type": "scattermapbox"
           }
          ],
          "scatterpolar": [
           {
            "marker": {
             "colorbar": {
              "outlinewidth": 0,
              "ticks": ""
             }
            },
            "type": "scatterpolar"
           }
          ],
          "scatterpolargl": [
           {
            "marker": {
             "colorbar": {
              "outlinewidth": 0,
              "ticks": ""
             }
            },
            "type": "scatterpolargl"
           }
          ],
          "scatterternary": [
           {
            "marker": {
             "colorbar": {
              "outlinewidth": 0,
              "ticks": ""
             }
            },
            "type": "scatterternary"
           }
          ],
          "surface": [
           {
            "colorbar": {
             "outlinewidth": 0,
             "ticks": ""
            },
            "colorscale": [
             [
              0,
              "#0d0887"
             ],
             [
              0.1111111111111111,
              "#46039f"
             ],
             [
              0.2222222222222222,
              "#7201a8"
             ],
             [
              0.3333333333333333,
              "#9c179e"
             ],
             [
              0.4444444444444444,
              "#bd3786"
             ],
             [
              0.5555555555555556,
              "#d8576b"
             ],
             [
              0.6666666666666666,
              "#ed7953"
             ],
             [
              0.7777777777777778,
              "#fb9f3a"
             ],
             [
              0.8888888888888888,
              "#fdca26"
             ],
             [
              1,
              "#f0f921"
             ]
            ],
            "type": "surface"
           }
          ],
          "table": [
           {
            "cells": {
             "fill": {
              "color": "#EBF0F8"
             },
             "line": {
              "color": "white"
             }
            },
            "header": {
             "fill": {
              "color": "#C8D4E3"
             },
             "line": {
              "color": "white"
             }
            },
            "type": "table"
           }
          ]
         },
         "layout": {
          "annotationdefaults": {
           "arrowcolor": "#2a3f5f",
           "arrowhead": 0,
           "arrowwidth": 1
          },
          "autotypenumbers": "strict",
          "coloraxis": {
           "colorbar": {
            "outlinewidth": 0,
            "ticks": ""
           }
          },
          "colorscale": {
           "diverging": [
            [
             0,
             "#8e0152"
            ],
            [
             0.1,
             "#c51b7d"
            ],
            [
             0.2,
             "#de77ae"
            ],
            [
             0.3,
             "#f1b6da"
            ],
            [
             0.4,
             "#fde0ef"
            ],
            [
             0.5,
             "#f7f7f7"
            ],
            [
             0.6,
             "#e6f5d0"
            ],
            [
             0.7,
             "#b8e186"
            ],
            [
             0.8,
             "#7fbc41"
            ],
            [
             0.9,
             "#4d9221"
            ],
            [
             1,
             "#276419"
            ]
           ],
           "sequential": [
            [
             0,
             "#0d0887"
            ],
            [
             0.1111111111111111,
             "#46039f"
            ],
            [
             0.2222222222222222,
             "#7201a8"
            ],
            [
             0.3333333333333333,
             "#9c179e"
            ],
            [
             0.4444444444444444,
             "#bd3786"
            ],
            [
             0.5555555555555556,
             "#d8576b"
            ],
            [
             0.6666666666666666,
             "#ed7953"
            ],
            [
             0.7777777777777778,
             "#fb9f3a"
            ],
            [
             0.8888888888888888,
             "#fdca26"
            ],
            [
             1,
             "#f0f921"
            ]
           ],
           "sequentialminus": [
            [
             0,
             "#0d0887"
            ],
            [
             0.1111111111111111,
             "#46039f"
            ],
            [
             0.2222222222222222,
             "#7201a8"
            ],
            [
             0.3333333333333333,
             "#9c179e"
            ],
            [
             0.4444444444444444,
             "#bd3786"
            ],
            [
             0.5555555555555556,
             "#d8576b"
            ],
            [
             0.6666666666666666,
             "#ed7953"
            ],
            [
             0.7777777777777778,
             "#fb9f3a"
            ],
            [
             0.8888888888888888,
             "#fdca26"
            ],
            [
             1,
             "#f0f921"
            ]
           ]
          },
          "colorway": [
           "#636efa",
           "#EF553B",
           "#00cc96",
           "#ab63fa",
           "#FFA15A",
           "#19d3f3",
           "#FF6692",
           "#B6E880",
           "#FF97FF",
           "#FECB52"
          ],
          "font": {
           "color": "#2a3f5f"
          },
          "geo": {
           "bgcolor": "white",
           "lakecolor": "white",
           "landcolor": "#E5ECF6",
           "showlakes": true,
           "showland": true,
           "subunitcolor": "white"
          },
          "hoverlabel": {
           "align": "left"
          },
          "hovermode": "closest",
          "mapbox": {
           "style": "light"
          },
          "paper_bgcolor": "white",
          "plot_bgcolor": "#E5ECF6",
          "polar": {
           "angularaxis": {
            "gridcolor": "white",
            "linecolor": "white",
            "ticks": ""
           },
           "bgcolor": "#E5ECF6",
           "radialaxis": {
            "gridcolor": "white",
            "linecolor": "white",
            "ticks": ""
           }
          },
          "scene": {
           "xaxis": {
            "backgroundcolor": "#E5ECF6",
            "gridcolor": "white",
            "gridwidth": 2,
            "linecolor": "white",
            "showbackground": true,
            "ticks": "",
            "zerolinecolor": "white"
           },
           "yaxis": {
            "backgroundcolor": "#E5ECF6",
            "gridcolor": "white",
            "gridwidth": 2,
            "linecolor": "white",
            "showbackground": true,
            "ticks": "",
            "zerolinecolor": "white"
           },
           "zaxis": {
            "backgroundcolor": "#E5ECF6",
            "gridcolor": "white",
            "gridwidth": 2,
            "linecolor": "white",
            "showbackground": true,
            "ticks": "",
            "zerolinecolor": "white"
           }
          },
          "shapedefaults": {
           "line": {
            "color": "#2a3f5f"
           }
          },
          "ternary": {
           "aaxis": {
            "gridcolor": "white",
            "linecolor": "white",
            "ticks": ""
           },
           "baxis": {
            "gridcolor": "white",
            "linecolor": "white",
            "ticks": ""
           },
           "bgcolor": "#E5ECF6",
           "caxis": {
            "gridcolor": "white",
            "linecolor": "white",
            "ticks": ""
           }
          },
          "title": {
           "x": 0.05
          },
          "xaxis": {
           "automargin": true,
           "gridcolor": "white",
           "linecolor": "white",
           "ticks": "",
           "title": {
            "standoff": 15
           },
           "zerolinecolor": "white",
           "zerolinewidth": 2
          },
          "yaxis": {
           "automargin": true,
           "gridcolor": "white",
           "linecolor": "white",
           "ticks": "",
           "title": {
            "standoff": 15
           },
           "zerolinecolor": "white",
           "zerolinewidth": 2
          }
         }
        }
       }
      }
     },
     "metadata": {},
     "output_type": "display_data"
    },
    {
     "data": {
      "application/vnd.plotly.v1+json": {
       "config": {
        "plotlyServerURL": "https://plot.ly"
       },
       "data": [
        {
         "hovertemplate": "PC1=%{x}<br>PC2=%{y}<br>cluster=%{marker.color}<extra></extra>",
         "legendgroup": "",
         "marker": {
          "color": [
           -1,
           0,
           0,
           0,
           0,
           -1,
           -1,
           0,
           1,
           -1,
           0,
           -1,
           0,
           1,
           1,
           1,
           -1,
           1,
           1,
           1,
           1,
           -1,
           0,
           1,
           0,
           1,
           -1,
           0,
           0,
           0,
           1,
           1,
           1,
           -1,
           -1,
           0,
           0,
           0,
           0,
           0,
           0,
           -1,
           0,
           1,
           1,
           -1,
           2,
           -1,
           -1,
           -1,
           0,
           3,
           3,
           -1,
           6,
           -1,
           -1,
           3,
           -1,
           4,
           -1,
           4,
           -1,
           -1,
           4,
           4,
           4,
           0,
           -1,
           4,
           4,
           -1,
           1,
           0,
           0,
           0,
           0,
           3,
           0,
           -1,
           3,
           -1,
           0,
           -1,
           -1,
           0,
           4,
           7,
           6,
           -1,
           -1,
           0,
           3,
           -1,
           0,
           -1,
           -1,
           -1,
           3,
           -1,
           -1,
           -1,
           -1,
           -1,
           -1,
           -1,
           -1,
           -1,
           -1,
           7,
           2,
           4,
           -1,
           5,
           5,
           5,
           5,
           5,
           5,
           5,
           5,
           -1,
           5,
           -1,
           4,
           6,
           5,
           7,
           7,
           4,
           6,
           -1,
           -1,
           0,
           -1,
           2,
           0,
           0,
           -1,
           2,
           0,
           -1,
           -1,
           6,
           0,
           3,
           -1,
           1,
           0,
           0,
           0,
           3,
           -1,
           -1,
           -1,
           0,
           -1,
           0,
           -1,
           -1,
           -1,
           0,
           0,
           -1,
           -1,
           0,
           0,
           0,
           0,
           0,
           0,
           0,
           0,
           -1,
           -1,
           0,
           0,
           0,
           0,
           0,
           -1,
           0,
           0,
           -1,
           -1,
           -1,
           4,
           0,
           0,
           -1,
           0,
           0,
           0,
           0,
           0,
           1,
           2,
           0,
           0,
           0,
           0,
           -1,
           0,
           0,
           0,
           0,
           0,
           0,
           0,
           0,
           0,
           -1,
           0,
           0,
           0,
           0,
           0,
           0,
           0,
           0,
           0,
           -1,
           -1,
           -1,
           0,
           -1,
           0,
           0,
           0,
           0,
           0,
           0,
           0,
           3,
           0,
           0,
           0,
           0,
           0,
           0,
           0,
           0,
           0,
           -1,
           0,
           0,
           0,
           4,
           5,
           5,
           5,
           0,
           0,
           0,
           0,
           0,
           0,
           0,
           0,
           -1,
           -1,
           0,
           0,
           -1,
           -1,
           0,
           0,
           1,
           1,
           1,
           1,
           7,
           -1,
           5,
           5,
           4,
           5,
           2,
           0,
           4,
           -1,
           -1,
           -1,
           -1,
           0,
           0,
           0,
           0,
           0,
           3,
           0,
           0,
           0,
           0,
           0,
           -1,
           3,
           0,
           -1,
           1,
           -1,
           7,
           0,
           0,
           6,
           0
          ],
          "coloraxis": "coloraxis",
          "symbol": "circle"
         },
         "mode": "markers",
         "name": "",
         "orientation": "v",
         "showlegend": false,
         "type": "scatter",
         "x": [
          -0.2999392354396995,
          -0.5181567708027076,
          -0.5389529254485282,
          -0.538111552554458,
          -0.516147602315639,
          0.46436840244932165,
          0.45352076282083575,
          -0.36327500134531987,
          0.04290603085482082,
          -0.13461435110212733,
          -0.4021395629348593,
          -0.13263860935977162,
          -0.9483488226574535,
          0.4074897950783606,
          0.5755622369262103,
          0.4674770541294375,
          1.0962259089896498,
          0.06685585748113411,
          0.2778291084640352,
          0.7242728941962615,
          0.2918559862072228,
          0.3980223461832242,
          -0.3848464860122922,
          -0.014177861706992366,
          -0.9552179762738815,
          0.4053671312191602,
          -0.2559588648471157,
          -1.165877009943115,
          -1.123375288912157,
          -0.6682835524122395,
          0.44047777141560857,
          0.04834022053030687,
          0.18681620011700503,
          -0.12929955851795105,
          0.7926923362590205,
          -0.1882807513299356,
          -0.7190695415655564,
          -0.5011519532650851,
          -0.5933321056281312,
          -0.8164408217059835,
          -0.6518866033230457,
          -0.15836603627267384,
          -0.6887001045380412,
          0.6232455811904835,
          0.2706131565114359,
          -0.2071280008458385,
          0.5677760170889561,
          0.4245282417662995,
          0.732062723687729,
          0.6647666160441524,
          -0.378894367925141,
          0.11331680105654329,
          0.142877082087975,
          0.2632720089673174,
          0.4831505169580193,
          1.0005011370457608,
          -0.009630308343033559,
          0.2695181763843945,
          0.23981404950292573,
          1.2438990294991203,
          0.12527502179245878,
          1.4755149046700555,
          1.138193032280503,
          1.0793748522987965,
          1.2195699562132947,
          1.3847052739269194,
          1.2912653987621434,
          -0.682811717914585,
          0.663631218340794,
          1.358342087824533,
          1.1856016916134868,
          -0.252778598793644,
          -0.006656674233660172,
          -0.841890486218964,
          -0.6430458770964462,
          -0.4365305003620773,
          -1.1224678795253045,
          -0.1388711206074483,
          -0.48034423639408136,
          0.11468942196092147,
          0.20418279961275473,
          0.33166584407063376,
          -0.8933655040828606,
          -0.2901670903642142,
          1.098767249838175,
          -1.2918134088644488,
          1.5246429037063425,
          1.9910611771883795,
          0.8401309794319323,
          0.33847176321781003,
          0.1957535097812927,
          -1.3755622666980964,
          0.22616411597253527,
          0.5151905018672949,
          -0.49922104036443843,
          1.1818386941391135,
          1.3017672782590088,
          1.5691723592542213,
          0.0721695713439749,
          0.07695090884878672,
          2.022009337706604,
          0.8372956790584203,
          0.6792680364483404,
          1.0436176101307042,
          1.129176764730745,
          1.2963415173711779,
          1.0937694175631123,
          1.7095781838571862,
          1.664751256357031,
          1.7319753122188069,
          0.53075277508637,
          1.3780563005591284,
          1.522390516442774,
          2.171819140053922,
          2.579792781075722,
          2.4050923519676446,
          2.121897541368075,
          2.01551488518807,
          1.7836424743897554,
          1.7050711658750761,
          2.0232344874056816,
          2.205680687495938,
          2.1715116241664383,
          1.5835690324135638,
          1.0656490790447863,
          0.8449220416723394,
          1.9274303799611379,
          1.8424003400772775,
          2.0090349724392573,
          1.3125009630585187,
          0.8255673291381561,
          1.2400133851911501,
          1.3418010110571237,
          -0.9548712423275117,
          0.28051516243332686,
          0.45589960495084303,
          -0.04180753981802375,
          -0.043454082322605635,
          1.1382596128222702,
          0.5358606324571142,
          0.035464794515611416,
          -0.22994680784223304,
          -0.5647312521852714,
          0.622162642316137,
          -0.8921332540665712,
          0.4934773707581297,
          0.33583190890043985,
          0.0014838290646109343,
          -0.4765564490982787,
          -0.8448059378525163,
          -0.7033879883662709,
          -0.05711951422719375,
          0.01890778608226496,
          -0.5438246284401622,
          -0.6419414770535792,
          -0.9033013766285666,
          -0.6373854809111569,
          -0.4565410805689251,
          -0.5730667974493526,
          0.13838462583574498,
          0.7028844179449769,
          -0.8310735558464718,
          -0.6803916826523227,
          -0.6639812987716027,
          0.18182383438444333,
          -0.5975522904980415,
          -0.6803529798702498,
          -0.9000858945038492,
          -0.8695655035076317,
          -0.901315538504906,
          -0.3101310245623727,
          -1.4024391299408305,
          -1.3836611538878454,
          0.24300737165451552,
          -0.865735067860948,
          -1.1343893595241143,
          -1.1831269951009487,
          -1.0774637307442498,
          -0.2302240588318395,
          -1.3643437993340608,
          0.1946894575213927,
          -0.6657633126769088,
          -0.9526624848903337,
          -0.24938306614677389,
          -0.546233901638181,
          -0.6581461694961046,
          0.9847529679272189,
          -0.8477465986250363,
          -0.6081684833910217,
          0.2827774014347927,
          -1.3024974168783492,
          -0.7678514830652007,
          -1.1206671649331457,
          -1.208669516100077,
          -1.1747656914848847,
          0.11738470018073716,
          0.6631359976059288,
          -0.3757918696780955,
          -0.09904119415014753,
          -0.22170254223361455,
          -0.7964968798506339,
          -0.7813598390769764,
          -0.5760780444236835,
          -1.2465716026538567,
          -1.2733919839582715,
          -0.06641260338746098,
          -0.6429277864815851,
          -1.3476147622158514,
          -1.0383378118215698,
          -1.1439425381498158,
          -1.3163852637328892,
          -0.2401620319660303,
          -1.0985370437572568,
          -0.6859331897246643,
          -0.8000054116940196,
          -1.1716224595484603,
          -1.2459616007084795,
          -1.183120955691874,
          0.1184476894250234,
          -1.074834626712761,
          -1.018303994835368,
          0.7119487479506225,
          0.21019144684223565,
          -0.03723478249683049,
          -0.8312148080119293,
          -0.07597849202451003,
          -0.5426923616511136,
          -1.1850811809292456,
          -1.1247929828229555,
          -0.8924012361639907,
          -1.0092181481457057,
          -0.7337429475685675,
          -0.9920979643224627,
          -0.10755176092971798,
          -0.6812465975137608,
          -1.0817165507307511,
          -1.250744390363617,
          -1.0642077531973524,
          -1.2920494223590977,
          -0.8565008406139715,
          -1.4536207982734528,
          -1.2808351412577583,
          -1.198167203468849,
          -0.5367965483003608,
          -1.2594254790104038,
          -1.374932311355924,
          -1.0126922615888843,
          1.3306919365514172,
          2.225865804501945,
          2.2884025223718285,
          2.537278143681823,
          -1.36163317499136,
          -1.0563102969299942,
          -0.3827028476264218,
          -0.945506188922139,
          -1.0782766619270727,
          -0.763914925466357,
          -1.3521695798749969,
          -0.17448321466246525,
          -0.17660537528721643,
          -0.256216419868812,
          -0.8367738007957795,
          -0.5556874893432492,
          0.6198053593563561,
          -0.5849703883238309,
          -0.8888690669875318,
          -0.9414771107697821,
          0.25786474491043077,
          0.8270229322509042,
          0.6026698284905444,
          0.4525977843573021,
          1.8269526485588876,
          0.3153932075476958,
          1.9017507345834945,
          1.6197218593294567,
          1.247418735226473,
          2.1371897859491797,
          0.4383904065626343,
          -0.3173487678689919,
          1.1498494092292053,
          0.6263732421524841,
          0.7834573998248294,
          0.213117310884682,
          0.7612025505621709,
          -1.2310972979983905,
          -1.0287800024670455,
          -1.3438732399976079,
          -1.2490796256034082,
          -1.5032304456623122,
          0.255952742235144,
          -0.9181242828565992,
          -1.2484616396951735,
          -1.387126864861877,
          -0.5588738837253546,
          -0.8447093185072994,
          -0.6525092224023513,
          0.003755333333790615,
          -0.06437641491923062,
          -0.4586950287429286,
          0.5655525050079675,
          0.14886431458832958,
          1.9165147047372728,
          -0.5520607731433764,
          -0.8665174120226569,
          0.24557006740058984,
          -0.6641900420123495
         ],
         "xaxis": "x",
         "y": [
          0.806299978323345,
          0.5349393015194553,
          0.44599647582055696,
          -0.1793164740659275,
          -0.01769137499653219,
          0.41058465151014867,
          0.805030540193982,
          0.12616875832724325,
          0.8936856326076474,
          1.1937107915376588,
          0.7543189999854552,
          0.653749589826394,
          -0.40550348727951807,
          0.8244221157527419,
          1.1307142036472466,
          0.970872373665378,
          0.6870530098903527,
          1.195575934707533,
          1.1014896400520062,
          1.09681677806123,
          0.928080826381978,
          0.592134280152459,
          0.47562555173320953,
          0.8055763977577076,
          -0.21780703784143277,
          1.2914241376495152,
          1.1831144068745167,
          -0.5134561925369533,
          -0.4383503902814716,
          0.08477690193539078,
          1.103084930273736,
          0.7287044565318851,
          0.6734756931322404,
          0.42412801326183636,
          -0.013412536420554465,
          0.09348723252204139,
          -0.03126620346800106,
          0.10622988467370176,
          0.3204061571457269,
          0.04114621084721529,
          0.5441166678972398,
          1.269412365700332,
          0.3890853714637924,
          1.3999182962166496,
          1.1725030213949628,
          0.9124573390427227,
          -0.2635571307489102,
          -0.14931406519656187,
          0.3993865877828994,
          -0.6724918539388018,
          0.1351975030420144,
          0.047011905832725895,
          -0.1034344742114677,
          0.07328075642167255,
          0.32664796588263395,
          0.9212580426971713,
          0.5885945269887833,
          0.10348473039158303,
          -0.6219532435292111,
          -0.12463045518885603,
          1.445186660804491,
          -0.6688011664810389,
          -0.04205386096823332,
          0.4802884413187154,
          -0.49455504022883073,
          -0.596022913019379,
          -0.6381787404578652,
          -0.29860595583620336,
          -0.3356644082449101,
          -0.4823523671241202,
          -0.7220396281382598,
          0.6144407438954747,
          1.0530064676844941,
          0.24200873578627774,
          0.6064978297019271,
          0.7980160729786023,
          -0.4227843487238337,
          -0.40063968867330546,
          0.4778627000862738,
          -0.14439306931082832,
          0.3795655702604848,
          -0.30418728276073764,
          0.11483956569065727,
          0.3615664495193163,
          -0.013911891146466918,
          -0.7044141398075099,
          -0.2800072149436896,
          -0.5814248610672074,
          0.35722150296692495,
          0.6063673720815981,
          0.709087978250995,
          -0.7611222046166933,
          0.3774782018983608,
          0.6079010048661659,
          0.2716194987998772,
          -0.5090884148566687,
          -0.9437509369766337,
          -0.7378243749433759,
          -0.15552435429764988,
          -0.30806304786888233,
          -0.5554189723270366,
          0.3185146583820584,
          0.7247207402148527,
          0.16510974164216402,
          0.1817870913356511,
          0.2919149709822771,
          0.2558480997560535,
          -0.4853326660958113,
          -0.4555442915210945,
          -0.6267123830101081,
          -0.32423207220716815,
          -0.6495348163603091,
          -0.5969335909333425,
          -0.6950982002260162,
          -0.8039023492315185,
          -0.8463540031478058,
          -0.5639906220731845,
          -0.7322479489843708,
          -0.8044673584062482,
          -0.7676345699736715,
          -0.7355576384336225,
          -0.6130992848679153,
          -0.8059487000352696,
          -1.0556049319587602,
          -0.3043116814894053,
          0.1317347249774442,
          -0.6293984293686756,
          -0.5393492189955894,
          -0.7495620564751544,
          -0.35019237233317807,
          0.11443426324989052,
          0.4067915046809062,
          0.12000357637589167,
          -0.31145674429000497,
          0.496994593824929,
          -0.28021741711873244,
          0.24619949230250915,
          0.41604679114290544,
          -0.1015905721393609,
          -0.1843634912628376,
          0.06159704164544002,
          0.44138833394384336,
          0.059973938363108076,
          0.04652081222635425,
          -0.10196749287086464,
          0.10470188666250062,
          0.6006534161589127,
          0.7506775637707709,
          0.5835619850401902,
          0.28478019992150755,
          -0.36648661318174,
          -0.1903221685965428,
          -0.005708674005146361,
          -0.10585684802205063,
          -0.12671836662788946,
          -0.1988475305088498,
          0.3782128639469237,
          0.07549035300725004,
          0.18313485776756228,
          0.8155829016706871,
          1.1102009563266175,
          -0.3568756115783724,
          0.4047238529565508,
          0.918537119146883,
          0.9728554455323954,
          0.5560639138111109,
          0.765225898098094,
          0.04022404594353627,
          0.35508548416671015,
          0.22162661818381768,
          0.8284947314030138,
          -0.6537694487278716,
          -0.7383699243435852,
          -0.42551296308643355,
          -0.32512834768898924,
          -0.6807920469417668,
          -0.5458966020931459,
          -0.4685939823007847,
          -0.06288028325875307,
          -0.8312861038801539,
          0.045713707932120505,
          0.24051550785415066,
          0.0009869988782313435,
          0.8479540938652118,
          -0.295818599313753,
          0.24241513541459378,
          -0.14631157145142862,
          0.12418188909830893,
          0.46810003866105077,
          0.42128334238073467,
          -0.6733519755899642,
          -0.2765333786047671,
          -0.5454340157723812,
          -0.4841277030800287,
          -0.06445174613844017,
          0.8740842671779211,
          -0.3193841475305961,
          0.2066563044923224,
          0.27398222527272015,
          0.4397866282894236,
          -0.20782386304993866,
          -0.2656628069820084,
          0.28919558193670014,
          -0.6545853993429349,
          -0.7103354798988762,
          0.3576148822363461,
          0.36183146193320953,
          -0.6692418085540119,
          -0.20552626434165477,
          -0.5864409628256706,
          -0.8377849417368702,
          0.0935487716687992,
          -0.44900336834152127,
          -0.5901441113090965,
          -0.3917681463328883,
          -0.7674141328637799,
          -0.790765429939808,
          -0.8054599803417316,
          -0.016931352592281845,
          -0.5094929728558609,
          -0.6637113450865609,
          0.4886784692452135,
          1.1508499654648823,
          1.2183994258112232,
          -0.11215989769980683,
          0.023045464500308907,
          0.3967862844815681,
          -0.4159882474359355,
          -0.8105737967963041,
          -0.40881540860361004,
          -0.33478534934271587,
          -0.25903853410658934,
          -0.5578357298097841,
          0.1675564582240629,
          0.10479074786371335,
          -0.7038937850573096,
          -0.6664356234858254,
          -0.7291521011755766,
          -0.8782459950638907,
          -0.6307671049443168,
          -0.810023494543922,
          -0.8434386949904867,
          -0.5271644224958127,
          -0.043817908560705866,
          -0.6967171431930672,
          -0.7286831182420442,
          -0.2891920808217153,
          -0.7227639140117216,
          -0.6673439667575884,
          -0.6187829202613706,
          -0.9053475762065974,
          -0.5820089421166709,
          -0.39687302140975966,
          0.3460011652400142,
          -0.3769561957580825,
          -0.6806714700365031,
          -0.2511242329470653,
          -0.8174237112388035,
          0.20987101615847012,
          1.009957317130405,
          1.0322876884571575,
          0.31568090709172775,
          0.28970097830594943,
          1.1529544549991322,
          0.13115219815923157,
          -0.14008448310831018,
          -0.27458446774217077,
          0.9810726152811008,
          1.1131847799044698,
          1.0469350506714832,
          0.9777811142701341,
          -0.7656895311483325,
          -0.7390406014244911,
          -0.5453813327248558,
          -0.6452777304513234,
          -0.5972468033648282,
          -0.7252665042150467,
          -0.18547157900937017,
          0.06888428902178695,
          -0.68618385886783,
          -0.37218942002373007,
          0.4804271284122918,
          0.9516738981098124,
          -0.5462149460677708,
          -0.6332873184204082,
          -0.4614251128926636,
          -0.8623589229915303,
          -0.7264368586825095,
          -0.7802563375255952,
          -0.029181224468502555,
          -0.23476004348722218,
          -0.7158566990527655,
          -0.8675102170516804,
          -0.3451099096885358,
          -0.228025450820487,
          0.7335081177022897,
          0.10556960418357397,
          0.4263760868686934,
          1.1067314536342658,
          1.0773970308375467,
          0.8412009169066555,
          -0.7321100938004265,
          -0.3526133465237766,
          -0.30215238181881504,
          0.018321377007454998,
          -0.014265755706041225
         ],
         "yaxis": "y"
        }
       ],
       "layout": {
        "coloraxis": {
         "colorbar": {
          "title": {
           "text": "cluster"
          }
         },
         "colorscale": [
          [
           0,
           "#0d0887"
          ],
          [
           0.1111111111111111,
           "#46039f"
          ],
          [
           0.2222222222222222,
           "#7201a8"
          ],
          [
           0.3333333333333333,
           "#9c179e"
          ],
          [
           0.4444444444444444,
           "#bd3786"
          ],
          [
           0.5555555555555556,
           "#d8576b"
          ],
          [
           0.6666666666666666,
           "#ed7953"
          ],
          [
           0.7777777777777778,
           "#fb9f3a"
          ],
          [
           0.8888888888888888,
           "#fdca26"
          ],
          [
           1,
           "#f0f921"
          ]
         ]
        },
        "legend": {
         "tracegroupgap": 0
        },
        "margin": {
         "t": 60
        },
        "template": {
         "data": {
          "bar": [
           {
            "error_x": {
             "color": "#2a3f5f"
            },
            "error_y": {
             "color": "#2a3f5f"
            },
            "marker": {
             "line": {
              "color": "#E5ECF6",
              "width": 0.5
             },
             "pattern": {
              "fillmode": "overlay",
              "size": 10,
              "solidity": 0.2
             }
            },
            "type": "bar"
           }
          ],
          "barpolar": [
           {
            "marker": {
             "line": {
              "color": "#E5ECF6",
              "width": 0.5
             },
             "pattern": {
              "fillmode": "overlay",
              "size": 10,
              "solidity": 0.2
             }
            },
            "type": "barpolar"
           }
          ],
          "carpet": [
           {
            "aaxis": {
             "endlinecolor": "#2a3f5f",
             "gridcolor": "white",
             "linecolor": "white",
             "minorgridcolor": "white",
             "startlinecolor": "#2a3f5f"
            },
            "baxis": {
             "endlinecolor": "#2a3f5f",
             "gridcolor": "white",
             "linecolor": "white",
             "minorgridcolor": "white",
             "startlinecolor": "#2a3f5f"
            },
            "type": "carpet"
           }
          ],
          "choropleth": [
           {
            "colorbar": {
             "outlinewidth": 0,
             "ticks": ""
            },
            "type": "choropleth"
           }
          ],
          "contour": [
           {
            "colorbar": {
             "outlinewidth": 0,
             "ticks": ""
            },
            "colorscale": [
             [
              0,
              "#0d0887"
             ],
             [
              0.1111111111111111,
              "#46039f"
             ],
             [
              0.2222222222222222,
              "#7201a8"
             ],
             [
              0.3333333333333333,
              "#9c179e"
             ],
             [
              0.4444444444444444,
              "#bd3786"
             ],
             [
              0.5555555555555556,
              "#d8576b"
             ],
             [
              0.6666666666666666,
              "#ed7953"
             ],
             [
              0.7777777777777778,
              "#fb9f3a"
             ],
             [
              0.8888888888888888,
              "#fdca26"
             ],
             [
              1,
              "#f0f921"
             ]
            ],
            "type": "contour"
           }
          ],
          "contourcarpet": [
           {
            "colorbar": {
             "outlinewidth": 0,
             "ticks": ""
            },
            "type": "contourcarpet"
           }
          ],
          "heatmap": [
           {
            "colorbar": {
             "outlinewidth": 0,
             "ticks": ""
            },
            "colorscale": [
             [
              0,
              "#0d0887"
             ],
             [
              0.1111111111111111,
              "#46039f"
             ],
             [
              0.2222222222222222,
              "#7201a8"
             ],
             [
              0.3333333333333333,
              "#9c179e"
             ],
             [
              0.4444444444444444,
              "#bd3786"
             ],
             [
              0.5555555555555556,
              "#d8576b"
             ],
             [
              0.6666666666666666,
              "#ed7953"
             ],
             [
              0.7777777777777778,
              "#fb9f3a"
             ],
             [
              0.8888888888888888,
              "#fdca26"
             ],
             [
              1,
              "#f0f921"
             ]
            ],
            "type": "heatmap"
           }
          ],
          "heatmapgl": [
           {
            "colorbar": {
             "outlinewidth": 0,
             "ticks": ""
            },
            "colorscale": [
             [
              0,
              "#0d0887"
             ],
             [
              0.1111111111111111,
              "#46039f"
             ],
             [
              0.2222222222222222,
              "#7201a8"
             ],
             [
              0.3333333333333333,
              "#9c179e"
             ],
             [
              0.4444444444444444,
              "#bd3786"
             ],
             [
              0.5555555555555556,
              "#d8576b"
             ],
             [
              0.6666666666666666,
              "#ed7953"
             ],
             [
              0.7777777777777778,
              "#fb9f3a"
             ],
             [
              0.8888888888888888,
              "#fdca26"
             ],
             [
              1,
              "#f0f921"
             ]
            ],
            "type": "heatmapgl"
           }
          ],
          "histogram": [
           {
            "marker": {
             "pattern": {
              "fillmode": "overlay",
              "size": 10,
              "solidity": 0.2
             }
            },
            "type": "histogram"
           }
          ],
          "histogram2d": [
           {
            "colorbar": {
             "outlinewidth": 0,
             "ticks": ""
            },
            "colorscale": [
             [
              0,
              "#0d0887"
             ],
             [
              0.1111111111111111,
              "#46039f"
             ],
             [
              0.2222222222222222,
              "#7201a8"
             ],
             [
              0.3333333333333333,
              "#9c179e"
             ],
             [
              0.4444444444444444,
              "#bd3786"
             ],
             [
              0.5555555555555556,
              "#d8576b"
             ],
             [
              0.6666666666666666,
              "#ed7953"
             ],
             [
              0.7777777777777778,
              "#fb9f3a"
             ],
             [
              0.8888888888888888,
              "#fdca26"
             ],
             [
              1,
              "#f0f921"
             ]
            ],
            "type": "histogram2d"
           }
          ],
          "histogram2dcontour": [
           {
            "colorbar": {
             "outlinewidth": 0,
             "ticks": ""
            },
            "colorscale": [
             [
              0,
              "#0d0887"
             ],
             [
              0.1111111111111111,
              "#46039f"
             ],
             [
              0.2222222222222222,
              "#7201a8"
             ],
             [
              0.3333333333333333,
              "#9c179e"
             ],
             [
              0.4444444444444444,
              "#bd3786"
             ],
             [
              0.5555555555555556,
              "#d8576b"
             ],
             [
              0.6666666666666666,
              "#ed7953"
             ],
             [
              0.7777777777777778,
              "#fb9f3a"
             ],
             [
              0.8888888888888888,
              "#fdca26"
             ],
             [
              1,
              "#f0f921"
             ]
            ],
            "type": "histogram2dcontour"
           }
          ],
          "mesh3d": [
           {
            "colorbar": {
             "outlinewidth": 0,
             "ticks": ""
            },
            "type": "mesh3d"
           }
          ],
          "parcoords": [
           {
            "line": {
             "colorbar": {
              "outlinewidth": 0,
              "ticks": ""
             }
            },
            "type": "parcoords"
           }
          ],
          "pie": [
           {
            "automargin": true,
            "type": "pie"
           }
          ],
          "scatter": [
           {
            "fillpattern": {
             "fillmode": "overlay",
             "size": 10,
             "solidity": 0.2
            },
            "type": "scatter"
           }
          ],
          "scatter3d": [
           {
            "line": {
             "colorbar": {
              "outlinewidth": 0,
              "ticks": ""
             }
            },
            "marker": {
             "colorbar": {
              "outlinewidth": 0,
              "ticks": ""
             }
            },
            "type": "scatter3d"
           }
          ],
          "scattercarpet": [
           {
            "marker": {
             "colorbar": {
              "outlinewidth": 0,
              "ticks": ""
             }
            },
            "type": "scattercarpet"
           }
          ],
          "scattergeo": [
           {
            "marker": {
             "colorbar": {
              "outlinewidth": 0,
              "ticks": ""
             }
            },
            "type": "scattergeo"
           }
          ],
          "scattergl": [
           {
            "marker": {
             "colorbar": {
              "outlinewidth": 0,
              "ticks": ""
             }
            },
            "type": "scattergl"
           }
          ],
          "scattermapbox": [
           {
            "marker": {
             "colorbar": {
              "outlinewidth": 0,
              "ticks": ""
             }
            },
            "type": "scattermapbox"
           }
          ],
          "scatterpolar": [
           {
            "marker": {
             "colorbar": {
              "outlinewidth": 0,
              "ticks": ""
             }
            },
            "type": "scatterpolar"
           }
          ],
          "scatterpolargl": [
           {
            "marker": {
             "colorbar": {
              "outlinewidth": 0,
              "ticks": ""
             }
            },
            "type": "scatterpolargl"
           }
          ],
          "scatterternary": [
           {
            "marker": {
             "colorbar": {
              "outlinewidth": 0,
              "ticks": ""
             }
            },
            "type": "scatterternary"
           }
          ],
          "surface": [
           {
            "colorbar": {
             "outlinewidth": 0,
             "ticks": ""
            },
            "colorscale": [
             [
              0,
              "#0d0887"
             ],
             [
              0.1111111111111111,
              "#46039f"
             ],
             [
              0.2222222222222222,
              "#7201a8"
             ],
             [
              0.3333333333333333,
              "#9c179e"
             ],
             [
              0.4444444444444444,
              "#bd3786"
             ],
             [
              0.5555555555555556,
              "#d8576b"
             ],
             [
              0.6666666666666666,
              "#ed7953"
             ],
             [
              0.7777777777777778,
              "#fb9f3a"
             ],
             [
              0.8888888888888888,
              "#fdca26"
             ],
             [
              1,
              "#f0f921"
             ]
            ],
            "type": "surface"
           }
          ],
          "table": [
           {
            "cells": {
             "fill": {
              "color": "#EBF0F8"
             },
             "line": {
              "color": "white"
             }
            },
            "header": {
             "fill": {
              "color": "#C8D4E3"
             },
             "line": {
              "color": "white"
             }
            },
            "type": "table"
           }
          ]
         },
         "layout": {
          "annotationdefaults": {
           "arrowcolor": "#2a3f5f",
           "arrowhead": 0,
           "arrowwidth": 1
          },
          "autotypenumbers": "strict",
          "coloraxis": {
           "colorbar": {
            "outlinewidth": 0,
            "ticks": ""
           }
          },
          "colorscale": {
           "diverging": [
            [
             0,
             "#8e0152"
            ],
            [
             0.1,
             "#c51b7d"
            ],
            [
             0.2,
             "#de77ae"
            ],
            [
             0.3,
             "#f1b6da"
            ],
            [
             0.4,
             "#fde0ef"
            ],
            [
             0.5,
             "#f7f7f7"
            ],
            [
             0.6,
             "#e6f5d0"
            ],
            [
             0.7,
             "#b8e186"
            ],
            [
             0.8,
             "#7fbc41"
            ],
            [
             0.9,
             "#4d9221"
            ],
            [
             1,
             "#276419"
            ]
           ],
           "sequential": [
            [
             0,
             "#0d0887"
            ],
            [
             0.1111111111111111,
             "#46039f"
            ],
            [
             0.2222222222222222,
             "#7201a8"
            ],
            [
             0.3333333333333333,
             "#9c179e"
            ],
            [
             0.4444444444444444,
             "#bd3786"
            ],
            [
             0.5555555555555556,
             "#d8576b"
            ],
            [
             0.6666666666666666,
             "#ed7953"
            ],
            [
             0.7777777777777778,
             "#fb9f3a"
            ],
            [
             0.8888888888888888,
             "#fdca26"
            ],
            [
             1,
             "#f0f921"
            ]
           ],
           "sequentialminus": [
            [
             0,
             "#0d0887"
            ],
            [
             0.1111111111111111,
             "#46039f"
            ],
            [
             0.2222222222222222,
             "#7201a8"
            ],
            [
             0.3333333333333333,
             "#9c179e"
            ],
            [
             0.4444444444444444,
             "#bd3786"
            ],
            [
             0.5555555555555556,
             "#d8576b"
            ],
            [
             0.6666666666666666,
             "#ed7953"
            ],
            [
             0.7777777777777778,
             "#fb9f3a"
            ],
            [
             0.8888888888888888,
             "#fdca26"
            ],
            [
             1,
             "#f0f921"
            ]
           ]
          },
          "colorway": [
           "#636efa",
           "#EF553B",
           "#00cc96",
           "#ab63fa",
           "#FFA15A",
           "#19d3f3",
           "#FF6692",
           "#B6E880",
           "#FF97FF",
           "#FECB52"
          ],
          "font": {
           "color": "#2a3f5f"
          },
          "geo": {
           "bgcolor": "white",
           "lakecolor": "white",
           "landcolor": "#E5ECF6",
           "showlakes": true,
           "showland": true,
           "subunitcolor": "white"
          },
          "hoverlabel": {
           "align": "left"
          },
          "hovermode": "closest",
          "mapbox": {
           "style": "light"
          },
          "paper_bgcolor": "white",
          "plot_bgcolor": "#E5ECF6",
          "polar": {
           "angularaxis": {
            "gridcolor": "white",
            "linecolor": "white",
            "ticks": ""
           },
           "bgcolor": "#E5ECF6",
           "radialaxis": {
            "gridcolor": "white",
            "linecolor": "white",
            "ticks": ""
           }
          },
          "scene": {
           "xaxis": {
            "backgroundcolor": "#E5ECF6",
            "gridcolor": "white",
            "gridwidth": 2,
            "linecolor": "white",
            "showbackground": true,
            "ticks": "",
            "zerolinecolor": "white"
           },
           "yaxis": {
            "backgroundcolor": "#E5ECF6",
            "gridcolor": "white",
            "gridwidth": 2,
            "linecolor": "white",
            "showbackground": true,
            "ticks": "",
            "zerolinecolor": "white"
           },
           "zaxis": {
            "backgroundcolor": "#E5ECF6",
            "gridcolor": "white",
            "gridwidth": 2,
            "linecolor": "white",
            "showbackground": true,
            "ticks": "",
            "zerolinecolor": "white"
           }
          },
          "shapedefaults": {
           "line": {
            "color": "#2a3f5f"
           }
          },
          "ternary": {
           "aaxis": {
            "gridcolor": "white",
            "linecolor": "white",
            "ticks": ""
           },
           "baxis": {
            "gridcolor": "white",
            "linecolor": "white",
            "ticks": ""
           },
           "bgcolor": "#E5ECF6",
           "caxis": {
            "gridcolor": "white",
            "linecolor": "white",
            "ticks": ""
           }
          },
          "title": {
           "x": 0.05
          },
          "xaxis": {
           "automargin": true,
           "gridcolor": "white",
           "linecolor": "white",
           "ticks": "",
           "title": {
            "standoff": 15
           },
           "zerolinecolor": "white",
           "zerolinewidth": 2
          },
          "yaxis": {
           "automargin": true,
           "gridcolor": "white",
           "linecolor": "white",
           "ticks": "",
           "title": {
            "standoff": 15
           },
           "zerolinecolor": "white",
           "zerolinewidth": 2
          }
         }
        },
        "xaxis": {
         "anchor": "y",
         "domain": [
          0,
          1
         ],
         "title": {
          "text": "PC1"
         }
        },
        "yaxis": {
         "anchor": "x",
         "domain": [
          0,
          1
         ],
         "title": {
          "text": "PC2"
         }
        }
       }
      }
     },
     "metadata": {},
     "output_type": "display_data"
    }
   ],
   "source": [
    "# With PC3, best values are eps:1.6 and min 4\n",
    "DBSCANplot(features_pca, .45,6)"
   ]
  },
  {
   "cell_type": "code",
   "execution_count": 28,
   "metadata": {},
   "outputs": [],
   "source": [
    "num_top_venues = 5"
   ]
  },
  {
   "cell_type": "markdown",
   "metadata": {},
   "source": [
    "# We need to remove the venue counts, it's distorting the data"
   ]
  },
  {
   "cell_type": "markdown",
   "metadata": {},
   "source": [
    "### Google"
   ]
  },
  {
   "cell_type": "code",
   "execution_count": 29,
   "metadata": {},
   "outputs": [
    {
     "ename": "NameError",
     "evalue": "name 'features_1km' is not defined",
     "output_type": "error",
     "traceback": [
      "\u001b[0;31m---------------------------------------------------------------------------\u001b[0m",
      "\u001b[0;31mNameError\u001b[0m                                 Traceback (most recent call last)",
      "\u001b[1;32m/Users/niclapenna/Documents/GitHub/nyc_clustering/NYC_midterm_project/src/dbscan_V2.ipynb Cell 33'\u001b[0m in \u001b[0;36m<cell line: 1>\u001b[0;34m()\u001b[0m\n\u001b[0;32m----> <a href='vscode-notebook-cell:/Users/niclapenna/Documents/GitHub/nyc_clustering/NYC_midterm_project/src/dbscan_V2.ipynb#ch0000032?line=0'>1</a>\u001b[0m features_1km\u001b[39m.\u001b[39msum()\u001b[39m.\u001b[39msort_values(ascending\u001b[39m=\u001b[39m\u001b[39mFalse\u001b[39;00m)[:\u001b[39m30\u001b[39m]\u001b[39m.\u001b[39mkeys()\n",
      "\u001b[0;31mNameError\u001b[0m: name 'features_1km' is not defined"
     ]
    }
   ],
   "source": [
    "features_1km.sum().sort_values(ascending=False)[:30].keys()"
   ]
  },
  {
   "cell_type": "code",
   "execution_count": null,
   "metadata": {},
   "outputs": [],
   "source": [
    "['lodging', 'restaurant', 'school', 'health', 'bar', 'church', 'bank', 'store',\n",
    "       'clothing', 'tourist attraction', 'gym', 'lawyer', 'bakery',\n",
    "       'cafe', 'department store', 'university', 'local government office',\n",
    "       'electronics store', 'park', 'drugstore', 'supermarket']"
   ]
  }
 ],
 "metadata": {
  "interpreter": {
   "hash": "5eaee7f08749df7acde7defcf9c75ec9e0490b46ee4fb9b854947ce622c4fcf4"
  },
  "kernelspec": {
   "display_name": "Python 3.8.2 ('lhl_env')",
   "language": "python",
   "name": "python3"
  },
  "language_info": {
   "codemirror_mode": {
    "name": "ipython",
    "version": 3
   },
   "file_extension": ".py",
   "mimetype": "text/x-python",
   "name": "python",
   "nbconvert_exporter": "python",
   "pygments_lexer": "ipython3",
   "version": "3.8.2"
  },
  "orig_nbformat": 4
 },
 "nbformat": 4,
 "nbformat_minor": 2
}
