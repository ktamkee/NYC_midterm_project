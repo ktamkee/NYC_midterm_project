{
 "cells": [
  {
   "cell_type": "markdown",
   "metadata": {},
   "source": [
    "# Clustering\n",
    "In this file, instructions how to approach the challenge can be found.\n",
    "\n",
    "We can use different types of clustering algorithms:\n",
    "\n",
    "- KMeans\n",
    "- Hierarchical\n",
    "- DBScan"
   ]
  },
  {
   "cell_type": "code",
   "execution_count": 19,
   "metadata": {},
   "outputs": [],
   "source": [
    "import pandas as pd\n",
    "import numpy as np\n",
    "import matplotlib.pyplot as plt\n",
    "import seaborn as sns"
   ]
  },
  {
   "cell_type": "markdown",
   "metadata": {},
   "source": [
    "## K-Means Clustering"
   ]
  },
  {
   "cell_type": "code",
   "execution_count": 20,
   "metadata": {},
   "outputs": [],
   "source": [
    "from sklearn.cluster import KMeans\n",
    "import plotly.graph_objects as go"
   ]
  },
  {
   "cell_type": "code",
   "execution_count": 21,
   "metadata": {},
   "outputs": [
    {
     "data": {
      "text/html": [
       "<div>\n",
       "<style scoped>\n",
       "    .dataframe tbody tr th:only-of-type {\n",
       "        vertical-align: middle;\n",
       "    }\n",
       "\n",
       "    .dataframe tbody tr th {\n",
       "        vertical-align: top;\n",
       "    }\n",
       "\n",
       "    .dataframe thead th {\n",
       "        text-align: right;\n",
       "    }\n",
       "</style>\n",
       "<table border=\"1\" class=\"dataframe\">\n",
       "  <thead>\n",
       "    <tr style=\"text-align: right;\">\n",
       "      <th></th>\n",
       "      <th>id</th>\n",
       "      <th>borough</th>\n",
       "      <th>neighborhood</th>\n",
       "      <th>longitude</th>\n",
       "      <th>latitude</th>\n",
       "    </tr>\n",
       "  </thead>\n",
       "  <tbody>\n",
       "    <tr>\n",
       "      <th>0</th>\n",
       "      <td>nyu_2451_34572.1</td>\n",
       "      <td>Bronx</td>\n",
       "      <td>Wakefield</td>\n",
       "      <td>-73.847201</td>\n",
       "      <td>40.894705</td>\n",
       "    </tr>\n",
       "    <tr>\n",
       "      <th>1</th>\n",
       "      <td>nyu_2451_34572.2</td>\n",
       "      <td>Bronx</td>\n",
       "      <td>Co-op City</td>\n",
       "      <td>-73.829939</td>\n",
       "      <td>40.874294</td>\n",
       "    </tr>\n",
       "    <tr>\n",
       "      <th>2</th>\n",
       "      <td>nyu_2451_34572.3</td>\n",
       "      <td>Bronx</td>\n",
       "      <td>Eastchester</td>\n",
       "      <td>-73.827806</td>\n",
       "      <td>40.887556</td>\n",
       "    </tr>\n",
       "    <tr>\n",
       "      <th>3</th>\n",
       "      <td>nyu_2451_34572.4</td>\n",
       "      <td>Bronx</td>\n",
       "      <td>Fieldston</td>\n",
       "      <td>-73.905643</td>\n",
       "      <td>40.895437</td>\n",
       "    </tr>\n",
       "    <tr>\n",
       "      <th>4</th>\n",
       "      <td>nyu_2451_34572.5</td>\n",
       "      <td>Bronx</td>\n",
       "      <td>Riverdale</td>\n",
       "      <td>-73.912585</td>\n",
       "      <td>40.890834</td>\n",
       "    </tr>\n",
       "  </tbody>\n",
       "</table>\n",
       "</div>"
      ],
      "text/plain": [
       "                 id borough neighborhood  longitude   latitude\n",
       "0  nyu_2451_34572.1   Bronx    Wakefield -73.847201  40.894705\n",
       "1  nyu_2451_34572.2   Bronx   Co-op City -73.829939  40.874294\n",
       "2  nyu_2451_34572.3   Bronx  Eastchester -73.827806  40.887556\n",
       "3  nyu_2451_34572.4   Bronx    Fieldston -73.905643  40.895437\n",
       "4  nyu_2451_34572.5   Bronx    Riverdale -73.912585  40.890834"
      ]
     },
     "execution_count": 21,
     "metadata": {},
     "output_type": "execute_result"
    }
   ],
   "source": [
    "# Import neighborhood data\n",
    "neighborhoods= pd.read_csv('/Users/karina/GitHub/NYC_midterm_project/data/final_datasets/neighborhood_geo.csv')\n",
    "neighborhoods.head()"
   ]
  },
  {
   "cell_type": "code",
   "execution_count": 22,
   "metadata": {},
   "outputs": [
    {
     "data": {
      "text/html": [
       "<div>\n",
       "<style scoped>\n",
       "    .dataframe tbody tr th:only-of-type {\n",
       "        vertical-align: middle;\n",
       "    }\n",
       "\n",
       "    .dataframe tbody tr th {\n",
       "        vertical-align: top;\n",
       "    }\n",
       "\n",
       "    .dataframe thead th {\n",
       "        text-align: right;\n",
       "    }\n",
       "</style>\n",
       "<table border=\"1\" class=\"dataframe\">\n",
       "  <thead>\n",
       "    <tr style=\"text-align: right;\">\n",
       "      <th></th>\n",
       "      <th>0</th>\n",
       "      <th>1</th>\n",
       "      <th>2</th>\n",
       "      <th>3</th>\n",
       "      <th>4</th>\n",
       "      <th>5</th>\n",
       "      <th>6</th>\n",
       "      <th>7</th>\n",
       "      <th>8</th>\n",
       "      <th>9</th>\n",
       "      <th>...</th>\n",
       "      <th>239</th>\n",
       "      <th>240</th>\n",
       "      <th>241</th>\n",
       "      <th>242</th>\n",
       "      <th>243</th>\n",
       "      <th>244</th>\n",
       "      <th>245</th>\n",
       "      <th>246</th>\n",
       "      <th>247</th>\n",
       "      <th>248</th>\n",
       "    </tr>\n",
       "  </thead>\n",
       "  <tbody>\n",
       "    <tr>\n",
       "      <th>0</th>\n",
       "      <td>0.742705</td>\n",
       "      <td>0.965681</td>\n",
       "      <td>0.150000</td>\n",
       "      <td>0.916667</td>\n",
       "      <td>0.433333</td>\n",
       "      <td>0.216667</td>\n",
       "      <td>0.166667</td>\n",
       "      <td>1.000000</td>\n",
       "      <td>0.200000</td>\n",
       "      <td>0.600000</td>\n",
       "      <td>...</td>\n",
       "      <td>0.0</td>\n",
       "      <td>0.0</td>\n",
       "      <td>0.0</td>\n",
       "      <td>0.0</td>\n",
       "      <td>0.0</td>\n",
       "      <td>0.0</td>\n",
       "      <td>0.0</td>\n",
       "      <td>0.0</td>\n",
       "      <td>0.0</td>\n",
       "      <td>0.0</td>\n",
       "    </tr>\n",
       "    <tr>\n",
       "      <th>1</th>\n",
       "      <td>0.774806</td>\n",
       "      <td>0.915060</td>\n",
       "      <td>0.083333</td>\n",
       "      <td>0.650000</td>\n",
       "      <td>0.433333</td>\n",
       "      <td>0.116667</td>\n",
       "      <td>0.066667</td>\n",
       "      <td>0.416667</td>\n",
       "      <td>0.250000</td>\n",
       "      <td>0.616667</td>\n",
       "      <td>...</td>\n",
       "      <td>0.0</td>\n",
       "      <td>0.0</td>\n",
       "      <td>0.0</td>\n",
       "      <td>0.0</td>\n",
       "      <td>0.0</td>\n",
       "      <td>0.0</td>\n",
       "      <td>0.0</td>\n",
       "      <td>0.0</td>\n",
       "      <td>0.0</td>\n",
       "      <td>0.0</td>\n",
       "    </tr>\n",
       "    <tr>\n",
       "      <th>2</th>\n",
       "      <td>0.778772</td>\n",
       "      <td>0.947950</td>\n",
       "      <td>0.050000</td>\n",
       "      <td>0.550000</td>\n",
       "      <td>0.266667</td>\n",
       "      <td>0.050000</td>\n",
       "      <td>0.183333</td>\n",
       "      <td>0.383333</td>\n",
       "      <td>0.066667</td>\n",
       "      <td>0.600000</td>\n",
       "      <td>...</td>\n",
       "      <td>0.0</td>\n",
       "      <td>0.0</td>\n",
       "      <td>0.0</td>\n",
       "      <td>0.0</td>\n",
       "      <td>0.0</td>\n",
       "      <td>0.0</td>\n",
       "      <td>0.0</td>\n",
       "      <td>0.0</td>\n",
       "      <td>0.0</td>\n",
       "      <td>0.0</td>\n",
       "    </tr>\n",
       "    <tr>\n",
       "      <th>3</th>\n",
       "      <td>0.634020</td>\n",
       "      <td>0.967497</td>\n",
       "      <td>0.033333</td>\n",
       "      <td>0.900000</td>\n",
       "      <td>0.450000</td>\n",
       "      <td>0.116667</td>\n",
       "      <td>0.233333</td>\n",
       "      <td>0.083333</td>\n",
       "      <td>0.400000</td>\n",
       "      <td>0.316667</td>\n",
       "      <td>...</td>\n",
       "      <td>0.0</td>\n",
       "      <td>0.0</td>\n",
       "      <td>0.0</td>\n",
       "      <td>0.0</td>\n",
       "      <td>0.0</td>\n",
       "      <td>0.0</td>\n",
       "      <td>0.0</td>\n",
       "      <td>0.0</td>\n",
       "      <td>0.0</td>\n",
       "      <td>0.0</td>\n",
       "    </tr>\n",
       "    <tr>\n",
       "      <th>4</th>\n",
       "      <td>0.621109</td>\n",
       "      <td>0.956082</td>\n",
       "      <td>0.050000</td>\n",
       "      <td>0.333333</td>\n",
       "      <td>0.416667</td>\n",
       "      <td>0.150000</td>\n",
       "      <td>0.266667</td>\n",
       "      <td>0.200000</td>\n",
       "      <td>0.383333</td>\n",
       "      <td>0.316667</td>\n",
       "      <td>...</td>\n",
       "      <td>0.0</td>\n",
       "      <td>0.0</td>\n",
       "      <td>0.0</td>\n",
       "      <td>0.0</td>\n",
       "      <td>0.0</td>\n",
       "      <td>0.0</td>\n",
       "      <td>0.0</td>\n",
       "      <td>0.0</td>\n",
       "      <td>0.0</td>\n",
       "      <td>0.0</td>\n",
       "    </tr>\n",
       "  </tbody>\n",
       "</table>\n",
       "<p>5 rows × 249 columns</p>\n",
       "</div>"
      ],
      "text/plain": [
       "          0         1         2         3         4         5         6  \\\n",
       "0  0.742705  0.965681  0.150000  0.916667  0.433333  0.216667  0.166667   \n",
       "1  0.774806  0.915060  0.083333  0.650000  0.433333  0.116667  0.066667   \n",
       "2  0.778772  0.947950  0.050000  0.550000  0.266667  0.050000  0.183333   \n",
       "3  0.634020  0.967497  0.033333  0.900000  0.450000  0.116667  0.233333   \n",
       "4  0.621109  0.956082  0.050000  0.333333  0.416667  0.150000  0.266667   \n",
       "\n",
       "          7         8         9  ...  239  240  241  242  243  244  245  246  \\\n",
       "0  1.000000  0.200000  0.600000  ...  0.0  0.0  0.0  0.0  0.0  0.0  0.0  0.0   \n",
       "1  0.416667  0.250000  0.616667  ...  0.0  0.0  0.0  0.0  0.0  0.0  0.0  0.0   \n",
       "2  0.383333  0.066667  0.600000  ...  0.0  0.0  0.0  0.0  0.0  0.0  0.0  0.0   \n",
       "3  0.083333  0.400000  0.316667  ...  0.0  0.0  0.0  0.0  0.0  0.0  0.0  0.0   \n",
       "4  0.200000  0.383333  0.316667  ...  0.0  0.0  0.0  0.0  0.0  0.0  0.0  0.0   \n",
       "\n",
       "   247  248  \n",
       "0  0.0  0.0  \n",
       "1  0.0  0.0  \n",
       "2  0.0  0.0  \n",
       "3  0.0  0.0  \n",
       "4  0.0  0.0  \n",
       "\n",
       "[5 rows x 249 columns]"
      ]
     },
     "execution_count": 22,
     "metadata": {},
     "output_type": "execute_result"
    }
   ],
   "source": [
    "# Import scaled feature data\n",
    "features_scaled = pd.read_csv('/Users/karina/GitHub/NYC_midterm_project/data/final_datasets/features_minmax_scaled.csv')\n",
    "features_scaled.head()"
   ]
  },
  {
   "cell_type": "code",
   "execution_count": 23,
   "metadata": {},
   "outputs": [
    {
     "data": {
      "text/html": [
       "<div>\n",
       "<style scoped>\n",
       "    .dataframe tbody tr th:only-of-type {\n",
       "        vertical-align: middle;\n",
       "    }\n",
       "\n",
       "    .dataframe tbody tr th {\n",
       "        vertical-align: top;\n",
       "    }\n",
       "\n",
       "    .dataframe thead th {\n",
       "        text-align: right;\n",
       "    }\n",
       "</style>\n",
       "<table border=\"1\" class=\"dataframe\">\n",
       "  <thead>\n",
       "    <tr style=\"text-align: right;\">\n",
       "      <th></th>\n",
       "      <th>id</th>\n",
       "      <th>1st Most Common Venue</th>\n",
       "      <th>2nd Most Common Venue</th>\n",
       "      <th>3rd Most Common Venue</th>\n",
       "      <th>4th Most Common Venue</th>\n",
       "      <th>5th Most Common Venue</th>\n",
       "    </tr>\n",
       "  </thead>\n",
       "  <tbody>\n",
       "    <tr>\n",
       "      <th>0</th>\n",
       "      <td>nyu_2451_34572.1</td>\n",
       "      <td>church</td>\n",
       "      <td>restaurant</td>\n",
       "      <td>store</td>\n",
       "      <td>school</td>\n",
       "      <td>clothing</td>\n",
       "    </tr>\n",
       "    <tr>\n",
       "      <th>1</th>\n",
       "      <td>nyu_2451_34572.2</td>\n",
       "      <td>restaurant</td>\n",
       "      <td>store</td>\n",
       "      <td>clothing</td>\n",
       "      <td>school</td>\n",
       "      <td>church</td>\n",
       "    </tr>\n",
       "    <tr>\n",
       "      <th>2</th>\n",
       "      <td>nyu_2451_34572.3</td>\n",
       "      <td>store</td>\n",
       "      <td>restaurant</td>\n",
       "      <td>church</td>\n",
       "      <td>school</td>\n",
       "      <td>clothing</td>\n",
       "    </tr>\n",
       "    <tr>\n",
       "      <th>3</th>\n",
       "      <td>nyu_2451_34572.4</td>\n",
       "      <td>restaurant</td>\n",
       "      <td>school</td>\n",
       "      <td>bank</td>\n",
       "      <td>park</td>\n",
       "      <td>store</td>\n",
       "    </tr>\n",
       "    <tr>\n",
       "      <th>4</th>\n",
       "      <td>nyu_2451_34572.5</td>\n",
       "      <td>school</td>\n",
       "      <td>bank</td>\n",
       "      <td>restaurant</td>\n",
       "      <td>store</td>\n",
       "      <td>park</td>\n",
       "    </tr>\n",
       "  </tbody>\n",
       "</table>\n",
       "</div>"
      ],
      "text/plain": [
       "                 id 1st Most Common Venue 2nd Most Common Venue  \\\n",
       "0  nyu_2451_34572.1                church            restaurant   \n",
       "1  nyu_2451_34572.2            restaurant                 store   \n",
       "2  nyu_2451_34572.3                 store            restaurant   \n",
       "3  nyu_2451_34572.4            restaurant                school   \n",
       "4  nyu_2451_34572.5                school                  bank   \n",
       "\n",
       "  3rd Most Common Venue 4th Most Common Venue 5th Most Common Venue  \n",
       "0                 store                school              clothing  \n",
       "1              clothing                school                church  \n",
       "2                church                school              clothing  \n",
       "3                  bank                  park                 store  \n",
       "4            restaurant                 store                  park  "
      ]
     },
     "execution_count": 23,
     "metadata": {},
     "output_type": "execute_result"
    }
   ],
   "source": [
    "# Import venues sorted\n",
    "most_common_venues = pd.read_csv('/Users/karina/GitHub/NYC_midterm_project/data/final_datasets/most_common_venues.csv')\n",
    "most_common_venues.head()"
   ]
  },
  {
   "cell_type": "markdown",
   "metadata": {},
   "source": [
    "### K-Means"
   ]
  },
  {
   "cell_type": "code",
   "execution_count": 24,
   "metadata": {},
   "outputs": [],
   "source": [
    "# Create elbow graph function\n",
    "def plot_distortion(X,max_clusters = 10):\n",
    "    distortions = []\n",
    "    for i in range(1, max_clusters +1):\n",
    "        km = KMeans(n_clusters=i,\n",
    "                    init='k-means++',\n",
    "                    n_init=10,\n",
    "                    random_state=0)\n",
    "        km.fit(X)\n",
    "        distortions.append(km.inertia_)\n",
    "\n",
    "    plt.plot(range(1,max_clusters +1), distortions, marker='o')\n",
    "    plt.xlabel('Number of clusters')\n",
    "    plt.ylabel('Distortion')\n",
    "    plt.show() "
   ]
  },
  {
   "cell_type": "code",
   "execution_count": 25,
   "metadata": {},
   "outputs": [
    {
     "data": {
      "image/png": "[encoded data removed]",
      "text/plain": [
       "<Figure size 432x288 with 1 Axes>"
      ]
     },
     "metadata": {
      "needs_background": "light"
     },
     "output_type": "display_data"
    }
   ],
   "source": [
    "# Plot elbow graph\n",
    "plot_distortion(features_scaled)"
   ]
  },
  {
   "cell_type": "code",
   "execution_count": 26,
   "metadata": {},
   "outputs": [
    {
     "data": {
      "text/plain": [
       "array([0, 0, 0, 0, 0, 3, 3, 0, 3, 0], dtype=int32)"
      ]
     },
     "execution_count": 26,
     "metadata": {},
     "output_type": "execute_result"
    }
   ],
   "source": [
    "# Cluster data points using kmeans and get labels\n",
    "kclusters_features = 4\n",
    "\n",
    "kmeans_features = KMeans(n_clusters=kclusters_features, random_state=0).fit(features_scaled)\n",
    "\n",
    "kmeans_features.labels_[0:10] "
   ]
  },
  {
   "cell_type": "code",
   "execution_count": 27,
   "metadata": {},
   "outputs": [],
   "source": [
    "def plot_clusters(X,y_res, plt_cluster_centers = False):\n",
    "    X_centroids = []\n",
    "    Y_centroids = []\n",
    "\n",
    "    for cluster in set(y_res):\n",
    "        x = X[y_res == cluster,0]\n",
    "        y = X[y_res == cluster,1]\n",
    "        X_centroids.append(np.mean(x))\n",
    "        Y_centroids.append(np.mean(y))\n",
    "\n",
    "        plt.scatter(x,\n",
    "                    y,\n",
    "                    s=50,\n",
    "                    marker='s',\n",
    "                    label=f'cluster {cluster}')\n",
    "\n",
    "    if plt_cluster_centers:\n",
    "        plt.scatter(X_centroids,\n",
    "                    Y_centroids,\n",
    "                    marker='*',\n",
    "                    c='red',\n",
    "                    s=250,\n",
    "                    label='centroids')\n",
    "    plt.legend()\n",
    "    plt.grid()\n",
    "    plt.show()"
   ]
  },
  {
   "cell_type": "code",
   "execution_count": 28,
   "metadata": {},
   "outputs": [
    {
     "data": {
      "image/png": "[encoded data removed]",
      "text/plain": [
       "<Figure size 432x288 with 1 Axes>"
      ]
     },
     "metadata": {
      "needs_background": "light"
     },
     "output_type": "display_data"
    }
   ],
   "source": [
    "y_km_features = kmeans_features.fit_predict(features_scaled)\n",
    "plot_clusters(np.array(features_scaled), y_km_features, plt_cluster_centers= True)"
   ]
  },
  {
   "cell_type": "code",
   "execution_count": 29,
   "metadata": {},
   "outputs": [],
   "source": [
    "# Create list of clusters\n",
    "clusters = kmeans_features.labels_.tolist()"
   ]
  },
  {
   "cell_type": "code",
   "execution_count": 30,
   "metadata": {},
   "outputs": [
    {
     "data": {
      "text/html": [
       "<div>\n",
       "<style scoped>\n",
       "    .dataframe tbody tr th:only-of-type {\n",
       "        vertical-align: middle;\n",
       "    }\n",
       "\n",
       "    .dataframe tbody tr th {\n",
       "        vertical-align: top;\n",
       "    }\n",
       "\n",
       "    .dataframe thead th {\n",
       "        text-align: right;\n",
       "    }\n",
       "</style>\n",
       "<table border=\"1\" class=\"dataframe\">\n",
       "  <thead>\n",
       "    <tr style=\"text-align: right;\">\n",
       "      <th></th>\n",
       "      <th>borough</th>\n",
       "      <th>neighborhood</th>\n",
       "      <th>longitude</th>\n",
       "      <th>latitude</th>\n",
       "      <th>1st Most Common Venue</th>\n",
       "      <th>2nd Most Common Venue</th>\n",
       "      <th>3rd Most Common Venue</th>\n",
       "      <th>4th Most Common Venue</th>\n",
       "      <th>5th Most Common Venue</th>\n",
       "      <th>clusters</th>\n",
       "    </tr>\n",
       "  </thead>\n",
       "  <tbody>\n",
       "    <tr>\n",
       "      <th>0</th>\n",
       "      <td>Bronx</td>\n",
       "      <td>Wakefield</td>\n",
       "      <td>-73.847201</td>\n",
       "      <td>40.894705</td>\n",
       "      <td>church</td>\n",
       "      <td>restaurant</td>\n",
       "      <td>store</td>\n",
       "      <td>school</td>\n",
       "      <td>clothing</td>\n",
       "      <td>0</td>\n",
       "    </tr>\n",
       "    <tr>\n",
       "      <th>1</th>\n",
       "      <td>Bronx</td>\n",
       "      <td>Co-op City</td>\n",
       "      <td>-73.829939</td>\n",
       "      <td>40.874294</td>\n",
       "      <td>restaurant</td>\n",
       "      <td>store</td>\n",
       "      <td>clothing</td>\n",
       "      <td>school</td>\n",
       "      <td>church</td>\n",
       "      <td>0</td>\n",
       "    </tr>\n",
       "    <tr>\n",
       "      <th>2</th>\n",
       "      <td>Bronx</td>\n",
       "      <td>Eastchester</td>\n",
       "      <td>-73.827806</td>\n",
       "      <td>40.887556</td>\n",
       "      <td>store</td>\n",
       "      <td>restaurant</td>\n",
       "      <td>church</td>\n",
       "      <td>school</td>\n",
       "      <td>clothing</td>\n",
       "      <td>0</td>\n",
       "    </tr>\n",
       "    <tr>\n",
       "      <th>3</th>\n",
       "      <td>Bronx</td>\n",
       "      <td>Fieldston</td>\n",
       "      <td>-73.905643</td>\n",
       "      <td>40.895437</td>\n",
       "      <td>restaurant</td>\n",
       "      <td>school</td>\n",
       "      <td>bank</td>\n",
       "      <td>park</td>\n",
       "      <td>store</td>\n",
       "      <td>0</td>\n",
       "    </tr>\n",
       "    <tr>\n",
       "      <th>4</th>\n",
       "      <td>Bronx</td>\n",
       "      <td>Riverdale</td>\n",
       "      <td>-73.912585</td>\n",
       "      <td>40.890834</td>\n",
       "      <td>school</td>\n",
       "      <td>bank</td>\n",
       "      <td>restaurant</td>\n",
       "      <td>store</td>\n",
       "      <td>park</td>\n",
       "      <td>0</td>\n",
       "    </tr>\n",
       "  </tbody>\n",
       "</table>\n",
       "</div>"
      ],
      "text/plain": [
       "  borough neighborhood  longitude   latitude 1st Most Common Venue  \\\n",
       "0   Bronx    Wakefield -73.847201  40.894705                church   \n",
       "1   Bronx   Co-op City -73.829939  40.874294            restaurant   \n",
       "2   Bronx  Eastchester -73.827806  40.887556                 store   \n",
       "3   Bronx    Fieldston -73.905643  40.895437            restaurant   \n",
       "4   Bronx    Riverdale -73.912585  40.890834                school   \n",
       "\n",
       "  2nd Most Common Venue 3rd Most Common Venue 4th Most Common Venue  \\\n",
       "0            restaurant                 store                school   \n",
       "1                 store              clothing                school   \n",
       "2            restaurant                church                school   \n",
       "3                school                  bank                  park   \n",
       "4                  bank            restaurant                 store   \n",
       "\n",
       "  5th Most Common Venue  clusters  \n",
       "0              clothing         0  \n",
       "1                church         0  \n",
       "2              clothing         0  \n",
       "3                 store         0  \n",
       "4                  park         0  "
      ]
     },
     "execution_count": 30,
     "metadata": {},
     "output_type": "execute_result"
    }
   ],
   "source": [
    "# Merge venue data with neighborhood data\n",
    "features_data = neighborhoods.copy()\n",
    "features_data = pd.merge(features_data, most_common_venues, on='id')\n",
    "features_data = features_data.drop('id', axis=1)\n",
    "features_data['clusters'] = clusters\n",
    "features_data.head()"
   ]
  },
  {
   "cell_type": "code",
   "execution_count": 31,
   "metadata": {},
   "outputs": [],
   "source": [
    "#kmeans_clustering = features_data.to_csv('kmean_4_clustering.csv', index=False)"
   ]
  },
  {
   "cell_type": "markdown",
   "metadata": {},
   "source": [
    "### Mapping"
   ]
  },
  {
   "cell_type": "code",
   "execution_count": 32,
   "metadata": {},
   "outputs": [],
   "source": [
    "import folium\n",
    "from geopy.geocoders import Nominatim\n",
    "import matplotlib.cm as cm\n",
    "import matplotlib.colors as colors"
   ]
  },
  {
   "cell_type": "code",
   "execution_count": 33,
   "metadata": {},
   "outputs": [],
   "source": [
    "import os\n",
    "import plotly.express as px\n",
    "\n",
    "\n",
    "def map_scatter(data, latitude='latitude', longitude='longitude', hover_name='neighborhood', color='clusters'):\n",
    "    # Define mapbox token\n",
    "    maptoken = os.environ[\"MAPBOX_TOKEN\"]\n",
    "\n",
    "    # plot points and color by cluster\n",
    "    fig = px.scatter_mapbox(data, lat=latitude, lon=longitude, hover_name=hover_name, color=color,\n",
    "                            height=500)\n",
    "    fig.update_geos(fitbounds=\"locations\")\n",
    "    fig.update_layout(mapbox_style=\"light\", mapbox_accesstoken=maptoken, margin={\"r\":0,\"t\":0,\"l\":0,\"b\":0})\n",
    "    fig.show()"
   ]
  },
  {
   "cell_type": "code",
   "execution_count": 34,
   "metadata": {},
   "outputs": [
    {
     "data": {
      "application/vnd.plotly.v1+json": {
       "config": {
        "plotlyServerURL": "https://plot.ly"
       },
       "data": [
        {
         "hovertemplate": "<b>%{hovertext}</b><br><br>latitude=%{lat}<br>longitude=%{lon}<br>clusters=%{marker.color}<extra></extra>",
         "hovertext": [
          "Wakefield",
          "Co-op City",
          "Eastchester",
          "Fieldston",
          "Riverdale",
          "Kingsbridge",
          "Marble Hill",
          "Woodlawn",
          "Norwood",
          "Williamsbridge",
          "Baychester",
          "Pelham Parkway",
          "City Island",
          "Bedford Park",
          "University Heights",
          "Morris Heights",
          "Fordham",
          "East Tremont",
          "West Farms",
          "High  Bridge",
          "Melrose",
          "Mott Haven",
          "Port Morris",
          "Longwood",
          "Hunts Point",
          "Morrisania",
          "Soundview",
          "Clason Point",
          "Throgs Neck",
          "Country Club",
          "Parkchester",
          "Westchester Square",
          "Van Nest",
          "Morris Park",
          "Belmont",
          "Spuyten Duyvil",
          "North Riverdale",
          "Pelham Bay",
          "Schuylerville",
          "Edgewater Park",
          "Castle Hill",
          "Olinville",
          "Pelham Gardens",
          "Concourse",
          "Unionport",
          "Edenwald",
          "Bay Ridge",
          "Bensonhurst",
          "Sunset Park",
          "Greenpoint",
          "Gravesend",
          "Brighton Beach",
          "Sheepshead Bay",
          "Manhattan Terrace",
          "Flatbush",
          "Crown Heights",
          "East Flatbush",
          "Kensington",
          "Windsor Terrace",
          "Prospect Heights",
          "Brownsville",
          "Williamsburg",
          "Bushwick",
          "Bedford Stuyvesant",
          "Brooklyn Heights",
          "Cobble Hill",
          "Carroll Gardens",
          "Red Hook",
          "Gowanus",
          "Fort Greene",
          "Park Slope",
          "Cypress Hills",
          "East New York",
          "Starrett City",
          "Canarsie",
          "Flatlands",
          "Mill Island",
          "Manhattan Beach",
          "Coney Island",
          "Bath Beach",
          "Borough Park",
          "Dyker Heights",
          "Gerritsen Beach",
          "Marine Park",
          "Clinton Hill",
          "Sea Gate",
          "Downtown",
          "Boerum Hill",
          "Prospect Lefferts Gardens",
          "Ocean Hill",
          "City Line",
          "Bergen Beach",
          "Midwood",
          "Prospect Park South",
          "Georgetown",
          "East Williamsburg",
          "North Side",
          "South Side",
          "Ocean Parkway",
          "Fort Hamilton",
          "Chinatown",
          "Washington Heights",
          "Inwood",
          "Hamilton Heights",
          "Manhattanville",
          "Central Harlem",
          "East Harlem",
          "Upper East Side",
          "Yorkville",
          "Lenox Hill",
          "Roosevelt Island",
          "Upper West Side",
          "Lincoln Square",
          "Clinton",
          "Midtown",
          "Murray Hill",
          "Murray Hill",
          "Chelsea",
          "Chelsea",
          "Greenwich Village",
          "East Village",
          "Lower East Side",
          "Tribeca",
          "Little Italy",
          "Soho",
          "West Village",
          "Manhattan Valley",
          "Morningside Heights",
          "Gramercy",
          "Battery Park City",
          "Financial District",
          "Astoria",
          "Woodside",
          "Jackson Heights",
          "Elmhurst",
          "Howard Beach",
          "Corona",
          "Forest Hills",
          "Kew Gardens",
          "Richmond Hill",
          "Flushing",
          "Long Island City",
          "Sunnyside",
          "Sunnyside",
          "East Elmhurst",
          "Maspeth",
          "Ridgewood",
          "Glendale",
          "Rego Park",
          "Woodhaven",
          "Ozone Park",
          "South Ozone Park",
          "College Point",
          "Whitestone",
          "Bayside",
          "Auburndale",
          "Little Neck",
          "Douglaston",
          "Glen Oaks",
          "Bellerose",
          "Kew Gardens Hills",
          "Fresh Meadows",
          "Briarwood",
          "Jamaica Center",
          "Oakland Gardens",
          "Queens Village",
          "Hollis",
          "South Jamaica",
          "St. Albans",
          "Rochdale",
          "Springfield Gardens",
          "Cambria Heights",
          "Rosedale",
          "Far Rockaway",
          "Broad Channel",
          "Breezy Point",
          "Steinway",
          "Beechhurst",
          "Bay Terrace",
          "Bay Terrace",
          "Edgemere",
          "Arverne",
          "Rockaway Beach",
          "Neponsit",
          "Floral Park",
          "Holliswood",
          "Jamaica Estates",
          "Queensboro Hill",
          "Hillcrest",
          "Ravenswood",
          "Lindenwood",
          "Laurelton",
          "Lefrak City",
          "Belle Harbor",
          "Rockaway Park",
          "Somerville",
          "Brookville",
          "Bellaire",
          "North Corona",
          "Forest Hills Gardens",
          "St. George",
          "New Brighton",
          "Stapleton",
          "Rosebank",
          "West Brighton",
          "Grymes Hill",
          "Todt Hill",
          "South Beach",
          "Port Richmond",
          "Mariner's Harbor",
          "Port Ivory",
          "Castleton Corners",
          "New Springville",
          "Travis",
          "New Dorp",
          "Oakwood",
          "Great Kills",
          "Eltingville",
          "Annadale",
          "Woodrow",
          "Tottenville",
          "Tompkinsville",
          "Silver Lake",
          "Ditmas Park",
          "Wingate",
          "Rugby",
          "Park Hill",
          "Westerleigh",
          "Graniteville",
          "Arlington",
          "Arrochar",
          "Grasmere",
          "Old Town",
          "Dongan Hills",
          "Midland Beach",
          "Grant City",
          "New Dorp Beach",
          "Huguenot",
          "Pleasant Plains",
          "Butler Manor",
          "Charleston",
          "Rossville",
          "Arden Heights",
          "Greenridge",
          "Heartland Village",
          "Bloomfield",
          "Bulls Head",
          "Carnegie Hill",
          "Noho",
          "Civic Center",
          "Midtown South",
          "Richmond Town",
          "Shore Acres",
          "Clifton",
          "Concord",
          "Emerson Hill",
          "Randall Manor",
          "Howland Hook",
          "Elm Park",
          "Remsen Village",
          "New Lots",
          "Paerdegat Basin",
          "Mill Basin",
          "Jamaica Hills",
          "Utopia",
          "Pomonok",
          "Astoria Heights",
          "Claremont Village",
          "Concourse Village",
          "Mount Eden",
          "Mount Hope",
          "Sutton Place",
          "Hunters Point",
          "Turtle Bay",
          "Tudor City",
          "Stuyvesant Town",
          "Flatiron",
          "Sunnyside Gardens",
          "Blissville",
          "Fulton Ferry",
          "Vinegar Hill",
          "Weeksville",
          "Broadway Junction",
          "Dumbo",
          "Manor Heights",
          "Willowbrook",
          "Sandy Ground",
          "Egbertville",
          "Roxbury",
          "Homecrest",
          "Middle Village",
          "Prince's Bay",
          "Lighthouse Hill",
          "Richmond Valley",
          "Malba",
          "Highland Park",
          "Madison",
          "Bronxdale",
          "Allerton",
          "Kingsbridge Heights",
          "Erasmus",
          "Hudson Yards",
          "Hammels",
          "Bayswater",
          "Queensbridge",
          "Fox Hills"
         ],
         "lat": [
          40.89470517661,
          40.87429419303012,
          40.887555677350775,
          40.89543742690383,
          40.890834493891305,
          40.88168737120521,
          40.87655077879964,
          40.89827261213805,
          40.87722415599446,
          40.88103887819211,
          40.866858107252696,
          40.85741349808865,
          40.84724670491813,
          40.870185164975325,
          40.85572707719664,
          40.84789792606271,
          40.86099679638654,
          40.84269615786053,
          40.83947505672653,
          40.836623010706056,
          40.819754370594936,
          40.80623874935177,
          40.801663627756206,
          40.81509904545822,
          40.80972987938709,
          40.82359198585534,
          40.821012197914015,
          40.80655112003589,
          40.81510925804005,
          40.844245936947374,
          40.837937822267286,
          40.8406194964327,
          40.84360847124718,
          40.847549063536334,
          40.85727710073895,
          40.88139497727086,
          40.90854282950666,
          40.85064140940335,
          40.82657951686922,
          40.82198611816349,
          40.81901437698832,
          40.87137078192371,
          40.86296562477998,
          40.83428380733851,
          40.82977429787161,
          40.88456130303732,
          40.625801065010656,
          40.61100890202044,
          40.64510294925429,
          40.7302009848647,
          40.59526001306593,
          40.57682506566604,
          40.58689012678384,
          40.61443251335098,
          40.63632589026677,
          40.67082917695294,
          40.64171776668961,
          40.642381958003526,
          40.65694583575104,
          40.67682226225472,
          40.66394994339755,
          40.70714439344251,
          40.69811611017901,
          40.687231607720456,
          40.69586372272408,
          40.68791972248557,
          40.680540231076485,
          40.676253230250886,
          40.673931143187154,
          40.68852726018977,
          40.67232052268197,
          40.68239101144211,
          40.669925700847045,
          40.64758905230874,
          40.63556432797428,
          40.630446043757466,
          40.606336421685626,
          40.57791350308657,
          40.57429256471601,
          40.59951870282238,
          40.633130512758015,
          40.61921945772264,
          40.590848433902046,
          40.609747779894604,
          40.693229421881504,
          40.57637537890224,
          40.69084402109802,
          40.68568291209144,
          40.658420017469815,
          40.67840255479536,
          40.67856995727479,
          40.61514955045308,
          40.62559589869843,
          40.64700860318519,
          40.62384524478419,
          40.70849241041548,
          40.714822906532014,
          40.71086147265064,
          40.61305976667942,
          40.61476812694226,
          40.71561842231432,
          40.85190252555305,
          40.86768396449915,
          40.823604284811935,
          40.8169344294978,
          40.81597606742414,
          40.79224946663033,
          40.775638573301805,
          40.77592984988488,
          40.76811265828733,
          40.76215960576283,
          40.78765799853485,
          40.77352888942166,
          40.75910089146212,
          40.75469110270623,
          40.748303077252174,
          40.76412612261407,
          40.744034706747975,
          40.59472602746295,
          40.72693288536128,
          40.72784677727024,
          40.71780674892765,
          40.721521967443216,
          40.71932379395907,
          40.72218384131794,
          40.73443393572434,
          40.79730704170287,
          40.80799973816583,
          40.737209832715,
          40.71193198394565,
          40.70710710727048,
          40.76850859335492,
          40.74634908860222,
          40.75198138007367,
          40.74404850512202,
          40.65422527738487,
          40.74238175015667,
          40.72526378216503,
          40.7051790354148,
          40.69794731471763,
          40.76445419697846,
          40.75021734610528,
          40.74017628351924,
          40.61276015756489,
          40.76407323883091,
          40.725427374093606,
          40.70832315613858,
          40.70276242967838,
          40.72897409480735,
          40.68988687915789,
          40.680708468265415,
          40.66854957767195,
          40.784902749260205,
          40.78129076602694,
          40.76604063281064,
          40.76172954903262,
          40.7708261928267,
          40.76684609790763,
          40.74944079974332,
          40.72857318176675,
          40.722578244228046,
          40.7343944653313,
          40.71093547252271,
          40.70465736068717,
          40.74561857141855,
          40.71889309216736,
          40.71124344191904,
          40.696911253789885,
          40.69444538522359,
          40.67521139591733,
          40.66623049036858,
          40.692774639160845,
          40.65981643342808,
          40.603134432500894,
          40.60302658351238,
          40.55740128845452,
          40.775923015642896,
          40.79278140360048,
          40.782842806245554,
          40.55398800858462,
          40.595641807368494,
          40.58914394372971,
          40.58280169684559,
          40.572036730217015,
          40.74137842194544,
          40.7209572076444,
          40.71680483014613,
          40.7445723092867,
          40.7238249018292,
          40.76170452605415,
          40.66391841925139,
          40.66788389660247,
          40.7360745708308,
          40.57615556543109,
          40.58034295646131,
          40.59771061565768,
          40.66000322733613,
          40.73301404027834,
          40.7540709990489,
          40.7146110815117,
          40.6449815710044,
          40.64061455913511,
          40.62692762538176,
          40.61530494652761,
          40.63187892654607,
          40.624184791313006,
          40.59706851814673,
          40.58024741350956,
          40.63366930554365,
          40.63254639048112,
          40.63968297845542,
          40.61333593766742,
          40.594252379161695,
          40.58631375103281,
          40.57257231820632,
          40.5584622432888,
          40.549480228713605,
          40.542230747450745,
          40.53811417474507,
          40.54196762288876,
          40.50533376115642,
          40.637316067110326,
          40.61919310792676,
          40.643675183340974,
          40.66094656188111,
          40.65557231328077,
          40.60919044434558,
          40.62109047275409,
          40.620171512231884,
          40.63532509911492,
          40.596312571276734,
          40.59826835959991,
          40.59632891379513,
          40.58867294819928,
          40.57352690574283,
          40.57621558711788,
          40.56425549307335,
          40.531911920489605,
          40.524699376118136,
          40.50608165346305,
          40.53053148283314,
          40.54940400650072,
          40.54928582278321,
          40.5552952361732,
          40.58913894875281,
          40.60577868452358,
          40.6095918004203,
          40.7826825671257,
          40.72325901885768,
          40.71522892046282,
          40.7485096643122,
          40.56960594275505,
          40.60971934079284,
          40.61917845202843,
          40.6044731896879,
          40.606794394801,
          40.63563000681151,
          40.63843283794795,
          40.63014674119383,
          40.65211745179349,
          40.6627442796966,
          40.63131755039667,
          40.61597423962336,
          40.71145964370482,
          40.73350025429757,
          40.73493618075478,
          40.7703173929982,
          40.83142834161548,
          40.824780490842905,
          40.84382617671654,
          40.84884160724665,
          40.76028033131374,
          40.743414090073536,
          40.75204236950722,
          40.7469174107402,
          40.73099955477061,
          40.739673047638426,
          40.74565180608076,
          40.73725071694497,
          40.70328109093014,
          40.70332149882874,
          40.67503986503237,
          40.67786104769531,
          40.70317632822692,
          40.60180957631444,
          40.60370692627371,
          40.541139922091766,
          40.579118742961214,
          40.56737588957032,
          40.598525095137255,
          40.716414511158185,
          40.52626406734812,
          40.57650629379489,
          40.51954145748909,
          40.79060155670148,
          40.6819989345173,
          40.60937770113766,
          40.85272297633017,
          40.86578787802982,
          40.8703923914147,
          40.64692606658579,
          40.75665808227519,
          40.58733774018741,
          40.61132169128384,
          40.75609129709471,
          40.61731079252983
         ],
         "legendgroup": "",
         "lon": [
          -73.84720052054902,
          -73.82993910812398,
          -73.82780644716412,
          -73.90564259591682,
          -73.9125854610857,
          -73.90281798724604,
          -73.91065965862981,
          -73.86731496814176,
          -73.8793907395681,
          -73.85744642974207,
          -73.83579759808117,
          -73.85475564017999,
          -73.78648845267413,
          -73.8855121841913,
          -73.9104159619131,
          -73.91967159119565,
          -73.89642655981623,
          -73.88735617532338,
          -73.87774474910545,
          -73.9261020935813,
          -73.90942160757436,
          -73.91609987487575,
          -73.91322139386135,
          -73.8957882009446,
          -73.88331505955291,
          -73.90150648943059,
          -73.86574609554924,
          -73.85414416189266,
          -73.81635002158441,
          -73.8240992675385,
          -73.85600310535783,
          -73.84219407604444,
          -73.8662991807561,
          -73.85040178030421,
          -73.88845196134804,
          -73.91719048210393,
          -73.90453054908927,
          -73.8320737824047,
          -73.82620275994073,
          -73.81388514428619,
          -73.84802729582735,
          -73.86332361652777,
          -73.84161194831223,
          -73.91558941773444,
          -73.85053524451935,
          -73.84808271877168,
          -74.03062069353813,
          -73.99517998380729,
          -74.01031618527784,
          -73.95424093127393,
          -73.97347087708445,
          -73.96509448785336,
          -73.94318640482979,
          -73.95743840559939,
          -73.95840106533903,
          -73.94329119073582,
          -73.93610256185836,
          -73.98042110559474,
          -73.98007340430172,
          -73.9648592426269,
          -73.91023536176607,
          -73.95811529220927,
          -73.92525797487045,
          -73.94178488690297,
          -73.99378225496424,
          -73.99856139218463,
          -73.99465372828006,
          -74.0127589747356,
          -73.99444087145339,
          -73.97290574369092,
          -73.97705030183924,
          -73.87661596457296,
          -73.88069863917366,
          -73.87936970045875,
          -73.90209269778966,
          -73.92911302644674,
          -73.90818571777423,
          -73.94353722891886,
          -73.98868295821637,
          -73.99875221443519,
          -73.99049823044811,
          -74.01931375636022,
          -73.93010170691196,
          -73.93134404108497,
          -73.96784306216367,
          -74.0078731120024,
          -73.98346337431099,
          -73.98374824115798,
          -73.95489867077713,
          -73.91306831787395,
          -73.86797598081334,
          -73.89855633630317,
          -73.95759523489838,
          -73.96261316716048,
          -73.91607483951324,
          -73.93885815269195,
          -73.95880857587582,
          -73.95800095153331,
          -73.96836678035541,
          -74.03197914537984,
          -73.99427936255978,
          -73.93690027985234,
          -73.92121042203897,
          -73.94968791883366,
          -73.9573853935188,
          -73.94321112603905,
          -73.94418223148524,
          -73.96050763135,
          -73.94711784471826,
          -73.9588596881376,
          -73.94916769227953,
          -73.97705923630603,
          -73.98533777001262,
          -73.99611936309479,
          -73.98166882730304,
          -73.97833207924127,
          -73.81276269135866,
          -74.00311633472813,
          -74.1895604551969,
          -73.99991402945902,
          -73.98222616506416,
          -73.98089031999291,
          -74.01068328559087,
          -73.99730467208073,
          -74.00065666959759,
          -74.00617998126812,
          -73.96428617740655,
          -73.96389627905332,
          -73.98137594833541,
          -74.01686930508617,
          -74.0106654452127,
          -73.91565374304234,
          -73.90184166838284,
          -73.88282109164365,
          -73.88165622288388,
          -73.8381376460028,
          -73.85682497345258,
          -73.84447500788983,
          -73.82981905825703,
          -73.83183321446887,
          -73.83177300329582,
          -73.93920223915505,
          -73.92691617561577,
          -74.0971255217853,
          -73.86704147658772,
          -73.89621713626859,
          -73.90143517559589,
          -73.87074167435605,
          -73.8578268690537,
          -73.8581104655432,
          -73.84320266173447,
          -73.80986478649041,
          -73.84304528896125,
          -73.81420216610863,
          -73.7742736306867,
          -73.79176243728061,
          -73.7388977558074,
          -73.7424982072733,
          -73.71548118999145,
          -73.72012814826903,
          -73.82087764933566,
          -73.78271337003264,
          -73.81174822458634,
          -73.79690165888289,
          -73.75494976234332,
          -73.73871484578424,
          -73.75925009335594,
          -73.7904261313554,
          -73.75867603727717,
          -73.77258787620906,
          -73.76042092682287,
          -73.73526873708026,
          -73.73526079428278,
          -73.75497968043872,
          -73.8200548911032,
          -73.92551196994168,
          -73.90228960391673,
          -73.80436451720988,
          -73.7768022262158,
          -74.13916622175768,
          -73.77613282391705,
          -73.79199233136943,
          -73.82236121088751,
          -73.85754672410827,
          -73.70884705889246,
          -73.76714166714729,
          -73.7872269693666,
          -73.82580915110559,
          -73.79760300912672,
          -73.93157506072878,
          -73.84963782402441,
          -73.74025607989822,
          -73.8625247141374,
          -73.8540175039252,
          -73.84153370226186,
          -73.79664750844047,
          -73.75175310731153,
          -73.73889198912481,
          -73.85751790676447,
          -73.8410221123401,
          -74.07935312512797,
          -74.08701650516625,
          -74.07790192660066,
          -74.06980526716141,
          -74.1071817826561,
          -74.08724819983729,
          -74.1113288180088,
          -74.0795529253982,
          -74.12943426797008,
          -74.15008537046981,
          -74.17464532993542,
          -74.11918058534842,
          -74.16496031329827,
          -74.19073717538116,
          -74.1164794360638,
          -74.12156593771896,
          -74.14932381490992,
          -74.1643308041936,
          -74.17854866165878,
          -74.20524582480326,
          -74.24656934235283,
          -74.08055351790115,
          -74.09629029235458,
          -73.96101312466779,
          -73.93718680559314,
          -73.92688212616955,
          -74.08015734936296,
          -74.13304143951704,
          -74.15315246387762,
          -74.16510420241124,
          -74.06712363225574,
          -74.0766743627905,
          -74.08751118005578,
          -74.09639905312521,
          -74.09348266303591,
          -74.10585598545434,
          -74.10432707469124,
          -74.19174105747814,
          -74.21983106616777,
          -74.22950350260027,
          -74.23215775896526,
          -74.21572851113952,
          -74.18588674583893,
          -74.17079414786092,
          -74.15902208156601,
          -74.18725638381567,
          -74.15940948657122,
          -73.95325646837112,
          -73.98843368023597,
          -74.00541529873355,
          -73.98871313285247,
          -74.1340572986257,
          -74.06667766061771,
          -74.072642445484,
          -74.08402364740358,
          -74.09776206972522,
          -74.09805062373887,
          -74.18622331749823,
          -74.1418167896889,
          -73.91665331978048,
          -73.88511776379292,
          -73.90233474295836,
          -73.91515391550404,
          -73.79646462081593,
          -73.79671678028349,
          -73.80486120040537,
          -73.89467996270574,
          -73.90119903387667,
          -73.91584652759009,
          -73.91655551964419,
          -73.90829930881988,
          -73.96355614094303,
          -73.95386782130745,
          -73.96770824581834,
          -73.97121928722265,
          -73.97405170469203,
          -73.9909471052826,
          -73.91819286431682,
          -73.93244235260178,
          -73.99550751888415,
          -73.98111603592393,
          -73.93053108817338,
          -73.90331684852599,
          -73.9887528074504,
          -74.12059399718001,
          -74.13208447484298,
          -74.21776636068567,
          -74.12727240604946,
          -73.89213760232822,
          -73.95918459428702,
          -73.88114319200604,
          -74.20152556457658,
          -74.13792663771568,
          -74.22957080626941,
          -73.82667757138641,
          -73.890345709872,
          -73.94841515328893,
          -73.86172577555115,
          -73.85931863221647,
          -73.90152264513144,
          -73.94817709920184,
          -74.00011136202637,
          -73.80553002968718,
          -73.76596781445627,
          -73.94563070334091,
          -74.08173992211962
         ],
         "marker": {
          "color": [
           0,
           0,
           0,
           0,
           0,
           3,
           3,
           0,
           3,
           0,
           0,
           0,
           1,
           3,
           3,
           3,
           3,
           3,
           3,
           3,
           3,
           3,
           0,
           3,
           1,
           3,
           0,
           1,
           1,
           0,
           3,
           3,
           3,
           0,
           3,
           0,
           0,
           0,
           0,
           0,
           0,
           0,
           0,
           3,
           3,
           0,
           3,
           3,
           3,
           2,
           0,
           3,
           0,
           3,
           3,
           3,
           0,
           3,
           0,
           2,
           0,
           2,
           2,
           2,
           2,
           2,
           2,
           1,
           2,
           2,
           2,
           3,
           3,
           0,
           0,
           0,
           1,
           0,
           0,
           3,
           3,
           3,
           0,
           0,
           2,
           1,
           2,
           2,
           3,
           3,
           3,
           1,
           3,
           3,
           0,
           2,
           2,
           2,
           3,
           0,
           2,
           3,
           3,
           2,
           2,
           2,
           3,
           2,
           2,
           2,
           3,
           2,
           2,
           2,
           2,
           2,
           0,
           2,
           1,
           2,
           2,
           2,
           2,
           2,
           2,
           2,
           2,
           3,
           2,
           2,
           2,
           2,
           3,
           3,
           3,
           1,
           3,
           3,
           3,
           3,
           3,
           3,
           0,
           1,
           3,
           0,
           3,
           0,
           3,
           3,
           3,
           0,
           0,
           0,
           0,
           0,
           0,
           0,
           1,
           0,
           0,
           0,
           3,
           3,
           1,
           0,
           0,
           3,
           0,
           0,
           1,
           0,
           0,
           0,
           1,
           1,
           0,
           0,
           1,
           1,
           1,
           1,
           0,
           1,
           0,
           1,
           0,
           0,
           0,
           2,
           0,
           0,
           3,
           1,
           1,
           1,
           1,
           1,
           3,
           2,
           0,
           0,
           0,
           1,
           0,
           0,
           1,
           1,
           3,
           0,
           1,
           0,
           1,
           1,
           0,
           1,
           1,
           1,
           1,
           1,
           1,
           3,
           1,
           3,
           0,
           0,
           1,
           0,
           0,
           1,
           1,
           1,
           1,
           0,
           1,
           0,
           0,
           1,
           1,
           1,
           1,
           1,
           1,
           1,
           0,
           1,
           1,
           2,
           2,
           2,
           2,
           1,
           1,
           0,
           1,
           1,
           0,
           1,
           0,
           0,
           3,
           0,
           0,
           3,
           0,
           0,
           1,
           3,
           3,
           3,
           3,
           2,
           2,
           2,
           2,
           2,
           2,
           3,
           0,
           2,
           2,
           3,
           3,
           2,
           1,
           1,
           1,
           1,
           1,
           3,
           0,
           1,
           1,
           0,
           1,
           0,
           0,
           0,
           0,
           3,
           3,
           2,
           1,
           1,
           0,
           0
          ],
          "coloraxis": "coloraxis"
         },
         "mode": "markers",
         "name": "",
         "showlegend": false,
         "subplot": "mapbox",
         "type": "scattermapbox"
        }
       ],
       "layout": {
        "coloraxis": {
         "colorbar": {
          "title": {
           "text": "clusters"
          }
         },
         "colorscale": [
          [
           0,
           "#0d0887"
          ],
          [
           0.1111111111111111,
           "#46039f"
          ],
          [
           0.2222222222222222,
           "#7201a8"
          ],
          [
           0.3333333333333333,
           "#9c179e"
          ],
          [
           0.4444444444444444,
           "#bd3786"
          ],
          [
           0.5555555555555556,
           "#d8576b"
          ],
          [
           0.6666666666666666,
           "#ed7953"
          ],
          [
           0.7777777777777778,
           "#fb9f3a"
          ],
          [
           0.8888888888888888,
           "#fdca26"
          ],
          [
           1,
           "#f0f921"
          ]
         ]
        },
        "geo": {
         "fitbounds": "locations"
        },
        "height": 500,
        "legend": {
         "tracegroupgap": 0
        },
        "mapbox": {
         "accesstoken": "pk.eyJ1IjoidmVsdm94IiwiYSI6ImNsNThham8xajIxMnMzam1ycGg2eTZ0eGYifQ.RaCirjLZex17tLwWOx9FGQ",
         "center": {
          "lat": 40.70136210272568,
          "lon": -73.9462541982847
         },
         "domain": {
          "x": [
           0,
           1
          ],
          "y": [
           0,
           1
          ]
         },
         "style": "light",
         "zoom": 8
        },
        "margin": {
         "b": 0,
         "l": 0,
         "r": 0,
         "t": 0
        },
        "template": {
         "data": {
          "bar": [
           {
            "error_x": {
             "color": "#2a3f5f"
            },
            "error_y": {
             "color": "#2a3f5f"
            },
            "marker": {
             "line": {
              "color": "#E5ECF6",
              "width": 0.5
             },
             "pattern": {
              "fillmode": "overlay",
              "size": 10,
              "solidity": 0.2
             }
            },
            "type": "bar"
           }
          ],
          "barpolar": [
           {
            "marker": {
             "line": {
              "color": "#E5ECF6",
              "width": 0.5
             },
             "pattern": {
              "fillmode": "overlay",
              "size": 10,
              "solidity": 0.2
             }
            },
            "type": "barpolar"
           }
          ],
          "carpet": [
           {
            "aaxis": {
             "endlinecolor": "#2a3f5f",
             "gridcolor": "white",
             "linecolor": "white",
             "minorgridcolor": "white",
             "startlinecolor": "#2a3f5f"
            },
            "baxis": {
             "endlinecolor": "#2a3f5f",
             "gridcolor": "white",
             "linecolor": "white",
             "minorgridcolor": "white",
             "startlinecolor": "#2a3f5f"
            },
            "type": "carpet"
           }
          ],
          "choropleth": [
           {
            "colorbar": {
             "outlinewidth": 0,
             "ticks": ""
            },
            "type": "choropleth"
           }
          ],
          "contour": [
           {
            "colorbar": {
             "outlinewidth": 0,
             "ticks": ""
            },
            "colorscale": [
             [
              0,
              "#0d0887"
             ],
             [
              0.1111111111111111,
              "#46039f"
             ],
             [
              0.2222222222222222,
              "#7201a8"
             ],
             [
              0.3333333333333333,
              "#9c179e"
             ],
             [
              0.4444444444444444,
              "#bd3786"
             ],
             [
              0.5555555555555556,
              "#d8576b"
             ],
             [
              0.6666666666666666,
              "#ed7953"
             ],
             [
              0.7777777777777778,
              "#fb9f3a"
             ],
             [
              0.8888888888888888,
              "#fdca26"
             ],
             [
              1,
              "#f0f921"
             ]
            ],
            "type": "contour"
           }
          ],
          "contourcarpet": [
           {
            "colorbar": {
             "outlinewidth": 0,
             "ticks": ""
            },
            "type": "contourcarpet"
           }
          ],
          "heatmap": [
           {
            "colorbar": {
             "outlinewidth": 0,
             "ticks": ""
            },
            "colorscale": [
             [
              0,
              "#0d0887"
             ],
             [
              0.1111111111111111,
              "#46039f"
             ],
             [
              0.2222222222222222,
              "#7201a8"
             ],
             [
              0.3333333333333333,
              "#9c179e"
             ],
             [
              0.4444444444444444,
              "#bd3786"
             ],
             [
              0.5555555555555556,
              "#d8576b"
             ],
             [
              0.6666666666666666,
              "#ed7953"
             ],
             [
              0.7777777777777778,
              "#fb9f3a"
             ],
             [
              0.8888888888888888,
              "#fdca26"
             ],
             [
              1,
              "#f0f921"
             ]
            ],
            "type": "heatmap"
           }
          ],
          "heatmapgl": [
           {
            "colorbar": {
             "outlinewidth": 0,
             "ticks": ""
            },
            "colorscale": [
             [
              0,
              "#0d0887"
             ],
             [
              0.1111111111111111,
              "#46039f"
             ],
             [
              0.2222222222222222,
              "#7201a8"
             ],
             [
              0.3333333333333333,
              "#9c179e"
             ],
             [
              0.4444444444444444,
              "#bd3786"
             ],
             [
              0.5555555555555556,
              "#d8576b"
             ],
             [
              0.6666666666666666,
              "#ed7953"
             ],
             [
              0.7777777777777778,
              "#fb9f3a"
             ],
             [
              0.8888888888888888,
              "#fdca26"
             ],
             [
              1,
              "#f0f921"
             ]
            ],
            "type": "heatmapgl"
           }
          ],
          "histogram": [
           {
            "marker": {
             "pattern": {
              "fillmode": "overlay",
              "size": 10,
              "solidity": 0.2
             }
            },
            "type": "histogram"
           }
          ],
          "histogram2d": [
           {
            "colorbar": {
             "outlinewidth": 0,
             "ticks": ""
            },
            "colorscale": [
             [
              0,
              "#0d0887"
             ],
             [
              0.1111111111111111,
              "#46039f"
             ],
             [
              0.2222222222222222,
              "#7201a8"
             ],
             [
              0.3333333333333333,
              "#9c179e"
             ],
             [
              0.4444444444444444,
              "#bd3786"
             ],
             [
              0.5555555555555556,
              "#d8576b"
             ],
             [
              0.6666666666666666,
              "#ed7953"
             ],
             [
              0.7777777777777778,
              "#fb9f3a"
             ],
             [
              0.8888888888888888,
              "#fdca26"
             ],
             [
              1,
              "#f0f921"
             ]
            ],
            "type": "histogram2d"
           }
          ],
          "histogram2dcontour": [
           {
            "colorbar": {
             "outlinewidth": 0,
             "ticks": ""
            },
            "colorscale": [
             [
              0,
              "#0d0887"
             ],
             [
              0.1111111111111111,
              "#46039f"
             ],
             [
              0.2222222222222222,
              "#7201a8"
             ],
             [
              0.3333333333333333,
              "#9c179e"
             ],
             [
              0.4444444444444444,
              "#bd3786"
             ],
             [
              0.5555555555555556,
              "#d8576b"
             ],
             [
              0.6666666666666666,
              "#ed7953"
             ],
             [
              0.7777777777777778,
              "#fb9f3a"
             ],
             [
              0.8888888888888888,
              "#fdca26"
             ],
             [
              1,
              "#f0f921"
             ]
            ],
            "type": "histogram2dcontour"
           }
          ],
          "mesh3d": [
           {
            "colorbar": {
             "outlinewidth": 0,
             "ticks": ""
            },
            "type": "mesh3d"
           }
          ],
          "parcoords": [
           {
            "line": {
             "colorbar": {
              "outlinewidth": 0,
              "ticks": ""
             }
            },
            "type": "parcoords"
           }
          ],
          "pie": [
           {
            "automargin": true,
            "type": "pie"
           }
          ],
          "scatter": [
           {
            "fillpattern": {
             "fillmode": "overlay",
             "size": 10,
             "solidity": 0.2
            },
            "type": "scatter"
           }
          ],
          "scatter3d": [
           {
            "line": {
             "colorbar": {
              "outlinewidth": 0,
              "ticks": ""
             }
            },
            "marker": {
             "colorbar": {
              "outlinewidth": 0,
              "ticks": ""
             }
            },
            "type": "scatter3d"
           }
          ],
          "scattercarpet": [
           {
            "marker": {
             "colorbar": {
              "outlinewidth": 0,
              "ticks": ""
             }
            },
            "type": "scattercarpet"
           }
          ],
          "scattergeo": [
           {
            "marker": {
             "colorbar": {
              "outlinewidth": 0,
              "ticks": ""
             }
            },
            "type": "scattergeo"
           }
          ],
          "scattergl": [
           {
            "marker": {
             "colorbar": {
              "outlinewidth": 0,
              "ticks": ""
             }
            },
            "type": "scattergl"
           }
          ],
          "scattermapbox": [
           {
            "marker": {
             "colorbar": {
              "outlinewidth": 0,
              "ticks": ""
             }
            },
            "type": "scattermapbox"
           }
          ],
          "scatterpolar": [
           {
            "marker": {
             "colorbar": {
              "outlinewidth": 0,
              "ticks": ""
             }
            },
            "type": "scatterpolar"
           }
          ],
          "scatterpolargl": [
           {
            "marker": {
             "colorbar": {
              "outlinewidth": 0,
              "ticks": ""
             }
            },
            "type": "scatterpolargl"
           }
          ],
          "scatterternary": [
           {
            "marker": {
             "colorbar": {
              "outlinewidth": 0,
              "ticks": ""
             }
            },
            "type": "scatterternary"
           }
          ],
          "surface": [
           {
            "colorbar": {
             "outlinewidth": 0,
             "ticks": ""
            },
            "colorscale": [
             [
              0,
              "#0d0887"
             ],
             [
              0.1111111111111111,
              "#46039f"
             ],
             [
              0.2222222222222222,
              "#7201a8"
             ],
             [
              0.3333333333333333,
              "#9c179e"
             ],
             [
              0.4444444444444444,
              "#bd3786"
             ],
             [
              0.5555555555555556,
              "#d8576b"
             ],
             [
              0.6666666666666666,
              "#ed7953"
             ],
             [
              0.7777777777777778,
              "#fb9f3a"
             ],
             [
              0.8888888888888888,
              "#fdca26"
             ],
             [
              1,
              "#f0f921"
             ]
            ],
            "type": "surface"
           }
          ],
          "table": [
           {
            "cells": {
             "fill": {
              "color": "#EBF0F8"
             },
             "line": {
              "color": "white"
             }
            },
            "header": {
             "fill": {
              "color": "#C8D4E3"
             },
             "line": {
              "color": "white"
             }
            },
            "type": "table"
           }
          ]
         },
         "layout": {
          "annotationdefaults": {
           "arrowcolor": "#2a3f5f",
           "arrowhead": 0,
           "arrowwidth": 1
          },
          "autotypenumbers": "strict",
          "coloraxis": {
           "colorbar": {
            "outlinewidth": 0,
            "ticks": ""
           }
          },
          "colorscale": {
           "diverging": [
            [
             0,
             "#8e0152"
            ],
            [
             0.1,
             "#c51b7d"
            ],
            [
             0.2,
             "#de77ae"
            ],
            [
             0.3,
             "#f1b6da"
            ],
            [
             0.4,
             "#fde0ef"
            ],
            [
             0.5,
             "#f7f7f7"
            ],
            [
             0.6,
             "#e6f5d0"
            ],
            [
             0.7,
             "#b8e186"
            ],
            [
             0.8,
             "#7fbc41"
            ],
            [
             0.9,
             "#4d9221"
            ],
            [
             1,
             "#276419"
            ]
           ],
           "sequential": [
            [
             0,
             "#0d0887"
            ],
            [
             0.1111111111111111,
             "#46039f"
            ],
            [
             0.2222222222222222,
             "#7201a8"
            ],
            [
             0.3333333333333333,
             "#9c179e"
            ],
            [
             0.4444444444444444,
             "#bd3786"
            ],
            [
             0.5555555555555556,
             "#d8576b"
            ],
            [
             0.6666666666666666,
             "#ed7953"
            ],
            [
             0.7777777777777778,
             "#fb9f3a"
            ],
            [
             0.8888888888888888,
             "#fdca26"
            ],
            [
             1,
             "#f0f921"
            ]
           ],
           "sequentialminus": [
            [
             0,
             "#0d0887"
            ],
            [
             0.1111111111111111,
             "#46039f"
            ],
            [
             0.2222222222222222,
             "#7201a8"
            ],
            [
             0.3333333333333333,
             "#9c179e"
            ],
            [
             0.4444444444444444,
             "#bd3786"
            ],
            [
             0.5555555555555556,
             "#d8576b"
            ],
            [
             0.6666666666666666,
             "#ed7953"
            ],
            [
             0.7777777777777778,
             "#fb9f3a"
            ],
            [
             0.8888888888888888,
             "#fdca26"
            ],
            [
             1,
             "#f0f921"
            ]
           ]
          },
          "colorway": [
           "#636efa",
           "#EF553B",
           "#00cc96",
           "#ab63fa",
           "#FFA15A",
           "#19d3f3",
           "#FF6692",
           "#B6E880",
           "#FF97FF",
           "#FECB52"
          ],
          "font": {
           "color": "#2a3f5f"
          },
          "geo": {
           "bgcolor": "white",
           "lakecolor": "white",
           "landcolor": "#E5ECF6",
           "showlakes": true,
           "showland": true,
           "subunitcolor": "white"
          },
          "hoverlabel": {
           "align": "left"
          },
          "hovermode": "closest",
          "mapbox": {
           "style": "light"
          },
          "paper_bgcolor": "white",
          "plot_bgcolor": "#E5ECF6",
          "polar": {
           "angularaxis": {
            "gridcolor": "white",
            "linecolor": "white",
            "ticks": ""
           },
           "bgcolor": "#E5ECF6",
           "radialaxis": {
            "gridcolor": "white",
            "linecolor": "white",
            "ticks": ""
           }
          },
          "scene": {
           "xaxis": {
            "backgroundcolor": "#E5ECF6",
            "gridcolor": "white",
            "gridwidth": 2,
            "linecolor": "white",
            "showbackground": true,
            "ticks": "",
            "zerolinecolor": "white"
           },
           "yaxis": {
            "backgroundcolor": "#E5ECF6",
            "gridcolor": "white",
            "gridwidth": 2,
            "linecolor": "white",
            "showbackground": true,
            "ticks": "",
            "zerolinecolor": "white"
           },
           "zaxis": {
            "backgroundcolor": "#E5ECF6",
            "gridcolor": "white",
            "gridwidth": 2,
            "linecolor": "white",
            "showbackground": true,
            "ticks": "",
            "zerolinecolor": "white"
           }
          },
          "shapedefaults": {
           "line": {
            "color": "#2a3f5f"
           }
          },
          "ternary": {
           "aaxis": {
            "gridcolor": "white",
            "linecolor": "white",
            "ticks": ""
           },
           "baxis": {
            "gridcolor": "white",
            "linecolor": "white",
            "ticks": ""
           },
           "bgcolor": "#E5ECF6",
           "caxis": {
            "gridcolor": "white",
            "linecolor": "white",
            "ticks": ""
           }
          },
          "title": {
           "x": 0.05
          },
          "xaxis": {
           "automargin": true,
           "gridcolor": "white",
           "linecolor": "white",
           "ticks": "",
           "title": {
            "standoff": 15
           },
           "zerolinecolor": "white",
           "zerolinewidth": 2
          },
          "yaxis": {
           "automargin": true,
           "gridcolor": "white",
           "linecolor": "white",
           "ticks": "",
           "title": {
            "standoff": 15
           },
           "zerolinecolor": "white",
           "zerolinewidth": 2
          }
         }
        }
       }
      }
     },
     "metadata": {},
     "output_type": "display_data"
    }
   ],
   "source": [
    "map_scatter(features_data)"
   ]
  },
  {
   "cell_type": "markdown",
   "metadata": {},
   "source": [
    "### Analyzing Clusters"
   ]
  },
  {
   "cell_type": "code",
   "execution_count": 35,
   "metadata": {},
   "outputs": [],
   "source": [
    "cluster0 = features_data.loc[features_data['clusters'] == 0]\n",
    "cluster1 = features_data.loc[features_data['clusters'] == 1]\n",
    "cluster2 = features_data.loc[features_data['clusters'] == 2]\n",
    "cluster3 = features_data.loc[features_data['clusters'] == 3]"
   ]
  },
  {
   "cell_type": "code",
   "execution_count": 36,
   "metadata": {},
   "outputs": [
    {
     "data": {
      "text/html": [
       "<div>\n",
       "<style scoped>\n",
       "    .dataframe tbody tr th:only-of-type {\n",
       "        vertical-align: middle;\n",
       "    }\n",
       "\n",
       "    .dataframe tbody tr th {\n",
       "        vertical-align: top;\n",
       "    }\n",
       "\n",
       "    .dataframe thead th {\n",
       "        text-align: right;\n",
       "    }\n",
       "</style>\n",
       "<table border=\"1\" class=\"dataframe\">\n",
       "  <thead>\n",
       "    <tr style=\"text-align: right;\">\n",
       "      <th></th>\n",
       "      <th>borough</th>\n",
       "      <th>neighborhood</th>\n",
       "      <th>longitude</th>\n",
       "      <th>latitude</th>\n",
       "      <th>1st Most Common Venue</th>\n",
       "      <th>2nd Most Common Venue</th>\n",
       "      <th>3rd Most Common Venue</th>\n",
       "      <th>4th Most Common Venue</th>\n",
       "      <th>5th Most Common Venue</th>\n",
       "      <th>clusters</th>\n",
       "    </tr>\n",
       "  </thead>\n",
       "  <tbody>\n",
       "    <tr>\n",
       "      <th>0</th>\n",
       "      <td>Bronx</td>\n",
       "      <td>Wakefield</td>\n",
       "      <td>-73.847201</td>\n",
       "      <td>40.894705</td>\n",
       "      <td>church</td>\n",
       "      <td>restaurant</td>\n",
       "      <td>store</td>\n",
       "      <td>school</td>\n",
       "      <td>clothing</td>\n",
       "      <td>0</td>\n",
       "    </tr>\n",
       "    <tr>\n",
       "      <th>1</th>\n",
       "      <td>Bronx</td>\n",
       "      <td>Co-op City</td>\n",
       "      <td>-73.829939</td>\n",
       "      <td>40.874294</td>\n",
       "      <td>restaurant</td>\n",
       "      <td>store</td>\n",
       "      <td>clothing</td>\n",
       "      <td>school</td>\n",
       "      <td>church</td>\n",
       "      <td>0</td>\n",
       "    </tr>\n",
       "    <tr>\n",
       "      <th>2</th>\n",
       "      <td>Bronx</td>\n",
       "      <td>Eastchester</td>\n",
       "      <td>-73.827806</td>\n",
       "      <td>40.887556</td>\n",
       "      <td>store</td>\n",
       "      <td>restaurant</td>\n",
       "      <td>church</td>\n",
       "      <td>school</td>\n",
       "      <td>clothing</td>\n",
       "      <td>0</td>\n",
       "    </tr>\n",
       "    <tr>\n",
       "      <th>3</th>\n",
       "      <td>Bronx</td>\n",
       "      <td>Fieldston</td>\n",
       "      <td>-73.905643</td>\n",
       "      <td>40.895437</td>\n",
       "      <td>restaurant</td>\n",
       "      <td>school</td>\n",
       "      <td>bank</td>\n",
       "      <td>park</td>\n",
       "      <td>store</td>\n",
       "      <td>0</td>\n",
       "    </tr>\n",
       "    <tr>\n",
       "      <th>4</th>\n",
       "      <td>Bronx</td>\n",
       "      <td>Riverdale</td>\n",
       "      <td>-73.912585</td>\n",
       "      <td>40.890834</td>\n",
       "      <td>school</td>\n",
       "      <td>bank</td>\n",
       "      <td>restaurant</td>\n",
       "      <td>store</td>\n",
       "      <td>park</td>\n",
       "      <td>0</td>\n",
       "    </tr>\n",
       "  </tbody>\n",
       "</table>\n",
       "</div>"
      ],
      "text/plain": [
       "  borough neighborhood  longitude   latitude 1st Most Common Venue  \\\n",
       "0   Bronx    Wakefield -73.847201  40.894705                church   \n",
       "1   Bronx   Co-op City -73.829939  40.874294            restaurant   \n",
       "2   Bronx  Eastchester -73.827806  40.887556                 store   \n",
       "3   Bronx    Fieldston -73.905643  40.895437            restaurant   \n",
       "4   Bronx    Riverdale -73.912585  40.890834                school   \n",
       "\n",
       "  2nd Most Common Venue 3rd Most Common Venue 4th Most Common Venue  \\\n",
       "0            restaurant                 store                school   \n",
       "1                 store              clothing                school   \n",
       "2            restaurant                church                school   \n",
       "3                school                  bank                  park   \n",
       "4                  bank            restaurant                 store   \n",
       "\n",
       "  5th Most Common Venue  clusters  \n",
       "0              clothing         0  \n",
       "1                church         0  \n",
       "2              clothing         0  \n",
       "3                 store         0  \n",
       "4                  park         0  "
      ]
     },
     "execution_count": 36,
     "metadata": {},
     "output_type": "execute_result"
    }
   ],
   "source": [
    "cluster0.head()"
   ]
  },
  {
   "cell_type": "code",
   "execution_count": 37,
   "metadata": {},
   "outputs": [
    {
     "name": "stdout",
     "output_type": "stream",
     "text": [
      "--cluster0--\n",
      "\n",
      "Top 3 most common venue type\n",
      "restaurant    68\n",
      "store         17\n",
      "church        10\n",
      "school         4\n",
      "Name: 1st Most Common Venue, dtype: int64\n",
      "\n",
      "Top 3 second most common venue type\n",
      "store         56\n",
      "restaurant    18\n",
      "church        13\n",
      "school         7\n",
      "clothing       4\n",
      "Name: 2nd Most Common Venue, dtype: int64\n",
      "\n",
      "Most common borough\n",
      "Queens      35\n",
      "Bronx       24\n",
      "Brooklyn    21\n",
      "Name: borough, dtype: int64\n",
      "\n",
      "Average ll\n",
      "40.71407829365659 , -73.90544606253675\n"
     ]
    }
   ],
   "source": [
    "print('--cluster0--')\n",
    "print()\n",
    "print('Top 3 most common venue type')\n",
    "print(cluster0['1st Most Common Venue'].value_counts()[:5])\n",
    "print()\n",
    "print('Top 3 second most common venue type')\n",
    "print(cluster0['2nd Most Common Venue'].value_counts()[:5])\n",
    "print()\n",
    "print('Most common borough')\n",
    "print(cluster0['borough'].value_counts()[:3])\n",
    "print()\n",
    "print('Average ll')\n",
    "print(cluster0.latitude.mean(), ',', cluster0.longitude.mean())"
   ]
  },
  {
   "cell_type": "code",
   "execution_count": 38,
   "metadata": {},
   "outputs": [
    {
     "name": "stdout",
     "output_type": "stream",
     "text": [
      "--cluster1--\n",
      "\n",
      "Top 3 most common venue type\n",
      "restaurant    42\n",
      "store         21\n",
      "church         3\n",
      "park           2\n",
      "clothing       1\n",
      "Name: 1st Most Common Venue, dtype: int64\n",
      "\n",
      "Top 3 second most common venue type\n",
      "store         36\n",
      "restaurant    19\n",
      "school         7\n",
      "church         4\n",
      "park           2\n",
      "Name: 2nd Most Common Venue, dtype: int64\n",
      "\n",
      "Most common borough\n",
      "Staten Island    42\n",
      "Queens           21\n",
      "Bronx             4\n",
      "Name: borough, dtype: int64\n",
      "\n",
      "Average ll\n",
      "40.61579897611594 , -74.01924947856754\n"
     ]
    }
   ],
   "source": [
    "print('--cluster1--')\n",
    "print()\n",
    "print('Top 3 most common venue type')\n",
    "print(cluster1['1st Most Common Venue'].value_counts()[:5])\n",
    "print()\n",
    "print('Top 3 second most common venue type')\n",
    "print(cluster1['2nd Most Common Venue'].value_counts()[:5])\n",
    "print()\n",
    "print('Most common borough')\n",
    "print(cluster1['borough'].value_counts()[:3])\n",
    "print()\n",
    "print('Average ll')\n",
    "print(cluster1.latitude.mean(), ',', cluster1.longitude.mean())"
   ]
  },
  {
   "cell_type": "code",
   "execution_count": 39,
   "metadata": {},
   "outputs": [
    {
     "name": "stdout",
     "output_type": "stream",
     "text": [
      "--cluster2--\n",
      "\n",
      "Top 3 most common venue type\n",
      "restaurant    22\n",
      "school        20\n",
      "lodging        5\n",
      "bar            4\n",
      "office         3\n",
      "Name: 1st Most Common Venue, dtype: int64\n",
      "\n",
      "Top 3 second most common venue type\n",
      "school        21\n",
      "bar           15\n",
      "store          9\n",
      "restaurant     4\n",
      "bank           3\n",
      "Name: 2nd Most Common Venue, dtype: int64\n",
      "\n",
      "Most common borough\n",
      "Manhattan    34\n",
      "Brooklyn     20\n",
      "Queens        4\n",
      "Name: borough, dtype: int64\n",
      "\n",
      "Average ll\n",
      "40.73171648532318 , -73.97346581170383\n"
     ]
    }
   ],
   "source": [
    "print('--cluster2--')\n",
    "print()\n",
    "print('Top 3 most common venue type')\n",
    "print(cluster2['1st Most Common Venue'].value_counts()[:5])\n",
    "print()\n",
    "print('Top 3 second most common venue type')\n",
    "print(cluster2['2nd Most Common Venue'].value_counts()[:5])\n",
    "print()\n",
    "print('Most common borough')\n",
    "print(cluster2['borough'].value_counts()[:3])\n",
    "print()\n",
    "print('Average ll')\n",
    "print(cluster2.latitude.mean(), ',', cluster2.longitude.mean())"
   ]
  },
  {
   "cell_type": "code",
   "execution_count": 40,
   "metadata": {},
   "outputs": [
    {
     "name": "stdout",
     "output_type": "stream",
     "text": [
      "--cluster3--\n",
      "\n",
      "Top 5 most common venue type\n",
      "restaurant    39\n",
      "school        14\n",
      "store         13\n",
      "church        12\n",
      "Name: 1st Most Common Venue, dtype: int64\n",
      "\n",
      "Top 5 second most common venue type\n",
      "store         39\n",
      "church        16\n",
      "restaurant    10\n",
      "school         7\n",
      "clothing       6\n",
      "Name: 2nd Most Common Venue, dtype: int64\n",
      "\n",
      "Most common borough\n",
      "Brooklyn    25\n",
      "Bronx       24\n",
      "Queens      21\n",
      "Name: borough, dtype: int64\n"
     ]
    }
   ],
   "source": [
    "print('--cluster3--')\n",
    "print()\n",
    "print('Top 5 most common venue type')\n",
    "print(cluster3['1st Most Common Venue'].value_counts()[:5])\n",
    "print()\n",
    "print('Top 5 second most common venue type')\n",
    "print(cluster3['2nd Most Common Venue'].value_counts()[:5])\n",
    "print()\n",
    "print('Most common borough')\n",
    "print(cluster3['borough'].value_counts()[:3])"
   ]
  },
  {
   "cell_type": "markdown",
   "metadata": {},
   "source": [
    "# Hierarchical Clustering"
   ]
  },
  {
   "cell_type": "code",
   "execution_count": 41,
   "metadata": {},
   "outputs": [],
   "source": [
    "from sklearn.cluster import AgglomerativeClustering\n",
    "import scipy.cluster.hierarchy as sch"
   ]
  },
  {
   "cell_type": "code",
   "execution_count": 42,
   "metadata": {},
   "outputs": [
    {
     "data": {
      "text/html": [
       "<div>\n",
       "<style scoped>\n",
       "    .dataframe tbody tr th:only-of-type {\n",
       "        vertical-align: middle;\n",
       "    }\n",
       "\n",
       "    .dataframe tbody tr th {\n",
       "        vertical-align: top;\n",
       "    }\n",
       "\n",
       "    .dataframe thead th {\n",
       "        text-align: right;\n",
       "    }\n",
       "</style>\n",
       "<table border=\"1\" class=\"dataframe\">\n",
       "  <thead>\n",
       "    <tr style=\"text-align: right;\">\n",
       "      <th></th>\n",
       "      <th>0</th>\n",
       "      <th>1</th>\n",
       "      <th>2</th>\n",
       "      <th>3</th>\n",
       "      <th>4</th>\n",
       "      <th>5</th>\n",
       "      <th>6</th>\n",
       "      <th>7</th>\n",
       "      <th>8</th>\n",
       "      <th>9</th>\n",
       "      <th>...</th>\n",
       "      <th>239</th>\n",
       "      <th>240</th>\n",
       "      <th>241</th>\n",
       "      <th>242</th>\n",
       "      <th>243</th>\n",
       "      <th>244</th>\n",
       "      <th>245</th>\n",
       "      <th>246</th>\n",
       "      <th>247</th>\n",
       "      <th>248</th>\n",
       "    </tr>\n",
       "  </thead>\n",
       "  <tbody>\n",
       "    <tr>\n",
       "      <th>0</th>\n",
       "      <td>0.742705</td>\n",
       "      <td>0.965681</td>\n",
       "      <td>0.150000</td>\n",
       "      <td>0.916667</td>\n",
       "      <td>0.433333</td>\n",
       "      <td>0.216667</td>\n",
       "      <td>0.166667</td>\n",
       "      <td>1.000000</td>\n",
       "      <td>0.200000</td>\n",
       "      <td>0.600000</td>\n",
       "      <td>...</td>\n",
       "      <td>0.0</td>\n",
       "      <td>0.0</td>\n",
       "      <td>0.0</td>\n",
       "      <td>0.0</td>\n",
       "      <td>0.0</td>\n",
       "      <td>0.0</td>\n",
       "      <td>0.0</td>\n",
       "      <td>0.0</td>\n",
       "      <td>0.0</td>\n",
       "      <td>0.0</td>\n",
       "    </tr>\n",
       "    <tr>\n",
       "      <th>1</th>\n",
       "      <td>0.774806</td>\n",
       "      <td>0.915060</td>\n",
       "      <td>0.083333</td>\n",
       "      <td>0.650000</td>\n",
       "      <td>0.433333</td>\n",
       "      <td>0.116667</td>\n",
       "      <td>0.066667</td>\n",
       "      <td>0.416667</td>\n",
       "      <td>0.250000</td>\n",
       "      <td>0.616667</td>\n",
       "      <td>...</td>\n",
       "      <td>0.0</td>\n",
       "      <td>0.0</td>\n",
       "      <td>0.0</td>\n",
       "      <td>0.0</td>\n",
       "      <td>0.0</td>\n",
       "      <td>0.0</td>\n",
       "      <td>0.0</td>\n",
       "      <td>0.0</td>\n",
       "      <td>0.0</td>\n",
       "      <td>0.0</td>\n",
       "    </tr>\n",
       "    <tr>\n",
       "      <th>2</th>\n",
       "      <td>0.778772</td>\n",
       "      <td>0.947950</td>\n",
       "      <td>0.050000</td>\n",
       "      <td>0.550000</td>\n",
       "      <td>0.266667</td>\n",
       "      <td>0.050000</td>\n",
       "      <td>0.183333</td>\n",
       "      <td>0.383333</td>\n",
       "      <td>0.066667</td>\n",
       "      <td>0.600000</td>\n",
       "      <td>...</td>\n",
       "      <td>0.0</td>\n",
       "      <td>0.0</td>\n",
       "      <td>0.0</td>\n",
       "      <td>0.0</td>\n",
       "      <td>0.0</td>\n",
       "      <td>0.0</td>\n",
       "      <td>0.0</td>\n",
       "      <td>0.0</td>\n",
       "      <td>0.0</td>\n",
       "      <td>0.0</td>\n",
       "    </tr>\n",
       "    <tr>\n",
       "      <th>3</th>\n",
       "      <td>0.634020</td>\n",
       "      <td>0.967497</td>\n",
       "      <td>0.033333</td>\n",
       "      <td>0.900000</td>\n",
       "      <td>0.450000</td>\n",
       "      <td>0.116667</td>\n",
       "      <td>0.233333</td>\n",
       "      <td>0.083333</td>\n",
       "      <td>0.400000</td>\n",
       "      <td>0.316667</td>\n",
       "      <td>...</td>\n",
       "      <td>0.0</td>\n",
       "      <td>0.0</td>\n",
       "      <td>0.0</td>\n",
       "      <td>0.0</td>\n",
       "      <td>0.0</td>\n",
       "      <td>0.0</td>\n",
       "      <td>0.0</td>\n",
       "      <td>0.0</td>\n",
       "      <td>0.0</td>\n",
       "      <td>0.0</td>\n",
       "    </tr>\n",
       "    <tr>\n",
       "      <th>4</th>\n",
       "      <td>0.621109</td>\n",
       "      <td>0.956082</td>\n",
       "      <td>0.050000</td>\n",
       "      <td>0.333333</td>\n",
       "      <td>0.416667</td>\n",
       "      <td>0.150000</td>\n",
       "      <td>0.266667</td>\n",
       "      <td>0.200000</td>\n",
       "      <td>0.383333</td>\n",
       "      <td>0.316667</td>\n",
       "      <td>...</td>\n",
       "      <td>0.0</td>\n",
       "      <td>0.0</td>\n",
       "      <td>0.0</td>\n",
       "      <td>0.0</td>\n",
       "      <td>0.0</td>\n",
       "      <td>0.0</td>\n",
       "      <td>0.0</td>\n",
       "      <td>0.0</td>\n",
       "      <td>0.0</td>\n",
       "      <td>0.0</td>\n",
       "    </tr>\n",
       "  </tbody>\n",
       "</table>\n",
       "<p>5 rows × 249 columns</p>\n",
       "</div>"
      ],
      "text/plain": [
       "          0         1         2         3         4         5         6  \\\n",
       "0  0.742705  0.965681  0.150000  0.916667  0.433333  0.216667  0.166667   \n",
       "1  0.774806  0.915060  0.083333  0.650000  0.433333  0.116667  0.066667   \n",
       "2  0.778772  0.947950  0.050000  0.550000  0.266667  0.050000  0.183333   \n",
       "3  0.634020  0.967497  0.033333  0.900000  0.450000  0.116667  0.233333   \n",
       "4  0.621109  0.956082  0.050000  0.333333  0.416667  0.150000  0.266667   \n",
       "\n",
       "          7         8         9  ...  239  240  241  242  243  244  245  246  \\\n",
       "0  1.000000  0.200000  0.600000  ...  0.0  0.0  0.0  0.0  0.0  0.0  0.0  0.0   \n",
       "1  0.416667  0.250000  0.616667  ...  0.0  0.0  0.0  0.0  0.0  0.0  0.0  0.0   \n",
       "2  0.383333  0.066667  0.600000  ...  0.0  0.0  0.0  0.0  0.0  0.0  0.0  0.0   \n",
       "3  0.083333  0.400000  0.316667  ...  0.0  0.0  0.0  0.0  0.0  0.0  0.0  0.0   \n",
       "4  0.200000  0.383333  0.316667  ...  0.0  0.0  0.0  0.0  0.0  0.0  0.0  0.0   \n",
       "\n",
       "   247  248  \n",
       "0  0.0  0.0  \n",
       "1  0.0  0.0  \n",
       "2  0.0  0.0  \n",
       "3  0.0  0.0  \n",
       "4  0.0  0.0  \n",
       "\n",
       "[5 rows x 249 columns]"
      ]
     },
     "execution_count": 42,
     "metadata": {},
     "output_type": "execute_result"
    }
   ],
   "source": [
    "features_scaled.head()"
   ]
  },
  {
   "cell_type": "code",
   "execution_count": 43,
   "metadata": {},
   "outputs": [],
   "source": [
    "X = np.array(features_scaled)"
   ]
  },
  {
   "cell_type": "markdown",
   "metadata": {},
   "source": [
    "### Denodrogram"
   ]
  },
  {
   "cell_type": "code",
   "execution_count": 44,
   "metadata": {},
   "outputs": [],
   "source": [
    "# define plot_dendrogram function\n",
    "def plot_dendrogram(X,method ='ward'):\n",
    "    dendrogram = sch.dendrogram(sch.linkage(X, method=method))\n",
    "    plt.title(\"Dendrogram\")\n",
    "    plt.ylabel(\"Euclidean distances\")\n",
    "    plt.xlabel('Points')\n",
    "    plt.show()"
   ]
  },
  {
   "cell_type": "code",
   "execution_count": 45,
   "metadata": {},
   "outputs": [
    {
     "data": {
      "image/png": "[encoded data removed]",
      "text/plain": [
       "<Figure size 432x288 with 1 Axes>"
      ]
     },
     "metadata": {
      "needs_background": "light"
     },
     "output_type": "display_data"
    }
   ],
   "source": [
    "# Plot dendrogram\n",
    "plot_dendrogram(X)"
   ]
  },
  {
   "cell_type": "markdown",
   "metadata": {},
   "source": [
    "### Agglomerative Clustering"
   ]
  },
  {
   "cell_type": "code",
   "execution_count": 46,
   "metadata": {},
   "outputs": [],
   "source": [
    "# Create clustering object\n",
    "ac = AgglomerativeClustering(affinity='euclidean',\n",
    "                             linkage='ward',\n",
    "                             n_clusters = 3)"
   ]
  },
  {
   "cell_type": "code",
   "execution_count": 47,
   "metadata": {},
   "outputs": [],
   "source": [
    "# fit and predict\n",
    "y_hc = ac.fit_predict(features_scaled)"
   ]
  },
  {
   "cell_type": "code",
   "execution_count": 48,
   "metadata": {},
   "outputs": [],
   "source": [
    "# Create plot\n",
    "def plot_clusters(X,y_res, plt_cluster_centers = False):\n",
    "    X_centroids = []\n",
    "    Y_centroids = []\n",
    "\n",
    "    for cluster in set(y_res):\n",
    "        x = X[y_res == cluster,0]\n",
    "        y = X[y_res == cluster,1]\n",
    "        X_centroids.append(np.mean(x))\n",
    "        Y_centroids.append(np.mean(y))\n",
    "\n",
    "        plt.scatter(x,\n",
    "                    y,\n",
    "                    s=50,\n",
    "                    marker='s',\n",
    "                    label=f'cluster {cluster}')\n",
    "\n",
    "    if plt_cluster_centers:\n",
    "        plt.scatter(X_centroids,\n",
    "                    Y_centroids,\n",
    "                    marker='*',\n",
    "                    c='red',\n",
    "                    s=250,\n",
    "                    label='centroids')\n",
    "    plt.legend()\n",
    "    plt.grid()\n",
    "    plt.show()"
   ]
  },
  {
   "cell_type": "code",
   "execution_count": 49,
   "metadata": {},
   "outputs": [
    {
     "data": {
      "image/png": "[encoded data removed]",
      "text/plain": [
       "<Figure size 432x288 with 1 Axes>"
      ]
     },
     "metadata": {
      "needs_background": "light"
     },
     "output_type": "display_data"
    }
   ],
   "source": [
    "# Plot clustering result\n",
    "plot_clusters(X,y_hc)"
   ]
  },
  {
   "cell_type": "code",
   "execution_count": null,
   "metadata": {},
   "outputs": [],
   "source": []
  },
  {
   "cell_type": "markdown",
   "metadata": {},
   "source": [
    "### Analysing Clusters"
   ]
  },
  {
   "cell_type": "code",
   "execution_count": 50,
   "metadata": {},
   "outputs": [],
   "source": [
    "clusters_heirarchical = y_hc.tolist()"
   ]
  },
  {
   "cell_type": "code",
   "execution_count": 51,
   "metadata": {},
   "outputs": [
    {
     "data": {
      "text/html": [
       "<div>\n",
       "<style scoped>\n",
       "    .dataframe tbody tr th:only-of-type {\n",
       "        vertical-align: middle;\n",
       "    }\n",
       "\n",
       "    .dataframe tbody tr th {\n",
       "        vertical-align: top;\n",
       "    }\n",
       "\n",
       "    .dataframe thead th {\n",
       "        text-align: right;\n",
       "    }\n",
       "</style>\n",
       "<table border=\"1\" class=\"dataframe\">\n",
       "  <thead>\n",
       "    <tr style=\"text-align: right;\">\n",
       "      <th></th>\n",
       "      <th>borough</th>\n",
       "      <th>neighborhood</th>\n",
       "      <th>longitude</th>\n",
       "      <th>latitude</th>\n",
       "      <th>1st Most Common Venue</th>\n",
       "      <th>2nd Most Common Venue</th>\n",
       "      <th>3rd Most Common Venue</th>\n",
       "      <th>4th Most Common Venue</th>\n",
       "      <th>5th Most Common Venue</th>\n",
       "      <th>clusters</th>\n",
       "    </tr>\n",
       "  </thead>\n",
       "  <tbody>\n",
       "    <tr>\n",
       "      <th>0</th>\n",
       "      <td>Bronx</td>\n",
       "      <td>Wakefield</td>\n",
       "      <td>-73.847201</td>\n",
       "      <td>40.894705</td>\n",
       "      <td>church</td>\n",
       "      <td>restaurant</td>\n",
       "      <td>store</td>\n",
       "      <td>school</td>\n",
       "      <td>clothing</td>\n",
       "      <td>1</td>\n",
       "    </tr>\n",
       "    <tr>\n",
       "      <th>1</th>\n",
       "      <td>Bronx</td>\n",
       "      <td>Co-op City</td>\n",
       "      <td>-73.829939</td>\n",
       "      <td>40.874294</td>\n",
       "      <td>restaurant</td>\n",
       "      <td>store</td>\n",
       "      <td>clothing</td>\n",
       "      <td>school</td>\n",
       "      <td>church</td>\n",
       "      <td>0</td>\n",
       "    </tr>\n",
       "    <tr>\n",
       "      <th>2</th>\n",
       "      <td>Bronx</td>\n",
       "      <td>Eastchester</td>\n",
       "      <td>-73.827806</td>\n",
       "      <td>40.887556</td>\n",
       "      <td>store</td>\n",
       "      <td>restaurant</td>\n",
       "      <td>church</td>\n",
       "      <td>school</td>\n",
       "      <td>clothing</td>\n",
       "      <td>0</td>\n",
       "    </tr>\n",
       "    <tr>\n",
       "      <th>3</th>\n",
       "      <td>Bronx</td>\n",
       "      <td>Fieldston</td>\n",
       "      <td>-73.905643</td>\n",
       "      <td>40.895437</td>\n",
       "      <td>restaurant</td>\n",
       "      <td>school</td>\n",
       "      <td>bank</td>\n",
       "      <td>park</td>\n",
       "      <td>store</td>\n",
       "      <td>0</td>\n",
       "    </tr>\n",
       "    <tr>\n",
       "      <th>4</th>\n",
       "      <td>Bronx</td>\n",
       "      <td>Riverdale</td>\n",
       "      <td>-73.912585</td>\n",
       "      <td>40.890834</td>\n",
       "      <td>school</td>\n",
       "      <td>bank</td>\n",
       "      <td>restaurant</td>\n",
       "      <td>store</td>\n",
       "      <td>park</td>\n",
       "      <td>0</td>\n",
       "    </tr>\n",
       "  </tbody>\n",
       "</table>\n",
       "</div>"
      ],
      "text/plain": [
       "  borough neighborhood  longitude   latitude 1st Most Common Venue  \\\n",
       "0   Bronx    Wakefield -73.847201  40.894705                church   \n",
       "1   Bronx   Co-op City -73.829939  40.874294            restaurant   \n",
       "2   Bronx  Eastchester -73.827806  40.887556                 store   \n",
       "3   Bronx    Fieldston -73.905643  40.895437            restaurant   \n",
       "4   Bronx    Riverdale -73.912585  40.890834                school   \n",
       "\n",
       "  2nd Most Common Venue 3rd Most Common Venue 4th Most Common Venue  \\\n",
       "0            restaurant                 store                school   \n",
       "1                 store              clothing                school   \n",
       "2            restaurant                church                school   \n",
       "3                school                  bank                  park   \n",
       "4                  bank            restaurant                 store   \n",
       "\n",
       "  5th Most Common Venue  clusters  \n",
       "0              clothing         1  \n",
       "1                church         0  \n",
       "2              clothing         0  \n",
       "3                 store         0  \n",
       "4                  park         0  "
      ]
     },
     "execution_count": 51,
     "metadata": {},
     "output_type": "execute_result"
    }
   ],
   "source": [
    "heirarchical_data = neighborhoods.copy()\n",
    "heirarchical_data = pd.merge(heirarchical_data, most_common_venues, on='id' )\n",
    "heirarchical_data = heirarchical_data.drop('id', axis=1)\n",
    "heirarchical_data['clusters'] = clusters_heirarchical\n",
    "heirarchical_data.head()"
   ]
  },
  {
   "cell_type": "code",
   "execution_count": 52,
   "metadata": {},
   "outputs": [],
   "source": [
    "# heirarchical_clustering = heirarchical_data.to_csv('heirarchical_clustering.csv', index=False)"
   ]
  },
  {
   "cell_type": "code",
   "execution_count": 53,
   "metadata": {},
   "outputs": [],
   "source": [
    "cluster0_heirarchical = heirarchical_data.loc[heirarchical_data['clusters'] == 0]\n",
    "cluster1_heirarchical = heirarchical_data.loc[heirarchical_data['clusters'] == 1]\n",
    "cluster2_heirarchical = heirarchical_data.loc[heirarchical_data['clusters'] == 2]"
   ]
  },
  {
   "cell_type": "code",
   "execution_count": 54,
   "metadata": {},
   "outputs": [
    {
     "name": "stdout",
     "output_type": "stream",
     "text": [
      "--cluster0--\n",
      "\n",
      "Top 3 most common venue type\n",
      "restaurant    88\n",
      "store         36\n",
      "church         7\n",
      "Name: 1st Most Common Venue, dtype: int64\n",
      "\n",
      "Top 3 second most common venue type\n",
      "store         72\n",
      "restaurant    33\n",
      "church        13\n",
      "Name: 2nd Most Common Venue, dtype: int64\n",
      "\n",
      "Most common borough\n",
      "Staten Island    54\n",
      "Queens           47\n",
      "Bronx            21\n",
      "Name: borough, dtype: int64\n",
      "\n",
      "Average ll\n",
      "40.71407829365659 , -73.90544606253675\n"
     ]
    }
   ],
   "source": [
    "print('--cluster0--')\n",
    "print()\n",
    "print('Top 3 most common venue type')\n",
    "print(cluster0_heirarchical['1st Most Common Venue'].value_counts()[:3])\n",
    "print()\n",
    "print('Top 3 second most common venue type')\n",
    "print(cluster0_heirarchical['2nd Most Common Venue'].value_counts()[:3])\n",
    "print()\n",
    "print('Most common borough')\n",
    "print(cluster0_heirarchical['borough'].value_counts()[:3])\n",
    "print()\n",
    "print('Average ll')\n",
    "print(cluster0.latitude.mean(), ',', cluster0.longitude.mean())"
   ]
  },
  {
   "cell_type": "code",
   "execution_count": 55,
   "metadata": {},
   "outputs": [
    {
     "name": "stdout",
     "output_type": "stream",
     "text": [
      "--cluster1--\n",
      "\n",
      "Top 3 most common venue type\n",
      "restaurant    58\n",
      "church        18\n",
      "store         16\n",
      "Name: 1st Most Common Venue, dtype: int64\n",
      "\n",
      "Top 3 second most common venue type\n",
      "store         56\n",
      "church        20\n",
      "restaurant    14\n",
      "Name: 2nd Most Common Venue, dtype: int64\n",
      "\n",
      "Most common borough\n",
      "Brooklyn    33\n",
      "Bronx       31\n",
      "Queens      29\n",
      "Name: borough, dtype: int64\n",
      "\n",
      "Average ll\n",
      "40.61579897611594 , -74.01924947856754\n"
     ]
    }
   ],
   "source": [
    "print('--cluster1--')\n",
    "print()\n",
    "print('Top 3 most common venue type')\n",
    "print(cluster1_heirarchical['1st Most Common Venue'].value_counts()[:3])\n",
    "print()\n",
    "print('Top 3 second most common venue type')\n",
    "print(cluster1_heirarchical['2nd Most Common Venue'].value_counts()[:3])\n",
    "print()\n",
    "print('Most common borough')\n",
    "print(cluster1_heirarchical['borough'].value_counts()[:3])\n",
    "print()\n",
    "print('Average ll')\n",
    "print(cluster1.latitude.mean(), ',', cluster1.longitude.mean())"
   ]
  },
  {
   "cell_type": "code",
   "execution_count": 56,
   "metadata": {},
   "outputs": [
    {
     "name": "stdout",
     "output_type": "stream",
     "text": [
      "--cluster2--\n",
      "\n",
      "Top 3 most common venue type\n",
      "restaurant    25\n",
      "school        20\n",
      "lodging        5\n",
      "Name: 1st Most Common Venue, dtype: int64\n",
      "\n",
      "Top 3 second most common venue type\n",
      "school    20\n",
      "bar       15\n",
      "store     12\n",
      "Name: 2nd Most Common Venue, dtype: int64\n",
      "\n",
      "Most common borough\n",
      "Manhattan    35\n",
      "Brooklyn     20\n",
      "Queens        5\n",
      "Name: borough, dtype: int64\n",
      "\n",
      "Average ll\n",
      "40.73171648532318 , -73.97346581170383\n"
     ]
    }
   ],
   "source": [
    "print('--cluster2--')\n",
    "print()\n",
    "print('Top 3 most common venue type')\n",
    "print(cluster2_heirarchical['1st Most Common Venue'].value_counts()[:3])\n",
    "print()\n",
    "print('Top 3 second most common venue type')\n",
    "print(cluster2_heirarchical['2nd Most Common Venue'].value_counts()[:3])\n",
    "print()\n",
    "print('Most common borough')\n",
    "print(cluster2_heirarchical['borough'].value_counts()[:3])\n",
    "print()\n",
    "print('Average ll')\n",
    "print(cluster2.latitude.mean(), ',', cluster2.longitude.mean())"
   ]
  },
  {
   "cell_type": "markdown",
   "metadata": {},
   "source": [
    "### Mapping"
   ]
  },
  {
   "cell_type": "code",
   "execution_count": 57,
   "metadata": {},
   "outputs": [
    {
     "data": {
      "application/vnd.plotly.v1+json": {
       "config": {
        "plotlyServerURL": "https://plot.ly"
       },
       "data": [
        {
         "hovertemplate": "<b>%{hovertext}</b><br><br>latitude=%{lat}<br>longitude=%{lon}<br>clusters=%{marker.color}<extra></extra>",
         "hovertext": [
          "Wakefield",
          "Co-op City",
          "Eastchester",
          "Fieldston",
          "Riverdale",
          "Kingsbridge",
          "Marble Hill",
          "Woodlawn",
          "Norwood",
          "Williamsbridge",
          "Baychester",
          "Pelham Parkway",
          "City Island",
          "Bedford Park",
          "University Heights",
          "Morris Heights",
          "Fordham",
          "East Tremont",
          "West Farms",
          "High  Bridge",
          "Melrose",
          "Mott Haven",
          "Port Morris",
          "Longwood",
          "Hunts Point",
          "Morrisania",
          "Soundview",
          "Clason Point",
          "Throgs Neck",
          "Country Club",
          "Parkchester",
          "Westchester Square",
          "Van Nest",
          "Morris Park",
          "Belmont",
          "Spuyten Duyvil",
          "North Riverdale",
          "Pelham Bay",
          "Schuylerville",
          "Edgewater Park",
          "Castle Hill",
          "Olinville",
          "Pelham Gardens",
          "Concourse",
          "Unionport",
          "Edenwald",
          "Bay Ridge",
          "Bensonhurst",
          "Sunset Park",
          "Greenpoint",
          "Gravesend",
          "Brighton Beach",
          "Sheepshead Bay",
          "Manhattan Terrace",
          "Flatbush",
          "Crown Heights",
          "East Flatbush",
          "Kensington",
          "Windsor Terrace",
          "Prospect Heights",
          "Brownsville",
          "Williamsburg",
          "Bushwick",
          "Bedford Stuyvesant",
          "Brooklyn Heights",
          "Cobble Hill",
          "Carroll Gardens",
          "Red Hook",
          "Gowanus",
          "Fort Greene",
          "Park Slope",
          "Cypress Hills",
          "East New York",
          "Starrett City",
          "Canarsie",
          "Flatlands",
          "Mill Island",
          "Manhattan Beach",
          "Coney Island",
          "Bath Beach",
          "Borough Park",
          "Dyker Heights",
          "Gerritsen Beach",
          "Marine Park",
          "Clinton Hill",
          "Sea Gate",
          "Downtown",
          "Boerum Hill",
          "Prospect Lefferts Gardens",
          "Ocean Hill",
          "City Line",
          "Bergen Beach",
          "Midwood",
          "Prospect Park South",
          "Georgetown",
          "East Williamsburg",
          "North Side",
          "South Side",
          "Ocean Parkway",
          "Fort Hamilton",
          "Chinatown",
          "Washington Heights",
          "Inwood",
          "Hamilton Heights",
          "Manhattanville",
          "Central Harlem",
          "East Harlem",
          "Upper East Side",
          "Yorkville",
          "Lenox Hill",
          "Roosevelt Island",
          "Upper West Side",
          "Lincoln Square",
          "Clinton",
          "Midtown",
          "Murray Hill",
          "Murray Hill",
          "Chelsea",
          "Chelsea",
          "Greenwich Village",
          "East Village",
          "Lower East Side",
          "Tribeca",
          "Little Italy",
          "Soho",
          "West Village",
          "Manhattan Valley",
          "Morningside Heights",
          "Gramercy",
          "Battery Park City",
          "Financial District",
          "Astoria",
          "Woodside",
          "Jackson Heights",
          "Elmhurst",
          "Howard Beach",
          "Corona",
          "Forest Hills",
          "Kew Gardens",
          "Richmond Hill",
          "Flushing",
          "Long Island City",
          "Sunnyside",
          "Sunnyside",
          "East Elmhurst",
          "Maspeth",
          "Ridgewood",
          "Glendale",
          "Rego Park",
          "Woodhaven",
          "Ozone Park",
          "South Ozone Park",
          "College Point",
          "Whitestone",
          "Bayside",
          "Auburndale",
          "Little Neck",
          "Douglaston",
          "Glen Oaks",
          "Bellerose",
          "Kew Gardens Hills",
          "Fresh Meadows",
          "Briarwood",
          "Jamaica Center",
          "Oakland Gardens",
          "Queens Village",
          "Hollis",
          "South Jamaica",
          "St. Albans",
          "Rochdale",
          "Springfield Gardens",
          "Cambria Heights",
          "Rosedale",
          "Far Rockaway",
          "Broad Channel",
          "Breezy Point",
          "Steinway",
          "Beechhurst",
          "Bay Terrace",
          "Bay Terrace",
          "Edgemere",
          "Arverne",
          "Rockaway Beach",
          "Neponsit",
          "Floral Park",
          "Holliswood",
          "Jamaica Estates",
          "Queensboro Hill",
          "Hillcrest",
          "Ravenswood",
          "Lindenwood",
          "Laurelton",
          "Lefrak City",
          "Belle Harbor",
          "Rockaway Park",
          "Somerville",
          "Brookville",
          "Bellaire",
          "North Corona",
          "Forest Hills Gardens",
          "St. George",
          "New Brighton",
          "Stapleton",
          "Rosebank",
          "West Brighton",
          "Grymes Hill",
          "Todt Hill",
          "South Beach",
          "Port Richmond",
          "Mariner's Harbor",
          "Port Ivory",
          "Castleton Corners",
          "New Springville",
          "Travis",
          "New Dorp",
          "Oakwood",
          "Great Kills",
          "Eltingville",
          "Annadale",
          "Woodrow",
          "Tottenville",
          "Tompkinsville",
          "Silver Lake",
          "Ditmas Park",
          "Wingate",
          "Rugby",
          "Park Hill",
          "Westerleigh",
          "Graniteville",
          "Arlington",
          "Arrochar",
          "Grasmere",
          "Old Town",
          "Dongan Hills",
          "Midland Beach",
          "Grant City",
          "New Dorp Beach",
          "Huguenot",
          "Pleasant Plains",
          "Butler Manor",
          "Charleston",
          "Rossville",
          "Arden Heights",
          "Greenridge",
          "Heartland Village",
          "Bloomfield",
          "Bulls Head",
          "Carnegie Hill",
          "Noho",
          "Civic Center",
          "Midtown South",
          "Richmond Town",
          "Shore Acres",
          "Clifton",
          "Concord",
          "Emerson Hill",
          "Randall Manor",
          "Howland Hook",
          "Elm Park",
          "Remsen Village",
          "New Lots",
          "Paerdegat Basin",
          "Mill Basin",
          "Jamaica Hills",
          "Utopia",
          "Pomonok",
          "Astoria Heights",
          "Claremont Village",
          "Concourse Village",
          "Mount Eden",
          "Mount Hope",
          "Sutton Place",
          "Hunters Point",
          "Turtle Bay",
          "Tudor City",
          "Stuyvesant Town",
          "Flatiron",
          "Sunnyside Gardens",
          "Blissville",
          "Fulton Ferry",
          "Vinegar Hill",
          "Weeksville",
          "Broadway Junction",
          "Dumbo",
          "Manor Heights",
          "Willowbrook",
          "Sandy Ground",
          "Egbertville",
          "Roxbury",
          "Homecrest",
          "Middle Village",
          "Prince's Bay",
          "Lighthouse Hill",
          "Richmond Valley",
          "Malba",
          "Highland Park",
          "Madison",
          "Bronxdale",
          "Allerton",
          "Kingsbridge Heights",
          "Erasmus",
          "Hudson Yards",
          "Hammels",
          "Bayswater",
          "Queensbridge",
          "Fox Hills"
         ],
         "lat": [
          40.89470517661,
          40.87429419303012,
          40.887555677350775,
          40.89543742690383,
          40.890834493891305,
          40.88168737120521,
          40.87655077879964,
          40.89827261213805,
          40.87722415599446,
          40.88103887819211,
          40.866858107252696,
          40.85741349808865,
          40.84724670491813,
          40.870185164975325,
          40.85572707719664,
          40.84789792606271,
          40.86099679638654,
          40.84269615786053,
          40.83947505672653,
          40.836623010706056,
          40.819754370594936,
          40.80623874935177,
          40.801663627756206,
          40.81509904545822,
          40.80972987938709,
          40.82359198585534,
          40.821012197914015,
          40.80655112003589,
          40.81510925804005,
          40.844245936947374,
          40.837937822267286,
          40.8406194964327,
          40.84360847124718,
          40.847549063536334,
          40.85727710073895,
          40.88139497727086,
          40.90854282950666,
          40.85064140940335,
          40.82657951686922,
          40.82198611816349,
          40.81901437698832,
          40.87137078192371,
          40.86296562477998,
          40.83428380733851,
          40.82977429787161,
          40.88456130303732,
          40.625801065010656,
          40.61100890202044,
          40.64510294925429,
          40.7302009848647,
          40.59526001306593,
          40.57682506566604,
          40.58689012678384,
          40.61443251335098,
          40.63632589026677,
          40.67082917695294,
          40.64171776668961,
          40.642381958003526,
          40.65694583575104,
          40.67682226225472,
          40.66394994339755,
          40.70714439344251,
          40.69811611017901,
          40.687231607720456,
          40.69586372272408,
          40.68791972248557,
          40.680540231076485,
          40.676253230250886,
          40.673931143187154,
          40.68852726018977,
          40.67232052268197,
          40.68239101144211,
          40.669925700847045,
          40.64758905230874,
          40.63556432797428,
          40.630446043757466,
          40.606336421685626,
          40.57791350308657,
          40.57429256471601,
          40.59951870282238,
          40.633130512758015,
          40.61921945772264,
          40.590848433902046,
          40.609747779894604,
          40.693229421881504,
          40.57637537890224,
          40.69084402109802,
          40.68568291209144,
          40.658420017469815,
          40.67840255479536,
          40.67856995727479,
          40.61514955045308,
          40.62559589869843,
          40.64700860318519,
          40.62384524478419,
          40.70849241041548,
          40.714822906532014,
          40.71086147265064,
          40.61305976667942,
          40.61476812694226,
          40.71561842231432,
          40.85190252555305,
          40.86768396449915,
          40.823604284811935,
          40.8169344294978,
          40.81597606742414,
          40.79224946663033,
          40.775638573301805,
          40.77592984988488,
          40.76811265828733,
          40.76215960576283,
          40.78765799853485,
          40.77352888942166,
          40.75910089146212,
          40.75469110270623,
          40.748303077252174,
          40.76412612261407,
          40.744034706747975,
          40.59472602746295,
          40.72693288536128,
          40.72784677727024,
          40.71780674892765,
          40.721521967443216,
          40.71932379395907,
          40.72218384131794,
          40.73443393572434,
          40.79730704170287,
          40.80799973816583,
          40.737209832715,
          40.71193198394565,
          40.70710710727048,
          40.76850859335492,
          40.74634908860222,
          40.75198138007367,
          40.74404850512202,
          40.65422527738487,
          40.74238175015667,
          40.72526378216503,
          40.7051790354148,
          40.69794731471763,
          40.76445419697846,
          40.75021734610528,
          40.74017628351924,
          40.61276015756489,
          40.76407323883091,
          40.725427374093606,
          40.70832315613858,
          40.70276242967838,
          40.72897409480735,
          40.68988687915789,
          40.680708468265415,
          40.66854957767195,
          40.784902749260205,
          40.78129076602694,
          40.76604063281064,
          40.76172954903262,
          40.7708261928267,
          40.76684609790763,
          40.74944079974332,
          40.72857318176675,
          40.722578244228046,
          40.7343944653313,
          40.71093547252271,
          40.70465736068717,
          40.74561857141855,
          40.71889309216736,
          40.71124344191904,
          40.696911253789885,
          40.69444538522359,
          40.67521139591733,
          40.66623049036858,
          40.692774639160845,
          40.65981643342808,
          40.603134432500894,
          40.60302658351238,
          40.55740128845452,
          40.775923015642896,
          40.79278140360048,
          40.782842806245554,
          40.55398800858462,
          40.595641807368494,
          40.58914394372971,
          40.58280169684559,
          40.572036730217015,
          40.74137842194544,
          40.7209572076444,
          40.71680483014613,
          40.7445723092867,
          40.7238249018292,
          40.76170452605415,
          40.66391841925139,
          40.66788389660247,
          40.7360745708308,
          40.57615556543109,
          40.58034295646131,
          40.59771061565768,
          40.66000322733613,
          40.73301404027834,
          40.7540709990489,
          40.7146110815117,
          40.6449815710044,
          40.64061455913511,
          40.62692762538176,
          40.61530494652761,
          40.63187892654607,
          40.624184791313006,
          40.59706851814673,
          40.58024741350956,
          40.63366930554365,
          40.63254639048112,
          40.63968297845542,
          40.61333593766742,
          40.594252379161695,
          40.58631375103281,
          40.57257231820632,
          40.5584622432888,
          40.549480228713605,
          40.542230747450745,
          40.53811417474507,
          40.54196762288876,
          40.50533376115642,
          40.637316067110326,
          40.61919310792676,
          40.643675183340974,
          40.66094656188111,
          40.65557231328077,
          40.60919044434558,
          40.62109047275409,
          40.620171512231884,
          40.63532509911492,
          40.596312571276734,
          40.59826835959991,
          40.59632891379513,
          40.58867294819928,
          40.57352690574283,
          40.57621558711788,
          40.56425549307335,
          40.531911920489605,
          40.524699376118136,
          40.50608165346305,
          40.53053148283314,
          40.54940400650072,
          40.54928582278321,
          40.5552952361732,
          40.58913894875281,
          40.60577868452358,
          40.6095918004203,
          40.7826825671257,
          40.72325901885768,
          40.71522892046282,
          40.7485096643122,
          40.56960594275505,
          40.60971934079284,
          40.61917845202843,
          40.6044731896879,
          40.606794394801,
          40.63563000681151,
          40.63843283794795,
          40.63014674119383,
          40.65211745179349,
          40.6627442796966,
          40.63131755039667,
          40.61597423962336,
          40.71145964370482,
          40.73350025429757,
          40.73493618075478,
          40.7703173929982,
          40.83142834161548,
          40.824780490842905,
          40.84382617671654,
          40.84884160724665,
          40.76028033131374,
          40.743414090073536,
          40.75204236950722,
          40.7469174107402,
          40.73099955477061,
          40.739673047638426,
          40.74565180608076,
          40.73725071694497,
          40.70328109093014,
          40.70332149882874,
          40.67503986503237,
          40.67786104769531,
          40.70317632822692,
          40.60180957631444,
          40.60370692627371,
          40.541139922091766,
          40.579118742961214,
          40.56737588957032,
          40.598525095137255,
          40.716414511158185,
          40.52626406734812,
          40.57650629379489,
          40.51954145748909,
          40.79060155670148,
          40.6819989345173,
          40.60937770113766,
          40.85272297633017,
          40.86578787802982,
          40.8703923914147,
          40.64692606658579,
          40.75665808227519,
          40.58733774018741,
          40.61132169128384,
          40.75609129709471,
          40.61731079252983
         ],
         "legendgroup": "",
         "lon": [
          -73.84720052054902,
          -73.82993910812398,
          -73.82780644716412,
          -73.90564259591682,
          -73.9125854610857,
          -73.90281798724604,
          -73.91065965862981,
          -73.86731496814176,
          -73.8793907395681,
          -73.85744642974207,
          -73.83579759808117,
          -73.85475564017999,
          -73.78648845267413,
          -73.8855121841913,
          -73.9104159619131,
          -73.91967159119565,
          -73.89642655981623,
          -73.88735617532338,
          -73.87774474910545,
          -73.9261020935813,
          -73.90942160757436,
          -73.91609987487575,
          -73.91322139386135,
          -73.8957882009446,
          -73.88331505955291,
          -73.90150648943059,
          -73.86574609554924,
          -73.85414416189266,
          -73.81635002158441,
          -73.8240992675385,
          -73.85600310535783,
          -73.84219407604444,
          -73.8662991807561,
          -73.85040178030421,
          -73.88845196134804,
          -73.91719048210393,
          -73.90453054908927,
          -73.8320737824047,
          -73.82620275994073,
          -73.81388514428619,
          -73.84802729582735,
          -73.86332361652777,
          -73.84161194831223,
          -73.91558941773444,
          -73.85053524451935,
          -73.84808271877168,
          -74.03062069353813,
          -73.99517998380729,
          -74.01031618527784,
          -73.95424093127393,
          -73.97347087708445,
          -73.96509448785336,
          -73.94318640482979,
          -73.95743840559939,
          -73.95840106533903,
          -73.94329119073582,
          -73.93610256185836,
          -73.98042110559474,
          -73.98007340430172,
          -73.9648592426269,
          -73.91023536176607,
          -73.95811529220927,
          -73.92525797487045,
          -73.94178488690297,
          -73.99378225496424,
          -73.99856139218463,
          -73.99465372828006,
          -74.0127589747356,
          -73.99444087145339,
          -73.97290574369092,
          -73.97705030183924,
          -73.87661596457296,
          -73.88069863917366,
          -73.87936970045875,
          -73.90209269778966,
          -73.92911302644674,
          -73.90818571777423,
          -73.94353722891886,
          -73.98868295821637,
          -73.99875221443519,
          -73.99049823044811,
          -74.01931375636022,
          -73.93010170691196,
          -73.93134404108497,
          -73.96784306216367,
          -74.0078731120024,
          -73.98346337431099,
          -73.98374824115798,
          -73.95489867077713,
          -73.91306831787395,
          -73.86797598081334,
          -73.89855633630317,
          -73.95759523489838,
          -73.96261316716048,
          -73.91607483951324,
          -73.93885815269195,
          -73.95880857587582,
          -73.95800095153331,
          -73.96836678035541,
          -74.03197914537984,
          -73.99427936255978,
          -73.93690027985234,
          -73.92121042203897,
          -73.94968791883366,
          -73.9573853935188,
          -73.94321112603905,
          -73.94418223148524,
          -73.96050763135,
          -73.94711784471826,
          -73.9588596881376,
          -73.94916769227953,
          -73.97705923630603,
          -73.98533777001262,
          -73.99611936309479,
          -73.98166882730304,
          -73.97833207924127,
          -73.81276269135866,
          -74.00311633472813,
          -74.1895604551969,
          -73.99991402945902,
          -73.98222616506416,
          -73.98089031999291,
          -74.01068328559087,
          -73.99730467208073,
          -74.00065666959759,
          -74.00617998126812,
          -73.96428617740655,
          -73.96389627905332,
          -73.98137594833541,
          -74.01686930508617,
          -74.0106654452127,
          -73.91565374304234,
          -73.90184166838284,
          -73.88282109164365,
          -73.88165622288388,
          -73.8381376460028,
          -73.85682497345258,
          -73.84447500788983,
          -73.82981905825703,
          -73.83183321446887,
          -73.83177300329582,
          -73.93920223915505,
          -73.92691617561577,
          -74.0971255217853,
          -73.86704147658772,
          -73.89621713626859,
          -73.90143517559589,
          -73.87074167435605,
          -73.8578268690537,
          -73.8581104655432,
          -73.84320266173447,
          -73.80986478649041,
          -73.84304528896125,
          -73.81420216610863,
          -73.7742736306867,
          -73.79176243728061,
          -73.7388977558074,
          -73.7424982072733,
          -73.71548118999145,
          -73.72012814826903,
          -73.82087764933566,
          -73.78271337003264,
          -73.81174822458634,
          -73.79690165888289,
          -73.75494976234332,
          -73.73871484578424,
          -73.75925009335594,
          -73.7904261313554,
          -73.75867603727717,
          -73.77258787620906,
          -73.76042092682287,
          -73.73526873708026,
          -73.73526079428278,
          -73.75497968043872,
          -73.8200548911032,
          -73.92551196994168,
          -73.90228960391673,
          -73.80436451720988,
          -73.7768022262158,
          -74.13916622175768,
          -73.77613282391705,
          -73.79199233136943,
          -73.82236121088751,
          -73.85754672410827,
          -73.70884705889246,
          -73.76714166714729,
          -73.7872269693666,
          -73.82580915110559,
          -73.79760300912672,
          -73.93157506072878,
          -73.84963782402441,
          -73.74025607989822,
          -73.8625247141374,
          -73.8540175039252,
          -73.84153370226186,
          -73.79664750844047,
          -73.75175310731153,
          -73.73889198912481,
          -73.85751790676447,
          -73.8410221123401,
          -74.07935312512797,
          -74.08701650516625,
          -74.07790192660066,
          -74.06980526716141,
          -74.1071817826561,
          -74.08724819983729,
          -74.1113288180088,
          -74.0795529253982,
          -74.12943426797008,
          -74.15008537046981,
          -74.17464532993542,
          -74.11918058534842,
          -74.16496031329827,
          -74.19073717538116,
          -74.1164794360638,
          -74.12156593771896,
          -74.14932381490992,
          -74.1643308041936,
          -74.17854866165878,
          -74.20524582480326,
          -74.24656934235283,
          -74.08055351790115,
          -74.09629029235458,
          -73.96101312466779,
          -73.93718680559314,
          -73.92688212616955,
          -74.08015734936296,
          -74.13304143951704,
          -74.15315246387762,
          -74.16510420241124,
          -74.06712363225574,
          -74.0766743627905,
          -74.08751118005578,
          -74.09639905312521,
          -74.09348266303591,
          -74.10585598545434,
          -74.10432707469124,
          -74.19174105747814,
          -74.21983106616777,
          -74.22950350260027,
          -74.23215775896526,
          -74.21572851113952,
          -74.18588674583893,
          -74.17079414786092,
          -74.15902208156601,
          -74.18725638381567,
          -74.15940948657122,
          -73.95325646837112,
          -73.98843368023597,
          -74.00541529873355,
          -73.98871313285247,
          -74.1340572986257,
          -74.06667766061771,
          -74.072642445484,
          -74.08402364740358,
          -74.09776206972522,
          -74.09805062373887,
          -74.18622331749823,
          -74.1418167896889,
          -73.91665331978048,
          -73.88511776379292,
          -73.90233474295836,
          -73.91515391550404,
          -73.79646462081593,
          -73.79671678028349,
          -73.80486120040537,
          -73.89467996270574,
          -73.90119903387667,
          -73.91584652759009,
          -73.91655551964419,
          -73.90829930881988,
          -73.96355614094303,
          -73.95386782130745,
          -73.96770824581834,
          -73.97121928722265,
          -73.97405170469203,
          -73.9909471052826,
          -73.91819286431682,
          -73.93244235260178,
          -73.99550751888415,
          -73.98111603592393,
          -73.93053108817338,
          -73.90331684852599,
          -73.9887528074504,
          -74.12059399718001,
          -74.13208447484298,
          -74.21776636068567,
          -74.12727240604946,
          -73.89213760232822,
          -73.95918459428702,
          -73.88114319200604,
          -74.20152556457658,
          -74.13792663771568,
          -74.22957080626941,
          -73.82667757138641,
          -73.890345709872,
          -73.94841515328893,
          -73.86172577555115,
          -73.85931863221647,
          -73.90152264513144,
          -73.94817709920184,
          -74.00011136202637,
          -73.80553002968718,
          -73.76596781445627,
          -73.94563070334091,
          -74.08173992211962
         ],
         "marker": {
          "color": [
           1,
           0,
           0,
           0,
           0,
           1,
           1,
           0,
           1,
           1,
           0,
           1,
           0,
           1,
           1,
           1,
           1,
           1,
           1,
           1,
           1,
           1,
           1,
           1,
           0,
           1,
           0,
           0,
           0,
           0,
           1,
           1,
           1,
           1,
           1,
           0,
           0,
           0,
           0,
           0,
           0,
           0,
           0,
           1,
           1,
           1,
           1,
           1,
           1,
           2,
           0,
           1,
           1,
           1,
           1,
           1,
           1,
           1,
           2,
           2,
           0,
           2,
           2,
           1,
           2,
           2,
           2,
           0,
           2,
           2,
           2,
           1,
           1,
           0,
           0,
           0,
           0,
           1,
           0,
           1,
           1,
           1,
           0,
           0,
           2,
           0,
           2,
           2,
           1,
           1,
           1,
           0,
           1,
           1,
           0,
           2,
           2,
           2,
           1,
           1,
           2,
           1,
           1,
           2,
           2,
           1,
           1,
           2,
           2,
           2,
           2,
           2,
           2,
           2,
           2,
           2,
           1,
           2,
           0,
           2,
           2,
           2,
           2,
           2,
           2,
           2,
           2,
           2,
           2,
           2,
           2,
           2,
           1,
           1,
           1,
           0,
           1,
           2,
           1,
           1,
           1,
           1,
           1,
           0,
           1,
           0,
           1,
           0,
           1,
           2,
           1,
           0,
           0,
           0,
           0,
           1,
           0,
           0,
           0,
           0,
           1,
           0,
           1,
           1,
           0,
           0,
           0,
           1,
           1,
           0,
           0,
           0,
           0,
           0,
           0,
           0,
           1,
           0,
           0,
           0,
           0,
           0,
           0,
           0,
           0,
           0,
           1,
           0,
           0,
           2,
           0,
           0,
           1,
           0,
           0,
           0,
           0,
           0,
           1,
           2,
           1,
           1,
           0,
           0,
           0,
           0,
           0,
           0,
           1,
           0,
           0,
           0,
           0,
           0,
           1,
           0,
           0,
           0,
           0,
           0,
           0,
           1,
           0,
           1,
           1,
           0,
           0,
           1,
           0,
           0,
           0,
           0,
           0,
           0,
           0,
           1,
           1,
           0,
           0,
           0,
           0,
           0,
           0,
           0,
           0,
           0,
           0,
           2,
           2,
           2,
           2,
           0,
           0,
           0,
           0,
           0,
           0,
           0,
           1,
           0,
           1,
           0,
           0,
           1,
           0,
           0,
           0,
           1,
           1,
           1,
           1,
           2,
           1,
           2,
           2,
           2,
           2,
           1,
           1,
           2,
           2,
           1,
           1,
           2,
           0,
           0,
           0,
           0,
           0,
           1,
           0,
           0,
           0,
           0,
           0,
           1,
           1,
           1,
           0,
           1,
           1,
           2,
           0,
           0,
           1,
           0
          ],
          "coloraxis": "coloraxis"
         },
         "mode": "markers",
         "name": "",
         "showlegend": false,
         "subplot": "mapbox",
         "type": "scattermapbox"
        }
       ],
       "layout": {
        "coloraxis": {
         "colorbar": {
          "title": {
           "text": "clusters"
          }
         },
         "colorscale": [
          [
           0,
           "#0d0887"
          ],
          [
           0.1111111111111111,
           "#46039f"
          ],
          [
           0.2222222222222222,
           "#7201a8"
          ],
          [
           0.3333333333333333,
           "#9c179e"
          ],
          [
           0.4444444444444444,
           "#bd3786"
          ],
          [
           0.5555555555555556,
           "#d8576b"
          ],
          [
           0.6666666666666666,
           "#ed7953"
          ],
          [
           0.7777777777777778,
           "#fb9f3a"
          ],
          [
           0.8888888888888888,
           "#fdca26"
          ],
          [
           1,
           "#f0f921"
          ]
         ]
        },
        "geo": {
         "fitbounds": "locations"
        },
        "height": 500,
        "legend": {
         "tracegroupgap": 0
        },
        "mapbox": {
         "accesstoken": "pk.eyJ1IjoidmVsdm94IiwiYSI6ImNsNThham8xajIxMnMzam1ycGg2eTZ0eGYifQ.RaCirjLZex17tLwWOx9FGQ",
         "center": {
          "lat": 40.70136210272568,
          "lon": -73.9462541982847
         },
         "domain": {
          "x": [
           0,
           1
          ],
          "y": [
           0,
           1
          ]
         },
         "style": "light",
         "zoom": 8
        },
        "margin": {
         "b": 0,
         "l": 0,
         "r": 0,
         "t": 0
        },
        "template": {
         "data": {
          "bar": [
           {
            "error_x": {
             "color": "#2a3f5f"
            },
            "error_y": {
             "color": "#2a3f5f"
            },
            "marker": {
             "line": {
              "color": "#E5ECF6",
              "width": 0.5
             },
             "pattern": {
              "fillmode": "overlay",
              "size": 10,
              "solidity": 0.2
             }
            },
            "type": "bar"
           }
          ],
          "barpolar": [
           {
            "marker": {
             "line": {
              "color": "#E5ECF6",
              "width": 0.5
             },
             "pattern": {
              "fillmode": "overlay",
              "size": 10,
              "solidity": 0.2
             }
            },
            "type": "barpolar"
           }
          ],
          "carpet": [
           {
            "aaxis": {
             "endlinecolor": "#2a3f5f",
             "gridcolor": "white",
             "linecolor": "white",
             "minorgridcolor": "white",
             "startlinecolor": "#2a3f5f"
            },
            "baxis": {
             "endlinecolor": "#2a3f5f",
             "gridcolor": "white",
             "linecolor": "white",
             "minorgridcolor": "white",
             "startlinecolor": "#2a3f5f"
            },
            "type": "carpet"
           }
          ],
          "choropleth": [
           {
            "colorbar": {
             "outlinewidth": 0,
             "ticks": ""
            },
            "type": "choropleth"
           }
          ],
          "contour": [
           {
            "colorbar": {
             "outlinewidth": 0,
             "ticks": ""
            },
            "colorscale": [
             [
              0,
              "#0d0887"
             ],
             [
              0.1111111111111111,
              "#46039f"
             ],
             [
              0.2222222222222222,
              "#7201a8"
             ],
             [
              0.3333333333333333,
              "#9c179e"
             ],
             [
              0.4444444444444444,
              "#bd3786"
             ],
             [
              0.5555555555555556,
              "#d8576b"
             ],
             [
              0.6666666666666666,
              "#ed7953"
             ],
             [
              0.7777777777777778,
              "#fb9f3a"
             ],
             [
              0.8888888888888888,
              "#fdca26"
             ],
             [
              1,
              "#f0f921"
             ]
            ],
            "type": "contour"
           }
          ],
          "contourcarpet": [
           {
            "colorbar": {
             "outlinewidth": 0,
             "ticks": ""
            },
            "type": "contourcarpet"
           }
          ],
          "heatmap": [
           {
            "colorbar": {
             "outlinewidth": 0,
             "ticks": ""
            },
            "colorscale": [
             [
              0,
              "#0d0887"
             ],
             [
              0.1111111111111111,
              "#46039f"
             ],
             [
              0.2222222222222222,
              "#7201a8"
             ],
             [
              0.3333333333333333,
              "#9c179e"
             ],
             [
              0.4444444444444444,
              "#bd3786"
             ],
             [
              0.5555555555555556,
              "#d8576b"
             ],
             [
              0.6666666666666666,
              "#ed7953"
             ],
             [
              0.7777777777777778,
              "#fb9f3a"
             ],
             [
              0.8888888888888888,
              "#fdca26"
             ],
             [
              1,
              "#f0f921"
             ]
            ],
            "type": "heatmap"
           }
          ],
          "heatmapgl": [
           {
            "colorbar": {
             "outlinewidth": 0,
             "ticks": ""
            },
            "colorscale": [
             [
              0,
              "#0d0887"
             ],
             [
              0.1111111111111111,
              "#46039f"
             ],
             [
              0.2222222222222222,
              "#7201a8"
             ],
             [
              0.3333333333333333,
              "#9c179e"
             ],
             [
              0.4444444444444444,
              "#bd3786"
             ],
             [
              0.5555555555555556,
              "#d8576b"
             ],
             [
              0.6666666666666666,
              "#ed7953"
             ],
             [
              0.7777777777777778,
              "#fb9f3a"
             ],
             [
              0.8888888888888888,
              "#fdca26"
             ],
             [
              1,
              "#f0f921"
             ]
            ],
            "type": "heatmapgl"
           }
          ],
          "histogram": [
           {
            "marker": {
             "pattern": {
              "fillmode": "overlay",
              "size": 10,
              "solidity": 0.2
             }
            },
            "type": "histogram"
           }
          ],
          "histogram2d": [
           {
            "colorbar": {
             "outlinewidth": 0,
             "ticks": ""
            },
            "colorscale": [
             [
              0,
              "#0d0887"
             ],
             [
              0.1111111111111111,
              "#46039f"
             ],
             [
              0.2222222222222222,
              "#7201a8"
             ],
             [
              0.3333333333333333,
              "#9c179e"
             ],
             [
              0.4444444444444444,
              "#bd3786"
             ],
             [
              0.5555555555555556,
              "#d8576b"
             ],
             [
              0.6666666666666666,
              "#ed7953"
             ],
             [
              0.7777777777777778,
              "#fb9f3a"
             ],
             [
              0.8888888888888888,
              "#fdca26"
             ],
             [
              1,
              "#f0f921"
             ]
            ],
            "type": "histogram2d"
           }
          ],
          "histogram2dcontour": [
           {
            "colorbar": {
             "outlinewidth": 0,
             "ticks": ""
            },
            "colorscale": [
             [
              0,
              "#0d0887"
             ],
             [
              0.1111111111111111,
              "#46039f"
             ],
             [
              0.2222222222222222,
              "#7201a8"
             ],
             [
              0.3333333333333333,
              "#9c179e"
             ],
             [
              0.4444444444444444,
              "#bd3786"
             ],
             [
              0.5555555555555556,
              "#d8576b"
             ],
             [
              0.6666666666666666,
              "#ed7953"
             ],
             [
              0.7777777777777778,
              "#fb9f3a"
             ],
             [
              0.8888888888888888,
              "#fdca26"
             ],
             [
              1,
              "#f0f921"
             ]
            ],
            "type": "histogram2dcontour"
           }
          ],
          "mesh3d": [
           {
            "colorbar": {
             "outlinewidth": 0,
             "ticks": ""
            },
            "type": "mesh3d"
           }
          ],
          "parcoords": [
           {
            "line": {
             "colorbar": {
              "outlinewidth": 0,
              "ticks": ""
             }
            },
            "type": "parcoords"
           }
          ],
          "pie": [
           {
            "automargin": true,
            "type": "pie"
           }
          ],
          "scatter": [
           {
            "fillpattern": {
             "fillmode": "overlay",
             "size": 10,
             "solidity": 0.2
            },
            "type": "scatter"
           }
          ],
          "scatter3d": [
           {
            "line": {
             "colorbar": {
              "outlinewidth": 0,
              "ticks": ""
             }
            },
            "marker": {
             "colorbar": {
              "outlinewidth": 0,
              "ticks": ""
             }
            },
            "type": "scatter3d"
           }
          ],
          "scattercarpet": [
           {
            "marker": {
             "colorbar": {
              "outlinewidth": 0,
              "ticks": ""
             }
            },
            "type": "scattercarpet"
           }
          ],
          "scattergeo": [
           {
            "marker": {
             "colorbar": {
              "outlinewidth": 0,
              "ticks": ""
             }
            },
            "type": "scattergeo"
           }
          ],
          "scattergl": [
           {
            "marker": {
             "colorbar": {
              "outlinewidth": 0,
              "ticks": ""
             }
            },
            "type": "scattergl"
           }
          ],
          "scattermapbox": [
           {
            "marker": {
             "colorbar": {
              "outlinewidth": 0,
              "ticks": ""
             }
            },
            "type": "scattermapbox"
           }
          ],
          "scatterpolar": [
           {
            "marker": {
             "colorbar": {
              "outlinewidth": 0,
              "ticks": ""
             }
            },
            "type": "scatterpolar"
           }
          ],
          "scatterpolargl": [
           {
            "marker": {
             "colorbar": {
              "outlinewidth": 0,
              "ticks": ""
             }
            },
            "type": "scatterpolargl"
           }
          ],
          "scatterternary": [
           {
            "marker": {
             "colorbar": {
              "outlinewidth": 0,
              "ticks": ""
             }
            },
            "type": "scatterternary"
           }
          ],
          "surface": [
           {
            "colorbar": {
             "outlinewidth": 0,
             "ticks": ""
            },
            "colorscale": [
             [
              0,
              "#0d0887"
             ],
             [
              0.1111111111111111,
              "#46039f"
             ],
             [
              0.2222222222222222,
              "#7201a8"
             ],
             [
              0.3333333333333333,
              "#9c179e"
             ],
             [
              0.4444444444444444,
              "#bd3786"
             ],
             [
              0.5555555555555556,
              "#d8576b"
             ],
             [
              0.6666666666666666,
              "#ed7953"
             ],
             [
              0.7777777777777778,
              "#fb9f3a"
             ],
             [
              0.8888888888888888,
              "#fdca26"
             ],
             [
              1,
              "#f0f921"
             ]
            ],
            "type": "surface"
           }
          ],
          "table": [
           {
            "cells": {
             "fill": {
              "color": "#EBF0F8"
             },
             "line": {
              "color": "white"
             }
            },
            "header": {
             "fill": {
              "color": "#C8D4E3"
             },
             "line": {
              "color": "white"
             }
            },
            "type": "table"
           }
          ]
         },
         "layout": {
          "annotationdefaults": {
           "arrowcolor": "#2a3f5f",
           "arrowhead": 0,
           "arrowwidth": 1
          },
          "autotypenumbers": "strict",
          "coloraxis": {
           "colorbar": {
            "outlinewidth": 0,
            "ticks": ""
           }
          },
          "colorscale": {
           "diverging": [
            [
             0,
             "#8e0152"
            ],
            [
             0.1,
             "#c51b7d"
            ],
            [
             0.2,
             "#de77ae"
            ],
            [
             0.3,
             "#f1b6da"
            ],
            [
             0.4,
             "#fde0ef"
            ],
            [
             0.5,
             "#f7f7f7"
            ],
            [
             0.6,
             "#e6f5d0"
            ],
            [
             0.7,
             "#b8e186"
            ],
            [
             0.8,
             "#7fbc41"
            ],
            [
             0.9,
             "#4d9221"
            ],
            [
             1,
             "#276419"
            ]
           ],
           "sequential": [
            [
             0,
             "#0d0887"
            ],
            [
             0.1111111111111111,
             "#46039f"
            ],
            [
             0.2222222222222222,
             "#7201a8"
            ],
            [
             0.3333333333333333,
             "#9c179e"
            ],
            [
             0.4444444444444444,
             "#bd3786"
            ],
            [
             0.5555555555555556,
             "#d8576b"
            ],
            [
             0.6666666666666666,
             "#ed7953"
            ],
            [
             0.7777777777777778,
             "#fb9f3a"
            ],
            [
             0.8888888888888888,
             "#fdca26"
            ],
            [
             1,
             "#f0f921"
            ]
           ],
           "sequentialminus": [
            [
             0,
             "#0d0887"
            ],
            [
             0.1111111111111111,
             "#46039f"
            ],
            [
             0.2222222222222222,
             "#7201a8"
            ],
            [
             0.3333333333333333,
             "#9c179e"
            ],
            [
             0.4444444444444444,
             "#bd3786"
            ],
            [
             0.5555555555555556,
             "#d8576b"
            ],
            [
             0.6666666666666666,
             "#ed7953"
            ],
            [
             0.7777777777777778,
             "#fb9f3a"
            ],
            [
             0.8888888888888888,
             "#fdca26"
            ],
            [
             1,
             "#f0f921"
            ]
           ]
          },
          "colorway": [
           "#636efa",
           "#EF553B",
           "#00cc96",
           "#ab63fa",
           "#FFA15A",
           "#19d3f3",
           "#FF6692",
           "#B6E880",
           "#FF97FF",
           "#FECB52"
          ],
          "font": {
           "color": "#2a3f5f"
          },
          "geo": {
           "bgcolor": "white",
           "lakecolor": "white",
           "landcolor": "#E5ECF6",
           "showlakes": true,
           "showland": true,
           "subunitcolor": "white"
          },
          "hoverlabel": {
           "align": "left"
          },
          "hovermode": "closest",
          "mapbox": {
           "style": "light"
          },
          "paper_bgcolor": "white",
          "plot_bgcolor": "#E5ECF6",
          "polar": {
           "angularaxis": {
            "gridcolor": "white",
            "linecolor": "white",
            "ticks": ""
           },
           "bgcolor": "#E5ECF6",
           "radialaxis": {
            "gridcolor": "white",
            "linecolor": "white",
            "ticks": ""
           }
          },
          "scene": {
           "xaxis": {
            "backgroundcolor": "#E5ECF6",
            "gridcolor": "white",
            "gridwidth": 2,
            "linecolor": "white",
            "showbackground": true,
            "ticks": "",
            "zerolinecolor": "white"
           },
           "yaxis": {
            "backgroundcolor": "#E5ECF6",
            "gridcolor": "white",
            "gridwidth": 2,
            "linecolor": "white",
            "showbackground": true,
            "ticks": "",
            "zerolinecolor": "white"
           },
           "zaxis": {
            "backgroundcolor": "#E5ECF6",
            "gridcolor": "white",
            "gridwidth": 2,
            "linecolor": "white",
            "showbackground": true,
            "ticks": "",
            "zerolinecolor": "white"
           }
          },
          "shapedefaults": {
           "line": {
            "color": "#2a3f5f"
           }
          },
          "ternary": {
           "aaxis": {
            "gridcolor": "white",
            "linecolor": "white",
            "ticks": ""
           },
           "baxis": {
            "gridcolor": "white",
            "linecolor": "white",
            "ticks": ""
           },
           "bgcolor": "#E5ECF6",
           "caxis": {
            "gridcolor": "white",
            "linecolor": "white",
            "ticks": ""
           }
          },
          "title": {
           "x": 0.05
          },
          "xaxis": {
           "automargin": true,
           "gridcolor": "white",
           "linecolor": "white",
           "ticks": "",
           "title": {
            "standoff": 15
           },
           "zerolinecolor": "white",
           "zerolinewidth": 2
          },
          "yaxis": {
           "automargin": true,
           "gridcolor": "white",
           "linecolor": "white",
           "ticks": "",
           "title": {
            "standoff": 15
           },
           "zerolinecolor": "white",
           "zerolinewidth": 2
          }
         }
        }
       }
      }
     },
     "metadata": {},
     "output_type": "display_data"
    }
   ],
   "source": [
    "map_scatter(heirarchical_data)"
   ]
  },
  {
   "cell_type": "markdown",
   "metadata": {},
   "source": [
    "# Segmentation of NYC neighborhoods\n",
    "\n",
    "The goal of this project is to segment the neighborhoods of New York City into separate clusters and examine the information about them. For clustering, We can use any available information **except** demographic and economic indicators. We don't want to segment them based on those and we want to keep them for the **profiling of clusters** to see if there are any important economic differences between the created clusters."
   ]
  },
  {
   "cell_type": "code",
   "execution_count": null,
   "metadata": {},
   "outputs": [],
   "source": []
  },
  {
   "cell_type": "code",
   "execution_count": null,
   "metadata": {},
   "outputs": [],
   "source": []
  },
  {
   "cell_type": "code",
   "execution_count": null,
   "metadata": {},
   "outputs": [],
   "source": []
  },
  {
   "cell_type": "markdown",
   "metadata": {},
   "source": [
    "### Feature Engineering\n",
    "\n",
    "Feature engineering plays a crucial role in this problem. We have limited amount of attributes so we need to create some features that will be important for segmentation.\n",
    "\n",
    "- Google Places, Yelp and Foursquare APIs: number of venues, density of venues per square mile, number of restaurants, top restarurant category...\n",
    "- Uber: number of rides per day in the neighborhood\n",
    "- Meetups: number of events\n",
    "- etc..."
   ]
  },
  {
   "cell_type": "code",
   "execution_count": null,
   "metadata": {},
   "outputs": [],
   "source": []
  },
  {
   "cell_type": "code",
   "execution_count": null,
   "metadata": {},
   "outputs": [],
   "source": []
  },
  {
   "cell_type": "code",
   "execution_count": null,
   "metadata": {},
   "outputs": [],
   "source": []
  },
  {
   "cell_type": "code",
   "execution_count": null,
   "metadata": {},
   "outputs": [],
   "source": []
  },
  {
   "cell_type": "markdown",
   "metadata": {},
   "source": [
    "### Feature Selection / Dimensionality Reduction¶\n",
    "We need to apply different selection techniques to find out which one will be the best for our problems.\n",
    "\n",
    "Original Features vs. PCA conponents?\n",
    "\n",
    "Don't forget to scale the features for KMeans."
   ]
  },
  {
   "cell_type": "code",
   "execution_count": null,
   "metadata": {},
   "outputs": [],
   "source": []
  },
  {
   "cell_type": "code",
   "execution_count": null,
   "metadata": {},
   "outputs": [],
   "source": []
  },
  {
   "cell_type": "code",
   "execution_count": null,
   "metadata": {},
   "outputs": [],
   "source": []
  },
  {
   "cell_type": "code",
   "execution_count": null,
   "metadata": {},
   "outputs": [],
   "source": []
  },
  {
   "cell_type": "markdown",
   "metadata": {},
   "source": [
    "### Modeling\n",
    "\n",
    "Use different attributes and clustering techniques and compare the created clusters:\n",
    "\n",
    "- clustering only on restaurant features\n",
    "- clustering only on Uber features\n",
    "- clustering only on location\n",
    "- combination of all\n",
    "\n",
    "**Questions:**\n",
    "1. Which clustering is the best? - KMeans\n",
    "2. How are neighborhoods split when we select only 2 clusters?\n",
    "3. Are there any differences in housing and rental costs in different clusters?"
   ]
  },
  {
   "cell_type": "code",
   "execution_count": 59,
   "metadata": {},
   "outputs": [
    {
     "data": {
      "text/plain": [
       "array([1, 1, 1, 1, 1, 0, 0, 1, 0, 1], dtype=int32)"
      ]
     },
     "execution_count": 59,
     "metadata": {},
     "output_type": "execute_result"
    }
   ],
   "source": [
    "# Cluster data points using kmeans and get labels\n",
    "kclusters_features_2 = 2\n",
    "\n",
    "kmeans_features_2 = KMeans(n_clusters=kclusters_features, random_state=0).fit(features_scaled)\n",
    "\n",
    "kmeans_features_2.labels_[0:10] "
   ]
  },
  {
   "cell_type": "code",
   "execution_count": 60,
   "metadata": {},
   "outputs": [
    {
     "data": {
      "image/png": "[encoded data removed]",
      "text/plain": [
       "<Figure size 432x288 with 1 Axes>"
      ]
     },
     "metadata": {
      "needs_background": "light"
     },
     "output_type": "display_data"
    }
   ],
   "source": [
    "y_km_features_2 = kmeans_features_2.fit_predict(features_scaled)\n",
    "plot_clusters(np.array(features_scaled), y_km_features_2, plt_cluster_centers= True)"
   ]
  },
  {
   "cell_type": "code",
   "execution_count": null,
   "metadata": {},
   "outputs": [],
   "source": []
  },
  {
   "cell_type": "code",
   "execution_count": null,
   "metadata": {},
   "outputs": [],
   "source": []
  },
  {
   "cell_type": "markdown",
   "metadata": {},
   "source": [
    "### Evaluation\n",
    "\n",
    "1. Check the segmentation evaluation metrics:\n",
    "    - inertia\n",
    "    - silhoutte score\n",
    "2. How did you come up with the correct number of clusters?\n",
    "3. Is there any relationship between the clusters and economic indicators? If yes, what does it mean?\n",
    "\n",
    "You are required to share the file containing all NYC neighborhoods together with cluster_id with LighthouseLabs."
   ]
  },
  {
   "cell_type": "code",
   "execution_count": 61,
   "metadata": {},
   "outputs": [
    {
     "data": {
      "text/html": [
       "<div>\n",
       "<style scoped>\n",
       "    .dataframe tbody tr th:only-of-type {\n",
       "        vertical-align: middle;\n",
       "    }\n",
       "\n",
       "    .dataframe tbody tr th {\n",
       "        vertical-align: top;\n",
       "    }\n",
       "\n",
       "    .dataframe thead th {\n",
       "        text-align: right;\n",
       "    }\n",
       "</style>\n",
       "<table border=\"1\" class=\"dataframe\">\n",
       "  <thead>\n",
       "    <tr style=\"text-align: right;\">\n",
       "      <th></th>\n",
       "      <th>borough</th>\n",
       "      <th>neighborhood</th>\n",
       "      <th>longitude</th>\n",
       "      <th>latitude</th>\n",
       "      <th>1st Most Common Venue</th>\n",
       "      <th>2nd Most Common Venue</th>\n",
       "      <th>3rd Most Common Venue</th>\n",
       "      <th>4th Most Common Venue</th>\n",
       "      <th>5th Most Common Venue</th>\n",
       "      <th>clusters</th>\n",
       "    </tr>\n",
       "  </thead>\n",
       "  <tbody>\n",
       "    <tr>\n",
       "      <th>0</th>\n",
       "      <td>Bronx</td>\n",
       "      <td>Wakefield</td>\n",
       "      <td>-73.847201</td>\n",
       "      <td>40.894705</td>\n",
       "      <td>church</td>\n",
       "      <td>restaurant</td>\n",
       "      <td>store</td>\n",
       "      <td>school</td>\n",
       "      <td>clothing</td>\n",
       "      <td>0</td>\n",
       "    </tr>\n",
       "    <tr>\n",
       "      <th>1</th>\n",
       "      <td>Bronx</td>\n",
       "      <td>Co-op City</td>\n",
       "      <td>-73.829939</td>\n",
       "      <td>40.874294</td>\n",
       "      <td>restaurant</td>\n",
       "      <td>store</td>\n",
       "      <td>clothing</td>\n",
       "      <td>school</td>\n",
       "      <td>church</td>\n",
       "      <td>0</td>\n",
       "    </tr>\n",
       "    <tr>\n",
       "      <th>2</th>\n",
       "      <td>Bronx</td>\n",
       "      <td>Eastchester</td>\n",
       "      <td>-73.827806</td>\n",
       "      <td>40.887556</td>\n",
       "      <td>store</td>\n",
       "      <td>restaurant</td>\n",
       "      <td>church</td>\n",
       "      <td>school</td>\n",
       "      <td>clothing</td>\n",
       "      <td>0</td>\n",
       "    </tr>\n",
       "    <tr>\n",
       "      <th>3</th>\n",
       "      <td>Bronx</td>\n",
       "      <td>Fieldston</td>\n",
       "      <td>-73.905643</td>\n",
       "      <td>40.895437</td>\n",
       "      <td>restaurant</td>\n",
       "      <td>school</td>\n",
       "      <td>bank</td>\n",
       "      <td>park</td>\n",
       "      <td>store</td>\n",
       "      <td>0</td>\n",
       "    </tr>\n",
       "    <tr>\n",
       "      <th>4</th>\n",
       "      <td>Bronx</td>\n",
       "      <td>Riverdale</td>\n",
       "      <td>-73.912585</td>\n",
       "      <td>40.890834</td>\n",
       "      <td>school</td>\n",
       "      <td>bank</td>\n",
       "      <td>restaurant</td>\n",
       "      <td>store</td>\n",
       "      <td>park</td>\n",
       "      <td>0</td>\n",
       "    </tr>\n",
       "  </tbody>\n",
       "</table>\n",
       "</div>"
      ],
      "text/plain": [
       "  borough neighborhood  longitude   latitude 1st Most Common Venue  \\\n",
       "0   Bronx    Wakefield -73.847201  40.894705                church   \n",
       "1   Bronx   Co-op City -73.829939  40.874294            restaurant   \n",
       "2   Bronx  Eastchester -73.827806  40.887556                 store   \n",
       "3   Bronx    Fieldston -73.905643  40.895437            restaurant   \n",
       "4   Bronx    Riverdale -73.912585  40.890834                school   \n",
       "\n",
       "  2nd Most Common Venue 3rd Most Common Venue 4th Most Common Venue  \\\n",
       "0            restaurant                 store                school   \n",
       "1                 store              clothing                school   \n",
       "2            restaurant                church                school   \n",
       "3                school                  bank                  park   \n",
       "4                  bank            restaurant                 store   \n",
       "\n",
       "  5th Most Common Venue  clusters  \n",
       "0              clothing         0  \n",
       "1                church         0  \n",
       "2              clothing         0  \n",
       "3                 store         0  \n",
       "4                  park         0  "
      ]
     },
     "execution_count": 61,
     "metadata": {},
     "output_type": "execute_result"
    }
   ],
   "source": [
    "features_data.head()"
   ]
  },
  {
   "cell_type": "code",
   "execution_count": 65,
   "metadata": {},
   "outputs": [],
   "source": [
    "submission = features_data[['neighborhood', 'clusters']]\n",
    "submission.columns = ['neighborhood', 'cluster_id']"
   ]
  },
  {
   "cell_type": "code",
   "execution_count": 66,
   "metadata": {},
   "outputs": [],
   "source": [
    "# submission = submission.to_csv('submission.csv', index=False)"
   ]
  },
  {
   "cell_type": "code",
   "execution_count": null,
   "metadata": {},
   "outputs": [],
   "source": []
  },
  {
   "cell_type": "code",
   "execution_count": null,
   "metadata": {},
   "outputs": [],
   "source": []
  }
 ],
 "metadata": {
  "interpreter": {
   "hash": "39512f3c2a1741d7f752d45a133d4514127029333ea14bc2f3c6c5e6759b9029"
  },
  "kernelspec": {
   "display_name": "Python 3.8.13 ('base_env')",
   "language": "python",
   "name": "python3"
  },
  "language_info": {
   "codemirror_mode": {
    "name": "ipython",
    "version": 3
   },
   "file_extension": ".py",
   "mimetype": "text/x-python",
   "name": "python",
   "nbconvert_exporter": "python",
   "pygments_lexer": "ipython3",
   "version": "3.8.13"
  }
 },
 "nbformat": 4,
 "nbformat_minor": 4
}
