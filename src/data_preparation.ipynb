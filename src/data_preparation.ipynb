{
 "cells": [
  {
   "cell_type": "markdown",
   "metadata": {},
   "source": [
    "# Data Preparation"
   ]
  },
  {
   "cell_type": "code",
   "execution_count": 7,
   "metadata": {},
   "outputs": [],
   "source": [
    "# Load nyc_geo JSON\n",
    "import json\n",
    "import pandas as pd\n",
    "from pandas.io.json import json_normalize\n",
    "import os\n",
    "import plotly.express as px\n",
    "\n",
    "file = open('../data/nyc_geo.json')\n",
    "data = json.load(file)"
   ]
  },
  {
   "cell_type": "markdown",
   "metadata": {},
   "source": [
    "### Task\n",
    "Parse the json **nyc_geo.json** into the dataframe with the following columns:\n",
    "- Borough\n",
    "- Neighborhood\n",
    "- Latitude\n",
    "- Longitude"
   ]
  },
  {
   "cell_type": "code",
   "execution_count": 8,
   "metadata": {},
   "outputs": [
    {
     "data": {
      "text/plain": [
       "dict_keys(['type', 'totalFeatures', 'features', 'crs', 'bbox'])"
      ]
     },
     "execution_count": 8,
     "metadata": {},
     "output_type": "execute_result"
    }
   ],
   "source": [
    "data.keys()"
   ]
  },
  {
   "cell_type": "code",
   "execution_count": 9,
   "metadata": {},
   "outputs": [
    {
     "data": {
      "text/html": [
       "<div>\n",
       "<style scoped>\n",
       "    .dataframe tbody tr th:only-of-type {\n",
       "        vertical-align: middle;\n",
       "    }\n",
       "\n",
       "    .dataframe tbody tr th {\n",
       "        vertical-align: top;\n",
       "    }\n",
       "\n",
       "    .dataframe thead th {\n",
       "        text-align: right;\n",
       "    }\n",
       "</style>\n",
       "<table border=\"1\" class=\"dataframe\">\n",
       "  <thead>\n",
       "    <tr style=\"text-align: right;\">\n",
       "      <th></th>\n",
       "      <th>type</th>\n",
       "      <th>id</th>\n",
       "      <th>geometry_name</th>\n",
       "      <th>geometry.type</th>\n",
       "      <th>geometry.coordinates</th>\n",
       "      <th>properties.name</th>\n",
       "      <th>properties.stacked</th>\n",
       "      <th>properties.annoline1</th>\n",
       "      <th>properties.annoline2</th>\n",
       "      <th>properties.annoline3</th>\n",
       "      <th>properties.annoangle</th>\n",
       "      <th>properties.borough</th>\n",
       "      <th>properties.bbox</th>\n",
       "    </tr>\n",
       "  </thead>\n",
       "  <tbody>\n",
       "    <tr>\n",
       "      <th>0</th>\n",
       "      <td>Feature</td>\n",
       "      <td>nyu_2451_34572.1</td>\n",
       "      <td>geom</td>\n",
       "      <td>Point</td>\n",
       "      <td>[-73.84720052054902, 40.89470517661]</td>\n",
       "      <td>Wakefield</td>\n",
       "      <td>1</td>\n",
       "      <td>Wakefield</td>\n",
       "      <td>None</td>\n",
       "      <td>None</td>\n",
       "      <td>0.0</td>\n",
       "      <td>Bronx</td>\n",
       "      <td>[-73.84720052054902, 40.89470517661, -73.84720...</td>\n",
       "    </tr>\n",
       "    <tr>\n",
       "      <th>1</th>\n",
       "      <td>Feature</td>\n",
       "      <td>nyu_2451_34572.2</td>\n",
       "      <td>geom</td>\n",
       "      <td>Point</td>\n",
       "      <td>[-73.82993910812398, 40.87429419303012]</td>\n",
       "      <td>Co-op City</td>\n",
       "      <td>2</td>\n",
       "      <td>Co-op</td>\n",
       "      <td>City</td>\n",
       "      <td>None</td>\n",
       "      <td>0.0</td>\n",
       "      <td>Bronx</td>\n",
       "      <td>[-73.82993910812398, 40.87429419303012, -73.82...</td>\n",
       "    </tr>\n",
       "    <tr>\n",
       "      <th>2</th>\n",
       "      <td>Feature</td>\n",
       "      <td>nyu_2451_34572.3</td>\n",
       "      <td>geom</td>\n",
       "      <td>Point</td>\n",
       "      <td>[-73.82780644716412, 40.887555677350775]</td>\n",
       "      <td>Eastchester</td>\n",
       "      <td>1</td>\n",
       "      <td>Eastchester</td>\n",
       "      <td>None</td>\n",
       "      <td>None</td>\n",
       "      <td>0.0</td>\n",
       "      <td>Bronx</td>\n",
       "      <td>[-73.82780644716412, 40.887555677350775, -73.8...</td>\n",
       "    </tr>\n",
       "    <tr>\n",
       "      <th>3</th>\n",
       "      <td>Feature</td>\n",
       "      <td>nyu_2451_34572.4</td>\n",
       "      <td>geom</td>\n",
       "      <td>Point</td>\n",
       "      <td>[-73.90564259591682, 40.89543742690383]</td>\n",
       "      <td>Fieldston</td>\n",
       "      <td>1</td>\n",
       "      <td>Fieldston</td>\n",
       "      <td>None</td>\n",
       "      <td>None</td>\n",
       "      <td>0.0</td>\n",
       "      <td>Bronx</td>\n",
       "      <td>[-73.90564259591682, 40.89543742690383, -73.90...</td>\n",
       "    </tr>\n",
       "    <tr>\n",
       "      <th>4</th>\n",
       "      <td>Feature</td>\n",
       "      <td>nyu_2451_34572.5</td>\n",
       "      <td>geom</td>\n",
       "      <td>Point</td>\n",
       "      <td>[-73.9125854610857, 40.890834493891305]</td>\n",
       "      <td>Riverdale</td>\n",
       "      <td>1</td>\n",
       "      <td>Riverdale</td>\n",
       "      <td>None</td>\n",
       "      <td>None</td>\n",
       "      <td>0.0</td>\n",
       "      <td>Bronx</td>\n",
       "      <td>[-73.9125854610857, 40.890834493891305, -73.91...</td>\n",
       "    </tr>\n",
       "  </tbody>\n",
       "</table>\n",
       "</div>"
      ],
      "text/plain": [
       "      type                id geometry_name geometry.type  \\\n",
       "0  Feature  nyu_2451_34572.1          geom         Point   \n",
       "1  Feature  nyu_2451_34572.2          geom         Point   \n",
       "2  Feature  nyu_2451_34572.3          geom         Point   \n",
       "3  Feature  nyu_2451_34572.4          geom         Point   \n",
       "4  Feature  nyu_2451_34572.5          geom         Point   \n",
       "\n",
       "                       geometry.coordinates properties.name  \\\n",
       "0      [-73.84720052054902, 40.89470517661]       Wakefield   \n",
       "1   [-73.82993910812398, 40.87429419303012]      Co-op City   \n",
       "2  [-73.82780644716412, 40.887555677350775]     Eastchester   \n",
       "3   [-73.90564259591682, 40.89543742690383]       Fieldston   \n",
       "4   [-73.9125854610857, 40.890834493891305]       Riverdale   \n",
       "\n",
       "   properties.stacked properties.annoline1 properties.annoline2  \\\n",
       "0                   1            Wakefield                 None   \n",
       "1                   2                Co-op                 City   \n",
       "2                   1          Eastchester                 None   \n",
       "3                   1            Fieldston                 None   \n",
       "4                   1            Riverdale                 None   \n",
       "\n",
       "  properties.annoline3  properties.annoangle properties.borough  \\\n",
       "0                 None                   0.0              Bronx   \n",
       "1                 None                   0.0              Bronx   \n",
       "2                 None                   0.0              Bronx   \n",
       "3                 None                   0.0              Bronx   \n",
       "4                 None                   0.0              Bronx   \n",
       "\n",
       "                                     properties.bbox  \n",
       "0  [-73.84720052054902, 40.89470517661, -73.84720...  \n",
       "1  [-73.82993910812398, 40.87429419303012, -73.82...  \n",
       "2  [-73.82780644716412, 40.887555677350775, -73.8...  \n",
       "3  [-73.90564259591682, 40.89543742690383, -73.90...  \n",
       "4  [-73.9125854610857, 40.890834493891305, -73.91...  "
      ]
     },
     "execution_count": 9,
     "metadata": {},
     "output_type": "execute_result"
    }
   ],
   "source": [
    "df = pd.json_normalize(data['features'])\n",
    "df.head()"
   ]
  },
  {
   "cell_type": "code",
   "execution_count": 10,
   "metadata": {},
   "outputs": [],
   "source": [
    "# Separate coordinates into longitude and latitude columns\n",
    "longitude = []\n",
    "latitude = []\n",
    "\n",
    "for row in df['geometry.coordinates']:\n",
    "    longitude.append(row[0])\n",
    "    latitude.append(row[1])\n",
    "\n",
    "df['longitude'] = longitude\n",
    "df['latitude'] = latitude"
   ]
  },
  {
   "cell_type": "code",
   "execution_count": 11,
   "metadata": {},
   "outputs": [
    {
     "data": {
      "text/html": [
       "<div>\n",
       "<style scoped>\n",
       "    .dataframe tbody tr th:only-of-type {\n",
       "        vertical-align: middle;\n",
       "    }\n",
       "\n",
       "    .dataframe tbody tr th {\n",
       "        vertical-align: top;\n",
       "    }\n",
       "\n",
       "    .dataframe thead th {\n",
       "        text-align: right;\n",
       "    }\n",
       "</style>\n",
       "<table border=\"1\" class=\"dataframe\">\n",
       "  <thead>\n",
       "    <tr style=\"text-align: right;\">\n",
       "      <th></th>\n",
       "      <th>id</th>\n",
       "      <th>borough</th>\n",
       "      <th>neighborhood</th>\n",
       "      <th>longitude</th>\n",
       "      <th>latitude</th>\n",
       "    </tr>\n",
       "  </thead>\n",
       "  <tbody>\n",
       "    <tr>\n",
       "      <th>0</th>\n",
       "      <td>nyu_2451_34572.1</td>\n",
       "      <td>Bronx</td>\n",
       "      <td>Wakefield</td>\n",
       "      <td>-73.847201</td>\n",
       "      <td>40.894705</td>\n",
       "    </tr>\n",
       "    <tr>\n",
       "      <th>1</th>\n",
       "      <td>nyu_2451_34572.2</td>\n",
       "      <td>Bronx</td>\n",
       "      <td>Co-op City</td>\n",
       "      <td>-73.829939</td>\n",
       "      <td>40.874294</td>\n",
       "    </tr>\n",
       "    <tr>\n",
       "      <th>2</th>\n",
       "      <td>nyu_2451_34572.3</td>\n",
       "      <td>Bronx</td>\n",
       "      <td>Eastchester</td>\n",
       "      <td>-73.827806</td>\n",
       "      <td>40.887556</td>\n",
       "    </tr>\n",
       "    <tr>\n",
       "      <th>3</th>\n",
       "      <td>nyu_2451_34572.4</td>\n",
       "      <td>Bronx</td>\n",
       "      <td>Fieldston</td>\n",
       "      <td>-73.905643</td>\n",
       "      <td>40.895437</td>\n",
       "    </tr>\n",
       "    <tr>\n",
       "      <th>4</th>\n",
       "      <td>nyu_2451_34572.5</td>\n",
       "      <td>Bronx</td>\n",
       "      <td>Riverdale</td>\n",
       "      <td>-73.912585</td>\n",
       "      <td>40.890834</td>\n",
       "    </tr>\n",
       "    <tr>\n",
       "      <th>...</th>\n",
       "      <td>...</td>\n",
       "      <td>...</td>\n",
       "      <td>...</td>\n",
       "      <td>...</td>\n",
       "      <td>...</td>\n",
       "    </tr>\n",
       "    <tr>\n",
       "      <th>301</th>\n",
       "      <td>nyu_2451_34572.302</td>\n",
       "      <td>Manhattan</td>\n",
       "      <td>Hudson Yards</td>\n",
       "      <td>-74.000111</td>\n",
       "      <td>40.756658</td>\n",
       "    </tr>\n",
       "    <tr>\n",
       "      <th>302</th>\n",
       "      <td>nyu_2451_34572.303</td>\n",
       "      <td>Queens</td>\n",
       "      <td>Hammels</td>\n",
       "      <td>-73.805530</td>\n",
       "      <td>40.587338</td>\n",
       "    </tr>\n",
       "    <tr>\n",
       "      <th>303</th>\n",
       "      <td>nyu_2451_34572.304</td>\n",
       "      <td>Queens</td>\n",
       "      <td>Bayswater</td>\n",
       "      <td>-73.765968</td>\n",
       "      <td>40.611322</td>\n",
       "    </tr>\n",
       "    <tr>\n",
       "      <th>304</th>\n",
       "      <td>nyu_2451_34572.305</td>\n",
       "      <td>Queens</td>\n",
       "      <td>Queensbridge</td>\n",
       "      <td>-73.945631</td>\n",
       "      <td>40.756091</td>\n",
       "    </tr>\n",
       "    <tr>\n",
       "      <th>305</th>\n",
       "      <td>nyu_2451_34572.306</td>\n",
       "      <td>Staten Island</td>\n",
       "      <td>Fox Hills</td>\n",
       "      <td>-74.081740</td>\n",
       "      <td>40.617311</td>\n",
       "    </tr>\n",
       "  </tbody>\n",
       "</table>\n",
       "<p>306 rows × 5 columns</p>\n",
       "</div>"
      ],
      "text/plain": [
       "                     id        borough  neighborhood  longitude   latitude\n",
       "0      nyu_2451_34572.1          Bronx     Wakefield -73.847201  40.894705\n",
       "1      nyu_2451_34572.2          Bronx    Co-op City -73.829939  40.874294\n",
       "2      nyu_2451_34572.3          Bronx   Eastchester -73.827806  40.887556\n",
       "3      nyu_2451_34572.4          Bronx     Fieldston -73.905643  40.895437\n",
       "4      nyu_2451_34572.5          Bronx     Riverdale -73.912585  40.890834\n",
       "..                  ...            ...           ...        ...        ...\n",
       "301  nyu_2451_34572.302      Manhattan  Hudson Yards -74.000111  40.756658\n",
       "302  nyu_2451_34572.303         Queens       Hammels -73.805530  40.587338\n",
       "303  nyu_2451_34572.304         Queens     Bayswater -73.765968  40.611322\n",
       "304  nyu_2451_34572.305         Queens  Queensbridge -73.945631  40.756091\n",
       "305  nyu_2451_34572.306  Staten Island     Fox Hills -74.081740  40.617311\n",
       "\n",
       "[306 rows x 5 columns]"
      ]
     },
     "execution_count": 11,
     "metadata": {},
     "output_type": "execute_result"
    }
   ],
   "source": [
    "# Tidy Data\n",
    "nyc_df = df[['id','properties.borough', 'properties.name', 'longitude', 'latitude']]\n",
    "nyc_df.columns = ['id', 'borough', 'neighborhood', 'longitude', 'latitude']\n",
    "nyc_df"
   ]
  },
  {
   "cell_type": "code",
   "execution_count": 12,
   "metadata": {},
   "outputs": [],
   "source": [
    " # csv = nyc_df.to_csv('nyc_geo_data_cleaned.csv')"
   ]
  },
  {
   "cell_type": "markdown",
   "metadata": {},
   "source": [
    "### Task\n",
    "Use different data sources and APIs to collect information about the neigborhoods that can be used for segmentation."
   ]
  },
  {
   "cell_type": "code",
   "execution_count": 15,
   "metadata": {},
   "outputs": [
    {
     "data": {
      "text/html": [
       "<div>\n",
       "<style scoped>\n",
       "    .dataframe tbody tr th:only-of-type {\n",
       "        vertical-align: middle;\n",
       "    }\n",
       "\n",
       "    .dataframe tbody tr th {\n",
       "        vertical-align: top;\n",
       "    }\n",
       "\n",
       "    .dataframe thead th {\n",
       "        text-align: right;\n",
       "    }\n",
       "</style>\n",
       "<table border=\"1\" class=\"dataframe\">\n",
       "  <thead>\n",
       "    <tr style=\"text-align: right;\">\n",
       "      <th></th>\n",
       "      <th>neighborhood</th>\n",
       "      <th>population</th>\n",
       "    </tr>\n",
       "  </thead>\n",
       "  <tbody>\n",
       "    <tr>\n",
       "      <th>0</th>\n",
       "      <td>Wakefield</td>\n",
       "      <td>21242.0</td>\n",
       "    </tr>\n",
       "    <tr>\n",
       "      <th>1</th>\n",
       "      <td>Co-op City</td>\n",
       "      <td>43752.0</td>\n",
       "    </tr>\n",
       "    <tr>\n",
       "      <th>2</th>\n",
       "      <td>Eastchester</td>\n",
       "      <td>11506.0</td>\n",
       "    </tr>\n",
       "    <tr>\n",
       "      <th>3</th>\n",
       "      <td>Fieldston</td>\n",
       "      <td>9287.0</td>\n",
       "    </tr>\n",
       "    <tr>\n",
       "      <th>4</th>\n",
       "      <td>Riverdale</td>\n",
       "      <td>9287.0</td>\n",
       "    </tr>\n",
       "  </tbody>\n",
       "</table>\n",
       "</div>"
      ],
      "text/plain": [
       "  neighborhood  population\n",
       "0    Wakefield     21242.0\n",
       "1   Co-op City     43752.0\n",
       "2  Eastchester     11506.0\n",
       "3    Fieldston      9287.0\n",
       "4    Riverdale      9287.0"
      ]
     },
     "execution_count": 15,
     "metadata": {},
     "output_type": "execute_result"
    }
   ],
   "source": [
    "populations = pd.read_csv('../data/nyc_populations.csv')\n",
    "populations = populations[['neighborhood', 'population']]\n",
    "populations.head()"
   ]
  },
  {
   "cell_type": "code",
   "execution_count": 16,
   "metadata": {},
   "outputs": [],
   "source": [
    "nyc_df = pd.merge(nyc_df, populations, on='neighborhood')\n",
    "nyc_df = nyc_df.drop_duplicates()"
   ]
  },
  {
   "cell_type": "code",
   "execution_count": 17,
   "metadata": {},
   "outputs": [],
   "source": [
    "nyc_df = nyc_df.drop(index=[120,121, 147, 148, 185, 186])"
   ]
  },
  {
   "cell_type": "code",
   "execution_count": 18,
   "metadata": {},
   "outputs": [
    {
     "data": {
      "text/plain": [
       "(306, 6)"
      ]
     },
     "execution_count": 18,
     "metadata": {},
     "output_type": "execute_result"
    }
   ],
   "source": [
    "nyc_df.shape"
   ]
  },
  {
   "cell_type": "code",
   "execution_count": 19,
   "metadata": {},
   "outputs": [
    {
     "data": {
      "text/html": [
       "<div>\n",
       "<style scoped>\n",
       "    .dataframe tbody tr th:only-of-type {\n",
       "        vertical-align: middle;\n",
       "    }\n",
       "\n",
       "    .dataframe tbody tr th {\n",
       "        vertical-align: top;\n",
       "    }\n",
       "\n",
       "    .dataframe thead th {\n",
       "        text-align: right;\n",
       "    }\n",
       "</style>\n",
       "<table border=\"1\" class=\"dataframe\">\n",
       "  <thead>\n",
       "    <tr style=\"text-align: right;\">\n",
       "      <th></th>\n",
       "      <th>id</th>\n",
       "      <th>borough</th>\n",
       "      <th>neighborhood</th>\n",
       "      <th>longitude</th>\n",
       "      <th>latitude</th>\n",
       "      <th>population</th>\n",
       "    </tr>\n",
       "  </thead>\n",
       "  <tbody>\n",
       "    <tr>\n",
       "      <th>0</th>\n",
       "      <td>nyu_2451_34572.1</td>\n",
       "      <td>Bronx</td>\n",
       "      <td>Wakefield</td>\n",
       "      <td>-73.847201</td>\n",
       "      <td>40.894705</td>\n",
       "      <td>21242.0</td>\n",
       "    </tr>\n",
       "    <tr>\n",
       "      <th>1</th>\n",
       "      <td>nyu_2451_34572.2</td>\n",
       "      <td>Bronx</td>\n",
       "      <td>Co-op City</td>\n",
       "      <td>-73.829939</td>\n",
       "      <td>40.874294</td>\n",
       "      <td>43752.0</td>\n",
       "    </tr>\n",
       "    <tr>\n",
       "      <th>2</th>\n",
       "      <td>nyu_2451_34572.3</td>\n",
       "      <td>Bronx</td>\n",
       "      <td>Eastchester</td>\n",
       "      <td>-73.827806</td>\n",
       "      <td>40.887556</td>\n",
       "      <td>11506.0</td>\n",
       "    </tr>\n",
       "    <tr>\n",
       "      <th>3</th>\n",
       "      <td>nyu_2451_34572.4</td>\n",
       "      <td>Bronx</td>\n",
       "      <td>Fieldston</td>\n",
       "      <td>-73.905643</td>\n",
       "      <td>40.895437</td>\n",
       "      <td>9287.0</td>\n",
       "    </tr>\n",
       "    <tr>\n",
       "      <th>4</th>\n",
       "      <td>nyu_2451_34572.5</td>\n",
       "      <td>Bronx</td>\n",
       "      <td>Riverdale</td>\n",
       "      <td>-73.912585</td>\n",
       "      <td>40.890834</td>\n",
       "      <td>9287.0</td>\n",
       "    </tr>\n",
       "  </tbody>\n",
       "</table>\n",
       "</div>"
      ],
      "text/plain": [
       "                 id borough neighborhood  longitude   latitude  population\n",
       "0  nyu_2451_34572.1   Bronx    Wakefield -73.847201  40.894705     21242.0\n",
       "1  nyu_2451_34572.2   Bronx   Co-op City -73.829939  40.874294     43752.0\n",
       "2  nyu_2451_34572.3   Bronx  Eastchester -73.827806  40.887556     11506.0\n",
       "3  nyu_2451_34572.4   Bronx    Fieldston -73.905643  40.895437      9287.0\n",
       "4  nyu_2451_34572.5   Bronx    Riverdale -73.912585  40.890834      9287.0"
      ]
     },
     "execution_count": 19,
     "metadata": {},
     "output_type": "execute_result"
    }
   ],
   "source": [
    "nyc_df.head()"
   ]
  },
  {
   "cell_type": "code",
   "execution_count": 22,
   "metadata": {},
   "outputs": [
    {
     "data": {
      "text/html": [
       "<div>\n",
       "<style scoped>\n",
       "    .dataframe tbody tr th:only-of-type {\n",
       "        vertical-align: middle;\n",
       "    }\n",
       "\n",
       "    .dataframe tbody tr th {\n",
       "        vertical-align: top;\n",
       "    }\n",
       "\n",
       "    .dataframe thead th {\n",
       "        text-align: right;\n",
       "    }\n",
       "</style>\n",
       "<table border=\"1\" class=\"dataframe\">\n",
       "  <thead>\n",
       "    <tr style=\"text-align: right;\">\n",
       "      <th></th>\n",
       "      <th>id</th>\n",
       "      <th>number_of_restaurants</th>\n",
       "      <th>average_review_count</th>\n",
       "      <th>average_restaurant_rating</th>\n",
       "      <th>average_price_level</th>\n",
       "    </tr>\n",
       "  </thead>\n",
       "  <tbody>\n",
       "    <tr>\n",
       "      <th>0</th>\n",
       "      <td>nyu_2451_34572.1</td>\n",
       "      <td>13</td>\n",
       "      <td>169</td>\n",
       "      <td>4.0</td>\n",
       "      <td>1</td>\n",
       "    </tr>\n",
       "    <tr>\n",
       "      <th>1</th>\n",
       "      <td>nyu_2451_34572.2</td>\n",
       "      <td>12</td>\n",
       "      <td>771</td>\n",
       "      <td>4.0</td>\n",
       "      <td>2</td>\n",
       "    </tr>\n",
       "    <tr>\n",
       "      <th>2</th>\n",
       "      <td>nyu_2451_34572.3</td>\n",
       "      <td>19</td>\n",
       "      <td>532</td>\n",
       "      <td>4.1</td>\n",
       "      <td>1</td>\n",
       "    </tr>\n",
       "    <tr>\n",
       "      <th>3</th>\n",
       "      <td>nyu_2451_34572.4</td>\n",
       "      <td>9</td>\n",
       "      <td>297</td>\n",
       "      <td>4.4</td>\n",
       "      <td>1</td>\n",
       "    </tr>\n",
       "    <tr>\n",
       "      <th>4</th>\n",
       "      <td>nyu_2451_34572.5</td>\n",
       "      <td>14</td>\n",
       "      <td>319</td>\n",
       "      <td>4.0</td>\n",
       "      <td>2</td>\n",
       "    </tr>\n",
       "  </tbody>\n",
       "</table>\n",
       "</div>"
      ],
      "text/plain": [
       "                 id  number_of_restaurants  average_review_count  \\\n",
       "0  nyu_2451_34572.1                     13                   169   \n",
       "1  nyu_2451_34572.2                     12                   771   \n",
       "2  nyu_2451_34572.3                     19                   532   \n",
       "3  nyu_2451_34572.4                      9                   297   \n",
       "4  nyu_2451_34572.5                     14                   319   \n",
       "\n",
       "   average_restaurant_rating  average_price_level  \n",
       "0                        4.0                    1  \n",
       "1                        4.0                    2  \n",
       "2                        4.1                    1  \n",
       "3                        4.4                    1  \n",
       "4                        4.0                    2  "
      ]
     },
     "execution_count": 22,
     "metadata": {},
     "output_type": "execute_result"
    }
   ],
   "source": [
    "resturants = pd.read_csv('../data/API_data/resturants_data.csv')\n",
    "resturants = resturants.iloc[:, 1:]\n",
    "resturants.head()"
   ]
  },
  {
   "cell_type": "code",
   "execution_count": 23,
   "metadata": {},
   "outputs": [],
   "source": [
    "nyc_df = pd.merge(nyc_df, resturants, on='id')\n",
    "nyc_df = nyc_df.drop_duplicates()"
   ]
  },
  {
   "cell_type": "code",
   "execution_count": 24,
   "metadata": {},
   "outputs": [
    {
     "data": {
      "text/html": [
       "<div>\n",
       "<style scoped>\n",
       "    .dataframe tbody tr th:only-of-type {\n",
       "        vertical-align: middle;\n",
       "    }\n",
       "\n",
       "    .dataframe tbody tr th {\n",
       "        vertical-align: top;\n",
       "    }\n",
       "\n",
       "    .dataframe thead th {\n",
       "        text-align: right;\n",
       "    }\n",
       "</style>\n",
       "<table border=\"1\" class=\"dataframe\">\n",
       "  <thead>\n",
       "    <tr style=\"text-align: right;\">\n",
       "      <th></th>\n",
       "      <th>id</th>\n",
       "      <th>borough</th>\n",
       "      <th>neighborhood</th>\n",
       "      <th>longitude</th>\n",
       "      <th>latitude</th>\n",
       "      <th>population</th>\n",
       "      <th>number_of_restaurants</th>\n",
       "      <th>average_review_count</th>\n",
       "      <th>average_restaurant_rating</th>\n",
       "      <th>average_price_level</th>\n",
       "    </tr>\n",
       "  </thead>\n",
       "  <tbody>\n",
       "    <tr>\n",
       "      <th>0</th>\n",
       "      <td>nyu_2451_34572.1</td>\n",
       "      <td>Bronx</td>\n",
       "      <td>Wakefield</td>\n",
       "      <td>-73.847201</td>\n",
       "      <td>40.894705</td>\n",
       "      <td>21242.0</td>\n",
       "      <td>13</td>\n",
       "      <td>169</td>\n",
       "      <td>4.0</td>\n",
       "      <td>1</td>\n",
       "    </tr>\n",
       "    <tr>\n",
       "      <th>1</th>\n",
       "      <td>nyu_2451_34572.2</td>\n",
       "      <td>Bronx</td>\n",
       "      <td>Co-op City</td>\n",
       "      <td>-73.829939</td>\n",
       "      <td>40.874294</td>\n",
       "      <td>43752.0</td>\n",
       "      <td>12</td>\n",
       "      <td>771</td>\n",
       "      <td>4.0</td>\n",
       "      <td>2</td>\n",
       "    </tr>\n",
       "    <tr>\n",
       "      <th>2</th>\n",
       "      <td>nyu_2451_34572.3</td>\n",
       "      <td>Bronx</td>\n",
       "      <td>Eastchester</td>\n",
       "      <td>-73.827806</td>\n",
       "      <td>40.887556</td>\n",
       "      <td>11506.0</td>\n",
       "      <td>19</td>\n",
       "      <td>532</td>\n",
       "      <td>4.1</td>\n",
       "      <td>1</td>\n",
       "    </tr>\n",
       "    <tr>\n",
       "      <th>3</th>\n",
       "      <td>nyu_2451_34572.4</td>\n",
       "      <td>Bronx</td>\n",
       "      <td>Fieldston</td>\n",
       "      <td>-73.905643</td>\n",
       "      <td>40.895437</td>\n",
       "      <td>9287.0</td>\n",
       "      <td>9</td>\n",
       "      <td>297</td>\n",
       "      <td>4.4</td>\n",
       "      <td>1</td>\n",
       "    </tr>\n",
       "    <tr>\n",
       "      <th>4</th>\n",
       "      <td>nyu_2451_34572.5</td>\n",
       "      <td>Bronx</td>\n",
       "      <td>Riverdale</td>\n",
       "      <td>-73.912585</td>\n",
       "      <td>40.890834</td>\n",
       "      <td>9287.0</td>\n",
       "      <td>14</td>\n",
       "      <td>319</td>\n",
       "      <td>4.0</td>\n",
       "      <td>2</td>\n",
       "    </tr>\n",
       "  </tbody>\n",
       "</table>\n",
       "</div>"
      ],
      "text/plain": [
       "                 id borough neighborhood  longitude   latitude  population  \\\n",
       "0  nyu_2451_34572.1   Bronx    Wakefield -73.847201  40.894705     21242.0   \n",
       "1  nyu_2451_34572.2   Bronx   Co-op City -73.829939  40.874294     43752.0   \n",
       "2  nyu_2451_34572.3   Bronx  Eastchester -73.827806  40.887556     11506.0   \n",
       "3  nyu_2451_34572.4   Bronx    Fieldston -73.905643  40.895437      9287.0   \n",
       "4  nyu_2451_34572.5   Bronx    Riverdale -73.912585  40.890834      9287.0   \n",
       "\n",
       "   number_of_restaurants  average_review_count  average_restaurant_rating  \\\n",
       "0                     13                   169                        4.0   \n",
       "1                     12                   771                        4.0   \n",
       "2                     19                   532                        4.1   \n",
       "3                      9                   297                        4.4   \n",
       "4                     14                   319                        4.0   \n",
       "\n",
       "   average_price_level  \n",
       "0                    1  \n",
       "1                    2  \n",
       "2                    1  \n",
       "3                    1  \n",
       "4                    2  "
      ]
     },
     "execution_count": 24,
     "metadata": {},
     "output_type": "execute_result"
    }
   ],
   "source": [
    "nyc_df.head()"
   ]
  },
  {
   "cell_type": "code",
   "execution_count": 27,
   "metadata": {},
   "outputs": [
    {
     "data": {
      "text/html": [
       "<div>\n",
       "<style scoped>\n",
       "    .dataframe tbody tr th:only-of-type {\n",
       "        vertical-align: middle;\n",
       "    }\n",
       "\n",
       "    .dataframe tbody tr th {\n",
       "        vertical-align: top;\n",
       "    }\n",
       "\n",
       "    .dataframe thead th {\n",
       "        text-align: right;\n",
       "    }\n",
       "</style>\n",
       "<table border=\"1\" class=\"dataframe\">\n",
       "  <thead>\n",
       "    <tr style=\"text-align: right;\">\n",
       "      <th></th>\n",
       "      <th>id</th>\n",
       "      <th>yelp_category</th>\n",
       "    </tr>\n",
       "  </thead>\n",
       "  <tbody>\n",
       "    <tr>\n",
       "      <th>0</th>\n",
       "      <td>nyu_2451_34572.1</td>\n",
       "      <td>caribbean</td>\n",
       "    </tr>\n",
       "    <tr>\n",
       "      <th>1</th>\n",
       "      <td>nyu_2451_34572.2</td>\n",
       "      <td>delis</td>\n",
       "    </tr>\n",
       "    <tr>\n",
       "      <th>2</th>\n",
       "      <td>nyu_2451_34572.3</td>\n",
       "      <td>caribbean</td>\n",
       "    </tr>\n",
       "    <tr>\n",
       "      <th>3</th>\n",
       "      <td>nyu_2451_34572.4</td>\n",
       "      <td>N</td>\n",
       "    </tr>\n",
       "    <tr>\n",
       "      <th>4</th>\n",
       "      <td>nyu_2451_34572.5</td>\n",
       "      <td>burgers</td>\n",
       "    </tr>\n",
       "  </tbody>\n",
       "</table>\n",
       "</div>"
      ],
      "text/plain": [
       "                 id yelp_category\n",
       "0  nyu_2451_34572.1     caribbean\n",
       "1  nyu_2451_34572.2         delis\n",
       "2  nyu_2451_34572.3     caribbean\n",
       "3  nyu_2451_34572.4             N\n",
       "4  nyu_2451_34572.5       burgers"
      ]
     },
     "execution_count": 27,
     "metadata": {},
     "output_type": "execute_result"
    }
   ],
   "source": [
    "yelp_categories = pd.read_csv('../data/API_data/yelp_restaurant_categories.csv')\n",
    "yelp_categories = yelp_categories[['id', 'yelp_category']]\n",
    "yelp_categories.head()"
   ]
  },
  {
   "cell_type": "code",
   "execution_count": 28,
   "metadata": {},
   "outputs": [],
   "source": [
    "nyc_df = pd.merge(nyc_df, yelp_categories, on='id')"
   ]
  },
  {
   "cell_type": "code",
   "execution_count": 29,
   "metadata": {},
   "outputs": [
    {
     "data": {
      "text/html": [
       "<div>\n",
       "<style scoped>\n",
       "    .dataframe tbody tr th:only-of-type {\n",
       "        vertical-align: middle;\n",
       "    }\n",
       "\n",
       "    .dataframe tbody tr th {\n",
       "        vertical-align: top;\n",
       "    }\n",
       "\n",
       "    .dataframe thead th {\n",
       "        text-align: right;\n",
       "    }\n",
       "</style>\n",
       "<table border=\"1\" class=\"dataframe\">\n",
       "  <thead>\n",
       "    <tr style=\"text-align: right;\">\n",
       "      <th></th>\n",
       "      <th>id</th>\n",
       "      <th>borough</th>\n",
       "      <th>neighborhood</th>\n",
       "      <th>longitude</th>\n",
       "      <th>latitude</th>\n",
       "      <th>population</th>\n",
       "      <th>number_of_restaurants</th>\n",
       "      <th>average_review_count</th>\n",
       "      <th>average_restaurant_rating</th>\n",
       "      <th>average_price_level</th>\n",
       "      <th>yelp_category</th>\n",
       "    </tr>\n",
       "  </thead>\n",
       "  <tbody>\n",
       "    <tr>\n",
       "      <th>0</th>\n",
       "      <td>nyu_2451_34572.1</td>\n",
       "      <td>Bronx</td>\n",
       "      <td>Wakefield</td>\n",
       "      <td>-73.847201</td>\n",
       "      <td>40.894705</td>\n",
       "      <td>21242.0</td>\n",
       "      <td>13</td>\n",
       "      <td>169</td>\n",
       "      <td>4.0</td>\n",
       "      <td>1</td>\n",
       "      <td>caribbean</td>\n",
       "    </tr>\n",
       "    <tr>\n",
       "      <th>1</th>\n",
       "      <td>nyu_2451_34572.2</td>\n",
       "      <td>Bronx</td>\n",
       "      <td>Co-op City</td>\n",
       "      <td>-73.829939</td>\n",
       "      <td>40.874294</td>\n",
       "      <td>43752.0</td>\n",
       "      <td>12</td>\n",
       "      <td>771</td>\n",
       "      <td>4.0</td>\n",
       "      <td>2</td>\n",
       "      <td>delis</td>\n",
       "    </tr>\n",
       "    <tr>\n",
       "      <th>2</th>\n",
       "      <td>nyu_2451_34572.3</td>\n",
       "      <td>Bronx</td>\n",
       "      <td>Eastchester</td>\n",
       "      <td>-73.827806</td>\n",
       "      <td>40.887556</td>\n",
       "      <td>11506.0</td>\n",
       "      <td>19</td>\n",
       "      <td>532</td>\n",
       "      <td>4.1</td>\n",
       "      <td>1</td>\n",
       "      <td>caribbean</td>\n",
       "    </tr>\n",
       "    <tr>\n",
       "      <th>3</th>\n",
       "      <td>nyu_2451_34572.4</td>\n",
       "      <td>Bronx</td>\n",
       "      <td>Fieldston</td>\n",
       "      <td>-73.905643</td>\n",
       "      <td>40.895437</td>\n",
       "      <td>9287.0</td>\n",
       "      <td>9</td>\n",
       "      <td>297</td>\n",
       "      <td>4.4</td>\n",
       "      <td>1</td>\n",
       "      <td>N</td>\n",
       "    </tr>\n",
       "    <tr>\n",
       "      <th>4</th>\n",
       "      <td>nyu_2451_34572.5</td>\n",
       "      <td>Bronx</td>\n",
       "      <td>Riverdale</td>\n",
       "      <td>-73.912585</td>\n",
       "      <td>40.890834</td>\n",
       "      <td>9287.0</td>\n",
       "      <td>14</td>\n",
       "      <td>319</td>\n",
       "      <td>4.0</td>\n",
       "      <td>2</td>\n",
       "      <td>burgers</td>\n",
       "    </tr>\n",
       "  </tbody>\n",
       "</table>\n",
       "</div>"
      ],
      "text/plain": [
       "                 id borough neighborhood  longitude   latitude  population  \\\n",
       "0  nyu_2451_34572.1   Bronx    Wakefield -73.847201  40.894705     21242.0   \n",
       "1  nyu_2451_34572.2   Bronx   Co-op City -73.829939  40.874294     43752.0   \n",
       "2  nyu_2451_34572.3   Bronx  Eastchester -73.827806  40.887556     11506.0   \n",
       "3  nyu_2451_34572.4   Bronx    Fieldston -73.905643  40.895437      9287.0   \n",
       "4  nyu_2451_34572.5   Bronx    Riverdale -73.912585  40.890834      9287.0   \n",
       "\n",
       "   number_of_restaurants  average_review_count  average_restaurant_rating  \\\n",
       "0                     13                   169                        4.0   \n",
       "1                     12                   771                        4.0   \n",
       "2                     19                   532                        4.1   \n",
       "3                      9                   297                        4.4   \n",
       "4                     14                   319                        4.0   \n",
       "\n",
       "   average_price_level yelp_category  \n",
       "0                    1     caribbean  \n",
       "1                    2         delis  \n",
       "2                    1     caribbean  \n",
       "3                    1             N  \n",
       "4                    2       burgers  "
      ]
     },
     "execution_count": 29,
     "metadata": {},
     "output_type": "execute_result"
    }
   ],
   "source": [
    "nyc_df.head()"
   ]
  },
  {
   "cell_type": "code",
   "execution_count": 30,
   "metadata": {},
   "outputs": [
    {
     "data": {
      "text/html": [
       "<div>\n",
       "<style scoped>\n",
       "    .dataframe tbody tr th:only-of-type {\n",
       "        vertical-align: middle;\n",
       "    }\n",
       "\n",
       "    .dataframe tbody tr th {\n",
       "        vertical-align: top;\n",
       "    }\n",
       "\n",
       "    .dataframe thead th {\n",
       "        text-align: right;\n",
       "    }\n",
       "</style>\n",
       "<table border=\"1\" class=\"dataframe\">\n",
       "  <thead>\n",
       "    <tr style=\"text-align: right;\">\n",
       "      <th></th>\n",
       "      <th>Total</th>\n",
       "      <th>Percent</th>\n",
       "    </tr>\n",
       "  </thead>\n",
       "  <tbody>\n",
       "    <tr>\n",
       "      <th>id</th>\n",
       "      <td>0</td>\n",
       "      <td>0.0</td>\n",
       "    </tr>\n",
       "    <tr>\n",
       "      <th>borough</th>\n",
       "      <td>0</td>\n",
       "      <td>0.0</td>\n",
       "    </tr>\n",
       "    <tr>\n",
       "      <th>neighborhood</th>\n",
       "      <td>0</td>\n",
       "      <td>0.0</td>\n",
       "    </tr>\n",
       "    <tr>\n",
       "      <th>longitude</th>\n",
       "      <td>0</td>\n",
       "      <td>0.0</td>\n",
       "    </tr>\n",
       "    <tr>\n",
       "      <th>latitude</th>\n",
       "      <td>0</td>\n",
       "      <td>0.0</td>\n",
       "    </tr>\n",
       "  </tbody>\n",
       "</table>\n",
       "</div>"
      ],
      "text/plain": [
       "              Total  Percent\n",
       "id                0      0.0\n",
       "borough           0      0.0\n",
       "neighborhood      0      0.0\n",
       "longitude         0      0.0\n",
       "latitude          0      0.0"
      ]
     },
     "execution_count": 30,
     "metadata": {},
     "output_type": "execute_result"
    }
   ],
   "source": [
    "# Check for missing data\n",
    "total = nyc_df.isnull().sum().sort_values(ascending=False)\n",
    "percent = (nyc_df.isnull().sum()/nyc_df.isnull().count()).sort_values(ascending=False)\n",
    "missing_data = pd.concat([total, percent], axis=1, keys=['Total', 'Percent'])\n",
    "missing_data.head()"
   ]
  },
  {
   "cell_type": "code",
   "execution_count": 31,
   "metadata": {},
   "outputs": [],
   "source": [
    "# save_file = nyc_df.to_csv('old_dataset.csv')"
   ]
  },
  {
   "cell_type": "code",
   "execution_count": 32,
   "metadata": {},
   "outputs": [
    {
     "data": {
      "text/html": [
       "<div>\n",
       "<style scoped>\n",
       "    .dataframe tbody tr th:only-of-type {\n",
       "        vertical-align: middle;\n",
       "    }\n",
       "\n",
       "    .dataframe tbody tr th {\n",
       "        vertical-align: top;\n",
       "    }\n",
       "\n",
       "    .dataframe thead th {\n",
       "        text-align: right;\n",
       "    }\n",
       "</style>\n",
       "<table border=\"1\" class=\"dataframe\">\n",
       "  <thead>\n",
       "    <tr style=\"text-align: right;\">\n",
       "      <th></th>\n",
       "      <th>id</th>\n",
       "      <th>borough</th>\n",
       "      <th>neighborhood</th>\n",
       "      <th>longitude</th>\n",
       "      <th>latitude</th>\n",
       "      <th>population</th>\n",
       "      <th>restaurant_count</th>\n",
       "      <th>yelp_category</th>\n",
       "    </tr>\n",
       "  </thead>\n",
       "  <tbody>\n",
       "    <tr>\n",
       "      <th>0</th>\n",
       "      <td>nyu_2451_34572.1</td>\n",
       "      <td>Bronx</td>\n",
       "      <td>Wakefield</td>\n",
       "      <td>-73.847201</td>\n",
       "      <td>40.894705</td>\n",
       "      <td>21242.0</td>\n",
       "      <td>13</td>\n",
       "      <td>caribbean</td>\n",
       "    </tr>\n",
       "    <tr>\n",
       "      <th>1</th>\n",
       "      <td>nyu_2451_34572.2</td>\n",
       "      <td>Bronx</td>\n",
       "      <td>Co-op City</td>\n",
       "      <td>-73.829939</td>\n",
       "      <td>40.874294</td>\n",
       "      <td>43752.0</td>\n",
       "      <td>12</td>\n",
       "      <td>delis</td>\n",
       "    </tr>\n",
       "    <tr>\n",
       "      <th>2</th>\n",
       "      <td>nyu_2451_34572.3</td>\n",
       "      <td>Bronx</td>\n",
       "      <td>Eastchester</td>\n",
       "      <td>-73.827806</td>\n",
       "      <td>40.887556</td>\n",
       "      <td>11506.0</td>\n",
       "      <td>19</td>\n",
       "      <td>caribbean</td>\n",
       "    </tr>\n",
       "    <tr>\n",
       "      <th>3</th>\n",
       "      <td>nyu_2451_34572.4</td>\n",
       "      <td>Bronx</td>\n",
       "      <td>Fieldston</td>\n",
       "      <td>-73.905643</td>\n",
       "      <td>40.895437</td>\n",
       "      <td>9287.0</td>\n",
       "      <td>9</td>\n",
       "      <td>N</td>\n",
       "    </tr>\n",
       "    <tr>\n",
       "      <th>4</th>\n",
       "      <td>nyu_2451_34572.5</td>\n",
       "      <td>Bronx</td>\n",
       "      <td>Riverdale</td>\n",
       "      <td>-73.912585</td>\n",
       "      <td>40.890834</td>\n",
       "      <td>9287.0</td>\n",
       "      <td>14</td>\n",
       "      <td>burgers</td>\n",
       "    </tr>\n",
       "  </tbody>\n",
       "</table>\n",
       "</div>"
      ],
      "text/plain": [
       "                 id borough neighborhood  longitude   latitude  population  \\\n",
       "0  nyu_2451_34572.1   Bronx    Wakefield -73.847201  40.894705     21242.0   \n",
       "1  nyu_2451_34572.2   Bronx   Co-op City -73.829939  40.874294     43752.0   \n",
       "2  nyu_2451_34572.3   Bronx  Eastchester -73.827806  40.887556     11506.0   \n",
       "3  nyu_2451_34572.4   Bronx    Fieldston -73.905643  40.895437      9287.0   \n",
       "4  nyu_2451_34572.5   Bronx    Riverdale -73.912585  40.890834      9287.0   \n",
       "\n",
       "   restaurant_count yelp_category  \n",
       "0                13     caribbean  \n",
       "1                12         delis  \n",
       "2                19     caribbean  \n",
       "3                 9             N  \n",
       "4                14       burgers  "
      ]
     },
     "execution_count": 32,
     "metadata": {},
     "output_type": "execute_result"
    }
   ],
   "source": [
    "main_dataset = nyc_df.copy()\n",
    "main_dataset = main_dataset.drop(columns=['average_review_count', 'average_restaurant_rating', 'average_price_level'])\n",
    "main_dataset = main_dataset.rename(columns={'number_of_restaurants': 'restaurant_count'})\n",
    "main_dataset.head()"
   ]
  },
  {
   "cell_type": "code",
   "execution_count": 33,
   "metadata": {},
   "outputs": [
    {
     "data": {
      "text/html": [
       "<div>\n",
       "<style scoped>\n",
       "    .dataframe tbody tr th:only-of-type {\n",
       "        vertical-align: middle;\n",
       "    }\n",
       "\n",
       "    .dataframe tbody tr th {\n",
       "        vertical-align: top;\n",
       "    }\n",
       "\n",
       "    .dataframe thead th {\n",
       "        text-align: right;\n",
       "    }\n",
       "</style>\n",
       "<table border=\"1\" class=\"dataframe\">\n",
       "  <thead>\n",
       "    <tr style=\"text-align: right;\">\n",
       "      <th></th>\n",
       "      <th>id</th>\n",
       "      <th>borough</th>\n",
       "      <th>neighborhood</th>\n",
       "      <th>longitude</th>\n",
       "      <th>latitude</th>\n",
       "      <th>population</th>\n",
       "      <th>restaurant_count</th>\n",
       "      <th>yelp_category</th>\n",
       "      <th>N</th>\n",
       "      <th>bars</th>\n",
       "      <th>...</th>\n",
       "      <th>pizza</th>\n",
       "      <th>russian</th>\n",
       "      <th>sandwiches</th>\n",
       "      <th>seafood</th>\n",
       "      <th>spanish</th>\n",
       "      <th>steak</th>\n",
       "      <th>sushi</th>\n",
       "      <th>tapasmallplates</th>\n",
       "      <th>thai</th>\n",
       "      <th>tradamerican</th>\n",
       "    </tr>\n",
       "  </thead>\n",
       "  <tbody>\n",
       "    <tr>\n",
       "      <th>0</th>\n",
       "      <td>nyu_2451_34572.1</td>\n",
       "      <td>Bronx</td>\n",
       "      <td>Wakefield</td>\n",
       "      <td>-73.847201</td>\n",
       "      <td>40.894705</td>\n",
       "      <td>21242.0</td>\n",
       "      <td>13</td>\n",
       "      <td>caribbean</td>\n",
       "      <td>0</td>\n",
       "      <td>0</td>\n",
       "      <td>...</td>\n",
       "      <td>0</td>\n",
       "      <td>0</td>\n",
       "      <td>0</td>\n",
       "      <td>0</td>\n",
       "      <td>0</td>\n",
       "      <td>0</td>\n",
       "      <td>0</td>\n",
       "      <td>0</td>\n",
       "      <td>0</td>\n",
       "      <td>0</td>\n",
       "    </tr>\n",
       "    <tr>\n",
       "      <th>1</th>\n",
       "      <td>nyu_2451_34572.2</td>\n",
       "      <td>Bronx</td>\n",
       "      <td>Co-op City</td>\n",
       "      <td>-73.829939</td>\n",
       "      <td>40.874294</td>\n",
       "      <td>43752.0</td>\n",
       "      <td>12</td>\n",
       "      <td>delis</td>\n",
       "      <td>0</td>\n",
       "      <td>0</td>\n",
       "      <td>...</td>\n",
       "      <td>0</td>\n",
       "      <td>0</td>\n",
       "      <td>0</td>\n",
       "      <td>0</td>\n",
       "      <td>0</td>\n",
       "      <td>0</td>\n",
       "      <td>0</td>\n",
       "      <td>0</td>\n",
       "      <td>0</td>\n",
       "      <td>0</td>\n",
       "    </tr>\n",
       "    <tr>\n",
       "      <th>2</th>\n",
       "      <td>nyu_2451_34572.3</td>\n",
       "      <td>Bronx</td>\n",
       "      <td>Eastchester</td>\n",
       "      <td>-73.827806</td>\n",
       "      <td>40.887556</td>\n",
       "      <td>11506.0</td>\n",
       "      <td>19</td>\n",
       "      <td>caribbean</td>\n",
       "      <td>0</td>\n",
       "      <td>0</td>\n",
       "      <td>...</td>\n",
       "      <td>0</td>\n",
       "      <td>0</td>\n",
       "      <td>0</td>\n",
       "      <td>0</td>\n",
       "      <td>0</td>\n",
       "      <td>0</td>\n",
       "      <td>0</td>\n",
       "      <td>0</td>\n",
       "      <td>0</td>\n",
       "      <td>0</td>\n",
       "    </tr>\n",
       "    <tr>\n",
       "      <th>3</th>\n",
       "      <td>nyu_2451_34572.4</td>\n",
       "      <td>Bronx</td>\n",
       "      <td>Fieldston</td>\n",
       "      <td>-73.905643</td>\n",
       "      <td>40.895437</td>\n",
       "      <td>9287.0</td>\n",
       "      <td>9</td>\n",
       "      <td>N</td>\n",
       "      <td>1</td>\n",
       "      <td>0</td>\n",
       "      <td>...</td>\n",
       "      <td>0</td>\n",
       "      <td>0</td>\n",
       "      <td>0</td>\n",
       "      <td>0</td>\n",
       "      <td>0</td>\n",
       "      <td>0</td>\n",
       "      <td>0</td>\n",
       "      <td>0</td>\n",
       "      <td>0</td>\n",
       "      <td>0</td>\n",
       "    </tr>\n",
       "    <tr>\n",
       "      <th>4</th>\n",
       "      <td>nyu_2451_34572.5</td>\n",
       "      <td>Bronx</td>\n",
       "      <td>Riverdale</td>\n",
       "      <td>-73.912585</td>\n",
       "      <td>40.890834</td>\n",
       "      <td>9287.0</td>\n",
       "      <td>14</td>\n",
       "      <td>burgers</td>\n",
       "      <td>0</td>\n",
       "      <td>0</td>\n",
       "      <td>...</td>\n",
       "      <td>0</td>\n",
       "      <td>0</td>\n",
       "      <td>0</td>\n",
       "      <td>0</td>\n",
       "      <td>0</td>\n",
       "      <td>0</td>\n",
       "      <td>0</td>\n",
       "      <td>0</td>\n",
       "      <td>0</td>\n",
       "      <td>0</td>\n",
       "    </tr>\n",
       "  </tbody>\n",
       "</table>\n",
       "<p>5 rows × 48 columns</p>\n",
       "</div>"
      ],
      "text/plain": [
       "                 id borough neighborhood  longitude   latitude  population  \\\n",
       "0  nyu_2451_34572.1   Bronx    Wakefield -73.847201  40.894705     21242.0   \n",
       "1  nyu_2451_34572.2   Bronx   Co-op City -73.829939  40.874294     43752.0   \n",
       "2  nyu_2451_34572.3   Bronx  Eastchester -73.827806  40.887556     11506.0   \n",
       "3  nyu_2451_34572.4   Bronx    Fieldston -73.905643  40.895437      9287.0   \n",
       "4  nyu_2451_34572.5   Bronx    Riverdale -73.912585  40.890834      9287.0   \n",
       "\n",
       "   restaurant_count yelp_category  N  bars  ...  pizza  russian  sandwiches  \\\n",
       "0                13     caribbean  0     0  ...      0        0           0   \n",
       "1                12         delis  0     0  ...      0        0           0   \n",
       "2                19     caribbean  0     0  ...      0        0           0   \n",
       "3                 9             N  1     0  ...      0        0           0   \n",
       "4                14       burgers  0     0  ...      0        0           0   \n",
       "\n",
       "   seafood  spanish  steak  sushi  tapasmallplates  thai  tradamerican  \n",
       "0        0        0      0      0                0     0             0  \n",
       "1        0        0      0      0                0     0             0  \n",
       "2        0        0      0      0                0     0             0  \n",
       "3        0        0      0      0                0     0             0  \n",
       "4        0        0      0      0                0     0             0  \n",
       "\n",
       "[5 rows x 48 columns]"
      ]
     },
     "execution_count": 33,
     "metadata": {},
     "output_type": "execute_result"
    }
   ],
   "source": [
    "onehot = pd.get_dummies(main_dataset['yelp_category'], prefix='', prefix_sep='')\n",
    "main_dataset = main_dataset.join(onehot)\n",
    "main_dataset.head()"
   ]
  },
  {
   "cell_type": "code",
   "execution_count": 36,
   "metadata": {},
   "outputs": [
    {
     "data": {
      "text/html": [
       "<div>\n",
       "<style scoped>\n",
       "    .dataframe tbody tr th:only-of-type {\n",
       "        vertical-align: middle;\n",
       "    }\n",
       "\n",
       "    .dataframe tbody tr th {\n",
       "        vertical-align: top;\n",
       "    }\n",
       "\n",
       "    .dataframe thead th {\n",
       "        text-align: right;\n",
       "    }\n",
       "</style>\n",
       "<table border=\"1\" class=\"dataframe\">\n",
       "  <thead>\n",
       "    <tr style=\"text-align: right;\">\n",
       "      <th></th>\n",
       "      <th>id</th>\n",
       "      <th>accounting</th>\n",
       "      <th>art_gallery</th>\n",
       "      <th>bakery</th>\n",
       "      <th>bank</th>\n",
       "      <th>bar</th>\n",
       "      <th>beauty_salon</th>\n",
       "      <th>bicycle_store</th>\n",
       "      <th>book_store</th>\n",
       "      <th>bowling_alley</th>\n",
       "      <th>...</th>\n",
       "      <th>store</th>\n",
       "      <th>subway_station</th>\n",
       "      <th>supermarket</th>\n",
       "      <th>synagogue</th>\n",
       "      <th>taxi_stand</th>\n",
       "      <th>tourist_attraction</th>\n",
       "      <th>transit_station</th>\n",
       "      <th>travel_agency</th>\n",
       "      <th>university</th>\n",
       "      <th>veterinary_care</th>\n",
       "    </tr>\n",
       "  </thead>\n",
       "  <tbody>\n",
       "    <tr>\n",
       "      <th>0</th>\n",
       "      <td>nyu_2451_34572.1</td>\n",
       "      <td>1</td>\n",
       "      <td>0</td>\n",
       "      <td>0</td>\n",
       "      <td>0</td>\n",
       "      <td>0</td>\n",
       "      <td>0</td>\n",
       "      <td>0</td>\n",
       "      <td>0</td>\n",
       "      <td>0</td>\n",
       "      <td>...</td>\n",
       "      <td>0</td>\n",
       "      <td>0</td>\n",
       "      <td>0</td>\n",
       "      <td>0</td>\n",
       "      <td>0</td>\n",
       "      <td>0</td>\n",
       "      <td>0</td>\n",
       "      <td>0</td>\n",
       "      <td>0</td>\n",
       "      <td>0</td>\n",
       "    </tr>\n",
       "    <tr>\n",
       "      <th>1</th>\n",
       "      <td>nyu_2451_34572.10</td>\n",
       "      <td>1</td>\n",
       "      <td>0</td>\n",
       "      <td>0</td>\n",
       "      <td>0</td>\n",
       "      <td>0</td>\n",
       "      <td>2</td>\n",
       "      <td>0</td>\n",
       "      <td>0</td>\n",
       "      <td>0</td>\n",
       "      <td>...</td>\n",
       "      <td>2</td>\n",
       "      <td>0</td>\n",
       "      <td>0</td>\n",
       "      <td>0</td>\n",
       "      <td>0</td>\n",
       "      <td>0</td>\n",
       "      <td>0</td>\n",
       "      <td>0</td>\n",
       "      <td>0</td>\n",
       "      <td>0</td>\n",
       "    </tr>\n",
       "    <tr>\n",
       "      <th>2</th>\n",
       "      <td>nyu_2451_34572.100</td>\n",
       "      <td>0</td>\n",
       "      <td>0</td>\n",
       "      <td>0</td>\n",
       "      <td>0</td>\n",
       "      <td>1</td>\n",
       "      <td>1</td>\n",
       "      <td>0</td>\n",
       "      <td>0</td>\n",
       "      <td>0</td>\n",
       "      <td>...</td>\n",
       "      <td>0</td>\n",
       "      <td>0</td>\n",
       "      <td>0</td>\n",
       "      <td>0</td>\n",
       "      <td>0</td>\n",
       "      <td>0</td>\n",
       "      <td>0</td>\n",
       "      <td>0</td>\n",
       "      <td>0</td>\n",
       "      <td>0</td>\n",
       "    </tr>\n",
       "    <tr>\n",
       "      <th>3</th>\n",
       "      <td>nyu_2451_34572.101</td>\n",
       "      <td>0</td>\n",
       "      <td>1</td>\n",
       "      <td>2</td>\n",
       "      <td>1</td>\n",
       "      <td>6</td>\n",
       "      <td>0</td>\n",
       "      <td>0</td>\n",
       "      <td>0</td>\n",
       "      <td>0</td>\n",
       "      <td>...</td>\n",
       "      <td>1</td>\n",
       "      <td>0</td>\n",
       "      <td>0</td>\n",
       "      <td>0</td>\n",
       "      <td>0</td>\n",
       "      <td>1</td>\n",
       "      <td>0</td>\n",
       "      <td>0</td>\n",
       "      <td>0</td>\n",
       "      <td>0</td>\n",
       "    </tr>\n",
       "    <tr>\n",
       "      <th>4</th>\n",
       "      <td>nyu_2451_34572.102</td>\n",
       "      <td>0</td>\n",
       "      <td>0</td>\n",
       "      <td>0</td>\n",
       "      <td>2</td>\n",
       "      <td>4</td>\n",
       "      <td>0</td>\n",
       "      <td>0</td>\n",
       "      <td>0</td>\n",
       "      <td>0</td>\n",
       "      <td>...</td>\n",
       "      <td>0</td>\n",
       "      <td>0</td>\n",
       "      <td>0</td>\n",
       "      <td>1</td>\n",
       "      <td>0</td>\n",
       "      <td>0</td>\n",
       "      <td>0</td>\n",
       "      <td>0</td>\n",
       "      <td>0</td>\n",
       "      <td>0</td>\n",
       "    </tr>\n",
       "  </tbody>\n",
       "</table>\n",
       "<p>5 rows × 89 columns</p>\n",
       "</div>"
      ],
      "text/plain": [
       "                   id  accounting  art_gallery  bakery  bank  bar  \\\n",
       "0    nyu_2451_34572.1           1            0       0     0    0   \n",
       "1   nyu_2451_34572.10           1            0       0     0    0   \n",
       "2  nyu_2451_34572.100           0            0       0     0    1   \n",
       "3  nyu_2451_34572.101           0            1       2     1    6   \n",
       "4  nyu_2451_34572.102           0            0       0     2    4   \n",
       "\n",
       "   beauty_salon  bicycle_store  book_store  bowling_alley  ...  store  \\\n",
       "0             0              0           0              0  ...      0   \n",
       "1             2              0           0              0  ...      2   \n",
       "2             1              0           0              0  ...      0   \n",
       "3             0              0           0              0  ...      1   \n",
       "4             0              0           0              0  ...      0   \n",
       "\n",
       "   subway_station  supermarket  synagogue  taxi_stand  tourist_attraction  \\\n",
       "0               0            0          0           0                   0   \n",
       "1               0            0          0           0                   0   \n",
       "2               0            0          0           0                   0   \n",
       "3               0            0          0           0                   1   \n",
       "4               0            0          1           0                   0   \n",
       "\n",
       "   transit_station  travel_agency  university  veterinary_care  \n",
       "0                0              0           0                0  \n",
       "1                0              0           0                0  \n",
       "2                0              0           0                0  \n",
       "3                0              0           0                0  \n",
       "4                0              0           0                0  \n",
       "\n",
       "[5 rows x 89 columns]"
      ]
     },
     "execution_count": 36,
     "metadata": {},
     "output_type": "execute_result"
    }
   ],
   "source": [
    "venues = pd.read_csv('../data/API_data/all_venues_data.csv')\n",
    "venues.head()"
   ]
  },
  {
   "cell_type": "code",
   "execution_count": 37,
   "metadata": {},
   "outputs": [
    {
     "data": {
      "text/html": [
       "<div>\n",
       "<style scoped>\n",
       "    .dataframe tbody tr th:only-of-type {\n",
       "        vertical-align: middle;\n",
       "    }\n",
       "\n",
       "    .dataframe tbody tr th {\n",
       "        vertical-align: top;\n",
       "    }\n",
       "\n",
       "    .dataframe thead th {\n",
       "        text-align: right;\n",
       "    }\n",
       "</style>\n",
       "<table border=\"1\" class=\"dataframe\">\n",
       "  <thead>\n",
       "    <tr style=\"text-align: right;\">\n",
       "      <th></th>\n",
       "      <th>borough</th>\n",
       "      <th>neighborhood</th>\n",
       "      <th>longitude</th>\n",
       "      <th>latitude</th>\n",
       "      <th>population</th>\n",
       "      <th>restaurant_count</th>\n",
       "      <th>N</th>\n",
       "      <th>bars</th>\n",
       "      <th>bbq</th>\n",
       "      <th>breakfast_brunch</th>\n",
       "      <th>...</th>\n",
       "      <th>store</th>\n",
       "      <th>subway_station</th>\n",
       "      <th>supermarket</th>\n",
       "      <th>synagogue</th>\n",
       "      <th>taxi_stand</th>\n",
       "      <th>tourist_attraction</th>\n",
       "      <th>transit_station</th>\n",
       "      <th>travel_agency</th>\n",
       "      <th>university</th>\n",
       "      <th>veterinary_care</th>\n",
       "    </tr>\n",
       "  </thead>\n",
       "  <tbody>\n",
       "    <tr>\n",
       "      <th>0</th>\n",
       "      <td>Bronx</td>\n",
       "      <td>Wakefield</td>\n",
       "      <td>-73.847201</td>\n",
       "      <td>40.894705</td>\n",
       "      <td>21242.0</td>\n",
       "      <td>13</td>\n",
       "      <td>0</td>\n",
       "      <td>0</td>\n",
       "      <td>0</td>\n",
       "      <td>0</td>\n",
       "      <td>...</td>\n",
       "      <td>0</td>\n",
       "      <td>0</td>\n",
       "      <td>0</td>\n",
       "      <td>0</td>\n",
       "      <td>0</td>\n",
       "      <td>0</td>\n",
       "      <td>0</td>\n",
       "      <td>0</td>\n",
       "      <td>0</td>\n",
       "      <td>0</td>\n",
       "    </tr>\n",
       "    <tr>\n",
       "      <th>1</th>\n",
       "      <td>Bronx</td>\n",
       "      <td>Co-op City</td>\n",
       "      <td>-73.829939</td>\n",
       "      <td>40.874294</td>\n",
       "      <td>43752.0</td>\n",
       "      <td>12</td>\n",
       "      <td>0</td>\n",
       "      <td>0</td>\n",
       "      <td>0</td>\n",
       "      <td>0</td>\n",
       "      <td>...</td>\n",
       "      <td>0</td>\n",
       "      <td>0</td>\n",
       "      <td>0</td>\n",
       "      <td>0</td>\n",
       "      <td>0</td>\n",
       "      <td>0</td>\n",
       "      <td>0</td>\n",
       "      <td>0</td>\n",
       "      <td>0</td>\n",
       "      <td>0</td>\n",
       "    </tr>\n",
       "    <tr>\n",
       "      <th>2</th>\n",
       "      <td>Bronx</td>\n",
       "      <td>Eastchester</td>\n",
       "      <td>-73.827806</td>\n",
       "      <td>40.887556</td>\n",
       "      <td>11506.0</td>\n",
       "      <td>19</td>\n",
       "      <td>0</td>\n",
       "      <td>0</td>\n",
       "      <td>0</td>\n",
       "      <td>0</td>\n",
       "      <td>...</td>\n",
       "      <td>0</td>\n",
       "      <td>0</td>\n",
       "      <td>0</td>\n",
       "      <td>0</td>\n",
       "      <td>0</td>\n",
       "      <td>0</td>\n",
       "      <td>0</td>\n",
       "      <td>0</td>\n",
       "      <td>0</td>\n",
       "      <td>0</td>\n",
       "    </tr>\n",
       "    <tr>\n",
       "      <th>3</th>\n",
       "      <td>Bronx</td>\n",
       "      <td>Fieldston</td>\n",
       "      <td>-73.905643</td>\n",
       "      <td>40.895437</td>\n",
       "      <td>9287.0</td>\n",
       "      <td>9</td>\n",
       "      <td>1</td>\n",
       "      <td>0</td>\n",
       "      <td>0</td>\n",
       "      <td>0</td>\n",
       "      <td>...</td>\n",
       "      <td>0</td>\n",
       "      <td>0</td>\n",
       "      <td>0</td>\n",
       "      <td>1</td>\n",
       "      <td>0</td>\n",
       "      <td>0</td>\n",
       "      <td>0</td>\n",
       "      <td>0</td>\n",
       "      <td>0</td>\n",
       "      <td>0</td>\n",
       "    </tr>\n",
       "    <tr>\n",
       "      <th>4</th>\n",
       "      <td>Bronx</td>\n",
       "      <td>Riverdale</td>\n",
       "      <td>-73.912585</td>\n",
       "      <td>40.890834</td>\n",
       "      <td>9287.0</td>\n",
       "      <td>14</td>\n",
       "      <td>0</td>\n",
       "      <td>0</td>\n",
       "      <td>0</td>\n",
       "      <td>0</td>\n",
       "      <td>...</td>\n",
       "      <td>0</td>\n",
       "      <td>0</td>\n",
       "      <td>0</td>\n",
       "      <td>2</td>\n",
       "      <td>0</td>\n",
       "      <td>0</td>\n",
       "      <td>0</td>\n",
       "      <td>0</td>\n",
       "      <td>0</td>\n",
       "      <td>0</td>\n",
       "    </tr>\n",
       "  </tbody>\n",
       "</table>\n",
       "<p>5 rows × 134 columns</p>\n",
       "</div>"
      ],
      "text/plain": [
       "  borough neighborhood  longitude   latitude  population  restaurant_count  N  \\\n",
       "0   Bronx    Wakefield -73.847201  40.894705     21242.0                13  0   \n",
       "1   Bronx   Co-op City -73.829939  40.874294     43752.0                12  0   \n",
       "2   Bronx  Eastchester -73.827806  40.887556     11506.0                19  0   \n",
       "3   Bronx    Fieldston -73.905643  40.895437      9287.0                 9  1   \n",
       "4   Bronx    Riverdale -73.912585  40.890834      9287.0                14  0   \n",
       "\n",
       "   bars  bbq  breakfast_brunch  ...  store  subway_station  supermarket  \\\n",
       "0     0    0                 0  ...      0               0            0   \n",
       "1     0    0                 0  ...      0               0            0   \n",
       "2     0    0                 0  ...      0               0            0   \n",
       "3     0    0                 0  ...      0               0            0   \n",
       "4     0    0                 0  ...      0               0            0   \n",
       "\n",
       "   synagogue  taxi_stand  tourist_attraction  transit_station  travel_agency  \\\n",
       "0          0           0                   0                0              0   \n",
       "1          0           0                   0                0              0   \n",
       "2          0           0                   0                0              0   \n",
       "3          1           0                   0                0              0   \n",
       "4          2           0                   0                0              0   \n",
       "\n",
       "   university  veterinary_care  \n",
       "0           0                0  \n",
       "1           0                0  \n",
       "2           0                0  \n",
       "3           0                0  \n",
       "4           0                0  \n",
       "\n",
       "[5 rows x 134 columns]"
      ]
     },
     "execution_count": 37,
     "metadata": {},
     "output_type": "execute_result"
    }
   ],
   "source": [
    "main_dataset = pd.merge(main_dataset, venues, on='id')\n",
    "main_dataset = main_dataset.drop(columns=['id','yelp_category'], axis = 1)\n",
    "main_dataset.head()"
   ]
  },
  {
   "cell_type": "code",
   "execution_count": 38,
   "metadata": {},
   "outputs": [],
   "source": [
    "# save_file = main_dataset.to_csv('main_dataset.csv', index=False)"
   ]
  },
  {
   "cell_type": "code",
   "execution_count": 39,
   "metadata": {},
   "outputs": [
    {
     "data": {
      "text/html": [
       "<div>\n",
       "<style scoped>\n",
       "    .dataframe tbody tr th:only-of-type {\n",
       "        vertical-align: middle;\n",
       "    }\n",
       "\n",
       "    .dataframe tbody tr th {\n",
       "        vertical-align: top;\n",
       "    }\n",
       "\n",
       "    .dataframe thead th {\n",
       "        text-align: right;\n",
       "    }\n",
       "</style>\n",
       "<table border=\"1\" class=\"dataframe\">\n",
       "  <thead>\n",
       "    <tr style=\"text-align: right;\">\n",
       "      <th></th>\n",
       "      <th>borough</th>\n",
       "      <th>neighborhood</th>\n",
       "      <th>longitude</th>\n",
       "      <th>latitude</th>\n",
       "      <th>population</th>\n",
       "      <th>restaurant_count</th>\n",
       "      <th>most_popular_restaurant_category</th>\n",
       "      <th>accounting</th>\n",
       "      <th>art_gallery</th>\n",
       "      <th>bakery</th>\n",
       "      <th>...</th>\n",
       "      <th>store</th>\n",
       "      <th>subway_station</th>\n",
       "      <th>supermarket</th>\n",
       "      <th>synagogue</th>\n",
       "      <th>taxi_stand</th>\n",
       "      <th>tourist_attraction</th>\n",
       "      <th>transit_station</th>\n",
       "      <th>travel_agency</th>\n",
       "      <th>university</th>\n",
       "      <th>veterinary_care</th>\n",
       "    </tr>\n",
       "  </thead>\n",
       "  <tbody>\n",
       "    <tr>\n",
       "      <th>0</th>\n",
       "      <td>Bronx</td>\n",
       "      <td>Wakefield</td>\n",
       "      <td>-73.847201</td>\n",
       "      <td>40.894705</td>\n",
       "      <td>21242.0</td>\n",
       "      <td>13</td>\n",
       "      <td>caribbean</td>\n",
       "      <td>1</td>\n",
       "      <td>0</td>\n",
       "      <td>0</td>\n",
       "      <td>...</td>\n",
       "      <td>0</td>\n",
       "      <td>0</td>\n",
       "      <td>0</td>\n",
       "      <td>0</td>\n",
       "      <td>0</td>\n",
       "      <td>0</td>\n",
       "      <td>0</td>\n",
       "      <td>0</td>\n",
       "      <td>0</td>\n",
       "      <td>0</td>\n",
       "    </tr>\n",
       "    <tr>\n",
       "      <th>1</th>\n",
       "      <td>Bronx</td>\n",
       "      <td>Co-op City</td>\n",
       "      <td>-73.829939</td>\n",
       "      <td>40.874294</td>\n",
       "      <td>43752.0</td>\n",
       "      <td>12</td>\n",
       "      <td>delis</td>\n",
       "      <td>1</td>\n",
       "      <td>0</td>\n",
       "      <td>0</td>\n",
       "      <td>...</td>\n",
       "      <td>0</td>\n",
       "      <td>0</td>\n",
       "      <td>0</td>\n",
       "      <td>0</td>\n",
       "      <td>0</td>\n",
       "      <td>0</td>\n",
       "      <td>0</td>\n",
       "      <td>0</td>\n",
       "      <td>0</td>\n",
       "      <td>0</td>\n",
       "    </tr>\n",
       "    <tr>\n",
       "      <th>2</th>\n",
       "      <td>Bronx</td>\n",
       "      <td>Eastchester</td>\n",
       "      <td>-73.827806</td>\n",
       "      <td>40.887556</td>\n",
       "      <td>11506.0</td>\n",
       "      <td>19</td>\n",
       "      <td>caribbean</td>\n",
       "      <td>1</td>\n",
       "      <td>0</td>\n",
       "      <td>0</td>\n",
       "      <td>...</td>\n",
       "      <td>0</td>\n",
       "      <td>0</td>\n",
       "      <td>0</td>\n",
       "      <td>0</td>\n",
       "      <td>0</td>\n",
       "      <td>0</td>\n",
       "      <td>0</td>\n",
       "      <td>0</td>\n",
       "      <td>0</td>\n",
       "      <td>0</td>\n",
       "    </tr>\n",
       "    <tr>\n",
       "      <th>3</th>\n",
       "      <td>Bronx</td>\n",
       "      <td>Fieldston</td>\n",
       "      <td>-73.905643</td>\n",
       "      <td>40.895437</td>\n",
       "      <td>9287.0</td>\n",
       "      <td>9</td>\n",
       "      <td>N</td>\n",
       "      <td>0</td>\n",
       "      <td>0</td>\n",
       "      <td>0</td>\n",
       "      <td>...</td>\n",
       "      <td>0</td>\n",
       "      <td>0</td>\n",
       "      <td>0</td>\n",
       "      <td>1</td>\n",
       "      <td>0</td>\n",
       "      <td>0</td>\n",
       "      <td>0</td>\n",
       "      <td>0</td>\n",
       "      <td>0</td>\n",
       "      <td>0</td>\n",
       "    </tr>\n",
       "    <tr>\n",
       "      <th>4</th>\n",
       "      <td>Bronx</td>\n",
       "      <td>Riverdale</td>\n",
       "      <td>-73.912585</td>\n",
       "      <td>40.890834</td>\n",
       "      <td>9287.0</td>\n",
       "      <td>14</td>\n",
       "      <td>burgers</td>\n",
       "      <td>0</td>\n",
       "      <td>0</td>\n",
       "      <td>0</td>\n",
       "      <td>...</td>\n",
       "      <td>0</td>\n",
       "      <td>0</td>\n",
       "      <td>0</td>\n",
       "      <td>2</td>\n",
       "      <td>0</td>\n",
       "      <td>0</td>\n",
       "      <td>0</td>\n",
       "      <td>0</td>\n",
       "      <td>0</td>\n",
       "      <td>0</td>\n",
       "    </tr>\n",
       "  </tbody>\n",
       "</table>\n",
       "<p>5 rows × 95 columns</p>\n",
       "</div>"
      ],
      "text/plain": [
       "  borough neighborhood  longitude   latitude  population  restaurant_count  \\\n",
       "0   Bronx    Wakefield -73.847201  40.894705     21242.0                13   \n",
       "1   Bronx   Co-op City -73.829939  40.874294     43752.0                12   \n",
       "2   Bronx  Eastchester -73.827806  40.887556     11506.0                19   \n",
       "3   Bronx    Fieldston -73.905643  40.895437      9287.0                 9   \n",
       "4   Bronx    Riverdale -73.912585  40.890834      9287.0                14   \n",
       "\n",
       "  most_popular_restaurant_category  accounting  art_gallery  bakery  ...  \\\n",
       "0                        caribbean           1            0       0  ...   \n",
       "1                            delis           1            0       0  ...   \n",
       "2                        caribbean           1            0       0  ...   \n",
       "3                                N           0            0       0  ...   \n",
       "4                          burgers           0            0       0  ...   \n",
       "\n",
       "   store  subway_station  supermarket  synagogue  taxi_stand  \\\n",
       "0      0               0            0          0           0   \n",
       "1      0               0            0          0           0   \n",
       "2      0               0            0          0           0   \n",
       "3      0               0            0          1           0   \n",
       "4      0               0            0          2           0   \n",
       "\n",
       "   tourist_attraction  transit_station  travel_agency  university  \\\n",
       "0                   0                0              0           0   \n",
       "1                   0                0              0           0   \n",
       "2                   0                0              0           0   \n",
       "3                   0                0              0           0   \n",
       "4                   0                0              0           0   \n",
       "\n",
       "   veterinary_care  \n",
       "0                0  \n",
       "1                0  \n",
       "2                0  \n",
       "3                0  \n",
       "4                0  \n",
       "\n",
       "[5 rows x 95 columns]"
      ]
     },
     "execution_count": 39,
     "metadata": {},
     "output_type": "execute_result"
    }
   ],
   "source": [
    "yelp_not_encoded_dataset = nyc_df.copy()\n",
    "yelp_not_encoded_dataset= yelp_not_encoded_dataset.drop(columns=['average_review_count', 'average_restaurant_rating', 'average_price_level'])\n",
    "yelp_not_encoded_dataset = pd.merge(yelp_not_encoded_dataset, venues, on='id')\n",
    "yelp_not_encoded_dataset = yelp_not_encoded_dataset.drop(columns=['id'], axis = 1)\n",
    "yelp_not_encoded_dataset= yelp_not_encoded_dataset.rename(columns={'number_of_restaurants': 'restaurant_count', 'yelp_category': 'most_popular_restaurant_category'})\n",
    "yelp_not_encoded_dataset.head()"
   ]
  },
  {
   "cell_type": "code",
   "execution_count": 40,
   "metadata": {},
   "outputs": [],
   "source": [
    "# save_file = yelp_not_encoded_dataset.to_csv('yelp_not_encoded.csv', index=False)"
   ]
  },
  {
   "cell_type": "markdown",
   "metadata": {},
   "source": [
    "### Task\n",
    "\n",
    "Visualize the neigborhoods in the graph."
   ]
  },
  {
   "cell_type": "code",
   "execution_count": 43,
   "metadata": {},
   "outputs": [],
   "source": [
    "def map_scatter(data, latitude='latitude', longitude='longitude', hover_name='neighborhood', color='cluster'):\n",
    "    # Define mapbox token\n",
    "    maptoken = os.environ[\"MAPBOX_TOKEN\"]\n",
    "\n",
    "    # plot points and color by cluster\n",
    "    fig = px.scatter_mapbox(data, lat=latitude, lon=longitude,\n",
    "                            height=500)\n",
    "    fig.update_geos(fitbounds=\"locations\")\n",
    "    fig.update_layout(mapbox_style=\"dark\", mapbox_accesstoken=maptoken, margin={\"r\":0,\"t\":0,\"l\":0,\"b\":0})\n",
    "    fig.show()"
   ]
  },
  {
   "cell_type": "code",
   "execution_count": 44,
   "metadata": {},
   "outputs": [
    {
     "data": {
      "application/vnd.plotly.v1+json": {
       "config": {
        "plotlyServerURL": "https://plot.ly"
       },
       "data": [
        {
         "hovertemplate": "latitude=%{lat}<br>longitude=%{lon}<extra></extra>",
         "lat": [
          40.89470517661,
          40.87429419303012,
          40.887555677350775,
          40.89543742690383,
          40.890834493891305,
          40.88168737120521,
          40.87655077879964,
          40.89827261213805,
          40.87722415599446,
          40.88103887819211,
          40.866858107252696,
          40.85741349808865,
          40.84724670491813,
          40.870185164975325,
          40.85572707719664,
          40.84789792606271,
          40.86099679638654,
          40.84269615786053,
          40.83947505672653,
          40.836623010706056,
          40.819754370594936,
          40.80623874935177,
          40.801663627756206,
          40.81509904545822,
          40.80972987938709,
          40.82359198585534,
          40.821012197914015,
          40.80655112003589,
          40.81510925804005,
          40.844245936947374,
          40.837937822267286,
          40.8406194964327,
          40.84360847124718,
          40.847549063536334,
          40.85727710073895,
          40.88139497727086,
          40.90854282950666,
          40.85064140940335,
          40.82657951686922,
          40.821986118163494,
          40.819014376988314,
          40.87137078192371,
          40.86296562477998,
          40.83428380733851,
          40.82977429787161,
          40.88456130303732,
          40.625801065010656,
          40.61100890202044,
          40.64510294925429,
          40.7302009848647,
          40.59526001306593,
          40.57682506566604,
          40.58689012678384,
          40.61443251335098,
          40.63632589026677,
          40.67082917695294,
          40.64171776668961,
          40.642381958003526,
          40.65694583575104,
          40.676822262254724,
          40.66394994339755,
          40.70714439344251,
          40.69811611017901,
          40.687231607720456,
          40.695863722724084,
          40.687919722485574,
          40.680540231076485,
          40.676253230250886,
          40.673931143187154,
          40.68852726018977,
          40.67232052268197,
          40.68239101144211,
          40.669925700847045,
          40.64758905230874,
          40.63556432797428,
          40.630446043757466,
          40.606336421685626,
          40.57791350308657,
          40.57429256471601,
          40.59951870282238,
          40.633130512758015,
          40.619219457722636,
          40.590848433902046,
          40.609747779894604,
          40.693229421881504,
          40.57637537890224,
          40.69084402109802,
          40.685682912091444,
          40.658420017469815,
          40.678402554795355,
          40.67856995727479,
          40.61514955045308,
          40.62559589869843,
          40.647008603185185,
          40.62384524478419,
          40.70849241041548,
          40.714822906532014,
          40.71086147265064,
          40.61305976667942,
          40.61476812694226,
          40.71561842231432,
          40.85190252555305,
          40.86768396449915,
          40.823604284811935,
          40.8169344294978,
          40.81597606742414,
          40.79224946663033,
          40.775638573301805,
          40.775929849884875,
          40.76811265828733,
          40.76215960576283,
          40.787657998534854,
          40.77352888942166,
          40.75910089146212,
          40.75469110270623,
          40.748303077252174,
          40.764126122614066,
          40.744034706747975,
          40.59472602746295,
          40.72693288536128,
          40.727846777270244,
          40.71780674892765,
          40.721521967443216,
          40.71932379395907,
          40.72218384131794,
          40.73443393572434,
          40.797307041702865,
          40.807999738165826,
          40.737209832715,
          40.71193198394565,
          40.70710710727048,
          40.76850859335492,
          40.74634908860222,
          40.75198138007367,
          40.744048505122024,
          40.65422527738487,
          40.74238175015667,
          40.72526378216503,
          40.7051790354148,
          40.69794731471763,
          40.76445419697846,
          40.75021734610528,
          40.74017628351924,
          40.61276015756489,
          40.76407323883091,
          40.725427374093606,
          40.70832315613858,
          40.70276242967838,
          40.72897409480735,
          40.68988687915789,
          40.680708468265415,
          40.66854957767195,
          40.784902749260205,
          40.78129076602694,
          40.76604063281064,
          40.76172954903262,
          40.7708261928267,
          40.76684609790763,
          40.74944079974332,
          40.72857318176675,
          40.722578244228046,
          40.7343944653313,
          40.71093547252271,
          40.70465736068717,
          40.74561857141855,
          40.718893092167356,
          40.71124344191904,
          40.696911253789885,
          40.69444538522359,
          40.67521139591733,
          40.666230490368584,
          40.692774639160845,
          40.659816433428084,
          40.603134432500894,
          40.60302658351238,
          40.55740128845452,
          40.775923015642896,
          40.79278140360048,
          40.782842806245554,
          40.55398800858462,
          40.595641807368494,
          40.58914394372971,
          40.582801696845586,
          40.572036730217015,
          40.741378421945434,
          40.7209572076444,
          40.71680483014613,
          40.7445723092867,
          40.723824901829204,
          40.761704526054146,
          40.66391841925139,
          40.66788389660247,
          40.736074570830795,
          40.57615556543109,
          40.58034295646131,
          40.59771061565768,
          40.66000322733613,
          40.73301404027834,
          40.7540709990489,
          40.7146110815117,
          40.6449815710044,
          40.64061455913511,
          40.62692762538176,
          40.61530494652761,
          40.63187892654607,
          40.624184791313006,
          40.59706851814673,
          40.58024741350956,
          40.63366930554365,
          40.632546390481124,
          40.63968297845542,
          40.61333593766742,
          40.594252379161695,
          40.58631375103281,
          40.57257231820632,
          40.5584622432888,
          40.549480228713605,
          40.542230747450745,
          40.53811417474507,
          40.541967622888755,
          40.50533376115642,
          40.637316067110326,
          40.61919310792676,
          40.643675183340974,
          40.66094656188111,
          40.655572313280764,
          40.60919044434558,
          40.62109047275409,
          40.620171512231884,
          40.63532509911492,
          40.596312571276734,
          40.59826835959991,
          40.59632891379513,
          40.588672948199275,
          40.57352690574283,
          40.57621558711788,
          40.56425549307335,
          40.531911920489605,
          40.524699376118136,
          40.50608165346305,
          40.53053148283314,
          40.54940400650072,
          40.54928582278321,
          40.555295236173194,
          40.58913894875281,
          40.60577868452358,
          40.6095918004203,
          40.7826825671257,
          40.72325901885768,
          40.71522892046282,
          40.7485096643122,
          40.56960594275505,
          40.60971934079284,
          40.61917845202843,
          40.6044731896879,
          40.606794394801,
          40.63563000681151,
          40.63843283794795,
          40.630146741193826,
          40.652117451793494,
          40.6627442796966,
          40.63131755039667,
          40.61597423962336,
          40.71145964370482,
          40.73350025429757,
          40.73493618075478,
          40.7703173929982,
          40.83142834161548,
          40.824780490842905,
          40.84382617671654,
          40.84884160724665,
          40.76028033131374,
          40.743414090073536,
          40.75204236950722,
          40.746917410740195,
          40.73099955477061,
          40.739673047638426,
          40.74565180608076,
          40.73725071694497,
          40.70328109093014,
          40.70332149882874,
          40.67503986503237,
          40.67786104769531,
          40.70317632822692,
          40.60180957631444,
          40.60370692627371,
          40.541139922091766,
          40.579118742961214,
          40.56737588957032,
          40.598525095137255,
          40.716414511158185,
          40.52626406734812,
          40.57650629379489,
          40.51954145748909,
          40.79060155670148,
          40.6819989345173,
          40.60937770113766,
          40.85272297633017,
          40.86578787802982,
          40.8703923914147,
          40.64692606658579,
          40.75665808227519,
          40.58733774018741,
          40.611321691283834,
          40.756091297094706,
          40.61731079252983
         ],
         "legendgroup": "",
         "lon": [
          -73.84720052054902,
          -73.82993910812398,
          -73.82780644716412,
          -73.90564259591682,
          -73.9125854610857,
          -73.90281798724604,
          -73.91065965862981,
          -73.86731496814176,
          -73.8793907395681,
          -73.85744642974207,
          -73.83579759808117,
          -73.85475564017999,
          -73.78648845267413,
          -73.8855121841913,
          -73.9104159619131,
          -73.91967159119565,
          -73.89642655981623,
          -73.88735617532338,
          -73.87774474910545,
          -73.9261020935813,
          -73.90942160757436,
          -73.91609987487575,
          -73.91322139386135,
          -73.8957882009446,
          -73.88331505955291,
          -73.90150648943059,
          -73.86574609554924,
          -73.85414416189266,
          -73.81635002158441,
          -73.8240992675385,
          -73.85600310535783,
          -73.84219407604444,
          -73.8662991807561,
          -73.85040178030421,
          -73.88845196134804,
          -73.91719048210393,
          -73.90453054908927,
          -73.8320737824047,
          -73.82620275994073,
          -73.81388514428619,
          -73.84802729582735,
          -73.86332361652777,
          -73.84161194831223,
          -73.91558941773444,
          -73.85053524451935,
          -73.84808271877168,
          -74.03062069353813,
          -73.99517998380729,
          -74.01031618527784,
          -73.95424093127393,
          -73.97347087708445,
          -73.96509448785336,
          -73.94318640482979,
          -73.95743840559939,
          -73.95840106533903,
          -73.94329119073582,
          -73.93610256185836,
          -73.98042110559474,
          -73.98007340430172,
          -73.9648592426269,
          -73.91023536176607,
          -73.95811529220927,
          -73.92525797487045,
          -73.94178488690297,
          -73.99378225496424,
          -73.99856139218463,
          -73.99465372828006,
          -74.0127589747356,
          -73.99444087145339,
          -73.97290574369092,
          -73.97705030183924,
          -73.87661596457296,
          -73.88069863917366,
          -73.87936970045875,
          -73.90209269778966,
          -73.92911302644674,
          -73.90818571777423,
          -73.94353722891886,
          -73.98868295821637,
          -73.99875221443519,
          -73.99049823044811,
          -74.01931375636022,
          -73.93010170691196,
          -73.93134404108497,
          -73.96784306216367,
          -74.0078731120024,
          -73.98346337431099,
          -73.98374824115798,
          -73.95489867077713,
          -73.91306831787395,
          -73.86797598081334,
          -73.89855633630317,
          -73.95759523489838,
          -73.96261316716048,
          -73.91607483951324,
          -73.93885815269195,
          -73.95880857587582,
          -73.95800095153331,
          -73.96836678035541,
          -74.03197914537984,
          -73.99427936255978,
          -73.93690027985234,
          -73.92121042203897,
          -73.94968791883366,
          -73.9573853935188,
          -73.94321112603905,
          -73.94418223148524,
          -73.96050763135,
          -73.94711784471826,
          -73.9588596881376,
          -73.94916769227953,
          -73.97705923630603,
          -73.98533777001262,
          -73.99611936309479,
          -73.98166882730304,
          -73.97833207924127,
          -73.81276269135866,
          -74.00311633472813,
          -74.1895604551969,
          -73.99991402945902,
          -73.98222616506416,
          -73.98089031999291,
          -74.01068328559087,
          -73.99730467208073,
          -74.00065666959759,
          -74.00617998126812,
          -73.96428617740655,
          -73.96389627905332,
          -73.98137594833541,
          -74.01686930508617,
          -74.0106654452127,
          -73.91565374304234,
          -73.90184166838284,
          -73.88282109164365,
          -73.88165622288388,
          -73.8381376460028,
          -73.85682497345258,
          -73.84447500788983,
          -73.82981905825703,
          -73.83183321446887,
          -73.83177300329582,
          -73.93920223915505,
          -73.92691617561577,
          -74.0971255217853,
          -73.86704147658772,
          -73.89621713626859,
          -73.90143517559589,
          -73.87074167435605,
          -73.8578268690537,
          -73.8581104655432,
          -73.84320266173447,
          -73.80986478649041,
          -73.84304528896125,
          -73.81420216610863,
          -73.7742736306867,
          -73.79176243728061,
          -73.7388977558074,
          -73.7424982072733,
          -73.71548118999145,
          -73.72012814826903,
          -73.82087764933566,
          -73.78271337003264,
          -73.81174822458634,
          -73.79690165888289,
          -73.75494976234332,
          -73.73871484578424,
          -73.75925009335594,
          -73.7904261313554,
          -73.75867603727717,
          -73.77258787620906,
          -73.76042092682287,
          -73.73526873708026,
          -73.73526079428278,
          -73.75497968043872,
          -73.8200548911032,
          -73.92551196994168,
          -73.90228960391673,
          -73.80436451720988,
          -73.7768022262158,
          -74.13916622175768,
          -73.77613282391705,
          -73.79199233136943,
          -73.82236121088751,
          -73.85754672410827,
          -73.70884705889246,
          -73.76714166714729,
          -73.7872269693666,
          -73.82580915110559,
          -73.79760300912672,
          -73.93157506072878,
          -73.84963782402441,
          -73.74025607989822,
          -73.8625247141374,
          -73.8540175039252,
          -73.84153370226186,
          -73.79664750844047,
          -73.75175310731153,
          -73.73889198912481,
          -73.85751790676447,
          -73.8410221123401,
          -74.07935312512797,
          -74.08701650516625,
          -74.07790192660066,
          -74.06980526716141,
          -74.1071817826561,
          -74.08724819983729,
          -74.1113288180088,
          -74.0795529253982,
          -74.12943426797008,
          -74.15008537046981,
          -74.17464532993542,
          -74.11918058534842,
          -74.16496031329827,
          -74.19073717538116,
          -74.1164794360638,
          -74.12156593771896,
          -74.14932381490992,
          -74.1643308041936,
          -74.17854866165878,
          -74.20524582480326,
          -74.24656934235283,
          -74.08055351790115,
          -74.09629029235458,
          -73.96101312466779,
          -73.93718680559314,
          -73.92688212616955,
          -74.08015734936296,
          -74.13304143951704,
          -74.15315246387762,
          -74.16510420241124,
          -74.06712363225574,
          -74.0766743627905,
          -74.08751118005578,
          -74.09639905312521,
          -74.09348266303591,
          -74.10585598545434,
          -74.10432707469124,
          -74.19174105747814,
          -74.21983106616777,
          -74.22950350260027,
          -74.23215775896526,
          -74.21572851113952,
          -74.18588674583893,
          -74.17079414786092,
          -74.15902208156601,
          -74.18725638381567,
          -74.15940948657122,
          -73.95325646837112,
          -73.98843368023597,
          -74.00541529873355,
          -73.98871313285247,
          -74.1340572986257,
          -74.06667766061771,
          -74.072642445484,
          -74.08402364740358,
          -74.09776206972522,
          -74.09805062373887,
          -74.18622331749823,
          -74.1418167896889,
          -73.91665331978048,
          -73.88511776379292,
          -73.90233474295836,
          -73.91515391550404,
          -73.79646462081593,
          -73.79671678028349,
          -73.80486120040537,
          -73.89467996270574,
          -73.90119903387667,
          -73.91584652759009,
          -73.91655551964419,
          -73.90829930881988,
          -73.96355614094303,
          -73.95386782130745,
          -73.96770824581834,
          -73.97121928722265,
          -73.97405170469203,
          -73.9909471052826,
          -73.91819286431682,
          -73.93244235260178,
          -73.99550751888415,
          -73.98111603592393,
          -73.93053108817338,
          -73.90331684852599,
          -73.9887528074504,
          -74.12059399718001,
          -74.13208447484298,
          -74.21776636068567,
          -74.12727240604946,
          -73.89213760232822,
          -73.95918459428702,
          -73.88114319200604,
          -74.20152556457658,
          -74.13792663771568,
          -74.22957080626941,
          -73.82667757138641,
          -73.890345709872,
          -73.94841515328893,
          -73.86172577555115,
          -73.85931863221647,
          -73.90152264513144,
          -73.94817709920184,
          -74.00011136202637,
          -73.80553002968718,
          -73.76596781445627,
          -73.94563070334091,
          -74.08173992211962
         ],
         "marker": {
          "color": "#636efa"
         },
         "mode": "markers",
         "name": "",
         "showlegend": false,
         "subplot": "mapbox",
         "type": "scattermapbox"
        }
       ],
       "layout": {
        "geo": {
         "fitbounds": "locations"
        },
        "height": 500,
        "legend": {
         "tracegroupgap": 0
        },
        "mapbox": {
         "accesstoken": "pk.eyJ1IjoidmVsdm94IiwiYSI6ImNsNThham8xajIxMnMzam1ycGg2eTZ0eGYifQ.RaCirjLZex17tLwWOx9FGQ",
         "center": {
          "lat": 40.70136210272567,
          "lon": -73.94625419828468
         },
         "domain": {
          "x": [
           0,
           1
          ],
          "y": [
           0,
           1
          ]
         },
         "style": "dark",
         "zoom": 8
        },
        "margin": {
         "b": 0,
         "l": 0,
         "r": 0,
         "t": 0
        },
        "template": {
         "data": {
          "bar": [
           {
            "error_x": {
             "color": "#2a3f5f"
            },
            "error_y": {
             "color": "#2a3f5f"
            },
            "marker": {
             "line": {
              "color": "#E5ECF6",
              "width": 0.5
             },
             "pattern": {
              "fillmode": "overlay",
              "size": 10,
              "solidity": 0.2
             }
            },
            "type": "bar"
           }
          ],
          "barpolar": [
           {
            "marker": {
             "line": {
              "color": "#E5ECF6",
              "width": 0.5
             },
             "pattern": {
              "fillmode": "overlay",
              "size": 10,
              "solidity": 0.2
             }
            },
            "type": "barpolar"
           }
          ],
          "carpet": [
           {
            "aaxis": {
             "endlinecolor": "#2a3f5f",
             "gridcolor": "white",
             "linecolor": "white",
             "minorgridcolor": "white",
             "startlinecolor": "#2a3f5f"
            },
            "baxis": {
             "endlinecolor": "#2a3f5f",
             "gridcolor": "white",
             "linecolor": "white",
             "minorgridcolor": "white",
             "startlinecolor": "#2a3f5f"
            },
            "type": "carpet"
           }
          ],
          "choropleth": [
           {
            "colorbar": {
             "outlinewidth": 0,
             "ticks": ""
            },
            "type": "choropleth"
           }
          ],
          "contour": [
           {
            "colorbar": {
             "outlinewidth": 0,
             "ticks": ""
            },
            "colorscale": [
             [
              0,
              "#0d0887"
             ],
             [
              0.1111111111111111,
              "#46039f"
             ],
             [
              0.2222222222222222,
              "#7201a8"
             ],
             [
              0.3333333333333333,
              "#9c179e"
             ],
             [
              0.4444444444444444,
              "#bd3786"
             ],
             [
              0.5555555555555556,
              "#d8576b"
             ],
             [
              0.6666666666666666,
              "#ed7953"
             ],
             [
              0.7777777777777778,
              "#fb9f3a"
             ],
             [
              0.8888888888888888,
              "#fdca26"
             ],
             [
              1,
              "#f0f921"
             ]
            ],
            "type": "contour"
           }
          ],
          "contourcarpet": [
           {
            "colorbar": {
             "outlinewidth": 0,
             "ticks": ""
            },
            "type": "contourcarpet"
           }
          ],
          "heatmap": [
           {
            "colorbar": {
             "outlinewidth": 0,
             "ticks": ""
            },
            "colorscale": [
             [
              0,
              "#0d0887"
             ],
             [
              0.1111111111111111,
              "#46039f"
             ],
             [
              0.2222222222222222,
              "#7201a8"
             ],
             [
              0.3333333333333333,
              "#9c179e"
             ],
             [
              0.4444444444444444,
              "#bd3786"
             ],
             [
              0.5555555555555556,
              "#d8576b"
             ],
             [
              0.6666666666666666,
              "#ed7953"
             ],
             [
              0.7777777777777778,
              "#fb9f3a"
             ],
             [
              0.8888888888888888,
              "#fdca26"
             ],
             [
              1,
              "#f0f921"
             ]
            ],
            "type": "heatmap"
           }
          ],
          "heatmapgl": [
           {
            "colorbar": {
             "outlinewidth": 0,
             "ticks": ""
            },
            "colorscale": [
             [
              0,
              "#0d0887"
             ],
             [
              0.1111111111111111,
              "#46039f"
             ],
             [
              0.2222222222222222,
              "#7201a8"
             ],
             [
              0.3333333333333333,
              "#9c179e"
             ],
             [
              0.4444444444444444,
              "#bd3786"
             ],
             [
              0.5555555555555556,
              "#d8576b"
             ],
             [
              0.6666666666666666,
              "#ed7953"
             ],
             [
              0.7777777777777778,
              "#fb9f3a"
             ],
             [
              0.8888888888888888,
              "#fdca26"
             ],
             [
              1,
              "#f0f921"
             ]
            ],
            "type": "heatmapgl"
           }
          ],
          "histogram": [
           {
            "marker": {
             "pattern": {
              "fillmode": "overlay",
              "size": 10,
              "solidity": 0.2
             }
            },
            "type": "histogram"
           }
          ],
          "histogram2d": [
           {
            "colorbar": {
             "outlinewidth": 0,
             "ticks": ""
            },
            "colorscale": [
             [
              0,
              "#0d0887"
             ],
             [
              0.1111111111111111,
              "#46039f"
             ],
             [
              0.2222222222222222,
              "#7201a8"
             ],
             [
              0.3333333333333333,
              "#9c179e"
             ],
             [
              0.4444444444444444,
              "#bd3786"
             ],
             [
              0.5555555555555556,
              "#d8576b"
             ],
             [
              0.6666666666666666,
              "#ed7953"
             ],
             [
              0.7777777777777778,
              "#fb9f3a"
             ],
             [
              0.8888888888888888,
              "#fdca26"
             ],
             [
              1,
              "#f0f921"
             ]
            ],
            "type": "histogram2d"
           }
          ],
          "histogram2dcontour": [
           {
            "colorbar": {
             "outlinewidth": 0,
             "ticks": ""
            },
            "colorscale": [
             [
              0,
              "#0d0887"
             ],
             [
              0.1111111111111111,
              "#46039f"
             ],
             [
              0.2222222222222222,
              "#7201a8"
             ],
             [
              0.3333333333333333,
              "#9c179e"
             ],
             [
              0.4444444444444444,
              "#bd3786"
             ],
             [
              0.5555555555555556,
              "#d8576b"
             ],
             [
              0.6666666666666666,
              "#ed7953"
             ],
             [
              0.7777777777777778,
              "#fb9f3a"
             ],
             [
              0.8888888888888888,
              "#fdca26"
             ],
             [
              1,
              "#f0f921"
             ]
            ],
            "type": "histogram2dcontour"
           }
          ],
          "mesh3d": [
           {
            "colorbar": {
             "outlinewidth": 0,
             "ticks": ""
            },
            "type": "mesh3d"
           }
          ],
          "parcoords": [
           {
            "line": {
             "colorbar": {
              "outlinewidth": 0,
              "ticks": ""
             }
            },
            "type": "parcoords"
           }
          ],
          "pie": [
           {
            "automargin": true,
            "type": "pie"
           }
          ],
          "scatter": [
           {
            "fillpattern": {
             "fillmode": "overlay",
             "size": 10,
             "solidity": 0.2
            },
            "type": "scatter"
           }
          ],
          "scatter3d": [
           {
            "line": {
             "colorbar": {
              "outlinewidth": 0,
              "ticks": ""
             }
            },
            "marker": {
             "colorbar": {
              "outlinewidth": 0,
              "ticks": ""
             }
            },
            "type": "scatter3d"
           }
          ],
          "scattercarpet": [
           {
            "marker": {
             "colorbar": {
              "outlinewidth": 0,
              "ticks": ""
             }
            },
            "type": "scattercarpet"
           }
          ],
          "scattergeo": [
           {
            "marker": {
             "colorbar": {
              "outlinewidth": 0,
              "ticks": ""
             }
            },
            "type": "scattergeo"
           }
          ],
          "scattergl": [
           {
            "marker": {
             "colorbar": {
              "outlinewidth": 0,
              "ticks": ""
             }
            },
            "type": "scattergl"
           }
          ],
          "scattermapbox": [
           {
            "marker": {
             "colorbar": {
              "outlinewidth": 0,
              "ticks": ""
             }
            },
            "type": "scattermapbox"
           }
          ],
          "scatterpolar": [
           {
            "marker": {
             "colorbar": {
              "outlinewidth": 0,
              "ticks": ""
             }
            },
            "type": "scatterpolar"
           }
          ],
          "scatterpolargl": [
           {
            "marker": {
             "colorbar": {
              "outlinewidth": 0,
              "ticks": ""
             }
            },
            "type": "scatterpolargl"
           }
          ],
          "scatterternary": [
           {
            "marker": {
             "colorbar": {
              "outlinewidth": 0,
              "ticks": ""
             }
            },
            "type": "scatterternary"
           }
          ],
          "surface": [
           {
            "colorbar": {
             "outlinewidth": 0,
             "ticks": ""
            },
            "colorscale": [
             [
              0,
              "#0d0887"
             ],
             [
              0.1111111111111111,
              "#46039f"
             ],
             [
              0.2222222222222222,
              "#7201a8"
             ],
             [
              0.3333333333333333,
              "#9c179e"
             ],
             [
              0.4444444444444444,
              "#bd3786"
             ],
             [
              0.5555555555555556,
              "#d8576b"
             ],
             [
              0.6666666666666666,
              "#ed7953"
             ],
             [
              0.7777777777777778,
              "#fb9f3a"
             ],
             [
              0.8888888888888888,
              "#fdca26"
             ],
             [
              1,
              "#f0f921"
             ]
            ],
            "type": "surface"
           }
          ],
          "table": [
           {
            "cells": {
             "fill": {
              "color": "#EBF0F8"
             },
             "line": {
              "color": "white"
             }
            },
            "header": {
             "fill": {
              "color": "#C8D4E3"
             },
             "line": {
              "color": "white"
             }
            },
            "type": "table"
           }
          ]
         },
         "layout": {
          "annotationdefaults": {
           "arrowcolor": "#2a3f5f",
           "arrowhead": 0,
           "arrowwidth": 1
          },
          "autotypenumbers": "strict",
          "coloraxis": {
           "colorbar": {
            "outlinewidth": 0,
            "ticks": ""
           }
          },
          "colorscale": {
           "diverging": [
            [
             0,
             "#8e0152"
            ],
            [
             0.1,
             "#c51b7d"
            ],
            [
             0.2,
             "#de77ae"
            ],
            [
             0.3,
             "#f1b6da"
            ],
            [
             0.4,
             "#fde0ef"
            ],
            [
             0.5,
             "#f7f7f7"
            ],
            [
             0.6,
             "#e6f5d0"
            ],
            [
             0.7,
             "#b8e186"
            ],
            [
             0.8,
             "#7fbc41"
            ],
            [
             0.9,
             "#4d9221"
            ],
            [
             1,
             "#276419"
            ]
           ],
           "sequential": [
            [
             0,
             "#0d0887"
            ],
            [
             0.1111111111111111,
             "#46039f"
            ],
            [
             0.2222222222222222,
             "#7201a8"
            ],
            [
             0.3333333333333333,
             "#9c179e"
            ],
            [
             0.4444444444444444,
             "#bd3786"
            ],
            [
             0.5555555555555556,
             "#d8576b"
            ],
            [
             0.6666666666666666,
             "#ed7953"
            ],
            [
             0.7777777777777778,
             "#fb9f3a"
            ],
            [
             0.8888888888888888,
             "#fdca26"
            ],
            [
             1,
             "#f0f921"
            ]
           ],
           "sequentialminus": [
            [
             0,
             "#0d0887"
            ],
            [
             0.1111111111111111,
             "#46039f"
            ],
            [
             0.2222222222222222,
             "#7201a8"
            ],
            [
             0.3333333333333333,
             "#9c179e"
            ],
            [
             0.4444444444444444,
             "#bd3786"
            ],
            [
             0.5555555555555556,
             "#d8576b"
            ],
            [
             0.6666666666666666,
             "#ed7953"
            ],
            [
             0.7777777777777778,
             "#fb9f3a"
            ],
            [
             0.8888888888888888,
             "#fdca26"
            ],
            [
             1,
             "#f0f921"
            ]
           ]
          },
          "colorway": [
           "#636efa",
           "#EF553B",
           "#00cc96",
           "#ab63fa",
           "#FFA15A",
           "#19d3f3",
           "#FF6692",
           "#B6E880",
           "#FF97FF",
           "#FECB52"
          ],
          "font": {
           "color": "#2a3f5f"
          },
          "geo": {
           "bgcolor": "white",
           "lakecolor": "white",
           "landcolor": "#E5ECF6",
           "showlakes": true,
           "showland": true,
           "subunitcolor": "white"
          },
          "hoverlabel": {
           "align": "left"
          },
          "hovermode": "closest",
          "mapbox": {
           "style": "light"
          },
          "paper_bgcolor": "white",
          "plot_bgcolor": "#E5ECF6",
          "polar": {
           "angularaxis": {
            "gridcolor": "white",
            "linecolor": "white",
            "ticks": ""
           },
           "bgcolor": "#E5ECF6",
           "radialaxis": {
            "gridcolor": "white",
            "linecolor": "white",
            "ticks": ""
           }
          },
          "scene": {
           "xaxis": {
            "backgroundcolor": "#E5ECF6",
            "gridcolor": "white",
            "gridwidth": 2,
            "linecolor": "white",
            "showbackground": true,
            "ticks": "",
            "zerolinecolor": "white"
           },
           "yaxis": {
            "backgroundcolor": "#E5ECF6",
            "gridcolor": "white",
            "gridwidth": 2,
            "linecolor": "white",
            "showbackground": true,
            "ticks": "",
            "zerolinecolor": "white"
           },
           "zaxis": {
            "backgroundcolor": "#E5ECF6",
            "gridcolor": "white",
            "gridwidth": 2,
            "linecolor": "white",
            "showbackground": true,
            "ticks": "",
            "zerolinecolor": "white"
           }
          },
          "shapedefaults": {
           "line": {
            "color": "#2a3f5f"
           }
          },
          "ternary": {
           "aaxis": {
            "gridcolor": "white",
            "linecolor": "white",
            "ticks": ""
           },
           "baxis": {
            "gridcolor": "white",
            "linecolor": "white",
            "ticks": ""
           },
           "bgcolor": "#E5ECF6",
           "caxis": {
            "gridcolor": "white",
            "linecolor": "white",
            "ticks": ""
           }
          },
          "title": {
           "x": 0.05
          },
          "xaxis": {
           "automargin": true,
           "gridcolor": "white",
           "linecolor": "white",
           "ticks": "",
           "title": {
            "standoff": 15
           },
           "zerolinecolor": "white",
           "zerolinewidth": 2
          },
          "yaxis": {
           "automargin": true,
           "gridcolor": "white",
           "linecolor": "white",
           "ticks": "",
           "title": {
            "standoff": 15
           },
           "zerolinecolor": "white",
           "zerolinewidth": 2
          }
         }
        }
       }
      }
     },
     "metadata": {},
     "output_type": "display_data"
    }
   ],
   "source": [
    "map_scatter(main_dataset, latitude='latitude', longitude='longitude')"
   ]
  },
  {
   "cell_type": "code",
   "execution_count": null,
   "metadata": {},
   "outputs": [],
   "source": []
  }
 ],
 "metadata": {
  "interpreter": {
   "hash": "5eaee7f08749df7acde7defcf9c75ec9e0490b46ee4fb9b854947ce622c4fcf4"
  },
  "kernelspec": {
   "display_name": "Python 3.8.2 ('lhl_env')",
   "language": "python",
   "name": "python3"
  },
  "language_info": {
   "codemirror_mode": {
    "name": "ipython",
    "version": 3
   },
   "file_extension": ".py",
   "mimetype": "text/x-python",
   "name": "python",
   "nbconvert_exporter": "python",
   "pygments_lexer": "ipython3",
   "version": "3.8.2"
  }
 },
 "nbformat": 4,
 "nbformat_minor": 4
}
