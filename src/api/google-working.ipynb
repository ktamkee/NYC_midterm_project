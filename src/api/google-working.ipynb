{
 "cells": [
  {
   "cell_type": "code",
   "execution_count": 1,
   "metadata": {},
   "outputs": [],
   "source": [
    "import requests\n",
    "import os\n",
    "import pandas as pd\n",
    "import numpy as np\n",
    "import json\n",
    "import time"
   ]
  },
  {
   "cell_type": "code",
   "execution_count": null,
   "metadata": {},
   "outputs": [],
   "source": [
    "## API Query Function\n",
    "\n",
    "google_ottawa_ll = \"45.421532, -75.697189\"\n",
    "\n",
    "def gPlaceSearch(ll, query, radius):\n",
    "    \"\"\"\n",
    "    Takes lat & long with coma, a query and a radius, returns a list of responses\n",
    "    \"\"\"\n",
    "\n",
    "    ## set paramaters\n",
    "    google_places_key = os.environ[\"GOOGLE_PLACES_API_KEY\"]\n",
    "\n",
    "    google_url = \"https://maps.googleapis.com/maps/api/place/nearbysearch/json\"\n",
    "\n",
    "    gplace_params = {\n",
    "        \"key\": google_places_key,\n",
    "        \"location\": ll,\n",
    "        \"radius\": radius,\n",
    "        \"keyword\": query\n",
    "    }\n",
    "\n",
    "    ## Get initial response\n",
    "    response_list = []\n",
    "    response = (requests.get(google_url, params=gplace_params))\n",
    "    response_list.append(response.json())\n",
    "\n",
    "    ## Check for next page to be added to response list\n",
    "    try:\n",
    "        next_page_token = response.json()['next_page_token']\n",
    "        time.sleep(2)\n",
    "        while len(next_page_token) > 10:\n",
    "        # while next_page_token:\n",
    "\n",
    "            ## New request to next page with token\n",
    "            next_page_params = {\n",
    "                \"pagetoken\": next_page_token,\n",
    "                \"key\": google_places_key\n",
    "            }\n",
    "            next_response = requests.get(google_url, params=next_page_params)\n",
    "            response_list.append(next_response.json())\n",
    "\n",
    "            time.sleep(2)\n",
    "\n",
    "            ## Assign New Token, if doesn't exist, return\n",
    "            try:\n",
    "                next_page_token = next_response.json()['next_page_token']\n",
    "            except KeyError:\n",
    "                return response_list\n",
    "    except KeyError:\n",
    "        pass\n",
    "    return response_list"
   ]
  },
  {
   "cell_type": "code",
   "execution_count": null,
   "metadata": {},
   "outputs": [],
   "source": [
    "### Query data for all places, and store in a list\n",
    "\n",
    "# google_dict = {}\n",
    "\n",
    "# for city in cities:\n",
    "#     for poi in pois:\n",
    "#         result = gplaceSearch(google_ottawa_ll, poi, radius)\n",
    "#         temp_key = \"google_\"+city_name+\"_\"+poi\n",
    "#         google_dict[temp_key] = result"
   ]
  }
 ],
 "metadata": {
  "kernelspec": {
   "display_name": "Python 3.9.7 ('base')",
   "language": "python",
   "name": "python3"
  },
  "language_info": {
   "codemirror_mode": {
    "name": "ipython",
    "version": 3
   },
   "file_extension": ".py",
   "mimetype": "text/x-python",
   "name": "python",
   "nbconvert_exporter": "python",
   "pygments_lexer": "ipython3",
   "version": "3.9.7"
  },
  "orig_nbformat": 4,
  "vscode": {
   "interpreter": {
    "hash": "48f1e5342cf8a6c153dbe25f8f15edc1b1c2836d33c4cf2b2335313fcb64d162"
   }
  }
 },
 "nbformat": 4,
 "nbformat_minor": 2
}
